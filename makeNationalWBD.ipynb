{
 "cells": [
  {
   "cell_type": "code",
   "execution_count": 1,
   "id": "3bc62369-9f61-4294-bc13-780474d2d6cb",
   "metadata": {},
   "outputs": [],
   "source": [
    "import os\n",
    "import time\n",
    "\n",
    "# import contextily as ctx\n",
    "import geopandas as gpd\n",
    "# import matplotlib.pyplot as plt\n",
    "import numpy as np\n",
    "import pandas as pd\n",
    "# import shapely\n",
    "# import xarray as xr"
   ]
  },
  {
   "cell_type": "code",
   "execution_count": 2,
   "id": "c78f14c4-b06f-4699-83bf-72e42836f540",
   "metadata": {},
   "outputs": [],
   "source": [
    "all_huc2 = ['01', '02', '03', '04',\n",
    "            '05', '06', '07', '08',\n",
    "            '09', '10', '11', '12',\n",
    "            '13', '14', '15', '16',\n",
    "            '17', '18']"
   ]
  },
  {
   "cell_type": "code",
   "execution_count": 3,
   "id": "e9e5d47a-29cf-42ba-a0da-76667288956e",
   "metadata": {},
   "outputs": [],
   "source": [
    "d = []\n",
    "\n",
    "for i in range(len(all_huc2)):\n",
    "    \n",
    "    # Make datapath\n",
    "    data_path = os.path.join('/nas/cee-water/cjgleason/craig/CONUS_ephemeral_data/HUC2_' +\n",
    "                             all_huc2[i], 'WBD_' + all_huc2[i] + '_HU2_Shape/Shape/')\n",
    "    \n",
    "    # Read in HUC4 boundaries\n",
    "    wbd = gpd.read_file(filename=data_path, layer='WBDHU4')\n",
    "    \n",
    "    d.append(wbd)\n",
    "    \n",
    "all_wbd = pd.concat(d)"
   ]
  },
  {
   "cell_type": "code",
   "execution_count": 4,
   "id": "90cb8315-b7f5-47e8-9467-d5d063c68716",
   "metadata": {},
   "outputs": [],
   "source": [
    "# Great Lakes\n",
    "gl = ['0418', '0419', '0424', '0426', '0428']\n",
    "\n",
    "# Drop Great Lakes\n",
    "all_wbd_no_gl = all_wbd[~all_wbd['huc4'].isin(gl)]"
   ]
  },
  {
   "cell_type": "code",
   "execution_count": 5,
   "id": "dc0546df-9fd2-4c6e-9656-e2e1994b3e4c",
   "metadata": {},
   "outputs": [],
   "source": [
    "save_path = '/nas/cee-water/cjgleason/fiona/narrow_rivers_PIXC_data/'"
   ]
  },
  {
   "cell_type": "code",
   "execution_count": 6,
   "id": "34e3385f-e27b-4367-adbf-0262e09df8bb",
   "metadata": {},
   "outputs": [],
   "source": [
    "all_wbd_no_gl.to_parquet(path=os.path.join(save_path, 'all_wbd_no_great_lakes.parquet'))"
   ]
  }
 ],
 "metadata": {
  "kernelspec": {
   "display_name": "Python [conda env:.conda-narrowPIXC]",
   "language": "python",
   "name": "conda-env-.conda-narrowPIXC-py"
  },
  "language_info": {
   "codemirror_mode": {
    "name": "ipython",
    "version": 3
   },
   "file_extension": ".py",
   "mimetype": "text/x-python",
   "name": "python",
   "nbconvert_exporter": "python",
   "pygments_lexer": "ipython3",
   "version": "3.12.4"
  }
 },
 "nbformat": 4,
 "nbformat_minor": 5
}
