{
 "cells": [
  {
   "cell_type": "markdown",
   "id": "4cda9f4e-85ac-446c-aeb9-14d110a622a3",
   "metadata": {},
   "source": [
    "**Reminder to self: EARTHDATA WILL CHECK THE DIRECTORY TO SEE IF THE FILE ALREADY EXISTS. DO NOT DOWNLOAD TO A NEW DIR, JUST DOWNLOAD TO THE SAME ONE.**"
   ]
  },
  {
   "cell_type": "code",
   "execution_count": 1,
   "id": "70e9d56a-07d6-4e33-b2e0-465bf17c763f",
   "metadata": {},
   "outputs": [
    {
     "name": "stderr",
     "output_type": "stream",
     "text": [
      "/work/pi_cjgleason_umass_edu/.conda/envs/narrowPIXC/lib/python3.12/site-packages/tqdm/auto.py:21: TqdmWarning: IProgress not found. Please update jupyter and ipywidgets. See https://ipywidgets.readthedocs.io/en/stable/user_install.html\n",
      "  from .autonotebook import tqdm as notebook_tqdm\n"
     ]
    }
   ],
   "source": [
    "import os\n",
    "\n",
    "import earthaccess\n",
    "import pandas as pd"
   ]
  },
  {
   "cell_type": "markdown",
   "id": "8c01bd28-f178-4182-a9f0-f432098da6e5",
   "metadata": {},
   "source": [
    "### Set-up"
   ]
  },
  {
   "cell_type": "code",
   "execution_count": 2,
   "id": "9aefd2ef-bff9-4e12-8129-7e609737589c",
   "metadata": {},
   "outputs": [],
   "source": [
    "mdata_path = '/nas/cee-water/cjgleason/fiona/narrow_rivers_PIXC/data/'"
   ]
  },
  {
   "cell_type": "code",
   "execution_count": 3,
   "id": "72701a79-0a43-46d8-9864-97b5d1c55779",
   "metadata": {},
   "outputs": [],
   "source": [
    "dtype_dic = {'tile': str, 'huc4': str, 'coverage': float}"
   ]
  },
  {
   "cell_type": "code",
   "execution_count": 4,
   "id": "351452a7-5729-4d45-8285-51b8379b313e",
   "metadata": {},
   "outputs": [],
   "source": [
    "lookup = pd.read_csv(os.path.join(mdata_path,\n",
    "                                  'huc4_swot_science_tiles.csv'),\n",
    "                     dtype=dtype_dic)"
   ]
  },
  {
   "cell_type": "markdown",
   "id": "abb72689-921e-43aa-96f6-fed118831b73",
   "metadata": {},
   "source": [
    "### Get the right tiles"
   ]
  },
  {
   "cell_type": "code",
   "execution_count": 5,
   "id": "a67e43c6-aebc-408f-96c9-4c7ecd6af918",
   "metadata": {},
   "outputs": [],
   "source": [
    "# Get tiles in HUC2_01\n",
    "huc2 = '15'\n",
    "huc2_01 = lookup[lookup['huc4'].str.startswith(huc2)]"
   ]
  },
  {
   "cell_type": "code",
   "execution_count": 6,
   "id": "f8afbf38-b6bf-446a-b521-9a5327385f4e",
   "metadata": {},
   "outputs": [],
   "source": [
    "# Get list of tiles\n",
    "tiles = list(huc2_01['tile'])"
   ]
  },
  {
   "cell_type": "code",
   "execution_count": 7,
   "id": "a1a39fcd-f568-453b-97f2-4f3cd77efdf7",
   "metadata": {},
   "outputs": [
    {
     "data": {
      "text/plain": [
       "484"
      ]
     },
     "execution_count": 7,
     "metadata": {},
     "output_type": "execute_result"
    }
   ],
   "source": [
    "len(tiles)"
   ]
  },
  {
   "cell_type": "code",
   "execution_count": 8,
   "id": "78ac5208-d972-4d64-be0b-f40f2b22fa2e",
   "metadata": {},
   "outputs": [],
   "source": [
    "# Remove duplicates\n",
    "# Doesn't really matter because Earthdata will check :)\n",
    "tiles = list(set(tiles))\n",
    "tiles.sort()"
   ]
  },
  {
   "cell_type": "code",
   "execution_count": 9,
   "id": "b804fc85-877f-4f37-a263-eba8fe45fd92",
   "metadata": {},
   "outputs": [
    {
     "data": {
      "text/plain": [
       "321"
      ]
     },
     "execution_count": 9,
     "metadata": {},
     "output_type": "execute_result"
    }
   ],
   "source": [
    "len(tiles)"
   ]
  },
  {
   "cell_type": "code",
   "execution_count": 10,
   "id": "100cb0f7-5f8b-4c4e-baa1-eaeeffe902cd",
   "metadata": {},
   "outputs": [],
   "source": [
    "tiles = [tile + '_*' for tile in tiles]\n",
    "tiles = ['*_' + tile for tile in tiles]"
   ]
  },
  {
   "cell_type": "markdown",
   "id": "c402c71f-5fab-4be6-bd5f-ecc4347b4cc4",
   "metadata": {},
   "source": [
    "### Download tiles"
   ]
  },
  {
   "cell_type": "code",
   "execution_count": null,
   "id": "c558b754-f741-42e7-a803-bca60e1fcea3",
   "metadata": {},
   "outputs": [],
   "source": [
    "# Full science orbit (thus far)\n",
    "start = '2023-07-27 00:00:00'\n",
    "end = '2025-02-20 23:59:59'\n",
    "\n",
    "for tile in tiles: #CHANGE THIS\n",
    "    print(tile)\n",
    "    \n",
    "    pixc_results = earthaccess.search_data(short_name = 'SWOT_L2_HR_PIXC_2.0',\n",
    "                                           temporal = (start, end),\n",
    "                                           granule_name = tile)\n",
    "    pixc_results\n",
    "    \n",
    "    # download\n",
    "    earthaccess.download(pixc_results, '../data/PIXC_v2_0_HUC2_' + huc2)"
   ]
  }
 ],
 "metadata": {
  "kernelspec": {
   "display_name": "Python [conda env:.conda-narrowPIXC]",
   "language": "python",
   "name": "conda-env-.conda-narrowPIXC-py"
  },
  "language_info": {
   "codemirror_mode": {
    "name": "ipython",
    "version": 3
   },
   "file_extension": ".py",
   "mimetype": "text/x-python",
   "name": "python",
   "nbconvert_exporter": "python",
   "pygments_lexer": "ipython3",
   "version": "3.12.4"
  }
 },
 "nbformat": 4,
 "nbformat_minor": 5
}
