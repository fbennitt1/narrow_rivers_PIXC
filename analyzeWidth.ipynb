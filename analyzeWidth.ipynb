{
 "cells": [
  {
   "cell_type": "code",
   "execution_count": 8,
   "id": "3adb1340-412d-456d-8cc6-fdc5cd2826a8",
   "metadata": {},
   "outputs": [],
   "source": [
    "import os\n",
    "\n",
    "import matplotlib.pyplot as plt\n",
    "import numpy as np\n",
    "import pandas as pd\n",
    "\n",
    "from reaches import readNHD"
   ]
  },
  {
   "cell_type": "code",
   "execution_count": 24,
   "id": "619c53ec-831c-4343-bd13-91885317b08a",
   "metadata": {},
   "outputs": [],
   "source": [
    "## Set-up\n",
    "mdata_path = '/nas/cee-water/cjgleason/fiona/narrow_rivers_PIXC/data/'\n",
    "save_path = '/nas/cee-water/cjgleason/fiona/narrow_rivers_PIXC/figures_width_length/'"
   ]
  },
  {
   "cell_type": "code",
   "execution_count": 25,
   "id": "1abe9787-993f-4606-a8cb-8b724a3544d0",
   "metadata": {},
   "outputs": [],
   "source": [
    "# Define dtypes for lookup tables to preserve leading zeros\n",
    "dtype_dic= {'HUC4': str, 'HUC2': str, 'toBasin': str, 'level': str}\n",
    "# Read in HUC lookup table\n",
    "lookup = pd.read_csv(os.path.join(mdata_path,\n",
    "                                  'HUC4_lookup_no_great_lakes.csv'),\n",
    "                     dtype=dtype_dic)"
   ]
  },
  {
   "cell_type": "code",
   "execution_count": 28,
   "id": "c7ba86ba-ab7d-43f3-be5b-93502fd78bbc",
   "metadata": {},
   "outputs": [
    {
     "data": {
      "text/html": [
       "<div>\n",
       "<style scoped>\n",
       "    .dataframe tbody tr th:only-of-type {\n",
       "        vertical-align: middle;\n",
       "    }\n",
       "\n",
       "    .dataframe tbody tr th {\n",
       "        vertical-align: top;\n",
       "    }\n",
       "\n",
       "    .dataframe thead th {\n",
       "        text-align: right;\n",
       "    }\n",
       "</style>\n",
       "<table border=\"1\" class=\"dataframe\">\n",
       "  <thead>\n",
       "    <tr style=\"text-align: right;\">\n",
       "      <th></th>\n",
       "      <th>slurm_index</th>\n",
       "      <th>HUC4</th>\n",
       "      <th>HUC2</th>\n",
       "      <th>toBasin</th>\n",
       "      <th>level</th>\n",
       "    </tr>\n",
       "  </thead>\n",
       "  <tbody>\n",
       "    <tr>\n",
       "      <th>0</th>\n",
       "      <td>0</td>\n",
       "      <td>0101</td>\n",
       "      <td>01</td>\n",
       "      <td>NaN</td>\n",
       "      <td>0</td>\n",
       "    </tr>\n",
       "    <tr>\n",
       "      <th>1</th>\n",
       "      <td>1</td>\n",
       "      <td>0102</td>\n",
       "      <td>01</td>\n",
       "      <td>0105</td>\n",
       "      <td>0</td>\n",
       "    </tr>\n",
       "    <tr>\n",
       "      <th>2</th>\n",
       "      <td>2</td>\n",
       "      <td>0106</td>\n",
       "      <td>01</td>\n",
       "      <td>NaN</td>\n",
       "      <td>0</td>\n",
       "    </tr>\n",
       "    <tr>\n",
       "      <th>3</th>\n",
       "      <td>3</td>\n",
       "      <td>0107</td>\n",
       "      <td>01</td>\n",
       "      <td>NaN</td>\n",
       "      <td>0</td>\n",
       "    </tr>\n",
       "    <tr>\n",
       "      <th>4</th>\n",
       "      <td>4</td>\n",
       "      <td>0108</td>\n",
       "      <td>01</td>\n",
       "      <td>NaN</td>\n",
       "      <td>0</td>\n",
       "    </tr>\n",
       "    <tr>\n",
       "      <th>...</th>\n",
       "      <td>...</td>\n",
       "      <td>...</td>\n",
       "      <td>...</td>\n",
       "      <td>...</td>\n",
       "      <td>...</td>\n",
       "    </tr>\n",
       "    <tr>\n",
       "      <th>200</th>\n",
       "      <td>200</td>\n",
       "      <td>1027</td>\n",
       "      <td>10</td>\n",
       "      <td>1030</td>\n",
       "      <td>1</td>\n",
       "    </tr>\n",
       "    <tr>\n",
       "      <th>201</th>\n",
       "      <td>201</td>\n",
       "      <td>1204</td>\n",
       "      <td>12</td>\n",
       "      <td>NaN</td>\n",
       "      <td>1</td>\n",
       "    </tr>\n",
       "    <tr>\n",
       "      <th>202</th>\n",
       "      <td>202</td>\n",
       "      <td>0508</td>\n",
       "      <td>05</td>\n",
       "      <td>0509</td>\n",
       "      <td>0</td>\n",
       "    </tr>\n",
       "    <tr>\n",
       "      <th>203</th>\n",
       "      <td>203</td>\n",
       "      <td>0513</td>\n",
       "      <td>05</td>\n",
       "      <td>0514</td>\n",
       "      <td>0</td>\n",
       "    </tr>\n",
       "    <tr>\n",
       "      <th>204</th>\n",
       "      <td>204</td>\n",
       "      <td>0604</td>\n",
       "      <td>05</td>\n",
       "      <td>0514</td>\n",
       "      <td>3</td>\n",
       "    </tr>\n",
       "  </tbody>\n",
       "</table>\n",
       "<p>205 rows × 5 columns</p>\n",
       "</div>"
      ],
      "text/plain": [
       "     slurm_index  HUC4 HUC2 toBasin level\n",
       "0              0  0101   01     NaN     0\n",
       "1              1  0102   01    0105     0\n",
       "2              2  0106   01     NaN     0\n",
       "3              3  0107   01     NaN     0\n",
       "4              4  0108   01     NaN     0\n",
       "..           ...   ...  ...     ...   ...\n",
       "200          200  1027   10    1030     1\n",
       "201          201  1204   12     NaN     1\n",
       "202          202  0508   05    0509     0\n",
       "203          203  0513   05    0514     0\n",
       "204          204  0604   05    0514     3\n",
       "\n",
       "[205 rows x 5 columns]"
      ]
     },
     "execution_count": 28,
     "metadata": {},
     "output_type": "execute_result"
    }
   ],
   "source": [
    "lookup"
   ]
  },
  {
   "cell_type": "code",
   "execution_count": 27,
   "id": "fc49faaa-6b99-41fe-8e74-125c152d7164",
   "metadata": {},
   "outputs": [
    {
     "data": {
      "text/plain": [
       "np.int64(204)"
      ]
     },
     "execution_count": 27,
     "metadata": {},
     "output_type": "execute_result"
    }
   ],
   "source": [
    "np.max(lookup.slurm_index)"
   ]
  },
  {
   "cell_type": "code",
   "execution_count": 3,
   "id": "eabcba99-6e0b-40ab-a741-d718e8fb4b75",
   "metadata": {},
   "outputs": [],
   "source": [
    "# Order of all possible bins for plotting\n",
    "order = ['(0, 10]', '(10, 20]', '(20, 30]', '(30, 40]', '(40, 50]',\n",
    "         '(50, 60]', '(60, 70]', '(70, 80]', '(80, 90]', '(90, 100]',\n",
    "         '(100, 150]', '(150, 200]', '(200, 500]', '(500, 1000]']"
   ]
  },
  {
   "cell_type": "code",
   "execution_count": 34,
   "id": "b2cb7b1a-c623-4ed9-a6c7-dd2b93ea3381",
   "metadata": {},
   "outputs": [
    {
     "data": {
      "text/plain": [
       "Text(0, 0.5, 'Length [km]')"
      ]
     },
     "execution_count": 34,
     "metadata": {},
     "output_type": "execute_result"
    },
    {
     "data": {
      "image/png": "[encoded data removed]",
      "text/plain": [
       "<Figure size 640x480 with 1 Axes>"
      ]
     },
     "metadata": {},
     "output_type": "display_data"
    }
   ],
   "source": [
    "del basin, huc4\n",
    "index = 5\n",
    "\n",
    "# Read prepped NHD\n",
    "basin, huc4 = readNHD(index=index)\n",
    "\n",
    "# Plot width vs. length\n",
    "plt.scatter(data=basin, x='WidthM', y='LengthKM', s=1,\n",
    "        c='k')\n",
    "\n",
    "plt.title(huc4)\n",
    "plt.xlabel('Width [m]')\n",
    "plt.ylabel('Length [km]')\n",
    "\n",
    "# plt.savefig(fname=save_path + huc4 + '.png', bbox_inches='tight')"
   ]
  },
  {
   "cell_type": "code",
   "execution_count": null,
   "id": "ed825c33-49cb-4c6a-8fba-5ee1087cb7c1",
   "metadata": {},
   "outputs": [],
   "source": [
    "for index in range(np.max(lookup.slurm_index) + 1):\n",
    "    # Read prepped NHD\n",
    "    basin, huc4 = readNHD(index=index)\n",
    "    \n",
    "    # Plot width vs. length\n",
    "    plt.scatter(data=basin, x='WidthM', y='LengthKM', s=1,\n",
    "            c='k')\n",
    "\n",
    "    plt.title(huc4)\n",
    "    plt.xlabel('Width [m]')\n",
    "    plt.ylabel('Length [km]')\n",
    "\n",
    "    # plt.savefig(fname=save_path + huc4 + '.png', bbox_inches='tight')"
   ]
  }
 ],
 "metadata": {
  "kernelspec": {
   "display_name": "Python [conda env:.conda-narrowPIXC]",
   "language": "python",
   "name": "conda-env-.conda-narrowPIXC-py"
  },
  "language_info": {
   "codemirror_mode": {
    "name": "ipython",
    "version": 3
   },
   "file_extension": ".py",
   "mimetype": "text/x-python",
   "name": "python",
   "nbconvert_exporter": "python",
   "pygments_lexer": "ipython3",
   "version": "3.12.4"
  }
 },
 "nbformat": 4,
 "nbformat_minor": 5
}
