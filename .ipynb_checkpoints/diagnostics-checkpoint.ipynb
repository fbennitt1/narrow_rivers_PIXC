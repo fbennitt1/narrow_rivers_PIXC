{
 "cells": [
  {
   "cell_type": "markdown",
   "id": "e74b3dbd-15b1-4152-89e0-9568360d1c1c",
   "metadata": {
    "jp-MarkdownHeadingCollapsed": true,
    "tags": []
   },
   "source": [
    "### Check that prepNHD worked and all files are present"
   ]
  },
  {
   "cell_type": "code",
   "execution_count": 3,
   "id": "a9a5052a-dbab-4a4f-952a-24987fd1436d",
   "metadata": {},
   "outputs": [],
   "source": [
    "import geopandas as gpd\n",
    "import os\n",
    "import pandas as pd\n",
    "import time"
   ]
  },
  {
   "cell_type": "code",
   "execution_count": 1,
   "id": "a5902046-ad1a-4e66-a19c-031f7813c035",
   "metadata": {},
   "outputs": [],
   "source": [
    "def get_paths(filepath, hucs, codes):\n",
    "    for i in range(len(codes)):\n",
    "        # Get all HUC4 GBD paths for current HUC2 (exclude WBD)\n",
    "        sub_paths = [fn for fn in os.listdir(os.path.join(filepath, 'HUC2_' + codes[i]))\n",
    "                     if fn.startswith('NHD')]\n",
    "\n",
    "        for j in sub_paths:\n",
    "            # path = os.path.join(filepath, 'HUC2_' + codes[i],\n",
    "            #                     j, j + '.gdb')\n",
    "            huc = j\n",
    "            hucs.append(huc)\n",
    "    return hucs"
   ]
  },
  {
   "cell_type": "code",
   "execution_count": 4,
   "id": "d610ac24-5526-4550-850e-3f4f992e4d2d",
   "metadata": {},
   "outputs": [],
   "source": [
    "# Define dtypes for lookup tables to preserve leading zeros\n",
    "dtype_dic= {'HUC4': str, 'HUC2': str, 'toBasin': str, 'level': str}\n",
    "# Read in HUC lookup table\n",
    "lookup = pd.read_csv('/nas/cee-water/cjgleason/fiona/narrow_rivers_PIXC/data/HUC4_lookup_no_great_lakes.csv',\n",
    "                     dtype=dtype_dic)"
   ]
  },
  {
   "cell_type": "code",
   "execution_count": 5,
   "id": "4e90878a-583e-4610-8cfd-904b49c7dd6e",
   "metadata": {},
   "outputs": [],
   "source": [
    "datapath = '/nas/cee-water/cjgleason/craig/CONUS_ephemeral_data/'\n",
    "preppath = '/nas/cee-water/cjgleason/fiona/narrow_rivers_PIXC_data/NHD_prepped_segmented/'\n",
    "codes_huc2 = ['01','02','03','04','05','06','07','08','09','10','11','12','13','14','15','16','17','18']"
   ]
  },
  {
   "cell_type": "code",
   "execution_count": 6,
   "id": "60593a50-3270-41be-bacd-047a71f39f66",
   "metadata": {},
   "outputs": [
    {
     "data": {
      "text/plain": [
       "211"
      ]
     },
     "execution_count": 6,
     "metadata": {},
     "output_type": "execute_result"
    }
   ],
   "source": [
    "# Get the original files\n",
    "original = get_paths(filepath=datapath, hucs=[], codes=codes_huc2)\n",
    "len(original)"
   ]
  },
  {
   "cell_type": "code",
   "execution_count": 15,
   "id": "78de361e-09ee-4990-9dca-6a0cee9bf073",
   "metadata": {},
   "outputs": [
    {
     "data": {
      "text/plain": [
       "202"
      ]
     },
     "execution_count": 15,
     "metadata": {},
     "output_type": "execute_result"
    }
   ],
   "source": [
    "# Get the prepped files\n",
    "prepped = get_paths(filepath=preppath, hucs=[], codes=codes_huc2)\n",
    "len(prepped)"
   ]
  },
  {
   "cell_type": "code",
   "execution_count": 17,
   "id": "ea59277f-36d1-438a-b240-3eccc5af0a2e",
   "metadata": {},
   "outputs": [],
   "source": [
    "# Clean the prepped paths to match original\n",
    "# prepped = [x[:-16] for x in prepped]\n",
    "prepped = [x[:-26] for x in prepped]\n",
    "# prepped"
   ]
  },
  {
   "cell_type": "code",
   "execution_count": 20,
   "id": "ca427809-f5b7-4fea-9b62-11fff0a54d3a",
   "metadata": {},
   "outputs": [
    {
     "data": {
      "text/plain": [
       "['NHDPLUS_H_0428_HU4_GDB',\n",
       " 'NHDPLUS_H_0419_HU4_GDB',\n",
       " 'NHDPLUS_H_1710_HU4_GDB',\n",
       " 'NHDPLUS_H_0424_HU4_GDB',\n",
       " 'NHDPLUS_H_0512_HU4_GDB',\n",
       " 'NHDPLUS_H_0418_HU4_GDB',\n",
       " 'NHDPLUS_H_1802_HU4_GDB',\n",
       " 'NHDPLUS_H_0426_HU4_GDB',\n",
       " 'NHDPLUS_H_0431_HU4_GDB']"
      ]
     },
     "execution_count": 20,
     "metadata": {},
     "output_type": "execute_result"
    }
   ],
   "source": [
    "# Get the missing filenames (0431 is fine, it's Canada)\n",
    "# 0418, 0419, 0424, 0426, and 0428 are the Great Lakes.\n",
    "missing = list(set(original) - set(prepped))\n",
    "missing"
   ]
  },
  {
   "cell_type": "code",
   "execution_count": 21,
   "id": "87efb97b-496c-4e1f-ae34-afb24b0ea5cb",
   "metadata": {},
   "outputs": [
    {
     "data": {
      "text/plain": [
       "['0428', '0419', '1710', '0424', '0512', '0418', '1802', '0426', '0431']"
      ]
     },
     "execution_count": 21,
     "metadata": {},
     "output_type": "execute_result"
    }
   ],
   "source": [
    "# Get the missing hucs\n",
    "missingHUCS= [x[10:14] for x in missing]\n",
    "missingHUCS"
   ]
  },
  {
   "cell_type": "code",
   "execution_count": 29,
   "id": "b61ddeaf-6a6d-4d45-8bd2-d1c8862b34f6",
   "metadata": {},
   "outputs": [
    {
     "data": {
      "text/html": [
       "<div>\n",
       "<style scoped>\n",
       "    .dataframe tbody tr th:only-of-type {\n",
       "        vertical-align: middle;\n",
       "    }\n",
       "\n",
       "    .dataframe tbody tr th {\n",
       "        vertical-align: top;\n",
       "    }\n",
       "\n",
       "    .dataframe thead th {\n",
       "        text-align: right;\n",
       "    }\n",
       "</style>\n",
       "<table border=\"1\" class=\"dataframe\">\n",
       "  <thead>\n",
       "    <tr style=\"text-align: right;\">\n",
       "      <th></th>\n",
       "      <th>slurm_index</th>\n",
       "      <th>HUC4</th>\n",
       "      <th>HUC2</th>\n",
       "      <th>toBasin</th>\n",
       "      <th>level</th>\n",
       "    </tr>\n",
       "  </thead>\n",
       "  <tbody>\n",
       "  </tbody>\n",
       "</table>\n",
       "</div>"
      ],
      "text/plain": [
       "Empty DataFrame\n",
       "Columns: [slurm_index, HUC4, HUC2, toBasin, level]\n",
       "Index: []"
      ]
     },
     "execution_count": 29,
     "metadata": {},
     "output_type": "execute_result"
    }
   ],
   "source": [
    "lookup[lookup['HUC4'] == '0431']"
   ]
  },
  {
   "cell_type": "code",
   "execution_count": null,
   "id": "50e40006-f023-4716-8ec6-134db9b7f0bb",
   "metadata": {},
   "outputs": [],
   "source": [
    "# Find the indices of the missing HUCS for slurm\n",
    "lookup.loc[lookup['HUC4'].isin(missingHUCS), 'slurm_index']"
   ]
  },
  {
   "cell_type": "markdown",
   "id": "1e2b2e12-aca9-4376-aefa-baee69aad737",
   "metadata": {
    "jp-MarkdownHeadingCollapsed": true,
    "tags": []
   },
   "source": [
    "### Check to make sure the max width fits in the bins I set"
   ]
  },
  {
   "cell_type": "code",
   "execution_count": 1,
   "id": "02a20fe0-3a54-4da7-9346-edda0ef09abb",
   "metadata": {},
   "outputs": [],
   "source": [
    "import geopandas as gpd\n",
    "import os\n",
    "import pandas as pd"
   ]
  },
  {
   "cell_type": "code",
   "execution_count": 2,
   "id": "32a857ec-00e7-40af-a468-4402586d97aa",
   "metadata": {},
   "outputs": [],
   "source": [
    "## Set-up\n",
    "mdata_path = '/nas/cee-water/cjgleason/fiona/narrow_rivers_PIXC/data/'\n",
    "prep_path = '/nas/cee-water/cjgleason/fiona/narrow_rivers_PIXC_data/NHD_prepped/'"
   ]
  },
  {
   "cell_type": "code",
   "execution_count": 3,
   "id": "f96f8d6f-19f0-472e-93e1-4d3fe8dfde4a",
   "metadata": {},
   "outputs": [],
   "source": [
    "# Define dtypes for lookup tables to preserve leading zeros\n",
    "dtype_dic= {'HUC4': str, 'HUC2': str, 'toBasin': str, 'level': str}\n",
    "# Read in HUC lookup table\n",
    "lookup = pd.read_csv(os.path.join(mdata_path, 'HUC4_lookup_no_great_lakes.csv'), dtype=dtype_dic)"
   ]
  },
  {
   "cell_type": "code",
   "execution_count": 25,
   "id": "8b05792a-a787-4385-8dfb-f0e4437e2214",
   "metadata": {},
   "outputs": [],
   "source": [
    "tf = '/nas/cee-water/cjgleason/fiona/narrow_rivers_PIXC_data/NHD_prepped/HUC2_08/NHDPLUS_H_0809_HU4_GDB_prepped.gpkg'"
   ]
  },
  {
   "cell_type": "code",
   "execution_count": 26,
   "id": "00344ed4-f515-49fa-a453-4f865bcb2605",
   "metadata": {},
   "outputs": [],
   "source": [
    "test = gpd.read_file(filename=tf, engine='pyogrio')"
   ]
  },
  {
   "cell_type": "code",
   "execution_count": 27,
   "id": "0d75c24b-36a1-4f75-a645-c1779ca065aa",
   "metadata": {},
   "outputs": [
    {
     "data": {
      "text/plain": [
       "np.float64(472.15431976542897)"
      ]
     },
     "execution_count": 27,
     "metadata": {},
     "output_type": "execute_result"
    }
   ],
   "source": [
    "test.WidthM.to_numpy().max()"
   ]
  },
  {
   "cell_type": "code",
   "execution_count": null,
   "id": "2a4b072e-cd21-434a-819b-8e849878344b",
   "metadata": {},
   "outputs": [],
   "source": [
    "# Get slurm job index\n",
    "print('FILE\\t\\t\\tMAX WIDTH')\n",
    "# for i in range(36,100):\n",
    "i = 142\n",
    "# Get current HUC2 and HUC4 IDs\n",
    "hu2 = 'HUC2_' + lookup.loc[i,'HUC4'][0:2]\n",
    "hu4 = 'NHDPLUS_H_' + lookup.loc[i,'HUC4'] + '_HU4_GDB'\n",
    "\n",
    "# Set data filepath\n",
    "file_path = os.path.join(prep_path, hu2, hu4 + '_prepped.gpkg')\n",
    "\n",
    "# Get max width value for given HUC4\n",
    "maxw = gpd.read_file(filename=file_path, columns=['WidthM'],\n",
    "                      engine='pyogrio').drop(columns='geometry').to_numpy().max()\n",
    "\n",
    "print(hu4 + ':\\t' + str(maxw))\n",
    "\n",
    "# Remove vars (speeds up runtime considerably)\n",
    "del hu2, hu4, file_path, maxw"
   ]
  },
  {
   "cell_type": "code",
   "execution_count": null,
   "id": "31a0c1ba-c2aa-4de4-a582-142c96aacab7",
   "metadata": {},
   "outputs": [],
   "source": [
    "i"
   ]
  },
  {
   "cell_type": "code",
   "execution_count": null,
   "id": "31af04d3-872a-4709-bf39-8cddffd7100b",
   "metadata": {
    "tags": []
   },
   "outputs": [],
   "source": [
    "\n",
    "\n",
    "# Get current HUC2 and HUC4 IDs\n",
    "hu2 = 'HUC2_' + lookup.loc[i,'HUC4'][0:2]\n",
    "hu4 = 'NHDPLUS_H_' + lookup.loc[i,'HUC4'] + '_HU4_GDB'"
   ]
  },
  {
   "cell_type": "code",
   "execution_count": null,
   "id": "082088de-6ecc-4927-9e2e-a3159ae8f4cb",
   "metadata": {},
   "outputs": [],
   "source": [
    "# Set data filepath\n",
    "file_path = os.path.join(data_path, hu2, hu4 + '_prepped.gpkg')"
   ]
  },
  {
   "cell_type": "code",
   "execution_count": null,
   "id": "5679d49a-5996-4be1-94d0-8037958734fb",
   "metadata": {},
   "outputs": [],
   "source": [
    "# fiona.listlayers(file_path)"
   ]
  },
  {
   "cell_type": "code",
   "execution_count": null,
   "id": "f7278b58-7de2-4427-9816-b33b152dd00b",
   "metadata": {},
   "outputs": [],
   "source": [
    "# Read in NHD flowlines\n",
    "miss = gpd.read_file(filename=file_path, columns=['WidthM', 'Bin'], engine='pyogrio')"
   ]
  },
  {
   "cell_type": "code",
   "execution_count": null,
   "id": "b3b31e3b-b986-49e0-b440-c182ae672b04",
   "metadata": {},
   "outputs": [],
   "source": [
    "miss.columns"
   ]
  },
  {
   "cell_type": "code",
   "execution_count": null,
   "id": "b64ed80e-cf06-43aa-b8b6-cbaea1e9583e",
   "metadata": {},
   "outputs": [],
   "source": [
    "miss.WidthM.max()"
   ]
  },
  {
   "cell_type": "code",
   "execution_count": null,
   "id": "540e9842-12e2-4a15-bd00-54b0b1e6625a",
   "metadata": {},
   "outputs": [],
   "source": [
    "hu4"
   ]
  },
  {
   "cell_type": "code",
   "execution_count": null,
   "id": "aa307e15-ced0-40a8-a7fd-dc9d701bedd9",
   "metadata": {},
   "outputs": [],
   "source": [
    "miss.Bin.unique()"
   ]
  },
  {
   "cell_type": "markdown",
   "id": "cded1d51-a07c-49c3-ae06-c193923dbd4d",
   "metadata": {
    "jp-MarkdownHeadingCollapsed": true,
    "tags": []
   },
   "source": [
    "### See if HUC filtering matches a priori table"
   ]
  },
  {
   "cell_type": "code",
   "execution_count": 1,
   "id": "eba25ac2-b966-4e06-8d26-ee4a860b6f34",
   "metadata": {},
   "outputs": [],
   "source": [
    "import os\n",
    "\n",
    "import pandas as pd"
   ]
  },
  {
   "cell_type": "code",
   "execution_count": 2,
   "id": "97917967-f3d9-45d9-af92-048c47dc3055",
   "metadata": {},
   "outputs": [
    {
     "name": "stdout",
     "output_type": "stream",
     "text": [
      "There are 3400 original files in directory.\n"
     ]
    }
   ],
   "source": [
    "## Min\n",
    "directory = '/nas/cee-water/cjgleason/fiona/narrow_rivers_PIXC_output/PIXC_v2_0_HUC2_01_2025_02_04_min'\n",
    "\n",
    "files_min = []\n",
    "for file in os.listdir(directory):\n",
    "    if not file.startswith('.'):\n",
    "        files_min.append(file)\n",
    "\n",
    "# files = files[1:]\n",
    "print(f\"There are {str(len(files_min))} original files in directory.\")"
   ]
  },
  {
   "cell_type": "code",
   "execution_count": 26,
   "id": "4c285840-d65d-4824-8243-4cc0a2f2ec5d",
   "metadata": {},
   "outputs": [
    {
     "name": "stdout",
     "output_type": "stream",
     "text": [
      "There are 3387 original files in directory.\n"
     ]
    }
   ],
   "source": [
    "## Mean\n",
    "directory = '/nas/cee-water/cjgleason/fiona/narrow_rivers_PIXC_output/PIXC_v2_0_HUC2_01_2025_02_04_mean'\n",
    "\n",
    "files_mean = []\n",
    "for file in os.listdir(directory):\n",
    "    if not file.startswith('.'):\n",
    "        files_mean.append(file)\n",
    "\n",
    "# files = files[1:]\n",
    "print(f\"There are {str(len(files_mean))} original files in directory.\")"
   ]
  },
  {
   "cell_type": "code",
   "execution_count": 29,
   "id": "a18c663f-96cb-4c3e-bbea-a800e55f1c3f",
   "metadata": {},
   "outputs": [
    {
     "name": "stdout",
     "output_type": "stream",
     "text": [
      "There are 3388 original files in directory.\n"
     ]
    }
   ],
   "source": [
    "## Max\n",
    "directory = '/nas/cee-water/cjgleason/fiona/narrow_rivers_PIXC_output/PIXC_v2_0_HUC2_01_2025_02_04_max'\n",
    "\n",
    "files_max = []\n",
    "for file in os.listdir(directory):\n",
    "    if not file.startswith('.'):\n",
    "        files_max.append(file)\n",
    "\n",
    "# files = files[1:]\n",
    "print(f\"There are {str(len(files_max))} original files in directory.\")"
   ]
  },
  {
   "cell_type": "code",
   "execution_count": 32,
   "id": "453a8770-297c-4310-9936-a261fbe9d0f7",
   "metadata": {},
   "outputs": [],
   "source": [
    "files_common = list(set(files_min) & set(files_mean) & set(files_max))"
   ]
  },
  {
   "cell_type": "code",
   "execution_count": 34,
   "id": "320f9d8f-97ed-4b0e-b6bf-d7c8c18aff83",
   "metadata": {},
   "outputs": [
    {
     "data": {
      "text/plain": [
       "3366"
      ]
     },
     "execution_count": 34,
     "metadata": {},
     "output_type": "execute_result"
    }
   ],
   "source": [
    "len(files_common)"
   ]
  },
  {
   "cell_type": "markdown",
   "id": "a4d67b9a-db7a-407b-91ba-dddc5027f296",
   "metadata": {
    "tags": []
   },
   "source": [
    "### All errors"
   ]
  },
  {
   "cell_type": "code",
   "execution_count": 2,
   "id": "86b458f7-3e03-4472-8ef5-d3ffd52cb14a",
   "metadata": {},
   "outputs": [],
   "source": [
    "import os"
   ]
  },
  {
   "cell_type": "code",
   "execution_count": 5,
   "id": "5c084bc7-2964-4bb0-817f-74ebc93ff911",
   "metadata": {},
   "outputs": [],
   "source": [
    "def search_log(file_path, search_string):\n",
    "    missing = []\n",
    "    \n",
    "    for file_name in os.listdir(file_path):\n",
    "        if not file_name.startswith('.'):\n",
    "            with open(os.path.join(file_path, file_name), 'r') as file:\n",
    "                contains = False\n",
    "                \n",
    "                for line in file:\n",
    "                    if search_string in line:\n",
    "                            missing.append(file)\n",
    "                        # contains = True\n",
    "                    # if 'TIME LIMIT' in line:\n",
    "                    #     print(file)\n",
    "\n",
    "                # if contains == False:\n",
    "                #     print(line)\n",
    "    return missing"
   ]
  },
  {
   "cell_type": "code",
   "execution_count": 6,
   "id": "0d8f9a33-3500-43b8-915c-5385cff45a27",
   "metadata": {},
   "outputs": [],
   "source": [
    "# Min\n",
    "file_path ='/nas/cee-water/cjgleason/fiona/narrow_rivers_PIXC/log_2025_03_02_min/'\n",
    "missing = search_log(file_path, 'TIME LIMIT')"
   ]
  },
  {
   "cell_type": "code",
   "execution_count": 7,
   "id": "3c5421d1-9f5f-44a1-bccc-ec349f1ad5c4",
   "metadata": {},
   "outputs": [
    {
     "data": {
      "text/plain": [
       "[]"
      ]
     },
     "execution_count": 7,
     "metadata": {},
     "output_type": "execute_result"
    }
   ],
   "source": [
    "missing"
   ]
  },
  {
   "cell_type": "markdown",
   "id": "cbc213ff-9928-40f4-807d-5e7a0d4ac09e",
   "metadata": {
    "tags": []
   },
   "source": [
    "### Min/mean/max log files"
   ]
  },
  {
   "cell_type": "code",
   "execution_count": 2,
   "id": "7e7d414c-4ef9-4d14-8baa-88aa9911507d",
   "metadata": {},
   "outputs": [],
   "source": [
    "def search_log(file_path, search_string):\n",
    "    missing = []\n",
    "    \n",
    "    for file_name in os.listdir(file_path):\n",
    "        if not file_name.startswith('.'):\n",
    "            with open(os.path.join(file_path, file_name), 'r') as file:\n",
    "                contains = False\n",
    "                \n",
    "                for line in file:\n",
    "                    if search_string in line:\n",
    "                        contains = True\n",
    "                \n",
    "                # print(file_name + ': ' + str(contains))\n",
    "                \n",
    "                if contains == True: #False:\n",
    "                    missing.append(file_name)\n",
    "    \n",
    "    return missing"
   ]
  },
  {
   "cell_type": "code",
   "execution_count": 27,
   "id": "10985600-aba8-482d-8728-316e060a068b",
   "metadata": {},
   "outputs": [],
   "source": [
    "# Min\n",
    "file_path ='/nas/cee-water/cjgleason/fiona/narrow_rivers_PIXC/log_2025_02_12_min/'\n",
    "missing = search_log(file_path, 'OOM')"
   ]
  },
  {
   "cell_type": "code",
   "execution_count": 28,
   "id": "71795933-f035-4f42-9c0f-609f0c48a7a3",
   "metadata": {},
   "outputs": [
    {
     "data": {
      "text/plain": [
       "['log_28620430_530.log',\n",
       " 'log_28620430_729.log',\n",
       " 'log_28620430_880.log',\n",
       " 'log_28620430_1305.log',\n",
       " 'log_28620430_1275.log',\n",
       " 'log_28619350_2587.log',\n",
       " 'log_28619350_2588.log',\n",
       " 'log_28620430_1478.log',\n",
       " 'log_28620430_1699.log',\n",
       " 'log_28620430_1711.log',\n",
       " 'log_28624693_3203.log',\n",
       " 'log_28624693_3199.log',\n",
       " 'log_28624693_3586.log',\n",
       " 'log_28624693_3728.log']"
      ]
     },
     "execution_count": 28,
     "metadata": {},
     "output_type": "execute_result"
    }
   ],
   "source": [
    "# now 28939417\n",
    "missing"
   ]
  },
  {
   "cell_type": "code",
   "execution_count": 26,
   "id": "22585f2f-604c-4ea5-8137-0dcc4ee901df",
   "metadata": {},
   "outputs": [
    {
     "data": {
      "text/plain": [
       "['_530',\n",
       " '_729',\n",
       " '_880',\n",
       " '1305',\n",
       " '1275',\n",
       " '2587',\n",
       " '2588',\n",
       " '1478',\n",
       " '1699',\n",
       " '1711',\n",
       " '3203',\n",
       " '3199',\n",
       " '3586',\n",
       " '3728']"
      ]
     },
     "execution_count": 26,
     "metadata": {},
     "output_type": "execute_result"
    }
   ],
   "source": [
    "[x[-8:-4] for x in missing]"
   ]
  },
  {
   "cell_type": "code",
   "execution_count": 21,
   "id": "c0edf061-df6d-4fc4-894e-410a05f8fdba",
   "metadata": {},
   "outputs": [],
   "source": [
    "# Mean\n",
    "file_path ='/nas/cee-water/cjgleason/fiona/narrow_rivers_PIXC/log_2025_02_12_mean/'\n",
    "missing = search_log(file_path, 'OOM')"
   ]
  },
  {
   "cell_type": "code",
   "execution_count": 22,
   "id": "8d3410dd-a5bc-43cc-b6b0-acb88a1bb0f0",
   "metadata": {},
   "outputs": [
    {
     "data": {
      "text/plain": [
       "['log_28918975_156.log',\n",
       " 'log_28918975_151.log',\n",
       " 'log_28918975_73.log',\n",
       " 'log_28918975_119.log',\n",
       " 'log_28918975_729.log',\n",
       " 'log_28918975_837.log',\n",
       " 'log_28918975_888.log',\n",
       " 'log_28918975_1498.log',\n",
       " 'log_28918975_1563.log',\n",
       " 'log_28918975_1793.log',\n",
       " 'log_28918975_1794.log',\n",
       " 'log_28918975_1800.log',\n",
       " 'log_28921985_2090.log',\n",
       " 'log_28921985_2159.log',\n",
       " 'log_28921985_2084.log',\n",
       " 'log_28921985_2163.log',\n",
       " 'log_28921985_2471.log',\n",
       " 'log_28921985_2690.log',\n",
       " 'log_28921985_2687.log',\n",
       " 'log_28921985_3041.log',\n",
       " 'log_28921985_3391.log',\n",
       " 'log_28921985_3397.log',\n",
       " 'log_28921985_3498.log',\n",
       " 'log_28921985_3503.log',\n",
       " 'log_28921985_3554.log',\n",
       " 'log_28921985_3586.log',\n",
       " 'log_28921985_3645.log']"
      ]
     },
     "execution_count": 22,
     "metadata": {},
     "output_type": "execute_result"
    }
   ],
   "source": [
    "# now 28938858\n",
    "missing"
   ]
  },
  {
   "cell_type": "code",
   "execution_count": 23,
   "id": "c8624147-9087-4bb0-9eb1-f2734e920353",
   "metadata": {},
   "outputs": [
    {
     "data": {
      "text/plain": [
       "[]"
      ]
     },
     "execution_count": 23,
     "metadata": {},
     "output_type": "execute_result"
    }
   ],
   "source": [
    "[x[-8:-4] for x in missing if '28938858' in x]"
   ]
  },
  {
   "cell_type": "code",
   "execution_count": null,
   "id": "d9375095-a29e-4530-a22d-ba39bc5b61bd",
   "metadata": {},
   "outputs": [],
   "source": [
    "# Max\n",
    "file_path ='/nas/cee-water/cjgleason/fiona/narrow_rivers_PIXC/log_2025_02_12_max/'\n",
    "missing = search_log(file_path, 'OOM')"
   ]
  },
  {
   "cell_type": "code",
   "execution_count": 7,
   "id": "25c73fb6-1624-4afa-95df-33fc5398609e",
   "metadata": {},
   "outputs": [
    {
     "data": {
      "text/plain": [
       "['log_28930033_156.log',\n",
       " 'log_28930033_1460.log',\n",
       " 'log_28930033_1615.log',\n",
       " 'log_28930033_1699.log',\n",
       " 'log_28930033_1949.log',\n",
       " 'log_28930033_1975.log',\n",
       " 'log_28932140_2163.log',\n",
       " 'log_28932140_2479.log',\n",
       " 'log_28932140_3158.log',\n",
       " 'log_28932140_3665.log']"
      ]
     },
     "execution_count": 18,
     "metadata": {},
     "output_type": "execute_result"
    }
   ],
   "source": [
    "missing"
   ]
  },
  {
   "cell_type": "code",
   "execution_count": 13,
   "id": "c3cc3e22-f833-4458-b112-7fed3bc8e4ca",
   "metadata": {},
   "outputs": [
    {
     "data": {
      "text/plain": [
       "['_156',\n",
       " '1460',\n",
       " '1615',\n",
       " '1699',\n",
       " '1949',\n",
       " '1975',\n",
       " '2163',\n",
       " '2479',\n",
       " '3158',\n",
       " '3665']"
      ]
     },
     "execution_count": 13,
     "metadata": {},
     "output_type": "execute_result"
    }
   ],
   "source": [
    "[x[-8:-4] for x in missing]"
   ]
  }
 ],
 "metadata": {
  "kernelspec": {
   "display_name": "Python [conda env:.conda-small-rivers-1]",
   "language": "python",
   "name": "conda-env-.conda-small-rivers-1-py"
  },
  "language_info": {
   "codemirror_mode": {
    "name": "ipython",
    "version": 3
   },
   "file_extension": ".py",
   "mimetype": "text/x-python",
   "name": "python",
   "nbconvert_exporter": "python",
   "pygments_lexer": "ipython3",
   "version": "3.12.4"
  }
 },
 "nbformat": 4,
 "nbformat_minor": 5
}
