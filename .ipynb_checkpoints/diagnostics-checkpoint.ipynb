{
 "cells": [
  {
   "cell_type": "markdown",
   "id": "e74b3dbd-15b1-4152-89e0-9568360d1c1c",
   "metadata": {
    "jp-MarkdownHeadingCollapsed": true,
    "tags": []
   },
   "source": [
    "#### Check that prepNHD worked and all files are present"
   ]
  },
  {
   "cell_type": "code",
   "execution_count": null,
   "id": "a9a5052a-dbab-4a4f-952a-24987fd1436d",
   "metadata": {},
   "outputs": [],
   "source": [
    "import geopandas as gpd\n",
    "import os\n",
    "import pandas as pd\n",
    "import time"
   ]
  },
  {
   "cell_type": "code",
   "execution_count": null,
   "id": "a5902046-ad1a-4e66-a19c-031f7813c035",
   "metadata": {},
   "outputs": [],
   "source": [
    "def get_paths(filepath, hucs, codes):\n",
    "    for i in range(len(codes)):\n",
    "        # Get all HUC4 GBD paths for current HUC2 (exclude WBD)\n",
    "        sub_paths = [fn for fn in os.listdir(os.path.join(filepath, 'HUC2_' + codes[i]))\n",
    "                     if fn.startswith('NHD')]\n",
    "\n",
    "        for j in sub_paths:\n",
    "            # path = os.path.join(filepath, 'HUC2_' + codes[i],\n",
    "            #                     j, j + '.gdb')\n",
    "            huc = j\n",
    "            hucs.append(huc)\n",
    "    return hucs"
   ]
  },
  {
   "cell_type": "code",
   "execution_count": null,
   "id": "d610ac24-5526-4550-850e-3f4f992e4d2d",
   "metadata": {},
   "outputs": [],
   "source": [
    "# Define dtypes for lookup tables to preserve leading zeros\n",
    "dtype_dic= {'HUC4': str, 'HUC2': str, 'toBasin': str, 'level': str}\n",
    "# Read in HUC lookup table\n",
    "lookup = pd.read_csv('/nas/cee-water/cjgleason/fiona/narrow_rivers_PIXC/data/HUC4_lookup_no_great_lakes.csv',\n",
    "                     dtype=dtype_dic)"
   ]
  },
  {
   "cell_type": "code",
   "execution_count": null,
   "id": "4e90878a-583e-4610-8cfd-904b49c7dd6e",
   "metadata": {},
   "outputs": [],
   "source": [
    "datapath = '/nas/cee-water/cjgleason/craig/CONUS_ephemeral_data/'\n",
    "preppath = '/nas/cee-water/cjgleason/fiona/narrow_rivers_PIXC_data/NHD_prepped/'\n",
    "codes_huc2 = ['01','02','03','04','05','06','07','08','09','10','11','12','13','14','15','16','17','18']"
   ]
  },
  {
   "cell_type": "code",
   "execution_count": null,
   "id": "60593a50-3270-41be-bacd-047a71f39f66",
   "metadata": {},
   "outputs": [],
   "source": [
    "# Get the original files\n",
    "original = get_paths(filepath=datapath, hucs=[], codes=codes_huc2)\n",
    "len(original)"
   ]
  },
  {
   "cell_type": "code",
   "execution_count": null,
   "id": "78de361e-09ee-4990-9dca-6a0cee9bf073",
   "metadata": {},
   "outputs": [],
   "source": [
    "# Get the prepped files\n",
    "prepped = get_paths(filepath=preppath, hucs=[], codes=codes_huc2)\n",
    "len(prepped)"
   ]
  },
  {
   "cell_type": "code",
   "execution_count": null,
   "id": "ea59277f-36d1-438a-b240-3eccc5af0a2e",
   "metadata": {},
   "outputs": [],
   "source": [
    "# Clean the prepped paths to match original\n",
    "prepped = [x[:-13] for x in prepped]"
   ]
  },
  {
   "cell_type": "code",
   "execution_count": null,
   "id": "ca427809-f5b7-4fea-9b62-11fff0a54d3a",
   "metadata": {},
   "outputs": [],
   "source": [
    "# Get the missing filenames (0431 is fine, it's Canada)\n",
    "missing = list(set(original) - set(prepped))\n",
    "missing"
   ]
  },
  {
   "cell_type": "code",
   "execution_count": null,
   "id": "87efb97b-496c-4e1f-ae34-afb24b0ea5cb",
   "metadata": {},
   "outputs": [],
   "source": [
    "# Get the missing hucs\n",
    "missingHUCS= [x[10:14] for x in missing]\n",
    "missingHUCS"
   ]
  },
  {
   "cell_type": "code",
   "execution_count": null,
   "id": "50e40006-f023-4716-8ec6-134db9b7f0bb",
   "metadata": {},
   "outputs": [],
   "source": [
    "# Find the indices of the missing HUCS for slurm\n",
    "lookup.loc[lookup['HUC4'].isin(missingHUCS), 'slurm_index']"
   ]
  },
  {
   "cell_type": "markdown",
   "id": "1e2b2e12-aca9-4376-aefa-baee69aad737",
   "metadata": {},
   "source": [
    "#### Check to make sure the max width fits in the bins I set"
   ]
  },
  {
   "cell_type": "code",
   "execution_count": 1,
   "id": "02a20fe0-3a54-4da7-9346-edda0ef09abb",
   "metadata": {},
   "outputs": [],
   "source": [
    "import geopandas as gpd\n",
    "import os\n",
    "import pandas as pd"
   ]
  },
  {
   "cell_type": "code",
   "execution_count": 2,
   "id": "32a857ec-00e7-40af-a468-4402586d97aa",
   "metadata": {},
   "outputs": [],
   "source": [
    "## Set-up\n",
    "mdata_path = '/nas/cee-water/cjgleason/fiona/narrow_rivers_PIXC/data/'\n",
    "prep_path = '/nas/cee-water/cjgleason/fiona/narrow_rivers_PIXC_data/NHD_prepped/'"
   ]
  },
  {
   "cell_type": "code",
   "execution_count": 3,
   "id": "f96f8d6f-19f0-472e-93e1-4d3fe8dfde4a",
   "metadata": {},
   "outputs": [],
   "source": [
    "# Define dtypes for lookup tables to preserve leading zeros\n",
    "dtype_dic= {'HUC4': str, 'HUC2': str, 'toBasin': str, 'level': str}\n",
    "# Read in HUC lookup table\n",
    "lookup = pd.read_csv(os.path.join(mdata_path, 'HUC4_lookup_no_great_lakes.csv'), dtype=dtype_dic)"
   ]
  },
  {
   "cell_type": "code",
   "execution_count": 25,
   "id": "8b05792a-a787-4385-8dfb-f0e4437e2214",
   "metadata": {},
   "outputs": [],
   "source": [
    "tf = '/nas/cee-water/cjgleason/fiona/narrow_rivers_PIXC_data/NHD_prepped/HUC2_08/NHDPLUS_H_0809_HU4_GDB_prepped.gpkg'"
   ]
  },
  {
   "cell_type": "code",
   "execution_count": 26,
   "id": "00344ed4-f515-49fa-a453-4f865bcb2605",
   "metadata": {},
   "outputs": [],
   "source": [
    "test = gpd.read_file(filename=tf, engine='pyogrio')"
   ]
  },
  {
   "cell_type": "code",
   "execution_count": 27,
   "id": "0d75c24b-36a1-4f75-a645-c1779ca065aa",
   "metadata": {},
   "outputs": [
    {
     "data": {
      "text/plain": [
       "np.float64(472.15431976542897)"
      ]
     },
     "execution_count": 27,
     "metadata": {},
     "output_type": "execute_result"
    }
   ],
   "source": [
    "test.WidthM.to_numpy().max()"
   ]
  },
  {
   "cell_type": "code",
   "execution_count": null,
   "id": "2a4b072e-cd21-434a-819b-8e849878344b",
   "metadata": {},
   "outputs": [],
   "source": [
    "# Get slurm job index\n",
    "print('FILE\\t\\t\\tMAX WIDTH')\n",
    "# for i in range(36,100):\n",
    "i = 142\n",
    "# Get current HUC2 and HUC4 IDs\n",
    "hu2 = 'HUC2_' + lookup.loc[i,'HUC4'][0:2]\n",
    "hu4 = 'NHDPLUS_H_' + lookup.loc[i,'HUC4'] + '_HU4_GDB'\n",
    "\n",
    "# Set data filepath\n",
    "file_path = os.path.join(prep_path, hu2, hu4 + '_prepped.gpkg')\n",
    "\n",
    "# Get max width value for given HUC4\n",
    "maxw = gpd.read_file(filename=file_path, columns=['WidthM'],\n",
    "                      engine='pyogrio').drop(columns='geometry').to_numpy().max()\n",
    "\n",
    "print(hu4 + ':\\t' + str(maxw))\n",
    "\n",
    "# Remove vars (speeds up runtime considerably)\n",
    "del hu2, hu4, file_path, maxw"
   ]
  },
  {
   "cell_type": "code",
   "execution_count": null,
   "id": "31a0c1ba-c2aa-4de4-a582-142c96aacab7",
   "metadata": {},
   "outputs": [],
   "source": [
    "i"
   ]
  },
  {
   "cell_type": "code",
   "execution_count": null,
   "id": "31af04d3-872a-4709-bf39-8cddffd7100b",
   "metadata": {
    "tags": []
   },
   "outputs": [],
   "source": [
    "\n",
    "\n",
    "# Get current HUC2 and HUC4 IDs\n",
    "hu2 = 'HUC2_' + lookup.loc[i,'HUC4'][0:2]\n",
    "hu4 = 'NHDPLUS_H_' + lookup.loc[i,'HUC4'] + '_HU4_GDB'"
   ]
  },
  {
   "cell_type": "code",
   "execution_count": null,
   "id": "082088de-6ecc-4927-9e2e-a3159ae8f4cb",
   "metadata": {},
   "outputs": [],
   "source": [
    "# Set data filepath\n",
    "file_path = os.path.join(data_path, hu2, hu4 + '_prepped.gpkg')"
   ]
  },
  {
   "cell_type": "code",
   "execution_count": null,
   "id": "5679d49a-5996-4be1-94d0-8037958734fb",
   "metadata": {},
   "outputs": [],
   "source": [
    "# fiona.listlayers(file_path)"
   ]
  },
  {
   "cell_type": "code",
   "execution_count": null,
   "id": "f7278b58-7de2-4427-9816-b33b152dd00b",
   "metadata": {},
   "outputs": [],
   "source": [
    "# Read in NHD flowlines\n",
    "miss = gpd.read_file(filename=file_path, columns=['WidthM', 'Bin'], engine='pyogrio')"
   ]
  },
  {
   "cell_type": "code",
   "execution_count": null,
   "id": "b3b31e3b-b986-49e0-b440-c182ae672b04",
   "metadata": {},
   "outputs": [],
   "source": [
    "miss.columns"
   ]
  },
  {
   "cell_type": "code",
   "execution_count": null,
   "id": "b64ed80e-cf06-43aa-b8b6-cbaea1e9583e",
   "metadata": {},
   "outputs": [],
   "source": [
    "miss.WidthM.max()"
   ]
  },
  {
   "cell_type": "code",
   "execution_count": null,
   "id": "540e9842-12e2-4a15-bd00-54b0b1e6625a",
   "metadata": {},
   "outputs": [],
   "source": [
    "hu4"
   ]
  },
  {
   "cell_type": "code",
   "execution_count": null,
   "id": "aa307e15-ced0-40a8-a7fd-dc9d701bedd9",
   "metadata": {},
   "outputs": [],
   "source": [
    "miss.Bin.unique()"
   ]
  }
 ],
 "metadata": {
  "kernelspec": {
   "display_name": "Python [conda env:.conda-small-rivers-1]",
   "language": "python",
   "name": "conda-env-.conda-small-rivers-1-py"
  },
  "language_info": {
   "codemirror_mode": {
    "name": "ipython",
    "version": 3
   },
   "file_extension": ".py",
   "mimetype": "text/x-python",
   "name": "python",
   "nbconvert_exporter": "python",
   "pygments_lexer": "ipython3",
   "version": "3.12.4"
  }
 },
 "nbformat": 4,
 "nbformat_minor": 5
}
