{
 "cells": [
  {
   "cell_type": "code",
   "execution_count": null,
   "id": "d53225d5-3324-4dfb-9311-191d071f5537",
   "metadata": {},
   "outputs": [],
   "source": [
    "def segmentReach(reach):\n",
    "    '''\n",
    "    Ths function XXX\n",
    "    '''\n",
    "    # Get linestring\n",
    "    line = reach.geometry\n",
    "    # Find length of segments\n",
    "    dist = line.length/10\n",
    "    \n",
    "    # Make empty list for segments\n",
    "    segments = []\n",
    "\n",
    "    # Segment the reach\n",
    "    for i in range(9):\n",
    "        try:\n",
    "            # Chop the reach, store remainder\n",
    "            new, line = cut(line=line, distance=dist)\n",
    "            # Append new segment to GeoSeries of all segments\n",
    "            segments.append(new)\n",
    "            # segments[i]: new\n",
    "        except:\n",
    "            print(reach['NHDPlusID'])\n",
    "    \n",
    "    # Append final segment to list\n",
    "    segments.append(line)\n",
    "\n",
    "    return segments"
   ]
  },
  {
   "cell_type": "code",
   "execution_count": 1,
   "id": "b147e867-477e-474b-b707-89bee9338e81",
   "metadata": {},
   "outputs": [],
   "source": [
    "# import fiona\n",
    "from shapely.geometry import *\n",
    "from shapely.wkt import loads\n",
    "# from shapely import LineString, MultiPoint\n",
    "# from shapely.ops import nearest_points, split, snap, unary_union\n",
    "\n",
    "import contextily as cx\n",
    "# import earthaccess\n",
    "import geopandas as gpd\n",
    "import matplotlib.pyplot as plt\n",
    "import numpy as np\n",
    "import os\n",
    "import pandas as pd\n",
    "import xarray as xr\n",
    "# import shapely"
   ]
  },
  {
   "cell_type": "markdown",
   "id": "556b2f16-1f6c-43f0-b89b-86014aae26ca",
   "metadata": {
    "tags": []
   },
   "source": [
    "#### Functions"
   ]
  },
  {
   "cell_type": "code",
   "execution_count": 2,
   "id": "ccd343eb-ac7a-4b93-a747-9085387614a6",
   "metadata": {
    "tags": []
   },
   "outputs": [],
   "source": [
    "def readNHD(index):\n",
    "    ## Set-up\n",
    "    mdata_path = '/nas/cee-water/cjgleason/fiona/narrow_rivers_PIXC/data/'\n",
    "# NEED WITH WATERBODY FOR CUSHMAN!!!!\n",
    "    prep_path = '/nas/cee-water/cjgleason/fiona/narrow_rivers_PIXC_data/NHD_prepped/' # _with_waterbody\n",
    "\n",
    "    # Define dtypes for lookup tables to preserve leading zeros\n",
    "    dtype_dic= {'HUC4': str, 'HUC2': str, 'toBasin': str, 'level': str}\n",
    "    # Read in HUC lookup table\n",
    "    lookup = pd.read_csv(os.path.join(mdata_path, 'HUC4_lookup_no_great_lakes.csv'), dtype=dtype_dic)\n",
    "\n",
    "    # Get current HUC2 and HUC4 IDs\n",
    "    hu2 = 'HUC2_' + lookup.loc[index,'HUC4'][0:2]\n",
    "    hu4 = 'NHDPLUS_H_' + lookup.loc[index,'HUC4'] + '_HU4_GDB'\n",
    "    \n",
    "    # Set data filepath\n",
    "    file_path = os.path.join(prep_path, hu2, hu4 + '_prepped.gpkg') # _with_waterbody\n",
    "\n",
    "    ## Read in prepped NHD flowlines\n",
    "    features = ['NHDPlusID', 'GNIS_Name', 'LengthKM', 'WidthM', 'Bin', 'geometry']\n",
    "    basin = gpd.read_file(filename=file_path, columns=features, engine='pyogrio')\n",
    "    \n",
    "    # Make geometry 2D LineStrings\n",
    "    basin['geometry'] = basin.geometry.explode().force_2d()\n",
    "    return basin"
   ]
  },
  {
   "cell_type": "code",
   "execution_count": 3,
   "id": "8969881f-be5b-4c35-a235-eccb3ea618d6",
   "metadata": {},
   "outputs": [],
   "source": [
    "def cut(line, distance):\n",
    "    # Cuts a line in two at a distance from its starting point\n",
    "    # Returns the trimmed piece and the remainder of the linestring\n",
    "    if distance <= 0.0 or distance >= line.length:\n",
    "        return [LineString(line)]\n",
    "    coords = list(line.coords)\n",
    "    for i, p in enumerate(coords):\n",
    "        pd = line.project(Point(p))\n",
    "        if pd == distance:\n",
    "            return [\n",
    "                LineString(coords[:i+1]),\n",
    "                LineString(coords[i:])]\n",
    "        if pd > distance:\n",
    "            cp = line.interpolate(distance)\n",
    "            return [\n",
    "                LineString(coords[:i] + [(cp.x, cp.y)]),\n",
    "                LineString([(cp.x, cp.y)] + coords[i:])]"
   ]
  },
  {
   "cell_type": "code",
   "execution_count": 4,
   "id": "4a172185-cc0c-43f8-a3d9-287226cac381",
   "metadata": {},
   "outputs": [],
   "source": [
    "def bitwiseMask(ds):\n",
    "    # Fow now, remove pixels with land classification and\n",
    "    # geolocation_qual very not good\n",
    "    # See page 65 of PIXC PDD: https://podaac.jpl.nasa.gov/SWOT?tab=datasets-information&sections=about%2Bdata\n",
    "    mask = np.where(np.logical_and(ds.classification > 1, ds.geolocation_qual < 2**12))[0]\n",
    "    print(mask.shape)\n",
    "    return mask"
   ]
  },
  {
   "cell_type": "code",
   "execution_count": 5,
   "id": "824c9e85-9e80-4ef1-9c05-0aa139ea879b",
   "metadata": {},
   "outputs": [],
   "source": [
    "def makeGDF(ds, mask, data_var):\n",
    "    # This function takes the pixel cloud, makes a GeoDataFrame,\n",
    "    # renames columns as needed, projects the CRS, and returns\n",
    "    # the GDF \n",
    "\n",
    "    # Create GDF\n",
    "    gdf_PIXC = gpd.GeoDataFrame(ds[data_var][mask],\n",
    "                                geometry=gpd.points_from_xy(\n",
    "                                    ds.longitude[mask],\n",
    "                                    ds.latitude[mask]),\n",
    "                                crs=\"EPSG:4326\") # PIXC has no native CRS, setting same as River_SP\n",
    "\n",
    "    if data_var == 'classification':\n",
    "        gdf_PIXC.rename(columns={gdf_PIXC.columns[0]: 'klass'}, inplace=True)\n",
    "    else:\n",
    "        gdf_PIXC.rename(columns={gdf_PIXC.columns[0]: data_var}, inplace=True)\n",
    "    \n",
    "    # Convert the crs to WGS 84 / Pseudo-Mercator\n",
    "    gdf_PIXC = gdf_PIXC.to_crs(epsg=3857)\n",
    "    return gdf_PIXC"
   ]
  },
  {
   "cell_type": "code",
   "execution_count": 6,
   "id": "13c5b079-0160-42fd-b3ea-b634fec40811",
   "metadata": {},
   "outputs": [],
   "source": [
    "def segmentReach(reach):\n",
    "    \n",
    "    # For loop version\n",
    "    # Get Geometry\n",
    "    # gs = reach.geometry\n",
    "    # Extract linestring from GeoSeries\n",
    "    # line = gs[reach.index[0]]\n",
    "    \n",
    "    # For apply version\n",
    "    # Get linestring\n",
    "    line = reach.geometry\n",
    "    \n",
    "    # Find length of segments\n",
    "    dist = line.length/10\n",
    "    # print(dist)\n",
    "    \n",
    "    # Make empty list for segments\n",
    "    segments = []\n",
    "    \n",
    "#     # Segment the reach\n",
    "#     for i in range(10):\n",
    "#         # Chop the reach, store remainder\n",
    "#         new, line = cut(line=line, distance=dist)\n",
    "\n",
    "#         # Append new segment to GeoSeries of all segments\n",
    "#         segments.append(new)\n",
    "\n",
    "    # Segment the reach\n",
    "    for i in range(9):\n",
    "        # Chop the reach, store remainder\n",
    "        new, line = cut(line=line, distance=dist)\n",
    "        # Append new segment to GeoSeries of all segments\n",
    "        segments.append(new)\n",
    "    \n",
    "    # Append final segment to list\n",
    "    segments.append(line)\n",
    "    \n",
    "    # Check the remainder to ensure we got the entire reach\n",
    "    # assert line.length < 1e-8\n",
    "    del new, line, dist\n",
    "    \n",
    "    # Make dict for constructing new GeoDataFrame\n",
    "    d = {}\n",
    "    for i in range(reach.shape[0]):\n",
    "        d[reach.iloc[i].name] = reach.iloc[i]\n",
    "    # Rename geometry for full reach\n",
    "    d['geometry_full'] = d['geometry']\n",
    "    \n",
    "    # Make GeoDataFrame with new reach segments\n",
    "    reach_cut = gpd.GeoDataFrame(data=d, index=range(len(segments)),\n",
    "                                 geometry=segments, crs=reach.crs)\n",
    "    \n",
    "    return reach_cut"
   ]
  },
  {
   "cell_type": "code",
   "execution_count": 7,
   "id": "682d2398-facd-46ea-8fa6-aa4c5cd44057",
   "metadata": {},
   "outputs": [],
   "source": [
    "def getCoverage(gdf_PIXC, reach_cut):\n",
    "    ###\n",
    "    \n",
    "    # Buffer the reach segments by 1/2 the calculated width\n",
    "    # CITE BEIGER\n",
    "    reach_cut['geometry'] = reach_cut.geometry.buffer(distance=(reach_cut.WidthM/2)[0], cap_style='flat')\n",
    "    \n",
    "    # Get pixels in reach\n",
    "    inside = gpd.sjoin(gdf_PIXC, reach_cut, how='inner', predicate='within').rename(columns={'index_right': 'segment'})\n",
    "\n",
    "    if inside.empty:\n",
    "        prop = 0\n",
    "    else:    \n",
    "        # Get number of pixels in each reach segment\n",
    "        counts = pd.DataFrame(inside.segment.value_counts().reset_index().sort_index())\n",
    "        # print(counts)\n",
    "        # Calculate coverage\n",
    "        prop = len(counts.loc[counts['count'] != 0])/10\n",
    "        # print(prop)\n",
    "    return prop"
   ]
  },
  {
   "cell_type": "markdown",
   "id": "c6796246-24bc-48d8-8ab6-98b1f0a56195",
   "metadata": {},
   "source": [
    "#### Read in and prep NHD"
   ]
  },
  {
   "cell_type": "code",
   "execution_count": 8,
   "id": "4c0fe8ef-53b5-4b26-ad27-0bbf6bef4579",
   "metadata": {},
   "outputs": [],
   "source": [
    "# Set slurm job index\n",
    "i = 4 # HUC4 0108, Connecticut\n",
    "# i = 109 # HUC4 1711, Snoqualmie"
   ]
  },
  {
   "cell_type": "code",
   "execution_count": 9,
   "id": "8fe3783c-ed93-4204-8fdc-3d8853097f15",
   "metadata": {},
   "outputs": [],
   "source": [
    "# Read prepped NHD\n",
    "basin = readNHD(index=i)"
   ]
  },
  {
   "cell_type": "markdown",
   "id": "9898ab3d-28c0-4f80-8704-ee961d67aacb",
   "metadata": {
    "tags": []
   },
   "source": [
    "#### Read in and prep PIXC"
   ]
  },
  {
   "cell_type": "code",
   "execution_count": 10,
   "id": "6ad39ccc-23f0-47b9-9857-a2ae24e6325c",
   "metadata": {},
   "outputs": [],
   "source": [
    "# pixc_path = '../data/small_rivers/mar_2024_ver_c/SWOT_L2_HR_PIXC_011_345_239R_20240227T044209_20240227T044220_PIC0_01.nc'\n",
    "pixc_path = '../data/small_rivers/mar_2024_ver_c/leaf_off/SWOT_L2_HR_PIXC_014_341_229R_20240429T152954_20240429T153005_PIC0_01.nc'"
   ]
  },
  {
   "cell_type": "code",
   "execution_count": 11,
   "id": "fbe6ae0d-134b-4367-85e1-5e7f0e8fc75f",
   "metadata": {},
   "outputs": [
    {
     "data": {
      "text/plain": [
       "'SWOT_L2_HR_PIXC_014_341_229R_20240429T152954_20240429T153005_PIC0_01'"
      ]
     },
     "execution_count": 11,
     "metadata": {},
     "output_type": "execute_result"
    }
   ],
   "source": [
    "tile_name = pixc_path[-71:-3]\n",
    "tile_name"
   ]
  },
  {
   "cell_type": "code",
   "execution_count": 12,
   "id": "6f7ebefe-91f1-4ab8-9e69-2cbfc862ea04",
   "metadata": {},
   "outputs": [],
   "source": [
    "# Read in xarray\n",
    "ds_PIXC = xr.open_mfdataset(paths=pixc_path, group='pixel_cloud', engine='h5netcdf')"
   ]
  },
  {
   "cell_type": "code",
   "execution_count": 13,
   "id": "90526721-9af8-4288-b061-7e36f212bbeb",
   "metadata": {},
   "outputs": [],
   "source": [
    "# # Make dict for legend labels\n",
    "# flags = ds_PIXC.classification.flag_meanings.split() # extract each flag meaning\n",
    "# codes = {idx:k for idx, k in enumerate(flags, start=1)}"
   ]
  },
  {
   "cell_type": "code",
   "execution_count": 14,
   "id": "aaf30073-9a40-4444-9677-edd3526b0da4",
   "metadata": {},
   "outputs": [],
   "source": [
    "# counts = pd.DataFrame(ds_PIXC.geolocation_qual).value_counts().sort_index()\n",
    "# counts"
   ]
  },
  {
   "cell_type": "code",
   "execution_count": 15,
   "id": "4a852a2b-94f3-47f8-b703-efe437c79ef2",
   "metadata": {},
   "outputs": [
    {
     "name": "stdout",
     "output_type": "stream",
     "text": [
      "(1552029,)\n"
     ]
    }
   ],
   "source": [
    "# Make mask\n",
    "mask = bitwiseMask(ds=ds_PIXC)\n",
    "\n",
    "# # If dataframe not empty after filtering\n",
    "# if mask.shape != (0,):\n",
    "#     # Make PIXC\n",
    "gdf_PIXC = makeGDF(ds=ds_PIXC, mask=mask, data_var='classification')\n",
    "    # # Append to list\n",
    "    # d.append(gdf_PIXC)"
   ]
  },
  {
   "cell_type": "markdown",
   "id": "4ed0d8e8-e21c-4156-a39e-9a6c153bd1e1",
   "metadata": {
    "tags": []
   },
   "source": [
    "#### Get bounds of PIXC and crop basin to it"
   ]
  },
  {
   "cell_type": "code",
   "execution_count": 16,
   "id": "1389dcfb-f5e8-4422-994d-c29aca023162",
   "metadata": {},
   "outputs": [],
   "source": [
    "# Get bounds of PIXC, construct polygon\n",
    "bounds_PIXC = gdf_PIXC.total_bounds\n",
    "poly = box(bounds_PIXC[0], bounds_PIXC[1], bounds_PIXC[2], bounds_PIXC[3])"
   ]
  },
  {
   "cell_type": "code",
   "execution_count": 17,
   "id": "d0102301-e1c6-4390-a24b-660dedfad417",
   "metadata": {},
   "outputs": [],
   "source": [
    "crop_basin = basin.clip(poly)"
   ]
  },
  {
   "cell_type": "code",
   "execution_count": 18,
   "id": "0df8bcb2-d982-4681-9ebf-5e22ae89c6a5",
   "metadata": {},
   "outputs": [
    {
     "data": {
      "text/plain": [
       "['(0, 10]',\n",
       " '(10, 20]',\n",
       " '(150, 200]',\n",
       " '(20, 30]',\n",
       " '(200, 500]',\n",
       " '(30, 40]',\n",
       " '(40, 50]',\n",
       " '(50, 60]',\n",
       " '(60, 70]']"
      ]
     },
     "execution_count": 18,
     "metadata": {},
     "output_type": "execute_result"
    }
   ],
   "source": [
    "# Find width bins present in cropped hydrography\n",
    "bins = list(np.unique(crop_basin.Bin))\n",
    "bins"
   ]
  },
  {
   "cell_type": "code",
   "execution_count": 19,
   "id": "970bd06d-2540-4f22-a8c4-b6aed1f339cd",
   "metadata": {},
   "outputs": [],
   "source": [
    "# Order of all possible bins\n",
    "order = ['(0, 10]', '(10, 20]', '(20, 30]', '(30, 40]', '(40, 50]',\n",
    "         '(50, 60]', '(60, 70]', '(70, 80]', '(80, 90]', '(90, 100]',\n",
    "         '(100, 150]', '(150, 200]']"
   ]
  },
  {
   "cell_type": "code",
   "execution_count": 20,
   "id": "a0230074-1f00-4ff2-aa65-dd11c79cacff",
   "metadata": {},
   "outputs": [
    {
     "data": {
      "text/plain": [
       "['(0, 10]',\n",
       " '(10, 20]',\n",
       " '(20, 30]',\n",
       " '(30, 40]',\n",
       " '(40, 50]',\n",
       " '(50, 60]',\n",
       " '(60, 70]',\n",
       " '(150, 200]']"
      ]
     },
     "execution_count": 20,
     "metadata": {},
     "output_type": "execute_result"
    }
   ],
   "source": [
    "# Make sorted list of bins present\n",
    "ordered = []\n",
    "for binn in order:\n",
    "    if binn in bins:\n",
    "        ordered.append(binn)\n",
    "ordered"
   ]
  },
  {
   "cell_type": "code",
   "execution_count": 21,
   "id": "42eb39e4-b476-4cdc-a5c0-8934cd6b80bc",
   "metadata": {},
   "outputs": [],
   "source": [
    "# crop_basin.plot()"
   ]
  },
  {
   "cell_type": "markdown",
   "id": "497683e8-c239-407e-925b-09bff6fdd308",
   "metadata": {
    "tags": []
   },
   "source": [
    "#### Segment reach, calculates coverage functions"
   ]
  },
  {
   "cell_type": "code",
   "execution_count": 22,
   "id": "5b645baa-cdeb-43d4-8069-7d760f07bdee",
   "metadata": {},
   "outputs": [],
   "source": [
    "# # Initialize lists\n",
    "# coverage = {}\n",
    "\n",
    "# for binn in ordered:\n",
    "#     reach = crop_basin.loc[crop_basin['Bin'] == binn].sample(n=1)\n",
    "#     # '{}'.format(reach.NHDPlusID)\n",
    "#     # # break\n",
    "#     # reach_bins.append(reach.iloc[0,0])\n",
    "    \n",
    "#     # Get reach segments\n",
    "#     reach_cut = segmentReach(reach)\n",
    "    \n",
    "#     # Get coverage for reach\n",
    "#     prop = getCoverage(gdf_PIXC, reach_cut)\n",
    "    \n",
    "#     coverage[binn] = prop*100"
   ]
  },
  {
   "cell_type": "code",
   "execution_count": 27,
   "id": "0c4f5370-a78b-4b5c-84d7-c0369c3b2c9c",
   "metadata": {},
   "outputs": [
    {
     "data": {
      "text/plain": [
       "Bin                                                    (0, 10]\n",
       "GNIS_Name                                                 None\n",
       "LengthKM                                                  0.39\n",
       "NHDPlusID                                     10000900013415.0\n",
       "WidthM                                                1.783037\n",
       "geometry     LINESTRING (-8114805.784991784 5153293.1137269...\n",
       "Name: 10037, dtype: object"
      ]
     },
     "execution_count": 27,
     "metadata": {},
     "output_type": "execute_result"
    }
   ],
   "source": [
    "t = crop_basin.iloc[0,:]\n",
    "t"
   ]
  },
  {
   "cell_type": "code",
   "execution_count": 28,
   "id": "ab73174f-5b32-4dc4-9c73-4f6bf283838d",
   "metadata": {},
   "outputs": [],
   "source": [
    "# Get Geometry\n",
    "gs = gpd.GeoSeries(t['geometry'])"
   ]
  },
  {
   "cell_type": "code",
   "execution_count": 38,
   "id": "28d36a9b-124b-4001-8f0b-6b53fcb6d0ac",
   "metadata": {},
   "outputs": [],
   "source": [
    "line = gs.geometry[0]"
   ]
  },
  {
   "cell_type": "code",
   "execution_count": 39,
   "id": "c4785183-c293-4cf8-943e-87704b385bc0",
   "metadata": {},
   "outputs": [
    {
     "data": {
      "image/svg+xml": [
       "<svg xmlns=\"http://www.w3.org/2000/svg\" xmlns:xlink=\"http://www.w3.org/1999/xlink\" width=\"300\" height=\"300\" viewBox=\"-8115157.273281383 5153278.648903031 365.9531135344878 390.5502462554723\" preserveAspectRatio=\"xMinYMin meet\"><g transform=\"matrix(1,0,0,-1,0,10306947.848052317)\"><polyline fill=\"none\" stroke=\"#66cc99\" stroke-width=\"2.6036683083698153\" points=\"-8114805.784991784,5153293.113726966 -8114811.50681358,5153302.962314236 -8114840.138186339,5153335.8309362745 -8114858.127415917,5153362.123914142 -8114898.202432199,5153404.0531448 -8114933.394233485,5153432.0127297565 -8114971.851406442,5153458.305996487 -8115029.128994327,5153481.346369105 -8115048.773173501,5153483.811079264 -8115056.1351024015,5153488.740464577 -8115065.938638804,5153501.073907548 -8115075.757017847,5153521.619695208 -8115078.198625491,5153556.12552583 -8115083.081840616,5153594.722712866 -8115087.994740769,5153602.1368279075 -8115133.799000122,5153652.259604596 -8115142.808457448,5153654.734325351\" opacity=\"0.8\" /></g></svg>"
      ],
      "text/plain": [
       "<LINESTRING (-8114805.785 5153293.114, -8114811.507 5153302.962, -8114840.13...>"
      ]
     },
     "execution_count": 39,
     "metadata": {},
     "output_type": "execute_result"
    }
   ],
   "source": [
    "line"
   ]
  },
  {
   "cell_type": "code",
   "execution_count": null,
   "id": "bd05a9c9-6a90-4fa8-b670-56729a2eba9f",
   "metadata": {},
   "outputs": [],
   "source": [
    "def cut(line, distance):\n",
    "    # Cuts a line in two at a distance from its starting point\n",
    "    # Returns the trimmed piece and the remainder of the linestring\n",
    "    if distance <= 0.0 or distance >= line.length:\n",
    "        return [LineString(line)]\n",
    "    coords = list(line.coords)\n",
    "    for i, p in enumerate(coords):\n",
    "        pd = line.project(Point(p))\n",
    "        if pd == distance:\n",
    "            return [\n",
    "                LineString(coords[:i+1]),\n",
    "                LineString(coords[i:])]\n",
    "        if pd > distance:\n",
    "            cp = line.interpolate(distance)\n",
    "            return [\n",
    "                LineString(coords[:i] + [(cp.x, cp.y)]),\n",
    "                LineString([(cp.x, cp.y)] + coords[i:])]"
   ]
  },
  {
   "cell_type": "code",
   "execution_count": null,
   "id": "297d634a-eee9-4d82-b21d-92ac77394a3b",
   "metadata": {},
   "outputs": [],
   "source": [
    "distance = "
   ]
  },
  {
   "cell_type": "code",
   "execution_count": null,
   "id": "27ee9990-c20c-401d-a6dc-5b1378285792",
   "metadata": {},
   "outputs": [],
   "source": []
  },
  {
   "cell_type": "code",
   "execution_count": 32,
   "id": "fb65877a-cb86-4b9a-b9e7-87cb734b41ad",
   "metadata": {},
   "outputs": [
    {
     "ename": "KeyError",
     "evalue": "'Bin'",
     "output_type": "error",
     "traceback": [
      "\u001b[0;31m---------------------------------------------------------------------------\u001b[0m",
      "\u001b[0;31mKeyError\u001b[0m                                  Traceback (most recent call last)",
      "Cell \u001b[0;32mIn[32], line 2\u001b[0m\n\u001b[1;32m      1\u001b[0m \u001b[38;5;66;03m# Extract line segment from GeoSeries\u001b[39;00m\n\u001b[0;32m----> 2\u001b[0m line \u001b[38;5;241m=\u001b[39m \u001b[43mgs\u001b[49m\u001b[43m[\u001b[49m\u001b[43mt\u001b[49m\u001b[38;5;241;43m.\u001b[39;49m\u001b[43mindex\u001b[49m\u001b[43m[\u001b[49m\u001b[38;5;241;43m0\u001b[39;49m\u001b[43m]\u001b[49m\u001b[43m]\u001b[49m\n",
      "File \u001b[0;32m/work/pi_cjgleason_umass_edu/.conda/envs/narrowPIXC/lib/python3.12/site-packages/geopandas/geoseries.py:727\u001b[0m, in \u001b[0;36mGeoSeries.__getitem__\u001b[0;34m(self, key)\u001b[0m\n\u001b[1;32m    726\u001b[0m \u001b[38;5;28;01mdef\u001b[39;00m \u001b[38;5;21m__getitem__\u001b[39m(\u001b[38;5;28mself\u001b[39m, key):\n\u001b[0;32m--> 727\u001b[0m     \u001b[38;5;28;01mreturn\u001b[39;00m \u001b[38;5;28;43mself\u001b[39;49m\u001b[38;5;241;43m.\u001b[39;49m\u001b[43m_wrapped_pandas_method\u001b[49m\u001b[43m(\u001b[49m\u001b[38;5;124;43m\"\u001b[39;49m\u001b[38;5;124;43m__getitem__\u001b[39;49m\u001b[38;5;124;43m\"\u001b[39;49m\u001b[43m,\u001b[49m\u001b[43m \u001b[49m\u001b[43mkey\u001b[49m\u001b[43m)\u001b[49m\n",
      "File \u001b[0;32m/work/pi_cjgleason_umass_edu/.conda/envs/narrowPIXC/lib/python3.12/site-packages/geopandas/geoseries.py:720\u001b[0m, in \u001b[0;36mGeoSeries._wrapped_pandas_method\u001b[0;34m(self, mtd, *args, **kwargs)\u001b[0m\n\u001b[1;32m    718\u001b[0m \u001b[38;5;28;01mdef\u001b[39;00m \u001b[38;5;21m_wrapped_pandas_method\u001b[39m(\u001b[38;5;28mself\u001b[39m, mtd, \u001b[38;5;241m*\u001b[39margs, \u001b[38;5;241m*\u001b[39m\u001b[38;5;241m*\u001b[39mkwargs):\n\u001b[1;32m    719\u001b[0m \u001b[38;5;250m    \u001b[39m\u001b[38;5;124;03m\"\"\"Wrap a generic pandas method to ensure it returns a GeoSeries\"\"\"\u001b[39;00m\n\u001b[0;32m--> 720\u001b[0m     val \u001b[38;5;241m=\u001b[39m \u001b[38;5;28;43mgetattr\u001b[39;49m\u001b[43m(\u001b[49m\u001b[38;5;28;43msuper\u001b[39;49m\u001b[43m(\u001b[49m\u001b[43m)\u001b[49m\u001b[43m,\u001b[49m\u001b[43m \u001b[49m\u001b[43mmtd\u001b[49m\u001b[43m)\u001b[49m\u001b[43m(\u001b[49m\u001b[38;5;241;43m*\u001b[39;49m\u001b[43margs\u001b[49m\u001b[43m,\u001b[49m\u001b[43m \u001b[49m\u001b[38;5;241;43m*\u001b[39;49m\u001b[38;5;241;43m*\u001b[39;49m\u001b[43mkwargs\u001b[49m\u001b[43m)\u001b[49m\n\u001b[1;32m    721\u001b[0m     \u001b[38;5;28;01mif\u001b[39;00m \u001b[38;5;28mtype\u001b[39m(val) \u001b[38;5;241m==\u001b[39m Series:\n\u001b[1;32m    722\u001b[0m         val\u001b[38;5;241m.\u001b[39m\u001b[38;5;18m__class__\u001b[39m \u001b[38;5;241m=\u001b[39m GeoSeries\n",
      "File \u001b[0;32m/work/pi_cjgleason_umass_edu/.conda/envs/narrowPIXC/lib/python3.12/site-packages/pandas/core/series.py:1121\u001b[0m, in \u001b[0;36mSeries.__getitem__\u001b[0;34m(self, key)\u001b[0m\n\u001b[1;32m   1118\u001b[0m     \u001b[38;5;28;01mreturn\u001b[39;00m \u001b[38;5;28mself\u001b[39m\u001b[38;5;241m.\u001b[39m_values[key]\n\u001b[1;32m   1120\u001b[0m \u001b[38;5;28;01melif\u001b[39;00m key_is_scalar:\n\u001b[0;32m-> 1121\u001b[0m     \u001b[38;5;28;01mreturn\u001b[39;00m \u001b[38;5;28;43mself\u001b[39;49m\u001b[38;5;241;43m.\u001b[39;49m\u001b[43m_get_value\u001b[49m\u001b[43m(\u001b[49m\u001b[43mkey\u001b[49m\u001b[43m)\u001b[49m\n\u001b[1;32m   1123\u001b[0m \u001b[38;5;66;03m# Convert generator to list before going through hashable part\u001b[39;00m\n\u001b[1;32m   1124\u001b[0m \u001b[38;5;66;03m# (We will iterate through the generator there to check for slices)\u001b[39;00m\n\u001b[1;32m   1125\u001b[0m \u001b[38;5;28;01mif\u001b[39;00m is_iterator(key):\n",
      "File \u001b[0;32m/work/pi_cjgleason_umass_edu/.conda/envs/narrowPIXC/lib/python3.12/site-packages/pandas/core/series.py:1237\u001b[0m, in \u001b[0;36mSeries._get_value\u001b[0;34m(self, label, takeable)\u001b[0m\n\u001b[1;32m   1234\u001b[0m     \u001b[38;5;28;01mreturn\u001b[39;00m \u001b[38;5;28mself\u001b[39m\u001b[38;5;241m.\u001b[39m_values[label]\n\u001b[1;32m   1236\u001b[0m \u001b[38;5;66;03m# Similar to Index.get_value, but we do not fall back to positional\u001b[39;00m\n\u001b[0;32m-> 1237\u001b[0m loc \u001b[38;5;241m=\u001b[39m \u001b[38;5;28;43mself\u001b[39;49m\u001b[38;5;241;43m.\u001b[39;49m\u001b[43mindex\u001b[49m\u001b[38;5;241;43m.\u001b[39;49m\u001b[43mget_loc\u001b[49m\u001b[43m(\u001b[49m\u001b[43mlabel\u001b[49m\u001b[43m)\u001b[49m\n\u001b[1;32m   1239\u001b[0m \u001b[38;5;28;01mif\u001b[39;00m is_integer(loc):\n\u001b[1;32m   1240\u001b[0m     \u001b[38;5;28;01mreturn\u001b[39;00m \u001b[38;5;28mself\u001b[39m\u001b[38;5;241m.\u001b[39m_values[loc]\n",
      "File \u001b[0;32m/work/pi_cjgleason_umass_edu/.conda/envs/narrowPIXC/lib/python3.12/site-packages/pandas/core/indexes/range.py:417\u001b[0m, in \u001b[0;36mRangeIndex.get_loc\u001b[0;34m(self, key)\u001b[0m\n\u001b[1;32m    415\u001b[0m         \u001b[38;5;28;01mraise\u001b[39;00m \u001b[38;5;167;01mKeyError\u001b[39;00m(key) \u001b[38;5;28;01mfrom\u001b[39;00m \u001b[38;5;21;01merr\u001b[39;00m\n\u001b[1;32m    416\u001b[0m \u001b[38;5;28;01mif\u001b[39;00m \u001b[38;5;28misinstance\u001b[39m(key, Hashable):\n\u001b[0;32m--> 417\u001b[0m     \u001b[38;5;28;01mraise\u001b[39;00m \u001b[38;5;167;01mKeyError\u001b[39;00m(key)\n\u001b[1;32m    418\u001b[0m \u001b[38;5;28mself\u001b[39m\u001b[38;5;241m.\u001b[39m_check_indexing_error(key)\n\u001b[1;32m    419\u001b[0m \u001b[38;5;28;01mraise\u001b[39;00m \u001b[38;5;167;01mKeyError\u001b[39;00m(key)\n",
      "\u001b[0;31mKeyError\u001b[0m: 'Bin'"
     ]
    }
   ],
   "source": [
    "# Extract line segment from GeoSeries\n",
    "line = gs[t.index[0]]"
   ]
  },
  {
   "cell_type": "code",
   "execution_count": null,
   "id": "5a4cc51b-81ea-4088-972f-7b525128a3a5",
   "metadata": {},
   "outputs": [],
   "source": [
    "# Try with apply()\n",
    "reach_cut = crop_basin.apply(segmentReach, axis=1)"
   ]
  },
  {
   "cell_type": "code",
   "execution_count": 84,
   "id": "b64d7c14-ab08-4307-a90c-7373bbc27c76",
   "metadata": {},
   "outputs": [
    {
     "data": {
      "text/plain": [
       "{'(0, 10]': 10.0,\n",
       " '(10, 20]': 0,\n",
       " '(20, 30]': 0,\n",
       " '(30, 40]': 90.0,\n",
       " '(40, 50]': 0,\n",
       " '(50, 60]': 0,\n",
       " '(60, 70]': 100.0,\n",
       " '(150, 200]': 100.0}"
      ]
     },
     "execution_count": 84,
     "metadata": {},
     "output_type": "execute_result"
    }
   ],
   "source": [
    "coverage"
   ]
  },
  {
   "cell_type": "code",
   "execution_count": 85,
   "id": "816b0edb-c5a2-4ddf-8f21-72bb7c3ca97d",
   "metadata": {},
   "outputs": [
    {
     "data": {
      "image/png": "[encoded data removed]",
      "text/plain": [
       "<Figure size 640x480 with 1 Axes>"
      ]
     },
     "metadata": {},
     "output_type": "display_data"
    }
   ],
   "source": [
    "# plt.scatter(x=ordered, y=coverage, c='k')\n",
    "plt.scatter(x=coverage.keys(), y=coverage.values(), c='k')\n",
    "plt.title('Percent of reach detected in HUC4 0108 by \\n'\n",
    "          + tile_name)\n",
    "plt.xticks(rotation=-45);\n",
    "plt.xlabel('Bankfull Width (m)')\n",
    "plt.ylabel('Percent Detected')\n",
    "plt.savefig(fname='./figures_for_unit_test/one_tile_one_reach_per_bin.png', bbox_inches='tight')"
   ]
  },
  {
   "cell_type": "code",
   "execution_count": null,
   "id": "8adc9279-d039-45e3-8b3b-8b1309227dc4",
   "metadata": {},
   "outputs": [],
   "source": []
  },
  {
   "cell_type": "markdown",
   "id": "531438f8-c52e-45f7-92a8-bf1389ec0099",
   "metadata": {
    "tags": []
   },
   "source": [
    "#### TESTING"
   ]
  },
  {
   "cell_type": "code",
   "execution_count": 23,
   "id": "429a6416-0564-4abd-b4c6-b4bb569996ee",
   "metadata": {},
   "outputs": [],
   "source": [
    "# Initialize lists\n",
    "coverage = []\n",
    "reach_bins = []"
   ]
  },
  {
   "cell_type": "code",
   "execution_count": 24,
   "id": "54374420-d521-4448-a0ce-1fb1baec267b",
   "metadata": {},
   "outputs": [
    {
     "data": {
      "text/plain": [
       "'(60, 70]'"
      ]
     },
     "execution_count": 24,
     "metadata": {},
     "output_type": "execute_result"
    }
   ],
   "source": [
    "binn = bins[8]\n",
    "binn"
   ]
  },
  {
   "cell_type": "code",
   "execution_count": 25,
   "id": "d31a77af-3b14-4bd8-aa66-84c66379ffb1",
   "metadata": {},
   "outputs": [],
   "source": [
    "reach = crop_basin.loc[crop_basin['Bin'] == binn].sample(n=1)"
   ]
  },
  {
   "cell_type": "code",
   "execution_count": 26,
   "id": "1e849586-b95f-4aa6-923f-fd00b0b7b7b1",
   "metadata": {},
   "outputs": [
    {
     "data": {
      "text/html": [
       "<div>\n",
       "<style scoped>\n",
       "    .dataframe tbody tr th:only-of-type {\n",
       "        vertical-align: middle;\n",
       "    }\n",
       "\n",
       "    .dataframe tbody tr th {\n",
       "        vertical-align: top;\n",
       "    }\n",
       "\n",
       "    .dataframe thead th {\n",
       "        text-align: right;\n",
       "    }\n",
       "</style>\n",
       "<table border=\"1\" class=\"dataframe\">\n",
       "  <thead>\n",
       "    <tr style=\"text-align: right;\">\n",
       "      <th></th>\n",
       "      <th>Bin</th>\n",
       "      <th>GNIS_Name</th>\n",
       "      <th>LengthKM</th>\n",
       "      <th>NHDPlusID</th>\n",
       "      <th>WidthM</th>\n",
       "      <th>geometry</th>\n",
       "    </tr>\n",
       "  </thead>\n",
       "  <tbody>\n",
       "    <tr>\n",
       "      <th>14523</th>\n",
       "      <td>(60, 70]</td>\n",
       "      <td>Deerfield River</td>\n",
       "      <td>0.866</td>\n",
       "      <td>1.000090e+13</td>\n",
       "      <td>68.229946</td>\n",
       "      <td>LINESTRING (-8082114.248 5247021.194, -8082109...</td>\n",
       "    </tr>\n",
       "  </tbody>\n",
       "</table>\n",
       "</div>"
      ],
      "text/plain": [
       "            Bin        GNIS_Name  LengthKM     NHDPlusID     WidthM  \\\n",
       "14523  (60, 70]  Deerfield River     0.866  1.000090e+13  68.229946   \n",
       "\n",
       "                                                geometry  \n",
       "14523  LINESTRING (-8082114.248 5247021.194, -8082109...  "
      ]
     },
     "execution_count": 26,
     "metadata": {},
     "output_type": "execute_result"
    }
   ],
   "source": [
    "reach"
   ]
  },
  {
   "cell_type": "code",
   "execution_count": 27,
   "id": "1468c2fd-8f6d-4cd5-9526-84621d6ba674",
   "metadata": {},
   "outputs": [
    {
     "data": {
      "text/plain": [
       "<Axes: >"
      ]
     },
     "execution_count": 27,
     "metadata": {},
     "output_type": "execute_result"
    },
    {
     "data": {
      "image/png": "[encoded data removed]",
      "text/plain": [
       "<Figure size 640x480 with 1 Axes>"
      ]
     },
     "metadata": {},
     "output_type": "display_data"
    }
   ],
   "source": [
    "reach.plot()"
   ]
  },
  {
   "cell_type": "code",
   "execution_count": 28,
   "id": "e0feeade-ebcf-428f-98fd-13f57b8669ec",
   "metadata": {},
   "outputs": [],
   "source": [
    "reach_bins.append(reach.iloc[0,0])"
   ]
  },
  {
   "cell_type": "code",
   "execution_count": 29,
   "id": "7dde349c-9286-42ba-a2db-2041bf280022",
   "metadata": {},
   "outputs": [
    {
     "data": {
      "text/plain": [
       "['(60, 70]']"
      ]
     },
     "execution_count": 29,
     "metadata": {},
     "output_type": "execute_result"
    }
   ],
   "source": [
    "reach_bins"
   ]
  },
  {
   "cell_type": "code",
   "execution_count": 30,
   "id": "4de81700-4bed-4566-ab01-33222ec33b82",
   "metadata": {},
   "outputs": [
    {
     "data": {
      "text/plain": [
       "<Axes: >"
      ]
     },
     "execution_count": 30,
     "metadata": {},
     "output_type": "execute_result"
    },
    {
     "data": {
      "image/png": "[encoded data removed]",
      "text/plain": [
       "<Figure size 640x480 with 1 Axes>"
      ]
     },
     "metadata": {},
     "output_type": "display_data"
    }
   ],
   "source": [
    "# Convert MultiLineString Z to LineString (returns GeoSeries)\n",
    "gs = reach.geometry\n",
    "gs.plot()"
   ]
  },
  {
   "cell_type": "code",
   "execution_count": 31,
   "id": "5d52ca36-3d71-4ec1-84b5-bfd4d3faa15c",
   "metadata": {},
   "outputs": [
    {
     "data": {
      "image/svg+xml": [
       "<svg xmlns=\"http://www.w3.org/2000/svg\" xmlns:xlink=\"http://www.w3.org/1999/xlink\" width=\"300\" height=\"300\" viewBox=\"-8082147.177449034 5246165.017155954 806.5945621244609 889.1069763796404\" preserveAspectRatio=\"xMinYMin meet\"><g transform=\"matrix(1,0,0,-1,0,10493219.141288288)\"><polyline fill=\"none\" stroke=\"#66cc99\" stroke-width=\"5.927379842530936\" points=\"-8082114.24756102,5247021.19424432 -8082109.535034693,5247016.32686279 -8082104.785401822,5247011.459483817 -8082099.983819808,5247006.582030034 -8082095.189659002,5247001.80535265 -8082090.358391742,5246996.937981273 -8082085.527124421,5246992.141154056 -8082080.6810144745,5246987.354406677 -8082075.849747143,5246982.577739072 -8082071.055586462,5246977.71037756 -8082066.254004493,5246972.82286385 -8082061.548899538,5246967.955507264 -8082056.836373275,5246963.088153186 -8082052.220324141,5246958.130105408 -8082047.633960344,5246953.08136417 -8082043.136652266,5246948.032625515 -8082038.728399982,5246942.913348172 -8082034.394360813,5246937.773918857 -8082030.156798859,5246932.463177865 -8082026.082505794,5246927.081898486 -8082022.171481735,5246921.519230497 -8082018.401462651,5246915.865869935 -8082014.750184624,5246910.121816983 -8082011.187962385,5246904.307226424 -8082007.744481211,5246898.391866503 -8082004.382634516,5246892.405969285 -8082001.124686172,5246886.409998461 -8081997.896423083,5246880.403954153 -8081994.712687841,5246874.407990869 -8081991.603165777,5246868.331413322 -8081988.590120675,5246862.325380244 -8081985.962984022,5246855.976724556 -8081983.699491599,5246849.557532093 -8081981.829328791,5246842.936799095 -8081980.24859704,5246836.32614759 -8081978.93503253,5246829.614728323 -8081977.732787637,5246822.9234680785 -8081976.5899132425,5246816.212058132 -8081975.521251931,5246809.510730046 -8081974.497118491,5246802.79932949 -8081973.517512981,5246796.017393469 -8081972.567592631,5246789.306002423 -8081971.632514994,5246782.513998899 -8081970.690016057,5246775.711923122 -8081969.7994661685,5246769.020700732 -8081968.849545927,5246762.2186346995 -8081967.8699403405,5246755.517344869 -8081966.845807007,5246748.715288672 -8081965.777145702,5246742.024085667 -8081964.619428715,5246735.312733314 -8081963.432026394,5246728.692079646 -8081962.148147137,5246721.99081403 -8081960.745526854,5246715.370169998 -8081959.209322986,5246708.769684929 -8081957.339160135,5246702.23974439 -8081955.09051043,5246695.8005024195 -8081952.545008256,5246689.451958714 -8081949.739760179,5246683.194113056 -8081946.719293937,5246677.117658575 -8081943.535558926,5246671.021054154 -8081940.218240151,5246665.115917384 -8081936.70054585,5246659.382093965 -8081932.885999104,5246653.728890546 -8081928.885919434,5246648.25707695 -8081924.767098832,5246642.785266686 -8081920.618592912,5246637.394075619 -8081916.455244382,5246631.99281066 -8081911.876303458,5246625.765236332 -8081910.555317713,5246619.074120873 -8081909.486656682,5246612.191547354 -8081908.373467713,5246605.389594636 -8081906.926319714,5246598.698493795 -8081904.796410922,5246592.350014907 -8081901.746259441,5246586.344157595 -8081898.555102988,5246580.4390736725 -8081895.289733552,5246574.433224215 -8081891.972414856,5246568.528147909 -8081888.625411014,5246562.54245997 -8081885.226457934,5246556.627314298 -8081881.790398311,5246550.722249286 -8081878.228176444,5246544.807111223 -8081874.65111186,5246538.992745841 -8081870.999834208,5246533.158230358 -8081867.274343367,5246527.424487388 -8081863.45237543,5246521.7713630395 -8081859.548772996,5246516.2089340165 -8081855.548693547,5246510.646508386 -8081851.489243442,5246505.265469567 -8081847.281367168,5246499.874357154 -8081842.991856324,5246494.654554317 -8081838.583604345,5246489.606060827 -8081834.086296669,5246484.55757015 -8081829.455405243,5246479.6904653 -8081824.757722037,5246474.823363045 -8081819.919033781,5246470.127569431 -8081815.043239001,5246465.421701391 -8081810.033860552,5246460.816603972 -8081804.987375488,5246456.282046483 -8081799.859256023,5246451.757568081 -8081794.679187311,5246447.313706283 -8081789.469433373,5246442.869846615 -8081784.207730173,5246438.516680191 -8081778.908920351,5246434.244130079 -8081773.5655826675,5246429.981658732 -8081768.26677284,5246425.719189261 -8081762.923435196,5246421.436568221 -8081757.535569673,5246417.1741027115 -8081752.19223193,5246412.992253155 -8081746.893422048,5246408.800328634 -8081741.550084399,5246404.537868772 -8081736.206746673,5246400.356024811 -8081730.692718654,5246396.345487527 -8081724.963472404,5246392.586870673 -8081719.115484929,5246389.090250542 -8081713.09680706,5246385.855626936 -8081706.951966584,5246382.9535366 -8081700.718069911,5246380.494823168 -8081694.313482691,5246378.439179502 -8081687.790154132,5246376.746298394 -8081681.133241744,5246375.295259022 -8081674.446644018,5246373.934910376 -8081667.745203583,5246372.665252399 -8081661.051184555,5246371.304904128 -8081654.349744312,5246369.863942364 -8081647.9971067505,5246367.385079057 -8081641.5479919715,5246365.087597284 -8081635.024664106,5246362.790116155 -8081628.5013360595,5246360.663939561 -8081621.926058836,5246358.547840208 -8081615.35820303,5246356.34105102 -8081608.834875109,5246354.114108893 -8081602.341232399,5246351.907320647 -8081595.988594863,5246349.428462054 -8081589.717591808,5246346.879067172 -8081583.56533,5246344.067678981 -8081577.628286338,5246341.08498774 -8081571.86193317,5246337.759690118 -8081566.355326125,5246334.162323087 -8081561.101044036,5246330.16189024 -8081556.225249198,5246325.71808526 -8081551.557251415,5246320.921598949 -8081547.141578497,5246315.802661752 -8081542.896596011,5246310.401580904 -8081538.777775854,5246304.929966474 -8081534.703483763,5246299.276975666 -8081530.629191657,5246293.644141514 -8081526.480686383,5246288.081847193 -8081522.280231855,5246282.6102458155 -8081517.909087049,5246277.29987365 -8081513.322723999,5246272.251496596 -8081508.535985309,5246267.475190812 -8081503.571135047,5246262.850036661 -8081498.43559456,5246258.335727528 -8081493.225840816,5246253.982646091 -8081487.882503331,5246249.790792195 -8081482.405582181,5246245.699706139 -8081476.898975709,5246241.689234516 -8081471.295891944,5246237.930679028 -8081465.663122942,5246234.182201648 -8081459.933876949,5246230.413572744 -8081454.130417663,5246226.83640009 -8081448.2304812735,5246223.339841379 -8081442.300859351,5246220.105274392 -8081436.274760329,5246216.951321047 -8081430.129920087,5246214.049282578 -8081423.940551792,5246211.328622864 -8081417.676969924,5246209.031178776 -8081411.227855059,5246206.985648988 -8081404.659998967,5246205.192033233 -8081398.047614718,5246203.660407817 -8081391.390702612,5246202.138859234 -8081384.748633047,5246200.687846611 -8081373.512774923,5246197.947043967\" opacity=\"0.8\" /></g></svg>"
      ],
      "text/plain": [
       "<LINESTRING (-8082114.248 5247021.194, -8082109.535 5247016.327, -8082104.78...>"
      ]
     },
     "execution_count": 31,
     "metadata": {},
     "output_type": "execute_result"
    }
   ],
   "source": [
    "# Extract line segment from GeoSeries\n",
    "line = gs[reach.index[0]]\n",
    "line"
   ]
  },
  {
   "cell_type": "code",
   "execution_count": 32,
   "id": "26683967-01e2-4954-a314-2c1de8640558",
   "metadata": {},
   "outputs": [
    {
     "name": "stdout",
     "output_type": "stream",
     "text": [
      "1176.1985469049528\n"
     ]
    }
   ],
   "source": [
    "print(line.length)"
   ]
  },
  {
   "cell_type": "code",
   "execution_count": 33,
   "id": "9a3eeee8-9a01-4037-9c18-73131cdcb1df",
   "metadata": {},
   "outputs": [
    {
     "name": "stdout",
     "output_type": "stream",
     "text": [
      "117.61985469049527\n"
     ]
    }
   ],
   "source": [
    "# Find length of segments\n",
    "dist = line.length/10\n",
    "print(dist)"
   ]
  },
  {
   "cell_type": "code",
   "execution_count": 34,
   "id": "6b2b012c-5e5d-4287-b4a4-e5357f90b6f3",
   "metadata": {},
   "outputs": [],
   "source": [
    "# Make empty list for segments\n",
    "segments = []"
   ]
  },
  {
   "cell_type": "code",
   "execution_count": 35,
   "id": "046ff56e-f025-4a3e-a9ae-3c160c3e4f61",
   "metadata": {},
   "outputs": [],
   "source": [
    "# Segment the reach\n",
    "for i in range(9):\n",
    "    # Chop the reach, store remainder\n",
    "    new, line = cut(line=line, distance=dist)\n",
    "    # Append new segment to GeoSeries of all segments\n",
    "    segments.append(new)\n",
    "    \n",
    "segments.append(line)"
   ]
  },
  {
   "cell_type": "code",
   "execution_count": 36,
   "id": "e4419a2c-b584-4651-a979-4eb7c5f7fcb5",
   "metadata": {},
   "outputs": [
    {
     "data": {
      "text/plain": [
       "[<LINESTRING (-8082114.248 5247021.194, -8082109.535 5247016.327, -8082104.78...>,\n",
       " <LINESTRING (-8082033.086 5246936.134, -8082030.157 5246932.463, -8082026.08...>,\n",
       " <LINESTRING (-8081979.497 5246832.487, -8081978.935 5246829.615, -8081977.73...>,\n",
       " <LINESTRING (-8081960.956 5246716.363, -8081960.746 5246715.37, -8081959.209...>,\n",
       " <LINESTRING (-8081909.522 5246612.419, -8081909.487 5246612.192, -8081908.37...>,\n",
       " <LINESTRING (-8081854.668 5246509.479, -8081851.489 5246505.265, -8081847.28...>,\n",
       " <LINESTRING (-8081770.674 5246427.656, -8081768.267 5246425.719, -8081762.92...>,\n",
       " <LINESTRING (-8081668.813 5246372.868, -8081667.745 5246372.665, -8081661.05...>,\n",
       " <LINESTRING (-8081560.374 5246329.5, -8081556.225 5246325.718, -8081551.557 ...>,\n",
       " <LINESTRING (-8081480.323 5246244.183, -8081476.899 5246241.689, -8081471.29...>]"
      ]
     },
     "execution_count": 36,
     "metadata": {},
     "output_type": "execute_result"
    }
   ],
   "source": [
    "segments"
   ]
  },
  {
   "cell_type": "code",
   "execution_count": 37,
   "id": "4c56c2a7-0d20-444d-aa3a-0a0b2fac88a2",
   "metadata": {},
   "outputs": [],
   "source": [
    "# Make dict for constructing new GeoDataFrame\n",
    "d = {}\n",
    "for i in range(reach.shape[1]):\n",
    "    d[reach.iloc[:,i].name] = reach.iloc[0,i]\n",
    "# Rename geometry for full reach\n",
    "d['geometry_full'] = d['geometry']\n",
    "\n",
    "# Make GeoDataFrame with new reach segments\n",
    "reach_cut = gpd.GeoDataFrame(data=d, index=range(len(segments)),\n",
    "                             geometry=segments, crs=reach.crs)"
   ]
  },
  {
   "cell_type": "code",
   "execution_count": null,
   "id": "e8481107-3250-4056-af15-0c5e81c9ff4a",
   "metadata": {},
   "outputs": [],
   "source": [
    "reach_cut"
   ]
  },
  {
   "cell_type": "code",
   "execution_count": null,
   "id": "748b5633-d4a0-4611-83ef-fa01255fd340",
   "metadata": {},
   "outputs": [],
   "source": [
    "gpd.GeoSeries(segments).plot(cmap='hsv')"
   ]
  },
  {
   "cell_type": "code",
   "execution_count": null,
   "id": "ad139695-ff7f-4fad-a424-0b2cb4c201d8",
   "metadata": {},
   "outputs": [],
   "source": [
    "reach_cut.plot(cmap='hsv')"
   ]
  },
  {
   "cell_type": "code",
   "execution_count": null,
   "id": "f7aa2740-fdd9-4a63-a1e2-1680b3ab045a",
   "metadata": {},
   "outputs": [],
   "source": [
    "# Buffer the reach segments by 1/2 the calculated width\n",
    "# CITE BEIGER\n",
    "reach_cut['geometry'] = reach_cut.geometry.buffer(distance=(reach_cut.WidthM/2)[0], cap_style='flat')"
   ]
  },
  {
   "cell_type": "code",
   "execution_count": null,
   "id": "fee8a1a8-dd3e-4296-8bbc-76bf99a735f2",
   "metadata": {},
   "outputs": [],
   "source": [
    "reach_cut.plot(cmap='hsv')"
   ]
  },
  {
   "cell_type": "code",
   "execution_count": null,
   "id": "dd1ea36d-c566-4e3c-87c2-4cd68b2d8c16",
   "metadata": {},
   "outputs": [],
   "source": [
    "# Get pixels in reach\n",
    "inside = gpd.sjoin(gdf_PIXC, reach_cut, how='inner', predicate='within').rename(columns={'index_right': 'segment'})"
   ]
  },
  {
   "cell_type": "code",
   "execution_count": null,
   "id": "35283868-1eb9-4fef-a4a4-80c37daa46ae",
   "metadata": {},
   "outputs": [],
   "source": [
    "inside"
   ]
  },
  {
   "cell_type": "code",
   "execution_count": null,
   "id": "9635b15d-930d-4608-913c-6b227261a8d0",
   "metadata": {},
   "outputs": [],
   "source": [
    "if inside.empty:\n",
    "    coverage = 0\n",
    "else:    \n",
    "    # Get number of pixels in each reach segment\n",
    "    counts = pd.DataFrame(inside.segment.value_counts().reset_index().sort_index())\n",
    "    print(counts)\n",
    "    # Calculate coverage\n",
    "    coverage = len(counts.loc[counts['count'] != 0])/len(counts.segment)"
   ]
  },
  {
   "cell_type": "code",
   "execution_count": null,
   "id": "3a5da648-06f5-4807-bf81-66ecf8e8e27b",
   "metadata": {},
   "outputs": [],
   "source": [
    "coverage"
   ]
  }
 ],
 "metadata": {
  "kernelspec": {
   "display_name": "Python [conda env:.conda-narrowPIXC]",
   "language": "python",
   "name": "conda-env-.conda-narrowPIXC-py"
  },
  "language_info": {
   "codemirror_mode": {
    "name": "ipython",
    "version": 3
   },
   "file_extension": ".py",
   "mimetype": "text/x-python",
   "name": "python",
   "nbconvert_exporter": "python",
   "pygments_lexer": "ipython3",
   "version": "3.12.4"
  }
 },
 "nbformat": 4,
 "nbformat_minor": 5
}
