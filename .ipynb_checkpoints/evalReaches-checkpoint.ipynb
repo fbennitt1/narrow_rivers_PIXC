{
 "cells": [
  {
   "cell_type": "code",
   "execution_count": 1,
   "id": "5f2fc575-e3a7-4df6-911a-425063258532",
   "metadata": {},
   "outputs": [],
   "source": [
    "# import fiona\n",
    "from shapely.geometry import *\n",
    "from shapely.wkt import loads\n",
    "# from shapely import LineString, MultiPoint\n",
    "# from shapely.ops import nearest_points, split, snap, unary_union\n",
    "\n",
    "import contextily as cx\n",
    "# import earthaccess\n",
    "import geopandas as gpd\n",
    "import matplotlib.pyplot as plt\n",
    "import numpy as np\n",
    "import os\n",
    "import pandas as pd\n",
    "import xarray as xr\n",
    "# import shapely"
   ]
  },
  {
   "cell_type": "markdown",
   "id": "68f3357c-1d21-45e5-82ad-b2eec6001670",
   "metadata": {
    "tags": []
   },
   "source": [
    "#### Functions"
   ]
  },
  {
   "cell_type": "code",
   "execution_count": 2,
   "id": "1cf4b0a2-4d04-492f-a38a-73315d297670",
   "metadata": {
    "tags": []
   },
   "outputs": [],
   "source": [
    "def readNHD(index):\n",
    "    ## Set-up\n",
    "    mdata_path = '/nas/cee-water/cjgleason/fiona/narrow_rivers_PIXC/data/'\n",
    "    prep_path = '/nas/cee-water/cjgleason/fiona/narrow_rivers_PIXC_data/NHD_prepped/' # _with_waterbody\n",
    "\n",
    "    # Define dtypes for lookup tables to preserve leading zeros\n",
    "    dtype_dic= {'HUC4': str, 'HUC2': str, 'toBasin': str, 'level': str}\n",
    "    # Read in HUC lookup table\n",
    "    lookup = pd.read_csv(os.path.join(mdata_path, 'HUC4_lookup_no_great_lakes.csv'), dtype=dtype_dic)\n",
    "\n",
    "    # Get current HUC2 and HUC4 IDs\n",
    "    hu2 = 'HUC2_' + lookup.loc[index,'HUC4'][0:2]\n",
    "    hu4 = 'NHDPLUS_H_' + lookup.loc[index,'HUC4'] + '_HU4_GDB'\n",
    "    \n",
    "    # Set data filepath\n",
    "    file_path = os.path.join(prep_path, hu2, hu4 + '_prepped.gpkg') # _with_waterbody\n",
    "\n",
    "    ## Read in prepped NHD flowlines\n",
    "    features = ['NHDPlusID', 'GNIS_Name', 'LengthKM', 'WidthM', 'Bin', 'geometry']\n",
    "    basin = gpd.read_file(filename=file_path, columns=features, engine='pyogrio')\n",
    "    \n",
    "    # Make geometry 2D LineStrings\n",
    "    basin['geometry'] = basin.geometry.explode().force_2d()\n",
    "    return basin"
   ]
  },
  {
   "cell_type": "code",
   "execution_count": 3,
   "id": "d4c01c8b-252f-4085-95ba-e99a6d142f16",
   "metadata": {},
   "outputs": [],
   "source": [
    "def cut(line, distance):\n",
    "    # Cuts a line in two at a distance from its starting point\n",
    "    # Returns the trimmed piece and the remainder of the linestring\n",
    "    if distance <= 0.0 or distance >= line.length:\n",
    "        return [LineString(line)]\n",
    "    coords = list(line.coords)\n",
    "    for i, p in enumerate(coords):\n",
    "        pd = line.project(Point(p))\n",
    "        if pd == distance:\n",
    "            return [\n",
    "                LineString(coords[:i+1]),\n",
    "                LineString(coords[i:])]\n",
    "        if pd > distance:\n",
    "            cp = line.interpolate(distance)\n",
    "            return [\n",
    "                LineString(coords[:i] + [(cp.x, cp.y)]),\n",
    "                LineString([(cp.x, cp.y)] + coords[i:])]"
   ]
  },
  {
   "cell_type": "code",
   "execution_count": 4,
   "id": "f9be8e4a-31cf-4195-a5d1-3312564a1199",
   "metadata": {},
   "outputs": [],
   "source": [
    "def bitwiseMask(ds):\n",
    "    # Fow now, remove pixels with land classification and\n",
    "    # geolocation_qual very not good\n",
    "    # See page 65 of PIXC PDD: https://podaac.jpl.nasa.gov/SWOT?tab=datasets-information&sections=about%2Bdata\n",
    "    mask = np.where(np.logical_and(ds.classification > 1, ds.geolocation_qual < 2**12))[0]\n",
    "    print(mask.shape)\n",
    "    return mask"
   ]
  },
  {
   "cell_type": "code",
   "execution_count": 5,
   "id": "094710c1-3bf3-4477-bf64-7b4a85623a1c",
   "metadata": {},
   "outputs": [],
   "source": [
    "def makeGDF(ds, mask, data_var):\n",
    "    # This function takes the pixel cloud, makes a GeoDataFrame,\n",
    "    # renames columns as needed, projects the CRS, and returns\n",
    "    # the GDF \n",
    "\n",
    "    # Create GDF\n",
    "    gdf_PIXC = gpd.GeoDataFrame(ds[data_var][mask],\n",
    "                                geometry=gpd.points_from_xy(\n",
    "                                    ds.longitude[mask],\n",
    "                                    ds.latitude[mask]),\n",
    "                                crs=\"EPSG:4326\") # PIXC has no native CRS, setting same as River_SP\n",
    "\n",
    "    if data_var == 'classification':\n",
    "        gdf_PIXC.rename(columns={gdf_PIXC.columns[0]: 'klass'}, inplace=True)\n",
    "    else:\n",
    "        gdf_PIXC.rename(columns={gdf_PIXC.columns[0]: data_var}, inplace=True)\n",
    "    \n",
    "    # Convert the crs to WGS 84 / Pseudo-Mercator\n",
    "    gdf_PIXC = gdf_PIXC.to_crs(epsg=3857)\n",
    "    return gdf_PIXC"
   ]
  },
  {
   "cell_type": "code",
   "execution_count": 6,
   "id": "f9ed897d-426e-4bed-beed-9f6c269e62db",
   "metadata": {},
   "outputs": [],
   "source": [
    "def segmentReach(reach):\n",
    "    '''\n",
    "    Ths function XXX\n",
    "    '''\n",
    "    # Get linestring\n",
    "    line = reach.geometry\n",
    "    # Find length of segments\n",
    "    dist = line.length/10\n",
    "    \n",
    "    # Make empty list for segments\n",
    "    segments = []\n",
    "\n",
    "    # Segment the reach\n",
    "    for i in range(9):\n",
    "        # Chop the reach, store remainder\n",
    "        new, line = cut(line=line, distance=dist)\n",
    "        # Append new segment to GeoSeries of all segments\n",
    "        segments.append(new)\n",
    "        # segments[i]: new\n",
    "    \n",
    "    # Append final segment to list\n",
    "    segments.append(line)\n",
    "\n",
    "    return segments"
   ]
  },
  {
   "cell_type": "code",
   "execution_count": 151,
   "id": "af13c0f4-a0f7-42ae-a338-f1d0deae723b",
   "metadata": {},
   "outputs": [],
   "source": [
    "# def getCoverage(reach, gdf_PIXC=gdf_PIXC):\n",
    "#     '''\n",
    "#     Ths function takes a segmented reach, explodes it to get one row\n",
    "#     per reach, buffers the reach segments with 1/2 the calculated width\n",
    "#     on either of the reach segment centerlines, intersects the buffered\n",
    "#     segments with the SWOT PIXC, and calculates the percent coverage for\n",
    "#     the whole reach, and returns this proportion.\n",
    "    \n",
    "#     Right now, a segment only needs to have one pixel in it to be\n",
    "#     considered \"detected\".\n",
    "#     '''\n",
    "#     reach = gpd.GeoDataFrame([reach])\n",
    "\n",
    "#     # Explode the reach segments\n",
    "#     reach = reach.explode(column='segments').reset_index()\n",
    "\n",
    "    \n",
    "#     # Set segments as the active geometry column, set CRS as\n",
    "#     # it is somehow dropped\n",
    "#     reach = reach.set_geometry('segments').set_crs(crs=basin_crop.crs)\n",
    "\n",
    "#     # Buffer the reach segments by 1/2 the calculated width\n",
    "#     # CITE BEIGER\n",
    "#     reach['segments_buff'] = reach.geometry.buffer(distance=(reach.WidthM/2)[0],\n",
    "#                                                    cap_style='flat')\n",
    "    \n",
    "#     # Set active geometry column to new buffered segments\n",
    "#     reach = reach.set_geometry('segments_buff')\n",
    "    \n",
    "#     # Get pixels in reach\n",
    "#     inside = gpd.sjoin(gdf_PIXC, reach, how='inner',\n",
    "#                        predicate='within').rename(columns={'index_right': 'segment'})\n",
    "\n",
    "#     if inside.empty:\n",
    "#         prop = 0\n",
    "#     else:    \n",
    "#         # Get number of pixels in each reach segment\n",
    "#         counts = pd.DataFrame(inside.segments.value_counts().reset_index().sort_index())\n",
    "#         # Calculate coverage (proportion of reaches with >= 1 pixel in them)\n",
    "#         prop = len(counts.loc[counts['count'] != 0])/10\n",
    "#     return prop"
   ]
  },
  {
   "cell_type": "code",
   "execution_count": null,
   "id": "9bfa836e-0103-4439-979f-316a36126ca7",
   "metadata": {},
   "outputs": [],
   "source": []
  },
  {
   "cell_type": "markdown",
   "id": "5f916cef-3501-40be-8606-b78e94637277",
   "metadata": {},
   "source": [
    "#### Read in and prep NHD"
   ]
  },
  {
   "cell_type": "code",
   "execution_count": 9,
   "id": "52b5dd87-e212-42f5-9ca9-c016d9a8081c",
   "metadata": {},
   "outputs": [],
   "source": [
    "# Set slurm job index\n",
    "i = 4 # HUC4 0108, Connecticut\n",
    "# i = 109 # HUC4 1711, Snoqualmie"
   ]
  },
  {
   "cell_type": "code",
   "execution_count": 10,
   "id": "9ab7adb7-6d02-4f4b-a61f-51fdb9366452",
   "metadata": {},
   "outputs": [],
   "source": [
    "# Read prepped NHD\n",
    "basin = readNHD(index=i)"
   ]
  },
  {
   "cell_type": "markdown",
   "id": "1d7bf050-c406-49c0-870c-5aa0bee1ac95",
   "metadata": {
    "tags": []
   },
   "source": [
    "#### Read in and prep PIXC"
   ]
  },
  {
   "cell_type": "code",
   "execution_count": 11,
   "id": "50c97d18-419c-40b2-9868-f8d1d3585c5d",
   "metadata": {},
   "outputs": [],
   "source": [
    "# pixc_path = '../data/small_rivers/mar_2024_ver_c/SWOT_L2_HR_PIXC_011_345_239R_20240227T044209_20240227T044220_PIC0_01.nc'\n",
    "pixc_path = '../data/small_rivers/mar_2024_ver_c/leaf_off/SWOT_L2_HR_PIXC_014_341_229R_20240429T152954_20240429T153005_PIC0_01.nc'"
   ]
  },
  {
   "cell_type": "code",
   "execution_count": 11,
   "id": "e06a433a-c5fa-4266-a1f8-2b32113a389e",
   "metadata": {},
   "outputs": [
    {
     "data": {
      "text/plain": [
       "'SWOT_L2_HR_PIXC_014_341_229R_20240429T152954_20240429T153005_PIC0_01'"
      ]
     },
     "execution_count": 11,
     "metadata": {},
     "output_type": "execute_result"
    }
   ],
   "source": [
    "tile_name = pixc_path[-71:-3]\n",
    "tile_name"
   ]
  },
  {
   "cell_type": "code",
   "execution_count": 14,
   "id": "e3309add-c44a-403d-bceb-5b7d10d8c8ef",
   "metadata": {},
   "outputs": [],
   "source": [
    "# Read in xarray\n",
    "ds_PIXC = xr.open_mfdataset(paths=pixc_path, group='pixel_cloud', engine='h5netcdf')"
   ]
  },
  {
   "cell_type": "code",
   "execution_count": 13,
   "id": "8e7c6e79-47ea-4681-bd4f-86dea3410325",
   "metadata": {},
   "outputs": [],
   "source": [
    "# # Make dict for legend labels\n",
    "# flags = ds_PIXC.classification.flag_meanings.split() # extract each flag meaning\n",
    "# codes = {idx:k for idx, k in enumerate(flags, start=1)}"
   ]
  },
  {
   "cell_type": "code",
   "execution_count": 14,
   "id": "c0a51f3b-cbeb-4c78-b712-f08555322101",
   "metadata": {},
   "outputs": [],
   "source": [
    "# counts = pd.DataFrame(ds_PIXC.geolocation_qual).value_counts().sort_index()\n",
    "# counts"
   ]
  },
  {
   "cell_type": "code",
   "execution_count": 15,
   "id": "0feda8a4-edf6-497c-91ea-77def1722d50",
   "metadata": {
    "tags": []
   },
   "outputs": [
    {
     "name": "stdout",
     "output_type": "stream",
     "text": [
      "(1552029,)\n"
     ]
    }
   ],
   "source": [
    "# Make mask\n",
    "mask = bitwiseMask(ds=ds_PIXC)\n",
    "\n",
    "# # If dataframe not empty after filtering\n",
    "# if mask.shape != (0,):\n",
    "#     # Make PIXC\n",
    "gdf_PIXC = makeGDF(ds=ds_PIXC, mask=mask, data_var='classification')\n",
    "    # # Append to list\n",
    "    # d.append(gdf_PIXC)"
   ]
  },
  {
   "cell_type": "code",
   "execution_count": 205,
   "id": "0129a136-9a9d-4c79-aa6c-72a4c305e407",
   "metadata": {},
   "outputs": [],
   "source": [
    "def getCoverage(reach, gdf_PIXC=gdf_PIXC):\n",
    "    '''\n",
    "    Ths function takes a segmented reach, explodes it to get one row\n",
    "    per reach, buffers the reach segments with 1/2 the calculated width\n",
    "    on either of the reach segment centerlines, intersects the buffered\n",
    "    segments with the SWOT PIXC, and calculates the percent coverage for\n",
    "    the whole reach, and returns this proportion.\n",
    "    \n",
    "    Right now, a segment only needs to have one pixel in it to be\n",
    "    considered \"detected\".\n",
    "    '''\n",
    "    \n",
    "    # Make GeoSeries with just segments\n",
    "    segments = gpd.GeoSeries(data=reach['segments'], crs=basin_crop.crs)\n",
    "\n",
    "    # Buffer segments by 1/2 the calculated width\n",
    "    # CITE BEIGER\n",
    "    segments = segments.buffer(distance=(reach.WidthM/2),cap_style='flat')\n",
    "    \n",
    "    # Make GeoDataFrame of segments\n",
    "    segments = gpd.GeoDataFrame(geometry=segments)\n",
    "    \n",
    "    # Get pixels in reach\n",
    "    inside = gpd.sjoin(gdf_PIXC, segments, how='inner',\n",
    "                       predicate='within').rename(columns={'index_right': 'segment'})\n",
    "\n",
    "    if inside.empty:\n",
    "        prop = 0\n",
    "    else:    \n",
    "        # Get number of pixels in each reach segment\n",
    "        counts = pd.DataFrame(inside.segment.value_counts().reset_index().sort_index())\n",
    "        # Calculate coverage (proportion of reaches with >= 1 pixel in them)\n",
    "        prop = len(counts.loc[counts['count'] != 0])/10\n",
    "    return prop"
   ]
  },
  {
   "cell_type": "markdown",
   "id": "d9d09a3c-c057-4a0e-b1ca-b93dc1d14a02",
   "metadata": {
    "tags": []
   },
   "source": [
    "#### Get bounds of PIXC and crop basin to it"
   ]
  },
  {
   "cell_type": "code",
   "execution_count": 16,
   "id": "c93f9b48-ad85-4772-95ec-ee0da6cd6761",
   "metadata": {},
   "outputs": [],
   "source": [
    "# Get bounds of PIXC, construct polygon\n",
    "bounds_PIXC = gdf_PIXC.total_bounds\n",
    "poly = box(bounds_PIXC[0], bounds_PIXC[1], bounds_PIXC[2], bounds_PIXC[3])"
   ]
  },
  {
   "cell_type": "code",
   "execution_count": 17,
   "id": "08b0d0b0-20f8-466b-9429-c9c7330b4403",
   "metadata": {},
   "outputs": [],
   "source": [
    "basin_crop = basin.clip(poly)"
   ]
  },
  {
   "cell_type": "code",
   "execution_count": 18,
   "id": "3019b23b-2e87-488f-b1fa-35c636af9f84",
   "metadata": {},
   "outputs": [
    {
     "data": {
      "text/plain": [
       "['(0, 10]',\n",
       " '(10, 20]',\n",
       " '(150, 200]',\n",
       " '(20, 30]',\n",
       " '(200, 500]',\n",
       " '(30, 40]',\n",
       " '(40, 50]',\n",
       " '(50, 60]',\n",
       " '(60, 70]']"
      ]
     },
     "execution_count": 18,
     "metadata": {},
     "output_type": "execute_result"
    }
   ],
   "source": [
    "# Find width bins present in cropped hydrography\n",
    "bins = list(np.unique(basin_crop.Bin))\n",
    "bins"
   ]
  },
  {
   "cell_type": "code",
   "execution_count": 19,
   "id": "79b0f4ce-3915-4f82-9a4d-2c2ea039b3aa",
   "metadata": {},
   "outputs": [],
   "source": [
    "# Order of all possible bins\n",
    "order = ['(0, 10]', '(10, 20]', '(20, 30]', '(30, 40]', '(40, 50]',\n",
    "         '(50, 60]', '(60, 70]', '(70, 80]', '(80, 90]', '(90, 100]',\n",
    "         '(100, 150]', '(150, 200]']"
   ]
  },
  {
   "cell_type": "code",
   "execution_count": 20,
   "id": "265397d4-c8c4-4181-844b-ac99587a1745",
   "metadata": {},
   "outputs": [
    {
     "data": {
      "text/plain": [
       "['(0, 10]',\n",
       " '(10, 20]',\n",
       " '(20, 30]',\n",
       " '(30, 40]',\n",
       " '(40, 50]',\n",
       " '(50, 60]',\n",
       " '(60, 70]',\n",
       " '(150, 200]']"
      ]
     },
     "execution_count": 20,
     "metadata": {},
     "output_type": "execute_result"
    }
   ],
   "source": [
    "# Make sorted list of bins present\n",
    "ordered = []\n",
    "for binn in order:\n",
    "    if binn in bins:\n",
    "        ordered.append(binn)\n",
    "ordered"
   ]
  },
  {
   "cell_type": "code",
   "execution_count": 32,
   "id": "35d8f561-3d70-4288-b3da-4611d2f6a0ea",
   "metadata": {},
   "outputs": [],
   "source": [
    "# basin_crop.plot()"
   ]
  },
  {
   "cell_type": "markdown",
   "id": "68b0a62e-b031-43b7-a675-2edff6031bf8",
   "metadata": {
    "tags": []
   },
   "source": [
    "#### Segment reach, calculates coverage functions"
   ]
  },
  {
   "cell_type": "code",
   "execution_count": null,
   "id": "72087760-dc38-469a-9944-7526e49bf151",
   "metadata": {},
   "outputs": [],
   "source": [
    "# # Initialize lists\n",
    "# coverage = {}\n",
    "\n",
    "# for binn in ordered:\n",
    "#     reach = basin_crop.loc[basin_crop['Bin'] == binn].sample(n=1)\n",
    "#     # '{}'.format(reach.NHDPlusID)\n",
    "#     # # break\n",
    "#     # reach_bins.append(reach.iloc[0,0])\n",
    "    \n",
    "#     # Get reach segments\n",
    "#     reach_cut = segmentReach(reach)\n",
    "    \n",
    "#     # Get coverage for reach\n",
    "#     prop = getCoverage(gdf_PIXC, reach_cut)\n",
    "    \n",
    "#     coverage[binn] = prop*100"
   ]
  },
  {
   "cell_type": "code",
   "execution_count": 265,
   "id": "15078d15-e523-48cd-9cbf-d65cdcd70fb5",
   "metadata": {},
   "outputs": [
    {
     "data": {
      "text/html": [
       "<div>\n",
       "<style scoped>\n",
       "    .dataframe tbody tr th:only-of-type {\n",
       "        vertical-align: middle;\n",
       "    }\n",
       "\n",
       "    .dataframe tbody tr th {\n",
       "        vertical-align: top;\n",
       "    }\n",
       "\n",
       "    .dataframe thead th {\n",
       "        text-align: right;\n",
       "    }\n",
       "</style>\n",
       "<table border=\"1\" class=\"dataframe\">\n",
       "  <thead>\n",
       "    <tr style=\"text-align: right;\">\n",
       "      <th></th>\n",
       "      <th>Bin</th>\n",
       "      <th>GNIS_Name</th>\n",
       "      <th>LengthKM</th>\n",
       "      <th>NHDPlusID</th>\n",
       "      <th>WidthM</th>\n",
       "      <th>geometry</th>\n",
       "    </tr>\n",
       "  </thead>\n",
       "  <tbody>\n",
       "    <tr>\n",
       "      <th>2856</th>\n",
       "      <td>(0, 10]</td>\n",
       "      <td>None</td>\n",
       "      <td>0.480</td>\n",
       "      <td>1.000090e+13</td>\n",
       "      <td>4.024293</td>\n",
       "      <td>LINESTRING (-8070643.33 5202873.403, -8070714....</td>\n",
       "    </tr>\n",
       "    <tr>\n",
       "      <th>5177</th>\n",
       "      <td>(50, 60]</td>\n",
       "      <td>Deerfield River</td>\n",
       "      <td>0.737</td>\n",
       "      <td>1.000090e+13</td>\n",
       "      <td>53.499755</td>\n",
       "      <td>LINESTRING (-8108125.885 5253876.992, -8108119...</td>\n",
       "    </tr>\n",
       "    <tr>\n",
       "      <th>53581</th>\n",
       "      <td>(0, 10]</td>\n",
       "      <td>None</td>\n",
       "      <td>0.127</td>\n",
       "      <td>1.000090e+13</td>\n",
       "      <td>4.996652</td>\n",
       "      <td>LINESTRING (-8025678.212 5215444.637, -8025678...</td>\n",
       "    </tr>\n",
       "    <tr>\n",
       "      <th>45446</th>\n",
       "      <td>(10, 20]</td>\n",
       "      <td>Orcutt Brook</td>\n",
       "      <td>0.653</td>\n",
       "      <td>1.000090e+13</td>\n",
       "      <td>12.083294</td>\n",
       "      <td>LINESTRING (-8052545.317 5251706.926, -8052555...</td>\n",
       "    </tr>\n",
       "    <tr>\n",
       "      <th>22301</th>\n",
       "      <td>(0, 10]</td>\n",
       "      <td>None</td>\n",
       "      <td>0.316</td>\n",
       "      <td>1.000090e+13</td>\n",
       "      <td>1.348572</td>\n",
       "      <td>LINESTRING (-8090079.572 5176676.937, -8090081...</td>\n",
       "    </tr>\n",
       "    <tr>\n",
       "      <th>...</th>\n",
       "      <td>...</td>\n",
       "      <td>...</td>\n",
       "      <td>...</td>\n",
       "      <td>...</td>\n",
       "      <td>...</td>\n",
       "      <td>...</td>\n",
       "    </tr>\n",
       "    <tr>\n",
       "      <th>36895</th>\n",
       "      <td>(0, 10]</td>\n",
       "      <td>None</td>\n",
       "      <td>1.222</td>\n",
       "      <td>1.000090e+13</td>\n",
       "      <td>3.549620</td>\n",
       "      <td>LINESTRING (-8109475.652 5215554.905, -8109477...</td>\n",
       "    </tr>\n",
       "    <tr>\n",
       "      <th>57642</th>\n",
       "      <td>(0, 10]</td>\n",
       "      <td>None</td>\n",
       "      <td>0.292</td>\n",
       "      <td>1.000090e+13</td>\n",
       "      <td>3.300461</td>\n",
       "      <td>LINESTRING (-8052450.516 5252512.222, -8052449...</td>\n",
       "    </tr>\n",
       "    <tr>\n",
       "      <th>1237</th>\n",
       "      <td>(0, 10]</td>\n",
       "      <td>Muddy Brook</td>\n",
       "      <td>0.673</td>\n",
       "      <td>1.000090e+13</td>\n",
       "      <td>7.245351</td>\n",
       "      <td>LINESTRING (-8038008.968 5219202.321, -8038006...</td>\n",
       "    </tr>\n",
       "    <tr>\n",
       "      <th>53225</th>\n",
       "      <td>(0, 10]</td>\n",
       "      <td>None</td>\n",
       "      <td>0.083</td>\n",
       "      <td>1.000090e+13</td>\n",
       "      <td>1.096629</td>\n",
       "      <td>LINESTRING (-8033636.044 5244359.248, -8033626...</td>\n",
       "    </tr>\n",
       "    <tr>\n",
       "      <th>62567</th>\n",
       "      <td>(0, 10]</td>\n",
       "      <td>Clesson Brook</td>\n",
       "      <td>0.477</td>\n",
       "      <td>1.000090e+13</td>\n",
       "      <td>8.553919</td>\n",
       "      <td>LINESTRING (-8108146.46 5248704.743, -8108143....</td>\n",
       "    </tr>\n",
       "  </tbody>\n",
       "</table>\n",
       "<p>10000 rows × 6 columns</p>\n",
       "</div>"
      ],
      "text/plain": [
       "            Bin        GNIS_Name  LengthKM     NHDPlusID     WidthM  \\\n",
       "2856    (0, 10]             None     0.480  1.000090e+13   4.024293   \n",
       "5177   (50, 60]  Deerfield River     0.737  1.000090e+13  53.499755   \n",
       "53581   (0, 10]             None     0.127  1.000090e+13   4.996652   \n",
       "45446  (10, 20]     Orcutt Brook     0.653  1.000090e+13  12.083294   \n",
       "22301   (0, 10]             None     0.316  1.000090e+13   1.348572   \n",
       "...         ...              ...       ...           ...        ...   \n",
       "36895   (0, 10]             None     1.222  1.000090e+13   3.549620   \n",
       "57642   (0, 10]             None     0.292  1.000090e+13   3.300461   \n",
       "1237    (0, 10]      Muddy Brook     0.673  1.000090e+13   7.245351   \n",
       "53225   (0, 10]             None     0.083  1.000090e+13   1.096629   \n",
       "62567   (0, 10]    Clesson Brook     0.477  1.000090e+13   8.553919   \n",
       "\n",
       "                                                geometry  \n",
       "2856   LINESTRING (-8070643.33 5202873.403, -8070714....  \n",
       "5177   LINESTRING (-8108125.885 5253876.992, -8108119...  \n",
       "53581  LINESTRING (-8025678.212 5215444.637, -8025678...  \n",
       "45446  LINESTRING (-8052545.317 5251706.926, -8052555...  \n",
       "22301  LINESTRING (-8090079.572 5176676.937, -8090081...  \n",
       "...                                                  ...  \n",
       "36895  LINESTRING (-8109475.652 5215554.905, -8109477...  \n",
       "57642  LINESTRING (-8052450.516 5252512.222, -8052449...  \n",
       "1237   LINESTRING (-8038008.968 5219202.321, -8038006...  \n",
       "53225  LINESTRING (-8033636.044 5244359.248, -8033626...  \n",
       "62567  LINESTRING (-8108146.46 5248704.743, -8108143....  \n",
       "\n",
       "[10000 rows x 6 columns]"
      ]
     },
     "execution_count": 265,
     "metadata": {},
     "output_type": "execute_result"
    }
   ],
   "source": [
    "# test = basin_crop[basin_crop['GNIS_Name'] == 'Connecticut River'].sample(n=5)\n",
    "test = basin_crop.sample(n=10000)\n",
    "test"
   ]
  },
  {
   "cell_type": "code",
   "execution_count": 266,
   "id": "d13c0e44-d131-426e-8cc4-8c6bdb902701",
   "metadata": {},
   "outputs": [
    {
     "ename": "NotImplementedError",
     "evalue": "Sub-geometries may have coordinate sequences, but multi-part geometries do not",
     "output_type": "error",
     "traceback": [
      "\u001b[0;31m---------------------------------------------------------------------------\u001b[0m",
      "\u001b[0;31mNotImplementedError\u001b[0m                       Traceback (most recent call last)",
      "Cell \u001b[0;32mIn[266], line 2\u001b[0m\n\u001b[1;32m      1\u001b[0m \u001b[38;5;66;03m# Try with apply()\u001b[39;00m\n\u001b[0;32m----> 2\u001b[0m test[\u001b[38;5;124m'\u001b[39m\u001b[38;5;124msegments\u001b[39m\u001b[38;5;124m'\u001b[39m] \u001b[38;5;241m=\u001b[39m \u001b[43mtest\u001b[49m\u001b[38;5;241;43m.\u001b[39;49m\u001b[43mapply\u001b[49m\u001b[43m(\u001b[49m\u001b[43msegmentReach\u001b[49m\u001b[43m,\u001b[49m\u001b[43m \u001b[49m\u001b[43maxis\u001b[49m\u001b[38;5;241;43m=\u001b[39;49m\u001b[38;5;241;43m1\u001b[39;49m\u001b[43m)\u001b[49m\n",
      "File \u001b[0;32m/work/pi_cjgleason_umass_edu/.conda/envs/narrowPIXC/lib/python3.12/site-packages/geopandas/geodataframe.py:1834\u001b[0m, in \u001b[0;36mGeoDataFrame.apply\u001b[0;34m(self, func, axis, raw, result_type, args, **kwargs)\u001b[0m\n\u001b[1;32m   1832\u001b[0m \u001b[38;5;129m@doc\u001b[39m(pd\u001b[38;5;241m.\u001b[39mDataFrame)\n\u001b[1;32m   1833\u001b[0m \u001b[38;5;28;01mdef\u001b[39;00m \u001b[38;5;21mapply\u001b[39m(\u001b[38;5;28mself\u001b[39m, func, axis\u001b[38;5;241m=\u001b[39m\u001b[38;5;241m0\u001b[39m, raw\u001b[38;5;241m=\u001b[39m\u001b[38;5;28;01mFalse\u001b[39;00m, result_type\u001b[38;5;241m=\u001b[39m\u001b[38;5;28;01mNone\u001b[39;00m, args\u001b[38;5;241m=\u001b[39m(), \u001b[38;5;241m*\u001b[39m\u001b[38;5;241m*\u001b[39mkwargs):\n\u001b[0;32m-> 1834\u001b[0m     result \u001b[38;5;241m=\u001b[39m \u001b[38;5;28;43msuper\u001b[39;49m\u001b[43m(\u001b[49m\u001b[43m)\u001b[49m\u001b[38;5;241;43m.\u001b[39;49m\u001b[43mapply\u001b[49m\u001b[43m(\u001b[49m\n\u001b[1;32m   1835\u001b[0m \u001b[43m        \u001b[49m\u001b[43mfunc\u001b[49m\u001b[43m,\u001b[49m\u001b[43m \u001b[49m\u001b[43maxis\u001b[49m\u001b[38;5;241;43m=\u001b[39;49m\u001b[43maxis\u001b[49m\u001b[43m,\u001b[49m\u001b[43m \u001b[49m\u001b[43mraw\u001b[49m\u001b[38;5;241;43m=\u001b[39;49m\u001b[43mraw\u001b[49m\u001b[43m,\u001b[49m\u001b[43m \u001b[49m\u001b[43mresult_type\u001b[49m\u001b[38;5;241;43m=\u001b[39;49m\u001b[43mresult_type\u001b[49m\u001b[43m,\u001b[49m\u001b[43m \u001b[49m\u001b[43margs\u001b[49m\u001b[38;5;241;43m=\u001b[39;49m\u001b[43margs\u001b[49m\u001b[43m,\u001b[49m\u001b[43m \u001b[49m\u001b[38;5;241;43m*\u001b[39;49m\u001b[38;5;241;43m*\u001b[39;49m\u001b[43mkwargs\u001b[49m\n\u001b[1;32m   1836\u001b[0m \u001b[43m    \u001b[49m\u001b[43m)\u001b[49m\n\u001b[1;32m   1837\u001b[0m     \u001b[38;5;66;03m# Reconstruct gdf if it was lost by apply\u001b[39;00m\n\u001b[1;32m   1838\u001b[0m     \u001b[38;5;28;01mif\u001b[39;00m (\n\u001b[1;32m   1839\u001b[0m         \u001b[38;5;28misinstance\u001b[39m(result, DataFrame)\n\u001b[1;32m   1840\u001b[0m         \u001b[38;5;129;01mand\u001b[39;00m \u001b[38;5;28mself\u001b[39m\u001b[38;5;241m.\u001b[39m_geometry_column_name \u001b[38;5;129;01min\u001b[39;00m result\u001b[38;5;241m.\u001b[39mcolumns\n\u001b[1;32m   1841\u001b[0m     ):\n\u001b[1;32m   1842\u001b[0m         \u001b[38;5;66;03m# axis=1 apply will split GeometryDType to object, try and cast back\u001b[39;00m\n",
      "File \u001b[0;32m/work/pi_cjgleason_umass_edu/.conda/envs/narrowPIXC/lib/python3.12/site-packages/pandas/core/frame.py:10374\u001b[0m, in \u001b[0;36mDataFrame.apply\u001b[0;34m(self, func, axis, raw, result_type, args, by_row, engine, engine_kwargs, **kwargs)\u001b[0m\n\u001b[1;32m  10360\u001b[0m \u001b[38;5;28;01mfrom\u001b[39;00m \u001b[38;5;21;01mpandas\u001b[39;00m\u001b[38;5;21;01m.\u001b[39;00m\u001b[38;5;21;01mcore\u001b[39;00m\u001b[38;5;21;01m.\u001b[39;00m\u001b[38;5;21;01mapply\u001b[39;00m \u001b[38;5;28;01mimport\u001b[39;00m frame_apply\n\u001b[1;32m  10362\u001b[0m op \u001b[38;5;241m=\u001b[39m frame_apply(\n\u001b[1;32m  10363\u001b[0m     \u001b[38;5;28mself\u001b[39m,\n\u001b[1;32m  10364\u001b[0m     func\u001b[38;5;241m=\u001b[39mfunc,\n\u001b[0;32m   (...)\u001b[0m\n\u001b[1;32m  10372\u001b[0m     kwargs\u001b[38;5;241m=\u001b[39mkwargs,\n\u001b[1;32m  10373\u001b[0m )\n\u001b[0;32m> 10374\u001b[0m \u001b[38;5;28;01mreturn\u001b[39;00m \u001b[43mop\u001b[49m\u001b[38;5;241;43m.\u001b[39;49m\u001b[43mapply\u001b[49m\u001b[43m(\u001b[49m\u001b[43m)\u001b[49m\u001b[38;5;241m.\u001b[39m__finalize__(\u001b[38;5;28mself\u001b[39m, method\u001b[38;5;241m=\u001b[39m\u001b[38;5;124m\"\u001b[39m\u001b[38;5;124mapply\u001b[39m\u001b[38;5;124m\"\u001b[39m)\n",
      "File \u001b[0;32m/work/pi_cjgleason_umass_edu/.conda/envs/narrowPIXC/lib/python3.12/site-packages/pandas/core/apply.py:916\u001b[0m, in \u001b[0;36mFrameApply.apply\u001b[0;34m(self)\u001b[0m\n\u001b[1;32m    913\u001b[0m \u001b[38;5;28;01melif\u001b[39;00m \u001b[38;5;28mself\u001b[39m\u001b[38;5;241m.\u001b[39mraw:\n\u001b[1;32m    914\u001b[0m     \u001b[38;5;28;01mreturn\u001b[39;00m \u001b[38;5;28mself\u001b[39m\u001b[38;5;241m.\u001b[39mapply_raw(engine\u001b[38;5;241m=\u001b[39m\u001b[38;5;28mself\u001b[39m\u001b[38;5;241m.\u001b[39mengine, engine_kwargs\u001b[38;5;241m=\u001b[39m\u001b[38;5;28mself\u001b[39m\u001b[38;5;241m.\u001b[39mengine_kwargs)\n\u001b[0;32m--> 916\u001b[0m \u001b[38;5;28;01mreturn\u001b[39;00m \u001b[38;5;28;43mself\u001b[39;49m\u001b[38;5;241;43m.\u001b[39;49m\u001b[43mapply_standard\u001b[49m\u001b[43m(\u001b[49m\u001b[43m)\u001b[49m\n",
      "File \u001b[0;32m/work/pi_cjgleason_umass_edu/.conda/envs/narrowPIXC/lib/python3.12/site-packages/pandas/core/apply.py:1063\u001b[0m, in \u001b[0;36mFrameApply.apply_standard\u001b[0;34m(self)\u001b[0m\n\u001b[1;32m   1061\u001b[0m \u001b[38;5;28;01mdef\u001b[39;00m \u001b[38;5;21mapply_standard\u001b[39m(\u001b[38;5;28mself\u001b[39m):\n\u001b[1;32m   1062\u001b[0m     \u001b[38;5;28;01mif\u001b[39;00m \u001b[38;5;28mself\u001b[39m\u001b[38;5;241m.\u001b[39mengine \u001b[38;5;241m==\u001b[39m \u001b[38;5;124m\"\u001b[39m\u001b[38;5;124mpython\u001b[39m\u001b[38;5;124m\"\u001b[39m:\n\u001b[0;32m-> 1063\u001b[0m         results, res_index \u001b[38;5;241m=\u001b[39m \u001b[38;5;28;43mself\u001b[39;49m\u001b[38;5;241;43m.\u001b[39;49m\u001b[43mapply_series_generator\u001b[49m\u001b[43m(\u001b[49m\u001b[43m)\u001b[49m\n\u001b[1;32m   1064\u001b[0m     \u001b[38;5;28;01melse\u001b[39;00m:\n\u001b[1;32m   1065\u001b[0m         results, res_index \u001b[38;5;241m=\u001b[39m \u001b[38;5;28mself\u001b[39m\u001b[38;5;241m.\u001b[39mapply_series_numba()\n",
      "File \u001b[0;32m/work/pi_cjgleason_umass_edu/.conda/envs/narrowPIXC/lib/python3.12/site-packages/pandas/core/apply.py:1081\u001b[0m, in \u001b[0;36mFrameApply.apply_series_generator\u001b[0;34m(self)\u001b[0m\n\u001b[1;32m   1078\u001b[0m \u001b[38;5;28;01mwith\u001b[39;00m option_context(\u001b[38;5;124m\"\u001b[39m\u001b[38;5;124mmode.chained_assignment\u001b[39m\u001b[38;5;124m\"\u001b[39m, \u001b[38;5;28;01mNone\u001b[39;00m):\n\u001b[1;32m   1079\u001b[0m     \u001b[38;5;28;01mfor\u001b[39;00m i, v \u001b[38;5;129;01min\u001b[39;00m \u001b[38;5;28menumerate\u001b[39m(series_gen):\n\u001b[1;32m   1080\u001b[0m         \u001b[38;5;66;03m# ignore SettingWithCopy here in case the user mutates\u001b[39;00m\n\u001b[0;32m-> 1081\u001b[0m         results[i] \u001b[38;5;241m=\u001b[39m \u001b[38;5;28;43mself\u001b[39;49m\u001b[38;5;241;43m.\u001b[39;49m\u001b[43mfunc\u001b[49m\u001b[43m(\u001b[49m\u001b[43mv\u001b[49m\u001b[43m,\u001b[49m\u001b[43m \u001b[49m\u001b[38;5;241;43m*\u001b[39;49m\u001b[38;5;28;43mself\u001b[39;49m\u001b[38;5;241;43m.\u001b[39;49m\u001b[43margs\u001b[49m\u001b[43m,\u001b[49m\u001b[43m \u001b[49m\u001b[38;5;241;43m*\u001b[39;49m\u001b[38;5;241;43m*\u001b[39;49m\u001b[38;5;28;43mself\u001b[39;49m\u001b[38;5;241;43m.\u001b[39;49m\u001b[43mkwargs\u001b[49m\u001b[43m)\u001b[49m\n\u001b[1;32m   1082\u001b[0m         \u001b[38;5;28;01mif\u001b[39;00m \u001b[38;5;28misinstance\u001b[39m(results[i], ABCSeries):\n\u001b[1;32m   1083\u001b[0m             \u001b[38;5;66;03m# If we have a view on v, we need to make a copy because\u001b[39;00m\n\u001b[1;32m   1084\u001b[0m             \u001b[38;5;66;03m#  series_generator will swap out the underlying data\u001b[39;00m\n\u001b[1;32m   1085\u001b[0m             results[i] \u001b[38;5;241m=\u001b[39m results[i]\u001b[38;5;241m.\u001b[39mcopy(deep\u001b[38;5;241m=\u001b[39m\u001b[38;5;28;01mFalse\u001b[39;00m)\n",
      "Cell \u001b[0;32mIn[6], line 16\u001b[0m, in \u001b[0;36msegmentReach\u001b[0;34m(reach)\u001b[0m\n\u001b[1;32m     13\u001b[0m \u001b[38;5;66;03m# Segment the reach\u001b[39;00m\n\u001b[1;32m     14\u001b[0m \u001b[38;5;28;01mfor\u001b[39;00m i \u001b[38;5;129;01min\u001b[39;00m \u001b[38;5;28mrange\u001b[39m(\u001b[38;5;241m9\u001b[39m):\n\u001b[1;32m     15\u001b[0m     \u001b[38;5;66;03m# Chop the reach, store remainder\u001b[39;00m\n\u001b[0;32m---> 16\u001b[0m     new, line \u001b[38;5;241m=\u001b[39m \u001b[43mcut\u001b[49m\u001b[43m(\u001b[49m\u001b[43mline\u001b[49m\u001b[38;5;241;43m=\u001b[39;49m\u001b[43mline\u001b[49m\u001b[43m,\u001b[49m\u001b[43m \u001b[49m\u001b[43mdistance\u001b[49m\u001b[38;5;241;43m=\u001b[39;49m\u001b[43mdist\u001b[49m\u001b[43m)\u001b[49m\n\u001b[1;32m     17\u001b[0m     \u001b[38;5;66;03m# Append new segment to GeoSeries of all segments\u001b[39;00m\n\u001b[1;32m     18\u001b[0m     segments\u001b[38;5;241m.\u001b[39mappend(new)\n",
      "Cell \u001b[0;32mIn[3], line 6\u001b[0m, in \u001b[0;36mcut\u001b[0;34m(line, distance)\u001b[0m\n\u001b[1;32m      4\u001b[0m \u001b[38;5;28;01mif\u001b[39;00m distance \u001b[38;5;241m<\u001b[39m\u001b[38;5;241m=\u001b[39m \u001b[38;5;241m0.0\u001b[39m \u001b[38;5;129;01mor\u001b[39;00m distance \u001b[38;5;241m>\u001b[39m\u001b[38;5;241m=\u001b[39m line\u001b[38;5;241m.\u001b[39mlength:\n\u001b[1;32m      5\u001b[0m     \u001b[38;5;28;01mreturn\u001b[39;00m [LineString(line)]\n\u001b[0;32m----> 6\u001b[0m coords \u001b[38;5;241m=\u001b[39m \u001b[38;5;28mlist\u001b[39m(\u001b[43mline\u001b[49m\u001b[38;5;241;43m.\u001b[39;49m\u001b[43mcoords\u001b[49m)\n\u001b[1;32m      7\u001b[0m \u001b[38;5;28;01mfor\u001b[39;00m i, p \u001b[38;5;129;01min\u001b[39;00m \u001b[38;5;28menumerate\u001b[39m(coords):\n\u001b[1;32m      8\u001b[0m     pd \u001b[38;5;241m=\u001b[39m line\u001b[38;5;241m.\u001b[39mproject(Point(p))\n",
      "File \u001b[0;32m/work/pi_cjgleason_umass_edu/.conda/envs/narrowPIXC/lib/python3.12/site-packages/shapely/geometry/base.py:927\u001b[0m, in \u001b[0;36mBaseMultipartGeometry.coords\u001b[0;34m(self)\u001b[0m\n\u001b[1;32m    925\u001b[0m \u001b[38;5;129m@property\u001b[39m\n\u001b[1;32m    926\u001b[0m \u001b[38;5;28;01mdef\u001b[39;00m \u001b[38;5;21mcoords\u001b[39m(\u001b[38;5;28mself\u001b[39m):\n\u001b[0;32m--> 927\u001b[0m     \u001b[38;5;28;01mraise\u001b[39;00m \u001b[38;5;167;01mNotImplementedError\u001b[39;00m(\n\u001b[1;32m    928\u001b[0m         \u001b[38;5;124m\"\u001b[39m\u001b[38;5;124mSub-geometries may have coordinate sequences, \u001b[39m\u001b[38;5;124m\"\u001b[39m\n\u001b[1;32m    929\u001b[0m         \u001b[38;5;124m\"\u001b[39m\u001b[38;5;124mbut multi-part geometries do not\u001b[39m\u001b[38;5;124m\"\u001b[39m\n\u001b[1;32m    930\u001b[0m     )\n",
      "\u001b[0;31mNotImplementedError\u001b[0m: Sub-geometries may have coordinate sequences, but multi-part geometries do not"
     ]
    }
   ],
   "source": [
    "# Try with apply()\n",
    "test['segments'] = test.apply(segmentReach, axis=1)"
   ]
  },
  {
   "cell_type": "code",
   "execution_count": 263,
   "id": "4ab43fe1-ed96-4067-8cce-2f6c2829f727",
   "metadata": {},
   "outputs": [],
   "source": [
    "test['coverage'] = test.apply(getCoverage, axis=1)"
   ]
  },
  {
   "cell_type": "code",
   "execution_count": 264,
   "id": "f88488a6-f3db-43d9-9d41-6046e820471e",
   "metadata": {},
   "outputs": [
    {
     "data": {
      "text/html": [
       "<div>\n",
       "<style scoped>\n",
       "    .dataframe tbody tr th:only-of-type {\n",
       "        vertical-align: middle;\n",
       "    }\n",
       "\n",
       "    .dataframe tbody tr th {\n",
       "        vertical-align: top;\n",
       "    }\n",
       "\n",
       "    .dataframe thead th {\n",
       "        text-align: right;\n",
       "    }\n",
       "</style>\n",
       "<table border=\"1\" class=\"dataframe\">\n",
       "  <thead>\n",
       "    <tr style=\"text-align: right;\">\n",
       "      <th></th>\n",
       "      <th>coverage</th>\n",
       "      <th>count</th>\n",
       "    </tr>\n",
       "  </thead>\n",
       "  <tbody>\n",
       "    <tr>\n",
       "      <th>0</th>\n",
       "      <td>0.0</td>\n",
       "      <td>819</td>\n",
       "    </tr>\n",
       "    <tr>\n",
       "      <th>1</th>\n",
       "      <td>0.1</td>\n",
       "      <td>81</td>\n",
       "    </tr>\n",
       "    <tr>\n",
       "      <th>2</th>\n",
       "      <td>0.2</td>\n",
       "      <td>29</td>\n",
       "    </tr>\n",
       "    <tr>\n",
       "      <th>3</th>\n",
       "      <td>0.4</td>\n",
       "      <td>16</td>\n",
       "    </tr>\n",
       "    <tr>\n",
       "      <th>4</th>\n",
       "      <td>0.3</td>\n",
       "      <td>16</td>\n",
       "    </tr>\n",
       "    <tr>\n",
       "      <th>5</th>\n",
       "      <td>1.0</td>\n",
       "      <td>15</td>\n",
       "    </tr>\n",
       "    <tr>\n",
       "      <th>6</th>\n",
       "      <td>0.5</td>\n",
       "      <td>10</td>\n",
       "    </tr>\n",
       "    <tr>\n",
       "      <th>7</th>\n",
       "      <td>0.6</td>\n",
       "      <td>5</td>\n",
       "    </tr>\n",
       "    <tr>\n",
       "      <th>8</th>\n",
       "      <td>0.8</td>\n",
       "      <td>3</td>\n",
       "    </tr>\n",
       "    <tr>\n",
       "      <th>9</th>\n",
       "      <td>0.7</td>\n",
       "      <td>3</td>\n",
       "    </tr>\n",
       "    <tr>\n",
       "      <th>10</th>\n",
       "      <td>0.9</td>\n",
       "      <td>3</td>\n",
       "    </tr>\n",
       "  </tbody>\n",
       "</table>\n",
       "</div>"
      ],
      "text/plain": [
       "    coverage  count\n",
       "0        0.0    819\n",
       "1        0.1     81\n",
       "2        0.2     29\n",
       "3        0.4     16\n",
       "4        0.3     16\n",
       "5        1.0     15\n",
       "6        0.5     10\n",
       "7        0.6      5\n",
       "8        0.8      3\n",
       "9        0.7      3\n",
       "10       0.9      3"
      ]
     },
     "execution_count": 264,
     "metadata": {},
     "output_type": "execute_result"
    }
   ],
   "source": [
    "pd.DataFrame(test.coverage.value_counts().reset_index().sort_index())"
   ]
  },
  {
   "cell_type": "markdown",
   "id": "0f84929a-631f-4e80-8ccd-9a9fb5f304cc",
   "metadata": {},
   "source": [
    "**Fixing the fact that one row is parsed as an onject**"
   ]
  },
  {
   "cell_type": "code",
   "execution_count": 165,
   "id": "3b4fd18b-d174-4a6a-bd2d-6ad1071fd0da",
   "metadata": {},
   "outputs": [],
   "source": [
    "t = test.loc[56564]"
   ]
  },
  {
   "cell_type": "code",
   "execution_count": 173,
   "id": "da8a6c21-06c1-4114-97cd-6ad9809c55a2",
   "metadata": {},
   "outputs": [
    {
     "data": {
      "text/plain": [
       "Bin                                                 (150, 200]\n",
       "GNIS_Name                                    Connecticut River\n",
       "LengthKM                                                  1.09\n",
       "NHDPlusID                                     10000900090396.0\n",
       "WidthM                                               194.59681\n",
       "geometry     LINESTRING (-8084889.447882293 5184680.8365334...\n",
       "segments     [LINESTRING (-8084889.447882293 5184680.836533...\n",
       "Name: 56564, dtype: object"
      ]
     },
     "execution_count": 173,
     "metadata": {},
     "output_type": "execute_result"
    }
   ],
   "source": [
    "t"
   ]
  },
  {
   "cell_type": "code",
   "execution_count": 169,
   "id": "1876b437-db7c-45c6-98cb-6a3e1789ba10",
   "metadata": {},
   "outputs": [
    {
     "data": {
      "text/plain": [
       "[<LINESTRING (-8084889.448 5184680.837, -8084890.42 5184667.401, -8084891.474...>,\n",
       " <LINESTRING (-8084901.142 5184534.866, -8084901.307 5184532.551, -8084902.17...>,\n",
       " <LINESTRING (-8084905.153 5184388.531, -8084905.077 5184383.928, -8084904.76...>,\n",
       " <LINESTRING (-8084896.952 5184242.353, -8084896.349 5184235.497, -8084895.12...>,\n",
       " <LINESTRING (-8084879.77 5184096.956, -8084878.308 5184087.769, -8084876.044...>,\n",
       " <LINESTRING (-8084846.689 5183954.414, -8084843.665 5183943.226, -8084840.19...>,\n",
       " <LINESTRING (-8084821.679 5183810.548, -8084821.646 5183810.008, -8084820.66...>,\n",
       " <LINESTRING (-8084781.569 5183671.147, -8084780.613 5183668.513, -8084777.14...>,\n",
       " <LINESTRING (-8084724.279 5183539.226, -8084721.525 5183534.868, -8084715.07...>,\n",
       " <LINESTRING (-8084653.901 5183411.084, -8084649.709 5183405.089, -8084641.84...>]"
      ]
     },
     "execution_count": 169,
     "metadata": {},
     "output_type": "execute_result"
    }
   ],
   "source": [
    "t['segments']"
   ]
  },
  {
   "cell_type": "code",
   "execution_count": 177,
   "id": "81790a69-3e64-43d4-89fa-709f2a26a457",
   "metadata": {},
   "outputs": [],
   "source": [
    "tt = gpd.GeoSeries(data=t['segments'], crs=basin_crop.crs)"
   ]
  },
  {
   "cell_type": "code",
   "execution_count": 178,
   "id": "c5325417-1e89-4f93-ae74-207f9447939f",
   "metadata": {},
   "outputs": [
    {
     "data": {
      "text/plain": [
       "0    LINESTRING (-8084889.448 5184680.837, -8084890...\n",
       "1    LINESTRING (-8084901.142 5184534.866, -8084901...\n",
       "2    LINESTRING (-8084905.153 5184388.531, -8084905...\n",
       "3    LINESTRING (-8084896.952 5184242.353, -8084896...\n",
       "4    LINESTRING (-8084879.77 5184096.956, -8084878....\n",
       "5    LINESTRING (-8084846.689 5183954.414, -8084843...\n",
       "6    LINESTRING (-8084821.679 5183810.548, -8084821...\n",
       "7    LINESTRING (-8084781.569 5183671.147, -8084780...\n",
       "8    LINESTRING (-8084724.279 5183539.226, -8084721...\n",
       "9    LINESTRING (-8084653.901 5183411.084, -8084649...\n",
       "dtype: geometry"
      ]
     },
     "execution_count": 178,
     "metadata": {},
     "output_type": "execute_result"
    }
   ],
   "source": [
    "tt"
   ]
  },
  {
   "cell_type": "code",
   "execution_count": 185,
   "id": "93dde103-467e-445b-bca9-4191ae871d6e",
   "metadata": {},
   "outputs": [],
   "source": [
    "testy = tt.buffer(distance=(t.WidthM/2),cap_style='flat')"
   ]
  },
  {
   "cell_type": "code",
   "execution_count": 187,
   "id": "b6a1843f-fa77-415d-a38f-73569f8d7449",
   "metadata": {},
   "outputs": [
    {
     "data": {
      "text/plain": [
       "<Axes: >"
      ]
     },
     "execution_count": 187,
     "metadata": {},
     "output_type": "execute_result"
    },
    {
     "data": {
      "image/png": "[encoded data removed]",
      "text/plain": [
       "<Figure size 640x480 with 1 Axes>"
      ]
     },
     "metadata": {},
     "output_type": "display_data"
    }
   ],
   "source": [
    "testy.plot(cmap='hsv')"
   ]
  },
  {
   "cell_type": "code",
   "execution_count": 195,
   "id": "cdf95a6a-1eff-4078-8386-b236eaf2514b",
   "metadata": {},
   "outputs": [],
   "source": [
    "testy = gpd.GeoDataFrame(geometry=testy)"
   ]
  },
  {
   "cell_type": "code",
   "execution_count": 196,
   "id": "93e9684d-6224-492d-94bc-3641b4323343",
   "metadata": {},
   "outputs": [
    {
     "data": {
      "text/html": [
       "<div>\n",
       "<style scoped>\n",
       "    .dataframe tbody tr th:only-of-type {\n",
       "        vertical-align: middle;\n",
       "    }\n",
       "\n",
       "    .dataframe tbody tr th {\n",
       "        vertical-align: top;\n",
       "    }\n",
       "\n",
       "    .dataframe thead th {\n",
       "        text-align: right;\n",
       "    }\n",
       "</style>\n",
       "<table border=\"1\" class=\"dataframe\">\n",
       "  <thead>\n",
       "    <tr style=\"text-align: right;\">\n",
       "      <th></th>\n",
       "      <th>geometry</th>\n",
       "    </tr>\n",
       "  </thead>\n",
       "  <tbody>\n",
       "    <tr>\n",
       "      <th>0</th>\n",
       "      <td>POLYGON ((-8084793.375 5184660.379, -8084793.4...</td>\n",
       "    </tr>\n",
       "    <tr>\n",
       "      <th>1</th>\n",
       "      <td>POLYGON ((-8084804.23 5184525.979, -8084805.06...</td>\n",
       "    </tr>\n",
       "    <tr>\n",
       "      <th>2</th>\n",
       "      <td>POLYGON ((-8084807.797 5184385.849, -8084807.5...</td>\n",
       "    </tr>\n",
       "    <tr>\n",
       "      <th>3</th>\n",
       "      <td>POLYGON ((-8084799.436 5184244.146, -8084798.2...</td>\n",
       "    </tr>\n",
       "    <tr>\n",
       "      <th>4</th>\n",
       "      <td>POLYGON ((-8084782.299 5184103.564, -8084780.2...</td>\n",
       "    </tr>\n",
       "    <tr>\n",
       "      <th>5</th>\n",
       "      <td>POLYGON ((-8084749.736 5183968.611, -8084749.5...</td>\n",
       "    </tr>\n",
       "    <tr>\n",
       "      <th>6</th>\n",
       "      <td>POLYGON ((-8084724.561 5183816.472, -8084723.6...</td>\n",
       "    </tr>\n",
       "    <tr>\n",
       "      <th>7</th>\n",
       "      <td>POLYGON ((-8084871.789 5183638.415, -8084690.1...</td>\n",
       "    </tr>\n",
       "    <tr>\n",
       "      <th>8</th>\n",
       "      <td>POLYGON ((-8084639.274 5183586.846, -8084635.9...</td>\n",
       "    </tr>\n",
       "    <tr>\n",
       "      <th>9</th>\n",
       "      <td>POLYGON ((-8084570.31 5183461.331, -8084563.10...</td>\n",
       "    </tr>\n",
       "  </tbody>\n",
       "</table>\n",
       "</div>"
      ],
      "text/plain": [
       "                                            geometry\n",
       "0  POLYGON ((-8084793.375 5184660.379, -8084793.4...\n",
       "1  POLYGON ((-8084804.23 5184525.979, -8084805.06...\n",
       "2  POLYGON ((-8084807.797 5184385.849, -8084807.5...\n",
       "3  POLYGON ((-8084799.436 5184244.146, -8084798.2...\n",
       "4  POLYGON ((-8084782.299 5184103.564, -8084780.2...\n",
       "5  POLYGON ((-8084749.736 5183968.611, -8084749.5...\n",
       "6  POLYGON ((-8084724.561 5183816.472, -8084723.6...\n",
       "7  POLYGON ((-8084871.789 5183638.415, -8084690.1...\n",
       "8  POLYGON ((-8084639.274 5183586.846, -8084635.9...\n",
       "9  POLYGON ((-8084570.31 5183461.331, -8084563.10..."
      ]
     },
     "execution_count": 196,
     "metadata": {},
     "output_type": "execute_result"
    }
   ],
   "source": [
    "testy"
   ]
  },
  {
   "cell_type": "code",
   "execution_count": 204,
   "id": "98a41601-3067-4236-bdfb-5175f0ff6773",
   "metadata": {},
   "outputs": [
    {
     "name": "stdout",
     "output_type": "stream",
     "text": [
      "   segment  count\n",
      "0        9     29\n",
      "1        6     27\n",
      "2        8     26\n",
      "3        5     26\n",
      "4        3     23\n",
      "5        7     21\n",
      "6        1     12\n",
      "7        4     11\n",
      "8        2     11\n",
      "0.9\n"
     ]
    }
   ],
   "source": [
    "# Get pixels in reach\n",
    "inside = gpd.sjoin(gdf_PIXC, testy, how='inner',\n",
    "                   predicate='within').rename(columns={'index_right': 'segment'})\n",
    "\n",
    "if inside.empty:\n",
    "    prop = 0\n",
    "else:    \n",
    "    # Get number of pixels in each reach segment\n",
    "    counts = pd.DataFrame(inside.segment.value_counts().reset_index().sort_index())\n",
    "    print(counts)\n",
    "    # Calculate coverage (proportion of reaches with >= 1 pixel in them)\n",
    "    prop = len(counts.loc[counts['count'] != 0])/10\n",
    "    print(prop)\n",
    "# return prop"
   ]
  },
  {
   "cell_type": "code",
   "execution_count": 199,
   "id": "edcbc2fe-94e9-4d80-9c6a-6269152cb62e",
   "metadata": {},
   "outputs": [
    {
     "data": {
      "text/html": [
       "<div>\n",
       "<style scoped>\n",
       "    .dataframe tbody tr th:only-of-type {\n",
       "        vertical-align: middle;\n",
       "    }\n",
       "\n",
       "    .dataframe tbody tr th {\n",
       "        vertical-align: top;\n",
       "    }\n",
       "\n",
       "    .dataframe thead th {\n",
       "        text-align: right;\n",
       "    }\n",
       "</style>\n",
       "<table border=\"1\" class=\"dataframe\">\n",
       "  <thead>\n",
       "    <tr style=\"text-align: right;\">\n",
       "      <th></th>\n",
       "      <th>klass</th>\n",
       "      <th>geometry</th>\n",
       "      <th>index_right</th>\n",
       "    </tr>\n",
       "  </thead>\n",
       "  <tbody>\n",
       "    <tr>\n",
       "      <th>314779</th>\n",
       "      <td>4.0</td>\n",
       "      <td>POINT (-8084648.72 5183245.708)</td>\n",
       "      <td>9</td>\n",
       "    </tr>\n",
       "    <tr>\n",
       "      <th>315409</th>\n",
       "      <td>4.0</td>\n",
       "      <td>POINT (-8084674.037 5183282.269)</td>\n",
       "      <td>9</td>\n",
       "    </tr>\n",
       "    <tr>\n",
       "      <th>315410</th>\n",
       "      <td>4.0</td>\n",
       "      <td>POINT (-8084648.543 5183275.891)</td>\n",
       "      <td>9</td>\n",
       "    </tr>\n",
       "    <tr>\n",
       "      <th>315411</th>\n",
       "      <td>4.0</td>\n",
       "      <td>POINT (-8084610.499 5183266.371)</td>\n",
       "      <td>9</td>\n",
       "    </tr>\n",
       "    <tr>\n",
       "      <th>316034</th>\n",
       "      <td>5.0</td>\n",
       "      <td>POINT (-8084704.832 5183320.186)</td>\n",
       "      <td>9</td>\n",
       "    </tr>\n",
       "    <tr>\n",
       "      <th>...</th>\n",
       "      <td>...</td>\n",
       "      <td>...</td>\n",
       "      <td>...</td>\n",
       "    </tr>\n",
       "    <tr>\n",
       "      <th>337046</th>\n",
       "      <td>5.0</td>\n",
       "      <td>POINT (-8084885.594 5184483.85)</td>\n",
       "      <td>1</td>\n",
       "    </tr>\n",
       "    <tr>\n",
       "      <th>337047</th>\n",
       "      <td>5.0</td>\n",
       "      <td>POINT (-8084824.49 5184468.559)</td>\n",
       "      <td>1</td>\n",
       "    </tr>\n",
       "    <tr>\n",
       "      <th>337048</th>\n",
       "      <td>5.0</td>\n",
       "      <td>POINT (-8084839.167 5184472.234)</td>\n",
       "      <td>1</td>\n",
       "    </tr>\n",
       "    <tr>\n",
       "      <th>337607</th>\n",
       "      <td>5.0</td>\n",
       "      <td>POINT (-8084864.844 5184508.888)</td>\n",
       "      <td>1</td>\n",
       "    </tr>\n",
       "    <tr>\n",
       "      <th>338131</th>\n",
       "      <td>5.0</td>\n",
       "      <td>POINT (-8084825.388 5184529.243)</td>\n",
       "      <td>1</td>\n",
       "    </tr>\n",
       "  </tbody>\n",
       "</table>\n",
       "<p>186 rows × 3 columns</p>\n",
       "</div>"
      ],
      "text/plain": [
       "        klass                          geometry  index_right\n",
       "314779    4.0   POINT (-8084648.72 5183245.708)            9\n",
       "315409    4.0  POINT (-8084674.037 5183282.269)            9\n",
       "315410    4.0  POINT (-8084648.543 5183275.891)            9\n",
       "315411    4.0  POINT (-8084610.499 5183266.371)            9\n",
       "316034    5.0  POINT (-8084704.832 5183320.186)            9\n",
       "...       ...                               ...          ...\n",
       "337046    5.0   POINT (-8084885.594 5184483.85)            1\n",
       "337047    5.0   POINT (-8084824.49 5184468.559)            1\n",
       "337048    5.0  POINT (-8084839.167 5184472.234)            1\n",
       "337607    5.0  POINT (-8084864.844 5184508.888)            1\n",
       "338131    5.0  POINT (-8084825.388 5184529.243)            1\n",
       "\n",
       "[186 rows x 3 columns]"
      ]
     },
     "execution_count": 199,
     "metadata": {},
     "output_type": "execute_result"
    }
   ],
   "source": [
    "inside"
   ]
  },
  {
   "cell_type": "code",
   "execution_count": 85,
   "id": "b7ab716b-d42c-4acd-aa83-c10fbff8b4fa",
   "metadata": {},
   "outputs": [
    {
     "data": {
      "image/png": "[encoded data removed]",
      "text/plain": [
       "<Figure size 640x480 with 1 Axes>"
      ]
     },
     "metadata": {},
     "output_type": "display_data"
    }
   ],
   "source": [
    "# plt.scatter(x=ordered, y=coverage, c='k')\n",
    "plt.scatter(x=coverage.keys(), y=coverage.values(), c='k')\n",
    "plt.title('Percent of reach detected in HUC4 0108 by \\n'\n",
    "          + tile_name)\n",
    "plt.xticks(rotation=-45);\n",
    "plt.xlabel('Bankfull Width (m)')\n",
    "plt.ylabel('Percent Detected')\n",
    "plt.savefig(fname='./figures_for_unit_test/one_tile_one_reach_per_bin.png', bbox_inches='tight')"
   ]
  },
  {
   "cell_type": "markdown",
   "id": "9a1198b2-4b74-4e28-9f34-cb03b74a80f8",
   "metadata": {},
   "source": [
    "**TESTING**"
   ]
  },
  {
   "cell_type": "code",
   "execution_count": 88,
   "id": "78a94616-a0fe-47d9-84d9-5cdb32f86c18",
   "metadata": {},
   "outputs": [
    {
     "data": {
      "text/html": [
       "<div>\n",
       "<style scoped>\n",
       "    .dataframe tbody tr th:only-of-type {\n",
       "        vertical-align: middle;\n",
       "    }\n",
       "\n",
       "    .dataframe tbody tr th {\n",
       "        vertical-align: top;\n",
       "    }\n",
       "\n",
       "    .dataframe thead th {\n",
       "        text-align: right;\n",
       "    }\n",
       "</style>\n",
       "<table border=\"1\" class=\"dataframe\">\n",
       "  <thead>\n",
       "    <tr style=\"text-align: right;\">\n",
       "      <th></th>\n",
       "      <th>Bin</th>\n",
       "      <th>GNIS_Name</th>\n",
       "      <th>LengthKM</th>\n",
       "      <th>NHDPlusID</th>\n",
       "      <th>WidthM</th>\n",
       "      <th>geometry</th>\n",
       "    </tr>\n",
       "  </thead>\n",
       "  <tbody>\n",
       "    <tr>\n",
       "      <th>58014</th>\n",
       "      <td>(20, 30]</td>\n",
       "      <td>Fort River</td>\n",
       "      <td>1.464</td>\n",
       "      <td>1.000090e+13</td>\n",
       "      <td>21.810459</td>\n",
       "      <td>LINESTRING (-8072279.293 5214944.614, -8072290...</td>\n",
       "    </tr>\n",
       "  </tbody>\n",
       "</table>\n",
       "</div>"
      ],
      "text/plain": [
       "            Bin   GNIS_Name  LengthKM     NHDPlusID     WidthM  \\\n",
       "58014  (20, 30]  Fort River     1.464  1.000090e+13  21.810459   \n",
       "\n",
       "                                                geometry  \n",
       "58014  LINESTRING (-8072279.293 5214944.614, -8072290...  "
      ]
     },
     "execution_count": 88,
     "metadata": {},
     "output_type": "execute_result"
    }
   ],
   "source": [
    "test = basin_crop[basin_crop['GNIS_Name'] == 'Fort River'].sample(n=1)\n",
    "test"
   ]
  },
  {
   "cell_type": "code",
   "execution_count": 89,
   "id": "c02f9169-ee11-441a-9f61-68ccb505226b",
   "metadata": {},
   "outputs": [
    {
     "data": {
      "text/plain": [
       "<Projected CRS: EPSG:3857>\n",
       "Name: WGS 84 / Pseudo-Mercator\n",
       "Axis Info [cartesian]:\n",
       "- X[east]: Easting (metre)\n",
       "- Y[north]: Northing (metre)\n",
       "Area of Use:\n",
       "- name: World between 85.06°S and 85.06°N.\n",
       "- bounds: (-180.0, -85.06, 180.0, 85.06)\n",
       "Coordinate Operation:\n",
       "- name: Popular Visualisation Pseudo-Mercator\n",
       "- method: Popular Visualisation Pseudo Mercator\n",
       "Datum: World Geodetic System 1984 ensemble\n",
       "- Ellipsoid: WGS 84\n",
       "- Prime Meridian: Greenwich"
      ]
     },
     "execution_count": 89,
     "metadata": {},
     "output_type": "execute_result"
    }
   ],
   "source": [
    "test.crs"
   ]
  },
  {
   "cell_type": "code",
   "execution_count": 90,
   "id": "58a047af-f3a4-4fff-8528-3ff5b66be313",
   "metadata": {},
   "outputs": [],
   "source": [
    "# Try with apply()\n",
    "# test['segments'] = test.apply(segmentReach, axis=1)\n",
    "\n",
    "test['segments'] = test.apply(func=segmentReach, axis=1)"
   ]
  },
  {
   "cell_type": "code",
   "execution_count": 91,
   "id": "83597559-8afb-4d86-a393-f420f843f3b6",
   "metadata": {},
   "outputs": [
    {
     "data": {
      "text/html": [
       "<div>\n",
       "<style scoped>\n",
       "    .dataframe tbody tr th:only-of-type {\n",
       "        vertical-align: middle;\n",
       "    }\n",
       "\n",
       "    .dataframe tbody tr th {\n",
       "        vertical-align: top;\n",
       "    }\n",
       "\n",
       "    .dataframe thead th {\n",
       "        text-align: right;\n",
       "    }\n",
       "</style>\n",
       "<table border=\"1\" class=\"dataframe\">\n",
       "  <thead>\n",
       "    <tr style=\"text-align: right;\">\n",
       "      <th></th>\n",
       "      <th>Bin</th>\n",
       "      <th>GNIS_Name</th>\n",
       "      <th>LengthKM</th>\n",
       "      <th>NHDPlusID</th>\n",
       "      <th>WidthM</th>\n",
       "      <th>geometry</th>\n",
       "      <th>segments</th>\n",
       "    </tr>\n",
       "  </thead>\n",
       "  <tbody>\n",
       "    <tr>\n",
       "      <th>58014</th>\n",
       "      <td>(20, 30]</td>\n",
       "      <td>Fort River</td>\n",
       "      <td>1.464</td>\n",
       "      <td>1.000090e+13</td>\n",
       "      <td>21.810459</td>\n",
       "      <td>LINESTRING (-8072279.293 5214944.614, -8072290...</td>\n",
       "      <td>[LINESTRING (-8072279.292689738 5214944.614315...</td>\n",
       "    </tr>\n",
       "  </tbody>\n",
       "</table>\n",
       "</div>"
      ],
      "text/plain": [
       "            Bin   GNIS_Name  LengthKM     NHDPlusID     WidthM  \\\n",
       "58014  (20, 30]  Fort River     1.464  1.000090e+13  21.810459   \n",
       "\n",
       "                                                geometry  \\\n",
       "58014  LINESTRING (-8072279.293 5214944.614, -8072290...   \n",
       "\n",
       "                                                segments  \n",
       "58014  [LINESTRING (-8072279.292689738 5214944.614315...  "
      ]
     },
     "execution_count": 91,
     "metadata": {},
     "output_type": "execute_result"
    }
   ],
   "source": [
    "test"
   ]
  },
  {
   "cell_type": "code",
   "execution_count": 92,
   "id": "dbdc474e-c462-48a3-b55c-1fbe5cd38b3d",
   "metadata": {},
   "outputs": [
    {
     "data": {
      "text/plain": [
       "<Projected CRS: EPSG:3857>\n",
       "Name: WGS 84 / Pseudo-Mercator\n",
       "Axis Info [cartesian]:\n",
       "- X[east]: Easting (metre)\n",
       "- Y[north]: Northing (metre)\n",
       "Area of Use:\n",
       "- name: World between 85.06°S and 85.06°N.\n",
       "- bounds: (-180.0, -85.06, 180.0, 85.06)\n",
       "Coordinate Operation:\n",
       "- name: Popular Visualisation Pseudo-Mercator\n",
       "- method: Popular Visualisation Pseudo Mercator\n",
       "Datum: World Geodetic System 1984 ensemble\n",
       "- Ellipsoid: WGS 84\n",
       "- Prime Meridian: Greenwich"
      ]
     },
     "execution_count": 92,
     "metadata": {},
     "output_type": "execute_result"
    }
   ],
   "source": [
    "test.crs"
   ]
  },
  {
   "cell_type": "code",
   "execution_count": 93,
   "id": "1f966bf6-71b8-496f-9cc7-cfcb2bdd4c8f",
   "metadata": {},
   "outputs": [],
   "source": [
    "test = test.rename(columns={'geometry': 'geometry_full'}).set_geometry('geometry_full')"
   ]
  },
  {
   "cell_type": "code",
   "execution_count": 94,
   "id": "809fcf65-2970-4ae1-be19-1404c6c8d318",
   "metadata": {},
   "outputs": [],
   "source": [
    "assert test.geometry.name == 'geometry_full'"
   ]
  },
  {
   "cell_type": "markdown",
   "id": "0beb5fa5-5dac-4787-9b35-089b07cc9436",
   "metadata": {},
   "source": [
    "**Inside Function**"
   ]
  },
  {
   "cell_type": "code",
   "execution_count": 95,
   "id": "cedd628d-f092-486c-b0de-9fc7c7d8241b",
   "metadata": {},
   "outputs": [],
   "source": [
    "test = test.explode(column='segments').reset_index()"
   ]
  },
  {
   "cell_type": "code",
   "execution_count": 96,
   "id": "6ed57983-31fe-402b-b73d-99cc8df2f334",
   "metadata": {},
   "outputs": [
    {
     "data": {
      "text/plain": [
       "<Projected CRS: EPSG:3857>\n",
       "Name: WGS 84 / Pseudo-Mercator\n",
       "Axis Info [cartesian]:\n",
       "- X[east]: Easting (metre)\n",
       "- Y[north]: Northing (metre)\n",
       "Area of Use:\n",
       "- name: World between 85.06°S and 85.06°N.\n",
       "- bounds: (-180.0, -85.06, 180.0, 85.06)\n",
       "Coordinate Operation:\n",
       "- name: Popular Visualisation Pseudo-Mercator\n",
       "- method: Popular Visualisation Pseudo Mercator\n",
       "Datum: World Geodetic System 1984 ensemble\n",
       "- Ellipsoid: WGS 84\n",
       "- Prime Meridian: Greenwich"
      ]
     },
     "execution_count": 96,
     "metadata": {},
     "output_type": "execute_result"
    }
   ],
   "source": [
    "test.crs"
   ]
  },
  {
   "cell_type": "code",
   "execution_count": 97,
   "id": "943a199d-859e-4a35-9454-b43dc0ac7372",
   "metadata": {},
   "outputs": [],
   "source": [
    "# Set segments as the active geometry column, set CRS as it is somehow dropped\n",
    "test = test.set_geometry('segments').set_crs(crs=basin_crop.crs)"
   ]
  },
  {
   "cell_type": "code",
   "execution_count": 98,
   "id": "f0e26577-41e0-4815-815c-0b8a9ab033f9",
   "metadata": {},
   "outputs": [
    {
     "data": {
      "text/plain": [
       "'segments'"
      ]
     },
     "execution_count": 98,
     "metadata": {},
     "output_type": "execute_result"
    }
   ],
   "source": [
    "test.geometry.name"
   ]
  },
  {
   "cell_type": "code",
   "execution_count": 99,
   "id": "45146a6a-7c7f-4bcd-8fae-15e7b4f8c8c4",
   "metadata": {},
   "outputs": [
    {
     "data": {
      "text/plain": [
       "<Projected CRS: EPSG:3857>\n",
       "Name: WGS 84 / Pseudo-Mercator\n",
       "Axis Info [cartesian]:\n",
       "- X[east]: Easting (metre)\n",
       "- Y[north]: Northing (metre)\n",
       "Area of Use:\n",
       "- name: World between 85.06°S and 85.06°N.\n",
       "- bounds: (-180.0, -85.06, 180.0, 85.06)\n",
       "Coordinate Operation:\n",
       "- name: Popular Visualisation Pseudo-Mercator\n",
       "- method: Popular Visualisation Pseudo Mercator\n",
       "Datum: World Geodetic System 1984 ensemble\n",
       "- Ellipsoid: WGS 84\n",
       "- Prime Meridian: Greenwich"
      ]
     },
     "execution_count": 99,
     "metadata": {},
     "output_type": "execute_result"
    }
   ],
   "source": [
    "test.crs"
   ]
  },
  {
   "cell_type": "code",
   "execution_count": 100,
   "id": "4ac74434-9673-4ee0-b624-3fd71c6c5aad",
   "metadata": {},
   "outputs": [],
   "source": [
    "test['segments_buff'] = test.geometry.buffer(distance=(test.WidthM/2)[0], cap_style='flat')"
   ]
  },
  {
   "cell_type": "code",
   "execution_count": 101,
   "id": "3eb928a0-25b8-43de-a88a-ac0183680d0b",
   "metadata": {},
   "outputs": [],
   "source": [
    "test = test.set_geometry('segments_buff')"
   ]
  },
  {
   "cell_type": "code",
   "execution_count": 102,
   "id": "4231b01c-4562-48bc-8523-21758ca93ca8",
   "metadata": {},
   "outputs": [
    {
     "data": {
      "text/plain": [
       "<Projected CRS: EPSG:3857>\n",
       "Name: WGS 84 / Pseudo-Mercator\n",
       "Axis Info [cartesian]:\n",
       "- X[east]: Easting (metre)\n",
       "- Y[north]: Northing (metre)\n",
       "Area of Use:\n",
       "- name: World between 85.06°S and 85.06°N.\n",
       "- bounds: (-180.0, -85.06, 180.0, 85.06)\n",
       "Coordinate Operation:\n",
       "- name: Popular Visualisation Pseudo-Mercator\n",
       "- method: Popular Visualisation Pseudo Mercator\n",
       "Datum: World Geodetic System 1984 ensemble\n",
       "- Ellipsoid: WGS 84\n",
       "- Prime Meridian: Greenwich"
      ]
     },
     "execution_count": 102,
     "metadata": {},
     "output_type": "execute_result"
    }
   ],
   "source": [
    "test.crs"
   ]
  },
  {
   "cell_type": "code",
   "execution_count": 103,
   "id": "04cc0160-aed3-418d-9f32-46e23dac78d6",
   "metadata": {},
   "outputs": [
    {
     "data": {
      "text/plain": [
       "<Axes: >"
      ]
     },
     "execution_count": 103,
     "metadata": {},
     "output_type": "execute_result"
    },
    {
     "data": {
      "image/png": "[encoded data removed]",
      "text/plain": [
       "<Figure size 640x480 with 1 Axes>"
      ]
     },
     "metadata": {},
     "output_type": "display_data"
    }
   ],
   "source": [
    "test.plot(cmap='hsv')"
   ]
  },
  {
   "cell_type": "code",
   "execution_count": 104,
   "id": "87195907-b06b-4691-a8fa-6606ae43913b",
   "metadata": {},
   "outputs": [],
   "source": [
    "inside = gpd.sjoin(gdf_PIXC, test, how='inner', predicate='within').rename(columns={'index_right': 'segment'})\n"
   ]
  },
  {
   "cell_type": "code",
   "execution_count": 105,
   "id": "aef97a55-0d8a-4d0d-90e8-76427968e413",
   "metadata": {},
   "outputs": [
    {
     "data": {
      "text/plain": [
       "'geometry'"
      ]
     },
     "execution_count": 105,
     "metadata": {},
     "output_type": "execute_result"
    }
   ],
   "source": [
    "inside.geometry.name"
   ]
  },
  {
   "cell_type": "code",
   "execution_count": 107,
   "id": "b02d2d69-e79c-4b1d-8bbd-0c155a8f5963",
   "metadata": {},
   "outputs": [
    {
     "name": "stdout",
     "output_type": "stream",
     "text": [
      "                                            segments  count\n",
      "0  LINESTRING (-8072663.681 5214877.028, -8072670...      4\n",
      "1  LINESTRING (-8073311.132 5213726.603, -8073305...      2\n",
      "2  LINESTRING (-8072956.958 5214403.522, -8072963...      2\n",
      "3  LINESTRING (-8073242.164 5213883.159, -8073242...      1\n",
      "4  LINESTRING (-8073060.785 5214234.964, -8073062...      1\n",
      "5  LINESTRING (-8072809.554 5214527.463, -8072813...      1\n",
      "6  LINESTRING (-8072767.261 5214717.998, -8072767...      1\n",
      "7  LINESTRING (-8072476.578 5214937.534, -8072478...      1\n",
      "0.8\n"
     ]
    }
   ],
   "source": [
    "if inside.empty:\n",
    "    prop = 0\n",
    "else:    \n",
    "    # Get number of pixels in each reach segment\n",
    "    counts = pd.DataFrame(inside.segments.value_counts().reset_index().sort_index())\n",
    "    print(counts)\n",
    "    # Calculate coverage\n",
    "    prop = len(counts.loc[counts['count'] != 0])/10\n",
    "    print(prop)"
   ]
  },
  {
   "cell_type": "code",
   "execution_count": 130,
   "id": "e2ee69db-8e97-4534-86da-6fcd3b0990bb",
   "metadata": {},
   "outputs": [],
   "source": [
    "# test['new_index'] = test.groupby('index').cumcount()"
   ]
  },
  {
   "cell_type": "code",
   "execution_count": null,
   "id": "beabbb10-7d35-4af4-bb00-a49e473d40eb",
   "metadata": {},
   "outputs": [],
   "source": [
    "# test.iloc[0:10].apply(func=getCoverage)"
   ]
  },
  {
   "cell_type": "code",
   "execution_count": null,
   "id": "ce55544a-2b92-470c-8286-b8c8f3220c7f",
   "metadata": {},
   "outputs": [],
   "source": [
    "# test['coverage'] = test.apply(func=getCoverage)"
   ]
  },
  {
   "cell_type": "markdown",
   "id": "f5193656-d5c6-42b9-99ee-44d188e4531e",
   "metadata": {
    "tags": []
   },
   "source": [
    "#### TESTING"
   ]
  },
  {
   "cell_type": "code",
   "execution_count": 22,
   "id": "f8a4b298-7d94-4ec5-b7c9-ac1d3d8c4643",
   "metadata": {},
   "outputs": [],
   "source": [
    "# Initialize lists\n",
    "coverage = []\n",
    "reach_bins = []"
   ]
  },
  {
   "cell_type": "code",
   "execution_count": 23,
   "id": "1454bdd9-5384-468b-bfbf-6c08c883486e",
   "metadata": {},
   "outputs": [
    {
     "data": {
      "text/plain": [
       "'(150, 200]'"
      ]
     },
     "execution_count": 23,
     "metadata": {},
     "output_type": "execute_result"
    }
   ],
   "source": [
    "binn = bins[2]\n",
    "binn"
   ]
  },
  {
   "cell_type": "code",
   "execution_count": 24,
   "id": "5d9ade2d-1c5d-484e-b4e3-7ce71e9e6f0d",
   "metadata": {},
   "outputs": [],
   "source": [
    "reach = basin_crop.loc[basin_crop['Bin'] == binn].sample(n=1)"
   ]
  },
  {
   "cell_type": "code",
   "execution_count": 25,
   "id": "f5037746-b659-45c4-938e-d30291ad1553",
   "metadata": {},
   "outputs": [
    {
     "data": {
      "text/html": [
       "<div>\n",
       "<style scoped>\n",
       "    .dataframe tbody tr th:only-of-type {\n",
       "        vertical-align: middle;\n",
       "    }\n",
       "\n",
       "    .dataframe tbody tr th {\n",
       "        vertical-align: top;\n",
       "    }\n",
       "\n",
       "    .dataframe thead th {\n",
       "        text-align: right;\n",
       "    }\n",
       "</style>\n",
       "<table border=\"1\" class=\"dataframe\">\n",
       "  <thead>\n",
       "    <tr style=\"text-align: right;\">\n",
       "      <th></th>\n",
       "      <th>Bin</th>\n",
       "      <th>GNIS_Name</th>\n",
       "      <th>LengthKM</th>\n",
       "      <th>NHDPlusID</th>\n",
       "      <th>WidthM</th>\n",
       "      <th>geometry</th>\n",
       "    </tr>\n",
       "  </thead>\n",
       "  <tbody>\n",
       "    <tr>\n",
       "      <th>64496</th>\n",
       "      <td>(150, 200]</td>\n",
       "      <td>Connecticut River</td>\n",
       "      <td>1.663</td>\n",
       "      <td>1.000090e+13</td>\n",
       "      <td>191.781368</td>\n",
       "      <td>LINESTRING (-8083489.406 5213595.38, -8083505....</td>\n",
       "    </tr>\n",
       "  </tbody>\n",
       "</table>\n",
       "</div>"
      ],
      "text/plain": [
       "              Bin          GNIS_Name  LengthKM     NHDPlusID      WidthM  \\\n",
       "64496  (150, 200]  Connecticut River     1.663  1.000090e+13  191.781368   \n",
       "\n",
       "                                                geometry  \n",
       "64496  LINESTRING (-8083489.406 5213595.38, -8083505....  "
      ]
     },
     "execution_count": 25,
     "metadata": {},
     "output_type": "execute_result"
    }
   ],
   "source": [
    "reach"
   ]
  },
  {
   "cell_type": "code",
   "execution_count": 134,
   "id": "9c10e93e-7a30-4e37-9c48-5bb16f004831",
   "metadata": {},
   "outputs": [
    {
     "data": {
      "text/plain": [
       "<Axes: >"
      ]
     },
     "execution_count": 134,
     "metadata": {},
     "output_type": "execute_result"
    },
    {
     "data": {
      "image/png": "[encoded data removed]",
      "text/plain": [
       "<Figure size 640x480 with 1 Axes>"
      ]
     },
     "metadata": {},
     "output_type": "display_data"
    }
   ],
   "source": [
    "reach.plot()"
   ]
  },
  {
   "cell_type": "code",
   "execution_count": 135,
   "id": "cbafe53b-57a0-4447-bf02-162282847014",
   "metadata": {},
   "outputs": [],
   "source": [
    "reach_bins.append(reach.iloc[0,0])"
   ]
  },
  {
   "cell_type": "code",
   "execution_count": 136,
   "id": "3ecf5de1-a97b-4a05-8317-de49abeddaa4",
   "metadata": {},
   "outputs": [
    {
     "data": {
      "text/plain": [
       "['(150, 200]', '(150, 200]']"
      ]
     },
     "execution_count": 136,
     "metadata": {},
     "output_type": "execute_result"
    }
   ],
   "source": [
    "reach_bins"
   ]
  },
  {
   "cell_type": "code",
   "execution_count": 26,
   "id": "953100c7-83cf-4332-ba4e-965c6ca4a19e",
   "metadata": {},
   "outputs": [
    {
     "data": {
      "text/plain": [
       "<Axes: >"
      ]
     },
     "execution_count": 26,
     "metadata": {},
     "output_type": "execute_result"
    },
    {
     "data": {
      "image/png": "[encoded data removed]",
      "text/plain": [
       "<Figure size 640x480 with 1 Axes>"
      ]
     },
     "metadata": {},
     "output_type": "display_data"
    }
   ],
   "source": [
    "# Convert MultiLineString Z to LineString (returns GeoSeries)\n",
    "gs = reach.geometry\n",
    "gs.plot()"
   ]
  },
  {
   "cell_type": "code",
   "execution_count": 27,
   "id": "7c141564-aff0-4baa-b403-460d0cdfc0f9",
   "metadata": {},
   "outputs": [
    {
     "data": {
      "text/plain": [
       "64496    LINESTRING (-8083489.406 5213595.38, -8083505....\n",
       "Name: geometry, dtype: geometry"
      ]
     },
     "execution_count": 27,
     "metadata": {},
     "output_type": "execute_result"
    }
   ],
   "source": [
    "gs"
   ]
  },
  {
   "cell_type": "code",
   "execution_count": 28,
   "id": "e8b51c2f-a4ce-424a-b93a-0a907c8cbd01",
   "metadata": {},
   "outputs": [
    {
     "data": {
      "image/svg+xml": [
       "<svg xmlns=\"http://www.w3.org/2000/svg\" xmlns:xlink=\"http://www.w3.org/1999/xlink\" width=\"300\" height=\"300\" viewBox=\"-8085767.202100367 5213507.772182331 2365.4031698377803 468.0072996849194\" preserveAspectRatio=\"xMinYMin meet\"><g transform=\"matrix(1,0,0,-1,0,10427483.551664349)\"><polyline fill=\"none\" stroke=\"#66cc99\" stroke-width=\"15.769354465585202\" points=\"-8083489.406455338,5213595.37970714 -8083505.57004175,5213597.5386817455 -8083518.95064161,5213599.476739538 -8083532.353505315,5213601.344504968 -8083545.734105213,5213603.362898131 -8083559.114705078,5213605.310998939 -8083572.495304895,5213607.178765545 -8083585.875904752,5213609.116825314 -8083599.278768419,5213610.894216169 -8083612.681632075,5213612.661565526 -8083626.08449565,5213614.268245859 -8083639.487359185,5213615.794591777 -8083652.912486512,5213617.130143013 -8083666.3821414495,5213618.144355542 -8083679.874059916,5213618.475723089 -8083693.410505853,5213618.214622109 -8083706.969215585,5213617.782809865 -8083720.505661523,5213617.521708897 -8083734.019843788,5213617.672323315 -8083747.4375495175,5213618.445531824 -8083760.884940736,5213619.781083406 -8083774.28780427,5213621.307430216 -8083787.712931786,5213622.994446757 -8083801.123216791,5213624.84213314 -8083814.503816661,5213626.790238381 -8083827.884416572,5213628.818678831 -8083841.235331391,5213631.0178312315 -8083854.571403657,5213633.297318995 -8083867.88521212,5213635.747518903 -8083881.1322289165,5213638.207761377 -8083894.342139361,5213640.919051084 -8083907.477837145,5213644.212769866 -8083920.494794316,5213647.76757853 -8083933.526594219,5213651.583477247 -8083946.5212876,5213655.319042507 -8083959.59019385,5213658.873855297 -8083972.688785114,5213662.097287178 -8083985.92838071,5213664.7182067195 -8083999.264452944,5213666.917367479 -8084012.645052768,5213668.765062478 -8084026.0330737615,5213670.361710477 -8084039.495307684,5213671.888065404 -8084052.942698925,5213673.243708338 -8084066.4197753975,5213674.669644728 -8084079.844902835,5213676.196000388 -8084093.270030364,5213677.883026721 -8084106.628366352,5213679.821101026 -8084119.934753441,5213682.100600588 -8084133.1891916385,5213684.721525665 -8084146.384259552,5213687.5232059425 -8084159.542221108,5213690.5658930475 -8084172.677918873,5213693.7893357 -8084185.813616675,5213697.0830729 -8084198.904786753,5213700.477230558 -8084211.981114228,5213703.861347515 -8084225.072284338,5213707.325801142 -8084238.163454419,5213710.719962468 -8084251.276888336,5213714.013705597 -8084264.412586108,5213717.237156242 -8084277.57054772,5213720.370230436 -8084290.787879577,5213723.252256855 -8084304.020053896,5213725.87319336 -8084317.2670707125,5213728.323417321 -8084330.58087911,5213730.602928573 -8084343.887266224,5213732.89248235 -8084357.2456023665,5213735.091658959 -8084370.544568117,5213737.270752207 -8084383.902904227,5213739.399636065 -8084397.261240274,5213741.418058731 -8084410.6195763275,5213743.446523813 -8084423.970491036,5213745.394653533 -8084437.351090937,5213747.332741663 -8084450.73169084,5213749.280872165 -8084464.112290688,5213751.128583261 -8084477.492890542,5213752.9863367155 -8084490.895754299,5213754.854132484 -8084504.276354148,5213756.701844678 -8084517.679217895,5213758.559599198 -8084531.059817752,5213760.407312118 -8084544.462681504,5213762.275109363 -8084557.843281363,5213764.132865001 -8084571.246145111,5213765.98057899 -8084584.604481085,5213767.848377372 -8084598.007344873,5213769.776428081 -8084611.387944787,5213771.724563211 -8084624.7462808015,5213773.662656764 -8084636.219609862,5213780.290370378 -8084647.819101168,5213787.26955915 -8084659.529911831,5213794.057954473 -8084671.441097297,5213800.434631151 -8084683.708504651,5213806.108369088 -8084696.146601621,5213811.380428496 -8084708.710860501,5213816.3813554 -8084721.460651625,5213821.040854923 -8084734.329183287,5213825.288632225 -8084747.286770274,5213829.094560583 -8084760.340833907,5213832.488765657 -8084773.45426786,5213835.782551203 -8084786.589965572,5213838.82528605 -8084799.762769769,5213841.868021833 -8084812.965259113,5213844.840464018 -8084826.175169706,5213847.712486307 -8084839.414765446,5213850.50417275 -8084852.62467604,5213853.376196761 -8084865.864271833,5213856.2582637025 -8084879.044497237,5213859.130289489 -8084892.232144035,5213862.173031791 -8084905.367841803,5213865.306154035 -8084918.503539616,5213868.519614159 -8084931.416598883,5213872.4159389315 -8084943.966015332,5213877.677993089 -8084956.552538131,5213882.678955017 -8084969.510124906,5213886.063137305 -8084982.935252347,5213887.499147991 -8084996.508805312,5213888.171957208 -8085009.622236515,5213886.384446382 -8085022.297809563,5213881.63451097 -8085034.965961319,5213876.894620048 -8085047.626691688,5213871.984015674 -8085060.257736858,5213867.073413871 -8085072.873939426,5213862.1427304335 -8085085.527248489,5213857.232133712 -8085098.2102427855,5213852.401876201 -8085110.900658467,5213847.742336547 -8085123.613338085,5213843.163135779 -8085136.415073411,5213838.845031026 -8085149.239072713,5213834.687601321 -8085162.137285173,5213830.871603554 -8085175.094868151,5213827.306658772 -8085188.186034795,5213824.334196587 -8085201.470155493,5213821.9542163685 -8085214.806225554,5213820.086381385 -8085228.2758791875,5213818.630270747 -8085241.775218103,5213817.344875153 -8085255.304242261,5213816.159900185 -8085268.825845069,5213814.874504904 -8085282.295498656,5213813.338058691 -8085295.676096536,5213811.550561715 -8085309.012166311,5213809.170584654 -8085322.296286911,5213806.619893577 -8085335.543300981,5213803.988866937 -8085348.820000232,5213801.347798959 -8085362.104120785,5213798.716773747 -8085375.3511347575,5213795.915034829 -8085388.6204125695,5213793.022918505 -8085401.8451625565,5213790.050466928 -8085415.01054212,5213786.997680198 -8085428.146236388,5213783.754096209 -8085441.237402741,5213780.279547113 -8085454.254356083,5213776.724663308 -8085467.197096297,5213772.898646821 -8085480.058202165,5213768.922001974 -8085492.845094905,5213764.674225025 -8085505.535510599,5213760.09506441 -8085518.114606702,5213755.274898485 -8085530.649174915,5213750.273979436 -8085543.094687473,5213745.102349564 -8085555.517935994,5213739.679673331 -8085567.866971497,5213734.166622622 -8085580.18632177,5213728.583281456 -8085592.498250695,5213722.919607985 -8085604.787915673,5213717.145476536 -8085617.077580655,5213711.391432483 -8085629.367245683,5213705.727769313 -8085641.679174605,5213700.054067577 -8085654.0059462,5213694.5410399465 -8085667.453333441,5213688.6062540505 -8085679.594575559,5213688.435529718\" opacity=\"0.8\" /></g></svg>"
      ],
      "text/plain": [
       "<LINESTRING (-8083489.406 5213595.38, -8083505.57 5213597.539, -8083518.951 ...>"
      ]
     },
     "execution_count": 28,
     "metadata": {},
     "output_type": "execute_result"
    }
   ],
   "source": [
    "# Extract line segment from GeoSeries\n",
    "line = gs[reach.index[0]]\n",
    "line"
   ]
  },
  {
   "cell_type": "code",
   "execution_count": 139,
   "id": "861dc765-0273-46de-ae02-6123e3fd3d4f",
   "metadata": {},
   "outputs": [
    {
     "name": "stdout",
     "output_type": "stream",
     "text": [
      "817.5229342573197\n"
     ]
    }
   ],
   "source": [
    "print(line.length)"
   ]
  },
  {
   "cell_type": "code",
   "execution_count": 31,
   "id": "b75ccfb3-6d17-40b6-9592-2f8b7fa44235",
   "metadata": {},
   "outputs": [
    {
     "name": "stdout",
     "output_type": "stream",
     "text": [
      "225.97472903513147\n"
     ]
    }
   ],
   "source": [
    "# Find length of segments\n",
    "dist = line.length/10\n",
    "print(dist)"
   ]
  },
  {
   "cell_type": "code",
   "execution_count": 32,
   "id": "1ede40cf-1cf6-40c5-8ddb-c1e0dc007758",
   "metadata": {},
   "outputs": [],
   "source": [
    "# Make empty list for segments\n",
    "segments = []"
   ]
  },
  {
   "cell_type": "code",
   "execution_count": 54,
   "id": "598abf65-30e5-444d-8603-35208b768d47",
   "metadata": {},
   "outputs": [],
   "source": [
    "# Segment the reach\n",
    "for i in range(9):\n",
    "    # Chop the reach, store remainder\n",
    "    new, line = cut(line=line, distance=dist)\n",
    "    # Append new segment to GeoSeries of all segments\n",
    "    segments.append(new)\n",
    "# Append final segment of reach   \n",
    "segments.append(line)"
   ]
  },
  {
   "cell_type": "code",
   "execution_count": 55,
   "id": "28506b49-2851-46c1-9e8c-d61c89c7509f",
   "metadata": {},
   "outputs": [
    {
     "data": {
      "text/plain": [
       "[<LINESTRING (-8083489.406 5213595.38, -8083505.57 5213597.539, -8083518.951 ...>,\n",
       " <LINESTRING (-8083713.872 5213617.65, -8083720.506 5213617.522, -8083734.02 ...>,\n",
       " <LINESTRING (-8083936.494 5213652.436, -8083946.521 5213655.319, -8083959.59...>,\n",
       " <LINESTRING (-8084158.901 5213690.418, -8084159.542 5213690.566, -8084172.67...>,\n",
       " <LINESTRING (-8084379.499 5213738.698, -8084383.903 5213739.4, -8084397.261 ...>,\n",
       " <LINESTRING (-8084603.217 5213770.535, -8084611.388 5213771.725, -8084624.74...>,\n",
       " <LINESTRING (-8084814.588 5213845.193, -8084826.175 5213847.712, -8084839.41...>,\n",
       " <LINESTRING (-8085033.136 5213877.579, -8085034.966 5213876.895, -8085047.62...>,\n",
       " <LINESTRING (-8085249.538 5213816.665, -8085255.304 5213816.16, -8085268.826...>,\n",
       " <LINESTRING (-8085470.669 5213771.825, -8085480.058 5213768.922, -8085492.84...>]"
      ]
     },
     "execution_count": 55,
     "metadata": {},
     "output_type": "execute_result"
    }
   ],
   "source": [
    "segments"
   ]
  },
  {
   "cell_type": "code",
   "execution_count": 57,
   "id": "6caef1b7-9f5f-42ab-a256-98293c7a621a",
   "metadata": {},
   "outputs": [],
   "source": [
    "# Make dict for constructing new GeoDataFrame\n",
    "d = {}"
   ]
  },
  {
   "cell_type": "code",
   "execution_count": 58,
   "id": "ee22709e-023e-4f55-9442-4fa6f6d3674d",
   "metadata": {},
   "outputs": [],
   "source": [
    "for i in range(reach.shape[1]):\n",
    "    d[reach.iloc[:,i].name] = reach.iloc[0,i]"
   ]
  },
  {
   "cell_type": "code",
   "execution_count": 59,
   "id": "4d6a7024-d9c6-4a68-8c9a-2880d427b1ab",
   "metadata": {},
   "outputs": [
    {
     "data": {
      "text/plain": [
       "{'Bin': '(150, 200]',\n",
       " 'GNIS_Name': 'Connecticut River',\n",
       " 'LengthKM': np.float64(1.663),\n",
       " 'NHDPlusID': np.float64(10000900065602.0),\n",
       " 'WidthM': np.float64(191.78136792049477),\n",
       " 'geometry': <LINESTRING (-8083489.406 5213595.38, -8083505.57 5213597.539, -8083518.951 ...>}"
      ]
     },
     "execution_count": 59,
     "metadata": {},
     "output_type": "execute_result"
    }
   ],
   "source": [
    "d"
   ]
  },
  {
   "cell_type": "code",
   "execution_count": null,
   "id": "7e59a4d7-87db-40ba-b7a3-5ffcd7120a04",
   "metadata": {},
   "outputs": [],
   "source": [
    "# Rename geometry for full reach\n",
    "d['geometry_full'] = d['geometry']"
   ]
  },
  {
   "cell_type": "code",
   "execution_count": null,
   "id": "14a9e757-5b86-49e6-818c-37f9c3754ca3",
   "metadata": {},
   "outputs": [],
   "source": [
    "# Make GeoDataFrame with new reach segments\n",
    "reach_cut = gpd.GeoDataFrame(data=d, index=range(len(segments)),\n",
    "                             geometry=segments, crs=reach.crs)"
   ]
  },
  {
   "cell_type": "code",
   "execution_count": 145,
   "id": "a62ab822-42d1-4268-bd14-bb78d759dc4d",
   "metadata": {},
   "outputs": [
    {
     "data": {
      "text/html": [
       "<div>\n",
       "<style scoped>\n",
       "    .dataframe tbody tr th:only-of-type {\n",
       "        vertical-align: middle;\n",
       "    }\n",
       "\n",
       "    .dataframe tbody tr th {\n",
       "        vertical-align: top;\n",
       "    }\n",
       "\n",
       "    .dataframe thead th {\n",
       "        text-align: right;\n",
       "    }\n",
       "</style>\n",
       "<table border=\"1\" class=\"dataframe\">\n",
       "  <thead>\n",
       "    <tr style=\"text-align: right;\">\n",
       "      <th></th>\n",
       "      <th>Bin</th>\n",
       "      <th>GNIS_Name</th>\n",
       "      <th>LengthKM</th>\n",
       "      <th>NHDPlusID</th>\n",
       "      <th>WidthM</th>\n",
       "      <th>geometry</th>\n",
       "      <th>geometry_full</th>\n",
       "    </tr>\n",
       "  </thead>\n",
       "  <tbody>\n",
       "    <tr>\n",
       "      <th>0</th>\n",
       "      <td>(150, 200]</td>\n",
       "      <td>Connecticut River</td>\n",
       "      <td>0.608</td>\n",
       "      <td>1.000090e+13</td>\n",
       "      <td>194.436072</td>\n",
       "      <td>LINESTRING (-8084462.395 5196331.153, -8084464...</td>\n",
       "      <td>LINESTRING (-8084462.394799335 5196331.1526111...</td>\n",
       "    </tr>\n",
       "    <tr>\n",
       "      <th>1</th>\n",
       "      <td>(150, 200]</td>\n",
       "      <td>Connecticut River</td>\n",
       "      <td>0.608</td>\n",
       "      <td>1.000090e+13</td>\n",
       "      <td>194.436072</td>\n",
       "      <td>LINESTRING (-8084478.966 5196251.099, -8084481...</td>\n",
       "      <td>LINESTRING (-8084462.394799335 5196331.1526111...</td>\n",
       "    </tr>\n",
       "    <tr>\n",
       "      <th>2</th>\n",
       "      <td>(150, 200]</td>\n",
       "      <td>Connecticut River</td>\n",
       "      <td>0.608</td>\n",
       "      <td>1.000090e+13</td>\n",
       "      <td>194.436072</td>\n",
       "      <td>LINESTRING (-8084490.999 5196170.283, -8084492...</td>\n",
       "      <td>LINESTRING (-8084462.394799335 5196331.1526111...</td>\n",
       "    </tr>\n",
       "    <tr>\n",
       "      <th>3</th>\n",
       "      <td>(150, 200]</td>\n",
       "      <td>Connecticut River</td>\n",
       "      <td>0.608</td>\n",
       "      <td>1.000090e+13</td>\n",
       "      <td>194.436072</td>\n",
       "      <td>LINESTRING (-8084492.726 5196088.648, -8084491...</td>\n",
       "      <td>LINESTRING (-8084462.394799335 5196331.1526111...</td>\n",
       "    </tr>\n",
       "    <tr>\n",
       "      <th>4</th>\n",
       "      <td>(150, 200]</td>\n",
       "      <td>Connecticut River</td>\n",
       "      <td>0.608</td>\n",
       "      <td>1.000090e+13</td>\n",
       "      <td>194.436072</td>\n",
       "      <td>LINESTRING (-8084467.432 5196011.574, -8084465...</td>\n",
       "      <td>LINESTRING (-8084462.394799335 5196331.1526111...</td>\n",
       "    </tr>\n",
       "    <tr>\n",
       "      <th>5</th>\n",
       "      <td>(150, 200]</td>\n",
       "      <td>Connecticut River</td>\n",
       "      <td>0.608</td>\n",
       "      <td>1.000090e+13</td>\n",
       "      <td>194.436072</td>\n",
       "      <td>LINESTRING (-8084462.072 5195930.128, -8084461...</td>\n",
       "      <td>LINESTRING (-8084462.394799335 5196331.1526111...</td>\n",
       "    </tr>\n",
       "    <tr>\n",
       "      <th>6</th>\n",
       "      <td>(150, 200]</td>\n",
       "      <td>Connecticut River</td>\n",
       "      <td>0.608</td>\n",
       "      <td>1.000090e+13</td>\n",
       "      <td>194.436072</td>\n",
       "      <td>LINESTRING (-8084456.281 5195848.703, -8084454...</td>\n",
       "      <td>LINESTRING (-8084462.394799335 5196331.1526111...</td>\n",
       "    </tr>\n",
       "    <tr>\n",
       "      <th>7</th>\n",
       "      <td>(150, 200]</td>\n",
       "      <td>Connecticut River</td>\n",
       "      <td>0.608</td>\n",
       "      <td>1.000090e+13</td>\n",
       "      <td>194.436072</td>\n",
       "      <td>LINESTRING (-8084435.355 5195769.707, -8084432...</td>\n",
       "      <td>LINESTRING (-8084462.394799335 5196331.1526111...</td>\n",
       "    </tr>\n",
       "    <tr>\n",
       "      <th>8</th>\n",
       "      <td>(150, 200]</td>\n",
       "      <td>Connecticut River</td>\n",
       "      <td>0.608</td>\n",
       "      <td>1.000090e+13</td>\n",
       "      <td>194.436072</td>\n",
       "      <td>LINESTRING (-8084425.743 5195689.095, -8084425...</td>\n",
       "      <td>LINESTRING (-8084462.394799335 5196331.1526111...</td>\n",
       "    </tr>\n",
       "    <tr>\n",
       "      <th>9</th>\n",
       "      <td>(150, 200]</td>\n",
       "      <td>Connecticut River</td>\n",
       "      <td>0.608</td>\n",
       "      <td>1.000090e+13</td>\n",
       "      <td>194.436072</td>\n",
       "      <td>LINESTRING (-8084399.485 5195613.583, -8084393...</td>\n",
       "      <td>LINESTRING (-8084462.394799335 5196331.1526111...</td>\n",
       "    </tr>\n",
       "  </tbody>\n",
       "</table>\n",
       "</div>"
      ],
      "text/plain": [
       "          Bin          GNIS_Name  LengthKM     NHDPlusID      WidthM  \\\n",
       "0  (150, 200]  Connecticut River     0.608  1.000090e+13  194.436072   \n",
       "1  (150, 200]  Connecticut River     0.608  1.000090e+13  194.436072   \n",
       "2  (150, 200]  Connecticut River     0.608  1.000090e+13  194.436072   \n",
       "3  (150, 200]  Connecticut River     0.608  1.000090e+13  194.436072   \n",
       "4  (150, 200]  Connecticut River     0.608  1.000090e+13  194.436072   \n",
       "5  (150, 200]  Connecticut River     0.608  1.000090e+13  194.436072   \n",
       "6  (150, 200]  Connecticut River     0.608  1.000090e+13  194.436072   \n",
       "7  (150, 200]  Connecticut River     0.608  1.000090e+13  194.436072   \n",
       "8  (150, 200]  Connecticut River     0.608  1.000090e+13  194.436072   \n",
       "9  (150, 200]  Connecticut River     0.608  1.000090e+13  194.436072   \n",
       "\n",
       "                                            geometry  \\\n",
       "0  LINESTRING (-8084462.395 5196331.153, -8084464...   \n",
       "1  LINESTRING (-8084478.966 5196251.099, -8084481...   \n",
       "2  LINESTRING (-8084490.999 5196170.283, -8084492...   \n",
       "3  LINESTRING (-8084492.726 5196088.648, -8084491...   \n",
       "4  LINESTRING (-8084467.432 5196011.574, -8084465...   \n",
       "5  LINESTRING (-8084462.072 5195930.128, -8084461...   \n",
       "6  LINESTRING (-8084456.281 5195848.703, -8084454...   \n",
       "7  LINESTRING (-8084435.355 5195769.707, -8084432...   \n",
       "8  LINESTRING (-8084425.743 5195689.095, -8084425...   \n",
       "9  LINESTRING (-8084399.485 5195613.583, -8084393...   \n",
       "\n",
       "                                       geometry_full  \n",
       "0  LINESTRING (-8084462.394799335 5196331.1526111...  \n",
       "1  LINESTRING (-8084462.394799335 5196331.1526111...  \n",
       "2  LINESTRING (-8084462.394799335 5196331.1526111...  \n",
       "3  LINESTRING (-8084462.394799335 5196331.1526111...  \n",
       "4  LINESTRING (-8084462.394799335 5196331.1526111...  \n",
       "5  LINESTRING (-8084462.394799335 5196331.1526111...  \n",
       "6  LINESTRING (-8084462.394799335 5196331.1526111...  \n",
       "7  LINESTRING (-8084462.394799335 5196331.1526111...  \n",
       "8  LINESTRING (-8084462.394799335 5196331.1526111...  \n",
       "9  LINESTRING (-8084462.394799335 5196331.1526111...  "
      ]
     },
     "execution_count": 145,
     "metadata": {},
     "output_type": "execute_result"
    }
   ],
   "source": [
    "reach_cut"
   ]
  },
  {
   "cell_type": "code",
   "execution_count": 146,
   "id": "1c5ae454-6ce9-4265-a810-e443d9f3d596",
   "metadata": {},
   "outputs": [
    {
     "data": {
      "text/plain": [
       "<Axes: >"
      ]
     },
     "execution_count": 146,
     "metadata": {},
     "output_type": "execute_result"
    },
    {
     "data": {
      "image/png": "[encoded data removed]",
      "text/plain": [
       "<Figure size 640x480 with 1 Axes>"
      ]
     },
     "metadata": {},
     "output_type": "display_data"
    }
   ],
   "source": [
    "gpd.GeoSeries(segments).plot(cmap='hsv')"
   ]
  },
  {
   "cell_type": "code",
   "execution_count": 147,
   "id": "5b96a1f6-811b-409d-ae55-dfd8ab382655",
   "metadata": {},
   "outputs": [
    {
     "data": {
      "text/plain": [
       "<Axes: >"
      ]
     },
     "execution_count": 147,
     "metadata": {},
     "output_type": "execute_result"
    },
    {
     "data": {
      "image/png": "[encoded data removed]",
      "text/plain": [
       "<Figure size 640x480 with 1 Axes>"
      ]
     },
     "metadata": {},
     "output_type": "display_data"
    }
   ],
   "source": [
    "reach_cut.plot(cmap='hsv')"
   ]
  },
  {
   "cell_type": "code",
   "execution_count": 148,
   "id": "dc48c316-327c-4452-8b00-e9f52bb6713d",
   "metadata": {},
   "outputs": [],
   "source": [
    "# Buffer the reach segments by 1/2 the calculated width\n",
    "# CITE BEIGER\n",
    "reach_cut['geometry'] = reach_cut.geometry.buffer(distance=(reach_cut.WidthM/2)[0], cap_style='flat')"
   ]
  },
  {
   "cell_type": "code",
   "execution_count": 149,
   "id": "e6b08ebe-f3d6-4b77-bfa2-dbf798bd1b91",
   "metadata": {},
   "outputs": [
    {
     "data": {
      "text/plain": [
       "<Axes: >"
      ]
     },
     "execution_count": 149,
     "metadata": {},
     "output_type": "execute_result"
    },
    {
     "data": {
      "image/png": "[encoded data removed]",
      "text/plain": [
       "<Figure size 640x480 with 1 Axes>"
      ]
     },
     "metadata": {},
     "output_type": "display_data"
    }
   ],
   "source": [
    "reach_cut.plot(cmap='hsv')"
   ]
  },
  {
   "cell_type": "code",
   "execution_count": 150,
   "id": "e4a1dc3b-64d7-4cd6-963a-207695e443ff",
   "metadata": {},
   "outputs": [],
   "source": [
    "# Get pixels in reach\n",
    "inside = gpd.sjoin(gdf_PIXC, reach_cut, how='inner', predicate='within').rename(columns={'index_right': 'segment'})"
   ]
  },
  {
   "cell_type": "code",
   "execution_count": 151,
   "id": "71612180-fddc-4f47-ad56-1e7df784f76e",
   "metadata": {},
   "outputs": [
    {
     "data": {
      "text/html": [
       "<div>\n",
       "<style scoped>\n",
       "    .dataframe tbody tr th:only-of-type {\n",
       "        vertical-align: middle;\n",
       "    }\n",
       "\n",
       "    .dataframe tbody tr th {\n",
       "        vertical-align: top;\n",
       "    }\n",
       "\n",
       "    .dataframe thead th {\n",
       "        text-align: right;\n",
       "    }\n",
       "</style>\n",
       "<table border=\"1\" class=\"dataframe\">\n",
       "  <thead>\n",
       "    <tr style=\"text-align: right;\">\n",
       "      <th></th>\n",
       "      <th>klass</th>\n",
       "      <th>geometry</th>\n",
       "      <th>segment</th>\n",
       "      <th>Bin</th>\n",
       "      <th>GNIS_Name</th>\n",
       "      <th>LengthKM</th>\n",
       "      <th>NHDPlusID</th>\n",
       "      <th>WidthM</th>\n",
       "      <th>geometry_full</th>\n",
       "    </tr>\n",
       "  </thead>\n",
       "  <tbody>\n",
       "    <tr>\n",
       "      <th>551554</th>\n",
       "      <td>2.0</td>\n",
       "      <td>POINT (-8084426.802 5195500.297)</td>\n",
       "      <td>9</td>\n",
       "      <td>(150, 200]</td>\n",
       "      <td>Connecticut River</td>\n",
       "      <td>0.608</td>\n",
       "      <td>1.000090e+13</td>\n",
       "      <td>194.436072</td>\n",
       "      <td>LINESTRING (-8084462.394799335 5196331.1526111...</td>\n",
       "    </tr>\n",
       "    <tr>\n",
       "      <th>551557</th>\n",
       "      <td>5.0</td>\n",
       "      <td>POINT (-8084413.217 5195496.899)</td>\n",
       "      <td>9</td>\n",
       "      <td>(150, 200]</td>\n",
       "      <td>Connecticut River</td>\n",
       "      <td>0.608</td>\n",
       "      <td>1.000090e+13</td>\n",
       "      <td>194.436072</td>\n",
       "      <td>LINESTRING (-8084462.394799335 5196331.1526111...</td>\n",
       "    </tr>\n",
       "    <tr>\n",
       "      <th>552054</th>\n",
       "      <td>5.0</td>\n",
       "      <td>POINT (-8084440.054 5195533.887)</td>\n",
       "      <td>9</td>\n",
       "      <td>(150, 200]</td>\n",
       "      <td>Connecticut River</td>\n",
       "      <td>0.608</td>\n",
       "      <td>1.000090e+13</td>\n",
       "      <td>194.436072</td>\n",
       "      <td>LINESTRING (-8084462.394799335 5196331.1526111...</td>\n",
       "    </tr>\n",
       "    <tr>\n",
       "      <th>552055</th>\n",
       "      <td>5.0</td>\n",
       "      <td>POINT (-8084393.322 5195522.185)</td>\n",
       "      <td>9</td>\n",
       "      <td>(150, 200]</td>\n",
       "      <td>Connecticut River</td>\n",
       "      <td>0.608</td>\n",
       "      <td>1.000090e+13</td>\n",
       "      <td>194.436072</td>\n",
       "      <td>LINESTRING (-8084462.394799335 5196331.1526111...</td>\n",
       "    </tr>\n",
       "    <tr>\n",
       "      <th>552056</th>\n",
       "      <td>4.0</td>\n",
       "      <td>POINT (-8084406.989 5195525.61)</td>\n",
       "      <td>9</td>\n",
       "      <td>(150, 200]</td>\n",
       "      <td>Connecticut River</td>\n",
       "      <td>0.608</td>\n",
       "      <td>1.000090e+13</td>\n",
       "      <td>194.436072</td>\n",
       "      <td>LINESTRING (-8084462.394799335 5196331.1526111...</td>\n",
       "    </tr>\n",
       "    <tr>\n",
       "      <th>...</th>\n",
       "      <td>...</td>\n",
       "      <td>...</td>\n",
       "      <td>...</td>\n",
       "      <td>...</td>\n",
       "      <td>...</td>\n",
       "      <td>...</td>\n",
       "      <td>...</td>\n",
       "      <td>...</td>\n",
       "      <td>...</td>\n",
       "    </tr>\n",
       "    <tr>\n",
       "      <th>566534</th>\n",
       "      <td>4.0</td>\n",
       "      <td>POINT (-8084526.541 5196342.508)</td>\n",
       "      <td>0</td>\n",
       "      <td>(150, 200]</td>\n",
       "      <td>Connecticut River</td>\n",
       "      <td>0.608</td>\n",
       "      <td>1.000090e+13</td>\n",
       "      <td>194.436072</td>\n",
       "      <td>LINESTRING (-8084462.394799335 5196331.1526111...</td>\n",
       "    </tr>\n",
       "    <tr>\n",
       "      <th>566535</th>\n",
       "      <td>4.0</td>\n",
       "      <td>POINT (-8084486.889 5196332.579)</td>\n",
       "      <td>0</td>\n",
       "      <td>(150, 200]</td>\n",
       "      <td>Connecticut River</td>\n",
       "      <td>0.608</td>\n",
       "      <td>1.000090e+13</td>\n",
       "      <td>194.436072</td>\n",
       "      <td>LINESTRING (-8084462.394799335 5196331.1526111...</td>\n",
       "    </tr>\n",
       "    <tr>\n",
       "      <th>566536</th>\n",
       "      <td>4.0</td>\n",
       "      <td>POINT (-8084452.007 5196323.879)</td>\n",
       "      <td>0</td>\n",
       "      <td>(150, 200]</td>\n",
       "      <td>Connecticut River</td>\n",
       "      <td>0.608</td>\n",
       "      <td>1.000090e+13</td>\n",
       "      <td>194.436072</td>\n",
       "      <td>LINESTRING (-8084462.394799335 5196331.1526111...</td>\n",
       "    </tr>\n",
       "    <tr>\n",
       "      <th>566537</th>\n",
       "      <td>4.0</td>\n",
       "      <td>POINT (-8084414.85 5196314.574)</td>\n",
       "      <td>0</td>\n",
       "      <td>(150, 200]</td>\n",
       "      <td>Connecticut River</td>\n",
       "      <td>0.608</td>\n",
       "      <td>1.000090e+13</td>\n",
       "      <td>194.436072</td>\n",
       "      <td>LINESTRING (-8084462.394799335 5196331.1526111...</td>\n",
       "    </tr>\n",
       "    <tr>\n",
       "      <th>566538</th>\n",
       "      <td>4.0</td>\n",
       "      <td>POINT (-8084379.869 5196305.813)</td>\n",
       "      <td>0</td>\n",
       "      <td>(150, 200]</td>\n",
       "      <td>Connecticut River</td>\n",
       "      <td>0.608</td>\n",
       "      <td>1.000090e+13</td>\n",
       "      <td>194.436072</td>\n",
       "      <td>LINESTRING (-8084462.394799335 5196331.1526111...</td>\n",
       "    </tr>\n",
       "  </tbody>\n",
       "</table>\n",
       "<p>194 rows × 9 columns</p>\n",
       "</div>"
      ],
      "text/plain": [
       "        klass                          geometry  segment         Bin  \\\n",
       "551554    2.0  POINT (-8084426.802 5195500.297)        9  (150, 200]   \n",
       "551557    5.0  POINT (-8084413.217 5195496.899)        9  (150, 200]   \n",
       "552054    5.0  POINT (-8084440.054 5195533.887)        9  (150, 200]   \n",
       "552055    5.0  POINT (-8084393.322 5195522.185)        9  (150, 200]   \n",
       "552056    4.0   POINT (-8084406.989 5195525.61)        9  (150, 200]   \n",
       "...       ...                               ...      ...         ...   \n",
       "566534    4.0  POINT (-8084526.541 5196342.508)        0  (150, 200]   \n",
       "566535    4.0  POINT (-8084486.889 5196332.579)        0  (150, 200]   \n",
       "566536    4.0  POINT (-8084452.007 5196323.879)        0  (150, 200]   \n",
       "566537    4.0   POINT (-8084414.85 5196314.574)        0  (150, 200]   \n",
       "566538    4.0  POINT (-8084379.869 5196305.813)        0  (150, 200]   \n",
       "\n",
       "                GNIS_Name  LengthKM     NHDPlusID      WidthM  \\\n",
       "551554  Connecticut River     0.608  1.000090e+13  194.436072   \n",
       "551557  Connecticut River     0.608  1.000090e+13  194.436072   \n",
       "552054  Connecticut River     0.608  1.000090e+13  194.436072   \n",
       "552055  Connecticut River     0.608  1.000090e+13  194.436072   \n",
       "552056  Connecticut River     0.608  1.000090e+13  194.436072   \n",
       "...                   ...       ...           ...         ...   \n",
       "566534  Connecticut River     0.608  1.000090e+13  194.436072   \n",
       "566535  Connecticut River     0.608  1.000090e+13  194.436072   \n",
       "566536  Connecticut River     0.608  1.000090e+13  194.436072   \n",
       "566537  Connecticut River     0.608  1.000090e+13  194.436072   \n",
       "566538  Connecticut River     0.608  1.000090e+13  194.436072   \n",
       "\n",
       "                                            geometry_full  \n",
       "551554  LINESTRING (-8084462.394799335 5196331.1526111...  \n",
       "551557  LINESTRING (-8084462.394799335 5196331.1526111...  \n",
       "552054  LINESTRING (-8084462.394799335 5196331.1526111...  \n",
       "552055  LINESTRING (-8084462.394799335 5196331.1526111...  \n",
       "552056  LINESTRING (-8084462.394799335 5196331.1526111...  \n",
       "...                                                   ...  \n",
       "566534  LINESTRING (-8084462.394799335 5196331.1526111...  \n",
       "566535  LINESTRING (-8084462.394799335 5196331.1526111...  \n",
       "566536  LINESTRING (-8084462.394799335 5196331.1526111...  \n",
       "566537  LINESTRING (-8084462.394799335 5196331.1526111...  \n",
       "566538  LINESTRING (-8084462.394799335 5196331.1526111...  \n",
       "\n",
       "[194 rows x 9 columns]"
      ]
     },
     "execution_count": 151,
     "metadata": {},
     "output_type": "execute_result"
    }
   ],
   "source": [
    "inside"
   ]
  },
  {
   "cell_type": "code",
   "execution_count": 155,
   "id": "abedf9a1-e32c-40d9-b4c4-caa157aec0a5",
   "metadata": {},
   "outputs": [
    {
     "data": {
      "text/plain": [
       "<Axes: >"
      ]
     },
     "execution_count": 155,
     "metadata": {},
     "output_type": "execute_result"
    },
    {
     "data": {
      "image/png": "[encoded data removed]",
      "text/plain": [
       "<Figure size 640x480 with 1 Axes>"
      ]
     },
     "metadata": {},
     "output_type": "display_data"
    }
   ],
   "source": [
    "inside.plot()"
   ]
  },
  {
   "cell_type": "code",
   "execution_count": 156,
   "id": "eaae71ef-f40b-4cfb-b4a2-29bb67a0fd6f",
   "metadata": {},
   "outputs": [
    {
     "ename": "AttributeError",
     "evalue": "'numpy.float64' object has no attribute 'DataFrame'",
     "output_type": "error",
     "traceback": [
      "\u001b[0;31m---------------------------------------------------------------------------\u001b[0m",
      "\u001b[0;31mAttributeError\u001b[0m                            Traceback (most recent call last)",
      "Cell \u001b[0;32mIn[156], line 5\u001b[0m\n\u001b[1;32m      2\u001b[0m     coverage \u001b[38;5;241m=\u001b[39m \u001b[38;5;241m0\u001b[39m\n\u001b[1;32m      3\u001b[0m \u001b[38;5;28;01melse\u001b[39;00m:    \n\u001b[1;32m      4\u001b[0m     \u001b[38;5;66;03m# Get number of pixels in each reach segment\u001b[39;00m\n\u001b[0;32m----> 5\u001b[0m     counts \u001b[38;5;241m=\u001b[39m \u001b[43mpd\u001b[49m\u001b[38;5;241;43m.\u001b[39;49m\u001b[43mDataFrame\u001b[49m(inside\u001b[38;5;241m.\u001b[39msegment\u001b[38;5;241m.\u001b[39mvalue_counts()\u001b[38;5;241m.\u001b[39mreset_index()\u001b[38;5;241m.\u001b[39msort_index())\n\u001b[1;32m      6\u001b[0m     \u001b[38;5;28mprint\u001b[39m(counts)\n\u001b[1;32m      7\u001b[0m     \u001b[38;5;66;03m# Calculate coverage\u001b[39;00m\n",
      "\u001b[0;31mAttributeError\u001b[0m: 'numpy.float64' object has no attribute 'DataFrame'"
     ]
    }
   ],
   "source": [
    "if inside.empty:\n",
    "    coverage = 0\n",
    "else:    \n",
    "    # Get number of pixels in each reach segment\n",
    "    counts = pd.DataFrame(inside.segment.value_counts().reset_index().sort_index())\n",
    "    print(counts)\n",
    "    # Calculate coverage\n",
    "    coverage = len(counts.loc[counts['count'] != 0])/len(counts.segment)"
   ]
  }
 ],
 "metadata": {
  "kernelspec": {
   "display_name": "Python [conda env:.conda-narrowPIXC]",
   "language": "python",
   "name": "conda-env-.conda-narrowPIXC-py"
  },
  "language_info": {
   "codemirror_mode": {
    "name": "ipython",
    "version": 3
   },
   "file_extension": ".py",
   "mimetype": "text/x-python",
   "name": "python",
   "nbconvert_exporter": "python",
   "pygments_lexer": "ipython3",
   "version": "3.12.4"
  }
 },
 "nbformat": 4,
 "nbformat_minor": 5
}
