{
 "cells": [
  {
   "cell_type": "code",
   "execution_count": 1,
   "id": "5f2fc575-e3a7-4df6-911a-425063258532",
   "metadata": {},
   "outputs": [],
   "source": [
    "# import fiona\n",
    "from shapely.geometry import *\n",
    "from shapely.wkt import loads\n",
    "# from shapely import LineString, MultiPoint\n",
    "# from shapely.ops import nearest_points, split, snap, unary_union\n",
    "\n",
    "import contextily as cx\n",
    "# import earthaccess\n",
    "import geopandas as gpd\n",
    "import matplotlib.pyplot as plt\n",
    "import numpy as np\n",
    "import os\n",
    "import pandas as pd\n",
    "import xarray as xr\n",
    "# import shapely"
   ]
  },
  {
   "cell_type": "markdown",
   "id": "68f3357c-1d21-45e5-82ad-b2eec6001670",
   "metadata": {
    "tags": []
   },
   "source": [
    "#### Functions"
   ]
  },
  {
   "cell_type": "code",
   "execution_count": 2,
   "id": "1cf4b0a2-4d04-492f-a38a-73315d297670",
   "metadata": {
    "tags": []
   },
   "outputs": [],
   "source": [
    "def readNHD(index):\n",
    "    ## Set-up\n",
    "    mdata_path = '/nas/cee-water/cjgleason/fiona/narrow_rivers_PIXC/data/'\n",
    "# NEED WITH WATERBODY FOR CUSHMAN!!!!\n",
    "    prep_path = '/nas/cee-water/cjgleason/fiona/narrow_rivers_PIXC_data/NHD_prepped/' # _with_waterbody\n",
    "\n",
    "    # Define dtypes for lookup tables to preserve leading zeros\n",
    "    dtype_dic= {'HUC4': str, 'HUC2': str, 'toBasin': str, 'level': str}\n",
    "    # Read in HUC lookup table\n",
    "    lookup = pd.read_csv(os.path.join(mdata_path, 'HUC4_lookup_no_great_lakes.csv'), dtype=dtype_dic)\n",
    "\n",
    "    # Get current HUC2 and HUC4 IDs\n",
    "    hu2 = 'HUC2_' + lookup.loc[index,'HUC4'][0:2]\n",
    "    hu4 = 'NHDPLUS_H_' + lookup.loc[index,'HUC4'] + '_HU4_GDB'\n",
    "    \n",
    "    # Set data filepath\n",
    "# NEED WITH WATERBODY FOR CUSHMAN!!!!!\n",
    "    file_path = os.path.join(prep_path, hu2, hu4 + '_prepped.gpkg') # _with_waterbody\n",
    "\n",
    "    ## Read in prepped NHD flowlines\n",
    "    features = ['NHDPlusID', 'GNIS_Name', 'LengthKM', 'WidthM', 'Bin', 'geometry']\n",
    "    basin = gpd.read_file(filename=file_path, columns=features, engine='pyogrio')\n",
    "\n",
    "    # Drop reaches that are shorter than their width\n",
    "    basin = basin[basin['LengthKM']*1000 > basin['WidthM']]\n",
    "    \n",
    "    # Make geometry 2D LineStrings\n",
    "    basin['geometry'] = basin.geometry.explode().force_2d()\n",
    "    return basin"
   ]
  },
  {
   "cell_type": "code",
   "execution_count": null,
   "id": "d4c01c8b-252f-4085-95ba-e99a6d142f16",
   "metadata": {},
   "outputs": [],
   "source": [
    "def cut(line, distance):\n",
    "# Cuts a line in two at a distance from its starting point\n",
    "# Returns the trimmed piece and the remainder of the linestring\n",
    "    if distance <= 0.0 or distance >= line.length:\n",
    "        return [LineString(line)]\n",
    "    coords = list(line.coords)\n",
    "    for i, p in enumerate(coords):\n",
    "        pd = line.project(Point(p))\n",
    "        if pd == distance:\n",
    "            return [\n",
    "                LineString(coords[:i+1]),\n",
    "                LineString(coords[i:])]\n",
    "        if pd > distance:\n",
    "            cp = line.interpolate(distance)\n",
    "            return [\n",
    "                LineString(coords[:i] + [(cp.x, cp.y)]),\n",
    "                LineString([(cp.x, cp.y)] + coords[i:])]"
   ]
  },
  {
   "cell_type": "code",
   "execution_count": null,
   "id": "f9be8e4a-31cf-4195-a5d1-3312564a1199",
   "metadata": {},
   "outputs": [],
   "source": [
    "def bitwiseMask(ds):\n",
    "    # Fow now, eliminate the really bad stuff\n",
    "    # See page 65 of PIXC PDD: https://podaac.jpl.nasa.gov/SWOT?tab=datasets-information&sections=about%2Bdata\n",
    "    mask = np.where(np.logical_and(ds.classification > 1,\n",
    "                                   ds.geolocation_qual \n",
    "                                   < 2**12\n",
    "                                   # < 2**16\n",
    "                                   ))[0]\n",
    "    \n",
    "    print(mask.shape)\n",
    "    return mask"
   ]
  },
  {
   "cell_type": "code",
   "execution_count": null,
   "id": "094710c1-3bf3-4477-bf64-7b4a85623a1c",
   "metadata": {},
   "outputs": [],
   "source": [
    "def makeGDF(pixc):\n",
    "    # This function takes the pixel cloud, makes a GeoDataFrame,\n",
    "    # renames columns as needed, projects the CRS, and returns\n",
    "    # the GDF \n",
    "    \n",
    "    # Create GDF\n",
    "    gdf_PIXC = gpd.GeoDataFrame(ds_PIXC.classification[mask],\n",
    "                        geometry=gpd.points_from_xy(ds_PIXC.longitude[mask],\n",
    "                                                    ds_PIXC.latitude[mask]),\n",
    "                        crs=\"EPSG:4326\") # PIXC has no native CRS, setting same as River_SP\n",
    "\n",
    "    gdf_PIXC.rename(columns={gdf_PIXC.columns[0]: 'klass'}, inplace=True)\n",
    "    \n",
    "    # Convert the crs to WGS 84 / Pseudo-Mercator\n",
    "    gdf_PIXC = gdf_PIXC.to_crs(epsg=3857)\n",
    "    return gdf_PIXC"
   ]
  },
  {
   "cell_type": "code",
   "execution_count": 6,
   "id": "f9ed897d-426e-4bed-beed-9f6c269e62db",
   "metadata": {},
   "outputs": [],
   "source": [
    "# def segmentReach(reach):\n",
    "#     ### This is the loop version\n",
    "    \n",
    "#     # Get Geometry\n",
    "#     gs = reach.geometry\n",
    "#     # Extract line segment from GeoSeries\n",
    "#     line = gs[reach.index[0]]\n",
    "#     # print(line.length)\n",
    "#     # Find length of segments\n",
    "#     dist = line.length/10\n",
    "#     # print(dist)\n",
    "    \n",
    "#     # Make empty list for segments\n",
    "#     segments = []\n",
    "    \n",
    "# #     # Segment the reach\n",
    "# #     for i in range(10):\n",
    "# #         # Chop the reach, store remainder\n",
    "# #         new, line = cut(line=line, distance=dist)\n",
    "\n",
    "# #         # Append new segment to GeoSeries of all segments\n",
    "# #         segments.append(new)\n",
    "\n",
    "#     # Segment the reach\n",
    "#     for i in range(9):\n",
    "#         # Chop the reach, store remainder\n",
    "#         new, line = cut(line=line, distance=dist)\n",
    "#         # Append new segment to GeoSeries of all segments\n",
    "#         segments.append(new)\n",
    "    \n",
    "#     # Append final segment to list\n",
    "#     segments.append(line)\n",
    "    \n",
    "#     # Check the remainder to ensure we got the entire reach\n",
    "#     # assert line.length < 1e-8\n",
    "#     del new, line, dist\n",
    "    \n",
    "#     # Make dict for constructing new GeoDataFrame\n",
    "#     d = {}\n",
    "#     for i in range(reach.shape[1]):\n",
    "#         d[reach.iloc[:,i].name] = reach.iloc[0,i]\n",
    "#     # Rename geometry for full reach\n",
    "#     d['geometry_full'] = d['geometry']\n",
    "    \n",
    "#     # Make GeoDataFrame with new reach segments\n",
    "#     reach_cut = gpd.GeoDataFrame(data=d, index=range(len(segments)),\n",
    "#                                  geometry=segments, crs=reach.crs)\n",
    "    \n",
    "#     return reach_cut"
   ]
  },
  {
   "cell_type": "code",
   "execution_count": null,
   "id": "a1f1d5f6-13b4-4a88-8a09-b8a502563a3f",
   "metadata": {},
   "outputs": [],
   "source": []
  },
  {
   "cell_type": "code",
   "execution_count": null,
   "id": "49c19a5c-303d-4555-8ba9-6704f47425d4",
   "metadata": {},
   "outputs": [],
   "source": [
    "def segmentReach(reach):\n",
    "    ### This will be the apply() version!\n",
    "    print(reach.shape)\n",
    "    # # Get Geometry\n",
    "    # gs = reach.geometry\n",
    "    # Extract line segment from GeoSeries\n",
    "    # line = gs[reach.index[0]]\n",
    "    line = reach.geometry\n",
    "    # print(line.length)\n",
    "    # Find length of segments\n",
    "    dist = line.length/10\n",
    "    # print(dist)\n",
    "    \n",
    "    # Make empty list for segments\n",
    "    segments = []\n",
    "    \n",
    "#     # Segment the reach\n",
    "#     for i in range(10):\n",
    "#         # Chop the reach, store remainder\n",
    "#         new, line = cut(line=line, distance=dist)\n",
    "\n",
    "#         # Append new segment to GeoSeries of all segments\n",
    "#         segments.append(new)\n",
    "\n",
    "    # Segment the reach\n",
    "    for i in range(9):\n",
    "        # Chop the reach, store remainder\n",
    "        new, line = cut(line=line, distance=dist)\n",
    "        # Append new segment to GeoSeries of all segments\n",
    "        segments.append(new)\n",
    "    \n",
    "    # Append final segment to list\n",
    "    segments.append(line)\n",
    "    \n",
    "    # Check the remainder to ensure we got the entire reach\n",
    "    # assert line.length < 1e-8\n",
    "    del new, line, dist\n",
    "    \n",
    "    # Make dict for constructing new GeoDataFrame\n",
    "    d = {}\n",
    "    for i in range(reach.shape[0]):\n",
    "        d[reach.iloc[i].name] = reach.iloc[i]\n",
    "    # Rename geometry for full reach\n",
    "    d['geometry_full'] = d['geometry']\n",
    "    \n",
    "    # Make GeoDataFrame with new reach segments\n",
    "    reach_cut = gpd.GeoDataFrame(data=d, index=range(len(segments)),\n",
    "                                 geometry=segments, crs=reach.crs)\n",
    "    \n",
    "    return reach_cut"
   ]
  },
  {
   "cell_type": "code",
   "execution_count": 74,
   "id": "af13c0f4-a0f7-42ae-a338-f1d0deae723b",
   "metadata": {},
   "outputs": [],
   "source": [
    "def getCoverage(gdf_PIXC, reach_cut):\n",
    "    ###\n",
    "    \n",
    "    # Buffer the reach segments by 1/2 the calculated width\n",
    "    # CITE BEIGER\n",
    "    reach_cut['geometry'] = reach_cut.geometry.buffer(distance=(reach_cut.WidthM/2)[0], cap_style='flat')\n",
    "    \n",
    "    \n",
    "    # Get pixels in reach\n",
    "    inside = gpd.sjoin(gdf_PIXC, reach_cut, how='inner', predicate='within').rename(columns={'index_right': 'segment'})\n",
    "\n",
    "    if inside.empty:\n",
    "        prop = 0\n",
    "    else:    \n",
    "        # Get number of pixels in each reach segment\n",
    "        counts = pd.DataFrame(inside.segment.value_counts().reset_index().sort_index())\n",
    "        # print(counts)\n",
    "        # Calculate coverage\n",
    "        prop = len(counts.loc[counts['count'] != 0])/10\n",
    "        # print(prop)\n",
    "    return prop"
   ]
  },
  {
   "cell_type": "markdown",
   "id": "5f916cef-3501-40be-8606-b78e94637277",
   "metadata": {},
   "source": [
    "#### Read in and prep NHD"
   ]
  },
  {
   "cell_type": "code",
   "execution_count": 8,
   "id": "52b5dd87-e212-42f5-9ca9-c016d9a8081c",
   "metadata": {},
   "outputs": [],
   "source": [
    "# Set slurm job index\n",
    "i = 4 # HUC4 0108, Connecticut\n",
    "# i = 109 # HUC4 1711, Snoqualmie"
   ]
  },
  {
   "cell_type": "code",
   "execution_count": 9,
   "id": "9ab7adb7-6d02-4f4b-a61f-51fdb9366452",
   "metadata": {},
   "outputs": [],
   "source": [
    "# Read prepped NHD\n",
    "basin = readNHD(index=i)"
   ]
  },
  {
   "cell_type": "markdown",
   "id": "1d7bf050-c406-49c0-870c-5aa0bee1ac95",
   "metadata": {
    "jp-MarkdownHeadingCollapsed": true,
    "tags": []
   },
   "source": [
    "#### Read in and prep PIXC"
   ]
  },
  {
   "cell_type": "code",
   "execution_count": 10,
   "id": "50c97d18-419c-40b2-9868-f8d1d3585c5d",
   "metadata": {},
   "outputs": [],
   "source": [
    "# pixc_path = '../data/small_rivers/mar_2024_ver_c/SWOT_L2_HR_PIXC_011_345_239R_20240227T044209_20240227T044220_PIC0_01.nc'\n",
    "pixc_path = '../data/small_rivers/mar_2024_ver_c/leaf_off/SWOT_L2_HR_PIXC_014_341_229R_20240429T152954_20240429T153005_PIC0_01.nc'"
   ]
  },
  {
   "cell_type": "code",
   "execution_count": 65,
   "id": "e06a433a-c5fa-4266-a1f8-2b32113a389e",
   "metadata": {},
   "outputs": [],
   "source": [
    "tile_name = pixc_path[-71:-3]"
   ]
  },
  {
   "cell_type": "code",
   "execution_count": 11,
   "id": "e3309add-c44a-403d-bceb-5b7d10d8c8ef",
   "metadata": {},
   "outputs": [],
   "source": [
    "# Read in xarray\n",
    "ds_PIXC = xr.open_mfdataset(paths=pixc_path, group='pixel_cloud', engine='h5netcdf')"
   ]
  },
  {
   "cell_type": "code",
   "execution_count": 13,
   "id": "8e7c6e79-47ea-4681-bd4f-86dea3410325",
   "metadata": {},
   "outputs": [],
   "source": [
    "# # Make dict for legend labels\n",
    "# flags = ds_PIXC.classification.flag_meanings.split() # extract each flag meaning\n",
    "# codes = {idx:k for idx, k in enumerate(flags, start=1)}"
   ]
  },
  {
   "cell_type": "code",
   "execution_count": 14,
   "id": "c0a51f3b-cbeb-4c78-b712-f08555322101",
   "metadata": {},
   "outputs": [
    {
     "data": {
      "text/plain": [
       "0       \n",
       "0.0          362643\n",
       "1.0           19510\n",
       "2.0              75\n",
       "3.0              12\n",
       "4.0         5292836\n",
       "5.0          719368\n",
       "6.0            1111\n",
       "7.0             437\n",
       "4096.0          132\n",
       "4097.0           13\n",
       "4098.0            1\n",
       "4100.0        44754\n",
       "4101.0         6101\n",
       "4102.0           24\n",
       "4103.0            5\n",
       "524288.0       3893\n",
       "524289.0        357\n",
       "524290.0          2\n",
       "524292.0     149645\n",
       "524293.0       6670\n",
       "524294.0        317\n",
       "524295.0         16\n",
       "528384.0          3\n",
       "528385.0          3\n",
       "528388.0       1338\n",
       "528389.0         80\n",
       "528390.0          1\n",
       "Name: count, dtype: int64"
      ]
     },
     "execution_count": 14,
     "metadata": {},
     "output_type": "execute_result"
    }
   ],
   "source": [
    "counts = pd.DataFrame(ds_PIXC.geolocation_qual).value_counts().sort_index()\n",
    "counts"
   ]
  },
  {
   "cell_type": "code",
   "execution_count": 15,
   "id": "0feda8a4-edf6-497c-91ea-77def1722d50",
   "metadata": {},
   "outputs": [
    {
     "name": "stdout",
     "output_type": "stream",
     "text": [
      "(1552029,)\n"
     ]
    }
   ],
   "source": [
    "# Make mask\n",
    "mask = bitwiseMask(ds_PIXC)\n",
    "\n",
    "# # If dataframe not empty after filtering\n",
    "# if mask.shape != (0,):\n",
    "#     # Make PIXC\n",
    "gdf_PIXC = makeGDF(pixc=ds_PIXC)\n",
    "    # # Append to list\n",
    "    # d.append(gdf_PIXC)"
   ]
  },
  {
   "cell_type": "markdown",
   "id": "d9d09a3c-c057-4a0e-b1ca-b93dc1d14a02",
   "metadata": {
    "jp-MarkdownHeadingCollapsed": true,
    "tags": []
   },
   "source": [
    "#### Get bounds of PIXC and crop basin to it"
   ]
  },
  {
   "cell_type": "code",
   "execution_count": 16,
   "id": "c93f9b48-ad85-4772-95ec-ee0da6cd6761",
   "metadata": {},
   "outputs": [],
   "source": [
    "# Get bounds of PIXC, construct polygon\n",
    "bounds_PIXC = gdf_PIXC.total_bounds\n",
    "poly = box(bounds_PIXC[0], bounds_PIXC[1], bounds_PIXC[2], bounds_PIXC[3])"
   ]
  },
  {
   "cell_type": "code",
   "execution_count": 17,
   "id": "08b0d0b0-20f8-466b-9429-c9c7330b4403",
   "metadata": {},
   "outputs": [],
   "source": [
    "crop_basin = basin.clip(poly)"
   ]
  },
  {
   "cell_type": "code",
   "execution_count": 28,
   "id": "3019b23b-2e87-488f-b1fa-35c636af9f84",
   "metadata": {},
   "outputs": [
    {
     "data": {
      "text/plain": [
       "['(0, 10]',\n",
       " '(10, 20]',\n",
       " '(150, 200]',\n",
       " '(20, 30]',\n",
       " '(200, 500]',\n",
       " '(30, 40]',\n",
       " '(40, 50]',\n",
       " '(50, 60]',\n",
       " '(60, 70]']"
      ]
     },
     "execution_count": 28,
     "metadata": {},
     "output_type": "execute_result"
    }
   ],
   "source": [
    "# Find width bins present in cropped hydrography\n",
    "bins = list(np.unique(crop_basin.Bin))\n",
    "bins"
   ]
  },
  {
   "cell_type": "code",
   "execution_count": 21,
   "id": "79b0f4ce-3915-4f82-9a4d-2c2ea039b3aa",
   "metadata": {},
   "outputs": [],
   "source": [
    "# Order of all possible bins\n",
    "order = ['(0, 10]', '(10, 20]', '(20, 30]', '(30, 40]', '(40, 50]',\n",
    "         '(50, 60]', '(60, 70]', '(70, 80]', '(80, 90]', '(90, 100]',\n",
    "         '(100, 150]', '(150, 200]']"
   ]
  },
  {
   "cell_type": "code",
   "execution_count": 33,
   "id": "265397d4-c8c4-4181-844b-ac99587a1745",
   "metadata": {},
   "outputs": [],
   "source": [
    "# Make sorted list of bins present\n",
    "ordered = []\n",
    "for binn in order:\n",
    "    if binn in bins:\n",
    "        ordered.append(binn)"
   ]
  },
  {
   "cell_type": "code",
   "execution_count": 32,
   "id": "35d8f561-3d70-4288-b3da-4611d2f6a0ea",
   "metadata": {},
   "outputs": [],
   "source": [
    "# crop_basin.plot()"
   ]
  },
  {
   "cell_type": "markdown",
   "id": "68b0a62e-b031-43b7-a675-2edff6031bf8",
   "metadata": {
    "tags": []
   },
   "source": [
    "#### Segment reach, calculates coverage functions"
   ]
  },
  {
   "cell_type": "code",
   "execution_count": 86,
   "id": "72087760-dc38-469a-9944-7526e49bf151",
   "metadata": {},
   "outputs": [],
   "source": [
    "# # Initialize lists\n",
    "# coverage = {}\n",
    "\n",
    "# for binn in ordered:\n",
    "#     reach = crop_basin.loc[crop_basin['Bin'] == binn].sample(n=1)\n",
    "#     # '{}'.format(reach.NHDPlusID)\n",
    "#     # # break\n",
    "#     # reach_bins.append(reach.iloc[0,0])\n",
    "    \n",
    "#     # Get reach segments\n",
    "#     reach_cut = segmentReach(reach)\n",
    "    \n",
    "#     # Get coverage for reach\n",
    "#     prop = getCoverage(gdf_PIXC, reach_cut)\n",
    "    \n",
    "#     coverage[binn] = prop*100"
   ]
  },
  {
   "cell_type": "code",
   "execution_count": null,
   "id": "17a45843-6d0f-4e05-9694-1b040fdc83ad",
   "metadata": {},
   "outputs": [
    {
     "data": {
      "text/plain": [
       "Bin                                                    (0, 10]\n",
       "GNIS_Name                                                 None\n",
       "LengthKM                                                  0.39\n",
       "NHDPlusID                                     10000900013415.0\n",
       "WidthM                                                1.783037\n",
       "geometry     LINESTRING (-8114805.784991784 5153293.1137269...\n",
       "Name: 10117, dtype: object"
      ]
     },
     "execution_count": 96,
     "metadata": {},
     "output_type": "execute_result"
    }
   ],
   "source": [
    "t = crop_basin.iloc[0,:]\n",
    "t"
   ]
  },
  {
   "cell_type": "code",
   "execution_count": null,
   "id": "a00887f2-5163-49c9-a89b-0dc2b2868cb3",
   "metadata": {},
   "outputs": [],
   "source": [
    "# Get Geometry\n",
    "gs = gpd.GeoSeries(t['geometry'])"
   ]
  },
  {
   "cell_type": "code",
   "execution_count": 112,
   "id": "401e8740-9cab-4c08-b83c-be1abfcc8b90",
   "metadata": {},
   "outputs": [
    {
     "data": {
      "image/svg+xml": [
       "<svg xmlns=\"http://www.w3.org/2000/svg\" xmlns:xlink=\"http://www.w3.org/1999/xlink\" width=\"300\" height=\"300\" viewBox=\"-8115157.273281383 5153278.648903031 365.9531135344878 390.5502462554723\" preserveAspectRatio=\"xMinYMin meet\"><g transform=\"matrix(1,0,0,-1,0,10306947.848052317)\"><polyline fill=\"none\" stroke=\"#66cc99\" stroke-width=\"2.6036683083698153\" points=\"-8114805.784991784,5153293.113726966 -8114811.50681358,5153302.962314236 -8114840.138186339,5153335.8309362745 -8114858.127415917,5153362.123914142 -8114898.202432199,5153404.0531448 -8114933.394233485,5153432.0127297565 -8114971.851406442,5153458.305996487 -8115029.128994327,5153481.346369105 -8115048.773173501,5153483.811079264 -8115056.1351024015,5153488.740464577 -8115065.938638804,5153501.073907548 -8115075.757017847,5153521.619695208 -8115078.198625491,5153556.12552583 -8115083.081840616,5153594.722712866 -8115087.994740769,5153602.1368279075 -8115133.799000122,5153652.259604596 -8115142.808457448,5153654.734325351\" opacity=\"0.8\" /></g></svg>"
      ],
      "text/plain": [
       "<LINESTRING (-8114805.785 5153293.114, -8114811.507 5153302.962, -8114840.13...>"
      ]
     },
     "execution_count": 114,
     "metadata": {},
     "output_type": "execute_result"
    }
   ],
   "source": [
    "gs.geoemetry"
   ]
  },
  {
   "cell_type": "code",
   "execution_count": null,
   "id": "b6491d40-d8d6-4aa4-af2b-a38c0ba25fb0",
   "metadata": {},
   "outputs": [
    {
     "ename": "KeyError",
     "evalue": "'Bin'",
     "output_type": "error",
     "traceback": [
      "\u001b[0;31m---------------------------------------------------------------------------\u001b[0m",
      "\u001b[0;31mKeyError\u001b[0m                                  Traceback (most recent call last)",
      "Cell \u001b[0;32mIn[111], line 2\u001b[0m\n\u001b[1;32m      1\u001b[0m \u001b[38;5;66;03m# Extract line segment from GeoSeries\u001b[39;00m\n\u001b[0;32m----> 2\u001b[0m line \u001b[38;5;241m=\u001b[39m \u001b[43mgs\u001b[49m\u001b[43m[\u001b[49m\u001b[43mt\u001b[49m\u001b[38;5;241;43m.\u001b[39;49m\u001b[43mindex\u001b[49m\u001b[43m[\u001b[49m\u001b[38;5;241;43m0\u001b[39;49m\u001b[43m]\u001b[49m\u001b[43m]\u001b[49m\n",
      "File \u001b[0;32m/work/pi_cjgleason_umass_edu/.conda/envs/narrowPIXC/lib/python3.12/site-packages/geopandas/geoseries.py:727\u001b[0m, in \u001b[0;36mGeoSeries.__getitem__\u001b[0;34m(self, key)\u001b[0m\n\u001b[1;32m    726\u001b[0m \u001b[38;5;28;01mdef\u001b[39;00m \u001b[38;5;21m__getitem__\u001b[39m(\u001b[38;5;28mself\u001b[39m, key):\n\u001b[0;32m--> 727\u001b[0m     \u001b[38;5;28;01mreturn\u001b[39;00m \u001b[38;5;28;43mself\u001b[39;49m\u001b[38;5;241;43m.\u001b[39;49m\u001b[43m_wrapped_pandas_method\u001b[49m\u001b[43m(\u001b[49m\u001b[38;5;124;43m\"\u001b[39;49m\u001b[38;5;124;43m__getitem__\u001b[39;49m\u001b[38;5;124;43m\"\u001b[39;49m\u001b[43m,\u001b[49m\u001b[43m \u001b[49m\u001b[43mkey\u001b[49m\u001b[43m)\u001b[49m\n",
      "File \u001b[0;32m/work/pi_cjgleason_umass_edu/.conda/envs/narrowPIXC/lib/python3.12/site-packages/geopandas/geoseries.py:720\u001b[0m, in \u001b[0;36mGeoSeries._wrapped_pandas_method\u001b[0;34m(self, mtd, *args, **kwargs)\u001b[0m\n\u001b[1;32m    718\u001b[0m \u001b[38;5;28;01mdef\u001b[39;00m \u001b[38;5;21m_wrapped_pandas_method\u001b[39m(\u001b[38;5;28mself\u001b[39m, mtd, \u001b[38;5;241m*\u001b[39margs, \u001b[38;5;241m*\u001b[39m\u001b[38;5;241m*\u001b[39mkwargs):\n\u001b[1;32m    719\u001b[0m \u001b[38;5;250m    \u001b[39m\u001b[38;5;124;03m\"\"\"Wrap a generic pandas method to ensure it returns a GeoSeries\"\"\"\u001b[39;00m\n\u001b[0;32m--> 720\u001b[0m     val \u001b[38;5;241m=\u001b[39m \u001b[38;5;28;43mgetattr\u001b[39;49m\u001b[43m(\u001b[49m\u001b[38;5;28;43msuper\u001b[39;49m\u001b[43m(\u001b[49m\u001b[43m)\u001b[49m\u001b[43m,\u001b[49m\u001b[43m \u001b[49m\u001b[43mmtd\u001b[49m\u001b[43m)\u001b[49m\u001b[43m(\u001b[49m\u001b[38;5;241;43m*\u001b[39;49m\u001b[43margs\u001b[49m\u001b[43m,\u001b[49m\u001b[43m \u001b[49m\u001b[38;5;241;43m*\u001b[39;49m\u001b[38;5;241;43m*\u001b[39;49m\u001b[43mkwargs\u001b[49m\u001b[43m)\u001b[49m\n\u001b[1;32m    721\u001b[0m     \u001b[38;5;28;01mif\u001b[39;00m \u001b[38;5;28mtype\u001b[39m(val) \u001b[38;5;241m==\u001b[39m Series:\n\u001b[1;32m    722\u001b[0m         val\u001b[38;5;241m.\u001b[39m\u001b[38;5;18m__class__\u001b[39m \u001b[38;5;241m=\u001b[39m GeoSeries\n",
      "File \u001b[0;32m/work/pi_cjgleason_umass_edu/.conda/envs/narrowPIXC/lib/python3.12/site-packages/pandas/core/series.py:1121\u001b[0m, in \u001b[0;36mSeries.__getitem__\u001b[0;34m(self, key)\u001b[0m\n\u001b[1;32m   1118\u001b[0m     \u001b[38;5;28;01mreturn\u001b[39;00m \u001b[38;5;28mself\u001b[39m\u001b[38;5;241m.\u001b[39m_values[key]\n\u001b[1;32m   1120\u001b[0m \u001b[38;5;28;01melif\u001b[39;00m key_is_scalar:\n\u001b[0;32m-> 1121\u001b[0m     \u001b[38;5;28;01mreturn\u001b[39;00m \u001b[38;5;28;43mself\u001b[39;49m\u001b[38;5;241;43m.\u001b[39;49m\u001b[43m_get_value\u001b[49m\u001b[43m(\u001b[49m\u001b[43mkey\u001b[49m\u001b[43m)\u001b[49m\n\u001b[1;32m   1123\u001b[0m \u001b[38;5;66;03m# Convert generator to list before going through hashable part\u001b[39;00m\n\u001b[1;32m   1124\u001b[0m \u001b[38;5;66;03m# (We will iterate through the generator there to check for slices)\u001b[39;00m\n\u001b[1;32m   1125\u001b[0m \u001b[38;5;28;01mif\u001b[39;00m is_iterator(key):\n",
      "File \u001b[0;32m/work/pi_cjgleason_umass_edu/.conda/envs/narrowPIXC/lib/python3.12/site-packages/pandas/core/series.py:1237\u001b[0m, in \u001b[0;36mSeries._get_value\u001b[0;34m(self, label, takeable)\u001b[0m\n\u001b[1;32m   1234\u001b[0m     \u001b[38;5;28;01mreturn\u001b[39;00m \u001b[38;5;28mself\u001b[39m\u001b[38;5;241m.\u001b[39m_values[label]\n\u001b[1;32m   1236\u001b[0m \u001b[38;5;66;03m# Similar to Index.get_value, but we do not fall back to positional\u001b[39;00m\n\u001b[0;32m-> 1237\u001b[0m loc \u001b[38;5;241m=\u001b[39m \u001b[38;5;28;43mself\u001b[39;49m\u001b[38;5;241;43m.\u001b[39;49m\u001b[43mindex\u001b[49m\u001b[38;5;241;43m.\u001b[39;49m\u001b[43mget_loc\u001b[49m\u001b[43m(\u001b[49m\u001b[43mlabel\u001b[49m\u001b[43m)\u001b[49m\n\u001b[1;32m   1239\u001b[0m \u001b[38;5;28;01mif\u001b[39;00m is_integer(loc):\n\u001b[1;32m   1240\u001b[0m     \u001b[38;5;28;01mreturn\u001b[39;00m \u001b[38;5;28mself\u001b[39m\u001b[38;5;241m.\u001b[39m_values[loc]\n",
      "File \u001b[0;32m/work/pi_cjgleason_umass_edu/.conda/envs/narrowPIXC/lib/python3.12/site-packages/pandas/core/indexes/range.py:417\u001b[0m, in \u001b[0;36mRangeIndex.get_loc\u001b[0;34m(self, key)\u001b[0m\n\u001b[1;32m    415\u001b[0m         \u001b[38;5;28;01mraise\u001b[39;00m \u001b[38;5;167;01mKeyError\u001b[39;00m(key) \u001b[38;5;28;01mfrom\u001b[39;00m \u001b[38;5;21;01merr\u001b[39;00m\n\u001b[1;32m    416\u001b[0m \u001b[38;5;28;01mif\u001b[39;00m \u001b[38;5;28misinstance\u001b[39m(key, Hashable):\n\u001b[0;32m--> 417\u001b[0m     \u001b[38;5;28;01mraise\u001b[39;00m \u001b[38;5;167;01mKeyError\u001b[39;00m(key)\n\u001b[1;32m    418\u001b[0m \u001b[38;5;28mself\u001b[39m\u001b[38;5;241m.\u001b[39m_check_indexing_error(key)\n\u001b[1;32m    419\u001b[0m \u001b[38;5;28;01mraise\u001b[39;00m \u001b[38;5;167;01mKeyError\u001b[39;00m(key)\n",
      "\u001b[0;31mKeyError\u001b[0m: 'Bin'"
     ]
    }
   ],
   "source": [
    "# Extract line segment from GeoSeries\n",
    "line = gs[t.index[0]]"
   ]
  },
  {
   "cell_type": "code",
   "execution_count": 92,
   "id": "d13c0e44-d131-426e-8cc4-8c6bdb902701",
   "metadata": {},
   "outputs": [
    {
     "name": "stdout",
     "output_type": "stream",
     "text": [
      "(6,)\n"
     ]
    },
    {
     "ename": "AttributeError",
     "evalue": "'str' object has no attribute 'name'",
     "output_type": "error",
     "traceback": [
      "\u001b[0;31m---------------------------------------------------------------------------\u001b[0m",
      "\u001b[0;31mAttributeError\u001b[0m                            Traceback (most recent call last)",
      "Cell \u001b[0;32mIn[124], line 2\u001b[0m\n\u001b[1;32m      1\u001b[0m \u001b[38;5;66;03m# Try with apply()\u001b[39;00m\n\u001b[0;32m----> 2\u001b[0m reach_cut \u001b[38;5;241m=\u001b[39m \u001b[43mcrop_basin\u001b[49m\u001b[38;5;241;43m.\u001b[39;49m\u001b[43mapply\u001b[49m\u001b[43m(\u001b[49m\u001b[43msegmentReach\u001b[49m\u001b[43m,\u001b[49m\u001b[43m \u001b[49m\u001b[43maxis\u001b[49m\u001b[38;5;241;43m=\u001b[39;49m\u001b[38;5;241;43m1\u001b[39;49m\u001b[43m)\u001b[49m\n",
      "File \u001b[0;32m/work/pi_cjgleason_umass_edu/.conda/envs/narrowPIXC/lib/python3.12/site-packages/geopandas/geodataframe.py:1834\u001b[0m, in \u001b[0;36mGeoDataFrame.apply\u001b[0;34m(self, func, axis, raw, result_type, args, **kwargs)\u001b[0m\n\u001b[1;32m   1832\u001b[0m \u001b[38;5;129m@doc\u001b[39m(pd\u001b[38;5;241m.\u001b[39mDataFrame)\n\u001b[1;32m   1833\u001b[0m \u001b[38;5;28;01mdef\u001b[39;00m \u001b[38;5;21mapply\u001b[39m(\u001b[38;5;28mself\u001b[39m, func, axis\u001b[38;5;241m=\u001b[39m\u001b[38;5;241m0\u001b[39m, raw\u001b[38;5;241m=\u001b[39m\u001b[38;5;28;01mFalse\u001b[39;00m, result_type\u001b[38;5;241m=\u001b[39m\u001b[38;5;28;01mNone\u001b[39;00m, args\u001b[38;5;241m=\u001b[39m(), \u001b[38;5;241m*\u001b[39m\u001b[38;5;241m*\u001b[39mkwargs):\n\u001b[0;32m-> 1834\u001b[0m     result \u001b[38;5;241m=\u001b[39m \u001b[38;5;28;43msuper\u001b[39;49m\u001b[43m(\u001b[49m\u001b[43m)\u001b[49m\u001b[38;5;241;43m.\u001b[39;49m\u001b[43mapply\u001b[49m\u001b[43m(\u001b[49m\n\u001b[1;32m   1835\u001b[0m \u001b[43m        \u001b[49m\u001b[43mfunc\u001b[49m\u001b[43m,\u001b[49m\u001b[43m \u001b[49m\u001b[43maxis\u001b[49m\u001b[38;5;241;43m=\u001b[39;49m\u001b[43maxis\u001b[49m\u001b[43m,\u001b[49m\u001b[43m \u001b[49m\u001b[43mraw\u001b[49m\u001b[38;5;241;43m=\u001b[39;49m\u001b[43mraw\u001b[49m\u001b[43m,\u001b[49m\u001b[43m \u001b[49m\u001b[43mresult_type\u001b[49m\u001b[38;5;241;43m=\u001b[39;49m\u001b[43mresult_type\u001b[49m\u001b[43m,\u001b[49m\u001b[43m \u001b[49m\u001b[43margs\u001b[49m\u001b[38;5;241;43m=\u001b[39;49m\u001b[43margs\u001b[49m\u001b[43m,\u001b[49m\u001b[43m \u001b[49m\u001b[38;5;241;43m*\u001b[39;49m\u001b[38;5;241;43m*\u001b[39;49m\u001b[43mkwargs\u001b[49m\n\u001b[1;32m   1836\u001b[0m \u001b[43m    \u001b[49m\u001b[43m)\u001b[49m\n\u001b[1;32m   1837\u001b[0m     \u001b[38;5;66;03m# Reconstruct gdf if it was lost by apply\u001b[39;00m\n\u001b[1;32m   1838\u001b[0m     \u001b[38;5;28;01mif\u001b[39;00m (\n\u001b[1;32m   1839\u001b[0m         \u001b[38;5;28misinstance\u001b[39m(result, DataFrame)\n\u001b[1;32m   1840\u001b[0m         \u001b[38;5;129;01mand\u001b[39;00m \u001b[38;5;28mself\u001b[39m\u001b[38;5;241m.\u001b[39m_geometry_column_name \u001b[38;5;129;01min\u001b[39;00m result\u001b[38;5;241m.\u001b[39mcolumns\n\u001b[1;32m   1841\u001b[0m     ):\n\u001b[1;32m   1842\u001b[0m         \u001b[38;5;66;03m# axis=1 apply will split GeometryDType to object, try and cast back\u001b[39;00m\n",
      "File \u001b[0;32m/work/pi_cjgleason_umass_edu/.conda/envs/narrowPIXC/lib/python3.12/site-packages/pandas/core/frame.py:10374\u001b[0m, in \u001b[0;36mDataFrame.apply\u001b[0;34m(self, func, axis, raw, result_type, args, by_row, engine, engine_kwargs, **kwargs)\u001b[0m\n\u001b[1;32m  10360\u001b[0m \u001b[38;5;28;01mfrom\u001b[39;00m \u001b[38;5;21;01mpandas\u001b[39;00m\u001b[38;5;21;01m.\u001b[39;00m\u001b[38;5;21;01mcore\u001b[39;00m\u001b[38;5;21;01m.\u001b[39;00m\u001b[38;5;21;01mapply\u001b[39;00m \u001b[38;5;28;01mimport\u001b[39;00m frame_apply\n\u001b[1;32m  10362\u001b[0m op \u001b[38;5;241m=\u001b[39m frame_apply(\n\u001b[1;32m  10363\u001b[0m     \u001b[38;5;28mself\u001b[39m,\n\u001b[1;32m  10364\u001b[0m     func\u001b[38;5;241m=\u001b[39mfunc,\n\u001b[0;32m   (...)\u001b[0m\n\u001b[1;32m  10372\u001b[0m     kwargs\u001b[38;5;241m=\u001b[39mkwargs,\n\u001b[1;32m  10373\u001b[0m )\n\u001b[0;32m> 10374\u001b[0m \u001b[38;5;28;01mreturn\u001b[39;00m \u001b[43mop\u001b[49m\u001b[38;5;241;43m.\u001b[39;49m\u001b[43mapply\u001b[49m\u001b[43m(\u001b[49m\u001b[43m)\u001b[49m\u001b[38;5;241m.\u001b[39m__finalize__(\u001b[38;5;28mself\u001b[39m, method\u001b[38;5;241m=\u001b[39m\u001b[38;5;124m\"\u001b[39m\u001b[38;5;124mapply\u001b[39m\u001b[38;5;124m\"\u001b[39m)\n",
      "File \u001b[0;32m/work/pi_cjgleason_umass_edu/.conda/envs/narrowPIXC/lib/python3.12/site-packages/pandas/core/apply.py:916\u001b[0m, in \u001b[0;36mFrameApply.apply\u001b[0;34m(self)\u001b[0m\n\u001b[1;32m    913\u001b[0m \u001b[38;5;28;01melif\u001b[39;00m \u001b[38;5;28mself\u001b[39m\u001b[38;5;241m.\u001b[39mraw:\n\u001b[1;32m    914\u001b[0m     \u001b[38;5;28;01mreturn\u001b[39;00m \u001b[38;5;28mself\u001b[39m\u001b[38;5;241m.\u001b[39mapply_raw(engine\u001b[38;5;241m=\u001b[39m\u001b[38;5;28mself\u001b[39m\u001b[38;5;241m.\u001b[39mengine, engine_kwargs\u001b[38;5;241m=\u001b[39m\u001b[38;5;28mself\u001b[39m\u001b[38;5;241m.\u001b[39mengine_kwargs)\n\u001b[0;32m--> 916\u001b[0m \u001b[38;5;28;01mreturn\u001b[39;00m \u001b[38;5;28;43mself\u001b[39;49m\u001b[38;5;241;43m.\u001b[39;49m\u001b[43mapply_standard\u001b[49m\u001b[43m(\u001b[49m\u001b[43m)\u001b[49m\n",
      "File \u001b[0;32m/work/pi_cjgleason_umass_edu/.conda/envs/narrowPIXC/lib/python3.12/site-packages/pandas/core/apply.py:1063\u001b[0m, in \u001b[0;36mFrameApply.apply_standard\u001b[0;34m(self)\u001b[0m\n\u001b[1;32m   1061\u001b[0m \u001b[38;5;28;01mdef\u001b[39;00m \u001b[38;5;21mapply_standard\u001b[39m(\u001b[38;5;28mself\u001b[39m):\n\u001b[1;32m   1062\u001b[0m     \u001b[38;5;28;01mif\u001b[39;00m \u001b[38;5;28mself\u001b[39m\u001b[38;5;241m.\u001b[39mengine \u001b[38;5;241m==\u001b[39m \u001b[38;5;124m\"\u001b[39m\u001b[38;5;124mpython\u001b[39m\u001b[38;5;124m\"\u001b[39m:\n\u001b[0;32m-> 1063\u001b[0m         results, res_index \u001b[38;5;241m=\u001b[39m \u001b[38;5;28;43mself\u001b[39;49m\u001b[38;5;241;43m.\u001b[39;49m\u001b[43mapply_series_generator\u001b[49m\u001b[43m(\u001b[49m\u001b[43m)\u001b[49m\n\u001b[1;32m   1064\u001b[0m     \u001b[38;5;28;01melse\u001b[39;00m:\n\u001b[1;32m   1065\u001b[0m         results, res_index \u001b[38;5;241m=\u001b[39m \u001b[38;5;28mself\u001b[39m\u001b[38;5;241m.\u001b[39mapply_series_numba()\n",
      "File \u001b[0;32m/work/pi_cjgleason_umass_edu/.conda/envs/narrowPIXC/lib/python3.12/site-packages/pandas/core/apply.py:1081\u001b[0m, in \u001b[0;36mFrameApply.apply_series_generator\u001b[0;34m(self)\u001b[0m\n\u001b[1;32m   1078\u001b[0m \u001b[38;5;28;01mwith\u001b[39;00m option_context(\u001b[38;5;124m\"\u001b[39m\u001b[38;5;124mmode.chained_assignment\u001b[39m\u001b[38;5;124m\"\u001b[39m, \u001b[38;5;28;01mNone\u001b[39;00m):\n\u001b[1;32m   1079\u001b[0m     \u001b[38;5;28;01mfor\u001b[39;00m i, v \u001b[38;5;129;01min\u001b[39;00m \u001b[38;5;28menumerate\u001b[39m(series_gen):\n\u001b[1;32m   1080\u001b[0m         \u001b[38;5;66;03m# ignore SettingWithCopy here in case the user mutates\u001b[39;00m\n\u001b[0;32m-> 1081\u001b[0m         results[i] \u001b[38;5;241m=\u001b[39m \u001b[38;5;28;43mself\u001b[39;49m\u001b[38;5;241;43m.\u001b[39;49m\u001b[43mfunc\u001b[49m\u001b[43m(\u001b[49m\u001b[43mv\u001b[49m\u001b[43m,\u001b[49m\u001b[43m \u001b[49m\u001b[38;5;241;43m*\u001b[39;49m\u001b[38;5;28;43mself\u001b[39;49m\u001b[38;5;241;43m.\u001b[39;49m\u001b[43margs\u001b[49m\u001b[43m,\u001b[49m\u001b[43m \u001b[49m\u001b[38;5;241;43m*\u001b[39;49m\u001b[38;5;241;43m*\u001b[39;49m\u001b[38;5;28;43mself\u001b[39;49m\u001b[38;5;241;43m.\u001b[39;49m\u001b[43mkwargs\u001b[49m\u001b[43m)\u001b[49m\n\u001b[1;32m   1082\u001b[0m         \u001b[38;5;28;01mif\u001b[39;00m \u001b[38;5;28misinstance\u001b[39m(results[i], ABCSeries):\n\u001b[1;32m   1083\u001b[0m             \u001b[38;5;66;03m# If we have a view on v, we need to make a copy because\u001b[39;00m\n\u001b[1;32m   1084\u001b[0m             \u001b[38;5;66;03m#  series_generator will swap out the underlying data\u001b[39;00m\n\u001b[1;32m   1085\u001b[0m             results[i] \u001b[38;5;241m=\u001b[39m results[i]\u001b[38;5;241m.\u001b[39mcopy(deep\u001b[38;5;241m=\u001b[39m\u001b[38;5;28;01mFalse\u001b[39;00m)\n",
      "Cell \u001b[0;32mIn[123], line 42\u001b[0m, in \u001b[0;36msegmentReach\u001b[0;34m(reach)\u001b[0m\n\u001b[1;32m     40\u001b[0m d \u001b[38;5;241m=\u001b[39m {}\n\u001b[1;32m     41\u001b[0m \u001b[38;5;28;01mfor\u001b[39;00m i \u001b[38;5;129;01min\u001b[39;00m \u001b[38;5;28mrange\u001b[39m(reach\u001b[38;5;241m.\u001b[39mshape[\u001b[38;5;241m0\u001b[39m]):\n\u001b[0;32m---> 42\u001b[0m     d[\u001b[43mreach\u001b[49m\u001b[38;5;241;43m.\u001b[39;49m\u001b[43miloc\u001b[49m\u001b[43m[\u001b[49m\u001b[43mi\u001b[49m\u001b[43m]\u001b[49m\u001b[38;5;241;43m.\u001b[39;49m\u001b[43mname\u001b[49m] \u001b[38;5;241m=\u001b[39m reach\u001b[38;5;241m.\u001b[39miloc[i]\n\u001b[1;32m     43\u001b[0m \u001b[38;5;66;03m# Rename geometry for full reach\u001b[39;00m\n\u001b[1;32m     44\u001b[0m d[\u001b[38;5;124m'\u001b[39m\u001b[38;5;124mgeometry_full\u001b[39m\u001b[38;5;124m'\u001b[39m] \u001b[38;5;241m=\u001b[39m d[\u001b[38;5;124m'\u001b[39m\u001b[38;5;124mgeometry\u001b[39m\u001b[38;5;124m'\u001b[39m]\n",
      "\u001b[0;31mAttributeError\u001b[0m: 'str' object has no attribute 'name'"
     ]
    }
   ],
   "source": [
    "# Try with apply()\n",
    "reach_cut = crop_basin.apply(segmentReach, axis=1)"
   ]
  },
  {
   "cell_type": "code",
   "execution_count": 84,
   "id": "d32e45f0-5b94-46b6-860d-e3fde934f64d",
   "metadata": {},
   "outputs": [
    {
     "data": {
      "text/plain": [
       "{'(0, 10]': 10.0,\n",
       " '(10, 20]': 0,\n",
       " '(20, 30]': 0,\n",
       " '(30, 40]': 90.0,\n",
       " '(40, 50]': 0,\n",
       " '(50, 60]': 0,\n",
       " '(60, 70]': 100.0,\n",
       " '(150, 200]': 100.0}"
      ]
     },
     "execution_count": 84,
     "metadata": {},
     "output_type": "execute_result"
    }
   ],
   "source": [
    "coverage"
   ]
  },
  {
   "cell_type": "code",
   "execution_count": 85,
   "id": "b7ab716b-d42c-4acd-aa83-c10fbff8b4fa",
   "metadata": {},
   "outputs": [
    {
     "data": {
      "image/png": "[encoded data removed]",
      "text/plain": [
       "<Figure size 640x480 with 1 Axes>"
      ]
     },
     "metadata": {},
     "output_type": "display_data"
    }
   ],
   "source": [
    "# plt.scatter(x=ordered, y=coverage, c='k')\n",
    "plt.scatter(x=coverage.keys(), y=coverage.values(), c='k')\n",
    "plt.title('Percent of reach detected in HUC4 0108 by \\n'\n",
    "          + tile_name)\n",
    "plt.xticks(rotation=-45);\n",
    "plt.xlabel('Bankfull Width (m)')\n",
    "plt.ylabel('Percent Detected')\n",
    "plt.savefig(fname='./figures_for_unit_test/one_tile_one_reach_per_bin.png', bbox_inches='tight')"
   ]
  },
  {
   "cell_type": "code",
   "execution_count": null,
   "id": "911d567b-680b-4585-87f6-3b2e2fff5e78",
   "metadata": {},
   "outputs": [],
   "source": []
  },
  {
   "cell_type": "markdown",
   "id": "f5193656-d5c6-42b9-99ee-44d188e4531e",
   "metadata": {
    "jp-MarkdownHeadingCollapsed": true,
    "tags": []
   },
   "source": [
    "#### TESTING"
   ]
  },
  {
   "cell_type": "code",
   "execution_count": 45,
   "id": "f8a4b298-7d94-4ec5-b7c9-ac1d3d8c4643",
   "metadata": {},
   "outputs": [],
   "source": [
    "# Initialize lists\n",
    "coverage = []\n",
    "reach_bins = []"
   ]
  },
  {
   "cell_type": "code",
   "execution_count": 333,
   "id": "1454bdd9-5384-468b-bfbf-6c08c883486e",
   "metadata": {},
   "outputs": [
    {
     "data": {
      "text/plain": [
       "'(60, 70]'"
      ]
     },
     "execution_count": 333,
     "metadata": {},
     "output_type": "execute_result"
    }
   ],
   "source": [
    "binn = bins[8]\n",
    "binn"
   ]
  },
  {
   "cell_type": "code",
   "execution_count": 334,
   "id": "5d9ade2d-1c5d-484e-b4e3-7ce71e9e6f0d",
   "metadata": {},
   "outputs": [],
   "source": [
    "reach = crop_basin.loc[crop_basin['Bin'] == binn].sample(n=1)"
   ]
  },
  {
   "cell_type": "code",
   "execution_count": 335,
   "id": "f5037746-b659-45c4-938e-d30291ad1553",
   "metadata": {},
   "outputs": [
    {
     "data": {
      "text/html": [
       "<div>\n",
       "<style scoped>\n",
       "    .dataframe tbody tr th:only-of-type {\n",
       "        vertical-align: middle;\n",
       "    }\n",
       "\n",
       "    .dataframe tbody tr th {\n",
       "        vertical-align: top;\n",
       "    }\n",
       "\n",
       "    .dataframe thead th {\n",
       "        text-align: right;\n",
       "    }\n",
       "</style>\n",
       "<table border=\"1\" class=\"dataframe\">\n",
       "  <thead>\n",
       "    <tr style=\"text-align: right;\">\n",
       "      <th></th>\n",
       "      <th>Bin</th>\n",
       "      <th>GNIS_Name</th>\n",
       "      <th>LengthKM</th>\n",
       "      <th>NHDPlusID</th>\n",
       "      <th>WidthM</th>\n",
       "      <th>geometry</th>\n",
       "    </tr>\n",
       "  </thead>\n",
       "  <tbody>\n",
       "    <tr>\n",
       "      <th>55059</th>\n",
       "      <td>(60, 70]</td>\n",
       "      <td>Chicopee River</td>\n",
       "      <td>1.635</td>\n",
       "      <td>1.000090e+13</td>\n",
       "      <td>68.029453</td>\n",
       "      <td>LINESTRING (-8063447.795 5184435.381, -8063593...</td>\n",
       "    </tr>\n",
       "  </tbody>\n",
       "</table>\n",
       "</div>"
      ],
      "text/plain": [
       "            Bin       GNIS_Name  LengthKM     NHDPlusID     WidthM  \\\n",
       "55059  (60, 70]  Chicopee River     1.635  1.000090e+13  68.029453   \n",
       "\n",
       "                                                geometry  \n",
       "55059  LINESTRING (-8063447.795 5184435.381, -8063593...  "
      ]
     },
     "execution_count": 335,
     "metadata": {},
     "output_type": "execute_result"
    }
   ],
   "source": [
    "reach"
   ]
  },
  {
   "cell_type": "code",
   "execution_count": null,
   "id": "9c10e93e-7a30-4e37-9c48-5bb16f004831",
   "metadata": {},
   "outputs": [],
   "source": [
    "reach.plot()"
   ]
  },
  {
   "cell_type": "code",
   "execution_count": null,
   "id": "cbafe53b-57a0-4447-bf02-162282847014",
   "metadata": {},
   "outputs": [],
   "source": [
    "reach_bins.append(reach.iloc[0,0])"
   ]
  },
  {
   "cell_type": "code",
   "execution_count": null,
   "id": "3ecf5de1-a97b-4a05-8317-de49abeddaa4",
   "metadata": {},
   "outputs": [],
   "source": [
    "reach_bins"
   ]
  },
  {
   "cell_type": "code",
   "execution_count": null,
   "id": "953100c7-83cf-4332-ba4e-965c6ca4a19e",
   "metadata": {},
   "outputs": [],
   "source": [
    "# Convert MultiLineString Z to LineString (returns GeoSeries)\n",
    "gs = reach.geometry\n",
    "gs.plot()"
   ]
  },
  {
   "cell_type": "code",
   "execution_count": null,
   "id": "e8b51c2f-a4ce-424a-b93a-0a907c8cbd01",
   "metadata": {},
   "outputs": [],
   "source": [
    "# Extract line segment from GeoSeries\n",
    "line = gs[reach.index[0]]\n",
    "line"
   ]
  },
  {
   "cell_type": "code",
   "execution_count": null,
   "id": "861dc765-0273-46de-ae02-6123e3fd3d4f",
   "metadata": {},
   "outputs": [],
   "source": [
    "print(line.length)"
   ]
  },
  {
   "cell_type": "code",
   "execution_count": null,
   "id": "b75ccfb3-6d17-40b6-9592-2f8b7fa44235",
   "metadata": {},
   "outputs": [],
   "source": [
    "# Find length of segments\n",
    "dist = line.length/10\n",
    "print(dist)"
   ]
  },
  {
   "cell_type": "code",
   "execution_count": null,
   "id": "1ede40cf-1cf6-40c5-8ddb-c1e0dc007758",
   "metadata": {},
   "outputs": [],
   "source": [
    "# Make empty list for segments\n",
    "segments = []"
   ]
  },
  {
   "cell_type": "code",
   "execution_count": null,
   "id": "598abf65-30e5-444d-8603-35208b768d47",
   "metadata": {},
   "outputs": [],
   "source": [
    "# Segment the reach\n",
    "for i in range(9):\n",
    "    # Chop the reach, store remainder\n",
    "    new, line = cut(line=line, distance=dist)\n",
    "    # Append new segment to GeoSeries of all segments\n",
    "    segments.append(new)\n",
    "    \n",
    "segments.append(line)"
   ]
  },
  {
   "cell_type": "code",
   "execution_count": null,
   "id": "28506b49-2851-46c1-9e8c-d61c89c7509f",
   "metadata": {},
   "outputs": [],
   "source": [
    "segments"
   ]
  },
  {
   "cell_type": "code",
   "execution_count": null,
   "id": "6caef1b7-9f5f-42ab-a256-98293c7a621a",
   "metadata": {},
   "outputs": [],
   "source": [
    "# Make dict for constructing new GeoDataFrame\n",
    "d = {}\n",
    "for i in range(reach.shape[1]):\n",
    "    d[reach.iloc[:,i].name] = reach.iloc[0,i]\n",
    "# Rename geometry for full reach\n",
    "d['geometry_full'] = d['geometry']\n",
    "\n",
    "# Make GeoDataFrame with new reach segments\n",
    "reach_cut = gpd.GeoDataFrame(data=d, index=range(len(segments)),\n",
    "                             geometry=segments, crs=reach.crs)"
   ]
  },
  {
   "cell_type": "code",
   "execution_count": null,
   "id": "a62ab822-42d1-4268-bd14-bb78d759dc4d",
   "metadata": {},
   "outputs": [],
   "source": [
    "reach_cut"
   ]
  },
  {
   "cell_type": "code",
   "execution_count": null,
   "id": "1c5ae454-6ce9-4265-a810-e443d9f3d596",
   "metadata": {},
   "outputs": [],
   "source": [
    "gpd.GeoSeries(segments).plot(cmap='hsv')"
   ]
  },
  {
   "cell_type": "code",
   "execution_count": null,
   "id": "5b96a1f6-811b-409d-ae55-dfd8ab382655",
   "metadata": {},
   "outputs": [],
   "source": [
    "reach_cut.plot(cmap='hsv')"
   ]
  },
  {
   "cell_type": "code",
   "execution_count": null,
   "id": "dc48c316-327c-4452-8b00-e9f52bb6713d",
   "metadata": {},
   "outputs": [],
   "source": [
    "# Buffer the reach segments by 1/2 the calculated width\n",
    "# CITE BEIGER\n",
    "reach_cut['geometry'] = reach_cut.geometry.buffer(distance=(reach_cut.WidthM/2)[0], cap_style='flat')"
   ]
  },
  {
   "cell_type": "code",
   "execution_count": null,
   "id": "e6b08ebe-f3d6-4b77-bfa2-dbf798bd1b91",
   "metadata": {},
   "outputs": [],
   "source": [
    "reach_cut.plot(cmap='hsv')"
   ]
  },
  {
   "cell_type": "code",
   "execution_count": null,
   "id": "e4a1dc3b-64d7-4cd6-963a-207695e443ff",
   "metadata": {},
   "outputs": [],
   "source": [
    "# Get pixels in reach\n",
    "inside = gpd.sjoin(gdf_PIXC, reach_cut, how='inner', predicate='within').rename(columns={'index_right': 'segment'})"
   ]
  },
  {
   "cell_type": "code",
   "execution_count": null,
   "id": "71612180-fddc-4f47-ad56-1e7df784f76e",
   "metadata": {},
   "outputs": [],
   "source": [
    "inside"
   ]
  },
  {
   "cell_type": "code",
   "execution_count": null,
   "id": "eaae71ef-f40b-4cfb-b4a2-29bb67a0fd6f",
   "metadata": {},
   "outputs": [],
   "source": [
    "if inside.empty:\n",
    "    coverage = 0\n",
    "else:    \n",
    "    # Get number of pixels in each reach segment\n",
    "    counts = pd.DataFrame(inside.segment.value_counts().reset_index().sort_index())\n",
    "    print(counts)\n",
    "    # Calculate coverage\n",
    "    coverage = len(counts.loc[counts['count'] != 0])/len(counts.segment)"
   ]
  },
  {
   "cell_type": "code",
   "execution_count": null,
   "id": "2e3cb580-5a46-4746-b44a-c3ca85a33d24",
   "metadata": {},
   "outputs": [],
   "source": [
    "coverage"
   ]
  }
 ],
 "metadata": {
  "kernelspec": {
   "display_name": "Python [conda env:.conda-narrowPIXC]",
   "language": "python",
   "name": "conda-env-.conda-narrowPIXC-py"
  },
  "language_info": {
   "codemirror_mode": {
    "name": "ipython",
    "version": 3
   },
   "file_extension": ".py",
   "mimetype": "text/x-python",
   "name": "python",
   "nbconvert_exporter": "python",
   "pygments_lexer": "ipython3",
   "version": "3.12.4"
  }
 },
 "nbformat": 4,
 "nbformat_minor": 5
}
