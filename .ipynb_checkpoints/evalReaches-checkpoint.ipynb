{
 "cells": [
  {
   "cell_type": "code",
   "execution_count": 39,
   "id": "1eb00b17-d3cc-416e-9a5d-901ffb569c11",
   "metadata": {},
   "outputs": [],
   "source": [
    "##### import fiona\n",
    "from shapely.geometry import *\n",
    "# from shapely.wkt import loads\n",
    "# from shapely import LineString, MultiPoint\n",
    "# from shapely.ops import nearest_points, split, snap, unary_union\n",
    "\n",
    "# import contextily as cx\n",
    "# import earthaccess\n",
    "import geopandas as gpd\n",
    "import matplotlib.pyplot as plt\n",
    "# from matplotlib import colors\n",
    "import numpy as np\n",
    "import os\n",
    "import pandas as pd\n",
    "import xarray as xr\n",
    "# import shapely"
   ]
  },
  {
   "cell_type": "code",
   "execution_count": 2,
   "id": "591c5754-6697-434c-b59d-343108b5d942",
   "metadata": {
    "tags": []
   },
   "outputs": [],
   "source": [
    "pd.set_option('display.float_format', '{:.2f}'.format)"
   ]
  },
  {
   "cell_type": "markdown",
   "id": "68f3357c-1d21-45e5-82ad-b2eec6001670",
   "metadata": {
    "tags": []
   },
   "source": [
    "#### Functions"
   ]
  },
  {
   "cell_type": "code",
   "execution_count": 3,
   "id": "1cf4b0a2-4d04-492f-a38a-73315d297670",
   "metadata": {
    "tags": []
   },
   "outputs": [],
   "source": [
    "def readNHD(index):\n",
    "    '''\n",
    "    This function takes the index for an NHD HUC4 basin (see\n",
    "    ./data/HUC4_lookup_no_great_lakes_PIXC.csv), reads it in,\n",
    "    forces the geometry to 2D, and returns the basin dataframe.\n",
    "    '''\n",
    "    \n",
    "    ## Set-up\n",
    "    mdata_path = '/nas/cee-water/cjgleason/fiona/narrow_rivers_PIXC/data/'\n",
    "    prep_path = '/nas/cee-water/cjgleason/fiona/narrow_rivers_PIXC_data/NHD_prepped/' # _with_waterbody\n",
    "\n",
    "    # Define dtypes for lookup tables to preserve leading zeros\n",
    "    dtype_dic= {'HUC4': str, 'HUC2': str, 'toBasin': str, 'level': str}\n",
    "    # Read in HUC lookup table\n",
    "    lookup = pd.read_csv(os.path.join(mdata_path, 'HUC4_lookup_no_great_lakes.csv'), dtype=dtype_dic)\n",
    "\n",
    "    # Get current HUC2 and HUC4 IDs\n",
    "    huc2 = 'HUC2_' + lookup.loc[index,'HUC4'][0:2]\n",
    "    huc4 = 'NHDPLUS_H_' + lookup.loc[index,'HUC4'] + '_HU4_GDB'\n",
    "    \n",
    "    # Set data filepath\n",
    "    file_path = os.path.join(prep_path, huc2, huc4 + '_prepped.gpkg') # _with_waterbody\n",
    "\n",
    "    ## Read in prepped NHD flowlines\n",
    "    features = ['NHDPlusID', 'GNIS_Name', 'LengthKM', 'WidthM', 'Bin', 'geometry']\n",
    "    basin = gpd.read_file(filename=file_path, columns=features, engine='pyogrio')\n",
    "    \n",
    "    # Make geometry 2D LineStrings\n",
    "    basin['geometry'] = basin.geometry.explode().force_2d()\n",
    "    \n",
    "    return basin, huc4"
   ]
  },
  {
   "cell_type": "code",
   "execution_count": 4,
   "id": "d4c01c8b-252f-4085-95ba-e99a6d142f16",
   "metadata": {},
   "outputs": [],
   "source": [
    "def cut(line, distance):\n",
    "    '''\n",
    "    This function takes one reach centerline and 1/10th of the reach length\n",
    "    and cuts the lie in two at the distance from its starting point. It then\n",
    "    returns the trimmed piece and the remainder of the reach centerline.\n",
    "    '''\n",
    "    if distance <= 0.0 or distance >= line.length:\n",
    "        return [LineString(line)]\n",
    "    coords = list(line.coords)\n",
    "    for i, p in enumerate(coords):\n",
    "        pd = line.project(Point(p))\n",
    "        if pd == distance:\n",
    "            return [\n",
    "                LineString(coords[:i+1]),\n",
    "                LineString(coords[i:])]\n",
    "        if pd > distance:\n",
    "            cp = line.interpolate(distance)\n",
    "            return [\n",
    "                LineString(coords[:i] + [(cp.x, cp.y)]),\n",
    "                LineString([(cp.x, cp.y)] + coords[i:])]"
   ]
  },
  {
   "cell_type": "code",
   "execution_count": 5,
   "id": "f9be8e4a-31cf-4195-a5d1-3312564a1199",
   "metadata": {},
   "outputs": [],
   "source": [
    "def bitwiseMask(ds):\n",
    "    '''\n",
    "    This function masks a PIXC granules: for now, it ony remove pixels\n",
    "    with land classification and those with bad geolocation_qual.\n",
    "    # See page 65 of PIXC PDD: https://podaac.jpl.nasa.gov/SWOT?tab=datasets-information&sections=about%2Bdata\n",
    "    '''\n",
    "    mask = np.where(np.logical_and(ds.classification > 1, ds.geolocation_qual < 2**12))[0]\n",
    "    # print(mask.shape)\n",
    "    return mask"
   ]
  },
  {
   "cell_type": "code",
   "execution_count": 6,
   "id": "094710c1-3bf3-4477-bf64-7b4a85623a1c",
   "metadata": {},
   "outputs": [],
   "source": [
    "def makeGDF(ds, mask, data_var):\n",
    "    '''\n",
    "    This function takes the pixel cloud xarray object, makes a masked\n",
    "    GeoDataFrame, renames columns as needed, set the CRS, reprojects\n",
    "    the CRS, and returns a GeoDataFrame.\n",
    "    '''\n",
    "\n",
    "    # Create GDF\n",
    "    gdf_PIXC = gpd.GeoDataFrame(ds[data_var][mask],\n",
    "                                geometry=gpd.points_from_xy(\n",
    "                                    ds.longitude[mask],\n",
    "                                    ds.latitude[mask]),\n",
    "                                crs=\"EPSG:4326\") # PIXC has no native CRS, setting same as River_SP\n",
    "\n",
    "    if data_var == 'classification':\n",
    "        gdf_PIXC.rename(columns={gdf_PIXC.columns[0]: 'klass'}, inplace=True)\n",
    "    else:\n",
    "        gdf_PIXC.rename(columns={gdf_PIXC.columns[0]: data_var}, inplace=True)\n",
    "    \n",
    "    # Convert the crs to WGS 84 / Pseudo-Mercator\n",
    "    gdf_PIXC = gdf_PIXC.to_crs(epsg=3857)\n",
    "    \n",
    "    return gdf_PIXC"
   ]
  },
  {
   "cell_type": "code",
   "execution_count": 7,
   "id": "f9ed897d-426e-4bed-beed-9f6c269e62db",
   "metadata": {},
   "outputs": [],
   "source": [
    "def segmentReach(reach):\n",
    "    '''\n",
    "    Ths function takes a reach center line, cuts it into ten segments of\n",
    "    equal length, and returns those ten segments.\n",
    "    '''\n",
    "    # Get linestring\n",
    "    line = reach.geometry\n",
    "    # Find length of segments\n",
    "    dist = line.length/10\n",
    "    \n",
    "    # Make empty list for segments\n",
    "    segments = []\n",
    "\n",
    "    # Segment the reach\n",
    "    for i in range(9):\n",
    "        try:\n",
    "            # Chop the reach, store remainder\n",
    "            new, line = cut(line=line, distance=dist)\n",
    "            # Append new segment to GeoSeries of all segments\n",
    "            segments.append(new)\n",
    "            # segments[i]: new\n",
    "        except:\n",
    "            print(reach['NHDPlusID'])\n",
    "    \n",
    "    # Append final segment to list\n",
    "    segments.append(line)\n",
    "\n",
    "    return segments"
   ]
  },
  {
   "cell_type": "code",
   "execution_count": 8,
   "id": "0129a136-9a9d-4c79-aa6c-72a4c305e407",
   "metadata": {},
   "outputs": [],
   "source": [
    "def getCoverage(reach, basin, gdf_PIXC):\n",
    "    '''\n",
    "    Ths function takes a segmented reach, explodes it to get one row\n",
    "    per reach, buffers the reach segments with 1/2 the calculated width\n",
    "    on either of the reach segment centerlines, intersects the buffered\n",
    "    segments with the SWOT PIXC, and calculates the percent coverage for\n",
    "    the whole reach, and returns this proportion.\n",
    "    \n",
    "    Right now, a segment only needs to have one pixel in it to be\n",
    "    considered \"detected\".\n",
    "    '''\n",
    "    \n",
    "    # Make GeoSeries with just segments\n",
    "    segments = gpd.GeoSeries(data=reach['segments'], crs=reach.crs)\n",
    "\n",
    "    # Buffer segments by 1/2 the calculated width\n",
    "    # CITE BEIGER\n",
    "    segments = segments.buffer(distance=(reach.WidthM/2),cap_style='flat')\n",
    "    \n",
    "    # Make GeoDataFrame of segments\n",
    "    segments = gpd.GeoDataFrame(geometry=segments)\n",
    "    \n",
    "    # Get pixels in reach\n",
    "    inside = gpd.sjoin(gdf_PIXC, segments, how='inner',\n",
    "                       predicate='within').rename(columns={'index_right': 'segment'})\n",
    "\n",
    "    if inside.empty:\n",
    "        prop = 0\n",
    "    else:    \n",
    "        # Get number of pixels in each reach segment\n",
    "        counts = pd.DataFrame(inside.segment.value_counts().reset_index().sort_index())\n",
    "        # Calculate coverage (proportion of reaches with >= 1 pixel in them)\n",
    "        prop = len(counts.loc[counts['count'] != 0])/10\n",
    "    return prop"
   ]
  },
  {
   "cell_type": "markdown",
   "id": "5f916cef-3501-40be-8606-b78e94637277",
   "metadata": {},
   "source": [
    "#### Read in and prep NHD"
   ]
  },
  {
   "cell_type": "code",
   "execution_count": 9,
   "id": "b9879d4a-64bb-4af3-9501-5d41a9f86b39",
   "metadata": {},
   "outputs": [],
   "source": [
    "# Set slurm job index\n",
    "# i = 4 # HUC4 0108, Connecticut\n",
    "i = 109 # HUC4 1711, Snoqualmie\n",
    "# i = 57 # HUC4 0807, Mississippi\n",
    "# i = 191 # HUC4 1708, Columbia"
   ]
  },
  {
   "cell_type": "code",
   "execution_count": 10,
   "id": "9ab7adb7-6d02-4f4b-a61f-51fdb9366452",
   "metadata": {},
   "outputs": [],
   "source": [
    "# Read prepped NHD\n",
    "basin, huc4 = readNHD(index=i)"
   ]
  },
  {
   "cell_type": "code",
   "execution_count": 11,
   "id": "d3840cab-6365-4504-b4c3-073d524562a8",
   "metadata": {
    "collapsed": true,
    "jupyter": {
     "outputs_hidden": true
    },
    "tags": []
   },
   "outputs": [
    {
     "data": {
      "text/html": [
       "<div>\n",
       "<style scoped>\n",
       "    .dataframe tbody tr th:only-of-type {\n",
       "        vertical-align: middle;\n",
       "    }\n",
       "\n",
       "    .dataframe tbody tr th {\n",
       "        vertical-align: top;\n",
       "    }\n",
       "\n",
       "    .dataframe thead th {\n",
       "        text-align: right;\n",
       "    }\n",
       "</style>\n",
       "<table border=\"1\" class=\"dataframe\">\n",
       "  <thead>\n",
       "    <tr style=\"text-align: right;\">\n",
       "      <th></th>\n",
       "      <th>Bin</th>\n",
       "      <th>GNIS_Name</th>\n",
       "      <th>LengthKM</th>\n",
       "      <th>NHDPlusID</th>\n",
       "      <th>WidthM</th>\n",
       "      <th>geometry</th>\n",
       "    </tr>\n",
       "  </thead>\n",
       "  <tbody>\n",
       "    <tr>\n",
       "      <th>0</th>\n",
       "      <td>(0, 10]</td>\n",
       "      <td>None</td>\n",
       "      <td>0.29</td>\n",
       "      <td>55000800009535.00</td>\n",
       "      <td>2.44</td>\n",
       "      <td>LINESTRING (-13635891.124 6177623.131, -136359...</td>\n",
       "    </tr>\n",
       "    <tr>\n",
       "      <th>1</th>\n",
       "      <td>(0, 10]</td>\n",
       "      <td>None</td>\n",
       "      <td>0.41</td>\n",
       "      <td>55000800009661.00</td>\n",
       "      <td>1.12</td>\n",
       "      <td>LINESTRING (-13634338.034 5916557.146, -136343...</td>\n",
       "    </tr>\n",
       "    <tr>\n",
       "      <th>2</th>\n",
       "      <td>(0, 10]</td>\n",
       "      <td>None</td>\n",
       "      <td>0.06</td>\n",
       "      <td>55000800009662.00</td>\n",
       "      <td>0.13</td>\n",
       "      <td>LINESTRING (-13633520.179 5917738.189, -136335...</td>\n",
       "    </tr>\n",
       "    <tr>\n",
       "      <th>3</th>\n",
       "      <td>(0, 10]</td>\n",
       "      <td>None</td>\n",
       "      <td>0.11</td>\n",
       "      <td>55000800009663.00</td>\n",
       "      <td>8.02</td>\n",
       "      <td>LINESTRING (-13633496.17 5917815.181, -1363347...</td>\n",
       "    </tr>\n",
       "    <tr>\n",
       "      <th>4</th>\n",
       "      <td>(0, 10]</td>\n",
       "      <td>None</td>\n",
       "      <td>0.07</td>\n",
       "      <td>55000800009664.00</td>\n",
       "      <td>2.32</td>\n",
       "      <td>LINESTRING (-13633170.597 5917747.282, -136331...</td>\n",
       "    </tr>\n",
       "    <tr>\n",
       "      <th>...</th>\n",
       "      <td>...</td>\n",
       "      <td>...</td>\n",
       "      <td>...</td>\n",
       "      <td>...</td>\n",
       "      <td>...</td>\n",
       "      <td>...</td>\n",
       "    </tr>\n",
       "    <tr>\n",
       "      <th>238495</th>\n",
       "      <td>(0, 10]</td>\n",
       "      <td>None</td>\n",
       "      <td>0.10</td>\n",
       "      <td>55000800252686.00</td>\n",
       "      <td>0.22</td>\n",
       "      <td>LINESTRING (-13538391.252 6171330.722, -135384...</td>\n",
       "    </tr>\n",
       "    <tr>\n",
       "      <th>238496</th>\n",
       "      <td>(10, 20]</td>\n",
       "      <td>North Fork Stillaguamish River</td>\n",
       "      <td>0.23</td>\n",
       "      <td>55000800252687.00</td>\n",
       "      <td>12.44</td>\n",
       "      <td>LINESTRING (-13538178.016 6171320.073, -135381...</td>\n",
       "    </tr>\n",
       "    <tr>\n",
       "      <th>238497</th>\n",
       "      <td>(10, 20]</td>\n",
       "      <td>North Fork Stillaguamish River</td>\n",
       "      <td>0.15</td>\n",
       "      <td>55000800252688.00</td>\n",
       "      <td>12.40</td>\n",
       "      <td>LINESTRING (-13538207.484 6171515.165, -135381...</td>\n",
       "    </tr>\n",
       "    <tr>\n",
       "      <th>238498</th>\n",
       "      <td>(10, 20]</td>\n",
       "      <td>North Fork Stillaguamish River</td>\n",
       "      <td>0.22</td>\n",
       "      <td>55000800252689.00</td>\n",
       "      <td>14.07</td>\n",
       "      <td>LINESTRING (-13538269.348 6169760.222, -135382...</td>\n",
       "    </tr>\n",
       "    <tr>\n",
       "      <th>238499</th>\n",
       "      <td>(0, 10]</td>\n",
       "      <td>None</td>\n",
       "      <td>0.11</td>\n",
       "      <td>55000800252690.00</td>\n",
       "      <td>0.28</td>\n",
       "      <td>LINESTRING (-13537306.273 6171253.729, -135373...</td>\n",
       "    </tr>\n",
       "  </tbody>\n",
       "</table>\n",
       "<p>238500 rows × 6 columns</p>\n",
       "</div>"
      ],
      "text/plain": [
       "             Bin                       GNIS_Name  LengthKM         NHDPlusID  \\\n",
       "0        (0, 10]                            None      0.29 55000800009535.00   \n",
       "1        (0, 10]                            None      0.41 55000800009661.00   \n",
       "2        (0, 10]                            None      0.06 55000800009662.00   \n",
       "3        (0, 10]                            None      0.11 55000800009663.00   \n",
       "4        (0, 10]                            None      0.07 55000800009664.00   \n",
       "...          ...                             ...       ...               ...   \n",
       "238495   (0, 10]                            None      0.10 55000800252686.00   \n",
       "238496  (10, 20]  North Fork Stillaguamish River      0.23 55000800252687.00   \n",
       "238497  (10, 20]  North Fork Stillaguamish River      0.15 55000800252688.00   \n",
       "238498  (10, 20]  North Fork Stillaguamish River      0.22 55000800252689.00   \n",
       "238499   (0, 10]                            None      0.11 55000800252690.00   \n",
       "\n",
       "        WidthM                                           geometry  \n",
       "0         2.44  LINESTRING (-13635891.124 6177623.131, -136359...  \n",
       "1         1.12  LINESTRING (-13634338.034 5916557.146, -136343...  \n",
       "2         0.13  LINESTRING (-13633520.179 5917738.189, -136335...  \n",
       "3         8.02  LINESTRING (-13633496.17 5917815.181, -1363347...  \n",
       "4         2.32  LINESTRING (-13633170.597 5917747.282, -136331...  \n",
       "...        ...                                                ...  \n",
       "238495    0.22  LINESTRING (-13538391.252 6171330.722, -135384...  \n",
       "238496   12.44  LINESTRING (-13538178.016 6171320.073, -135381...  \n",
       "238497   12.40  LINESTRING (-13538207.484 6171515.165, -135381...  \n",
       "238498   14.07  LINESTRING (-13538269.348 6169760.222, -135382...  \n",
       "238499    0.28  LINESTRING (-13537306.273 6171253.729, -135373...  \n",
       "\n",
       "[238500 rows x 6 columns]"
      ]
     },
     "execution_count": 11,
     "metadata": {},
     "output_type": "execute_result"
    }
   ],
   "source": [
    "basin"
   ]
  },
  {
   "cell_type": "code",
   "execution_count": 13,
   "id": "3851fe61-e086-4a55-acfc-9b7dbe82ff2b",
   "metadata": {},
   "outputs": [
    {
     "data": {
      "text/plain": [
       "'NHDPLUS_H_1711_HU4_GDB'"
      ]
     },
     "execution_count": 13,
     "metadata": {},
     "output_type": "execute_result"
    }
   ],
   "source": [
    "huc4"
   ]
  },
  {
   "cell_type": "code",
   "execution_count": 14,
   "id": "029f43f8-a177-4fb1-a10c-b82776494892",
   "metadata": {},
   "outputs": [
    {
     "data": {
      "text/plain": [
       "np.float64(99.97830649031332)"
      ]
     },
     "execution_count": 14,
     "metadata": {},
     "output_type": "execute_result"
    }
   ],
   "source": [
    "np.max(basin['WidthM'])"
   ]
  },
  {
   "cell_type": "markdown",
   "id": "1d7bf050-c406-49c0-870c-5aa0bee1ac95",
   "metadata": {
    "tags": []
   },
   "source": [
    "#### Read in and prep PIXC"
   ]
  },
  {
   "cell_type": "code",
   "execution_count": 15,
   "id": "50c97d18-419c-40b2-9868-f8d1d3585c5d",
   "metadata": {},
   "outputs": [],
   "source": [
    "# pixc_path = '../data/small_rivers/mar_2024_ver_c/leaf_off/SWOT_L2_HR_PIXC_014_341_229R_20240429T152954_20240429T153005_PIC0_01.nc'\n",
    "pixc_path = '../data/small_rivers/mar_2024_ver_c/SWOT_L2_HR_PIXC_011_345_239R_20240227T044209_20240227T044220_PIC0_01.nc'"
   ]
  },
  {
   "cell_type": "code",
   "execution_count": 16,
   "id": "e06a433a-c5fa-4266-a1f8-2b32113a389e",
   "metadata": {},
   "outputs": [
    {
     "data": {
      "text/plain": [
       "'SWOT_L2_HR_PIXC_011_345_239R_20240227T044209_20240227T044220_PIC0_01'"
      ]
     },
     "execution_count": 16,
     "metadata": {},
     "output_type": "execute_result"
    }
   ],
   "source": [
    "tile_name = pixc_path[-71:-3]\n",
    "tile_name"
   ]
  },
  {
   "cell_type": "code",
   "execution_count": 17,
   "id": "e3309add-c44a-403d-bceb-5b7d10d8c8ef",
   "metadata": {},
   "outputs": [],
   "source": [
    "# Read in xarray\n",
    "ds_PIXC = xr.open_mfdataset(paths=pixc_path, group='pixel_cloud', engine='h5netcdf')"
   ]
  },
  {
   "cell_type": "code",
   "execution_count": 18,
   "id": "8e7c6e79-47ea-4681-bd4f-86dea3410325",
   "metadata": {},
   "outputs": [],
   "source": [
    "# Make dict for legend labels\n",
    "flags = ds_PIXC.classification.flag_meanings.split() # extract each flag meaning\n",
    "codes = {idx:k for idx, k in enumerate(flags, start=1)}"
   ]
  },
  {
   "cell_type": "code",
   "execution_count": 28,
   "id": "c0a51f3b-cbeb-4c78-b712-f08555322101",
   "metadata": {},
   "outputs": [],
   "source": [
    "# counts = pd.DataFrame(ds_PIXC.geolocation_qual).value_counts().sort_index()\n",
    "# counts"
   ]
  },
  {
   "cell_type": "code",
   "execution_count": 19,
   "id": "0feda8a4-edf6-497c-91ea-77def1722d50",
   "metadata": {
    "tags": []
   },
   "outputs": [
    {
     "name": "stdout",
     "output_type": "stream",
     "text": [
      "(1628640,)\n"
     ]
    }
   ],
   "source": [
    "# Make mask\n",
    "mask = bitwiseMask(ds=ds_PIXC)\n",
    "\n",
    "# # If dataframe not empty after filtering\n",
    "# if mask.shape != (0,):\n",
    "#     # Make PIXC\n",
    "gdf_PIXC = makeGDF(ds=ds_PIXC, mask=mask, data_var='classification')\n",
    "    # # Append to list\n",
    "    # d.append(gdf_PIXC)"
   ]
  },
  {
   "cell_type": "markdown",
   "id": "d9d09a3c-c057-4a0e-b1ca-b93dc1d14a02",
   "metadata": {
    "tags": []
   },
   "source": [
    "#### Get bounds of PIXC and crop basin to it"
   ]
  },
  {
   "cell_type": "code",
   "execution_count": 55,
   "id": "c93f9b48-ad85-4772-95ec-ee0da6cd6761",
   "metadata": {},
   "outputs": [],
   "source": [
    "# # Get bounds of PIXC, construct polygon\n",
    "# This was giving a box oriented NS, EW\n",
    "# bounds_PIXC = gdf_PIXC.total_bounds\n",
    "# poly = box(bounds_PIXC[0], bounds_PIXC[1], bounds_PIXC[2], bounds_PIXC[3])"
   ]
  },
  {
   "cell_type": "code",
   "execution_count": 56,
   "id": "08b0d0b0-20f8-466b-9429-c9c7330b4403",
   "metadata": {},
   "outputs": [],
   "source": [
    "# basin_crop = basin.clip(poly)"
   ]
  },
  {
   "cell_type": "code",
   "execution_count": 20,
   "id": "6d7c229b-cc2b-4bf2-9536-2b17dba17ba5",
   "metadata": {},
   "outputs": [],
   "source": [
    "bounds_PIXC = gdf_PIXC.union_all().convex_hull"
   ]
  },
  {
   "cell_type": "code",
   "execution_count": 21,
   "id": "c8fcf010-016e-46f3-a4d2-30dbf018454a",
   "metadata": {},
   "outputs": [],
   "source": [
    "basin_crop = basin.clip(bounds_PIXC)"
   ]
  },
  {
   "cell_type": "code",
   "execution_count": 22,
   "id": "ed171f1b-fe4b-4599-b18d-69bed4c60bb8",
   "metadata": {},
   "outputs": [],
   "source": [
    "# FOR NOW: Drop reaches with MultiLineString type\n",
    "# This occurs because some reaches flow out of and then back\n",
    "# into the PIXC tile of interest.\n",
    "basin_crop = basin_crop[basin_crop.geometry.geometry.type=='LineString']"
   ]
  },
  {
   "cell_type": "code",
   "execution_count": 23,
   "id": "dd4952ff-9286-4067-94c7-4560cff0d87c",
   "metadata": {},
   "outputs": [],
   "source": [
    "# Order of all possible bins for plotting\n",
    "order = ['(0, 10]', '(10, 20]', '(20, 30]', '(30, 40]', '(40, 50]',\n",
    "         '(50, 60]', '(60, 70]', '(70, 80]', '(80, 90]', '(90, 100]',\n",
    "         '(100, 150]', '(150, 200]', '(200, 500]', '(500, 1000]']"
   ]
  },
  {
   "cell_type": "code",
   "execution_count": 24,
   "id": "3019b23b-2e87-488f-b1fa-35c636af9f84",
   "metadata": {},
   "outputs": [
    {
     "data": {
      "text/plain": [
       "['(0, 10]',\n",
       " '(10, 20]',\n",
       " '(20, 30]',\n",
       " '(30, 40]',\n",
       " '(40, 50]',\n",
       " '(50, 60]',\n",
       " '(70, 80]']"
      ]
     },
     "execution_count": 24,
     "metadata": {},
     "output_type": "execute_result"
    }
   ],
   "source": [
    "# Find width bins present in cropped hydrography\n",
    "bins = list(np.unique(basin_crop.Bin))\n",
    "bins"
   ]
  },
  {
   "cell_type": "code",
   "execution_count": 25,
   "id": "265397d4-c8c4-4181-844b-ac99587a1745",
   "metadata": {},
   "outputs": [
    {
     "data": {
      "text/plain": [
       "['(0, 10]',\n",
       " '(10, 20]',\n",
       " '(20, 30]',\n",
       " '(30, 40]',\n",
       " '(40, 50]',\n",
       " '(50, 60]',\n",
       " '(70, 80]']"
      ]
     },
     "execution_count": 25,
     "metadata": {},
     "output_type": "execute_result"
    }
   ],
   "source": [
    "# Make sorted list of bins present\n",
    "ordered = []\n",
    "for binn in order:\n",
    "    if binn in bins:\n",
    "        ordered.append(binn)\n",
    "ordered"
   ]
  },
  {
   "cell_type": "markdown",
   "id": "68b0a62e-b031-43b7-a675-2edff6031bf8",
   "metadata": {
    "tags": []
   },
   "source": [
    "#### Segment reach, calculates coverage functions"
   ]
  },
  {
   "cell_type": "code",
   "execution_count": 30,
   "id": "d13c0e44-d131-426e-8cc4-8c6bdb902701",
   "metadata": {},
   "outputs": [],
   "source": [
    "# Segment the reaches\n",
    "basin_crop['segments'] = basin_crop.apply(func=segmentReach, axis=1)"
   ]
  },
  {
   "cell_type": "code",
   "execution_count": 34,
   "id": "4ab43fe1-ed96-4067-8cce-2f6c2829f727",
   "metadata": {},
   "outputs": [],
   "source": [
    "# Get the coverage for each reach (at least one pixel/segment)\n",
    "basin_crop['coverage'] = basin_crop.apply(func=getCoverage, args=(basin_crop.crs, gdf_PIXC), axis=1)"
   ]
  },
  {
   "cell_type": "code",
   "execution_count": 40,
   "id": "bab773b0-d12e-4cf5-8f10-83737c24cc47",
   "metadata": {},
   "outputs": [
    {
     "name": "stdout",
     "output_type": "stream",
     "text": [
      "    coverage  count\n",
      "0       0.00  19167\n",
      "1       0.10    984\n",
      "2       0.20    326\n",
      "3       0.30    166\n",
      "4       1.00    163\n",
      "5       0.40    129\n",
      "6       0.60     99\n",
      "7       0.50     89\n",
      "8       0.80     78\n",
      "9       0.70     71\n",
      "10      0.90     71\n"
     ]
    }
   ],
   "source": [
    "print(pd.DataFrame(basin_crop.coverage.value_counts().reset_index().sort_index()))"
   ]
  },
  {
   "cell_type": "code",
   "execution_count": 36,
   "id": "a987e206-bae5-45fa-9698-7d990eebc7bb",
   "metadata": {},
   "outputs": [],
   "source": [
    "mean_cov = basin_crop.groupby('Bin')['coverage'].mean()"
   ]
  },
  {
   "cell_type": "code",
   "execution_count": 41,
   "id": "f9510912-0b6c-4078-b1e8-4e81e04cb3af",
   "metadata": {},
   "outputs": [
    {
     "name": "stdout",
     "output_type": "stream",
     "text": [
      "Bin\n",
      "(0, 10]    0.01\n",
      "(10, 20]   0.15\n",
      "(20, 30]   0.36\n",
      "(30, 40]   0.34\n",
      "(40, 50]   0.51\n",
      "(50, 60]   0.67\n",
      "(70, 80]   0.84\n",
      "Name: coverage, dtype: float64\n"
     ]
    }
   ],
   "source": [
    "print(mean_cov)"
   ]
  },
  {
   "cell_type": "code",
   "execution_count": 42,
   "id": "b7ab716b-d42c-4acd-aa83-c10fbff8b4fa",
   "metadata": {},
   "outputs": [
    {
     "data": {
      "image/png": "[encoded data removed]",
      "text/plain": [
       "<Figure size 1200x800 with 1 Axes>"
      ]
     },
     "metadata": {},
     "output_type": "display_data"
    }
   ],
   "source": [
    "# plt.scatter(x=ordered, y=coverage, c='k')\n",
    "fig, ax = plt.subplots(figsize=(12,8))\n",
    "plt.scatter(x=mean_cov.keys(), y=mean_cov.values, c='k')\n",
    "plt.title('Mean percent of reach detected in ' + huc4 +' by \\n'\n",
    "          + tile_name)\n",
    "plt.xticks(rotation=-45);\n",
    "\n",
    "# Set number of ticks for x-axis\n",
    "ax.set_xticks(range(len(ordered)))\n",
    "# Set ticks labels for x-axis\n",
    "ax.set_xticklabels(ordered)\n",
    "\n",
    "plt.xlabel('Bankfull Width (m)')\n",
    "plt.ylabel('Percent Detected')\n",
    "plt.savefig(fname='./figures_for_unit_test/one_tile_'+ huc4 +'.png', bbox_inches='tight')"
   ]
  },
  {
   "cell_type": "code",
   "execution_count": 67,
   "id": "b29f7239-2d03-4399-bd7c-0c823b3faa6a",
   "metadata": {},
   "outputs": [],
   "source": [
    "outpath = './figures_for_unit_test/'"
   ]
  },
  {
   "cell_type": "code",
   "execution_count": 68,
   "id": "b7dff6b5-730c-4c78-8406-d6dc42afa6b3",
   "metadata": {},
   "outputs": [],
   "source": [
    "# Make color palette\n",
    "# palette = {2: 'darkolivegreen', 3: 'slateblue', 4: 'steelblue', 5: 'hotpink',\n",
    "#            6: 'saddlebrown', 7: 'darkslategray'}\n",
    "palette = {2: 'darkkhaki', 3: 'cornflowerblue', 4: 'blue', 5: 'hotpink',\n",
    "           6: 'lightsalmon', 7: 'lightblue'}"
   ]
  },
  {
   "cell_type": "code",
   "execution_count": 69,
   "id": "c1fbbc32-2932-4af4-bf57-ea82d3b5b54a",
   "metadata": {},
   "outputs": [
    {
     "data": {
      "text/plain": [
       "'/nas/cee-water/cjgleason/fiona/narrow_rivers_PIXC'"
      ]
     },
     "execution_count": 69,
     "metadata": {},
     "output_type": "execute_result"
    }
   ],
   "source": [
    "pwd"
   ]
  },
  {
   "cell_type": "code",
   "execution_count": null,
   "id": "f0110ec0-9bf5-4831-9e6f-06e01d18b6e1",
   "metadata": {},
   "outputs": [],
   "source": [
    "# Plot the full set of reaches\n",
    "# Get labels for plot\n",
    "nums = list(np.unique(gdf_PIXC.klass).astype('int'))\n",
    "labels = [codes[x] for x in nums]\n",
    "\n",
    "# Make cmap\n",
    "cmap = colors.ListedColormap([palette[x] for x in nums])\n",
    "\n",
    "# Plot\n",
    "fig, ax = plt.subplots(figsize=(15,15))\n",
    "\n",
    "basin_crop.plot(color='w', alpha=0.2, ax=ax)\n",
    "gdf_PIXC.plot(column=gdf_PIXC.klass, categorical=True, \n",
    "            markersize=10, cmap=cmap, legend=True,\n",
    "            legend_kwds={'labels': labels,\n",
    "                         'framealpha': 1, \n",
    "                         'title_fontsize': 'medium',\n",
    "                         'loc': 'upper left'},\n",
    "            ax=ax)\n",
    "# bounds.plot(color='r', marker=\"s\", markersize=50, ax=ax)\n",
    "\n",
    "# Basemap\n",
    "cx.add_basemap(ax, crs=gdf_PIXC.crs, source=cx.providers.CartoDB.DarkMatter, alpha=0.9)\n",
    "\n",
    "# \n",
    "leg = ax.get_legend()\n",
    "leg.set_title(\"Class\")          \n",
    "ax.title.set_text('PIXC granule ' + tile_name + ' intersected with ' + huc4)\n",
    "plt.savefig(fname = outpath + huc4 + '_' + tile_name +  '_masked.png', bbox_inches='tight')"
   ]
  },
  {
   "cell_type": "markdown",
   "id": "8a3a9a8d-5e9e-4b89-b387-a14714fad7ef",
   "metadata": {},
   "source": [
    "**PLOT ONE SEGMENTED REACH**"
   ]
  },
  {
   "cell_type": "code",
   "execution_count": 74,
   "id": "b97e20fe-32b8-4f2d-b032-f8be38ea6dc2",
   "metadata": {
    "collapsed": true,
    "jupyter": {
     "outputs_hidden": true
    },
    "tags": []
   },
   "outputs": [
    {
     "data": {
      "text/html": [
       "<div>\n",
       "<style scoped>\n",
       "    .dataframe tbody tr th:only-of-type {\n",
       "        vertical-align: middle;\n",
       "    }\n",
       "\n",
       "    .dataframe tbody tr th {\n",
       "        vertical-align: top;\n",
       "    }\n",
       "\n",
       "    .dataframe thead th {\n",
       "        text-align: right;\n",
       "    }\n",
       "</style>\n",
       "<table border=\"1\" class=\"dataframe\">\n",
       "  <thead>\n",
       "    <tr style=\"text-align: right;\">\n",
       "      <th></th>\n",
       "      <th>Bin</th>\n",
       "      <th>GNIS_Name</th>\n",
       "      <th>LengthKM</th>\n",
       "      <th>NHDPlusID</th>\n",
       "      <th>WidthM</th>\n",
       "      <th>geometry</th>\n",
       "      <th>segments</th>\n",
       "      <th>coverage</th>\n",
       "    </tr>\n",
       "  </thead>\n",
       "  <tbody>\n",
       "    <tr>\n",
       "      <th>192170</th>\n",
       "      <td>(20, 30]</td>\n",
       "      <td>Tolt River</td>\n",
       "      <td>1.47</td>\n",
       "      <td>55000800244963.00</td>\n",
       "      <td>25.14</td>\n",
       "      <td>LINESTRING (-13569323.01 6047553.943, -1356936...</td>\n",
       "      <td>[LINESTRING (-13569323.009701123 6047553.94277...</td>\n",
       "      <td>0.90</td>\n",
       "    </tr>\n",
       "    <tr>\n",
       "      <th>214740</th>\n",
       "      <td>(20, 30]</td>\n",
       "      <td>Tolt River</td>\n",
       "      <td>1.26</td>\n",
       "      <td>55000800282287.00</td>\n",
       "      <td>25.39</td>\n",
       "      <td>LINESTRING (-13571076.985 6046774.261, -135712...</td>\n",
       "      <td>[LINESTRING (-13571076.985091293 6046774.26051...</td>\n",
       "      <td>1.00</td>\n",
       "    </tr>\n",
       "    <tr>\n",
       "      <th>153594</th>\n",
       "      <td>(20, 30]</td>\n",
       "      <td>Tolt River</td>\n",
       "      <td>0.06</td>\n",
       "      <td>55000800206994.00</td>\n",
       "      <td>25.39</td>\n",
       "      <td>LINESTRING (-13572823.58 6047211.297, -1357289...</td>\n",
       "      <td>[LINESTRING (-13572823.579929402 6047211.29675...</td>\n",
       "      <td>0.40</td>\n",
       "    </tr>\n",
       "    <tr>\n",
       "      <th>87432</th>\n",
       "      <td>(20, 30]</td>\n",
       "      <td>Tolt River</td>\n",
       "      <td>0.66</td>\n",
       "      <td>55000800018552.00</td>\n",
       "      <td>25.09</td>\n",
       "      <td>LINESTRING (-13568476.404 6047574.905, -135685...</td>\n",
       "      <td>[LINESTRING (-13568476.403664665 6047574.90507...</td>\n",
       "      <td>0.70</td>\n",
       "    </tr>\n",
       "    <tr>\n",
       "      <th>149462</th>\n",
       "      <td>(20, 30]</td>\n",
       "      <td>Tolt River</td>\n",
       "      <td>0.55</td>\n",
       "      <td>55000800207882.00</td>\n",
       "      <td>25.04</td>\n",
       "      <td>LINESTRING (-13567761.549 6047847.296, -135677...</td>\n",
       "      <td>[LINESTRING (-13567761.548544178 6047847.29579...</td>\n",
       "      <td>0.90</td>\n",
       "    </tr>\n",
       "    <tr>\n",
       "      <th>53827</th>\n",
       "      <td>(20, 30]</td>\n",
       "      <td>Tolt River</td>\n",
       "      <td>0.41</td>\n",
       "      <td>55000800094333.00</td>\n",
       "      <td>24.96</td>\n",
       "      <td>LINESTRING (-13567611.848 6048378.442, -135676...</td>\n",
       "      <td>[LINESTRING (-13567611.84778491 6048378.441663...</td>\n",
       "      <td>0.80</td>\n",
       "    </tr>\n",
       "    <tr>\n",
       "      <th>158876</th>\n",
       "      <td>(20, 30]</td>\n",
       "      <td>Tolt River</td>\n",
       "      <td>1.86</td>\n",
       "      <td>55000800208349.00</td>\n",
       "      <td>24.65</td>\n",
       "      <td>LINESTRING (-13565774.354 6052203.762, -135657...</td>\n",
       "      <td>[LINESTRING (-13565774.354199572 6052203.76187...</td>\n",
       "      <td>0.90</td>\n",
       "    </tr>\n",
       "    <tr>\n",
       "      <th>81409</th>\n",
       "      <td>(20, 30]</td>\n",
       "      <td>Tolt River</td>\n",
       "      <td>0.86</td>\n",
       "      <td>55000800056433.00</td>\n",
       "      <td>24.83</td>\n",
       "      <td>LINESTRING (-13566736.131 6049323.015, -135668...</td>\n",
       "      <td>[LINESTRING (-13566736.130641134 6049323.01509...</td>\n",
       "      <td>0.40</td>\n",
       "    </tr>\n",
       "    <tr>\n",
       "      <th>88995</th>\n",
       "      <td>(20, 30]</td>\n",
       "      <td>Tolt River</td>\n",
       "      <td>0.39</td>\n",
       "      <td>55000800019041.00</td>\n",
       "      <td>24.80</td>\n",
       "      <td>LINESTRING (-13566951.075 6049761.009, -135669...</td>\n",
       "      <td>[LINESTRING (-13566951.074777083 6049761.00877...</td>\n",
       "      <td>0.60</td>\n",
       "    </tr>\n",
       "    <tr>\n",
       "      <th>195395</th>\n",
       "      <td>(20, 30]</td>\n",
       "      <td>Tolt River</td>\n",
       "      <td>0.34</td>\n",
       "      <td>55000800245897.00</td>\n",
       "      <td>24.73</td>\n",
       "      <td>LINESTRING (-13566968.472 6050268.517, -135669...</td>\n",
       "      <td>[LINESTRING (-13566968.471741933 6050268.51682...</td>\n",
       "      <td>0.30</td>\n",
       "    </tr>\n",
       "    <tr>\n",
       "      <th>81408</th>\n",
       "      <td>(20, 30]</td>\n",
       "      <td>Tolt River</td>\n",
       "      <td>0.03</td>\n",
       "      <td>55000800056431.00</td>\n",
       "      <td>24.83</td>\n",
       "      <td>LINESTRING (-13567592.248 6048412.514, -135676...</td>\n",
       "      <td>[LINESTRING (-13567592.248251865 6048412.51376...</td>\n",
       "      <td>0.10</td>\n",
       "    </tr>\n",
       "    <tr>\n",
       "      <th>219702</th>\n",
       "      <td>(20, 30]</td>\n",
       "      <td>Tolt River</td>\n",
       "      <td>0.15</td>\n",
       "      <td>55000800283720.00</td>\n",
       "      <td>24.58</td>\n",
       "      <td>LINESTRING (-13565568.978 6052280.742, -135657...</td>\n",
       "      <td>[LINESTRING (-13565568.977564046 6052280.74228...</td>\n",
       "      <td>0.70</td>\n",
       "    </tr>\n",
       "    <tr>\n",
       "      <th>158878</th>\n",
       "      <td>(20, 30]</td>\n",
       "      <td>Tolt River</td>\n",
       "      <td>0.61</td>\n",
       "      <td>55000800208351.00</td>\n",
       "      <td>24.57</td>\n",
       "      <td>LINESTRING (-13564823.539 6052431.62, -1356491...</td>\n",
       "      <td>[LINESTRING (-13564823.538822748 6052431.61973...</td>\n",
       "      <td>1.00</td>\n",
       "    </tr>\n",
       "    <tr>\n",
       "      <th>164661</th>\n",
       "      <td>(20, 30]</td>\n",
       "      <td>Tolt River</td>\n",
       "      <td>0.09</td>\n",
       "      <td>55000800170956.00</td>\n",
       "      <td>24.45</td>\n",
       "      <td>LINESTRING (-13564770.959 6052552.819, -135648...</td>\n",
       "      <td>[LINESTRING (-13564770.959303072 6052552.81882...</td>\n",
       "      <td>0.40</td>\n",
       "    </tr>\n",
       "    <tr>\n",
       "      <th>82078</th>\n",
       "      <td>(20, 30]</td>\n",
       "      <td>Tolt River</td>\n",
       "      <td>0.16</td>\n",
       "      <td>55000800057302.00</td>\n",
       "      <td>24.27</td>\n",
       "      <td>LINESTRING (-13563596.396 6054103.408, -135636...</td>\n",
       "      <td>[LINESTRING (-13563596.395582134 6054103.40767...</td>\n",
       "      <td>0.60</td>\n",
       "    </tr>\n",
       "    <tr>\n",
       "      <th>51642</th>\n",
       "      <td>(20, 30]</td>\n",
       "      <td>Tolt River</td>\n",
       "      <td>0.39</td>\n",
       "      <td>55000800095277.00</td>\n",
       "      <td>24.07</td>\n",
       "      <td>LINESTRING (-13562432.836 6055244.811, -135624...</td>\n",
       "      <td>[LINESTRING (-13562432.836408213 6055244.81137...</td>\n",
       "      <td>0.40</td>\n",
       "    </tr>\n",
       "    <tr>\n",
       "      <th>169957</th>\n",
       "      <td>(20, 30]</td>\n",
       "      <td>Tolt River</td>\n",
       "      <td>0.10</td>\n",
       "      <td>55000800171474.00</td>\n",
       "      <td>24.02</td>\n",
       "      <td>LINESTRING (-13562346.727 6055352.071, -135623...</td>\n",
       "      <td>[LINESTRING (-13562346.727432938 6055352.07063...</td>\n",
       "      <td>0.10</td>\n",
       "    </tr>\n",
       "    <tr>\n",
       "      <th>82079</th>\n",
       "      <td>(20, 30]</td>\n",
       "      <td>Tolt River</td>\n",
       "      <td>0.44</td>\n",
       "      <td>55000800057303.00</td>\n",
       "      <td>24.00</td>\n",
       "      <td>LINESTRING (-13562542.095 6055934.484, -135625...</td>\n",
       "      <td>[LINESTRING (-13562542.09456946 6055934.483615...</td>\n",
       "      <td>0.40</td>\n",
       "    </tr>\n",
       "    <tr>\n",
       "      <th>9738</th>\n",
       "      <td>(20, 30]</td>\n",
       "      <td>Tolt River</td>\n",
       "      <td>0.31</td>\n",
       "      <td>55000800019535.00</td>\n",
       "      <td>24.00</td>\n",
       "      <td>LINESTRING (-13562199.246 6056115.425, -135622...</td>\n",
       "      <td>[LINESTRING (-13562199.246141858 6056115.42540...</td>\n",
       "      <td>0.70</td>\n",
       "    </tr>\n",
       "    <tr>\n",
       "      <th>47373</th>\n",
       "      <td>(20, 30]</td>\n",
       "      <td>Tolt River</td>\n",
       "      <td>0.78</td>\n",
       "      <td>55000800095823.00</td>\n",
       "      <td>23.34</td>\n",
       "      <td>LINESTRING (-13561102.098 6056375.032, -135611...</td>\n",
       "      <td>[LINESTRING (-13561102.097637162 6056375.03156...</td>\n",
       "      <td>1.00</td>\n",
       "    </tr>\n",
       "    <tr>\n",
       "      <th>9736</th>\n",
       "      <td>(20, 30]</td>\n",
       "      <td>Tolt River</td>\n",
       "      <td>1.22</td>\n",
       "      <td>55000800019533.00</td>\n",
       "      <td>24.44</td>\n",
       "      <td>LINESTRING (-13563918.299 6053129.588, -135639...</td>\n",
       "      <td>[LINESTRING (-13563918.298893603 6053129.58837...</td>\n",
       "      <td>1.00</td>\n",
       "    </tr>\n",
       "    <tr>\n",
       "      <th>222011</th>\n",
       "      <td>(20, 30]</td>\n",
       "      <td>Tolt River</td>\n",
       "      <td>0.30</td>\n",
       "      <td>55000800284157.00</td>\n",
       "      <td>24.35</td>\n",
       "      <td>LINESTRING (-13563800.153 6053521.647, -135637...</td>\n",
       "      <td>[LINESTRING (-13563800.152995916 6053521.64686...</td>\n",
       "      <td>0.70</td>\n",
       "    </tr>\n",
       "    <tr>\n",
       "      <th>165424</th>\n",
       "      <td>(20, 30]</td>\n",
       "      <td>Tolt River</td>\n",
       "      <td>0.28</td>\n",
       "      <td>55000800170959.00</td>\n",
       "      <td>24.33</td>\n",
       "      <td>LINESTRING (-13563760.012 6053932.484, -135638...</td>\n",
       "      <td>[LINESTRING (-13563760.012358503 6053932.48408...</td>\n",
       "      <td>0.90</td>\n",
       "    </tr>\n",
       "    <tr>\n",
       "      <th>165426</th>\n",
       "      <td>(20, 30]</td>\n",
       "      <td>Tolt River</td>\n",
       "      <td>0.41</td>\n",
       "      <td>55000800170961.00</td>\n",
       "      <td>24.25</td>\n",
       "      <td>LINESTRING (-13563259.574 6054582.466, -135633...</td>\n",
       "      <td>[LINESTRING (-13563259.574090468 6054582.46577...</td>\n",
       "      <td>0.90</td>\n",
       "    </tr>\n",
       "    <tr>\n",
       "      <th>51641</th>\n",
       "      <td>(20, 30]</td>\n",
       "      <td>Tolt River</td>\n",
       "      <td>0.24</td>\n",
       "      <td>55000800095276.00</td>\n",
       "      <td>24.24</td>\n",
       "      <td>LINESTRING (-13562940.132 6054727.717, -135629...</td>\n",
       "      <td>[LINESTRING (-13562940.132343069 6054727.71660...</td>\n",
       "      <td>0.50</td>\n",
       "    </tr>\n",
       "    <tr>\n",
       "      <th>185137</th>\n",
       "      <td>(20, 30]</td>\n",
       "      <td>Tolt River</td>\n",
       "      <td>0.11</td>\n",
       "      <td>55000800246363.00</td>\n",
       "      <td>24.10</td>\n",
       "      <td>LINESTRING (-13562757.546 6054781.128, -135628...</td>\n",
       "      <td>[LINESTRING (-13562757.546411175 6054781.12807...</td>\n",
       "      <td>0.50</td>\n",
       "    </tr>\n",
       "  </tbody>\n",
       "</table>\n",
       "</div>"
      ],
      "text/plain": [
       "             Bin   GNIS_Name  LengthKM         NHDPlusID  WidthM  \\\n",
       "192170  (20, 30]  Tolt River      1.47 55000800244963.00   25.14   \n",
       "214740  (20, 30]  Tolt River      1.26 55000800282287.00   25.39   \n",
       "153594  (20, 30]  Tolt River      0.06 55000800206994.00   25.39   \n",
       "87432   (20, 30]  Tolt River      0.66 55000800018552.00   25.09   \n",
       "149462  (20, 30]  Tolt River      0.55 55000800207882.00   25.04   \n",
       "53827   (20, 30]  Tolt River      0.41 55000800094333.00   24.96   \n",
       "158876  (20, 30]  Tolt River      1.86 55000800208349.00   24.65   \n",
       "81409   (20, 30]  Tolt River      0.86 55000800056433.00   24.83   \n",
       "88995   (20, 30]  Tolt River      0.39 55000800019041.00   24.80   \n",
       "195395  (20, 30]  Tolt River      0.34 55000800245897.00   24.73   \n",
       "81408   (20, 30]  Tolt River      0.03 55000800056431.00   24.83   \n",
       "219702  (20, 30]  Tolt River      0.15 55000800283720.00   24.58   \n",
       "158878  (20, 30]  Tolt River      0.61 55000800208351.00   24.57   \n",
       "164661  (20, 30]  Tolt River      0.09 55000800170956.00   24.45   \n",
       "82078   (20, 30]  Tolt River      0.16 55000800057302.00   24.27   \n",
       "51642   (20, 30]  Tolt River      0.39 55000800095277.00   24.07   \n",
       "169957  (20, 30]  Tolt River      0.10 55000800171474.00   24.02   \n",
       "82079   (20, 30]  Tolt River      0.44 55000800057303.00   24.00   \n",
       "9738    (20, 30]  Tolt River      0.31 55000800019535.00   24.00   \n",
       "47373   (20, 30]  Tolt River      0.78 55000800095823.00   23.34   \n",
       "9736    (20, 30]  Tolt River      1.22 55000800019533.00   24.44   \n",
       "222011  (20, 30]  Tolt River      0.30 55000800284157.00   24.35   \n",
       "165424  (20, 30]  Tolt River      0.28 55000800170959.00   24.33   \n",
       "165426  (20, 30]  Tolt River      0.41 55000800170961.00   24.25   \n",
       "51641   (20, 30]  Tolt River      0.24 55000800095276.00   24.24   \n",
       "185137  (20, 30]  Tolt River      0.11 55000800246363.00   24.10   \n",
       "\n",
       "                                                 geometry  \\\n",
       "192170  LINESTRING (-13569323.01 6047553.943, -1356936...   \n",
       "214740  LINESTRING (-13571076.985 6046774.261, -135712...   \n",
       "153594  LINESTRING (-13572823.58 6047211.297, -1357289...   \n",
       "87432   LINESTRING (-13568476.404 6047574.905, -135685...   \n",
       "149462  LINESTRING (-13567761.549 6047847.296, -135677...   \n",
       "53827   LINESTRING (-13567611.848 6048378.442, -135676...   \n",
       "158876  LINESTRING (-13565774.354 6052203.762, -135657...   \n",
       "81409   LINESTRING (-13566736.131 6049323.015, -135668...   \n",
       "88995   LINESTRING (-13566951.075 6049761.009, -135669...   \n",
       "195395  LINESTRING (-13566968.472 6050268.517, -135669...   \n",
       "81408   LINESTRING (-13567592.248 6048412.514, -135676...   \n",
       "219702  LINESTRING (-13565568.978 6052280.742, -135657...   \n",
       "158878  LINESTRING (-13564823.539 6052431.62, -1356491...   \n",
       "164661  LINESTRING (-13564770.959 6052552.819, -135648...   \n",
       "82078   LINESTRING (-13563596.396 6054103.408, -135636...   \n",
       "51642   LINESTRING (-13562432.836 6055244.811, -135624...   \n",
       "169957  LINESTRING (-13562346.727 6055352.071, -135623...   \n",
       "82079   LINESTRING (-13562542.095 6055934.484, -135625...   \n",
       "9738    LINESTRING (-13562199.246 6056115.425, -135622...   \n",
       "47373   LINESTRING (-13561102.098 6056375.032, -135611...   \n",
       "9736    LINESTRING (-13563918.299 6053129.588, -135639...   \n",
       "222011  LINESTRING (-13563800.153 6053521.647, -135637...   \n",
       "165424  LINESTRING (-13563760.012 6053932.484, -135638...   \n",
       "165426  LINESTRING (-13563259.574 6054582.466, -135633...   \n",
       "51641   LINESTRING (-13562940.132 6054727.717, -135629...   \n",
       "185137  LINESTRING (-13562757.546 6054781.128, -135628...   \n",
       "\n",
       "                                                 segments  coverage  \n",
       "192170  [LINESTRING (-13569323.009701123 6047553.94277...      0.90  \n",
       "214740  [LINESTRING (-13571076.985091293 6046774.26051...      1.00  \n",
       "153594  [LINESTRING (-13572823.579929402 6047211.29675...      0.40  \n",
       "87432   [LINESTRING (-13568476.403664665 6047574.90507...      0.70  \n",
       "149462  [LINESTRING (-13567761.548544178 6047847.29579...      0.90  \n",
       "53827   [LINESTRING (-13567611.84778491 6048378.441663...      0.80  \n",
       "158876  [LINESTRING (-13565774.354199572 6052203.76187...      0.90  \n",
       "81409   [LINESTRING (-13566736.130641134 6049323.01509...      0.40  \n",
       "88995   [LINESTRING (-13566951.074777083 6049761.00877...      0.60  \n",
       "195395  [LINESTRING (-13566968.471741933 6050268.51682...      0.30  \n",
       "81408   [LINESTRING (-13567592.248251865 6048412.51376...      0.10  \n",
       "219702  [LINESTRING (-13565568.977564046 6052280.74228...      0.70  \n",
       "158878  [LINESTRING (-13564823.538822748 6052431.61973...      1.00  \n",
       "164661  [LINESTRING (-13564770.959303072 6052552.81882...      0.40  \n",
       "82078   [LINESTRING (-13563596.395582134 6054103.40767...      0.60  \n",
       "51642   [LINESTRING (-13562432.836408213 6055244.81137...      0.40  \n",
       "169957  [LINESTRING (-13562346.727432938 6055352.07063...      0.10  \n",
       "82079   [LINESTRING (-13562542.09456946 6055934.483615...      0.40  \n",
       "9738    [LINESTRING (-13562199.246141858 6056115.42540...      0.70  \n",
       "47373   [LINESTRING (-13561102.097637162 6056375.03156...      1.00  \n",
       "9736    [LINESTRING (-13563918.298893603 6053129.58837...      1.00  \n",
       "222011  [LINESTRING (-13563800.152995916 6053521.64686...      0.70  \n",
       "165424  [LINESTRING (-13563760.012358503 6053932.48408...      0.90  \n",
       "165426  [LINESTRING (-13563259.574090468 6054582.46577...      0.90  \n",
       "51641   [LINESTRING (-13562940.132343069 6054727.71660...      0.50  \n",
       "185137  [LINESTRING (-13562757.546411175 6054781.12807...      0.50  "
      ]
     },
     "execution_count": 74,
     "metadata": {},
     "output_type": "execute_result"
    }
   ],
   "source": [
    "basin_crop[basin_crop['GNIS_Name'] == 'Tolt River']"
   ]
  },
  {
   "cell_type": "code",
   "execution_count": 122,
   "id": "00b40cfb-4a21-49e7-92f1-13442776e3a5",
   "metadata": {},
   "outputs": [],
   "source": [
    "one = data=basin_crop.loc[192170]"
   ]
  },
  {
   "cell_type": "code",
   "execution_count": null,
   "id": "aa12782f-0895-46cd-861f-af5e47616a0c",
   "metadata": {},
   "outputs": [],
   "source": [
    "one = gpd.GeoDataFrame(one, geometry=geometrygeometry)"
   ]
  },
  {
   "cell_type": "code",
   "execution_count": 120,
   "id": "cdc74729-b1d3-497f-8bb9-d88e22c36cda",
   "metadata": {},
   "outputs": [
    {
     "data": {
      "text/plain": [
       "<bound method DataFrame.transpose of                                                       192170\n",
       "Bin                                                 (20, 30]\n",
       "GNIS_Name                                         Tolt River\n",
       "LengthKM                                                1.47\n",
       "NHDPlusID                                  55000800244963.00\n",
       "WidthM                                                 25.14\n",
       "geometry   LINESTRING (-13569323.009701123 6047553.942775...\n",
       "segments   [LINESTRING (-13569323.009701123 6047553.94277...\n",
       "coverage                                                0.90>"
      ]
     },
     "execution_count": 133,
     "metadata": {},
     "output_type": "execute_result"
    }
   ],
   "source": [
    "one.geometry"
   ]
  },
  {
   "cell_type": "code",
   "execution_count": 103,
   "id": "868c3a04-ffea-47bb-8daa-2122583e135a",
   "metadata": {},
   "outputs": [
    {
     "ename": "AttributeError",
     "evalue": "'Series' object has no attribute 'buffer'",
     "output_type": "error",
     "traceback": [
      "\u001b[0;31m---------------------------------------------------------------------------\u001b[0m",
      "\u001b[0;31mAttributeError\u001b[0m                            Traceback (most recent call last)",
      "\u001b[0;32m/tmp/ipykernel_1909865/591609848.py\u001b[0m in \u001b[0;36m?\u001b[0;34m()\u001b[0m\n\u001b[0;32m----> 1\u001b[0;31m \u001b[0mone\u001b[0m \u001b[0;34m=\u001b[0m \u001b[0mone\u001b[0m\u001b[0;34m.\u001b[0m\u001b[0mbuffer\u001b[0m\u001b[0;34m(\u001b[0m\u001b[0mdistance\u001b[0m\u001b[0;34m=\u001b[0m\u001b[0;34m(\u001b[0m\u001b[0mbasin_crop\u001b[0m\u001b[0;34m.\u001b[0m\u001b[0mloc\u001b[0m\u001b[0;34m[\u001b[0m\u001b[0;36m192170\u001b[0m\u001b[0;34m]\u001b[0m\u001b[0;34m.\u001b[0m\u001b[0mWidthM\u001b[0m\u001b[0;34m/\u001b[0m\u001b[0;36m2\u001b[0m\u001b[0;34m)\u001b[0m\u001b[0;34m)\u001b[0m\u001b[0;34m\u001b[0m\u001b[0;34m\u001b[0m\u001b[0m\n\u001b[0m",
      "\u001b[0;32m/work/pi_cjgleason_umass_edu/.conda/envs/narrowPIXC/lib/python3.12/site-packages/pandas/core/generic.py\u001b[0m in \u001b[0;36m?\u001b[0;34m(self, name)\u001b[0m\n\u001b[1;32m   6295\u001b[0m             \u001b[0;32mand\u001b[0m \u001b[0mname\u001b[0m \u001b[0;32mnot\u001b[0m \u001b[0;32min\u001b[0m \u001b[0mself\u001b[0m\u001b[0;34m.\u001b[0m\u001b[0m_accessors\u001b[0m\u001b[0;34m\u001b[0m\u001b[0;34m\u001b[0m\u001b[0m\n\u001b[1;32m   6296\u001b[0m             \u001b[0;32mand\u001b[0m \u001b[0mself\u001b[0m\u001b[0;34m.\u001b[0m\u001b[0m_info_axis\u001b[0m\u001b[0;34m.\u001b[0m\u001b[0m_can_hold_identifiers_and_holds_name\u001b[0m\u001b[0;34m(\u001b[0m\u001b[0mname\u001b[0m\u001b[0;34m)\u001b[0m\u001b[0;34m\u001b[0m\u001b[0;34m\u001b[0m\u001b[0m\n\u001b[1;32m   6297\u001b[0m         \u001b[0;34m)\u001b[0m\u001b[0;34m:\u001b[0m\u001b[0;34m\u001b[0m\u001b[0;34m\u001b[0m\u001b[0m\n\u001b[1;32m   6298\u001b[0m             \u001b[0;32mreturn\u001b[0m \u001b[0mself\u001b[0m\u001b[0;34m[\u001b[0m\u001b[0mname\u001b[0m\u001b[0;34m]\u001b[0m\u001b[0;34m\u001b[0m\u001b[0;34m\u001b[0m\u001b[0m\n\u001b[0;32m-> 6299\u001b[0;31m         \u001b[0;32mreturn\u001b[0m \u001b[0mobject\u001b[0m\u001b[0;34m.\u001b[0m\u001b[0m__getattribute__\u001b[0m\u001b[0;34m(\u001b[0m\u001b[0mself\u001b[0m\u001b[0;34m,\u001b[0m \u001b[0mname\u001b[0m\u001b[0;34m)\u001b[0m\u001b[0;34m\u001b[0m\u001b[0;34m\u001b[0m\u001b[0m\n\u001b[0m",
      "\u001b[0;31mAttributeError\u001b[0m: 'Series' object has no attribute 'buffer'"
     ]
    }
   ],
   "source": [
    "one = one.buffer(distance=(basin_crop.loc[192170].WidthM/2))"
   ]
  },
  {
   "cell_type": "code",
   "execution_count": 105,
   "id": "41649d67-844e-4b7b-abc4-36d02de19b59",
   "metadata": {},
   "outputs": [
    {
     "ename": "ValueError",
     "evalue": "'right_df' should be GeoDataFrame, got <class 'geopandas.geoseries.GeoSeries'>",
     "output_type": "error",
     "traceback": [
      "\u001b[0;31m---------------------------------------------------------------------------\u001b[0m",
      "\u001b[0;31mValueError\u001b[0m                                Traceback (most recent call last)",
      "Cell \u001b[0;32mIn[105], line 2\u001b[0m\n\u001b[1;32m      1\u001b[0m \u001b[38;5;66;03m# Get pixels in reach\u001b[39;00m\n\u001b[0;32m----> 2\u001b[0m inside \u001b[38;5;241m=\u001b[39m \u001b[43mgpd\u001b[49m\u001b[38;5;241;43m.\u001b[39;49m\u001b[43msjoin\u001b[49m\u001b[43m(\u001b[49m\u001b[43mgdf_PIXC\u001b[49m\u001b[43m,\u001b[49m\u001b[43m \u001b[49m\u001b[43mone\u001b[49m\u001b[43m,\u001b[49m\u001b[43m \u001b[49m\u001b[43mhow\u001b[49m\u001b[38;5;241;43m=\u001b[39;49m\u001b[38;5;124;43m'\u001b[39;49m\u001b[38;5;124;43minner\u001b[39;49m\u001b[38;5;124;43m'\u001b[39;49m\u001b[43m,\u001b[49m\n\u001b[1;32m      3\u001b[0m \u001b[43m                   \u001b[49m\u001b[43mpredicate\u001b[49m\u001b[38;5;241;43m=\u001b[39;49m\u001b[38;5;124;43m'\u001b[39;49m\u001b[38;5;124;43mwithin\u001b[39;49m\u001b[38;5;124;43m'\u001b[39;49m\u001b[43m)\u001b[49m\u001b[38;5;241m.\u001b[39mrename(columns\u001b[38;5;241m=\u001b[39m{\u001b[38;5;124m'\u001b[39m\u001b[38;5;124mindex_right\u001b[39m\u001b[38;5;124m'\u001b[39m: \u001b[38;5;124m'\u001b[39m\u001b[38;5;124msegment\u001b[39m\u001b[38;5;124m'\u001b[39m})\n",
      "File \u001b[0;32m/work/pi_cjgleason_umass_edu/.conda/envs/narrowPIXC/lib/python3.12/site-packages/geopandas/tools/sjoin.py:114\u001b[0m, in \u001b[0;36msjoin\u001b[0;34m(left_df, right_df, how, predicate, lsuffix, rsuffix, distance, on_attribute, **kwargs)\u001b[0m\n\u001b[1;32m    110\u001b[0m     \u001b[38;5;28;01mraise\u001b[39;00m \u001b[38;5;167;01mTypeError\u001b[39;00m(\u001b[38;5;124mf\u001b[39m\u001b[38;5;124m\"\u001b[39m\u001b[38;5;124msjoin() got an unexpected keyword argument \u001b[39m\u001b[38;5;124m'\u001b[39m\u001b[38;5;132;01m{\u001b[39;00mfirst\u001b[38;5;132;01m}\u001b[39;00m\u001b[38;5;124m'\u001b[39m\u001b[38;5;124m\"\u001b[39m)\n\u001b[1;32m    112\u001b[0m on_attribute \u001b[38;5;241m=\u001b[39m _maybe_make_list(on_attribute)\n\u001b[0;32m--> 114\u001b[0m \u001b[43m_basic_checks\u001b[49m\u001b[43m(\u001b[49m\u001b[43mleft_df\u001b[49m\u001b[43m,\u001b[49m\u001b[43m \u001b[49m\u001b[43mright_df\u001b[49m\u001b[43m,\u001b[49m\u001b[43m \u001b[49m\u001b[43mhow\u001b[49m\u001b[43m,\u001b[49m\u001b[43m \u001b[49m\u001b[43mlsuffix\u001b[49m\u001b[43m,\u001b[49m\u001b[43m \u001b[49m\u001b[43mrsuffix\u001b[49m\u001b[43m,\u001b[49m\u001b[43m \u001b[49m\u001b[43mon_attribute\u001b[49m\u001b[38;5;241;43m=\u001b[39;49m\u001b[43mon_attribute\u001b[49m\u001b[43m)\u001b[49m,\n\u001b[1;32m    116\u001b[0m indices \u001b[38;5;241m=\u001b[39m _geom_predicate_query(\n\u001b[1;32m    117\u001b[0m     left_df, right_df, predicate, distance, on_attribute\u001b[38;5;241m=\u001b[39mon_attribute\n\u001b[1;32m    118\u001b[0m )\n\u001b[1;32m    120\u001b[0m joined, _ \u001b[38;5;241m=\u001b[39m _frame_join(\n\u001b[1;32m    121\u001b[0m     left_df,\n\u001b[1;32m    122\u001b[0m     right_df,\n\u001b[0;32m   (...)\u001b[0m\n\u001b[1;32m    129\u001b[0m     on_attribute\u001b[38;5;241m=\u001b[39mon_attribute,\n\u001b[1;32m    130\u001b[0m )\n",
      "File \u001b[0;32m/work/pi_cjgleason_umass_edu/.conda/envs/narrowPIXC/lib/python3.12/site-packages/geopandas/tools/sjoin.py:169\u001b[0m, in \u001b[0;36m_basic_checks\u001b[0;34m(left_df, right_df, how, lsuffix, rsuffix, on_attribute)\u001b[0m\n\u001b[1;32m    164\u001b[0m     \u001b[38;5;28;01mraise\u001b[39;00m \u001b[38;5;167;01mValueError\u001b[39;00m(\n\u001b[1;32m    165\u001b[0m         \u001b[38;5;124m\"\u001b[39m\u001b[38;5;124m'\u001b[39m\u001b[38;5;124mleft_df\u001b[39m\u001b[38;5;124m'\u001b[39m\u001b[38;5;124m should be GeoDataFrame, got \u001b[39m\u001b[38;5;132;01m{}\u001b[39;00m\u001b[38;5;124m\"\u001b[39m\u001b[38;5;241m.\u001b[39mformat(\u001b[38;5;28mtype\u001b[39m(left_df))\n\u001b[1;32m    166\u001b[0m     )\n\u001b[1;32m    168\u001b[0m \u001b[38;5;28;01mif\u001b[39;00m \u001b[38;5;129;01mnot\u001b[39;00m \u001b[38;5;28misinstance\u001b[39m(right_df, GeoDataFrame):\n\u001b[0;32m--> 169\u001b[0m     \u001b[38;5;28;01mraise\u001b[39;00m \u001b[38;5;167;01mValueError\u001b[39;00m(\n\u001b[1;32m    170\u001b[0m         \u001b[38;5;124m\"\u001b[39m\u001b[38;5;124m'\u001b[39m\u001b[38;5;124mright_df\u001b[39m\u001b[38;5;124m'\u001b[39m\u001b[38;5;124m should be GeoDataFrame, got \u001b[39m\u001b[38;5;132;01m{}\u001b[39;00m\u001b[38;5;124m\"\u001b[39m\u001b[38;5;241m.\u001b[39mformat(\u001b[38;5;28mtype\u001b[39m(right_df))\n\u001b[1;32m    171\u001b[0m     )\n\u001b[1;32m    173\u001b[0m allowed_hows \u001b[38;5;241m=\u001b[39m [\u001b[38;5;124m\"\u001b[39m\u001b[38;5;124mleft\u001b[39m\u001b[38;5;124m\"\u001b[39m, \u001b[38;5;124m\"\u001b[39m\u001b[38;5;124mright\u001b[39m\u001b[38;5;124m\"\u001b[39m, \u001b[38;5;124m\"\u001b[39m\u001b[38;5;124minner\u001b[39m\u001b[38;5;124m\"\u001b[39m]\n\u001b[1;32m    174\u001b[0m \u001b[38;5;28;01mif\u001b[39;00m how \u001b[38;5;129;01mnot\u001b[39;00m \u001b[38;5;129;01min\u001b[39;00m allowed_hows:\n",
      "\u001b[0;31mValueError\u001b[0m: 'right_df' should be GeoDataFrame, got <class 'geopandas.geoseries.GeoSeries'>"
     ]
    }
   ],
   "source": [
    "# Get pixels in reach\n",
    "inside = gpd.sjoin(gdf_PIXC, one, how='inner',\n",
    "                   predicate='within').rename(columns={'index_right': 'segment'})"
   ]
  },
  {
   "cell_type": "code",
   "execution_count": 94,
   "id": "d0d31d4a-f5d0-49f4-a711-66d5fdb83722",
   "metadata": {},
   "outputs": [
    {
     "ename": "KeyboardInterrupt",
     "evalue": "",
     "output_type": "error",
     "traceback": [
      "\u001b[0;31m---------------------------------------------------------------------------\u001b[0m",
      "\u001b[0;31mKeyboardInterrupt\u001b[0m                         Traceback (most recent call last)",
      "Cell \u001b[0;32mIn[94], line 14\u001b[0m\n\u001b[1;32m     11\u001b[0m one\u001b[38;5;241m.\u001b[39mbuffer(distance\u001b[38;5;241m=\u001b[39m(basin_crop\u001b[38;5;241m.\u001b[39mloc[\u001b[38;5;241m192170\u001b[39m]\u001b[38;5;241m.\u001b[39mWidthM\u001b[38;5;241m/\u001b[39m\u001b[38;5;241m2\u001b[39m),\n\u001b[1;32m     12\u001b[0m            cap_style\u001b[38;5;241m=\u001b[39m\u001b[38;5;124m'\u001b[39m\u001b[38;5;124mflat\u001b[39m\u001b[38;5;124m'\u001b[39m)\u001b[38;5;241m.\u001b[39mplot(\u001b[38;5;124m'\u001b[39m\u001b[38;5;124mhsv\u001b[39m\u001b[38;5;124m'\u001b[39m, alpha\u001b[38;5;241m=\u001b[39m\u001b[38;5;241m0.2\u001b[39m, ax\u001b[38;5;241m=\u001b[39max)\n\u001b[1;32m     13\u001b[0m \u001b[38;5;66;03m# basin_crop.plot(color='w', alpha=0.2, ax=ax)\u001b[39;00m\n\u001b[0;32m---> 14\u001b[0m \u001b[43mgdf_PIXC\u001b[49m\u001b[38;5;241;43m.\u001b[39;49m\u001b[43mplot\u001b[49m\u001b[43m(\u001b[49m\u001b[43mcolumn\u001b[49m\u001b[38;5;241;43m=\u001b[39;49m\u001b[43mgdf_PIXC\u001b[49m\u001b[38;5;241;43m.\u001b[39;49m\u001b[43mklass\u001b[49m\u001b[43m,\u001b[49m\u001b[43m \u001b[49m\u001b[43mcategorical\u001b[49m\u001b[38;5;241;43m=\u001b[39;49m\u001b[38;5;28;43;01mTrue\u001b[39;49;00m\u001b[43m,\u001b[49m\u001b[43m \u001b[49m\n\u001b[1;32m     15\u001b[0m \u001b[43m            \u001b[49m\u001b[43mmarkersize\u001b[49m\u001b[38;5;241;43m=\u001b[39;49m\u001b[38;5;241;43m10\u001b[39;49m\u001b[43m,\u001b[49m\u001b[43m \u001b[49m\u001b[43mcmap\u001b[49m\u001b[38;5;241;43m=\u001b[39;49m\u001b[43mcmap\u001b[49m\u001b[43m,\u001b[49m\u001b[43m \u001b[49m\u001b[43mlegend\u001b[49m\u001b[38;5;241;43m=\u001b[39;49m\u001b[38;5;28;43;01mTrue\u001b[39;49;00m\u001b[43m,\u001b[49m\n\u001b[1;32m     16\u001b[0m \u001b[43m            \u001b[49m\u001b[43mlegend_kwds\u001b[49m\u001b[38;5;241;43m=\u001b[39;49m\u001b[43m{\u001b[49m\u001b[38;5;124;43m'\u001b[39;49m\u001b[38;5;124;43mlabels\u001b[39;49m\u001b[38;5;124;43m'\u001b[39;49m\u001b[43m:\u001b[49m\u001b[43m \u001b[49m\u001b[43mlabels\u001b[49m\u001b[43m,\u001b[49m\n\u001b[1;32m     17\u001b[0m \u001b[43m                         \u001b[49m\u001b[38;5;124;43m'\u001b[39;49m\u001b[38;5;124;43mframealpha\u001b[39;49m\u001b[38;5;124;43m'\u001b[39;49m\u001b[43m:\u001b[49m\u001b[43m \u001b[49m\u001b[38;5;241;43m1\u001b[39;49m\u001b[43m,\u001b[49m\u001b[43m \u001b[49m\n\u001b[1;32m     18\u001b[0m \u001b[43m                         \u001b[49m\u001b[38;5;124;43m'\u001b[39;49m\u001b[38;5;124;43mtitle_fontsize\u001b[39;49m\u001b[38;5;124;43m'\u001b[39;49m\u001b[43m:\u001b[49m\u001b[43m \u001b[49m\u001b[38;5;124;43m'\u001b[39;49m\u001b[38;5;124;43mmedium\u001b[39;49m\u001b[38;5;124;43m'\u001b[39;49m\u001b[43m,\u001b[49m\n\u001b[1;32m     19\u001b[0m \u001b[43m                         \u001b[49m\u001b[38;5;124;43m'\u001b[39;49m\u001b[38;5;124;43mloc\u001b[39;49m\u001b[38;5;124;43m'\u001b[39;49m\u001b[43m:\u001b[49m\u001b[43m \u001b[49m\u001b[38;5;124;43m'\u001b[39;49m\u001b[38;5;124;43mupper left\u001b[39;49m\u001b[38;5;124;43m'\u001b[39;49m\u001b[43m}\u001b[49m\u001b[43m,\u001b[49m\n\u001b[1;32m     20\u001b[0m \u001b[43m            \u001b[49m\u001b[43max\u001b[49m\u001b[38;5;241;43m=\u001b[39;49m\u001b[43max\u001b[49m\u001b[43m)\u001b[49m\n\u001b[1;32m     21\u001b[0m \u001b[38;5;66;03m# bounds.plot(color='r', marker=\"s\", markersize=50, ax=ax)\u001b[39;00m\n\u001b[1;32m     22\u001b[0m \n\u001b[1;32m     23\u001b[0m \u001b[38;5;66;03m# Basemap\u001b[39;00m\n\u001b[1;32m     24\u001b[0m cx\u001b[38;5;241m.\u001b[39madd_basemap(ax, crs\u001b[38;5;241m=\u001b[39mgdf_PIXC\u001b[38;5;241m.\u001b[39mcrs, source\u001b[38;5;241m=\u001b[39mcx\u001b[38;5;241m.\u001b[39mproviders\u001b[38;5;241m.\u001b[39mCartoDB\u001b[38;5;241m.\u001b[39mDarkMatter, alpha\u001b[38;5;241m=\u001b[39m\u001b[38;5;241m0.9\u001b[39m)\n",
      "File \u001b[0;32m/work/pi_cjgleason_umass_edu/.conda/envs/narrowPIXC/lib/python3.12/site-packages/geopandas/plotting.py:968\u001b[0m, in \u001b[0;36mGeoplotAccessor.__call__\u001b[0;34m(self, *args, **kwargs)\u001b[0m\n\u001b[1;32m    966\u001b[0m kind \u001b[38;5;241m=\u001b[39m kwargs\u001b[38;5;241m.\u001b[39mpop(\u001b[38;5;124m\"\u001b[39m\u001b[38;5;124mkind\u001b[39m\u001b[38;5;124m\"\u001b[39m, \u001b[38;5;124m\"\u001b[39m\u001b[38;5;124mgeo\u001b[39m\u001b[38;5;124m\"\u001b[39m)\n\u001b[1;32m    967\u001b[0m \u001b[38;5;28;01mif\u001b[39;00m kind \u001b[38;5;241m==\u001b[39m \u001b[38;5;124m\"\u001b[39m\u001b[38;5;124mgeo\u001b[39m\u001b[38;5;124m\"\u001b[39m:\n\u001b[0;32m--> 968\u001b[0m     \u001b[38;5;28;01mreturn\u001b[39;00m \u001b[43mplot_dataframe\u001b[49m\u001b[43m(\u001b[49m\u001b[43mdata\u001b[49m\u001b[43m,\u001b[49m\u001b[43m \u001b[49m\u001b[38;5;241;43m*\u001b[39;49m\u001b[43margs\u001b[49m\u001b[43m,\u001b[49m\u001b[43m \u001b[49m\u001b[38;5;241;43m*\u001b[39;49m\u001b[38;5;241;43m*\u001b[39;49m\u001b[43mkwargs\u001b[49m\u001b[43m)\u001b[49m\n\u001b[1;32m    969\u001b[0m \u001b[38;5;28;01mif\u001b[39;00m kind \u001b[38;5;129;01min\u001b[39;00m \u001b[38;5;28mself\u001b[39m\u001b[38;5;241m.\u001b[39m_pandas_kinds:\n\u001b[1;32m    970\u001b[0m     \u001b[38;5;66;03m# Access pandas plots\u001b[39;00m\n\u001b[1;32m    971\u001b[0m     \u001b[38;5;28;01mreturn\u001b[39;00m PlotAccessor(data)(kind\u001b[38;5;241m=\u001b[39mkind, \u001b[38;5;241m*\u001b[39m\u001b[38;5;241m*\u001b[39mkwargs)\n",
      "File \u001b[0;32m/work/pi_cjgleason_umass_edu/.conda/envs/narrowPIXC/lib/python3.12/site-packages/geopandas/plotting.py:870\u001b[0m, in \u001b[0;36mplot_dataframe\u001b[0;34m(df, column, cmap, color, ax, cax, categorical, legend, scheme, k, vmin, vmax, markersize, figsize, legend_kwds, categories, classification_kwds, missing_kwds, aspect, autolim, **style_kwds)\u001b[0m\n\u001b[1;32m    868\u001b[0m         markersize \u001b[38;5;241m=\u001b[39m np\u001b[38;5;241m.\u001b[39mtake(markersize, multiindex, axis\u001b[38;5;241m=\u001b[39m\u001b[38;5;241m0\u001b[39m)\n\u001b[1;32m    869\u001b[0m         markersize \u001b[38;5;241m=\u001b[39m markersize[point_idx \u001b[38;5;241m&\u001b[39m np\u001b[38;5;241m.\u001b[39minvert(nan_idx)]\n\u001b[0;32m--> 870\u001b[0m     \u001b[43m_plot_point_collection\u001b[49m\u001b[43m(\u001b[49m\n\u001b[1;32m    871\u001b[0m \u001b[43m        \u001b[49m\u001b[43max\u001b[49m\u001b[43m,\u001b[49m\n\u001b[1;32m    872\u001b[0m \u001b[43m        \u001b[49m\u001b[43mpoints\u001b[49m\u001b[43m,\u001b[49m\n\u001b[1;32m    873\u001b[0m \u001b[43m        \u001b[49m\u001b[43msubset\u001b[49m\u001b[43m,\u001b[49m\n\u001b[1;32m    874\u001b[0m \u001b[43m        \u001b[49m\u001b[43mvmin\u001b[49m\u001b[38;5;241;43m=\u001b[39;49m\u001b[43mmn\u001b[49m\u001b[43m,\u001b[49m\n\u001b[1;32m    875\u001b[0m \u001b[43m        \u001b[49m\u001b[43mvmax\u001b[49m\u001b[38;5;241;43m=\u001b[39;49m\u001b[43mmx\u001b[49m\u001b[43m,\u001b[49m\n\u001b[1;32m    876\u001b[0m \u001b[43m        \u001b[49m\u001b[43mmarkersize\u001b[49m\u001b[38;5;241;43m=\u001b[39;49m\u001b[43mmarkersize\u001b[49m\u001b[43m,\u001b[49m\n\u001b[1;32m    877\u001b[0m \u001b[43m        \u001b[49m\u001b[43mcmap\u001b[49m\u001b[38;5;241;43m=\u001b[39;49m\u001b[43mcmap\u001b[49m\u001b[43m,\u001b[49m\n\u001b[1;32m    878\u001b[0m \u001b[43m        \u001b[49m\u001b[38;5;241;43m*\u001b[39;49m\u001b[38;5;241;43m*\u001b[39;49m\u001b[43mstyle_kwds\u001b[49m\u001b[43m,\u001b[49m\n\u001b[1;32m    879\u001b[0m \u001b[43m    \u001b[49m\u001b[43m)\u001b[49m\n\u001b[1;32m    881\u001b[0m missing_data \u001b[38;5;241m=\u001b[39m \u001b[38;5;129;01mnot\u001b[39;00m expl_series[nan_idx]\u001b[38;5;241m.\u001b[39mempty\n\u001b[1;32m    882\u001b[0m \u001b[38;5;28;01mif\u001b[39;00m missing_kwds \u001b[38;5;129;01mis\u001b[39;00m \u001b[38;5;129;01mnot\u001b[39;00m \u001b[38;5;28;01mNone\u001b[39;00m \u001b[38;5;129;01mand\u001b[39;00m missing_data:\n",
      "File \u001b[0;32m/work/pi_cjgleason_umass_edu/.conda/envs/narrowPIXC/lib/python3.12/site-packages/geopandas/plotting.py:289\u001b[0m, in \u001b[0;36m_plot_point_collection\u001b[0;34m(ax, geoms, values, color, cmap, vmin, vmax, marker, markersize, **kwargs)\u001b[0m\n\u001b[1;32m    286\u001b[0m geoms, multiindex \u001b[38;5;241m=\u001b[39m _sanitize_geoms(geoms)\n\u001b[1;32m    287\u001b[0m \u001b[38;5;66;03m# values are expanded below as kwargs[\"c\"]\u001b[39;00m\n\u001b[0;32m--> 289\u001b[0m x \u001b[38;5;241m=\u001b[39m [\u001b[43mp\u001b[49m\u001b[38;5;241;43m.\u001b[39;49m\u001b[43mx\u001b[49m \u001b[38;5;28;01mif\u001b[39;00m \u001b[38;5;129;01mnot\u001b[39;00m p\u001b[38;5;241m.\u001b[39mis_empty \u001b[38;5;28;01melse\u001b[39;00m \u001b[38;5;28;01mNone\u001b[39;00m \u001b[38;5;28;01mfor\u001b[39;00m p \u001b[38;5;129;01min\u001b[39;00m geoms]\n\u001b[1;32m    290\u001b[0m y \u001b[38;5;241m=\u001b[39m [p\u001b[38;5;241m.\u001b[39my \u001b[38;5;28;01mif\u001b[39;00m \u001b[38;5;129;01mnot\u001b[39;00m p\u001b[38;5;241m.\u001b[39mis_empty \u001b[38;5;28;01melse\u001b[39;00m \u001b[38;5;28;01mNone\u001b[39;00m \u001b[38;5;28;01mfor\u001b[39;00m p \u001b[38;5;129;01min\u001b[39;00m geoms]\n\u001b[1;32m    292\u001b[0m \u001b[38;5;66;03m# matplotlib 1.4 does not support c=None, and < 2.0 does not support s=None\u001b[39;00m\n",
      "File \u001b[0;32m/work/pi_cjgleason_umass_edu/.conda/envs/narrowPIXC/lib/python3.12/site-packages/shapely/geometry/point.py:88\u001b[0m, in \u001b[0;36mPoint.x\u001b[0;34m(self)\u001b[0m\n\u001b[1;32m     85\u001b[0m \u001b[38;5;129m@property\u001b[39m\n\u001b[1;32m     86\u001b[0m \u001b[38;5;28;01mdef\u001b[39;00m \u001b[38;5;21mx\u001b[39m(\u001b[38;5;28mself\u001b[39m):\n\u001b[1;32m     87\u001b[0m \u001b[38;5;250m    \u001b[39m\u001b[38;5;124;03m\"\"\"Return x coordinate.\"\"\"\u001b[39;00m\n\u001b[0;32m---> 88\u001b[0m     \u001b[38;5;28;01mreturn\u001b[39;00m \u001b[38;5;28mfloat\u001b[39m(\u001b[43mshapely\u001b[49m\u001b[38;5;241;43m.\u001b[39;49m\u001b[43mget_x\u001b[49m\u001b[43m(\u001b[49m\u001b[38;5;28;43mself\u001b[39;49m\u001b[43m)\u001b[49m)\n",
      "File \u001b[0;32m/work/pi_cjgleason_umass_edu/.conda/envs/narrowPIXC/lib/python3.12/site-packages/shapely/decorators.py:77\u001b[0m, in \u001b[0;36mmultithreading_enabled.<locals>.wrapped\u001b[0;34m(*args, **kwargs)\u001b[0m\n\u001b[1;32m     75\u001b[0m     \u001b[38;5;28;01mfor\u001b[39;00m arr \u001b[38;5;129;01min\u001b[39;00m array_args:\n\u001b[1;32m     76\u001b[0m         arr\u001b[38;5;241m.\u001b[39mflags\u001b[38;5;241m.\u001b[39mwriteable \u001b[38;5;241m=\u001b[39m \u001b[38;5;28;01mFalse\u001b[39;00m\n\u001b[0;32m---> 77\u001b[0m     \u001b[38;5;28;01mreturn\u001b[39;00m \u001b[43mfunc\u001b[49m\u001b[43m(\u001b[49m\u001b[38;5;241;43m*\u001b[39;49m\u001b[43margs\u001b[49m\u001b[43m,\u001b[49m\u001b[43m \u001b[49m\u001b[38;5;241;43m*\u001b[39;49m\u001b[38;5;241;43m*\u001b[39;49m\u001b[43mkwargs\u001b[49m\u001b[43m)\u001b[49m\n\u001b[1;32m     78\u001b[0m \u001b[38;5;28;01mfinally\u001b[39;00m:\n\u001b[1;32m     79\u001b[0m     \u001b[38;5;28;01mfor\u001b[39;00m arr, old_flag \u001b[38;5;129;01min\u001b[39;00m \u001b[38;5;28mzip\u001b[39m(array_args, old_flags):\n",
      "File \u001b[0;32m/work/pi_cjgleason_umass_edu/.conda/envs/narrowPIXC/lib/python3.12/site-packages/shapely/_geometry.py:264\u001b[0m, in \u001b[0;36mget_x\u001b[0;34m(point, **kwargs)\u001b[0m\n\u001b[1;32m    241\u001b[0m \u001b[38;5;129m@multithreading_enabled\u001b[39m\n\u001b[1;32m    242\u001b[0m \u001b[38;5;28;01mdef\u001b[39;00m \u001b[38;5;21mget_x\u001b[39m(point, \u001b[38;5;241m*\u001b[39m\u001b[38;5;241m*\u001b[39mkwargs):\n\u001b[1;32m    243\u001b[0m \u001b[38;5;250m    \u001b[39m\u001b[38;5;124;03m\"\"\"Returns the x-coordinate of a point\u001b[39;00m\n\u001b[1;32m    244\u001b[0m \n\u001b[1;32m    245\u001b[0m \u001b[38;5;124;03m    Parameters\u001b[39;00m\n\u001b[0;32m   (...)\u001b[0m\n\u001b[1;32m    262\u001b[0m \u001b[38;5;124;03m    nan\u001b[39;00m\n\u001b[1;32m    263\u001b[0m \u001b[38;5;124;03m    \"\"\"\u001b[39;00m\n\u001b[0;32m--> 264\u001b[0m     \u001b[38;5;28;01mreturn\u001b[39;00m \u001b[43mlib\u001b[49m\u001b[38;5;241;43m.\u001b[39;49m\u001b[43mget_x\u001b[49m\u001b[43m(\u001b[49m\u001b[43mpoint\u001b[49m\u001b[43m,\u001b[49m\u001b[43m \u001b[49m\u001b[38;5;241;43m*\u001b[39;49m\u001b[38;5;241;43m*\u001b[39;49m\u001b[43mkwargs\u001b[49m\u001b[43m)\u001b[49m\n",
      "\u001b[0;31mKeyboardInterrupt\u001b[0m: "
     ]
    },
    {
     "data": {
      "image/png": "[encoded data removed]",
      "text/plain": [
       "<Figure size 1500x1500 with 1 Axes>"
      ]
     },
     "metadata": {},
     "output_type": "display_data"
    }
   ],
   "source": [
    "\n",
    "\n",
    "\n",
    "# Plot the full set of reaches\n",
    "# Get labels for plot\n",
    "nums = list(np.unique(gdf_PIXC.klass).astype('int'))\n",
    "labels = [codes[x] for x in nums]\n",
    "\n",
    "# Make cmap\n",
    "cmap = colors.ListedColormap([palette[x] for x in nums])\n",
    "\n",
    "# Plot\n",
    "fig, ax = plt.subplots(figsize=(15,15))\n",
    "one.buffer(distance=(basin_crop.loc[192170].WidthM/2),\n",
    "           cap_style='flat').plot('hsv', alpha=0.2, ax=ax)\n",
    "# basin_crop.plot(color='w', alpha=0.2, ax=ax)\n",
    "gdf_PIXC[gdf].plot(column=gdf_PIXC.klass, categorical=True, \n",
    "            markersize=10, cmap=cmap, legend=True,\n",
    "            legend_kwds={'labels': labels,\n",
    "                         'framealpha': 1, \n",
    "                         'title_fontsize': 'medium',\n",
    "                         'loc': 'upper left'},\n",
    "            ax=ax)\n",
    "# bounds.plot(color='r', marker=\"s\", markersize=50, ax=ax)\n",
    "\n",
    "# Basemap\n",
    "cx.add_basemap(ax, crs=gdf_PIXC.crs, source=cx.providers.CartoDB.DarkMatter, alpha=0.9)\n",
    "\n",
    "# \n",
    "leg = ax.get_legend()\n",
    "leg.set_title(\"Class\")          \n",
    "# ax.title.set_text('PIXC granule ' + tile_name + ' intersected with ' + huc4)\n",
    "# plt.savefig(fname = outpath + huc4 + '_' + tile_name +  '_masked.png', bbox_inches='tight')"
   ]
  }
 ],
 "metadata": {
  "kernelspec": {
   "display_name": "Python [conda env:.conda-narrowPIXC]",
   "language": "python",
   "name": "conda-env-.conda-narrowPIXC-py"
  },
  "language_info": {
   "codemirror_mode": {
    "name": "ipython",
    "version": 3
   },
   "file_extension": ".py",
   "mimetype": "text/x-python",
   "name": "python",
   "nbconvert_exporter": "python",
   "pygments_lexer": "ipython3",
   "version": "3.12.4"
  }
 },
 "nbformat": 4,
 "nbformat_minor": 5
}
