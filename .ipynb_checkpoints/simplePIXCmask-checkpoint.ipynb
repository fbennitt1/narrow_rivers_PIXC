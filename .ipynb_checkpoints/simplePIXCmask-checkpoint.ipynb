{
 "cells": [
  {
   "cell_type": "code",
   "execution_count": 6,
   "id": "21cff0f5-7bf2-402d-98f4-bcaa26a49039",
   "metadata": {},
   "outputs": [],
   "source": [
    "# Fiona Bennitt\n",
    "# 08/07/2024\n",
    "# Based on the cookbook here:\n",
    "# https://podaac.github.io/tutorials/notebooks/datasets/SWOT_PIXC_Area_localmachine.html"
   ]
  },
  {
   "cell_type": "code",
   "execution_count": 7,
   "id": "276cd8d3-b0c5-4714-b2ab-a6801230ffc2",
   "metadata": {},
   "outputs": [],
   "source": [
    "import dask # get error with xr.open without\n",
    "import earthaccess\n",
    "import geopandas as gpd\n",
    "import h5netcdf\n",
    "import numpy as np\n",
    "import pandas as pd\n",
    "import xarray as xr"
   ]
  },
  {
   "cell_type": "code",
   "execution_count": 8,
   "id": "75694814-81f0-4256-a017-39f9655cfac5",
   "metadata": {},
   "outputs": [],
   "source": [
    "# Suppress scientific notation\n",
    "np.set_printoptions(suppress=True)"
   ]
  },
  {
   "cell_type": "markdown",
   "id": "108f6118-364b-45e4-ab2b-c51dae5e7146",
   "metadata": {},
   "source": [
    "#### Get Pixel Cloud"
   ]
  },
  {
   "cell_type": "code",
   "execution_count": 9,
   "id": "dde3f844-8120-4353-a211-26240601b9ac",
   "metadata": {},
   "outputs": [],
   "source": [
    "filepath = '../data/small_rivers/mar_2024_ver_c/SWOT_L2_HR_PIXC_011_345_239R_20240227T044209_20240227T044220_PIC0_01.nc'"
   ]
  },
  {
   "cell_type": "code",
   "execution_count": 10,
   "id": "f2fac0dd-04f2-4337-a8ab-c00f70ab8d15",
   "metadata": {},
   "outputs": [],
   "source": [
    "ds_PIXC = xr.open_mfdataset(filepath, group = 'pixel_cloud', engine='h5netcdf')"
   ]
  },
  {
   "cell_type": "markdown",
   "id": "fff412b0-f8f1-453b-b6bd-5f3f6646b387",
   "metadata": {},
   "source": [
    "#### Look at distribution of geolocation_qual"
   ]
  },
  {
   "cell_type": "code",
   "execution_count": 22,
   "id": "022cfe89-4d47-4224-a28c-dcd9855af347",
   "metadata": {},
   "outputs": [],
   "source": [
    "# Excluding layover_impact as it is is only useful for aggregated heights\n",
    "variables = [\n",
    "             # 'azimuth_index', 'range_index', 'water_frac', 'water_frac_uncert',\n",
    "             # 'classification', 'false_detection_rate', 'missed_detection_rate',\n",
    "             # 'prior_water_prob', 'bright_land_flag', 'height', 'geoid',\n",
    "             # 'ancillary_surface_classification_flag', 'interferogram_qual',\n",
    "             # 'classification_qual', \n",
    "             'geolocation_qual'\n",
    "             # , 'sig0_qual'\n",
    "            ]"
   ]
  },
  {
   "cell_type": "code",
   "execution_count": 23,
   "id": "0bd7a288-c16e-4272-8da3-6254e5cac558",
   "metadata": {},
   "outputs": [],
   "source": [
    "# Make dict of desired variables\n",
    "d = {}\n",
    "for var in variables:\n",
    "    d[var] = ds_PIXC[var]"
   ]
  },
  {
   "cell_type": "code",
   "execution_count": 24,
   "id": "ed258516-4a67-47a9-8400-429de12cb914",
   "metadata": {},
   "outputs": [],
   "source": [
    "# Make DataFram\n",
    "df = pd.DataFrame(data=d, index=range(ds_PIXC.sizes['points']))"
   ]
  },
  {
   "cell_type": "code",
   "execution_count": 25,
   "id": "c0ab43d9-e0ab-4797-a8e5-176ff49c4e1d",
   "metadata": {},
   "outputs": [
    {
     "data": {
      "text/plain": [
       "geolocation_qual\n",
       "64.0         688758\n",
       "65.0          24286\n",
       "66.0            135\n",
       "67.0             49\n",
       "68.0        3612433\n",
       "69.0         773722\n",
       "70.0           2001\n",
       "71.0            694\n",
       "4160.0          229\n",
       "4161.0           18\n",
       "4162.0            5\n",
       "4163.0            1\n",
       "4164.0        28971\n",
       "4165.0         6575\n",
       "4166.0           28\n",
       "4167.0            8\n",
       "524352.0     123872\n",
       "524353.0       2727\n",
       "524356.0     439747\n",
       "524357.0      33387\n",
       "524358.0        389\n",
       "524359.0         41\n",
       "528448.0         89\n",
       "528449.0          3\n",
       "528452.0       5001\n",
       "528453.0        319\n",
       "528454.0          1\n",
       "528455.0          1\n",
       "Name: count, dtype: int64"
      ]
     },
     "execution_count": 25,
     "metadata": {},
     "output_type": "execute_result"
    }
   ],
   "source": [
    "# Check out dstribution of flags present\n",
    "counts = df.geolocation_qual.value_counts().sort_index()\n",
    "counts"
   ]
  },
  {
   "cell_type": "markdown",
   "id": "d1f963fd-d01c-49fc-800a-af9a3719047d",
   "metadata": {},
   "source": [
    "#### Make masked GeoDataFrame"
   ]
  },
  {
   "cell_type": "code",
   "execution_count": 18,
   "id": "60f09a07-5056-47b0-b6c4-f35b2c5eb48f",
   "metadata": {},
   "outputs": [],
   "source": [
    "# See page 65 of PIXC PDD: https://podaac.jpl.nasa.gov/SWOT?tab=datasets-information&sections=about%2Bdata\n",
    "\n",
    "def bitwiseMask(ds):\n",
    "    # Fow now, just eliminating medium_phase_suspect (4096) and beyond\n",
    "    # Ideally would discard all pixels with xovercal_suspect, but many\n",
    "    # granules have 0 pixels that pass that filter\n",
    "    \n",
    "    # May want to set ds.classification > 2 if land_near_water not desired\n",
    "    mask = np.where(np.logical_and(ds.classification > 1,\n",
    "                                   ds.geolocation_qual < 2**12)\n",
    "                                   # could add additional flags here\n",
    "                                   )[0]\n",
    "    \n",
    "    print(mask.shape)\n",
    "    return mask"
   ]
  },
  {
   "cell_type": "code",
   "execution_count": 19,
   "id": "74a457ca-17c3-4e9a-a321-da69f763eec1",
   "metadata": {},
   "outputs": [],
   "source": [
    "def makeGDF(pixc):\n",
    "    # This function takes the pixel cloud, makes a GeoDataFrame\n",
    "    # with just the classification values, renames columns as\n",
    "    # needed, projects the CRS, and returns the GDF\n",
    "    \n",
    "    # Create GDF\n",
    "    gdf_PIXC = gpd.GeoDataFrame(ds_PIXC.classification[mask],\n",
    "                        geometry=gpd.points_from_xy(ds_PIXC.longitude[mask],\n",
    "                                                    ds_PIXC.latitude[mask]),\n",
    "                        crs=\"EPSG:4326\") # PIXC has no native CRS,\n",
    "                                         # setting same as River_SP\n",
    "\n",
    "    gdf_PIXC.rename(columns={gdf_PIXC.columns[0]: 'klass'}, inplace=True)\n",
    "    \n",
    "    # Convert the crs to WGS 84 / Pseudo-Mercator\n",
    "    gdf_PIXC = gdf_PIXC.to_crs(epsg=3857)\n",
    "    return gdf_PIXC"
   ]
  },
  {
   "cell_type": "code",
   "execution_count": 20,
   "id": "986ceb7e-db7d-4959-9890-9ab6ac13b7a3",
   "metadata": {},
   "outputs": [
    {
     "name": "stdout",
     "output_type": "stream",
     "text": [
      "(1628640,)\n"
     ]
    }
   ],
   "source": [
    "# Make mask\n",
    "mask = bitwiseMask(ds_PIXC)\n",
    "\n",
    "# Make masked PIXC GDF\n",
    "gdf_PIXC = makeGDF(pixc=ds_PIXC)"
   ]
  }
 ],
 "metadata": {
  "kernelspec": {
   "display_name": "Python [conda env:.conda-narrowPIXC]",
   "language": "python",
   "name": "conda-env-.conda-narrowPIXC-py"
  },
  "language_info": {
   "codemirror_mode": {
    "name": "ipython",
    "version": 3
   },
   "file_extension": ".py",
   "mimetype": "text/x-python",
   "name": "python",
   "nbconvert_exporter": "python",
   "pygments_lexer": "ipython3",
   "version": "3.12.4"
  }
 },
 "nbformat": 4,
 "nbformat_minor": 5
}
