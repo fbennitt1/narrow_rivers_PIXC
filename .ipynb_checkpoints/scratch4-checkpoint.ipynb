{
 "cells": [
  {
   "cell_type": "code",
   "execution_count": 61,
   "id": "eba86f4f-a99c-440e-92b4-38d1678ed2e9",
   "metadata": {},
   "outputs": [],
   "source": [
    "import geopandas as gpd\n",
    "import matplotlib.pyplot as plt\n",
    "import numpy as np\n",
    "import pandas as np\n",
    "import shapely\n",
    "\n",
    "from shapely.affinity import translate\n",
    "from shapely.geometry import LineString, Point, Polygon\n",
    "from shapely.ops import substring"
   ]
  },
  {
   "cell_type": "markdown",
   "id": "02a5354f-04ea-4e46-a2cb-68da97687a4e",
   "metadata": {},
   "source": [
    "**The first way I was thinking about this**"
   ]
  },
  {
   "cell_type": "code",
   "execution_count": 180,
   "id": "1b228ccb-0546-4e2d-a0dc-4f1462d4bbd7",
   "metadata": {
    "tags": []
   },
   "outputs": [],
   "source": [
    "width = 1\n",
    "height = 5"
   ]
  },
  {
   "cell_type": "code",
   "execution_count": 167,
   "id": "15827d70-c077-431a-a749-7fee0ca40cdb",
   "metadata": {},
   "outputs": [],
   "source": [
    "# Test nadir track\n",
    "nadir = LineString([[-1,-5], [4,10]])"
   ]
  },
  {
   "cell_type": "code",
   "execution_count": 168,
   "id": "486ba7fb-b043-4444-bdd3-4c1b57b2e328",
   "metadata": {},
   "outputs": [],
   "source": [
    "# Test pixel centroid\n",
    "pixel = Point([2,2])"
   ]
  },
  {
   "cell_type": "code",
   "execution_count": 169,
   "id": "bc2e9572-45e6-40d5-8d57-16831fa15219",
   "metadata": {},
   "outputs": [
    {
     "data": {
      "text/plain": [
       "(2.0, 2.0)"
      ]
     },
     "execution_count": 169,
     "metadata": {},
     "output_type": "execute_result"
    }
   ],
   "source": [
    "pixel.coords[0]"
   ]
  },
  {
   "cell_type": "code",
   "execution_count": 170,
   "id": "eeea6f77-d2ce-4ef6-8548-417e4340ea22",
   "metadata": {},
   "outputs": [],
   "source": [
    "# Get distance along nadir track closest to pixel centroid\n",
    "dist = nadir.project(pixel)"
   ]
  },
  {
   "cell_type": "code",
   "execution_count": 171,
   "id": "5c100f23-4c89-46d7-9737-9ef0c006fae6",
   "metadata": {},
   "outputs": [
    {
     "data": {
      "text/plain": [
       "np.float64(7.58946638440411)"
      ]
     },
     "execution_count": 171,
     "metadata": {},
     "output_type": "execute_result"
    }
   ],
   "source": [
    "dist"
   ]
  },
  {
   "cell_type": "code",
   "execution_count": 172,
   "id": "3a81639b-1dee-4e2a-a2a7-21e4d78d0115",
   "metadata": {},
   "outputs": [],
   "source": [
    "# Get coordinate of point along nadir closest to pixel centroid\n",
    "projection = substring(nadir, 0, dist).coords[1]"
   ]
  },
  {
   "cell_type": "code",
   "execution_count": 173,
   "id": "97ed554a-e606-41a5-8e1b-cb02ea0ef14a",
   "metadata": {},
   "outputs": [],
   "source": [
    "# Create linestring from pixel to closest point on nadir track\n",
    "orthogonal = LineString([pixel.coords[0], projection])"
   ]
  },
  {
   "cell_type": "code",
   "execution_count": 174,
   "id": "27aa1dce-a328-4a5e-b4d8-a9a264a0dfbc",
   "metadata": {},
   "outputs": [],
   "source": [
    "# Get left midpoint\n",
    "left_mid_coord = substring(orthogonal, 0, width/2).coords[1]\n",
    "left_mid_pt = Point(left_mid_coord)"
   ]
  },
  {
   "cell_type": "code",
   "execution_count": 175,
   "id": "249ace8b-1643-4b50-abbe-28d72904ba3a",
   "metadata": {},
   "outputs": [],
   "source": [
    "# Get distance for translation form nadir\n",
    "mid_dist = orthogonal.length - width/2"
   ]
  },
  {
   "cell_type": "code",
   "execution_count": 176,
   "id": "4e1646e5-d462-4661-a2af-f4b264ac662c",
   "metadata": {},
   "outputs": [],
   "source": [
    "left_edge = nadir.parallel_offset(distance=mid_dist, side='right')\n",
    "right_edge = nadir.parallel_offset(distance=mid_dist+width, side='right')"
   ]
  },
  {
   "cell_type": "code",
   "execution_count": 177,
   "id": "aae9ccf8-f9d3-44f4-a619-ea3decbae732",
   "metadata": {},
   "outputs": [],
   "source": [
    "# Get right midpoint\n",
    "right_dist = right_edge.project(pixel)\n",
    "right_mid_coord = substring(right_edge, 0, right_dist).coords[1]\n",
    "right_mid_pt = Point(right_mid_coord)"
   ]
  },
  {
   "cell_type": "code",
   "execution_count": 193,
   "id": "1a0ad30e-d31b-4605-8e1a-3acee42e43b2",
   "metadata": {},
   "outputs": [],
   "source": [
    "one_coord = substring(left_edge, dist, dist+height/2).coords[1]\n",
    "one_pt = Point(one_coord)\n",
    "\n",
    "two_coord = substring(right_edge, dist, dist+height/2).coords[1]\n",
    "two_pt = Point(two_coord)\n",
    "\n",
    "three_coord = substring(right_edge, dist-height/2, dist).coords[0]\n",
    "three_pt = Point(three_coord)\n",
    "\n",
    "four_coord = substring(left_edge, dist-height/2, dist).coords[0]\n",
    "four_pt = Point(four_coord)"
   ]
  },
  {
   "cell_type": "code",
   "execution_count": 203,
   "id": "3404bb05-9793-4f80-931b-da0c9c83b2d6",
   "metadata": {},
   "outputs": [],
   "source": [
    "pseudo_pixel = Polygon((one_coord, two_coord, three_coord, four_coord, one_coord))"
   ]
  },
  {
   "cell_type": "code",
   "execution_count": 205,
   "id": "d791c2ac-5043-473b-a508-aeb19ad47719",
   "metadata": {},
   "outputs": [
    {
     "data": {
      "image/svg+xml": [
       "<svg xmlns=\"http://www.w3.org/2000/svg\" xmlns:xlink=\"http://www.w3.org/1999/xlink\" width=\"100.0\" height=\"100.0\" viewBox=\"0.5327031656818717 -0.7322078983854794 2.934593668636256 5.46441579677096\" preserveAspectRatio=\"xMinYMin meet\"><g transform=\"matrix(1,0,0,-1,0,4.000000000000001)\"><path fill-rule=\"evenodd\" fill=\"#66cc99\" stroke=\"#555555\" stroke-width=\"0.1092883159354192\" opacity=\"0.6\" d=\"M 2.316227766016838,4.529822128134704 L 3.2649110640673515,4.213594362117866 L 1.6837722339831618,-0.5298221281347031 L 0.735088935932648,-0.2135943621178651 L 2.316227766016838,4.529822128134704 z\" /></g></svg>"
      ],
      "text/plain": [
       "<POLYGON ((2.316 4.53, 3.265 4.214, 1.684 -0.53, 0.735 -0.214, 2.316 4.53))>"
      ]
     },
     "execution_count": 205,
     "metadata": {},
     "output_type": "execute_result"
    }
   ],
   "source": [
    "pseudo_pixel"
   ]
  },
  {
   "cell_type": "code",
   "execution_count": 151,
   "id": "2e8b92a3-3e1c-4dff-ade1-ff5571fb92c9",
   "metadata": {},
   "outputs": [],
   "source": [
    "# left_edge = translate(geom=nadir, xoff=edge_dist, yoff=edge_dist)\n",
    "# right_edge = translate(geom=nadir, xoff=edge_dist+width, yoff=edge_dist+width)\n",
    "# left_gs = gpd.GeoSeries(left_edge)"
   ]
  },
  {
   "cell_type": "code",
   "execution_count": 199,
   "id": "3cf1d350-6d8b-4794-9885-6a57d90508c1",
   "metadata": {},
   "outputs": [
    {
     "data": {
      "text/plain": [
       "<Axes: >"
      ]
     },
     "execution_count": 199,
     "metadata": {},
     "output_type": "execute_result"
    },
    {
     "data": {
      "image/png": "[encoded data removed]",
      "text/plain": [
       "<Figure size 800x800 with 1 Axes>"
      ]
     },
     "metadata": {},
     "output_type": "display_data"
    }
   ],
   "source": [
    "fig, ax = plt.subplots(figsize=(8,8))\n",
    "gpd.GeoSeries(nadir).plot(ax=ax, color='k')\n",
    "gpd.GeoSeries(pixel).plot(ax=ax, color='k')\n",
    "\n",
    "gpd.GeoSeries(Point(projection)).plot(ax=ax, color='r')\n",
    "gpd.GeoSeries(orthogonal).plot(ax=ax, color='orange')\n",
    "gpd.GeoSeries(left_mid_pt).plot(ax=ax, color='hotpink')\n",
    "gpd.GeoSeries(right_mid_pt).plot(ax=ax, color='hotpink')\n",
    "\n",
    "gpd.GeoSeries(right_edge).plot(ax=ax, color='b')\n",
    "gpd.GeoSeries(left_edge).plot(ax=ax, color='y')\n",
    "\n",
    "gpd.GeoSeries(one_pt).plot(ax=ax, color='purple')\n",
    "gpd.GeoSeries(two_pt).plot(ax=ax, color='purple')\n",
    "gpd.GeoSeries(three_pt).plot(ax=ax, color='purple')\n",
    "gpd.GeoSeries(four_pt).plot(ax=ax, color='purple')\n",
    "\n",
    "gpd.GeoSeries(pseudo_pixel).plot(ax=ax, color='grey', alpha=0.5)"
   ]
  },
  {
   "cell_type": "markdown",
   "id": "14a7acd0-7ad7-4b1f-ba62-cf7d55d26659",
   "metadata": {},
   "source": [
    "**With actual SWOT data**"
   ]
  },
  {
   "cell_type": "code",
   "execution_count": 207,
   "id": "fb205f22-cb60-49f1-84cf-507d123987d7",
   "metadata": {},
   "outputs": [],
   "source": [
    "nadir = gpd.read_file('/nas/cee-water/cjgleason/data/SWOT/swath/swot_science_hr_Aug2021-v05_shapefile_nadir/swot_science_hr_2.0s_4.0s_Aug2021-v5_nadir.shp')"
   ]
  },
  {
   "cell_type": "code",
   "execution_count": 210,
   "id": "09187651-2855-42b1-961f-7c8a852dbef3",
   "metadata": {},
   "outputs": [
    {
     "data": {
      "text/plain": [
       "<Geographic 2D CRS: EPSG:4326>\n",
       "Name: WGS 84\n",
       "Axis Info [ellipsoidal]:\n",
       "- Lat[north]: Geodetic latitude (degree)\n",
       "- Lon[east]: Geodetic longitude (degree)\n",
       "Area of Use:\n",
       "- name: World.\n",
       "- bounds: (-180.0, -90.0, 180.0, 90.0)\n",
       "Datum: World Geodetic System 1984 ensemble\n",
       "- Ellipsoid: WGS 84\n",
       "- Prime Meridian: Greenwich"
      ]
     },
     "execution_count": 210,
     "metadata": {},
     "output_type": "execute_result"
    }
   ],
   "source": [
    "nadir.crs"
   ]
  },
  {
   "cell_type": "code",
   "execution_count": 209,
   "id": "9eca1cc3-3b89-4493-98ae-ea0397216511",
   "metadata": {},
   "outputs": [
    {
     "data": {
      "text/plain": [
       "<Axes: >"
      ]
     },
     "execution_count": 209,
     "metadata": {},
     "output_type": "execute_result"
    },
    {
     "data": {
      "image/png": "[encoded data removed]",
      "text/plain": [
       "<Figure size 640x480 with 1 Axes>"
      ]
     },
     "metadata": {},
     "output_type": "display_data"
    }
   ],
   "source": [
    "nadir[nadir['ID_PASS'] == 583].plot()"
   ]
  }
 ],
 "metadata": {
  "kernelspec": {
   "display_name": "Python [conda env:.conda-narrowPIXC]",
   "language": "python",
   "name": "conda-env-.conda-narrowPIXC-py"
  },
  "language_info": {
   "codemirror_mode": {
    "name": "ipython",
    "version": 3
   },
   "file_extension": ".py",
   "mimetype": "text/x-python",
   "name": "python",
   "nbconvert_exporter": "python",
   "pygments_lexer": "ipython3",
   "version": "3.12.4"
  }
 },
 "nbformat": 4,
 "nbformat_minor": 5
}
