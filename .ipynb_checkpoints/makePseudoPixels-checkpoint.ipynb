{
 "cells": [
  {
   "cell_type": "code",
   "execution_count": null,
   "id": "054ba1e0-d7ac-4524-a659-1e46d3219143",
   "metadata": {},
   "outputs": [],
   "source": [
    "import os\n",
    "\n",
    "import contextily as ctx\n",
    "import geopandas as gpd\n",
    "import matplotlib.pyplot as plt\n",
    "import numpy as np\n",
    "import pandas as pd\n",
    "import shapely\n",
    "import xarray as xr\n",
    "\n",
    "from matplotlib import colors\n",
    "from shapely.affinity import translate\n",
    "from shapely.geometry import LineString, Point, Polygon\n",
    "from shapely.ops import substring"
   ]
  },
  {
   "cell_type": "markdown",
   "id": "0f7af647-32fa-4d27-968a-cc1d28f7af13",
   "metadata": {
    "tags": []
   },
   "source": [
    "### Functions"
   ]
  },
  {
   "cell_type": "code",
   "execution_count": null,
   "id": "a501f911-7e53-4af3-9fc2-6d87a01fe115",
   "metadata": {},
   "outputs": [],
   "source": [
    "def bitwiseMask(ds):\n",
    "    # Fow now, eliminate the really bad stuff\n",
    "    mask = np.where((ds.classification > 2) & (ds.geolocation_qual < 2**16) &\n",
    "                    (np.abs(ds.cross_track) > 10000) & (np.abs(ds.cross_track) < 60000))[0]\n",
    "    \n",
    "    print(mask.shape)\n",
    "    return mask"
   ]
  },
  {
   "cell_type": "code",
   "execution_count": null,
   "id": "04e1c64d-3182-4ae4-98db-1216fa2aeaf2",
   "metadata": {},
   "outputs": [],
   "source": [
    "def makeGDF(ds, mask, data_vars):\n",
    "    '''\n",
    "    This function takes the pixel cloud xarray object, makes a masked\n",
    "    GeoDataFrame, renames columns as needed, set the CRS, reprojects\n",
    "    the CRS, and returns a GeoDataFrame.\n",
    "    '''\n",
    "    # Subset xarray, convert to masked DataFrame\n",
    "    xarr = ds[data_vars]\n",
    "    df = xarr.to_dataframe().loc[mask].reset_index()\n",
    "\n",
    "    # Create GDF\n",
    "    gdf_PIXC = gpd.GeoDataFrame(df,\n",
    "                                geometry=gpd.points_from_xy(df.longitude,\n",
    "                                                            df.latitude),\n",
    "                                crs=\"EPSG:4326\") # PIXC has no native CRS, setting same as River_SP\n",
    "\n",
    "    if 'classification' in gdf_PIXC.columns:\n",
    "        gdf_PIXC.rename(columns={'classification': 'klass'}, inplace=True)\n",
    "    \n",
    "    # Convert the crs to WGS 84 / UTM zone 18N\n",
    "    gdf_PIXC = gdf_PIXC.to_crs(epsg='32618')\n",
    "    \n",
    "    return gdf_PIXC"
   ]
  },
  {
   "cell_type": "code",
   "execution_count": null,
   "id": "24d3cee5-1e51-4b58-bb25-37cd262d88cb",
   "metadata": {},
   "outputs": [],
   "source": [
    "def makePseudoPixels(pixel, segment_ln, height):\n",
    "    \n",
    "    # Get pixel geometry\n",
    "    pixel_pt = pixel.geometry #[pixel.index[0]]\n",
    "    \n",
    "    # Calculate width\n",
    "    width = pixel.pixel_area/height #[pixel.index[0]]/height\n",
    "    \n",
    "#     # Get distance along nadir track closest to pixel\n",
    "#     dist = segment_ln.project(pixel_pt)\n",
    "    \n",
    "#     # Get coordinate of point along nadir closest to pixel\n",
    "#     projection = substring(segment_ln, dist, 0).coords[1]\n",
    "    \n",
    "#     # Create linestring from pixel to closest point on nadir track\n",
    "#     orthogonal = LineString([pixel_pt.coords[0], projection])\n",
    "    orthogonal = shapely.shortest_line(pixel_pt, segment_ln)\n",
    "    \n",
    "    # return orthogonal\n",
    "    \n",
    "    # Make line parallel to orthogonal at correct height\n",
    "    up = orthogonal.parallel_offset(distance=height/2, side='right')\n",
    "    down = orthogonal.parallel_offset(distance=height/2, side='left')\n",
    "    \n",
    "    # Get coords for inner edge\n",
    "    one_coord = substring(up, start_dist=0, end_dist=width/2).coords[1]\n",
    "    two_coord = substring(down, start_dist=0, end_dist=width/2).coords[1]\n",
    "    \n",
    "    # Get inner and outer edges of polygon\n",
    "    inner_edge = LineString([two_coord, one_coord])\n",
    "    outer_edge = inner_edge.parallel_offset(distance=width, side='right')\n",
    "    \n",
    "    # Get coords for outer edge\n",
    "    three_coord = outer_edge.coords[0]\n",
    "    four_coord = outer_edge.coords[1]\n",
    "    \n",
    "    # Make pseudo pixel\n",
    "    pseudo_pixel = Polygon((one_coord, two_coord, three_coord, four_coord, one_coord))\n",
    "    \n",
    "    return pseudo_pixel"
   ]
  },
  {
   "cell_type": "code",
   "execution_count": null,
   "id": "b598dcc8-46c3-42c5-93cf-1b99de12fbdd",
   "metadata": {},
   "outputs": [],
   "source": [
    "def readNHD(index):\n",
    "    ## Set-up\n",
    "    mdata_path = '/nas/cee-water/cjgleason/fiona/narrow_rivers_PIXC/data/'\n",
    "# NEED WITH WATERBODY FOR CUSHMAN!!!!\n",
    "    prep_path = '/nas/cee-water/cjgleason/fiona/narrow_rivers_PIXC_data/NHD_prepped_with_waterbody/' # _with_waterbody\n",
    "\n",
    "    # Define dtypes for lookup tables to preserve leading zeros\n",
    "    dtype_dic= {'HUC4': str, 'HUC2': str, 'toBasin': str, 'level': str}\n",
    "    # Read in HUC lookup table\n",
    "    lookup = pd.read_csv(os.path.join(mdata_path, 'HUC4_lookup_no_great_lakes.csv'), dtype=dtype_dic)\n",
    "\n",
    "    # Get current HUC2 and HUC4 IDs\n",
    "    hu2 = 'HUC2_' + lookup.loc[index,'HUC4'][0:2]\n",
    "    hu4 = 'NHDPLUS_H_' + lookup.loc[index,'HUC4'] + '_HU4_GDB'\n",
    "    \n",
    "    # Set data filepath\n",
    "    file_path = os.path.join(prep_path, hu2, hu4 + '_prepped_with_waterbody.gpkg') # _with_waterbody\n",
    "\n",
    "    ## Read in prepped NHD flowlines\n",
    "    features = ['NHDPlusID', 'GNIS_Name', 'LengthKM', 'WidthM', 'Bin', 'geometry']\n",
    "    basin = gpd.read_file(filename=file_path, columns=features, engine='pyogrio')\n",
    "    \n",
    "    # Convert CRS to WGS 84 / UTM zone 18N\n",
    "    basin = basin.to_crs(epsg='32618')\n",
    "    \n",
    "    # Drop reaches that are shorter than their width\n",
    "    basin = basin[basin['LengthKM']*1000 > basin['WidthM']]\n",
    "    \n",
    "    # Make geometry 2D LineStrings\n",
    "    basin['geometry'] = basin.geometry.explode().force_2d()\n",
    "    return basin"
   ]
  },
  {
   "cell_type": "markdown",
   "id": "0c54b76a-2171-4a4b-92f5-e4b3f4f3f8df",
   "metadata": {
    "tags": []
   },
   "source": [
    "### Pixel Cloud"
   ]
  },
  {
   "cell_type": "code",
   "execution_count": null,
   "id": "5cde4d2a-a7f1-4bbb-b6c9-f3f5744f5025",
   "metadata": {},
   "outputs": [],
   "source": [
    "test = '../data/small_rivers/mar_2024_ver_c/SWOT_L2_HR_PIXC_012_298_080L_20240317T084237_20240317T084248_PIC0_01.nc'"
   ]
  },
  {
   "cell_type": "code",
   "execution_count": null,
   "id": "aefb478b-ff8b-41b4-9576-0fdf0ba0a9c0",
   "metadata": {},
   "outputs": [],
   "source": [
    "# Read in xarray\n",
    "ds_PIXC = xr.open_mfdataset(paths=test, group = 'pixel_cloud', engine='h5netcdf')"
   ]
  },
  {
   "cell_type": "code",
   "execution_count": null,
   "id": "45b34b76-da7b-496b-b804-1e848d88bda2",
   "metadata": {},
   "outputs": [],
   "source": [
    "ds_PIXC"
   ]
  },
  {
   "cell_type": "code",
   "execution_count": null,
   "id": "58ba7bf0-45c5-4567-8670-6a883c767692",
   "metadata": {},
   "outputs": [],
   "source": [
    "# Read in xarray\n",
    "ds_GLOB = xr.open_mfdataset(paths=test, engine='h5netcdf')"
   ]
  },
  {
   "cell_type": "code",
   "execution_count": null,
   "id": "c63050e5-1cb7-4ef1-b58c-28f712936eb9",
   "metadata": {},
   "outputs": [],
   "source": [
    "# ds_GLOB"
   ]
  },
  {
   "cell_type": "code",
   "execution_count": null,
   "id": "058bcfde-b2c0-4b5e-a15d-ed63d20ecdb1",
   "metadata": {},
   "outputs": [],
   "source": [
    "pass_num = ds_GLOB.pass_number\n",
    "pass_num"
   ]
  },
  {
   "cell_type": "code",
   "execution_count": null,
   "id": "6c690a45-fe3d-4390-b62e-d7444564e276",
   "metadata": {},
   "outputs": [],
   "source": [
    "swath_side = ds_GLOB.swath_side\n",
    "swath_side"
   ]
  },
  {
   "cell_type": "code",
   "execution_count": null,
   "id": "e586d0ff-005c-4aa0-baca-fa250e34d4da",
   "metadata": {},
   "outputs": [],
   "source": [
    "# Make dict for legend labels\n",
    "flags = ds_PIXC.classification.flag_meanings.split() # extract each flag meaning\n",
    "codes = {idx:k for idx, k in enumerate(flags, start=1)}"
   ]
  },
  {
   "cell_type": "code",
   "execution_count": null,
   "id": "993471a7-b1b5-41bc-8401-1a03c47fe554",
   "metadata": {},
   "outputs": [],
   "source": [
    "# Make mask\n",
    "mask = bitwiseMask(ds_PIXC)"
   ]
  },
  {
   "cell_type": "code",
   "execution_count": null,
   "id": "daa9c587-4d39-40f3-9a7f-374fed33b165",
   "metadata": {},
   "outputs": [],
   "source": [
    "variables = ['azimuth_index', 'range_index', 'cross_track',\n",
    "             'pixel_area', 'classification']"
   ]
  },
  {
   "cell_type": "code",
   "execution_count": null,
   "id": "37bc9371-c418-4578-851d-950ee3261a55",
   "metadata": {},
   "outputs": [],
   "source": [
    "# If dataframe not empty after filtering\n",
    "if mask.shape != (0,):\n",
    "    # Make PIXC\n",
    "    gdf_PIXC = makeGDF(ds=ds_PIXC, mask=mask, data_vars=variables)\n",
    "    # # Append to list\n",
    "    # d.append(gdf_PIXC)"
   ]
  },
  {
   "cell_type": "code",
   "execution_count": null,
   "id": "43051fec-4d85-4c87-aa27-081cdc6c9fdf",
   "metadata": {},
   "outputs": [],
   "source": [
    "gdf_PIXC"
   ]
  },
  {
   "cell_type": "code",
   "execution_count": null,
   "id": "3296b62c-896b-49d9-a09f-9795daaedb2e",
   "metadata": {},
   "outputs": [],
   "source": [
    "# Get single pixel for selecting correct nadir segment\n",
    "pixel = gdf_PIXC.sample(n=1, random_state=0)"
   ]
  },
  {
   "cell_type": "code",
   "execution_count": null,
   "id": "12d4a7bc-45cb-4599-8faf-79a5557d988f",
   "metadata": {},
   "outputs": [],
   "source": [
    "# Get geometry of signle pixel\n",
    "pixel_pt = pixel.geometry[pixel.index[0]]"
   ]
  },
  {
   "cell_type": "markdown",
   "id": "97e0a9cb-0326-4126-8c16-a863f5891f6d",
   "metadata": {
    "jp-MarkdownHeadingCollapsed": true,
    "tags": []
   },
   "source": [
    "### Nadir track"
   ]
  },
  {
   "cell_type": "code",
   "execution_count": null,
   "id": "07a36cda-f6a3-4fa8-8d9d-92230742ad20",
   "metadata": {},
   "outputs": [],
   "source": [
    "# Read in nadir (science orbit)\n",
    "nadir = gpd.read_file('/nas/cee-water/cjgleason/data/SWOT/swath/swot_science_hr_Aug2021-v05_shapefile_nadir/swot_science_hr_2.0s_4.0s_Aug2021-v5_nadir.shp')"
   ]
  },
  {
   "cell_type": "code",
   "execution_count": null,
   "id": "163fe415-259e-4c9a-9454-526b737208a6",
   "metadata": {},
   "outputs": [],
   "source": [
    "# Convert CRS to WGS 84 / UTM zone 18N\n",
    "nadir = nadir.to_crs(epsg=32618)"
   ]
  },
  {
   "cell_type": "code",
   "execution_count": null,
   "id": "16ed2efd-7ef6-432d-bbcb-f93e6dd58a0f",
   "metadata": {},
   "outputs": [],
   "source": [
    "# Find candidate nadir segments\n",
    "candidates = nadir[nadir['ID_PASS'] == pass_num]"
   ]
  },
  {
   "cell_type": "code",
   "execution_count": null,
   "id": "2a807519-a879-4a08-8aef-28950a8f7f90",
   "metadata": {},
   "outputs": [],
   "source": [
    "# Find distance from each candidate to single pixel\n",
    "candidates['dist'] = candidates.loc[:,'geometry'].distance(pixel_pt)"
   ]
  },
  {
   "cell_type": "code",
   "execution_count": null,
   "id": "f7c7f3bb-db90-4ef9-8443-cc419b27c715",
   "metadata": {},
   "outputs": [],
   "source": [
    "# Get nadir segment closest to single pixel\n",
    "nadir_segment = candidates[candidates.dist == candidates.dist.min()]"
   ]
  },
  {
   "cell_type": "code",
   "execution_count": null,
   "id": "2ce9a642-9447-48bc-ad4d-a72066dfe822",
   "metadata": {},
   "outputs": [],
   "source": [
    "# Get nadir segment geoemtry\n",
    "nadir_segment_ln = nadir_segment.geometry[nadir_segment.index[0]]"
   ]
  },
  {
   "cell_type": "markdown",
   "id": "6af80e8a-07ba-4f91-8636-b12874ac4bd1",
   "metadata": {},
   "source": [
    "### Make pseudo pixels"
   ]
  },
  {
   "cell_type": "code",
   "execution_count": null,
   "id": "551e670e-f660-4137-b0ad-555e44b9a7a1",
   "metadata": {},
   "outputs": [],
   "source": [
    "# Set pixel height\n",
    "height = 22"
   ]
  },
  {
   "cell_type": "code",
   "execution_count": null,
   "id": "53822ad8-af7e-45b4-a26e-2966d4e49ea7",
   "metadata": {},
   "outputs": [],
   "source": [
    "t = gdf_PIXC.loc[0]"
   ]
  },
  {
   "cell_type": "code",
   "execution_count": null,
   "id": "f27799df-9249-4362-b140-3b1294d52692",
   "metadata": {},
   "outputs": [],
   "source": [
    "t.pixel_area"
   ]
  },
  {
   "cell_type": "code",
   "execution_count": null,
   "id": "e2e7b1b1-1d4d-41cb-be94-fe37a63662b2",
   "metadata": {},
   "outputs": [],
   "source": [
    "test = gdf_PIXC.loc[100]"
   ]
  },
  {
   "cell_type": "code",
   "execution_count": null,
   "id": "b56eb992-2943-4e49-90b6-3da9f9acf5bd",
   "metadata": {},
   "outputs": [],
   "source": [
    "test"
   ]
  },
  {
   "cell_type": "code",
   "execution_count": null,
   "id": "c0d01076-5a0d-4097-b607-c2c836900e9e",
   "metadata": {},
   "outputs": [],
   "source": [
    "ortho = makePseudoPixels(test, nadir_segment_ln, height)"
   ]
  },
  {
   "cell_type": "code",
   "execution_count": null,
   "id": "cf7bcf71-14c1-4576-87da-83964c1c2e84",
   "metadata": {},
   "outputs": [],
   "source": [
    "ortho"
   ]
  },
  {
   "cell_type": "code",
   "execution_count": null,
   "id": "d550de26-95a8-4ec3-abe6-3eac2fb7bcae",
   "metadata": {},
   "outputs": [],
   "source": [
    "fig, ax = plt.subplots(figsize=(8,8))\n",
    "gpd.GeoSeries(nadir_segment_ln).plot(ax=ax)\n",
    "gpd.GeoSeries(test.geometry).plot(ax=ax, color='k')\n",
    "# gpd.GeoSeries(test.geometry).plot(ax=ax)\n",
    "# gpd.GeoSeries(test_poly).plot(ax=ax, alpha=0.5)\n",
    "gpd.GeoSeries(ortho).plot(ax=ax, alpha=0.5)"
   ]
  },
  {
   "cell_type": "code",
   "execution_count": null,
   "id": "63c3ff36-bd49-4a69-972d-64841037a7f6",
   "metadata": {},
   "outputs": [],
   "source": [
    "subset = gdf_PIXC.iloc[0:50000,:]"
   ]
  },
  {
   "cell_type": "code",
   "execution_count": null,
   "id": "2ab971a3-621e-4110-92dd-04fc0504634a",
   "metadata": {},
   "outputs": [],
   "source": [
    "subset"
   ]
  },
  {
   "cell_type": "code",
   "execution_count": null,
   "id": "a87ea40c-ae5c-4d5c-89a5-972fa372d805",
   "metadata": {},
   "outputs": [],
   "source": [
    "# Make pseudo pixels\n",
    "subset['pseudo_pixel'] = subset.apply(func=makePseudoPixels,\n",
    "                                          args=(nadir_segment_ln,\n",
    "                                                height), axis=1)\n",
    "# test = gdf_PIXC.loc[0].apply(func=makePseudoPixels,\n",
    "#                                           args=(nadir_segment_ln,\n",
    "#                                                 height))"
   ]
  },
  {
   "cell_type": "code",
   "execution_count": null,
   "id": "767e47ec-d853-45d4-8645-45c482f150dd",
   "metadata": {},
   "outputs": [],
   "source": [
    "subset"
   ]
  },
  {
   "cell_type": "code",
   "execution_count": null,
   "id": "8ac259ec-e4f9-4e3f-8e8b-2eea706ff10d",
   "metadata": {},
   "outputs": [],
   "source": [
    "# Make pseudo pixels\n",
    "gdf_PIXC['pseudo_pixel'] = gdf_PIXC.apply(func=makePseudoPixels,\n",
    "                                          args=(nadir_segment_ln,\n",
    "                                                height), axis=1)"
   ]
  },
  {
   "cell_type": "code",
   "execution_count": null,
   "id": "0a618160-6560-4693-a5d5-1a8b7a07780c",
   "metadata": {},
   "outputs": [],
   "source": [
    "gdf_PIXC"
   ]
  },
  {
   "cell_type": "code",
   "execution_count": null,
   "id": "3e17d64a-0770-4a60-8140-a2769ddab810",
   "metadata": {},
   "outputs": [],
   "source": [
    "pseudo = gdf_PIXC.drop(columns='geometry').set_geometry('pseudo_pixel')"
   ]
  },
  {
   "cell_type": "code",
   "execution_count": null,
   "id": "206dc135-90d6-42fb-bb25-219c0a4d2a9c",
   "metadata": {},
   "outputs": [],
   "source": [
    "bound_box = pseudo.total_bounds"
   ]
  },
  {
   "cell_type": "code",
   "execution_count": null,
   "id": "dda11b4c-df03-4792-a716-08b9eb3709b9",
   "metadata": {},
   "outputs": [],
   "source": [
    "bound_box"
   ]
  },
  {
   "cell_type": "code",
   "execution_count": null,
   "id": "5dc5abc2-d286-44d3-bea2-be2b32925f7c",
   "metadata": {},
   "outputs": [],
   "source": [
    "pseudo"
   ]
  },
  {
   "cell_type": "code",
   "execution_count": null,
   "id": "ec9f2838-8887-40ce-ab94-034948ddc151",
   "metadata": {},
   "outputs": [],
   "source": [
    "# Set slurm job index\n",
    "# (see: nas/cee-water/cjgleason/fiona/narrow_rivers_PIXC/data/HUC4_lookup_no_great_lakes.csv)\n",
    "i = 4 # HUC4 0108, Connecticut"
   ]
  },
  {
   "cell_type": "code",
   "execution_count": null,
   "id": "dc132d04-84a7-4d7d-a1a0-834337931cb3",
   "metadata": {},
   "outputs": [],
   "source": [
    "basin = readNHD(index=i)"
   ]
  },
  {
   "cell_type": "code",
   "execution_count": null,
   "id": "b80820c3-1f44-4b52-832e-f7c7d4407c5a",
   "metadata": {},
   "outputs": [],
   "source": [
    "basin"
   ]
  },
  {
   "cell_type": "code",
   "execution_count": null,
   "id": "82c23471-5cff-4f60-9667-f3ba0cf72e50",
   "metadata": {},
   "outputs": [],
   "source": [
    "buffer = basin.copy()"
   ]
  },
  {
   "cell_type": "code",
   "execution_count": null,
   "id": "72fb82dc-088a-42bf-b2a4-5c5ad91930cb",
   "metadata": {},
   "outputs": [],
   "source": [
    "buffer"
   ]
  },
  {
   "cell_type": "code",
   "execution_count": null,
   "id": "88863665-f657-44d7-a2b6-da52ea9d67e2",
   "metadata": {},
   "outputs": [],
   "source": [
    "# Buffer reach by 1/2 channel width\n",
    "buffer['geometry'] = buffer['geometry'].buffer(distance=(buffer['WidthM']/2), cap_style='flat')"
   ]
  },
  {
   "cell_type": "markdown",
   "id": "80c3bc27-5f66-400b-b639-3a997d8c16c6",
   "metadata": {},
   "source": [
    "### Plots"
   ]
  },
  {
   "cell_type": "code",
   "execution_count": null,
   "id": "de30c287-886c-40e8-a5ef-f10d0488a4aa",
   "metadata": {},
   "outputs": [],
   "source": [
    "savepath = '/nas/cee-water/cjgleason/fiona/narrow_rivers_PIXC/pseudo_pixels/'"
   ]
  },
  {
   "cell_type": "code",
   "execution_count": null,
   "id": "5df2110e-822b-491e-a892-4b1bae966b69",
   "metadata": {},
   "outputs": [],
   "source": [
    "# Make color palette\n",
    "# palette = {2: 'darkolivegreen', 3: 'slateblue', 4: 'steelblue', 5: 'hotpink',\n",
    "#            6: 'saddlebrown', 7: 'darkslategray'}\n",
    "palette = {2: 'darkkhaki', 3: 'cornflowerblue', 4: 'blue', 5: 'hotpink',\n",
    "           6: 'lightsalmon', 7: 'lightblue'}"
   ]
  },
  {
   "cell_type": "code",
   "execution_count": null,
   "id": "9091d187-fdb5-4243-96c2-8febc0dc58b3",
   "metadata": {},
   "outputs": [],
   "source": [
    "fig, ax = plt.subplots(figsize=(8,8))\n",
    "\n",
    "pseudo.plot(ax=ax, alpha=0.3, color='y')\n",
    "gpd.GeoSeries(nadir_segment_ln).plot(ax=ax, color='k')\n",
    "\n",
    "basin.plot(ax=ax, alpha=0.5)\n",
    "subset.plot(ax=ax, markersize=1, color='k')"
   ]
  },
  {
   "cell_type": "code",
   "execution_count": null,
   "id": "7b0ea767-386f-4d91-8ed7-759e50914ed8",
   "metadata": {},
   "outputs": [],
   "source": [
    "pseudo_c = pseudo\n",
    "buffer_c = buffer.clip(mask=bound_box)\n",
    "\n",
    "nums = list(np.unique(pseudo.klass).astype('int'))\n",
    "labels = [codes[x] for x in nums]\n",
    "\n",
    "# Make cmap\n",
    "cmap = colors.ListedColormap([palette[x] for x in nums])\n",
    "\n",
    "fig, ax = plt.subplots(figsize=(15,15))\n",
    "# basin.clip(mask=bound_box).plot(ax=ax, alpha=0.5)\n",
    "buffer_c.plot(ax=ax, alpha=0.5, color='w')\n",
    "pseudo_c.plot(ax=ax,\n",
    "            column=pseudo_c.klass,\n",
    "            categorical=True,\n",
    "            cmap=cmap,\n",
    "            legend=True,\n",
    "            legend_kwds={'labels': labels,\n",
    "                         'framealpha': 1, \n",
    "                         'title_fontsize': 'medium',\n",
    "                         'loc': 'upper left'})\n",
    "\n",
    "# Basemap\n",
    "ctx.add_basemap(ax, crs=gdf_PIXC.crs, source=ctx.providers.CartoDB.DarkMatter, alpha=0.9)\n",
    "\n",
    "# gpd.GeoSeries(nadir_segment_ln).plot(ax=ax, color='k')\n",
    "# subset.plot(ax=ax, markersize=1, color='k')"
   ]
  },
  {
   "cell_type": "code",
   "execution_count": null,
   "id": "54b30abf-2f01-4995-b3fe-7ea9d572851a",
   "metadata": {},
   "outputs": [],
   "source": [
    "# bounds = [690000, 4695000, 700000, 4705000]\n",
    "\n",
    "# pseudo_c = pseudo.clip(mask=bounds)\n",
    "# buffer_c = buffer.clip(mask=bounds)\n",
    "\n",
    "# nums = list(np.unique(pseudo.klass).astype('int'))\n",
    "# labels = [codes[x] for x in nums]\n",
    "\n",
    "# # Make cmap\n",
    "# cmap = colors.ListedColormap([palette[x] for x in nums])\n",
    "\n",
    "# fig, ax = plt.subplots(figsize=(15,15))\n",
    "# pseudo.plot(ax=ax, alpha=0.9,\n",
    "#             column=pseudo.klass,\n",
    "#             categorical=True,\n",
    "#             cmap=cmap,\n",
    "#             legend=True,\n",
    "#             legend_kwds={'labels': labels,\n",
    "#                          'framealpha': 1, \n",
    "#                          'title_fontsize': 'medium',\n",
    "#                          'loc': 'lower left'})\n",
    "# # basin.clip(mask=bound_box).plot(ax=ax, alpha=0.5)\n",
    "# # buffer.clip(mask=bound_box).plot(ax=ax, alpha=0.2, color='w')\n",
    "\n",
    "# # Basemap\n",
    "# # ctx.add_basemap(ax, crs=gdf_PIXC.crs, source=ctx.providers.CartoDB.DarkMatter, alpha=0.9)\n",
    "\n",
    "# # gpd.GeoSeries(nadir_segment_ln).plot(ax=ax, color='k')\n",
    "# # subset.plot(ax=ax, markersize=1, color='k')"
   ]
  },
  {
   "cell_type": "code",
   "execution_count": null,
   "id": "9d80319b-6aec-4d72-9c22-e82e6c298a06",
   "metadata": {},
   "outputs": [],
   "source": [
    "# bounds = [690000, 4695000, 700000, 4705000]\n",
    "bounds = [692000, 4694000, 702000, 4704000]\n",
    "\n",
    "pseudo_c = pseudo.clip(mask=bounds)\n",
    "buffer_c = buffer.clip(mask=bounds)\n",
    "\n",
    "nums = list(np.unique(pseudo.klass).astype('int'))\n",
    "labels = [codes[x] for x in nums]\n",
    "\n",
    "# Make cmap\n",
    "cmap = colors.ListedColormap([palette[x] for x in nums])\n",
    "\n",
    "fig, ax = plt.subplots(figsize=(15,15))\n",
    "# basin.clip(mask=bound_box).plot(ax=ax, alpha=0.5)\n",
    "buffer_c.plot(ax=ax, alpha=0.5, color='w')\n",
    "pseudo_c.plot(ax=ax,\n",
    "            column=pseudo_c.klass,\n",
    "            categorical=True,\n",
    "            cmap=cmap,\n",
    "            legend=True,\n",
    "            legend_kwds={'labels': labels,\n",
    "                         'framealpha': 1, \n",
    "                         'title_fontsize': 'medium',\n",
    "                         'loc': 'upper left'})\n",
    "\n",
    "# Basemap\n",
    "ctx.add_basemap(ax, crs=gdf_PIXC.crs, source=ctx.providers.CartoDB.DarkMatter, alpha=0.9)\n",
    "\n",
    "plt.xlim(692000, 702000)\n",
    "plt.ylim(4694000, 4704000)\n",
    "\n",
    "plt.savefig(fname=savepath + 'conn_great_pond.png', bbox_inches='tight')"
   ]
  },
  {
   "cell_type": "code",
   "execution_count": null,
   "id": "1124e2e8-100e-4541-b2f5-eb1c6a8ca63a",
   "metadata": {},
   "outputs": [],
   "source": [
    "bounds = [692000, 4684000, 702000, 4694000]\n",
    "\n",
    "pseudo_c = pseudo.clip(mask=bounds)\n",
    "buffer_c = buffer.clip(mask=bounds)\n",
    "\n",
    "nums = list(np.unique(pseudo.klass).astype('int'))\n",
    "labels = [codes[x] for x in nums]\n",
    "\n",
    "# Make cmap\n",
    "cmap = colors.ListedColormap([palette[x] for x in nums])\n",
    "\n",
    "fig, ax = plt.subplots(figsize=(15,15))\n",
    "# basin.clip(mask=bound_box).plot(ax=ax, alpha=0.5)\n",
    "buffer_c.plot(ax=ax, alpha=0.8, color='w')\n",
    "pseudo_c.plot(ax=ax,\n",
    "            column=pseudo_c.klass,\n",
    "            categorical=True,\n",
    "            cmap=cmap,\n",
    "            legend=True,\n",
    "            legend_kwds={'labels': labels,\n",
    "                         'framealpha': 1, \n",
    "                         'title_fontsize': 'medium',\n",
    "                         'loc': 'upper left'})\n",
    "\n",
    "# Basemap\n",
    "ctx.add_basemap(ax, crs=gdf_PIXC.crs, source=ctx.providers.CartoDB.DarkMatter, alpha=0.9)\n",
    "\n",
    "plt.xlim(692000, 702000)\n",
    "plt.ylim(4684000, 4694000)\n",
    "\n",
    "plt.savefig(fname=savepath + 'conn_hadley.png', bbox_inches='tight')"
   ]
  },
  {
   "cell_type": "code",
   "execution_count": null,
   "id": "c888b3e6-eb47-4ca9-8af2-052323e33547",
   "metadata": {},
   "outputs": [],
   "source": [
    "bounds = [698000, 4688000, 700000, 4690000]\n",
    "\n",
    "pseudo_c = pseudo.clip(mask=bounds)\n",
    "buffer_c = buffer.clip(mask=bounds)\n",
    "\n",
    "nums = list(np.unique(pseudo.klass).astype('int'))\n",
    "labels = [codes[x] for x in nums]\n",
    "\n",
    "# Make cmap\n",
    "cmap = colors.ListedColormap([palette[x] for x in nums])\n",
    "\n",
    "fig, ax = plt.subplots(figsize=(15,15))\n",
    "# basin.clip(mask=bound_box).plot(ax=ax, alpha=0.5)\n",
    "buffer_c.plot(ax=ax, alpha=0.8, color='w')\n",
    "pseudo_c.plot(ax=ax, alpha=0.9,\n",
    "            column=pseudo_c.klass,\n",
    "            categorical=True,\n",
    "            cmap=cmap,\n",
    "            legend=True,\n",
    "            legend_kwds={'labels': labels,\n",
    "                         'framealpha': 1, \n",
    "                         'title_fontsize': 'medium',\n",
    "                         'loc': 'upper left'})\n",
    "\n",
    "# Basemap\n",
    "ctx.add_basemap(ax, crs=gdf_PIXC.crs, source=ctx.providers.CartoDB.DarkMatter, alpha=0.9)\n",
    "\n",
    "plt.xlim(698000, 700000)\n",
    "plt.ylim(4688000, 4690000)\n",
    "\n",
    "plt.savefig(fname=savepath + 'conn_fort.png', bbox_inches='tight')"
   ]
  },
  {
   "cell_type": "code",
   "execution_count": null,
   "id": "7c40f657-6485-4645-94e7-7085b4503b90",
   "metadata": {},
   "outputs": [],
   "source": [
    "nums = list(np.unique(pseudo.klass).astype('int'))\n",
    "labels = [codes[x] for x in nums]\n",
    "\n",
    "# Make cmap\n",
    "cmap = colors.ListedColormap([palette[x] for x in nums])\n",
    "\n",
    "fig, ax = plt.subplots(figsize=(8,8))\n",
    "pseudo.plot(ax=ax, alpha=0.8,\n",
    "            column=pseudo.klass,\n",
    "            categorical=True,\n",
    "            cmap=cmap,\n",
    "            legend=True,\n",
    "            legend_kwds={'labels': labels,\n",
    "                         'framealpha': 1, \n",
    "                         'title_fontsize': 'medium',\n",
    "                         'loc': 'lower left'})\n",
    "basin.plot(ax=ax, alpha=0.5)\n",
    "buffer.plot(ax=ax, alpha=0.3)\n",
    "# gpd.GeoSeries(nadir_segment_ln).plot(ax=ax, color='k')\n",
    "subset.plot(ax=ax, markersize=1, color='k')\n",
    "\n",
    "plt.xlim(683961, 684677)\n",
    "plt.ylim(4728171, 4728924)"
   ]
  },
  {
   "cell_type": "code",
   "execution_count": null,
   "id": "bf6ac7eb-fbfd-4d61-837b-5fd7cd1cb6a3",
   "metadata": {},
   "outputs": [],
   "source": [
    "nums = list(np.unique(pseudo.klass).astype('int'))\n",
    "labels = [codes[x] for x in nums]\n",
    "\n",
    "# Make cmap\n",
    "cmap = colors.ListedColormap([palette[x] for x in nums])\n",
    "\n",
    "fig, ax = plt.subplots(figsize=(8,8))\n",
    "\n",
    "pseudo.plot(ax=ax, alpha=0.8,\n",
    "            column=pseudo.klass,\n",
    "            categorical=True,\n",
    "            cmap=cmap,\n",
    "            legend=True,\n",
    "            legend_kwds={'labels': labels,\n",
    "                         'framealpha': 1, \n",
    "                         'title_fontsize': 'medium',\n",
    "                         'loc': 'lower left'})\n",
    "basin.plot(ax=ax, alpha=0.5)\n",
    "buffer.plot(ax=ax, alpha=0.3)\n",
    "subset.plot(ax=ax, markersize=1, color='k')\n",
    "\n",
    "plt.xlim(688337, 689053)\n",
    "plt.ylim(4729756, 4730510)"
   ]
  }
 ],
 "metadata": {
  "kernelspec": {
   "display_name": "Python [conda env:.conda-narrowPIXC]",
   "language": "python",
   "name": "conda-env-.conda-narrowPIXC-py"
  },
  "language_info": {
   "codemirror_mode": {
    "name": "ipython",
    "version": 3
   },
   "file_extension": ".py",
   "mimetype": "text/x-python",
   "name": "python",
   "nbconvert_exporter": "python",
   "pygments_lexer": "ipython3",
   "version": "3.12.4"
  }
 },
 "nbformat": 4,
 "nbformat_minor": 5
}
