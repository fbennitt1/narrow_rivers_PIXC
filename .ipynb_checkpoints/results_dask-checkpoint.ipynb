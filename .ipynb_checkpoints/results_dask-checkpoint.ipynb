{
 "cells": [
  {
   "cell_type": "code",
   "execution_count": 1,
   "id": "3a969e19-56af-4005-9bcb-a3607fb7e5e7",
   "metadata": {},
   "outputs": [],
   "source": [
    "import os\n",
    "import time\n",
    "\n",
    "import dask.dataframe as dd\n",
    "import matplotlib.cm\n",
    "import matplotlib.colors as colors\n",
    "import matplotlib.pyplot as plt\n",
    "import numpy as np\n",
    "import pandas as pd\n",
    "import seaborn as sns"
   ]
  },
  {
   "cell_type": "code",
   "execution_count": 2,
   "id": "5e607ef2-4f42-4ccf-b5d6-0b9f987d4006",
   "metadata": {},
   "outputs": [],
   "source": [
    "def truncate_colormap(cmap, minval=0.0, maxval=1.0, n=100):\n",
    "    new_cmap = colors.LinearSegmentedColormap.from_list(\n",
    "        'trunc({n},{a:.2f},{b:.2f})'.format(n=cmap.name, a=minval, b=maxval),\n",
    "        cmap(np.linspace(minval, maxval, n)))\n",
    "    return new_cmap"
   ]
  },
  {
   "cell_type": "code",
   "execution_count": 3,
   "id": "677614e9-9722-4903-8253-fb8aa1f05444",
   "metadata": {},
   "outputs": [],
   "source": [
    "cmap = plt.get_cmap('cubehelix', 5)\n",
    "new_cmap = truncate_colormap(cmap, 0.2, 0.75)"
   ]
  },
  {
   "cell_type": "code",
   "execution_count": 4,
   "id": "efa77a94-346d-48d5-9c48-9ed5c7dbb3d4",
   "metadata": {},
   "outputs": [],
   "source": [
    "color = []\n",
    "\n",
    "for i in np.linspace(0, 1, 3):\n",
    "    color.append(colors.rgb2hex(new_cmap(i)))"
   ]
  },
  {
   "cell_type": "code",
   "execution_count": 5,
   "id": "223f81e8-4ba4-4f5a-b047-e2605fe5bf71",
   "metadata": {},
   "outputs": [],
   "source": [
    "palette = sns.color_palette(color)"
   ]
  },
  {
   "cell_type": "code",
   "execution_count": 6,
   "id": "3761e791-90d9-4c87-bace-f10edad737d3",
   "metadata": {},
   "outputs": [],
   "source": [
    "# Order of all possible bins for plotting\n",
    "order = ['(0, 10]', '(10, 20]', '(20, 30]', '(30, 40]', '(40, 50]',\n",
    "         '(50, 60]', '(60, 70]', '(70, 80]', '(80, 90]', '(90, 100]',\n",
    "         '(100, 150]']"
   ]
  },
  {
   "cell_type": "code",
   "execution_count": 7,
   "id": "b89c63f1-8bc9-44fd-96ec-8a2660296e9a",
   "metadata": {},
   "outputs": [],
   "source": [
    "save_path = '/nas/cee-water/cjgleason/fiona/narrow_rivers_PIXC/figures_for_2025_03_06/'"
   ]
  },
  {
   "cell_type": "markdown",
   "id": "93751c9a-1f1c-4809-a888-a6174e613bfa",
   "metadata": {},
   "source": [
    "## Minimum"
   ]
  },
  {
   "cell_type": "markdown",
   "id": "0fc36d58-df41-4c32-a054-46c811fefb5f",
   "metadata": {
    "tags": []
   },
   "source": [
    "### HUC2_01, Northeast"
   ]
  },
  {
   "cell_type": "code",
   "execution_count": 8,
   "id": "fdd970dc-a341-4b53-988e-aeda267932a6",
   "metadata": {},
   "outputs": [],
   "source": [
    "## Setup\n",
    "bwidth = 'mean'\n",
    "bbin = 'Bin'\n",
    "huc2 = '01'\n",
    "data_path = '../narrow_rivers_PIXC_output/PIXC_v2_0_HUC2_' + huc2 + '_2025_03_06_' + bwidth"
   ]
  },
  {
   "cell_type": "code",
   "execution_count": 9,
   "id": "46d0bb83-8832-4c6a-88ed-39c23ba67895",
   "metadata": {},
   "outputs": [],
   "source": [
    "# Get list of files    \n",
    "files = []\n",
    "for file in os.listdir(data_path):\n",
    "    if not file.startswith('.'):\n",
    "        if 'min' in file:\n",
    "            files.append(os.path.join(data_path, file))"
   ]
  },
  {
   "cell_type": "code",
   "execution_count": 10,
   "id": "eaf4f2f3-a951-40fb-af22-c03d367249d2",
   "metadata": {},
   "outputs": [],
   "source": [
    "ddf_ne = dd.read_parquet(files)"
   ]
  },
  {
   "cell_type": "markdown",
   "id": "7b60b083-69d2-47c7-a872-c0eef6b64d6f",
   "metadata": {},
   "source": [
    "### HUC2_15, Southwest"
   ]
  },
  {
   "cell_type": "code",
   "execution_count": 11,
   "id": "c0113ad8-e8bd-4200-88a2-808d7aca0c6c",
   "metadata": {},
   "outputs": [],
   "source": [
    "## Setup\n",
    "bwidth = 'mean'\n",
    "bbin = 'Bin'\n",
    "huc2 = '15'\n",
    "data_path = '../narrow_rivers_PIXC_output/PIXC_v2_0_HUC2_' + huc2 + '_2025_03_06_' + bwidth"
   ]
  },
  {
   "cell_type": "code",
   "execution_count": 12,
   "id": "57d7bd43-f156-42cb-93e3-b8a09e9e9e7c",
   "metadata": {},
   "outputs": [],
   "source": [
    "# Get list of files    \n",
    "files = []\n",
    "for file in os.listdir(data_path):\n",
    "    if not file.startswith('.'):\n",
    "        if 'min' in file:\n",
    "            files.append(os.path.join(data_path, file))"
   ]
  },
  {
   "cell_type": "code",
   "execution_count": 13,
   "id": "1b63d7d4-39a2-4fc0-b371-9d47301a5eb2",
   "metadata": {},
   "outputs": [],
   "source": [
    "ddf_sw = dd.read_parquet(files)"
   ]
  },
  {
   "cell_type": "markdown",
   "id": "1fb56def-d6c1-4ead-bc1b-18da9caa02f8",
   "metadata": {},
   "source": [
    "### Combo"
   ]
  },
  {
   "cell_type": "code",
   "execution_count": 14,
   "id": "4b098864-391b-49f6-a56f-30ac150111a2",
   "metadata": {},
   "outputs": [],
   "source": [
    "# Make combined dataframe\n",
    "ddf_combo = dd.concat(dfs=[ddf_ne, ddf_sw], axis=0)"
   ]
  },
  {
   "cell_type": "markdown",
   "id": "fa3c4992-2a03-40d5-a232-9e232354f815",
   "metadata": {
    "tags": []
   },
   "source": [
    "### Combination"
   ]
  },
  {
   "cell_type": "code",
   "execution_count": null,
   "id": "9bf43c89-ea3c-4fd7-83b4-b7d926947a71",
   "metadata": {},
   "outputs": [],
   "source": [
    "for binn in order:\n",
    "\n",
    "    # Get ne reaches\n",
    "    ddf_ne_bin = ddf_ne[ddf_ne.Bin == binn]\n",
    "    ne = ddf_ne_bin.compute().drop(columns=['NHDPlusID']).reset_index()\n",
    "    ne = ne.drop(columns=['index'])\n",
    "    ne['coverage'] = ne['coverage']*100\n",
    "    ne['huc2'] = '01'\n",
    "\n",
    "    # Get sw reaches\n",
    "    ddf_sw_bin = ddf_sw[ddf_sw.Bin == binn]\n",
    "    sw = ddf_sw_bin.compute().drop(columns=['NHDPlusID']).reset_index()\n",
    "    sw = sw.drop(columns=['index'])\n",
    "    sw['coverage'] = sw['coverage']*100\n",
    "    sw['huc2'] = '15'\n",
    "\n",
    "    # Get combined reaches\n",
    "    ddf_combo_bin = ddf_combo[ddf_combo.Bin == binn]\n",
    "    combo = ddf_combo_bin.compute().drop(columns=['NHDPlusID']).reset_index()\n",
    "    combo = combo.drop(columns=['index'])\n",
    "    combo['coverage'] = combo['coverage']*100\n",
    "    combo['huc2'] = 'combined'\n",
    "\n",
    "    combos = pd.concat(objs=[ne, sw, combo], axis=0).reset_index()\n",
    "\n",
    "    del ne, sw, combo\n",
    "\n",
    "    fig, ax = plt.subplots(figsize=(6,10))\n",
    "    sns.boxplot(x='Bin', y='coverage', hue='huc2',\n",
    "                data=combos,\n",
    "                palette=palette,\n",
    "                legend=True,\n",
    "                saturation=1, showmeans=True,\n",
    "                fliersize=2, linewidth=2,\n",
    "                boxprops=dict(alpha=0.8),\n",
    "                meanprops={'marker':'o',\n",
    "                           'markerfacecolor':'k',\n",
    "                           'markeredgecolor':'k',\n",
    "                           'markersize':'8'})\n",
    "\n",
    "    plt.legend(title='HUC2', loc='upper right',\n",
    "               title_fontproperties={'weight': 'bold'})\n",
    "\n",
    "    # plt.title('Minimum percent coverage of nodes in each reach')\n",
    "    plt.xticks(rotation=-45)\n",
    "    plt.ylim(0,100)\n",
    "    plt.xlabel('Width Bin [m]')\n",
    "    plt.ylabel('Detected [%]')\n",
    "\n",
    "    plt.savefig('./figures_for_2025_03_06/minimum_mean_' + binn + '.png')"
   ]
  },
  {
   "cell_type": "code",
   "execution_count": null,
   "id": "bfdb0405-cb86-4ebd-a7b0-bd3ca75d9e42",
   "metadata": {
    "tags": []
   },
   "outputs": [],
   "source": [
    "# Thresholds\n",
    "thresholds = [0.1, 0.2, 0.3, 0.4, 0.5, 0.6, 0.7, 0.8, 0.9]"
   ]
  },
  {
   "cell_type": "markdown",
   "id": "e6e572fe-811c-4326-9e7d-a373f443a55a",
   "metadata": {
    "tags": []
   },
   "source": [
    "### HUC2_01, Northeast"
   ]
  },
  {
   "cell_type": "code",
   "execution_count": null,
   "id": "1dd97655-9e5c-4a41-8fce-6a437a30ca41",
   "metadata": {},
   "outputs": [],
   "source": [
    "## Setup\n",
    "bwidth = 'mean'\n",
    "bbin = 'Bin'\n",
    "huc2 = '01'\n",
    "data_path = '../narrow_rivers_PIXC_output/PIXC_v2_0_HUC2_' + huc2 + '_2025_03_06_' + bwidth"
   ]
  },
  {
   "cell_type": "code",
   "execution_count": null,
   "id": "7f6b9e36-ce00-464a-8485-8f36346d8914",
   "metadata": {},
   "outputs": [],
   "source": [
    "# Get list of files    \n",
    "files = []\n",
    "for file in os.listdir(data_path):\n",
    "    if not file.startswith('.'):\n",
    "        if 'thresh' in file:\n",
    "            files.append(os.path.join(data_path, file))"
   ]
  },
  {
   "cell_type": "code",
   "execution_count": null,
   "id": "04ce7a4d-db31-4c94-9c0f-4491fe3e791a",
   "metadata": {},
   "outputs": [],
   "source": [
    "ddf_ne = dd.read_parquet(files)"
   ]
  },
  {
   "cell_type": "markdown",
   "id": "98e3f765-05c4-4c8b-be32-39197b686177",
   "metadata": {},
   "source": [
    "### HUC2_15, Southwest"
   ]
  },
  {
   "cell_type": "code",
   "execution_count": null,
   "id": "1a5e32ba-a4f9-4825-85b3-b71037b5bcaf",
   "metadata": {},
   "outputs": [],
   "source": [
    "## Setup\n",
    "bwidth = 'mean'\n",
    "bbin = 'Bin'\n",
    "huc2 = '15'\n",
    "data_path = '../narrow_rivers_PIXC_output/PIXC_v2_0_HUC2_' + huc2 + '_2025_03_06_' + bwidth"
   ]
  },
  {
   "cell_type": "code",
   "execution_count": null,
   "id": "81beeb17-7447-41ff-948b-150ac5bea375",
   "metadata": {},
   "outputs": [],
   "source": [
    "# Get list of files    \n",
    "files = []\n",
    "for file in os.listdir(data_path):\n",
    "    if not file.startswith('.'):\n",
    "        if 'thresh' in file:\n",
    "            files.append(os.path.join(data_path, file))"
   ]
  },
  {
   "cell_type": "code",
   "execution_count": null,
   "id": "cbc6816a-09fa-4c7f-b567-b401ba9cab50",
   "metadata": {},
   "outputs": [],
   "source": [
    "ddf_sw = dd.read_parquet(files)"
   ]
  },
  {
   "cell_type": "markdown",
   "id": "dd34e97b-9531-4783-991f-9de5147f74f6",
   "metadata": {
    "jp-MarkdownHeadingCollapsed": true,
    "tags": []
   },
   "source": [
    "### Side-by-side"
   ]
  },
  {
   "cell_type": "code",
   "execution_count": null,
   "id": "eebe9079-6473-4f0a-aa97-5e358f2fd1e2",
   "metadata": {},
   "outputs": [],
   "source": [
    "# for i in range(len(thresholds)):\n",
    "\n",
    "i = 3\n",
    "\n",
    "# Get ne reaches at 10% threshold\n",
    "ddf_ne_thresh = ddf_ne[(ddf_ne['threshold'] == thresholds[i])]\n",
    "ne = ddf_ne_thresh.compute().drop(columns=['NHDPlusID']).reset_index()\n",
    "ne = ne.drop(columns=['index', 'threshold'])\n",
    "ne['coverage'] = ne['coverage']*100\n",
    "ne['huc2'] = '01'\n",
    "\n",
    "# Get sw reaches at 10% threshold\n",
    "ddf_sw_thresh = ddf_sw[(ddf_sw['threshold'] == thresholds[i])]\n",
    "sw = ddf_sw_thresh.compute().drop(columns=['NHDPlusID']).reset_index()\n",
    "sw = sw.drop(columns=['index', 'threshold'])\n",
    "sw['coverage'] = sw['coverage']*100\n",
    "sw['huc2'] = '15'\n",
    "\n",
    "# Get combined reaches at 10% threshold\n",
    "ddf_combo = ddf_combo[(ddf_combo['threshold'] == thresholds[i])]\n",
    "combo = ddf_combo.compute().drop(columns=['NHDPlusID']).reset_index()\n",
    "combo = combo.drop(columns=['index', 'threshold'])\n",
    "combo['coverage'] = combo['coverage']*100\n",
    "combo['huc2'] = combined'\n",
    "\n",
    "combo = pd.concat(objs=[ne, sw], axis=0).reset_index()\n",
    "\n",
    "percent = str(int(thresholds[i]*100))\n",
    "\n",
    "fig, ax = plt.subplots(figsize=(10,6))\n",
    "sns.boxplot(x='Bin', y='coverage', hue='huc2',\n",
    "            data=combo, order=order,\n",
    "            cmap=new_cmap,\n",
    "            legend=True,\n",
    "            saturation=1, showmeans=True,\n",
    "            fliersize=2, linewidth=2,\n",
    "            boxprops=dict(alpha=0.8),\n",
    "            meanprops={'marker':'o',\n",
    "                       'markerfacecolor':'k',\n",
    "                       'markeredgecolor':'k',\n",
    "                       'markersize':'8'})\n",
    "\n",
    "plt.legend(title='HUC2', loc='upper right')\n",
    "\n",
    "plt.title('Reaches with at least ' + percent +'% coverage in each node, HUC2_01 and HUC2_15')\n",
    "plt.xticks(rotation=-45)\n",
    "\n",
    "plt.xlabel('Width Bin [m]', labelpad=20)\n",
    "plt.ylabel('Detected [%]')\n",
    "\n",
    "# plt.savefig('./figures_for_2025_03_06/threshold_huc2_01_and_huc_15_mean_' + percent + '.png')"
   ]
  },
  {
   "cell_type": "markdown",
   "id": "eb415a1e-e080-41bb-8ce3-e09edb39e514",
   "metadata": {},
   "source": [
    "### Combined"
   ]
  },
  {
   "cell_type": "code",
   "execution_count": null,
   "id": "1106320c-5946-4431-963a-f467affa10f6",
   "metadata": {},
   "outputs": [],
   "source": [
    "for i in range(len(thresholds)):\n",
    "    # Make combined dataframe\n",
    "    ddf_combo = dd.concat(dfs=[ddf_ne, ddf_sw], axis=0)\n",
    "\n",
    "    # Get combined reaches at 10% threshold\n",
    "    ddf_combo = ddf_combo[(ddf_combo['threshold'] == thresholds[i])]\n",
    "    combo = ddf_combo.compute().drop(columns=['NHDPlusID']).reset_index()\n",
    "    combo = combo.drop(columns=['index', 'threshold'])\n",
    "    combo['coverage'] = combo['coverage']*100\n",
    "    # combo['huc2'] = '01, 15'\n",
    "\n",
    "    percent = str(int(thresholds[i]*100))\n",
    "\n",
    "    fig, ax = plt.subplots(figsize=(10,6))\n",
    "    sns.boxplot(x='Bin', y='coverage',\n",
    "                data=combo,\n",
    "                order=order,\n",
    "                color=colors[i],\n",
    "                saturation=1, showmeans=True,\n",
    "                fliersize=2, linewidth=2,\n",
    "                boxprops=dict(alpha=0.8),\n",
    "                meanprops={'marker':'o',\n",
    "                           'markerfacecolor':'k',\n",
    "                           'markeredgecolor':'k',\n",
    "                           'markersize':'8'})\n",
    "\n",
    "    plt.title('Reaches with at least ' + percent +'% coverage in each node, HUC2_01 and HUC2_15')\n",
    "    plt.xticks(rotation=-45)\n",
    "\n",
    "    plt.xlabel('Width Bin [m]', labelpad=20)\n",
    "    plt.ylabel('Detected [%]')\n",
    "\n",
    "    plt.savefig('./figures_for_2025_03_06/threshold_combined_mean_' + percent + '.png')"
   ]
  },
  {
   "cell_type": "code",
   "execution_count": null,
   "id": "fb075702-c2d2-4be2-b78b-ff259735e0b8",
   "metadata": {},
   "outputs": [],
   "source": []
  },
  {
   "cell_type": "code",
   "execution_count": null,
   "id": "2dfc221a-38c3-4688-9bb4-3a5041051d10",
   "metadata": {},
   "outputs": [],
   "source": []
  },
  {
   "cell_type": "code",
   "execution_count": null,
   "id": "9ae0f257-9eb4-4d4c-9459-5e4cb1311e38",
   "metadata": {},
   "outputs": [],
   "source": []
  },
  {
   "cell_type": "code",
   "execution_count": null,
   "id": "57a22cb5-1a3c-45dc-a2d5-12a733bb720c",
   "metadata": {},
   "outputs": [],
   "source": []
  },
  {
   "cell_type": "code",
   "execution_count": null,
   "id": "980a34da-d56f-4f19-b0e2-19e344e5821b",
   "metadata": {},
   "outputs": [],
   "source": []
  },
  {
   "cell_type": "code",
   "execution_count": null,
   "id": "693f3405-edc9-4514-b238-52454921d1ea",
   "metadata": {},
   "outputs": [],
   "source": []
  },
  {
   "cell_type": "code",
   "execution_count": null,
   "id": "d1449ff8-7d0f-45c5-babc-24f2e2459b6d",
   "metadata": {},
   "outputs": [],
   "source": [
    "# # Get just NE reaches at 10% threshold\n",
    "# ddf_ne_10 = ddf_ne[(ddf_ne['threshold'] == thresholds[0])]\n",
    "# ddf_ne_10 = ddf_ne_10.compute().drop(columns=['NHDPlusID']).reset_index()\n",
    "# ddf_ne_10 = ddf_ne_10.drop(columns=['index', 'threshold'])\n",
    "# ddf_ne_10['coverage'] = ddf_ne_10['coverage']*100\n",
    "# ddf_ne_10['huc2'] = '01'"
   ]
  },
  {
   "cell_type": "code",
   "execution_count": null,
   "id": "2e90e923-e763-4c0a-a5b0-cf768f1305fb",
   "metadata": {},
   "outputs": [],
   "source": [
    "# # Get just SW reaches at 10% threshold\n",
    "# ddf_sw_10 = ddf_sw[(ddf_sw['threshold'] == thresholds[0])]\n",
    "# ddf_sw_10 = ddf_sw_10.compute().drop(columns=['NHDPlusID']).reset_index()\n",
    "# ddf_sw_10 = ddf_sw_10.drop(columns=['index', 'threshold'])\n",
    "# ddf_sw_10['coverage'] = ddf_sw_10['coverage']*100\n",
    "# ddf_sw_10['huc2'] = '15'"
   ]
  },
  {
   "cell_type": "code",
   "execution_count": null,
   "id": "0df96cdc-02cb-46b1-86ee-73ed0e578226",
   "metadata": {},
   "outputs": [],
   "source": [
    "# combined = pd.concat(objs=[ddf_ne_10, ddf_sw_10, ddf_combo_10], axis=0).reset_index()"
   ]
  },
  {
   "cell_type": "code",
   "execution_count": null,
   "id": "74fade05-fe72-4f5b-8f92-ccbc24bdd4fc",
   "metadata": {},
   "outputs": [],
   "source": [
    "# del ddf_ne_10, ddf_sw_10, ddf_combo_10"
   ]
  },
  {
   "cell_type": "code",
   "execution_count": null,
   "id": "fd24dc25-1f3f-4d90-8d54-86b498376cb7",
   "metadata": {},
   "outputs": [],
   "source": [
    "# combined.columns"
   ]
  },
  {
   "cell_type": "code",
   "execution_count": null,
   "id": "005fdd1b-b079-40b3-a1d6-e28bd87f3490",
   "metadata": {},
   "outputs": [],
   "source": [
    "ddf_ne_10 = ddf_ne[(ddf_ne.threshold == 0.1)]\n",
    "ddf_10 = ddf_ne.compute().drop(columns='NHDPlusID').reset_index()"
   ]
  },
  {
   "cell_type": "code",
   "execution_count": null,
   "id": "5694fb37-fb69-429f-aa0b-c9c24cc5ea56",
   "metadata": {},
   "outputs": [],
   "source": [
    "ddf_10 = ddf_10.drop(columns='index')"
   ]
  },
  {
   "cell_type": "code",
   "execution_count": null,
   "id": "8f25f5ba-14de-4e52-870f-4fc02e8f9567",
   "metadata": {},
   "outputs": [],
   "source": [
    "# ddf_10 = ddf_10.sample(n=10000000, axis=0)"
   ]
  },
  {
   "cell_type": "code",
   "execution_count": null,
   "id": "bda8d3c4-e78e-43ea-93f1-545b0d2bf542",
   "metadata": {},
   "outputs": [],
   "source": [
    "ddf_10['coverage'] = ddf_10['coverage']*100"
   ]
  },
  {
   "cell_type": "code",
   "execution_count": null,
   "id": "cbb862aa-aa81-4eb0-a19b-6f15edec6727",
   "metadata": {},
   "outputs": [],
   "source": [
    "ddf_50 = ddf[(ddf.threshold == 0.5)]\n",
    "ddf_50 = ddf_50.compute().drop(columns='NHDPlusID').reset_index()"
   ]
  },
  {
   "cell_type": "code",
   "execution_count": null,
   "id": "7c694ecf-e352-4a10-b56c-f9662d3b99b9",
   "metadata": {},
   "outputs": [],
   "source": [
    "ddf_50 = ddf_50.drop(columns='index')"
   ]
  },
  {
   "cell_type": "code",
   "execution_count": null,
   "id": "2072ba4a-267d-41af-b53a-8deccf8d3932",
   "metadata": {},
   "outputs": [],
   "source": [
    "ddf_50 = ddf_50.sample(n=10000, axis=0)"
   ]
  },
  {
   "cell_type": "code",
   "execution_count": null,
   "id": "ccd001d5-b874-456d-af96-834c3b13f628",
   "metadata": {},
   "outputs": [],
   "source": []
  },
  {
   "cell_type": "code",
   "execution_count": null,
   "id": "14ee8656-b3bf-4199-b389-f141f87f6fe5",
   "metadata": {},
   "outputs": [],
   "source": []
  },
  {
   "cell_type": "code",
   "execution_count": null,
   "id": "3e98da2f-c50b-44e0-88d5-18a9aea3637e",
   "metadata": {},
   "outputs": [],
   "source": []
  },
  {
   "cell_type": "markdown",
   "id": "86cb8f41-b84c-4347-a63c-8d9fa46ddc1c",
   "metadata": {
    "tags": []
   },
   "source": [
    "## Plots"
   ]
  },
  {
   "cell_type": "code",
   "execution_count": null,
   "id": "e8c389b4-2c7e-4840-9d50-59ee1933e987",
   "metadata": {},
   "outputs": [],
   "source": [
    "def truncate_colormap(cmap, minval=0.0, maxval=1.0, n=100):\n",
    "    new_cmap = colors.LinearSegmentedColormap.from_list(\n",
    "        'trunc({n},{a:.2f},{b:.2f})'.format(n=cmap.name, a=minval, b=maxval),\n",
    "        cmap(np.linspace(minval, maxval, n)))\n",
    "    return new_cmap"
   ]
  },
  {
   "cell_type": "code",
   "execution_count": null,
   "id": "e16702c3-e438-41b9-bd08-c52d6ebacef1",
   "metadata": {},
   "outputs": [],
   "source": [
    "cmap = plt.get_cmap('cubehelix')\n",
    "new_cmap = truncate_colormap(cmap, 0.2, 0.75)\n",
    "ten = new_cmap(0)\n",
    "thirty = new_cmap(0.25)\n",
    "fifty = new_cmap(0.5)\n",
    "seventy = new_cmap(0.75)\n",
    "ninety = new_cmap(1)"
   ]
  },
  {
   "cell_type": "code",
   "execution_count": null,
   "id": "2f12f854-5279-404e-8efd-251da365ee51",
   "metadata": {},
   "outputs": [],
   "source": [
    "# Order of all possible bins for plotting\n",
    "order = ['(0, 10]', '(10, 20]', '(20, 30]', '(30, 40]', '(40, 50]',\n",
    "         '(50, 60]', '(60, 70]', '(70, 80]', '(80, 90]', '(90, 100]',\n",
    "         '(100, 150]']"
   ]
  },
  {
   "cell_type": "code",
   "execution_count": null,
   "id": "4a1bfd46-b680-490b-b931-b3876d240817",
   "metadata": {},
   "outputs": [],
   "source": [
    "save_path = '/nas/cee-water/cjgleason/fiona/narrow_rivers_PIXC/figures_for_2025_03_03/'"
   ]
  },
  {
   "cell_type": "code",
   "execution_count": null,
   "id": "53e9668a-8fbe-4ec7-b13b-8ab70522e03a",
   "metadata": {},
   "outputs": [],
   "source": [
    "fig, ax = plt.subplots(figsize=(12,6))\n",
    "sns.boxplot(x=bbin, y='coverage',\n",
    "            data=ddf_10, order=order, color=ten,\n",
    "            saturation=1, showmeans=True,\n",
    "            fliersize=2, linewidth=2,\n",
    "            boxprops=dict(alpha=0.8),\n",
    "            meanprops={'marker':'o',\n",
    "                       'markerfacecolor':'white',\n",
    "                       'markeredgecolor':'k',\n",
    "                       'markersize':'8'})\n",
    "\n",
    "plt.title('Bieger et al. width == ' + bwidth + ', 10% threshold', fontsize=16,\n",
    "           fontweight='bold')\n",
    "plt.xticks(fontsize=14, fontweight='semibold', rotation=-45)\n",
    "plt.yticks(fontsize=14, fontweight='semibold',)\n",
    "\n",
    "plt.xlabel('Width Bin [m]', fontsize=16,\n",
    "           fontweight='bold', labelpad=20)\n",
    "plt.ylabel('Detected [%]', fontsize=16,\n",
    "           fontweight='bold')\n",
    "\n",
    "# plt.savefig(fname=save_path + 'huc2_15_fifty_' + bwidth + '.png', dpi=300, bbox_inches='tight')"
   ]
  },
  {
   "cell_type": "code",
   "execution_count": null,
   "id": "e9ccef03-841c-4e9c-a7ff-e2144f8bea45",
   "metadata": {},
   "outputs": [],
   "source": [
    "# fig, ax = plt.subplots(figsize=(20,8))\n",
    "# sns.boxplot(x='Bin', y='coverage', hue='threshold',\n",
    "#             data=ddf_subset, \n",
    "#             palette=new_cmap,\n",
    "#             saturation=1, showmeans=True,\n",
    "#             fliersize=2, legend=False,\n",
    "#             boxprops=dict(alpha=0.8),\n",
    "#             meanprops={'marker':'o',\n",
    "#                        'markerfacecolor':'white',\n",
    "#                        'markeredgecolor':'k',\n",
    "#                        'markersize':'4'})\n",
    "\n",
    "# plt.title('Bieger et al. width: ' + bwidth + '\\nHUC2_15', fontsize=16,\n",
    "#            fontweight='bold')\n",
    "\n",
    "# plt.xticks(fontsize=14, fontweight='semibold', rotation=-45)\n",
    "# plt.yticks(fontsize=14, fontweight='semibold',)\n",
    "\n",
    "# plt.xlabel('Width Bin [m]', fontsize=16,\n",
    "#            fontweight='bold', labelpad=20)\n",
    "# plt.ylabel('Detected [%]', fontsize=16,\n",
    "#            fontweight='bold')\n",
    "\n",
    "# plt.savefig(save_path + 'huc2_15_no_land.png', bbox_inches='tight')"
   ]
  }
 ],
 "metadata": {
  "kernelspec": {
   "display_name": "Python [conda env:.conda-narrowPIXC]",
   "language": "python",
   "name": "conda-env-.conda-narrowPIXC-py"
  },
  "language_info": {
   "codemirror_mode": {
    "name": "ipython",
    "version": 3
   },
   "file_extension": ".py",
   "mimetype": "text/x-python",
   "name": "python",
   "nbconvert_exporter": "python",
   "pygments_lexer": "ipython3",
   "version": "3.12.4"
  }
 },
 "nbformat": 4,
 "nbformat_minor": 5
}
