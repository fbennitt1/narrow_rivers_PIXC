{
 "cells": [
  {
   "cell_type": "code",
   "execution_count": 1,
   "id": "054ba1e0-d7ac-4524-a659-1e46d3219143",
   "metadata": {
    "tags": []
   },
   "outputs": [],
   "source": [
    "from argparse import ArgumentParser\n",
    "import os\n",
    "import sys\n",
    "import time\n",
    "\n",
    "# import contextily as ctx\n",
    "import geopandas as gpd\n",
    "import matplotlib.pyplot as plt\n",
    "import numpy as np\n",
    "import pandas as pd\n",
    "import shapely\n",
    "import xarray as xr\n",
    "\n",
    "# from matplotlib import colors\n",
    "from pandarallel import pandarallel\n",
    "from shapely.geometry import box\n",
    "\n",
    "from reaches import readNHD\n",
    "from reaches import findNadir\n",
    "# from reaches import readSegments\n",
    "from reaches import bitwiseMask\n",
    "from reaches import makeGDF\n",
    "from reaches import makePseudoPixels\n",
    "\n",
    "from utils import specialBuffer\n",
    "from utils import specialClip\n",
    "from utils import specialDissolve"
   ]
  },
  {
   "cell_type": "markdown",
   "id": "7738211e-0067-4356-a77d-bddee1b036e0",
   "metadata": {},
   "source": [
    "### Parse arguments"
   ]
  },
  {
   "cell_type": "code",
   "execution_count": 25,
   "id": "7766a784-812f-47bc-b4f4-fdfb8eb0d3f9",
   "metadata": {},
   "outputs": [],
   "source": [
    "# parser = ArgumentParser(description='Please specify whether you would\\\n",
    "#                         like to use the min, mean, or max predicted\\\n",
    "#                         bankfull width for this analysis.')\n",
    "# parser.add_argument('width_set', type=str, help='min, mean, or max')\n",
    "# args=parser.parse_args()\n",
    "# width_set = args.width_set"
   ]
  },
  {
   "cell_type": "code",
   "execution_count": 24,
   "id": "9c28b14c-e137-4864-b7a1-326396a644eb",
   "metadata": {},
   "outputs": [],
   "source": [
    "# FOR NOW, SET\n",
    "width_set = 'mean'\n",
    "\n",
    "# Control flow\n",
    "if width_set == 'mean':\n",
    "    width_col = 'WidthM'\n",
    "elif width_set == 'min':\n",
    "    width_col = 'WidthM_Min'\n",
    "elif width_set == 'max':\n",
    "    width_col = 'WidthM_Max'\n",
    "else:\n",
    "    print('Invalid width option specified, exiting.')\n",
    "    # sys.exit()"
   ]
  },
  {
   "cell_type": "markdown",
   "id": "0c54b76a-2171-4a4b-92f5-e4b3f4f3f8df",
   "metadata": {
    "tags": []
   },
   "source": [
    "### Pixel Cloud"
   ]
  },
  {
   "cell_type": "code",
   "execution_count": 2,
   "id": "afc98329-6adb-400d-bdfd-2b6493cf305a",
   "metadata": {},
   "outputs": [],
   "source": [
    "# Get PIXC index metadata\n",
    "mdata_path = '/nas/cee-water/cjgleason/fiona/narrow_rivers_PIXC/data/'\n",
    "dtype_dic= {'cycle': str, 'pass': str, 'tile': str, 'version': str}\n",
    "\n",
    "# Read in HUC lookup table\n",
    "pixc_lookup = pd.read_csv(os.path.join(mdata_path,\n",
    "                                  'PIXC_v2_0_HUC2_01_best_files_no_exits.csv'),\n",
    "                     dtype=dtype_dic).drop(columns='index')"
   ]
  },
  {
   "cell_type": "code",
   "execution_count": 3,
   "id": "5bc56ba8-11e0-4b21-8829-1fce78256846",
   "metadata": {},
   "outputs": [],
   "source": [
    "# Get job index\n",
    "# slurm = int(os.environ['SLURM_ARRAY_TASK_ID'])\n",
    "slurm = 3032"
   ]
  },
  {
   "cell_type": "code",
   "execution_count": 4,
   "id": "900dad6e-8c22-4a17-a2f7-37ef07f35ca7",
   "metadata": {},
   "outputs": [],
   "source": [
    "# Get filepath for this tile\n",
    "file_name = pixc_lookup.loc[slurm, 'files']\n",
    "granule_name = file_name[:-3]\n",
    "tile_name = file_name[20:28]\n",
    "pass_num = int(file_name[20:23])"
   ]
  },
  {
   "cell_type": "code",
   "execution_count": 5,
   "id": "e4e18852-f9e3-4d76-b277-2d0b921c514f",
   "metadata": {},
   "outputs": [
    {
     "data": {
      "text/plain": [
       "20"
      ]
     },
     "execution_count": 5,
     "metadata": {},
     "output_type": "execute_result"
    }
   ],
   "source": [
    "pass_num"
   ]
  },
  {
   "cell_type": "code",
   "execution_count": 6,
   "id": "af5067b7-1ef3-4b42-9b2e-60b24e4085ab",
   "metadata": {},
   "outputs": [
    {
     "data": {
      "text/plain": [
       "'SWOT_L2_HR_PIXC_020_020_079L_20240821T082047_20240821T082058_PIC0_01'"
      ]
     },
     "execution_count": 6,
     "metadata": {},
     "output_type": "execute_result"
    }
   ],
   "source": [
    "granule_name"
   ]
  },
  {
   "cell_type": "markdown",
   "id": "974aa2a9-a339-4bc6-9b58-9e6e7c6ec405",
   "metadata": {
    "tags": []
   },
   "source": [
    "#### Read in PIXC"
   ]
  },
  {
   "cell_type": "code",
   "execution_count": 7,
   "id": "b6a2ddd5-b8ce-4b2d-8e04-12e41eecc1ce",
   "metadata": {},
   "outputs": [],
   "source": [
    "# Set PIXC filepath\n",
    "data_path = '/nas/cee-water/cjgleason/fiona/data/PIXC_v2_0_HUC2_01/'\n",
    "pixc_path = os.path.join(data_path, file_name)"
   ]
  },
  {
   "cell_type": "code",
   "execution_count": 8,
   "id": "aefb478b-ff8b-41b4-9576-0fdf0ba0a9c0",
   "metadata": {},
   "outputs": [],
   "source": [
    "# Read in pixel group\n",
    "ds_PIXC = xr.open_mfdataset(paths=pixc_path, group = 'pixel_cloud', engine='h5netcdf')"
   ]
  },
  {
   "cell_type": "code",
   "execution_count": 9,
   "id": "993471a7-b1b5-41bc-8401-1a03c47fe554",
   "metadata": {},
   "outputs": [
    {
     "name": "stdout",
     "output_type": "stream",
     "text": [
      "(630986,)\n"
     ]
    }
   ],
   "source": [
    "# Make mask\n",
    "mask = bitwiseMask(ds_PIXC)\n",
    "\n",
    "if mask.shape[0] == 0:\n",
    "    print('This granule has no pixels after masking, exiting.')\n",
    "    # sys.exit(1)    "
   ]
  },
  {
   "cell_type": "code",
   "execution_count": 10,
   "id": "daa9c587-4d39-40f3-9a7f-374fed33b165",
   "metadata": {},
   "outputs": [],
   "source": [
    "# Set desired data vars\n",
    "variables = ['azimuth_index', 'range_index', 'cross_track',\n",
    "             'pixel_area', 'height', 'geoid',\n",
    "             'dlatitude_dphase', 'dlongitude_dphase',\n",
    "             'dheight_dphase', 'classification']"
   ]
  },
  {
   "cell_type": "code",
   "execution_count": 11,
   "id": "37bc9371-c418-4578-851d-950ee3261a55",
   "metadata": {},
   "outputs": [],
   "source": [
    "# Make PIXC into GeoDataFrame\n",
    "gdf_PIXC = makeGDF(ds=ds_PIXC, mask=mask, data_vars=variables)"
   ]
  },
  {
   "cell_type": "markdown",
   "id": "67de04c0-8e96-4b5d-be2b-0ca295d75273",
   "metadata": {},
   "source": [
    "### Find correct HUC4s"
   ]
  },
  {
   "cell_type": "code",
   "execution_count": 12,
   "id": "af1db866-f656-41d6-bde7-383044114334",
   "metadata": {},
   "outputs": [],
   "source": [
    "# Read in tile and HUC4 intersection data\n",
    "dtype_dic= {'tile': str, 'huc4': str, 'coverage': float}\n",
    "tile_huc4 = pd.read_csv(os.path.join(mdata_path,\n",
    "                                    'huc4_swot_science_tiles.csv'),\n",
    "                        dtype=dtype_dic)"
   ]
  },
  {
   "cell_type": "code",
   "execution_count": 13,
   "id": "6c241cb3-e5b4-43b8-86f2-9d8c0afdff10",
   "metadata": {},
   "outputs": [],
   "source": [
    "# Make list of HUC4s that intersect our tile\n",
    "hucs = list(tile_huc4[tile_huc4['tile'] == tile_name]['huc4'])"
   ]
  },
  {
   "cell_type": "code",
   "execution_count": 14,
   "id": "c4dbc180-0df5-4b87-bfcd-6efbf07ee8be",
   "metadata": {},
   "outputs": [
    {
     "data": {
      "text/plain": [
       "['0202', '0430']"
      ]
     },
     "execution_count": 14,
     "metadata": {},
     "output_type": "execute_result"
    }
   ],
   "source": [
    "hucs"
   ]
  },
  {
   "cell_type": "code",
   "execution_count": 15,
   "id": "ff7ccdd0-2b70-4c2f-9956-0c217fd033f5",
   "metadata": {},
   "outputs": [],
   "source": [
    "# Get NHD index metadata\n",
    "# Define dtypes for lookup tables to preserve leading zeros\n",
    "dtype_dic= {'HUC4': str, 'HUC2': str, 'toBasin': str, 'level': str}\n",
    "# Read in HUC lookup table\n",
    "lookup = pd.read_csv(os.path.join(mdata_path,\n",
    "                                  'HUC4_lookup_no_great_lakes.csv'),\n",
    "                     dtype=dtype_dic)"
   ]
  },
  {
   "cell_type": "code",
   "execution_count": 16,
   "id": "54816995-c079-4e3b-b9f3-4730303297c2",
   "metadata": {},
   "outputs": [],
   "source": [
    "# Extract indices for read-in\n",
    "indices = list(lookup[lookup['HUC4'].isin(hucs)]['slurm_index'])"
   ]
  },
  {
   "cell_type": "markdown",
   "id": "8e4a50c6-9306-4d1e-853a-739263c0fe9e",
   "metadata": {},
   "source": [
    "### Read in HUC4 basins"
   ]
  },
  {
   "cell_type": "code",
   "execution_count": 40,
   "id": "a3024ad7-ba58-4910-8213-74a918a0117f",
   "metadata": {},
   "outputs": [
    {
     "name": "stdout",
     "output_type": "stream",
     "text": [
      "NHDPLUS_H_0202_HU4_GDB\n",
      "read in\n",
      "exploded\n",
      "NHDPLUS_H_0430_HU4_GDB\n",
      "read in\n",
      "exploded\n"
     ]
    }
   ],
   "source": [
    "# Create merged dataframe of all basins intersected\n",
    "if len(indices) == 1:\n",
    "    # Read prepped NHD\n",
    "    basin, huc4_list, huc2_list = readNHD(index=indices[0])\n",
    "\n",
    "else:\n",
    "    # Initialize lists\n",
    "    d = []\n",
    "    huc4_list = []\n",
    "    huc2_list = []\n",
    "    \n",
    "    # Loop through indices and store in lists\n",
    "    for idx in indices:\n",
    "\n",
    "        # Read prepped NHD\n",
    "        basin, huc4, huc2 = readNHD(index=idx)\n",
    "\n",
    "        # Append to lists\n",
    "        d.append(basin)\n",
    "        huc4_list.append(huc4)\n",
    "        huc2_list.append(huc2)\n",
    "        \n",
    "    # Merge GeoDataFrames\n",
    "    basin = pd.concat(d)"
   ]
  },
  {
   "cell_type": "code",
   "execution_count": 41,
   "id": "2d85aef5-6afd-400d-9ef4-ce7776e46455",
   "metadata": {},
   "outputs": [],
   "source": [
    "# Project CRS (currently to WGS 84 / UTM zone 18N)\n",
    "basin = basin.to_crs(epsg=32618)"
   ]
  },
  {
   "cell_type": "code",
   "execution_count": 42,
   "id": "fa5fa3a8-8e3a-4eca-90f9-7386701158a5",
   "metadata": {},
   "outputs": [
    {
     "name": "stdout",
     "output_type": "stream",
     "text": [
      "INFO: Pandarallel will run on 24 workers.\n",
      "INFO: Pandarallel will use Memory file system to transfer data between the main process and workers.\n"
     ]
    }
   ],
   "source": [
    "pandarallel.initialize()"
   ]
  },
  {
   "cell_type": "code",
   "execution_count": 21,
   "id": "68354293-1e8b-4327-889e-2c32a7d584b6",
   "metadata": {},
   "outputs": [
    {
     "name": "stdout",
     "output_type": "stream",
     "text": [
      "70.56808090209961\n"
     ]
    }
   ],
   "source": [
    "# xxx HOW TO MAKE THIS FASTER?\n",
    "# Buffer with an extra 50 m on each side to be safe\n",
    "# This is beyond the max distance that the pixels\n",
    "# could extend once converted to pseudo pixels\n",
    "# start = time.time()\n",
    "# basin['buffer'] = basin.buffer(distance=((basin.WidthM/2)+50), cap_style='flat')\n",
    "# end = time.time()\n",
    "# print(end - start)\n",
    "# #  = "
   ]
  },
  {
   "cell_type": "code",
   "execution_count": 43,
   "id": "ac849696-fa37-4a78-b96e-97ae7a13f8d3",
   "metadata": {},
   "outputs": [
    {
     "name": "stdout",
     "output_type": "stream",
     "text": [
      "16.742348432540894\n"
     ]
    }
   ],
   "source": [
    "start = time.time()\n",
    "basin['buffer'] = basin.parallel_apply(user_defined_function=specialBuffer,\n",
    "                                                         args=(width_col,\n",
    "                                                               'flat',True),\n",
    "                                                         axis=1)\n",
    "end = time.time()\n",
    "print(end - start)"
   ]
  },
  {
   "cell_type": "code",
   "execution_count": 44,
   "id": "5548c6b5-dbb6-4057-a10d-031ad6b49120",
   "metadata": {},
   "outputs": [],
   "source": [
    "# Set geometry to buffered reaches\n",
    "basin = basin.set_geometry('buffer').set_crs(epsg=32618)"
   ]
  },
  {
   "cell_type": "code",
   "execution_count": 29,
   "id": "42befd5e-7944-4012-8ba9-b6ecd190c91b",
   "metadata": {},
   "outputs": [],
   "source": [
    "# basin.crs"
   ]
  },
  {
   "cell_type": "code",
   "execution_count": 45,
   "id": "d30b2202-6fc8-441d-a37d-50cca6e4352f",
   "metadata": {},
   "outputs": [],
   "source": [
    "# Clip masked pixels to buffered reaches\n",
    "gdf_PIXC_clip = gpd.sjoin(gdf_PIXC, basin, how='inner', predicate='within')"
   ]
  },
  {
   "cell_type": "code",
   "execution_count": 46,
   "id": "2ce0ed83-fac7-49c0-a144-56cc42745e38",
   "metadata": {},
   "outputs": [],
   "source": [
    "if gdf_PIXC_clip.shape[0] == 0:\n",
    "    print('This granule has no pixels that intersect reaches, exiting.')\n",
    "    # sys.exit() "
   ]
  },
  {
   "cell_type": "code",
   "execution_count": 47,
   "id": "2f18adb5-7c9a-4548-9900-8046bd621bf4",
   "metadata": {},
   "outputs": [],
   "source": [
    "# Drop unneeded cols\n",
    "gdf_PIXC_clip = gdf_PIXC_clip.drop(columns=['index_right',\n",
    "                                            'Bin', 'GNIS_Name',\n",
    "                                            'LengthKM', 'NHDPlusID',\n",
    "                                            'WidthM', 'geometry_right'])"
   ]
  },
  {
   "cell_type": "code",
   "execution_count": 63,
   "id": "96af64d0-0170-45bd-ad58-f440f0248c73",
   "metadata": {},
   "outputs": [],
   "source": [
    "# gdf_PIXC_clip"
   ]
  },
  {
   "cell_type": "markdown",
   "id": "97e0a9cb-0326-4126-8c16-a863f5891f6d",
   "metadata": {
    "tags": []
   },
   "source": [
    "### Nadir track"
   ]
  },
  {
   "cell_type": "code",
   "execution_count": 49,
   "id": "3296b62c-896b-49d9-a09f-9795daaedb2e",
   "metadata": {},
   "outputs": [],
   "source": [
    "# Get single pixel for selecting correct nadir segment\n",
    "pixel_pt = gdf_PIXC_clip.iloc[0].geometry"
   ]
  },
  {
   "cell_type": "code",
   "execution_count": 50,
   "id": "16ed2efd-7ef6-432d-bbcb-f93e6dd58a0f",
   "metadata": {},
   "outputs": [
    {
     "name": "stderr",
     "output_type": "stream",
     "text": [
      "/work/pi_cjgleason_umass_edu/.conda/envs/narrowPIXC/lib/python3.12/site-packages/geopandas/geodataframe.py:1819: SettingWithCopyWarning: \n",
      "A value is trying to be set on a copy of a slice from a DataFrame.\n",
      "Try using .loc[row_indexer,col_indexer] = value instead\n",
      "\n",
      "See the caveats in the documentation: https://pandas.pydata.org/pandas-docs/stable/user_guide/indexing.html#returning-a-view-versus-a-copy\n",
      "  super().__setitem__(key, value)\n"
     ]
    }
   ],
   "source": [
    "# Find correct nadir segment and return its geometry\n",
    "nadir_segment_ln = findNadir(pass_num=pass_num, pixel_pt=pixel_pt)"
   ]
  },
  {
   "cell_type": "markdown",
   "id": "6af80e8a-07ba-4f91-8636-b12874ac4bd1",
   "metadata": {},
   "source": [
    "### Make pseudo pixels"
   ]
  },
  {
   "cell_type": "code",
   "execution_count": 51,
   "id": "551e670e-f660-4137-b0ad-555e44b9a7a1",
   "metadata": {},
   "outputs": [],
   "source": [
    "# Set along-track pixel resolution\n",
    "azimuth_res = 21 # meters"
   ]
  },
  {
   "cell_type": "code",
   "execution_count": 52,
   "id": "b55b182b-82e9-4931-a2f6-bb21f8760149",
   "metadata": {},
   "outputs": [
    {
     "name": "stdout",
     "output_type": "stream",
     "text": [
      "7.336681842803955\n"
     ]
    }
   ],
   "source": [
    "# Make pseudo pixels\n",
    "start = time.time()\n",
    "gdf_PIXC_clip['pseudo_pixel'] = gdf_PIXC_clip.parallel_apply(user_defined_function=makePseudoPixels,\n",
    "                                                         args=(nadir_segment_ln,\n",
    "                                                               azimuth_res),\n",
    "                                                         axis=1)\n",
    "end = time.time()\n",
    "print(end - start)"
   ]
  },
  {
   "cell_type": "code",
   "execution_count": 38,
   "id": "d48d2577-f46b-4b89-95ce-e6e2d3894f45",
   "metadata": {},
   "outputs": [],
   "source": [
    "# fig, ax = plt.subplots(figsize=(8,8))\n",
    "# gdf_PIXC_clip.iloc[5:10]['pseudo_pixel'].plot(ax=ax, alpha=0.5, color='y')\n",
    "# gdf_PIXC_clip.iloc[5:10].plot(ax=ax, markersize=5, color='hotpink')"
   ]
  },
  {
   "cell_type": "code",
   "execution_count": 53,
   "id": "e876d8aa-3055-4632-8cce-098926468f89",
   "metadata": {},
   "outputs": [],
   "source": [
    "# xxxWHY NOT JUST KEEP THE SAME DATA FRAME AND DROP THE UNWANTED COLS?\n",
    "# pseudo = gdf_PIXC_clip.drop(columns='geometry').set_geometry('pseudo_pixel').set_crs(crs=gdf_PIXC_clip.crs)\n",
    "gdf_PIXC_clip = gdf_PIXC_clip.rename(columns={'geometry': 'pixel_centroid'}).set_geometry('pseudo_pixel')"
   ]
  },
  {
   "cell_type": "code",
   "execution_count": 59,
   "id": "17fa13af-60b3-461f-9ad7-b4182e728520",
   "metadata": {},
   "outputs": [],
   "source": [
    "# Get bounds of PIXC tile\n",
    "pseudo_bounds = gdf_PIXC_clip.total_bounds\n",
    "# pseudo_poly = box(pseudo_bounds[0], pseudo_bounds[1],\n",
    "#                       pseudo_bounds[2], pseudo_bounds[3])\n",
    "# gdf_pseudo_bounds = gpd.GeoDataFrame({'geometry': [pseudo_bounds]}, crs=pseudo.crs)"
   ]
  },
  {
   "cell_type": "code",
   "execution_count": 41,
   "id": "bcdddc2f-92f9-4f7f-ab5f-de0dd6b9fa18",
   "metadata": {},
   "outputs": [],
   "source": [
    "# save_path = '/nas/cee-water/cjgleason/fiona/narrow_rivers_PIXC_data/PIXC_v2_0_pseudo_pixels_filtered/'"
   ]
  },
  {
   "cell_type": "code",
   "execution_count": 42,
   "id": "0517051b-705f-48a2-b160-d22726c0f8a9",
   "metadata": {},
   "outputs": [],
   "source": [
    "# gdf_PIXC.to_parquet(path=save_path + granule_name + '.parquet')"
   ]
  },
  {
   "cell_type": "markdown",
   "id": "858c7484-d355-4b2e-b0ce-3f33d5fdedff",
   "metadata": {},
   "source": [
    "### Read in segments"
   ]
  },
  {
   "cell_type": "code",
   "execution_count": 98,
   "id": "b7c9cb9a-d551-45ac-a1dd-239a86d63a02",
   "metadata": {},
   "outputs": [
    {
     "name": "stdout",
     "output_type": "stream",
     "text": [
      "NHDPLUS_H_0202_HU4_GDB\n",
      "read in\n",
      "NHDPLUS_H_0430_HU4_GDB\n",
      "read in\n"
     ]
    }
   ],
   "source": [
    "# Create merged dataframe of all basins intersected\n",
    "if len(indices) == 1:\n",
    "    # Read prepped NHD\n",
    "    segments, _, _ = readNHD(index=indices[0], segmented=True)\n",
    "else:\n",
    "    # Initialize lists\n",
    "    d = []\n",
    "    # Loop through indices and store in lists\n",
    "    for idx in indices:\n",
    "        # Read prepped NHD\n",
    "        segments, huc4, _ = readNHD(index=idx, segmented=True)\n",
    "        # Make column with HUC4 id\n",
    "        segments['huc4_long'] = huc4\n",
    "        segments['huc4'] = segments['huc4_long'].str[10:14]\n",
    "        # Rename segments to geometry\n",
    "        segments = segments.rename(columns={'segments': 'geometry'}).set_geometry('geometry')\n",
    "        # Append to list\n",
    "        d.append(segments)\n",
    "        \n",
    "    # Merge GeoDataFrames\n",
    "    segments = pd.concat(d)"
   ]
  },
  {
   "cell_type": "code",
   "execution_count": 55,
   "id": "67d8653c-139d-4b22-8086-66bf4f94f21e",
   "metadata": {},
   "outputs": [],
   "source": [
    "# # Cast objects to string type so they aren't dropped in groupby()\n",
    "# segments['Bin'] = segments['Bin'].astype('|S')\n",
    "# segments['GNIS_Name'] = segments['GNIS_Name'].astype(str).str.encode('utf-8', errors='replace').str.decode('utf-8')"
   ]
  },
  {
   "cell_type": "code",
   "execution_count": 56,
   "id": "62c671d0-f61d-433b-99de-eec37397e95e",
   "metadata": {},
   "outputs": [],
   "source": [
    "# segments['GNIS_Name'] = segments['GNIS_Name'].astype('|S')"
   ]
  },
  {
   "cell_type": "code",
   "execution_count": 99,
   "id": "a534f6b9-3e6e-4cec-92c5-8c5d56f5fd60",
   "metadata": {},
   "outputs": [],
   "source": [
    "# Project CRS (currently to WGS 84 / UTM zone 18N)\n",
    "segments = segments.to_crs(epsg='32618')"
   ]
  },
  {
   "cell_type": "code",
   "execution_count": 100,
   "id": "3dc9195a-211a-4b7b-b6b3-f1f672cbd55c",
   "metadata": {},
   "outputs": [],
   "source": [
    "segments = segments.reset_index().rename(columns={'index': 'index_old'})"
   ]
  },
  {
   "cell_type": "code",
   "execution_count": 101,
   "id": "932d1556-d32d-48cd-8d8a-f1a0525cf85e",
   "metadata": {},
   "outputs": [],
   "source": [
    "# Assign a unique counter within each index group\n",
    "segments['counter'] = segments.groupby('NHDPlusID').cumcount()"
   ]
  },
  {
   "cell_type": "code",
   "execution_count": 102,
   "id": "03797142-86ba-4750-bcf1-9143580b01cd",
   "metadata": {},
   "outputs": [],
   "source": [
    "# Keep only first ten segments (some reaches repeat)\n",
    "segments = segments[segments['counter'] < 10]\n",
    "\n",
    "# For HUC4_0109, 5000700035256 and 5000700072690"
   ]
  },
  {
   "cell_type": "code",
   "execution_count": 103,
   "id": "ff1ab870-8a1e-40f2-ac46-aaf7d26d3cb2",
   "metadata": {},
   "outputs": [],
   "source": [
    "segments_clip = segments.clip(pseudo_bounds)"
   ]
  },
  {
   "cell_type": "code",
   "execution_count": 104,
   "id": "3b7bbb49-83b0-4fdc-b0c8-e2dc41d3a8c5",
   "metadata": {},
   "outputs": [],
   "source": [
    "# Keep only reaches that are fully contained in PIXC granule\n",
    "segments_clip = segments_clip.groupby('NHDPlusID').filter(lambda x: len(x) == 10)"
   ]
  },
  {
   "cell_type": "code",
   "execution_count": 105,
   "id": "60f685a6-192f-4bc9-9825-b52f0309ee2c",
   "metadata": {},
   "outputs": [
    {
     "name": "stdout",
     "output_type": "stream",
     "text": [
      "6.392529010772705\n"
     ]
    }
   ],
   "source": [
    "# Buffer segments\n",
    "## PARALLELIZE\n",
    "start = time.time()\n",
    "segments_clip['buffer'] = segments_clip.parallel_apply(user_defined_function=specialBuffer,\n",
    "                                                         args=(width_col,\n",
    "                                                               'flat', False),\n",
    "                                                         axis=1)\n",
    "end = time.time()\n",
    "print(end - start)\n",
    "# segments_clip['buffered'] = segments_clip.buffer(distance=(segments_clip.WidthM/2), cap_style='flat')"
   ]
  },
  {
   "cell_type": "code",
   "execution_count": 110,
   "id": "c59edf28-3592-4420-8c5f-0d189b1bbb47",
   "metadata": {},
   "outputs": [],
   "source": [
    "segments_clip = segments_clip.set_geometry('buffer')"
   ]
  },
  {
   "cell_type": "code",
   "execution_count": 111,
   "id": "175df691-6f78-4743-9422-044a045be63b",
   "metadata": {},
   "outputs": [],
   "source": [
    "# Calculate segment area\n",
    "segments_clip['segment_area'] = segments_clip.geometry.area"
   ]
  },
  {
   "cell_type": "code",
   "execution_count": 67,
   "id": "348a07d9-66cd-4c01-8d0a-6b76b64f14ad",
   "metadata": {},
   "outputs": [],
   "source": [
    "# segments_clip.sort_values(['NHDPlusID', 'counter'])"
   ]
  },
  {
   "cell_type": "code",
   "execution_count": 68,
   "id": "70ef2988-130c-4dc4-b86e-703b01337044",
   "metadata": {},
   "outputs": [],
   "source": [
    "# segments_buff = segments_clip.geometry.buffer(distance=(segments_clip.WidthM/2), cap_style='flat')"
   ]
  },
  {
   "cell_type": "code",
   "execution_count": 69,
   "id": "86858ce8-2980-4900-a3df-8a617f7691e1",
   "metadata": {},
   "outputs": [],
   "source": [
    "# segment_bounds = segments_buff.bounds"
   ]
  },
  {
   "cell_type": "code",
   "execution_count": 70,
   "id": "fbed24f4-f2b7-4d5a-9e0c-5ffef26f5ef9",
   "metadata": {},
   "outputs": [],
   "source": [
    "# ## Clip the pseudo pixels to the bounds of the reach\n",
    "# pseudo_all = pseudo.union_all()"
   ]
  },
  {
   "cell_type": "code",
   "execution_count": 71,
   "id": "3818d284-dc74-42a0-a870-669ac2858cc5",
   "metadata": {},
   "outputs": [],
   "source": [
    "# fig, ax = plt.subplots(figsize=(8,8))\n",
    "# pseudo.plot(ax=ax, column='klass')\n",
    "# segments_clip.plot(ax=ax, color='k', alpha=0.6)\n",
    "# plt.xlim(824000, 826000)\n",
    "# plt.ylim(4741000, 4743000)"
   ]
  },
  {
   "cell_type": "code",
   "execution_count": 113,
   "id": "1fbd3f51-a117-41e8-89d4-395b8dba1dea",
   "metadata": {},
   "outputs": [],
   "source": [
    "# Copy geometry column as sjoin will discard it\n",
    "gdf_PIXC_clip['pseudo_geom'] = gdf_PIXC_clip.geometry"
   ]
  },
  {
   "cell_type": "code",
   "execution_count": 114,
   "id": "ec5c6340-d7c4-43e2-b0f5-fd158e1c5f33",
   "metadata": {},
   "outputs": [],
   "source": [
    "# Merge the segments and pseudo-puxels by intersection\n",
    "sj = gpd.sjoin(segments_clip, gdf_PIXC_clip, how='left', predicate='intersects')"
   ]
  },
  {
   "cell_type": "code",
   "execution_count": 115,
   "id": "6f9e5cbc-e442-446a-817a-6bb906375509",
   "metadata": {},
   "outputs": [],
   "source": [
    "sj = sj.drop(columns=['index_right', 'points', 'azimuth_index',\n",
    "                      'range_index', 'cross_track', 'pixel_area',\n",
    "                      'height', 'geoid', 'dlatitude_dphase',\n",
    "                      'dlongitude_dphase', 'dheight_dphase',\n",
    "                      'klass', 'latitude', 'longitude', ])"
   ]
  },
  {
   "cell_type": "code",
   "execution_count": 116,
   "id": "f48dcf6b-0694-4530-8210-b1f4e67503fb",
   "metadata": {},
   "outputs": [],
   "source": [
    "sj = sj.set_geometry('pseudo_geom')"
   ]
  },
  {
   "cell_type": "code",
   "execution_count": 117,
   "id": "3eb299f3-11fe-4a77-b980-74a147d91ed8",
   "metadata": {
    "tags": []
   },
   "outputs": [],
   "source": [
    "dissolved = sj.groupby('NHDPlusID', as_index=False).parallel_apply(user_defined_function=specialDissolve)"
   ]
  },
  {
   "cell_type": "code",
   "execution_count": 118,
   "id": "5f32fc46-db8a-4af3-b338-69916f89b970",
   "metadata": {},
   "outputs": [],
   "source": [
    "dissolved = dissolved.reset_index().drop(columns=['level_0', 'level_1'])"
   ]
  },
  {
   "cell_type": "code",
   "execution_count": 120,
   "id": "42128a0c-acec-4611-8015-00f019e040b3",
   "metadata": {},
   "outputs": [],
   "source": [
    "def specialClip(df):\n",
    "    '''\n",
    "    XXX\n",
    "    '''\n",
    "    left = gpd.GeoSeries(df.pseudo_geom)\n",
    "    right = gpd.GeoSeries(df.buffer)\n",
    "    pseudo_geom_clip = left.clip(right)\n",
    "    return pseudo_geom_clip"
   ]
  },
  {
   "cell_type": "code",
   "execution_count": 121,
   "id": "72aa0b69-3521-4503-832d-8466a12a41f6",
   "metadata": {},
   "outputs": [],
   "source": [
    "dissolved['pseudo_geom_clip'] = dissolved.parallel_apply(user_defined_function=specialClip,\n",
    "                                                         axis=1)"
   ]
  },
  {
   "cell_type": "code",
   "execution_count": 82,
   "id": "314344b3-7c33-469a-a342-87b04b897dc4",
   "metadata": {},
   "outputs": [],
   "source": [
    "# dissolved[dissolved['NHDPlusID'] == 10000900090399].pseudo_geom.plot(cmap='hsv')"
   ]
  },
  {
   "cell_type": "code",
   "execution_count": 122,
   "id": "29f5b63e-eb10-4d3e-b58a-a9e578306285",
   "metadata": {},
   "outputs": [],
   "source": [
    "# Calculate the pseudo-pixel area within each node\n",
    "dissolved['pseudo_area'] = dissolved.pseudo_geom_clip.area"
   ]
  },
  {
   "cell_type": "code",
   "execution_count": 123,
   "id": "c0764bd5-a82b-45a5-9075-73fda889aa00",
   "metadata": {},
   "outputs": [],
   "source": [
    "dissolved['coverage'] = dissolved.pseudo_area/dissolved.segment_area"
   ]
  },
  {
   "cell_type": "code",
   "execution_count": 124,
   "id": "e1322003-acaa-42b3-bb88-1058399bdc55",
   "metadata": {},
   "outputs": [],
   "source": [
    "dissolved_w_zero = dissolved.copy()"
   ]
  },
  {
   "cell_type": "code",
   "execution_count": 125,
   "id": "7ba267bf-a933-4d27-af5a-cd73331720db",
   "metadata": {},
   "outputs": [],
   "source": [
    "dissolved_w_zero['coverage'] = dissolved_w_zero['coverage'].fillna(0)"
   ]
  },
  {
   "cell_type": "code",
   "execution_count": null,
   "id": "3d98382a-9c53-4050-8e3e-6c63a97542c0",
   "metadata": {},
   "outputs": [],
   "source": [
    "# mask = sj.duplicated(subset=('NHDPlusID', 'counter'), keep=False)"
   ]
  },
  {
   "cell_type": "code",
   "execution_count": null,
   "id": "fe4f07ff-e725-4420-b583-85737a512d2c",
   "metadata": {},
   "outputs": [],
   "source": [
    "# sj[mask][['NHDPlusID', 'counter', 'overlap_area']]"
   ]
  },
  {
   "cell_type": "code",
   "execution_count": null,
   "id": "3ad592f5-79d5-4a12-bba6-9c25762128e5",
   "metadata": {},
   "outputs": [],
   "source": [
    "# dupe_mask = sj.duplicated(subset=['NHDPlusID', 'counter'], keep=False)"
   ]
  },
  {
   "cell_type": "code",
   "execution_count": null,
   "id": "d368e941-ae72-49c3-b72e-d6c43151aef1",
   "metadata": {},
   "outputs": [],
   "source": [
    "# sj[dupe_mask].segment_area"
   ]
  },
  {
   "cell_type": "code",
   "execution_count": null,
   "id": "20a49ae4-0d78-47eb-ba0f-7116ab3047d8",
   "metadata": {},
   "outputs": [],
   "source": [
    "# len(sj[dupe_mask].index.unique())"
   ]
  },
  {
   "cell_type": "code",
   "execution_count": null,
   "id": "9adee388-e6d8-4685-9c2f-8e99e60f691d",
   "metadata": {},
   "outputs": [],
   "source": [
    "# sj = sj.groupby(['NHDPlusID', 'counter'], as_index=False).sum('overlap_area')"
   ]
  },
  {
   "cell_type": "code",
   "execution_count": null,
   "id": "52a6101d-d8ba-4328-bceb-bed8f68c2ca5",
   "metadata": {},
   "outputs": [],
   "source": [
    "# sj.sort_values(by=['NHDPlusID', 'counter'])"
   ]
  },
  {
   "cell_type": "code",
   "execution_count": null,
   "id": "904c5ce9-3024-4a23-8f6d-db4f617c2ad8",
   "metadata": {},
   "outputs": [],
   "source": [
    "# sj['coverage'] = sj.overlap_area/sj.segment_area"
   ]
  },
  {
   "cell_type": "code",
   "execution_count": null,
   "id": "dcca7ac8-5939-4f86-ac57-70b82190532d",
   "metadata": {},
   "outputs": [],
   "source": [
    "# sj.sort_values(by=['NHDPlusID', 'counter'])"
   ]
  },
  {
   "cell_type": "code",
   "execution_count": null,
   "id": "35f592e3-7c73-4f54-b16f-084740260a7a",
   "metadata": {},
   "outputs": [],
   "source": [
    "# sj[sj['overlap_area'] > 0].sort_values(['index_old', 'counter'])"
   ]
  },
  {
   "cell_type": "code",
   "execution_count": 95,
   "id": "d924c5f3-6a9d-410e-867a-8b00a5d4a461",
   "metadata": {},
   "outputs": [],
   "source": [
    "# Merge back on Bin and GNIS_Name (dropped in groupby because they are objects)\n",
    "# dissolved = pd.merge(left=dissolved, right=basin[['NHDPlusID', 'Bin', 'GNIS_Name']], on='NHDPlusID', how='left')"
   ]
  },
  {
   "cell_type": "code",
   "execution_count": 102,
   "id": "782a2bdc-75e7-4dd4-9f2d-8f4924725b0c",
   "metadata": {},
   "outputs": [],
   "source": [
    "# dissolved = dissolved.rename(columns={'Bin_x': 'Bin', 'GNIS_Name_x': 'GNIS_Name'}).drop(columns=['Bin_y', 'GNIS_Name_y'])"
   ]
  },
  {
   "cell_type": "markdown",
   "id": "622bd27e-cf7c-4c1e-a7aa-b2ed4f32d675",
   "metadata": {},
   "source": [
    "### Do stats"
   ]
  },
  {
   "cell_type": "code",
   "execution_count": 126,
   "id": "ed1d559f-4dba-4724-bd78-75421e17e7a3",
   "metadata": {},
   "outputs": [],
   "source": [
    "bins = dissolved.Bin.unique()"
   ]
  },
  {
   "cell_type": "markdown",
   "id": "83913ffa-7a78-4c5a-8f5e-5aabce3065d4",
   "metadata": {},
   "source": [
    "#### Nodes"
   ]
  },
  {
   "cell_type": "code",
   "execution_count": 98,
   "id": "b699651d-51e1-47bf-bf38-882806cc97dc",
   "metadata": {},
   "outputs": [],
   "source": [
    "# nodes_mean = dissolved.groupby('Bin')['coverage'].mean().to_list()"
   ]
  },
  {
   "cell_type": "code",
   "execution_count": 99,
   "id": "61be76ec-18bd-447d-a476-9175eac8c75a",
   "metadata": {},
   "outputs": [],
   "source": [
    "# nodes_std = dissolved.groupby('Bin')['coverage'].std().to_list()"
   ]
  },
  {
   "cell_type": "code",
   "execution_count": 105,
   "id": "73c6f6ee-8278-4d45-9215-e12bff4ab82a",
   "metadata": {},
   "outputs": [],
   "source": [
    "# nodes_count = dissolved.groupby('Bin')['coverage'].count().to_list()"
   ]
  },
  {
   "cell_type": "code",
   "execution_count": 127,
   "id": "6d9f3e42-cb90-4d40-982b-65899569cf4c",
   "metadata": {},
   "outputs": [],
   "source": [
    "node_desc = dissolved.groupby('Bin')['coverage'].describe().reset_index()\n",
    "node_desc['with_zero'] = 0"
   ]
  },
  {
   "cell_type": "code",
   "execution_count": 128,
   "id": "c287272a-020f-4371-9911-e09a185a5877",
   "metadata": {},
   "outputs": [],
   "source": [
    "node_quant = pd.DataFrame(dissolved.groupby('Bin')['coverage'].quantile(q=[x / 100.0 for x in range(0,100,1)])).reset_index().rename(columns={'level_1': 'quantile'})\n",
    "node_quant['with_zero'] = 0"
   ]
  },
  {
   "cell_type": "code",
   "execution_count": 153,
   "id": "82c8e0d8-4826-4b33-9a0b-71fa25f19bb7",
   "metadata": {},
   "outputs": [],
   "source": [
    "# plt.errorbar(x=node_desc.Bin, y=node_desc['mean'], yerr=node_desc['std'])"
   ]
  },
  {
   "cell_type": "code",
   "execution_count": 106,
   "id": "13a74eb6-18c2-45dc-ac01-8357968e6d8d",
   "metadata": {},
   "outputs": [],
   "source": [
    "# d = {'mean': nodes_mean, 'std': nodes_std, 'count': nodes_count}"
   ]
  },
  {
   "cell_type": "code",
   "execution_count": 107,
   "id": "ae2fbeb6-5cf3-4463-92b7-d4cc4cb2bc6d",
   "metadata": {},
   "outputs": [],
   "source": [
    "# nodes = pd.DataFrame(data=d).T"
   ]
  },
  {
   "cell_type": "code",
   "execution_count": 108,
   "id": "43c14b32-7004-4e03-9f4e-0a6d64ee5e7e",
   "metadata": {},
   "outputs": [],
   "source": [
    "# nodes.columns = bins"
   ]
  },
  {
   "cell_type": "markdown",
   "id": "ae0dc733-8bd2-4f8d-9402-c42a92d20a6e",
   "metadata": {},
   "source": [
    "#### Nodes with zeros"
   ]
  },
  {
   "cell_type": "code",
   "execution_count": 129,
   "id": "3bf905c3-2880-4d87-8062-a64ddc3564b2",
   "metadata": {},
   "outputs": [
    {
     "data": {
      "text/html": [
       "<div>\n",
       "<style scoped>\n",
       "    .dataframe tbody tr th:only-of-type {\n",
       "        vertical-align: middle;\n",
       "    }\n",
       "\n",
       "    .dataframe tbody tr th {\n",
       "        vertical-align: top;\n",
       "    }\n",
       "\n",
       "    .dataframe thead th {\n",
       "        text-align: right;\n",
       "    }\n",
       "</style>\n",
       "<table border=\"1\" class=\"dataframe\">\n",
       "  <thead>\n",
       "    <tr style=\"text-align: right;\">\n",
       "      <th></th>\n",
       "      <th>Bin</th>\n",
       "      <th>count</th>\n",
       "      <th>mean</th>\n",
       "      <th>std</th>\n",
       "      <th>min</th>\n",
       "      <th>25%</th>\n",
       "      <th>50%</th>\n",
       "      <th>75%</th>\n",
       "      <th>max</th>\n",
       "      <th>with_zero</th>\n",
       "    </tr>\n",
       "  </thead>\n",
       "  <tbody>\n",
       "    <tr>\n",
       "      <th>0</th>\n",
       "      <td>(0, 10]</td>\n",
       "      <td>53440.0</td>\n",
       "      <td>0.040235</td>\n",
       "      <td>0.166289</td>\n",
       "      <td>0.0000</td>\n",
       "      <td>0.000000</td>\n",
       "      <td>0.000000</td>\n",
       "      <td>0.000000</td>\n",
       "      <td>1.000000</td>\n",
       "      <td>1</td>\n",
       "    </tr>\n",
       "    <tr>\n",
       "      <th>1</th>\n",
       "      <td>(10, 20]</td>\n",
       "      <td>5590.0</td>\n",
       "      <td>0.059441</td>\n",
       "      <td>0.179918</td>\n",
       "      <td>0.0000</td>\n",
       "      <td>0.000000</td>\n",
       "      <td>0.000000</td>\n",
       "      <td>0.000000</td>\n",
       "      <td>1.000000</td>\n",
       "      <td>1</td>\n",
       "    </tr>\n",
       "    <tr>\n",
       "      <th>2</th>\n",
       "      <td>(100, 150]</td>\n",
       "      <td>3430.0</td>\n",
       "      <td>0.289019</td>\n",
       "      <td>0.352858</td>\n",
       "      <td>0.0000</td>\n",
       "      <td>0.000000</td>\n",
       "      <td>0.035988</td>\n",
       "      <td>0.615996</td>\n",
       "      <td>0.985134</td>\n",
       "      <td>1</td>\n",
       "    </tr>\n",
       "    <tr>\n",
       "      <th>3</th>\n",
       "      <td>(150, 200]</td>\n",
       "      <td>530.0</td>\n",
       "      <td>0.288955</td>\n",
       "      <td>0.277612</td>\n",
       "      <td>0.0000</td>\n",
       "      <td>0.026549</td>\n",
       "      <td>0.209815</td>\n",
       "      <td>0.489319</td>\n",
       "      <td>0.903172</td>\n",
       "      <td>1</td>\n",
       "    </tr>\n",
       "    <tr>\n",
       "      <th>4</th>\n",
       "      <td>(20, 30]</td>\n",
       "      <td>1880.0</td>\n",
       "      <td>0.118453</td>\n",
       "      <td>0.269037</td>\n",
       "      <td>0.0000</td>\n",
       "      <td>0.000000</td>\n",
       "      <td>0.000000</td>\n",
       "      <td>0.015941</td>\n",
       "      <td>1.000000</td>\n",
       "      <td>1</td>\n",
       "    </tr>\n",
       "    <tr>\n",
       "      <th>5</th>\n",
       "      <td>(30, 40]</td>\n",
       "      <td>700.0</td>\n",
       "      <td>0.046481</td>\n",
       "      <td>0.163406</td>\n",
       "      <td>0.0000</td>\n",
       "      <td>0.000000</td>\n",
       "      <td>0.000000</td>\n",
       "      <td>0.000000</td>\n",
       "      <td>0.975981</td>\n",
       "      <td>1</td>\n",
       "    </tr>\n",
       "    <tr>\n",
       "      <th>6</th>\n",
       "      <td>(40, 50]</td>\n",
       "      <td>320.0</td>\n",
       "      <td>0.111567</td>\n",
       "      <td>0.199191</td>\n",
       "      <td>0.0000</td>\n",
       "      <td>0.000000</td>\n",
       "      <td>0.000000</td>\n",
       "      <td>0.148886</td>\n",
       "      <td>0.923407</td>\n",
       "      <td>1</td>\n",
       "    </tr>\n",
       "    <tr>\n",
       "      <th>7</th>\n",
       "      <td>(50, 60]</td>\n",
       "      <td>120.0</td>\n",
       "      <td>0.000000</td>\n",
       "      <td>0.000000</td>\n",
       "      <td>0.0000</td>\n",
       "      <td>0.000000</td>\n",
       "      <td>0.000000</td>\n",
       "      <td>0.000000</td>\n",
       "      <td>0.000000</td>\n",
       "      <td>1</td>\n",
       "    </tr>\n",
       "    <tr>\n",
       "      <th>8</th>\n",
       "      <td>(60, 70]</td>\n",
       "      <td>710.0</td>\n",
       "      <td>0.083975</td>\n",
       "      <td>0.208769</td>\n",
       "      <td>0.0000</td>\n",
       "      <td>0.000000</td>\n",
       "      <td>0.000000</td>\n",
       "      <td>0.000000</td>\n",
       "      <td>0.966461</td>\n",
       "      <td>1</td>\n",
       "    </tr>\n",
       "    <tr>\n",
       "      <th>9</th>\n",
       "      <td>(70, 80]</td>\n",
       "      <td>750.0</td>\n",
       "      <td>0.053269</td>\n",
       "      <td>0.207748</td>\n",
       "      <td>0.0000</td>\n",
       "      <td>0.000000</td>\n",
       "      <td>0.000000</td>\n",
       "      <td>0.000000</td>\n",
       "      <td>0.966420</td>\n",
       "      <td>1</td>\n",
       "    </tr>\n",
       "    <tr>\n",
       "      <th>10</th>\n",
       "      <td>(80, 90]</td>\n",
       "      <td>40.0</td>\n",
       "      <td>0.681836</td>\n",
       "      <td>0.159158</td>\n",
       "      <td>0.0626</td>\n",
       "      <td>0.607809</td>\n",
       "      <td>0.702833</td>\n",
       "      <td>0.780001</td>\n",
       "      <td>0.908236</td>\n",
       "      <td>1</td>\n",
       "    </tr>\n",
       "    <tr>\n",
       "      <th>11</th>\n",
       "      <td>(90, 100]</td>\n",
       "      <td>60.0</td>\n",
       "      <td>0.115402</td>\n",
       "      <td>0.196909</td>\n",
       "      <td>0.0000</td>\n",
       "      <td>0.000000</td>\n",
       "      <td>0.000000</td>\n",
       "      <td>0.215821</td>\n",
       "      <td>0.636137</td>\n",
       "      <td>1</td>\n",
       "    </tr>\n",
       "  </tbody>\n",
       "</table>\n",
       "</div>"
      ],
      "text/plain": [
       "           Bin    count      mean       std     min       25%       50%  \\\n",
       "0      (0, 10]  53440.0  0.040235  0.166289  0.0000  0.000000  0.000000   \n",
       "1     (10, 20]   5590.0  0.059441  0.179918  0.0000  0.000000  0.000000   \n",
       "2   (100, 150]   3430.0  0.289019  0.352858  0.0000  0.000000  0.035988   \n",
       "3   (150, 200]    530.0  0.288955  0.277612  0.0000  0.026549  0.209815   \n",
       "4     (20, 30]   1880.0  0.118453  0.269037  0.0000  0.000000  0.000000   \n",
       "5     (30, 40]    700.0  0.046481  0.163406  0.0000  0.000000  0.000000   \n",
       "6     (40, 50]    320.0  0.111567  0.199191  0.0000  0.000000  0.000000   \n",
       "7     (50, 60]    120.0  0.000000  0.000000  0.0000  0.000000  0.000000   \n",
       "8     (60, 70]    710.0  0.083975  0.208769  0.0000  0.000000  0.000000   \n",
       "9     (70, 80]    750.0  0.053269  0.207748  0.0000  0.000000  0.000000   \n",
       "10    (80, 90]     40.0  0.681836  0.159158  0.0626  0.607809  0.702833   \n",
       "11   (90, 100]     60.0  0.115402  0.196909  0.0000  0.000000  0.000000   \n",
       "\n",
       "         75%       max  with_zero  \n",
       "0   0.000000  1.000000          1  \n",
       "1   0.000000  1.000000          1  \n",
       "2   0.615996  0.985134          1  \n",
       "3   0.489319  0.903172          1  \n",
       "4   0.015941  1.000000          1  \n",
       "5   0.000000  0.975981          1  \n",
       "6   0.148886  0.923407          1  \n",
       "7   0.000000  0.000000          1  \n",
       "8   0.000000  0.966461          1  \n",
       "9   0.000000  0.966420          1  \n",
       "10  0.780001  0.908236          1  \n",
       "11  0.215821  0.636137          1  "
      ]
     },
     "execution_count": 129,
     "metadata": {},
     "output_type": "execute_result"
    }
   ],
   "source": [
    "node_desc_w_zero = dissolved_w_zero.groupby('Bin')['coverage'].describe().reset_index()\n",
    "node_desc_w_zero['with_zero'] = 1\n",
    "node_desc_w_zero"
   ]
  },
  {
   "cell_type": "code",
   "execution_count": 215,
   "id": "f0306925-89db-490e-a9ef-84aca3b43672",
   "metadata": {},
   "outputs": [
    {
     "data": {
      "text/html": [
       "<div>\n",
       "<style scoped>\n",
       "    .dataframe tbody tr th:only-of-type {\n",
       "        vertical-align: middle;\n",
       "    }\n",
       "\n",
       "    .dataframe tbody tr th {\n",
       "        vertical-align: top;\n",
       "    }\n",
       "\n",
       "    .dataframe thead th {\n",
       "        text-align: right;\n",
       "    }\n",
       "</style>\n",
       "<table border=\"1\" class=\"dataframe\">\n",
       "  <thead>\n",
       "    <tr style=\"text-align: right;\">\n",
       "      <th></th>\n",
       "      <th>Bin</th>\n",
       "      <th>quantile</th>\n",
       "      <th>coverage</th>\n",
       "      <th>with_zeros</th>\n",
       "    </tr>\n",
       "  </thead>\n",
       "  <tbody>\n",
       "    <tr>\n",
       "      <th>0</th>\n",
       "      <td>(0, 10]</td>\n",
       "      <td>0.00</td>\n",
       "      <td>0.000000</td>\n",
       "      <td>1</td>\n",
       "    </tr>\n",
       "    <tr>\n",
       "      <th>1</th>\n",
       "      <td>(0, 10]</td>\n",
       "      <td>0.01</td>\n",
       "      <td>0.000000</td>\n",
       "      <td>1</td>\n",
       "    </tr>\n",
       "    <tr>\n",
       "      <th>2</th>\n",
       "      <td>(0, 10]</td>\n",
       "      <td>0.02</td>\n",
       "      <td>0.000000</td>\n",
       "      <td>1</td>\n",
       "    </tr>\n",
       "    <tr>\n",
       "      <th>3</th>\n",
       "      <td>(0, 10]</td>\n",
       "      <td>0.03</td>\n",
       "      <td>0.000000</td>\n",
       "      <td>1</td>\n",
       "    </tr>\n",
       "    <tr>\n",
       "      <th>4</th>\n",
       "      <td>(0, 10]</td>\n",
       "      <td>0.04</td>\n",
       "      <td>0.000000</td>\n",
       "      <td>1</td>\n",
       "    </tr>\n",
       "    <tr>\n",
       "      <th>...</th>\n",
       "      <td>...</td>\n",
       "      <td>...</td>\n",
       "      <td>...</td>\n",
       "      <td>...</td>\n",
       "    </tr>\n",
       "    <tr>\n",
       "      <th>895</th>\n",
       "      <td>(60, 70]</td>\n",
       "      <td>0.95</td>\n",
       "      <td>0.989875</td>\n",
       "      <td>1</td>\n",
       "    </tr>\n",
       "    <tr>\n",
       "      <th>896</th>\n",
       "      <td>(60, 70]</td>\n",
       "      <td>0.96</td>\n",
       "      <td>0.992942</td>\n",
       "      <td>1</td>\n",
       "    </tr>\n",
       "    <tr>\n",
       "      <th>897</th>\n",
       "      <td>(60, 70]</td>\n",
       "      <td>0.97</td>\n",
       "      <td>0.997144</td>\n",
       "      <td>1</td>\n",
       "    </tr>\n",
       "    <tr>\n",
       "      <th>898</th>\n",
       "      <td>(60, 70]</td>\n",
       "      <td>0.98</td>\n",
       "      <td>0.999938</td>\n",
       "      <td>1</td>\n",
       "    </tr>\n",
       "    <tr>\n",
       "      <th>899</th>\n",
       "      <td>(60, 70]</td>\n",
       "      <td>0.99</td>\n",
       "      <td>1.000000</td>\n",
       "      <td>1</td>\n",
       "    </tr>\n",
       "  </tbody>\n",
       "</table>\n",
       "<p>900 rows × 4 columns</p>\n",
       "</div>"
      ],
      "text/plain": [
       "          Bin  quantile  coverage  with_zeros\n",
       "0     (0, 10]      0.00  0.000000           1\n",
       "1     (0, 10]      0.01  0.000000           1\n",
       "2     (0, 10]      0.02  0.000000           1\n",
       "3     (0, 10]      0.03  0.000000           1\n",
       "4     (0, 10]      0.04  0.000000           1\n",
       "..        ...       ...       ...         ...\n",
       "895  (60, 70]      0.95  0.989875           1\n",
       "896  (60, 70]      0.96  0.992942           1\n",
       "897  (60, 70]      0.97  0.997144           1\n",
       "898  (60, 70]      0.98  0.999938           1\n",
       "899  (60, 70]      0.99  1.000000           1\n",
       "\n",
       "[900 rows x 4 columns]"
      ]
     },
     "execution_count": 215,
     "metadata": {},
     "output_type": "execute_result"
    }
   ],
   "source": [
    "node_quant_w_zero = pd.DataFrame(dissolved_w_zero.groupby('Bin')['coverage'].quantile(q=[x / 100.0 for x in range(0,100,1)])).reset_index().rename(columns={'level_1': 'quantile'})\n",
    "node_quant_w_zero['with_zero'] = 1\n",
    "node_quant_w_zero"
   ]
  },
  {
   "cell_type": "markdown",
   "id": "b9b2b467-5cc8-4d40-94ba-17d3de0807fc",
   "metadata": {},
   "source": [
    "#### Reaches"
   ]
  },
  {
   "cell_type": "code",
   "execution_count": 216,
   "id": "e9acee56-ba8a-41a6-9ea4-f72870fa8159",
   "metadata": {},
   "outputs": [],
   "source": [
    "d = {}\n",
    "d_q = {}\n",
    "for i in range(1, 10):\n",
    "    threshold = i/10\n",
    "    \n",
    "    detected = dissolved.groupby(['Bin', 'NHDPlusID'])['coverage'].apply(lambda x: (x > threshold).sum()) / 10\n",
    "\n",
    "    reach = detected.groupby('Bin').describe()#.to_list()\n",
    "    reach_q = detected.groupby('Bin').quantile(q=[x / 100.0 for x in range(0,100,1)]).reset_index()\n",
    "    \n",
    "    d[threshold] = reach\n",
    "    d_q[threshold] = reach_q"
   ]
  },
  {
   "cell_type": "code",
   "execution_count": 217,
   "id": "f4a9a984-1d84-446d-8c84-395d0e91fa47",
   "metadata": {},
   "outputs": [],
   "source": [
    "# Add a column for each DataFrame indicating the key\n",
    "for threshold, data in d.items():\n",
    "    data['threshold'] = threshold\n",
    "    \n",
    "for threshold, data in d_q.items():\n",
    "    data['threshold'] = threshold"
   ]
  },
  {
   "cell_type": "code",
   "execution_count": 218,
   "id": "c540f758-4134-41e5-8248-60919814fcc1",
   "metadata": {},
   "outputs": [],
   "source": [
    "# Concatenate all DataFrames into one\n",
    "reaches_desc = pd.concat(d.values())\n",
    "\n",
    "reaches_quant = pd.concat(d_q.values()).rename(columns={'level_1': 'quantile'})"
   ]
  },
  {
   "cell_type": "code",
   "execution_count": 219,
   "id": "8cdc70fc-b719-4eb6-addb-853674d93fe0",
   "metadata": {},
   "outputs": [
    {
     "data": {
      "text/html": [
       "<div>\n",
       "<style scoped>\n",
       "    .dataframe tbody tr th:only-of-type {\n",
       "        vertical-align: middle;\n",
       "    }\n",
       "\n",
       "    .dataframe tbody tr th {\n",
       "        vertical-align: top;\n",
       "    }\n",
       "\n",
       "    .dataframe thead th {\n",
       "        text-align: right;\n",
       "    }\n",
       "</style>\n",
       "<table border=\"1\" class=\"dataframe\">\n",
       "  <thead>\n",
       "    <tr style=\"text-align: right;\">\n",
       "      <th></th>\n",
       "      <th>Bin</th>\n",
       "      <th>quantile</th>\n",
       "      <th>coverage</th>\n",
       "      <th>threshold</th>\n",
       "    </tr>\n",
       "  </thead>\n",
       "  <tbody>\n",
       "    <tr>\n",
       "      <th>0</th>\n",
       "      <td>(0, 10]</td>\n",
       "      <td>0.00</td>\n",
       "      <td>0.000</td>\n",
       "      <td>0.1</td>\n",
       "    </tr>\n",
       "    <tr>\n",
       "      <th>1</th>\n",
       "      <td>(0, 10]</td>\n",
       "      <td>0.01</td>\n",
       "      <td>0.000</td>\n",
       "      <td>0.1</td>\n",
       "    </tr>\n",
       "    <tr>\n",
       "      <th>2</th>\n",
       "      <td>(0, 10]</td>\n",
       "      <td>0.02</td>\n",
       "      <td>0.000</td>\n",
       "      <td>0.1</td>\n",
       "    </tr>\n",
       "    <tr>\n",
       "      <th>3</th>\n",
       "      <td>(0, 10]</td>\n",
       "      <td>0.03</td>\n",
       "      <td>0.000</td>\n",
       "      <td>0.1</td>\n",
       "    </tr>\n",
       "    <tr>\n",
       "      <th>4</th>\n",
       "      <td>(0, 10]</td>\n",
       "      <td>0.04</td>\n",
       "      <td>0.000</td>\n",
       "      <td>0.1</td>\n",
       "    </tr>\n",
       "    <tr>\n",
       "      <th>...</th>\n",
       "      <td>...</td>\n",
       "      <td>...</td>\n",
       "      <td>...</td>\n",
       "      <td>...</td>\n",
       "    </tr>\n",
       "    <tr>\n",
       "      <th>895</th>\n",
       "      <td>(60, 70]</td>\n",
       "      <td>0.95</td>\n",
       "      <td>0.800</td>\n",
       "      <td>0.9</td>\n",
       "    </tr>\n",
       "    <tr>\n",
       "      <th>896</th>\n",
       "      <td>(60, 70]</td>\n",
       "      <td>0.96</td>\n",
       "      <td>0.912</td>\n",
       "      <td>0.9</td>\n",
       "    </tr>\n",
       "    <tr>\n",
       "      <th>897</th>\n",
       "      <td>(60, 70]</td>\n",
       "      <td>0.97</td>\n",
       "      <td>1.000</td>\n",
       "      <td>0.9</td>\n",
       "    </tr>\n",
       "    <tr>\n",
       "      <th>898</th>\n",
       "      <td>(60, 70]</td>\n",
       "      <td>0.98</td>\n",
       "      <td>1.000</td>\n",
       "      <td>0.9</td>\n",
       "    </tr>\n",
       "    <tr>\n",
       "      <th>899</th>\n",
       "      <td>(60, 70]</td>\n",
       "      <td>0.99</td>\n",
       "      <td>1.000</td>\n",
       "      <td>0.9</td>\n",
       "    </tr>\n",
       "  </tbody>\n",
       "</table>\n",
       "<p>8100 rows × 4 columns</p>\n",
       "</div>"
      ],
      "text/plain": [
       "          Bin  quantile  coverage  threshold\n",
       "0     (0, 10]      0.00     0.000        0.1\n",
       "1     (0, 10]      0.01     0.000        0.1\n",
       "2     (0, 10]      0.02     0.000        0.1\n",
       "3     (0, 10]      0.03     0.000        0.1\n",
       "4     (0, 10]      0.04     0.000        0.1\n",
       "..        ...       ...       ...        ...\n",
       "895  (60, 70]      0.95     0.800        0.9\n",
       "896  (60, 70]      0.96     0.912        0.9\n",
       "897  (60, 70]      0.97     1.000        0.9\n",
       "898  (60, 70]      0.98     1.000        0.9\n",
       "899  (60, 70]      0.99     1.000        0.9\n",
       "\n",
       "[8100 rows x 4 columns]"
      ]
     },
     "execution_count": 219,
     "metadata": {},
     "output_type": "execute_result"
    }
   ],
   "source": [
    "reaches_quant"
   ]
  },
  {
   "cell_type": "code",
   "execution_count": 175,
   "id": "d127d092-07e4-4272-8b9c-97046bdbe771",
   "metadata": {},
   "outputs": [],
   "source": [
    "# reaches = pd.DataFrame(data=d).T"
   ]
  },
  {
   "cell_type": "code",
   "execution_count": 184,
   "id": "a265330f-6724-4107-a18f-a48f88e3526c",
   "metadata": {},
   "outputs": [],
   "source": [
    "# reaches.columns = bins"
   ]
  },
  {
   "cell_type": "markdown",
   "id": "57eb3443-462c-4f0f-a55e-f0251d195d94",
   "metadata": {},
   "source": [
    "### Write out"
   ]
  },
  {
   "cell_type": "code",
   "execution_count": null,
   "id": "095ea3be-4f04-441d-917a-bc9633d07816",
   "metadata": {},
   "outputs": [],
   "source": [
    "save_path = os.path.join('/nas/cee-water/cjgleason/fiona/narrow_rivers_PIXC_data/', 'PIXC_v2_0_HUC2_01')"
   ]
  },
  {
   "cell_type": "code",
   "execution_count": 221,
   "id": "afe97f05-8afd-4dac-959c-956a6c336e1c",
   "metadata": {},
   "outputs": [
    {
     "data": {
      "text/html": [
       "<div>\n",
       "<style scoped>\n",
       "    .dataframe tbody tr th:only-of-type {\n",
       "        vertical-align: middle;\n",
       "    }\n",
       "\n",
       "    .dataframe tbody tr th {\n",
       "        vertical-align: top;\n",
       "    }\n",
       "\n",
       "    .dataframe thead th {\n",
       "        text-align: right;\n",
       "    }\n",
       "</style>\n",
       "<table border=\"1\" class=\"dataframe\">\n",
       "  <thead>\n",
       "    <tr style=\"text-align: right;\">\n",
       "      <th></th>\n",
       "      <th>Bin</th>\n",
       "      <th>count</th>\n",
       "      <th>mean</th>\n",
       "      <th>std</th>\n",
       "      <th>min</th>\n",
       "      <th>25%</th>\n",
       "      <th>50%</th>\n",
       "      <th>75%</th>\n",
       "      <th>max</th>\n",
       "      <th>with_zeros</th>\n",
       "    </tr>\n",
       "  </thead>\n",
       "  <tbody>\n",
       "    <tr>\n",
       "      <th>0</th>\n",
       "      <td>(0, 10]</td>\n",
       "      <td>8316.0</td>\n",
       "      <td>0.525414</td>\n",
       "      <td>0.378327</td>\n",
       "      <td>1.724403e-07</td>\n",
       "      <td>0.160617</td>\n",
       "      <td>0.464608</td>\n",
       "      <td>0.999745</td>\n",
       "      <td>1.000000</td>\n",
       "      <td>0</td>\n",
       "    </tr>\n",
       "    <tr>\n",
       "      <th>1</th>\n",
       "      <td>(10, 20]</td>\n",
       "      <td>1720.0</td>\n",
       "      <td>0.525567</td>\n",
       "      <td>0.354701</td>\n",
       "      <td>4.884105e-07</td>\n",
       "      <td>0.167442</td>\n",
       "      <td>0.530201</td>\n",
       "      <td>0.879635</td>\n",
       "      <td>1.000000</td>\n",
       "      <td>0</td>\n",
       "    </tr>\n",
       "    <tr>\n",
       "      <th>2</th>\n",
       "      <td>(150, 200]</td>\n",
       "      <td>770.0</td>\n",
       "      <td>0.664324</td>\n",
       "      <td>0.254113</td>\n",
       "      <td>7.181689e-04</td>\n",
       "      <td>0.506618</td>\n",
       "      <td>0.734146</td>\n",
       "      <td>0.877187</td>\n",
       "      <td>0.992291</td>\n",
       "      <td>0</td>\n",
       "    </tr>\n",
       "    <tr>\n",
       "      <th>3</th>\n",
       "      <td>(20, 30]</td>\n",
       "      <td>938.0</td>\n",
       "      <td>0.639324</td>\n",
       "      <td>0.310956</td>\n",
       "      <td>8.823649e-05</td>\n",
       "      <td>0.382331</td>\n",
       "      <td>0.718682</td>\n",
       "      <td>0.917814</td>\n",
       "      <td>1.000000</td>\n",
       "      <td>0</td>\n",
       "    </tr>\n",
       "    <tr>\n",
       "      <th>4</th>\n",
       "      <td>(200, 500]</td>\n",
       "      <td>15.0</td>\n",
       "      <td>0.615063</td>\n",
       "      <td>0.231852</td>\n",
       "      <td>1.785946e-03</td>\n",
       "      <td>0.473321</td>\n",
       "      <td>0.675602</td>\n",
       "      <td>0.787632</td>\n",
       "      <td>0.878283</td>\n",
       "      <td>0</td>\n",
       "    </tr>\n",
       "    <tr>\n",
       "      <th>5</th>\n",
       "      <td>(30, 40]</td>\n",
       "      <td>620.0</td>\n",
       "      <td>0.478617</td>\n",
       "      <td>0.270736</td>\n",
       "      <td>4.086880e-06</td>\n",
       "      <td>0.258722</td>\n",
       "      <td>0.505946</td>\n",
       "      <td>0.682432</td>\n",
       "      <td>1.000000</td>\n",
       "      <td>0</td>\n",
       "    </tr>\n",
       "    <tr>\n",
       "      <th>6</th>\n",
       "      <td>(40, 50]</td>\n",
       "      <td>244.0</td>\n",
       "      <td>0.447759</td>\n",
       "      <td>0.286220</td>\n",
       "      <td>1.965358e-04</td>\n",
       "      <td>0.172138</td>\n",
       "      <td>0.465598</td>\n",
       "      <td>0.708916</td>\n",
       "      <td>0.940310</td>\n",
       "      <td>0</td>\n",
       "    </tr>\n",
       "    <tr>\n",
       "      <th>7</th>\n",
       "      <td>(50, 60]</td>\n",
       "      <td>497.0</td>\n",
       "      <td>0.705233</td>\n",
       "      <td>0.256108</td>\n",
       "      <td>2.652534e-03</td>\n",
       "      <td>0.590697</td>\n",
       "      <td>0.768183</td>\n",
       "      <td>0.904054</td>\n",
       "      <td>1.000000</td>\n",
       "      <td>0</td>\n",
       "    </tr>\n",
       "    <tr>\n",
       "      <th>8</th>\n",
       "      <td>(60, 70]</td>\n",
       "      <td>417.0</td>\n",
       "      <td>0.653624</td>\n",
       "      <td>0.322674</td>\n",
       "      <td>6.189416e-04</td>\n",
       "      <td>0.362340</td>\n",
       "      <td>0.791855</td>\n",
       "      <td>0.929824</td>\n",
       "      <td>1.000000</td>\n",
       "      <td>0</td>\n",
       "    </tr>\n",
       "    <tr>\n",
       "      <th>9</th>\n",
       "      <td>(0, 10]</td>\n",
       "      <td>64630.0</td>\n",
       "      <td>0.067606</td>\n",
       "      <td>0.222184</td>\n",
       "      <td>0.000000e+00</td>\n",
       "      <td>0.000000</td>\n",
       "      <td>0.000000</td>\n",
       "      <td>0.000000</td>\n",
       "      <td>1.000000</td>\n",
       "      <td>1</td>\n",
       "    </tr>\n",
       "    <tr>\n",
       "      <th>10</th>\n",
       "      <td>(10, 20]</td>\n",
       "      <td>6780.0</td>\n",
       "      <td>0.133330</td>\n",
       "      <td>0.290186</td>\n",
       "      <td>0.000000e+00</td>\n",
       "      <td>0.000000</td>\n",
       "      <td>0.000000</td>\n",
       "      <td>0.001437</td>\n",
       "      <td>1.000000</td>\n",
       "      <td>1</td>\n",
       "    </tr>\n",
       "    <tr>\n",
       "      <th>11</th>\n",
       "      <td>(150, 200]</td>\n",
       "      <td>910.0</td>\n",
       "      <td>0.562121</td>\n",
       "      <td>0.334876</td>\n",
       "      <td>0.000000e+00</td>\n",
       "      <td>0.286374</td>\n",
       "      <td>0.668664</td>\n",
       "      <td>0.860542</td>\n",
       "      <td>0.992291</td>\n",
       "      <td>1</td>\n",
       "    </tr>\n",
       "    <tr>\n",
       "      <th>12</th>\n",
       "      <td>(20, 30]</td>\n",
       "      <td>1940.0</td>\n",
       "      <td>0.309116</td>\n",
       "      <td>0.385813</td>\n",
       "      <td>0.000000e+00</td>\n",
       "      <td>0.000000</td>\n",
       "      <td>0.000000</td>\n",
       "      <td>0.691705</td>\n",
       "      <td>1.000000</td>\n",
       "      <td>1</td>\n",
       "    </tr>\n",
       "    <tr>\n",
       "      <th>13</th>\n",
       "      <td>(200, 500]</td>\n",
       "      <td>30.0</td>\n",
       "      <td>0.307532</td>\n",
       "      <td>0.351835</td>\n",
       "      <td>0.000000e+00</td>\n",
       "      <td>0.000000</td>\n",
       "      <td>0.000893</td>\n",
       "      <td>0.664905</td>\n",
       "      <td>0.878283</td>\n",
       "      <td>1</td>\n",
       "    </tr>\n",
       "    <tr>\n",
       "      <th>14</th>\n",
       "      <td>(30, 40]</td>\n",
       "      <td>1460.0</td>\n",
       "      <td>0.203248</td>\n",
       "      <td>0.295134</td>\n",
       "      <td>0.000000e+00</td>\n",
       "      <td>0.000000</td>\n",
       "      <td>0.000000</td>\n",
       "      <td>0.435641</td>\n",
       "      <td>1.000000</td>\n",
       "      <td>1</td>\n",
       "    </tr>\n",
       "    <tr>\n",
       "      <th>15</th>\n",
       "      <td>(40, 50]</td>\n",
       "      <td>530.0</td>\n",
       "      <td>0.206138</td>\n",
       "      <td>0.295860</td>\n",
       "      <td>0.000000e+00</td>\n",
       "      <td>0.000000</td>\n",
       "      <td>0.000000</td>\n",
       "      <td>0.420731</td>\n",
       "      <td>0.940310</td>\n",
       "      <td>1</td>\n",
       "    </tr>\n",
       "    <tr>\n",
       "      <th>16</th>\n",
       "      <td>(50, 60]</td>\n",
       "      <td>1070.0</td>\n",
       "      <td>0.327571</td>\n",
       "      <td>0.392760</td>\n",
       "      <td>0.000000e+00</td>\n",
       "      <td>0.000000</td>\n",
       "      <td>0.000000</td>\n",
       "      <td>0.747004</td>\n",
       "      <td>1.000000</td>\n",
       "      <td>1</td>\n",
       "    </tr>\n",
       "    <tr>\n",
       "      <th>17</th>\n",
       "      <td>(60, 70]</td>\n",
       "      <td>620.0</td>\n",
       "      <td>0.439615</td>\n",
       "      <td>0.405224</td>\n",
       "      <td>0.000000e+00</td>\n",
       "      <td>0.000000</td>\n",
       "      <td>0.376004</td>\n",
       "      <td>0.876160</td>\n",
       "      <td>1.000000</td>\n",
       "      <td>1</td>\n",
       "    </tr>\n",
       "  </tbody>\n",
       "</table>\n",
       "</div>"
      ],
      "text/plain": [
       "           Bin    count      mean       std           min       25%       50%  \\\n",
       "0      (0, 10]   8316.0  0.525414  0.378327  1.724403e-07  0.160617  0.464608   \n",
       "1     (10, 20]   1720.0  0.525567  0.354701  4.884105e-07  0.167442  0.530201   \n",
       "2   (150, 200]    770.0  0.664324  0.254113  7.181689e-04  0.506618  0.734146   \n",
       "3     (20, 30]    938.0  0.639324  0.310956  8.823649e-05  0.382331  0.718682   \n",
       "4   (200, 500]     15.0  0.615063  0.231852  1.785946e-03  0.473321  0.675602   \n",
       "5     (30, 40]    620.0  0.478617  0.270736  4.086880e-06  0.258722  0.505946   \n",
       "6     (40, 50]    244.0  0.447759  0.286220  1.965358e-04  0.172138  0.465598   \n",
       "7     (50, 60]    497.0  0.705233  0.256108  2.652534e-03  0.590697  0.768183   \n",
       "8     (60, 70]    417.0  0.653624  0.322674  6.189416e-04  0.362340  0.791855   \n",
       "9      (0, 10]  64630.0  0.067606  0.222184  0.000000e+00  0.000000  0.000000   \n",
       "10    (10, 20]   6780.0  0.133330  0.290186  0.000000e+00  0.000000  0.000000   \n",
       "11  (150, 200]    910.0  0.562121  0.334876  0.000000e+00  0.286374  0.668664   \n",
       "12    (20, 30]   1940.0  0.309116  0.385813  0.000000e+00  0.000000  0.000000   \n",
       "13  (200, 500]     30.0  0.307532  0.351835  0.000000e+00  0.000000  0.000893   \n",
       "14    (30, 40]   1460.0  0.203248  0.295134  0.000000e+00  0.000000  0.000000   \n",
       "15    (40, 50]    530.0  0.206138  0.295860  0.000000e+00  0.000000  0.000000   \n",
       "16    (50, 60]   1070.0  0.327571  0.392760  0.000000e+00  0.000000  0.000000   \n",
       "17    (60, 70]    620.0  0.439615  0.405224  0.000000e+00  0.000000  0.376004   \n",
       "\n",
       "         75%       max  with_zeros  \n",
       "0   0.999745  1.000000           0  \n",
       "1   0.879635  1.000000           0  \n",
       "2   0.877187  0.992291           0  \n",
       "3   0.917814  1.000000           0  \n",
       "4   0.787632  0.878283           0  \n",
       "5   0.682432  1.000000           0  \n",
       "6   0.708916  0.940310           0  \n",
       "7   0.904054  1.000000           0  \n",
       "8   0.929824  1.000000           0  \n",
       "9   0.000000  1.000000           1  \n",
       "10  0.001437  1.000000           1  \n",
       "11  0.860542  0.992291           1  \n",
       "12  0.691705  1.000000           1  \n",
       "13  0.664905  0.878283           1  \n",
       "14  0.435641  1.000000           1  \n",
       "15  0.420731  0.940310           1  \n",
       "16  0.747004  1.000000           1  \n",
       "17  0.876160  1.000000           1  "
      ]
     },
     "execution_count": 221,
     "metadata": {},
     "output_type": "execute_result"
    }
   ],
   "source": [
    "# Combine node_desc\n",
    "node_desc_both = pd.concat([node_desc, node_desc_w_zero], ignore_index=True)\n",
    "node_desc_both"
   ]
  },
  {
   "cell_type": "code",
   "execution_count": 224,
   "id": "21d6bcf5-d411-4a8b-a0dd-ce2c4bc7d739",
   "metadata": {},
   "outputs": [
    {
     "data": {
      "text/html": [
       "<div>\n",
       "<style scoped>\n",
       "    .dataframe tbody tr th:only-of-type {\n",
       "        vertical-align: middle;\n",
       "    }\n",
       "\n",
       "    .dataframe tbody tr th {\n",
       "        vertical-align: top;\n",
       "    }\n",
       "\n",
       "    .dataframe thead th {\n",
       "        text-align: right;\n",
       "    }\n",
       "</style>\n",
       "<table border=\"1\" class=\"dataframe\">\n",
       "  <thead>\n",
       "    <tr style=\"text-align: right;\">\n",
       "      <th></th>\n",
       "      <th>Bin</th>\n",
       "      <th>quantile</th>\n",
       "      <th>coverage</th>\n",
       "      <th>with_zeros</th>\n",
       "    </tr>\n",
       "  </thead>\n",
       "  <tbody>\n",
       "    <tr>\n",
       "      <th>0</th>\n",
       "      <td>(0, 10]</td>\n",
       "      <td>0.00</td>\n",
       "      <td>1.724403e-07</td>\n",
       "      <td>0</td>\n",
       "    </tr>\n",
       "    <tr>\n",
       "      <th>1</th>\n",
       "      <td>(0, 10]</td>\n",
       "      <td>0.01</td>\n",
       "      <td>6.799768e-04</td>\n",
       "      <td>0</td>\n",
       "    </tr>\n",
       "    <tr>\n",
       "      <th>2</th>\n",
       "      <td>(0, 10]</td>\n",
       "      <td>0.02</td>\n",
       "      <td>2.507470e-03</td>\n",
       "      <td>0</td>\n",
       "    </tr>\n",
       "    <tr>\n",
       "      <th>3</th>\n",
       "      <td>(0, 10]</td>\n",
       "      <td>0.03</td>\n",
       "      <td>5.758259e-03</td>\n",
       "      <td>0</td>\n",
       "    </tr>\n",
       "    <tr>\n",
       "      <th>4</th>\n",
       "      <td>(0, 10]</td>\n",
       "      <td>0.04</td>\n",
       "      <td>9.941229e-03</td>\n",
       "      <td>0</td>\n",
       "    </tr>\n",
       "    <tr>\n",
       "      <th>...</th>\n",
       "      <td>...</td>\n",
       "      <td>...</td>\n",
       "      <td>...</td>\n",
       "      <td>...</td>\n",
       "    </tr>\n",
       "    <tr>\n",
       "      <th>1795</th>\n",
       "      <td>(60, 70]</td>\n",
       "      <td>0.95</td>\n",
       "      <td>9.898752e-01</td>\n",
       "      <td>1</td>\n",
       "    </tr>\n",
       "    <tr>\n",
       "      <th>1796</th>\n",
       "      <td>(60, 70]</td>\n",
       "      <td>0.96</td>\n",
       "      <td>9.929422e-01</td>\n",
       "      <td>1</td>\n",
       "    </tr>\n",
       "    <tr>\n",
       "      <th>1797</th>\n",
       "      <td>(60, 70]</td>\n",
       "      <td>0.97</td>\n",
       "      <td>9.971435e-01</td>\n",
       "      <td>1</td>\n",
       "    </tr>\n",
       "    <tr>\n",
       "      <th>1798</th>\n",
       "      <td>(60, 70]</td>\n",
       "      <td>0.98</td>\n",
       "      <td>9.999383e-01</td>\n",
       "      <td>1</td>\n",
       "    </tr>\n",
       "    <tr>\n",
       "      <th>1799</th>\n",
       "      <td>(60, 70]</td>\n",
       "      <td>0.99</td>\n",
       "      <td>1.000000e+00</td>\n",
       "      <td>1</td>\n",
       "    </tr>\n",
       "  </tbody>\n",
       "</table>\n",
       "<p>1800 rows × 4 columns</p>\n",
       "</div>"
      ],
      "text/plain": [
       "           Bin  quantile      coverage  with_zeros\n",
       "0      (0, 10]      0.00  1.724403e-07           0\n",
       "1      (0, 10]      0.01  6.799768e-04           0\n",
       "2      (0, 10]      0.02  2.507470e-03           0\n",
       "3      (0, 10]      0.03  5.758259e-03           0\n",
       "4      (0, 10]      0.04  9.941229e-03           0\n",
       "...        ...       ...           ...         ...\n",
       "1795  (60, 70]      0.95  9.898752e-01           1\n",
       "1796  (60, 70]      0.96  9.929422e-01           1\n",
       "1797  (60, 70]      0.97  9.971435e-01           1\n",
       "1798  (60, 70]      0.98  9.999383e-01           1\n",
       "1799  (60, 70]      0.99  1.000000e+00           1\n",
       "\n",
       "[1800 rows x 4 columns]"
      ]
     },
     "execution_count": 224,
     "metadata": {},
     "output_type": "execute_result"
    }
   ],
   "source": [
    "# Combine node_quant\n",
    "node_quant_both = pd.concat([node_quant, node_quant_w_zero], ignore_index=True)\n",
    "node_quant_both"
   ]
  },
  {
   "cell_type": "code",
   "execution_count": 220,
   "id": "6f17958c-cce3-40bd-8d0d-0425d3ada6ed",
   "metadata": {},
   "outputs": [],
   "source": [
    "# nodes_desc_both.to_csv(os.path.join(save_path, granule_name + '_nodes_describe.csv'))\n",
    "# nodes_quant_both.to_csv(os.path.join(save_path, granule_name + '_nodes_quantile.csv'))"
   ]
  },
  {
   "cell_type": "code",
   "execution_count": null,
   "id": "1126eceb-0e67-40d0-a68a-116aabc4f41f",
   "metadata": {},
   "outputs": [],
   "source": [
    "# reaches_desc.to_csv(os.path.join(save_path, granule_name + '_reaches_describe.csv'))\n",
    "# reaches_quant.to_csv(os.path.join(save_path, granule_name + '_reaches_quantile.csv'))"
   ]
  },
  {
   "cell_type": "markdown",
   "id": "d8f61fee-08c2-44c9-845a-b7b7862db2d5",
   "metadata": {
    "tags": []
   },
   "source": [
    "### Conn tests"
   ]
  },
  {
   "cell_type": "code",
   "execution_count": 220,
   "id": "07512bd2-f2b0-4473-9921-b8dc375c343f",
   "metadata": {},
   "outputs": [],
   "source": [
    "conn = sj[sj['NHDPlusID'] == 10000900090399]"
   ]
  },
  {
   "cell_type": "code",
   "execution_count": 221,
   "id": "5fe1d134-5c2f-486b-bdd2-5cd18460323b",
   "metadata": {},
   "outputs": [],
   "source": [
    "conn = conn.drop(columns=['index_right', 'points', 'azimuth_index',\n",
    "                      'range_index', 'cross_track', 'pixel_area',\n",
    "                      'height', 'geoid', 'dlatitude_dphase',\n",
    "                      'dlongitude_dphase', 'dheight_dphase',\n",
    "                      'klass', 'latitude', 'longitude', ])"
   ]
  },
  {
   "cell_type": "code",
   "execution_count": 222,
   "id": "6eb9248d-b17b-4992-945b-83687489ecdd",
   "metadata": {},
   "outputs": [],
   "source": [
    "conn = conn.set_geometry('pseudo_geom')"
   ]
  },
  {
   "cell_type": "code",
   "execution_count": 223,
   "id": "5d5f4687-b898-40f5-8a11-d4261e4fad1c",
   "metadata": {},
   "outputs": [],
   "source": [
    "conn = conn.dissolve(by='counter')"
   ]
  },
  {
   "cell_type": "code",
   "execution_count": 151,
   "id": "cee2cee2-2082-4173-b5b0-a708f16a9e72",
   "metadata": {},
   "outputs": [],
   "source": [
    "# conn"
   ]
  },
  {
   "cell_type": "code",
   "execution_count": 262,
   "id": "532e0dcb-6100-4111-81d5-91fd953b17fb",
   "metadata": {},
   "outputs": [],
   "source": [
    "# fig, ax = plt.subplots(figsize=(15,15))\n",
    "# conn.buffered.plot(ax=ax, cmap='hsv')\n",
    "# conn.plot(ax=ax, color='k', alpha=0.6)"
   ]
  },
  {
   "cell_type": "code",
   "execution_count": 230,
   "id": "c44719a6-6624-4fa4-918c-95840aa72ebb",
   "metadata": {},
   "outputs": [],
   "source": [
    "def specialClip(sj):\n",
    "    left = gpd.GeoSeries(sj.pseudo_geom)\n",
    "    right = gpd.GeoSeries(sj.buffered)\n",
    "    pseudo_geom_clip = left.clip(right)\n",
    "    return pseudo_geom_clip"
   ]
  },
  {
   "cell_type": "code",
   "execution_count": 231,
   "id": "5745e428-8881-434e-af38-4589419b86b2",
   "metadata": {},
   "outputs": [
    {
     "name": "stderr",
     "output_type": "stream",
     "text": [
      "/work/pi_cjgleason_umass_edu/.conda/envs/narrowPIXC/lib/python3.12/site-packages/geopandas/geoseries.py:1520: UserWarning: CRS mismatch between the CRS of left geometries and the CRS of right geometries.\n",
      "Use `to_crs()` to reproject one of the input geometries to match the CRS of the other.\n",
      "\n",
      "Left CRS: EPSG:32618\n",
      "Right CRS: None\n",
      "\n",
      "  return geopandas.clip(self, mask=mask, keep_geom_type=keep_geom_type, sort=sort)\n"
     ]
    }
   ],
   "source": [
    "conn['pseudo_geom_clip'] = conn.pseudo_geom.clip(conn.buffered)"
   ]
  },
  {
   "cell_type": "code",
   "execution_count": 232,
   "id": "7a5658da-4046-4e07-abda-d6b02f8620f9",
   "metadata": {},
   "outputs": [],
   "source": [
    "conn['pseudo_geom_test'] = conn.parallel_apply(user_defined_function=specialClip,\n",
    "                                               axis=1)"
   ]
  },
  {
   "cell_type": "code",
   "execution_count": 233,
   "id": "4040049b-1800-4609-8283-d82005ca9bfd",
   "metadata": {},
   "outputs": [
    {
     "data": {
      "text/html": [
       "<div>\n",
       "<style scoped>\n",
       "    .dataframe tbody tr th:only-of-type {\n",
       "        vertical-align: middle;\n",
       "    }\n",
       "\n",
       "    .dataframe tbody tr th {\n",
       "        vertical-align: top;\n",
       "    }\n",
       "\n",
       "    .dataframe thead th {\n",
       "        text-align: right;\n",
       "    }\n",
       "</style>\n",
       "<table border=\"1\" class=\"dataframe\">\n",
       "  <thead>\n",
       "    <tr style=\"text-align: right;\">\n",
       "      <th></th>\n",
       "      <th>pseudo_geom</th>\n",
       "      <th>index_old</th>\n",
       "      <th>Bin</th>\n",
       "      <th>GNIS_Name</th>\n",
       "      <th>LengthKM</th>\n",
       "      <th>NHDPlusID</th>\n",
       "      <th>WidthM</th>\n",
       "      <th>segments</th>\n",
       "      <th>buffered</th>\n",
       "      <th>segment_area</th>\n",
       "      <th>pseudo_geom_clip</th>\n",
       "      <th>pseudo_geom_test</th>\n",
       "    </tr>\n",
       "    <tr>\n",
       "      <th>counter</th>\n",
       "      <th></th>\n",
       "      <th></th>\n",
       "      <th></th>\n",
       "      <th></th>\n",
       "      <th></th>\n",
       "      <th></th>\n",
       "      <th></th>\n",
       "      <th></th>\n",
       "      <th></th>\n",
       "      <th></th>\n",
       "      <th></th>\n",
       "      <th></th>\n",
       "    </tr>\n",
       "  </thead>\n",
       "  <tbody>\n",
       "    <tr>\n",
       "      <th>0</th>\n",
       "      <td>MULTIPOLYGON (((695435.301 4690008.574, 695438...</td>\n",
       "      <td>49682</td>\n",
       "      <td>(150, 200]</td>\n",
       "      <td>Connecticut River</td>\n",
       "      <td>3.323</td>\n",
       "      <td>1.000090e+13</td>\n",
       "      <td>191.820877</td>\n",
       "      <td>LINESTRING (695478.047 4690091.994, 695486.9 4...</td>\n",
       "      <td>POLYGON ((695531.445 4690172.29, 695532.454 46...</td>\n",
       "      <td>63995.053794</td>\n",
       "      <td>MULTIPOLYGON (((695438.262 4690009.382, 695438...</td>\n",
       "      <td>MULTIPOLYGON (((695438.262 4690009.382, 695438...</td>\n",
       "    </tr>\n",
       "    <tr>\n",
       "      <th>1</th>\n",
       "      <td>MULTIPOLYGON (((695825.742 4689867.135, 695825...</td>\n",
       "      <td>49682</td>\n",
       "      <td>(150, 200]</td>\n",
       "      <td>Connecticut River</td>\n",
       "      <td>3.323</td>\n",
       "      <td>1.000090e+13</td>\n",
       "      <td>191.820877</td>\n",
       "      <td>LINESTRING (695766.443 4689927.077, 695772.404...</td>\n",
       "      <td>POLYGON ((695811.349 4690012.076, 695811.84 46...</td>\n",
       "      <td>64015.389023</td>\n",
       "      <td>MULTIPOLYGON (((695825.744 4689867.128, 695800...</td>\n",
       "      <td>MULTIPOLYGON (((695825.744 4689867.128, 695800...</td>\n",
       "    </tr>\n",
       "    <tr>\n",
       "      <th>2</th>\n",
       "      <td>MULTIPOLYGON (((696028.687 4689674.71, 696022....</td>\n",
       "      <td>49682</td>\n",
       "      <td>(150, 200]</td>\n",
       "      <td>Connecticut River</td>\n",
       "      <td>3.323</td>\n",
       "      <td>1.000090e+13</td>\n",
       "      <td>191.820877</td>\n",
       "      <td>LINESTRING (696066.573 4689782.304, 696069.393...</td>\n",
       "      <td>POLYGON ((696104.403 4689870.482, 696113.4 468...</td>\n",
       "      <td>63795.413096</td>\n",
       "      <td>MULTIPOLYGON (((696026.276 4689696.857, 696026...</td>\n",
       "      <td>MULTIPOLYGON (((696051.738 4689703.808, 696051...</td>\n",
       "    </tr>\n",
       "    <tr>\n",
       "      <th>3</th>\n",
       "      <td>MULTIPOLYGON (((696371.735 4689633.256, 696366...</td>\n",
       "      <td>49682</td>\n",
       "      <td>(150, 200]</td>\n",
       "      <td>Connecticut River</td>\n",
       "      <td>3.323</td>\n",
       "      <td>1.000090e+13</td>\n",
       "      <td>191.820877</td>\n",
       "      <td>LINESTRING (696381.304 4689769.626, 696383.144...</td>\n",
       "      <td>POLYGON ((696423.97 4689855.547, 696425.76 468...</td>\n",
       "      <td>63981.497856</td>\n",
       "      <td>MULTIPOLYGON (((696328.88 4689689.148, 696327....</td>\n",
       "      <td>MULTIPOLYGON (((696373.119 4689724.041, 696377...</td>\n",
       "    </tr>\n",
       "    <tr>\n",
       "      <th>4</th>\n",
       "      <td>POLYGON ((696697.854 4689452.232, 696697.932 4...</td>\n",
       "      <td>49682</td>\n",
       "      <td>(150, 200]</td>\n",
       "      <td>Connecticut River</td>\n",
       "      <td>3.323</td>\n",
       "      <td>1.000090e+13</td>\n",
       "      <td>191.820877</td>\n",
       "      <td>LINESTRING (696652.497 4689576.263, 696659.552...</td>\n",
       "      <td>POLYGON ((696714.855 4689649.608, 696722.113 4...</td>\n",
       "      <td>63992.327552</td>\n",
       "      <td>MULTIPOLYGON (((696697.932 4689452.253, 696692...</td>\n",
       "      <td>MULTIPOLYGON (((696697.932 4689452.253, 696692...</td>\n",
       "    </tr>\n",
       "    <tr>\n",
       "      <th>5</th>\n",
       "      <td>MULTIPOLYGON (((696936.504 4689269.287, 696936...</td>\n",
       "      <td>49682</td>\n",
       "      <td>(150, 200]</td>\n",
       "      <td>Connecticut River</td>\n",
       "      <td>3.323</td>\n",
       "      <td>1.000090e+13</td>\n",
       "      <td>191.820877</td>\n",
       "      <td>LINESTRING (696931.327 4689393.349, 696935.67 ...</td>\n",
       "      <td>POLYGON ((696954.964 4689275.586, 696949.513 4...</td>\n",
       "      <td>64014.006224</td>\n",
       "      <td>MULTIPOLYGON (((696871.63 4689319.441, 696883....</td>\n",
       "      <td>MULTIPOLYGON (((696943.324 4689384.099, 696944...</td>\n",
       "    </tr>\n",
       "    <tr>\n",
       "      <th>6</th>\n",
       "      <td>POLYGON ((697279.939 4689160.329, 697277.768 4...</td>\n",
       "      <td>49682</td>\n",
       "      <td>(150, 200]</td>\n",
       "      <td>Connecticut River</td>\n",
       "      <td>3.323</td>\n",
       "      <td>1.000090e+13</td>\n",
       "      <td>191.820877</td>\n",
       "      <td>LINESTRING (697230.791 4689247.944, 697232.266...</td>\n",
       "      <td>POLYGON ((697267.873 4689336.407, 697276.597 4...</td>\n",
       "      <td>64045.190958</td>\n",
       "      <td>MULTIPOLYGON (((697277.768 4689159.737, 697272...</td>\n",
       "      <td>MULTIPOLYGON (((697277.768 4689159.737, 697272...</td>\n",
       "    </tr>\n",
       "    <tr>\n",
       "      <th>7</th>\n",
       "      <td>POLYGON ((697544.209 4689029.726, 697520.377 4...</td>\n",
       "      <td>49682</td>\n",
       "      <td>(150, 200]</td>\n",
       "      <td>Connecticut River</td>\n",
       "      <td>3.323</td>\n",
       "      <td>1.000090e+13</td>\n",
       "      <td>191.820877</td>\n",
       "      <td>LINESTRING (697547.788 4689143.494, 697555.383...</td>\n",
       "      <td>POLYGON ((697582.167 4689233.371, 697591.48 46...</td>\n",
       "      <td>64059.656482</td>\n",
       "      <td>POLYGON ((697507.869 4689065.145, 697513.094 4...</td>\n",
       "      <td>POLYGON ((697584.064 4689221.196, 697585.043 4...</td>\n",
       "    </tr>\n",
       "    <tr>\n",
       "      <th>8</th>\n",
       "      <td>POLYGON ((697905.339 4688993.211, 697899.615 4...</td>\n",
       "      <td>49682</td>\n",
       "      <td>(150, 200]</td>\n",
       "      <td>Connecticut River</td>\n",
       "      <td>3.323</td>\n",
       "      <td>1.000090e+13</td>\n",
       "      <td>191.820877</td>\n",
       "      <td>LINESTRING (697873.818 4689074.515, 697877.864...</td>\n",
       "      <td>POLYGON ((697887.754 4689169.495, 697888.369 4...</td>\n",
       "      <td>64068.472595</td>\n",
       "      <td>POLYGON ((697899.615 4689014.179, 697895.787 4...</td>\n",
       "      <td>POLYGON ((697899.615 4689014.179, 697895.787 4...</td>\n",
       "    </tr>\n",
       "    <tr>\n",
       "      <th>9</th>\n",
       "      <td>MULTIPOLYGON (((698262.416 4688955.843, 698256...</td>\n",
       "      <td>49682</td>\n",
       "      <td>(150, 200]</td>\n",
       "      <td>Connecticut River</td>\n",
       "      <td>3.323</td>\n",
       "      <td>1.000090e+13</td>\n",
       "      <td>191.820877</td>\n",
       "      <td>LINESTRING (698205.422 4689041.412, 698205.605...</td>\n",
       "      <td>POLYGON ((698210.029 4689137.212, 698219.747 4...</td>\n",
       "      <td>64068.952184</td>\n",
       "      <td>MULTIPOLYGON (((698256.76 4688976.564, 698242....</td>\n",
       "      <td>MULTIPOLYGON (((698256.76 4688976.564, 698242....</td>\n",
       "    </tr>\n",
       "  </tbody>\n",
       "</table>\n",
       "</div>"
      ],
      "text/plain": [
       "                                               pseudo_geom  index_old  \\\n",
       "counter                                                                 \n",
       "0        MULTIPOLYGON (((695435.301 4690008.574, 695438...      49682   \n",
       "1        MULTIPOLYGON (((695825.742 4689867.135, 695825...      49682   \n",
       "2        MULTIPOLYGON (((696028.687 4689674.71, 696022....      49682   \n",
       "3        MULTIPOLYGON (((696371.735 4689633.256, 696366...      49682   \n",
       "4        POLYGON ((696697.854 4689452.232, 696697.932 4...      49682   \n",
       "5        MULTIPOLYGON (((696936.504 4689269.287, 696936...      49682   \n",
       "6        POLYGON ((697279.939 4689160.329, 697277.768 4...      49682   \n",
       "7        POLYGON ((697544.209 4689029.726, 697520.377 4...      49682   \n",
       "8        POLYGON ((697905.339 4688993.211, 697899.615 4...      49682   \n",
       "9        MULTIPOLYGON (((698262.416 4688955.843, 698256...      49682   \n",
       "\n",
       "                Bin          GNIS_Name  LengthKM     NHDPlusID      WidthM  \\\n",
       "counter                                                                      \n",
       "0        (150, 200]  Connecticut River     3.323  1.000090e+13  191.820877   \n",
       "1        (150, 200]  Connecticut River     3.323  1.000090e+13  191.820877   \n",
       "2        (150, 200]  Connecticut River     3.323  1.000090e+13  191.820877   \n",
       "3        (150, 200]  Connecticut River     3.323  1.000090e+13  191.820877   \n",
       "4        (150, 200]  Connecticut River     3.323  1.000090e+13  191.820877   \n",
       "5        (150, 200]  Connecticut River     3.323  1.000090e+13  191.820877   \n",
       "6        (150, 200]  Connecticut River     3.323  1.000090e+13  191.820877   \n",
       "7        (150, 200]  Connecticut River     3.323  1.000090e+13  191.820877   \n",
       "8        (150, 200]  Connecticut River     3.323  1.000090e+13  191.820877   \n",
       "9        (150, 200]  Connecticut River     3.323  1.000090e+13  191.820877   \n",
       "\n",
       "                                                  segments  \\\n",
       "counter                                                      \n",
       "0        LINESTRING (695478.047 4690091.994, 695486.9 4...   \n",
       "1        LINESTRING (695766.443 4689927.077, 695772.404...   \n",
       "2        LINESTRING (696066.573 4689782.304, 696069.393...   \n",
       "3        LINESTRING (696381.304 4689769.626, 696383.144...   \n",
       "4        LINESTRING (696652.497 4689576.263, 696659.552...   \n",
       "5        LINESTRING (696931.327 4689393.349, 696935.67 ...   \n",
       "6        LINESTRING (697230.791 4689247.944, 697232.266...   \n",
       "7        LINESTRING (697547.788 4689143.494, 697555.383...   \n",
       "8        LINESTRING (697873.818 4689074.515, 697877.864...   \n",
       "9        LINESTRING (698205.422 4689041.412, 698205.605...   \n",
       "\n",
       "                                                  buffered  segment_area  \\\n",
       "counter                                                                    \n",
       "0        POLYGON ((695531.445 4690172.29, 695532.454 46...  63995.053794   \n",
       "1        POLYGON ((695811.349 4690012.076, 695811.84 46...  64015.389023   \n",
       "2        POLYGON ((696104.403 4689870.482, 696113.4 468...  63795.413096   \n",
       "3        POLYGON ((696423.97 4689855.547, 696425.76 468...  63981.497856   \n",
       "4        POLYGON ((696714.855 4689649.608, 696722.113 4...  63992.327552   \n",
       "5        POLYGON ((696954.964 4689275.586, 696949.513 4...  64014.006224   \n",
       "6        POLYGON ((697267.873 4689336.407, 697276.597 4...  64045.190958   \n",
       "7        POLYGON ((697582.167 4689233.371, 697591.48 46...  64059.656482   \n",
       "8        POLYGON ((697887.754 4689169.495, 697888.369 4...  64068.472595   \n",
       "9        POLYGON ((698210.029 4689137.212, 698219.747 4...  64068.952184   \n",
       "\n",
       "                                          pseudo_geom_clip  \\\n",
       "counter                                                      \n",
       "0        MULTIPOLYGON (((695438.262 4690009.382, 695438...   \n",
       "1        MULTIPOLYGON (((695825.744 4689867.128, 695800...   \n",
       "2        MULTIPOLYGON (((696026.276 4689696.857, 696026...   \n",
       "3        MULTIPOLYGON (((696328.88 4689689.148, 696327....   \n",
       "4        MULTIPOLYGON (((696697.932 4689452.253, 696692...   \n",
       "5        MULTIPOLYGON (((696871.63 4689319.441, 696883....   \n",
       "6        MULTIPOLYGON (((697277.768 4689159.737, 697272...   \n",
       "7        POLYGON ((697507.869 4689065.145, 697513.094 4...   \n",
       "8        POLYGON ((697899.615 4689014.179, 697895.787 4...   \n",
       "9        MULTIPOLYGON (((698256.76 4688976.564, 698242....   \n",
       "\n",
       "                                          pseudo_geom_test  \n",
       "counter                                                     \n",
       "0        MULTIPOLYGON (((695438.262 4690009.382, 695438...  \n",
       "1        MULTIPOLYGON (((695825.744 4689867.128, 695800...  \n",
       "2        MULTIPOLYGON (((696051.738 4689703.808, 696051...  \n",
       "3        MULTIPOLYGON (((696373.119 4689724.041, 696377...  \n",
       "4        MULTIPOLYGON (((696697.932 4689452.253, 696692...  \n",
       "5        MULTIPOLYGON (((696943.324 4689384.099, 696944...  \n",
       "6        MULTIPOLYGON (((697277.768 4689159.737, 697272...  \n",
       "7        POLYGON ((697584.064 4689221.196, 697585.043 4...  \n",
       "8        POLYGON ((697899.615 4689014.179, 697895.787 4...  \n",
       "9        MULTIPOLYGON (((698256.76 4688976.564, 698242....  "
      ]
     },
     "execution_count": 233,
     "metadata": {},
     "output_type": "execute_result"
    }
   ],
   "source": [
    "conn"
   ]
  },
  {
   "cell_type": "code",
   "execution_count": 261,
   "id": "32c3bc78-d474-4958-800e-39c541677d75",
   "metadata": {},
   "outputs": [],
   "source": [
    "# fig, ax = plt.subplots(figsize=(15,15))\n",
    "# conn.buffered.plot(ax=ax, cmap='hsv', alpha=0.7)\n",
    "# conn.pseudo_geom.plot(ax=ax, color='k')\n",
    "\n",
    "# # Basemap\n",
    "# ctx.add_basemap(ax, crs=conn.crs, source=ctx.providers.CartoDB.Positron)\n",
    "\n",
    "# plt.axis('off')"
   ]
  },
  {
   "cell_type": "code",
   "execution_count": 259,
   "id": "d128d1fe-e8f5-4298-81ee-b79aaa11040f",
   "metadata": {},
   "outputs": [],
   "source": [
    "# fig, ax = plt.subplots(figsize=(15,15))\n",
    "# conn.buffered.plot(ax=ax, cmap='hsv', alpha=0.7)\n",
    "# gpd.GeoSeries(conn.iloc[7].pseudo_geom).plot(ax=ax, color='k')\n",
    "\n",
    "# # Basemap\n",
    "# ctx.add_basemap(ax, crs=conn.crs, source=ctx.providers.CartoDB.Positron)\n",
    "\n",
    "# plt.axis('off')"
   ]
  },
  {
   "cell_type": "code",
   "execution_count": 260,
   "id": "6c6d7b5a-27a9-4563-a8e5-47027e7f44ef",
   "metadata": {},
   "outputs": [],
   "source": [
    "# fig, ax = plt.subplots(figsize=(15,15))\n",
    "# conn.buffered.plot(ax=ax, cmap='hsv', alpha=0.7)\n",
    "# gpd.GeoSeries(conn.iloc[7].pseudo_geom_clip).plot(ax=ax, color='k')\n",
    "\n",
    "# # Basemap\n",
    "# ctx.add_basemap(ax, crs=conn.crs, source=ctx.providers.CartoDB.Positron)\n",
    "\n",
    "# plt.axis('off')"
   ]
  },
  {
   "cell_type": "code",
   "execution_count": 258,
   "id": "b8feed60-f9bc-415a-a26a-8b0f2febaa9c",
   "metadata": {},
   "outputs": [],
   "source": [
    "# fig, ax = plt.subplots(figsize=(15,15))\n",
    "# conn.buffered.plot(ax=ax, cmap='hsv', alpha=0.7)\n",
    "# gpd.GeoSeries(conn.iloc[7].pseudo_geom_test).plot(ax=ax, color='k')\n",
    "\n",
    "# # Basemap\n",
    "# ctx.add_basemap(ax, crs=conn.crs, source=ctx.providers.CartoDB.Positron)\n",
    "\n",
    "# plt.axis('off')"
   ]
  },
  {
   "cell_type": "code",
   "execution_count": 208,
   "id": "8b28f3b9-df70-411f-94b1-f9e057ea19c4",
   "metadata": {},
   "outputs": [],
   "source": [
    "# Calculate segment area\n",
    "conn['overlap_total'] = conn.pseudo_geom.area"
   ]
  },
  {
   "cell_type": "code",
   "execution_count": 209,
   "id": "b08e3e72-5161-475c-baab-018f5912ceef",
   "metadata": {},
   "outputs": [],
   "source": [
    "# Calculate segment area\n",
    "conn['overlap_new'] = conn.pseudo_geom_clip.area"
   ]
  },
  {
   "cell_type": "code",
   "execution_count": 212,
   "id": "fcb11580-187c-4fcd-b154-8d30676c4921",
   "metadata": {},
   "outputs": [
    {
     "data": {
      "text/html": [
       "<div>\n",
       "<style scoped>\n",
       "    .dataframe tbody tr th:only-of-type {\n",
       "        vertical-align: middle;\n",
       "    }\n",
       "\n",
       "    .dataframe tbody tr th {\n",
       "        vertical-align: top;\n",
       "    }\n",
       "\n",
       "    .dataframe thead th {\n",
       "        text-align: right;\n",
       "    }\n",
       "</style>\n",
       "<table border=\"1\" class=\"dataframe\">\n",
       "  <thead>\n",
       "    <tr style=\"text-align: right;\">\n",
       "      <th></th>\n",
       "      <th>pseudo_geom</th>\n",
       "      <th>index_old</th>\n",
       "      <th>Bin</th>\n",
       "      <th>GNIS_Name</th>\n",
       "      <th>LengthKM</th>\n",
       "      <th>NHDPlusID</th>\n",
       "      <th>WidthM</th>\n",
       "      <th>segments</th>\n",
       "      <th>buffered</th>\n",
       "      <th>segment_area</th>\n",
       "      <th>pseudo_geom_clip</th>\n",
       "      <th>pseudo_geom_test</th>\n",
       "      <th>overlap_total</th>\n",
       "      <th>overlap_new</th>\n",
       "    </tr>\n",
       "    <tr>\n",
       "      <th>counter</th>\n",
       "      <th></th>\n",
       "      <th></th>\n",
       "      <th></th>\n",
       "      <th></th>\n",
       "      <th></th>\n",
       "      <th></th>\n",
       "      <th></th>\n",
       "      <th></th>\n",
       "      <th></th>\n",
       "      <th></th>\n",
       "      <th></th>\n",
       "      <th></th>\n",
       "      <th></th>\n",
       "      <th></th>\n",
       "    </tr>\n",
       "  </thead>\n",
       "  <tbody>\n",
       "    <tr>\n",
       "      <th>0</th>\n",
       "      <td>MULTIPOLYGON (((696235.571 4691354.078, 696229...</td>\n",
       "      <td>64496</td>\n",
       "      <td>(150, 200]</td>\n",
       "      <td>Connecticut River</td>\n",
       "      <td>1.663</td>\n",
       "      <td>1.000090e+13</td>\n",
       "      <td>191.781368</td>\n",
       "      <td>LINESTRING (696420.217 4691423.489, 696408.212...</td>\n",
       "      <td>POLYGON ((696398.233 4691329.375, 696397.183 4...</td>\n",
       "      <td>32077.594224</td>\n",
       "      <td>MULTIPOLYGON (((696229.846 4691375.053, 696250...</td>\n",
       "      <td>MULTIPOLYGON (((696256.307 4691427.076, 696254...</td>\n",
       "      <td>29941.427264</td>\n",
       "      <td>22394.328463</td>\n",
       "    </tr>\n",
       "    <tr>\n",
       "      <th>1</th>\n",
       "      <td>MULTIPOLYGON (((696052.865 4691371.743, 696047...</td>\n",
       "      <td>64496</td>\n",
       "      <td>(150, 200]</td>\n",
       "      <td>Connecticut River</td>\n",
       "      <td>1.663</td>\n",
       "      <td>1.000090e+13</td>\n",
       "      <td>191.781368</td>\n",
       "      <td>LINESTRING (696253.668 4691435.249, 696248.762...</td>\n",
       "      <td>POLYGON ((696253.29 4691339.233, 696250.384 46...</td>\n",
       "      <td>32075.535908</td>\n",
       "      <td>MULTIPOLYGON (((696047.139 4691392.718, 696071...</td>\n",
       "      <td>MULTIPOLYGON (((696077.439 4691378.468, 696087...</td>\n",
       "      <td>28153.602711</td>\n",
       "      <td>23042.776807</td>\n",
       "    </tr>\n",
       "    <tr>\n",
       "      <th>2</th>\n",
       "      <td>MULTIPOLYGON (((695882.903 4691370.088, 695877...</td>\n",
       "      <td>64496</td>\n",
       "      <td>(150, 200]</td>\n",
       "      <td>Connecticut River</td>\n",
       "      <td>1.663</td>\n",
       "      <td>1.000090e+13</td>\n",
       "      <td>191.781368</td>\n",
       "      <td>LINESTRING (696088.226 4691456.278, 696080.746...</td>\n",
       "      <td>POLYGON ((696057.599 4691365.138, 696049.65 46...</td>\n",
       "      <td>32075.246963</td>\n",
       "      <td>MULTIPOLYGON (((695884.398 4691393.301, 695878...</td>\n",
       "      <td>MULTIPOLYGON (((695920.563 4691448.255, 695926...</td>\n",
       "      <td>31402.399143</td>\n",
       "      <td>26467.001127</td>\n",
       "    </tr>\n",
       "    <tr>\n",
       "      <th>3</th>\n",
       "      <td>MULTIPOLYGON (((695737.343 4691420.439, 695724...</td>\n",
       "      <td>64496</td>\n",
       "      <td>(150, 200]</td>\n",
       "      <td>Connecticut River</td>\n",
       "      <td>1.663</td>\n",
       "      <td>1.000090e+13</td>\n",
       "      <td>191.781368</td>\n",
       "      <td>LINESTRING (695922.877 4691479.671, 695922.4 4...</td>\n",
       "      <td>POLYGON ((695903.493 4691385.759, 695902.24 46...</td>\n",
       "      <td>32074.382248</td>\n",
       "      <td>MULTIPOLYGON (((695727.948 4691417.875, 695724...</td>\n",
       "      <td>MULTIPOLYGON (((695766.1 4691496.171, 695766.0...</td>\n",
       "      <td>30619.545584</td>\n",
       "      <td>27462.803469</td>\n",
       "    </tr>\n",
       "    <tr>\n",
       "      <th>4</th>\n",
       "      <td>MULTIPOLYGON (((695566.999 4691441.757, 695592...</td>\n",
       "      <td>64496</td>\n",
       "      <td>(150, 200]</td>\n",
       "      <td>Connecticut River</td>\n",
       "      <td>1.663</td>\n",
       "      <td>1.000090e+13</td>\n",
       "      <td>191.781368</td>\n",
       "      <td>LINESTRING (695758.657 4691510.698, 695755.384...</td>\n",
       "      <td>POLYGON ((695743.382 4691415.987, 695733.839 4...</td>\n",
       "      <td>32076.502887</td>\n",
       "      <td>MULTIPOLYGON (((695582.729 4691446.051, 695581...</td>\n",
       "      <td>MULTIPOLYGON (((695592.08 4691448.603, 695596....</td>\n",
       "      <td>31323.096196</td>\n",
       "      <td>26996.463965</td>\n",
       "    </tr>\n",
       "    <tr>\n",
       "      <th>5</th>\n",
       "      <td>MULTIPOLYGON (((695464.092 4691480.957, 695464...</td>\n",
       "      <td>64496</td>\n",
       "      <td>(150, 200]</td>\n",
       "      <td>Connecticut River</td>\n",
       "      <td>1.663</td>\n",
       "      <td>1.000090e+13</td>\n",
       "      <td>191.781368</td>\n",
       "      <td>LINESTRING (695592.468 4691529.541, 695586.398...</td>\n",
       "      <td>POLYGON ((695575.311 4691435.002, 695565.411 4...</td>\n",
       "      <td>32100.005933</td>\n",
       "      <td>MULTIPOLYGON (((695464.034 4691480.941, 695465...</td>\n",
       "      <td>MULTIPOLYGON (((695464.034 4691480.941, 695465...</td>\n",
       "      <td>33353.989780</td>\n",
       "      <td>28230.845393</td>\n",
       "    </tr>\n",
       "    <tr>\n",
       "      <th>6</th>\n",
       "      <td>POLYGON ((695308.777 4691506.379, 695303.124 4...</td>\n",
       "      <td>64496</td>\n",
       "      <td>(150, 200]</td>\n",
       "      <td>Connecticut River</td>\n",
       "      <td>1.663</td>\n",
       "      <td>1.000090e+13</td>\n",
       "      <td>191.781368</td>\n",
       "      <td>LINESTRING (695434.535 4691580.212, 695425.91 ...</td>\n",
       "      <td>POLYGON ((695304.423 4691512.111, 695304.901 4...</td>\n",
       "      <td>32051.301502</td>\n",
       "      <td>MULTIPOLYGON (((695306.462 4691514.862, 695306...</td>\n",
       "      <td>POLYGON ((695306.787 4691513.673, 695306.927 4...</td>\n",
       "      <td>34613.088602</td>\n",
       "      <td>29162.100931</td>\n",
       "    </tr>\n",
       "    <tr>\n",
       "      <th>7</th>\n",
       "      <td>POLYGON ((695118.697 4691476.952, 695113.041 4...</td>\n",
       "      <td>64496</td>\n",
       "      <td>(150, 200]</td>\n",
       "      <td>Connecticut River</td>\n",
       "      <td>1.663</td>\n",
       "      <td>1.000090e+13</td>\n",
       "      <td>191.781368</td>\n",
       "      <td>LINESTRING (695272.163 4691599.574, 695270.823...</td>\n",
       "      <td>POLYGON ((695307.341 4691510.365, 695298.637 4...</td>\n",
       "      <td>32068.440603</td>\n",
       "      <td>MULTIPOLYGON (((695113.041 4691497.674, 695096...</td>\n",
       "      <td>MULTIPOLYGON (((695110.339 4691609.885, 695104...</td>\n",
       "      <td>31332.750204</td>\n",
       "      <td>28890.502008</td>\n",
       "    </tr>\n",
       "    <tr>\n",
       "      <th>8</th>\n",
       "      <td>POLYGON ((694957.338 4691455.388, 694963.941 4...</td>\n",
       "      <td>64496</td>\n",
       "      <td>(150, 200]</td>\n",
       "      <td>Connecticut River</td>\n",
       "      <td>1.663</td>\n",
       "      <td>1.000090e+13</td>\n",
       "      <td>191.781368</td>\n",
       "      <td>LINESTRING (695113.298 4691550.204, 695109.041...</td>\n",
       "      <td>POLYGON ((695120.388 4691454.495, 695111.652 4...</td>\n",
       "      <td>32073.487171</td>\n",
       "      <td>MULTIPOLYGON (((694963.941 4691457.19, 694958....</td>\n",
       "      <td>POLYGON ((694920.509 4691603.063, 694932.315 4...</td>\n",
       "      <td>35230.243973</td>\n",
       "      <td>30673.515486</td>\n",
       "    </tr>\n",
       "    <tr>\n",
       "      <th>9</th>\n",
       "      <td>POLYGON ((694802.28 4691367.926, 694796.623 46...</td>\n",
       "      <td>64496</td>\n",
       "      <td>(150, 200]</td>\n",
       "      <td>Connecticut River</td>\n",
       "      <td>1.663</td>\n",
       "      <td>1.000090e+13</td>\n",
       "      <td>191.781368</td>\n",
       "      <td>LINESTRING (694950.601 4691512.59, 694943.713 ...</td>\n",
       "      <td>POLYGON ((694793.84 4691539.614, 694766.186 46...</td>\n",
       "      <td>32132.553777</td>\n",
       "      <td>MULTIPOLYGON (((694800.798 4691373.354, 694798...</td>\n",
       "      <td>POLYGON ((694800.798 4691373.354, 694798.242 4...</td>\n",
       "      <td>31761.453577</td>\n",
       "      <td>27426.347291</td>\n",
       "    </tr>\n",
       "  </tbody>\n",
       "</table>\n",
       "</div>"
      ],
      "text/plain": [
       "                                               pseudo_geom  index_old  \\\n",
       "counter                                                                 \n",
       "0        MULTIPOLYGON (((696235.571 4691354.078, 696229...      64496   \n",
       "1        MULTIPOLYGON (((696052.865 4691371.743, 696047...      64496   \n",
       "2        MULTIPOLYGON (((695882.903 4691370.088, 695877...      64496   \n",
       "3        MULTIPOLYGON (((695737.343 4691420.439, 695724...      64496   \n",
       "4        MULTIPOLYGON (((695566.999 4691441.757, 695592...      64496   \n",
       "5        MULTIPOLYGON (((695464.092 4691480.957, 695464...      64496   \n",
       "6        POLYGON ((695308.777 4691506.379, 695303.124 4...      64496   \n",
       "7        POLYGON ((695118.697 4691476.952, 695113.041 4...      64496   \n",
       "8        POLYGON ((694957.338 4691455.388, 694963.941 4...      64496   \n",
       "9        POLYGON ((694802.28 4691367.926, 694796.623 46...      64496   \n",
       "\n",
       "                Bin          GNIS_Name  LengthKM     NHDPlusID      WidthM  \\\n",
       "counter                                                                      \n",
       "0        (150, 200]  Connecticut River     1.663  1.000090e+13  191.781368   \n",
       "1        (150, 200]  Connecticut River     1.663  1.000090e+13  191.781368   \n",
       "2        (150, 200]  Connecticut River     1.663  1.000090e+13  191.781368   \n",
       "3        (150, 200]  Connecticut River     1.663  1.000090e+13  191.781368   \n",
       "4        (150, 200]  Connecticut River     1.663  1.000090e+13  191.781368   \n",
       "5        (150, 200]  Connecticut River     1.663  1.000090e+13  191.781368   \n",
       "6        (150, 200]  Connecticut River     1.663  1.000090e+13  191.781368   \n",
       "7        (150, 200]  Connecticut River     1.663  1.000090e+13  191.781368   \n",
       "8        (150, 200]  Connecticut River     1.663  1.000090e+13  191.781368   \n",
       "9        (150, 200]  Connecticut River     1.663  1.000090e+13  191.781368   \n",
       "\n",
       "                                                  segments  \\\n",
       "counter                                                      \n",
       "0        LINESTRING (696420.217 4691423.489, 696408.212...   \n",
       "1        LINESTRING (696253.668 4691435.249, 696248.762...   \n",
       "2        LINESTRING (696088.226 4691456.278, 696080.746...   \n",
       "3        LINESTRING (695922.877 4691479.671, 695922.4 4...   \n",
       "4        LINESTRING (695758.657 4691510.698, 695755.384...   \n",
       "5        LINESTRING (695592.468 4691529.541, 695586.398...   \n",
       "6        LINESTRING (695434.535 4691580.212, 695425.91 ...   \n",
       "7        LINESTRING (695272.163 4691599.574, 695270.823...   \n",
       "8        LINESTRING (695113.298 4691550.204, 695109.041...   \n",
       "9        LINESTRING (694950.601 4691512.59, 694943.713 ...   \n",
       "\n",
       "                                                  buffered  segment_area  \\\n",
       "counter                                                                    \n",
       "0        POLYGON ((696398.233 4691329.375, 696397.183 4...  32077.594224   \n",
       "1        POLYGON ((696253.29 4691339.233, 696250.384 46...  32075.535908   \n",
       "2        POLYGON ((696057.599 4691365.138, 696049.65 46...  32075.246963   \n",
       "3        POLYGON ((695903.493 4691385.759, 695902.24 46...  32074.382248   \n",
       "4        POLYGON ((695743.382 4691415.987, 695733.839 4...  32076.502887   \n",
       "5        POLYGON ((695575.311 4691435.002, 695565.411 4...  32100.005933   \n",
       "6        POLYGON ((695304.423 4691512.111, 695304.901 4...  32051.301502   \n",
       "7        POLYGON ((695307.341 4691510.365, 695298.637 4...  32068.440603   \n",
       "8        POLYGON ((695120.388 4691454.495, 695111.652 4...  32073.487171   \n",
       "9        POLYGON ((694793.84 4691539.614, 694766.186 46...  32132.553777   \n",
       "\n",
       "                                          pseudo_geom_clip  \\\n",
       "counter                                                      \n",
       "0        MULTIPOLYGON (((696229.846 4691375.053, 696250...   \n",
       "1        MULTIPOLYGON (((696047.139 4691392.718, 696071...   \n",
       "2        MULTIPOLYGON (((695884.398 4691393.301, 695878...   \n",
       "3        MULTIPOLYGON (((695727.948 4691417.875, 695724...   \n",
       "4        MULTIPOLYGON (((695582.729 4691446.051, 695581...   \n",
       "5        MULTIPOLYGON (((695464.034 4691480.941, 695465...   \n",
       "6        MULTIPOLYGON (((695306.462 4691514.862, 695306...   \n",
       "7        MULTIPOLYGON (((695113.041 4691497.674, 695096...   \n",
       "8        MULTIPOLYGON (((694963.941 4691457.19, 694958....   \n",
       "9        MULTIPOLYGON (((694800.798 4691373.354, 694798...   \n",
       "\n",
       "                                          pseudo_geom_test  overlap_total  \\\n",
       "counter                                                                     \n",
       "0        MULTIPOLYGON (((696256.307 4691427.076, 696254...   29941.427264   \n",
       "1        MULTIPOLYGON (((696077.439 4691378.468, 696087...   28153.602711   \n",
       "2        MULTIPOLYGON (((695920.563 4691448.255, 695926...   31402.399143   \n",
       "3        MULTIPOLYGON (((695766.1 4691496.171, 695766.0...   30619.545584   \n",
       "4        MULTIPOLYGON (((695592.08 4691448.603, 695596....   31323.096196   \n",
       "5        MULTIPOLYGON (((695464.034 4691480.941, 695465...   33353.989780   \n",
       "6        POLYGON ((695306.787 4691513.673, 695306.927 4...   34613.088602   \n",
       "7        MULTIPOLYGON (((695110.339 4691609.885, 695104...   31332.750204   \n",
       "8        POLYGON ((694920.509 4691603.063, 694932.315 4...   35230.243973   \n",
       "9        POLYGON ((694800.798 4691373.354, 694798.242 4...   31761.453577   \n",
       "\n",
       "          overlap_new  \n",
       "counter                \n",
       "0        22394.328463  \n",
       "1        23042.776807  \n",
       "2        26467.001127  \n",
       "3        27462.803469  \n",
       "4        26996.463965  \n",
       "5        28230.845393  \n",
       "6        29162.100931  \n",
       "7        28890.502008  \n",
       "8        30673.515486  \n",
       "9        27426.347291  "
      ]
     },
     "execution_count": 212,
     "metadata": {},
     "output_type": "execute_result"
    }
   ],
   "source": [
    "conn"
   ]
  },
  {
   "cell_type": "code",
   "execution_count": 210,
   "id": "14df7e59-da62-41b9-aab7-7eb84b21e433",
   "metadata": {},
   "outputs": [
    {
     "data": {
      "text/plain": [
       "counter\n",
       "0    0.933406\n",
       "1    0.877728\n",
       "2    0.979023\n",
       "3    0.954642\n",
       "4    0.976512\n",
       "5    1.039065\n",
       "6    1.079928\n",
       "7    0.977059\n",
       "8    1.098423\n",
       "9    0.988451\n",
       "dtype: float64"
      ]
     },
     "execution_count": 210,
     "metadata": {},
     "output_type": "execute_result"
    }
   ],
   "source": [
    "conn.overlap_total / conn.segment_area"
   ]
  },
  {
   "cell_type": "code",
   "execution_count": 211,
   "id": "f4ea21a2-849e-4a7d-a955-590b3fcc649c",
   "metadata": {},
   "outputs": [
    {
     "data": {
      "text/plain": [
       "counter\n",
       "0    0.698130\n",
       "1    0.718391\n",
       "2    0.825153\n",
       "3    0.856222\n",
       "4    0.841627\n",
       "5    0.879465\n",
       "6    0.909857\n",
       "7    0.900901\n",
       "8    0.956351\n",
       "9    0.853538\n",
       "dtype: float64"
      ]
     },
     "execution_count": 211,
     "metadata": {},
     "output_type": "execute_result"
    }
   ],
   "source": [
    "conn.overlap_new / conn.segment_area"
   ]
  },
  {
   "cell_type": "code",
   "execution_count": null,
   "id": "57933f97-cb78-468e-aacd-1308bf08eade",
   "metadata": {},
   "outputs": [],
   "source": [
    "# sj.columns"
   ]
  },
  {
   "cell_type": "code",
   "execution_count": null,
   "id": "efac5b5a-a391-4120-9cd2-a4375ed692d4",
   "metadata": {},
   "outputs": [],
   "source": [
    "# sj.dtypes"
   ]
  },
  {
   "cell_type": "code",
   "execution_count": null,
   "id": "3f5db7db-72cc-4f9c-bdc5-6c90d93b198e",
   "metadata": {},
   "outputs": [],
   "source": [
    "# sj.index.unique()"
   ]
  },
  {
   "cell_type": "code",
   "execution_count": 80,
   "id": "714fb652-c351-4a50-9713-53185596a1f2",
   "metadata": {},
   "outputs": [],
   "source": [
    "# Find the overlap area\n",
    "sj['overlap_area'] = sj.parallel_apply(lambda x: x['buffer'].intersection(x['pseudo_geom']).area if x['pseudo_geom'] is not None else 0, axis=1)"
   ]
  },
  {
   "cell_type": "code",
   "execution_count": 83,
   "id": "20494246-2abd-4bcc-a4b1-c8506618056b",
   "metadata": {},
   "outputs": [],
   "source": [
    "# sj.sort_values(by=['NHDPlusID', 'counter'])"
   ]
  },
  {
   "cell_type": "code",
   "execution_count": 102,
   "id": "d06fb5db-2f4e-4e6d-a3e2-f1a141bd947c",
   "metadata": {},
   "outputs": [],
   "source": [
    "conn['overlap_total'] = conn.groupby(['NHDPlusID', 'counter'])['overlap_area'].transform('sum')"
   ]
  },
  {
   "cell_type": "code",
   "execution_count": 103,
   "id": "e47d2625-8645-4317-8635-449302cd74db",
   "metadata": {},
   "outputs": [
    {
     "data": {
      "text/html": [
       "<div>\n",
       "<style scoped>\n",
       "    .dataframe tbody tr th:only-of-type {\n",
       "        vertical-align: middle;\n",
       "    }\n",
       "\n",
       "    .dataframe tbody tr th {\n",
       "        vertical-align: top;\n",
       "    }\n",
       "\n",
       "    .dataframe thead th {\n",
       "        text-align: right;\n",
       "    }\n",
       "</style>\n",
       "<table border=\"1\" class=\"dataframe\">\n",
       "  <thead>\n",
       "    <tr style=\"text-align: right;\">\n",
       "      <th></th>\n",
       "      <th>index_old</th>\n",
       "      <th>Bin</th>\n",
       "      <th>GNIS_Name</th>\n",
       "      <th>LengthKM</th>\n",
       "      <th>NHDPlusID</th>\n",
       "      <th>WidthM</th>\n",
       "      <th>segments</th>\n",
       "      <th>counter</th>\n",
       "      <th>buffer</th>\n",
       "      <th>segment_area</th>\n",
       "      <th>pseudo_geom</th>\n",
       "      <th>overlap_area</th>\n",
       "      <th>overlap_total</th>\n",
       "    </tr>\n",
       "  </thead>\n",
       "  <tbody>\n",
       "    <tr>\n",
       "      <th>644963</th>\n",
       "      <td>64496</td>\n",
       "      <td>(150, 200]</td>\n",
       "      <td>Connecticut River</td>\n",
       "      <td>1.663</td>\n",
       "      <td>1.000090e+13</td>\n",
       "      <td>191.781368</td>\n",
       "      <td>LINESTRING (695922.877 4691479.671, 695922.4 4...</td>\n",
       "      <td>3</td>\n",
       "      <td>POLYGON ((695903.493 4691385.759, 695902.24 46...</td>\n",
       "      <td>32074.382248</td>\n",
       "      <td>POLYGON ((695842.109 4691404.281, 695847.902 4...</td>\n",
       "      <td>311.008664</td>\n",
       "      <td>36960.232366</td>\n",
       "    </tr>\n",
       "    <tr>\n",
       "      <th>644963</th>\n",
       "      <td>64496</td>\n",
       "      <td>(150, 200]</td>\n",
       "      <td>Connecticut River</td>\n",
       "      <td>1.663</td>\n",
       "      <td>1.000090e+13</td>\n",
       "      <td>191.781368</td>\n",
       "      <td>LINESTRING (695922.877 4691479.671, 695922.4 4...</td>\n",
       "      <td>3</td>\n",
       "      <td>POLYGON ((695903.493 4691385.759, 695902.24 46...</td>\n",
       "      <td>32074.382248</td>\n",
       "      <td>POLYGON ((695877.11 4691391.311, 695882.903 46...</td>\n",
       "      <td>165.198850</td>\n",
       "      <td>36960.232366</td>\n",
       "    </tr>\n",
       "    <tr>\n",
       "      <th>644963</th>\n",
       "      <td>64496</td>\n",
       "      <td>(150, 200]</td>\n",
       "      <td>Connecticut River</td>\n",
       "      <td>1.663</td>\n",
       "      <td>1.000090e+13</td>\n",
       "      <td>191.781368</td>\n",
       "      <td>LINESTRING (695922.877 4691479.671, 695922.4 4...</td>\n",
       "      <td>3</td>\n",
       "      <td>POLYGON ((695903.493 4691385.759, 695902.24 46...</td>\n",
       "      <td>32074.382248</td>\n",
       "      <td>POLYGON ((695892.827 4691395.609, 695898.62 46...</td>\n",
       "      <td>124.243686</td>\n",
       "      <td>36960.232366</td>\n",
       "    </tr>\n",
       "    <tr>\n",
       "      <th>644963</th>\n",
       "      <td>64496</td>\n",
       "      <td>(150, 200]</td>\n",
       "      <td>Connecticut River</td>\n",
       "      <td>1.663</td>\n",
       "      <td>1.000090e+13</td>\n",
       "      <td>191.781368</td>\n",
       "      <td>LINESTRING (695922.877 4691479.671, 695922.4 4...</td>\n",
       "      <td>3</td>\n",
       "      <td>POLYGON ((695903.493 4691385.759, 695902.24 46...</td>\n",
       "      <td>32074.382248</td>\n",
       "      <td>POLYGON ((695899.508 4691397.434, 695905.301 4...</td>\n",
       "      <td>54.124712</td>\n",
       "      <td>36960.232366</td>\n",
       "    </tr>\n",
       "    <tr>\n",
       "      <th>644963</th>\n",
       "      <td>64496</td>\n",
       "      <td>(150, 200]</td>\n",
       "      <td>Connecticut River</td>\n",
       "      <td>1.663</td>\n",
       "      <td>1.000090e+13</td>\n",
       "      <td>191.781368</td>\n",
       "      <td>LINESTRING (695922.877 4691479.671, 695922.4 4...</td>\n",
       "      <td>3</td>\n",
       "      <td>POLYGON ((695903.493 4691385.759, 695902.24 46...</td>\n",
       "      <td>32074.382248</td>\n",
       "      <td>POLYGON ((695759.886 4691404.342, 695765.679 4...</td>\n",
       "      <td>0.827977</td>\n",
       "      <td>36960.232366</td>\n",
       "    </tr>\n",
       "    <tr>\n",
       "      <th>...</th>\n",
       "      <td>...</td>\n",
       "      <td>...</td>\n",
       "      <td>...</td>\n",
       "      <td>...</td>\n",
       "      <td>...</td>\n",
       "      <td>...</td>\n",
       "      <td>...</td>\n",
       "      <td>...</td>\n",
       "      <td>...</td>\n",
       "      <td>...</td>\n",
       "      <td>...</td>\n",
       "      <td>...</td>\n",
       "      <td>...</td>\n",
       "    </tr>\n",
       "    <tr>\n",
       "      <th>644969</th>\n",
       "      <td>64496</td>\n",
       "      <td>(150, 200]</td>\n",
       "      <td>Connecticut River</td>\n",
       "      <td>1.663</td>\n",
       "      <td>1.000090e+13</td>\n",
       "      <td>191.781368</td>\n",
       "      <td>LINESTRING (694950.601 4691512.59, 694943.713 ...</td>\n",
       "      <td>9</td>\n",
       "      <td>POLYGON ((694793.84 4691539.614, 694766.186 46...</td>\n",
       "      <td>32132.553777</td>\n",
       "      <td>POLYGON ((694809.465 4691482.573, 694815.258 4...</td>\n",
       "      <td>591.197327</td>\n",
       "      <td>35192.051275</td>\n",
       "    </tr>\n",
       "    <tr>\n",
       "      <th>644969</th>\n",
       "      <td>64496</td>\n",
       "      <td>(150, 200]</td>\n",
       "      <td>Connecticut River</td>\n",
       "      <td>1.663</td>\n",
       "      <td>1.000090e+13</td>\n",
       "      <td>191.781368</td>\n",
       "      <td>LINESTRING (694950.601 4691512.59, 694943.713 ...</td>\n",
       "      <td>9</td>\n",
       "      <td>POLYGON ((694793.84 4691539.614, 694766.186 46...</td>\n",
       "      <td>32132.553777</td>\n",
       "      <td>POLYGON ((694809.465 4691482.573, 694815.258 4...</td>\n",
       "      <td>591.197327</td>\n",
       "      <td>35192.051275</td>\n",
       "    </tr>\n",
       "    <tr>\n",
       "      <th>644969</th>\n",
       "      <td>64496</td>\n",
       "      <td>(150, 200]</td>\n",
       "      <td>Connecticut River</td>\n",
       "      <td>1.663</td>\n",
       "      <td>1.000090e+13</td>\n",
       "      <td>191.781368</td>\n",
       "      <td>LINESTRING (694950.601 4691512.59, 694943.713 ...</td>\n",
       "      <td>9</td>\n",
       "      <td>POLYGON ((694793.84 4691539.614, 694766.186 46...</td>\n",
       "      <td>32132.553777</td>\n",
       "      <td>POLYGON ((694899.461 4691484.638, 694905.254 4...</td>\n",
       "      <td>589.694275</td>\n",
       "      <td>35192.051275</td>\n",
       "    </tr>\n",
       "    <tr>\n",
       "      <th>644969</th>\n",
       "      <td>64496</td>\n",
       "      <td>(150, 200]</td>\n",
       "      <td>Connecticut River</td>\n",
       "      <td>1.663</td>\n",
       "      <td>1.000090e+13</td>\n",
       "      <td>191.781368</td>\n",
       "      <td>LINESTRING (694950.601 4691512.59, 694943.713 ...</td>\n",
       "      <td>9</td>\n",
       "      <td>POLYGON ((694793.84 4691539.614, 694766.186 46...</td>\n",
       "      <td>32132.553777</td>\n",
       "      <td>POLYGON ((694907.967 4691486.964, 694913.76 46...</td>\n",
       "      <td>588.973633</td>\n",
       "      <td>35192.051275</td>\n",
       "    </tr>\n",
       "    <tr>\n",
       "      <th>644969</th>\n",
       "      <td>64496</td>\n",
       "      <td>(150, 200]</td>\n",
       "      <td>Connecticut River</td>\n",
       "      <td>1.663</td>\n",
       "      <td>1.000090e+13</td>\n",
       "      <td>191.781368</td>\n",
       "      <td>LINESTRING (694950.601 4691512.59, 694943.713 ...</td>\n",
       "      <td>9</td>\n",
       "      <td>POLYGON ((694793.84 4691539.614, 694766.186 46...</td>\n",
       "      <td>32132.553777</td>\n",
       "      <td>POLYGON ((694838.066 4691490.391, 694843.859 4...</td>\n",
       "      <td>590.476257</td>\n",
       "      <td>35192.051275</td>\n",
       "    </tr>\n",
       "  </tbody>\n",
       "</table>\n",
       "<p>782 rows × 13 columns</p>\n",
       "</div>"
      ],
      "text/plain": [
       "        index_old         Bin          GNIS_Name  LengthKM     NHDPlusID  \\\n",
       "644963      64496  (150, 200]  Connecticut River     1.663  1.000090e+13   \n",
       "644963      64496  (150, 200]  Connecticut River     1.663  1.000090e+13   \n",
       "644963      64496  (150, 200]  Connecticut River     1.663  1.000090e+13   \n",
       "644963      64496  (150, 200]  Connecticut River     1.663  1.000090e+13   \n",
       "644963      64496  (150, 200]  Connecticut River     1.663  1.000090e+13   \n",
       "...           ...         ...                ...       ...           ...   \n",
       "644969      64496  (150, 200]  Connecticut River     1.663  1.000090e+13   \n",
       "644969      64496  (150, 200]  Connecticut River     1.663  1.000090e+13   \n",
       "644969      64496  (150, 200]  Connecticut River     1.663  1.000090e+13   \n",
       "644969      64496  (150, 200]  Connecticut River     1.663  1.000090e+13   \n",
       "644969      64496  (150, 200]  Connecticut River     1.663  1.000090e+13   \n",
       "\n",
       "            WidthM                                           segments  \\\n",
       "644963  191.781368  LINESTRING (695922.877 4691479.671, 695922.4 4...   \n",
       "644963  191.781368  LINESTRING (695922.877 4691479.671, 695922.4 4...   \n",
       "644963  191.781368  LINESTRING (695922.877 4691479.671, 695922.4 4...   \n",
       "644963  191.781368  LINESTRING (695922.877 4691479.671, 695922.4 4...   \n",
       "644963  191.781368  LINESTRING (695922.877 4691479.671, 695922.4 4...   \n",
       "...            ...                                                ...   \n",
       "644969  191.781368  LINESTRING (694950.601 4691512.59, 694943.713 ...   \n",
       "644969  191.781368  LINESTRING (694950.601 4691512.59, 694943.713 ...   \n",
       "644969  191.781368  LINESTRING (694950.601 4691512.59, 694943.713 ...   \n",
       "644969  191.781368  LINESTRING (694950.601 4691512.59, 694943.713 ...   \n",
       "644969  191.781368  LINESTRING (694950.601 4691512.59, 694943.713 ...   \n",
       "\n",
       "        counter                                             buffer  \\\n",
       "644963        3  POLYGON ((695903.493 4691385.759, 695902.24 46...   \n",
       "644963        3  POLYGON ((695903.493 4691385.759, 695902.24 46...   \n",
       "644963        3  POLYGON ((695903.493 4691385.759, 695902.24 46...   \n",
       "644963        3  POLYGON ((695903.493 4691385.759, 695902.24 46...   \n",
       "644963        3  POLYGON ((695903.493 4691385.759, 695902.24 46...   \n",
       "...         ...                                                ...   \n",
       "644969        9  POLYGON ((694793.84 4691539.614, 694766.186 46...   \n",
       "644969        9  POLYGON ((694793.84 4691539.614, 694766.186 46...   \n",
       "644969        9  POLYGON ((694793.84 4691539.614, 694766.186 46...   \n",
       "644969        9  POLYGON ((694793.84 4691539.614, 694766.186 46...   \n",
       "644969        9  POLYGON ((694793.84 4691539.614, 694766.186 46...   \n",
       "\n",
       "        segment_area                                        pseudo_geom  \\\n",
       "644963  32074.382248  POLYGON ((695842.109 4691404.281, 695847.902 4...   \n",
       "644963  32074.382248  POLYGON ((695877.11 4691391.311, 695882.903 46...   \n",
       "644963  32074.382248  POLYGON ((695892.827 4691395.609, 695898.62 46...   \n",
       "644963  32074.382248  POLYGON ((695899.508 4691397.434, 695905.301 4...   \n",
       "644963  32074.382248  POLYGON ((695759.886 4691404.342, 695765.679 4...   \n",
       "...              ...                                                ...   \n",
       "644969  32132.553777  POLYGON ((694809.465 4691482.573, 694815.258 4...   \n",
       "644969  32132.553777  POLYGON ((694809.465 4691482.573, 694815.258 4...   \n",
       "644969  32132.553777  POLYGON ((694899.461 4691484.638, 694905.254 4...   \n",
       "644969  32132.553777  POLYGON ((694907.967 4691486.964, 694913.76 46...   \n",
       "644969  32132.553777  POLYGON ((694838.066 4691490.391, 694843.859 4...   \n",
       "\n",
       "        overlap_area  overlap_total  \n",
       "644963    311.008664   36960.232366  \n",
       "644963    165.198850   36960.232366  \n",
       "644963    124.243686   36960.232366  \n",
       "644963     54.124712   36960.232366  \n",
       "644963      0.827977   36960.232366  \n",
       "...              ...            ...  \n",
       "644969    591.197327   35192.051275  \n",
       "644969    591.197327   35192.051275  \n",
       "644969    589.694275   35192.051275  \n",
       "644969    588.973633   35192.051275  \n",
       "644969    590.476257   35192.051275  \n",
       "\n",
       "[782 rows x 13 columns]"
      ]
     },
     "execution_count": 103,
     "metadata": {},
     "output_type": "execute_result"
    }
   ],
   "source": [
    "conn"
   ]
  }
 ],
 "metadata": {
  "kernelspec": {
   "display_name": "Python [conda env:.conda-narrowPIXC]",
   "language": "python",
   "name": "conda-env-.conda-narrowPIXC-py"
  },
  "language_info": {
   "codemirror_mode": {
    "name": "ipython",
    "version": 3
   },
   "file_extension": ".py",
   "mimetype": "text/x-python",
   "name": "python",
   "nbconvert_exporter": "python",
   "pygments_lexer": "ipython3",
   "version": "3.12.4"
  }
 },
 "nbformat": 4,
 "nbformat_minor": 5
}
