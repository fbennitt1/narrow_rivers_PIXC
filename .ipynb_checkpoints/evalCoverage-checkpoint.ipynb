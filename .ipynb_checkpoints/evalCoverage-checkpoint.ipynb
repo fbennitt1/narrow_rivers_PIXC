{
 "cells": [
  {
   "cell_type": "code",
   "execution_count": 1,
   "id": "054ba1e0-d7ac-4524-a659-1e46d3219143",
   "metadata": {
    "tags": []
   },
   "outputs": [],
   "source": [
    "from argparse import ArgumentParser\n",
    "import os\n",
    "import sys\n",
    "import time\n",
    "\n",
    "import geopandas as gpd\n",
    "import matplotlib.pyplot as plt\n",
    "import numpy as np\n",
    "import pandas as pd\n",
    "import rasterio\n",
    "import shapely\n",
    "import xarray as xr\n",
    "\n",
    "# from matplotlib import colors\n",
    "from pandarallel import pandarallel\n",
    "\n",
    "from reaches import *\n",
    "from utils import *"
   ]
  },
  {
   "cell_type": "markdown",
   "id": "7738211e-0067-4356-a77d-bddee1b036e0",
   "metadata": {},
   "source": [
    "### Parse arguments"
   ]
  },
  {
   "cell_type": "code",
   "execution_count": 2,
   "id": "9c28b14c-e137-4864-b7a1-326396a644eb",
   "metadata": {},
   "outputs": [],
   "source": [
    "# FOR NOW, SET\n",
    "width_set = 'min'\n",
    "\n",
    "# Control flow\n",
    "if width_set == 'mean':\n",
    "    width = 'WidthM'\n",
    "    binn = 'Bin'\n",
    "elif width_set == 'min':\n",
    "    width = 'WidthM_Min'\n",
    "    binn = 'Bin_Min'\n",
    "elif width_set == 'max':\n",
    "    width = 'WidthM_Max'\n",
    "    binn = 'Bin_Max'\n",
    "else:\n",
    "    print('Invalid width option specified, exiting.')\n",
    "    # sys.exit()"
   ]
  },
  {
   "cell_type": "code",
   "execution_count": 3,
   "id": "5330fb44-4474-48e8-b3f9-497e8848ca7c",
   "metadata": {},
   "outputs": [],
   "source": [
    "huc2 = '01' ### SET THIS\n",
    "data_path = '/nas/cee-water/cjgleason/fiona/data/PIXC_v2_0_HUC2_' + huc2\n",
    "# save_dir ="
   ]
  },
  {
   "cell_type": "markdown",
   "id": "0c54b76a-2171-4a4b-92f5-e4b3f4f3f8df",
   "metadata": {
    "tags": []
   },
   "source": [
    "### Pixel Cloud"
   ]
  },
  {
   "cell_type": "code",
   "execution_count": 4,
   "id": "5bc56ba8-11e0-4b21-8829-1fce78256846",
   "metadata": {},
   "outputs": [],
   "source": [
    "# Get job index\n",
    "# slurm = int(os.environ['SLURM_ARRAY_TASK_ID'])\n",
    "index = 3032"
   ]
  },
  {
   "cell_type": "code",
   "execution_count": 5,
   "id": "e7c349c8-83b0-4735-9d3d-c98d4edba32e",
   "metadata": {},
   "outputs": [],
   "source": [
    "huc2 = '01'\n",
    "file_path = '/nas/cee-water/cjgleason/fiona/narrow_rivers_PIXC/data/PIXC_v2_0_HUC2_' + huc2 + '_filtered.json'\n",
    "data = open_json(file_path)"
   ]
  },
  {
   "cell_type": "code",
   "execution_count": 6,
   "id": "85b6f73f-964f-4bda-a324-b6d4e710dc4d",
   "metadata": {},
   "outputs": [],
   "source": [
    "file_name = data[index]"
   ]
  },
  {
   "cell_type": "code",
   "execution_count": 7,
   "id": "900dad6e-8c22-4a17-a2f7-37ef07f35ca7",
   "metadata": {},
   "outputs": [
    {
     "name": "stdout",
     "output_type": "stream",
     "text": [
      "SWOT_L2_HR_PIXC_019_063_232R_20240802T005329_20240802T005340_PIC0_01\n"
     ]
    }
   ],
   "source": [
    "# Get data for this tile\n",
    "granule_name = file_name[:-3]\n",
    "tile_name = file_name[20:28]\n",
    "pass_num = int(file_name[20:23])\n",
    "\n",
    "print(granule_name)"
   ]
  },
  {
   "cell_type": "markdown",
   "id": "974aa2a9-a339-4bc6-9b58-9e6e7c6ec405",
   "metadata": {
    "tags": []
   },
   "source": [
    "#### Read in PIXC"
   ]
  },
  {
   "cell_type": "code",
   "execution_count": 8,
   "id": "b6a2ddd5-b8ce-4b2d-8e04-12e41eecc1ce",
   "metadata": {},
   "outputs": [],
   "source": [
    "# Set PIXC filepath\n",
    "pixc_path = os.path.join(data_path, file_name)"
   ]
  },
  {
   "cell_type": "code",
   "execution_count": 9,
   "id": "aefb478b-ff8b-41b4-9576-0fdf0ba0a9c0",
   "metadata": {},
   "outputs": [],
   "source": [
    "# Read in pixel group\n",
    "ds_PIXC = xr.open_mfdataset(paths=pixc_path, group = 'pixel_cloud', engine='h5netcdf')"
   ]
  },
  {
   "cell_type": "code",
   "execution_count": 10,
   "id": "993471a7-b1b5-41bc-8401-1a03c47fe554",
   "metadata": {},
   "outputs": [
    {
     "name": "stdout",
     "output_type": "stream",
     "text": [
      "(140257,)\n"
     ]
    }
   ],
   "source": [
    "# Make mask\n",
    "mask = bitwiseMask(ds_PIXC)\n",
    "\n",
    "if mask.shape[0] == 0:\n",
    "    print('This granule has no pixels after masking, exiting.')\n",
    "    # sys.exit(1)    "
   ]
  },
  {
   "cell_type": "code",
   "execution_count": 11,
   "id": "daa9c587-4d39-40f3-9a7f-374fed33b165",
   "metadata": {},
   "outputs": [],
   "source": [
    "# Set desired data vars\n",
    "variables = ['azimuth_index', 'range_index', 'cross_track',\n",
    "             'pixel_area', 'height', 'geoid', 'prior_water_prob',\n",
    "             'classification']"
   ]
  },
  {
   "cell_type": "code",
   "execution_count": 12,
   "id": "37bc9371-c418-4578-851d-950ee3261a55",
   "metadata": {},
   "outputs": [],
   "source": [
    "# Convert PIXC to GeoDataFrame\n",
    "gdf_PIXC = makeGDF(ds=ds_PIXC, mask=mask, data_vars=variables)"
   ]
  },
  {
   "cell_type": "markdown",
   "id": "67de04c0-8e96-4b5d-be2b-0ca295d75273",
   "metadata": {},
   "source": [
    "### Find correct HUC4s"
   ]
  },
  {
   "cell_type": "code",
   "execution_count": 13,
   "id": "af1db866-f656-41d6-bde7-383044114334",
   "metadata": {},
   "outputs": [],
   "source": [
    "### NHDPlus HR\n",
    "## Find correct HUC4s\n",
    "# Read in tile and HUC4 intersection data\n",
    "mdata_path = '/nas/cee-water/cjgleason/fiona/narrow_rivers_PIXC/data/'\n",
    "dtype_dic= {'tile': str, 'huc4': str, 'coverage': float}\n",
    "tile_huc4 = pd.read_csv(os.path.join(mdata_path,\n",
    "                                    'huc4_swot_science_tiles.csv'),\n",
    "                        dtype=dtype_dic)"
   ]
  },
  {
   "cell_type": "code",
   "execution_count": 14,
   "id": "6c241cb3-e5b4-43b8-86f2-9d8c0afdff10",
   "metadata": {},
   "outputs": [],
   "source": [
    "# Make list of HUC4s that intersect the tile\n",
    "hucs = list(tile_huc4[(tile_huc4['tile'] == tile_name)]['huc4'])\n",
    "# Limit to the current HUC2\n",
    "hucs = [x for x in hucs if x.startswith(huc2)]"
   ]
  },
  {
   "cell_type": "code",
   "execution_count": 15,
   "id": "d97ee289-b5c4-4952-9521-71c052b8861b",
   "metadata": {},
   "outputs": [
    {
     "data": {
      "text/plain": [
       "['0108']"
      ]
     },
     "execution_count": 15,
     "metadata": {},
     "output_type": "execute_result"
    }
   ],
   "source": [
    "hucs"
   ]
  },
  {
   "cell_type": "code",
   "execution_count": 16,
   "id": "ff7ccdd0-2b70-4c2f-9956-0c217fd033f5",
   "metadata": {},
   "outputs": [],
   "source": [
    "# Get NHD index metadata\n",
    "# Define dtypes for lookup tables to preserve leading zeros\n",
    "dtype_dic= {'HUC4': str, 'HUC2': str, 'toBasin': str, 'level': str}\n",
    "# Read in HUC lookup table\n",
    "huc_lookup = pd.read_csv(os.path.join(mdata_path,\n",
    "                                  'HUC4_lookup_no_great_lakes.csv'),\n",
    "                     dtype=dtype_dic)"
   ]
  },
  {
   "cell_type": "code",
   "execution_count": 17,
   "id": "54816995-c079-4e3b-b9f3-4730303297c2",
   "metadata": {},
   "outputs": [],
   "source": [
    "# Extract indices for read-in\n",
    "indices = list(huc_lookup[huc_lookup['HUC4'].isin(hucs)]['slurm_index'])"
   ]
  },
  {
   "cell_type": "markdown",
   "id": "8e4a50c6-9306-4d1e-853a-739263c0fe9e",
   "metadata": {},
   "source": [
    "### Read in HUC4 flowliness"
   ]
  },
  {
   "cell_type": "code",
   "execution_count": 18,
   "id": "a3024ad7-ba58-4910-8213-74a918a0117f",
   "metadata": {},
   "outputs": [
    {
     "name": "stdout",
     "output_type": "stream",
     "text": [
      "type: normal\n",
      "NHDPLUS_H_0108_HU4_GDB\n",
      "flowlines read-in\n",
      "exploded\n"
     ]
    }
   ],
   "source": [
    "# Create merged dataframe of all flowlines intersected\n",
    "if len(indices) == 1:\n",
    "    # Read prepped NHD\n",
    "    flowlines, _, _,  = readNHD(index=indices[0])\n",
    "    # huc4_list, huc2_list = readNHD(index=indices[0])\n",
    "else:\n",
    "    # Initialize lists\n",
    "    d = []\n",
    "    # huc4_list = []\n",
    "    # huc2_list = []\n",
    "    # Loop through indices and store in lists\n",
    "    for i in indices:\n",
    "        # Read prepped NHD\n",
    "        flowlines, _, _ = readNHD(index=i)\n",
    "        # huc4, huc2 = readNHD(index=i)\n",
    "        # Append to lists\n",
    "        d.append(flowlines)\n",
    "        # huc4_list.append(huc4) # I DON'T DO ANYTHING WITH THIS\n",
    "        # huc2_list.append(huc2) # I DON'T DO ANYTHING WITH THIS\n",
    "    # Merge GeoDataFrames\n",
    "    flowlines = pd.concat(d)"
   ]
  },
  {
   "cell_type": "code",
   "execution_count": 19,
   "id": "2d85aef5-6afd-400d-9ef4-ce7776e46455",
   "metadata": {},
   "outputs": [],
   "source": [
    "# Project CRS (currently to WGS 84 / UTM zone 18N) \n",
    "flowlines = flowlines.to_crs(epsg=32618)"
   ]
  },
  {
   "cell_type": "code",
   "execution_count": 20,
   "id": "fa5fa3a8-8e3a-4eca-90f9-7386701158a5",
   "metadata": {},
   "outputs": [
    {
     "name": "stdout",
     "output_type": "stream",
     "text": [
      "INFO: Pandarallel will run on 8 workers.\n",
      "INFO: Pandarallel will use Memory file system to transfer data between the main process and workers.\n"
     ]
    }
   ],
   "source": [
    "pandarallel.initialize(nb_workers=int(os.environ.get('SLURM_CPUS_PER_TASK')))"
   ]
  },
  {
   "cell_type": "code",
   "execution_count": 21,
   "id": "ac849696-fa37-4a78-b96e-97ae7a13f8d3",
   "metadata": {},
   "outputs": [
    {
     "name": "stdout",
     "output_type": "stream",
     "text": [
      "4.612061977386475\n"
     ]
    }
   ],
   "source": [
    "start = time.time()\n",
    "# Args are the width, cap_style, segmented=False, extra=False\n",
    "# Buffering with extra distance to capture pixels that would overlap\n",
    "# once converted to pseudo-pixels\n",
    "flowlines['buffer'] = flowlines.parallel_apply(user_defined_function=specialBuffer,\n",
    "                                                         args=(width,\n",
    "                                                               'flat', False, True),\n",
    "                                                         axis=1)\n",
    "end = time.time()\n",
    "print(end - start)"
   ]
  },
  {
   "cell_type": "code",
   "execution_count": 22,
   "id": "5548c6b5-dbb6-4057-a10d-031ad6b49120",
   "metadata": {},
   "outputs": [],
   "source": [
    "# Set geometry to buffered reaches\n",
    "flowlines = flowlines.set_geometry('buffer').set_crs(epsg=32618)"
   ]
  },
  {
   "cell_type": "code",
   "execution_count": 27,
   "id": "d30b2202-6fc8-441d-a37d-50cca6e4352f",
   "metadata": {},
   "outputs": [],
   "source": [
    "# Clip masked pixels to buffered reaches\n",
    "gdf_PIXC_clip = gpd.sjoin(gdf_PIXC, flowlines, how='inner', predicate='within')"
   ]
  },
  {
   "cell_type": "code",
   "execution_count": 28,
   "id": "2ce0ed83-fac7-49c0-a144-56cc42745e38",
   "metadata": {},
   "outputs": [],
   "source": [
    "if gdf_PIXC_clip.shape[0] == 0:\n",
    "    print('This granule has no pixels that intersect reaches, exiting.')\n",
    "    # sys.exit() "
   ]
  },
  {
   "cell_type": "code",
   "execution_count": 29,
   "id": "b7252ffe-8a88-430a-80da-f4f4523b4355",
   "metadata": {},
   "outputs": [
    {
     "data": {
      "text/plain": [
       "Index(['points', 'azimuth_index', 'range_index', 'cross_track', 'pixel_area',\n",
       "       'height', 'geoid', 'prior_water_prob', 'klass', 'latitude', 'longitude',\n",
       "       'geometry', 'index_right', 'NHDPlusID', 'GNIS_Name', 'LengthKM',\n",
       "       'WidthM', 'WidthM_Min', 'WidthM_Max', 'Bin', 'Bin_Min', 'Bin_Max',\n",
       "       'geometry_right'],\n",
       "      dtype='object')"
      ]
     },
     "execution_count": 29,
     "metadata": {},
     "output_type": "execute_result"
    }
   ],
   "source": [
    "gdf_PIXC_clip.columns"
   ]
  },
  {
   "cell_type": "code",
   "execution_count": 30,
   "id": "2f18adb5-7c9a-4548-9900-8046bd621bf4",
   "metadata": {},
   "outputs": [],
   "source": [
    "# Drop unneeded cols\n",
    "gdf_PIXC_clip = gdf_PIXC_clip.drop(columns=['index_right', 'NHDPlusID',\n",
    "                                            'GNIS_Name', 'LengthKM',\n",
    "                                            'WidthM', 'WidthM_Min',\n",
    "                                            'WidthM_Max', 'Bin', 'Bin_Min',\n",
    "                                            'Bin_Max', 'geometry_right'])"
   ]
  },
  {
   "cell_type": "code",
   "execution_count": 31,
   "id": "e3dab0c0-ebf2-4f0f-8417-0610c31bd14a",
   "metadata": {},
   "outputs": [],
   "source": [
    "### STOPPED HERE 02-25-25"
   ]
  },
  {
   "cell_type": "markdown",
   "id": "97e0a9cb-0326-4126-8c16-a863f5891f6d",
   "metadata": {
    "tags": []
   },
   "source": [
    "### Nadir track"
   ]
  },
  {
   "cell_type": "code",
   "execution_count": 32,
   "id": "3296b62c-896b-49d9-a09f-9795daaedb2e",
   "metadata": {},
   "outputs": [],
   "source": [
    "# Get single pixel for selecting correct nadir segment\n",
    "pixel_pt = gdf_PIXC_clip.iloc[0].geometry"
   ]
  },
  {
   "cell_type": "code",
   "execution_count": 33,
   "id": "16ed2efd-7ef6-432d-bbcb-f93e6dd58a0f",
   "metadata": {},
   "outputs": [
    {
     "name": "stderr",
     "output_type": "stream",
     "text": [
      "/work/pi_cjgleason_umass_edu/.conda/envs/narrowPIXC/lib/python3.12/site-packages/geopandas/geodataframe.py:1819: SettingWithCopyWarning: \n",
      "A value is trying to be set on a copy of a slice from a DataFrame.\n",
      "Try using .loc[row_indexer,col_indexer] = value instead\n",
      "\n",
      "See the caveats in the documentation: https://pandas.pydata.org/pandas-docs/stable/user_guide/indexing.html#returning-a-view-versus-a-copy\n",
      "  super().__setitem__(key, value)\n"
     ]
    }
   ],
   "source": [
    "# Find correct nadir segment and return its geometry\n",
    "nadir_segment_ln = findNadir(pass_num=pass_num, pixel_pt=pixel_pt)"
   ]
  },
  {
   "cell_type": "markdown",
   "id": "6af80e8a-07ba-4f91-8636-b12874ac4bd1",
   "metadata": {},
   "source": [
    "### Make pseudo pixels"
   ]
  },
  {
   "cell_type": "code",
   "execution_count": 34,
   "id": "551e670e-f660-4137-b0ad-555e44b9a7a1",
   "metadata": {},
   "outputs": [],
   "source": [
    "# Set along-track pixel resolution\n",
    "azimuth_res = 21 # meters"
   ]
  },
  {
   "cell_type": "code",
   "execution_count": 35,
   "id": "b55b182b-82e9-4931-a2f6-bb21f8760149",
   "metadata": {},
   "outputs": [
    {
     "name": "stdout",
     "output_type": "stream",
     "text": [
      "0.7610683441162109\n"
     ]
    }
   ],
   "source": [
    "# Make pseudo pixels\n",
    "start = time.time()\n",
    "gdf_PIXC_clip['pseudo_pixel'] = gdf_PIXC_clip.parallel_apply(user_defined_function=makePseudoPixels,\n",
    "                                                         args=(nadir_segment_ln,\n",
    "                                                               azimuth_res),\n",
    "                                                         axis=1)\n",
    "end = time.time()\n",
    "print(end - start)"
   ]
  },
  {
   "cell_type": "code",
   "execution_count": 36,
   "id": "d48d2577-f46b-4b89-95ce-e6e2d3894f45",
   "metadata": {},
   "outputs": [],
   "source": [
    "# fig, ax = plt.subplots(figsize=(8,8))\n",
    "# gdf_PIXC_clip.iloc[5:10]['pseudo_pixel'].plot(ax=ax, alpha=0.5, color='y')\n",
    "# gdf_PIXC_clip.iloc[5:10].plot(ax=ax, markersize=5, color='hotpink')"
   ]
  },
  {
   "cell_type": "code",
   "execution_count": 37,
   "id": "e876d8aa-3055-4632-8cce-098926468f89",
   "metadata": {},
   "outputs": [],
   "source": [
    "# xxxWHY NOT JUST KEEP THE SAME DATA FRAME AND DROP THE UNWANTED COLS?\n",
    "# pseudo = gdf_PIXC_clip.drop(columns='geometry').set_geometry('pseudo_pixel').set_crs(crs=gdf_PIXC_clip.crs)\n",
    "gdf_PIXC_clip = gdf_PIXC_clip.rename(columns={'geometry': 'pixel_centroid'}).set_geometry('pseudo_pixel')"
   ]
  },
  {
   "cell_type": "code",
   "execution_count": 38,
   "id": "17fa13af-60b3-461f-9ad7-b4182e728520",
   "metadata": {},
   "outputs": [],
   "source": [
    "# Get bounds of PIXC tile\n",
    "pseudo_bounds = gdf_PIXC_clip.total_bounds\n",
    "# Copy geometry column as sjoin will discard it\n",
    "gdf_PIXC_clip['pseudo_geom'] = gdf_PIXC_clip.geometry\n",
    "# pseudo_poly = box(pseudo_bounds[0], pseudo_bounds[1],\n",
    "#                       pseudo_bounds[2], pseudo_bounds[3])\n",
    "# gdf_pseudo_bounds = gpd.GeoDataFrame({'geometry': [pseudo_bounds]}, crs=pseudo.crs)"
   ]
  },
  {
   "cell_type": "code",
   "execution_count": 39,
   "id": "bcdddc2f-92f9-4f7f-ab5f-de0dd6b9fa18",
   "metadata": {},
   "outputs": [],
   "source": [
    "# save_path = '/nas/cee-water/cjgleason/fiona/narrow_rivers_PIXC_data/PIXC_v2_0_pseudo_pixels_filtered/'"
   ]
  },
  {
   "cell_type": "code",
   "execution_count": 40,
   "id": "0517051b-705f-48a2-b160-d22726c0f8a9",
   "metadata": {},
   "outputs": [],
   "source": [
    "# gdf_PIXC.to_parquet(path=save_path + granule_name + '.parquet')"
   ]
  },
  {
   "cell_type": "markdown",
   "id": "858c7484-d355-4b2e-b0ce-3f33d5fdedff",
   "metadata": {},
   "source": [
    "### Read in segments"
   ]
  },
  {
   "cell_type": "code",
   "execution_count": 111,
   "id": "b7c9cb9a-d551-45ac-a1dd-239a86d63a02",
   "metadata": {},
   "outputs": [
    {
     "name": "stdout",
     "output_type": "stream",
     "text": [
      "type: segmented\n",
      "NHDPLUS_H_0108_HU4_GDB\n",
      "/nas/cee-water/cjgleason/fiona/narrow_rivers_PIXC_data/NHD_prepped_segmented/HUC2_01/NHDPLUS_H_0108_HU4_GDB_prepped_segmented.parquet\n",
      "segments read-in\n"
     ]
    }
   ],
   "source": [
    "# Create merged dataframe of all basins intersected\n",
    "if len(indices) == 1:\n",
    "    # Read prepped NHD\n",
    "    segments, _, _ = readNHD(index=indices[0], segmented=True)\n",
    "else:\n",
    "    # Initialize lists\n",
    "    d = []\n",
    "    # Loop through indices and store in lists\n",
    "    for i in indices:\n",
    "        # Read prepped NHD\n",
    "        segments, huc4, _ = readNHD(index=i, segmented=True)\n",
    "        # Make column with HUC4 id\n",
    "        segments['huc4_long'] = huc4\n",
    "        segments['huc4'] = segments['huc4_long'].str[10:14]\n",
    "        # Rename segments to geometry\n",
    "        # segments = segments.rename(columns={'segments': 'geometry'}).set_geometry('geometry')\n",
    "        # Append to list\n",
    "        d.append(segments)\n",
    "    # Merge GeoDataFrames\n",
    "    segments = pd.concat(d)"
   ]
  },
  {
   "cell_type": "code",
   "execution_count": 43,
   "id": "67d8653c-139d-4b22-8086-66bf4f94f21e",
   "metadata": {},
   "outputs": [],
   "source": [
    "# # Cast objects to string type so they aren't dropped in groupby()\n",
    "# segments['Bin'] = segments['Bin'].astype('|S')\n",
    "# segments['GNIS_Name'] = segments['GNIS_Name'].astype(str).str.encode('utf-8', errors='replace').str.decode('utf-8')"
   ]
  },
  {
   "cell_type": "code",
   "execution_count": 44,
   "id": "62c671d0-f61d-433b-99de-eec37397e95e",
   "metadata": {},
   "outputs": [],
   "source": [
    "# segments['GNIS_Name'] = segments['GNIS_Name'].astype('|S')"
   ]
  },
  {
   "cell_type": "code",
   "execution_count": 113,
   "id": "a534f6b9-3e6e-4cec-92c5-8c5d56f5fd60",
   "metadata": {},
   "outputs": [],
   "source": [
    "# Project CRS (currently to WGS 84 / UTM zone 18N)\n",
    "segments = segments.to_crs(epsg='32618')"
   ]
  },
  {
   "cell_type": "code",
   "execution_count": 114,
   "id": "3dc9195a-211a-4b7b-b6b3-f1f672cbd55c",
   "metadata": {},
   "outputs": [],
   "source": [
    "segments = segments.reset_index().rename(columns={'index': 'index_old'})"
   ]
  },
  {
   "cell_type": "code",
   "execution_count": 115,
   "id": "932d1556-d32d-48cd-8d8a-f1a0525cf85e",
   "metadata": {},
   "outputs": [],
   "source": [
    "# Assign a unique counter within each index group\n",
    "segments['counter'] = segments.groupby('NHDPlusID').cumcount()"
   ]
  },
  {
   "cell_type": "code",
   "execution_count": 116,
   "id": "03797142-86ba-4750-bcf1-9143580b01cd",
   "metadata": {},
   "outputs": [],
   "source": [
    "# Keep only first ten segments (some reaches repeat)\n",
    "segments = segments[segments['counter'] < 10]\n",
    "\n",
    "# For HUC4_0109, 5000700035256 and 5000700072690"
   ]
  },
  {
   "cell_type": "code",
   "execution_count": 117,
   "id": "ff1ab870-8a1e-40f2-ac46-aaf7d26d3cb2",
   "metadata": {},
   "outputs": [],
   "source": [
    "segments = segments.clip(pseudo_bounds)"
   ]
  },
  {
   "cell_type": "code",
   "execution_count": 118,
   "id": "3b7bbb49-83b0-4fdc-b0c8-e2dc41d3a8c5",
   "metadata": {},
   "outputs": [],
   "source": [
    "# Keep only reaches that are fully contained in PIXC granule\n",
    "segments = segments.groupby('NHDPlusID').filter(lambda x: len(x) == 10)"
   ]
  },
  {
   "cell_type": "code",
   "execution_count": 119,
   "id": "0b854ca8-21bb-4696-a910-f3e3238df018",
   "metadata": {},
   "outputs": [],
   "source": [
    "# Get number of reaches per bin\n",
    "counts = pd.DataFrame(segments[binn].value_counts()).reset_index()"
   ]
  },
  {
   "cell_type": "code",
   "execution_count": 120,
   "id": "4cd65d06-9ae8-43eb-9752-56c0c51017b3",
   "metadata": {},
   "outputs": [
    {
     "data": {
      "text/html": [
       "<div>\n",
       "<style scoped>\n",
       "    .dataframe tbody tr th:only-of-type {\n",
       "        vertical-align: middle;\n",
       "    }\n",
       "\n",
       "    .dataframe tbody tr th {\n",
       "        vertical-align: top;\n",
       "    }\n",
       "\n",
       "    .dataframe thead th {\n",
       "        text-align: right;\n",
       "    }\n",
       "</style>\n",
       "<table border=\"1\" class=\"dataframe\">\n",
       "  <thead>\n",
       "    <tr style=\"text-align: right;\">\n",
       "      <th></th>\n",
       "      <th>Bin_Min</th>\n",
       "      <th>count</th>\n",
       "    </tr>\n",
       "  </thead>\n",
       "  <tbody>\n",
       "    <tr>\n",
       "      <th>0</th>\n",
       "      <td>(0, 10]</td>\n",
       "      <td>15330</td>\n",
       "    </tr>\n",
       "    <tr>\n",
       "      <th>1</th>\n",
       "      <td>(10, 20]</td>\n",
       "      <td>860</td>\n",
       "    </tr>\n",
       "    <tr>\n",
       "      <th>2</th>\n",
       "      <td>(20, 30]</td>\n",
       "      <td>270</td>\n",
       "    </tr>\n",
       "    <tr>\n",
       "      <th>3</th>\n",
       "      <td>(30, 40]</td>\n",
       "      <td>70</td>\n",
       "    </tr>\n",
       "  </tbody>\n",
       "</table>\n",
       "</div>"
      ],
      "text/plain": [
       "    Bin_Min  count\n",
       "0   (0, 10]  15330\n",
       "1  (10, 20]    860\n",
       "2  (20, 30]    270\n",
       "3  (30, 40]     70"
      ]
     },
     "execution_count": 120,
     "metadata": {},
     "output_type": "execute_result"
    }
   ],
   "source": [
    "counts"
   ]
  },
  {
   "cell_type": "code",
   "execution_count": 121,
   "id": "60f685a6-192f-4bc9-9825-b52f0309ee2c",
   "metadata": {},
   "outputs": [
    {
     "name": "stdout",
     "output_type": "stream",
     "text": [
      "1.2981388568878174\n"
     ]
    }
   ],
   "source": [
    "# Buffer segments\n",
    "## PARALLELIZE\n",
    "start = time.time()\n",
    "segments['buffer'] = segments.parallel_apply(user_defined_function=specialBuffer,\n",
    "                                                         args=(width,\n",
    "                                                               'flat', True, False),\n",
    "                                                         axis=1)\n",
    "end = time.time()\n",
    "print(end - start)\n",
    "# segments['buffered'] = segments.buffer(distance=(segments.WidthM/2), cap_style='flat')"
   ]
  },
  {
   "cell_type": "code",
   "execution_count": 122,
   "id": "c59edf28-3592-4420-8c5f-0d189b1bbb47",
   "metadata": {},
   "outputs": [],
   "source": [
    "segments = segments.set_geometry('buffer')"
   ]
  },
  {
   "cell_type": "code",
   "execution_count": 123,
   "id": "175df691-6f78-4743-9422-044a045be63b",
   "metadata": {},
   "outputs": [],
   "source": [
    "# Calculate segment area\n",
    "segments['segment_area'] = segments.geometry.area"
   ]
  },
  {
   "cell_type": "code",
   "execution_count": 54,
   "id": "348a07d9-66cd-4c01-8d0a-6b76b64f14ad",
   "metadata": {},
   "outputs": [],
   "source": [
    "# segments.sort_values(['NHDPlusID', 'counter'])"
   ]
  },
  {
   "cell_type": "code",
   "execution_count": 55,
   "id": "70ef2988-130c-4dc4-b86e-703b01337044",
   "metadata": {},
   "outputs": [],
   "source": [
    "# segments_buff = segments.geometry.buffer(distance=(segments.WidthM/2), cap_style='flat')"
   ]
  },
  {
   "cell_type": "code",
   "execution_count": 56,
   "id": "86858ce8-2980-4900-a3df-8a617f7691e1",
   "metadata": {},
   "outputs": [],
   "source": [
    "# segment_bounds = segments_buff.bounds"
   ]
  },
  {
   "cell_type": "code",
   "execution_count": 57,
   "id": "fbed24f4-f2b7-4d5a-9e0c-5ffef26f5ef9",
   "metadata": {},
   "outputs": [],
   "source": [
    "# ## Clip the pseudo pixels to the bounds of the reach\n",
    "# pseudo_all = pseudo.union_all()"
   ]
  },
  {
   "cell_type": "code",
   "execution_count": 58,
   "id": "3818d284-dc74-42a0-a870-669ac2858cc5",
   "metadata": {},
   "outputs": [],
   "source": [
    "# fig, ax = plt.subplots(figsize=(8,8))\n",
    "# pseudo.plot(ax=ax, column='klass')\n",
    "# segments.plot(ax=ax, color='k', alpha=0.6)\n",
    "# plt.xlim(824000, 826000)\n",
    "# plt.ylim(4741000, 4743000)"
   ]
  },
  {
   "cell_type": "code",
   "execution_count": 59,
   "id": "ec5c6340-d7c4-43e2-b0f5-fd158e1c5f33",
   "metadata": {},
   "outputs": [],
   "source": [
    "# Merge the segments and pseudo-puxels by intersection\n",
    "sj = gpd.sjoin(segments, gdf_PIXC_clip, how='left', predicate='intersects')"
   ]
  },
  {
   "cell_type": "code",
   "execution_count": 60,
   "id": "ba0ac9e6-dab0-4041-88fb-d8822c992d36",
   "metadata": {},
   "outputs": [
    {
     "data": {
      "text/plain": [
       "Index(['index_old', 'NHDPlusID', 'GNIS_Name', 'LengthKM', 'WidthM',\n",
       "       'WidthM_Min', 'WidthM_Max', 'Bin', 'segments', 'Bin_Min', 'Bin_Max',\n",
       "       'counter', 'buffer', 'segment_area', 'index_right', 'points',\n",
       "       'azimuth_index', 'range_index', 'cross_track', 'pixel_area', 'height',\n",
       "       'geoid', 'prior_water_prob', 'klass', 'latitude', 'longitude',\n",
       "       'pixel_centroid', 'pseudo_geom'],\n",
       "      dtype='object')"
      ]
     },
     "execution_count": 60,
     "metadata": {},
     "output_type": "execute_result"
    }
   ],
   "source": [
    "sj.columns"
   ]
  },
  {
   "cell_type": "code",
   "execution_count": 61,
   "id": "6f9e5cbc-e442-446a-817a-6bb906375509",
   "metadata": {},
   "outputs": [],
   "source": [
    "sj = sj.drop(columns=['index_right', 'points', 'azimuth_index',\n",
    "                      'range_index',\n",
    "                      'height', 'geoid',\n",
    "                      'klass', 'latitude', 'longitude'])"
   ]
  },
  {
   "cell_type": "code",
   "execution_count": 62,
   "id": "f48dcf6b-0694-4530-8210-b1f4e67503fb",
   "metadata": {},
   "outputs": [],
   "source": [
    "sj = sj.set_geometry('pseudo_geom')"
   ]
  },
  {
   "cell_type": "code",
   "execution_count": 63,
   "id": "3eb299f3-11fe-4a77-b980-74a147d91ed8",
   "metadata": {
    "tags": []
   },
   "outputs": [],
   "source": [
    "sj = sj.groupby('NHDPlusID', as_index=False).parallel_apply(user_defined_function=specialDissolve)"
   ]
  },
  {
   "cell_type": "code",
   "execution_count": 64,
   "id": "5f32fc46-db8a-4af3-b338-69916f89b970",
   "metadata": {},
   "outputs": [],
   "source": [
    "sj = sj.reset_index().drop(columns=['level_0', 'level_1'])"
   ]
  },
  {
   "cell_type": "code",
   "execution_count": 65,
   "id": "42128a0c-acec-4611-8015-00f019e040b3",
   "metadata": {},
   "outputs": [],
   "source": [
    "# def specialClip(df):\n",
    "#     '''\n",
    "#     XXX\n",
    "#     '''\n",
    "#     left = gpd.GeoSeries(df.pseudo_geom)\n",
    "#     right = gpd.GeoSeries(df.buffer)\n",
    "#     pseudo_geom_clip = left.clip(right)\n",
    "#     return pseudo_geom_clip"
   ]
  },
  {
   "cell_type": "code",
   "execution_count": 66,
   "id": "72aa0b69-3521-4503-832d-8466a12a41f6",
   "metadata": {},
   "outputs": [],
   "source": [
    "sj['pseudo_geom_clip'] = sj.parallel_apply(user_defined_function=specialClip,\n",
    "                                                         axis=1)"
   ]
  },
  {
   "cell_type": "code",
   "execution_count": 67,
   "id": "314344b3-7c33-469a-a342-87b04b897dc4",
   "metadata": {},
   "outputs": [],
   "source": [
    "# sj[sj['NHDPlusID'] == 10000900090399].pseudo_geom.plot(cmap='hsv')"
   ]
  },
  {
   "cell_type": "code",
   "execution_count": 68,
   "id": "29f5b63e-eb10-4d3e-b58a-a9e578306285",
   "metadata": {},
   "outputs": [],
   "source": [
    "# Calculate the pseudo-pixel area within each node\n",
    "sj['pseudo_area'] = sj.pseudo_geom_clip.area"
   ]
  },
  {
   "cell_type": "code",
   "execution_count": 69,
   "id": "c0764bd5-a82b-45a5-9075-73fda889aa00",
   "metadata": {},
   "outputs": [],
   "source": [
    "sj['coverage'] = sj.pseudo_area/sj.segment_area"
   ]
  },
  {
   "cell_type": "code",
   "execution_count": 70,
   "id": "e1322003-acaa-42b3-bb88-1058399bdc55",
   "metadata": {},
   "outputs": [],
   "source": [
    "# sj_w_zero = sj.copy()"
   ]
  },
  {
   "cell_type": "code",
   "execution_count": 71,
   "id": "7ba267bf-a933-4d27-af5a-cd73331720db",
   "metadata": {},
   "outputs": [],
   "source": [
    "# sj_w_zero['coverage'] = sj_w_zero['coverage'].fillna(0)\n",
    "sj['coverage'] = sj['coverage'].fillna(0)"
   ]
  },
  {
   "cell_type": "code",
   "execution_count": 72,
   "id": "3d98382a-9c53-4050-8e3e-6c63a97542c0",
   "metadata": {},
   "outputs": [],
   "source": [
    "# mask = sj.duplicated(subset=('NHDPlusID', 'counter'), keep=False)"
   ]
  },
  {
   "cell_type": "code",
   "execution_count": 73,
   "id": "fe4f07ff-e725-4420-b583-85737a512d2c",
   "metadata": {},
   "outputs": [],
   "source": [
    "# sj[mask][['NHDPlusID', 'counter', 'overlap_area']]"
   ]
  },
  {
   "cell_type": "code",
   "execution_count": 74,
   "id": "3ad592f5-79d5-4a12-bba6-9c25762128e5",
   "metadata": {},
   "outputs": [],
   "source": [
    "# dupe_mask = sj.duplicated(subset=['NHDPlusID', 'counter'], keep=False)"
   ]
  },
  {
   "cell_type": "code",
   "execution_count": 75,
   "id": "d368e941-ae72-49c3-b72e-d6c43151aef1",
   "metadata": {},
   "outputs": [],
   "source": [
    "# sj[dupe_mask].segment_area"
   ]
  },
  {
   "cell_type": "code",
   "execution_count": 76,
   "id": "20a49ae4-0d78-47eb-ba0f-7116ab3047d8",
   "metadata": {},
   "outputs": [],
   "source": [
    "# len(sj[dupe_mask].index.unique())"
   ]
  },
  {
   "cell_type": "code",
   "execution_count": 77,
   "id": "9adee388-e6d8-4685-9c2f-8e99e60f691d",
   "metadata": {},
   "outputs": [],
   "source": [
    "# sj = sj.groupby(['NHDPlusID', 'counter'], as_index=False).sum('overlap_area')"
   ]
  },
  {
   "cell_type": "code",
   "execution_count": 78,
   "id": "52a6101d-d8ba-4328-bceb-bed8f68c2ca5",
   "metadata": {},
   "outputs": [],
   "source": [
    "# sj.sort_values(by=['NHDPlusID', 'counter'])"
   ]
  },
  {
   "cell_type": "code",
   "execution_count": 79,
   "id": "904c5ce9-3024-4a23-8f6d-db4f617c2ad8",
   "metadata": {},
   "outputs": [],
   "source": [
    "# sj['coverage'] = sj.overlap_area/sj.segment_area"
   ]
  },
  {
   "cell_type": "code",
   "execution_count": 80,
   "id": "dcca7ac8-5939-4f86-ac57-70b82190532d",
   "metadata": {},
   "outputs": [],
   "source": [
    "# sj.sort_values(by=['NHDPlusID', 'counter'])"
   ]
  },
  {
   "cell_type": "code",
   "execution_count": 81,
   "id": "35f592e3-7c73-4f54-b16f-084740260a7a",
   "metadata": {},
   "outputs": [],
   "source": [
    "# sj[sj['overlap_area'] > 0].sort_values(['index_old', 'counter'])"
   ]
  },
  {
   "cell_type": "code",
   "execution_count": 82,
   "id": "d924c5f3-6a9d-410e-867a-8b00a5d4a461",
   "metadata": {},
   "outputs": [],
   "source": [
    "# Merge back on Bin and GNIS_Name (dropped in groupby because they are objects)\n",
    "# sj = pd.merge(left=sj, right=flowlines[['NHDPlusID', 'Bin', 'GNIS_Name']], on='NHDPlusID', how='left')"
   ]
  },
  {
   "cell_type": "code",
   "execution_count": 83,
   "id": "782a2bdc-75e7-4dd4-9f2d-8f4924725b0c",
   "metadata": {},
   "outputs": [],
   "source": [
    "# sj = sj.rename(columns={'Bin_x': 'Bin', 'GNIS_Name_x': 'GNIS_Name'}).drop(columns=['Bin_y', 'GNIS_Name_y'])"
   ]
  },
  {
   "cell_type": "markdown",
   "id": "622bd27e-cf7c-4c1e-a7aa-b2ed4f32d675",
   "metadata": {},
   "source": [
    "### Do stats"
   ]
  },
  {
   "cell_type": "code",
   "execution_count": 84,
   "id": "ed1d559f-4dba-4724-bd78-75421e17e7a3",
   "metadata": {},
   "outputs": [],
   "source": [
    "bins = sj.Bin.unique()"
   ]
  },
  {
   "cell_type": "markdown",
   "id": "83913ffa-7a78-4c5a-8f5e-5aabce3065d4",
   "metadata": {
    "tags": []
   },
   "source": [
    "#### Nodes"
   ]
  },
  {
   "cell_type": "code",
   "execution_count": 85,
   "id": "b699651d-51e1-47bf-bf38-882806cc97dc",
   "metadata": {},
   "outputs": [],
   "source": [
    "# nodes_mean = sj.groupby('Bin')['coverage'].mean().to_list()"
   ]
  },
  {
   "cell_type": "code",
   "execution_count": 86,
   "id": "61be76ec-18bd-447d-a476-9175eac8c75a",
   "metadata": {},
   "outputs": [],
   "source": [
    "# nodes_std = sj.groupby('Bin')['coverage'].std().to_list()"
   ]
  },
  {
   "cell_type": "code",
   "execution_count": 87,
   "id": "73c6f6ee-8278-4d45-9215-e12bff4ab82a",
   "metadata": {},
   "outputs": [],
   "source": [
    "# nodes_count = sj.groupby('Bin')['coverage'].count().to_list()"
   ]
  },
  {
   "cell_type": "code",
   "execution_count": 88,
   "id": "6d9f3e42-cb90-4d40-982b-65899569cf4c",
   "metadata": {},
   "outputs": [],
   "source": [
    "# node_desc = sj.groupby('Bin')['coverage'].describe().reset_index()\n",
    "# node_desc['with_zero'] = 0"
   ]
  },
  {
   "cell_type": "code",
   "execution_count": 89,
   "id": "c287272a-020f-4371-9911-e09a185a5877",
   "metadata": {},
   "outputs": [],
   "source": [
    "# node_quant = pd.DataFrame(sj.groupby('Bin')['coverage'].quantile(q=[x / 100.0 for x in range(0,100,1)])).reset_index().rename(columns={'level_1': 'quantile'})\n",
    "# node_quant['with_zero'] = 0"
   ]
  },
  {
   "cell_type": "code",
   "execution_count": 90,
   "id": "82c8e0d8-4826-4b33-9a0b-71fa25f19bb7",
   "metadata": {},
   "outputs": [],
   "source": [
    "# plt.errorbar(x=node_desc.Bin, y=node_desc['mean'], yerr=node_desc['std'])"
   ]
  },
  {
   "cell_type": "code",
   "execution_count": 91,
   "id": "13a74eb6-18c2-45dc-ac01-8357968e6d8d",
   "metadata": {},
   "outputs": [],
   "source": [
    "# d = {'mean': nodes_mean, 'std': nodes_std, 'count': nodes_count}"
   ]
  },
  {
   "cell_type": "code",
   "execution_count": 92,
   "id": "ae2fbeb6-5cf3-4463-92b7-d4cc4cb2bc6d",
   "metadata": {},
   "outputs": [],
   "source": [
    "# nodes = pd.DataFrame(data=d).T"
   ]
  },
  {
   "cell_type": "code",
   "execution_count": 93,
   "id": "43c14b32-7004-4e03-9f4e-0a6d64ee5e7e",
   "metadata": {},
   "outputs": [],
   "source": [
    "# nodes.columns = bins"
   ]
  },
  {
   "cell_type": "markdown",
   "id": "ae0dc733-8bd2-4f8d-9402-c42a92d20a6e",
   "metadata": {
    "jp-MarkdownHeadingCollapsed": true,
    "tags": []
   },
   "source": [
    "#### Nodes with zeros"
   ]
  },
  {
   "cell_type": "code",
   "execution_count": 94,
   "id": "3bf905c3-2880-4d87-8062-a64ddc3564b2",
   "metadata": {},
   "outputs": [
    {
     "ename": "NameError",
     "evalue": "name 'sj_w_zero' is not defined",
     "output_type": "error",
     "traceback": [
      "\u001b[0;31m---------------------------------------------------------------------------\u001b[0m",
      "\u001b[0;31mNameError\u001b[0m                                 Traceback (most recent call last)",
      "Cell \u001b[0;32mIn[94], line 1\u001b[0m\n\u001b[0;32m----> 1\u001b[0m node_desc_w_zero \u001b[38;5;241m=\u001b[39m \u001b[43msj_w_zero\u001b[49m\u001b[38;5;241m.\u001b[39mgroupby(binn)[\u001b[38;5;124m'\u001b[39m\u001b[38;5;124mcoverage\u001b[39m\u001b[38;5;124m'\u001b[39m]\u001b[38;5;241m.\u001b[39mdescribe()\u001b[38;5;241m.\u001b[39mreset_index()\n\u001b[1;32m      2\u001b[0m node_desc_w_zero[\u001b[38;5;124m'\u001b[39m\u001b[38;5;124mwith_zero\u001b[39m\u001b[38;5;124m'\u001b[39m] \u001b[38;5;241m=\u001b[39m \u001b[38;5;241m1\u001b[39m\n\u001b[1;32m      3\u001b[0m node_desc_w_zero\n",
      "\u001b[0;31mNameError\u001b[0m: name 'sj_w_zero' is not defined"
     ]
    }
   ],
   "source": [
    "node_desc_w_zero = sj_w_zero.groupby(binn)['coverage'].describe().reset_index()\n",
    "node_desc_w_zero['with_zero'] = 1\n",
    "node_desc_w_zero"
   ]
  },
  {
   "cell_type": "code",
   "execution_count": null,
   "id": "f0306925-89db-490e-a9ef-84aca3b43672",
   "metadata": {},
   "outputs": [],
   "source": [
    "node_quant_w_zero = pd.DataFrame(sj_w_zero.groupby(binn)['coverage'].quantile(q=[x / 100.0 for x in range(0,100,1)])).reset_index().rename(columns={'level_1': 'quantile'})\n",
    "node_quant_w_zero['with_zero'] = 1\n",
    "node_quant_w_zero"
   ]
  },
  {
   "cell_type": "markdown",
   "id": "b9b2b467-5cc8-4d40-94ba-17d3de0807fc",
   "metadata": {},
   "source": [
    "#### Reaches"
   ]
  },
  {
   "cell_type": "code",
   "execution_count": 131,
   "id": "e9acee56-ba8a-41a6-9ea4-f72870fa8159",
   "metadata": {
    "tags": []
   },
   "outputs": [],
   "source": [
    "d = {}\n",
    "# d_q = {}\n",
    "for i in range(1, 10):\n",
    "    threshold = i/10\n",
    "    \n",
    "    detected = sj.groupby([binn, 'NHDPlusID'])['coverage'].apply(lambda x: (x > threshold).sum()) / 10\n",
    "    \n",
    "    reach = detected.groupby(binn).quantile(q=[x / 100.0 for x in range(0,100,1)]).reset_index()\n",
    "    \n",
    "    d[threshold] = reach"
   ]
  },
  {
   "cell_type": "code",
   "execution_count": 132,
   "id": "f4a9a984-1d84-446d-8c84-395d0e91fa47",
   "metadata": {},
   "outputs": [],
   "source": [
    "# Add a column for each DataFrame indicating the key\n",
    "# for threshold, data in d.items():\n",
    "#     data['threshold'] = threshold\n",
    "    \n",
    "for threshold, data in d.items():\n",
    "    data['threshold'] = threshold"
   ]
  },
  {
   "cell_type": "code",
   "execution_count": 133,
   "id": "c540f758-4134-41e5-8248-60919814fcc1",
   "metadata": {},
   "outputs": [],
   "source": [
    "# Concatenate all DataFrames into one\n",
    "# reaches_desc = pd.concat(d.values())\n",
    "\n",
    "reaches_cent = pd.concat(d.values()).rename(columns={'level_1': 'centile'})"
   ]
  },
  {
   "cell_type": "code",
   "execution_count": 134,
   "id": "8cdc70fc-b719-4eb6-addb-853674d93fe0",
   "metadata": {},
   "outputs": [],
   "source": [
    "reaches_cent = pd.merge(left=reaches_cent, right=counts, how='left', on=binn)"
   ]
  },
  {
   "cell_type": "code",
   "execution_count": 135,
   "id": "c190e431-c234-4dd2-9080-7b6d76fc1b18",
   "metadata": {},
   "outputs": [
    {
     "data": {
      "text/html": [
       "<div>\n",
       "<style scoped>\n",
       "    .dataframe tbody tr th:only-of-type {\n",
       "        vertical-align: middle;\n",
       "    }\n",
       "\n",
       "    .dataframe tbody tr th {\n",
       "        vertical-align: top;\n",
       "    }\n",
       "\n",
       "    .dataframe thead th {\n",
       "        text-align: right;\n",
       "    }\n",
       "</style>\n",
       "<table border=\"1\" class=\"dataframe\">\n",
       "  <thead>\n",
       "    <tr style=\"text-align: right;\">\n",
       "      <th></th>\n",
       "      <th>Bin_Min</th>\n",
       "      <th>centile</th>\n",
       "      <th>coverage</th>\n",
       "      <th>threshold</th>\n",
       "      <th>count</th>\n",
       "    </tr>\n",
       "  </thead>\n",
       "  <tbody>\n",
       "    <tr>\n",
       "      <th>0</th>\n",
       "      <td>(0, 10]</td>\n",
       "      <td>0.00</td>\n",
       "      <td>0.0</td>\n",
       "      <td>0.1</td>\n",
       "      <td>15330</td>\n",
       "    </tr>\n",
       "    <tr>\n",
       "      <th>1</th>\n",
       "      <td>(0, 10]</td>\n",
       "      <td>0.01</td>\n",
       "      <td>0.0</td>\n",
       "      <td>0.1</td>\n",
       "      <td>15330</td>\n",
       "    </tr>\n",
       "    <tr>\n",
       "      <th>2</th>\n",
       "      <td>(0, 10]</td>\n",
       "      <td>0.02</td>\n",
       "      <td>0.0</td>\n",
       "      <td>0.1</td>\n",
       "      <td>15330</td>\n",
       "    </tr>\n",
       "    <tr>\n",
       "      <th>3</th>\n",
       "      <td>(0, 10]</td>\n",
       "      <td>0.03</td>\n",
       "      <td>0.0</td>\n",
       "      <td>0.1</td>\n",
       "      <td>15330</td>\n",
       "    </tr>\n",
       "    <tr>\n",
       "      <th>4</th>\n",
       "      <td>(0, 10]</td>\n",
       "      <td>0.04</td>\n",
       "      <td>0.0</td>\n",
       "      <td>0.1</td>\n",
       "      <td>15330</td>\n",
       "    </tr>\n",
       "    <tr>\n",
       "      <th>...</th>\n",
       "      <td>...</td>\n",
       "      <td>...</td>\n",
       "      <td>...</td>\n",
       "      <td>...</td>\n",
       "      <td>...</td>\n",
       "    </tr>\n",
       "    <tr>\n",
       "      <th>3595</th>\n",
       "      <td>(30, 40]</td>\n",
       "      <td>0.95</td>\n",
       "      <td>0.0</td>\n",
       "      <td>0.9</td>\n",
       "      <td>70</td>\n",
       "    </tr>\n",
       "    <tr>\n",
       "      <th>3596</th>\n",
       "      <td>(30, 40]</td>\n",
       "      <td>0.96</td>\n",
       "      <td>0.0</td>\n",
       "      <td>0.9</td>\n",
       "      <td>70</td>\n",
       "    </tr>\n",
       "    <tr>\n",
       "      <th>3597</th>\n",
       "      <td>(30, 40]</td>\n",
       "      <td>0.97</td>\n",
       "      <td>0.0</td>\n",
       "      <td>0.9</td>\n",
       "      <td>70</td>\n",
       "    </tr>\n",
       "    <tr>\n",
       "      <th>3598</th>\n",
       "      <td>(30, 40]</td>\n",
       "      <td>0.98</td>\n",
       "      <td>0.0</td>\n",
       "      <td>0.9</td>\n",
       "      <td>70</td>\n",
       "    </tr>\n",
       "    <tr>\n",
       "      <th>3599</th>\n",
       "      <td>(30, 40]</td>\n",
       "      <td>0.99</td>\n",
       "      <td>0.0</td>\n",
       "      <td>0.9</td>\n",
       "      <td>70</td>\n",
       "    </tr>\n",
       "  </tbody>\n",
       "</table>\n",
       "<p>3600 rows × 5 columns</p>\n",
       "</div>"
      ],
      "text/plain": [
       "       Bin_Min  centile  coverage  threshold  count\n",
       "0      (0, 10]     0.00       0.0        0.1  15330\n",
       "1      (0, 10]     0.01       0.0        0.1  15330\n",
       "2      (0, 10]     0.02       0.0        0.1  15330\n",
       "3      (0, 10]     0.03       0.0        0.1  15330\n",
       "4      (0, 10]     0.04       0.0        0.1  15330\n",
       "...        ...      ...       ...        ...    ...\n",
       "3595  (30, 40]     0.95       0.0        0.9     70\n",
       "3596  (30, 40]     0.96       0.0        0.9     70\n",
       "3597  (30, 40]     0.97       0.0        0.9     70\n",
       "3598  (30, 40]     0.98       0.0        0.9     70\n",
       "3599  (30, 40]     0.99       0.0        0.9     70\n",
       "\n",
       "[3600 rows x 5 columns]"
      ]
     },
     "execution_count": 135,
     "metadata": {},
     "output_type": "execute_result"
    }
   ],
   "source": [
    "reaches_cent"
   ]
  },
  {
   "cell_type": "code",
   "execution_count": 143,
   "id": "38b6bd38-a36d-4bba-8e1c-51be0583f87f",
   "metadata": {},
   "outputs": [],
   "source": [
    "reaches_min = pd.DataFrame(sj.groupby('NHDPlusID')['coverage'].min()).reset_index()"
   ]
  },
  {
   "cell_type": "code",
   "execution_count": 144,
   "id": "e2df040f-a3ea-48b1-8b45-0fe2d27635f8",
   "metadata": {},
   "outputs": [],
   "source": [
    "reaches_min = pd.merge(left=reaches_min, right=sj[['NHDPlusID', binn]], how='left', on='NHDPlusID')"
   ]
  },
  {
   "cell_type": "code",
   "execution_count": 145,
   "id": "25e688fc-a670-4ed1-a49a-932e7717ea87",
   "metadata": {},
   "outputs": [
    {
     "data": {
      "text/html": [
       "<div>\n",
       "<style scoped>\n",
       "    .dataframe tbody tr th:only-of-type {\n",
       "        vertical-align: middle;\n",
       "    }\n",
       "\n",
       "    .dataframe tbody tr th {\n",
       "        vertical-align: top;\n",
       "    }\n",
       "\n",
       "    .dataframe thead th {\n",
       "        text-align: right;\n",
       "    }\n",
       "</style>\n",
       "<table border=\"1\" class=\"dataframe\">\n",
       "  <thead>\n",
       "    <tr style=\"text-align: right;\">\n",
       "      <th></th>\n",
       "      <th>NHDPlusID</th>\n",
       "      <th>coverage</th>\n",
       "      <th>Bin_Min</th>\n",
       "    </tr>\n",
       "  </thead>\n",
       "  <tbody>\n",
       "    <tr>\n",
       "      <th>0</th>\n",
       "      <td>1.000090e+13</td>\n",
       "      <td>0.0</td>\n",
       "      <td>(0, 10]</td>\n",
       "    </tr>\n",
       "    <tr>\n",
       "      <th>1</th>\n",
       "      <td>1.000090e+13</td>\n",
       "      <td>0.0</td>\n",
       "      <td>(0, 10]</td>\n",
       "    </tr>\n",
       "    <tr>\n",
       "      <th>2</th>\n",
       "      <td>1.000090e+13</td>\n",
       "      <td>0.0</td>\n",
       "      <td>(0, 10]</td>\n",
       "    </tr>\n",
       "    <tr>\n",
       "      <th>3</th>\n",
       "      <td>1.000090e+13</td>\n",
       "      <td>0.0</td>\n",
       "      <td>(0, 10]</td>\n",
       "    </tr>\n",
       "    <tr>\n",
       "      <th>4</th>\n",
       "      <td>1.000090e+13</td>\n",
       "      <td>0.0</td>\n",
       "      <td>(0, 10]</td>\n",
       "    </tr>\n",
       "    <tr>\n",
       "      <th>...</th>\n",
       "      <td>...</td>\n",
       "      <td>...</td>\n",
       "      <td>...</td>\n",
       "    </tr>\n",
       "    <tr>\n",
       "      <th>1648</th>\n",
       "      <td>1.000090e+13</td>\n",
       "      <td>0.0</td>\n",
       "      <td>(0, 10]</td>\n",
       "    </tr>\n",
       "    <tr>\n",
       "      <th>1649</th>\n",
       "      <td>1.000090e+13</td>\n",
       "      <td>0.0</td>\n",
       "      <td>(0, 10]</td>\n",
       "    </tr>\n",
       "    <tr>\n",
       "      <th>1650</th>\n",
       "      <td>1.000090e+13</td>\n",
       "      <td>0.0</td>\n",
       "      <td>(0, 10]</td>\n",
       "    </tr>\n",
       "    <tr>\n",
       "      <th>1651</th>\n",
       "      <td>1.000090e+13</td>\n",
       "      <td>0.0</td>\n",
       "      <td>(0, 10]</td>\n",
       "    </tr>\n",
       "    <tr>\n",
       "      <th>1652</th>\n",
       "      <td>1.000090e+13</td>\n",
       "      <td>0.0</td>\n",
       "      <td>(0, 10]</td>\n",
       "    </tr>\n",
       "  </tbody>\n",
       "</table>\n",
       "<p>1653 rows × 3 columns</p>\n",
       "</div>"
      ],
      "text/plain": [
       "         NHDPlusID  coverage  Bin_Min\n",
       "0     1.000090e+13       0.0  (0, 10]\n",
       "1     1.000090e+13       0.0  (0, 10]\n",
       "2     1.000090e+13       0.0  (0, 10]\n",
       "3     1.000090e+13       0.0  (0, 10]\n",
       "4     1.000090e+13       0.0  (0, 10]\n",
       "...            ...       ...      ...\n",
       "1648  1.000090e+13       0.0  (0, 10]\n",
       "1649  1.000090e+13       0.0  (0, 10]\n",
       "1650  1.000090e+13       0.0  (0, 10]\n",
       "1651  1.000090e+13       0.0  (0, 10]\n",
       "1652  1.000090e+13       0.0  (0, 10]\n",
       "\n",
       "[1653 rows x 3 columns]"
      ]
     },
     "execution_count": 145,
     "metadata": {},
     "output_type": "execute_result"
    }
   ],
   "source": [
    "min_cov"
   ]
  },
  {
   "cell_type": "code",
   "execution_count": null,
   "id": "d127d092-07e4-4272-8b9c-97046bdbe771",
   "metadata": {},
   "outputs": [],
   "source": [
    "# reaches = pd.DataFrame(data=d).T"
   ]
  },
  {
   "cell_type": "code",
   "execution_count": null,
   "id": "a265330f-6724-4107-a18f-a48f88e3526c",
   "metadata": {},
   "outputs": [],
   "source": [
    "# reaches.columns = bins"
   ]
  },
  {
   "cell_type": "markdown",
   "id": "57eb3443-462c-4f0f-a55e-f0251d195d94",
   "metadata": {},
   "source": [
    "### Write out"
   ]
  },
  {
   "cell_type": "code",
   "execution_count": null,
   "id": "095ea3be-4f04-441d-917a-bc9633d07816",
   "metadata": {},
   "outputs": [],
   "source": [
    "save_path = os.path.join('/nas/cee-water/cjgleason/fiona/narrow_rivers_PIXC_data/', 'PIXC_v2_0_HUC2_01')"
   ]
  },
  {
   "cell_type": "code",
   "execution_count": null,
   "id": "afe97f05-8afd-4dac-959c-956a6c336e1c",
   "metadata": {},
   "outputs": [],
   "source": [
    "# Combine node_desc\n",
    "node_desc_both = pd.concat([node_desc, node_desc_w_zero], ignore_index=True)\n",
    "node_desc_both"
   ]
  },
  {
   "cell_type": "code",
   "execution_count": null,
   "id": "21d6bcf5-d411-4a8b-a0dd-ce2c4bc7d739",
   "metadata": {},
   "outputs": [],
   "source": [
    "# Combine node_quant\n",
    "node_quant_both = pd.concat([node_quant, node_quant_w_zero], ignore_index=True)\n",
    "node_quant_both"
   ]
  },
  {
   "cell_type": "code",
   "execution_count": null,
   "id": "6f17958c-cce3-40bd-8d0d-0425d3ada6ed",
   "metadata": {},
   "outputs": [],
   "source": [
    "# nodes_desc_both.to_csv(os.path.join(save_path, granule_name + '_nodes_describe.csv'))\n",
    "# nodes_quant_both.to_csv(os.path.join(save_path, granule_name + '_nodes_quantile.csv'))"
   ]
  },
  {
   "cell_type": "code",
   "execution_count": null,
   "id": "1126eceb-0e67-40d0-a68a-116aabc4f41f",
   "metadata": {},
   "outputs": [],
   "source": [
    "# reaches_desc.to_csv(os.path.join(save_path, granule_name + '_reaches_describe.csv'))\n",
    "# reaches_quant.to_csv(os.path.join(save_path, granule_name + '_reaches_quantile.csv'))"
   ]
  },
  {
   "cell_type": "code",
   "execution_count": null,
   "id": "b6d5fa3b-9428-4ca5-b68d-2241f80924bc",
   "metadata": {},
   "outputs": [],
   "source": [
    "test = pd.read_parquet('/nas/cee-water/cjgleason/fiona/narrow_rivers_PIXC_output/PIXC_v2_0_HUC2_01_2025_02_04_min/SWOT_L2_HR_PIXC_001_270_077L_20230730T202544_20230730T202555_PGC0_01_reaches_cent.parquet')"
   ]
  },
  {
   "cell_type": "code",
   "execution_count": null,
   "id": "3f7bbbe8-0b66-4eb7-850d-902dff992c59",
   "metadata": {},
   "outputs": [],
   "source": [
    "test"
   ]
  },
  {
   "cell_type": "markdown",
   "id": "d8f61fee-08c2-44c9-845a-b7b7862db2d5",
   "metadata": {
    "jp-MarkdownHeadingCollapsed": true,
    "tags": []
   },
   "source": [
    "### Conn tests"
   ]
  },
  {
   "cell_type": "code",
   "execution_count": null,
   "id": "07512bd2-f2b0-4473-9921-b8dc375c343f",
   "metadata": {},
   "outputs": [],
   "source": [
    "conn = sj[sj['NHDPlusID'] == 10000900090399]"
   ]
  },
  {
   "cell_type": "code",
   "execution_count": null,
   "id": "5fe1d134-5c2f-486b-bdd2-5cd18460323b",
   "metadata": {},
   "outputs": [],
   "source": [
    "conn = conn.drop(columns=['index_right', 'points', 'azimuth_index',\n",
    "                      'range_index', 'cross_track', 'pixel_area',\n",
    "                      'height', 'geoid', 'dlatitude_dphase',\n",
    "                      'dlongitude_dphase', 'dheight_dphase',\n",
    "                      'klass', 'latitude', 'longitude', ])"
   ]
  },
  {
   "cell_type": "code",
   "execution_count": null,
   "id": "6eb9248d-b17b-4992-945b-83687489ecdd",
   "metadata": {},
   "outputs": [],
   "source": [
    "conn = conn.set_geometry('pseudo_geom')"
   ]
  },
  {
   "cell_type": "code",
   "execution_count": null,
   "id": "5d5f4687-b898-40f5-8a11-d4261e4fad1c",
   "metadata": {},
   "outputs": [],
   "source": [
    "conn = conn.dissolve(by='counter')"
   ]
  },
  {
   "cell_type": "code",
   "execution_count": null,
   "id": "cee2cee2-2082-4173-b5b0-a708f16a9e72",
   "metadata": {},
   "outputs": [],
   "source": [
    "# conn"
   ]
  },
  {
   "cell_type": "code",
   "execution_count": null,
   "id": "532e0dcb-6100-4111-81d5-91fd953b17fb",
   "metadata": {},
   "outputs": [],
   "source": [
    "# fig, ax = plt.subplots(figsize=(15,15))\n",
    "# conn.buffered.plot(ax=ax, cmap='hsv')\n",
    "# conn.plot(ax=ax, color='k', alpha=0.6)"
   ]
  },
  {
   "cell_type": "code",
   "execution_count": null,
   "id": "c44719a6-6624-4fa4-918c-95840aa72ebb",
   "metadata": {},
   "outputs": [],
   "source": [
    "def specialClip(sj):\n",
    "    left = gpd.GeoSeries(sj.pseudo_geom)\n",
    "    right = gpd.GeoSeries(sj.buffered)\n",
    "    pseudo_geom_clip = left.clip(right)\n",
    "    return pseudo_geom_clip"
   ]
  },
  {
   "cell_type": "code",
   "execution_count": null,
   "id": "5745e428-8881-434e-af38-4589419b86b2",
   "metadata": {},
   "outputs": [],
   "source": [
    "conn['pseudo_geom_clip'] = conn.pseudo_geom.clip(conn.buffered)"
   ]
  },
  {
   "cell_type": "code",
   "execution_count": null,
   "id": "7a5658da-4046-4e07-abda-d6b02f8620f9",
   "metadata": {},
   "outputs": [],
   "source": [
    "conn['pseudo_geom_test'] = conn.parallel_apply(user_defined_function=specialClip,\n",
    "                                               axis=1)"
   ]
  },
  {
   "cell_type": "code",
   "execution_count": null,
   "id": "4040049b-1800-4609-8283-d82005ca9bfd",
   "metadata": {},
   "outputs": [],
   "source": [
    "conn"
   ]
  },
  {
   "cell_type": "code",
   "execution_count": null,
   "id": "32c3bc78-d474-4958-800e-39c541677d75",
   "metadata": {},
   "outputs": [],
   "source": [
    "# fig, ax = plt.subplots(figsize=(15,15))\n",
    "# conn.buffered.plot(ax=ax, cmap='hsv', alpha=0.7)\n",
    "# conn.pseudo_geom.plot(ax=ax, color='k')\n",
    "\n",
    "# # Basemap\n",
    "# ctx.add_basemap(ax, crs=conn.crs, source=ctx.providers.CartoDB.Positron)\n",
    "\n",
    "# plt.axis('off')"
   ]
  },
  {
   "cell_type": "code",
   "execution_count": null,
   "id": "d128d1fe-e8f5-4298-81ee-b79aaa11040f",
   "metadata": {},
   "outputs": [],
   "source": [
    "# fig, ax = plt.subplots(figsize=(15,15))\n",
    "# conn.buffered.plot(ax=ax, cmap='hsv', alpha=0.7)\n",
    "# gpd.GeoSeries(conn.iloc[7].pseudo_geom).plot(ax=ax, color='k')\n",
    "\n",
    "# # Basemap\n",
    "# ctx.add_basemap(ax, crs=conn.crs, source=ctx.providers.CartoDB.Positron)\n",
    "\n",
    "# plt.axis('off')"
   ]
  },
  {
   "cell_type": "code",
   "execution_count": null,
   "id": "6c6d7b5a-27a9-4563-a8e5-47027e7f44ef",
   "metadata": {},
   "outputs": [],
   "source": [
    "# fig, ax = plt.subplots(figsize=(15,15))\n",
    "# conn.buffered.plot(ax=ax, cmap='hsv', alpha=0.7)\n",
    "# gpd.GeoSeries(conn.iloc[7].pseudo_geom_clip).plot(ax=ax, color='k')\n",
    "\n",
    "# # Basemap\n",
    "# ctx.add_basemap(ax, crs=conn.crs, source=ctx.providers.CartoDB.Positron)\n",
    "\n",
    "# plt.axis('off')"
   ]
  },
  {
   "cell_type": "code",
   "execution_count": null,
   "id": "b8feed60-f9bc-415a-a26a-8b0f2febaa9c",
   "metadata": {},
   "outputs": [],
   "source": [
    "# fig, ax = plt.subplots(figsize=(15,15))\n",
    "# conn.buffered.plot(ax=ax, cmap='hsv', alpha=0.7)\n",
    "# gpd.GeoSeries(conn.iloc[7].pseudo_geom_test).plot(ax=ax, color='k')\n",
    "\n",
    "# # Basemap\n",
    "# ctx.add_basemap(ax, crs=conn.crs, source=ctx.providers.CartoDB.Positron)\n",
    "\n",
    "# plt.axis('off')"
   ]
  },
  {
   "cell_type": "code",
   "execution_count": null,
   "id": "8b28f3b9-df70-411f-94b1-f9e057ea19c4",
   "metadata": {},
   "outputs": [],
   "source": [
    "# Calculate segment area\n",
    "conn['overlap_total'] = conn.pseudo_geom.area"
   ]
  },
  {
   "cell_type": "code",
   "execution_count": null,
   "id": "b08e3e72-5161-475c-baab-018f5912ceef",
   "metadata": {},
   "outputs": [],
   "source": [
    "# Calculate segment area\n",
    "conn['overlap_new'] = conn.pseudo_geom_clip.area"
   ]
  },
  {
   "cell_type": "code",
   "execution_count": null,
   "id": "fcb11580-187c-4fcd-b154-8d30676c4921",
   "metadata": {},
   "outputs": [],
   "source": [
    "conn"
   ]
  },
  {
   "cell_type": "code",
   "execution_count": null,
   "id": "14df7e59-da62-41b9-aab7-7eb84b21e433",
   "metadata": {},
   "outputs": [],
   "source": [
    "conn.overlap_total / conn.segment_area"
   ]
  },
  {
   "cell_type": "code",
   "execution_count": null,
   "id": "f4ea21a2-849e-4a7d-a955-590b3fcc649c",
   "metadata": {},
   "outputs": [],
   "source": [
    "conn.overlap_new / conn.segment_area"
   ]
  },
  {
   "cell_type": "code",
   "execution_count": null,
   "id": "57933f97-cb78-468e-aacd-1308bf08eade",
   "metadata": {},
   "outputs": [],
   "source": [
    "# sj.columns"
   ]
  },
  {
   "cell_type": "code",
   "execution_count": null,
   "id": "efac5b5a-a391-4120-9cd2-a4375ed692d4",
   "metadata": {},
   "outputs": [],
   "source": [
    "# sj.dtypes"
   ]
  },
  {
   "cell_type": "code",
   "execution_count": null,
   "id": "3f5db7db-72cc-4f9c-bdc5-6c90d93b198e",
   "metadata": {},
   "outputs": [],
   "source": [
    "# sj.index.unique()"
   ]
  },
  {
   "cell_type": "code",
   "execution_count": null,
   "id": "714fb652-c351-4a50-9713-53185596a1f2",
   "metadata": {},
   "outputs": [],
   "source": [
    "# Find the overlap area\n",
    "sj['overlap_area'] = sj.parallel_apply(lambda x: x['buffer'].intersection(x['pseudo_geom']).area if x['pseudo_geom'] is not None else 0, axis=1)"
   ]
  },
  {
   "cell_type": "code",
   "execution_count": null,
   "id": "20494246-2abd-4bcc-a4b1-c8506618056b",
   "metadata": {},
   "outputs": [],
   "source": [
    "# sj.sort_values(by=['NHDPlusID', 'counter'])"
   ]
  },
  {
   "cell_type": "code",
   "execution_count": null,
   "id": "d06fb5db-2f4e-4e6d-a3e2-f1a141bd947c",
   "metadata": {},
   "outputs": [],
   "source": [
    "conn['overlap_total'] = conn.groupby(['NHDPlusID', 'counter'])['overlap_area'].transform('sum')"
   ]
  },
  {
   "cell_type": "code",
   "execution_count": null,
   "id": "e47d2625-8645-4317-8635-449302cd74db",
   "metadata": {},
   "outputs": [],
   "source": [
    "conn"
   ]
  }
 ],
 "metadata": {
  "kernelspec": {
   "display_name": "Python [conda env:.conda-narrowPIXC]",
   "language": "python",
   "name": "conda-env-.conda-narrowPIXC-py"
  },
  "language_info": {
   "codemirror_mode": {
    "name": "ipython",
    "version": 3
   },
   "file_extension": ".py",
   "mimetype": "text/x-python",
   "name": "python",
   "nbconvert_exporter": "python",
   "pygments_lexer": "ipython3",
   "version": "3.12.4"
  }
 },
 "nbformat": 4,
 "nbformat_minor": 5
}
