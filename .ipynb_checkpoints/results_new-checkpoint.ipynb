{
 "cells": [
  {
   "cell_type": "code",
   "execution_count": 195,
   "id": "c02e9575-1171-4b93-82e3-4cccd071c46e",
   "metadata": {},
   "outputs": [],
   "source": [
    "import os\n",
    "import time\n",
    "\n",
    "import matplotlib.colors as colors\n",
    "import matplotlib.pyplot as plt\n",
    "import numpy as np\n",
    "import pandas as pd\n",
    "import seaborn as sns\n",
    "\n",
    "from itertools import repeat, chain, product\n",
    "from tdigest import TDigest"
   ]
  },
  {
   "cell_type": "code",
   "execution_count": 74,
   "id": "e8e22e18-74e4-431a-bf47-3c55882fb26b",
   "metadata": {},
   "outputs": [],
   "source": [
    "# def get_order(reaches, order):\n",
    "#     # Make sorted list of bins present\n",
    "#     widths = []\n",
    "#     reach_bins = list(set(reaches[binn].to_list()))\n",
    "\n",
    "#     for i in order:\n",
    "#         if i in reach_bins:\n",
    "#             widths.append(i)\n",
    "            \n",
    "#     return widths"
   ]
  },
  {
   "cell_type": "code",
   "execution_count": 144,
   "id": "b23502f9-d935-4494-b849-7d6d0f44a888",
   "metadata": {},
   "outputs": [],
   "source": [
    "def prepDict(data_dict, widths, thresholds):\n",
    "    '''\n",
    "    '''\n",
    "    for width in widths:\n",
    "        temp_dict = {}\n",
    "        for threshold in thresholds:\n",
    "            temp_dict[threshold] = TDigest()\n",
    "        data_dict[width] = temp_dict\n",
    "        \n",
    "    return data_dict"
   ]
  },
  {
   "cell_type": "code",
   "execution_count": 168,
   "id": "82ad4235-9c43-4573-b0b4-0b89872fc0eb",
   "metadata": {},
   "outputs": [],
   "source": [
    "def subset_coverage(df, widths, thresholds, bbin):\n",
    "    # Create a MultiIndex using the Cartesian product of widths and thresholds\n",
    "    combinations = pd.MultiIndex.from_product([widths, thresholds], names=['widths', 'thresholds'])\n",
    "    \n",
    "    # Group by 'widths' and 'thresholds' and get the 'coverage' for each group\n",
    "    coverage_lists = (\n",
    "        df.groupby([bbin, 'threshold'])['coverage']\n",
    "        .apply(list)\n",
    "        .reindex(combinations, fill_value=[])\n",
    "        .tolist()\n",
    "    )\n",
    "    \n",
    "    return coverage_lists"
   ]
  },
  {
   "cell_type": "code",
   "execution_count": 197,
   "id": "c3033fda-3e00-40e5-94a2-6a57ae033a33",
   "metadata": {},
   "outputs": [],
   "source": [
    "def read_output(data_path, data_dict, widths, thresholds, bbin):\n",
    "    '''\n",
    "    '''\n",
    "    combos = list(product(widths, thresholds))\n",
    "    \n",
    "    # Get list of files    \n",
    "    files = []\n",
    "    for file in os.listdir(data_path):\n",
    "        if not file.startswith('.'):\n",
    "            if 'thresh' in file:\n",
    "                files.append(file)\n",
    "\n",
    "    num_files = str(len(files))\n",
    "    \n",
    "    # Read in file\n",
    "    for i, file in enumerate(files):\n",
    "        df = pd.read_parquet(os.path.join(data_path, file))\n",
    "        \n",
    "        coverage_lists = subset_coverage(df=df, widths=widths,\n",
    "                                         thresholds=thresholds, bbin=bbin)\n",
    "        \n",
    "        for (width, threshold), coverage in zip(combos, coverage_lists):\n",
    "            if len(coverage) != 0:\n",
    "                data_dict[width][threshold].batch_update(values=coverage)\n",
    "                data_dict[width][threshold].compress()\n",
    "                    \n",
    "        if i % 250 == 0:\n",
    "            print(str(i) + ' of ' + num_files)\n",
    "\n",
    "    return data_dict"
   ]
  },
  {
   "cell_type": "code",
   "execution_count": 111,
   "id": "761a70e4-7c10-4c6f-ba8f-10af24059448",
   "metadata": {},
   "outputs": [],
   "source": [
    "## Setup"
   ]
  },
  {
   "cell_type": "code",
   "execution_count": 140,
   "id": "e470c506-3d2f-4afc-921a-73ae601f1145",
   "metadata": {},
   "outputs": [],
   "source": [
    "# Order of all possible bins for plotting\n",
    "widths = ['(0, 10]', '(10, 20]', '(20, 30]', '(30, 40]', '(40, 50]',\n",
    "         '(50, 60]', '(60, 70]', '(70, 80]', '(80, 90]', '(90, 100]',\n",
    "         '(100, 150]', '(150, 200]', '(200, 500]', '(500, 1000]']\n",
    "thresholds = [0.1, 0.2, 0.3, 0.4, 0.5, 0.6, 0.7, 0.8, 0.9]"
   ]
  },
  {
   "cell_type": "code",
   "execution_count": 127,
   "id": "1928aa56-e8b2-433b-8768-3a2315d282c6",
   "metadata": {},
   "outputs": [],
   "source": [
    "## Setup\n",
    "bwidth = 'min'\n",
    "bbin = 'Bin_Min'\n",
    "data_path = '../narrow_rivers_PIXC_output/PIXC_v2_0_HUC2_01_2025_03_02_' + bwidth"
   ]
  },
  {
   "cell_type": "markdown",
   "id": "b01d3e32-aed5-468b-ae70-ff9f0a37795b",
   "metadata": {},
   "source": [
    "## Get data"
   ]
  },
  {
   "cell_type": "code",
   "execution_count": 190,
   "id": "c13dbb11-ca2d-44e9-833c-773ae1715230",
   "metadata": {},
   "outputs": [],
   "source": [
    "digest_dict = prepDict(data_dict={}, widths=widths, thresholds=thresholds)"
   ]
  },
  {
   "cell_type": "code",
   "execution_count": 198,
   "id": "29def12f-f94f-49bd-ae41-d1e83d6dc629",
   "metadata": {},
   "outputs": [
    {
     "name": "stdout",
     "output_type": "stream",
     "text": [
      "0 of 3450\n",
      "250 of 3450\n",
      "500 of 3450\n",
      "750 of 3450\n",
      "1000 of 3450\n",
      "1250 of 3450\n",
      "1500 of 3450\n",
      "1750 of 3450\n",
      "2000 of 3450\n",
      "2250 of 3450\n",
      "2500 of 3450\n",
      "2750 of 3450\n",
      "3000 of 3450\n",
      "3250 of 3450\n",
      "928.8299467563629\n"
     ]
    }
   ],
   "source": [
    "start = time.time()\n",
    "\n",
    "data_min = read_output(data_path=data_path, data_dict=digest_dict,\n",
    "                       widths=widths, thresholds=thresholds, bbin=bbin)\n",
    "\n",
    "end = time.time()df\n",
    "print(end-start)"
   ]
  },
  {
   "cell_type": "code",
   "execution_count": 229,
   "id": "0719d219-0c27-4673-a748-ce4baccce794",
   "metadata": {},
   "outputs": [
    {
     "data": {
      "text/plain": [
       "[]"
      ]
     },
     "execution_count": 229,
     "metadata": {},
     "output_type": "execute_result"
    }
   ],
   "source": [
    "data_min['(200, 500]'][0.1].centroids_to_list()"
   ]
  },
  {
   "cell_type": "code",
   "execution_count": 232,
   "id": "b0ea1c52-2b60-4756-aa55-9f7daba6215c",
   "metadata": {},
   "outputs": [],
   "source": [
    "medians = {}\n",
    "\n",
    "for width in widths:\n",
    "    temp = []\n",
    "    for threshold in thresholds:\n",
    "        test = data_min[width][threshold].centroids_to_list()\n",
    "        if len(test) != 0:\n",
    "            temp.append(data_min[width][threshold].percentile(50))\n",
    "    medians[width] = temp"
   ]
  },
  {
   "cell_type": "code",
   "execution_count": 236,
   "id": "5cbd3b84-1d80-437a-b9f8-9dbbe6a3da1b",
   "metadata": {},
   "outputs": [],
   "source": [
    "def remove_empty_values(input_dict):\n",
    "    return {k: v for k, v in input_dict.items() if v}"
   ]
  },
  {
   "cell_type": "code",
   "execution_count": 237,
   "id": "4f290040-78f7-4250-be3a-56abc2bd7547",
   "metadata": {},
   "outputs": [],
   "source": [
    "medians = remove_empty_values(medians)"
   ]
  },
  {
   "cell_type": "code",
   "execution_count": 238,
   "id": "997ba62c-58b6-4989-b65d-234ef6c1a2b6",
   "metadata": {},
   "outputs": [],
   "source": [
    "df_min_median = pd.DataFrame.from_dict(medians)"
   ]
  },
  {
   "cell_type": "code",
   "execution_count": 289,
   "id": "ac18cfd6-eaf6-45f6-b169-dfeb69b62391",
   "metadata": {},
   "outputs": [
    {
     "data": {
      "text/html": [
       "<div>\n",
       "<style scoped>\n",
       "    .dataframe tbody tr th:only-of-type {\n",
       "        vertical-align: middle;\n",
       "    }\n",
       "\n",
       "    .dataframe tbody tr th {\n",
       "        vertical-align: top;\n",
       "    }\n",
       "\n",
       "    .dataframe thead th {\n",
       "        text-align: right;\n",
       "    }\n",
       "</style>\n",
       "<table border=\"1\" class=\"dataframe\">\n",
       "  <thead>\n",
       "    <tr style=\"text-align: right;\">\n",
       "      <th></th>\n",
       "      <th>(0, 10]</th>\n",
       "      <th>(10, 20]</th>\n",
       "      <th>(20, 30]</th>\n",
       "      <th>(30, 40]</th>\n",
       "      <th>(40, 50]</th>\n",
       "      <th>(50, 60]</th>\n",
       "      <th>(60, 70]</th>\n",
       "      <th>(70, 80]</th>\n",
       "      <th>(80, 90]</th>\n",
       "      <th>(90, 100]</th>\n",
       "      <th>(100, 150]</th>\n",
       "      <th>(150, 200]</th>\n",
       "    </tr>\n",
       "  </thead>\n",
       "  <tbody>\n",
       "    <tr>\n",
       "      <th>0</th>\n",
       "      <td>2.977123</td>\n",
       "      <td>7.178544</td>\n",
       "      <td>12.815916</td>\n",
       "      <td>23.709608</td>\n",
       "      <td>30.766284</td>\n",
       "      <td>39.695071</td>\n",
       "      <td>79.408810</td>\n",
       "      <td>64.926290</td>\n",
       "      <td>91.936161</td>\n",
       "      <td>78.291551</td>\n",
       "      <td>83.028391</td>\n",
       "      <td>91.556693</td>\n",
       "    </tr>\n",
       "    <tr>\n",
       "      <th>1</th>\n",
       "      <td>2.564364</td>\n",
       "      <td>6.263702</td>\n",
       "      <td>9.386818</td>\n",
       "      <td>15.276209</td>\n",
       "      <td>20.781795</td>\n",
       "      <td>26.636738</td>\n",
       "      <td>66.923788</td>\n",
       "      <td>50.104423</td>\n",
       "      <td>90.035721</td>\n",
       "      <td>65.661605</td>\n",
       "      <td>67.650964</td>\n",
       "      <td>90.167914</td>\n",
       "    </tr>\n",
       "    <tr>\n",
       "      <th>2</th>\n",
       "      <td>2.211176</td>\n",
       "      <td>5.494714</td>\n",
       "      <td>8.455496</td>\n",
       "      <td>9.808468</td>\n",
       "      <td>13.687307</td>\n",
       "      <td>17.233115</td>\n",
       "      <td>55.635922</td>\n",
       "      <td>37.534332</td>\n",
       "      <td>80.219570</td>\n",
       "      <td>54.148936</td>\n",
       "      <td>52.122517</td>\n",
       "      <td>80.376851</td>\n",
       "    </tr>\n",
       "    <tr>\n",
       "      <th>3</th>\n",
       "      <td>1.924366</td>\n",
       "      <td>4.837475</td>\n",
       "      <td>7.639436</td>\n",
       "      <td>8.823195</td>\n",
       "      <td>9.693377</td>\n",
       "      <td>10.252203</td>\n",
       "      <td>44.309194</td>\n",
       "      <td>26.056180</td>\n",
       "      <td>68.022130</td>\n",
       "      <td>42.990142</td>\n",
       "      <td>37.564489</td>\n",
       "      <td>66.834264</td>\n",
       "    </tr>\n",
       "    <tr>\n",
       "      <th>4</th>\n",
       "      <td>1.689290</td>\n",
       "      <td>4.264725</td>\n",
       "      <td>6.867491</td>\n",
       "      <td>7.898592</td>\n",
       "      <td>8.894505</td>\n",
       "      <td>9.163599</td>\n",
       "      <td>33.526238</td>\n",
       "      <td>16.318962</td>\n",
       "      <td>52.551495</td>\n",
       "      <td>32.376138</td>\n",
       "      <td>23.471412</td>\n",
       "      <td>50.530035</td>\n",
       "    </tr>\n",
       "    <tr>\n",
       "      <th>5</th>\n",
       "      <td>1.489271</td>\n",
       "      <td>3.736318</td>\n",
       "      <td>6.082538</td>\n",
       "      <td>6.953149</td>\n",
       "      <td>8.052191</td>\n",
       "      <td>8.325410</td>\n",
       "      <td>22.324278</td>\n",
       "      <td>9.697451</td>\n",
       "      <td>36.504854</td>\n",
       "      <td>21.379004</td>\n",
       "      <td>11.160673</td>\n",
       "      <td>30.557554</td>\n",
       "    </tr>\n",
       "    <tr>\n",
       "      <th>6</th>\n",
       "      <td>1.313475</td>\n",
       "      <td>3.222408</td>\n",
       "      <td>5.201984</td>\n",
       "      <td>5.924835</td>\n",
       "      <td>7.052314</td>\n",
       "      <td>7.298189</td>\n",
       "      <td>11.842020</td>\n",
       "      <td>8.440901</td>\n",
       "      <td>19.843173</td>\n",
       "      <td>10.547550</td>\n",
       "      <td>8.481132</td>\n",
       "      <td>14.323353</td>\n",
       "    </tr>\n",
       "    <tr>\n",
       "      <th>7</th>\n",
       "      <td>1.150867</td>\n",
       "      <td>2.669124</td>\n",
       "      <td>4.118976</td>\n",
       "      <td>4.627678</td>\n",
       "      <td>5.636135</td>\n",
       "      <td>5.901675</td>\n",
       "      <td>8.012188</td>\n",
       "      <td>6.859794</td>\n",
       "      <td>8.761973</td>\n",
       "      <td>8.086349</td>\n",
       "      <td>6.615628</td>\n",
       "      <td>8.249583</td>\n",
       "    </tr>\n",
       "    <tr>\n",
       "      <th>8</th>\n",
       "      <td>0.982806</td>\n",
       "      <td>2.007554</td>\n",
       "      <td>2.725378</td>\n",
       "      <td>2.897505</td>\n",
       "      <td>3.611395</td>\n",
       "      <td>3.651069</td>\n",
       "      <td>4.624376</td>\n",
       "      <td>4.313212</td>\n",
       "      <td>4.452510</td>\n",
       "      <td>4.959198</td>\n",
       "      <td>3.910371</td>\n",
       "      <td>5.143468</td>\n",
       "    </tr>\n",
       "  </tbody>\n",
       "</table>\n",
       "</div>"
      ],
      "text/plain": [
       "    (0, 10]  (10, 20]   (20, 30]   (30, 40]   (40, 50]   (50, 60]   (60, 70]  \\\n",
       "0  2.977123  7.178544  12.815916  23.709608  30.766284  39.695071  79.408810   \n",
       "1  2.564364  6.263702   9.386818  15.276209  20.781795  26.636738  66.923788   \n",
       "2  2.211176  5.494714   8.455496   9.808468  13.687307  17.233115  55.635922   \n",
       "3  1.924366  4.837475   7.639436   8.823195   9.693377  10.252203  44.309194   \n",
       "4  1.689290  4.264725   6.867491   7.898592   8.894505   9.163599  33.526238   \n",
       "5  1.489271  3.736318   6.082538   6.953149   8.052191   8.325410  22.324278   \n",
       "6  1.313475  3.222408   5.201984   5.924835   7.052314   7.298189  11.842020   \n",
       "7  1.150867  2.669124   4.118976   4.627678   5.636135   5.901675   8.012188   \n",
       "8  0.982806  2.007554   2.725378   2.897505   3.611395   3.651069   4.624376   \n",
       "\n",
       "    (70, 80]   (80, 90]  (90, 100]  (100, 150]  (150, 200]  \n",
       "0  64.926290  91.936161  78.291551   83.028391   91.556693  \n",
       "1  50.104423  90.035721  65.661605   67.650964   90.167914  \n",
       "2  37.534332  80.219570  54.148936   52.122517   80.376851  \n",
       "3  26.056180  68.022130  42.990142   37.564489   66.834264  \n",
       "4  16.318962  52.551495  32.376138   23.471412   50.530035  \n",
       "5   9.697451  36.504854  21.379004   11.160673   30.557554  \n",
       "6   8.440901  19.843173  10.547550    8.481132   14.323353  \n",
       "7   6.859794   8.761973   8.086349    6.615628    8.249583  \n",
       "8   4.313212   4.452510   4.959198    3.910371    5.143468  "
      ]
     },
     "execution_count": 289,
     "metadata": {},
     "output_type": "execute_result"
    }
   ],
   "source": [
    "df_min_median*100"
   ]
  },
  {
   "cell_type": "code",
   "execution_count": 306,
   "id": "240ae7d7-5057-43d9-a709-67285c69d216",
   "metadata": {},
   "outputs": [],
   "source": [
    "def getCDF(width, thresholds, centiles):\n",
    "    df_list = []\n",
    "    \n",
    "    for threshold in thresholds:\n",
    "        w = []\n",
    "        t = []\n",
    "        cov = []\n",
    "        for centile in centiles:\n",
    "            test = data_min[width][threshold].centroids_to_list()\n",
    "            if len(test) != 0:\n",
    "                w.append(width)\n",
    "                t.append(threshold)\n",
    "                cov.append(data_min[width][threshold].percentile(centile))\n",
    "        data = {'width': w, 'threshold': t, 'coverage': cov, 'centiles': centiles}\n",
    "        df_list.append(pd.DataFrame(data))\n",
    "\n",
    "    return pd.concat(df_list, axis=0, ignore_index=True)"
   ]
  },
  {
   "cell_type": "code",
   "execution_count": 303,
   "id": "a5553336-94bc-415f-a3f8-e5be8e9427e5",
   "metadata": {},
   "outputs": [],
   "source": [
    "thresh_subset = [0.1, 0.3, 0.5, 0.7, 0.9]"
   ]
  },
  {
   "cell_type": "code",
   "execution_count": 304,
   "id": "584ba9f9-cb2b-4794-9254-611de008d18b",
   "metadata": {},
   "outputs": [],
   "source": [
    "centiles = np.arange(1,101,1)"
   ]
  },
  {
   "cell_type": "code",
   "execution_count": 320,
   "id": "0ba8efac-5a2c-4756-baa3-608fc109059c",
   "metadata": {},
   "outputs": [],
   "source": [
    "d = []\n",
    "for w in df_min_median.columns:\n",
    "    d.append(getCDF(width=w, thresholds=thresh_subset, centiles=centiles))\n",
    "    \n",
    "df_subset = pd.concat(d, axis=0, ignore_index=True)"
   ]
  },
  {
   "cell_type": "code",
   "execution_count": 321,
   "id": "744f5c76-31e1-4080-aac3-c2664c573637",
   "metadata": {},
   "outputs": [
    {
     "data": {
      "text/html": [
       "<div>\n",
       "<style scoped>\n",
       "    .dataframe tbody tr th:only-of-type {\n",
       "        vertical-align: middle;\n",
       "    }\n",
       "\n",
       "    .dataframe tbody tr th {\n",
       "        vertical-align: top;\n",
       "    }\n",
       "\n",
       "    .dataframe thead th {\n",
       "        text-align: right;\n",
       "    }\n",
       "</style>\n",
       "<table border=\"1\" class=\"dataframe\">\n",
       "  <thead>\n",
       "    <tr style=\"text-align: right;\">\n",
       "      <th></th>\n",
       "      <th>width</th>\n",
       "      <th>threshold</th>\n",
       "      <th>coverage</th>\n",
       "      <th>centiles</th>\n",
       "    </tr>\n",
       "  </thead>\n",
       "  <tbody>\n",
       "    <tr>\n",
       "      <th>0</th>\n",
       "      <td>(0, 10]</td>\n",
       "      <td>0.1</td>\n",
       "      <td>-0.089360</td>\n",
       "      <td>1</td>\n",
       "    </tr>\n",
       "    <tr>\n",
       "      <th>1</th>\n",
       "      <td>(0, 10]</td>\n",
       "      <td>0.1</td>\n",
       "      <td>-0.086928</td>\n",
       "      <td>2</td>\n",
       "    </tr>\n",
       "    <tr>\n",
       "      <th>2</th>\n",
       "      <td>(0, 10]</td>\n",
       "      <td>0.1</td>\n",
       "      <td>-0.084497</td>\n",
       "      <td>3</td>\n",
       "    </tr>\n",
       "    <tr>\n",
       "      <th>3</th>\n",
       "      <td>(0, 10]</td>\n",
       "      <td>0.1</td>\n",
       "      <td>-0.082066</td>\n",
       "      <td>4</td>\n",
       "    </tr>\n",
       "    <tr>\n",
       "      <th>4</th>\n",
       "      <td>(0, 10]</td>\n",
       "      <td>0.1</td>\n",
       "      <td>-0.079635</td>\n",
       "      <td>5</td>\n",
       "    </tr>\n",
       "    <tr>\n",
       "      <th>...</th>\n",
       "      <td>...</td>\n",
       "      <td>...</td>\n",
       "      <td>...</td>\n",
       "      <td>...</td>\n",
       "    </tr>\n",
       "    <tr>\n",
       "      <th>5995</th>\n",
       "      <td>(150, 200]</td>\n",
       "      <td>0.9</td>\n",
       "      <td>0.926871</td>\n",
       "      <td>96</td>\n",
       "    </tr>\n",
       "    <tr>\n",
       "      <th>5996</th>\n",
       "      <td>(150, 200]</td>\n",
       "      <td>0.9</td>\n",
       "      <td>0.958514</td>\n",
       "      <td>97</td>\n",
       "    </tr>\n",
       "    <tr>\n",
       "      <th>5997</th>\n",
       "      <td>(150, 200]</td>\n",
       "      <td>0.9</td>\n",
       "      <td>0.990158</td>\n",
       "      <td>98</td>\n",
       "    </tr>\n",
       "    <tr>\n",
       "      <th>5998</th>\n",
       "      <td>(150, 200]</td>\n",
       "      <td>0.9</td>\n",
       "      <td>1.000000</td>\n",
       "      <td>99</td>\n",
       "    </tr>\n",
       "    <tr>\n",
       "      <th>5999</th>\n",
       "      <td>(150, 200]</td>\n",
       "      <td>0.9</td>\n",
       "      <td>1.000000</td>\n",
       "      <td>100</td>\n",
       "    </tr>\n",
       "  </tbody>\n",
       "</table>\n",
       "<p>6000 rows × 4 columns</p>\n",
       "</div>"
      ],
      "text/plain": [
       "           width  threshold  coverage  centiles\n",
       "0        (0, 10]        0.1 -0.089360         1\n",
       "1        (0, 10]        0.1 -0.086928         2\n",
       "2        (0, 10]        0.1 -0.084497         3\n",
       "3        (0, 10]        0.1 -0.082066         4\n",
       "4        (0, 10]        0.1 -0.079635         5\n",
       "...          ...        ...       ...       ...\n",
       "5995  (150, 200]        0.9  0.926871        96\n",
       "5996  (150, 200]        0.9  0.958514        97\n",
       "5997  (150, 200]        0.9  0.990158        98\n",
       "5998  (150, 200]        0.9  1.000000        99\n",
       "5999  (150, 200]        0.9  1.000000       100\n",
       "\n",
       "[6000 rows x 4 columns]"
      ]
     },
     "execution_count": 321,
     "metadata": {},
     "output_type": "execute_result"
    }
   ],
   "source": [
    "df_subset"
   ]
  },
  {
   "cell_type": "code",
   "execution_count": 273,
   "id": "9e0ccc40-c937-470c-b13d-96fc24970a35",
   "metadata": {},
   "outputs": [],
   "source": [
    "# point_one = getCDF(threshold=0.1, widths=widths,\n",
    "#                    centiles=centiles)"
   ]
  },
  {
   "cell_type": "code",
   "execution_count": 274,
   "id": "4203d82f-2ae2-4c9d-8298-7807dec9b16b",
   "metadata": {},
   "outputs": [],
   "source": [
    "# point_one = remove_empty_values(point_one)"
   ]
  },
  {
   "cell_type": "code",
   "execution_count": 275,
   "id": "d42f361a-4497-463c-9704-e77009cfb35d",
   "metadata": {},
   "outputs": [],
   "source": [
    "# df_min_ten = pd.DataFrame.from_dict(point_one)"
   ]
  },
  {
   "cell_type": "code",
   "execution_count": 284,
   "id": "0e6e5300-8f77-4480-b9ad-213318068566",
   "metadata": {},
   "outputs": [],
   "source": [
    "# df_min_ten = df_min_ten*100"
   ]
  },
  {
   "cell_type": "code",
   "execution_count": 313,
   "id": "7edafb7d-d0ee-4b04-9dac-02d4c5ca2978",
   "metadata": {},
   "outputs": [],
   "source": [
    "# df_min_ten.T"
   ]
  },
  {
   "cell_type": "markdown",
   "id": "1509052f-d856-4bb0-a686-631055d7e270",
   "metadata": {},
   "source": [
    "### Plots"
   ]
  },
  {
   "cell_type": "code",
   "execution_count": 314,
   "id": "1480452a-29a3-4019-8603-97634bc2022b",
   "metadata": {},
   "outputs": [],
   "source": [
    "def truncate_colormap(cmap, minval=0.0, maxval=1.0, n=100):\n",
    "    new_cmap = colors.LinearSegmentedColormap.from_list(\n",
    "        'trunc({n},{a:.2f},{b:.2f})'.format(n=cmap.name, a=minval, b=maxval),\n",
    "        cmap(np.linspace(minval, maxval, n)))\n",
    "    return new_cmap"
   ]
  },
  {
   "cell_type": "code",
   "execution_count": 315,
   "id": "1e01ae0a-2efb-49a7-b7ef-d6075f6c1d66",
   "metadata": {},
   "outputs": [],
   "source": [
    "cmap = plt.get_cmap('cubehelix')\n",
    "new_cmap = truncate_colormap(cmap, 0.2, 0.75)"
   ]
  },
  {
   "cell_type": "code",
   "execution_count": 261,
   "id": "35866d1f-bb3f-4e5d-8438-69ddc4eba65a",
   "metadata": {},
   "outputs": [
    {
     "data": {
      "text/plain": [
       "['(0, 10]',\n",
       " '(10, 20]',\n",
       " '(20, 30]',\n",
       " '(30, 40]',\n",
       " '(40, 50]',\n",
       " '(50, 60]',\n",
       " '(60, 70]',\n",
       " '(70, 80]',\n",
       " '(80, 90]',\n",
       " '(90, 100]',\n",
       " '(100, 150]',\n",
       " '(150, 200]']"
      ]
     },
     "execution_count": 261,
     "metadata": {},
     "output_type": "execute_result"
    }
   ],
   "source": [
    "widths[:-2]"
   ]
  },
  {
   "cell_type": "code",
   "execution_count": 331,
   "id": "a9f0f975-9409-4ca4-9e91-31fae03d0ed6",
   "metadata": {},
   "outputs": [
    {
     "data": {
      "text/plain": [
       "Text(0, 0.5, 'Detected [%]')"
      ]
     },
     "execution_count": 331,
     "metadata": {},
     "output_type": "execute_result"
    },
    {
     "data": {
      "image/png": "[encoded data removed]",
      "text/plain": [
       "<Figure size 2000x800 with 1 Axes>"
      ]
     },
     "metadata": {},
     "output_type": "display_data"
    }
   ],
   "source": [
    "fig, ax = plt.subplots(figsize=(20,8))\n",
    "sns.boxplot(x='width', y='coverage', hue='threshold',\n",
    "            data=df_subset, \n",
    "            palette=new_cmap,\n",
    "            saturation=1, showmeans=True,\n",
    "            fliersize=2, legend=False,\n",
    "            boxprops=dict(alpha=0.8),\n",
    "            meanprops={'marker':'o',\n",
    "                       'markerfacecolor':'white',\n",
    "                       'markeredgecolor':'k',\n",
    "                       'markersize':'4'})\n",
    "\n",
    "plt.title('Bieger et al. width: ' + bwidth + '\\nNEW WAY', fontsize=16,\n",
    "           fontweight='bold')\n",
    "\n",
    "plt.xticks(fontsize=14, fontweight='semibold', rotation=-45)\n",
    "plt.yticks(fontsize=14, fontweight='semibold',)\n",
    "\n",
    "plt.xlabel('Width Bin [m]', fontsize=16,\n",
    "           fontweight='bold', labelpad=20)\n",
    "plt.ylabel('Detected [%]', fontsize=16,\n",
    "           fontweight='bold')\n"
   ]
  }
 ],
 "metadata": {
  "kernelspec": {
   "display_name": "Python [conda env:.conda-narrowPIXC]",
   "language": "python",
   "name": "conda-env-.conda-narrowPIXC-py"
  },
  "language_info": {
   "codemirror_mode": {
    "name": "ipython",
    "version": 3
   },
   "file_extension": ".py",
   "mimetype": "text/x-python",
   "name": "python",
   "nbconvert_exporter": "python",
   "pygments_lexer": "ipython3",
   "version": "3.12.4"
  }
 },
 "nbformat": 4,
 "nbformat_minor": 5
}
