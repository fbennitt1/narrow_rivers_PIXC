{
 "cells": [
  {
   "cell_type": "code",
   "execution_count": 1,
   "id": "3adb1340-412d-456d-8cc6-fdc5cd2826a8",
   "metadata": {},
   "outputs": [],
   "source": [
    "import os\n",
    "import time\n",
    "\n",
    "import itertools\n",
    "import matplotlib.pyplot as plt\n",
    "import numpy as np\n",
    "import pandas as pd\n",
    "\n",
    "from pandarallel import pandarallel\n",
    "from scipy.stats import f_oneway"
   ]
  },
  {
   "cell_type": "code",
   "execution_count": 2,
   "id": "b1a77c9c-5470-4469-9ddd-d6247dec62c5",
   "metadata": {},
   "outputs": [],
   "source": [
    "# Order of all possible bins for plotting\n",
    "order = ['(0, 10]', '(10, 20]', '(20, 30]', '(30, 40]', '(40, 50]',\n",
    "         '(50, 60]', '(60, 70]', '(70, 80]', '(80, 90]', '(90, 100]',\n",
    "         '(100, 150]', '(150, 200]', '(200, 500]', '(500, 1000]']"
   ]
  },
  {
   "cell_type": "markdown",
   "id": "401c399e-520b-418d-aabd-ff50a7cd97bf",
   "metadata": {
    "jp-MarkdownHeadingCollapsed": true,
    "tags": []
   },
   "source": [
    "### Get data"
   ]
  },
  {
   "cell_type": "code",
   "execution_count": 3,
   "id": "7bbfc977-c4d1-4c48-86b0-6616f918a426",
   "metadata": {},
   "outputs": [],
   "source": [
    "def prep_data(data_path):\n",
    "    '''\n",
    "    '''\n",
    "    reaches_c = []\n",
    "\n",
    "    for file in os.listdir(data_path):\n",
    "        if not file.startswith('.'):\n",
    "            reaches_c.append(file)\n",
    "            \n",
    "    # Make reaches dataframe\n",
    "    d = []\n",
    "\n",
    "    for file in reaches_c:\n",
    "        data = pd.read_parquet(os.path.join(data_path, file))\n",
    "        d.append(data)\n",
    "\n",
    "    reaches = pd.concat(d, axis=0, ignore_index=True)\n",
    "    \n",
    "#     reaches = reaches.groupby(['Bin','quantile','threshold']).mean().reset_index()\n",
    "    \n",
    "#     # Convert to percentage\n",
    "#     reaches[['coverage', 'threshold']] = reaches[['coverage', 'threshold']]*100\n",
    "    \n",
    "    return reaches"
   ]
  },
  {
   "cell_type": "code",
   "execution_count": 4,
   "id": "21200e9c-325a-4ef4-a36d-82c068bf2ac8",
   "metadata": {},
   "outputs": [],
   "source": [
    "r_min = prep_data('../narrow_rivers_PIXC_output/PIXC_v2_0_HUC2_01_2025_02_04_min/')\n",
    "r_mean = prep_data('../narrow_rivers_PIXC_output/PIXC_v2_0_HUC2_01_2025_02_04_mean/')\n",
    "r_max = prep_data('../narrow_rivers_PIXC_output/PIXC_v2_0_HUC2_01_2025_02_04_max/')"
   ]
  },
  {
   "cell_type": "code",
   "execution_count": 5,
   "id": "310cd3bd-a219-4dc6-ac8d-f279a13e2469",
   "metadata": {},
   "outputs": [],
   "source": [
    "o_min = list(set(r_min.Bin.to_list()))\n",
    "o_mean = list(set(r_mean.Bin.to_list()))\n",
    "o_max = list(set(r_max.Bin.to_list()))\n",
    "\n",
    "# o_min = get_order(reaches=reaches_min, order=order)\n",
    "# o_mean = get_order(reaches=reaches_mean, order=order)\n",
    "# o_max = get_order(reaches=reaches_max, order=order)"
   ]
  },
  {
   "cell_type": "code",
   "execution_count": 6,
   "id": "efae1e19-8b8c-49ac-abd4-2b5c123f7f11",
   "metadata": {},
   "outputs": [],
   "source": [
    "o_all = list(set(o_min) & set(o_mean) & set(o_max))"
   ]
  },
  {
   "cell_type": "code",
   "execution_count": 7,
   "id": "2887cd57-66cd-4368-8ec4-74481add9f06",
   "metadata": {},
   "outputs": [],
   "source": [
    "ordered = []\n",
    "\n",
    "for i in order:\n",
    "    if i in o_all:\n",
    "        ordered.append(i)"
   ]
  },
  {
   "cell_type": "code",
   "execution_count": 8,
   "id": "7b7bfff2-e10a-4361-b864-3a5d4fe2cdd2",
   "metadata": {},
   "outputs": [],
   "source": [
    "# binn = '(100, 150]'\n",
    "# q = 0.5\n",
    "# t = 0.5\n",
    "\n",
    "# test_min = list(r_min[(r_min['Bin'] == binn) & (r_min['quantile'] == q) & (r_min['threshold'] == t)]['coverage'])\n",
    "# test_mean = list(r_mean[(r_mean['Bin'] == binn) & (r_mean['quantile'] == q) & (r_mean['threshold'] == t)]['coverage'])\n",
    "# test_max = list(r_max[(r_max['Bin'] == binn) & (r_max['quantile'] == q) & (r_max['threshold'] == t)]['coverage'])"
   ]
  },
  {
   "cell_type": "code",
   "execution_count": 9,
   "id": "2cd75504-cafe-423d-8cc5-508da620b26c",
   "metadata": {},
   "outputs": [],
   "source": [
    "# # Conduct the one-way ANOVA\n",
    "# f, p =f_oneway(test_min, test_mean, test_max)"
   ]
  },
  {
   "cell_type": "code",
   "execution_count": 10,
   "id": "85a88fd2-3746-4a7b-82b5-601431cbf3d7",
   "metadata": {},
   "outputs": [],
   "source": [
    "quantiles = np.arange(0, 1, 0.01)\n",
    "thresholds = np.arange(0, 1, 0.1)"
   ]
  },
  {
   "cell_type": "code",
   "execution_count": 11,
   "id": "98a47d24-fe84-488e-a783-348bbe6e0ad8",
   "metadata": {},
   "outputs": [],
   "source": [
    "def cart_prod(set1, set2, set3, names=('set1', 'set2', 'set3')):\n",
    "    product = list(itertools.product(set1, set2, set3))\n",
    "    df = pd.DataFrame(product, columns=names)\n",
    "    \n",
    "    return df"
   ]
  },
  {
   "cell_type": "code",
   "execution_count": 12,
   "id": "10c80e93-16b4-4a44-991c-576919771bb0",
   "metadata": {},
   "outputs": [],
   "source": [
    "def anova(df):\n",
    "    binn = df.bin\n",
    "    t = df.thresh\n",
    "    q = df.cent\n",
    "    \n",
    "    test_min = list(r_min[(r_min['Bin'] == binn) & (r_min['quantile'] == q) & (r_min['threshold'] == t)]['coverage'])\n",
    "    test_mean = list(r_mean[(r_mean['Bin'] == binn) & (r_mean['quantile'] == q) & (r_mean['threshold'] == t)]['coverage'])\n",
    "    test_max = list(r_max[(r_max['Bin'] == binn) & (r_max['quantile'] == q) & (r_max['threshold'] == t)]['coverage'])\n",
    "        \n",
    "    # f_stat, p_value = f_oneway(test_min, test_mean, test_max)\n",
    "    temp = f_oneway(test_min, test_mean, test_max)\n",
    "    \n",
    "    # return f_stat, p_value\n",
    "    return temp"
   ]
  },
  {
   "cell_type": "code",
   "execution_count": 13,
   "id": "7c765beb-dd4d-4251-a959-4fb2e8070842",
   "metadata": {},
   "outputs": [],
   "source": [
    "stats = cart_prod(set1=ordered, set2=thresholds, set3=quantiles,\n",
    "                 names=('bin', 'thresh', 'cent'))"
   ]
  },
  {
   "cell_type": "code",
   "execution_count": 24,
   "id": "0b8f0dda-6877-47a5-8016-c19ca6bd07e7",
   "metadata": {},
   "outputs": [],
   "source": [
    "# test_small = stats[-100:]"
   ]
  },
  {
   "cell_type": "code",
   "execution_count": 14,
   "id": "e43d4f90-4396-4965-b362-a64e4892b8aa",
   "metadata": {},
   "outputs": [
    {
     "name": "stdout",
     "output_type": "stream",
     "text": [
      "INFO: Pandarallel will run on 16 workers.\n",
      "INFO: Pandarallel will use Memory file system to transfer data between the main process and workers.\n"
     ]
    }
   ],
   "source": [
    "pandarallel.initialize(nb_workers=int(os.environ.get('SLURM_CPUS_PER_TASK')))"
   ]
  },
  {
   "cell_type": "code",
   "execution_count": 15,
   "id": "12e8823f-2e8f-4f53-84d4-677f2599a052",
   "metadata": {},
   "outputs": [
    {
     "name": "stderr",
     "output_type": "stream",
     "text": [
      "/tmp/ipykernel_1667376/3977878409.py:11: SmallSampleWarning: One or more sample arguments is too small; all returned values will be NaN. See documentation for sample size requirements.\n",
      "  temp = f_oneway(test_min, test_mean, test_max)\n",
      "/tmp/ipykernel_1667376/3977878409.py:11: SmallSampleWarning: One or more sample arguments is too small; all returned values will be NaN. See documentation for sample size requirements.\n",
      "  temp = f_oneway(test_min, test_mean, test_max)\n",
      "/tmp/ipykernel_1667376/3977878409.py:11: SmallSampleWarning: One or more sample arguments is too small; all returned values will be NaN. See documentation for sample size requirements.\n",
      "  temp = f_oneway(test_min, test_mean, test_max)\n",
      "/tmp/ipykernel_1667376/3977878409.py:11: SmallSampleWarning: One or more sample arguments is too small; all returned values will be NaN. See documentation for sample size requirements.\n",
      "  temp = f_oneway(test_min, test_mean, test_max)\n",
      "/tmp/ipykernel_1667376/3977878409.py:11: SmallSampleWarning: One or more sample arguments is too small; all returned values will be NaN. See documentation for sample size requirements.\n",
      "  temp = f_oneway(test_min, test_mean, test_max)\n",
      "/tmp/ipykernel_1667376/3977878409.py:11: SmallSampleWarning: One or more sample arguments is too small; all returned values will be NaN. See documentation for sample size requirements.\n",
      "  temp = f_oneway(test_min, test_mean, test_max)\n",
      "/tmp/ipykernel_1667376/3977878409.py:11: SmallSampleWarning: One or more sample arguments is too small; all returned values will be NaN. See documentation for sample size requirements.\n",
      "  temp = f_oneway(test_min, test_mean, test_max)\n",
      "/tmp/ipykernel_1667376/3977878409.py:11: SmallSampleWarning: One or more sample arguments is too small; all returned values will be NaN. See documentation for sample size requirements.\n",
      "  temp = f_oneway(test_min, test_mean, test_max)\n",
      "/tmp/ipykernel_1667376/3977878409.py:11: SmallSampleWarning: One or more sample arguments is too small; all returned values will be NaN. See documentation for sample size requirements.\n",
      "  temp = f_oneway(test_min, test_mean, test_max)\n",
      "/tmp/ipykernel_1667376/3977878409.py:11: SmallSampleWarning: One or more sample arguments is too small; all returned values will be NaN. See documentation for sample size requirements.\n",
      "  temp = f_oneway(test_min, test_mean, test_max)\n",
      "/tmp/ipykernel_1667376/3977878409.py:11: SmallSampleWarning: One or more sample arguments is too small; all returned values will be NaN. See documentation for sample size requirements.\n",
      "  temp = f_oneway(test_min, test_mean, test_max)\n",
      "/tmp/ipykernel_1667376/3977878409.py:11: SmallSampleWarning: One or more sample arguments is too small; all returned values will be NaN. See documentation for sample size requirements.\n",
      "  temp = f_oneway(test_min, test_mean, test_max)\n",
      "/tmp/ipykernel_1667376/3977878409.py:11: SmallSampleWarning: One or more sample arguments is too small; all returned values will be NaN. See documentation for sample size requirements.\n",
      "  temp = f_oneway(test_min, test_mean, test_max)\n",
      "/tmp/ipykernel_1667376/3977878409.py:11: SmallSampleWarning: One or more sample arguments is too small; all returned values will be NaN. See documentation for sample size requirements.\n",
      "  temp = f_oneway(test_min, test_mean, test_max)\n",
      "/tmp/ipykernel_1667376/3977878409.py:11: SmallSampleWarning: One or more sample arguments is too small; all returned values will be NaN. See documentation for sample size requirements.\n",
      "  temp = f_oneway(test_min, test_mean, test_max)\n",
      "/tmp/ipykernel_1667376/3977878409.py:11: SmallSampleWarning: One or more sample arguments is too small; all returned values will be NaN. See documentation for sample size requirements.\n",
      "  temp = f_oneway(test_min, test_mean, test_max)\n",
      "/work/pi_cjgleason_umass_edu/.conda/envs/narrowPIXC/lib/python3.12/site-packages/scipy/stats/_axis_nan_policy.py:573: ConstantInputWarning: Each of the input arrays is constant; the F statistic is not defined or infinite\n",
      "  res = hypotest_fun_out(*samples, **kwds)\n",
      "/work/pi_cjgleason_umass_edu/.conda/envs/narrowPIXC/lib/python3.12/site-packages/scipy/stats/_axis_nan_policy.py:573: ConstantInputWarning: Each of the input arrays is constant; the F statistic is not defined or infinite\n",
      "  res = hypotest_fun_out(*samples, **kwds)\n"
     ]
    }
   ],
   "source": [
    "# test['anova'] = test.parallel_apply(user_defined_function=anova,\n",
    "#                                     axis=1)\n",
    "# stats['anova']\n",
    "start = time.time()\n",
    "\n",
    "test = []\n",
    "test = stats.parallel_apply(user_defined_function=anova,\n",
    "                                    axis=1)\n",
    "\n",
    "end = time.time()"
   ]
  },
  {
   "cell_type": "code",
   "execution_count": 18,
   "id": "afa5a408-1ab4-4959-a58f-ac032239131c",
   "metadata": {},
   "outputs": [],
   "source": [
    "stats['anova'] = test"
   ]
  },
  {
   "cell_type": "code",
   "execution_count": 20,
   "id": "66d2515b-bf08-4504-931e-0eb70a6308f4",
   "metadata": {},
   "outputs": [],
   "source": [
    "# test[['f_stat', 'p_val']] = test['anova'].apply(pd.Series)\n",
    "stats[['f_stat', 'p_val']] = stats['anova'].apply(pd.Series)"
   ]
  },
  {
   "cell_type": "code",
   "execution_count": 23,
   "id": "46db7d97-e545-4a50-987e-6e8b76d69744",
   "metadata": {},
   "outputs": [],
   "source": [
    "stats = stats.drop(columns='anova')"
   ]
  },
  {
   "cell_type": "code",
   "execution_count": 24,
   "id": "0e174a90-307b-4fd5-82bb-817fe124cf70",
   "metadata": {},
   "outputs": [
    {
     "data": {
      "text/plain": [
       "'/nas/cee-water/cjgleason/fiona/narrow_rivers_PIXC'"
      ]
     },
     "execution_count": 24,
     "metadata": {},
     "output_type": "execute_result"
    }
   ],
   "source": [
    "pwd"
   ]
  },
  {
   "cell_type": "code",
   "execution_count": 27,
   "id": "da9d25f9-e0b5-4706-a0d7-82dea5c4a1b4",
   "metadata": {},
   "outputs": [],
   "source": [
    "stats.to_csv('../narrow_rivers_PIXC_output/widths_2025_02_04_anova.csv',\n",
    "             index=False)"
   ]
  },
  {
   "cell_type": "markdown",
   "id": "bbbc22eb-ff93-477c-b8ec-62c2e94c37bf",
   "metadata": {},
   "source": [
    "### Read in"
   ]
  },
  {
   "cell_type": "code",
   "execution_count": 2,
   "id": "fea4498b-d3af-4f6f-a8e9-bc6e79023945",
   "metadata": {},
   "outputs": [
    {
     "data": {
      "text/plain": [
       "'/nas/cee-water/cjgleason/fiona/narrow_rivers_PIXC'"
      ]
     },
     "execution_count": 2,
     "metadata": {},
     "output_type": "execute_result"
    }
   ],
   "source": [
    "pwd"
   ]
  },
  {
   "cell_type": "code",
   "execution_count": 3,
   "id": "47144d84-40f2-4aad-86fc-57386c110440",
   "metadata": {},
   "outputs": [],
   "source": [
    "stats = pd.read_csv('../narrow_rivers_PIXC_output/widths_2025_02_04_anova.csv')"
   ]
  },
  {
   "cell_type": "code",
   "execution_count": 4,
   "id": "8b13d9fd-1701-4519-ae72-31d459f00a84",
   "metadata": {},
   "outputs": [
    {
     "data": {
      "text/html": [
       "<div>\n",
       "<style scoped>\n",
       "    .dataframe tbody tr th:only-of-type {\n",
       "        vertical-align: middle;\n",
       "    }\n",
       "\n",
       "    .dataframe tbody tr th {\n",
       "        vertical-align: top;\n",
       "    }\n",
       "\n",
       "    .dataframe thead th {\n",
       "        text-align: right;\n",
       "    }\n",
       "</style>\n",
       "<table border=\"1\" class=\"dataframe\">\n",
       "  <thead>\n",
       "    <tr style=\"text-align: right;\">\n",
       "      <th></th>\n",
       "      <th>bin</th>\n",
       "      <th>thresh</th>\n",
       "      <th>cent</th>\n",
       "      <th>f_stat</th>\n",
       "      <th>p_val</th>\n",
       "    </tr>\n",
       "  </thead>\n",
       "  <tbody>\n",
       "    <tr>\n",
       "      <th>0</th>\n",
       "      <td>(0, 10]</td>\n",
       "      <td>0.0</td>\n",
       "      <td>0.00</td>\n",
       "      <td>NaN</td>\n",
       "      <td>NaN</td>\n",
       "    </tr>\n",
       "    <tr>\n",
       "      <th>1</th>\n",
       "      <td>(0, 10]</td>\n",
       "      <td>0.0</td>\n",
       "      <td>0.01</td>\n",
       "      <td>NaN</td>\n",
       "      <td>NaN</td>\n",
       "    </tr>\n",
       "    <tr>\n",
       "      <th>2</th>\n",
       "      <td>(0, 10]</td>\n",
       "      <td>0.0</td>\n",
       "      <td>0.02</td>\n",
       "      <td>NaN</td>\n",
       "      <td>NaN</td>\n",
       "    </tr>\n",
       "    <tr>\n",
       "      <th>3</th>\n",
       "      <td>(0, 10]</td>\n",
       "      <td>0.0</td>\n",
       "      <td>0.03</td>\n",
       "      <td>NaN</td>\n",
       "      <td>NaN</td>\n",
       "    </tr>\n",
       "    <tr>\n",
       "      <th>4</th>\n",
       "      <td>(0, 10]</td>\n",
       "      <td>0.0</td>\n",
       "      <td>0.04</td>\n",
       "      <td>NaN</td>\n",
       "      <td>NaN</td>\n",
       "    </tr>\n",
       "    <tr>\n",
       "      <th>...</th>\n",
       "      <td>...</td>\n",
       "      <td>...</td>\n",
       "      <td>...</td>\n",
       "      <td>...</td>\n",
       "      <td>...</td>\n",
       "    </tr>\n",
       "    <tr>\n",
       "      <th>12995</th>\n",
       "      <td>(200, 500]</td>\n",
       "      <td>0.9</td>\n",
       "      <td>0.95</td>\n",
       "      <td>NaN</td>\n",
       "      <td>NaN</td>\n",
       "    </tr>\n",
       "    <tr>\n",
       "      <th>12996</th>\n",
       "      <td>(200, 500]</td>\n",
       "      <td>0.9</td>\n",
       "      <td>0.96</td>\n",
       "      <td>1.868907</td>\n",
       "      <td>0.154945</td>\n",
       "    </tr>\n",
       "    <tr>\n",
       "      <th>12997</th>\n",
       "      <td>(200, 500]</td>\n",
       "      <td>0.9</td>\n",
       "      <td>0.97</td>\n",
       "      <td>1.819475</td>\n",
       "      <td>0.162761</td>\n",
       "    </tr>\n",
       "    <tr>\n",
       "      <th>12998</th>\n",
       "      <td>(200, 500]</td>\n",
       "      <td>0.9</td>\n",
       "      <td>0.98</td>\n",
       "      <td>1.723934</td>\n",
       "      <td>0.179005</td>\n",
       "    </tr>\n",
       "    <tr>\n",
       "      <th>12999</th>\n",
       "      <td>(200, 500]</td>\n",
       "      <td>0.9</td>\n",
       "      <td>0.99</td>\n",
       "      <td>1.533923</td>\n",
       "      <td>0.216302</td>\n",
       "    </tr>\n",
       "  </tbody>\n",
       "</table>\n",
       "<p>13000 rows × 5 columns</p>\n",
       "</div>"
      ],
      "text/plain": [
       "              bin  thresh  cent    f_stat     p_val\n",
       "0         (0, 10]     0.0  0.00       NaN       NaN\n",
       "1         (0, 10]     0.0  0.01       NaN       NaN\n",
       "2         (0, 10]     0.0  0.02       NaN       NaN\n",
       "3         (0, 10]     0.0  0.03       NaN       NaN\n",
       "4         (0, 10]     0.0  0.04       NaN       NaN\n",
       "...           ...     ...   ...       ...       ...\n",
       "12995  (200, 500]     0.9  0.95       NaN       NaN\n",
       "12996  (200, 500]     0.9  0.96  1.868907  0.154945\n",
       "12997  (200, 500]     0.9  0.97  1.819475  0.162761\n",
       "12998  (200, 500]     0.9  0.98  1.723934  0.179005\n",
       "12999  (200, 500]     0.9  0.99  1.533923  0.216302\n",
       "\n",
       "[13000 rows x 5 columns]"
      ]
     },
     "execution_count": 4,
     "metadata": {},
     "output_type": "execute_result"
    }
   ],
   "source": [
    "stats"
   ]
  },
  {
   "cell_type": "code",
   "execution_count": 5,
   "id": "c180dcb5-12a0-4886-aa7a-fb0c9d05e8a6",
   "metadata": {},
   "outputs": [
    {
     "data": {
      "text/html": [
       "<div>\n",
       "<style scoped>\n",
       "    .dataframe tbody tr th:only-of-type {\n",
       "        vertical-align: middle;\n",
       "    }\n",
       "\n",
       "    .dataframe tbody tr th {\n",
       "        vertical-align: top;\n",
       "    }\n",
       "\n",
       "    .dataframe thead th {\n",
       "        text-align: right;\n",
       "    }\n",
       "</style>\n",
       "<table border=\"1\" class=\"dataframe\">\n",
       "  <thead>\n",
       "    <tr style=\"text-align: right;\">\n",
       "      <th></th>\n",
       "      <th>bin</th>\n",
       "      <th>thresh</th>\n",
       "      <th>cent</th>\n",
       "      <th>f_stat</th>\n",
       "      <th>p_val</th>\n",
       "    </tr>\n",
       "  </thead>\n",
       "  <tbody>\n",
       "    <tr>\n",
       "      <th>997</th>\n",
       "      <td>(0, 10]</td>\n",
       "      <td>0.9</td>\n",
       "      <td>0.97</td>\n",
       "      <td>3.123943</td>\n",
       "      <td>0.044025</td>\n",
       "    </tr>\n",
       "    <tr>\n",
       "      <th>998</th>\n",
       "      <td>(0, 10]</td>\n",
       "      <td>0.9</td>\n",
       "      <td>0.98</td>\n",
       "      <td>4.792337</td>\n",
       "      <td>0.008312</td>\n",
       "    </tr>\n",
       "    <tr>\n",
       "      <th>999</th>\n",
       "      <td>(0, 10]</td>\n",
       "      <td>0.9</td>\n",
       "      <td>0.99</td>\n",
       "      <td>5.011909</td>\n",
       "      <td>0.006675</td>\n",
       "    </tr>\n",
       "    <tr>\n",
       "      <th>1189</th>\n",
       "      <td>(10, 20]</td>\n",
       "      <td>0.1</td>\n",
       "      <td>0.89</td>\n",
       "      <td>3.658842</td>\n",
       "      <td>0.025798</td>\n",
       "    </tr>\n",
       "    <tr>\n",
       "      <th>1190</th>\n",
       "      <td>(10, 20]</td>\n",
       "      <td>0.1</td>\n",
       "      <td>0.90</td>\n",
       "      <td>3.689776</td>\n",
       "      <td>0.025013</td>\n",
       "    </tr>\n",
       "    <tr>\n",
       "      <th>...</th>\n",
       "      <td>...</td>\n",
       "      <td>...</td>\n",
       "      <td>...</td>\n",
       "      <td>...</td>\n",
       "      <td>...</td>\n",
       "    </tr>\n",
       "    <tr>\n",
       "      <th>12846</th>\n",
       "      <td>(200, 500]</td>\n",
       "      <td>0.8</td>\n",
       "      <td>0.46</td>\n",
       "      <td>3.699018</td>\n",
       "      <td>0.025159</td>\n",
       "    </tr>\n",
       "    <tr>\n",
       "      <th>12848</th>\n",
       "      <td>(200, 500]</td>\n",
       "      <td>0.8</td>\n",
       "      <td>0.48</td>\n",
       "      <td>3.213663</td>\n",
       "      <td>0.040713</td>\n",
       "    </tr>\n",
       "    <tr>\n",
       "      <th>12849</th>\n",
       "      <td>(200, 500]</td>\n",
       "      <td>0.8</td>\n",
       "      <td>0.49</td>\n",
       "      <td>3.149198</td>\n",
       "      <td>0.043403</td>\n",
       "    </tr>\n",
       "    <tr>\n",
       "      <th>12850</th>\n",
       "      <td>(200, 500]</td>\n",
       "      <td>0.8</td>\n",
       "      <td>0.50</td>\n",
       "      <td>3.204346</td>\n",
       "      <td>0.041091</td>\n",
       "    </tr>\n",
       "    <tr>\n",
       "      <th>12851</th>\n",
       "      <td>(200, 500]</td>\n",
       "      <td>0.8</td>\n",
       "      <td>0.51</td>\n",
       "      <td>3.055987</td>\n",
       "      <td>0.047610</td>\n",
       "    </tr>\n",
       "  </tbody>\n",
       "</table>\n",
       "<p>2145 rows × 5 columns</p>\n",
       "</div>"
      ],
      "text/plain": [
       "              bin  thresh  cent    f_stat     p_val\n",
       "997       (0, 10]     0.9  0.97  3.123943  0.044025\n",
       "998       (0, 10]     0.9  0.98  4.792337  0.008312\n",
       "999       (0, 10]     0.9  0.99  5.011909  0.006675\n",
       "1189     (10, 20]     0.1  0.89  3.658842  0.025798\n",
       "1190     (10, 20]     0.1  0.90  3.689776  0.025013\n",
       "...           ...     ...   ...       ...       ...\n",
       "12846  (200, 500]     0.8  0.46  3.699018  0.025159\n",
       "12848  (200, 500]     0.8  0.48  3.213663  0.040713\n",
       "12849  (200, 500]     0.8  0.49  3.149198  0.043403\n",
       "12850  (200, 500]     0.8  0.50  3.204346  0.041091\n",
       "12851  (200, 500]     0.8  0.51  3.055987  0.047610\n",
       "\n",
       "[2145 rows x 5 columns]"
      ]
     },
     "execution_count": 5,
     "metadata": {},
     "output_type": "execute_result"
    }
   ],
   "source": [
    "stats[stats['p_val'] <= 0.05]"
   ]
  },
  {
   "cell_type": "code",
   "execution_count": null,
   "id": "b50f6cec-c86a-43bb-a03f-06a8069da465",
   "metadata": {},
   "outputs": [],
   "source": []
  }
 ],
 "metadata": {
  "kernelspec": {
   "display_name": "Python [conda env:.conda-narrowPIXC]",
   "language": "python",
   "name": "conda-env-.conda-narrowPIXC-py"
  },
  "language_info": {
   "codemirror_mode": {
    "name": "ipython",
    "version": 3
   },
   "file_extension": ".py",
   "mimetype": "text/x-python",
   "name": "python",
   "nbconvert_exporter": "python",
   "pygments_lexer": "ipython3",
   "version": "3.12.4"
  }
 },
 "nbformat": 4,
 "nbformat_minor": 5
}
