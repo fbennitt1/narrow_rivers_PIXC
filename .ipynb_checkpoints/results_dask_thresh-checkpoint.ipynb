{
 "cells": [
  {
   "cell_type": "code",
   "execution_count": 1,
   "id": "3a969e19-56af-4005-9bcb-a3607fb7e5e7",
   "metadata": {},
   "outputs": [],
   "source": [
    "import os\n",
    "import time\n",
    "\n",
    "import dask.dataframe as dd\n",
    "import matplotlib.colors as colors\n",
    "import matplotlib.pyplot as plt\n",
    "import numpy as np\n",
    "import pandas as pd\n",
    "import seaborn as sns"
   ]
  },
  {
   "cell_type": "code",
   "execution_count": 2,
   "id": "59afabc7-293a-4472-8d06-2f372ea17dc4",
   "metadata": {},
   "outputs": [],
   "source": [
    "def truncate_colormap(cmap, minval=0.0, maxval=1.0, n=100):\n",
    "    new_cmap = colors.LinearSegmentedColormap.from_list(\n",
    "        'trunc({n},{a:.2f},{b:.2f})'.format(n=cmap.name, a=minval, b=maxval),\n",
    "        cmap(np.linspace(minval, maxval, n)))\n",
    "    return new_cmap"
   ]
  },
  {
   "cell_type": "code",
   "execution_count": 3,
   "id": "cb5e0840-6d62-45d9-865a-27ddbdfe602b",
   "metadata": {},
   "outputs": [],
   "source": [
    "cmap = plt.get_cmap('cubehelix')\n",
    "new_cmap = truncate_colormap(cmap, 0.2, 0.75)"
   ]
  },
  {
   "cell_type": "code",
   "execution_count": 6,
   "id": "80a989d6-2ac1-4c7a-9c1b-219eb04f85b4",
   "metadata": {},
   "outputs": [],
   "source": [
    "# clist = np.arange(0,1.1,0.333)\n",
    "\n",
    "# colors = {}\n",
    "# for idx, j in enumerate(clist):\n",
    "#     colors[idx] = new_cmap(j)"
   ]
  },
  {
   "cell_type": "code",
   "execution_count": 7,
   "id": "3761e791-90d9-4c87-bace-f10edad737d3",
   "metadata": {},
   "outputs": [],
   "source": [
    "# Order of all possible bins for plotting\n",
    "order = ['(0, 10]', '(10, 20]', '(20, 30]', '(30, 40]', '(40, 50]',\n",
    "         '(50, 60]', '(60, 70]', '(70, 80]', '(80, 90]', '(90, 100]',\n",
    "         '(100, 150]']"
   ]
  },
  {
   "cell_type": "code",
   "execution_count": 8,
   "id": "b89c63f1-8bc9-44fd-96ec-8a2660296e9a",
   "metadata": {},
   "outputs": [],
   "source": [
    "save_path = '/nas/cee-water/cjgleason/fiona/narrow_rivers_PIXC/figures_for_2025_03_06/'"
   ]
  },
  {
   "cell_type": "markdown",
   "id": "6790c17c-db46-46b7-b2c0-9a45f5e86df5",
   "metadata": {
    "tags": []
   },
   "source": [
    "## Threshold"
   ]
  },
  {
   "cell_type": "code",
   "execution_count": null,
   "id": "bfdb0405-cb86-4ebd-a7b0-bd3ca75d9e42",
   "metadata": {
    "tags": []
   },
   "outputs": [],
   "source": [
    "# Thresholds\n",
    "thresholds = [0.1, 0.2, 0.3, 0.4, 0.5, 0.6, 0.7, 0.8, 0.9]"
   ]
  },
  {
   "cell_type": "markdown",
   "id": "e6e572fe-811c-4326-9e7d-a373f443a55a",
   "metadata": {
    "tags": []
   },
   "source": [
    "### HUC2_01, Northeast"
   ]
  },
  {
   "cell_type": "code",
   "execution_count": null,
   "id": "1dd97655-9e5c-4a41-8fce-6a437a30ca41",
   "metadata": {},
   "outputs": [],
   "source": [
    "## Setup\n",
    "bwidth = 'mean'\n",
    "bbin = 'Bin'\n",
    "huc2 = '01'\n",
    "data_path = '../narrow_rivers_PIXC_output/PIXC_v2_0_HUC2_' + huc2 + '_2025_03_06_' + bwidth"
   ]
  },
  {
   "cell_type": "code",
   "execution_count": null,
   "id": "7f6b9e36-ce00-464a-8485-8f36346d8914",
   "metadata": {},
   "outputs": [],
   "source": [
    "# Get list of files    \n",
    "files = []\n",
    "for file in os.listdir(data_path):\n",
    "    if not file.startswith('.'):\n",
    "        if 'thresh' in file:\n",
    "            files.append(os.path.join(data_path, file))"
   ]
  },
  {
   "cell_type": "code",
   "execution_count": null,
   "id": "04ce7a4d-db31-4c94-9c0f-4491fe3e791a",
   "metadata": {},
   "outputs": [],
   "source": [
    "ddf_ne = dd.read_parquet(files)"
   ]
  },
  {
   "cell_type": "markdown",
   "id": "98e3f765-05c4-4c8b-be32-39197b686177",
   "metadata": {},
   "source": [
    "### HUC2_15, Southwest"
   ]
  },
  {
   "cell_type": "code",
   "execution_count": null,
   "id": "1a5e32ba-a4f9-4825-85b3-b71037b5bcaf",
   "metadata": {},
   "outputs": [],
   "source": [
    "## Setup\n",
    "bwidth = 'mean'\n",
    "bbin = 'Bin'\n",
    "huc2 = '15'\n",
    "data_path = '../narrow_rivers_PIXC_output/PIXC_v2_0_HUC2_' + huc2 + '_2025_03_06_' + bwidth"
   ]
  },
  {
   "cell_type": "code",
   "execution_count": null,
   "id": "81beeb17-7447-41ff-948b-150ac5bea375",
   "metadata": {},
   "outputs": [],
   "source": [
    "# Get list of files    \n",
    "files = []\n",
    "for file in os.listdir(data_path):\n",
    "    if not file.startswith('.'):\n",
    "        if 'thresh' in file:\n",
    "            files.append(os.path.join(data_path, file))"
   ]
  },
  {
   "cell_type": "code",
   "execution_count": null,
   "id": "cbc6816a-09fa-4c7f-b567-b401ba9cab50",
   "metadata": {},
   "outputs": [],
   "source": [
    "ddf_sw = dd.read_parquet(files)"
   ]
  },
  {
   "cell_type": "markdown",
   "id": "dd34e97b-9531-4783-991f-9de5147f74f6",
   "metadata": {},
   "source": [
    "### Side-by-side"
   ]
  },
  {
   "cell_type": "code",
   "execution_count": null,
   "id": "eebe9079-6473-4f0a-aa97-5e358f2fd1e2",
   "metadata": {},
   "outputs": [],
   "source": [
    "# for i in range(len(thresholds)):\n",
    "\n",
    "i = 3\n",
    "\n",
    "# Get ne reaches at 10% threshold\n",
    "ddf_ne_thresh = ddf_ne[(ddf_ne['threshold'] == thresholds[i])]\n",
    "ne = ddf_ne_thresh.compute().drop(columns=['NHDPlusID']).reset_index()\n",
    "ne = ne.drop(columns=['index', 'threshold'])\n",
    "ne['coverage'] = ne['coverage']*100\n",
    "ne['huc2'] = '01'\n",
    "\n",
    "# Get sw reaches at 10% threshold\n",
    "ddf_sw_thresh = ddf_sw[(ddf_sw['threshold'] == thresholds[i])]\n",
    "sw = ddf_sw_thresh.compute().drop(columns=['NHDPlusID']).reset_index()\n",
    "sw = sw.drop(columns=['index', 'threshold'])\n",
    "sw['coverage'] = sw['coverage']*100\n",
    "sw['huc2'] = '15'\n",
    "\n",
    "# Get combined reaches at 10% threshold\n",
    "ddf_combo = ddf_combo[(ddf_combo['threshold'] == thresholds[i])]\n",
    "combo = ddf_combo.compute().drop(columns=['NHDPlusID']).reset_index()\n",
    "combo = combo.drop(columns=['index', 'threshold'])\n",
    "combo['coverage'] = combo['coverage']*100\n",
    "combo['huc2'] = combined'\n",
    "\n",
    "combo = pd.concat(objs=[ne, sw], axis=0).reset_index()\n",
    "\n",
    "percent = str(int(thresholds[i]*100))\n",
    "\n",
    "fig, ax = plt.subplots(figsize=(10,6))\n",
    "sns.boxplot(x='Bin', y='coverage', hue='huc2',\n",
    "            data=combo, order=order,\n",
    "            cmap=new_cmap,\n",
    "            legend=True,\n",
    "            saturation=1, showmeans=True,\n",
    "            fliersize=2, linewidth=2,\n",
    "            boxprops=dict(alpha=0.8),\n",
    "            meanprops={'marker':'o',\n",
    "                       'markerfacecolor':'k',\n",
    "                       'markeredgecolor':'k',\n",
    "                       'markersize':'8'})\n",
    "\n",
    "plt.legend(title='HUC2', loc='upper right')\n",
    "\n",
    "plt.title('Reaches with at least ' + percent +'% coverage in each node, HUC2_01 and HUC2_15')\n",
    "plt.xticks(rotation=-45)\n",
    "\n",
    "plt.xlabel('Width Bin [m]', labelpad=20)\n",
    "plt.ylabel('Detected [%]')\n",
    "\n",
    "# plt.savefig('./figures_for_2025_03_06/threshold_huc2_01_and_huc_15_mean_' + percent + '.png')"
   ]
  },
  {
   "cell_type": "markdown",
   "id": "eb415a1e-e080-41bb-8ce3-e09edb39e514",
   "metadata": {},
   "source": [
    "### Combined"
   ]
  },
  {
   "cell_type": "code",
   "execution_count": null,
   "id": "1106320c-5946-4431-963a-f467affa10f6",
   "metadata": {},
   "outputs": [],
   "source": [
    "for i in range(len(thresholds)):\n",
    "    # Make combined dataframe\n",
    "    ddf_combo = dd.concat(dfs=[ddf_ne, ddf_sw], axis=0)\n",
    "\n",
    "    # Get combined reaches at 10% threshold\n",
    "    ddf_combo = ddf_combo[(ddf_combo['threshold'] == thresholds[i])]\n",
    "    combo = ddf_combo.compute().drop(columns=['NHDPlusID']).reset_index()\n",
    "    combo = combo.drop(columns=['index', 'threshold'])\n",
    "    combo['coverage'] = combo['coverage']*100\n",
    "    # combo['huc2'] = '01, 15'\n",
    "\n",
    "    percent = str(int(thresholds[i]*100))\n",
    "\n",
    "    fig, ax = plt.subplots(figsize=(10,6))\n",
    "    sns.boxplot(x='Bin', y='coverage',\n",
    "                data=combo,\n",
    "                order=order,\n",
    "                color=colors[i],\n",
    "                saturation=1, showmeans=True,\n",
    "                fliersize=2, linewidth=2,\n",
    "                boxprops=dict(alpha=0.8),\n",
    "                meanprops={'marker':'o',\n",
    "                           'markerfacecolor':'k',\n",
    "                           'markeredgecolor':'k',\n",
    "                           'markersize':'8'})\n",
    "\n",
    "    plt.title('Reaches with at least ' + percent +'% coverage in each node, HUC2_01 and HUC2_15')\n",
    "    plt.xticks(rotation=-45)\n",
    "\n",
    "    plt.xlabel('Width Bin [m]', labelpad=20)\n",
    "    plt.ylabel('Detected [%]')\n",
    "\n",
    "    plt.savefig('./figures_for_2025_03_06/threshold_combined_mean_' + percent + '.png')"
   ]
  }
 ],
 "metadata": {
  "kernelspec": {
   "display_name": "Python [conda env:.conda-narrowPIXC]",
   "language": "python",
   "name": "conda-env-.conda-narrowPIXC-py"
  },
  "language_info": {
   "codemirror_mode": {
    "name": "ipython",
    "version": 3
   },
   "file_extension": ".py",
   "mimetype": "text/x-python",
   "name": "python",
   "nbconvert_exporter": "python",
   "pygments_lexer": "ipython3",
   "version": "3.12.4"
  }
 },
 "nbformat": 4,
 "nbformat_minor": 5
}
