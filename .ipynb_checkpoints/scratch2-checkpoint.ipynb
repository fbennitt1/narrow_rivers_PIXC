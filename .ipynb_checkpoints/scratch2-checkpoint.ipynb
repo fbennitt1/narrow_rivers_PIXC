{
 "cells": [
  {
   "cell_type": "markdown",
   "id": "a85de4b2-1e4b-4f82-b6f5-143d4a875195",
   "metadata": {
    "tags": []
   },
   "source": [
    "### Check out width distributions"
   ]
  },
  {
   "cell_type": "code",
   "execution_count": null,
   "id": "ec12a0cd-4d98-418d-a713-c4e9607596cd",
   "metadata": {},
   "outputs": [],
   "source": [
    "# import fiona\n",
    "from shapely.geometry import *\n",
    "from shapely.wkt import loads\n",
    "# from shapely import LineString, MultiPoint\n",
    "# from shapely.ops import nearest_points, split, snap, unary_union\n",
    "\n",
    "import contextily as cx\n",
    "# import earthaccess\n",
    "import geopandas as gpd\n",
    "import matplotlib.pyplot as plt\n",
    "import numpy as np\n",
    "import os\n",
    "import pandas as pd\n",
    "import xarray as xr\n",
    "# import shapely"
   ]
  },
  {
   "cell_type": "code",
   "execution_count": null,
   "id": "e66b6445-2fca-486e-832c-797a8f9e8f3e",
   "metadata": {},
   "outputs": [],
   "source": [
    "## Set-up\n",
    "mdata_path = '/nas/cee-water/cjgleason/fiona/narrow_rivers_PIXC/data/'\n",
    "prep_path = '/nas/cee-water/cjgleason/fiona/narrow_rivers_PIXC_data/NHD_prepped/'"
   ]
  },
  {
   "cell_type": "code",
   "execution_count": null,
   "id": "6cd1b208-d53c-4927-8e9a-417a92a73406",
   "metadata": {},
   "outputs": [],
   "source": [
    "# Define dtypes for lookup tables to preserve leading zeros\n",
    "dtype_dic= {'HUC4': str, 'HUC2': str, 'toBasin': str, 'level': str}\n",
    "# Read in HUC lookup table\n",
    "lookup = pd.read_csv(os.path.join(mdata_path, 'HUC4_lookup_no_great_lakes.csv'), dtype=dtype_dic)"
   ]
  },
  {
   "cell_type": "code",
   "execution_count": null,
   "id": "c1afe21c-821d-4a7c-b759-ec1ec3f848f4",
   "metadata": {},
   "outputs": [],
   "source": [
    "# Get slurm job index\n",
    "i = 109\n",
    "\n",
    "# Get current HUC2 and HUC4 IDs\n",
    "hu2 = 'HUC2_' + lookup.loc[i,'HUC4'][0:2]\n",
    "hu4 = 'NHDPLUS_H_' + lookup.loc[i,'HUC4'] + '_HU4_GDB'"
   ]
  },
  {
   "cell_type": "code",
   "execution_count": null,
   "id": "1638c20a-3e39-4dc7-be01-742d38928410",
   "metadata": {},
   "outputs": [],
   "source": [
    "# Set data filepath\n",
    "file_path = os.path.join(prep_path, hu2, hu4 + '_prepped.gpkg')"
   ]
  },
  {
   "cell_type": "code",
   "execution_count": null,
   "id": "942d4743-11b0-4d15-a741-af1db14889f2",
   "metadata": {},
   "outputs": [],
   "source": [
    "# fiona.listlayers(file_path)"
   ]
  },
  {
   "cell_type": "code",
   "execution_count": null,
   "id": "59784277-7611-47da-a64f-cb75c847e3af",
   "metadata": {},
   "outputs": [],
   "source": [
    "# fieldsF = ['GNIS_ID', 'GNIS_Name', 'LengthKM',  'FlowDir',\n",
    "#            'WBArea_Permanent_Identifier', 'FType', 'FCode',\n",
    "#            'NHDPlusID', 'VPUID', 'geometry']\n",
    "# fieldsVAA = ['NHDPlusID', 'StreamOrde', 'FromNode', 'ToNode',\n",
    "#             'LevelPathI', 'TerminalFl', 'TotDASqKm', 'VPUID']\n",
    "# fieldsEROMMA = ['NHDPlusID', 'QBMA', 'VPUID']"
   ]
  },
  {
   "cell_type": "code",
   "execution_count": null,
   "id": "2c0daca4-ec3c-4007-a9d6-ddab65ef5fff",
   "metadata": {},
   "outputs": [],
   "source": [
    "# Read in NHD flowlines\n",
    "features = ['NHDPlusID', 'GNIS_Name', 'LengthKM', 'WidthM', 'Bin', 'geometry']\n",
    "basin = gpd.read_file(filename=file_path, columns=features, engine='pyogrio')"
   ]
  },
  {
   "cell_type": "code",
   "execution_count": null,
   "id": "35893ffc-93bc-4d06-a229-9daa6c3f32c8",
   "metadata": {},
   "outputs": [],
   "source": [
    "basin.shape"
   ]
  },
  {
   "cell_type": "code",
   "execution_count": null,
   "id": "d66b14e9-85ca-4f2c-98cc-798934195432",
   "metadata": {},
   "outputs": [],
   "source": [
    "# Drop reaches that are shorter than their width\n",
    "basin = basin[basin['LengthKM']*1000 > basin['WidthM']]"
   ]
  },
  {
   "cell_type": "code",
   "execution_count": null,
   "id": "8def7100-42f0-4897-95cc-7f937f8cc50a",
   "metadata": {},
   "outputs": [],
   "source": [
    "basin.shape"
   ]
  },
  {
   "cell_type": "code",
   "execution_count": null,
   "id": "be25832b-bc42-4e6d-9150-8f50a73dadf6",
   "metadata": {},
   "outputs": [],
   "source": [
    "# for binn in bins:\n",
    "#     print(basin.loc[basin['Bin'] == binn].sample(n=1))"
   ]
  },
  {
   "cell_type": "markdown",
   "id": "7a32db25-a36a-4505-920f-76f0b77f88b4",
   "metadata": {
    "tags": []
   },
   "source": [
    "#### Width analysis"
   ]
  },
  {
   "cell_type": "code",
   "execution_count": null,
   "id": "3cff5e06-aa15-4954-ad89-47bbd2dbbea0",
   "metadata": {},
   "outputs": [],
   "source": [
    "fig, ax = plt.subplots(figsize=(15,15))\n",
    "basin.plot(ax=ax)\n",
    "# basin[basin['LengthKM'] == 16.387000].plot(color='r', ax=ax)"
   ]
  },
  {
   "cell_type": "code",
   "execution_count": null,
   "id": "db2ea20d-3075-40c1-a505-3c4546cadb62",
   "metadata": {},
   "outputs": [],
   "source": [
    "basin.Bin.unique()"
   ]
  },
  {
   "cell_type": "code",
   "execution_count": null,
   "id": "817e2b12-2634-46d0-af34-ede57f82d85b",
   "metadata": {},
   "outputs": [],
   "source": [
    "# order = ['(0, 10]', '(10, 20]', '(20, 30]', '(30, 40]', '(40, 50]',\n",
    "#          '(50, 60]', '(60, 70]', '(70, 80]', '(80, 90]', '(90, 100]',\n",
    "#          '(100, 150]', '(150, 200]']\n",
    "order = ['(0, 10]', '(10, 20]', '(20, 30]', '(30, 40]', '(40, 50]',\n",
    "         '(50, 60]', '(80, 90]']"
   ]
  },
  {
   "cell_type": "code",
   "execution_count": null,
   "id": "83600239-8297-4e2c-8510-1b0e058d001d",
   "metadata": {},
   "outputs": [],
   "source": [
    "basin['Bin'].value_counts().loc[order].plot.bar(color='k')\n",
    "plt.title(hu4)\n",
    "plt.xlabel('Bankfull widths (m)')\n",
    "plt.ylabel('Number of reaches')"
   ]
  },
  {
   "cell_type": "code",
   "execution_count": null,
   "id": "ef5f16b3-e913-46c4-a336-215625f06bf7",
   "metadata": {},
   "outputs": [],
   "source": [
    "min_width = basin.groupby('Bin').min('LengthKM')['LengthKM']\n",
    "mean_width = basin.groupby('Bin').mean('LengthKM')['LengthKM']\n",
    "med_width = basin.groupby('Bin').median('LengthKM')['LengthKM']\n",
    "max_width = basin.groupby('Bin').max('LengthKM')['LengthKM']\n",
    "\n",
    "print('Reach length by bin\\n')\n",
    "print('Width (m)\\t' +  'Min(m)\\t' + 'Mean(m)\\t' + 'Med(m)\\t' + 'Max(m)\\t')\n",
    "for i in order:\n",
    "    print(i + ':\\t' + str(round(min_width.loc[i], 3)*1000) + '\\t' +\n",
    "          str(round(mean_width.loc[i], 3)*1000) + '\\t' +\n",
    "          str(round(med_width.loc[i], 3)*1000) + '\\t' +\n",
    "          str(round(max_width.loc[i], 3)*1000))"
   ]
  },
  {
   "cell_type": "code",
   "execution_count": null,
   "id": "91be8575-a45b-4780-8b98-5f9aee2e3595",
   "metadata": {},
   "outputs": [],
   "source": [
    "basin[basin['LengthKM'] > 8.0]"
   ]
  },
  {
   "cell_type": "code",
   "execution_count": null,
   "id": "e932275b-61c0-4f9b-94a7-cc6401daef1b",
   "metadata": {},
   "outputs": [],
   "source": [
    "reach = basin.loc[basin['LengthKM'] > 10]"
   ]
  },
  {
   "cell_type": "code",
   "execution_count": null,
   "id": "80a2a323-03ed-4fea-8141-f9b0f307f4f4",
   "metadata": {},
   "outputs": [],
   "source": [
    "reach"
   ]
  },
  {
   "cell_type": "code",
   "execution_count": null,
   "id": "7013f8e6-40bd-4bfe-a69a-133136286663",
   "metadata": {},
   "outputs": [],
   "source": [
    "test = reach.LengthKM.item()"
   ]
  },
  {
   "cell_type": "code",
   "execution_count": null,
   "id": "3dcf8e9c-442c-450f-a5f8-f8b914ff12e0",
   "metadata": {},
   "outputs": [],
   "source": [
    "print(reach.GNIS_Name.item() + \", \" + reach.Permanent_Identifier.item() +\n",
    "          \", Length: \" + str(round(reach.LengthKM.item(),3)) + \"km, Width: \" +\n",
    "          str(round(reach.WidthM.item(),3)) + 'm')"
   ]
  },
  {
   "cell_type": "code",
   "execution_count": null,
   "id": "04da9899-90b4-4c10-95cb-27c677a383fd",
   "metadata": {},
   "outputs": [],
   "source": [
    "reach = basin[basin['LengthKM'] > 10];\n",
    "\n",
    "fig, ax = plt.subplots(figsize=(15,15))\n",
    "basin.plot(ax=ax)\n",
    "reach.plot(color='r', ax=ax)\n",
    "plt.title(reach.GNIS_Name.item() + \", \" + reach.Permanent_Identifier.item() +\n",
    "          \", Length: \" + str(round(reach.LengthKM.item(),3)) + \"km, Width: \" +\n",
    "          str(round(reach.WidthM.item(),3)) + 'm')"
   ]
  },
  {
   "cell_type": "code",
   "execution_count": null,
   "id": "f8c02c60-1e17-4716-bec8-ad41f3f1d5c4",
   "metadata": {},
   "outputs": [],
   "source": [
    "basin.shape"
   ]
  },
  {
   "cell_type": "code",
   "execution_count": null,
   "id": "30d9839f-3a67-4d5d-b053-167171e1b96e",
   "metadata": {},
   "outputs": [],
   "source": [
    "basin[basin['LengthKM']*1000 < basin['WidthM']*20]"
   ]
  },
  {
   "cell_type": "code",
   "execution_count": null,
   "id": "1b0c7ad3-5ea2-40d6-bce9-ad56e7219a6c",
   "metadata": {},
   "outputs": [],
   "source": [
    "test = basin[basin['LengthKM']*1000 > basin['WidthM']]\n",
    "\n",
    "fig, ax = plt.subplots(figsize=(15,15))\n",
    "test.plot(ax=ax)\n",
    "# reach.plot(color='r', ax=ax)\n",
    "# plt.xlim(-13600000, -13500000)\n",
    "# plt.ylim(5900000, 6000000)"
   ]
  },
  {
   "cell_type": "markdown",
   "id": "0156f68a-3351-4f39-88f1-6afa4134ad91",
   "metadata": {},
   "source": [
    "#### CHOPPI DA SALAD"
   ]
  },
  {
   "cell_type": "code",
   "execution_count": null,
   "id": "b08b6ea8-5852-4df6-9e06-a3877d8c1950",
   "metadata": {},
   "outputs": [],
   "source": [
    "def cut(line, distance):\n",
    "# Cuts a line in two at a distance from its starting point\n",
    "# Returns the trimmed piece and the remainder of the linestring\n",
    "    if distance <= 0.0 or distance >= line.length:\n",
    "        return [LineString(line)]\n",
    "    coords = list(line.coords)\n",
    "    for i, p in enumerate(coords):\n",
    "        pd = line.project(Point(p))\n",
    "        if pd == distance:\n",
    "            return [\n",
    "                LineString(coords[:i+1]),\n",
    "                LineString(coords[i:])]\n",
    "        if pd > distance:\n",
    "            cp = line.interpolate(distance)\n",
    "            return [\n",
    "                LineString(coords[:i] + [(cp.x, cp.y)]),\n",
    "                LineString([(cp.x, cp.y)] + coords[i:])]"
   ]
  },
  {
   "cell_type": "code",
   "execution_count": null,
   "id": "14520c1e-673b-4946-8f90-649c9d4ddb99",
   "metadata": {},
   "outputs": [],
   "source": [
    "np.max(basin.LengthKM)"
   ]
  },
  {
   "cell_type": "code",
   "execution_count": null,
   "id": "827d854a-d4dd-4af4-a501-e63f2944bffd",
   "metadata": {},
   "outputs": [],
   "source": [
    "reach = basin.loc[basin['NHDPlusID'] == 55000800282287]\n",
    "# reach = basin.loc[basin['LengthKM'] == 10.11085088]\n",
    "# reach = basin.loc[basin['LengthKM'] == 9.656000]"
   ]
  },
  {
   "cell_type": "code",
   "execution_count": null,
   "id": "ec56cd6d-5cc0-4b71-a3e5-2e45c3da4f89",
   "metadata": {},
   "outputs": [],
   "source": [
    "reach"
   ]
  },
  {
   "cell_type": "code",
   "execution_count": null,
   "id": "019585bb-d68b-458c-acf2-d0e62f97717c",
   "metadata": {},
   "outputs": [],
   "source": [
    "# Convert MultiLineString Z to LineString (returns GeoSeries)\n",
    "gs = reach.geometry.explode().force_2d()"
   ]
  },
  {
   "cell_type": "code",
   "execution_count": null,
   "id": "a5c36cb6-5337-4c29-a283-9cd6607bab64",
   "metadata": {},
   "outputs": [],
   "source": [
    "# Extract line segment from GeoSeries\n",
    "line = gs[reach.index[0]]\n",
    "# line"
   ]
  },
  {
   "cell_type": "code",
   "execution_count": null,
   "id": "e8400f32-b158-48bc-9fb5-16908bc0b3ff",
   "metadata": {},
   "outputs": [],
   "source": [
    "# Define number of segments\n",
    "n = 10\n",
    "dist = line.length/n"
   ]
  },
  {
   "cell_type": "code",
   "execution_count": null,
   "id": "d2b13dad-0787-4f3b-8d19-17dc56e9d9a6",
   "metadata": {},
   "outputs": [],
   "source": [
    "line.length"
   ]
  },
  {
   "cell_type": "code",
   "execution_count": null,
   "id": "0ef73855-dd81-4868-a48b-b84ee75fae38",
   "metadata": {},
   "outputs": [],
   "source": [
    "dist"
   ]
  },
  {
   "cell_type": "code",
   "execution_count": null,
   "id": "3928a9f4-7bbf-45c7-bf75-e80d186e9f6f",
   "metadata": {},
   "outputs": [],
   "source": []
  },
  {
   "cell_type": "code",
   "execution_count": null,
   "id": "cbe847e5-706e-454b-9851-63e66a44be01",
   "metadata": {},
   "outputs": [],
   "source": [
    "# Make empty list for segments\n",
    "segments = []\n",
    "\n",
    "# Segment the reach\n",
    "for i in range(n):\n",
    "    # Chop the reach, store remainder\n",
    "    new, line = cut(line=line, distance=dist)\n",
    "    \n",
    "    # Append new segment to GeoSeries of all segments\n",
    "    segments.append(new)\n",
    "# reaches = gpd.GeoSeries(reaches)"
   ]
  },
  {
   "cell_type": "code",
   "execution_count": null,
   "id": "68fe72fe-d1c7-4365-b59c-32eae6d45e23",
   "metadata": {},
   "outputs": [],
   "source": [
    "# Check the remainder to ensure we got the entire reach\n",
    "assert line.length < 1e-8"
   ]
  },
  {
   "cell_type": "code",
   "execution_count": null,
   "id": "015f74bd-3edb-48aa-b3de-c4b74d5ccf3b",
   "metadata": {},
   "outputs": [],
   "source": [
    "fig, ax = plt.subplots(figsize=(8,8))\n",
    "df.plot(cmap='jet', ax=ax)"
   ]
  },
  {
   "cell_type": "code",
   "execution_count": null,
   "id": "8e243085-e40f-425d-8608-ec1cf714a372",
   "metadata": {},
   "outputs": [],
   "source": [
    "# # Duplicate rows of original reach metadata for merging\n",
    "# reach_cut = gpd.GeoDataFrame(np.repeat(a=reach, repeats=n, axis=0), columns=reach.columns,\n",
    "#                             crs=reach.crs)"
   ]
  },
  {
   "cell_type": "code",
   "execution_count": null,
   "id": "8d657b2e-a923-4e0a-b049-9f37f00ac320",
   "metadata": {},
   "outputs": [],
   "source": [
    "# # Check that CRS match before merging\n",
    "# assert reach_cut.crs == df.crs"
   ]
  },
  {
   "cell_type": "code",
   "execution_count": null,
   "id": "f822cb4e-cf5f-4578-bb11-180c838cc84d",
   "metadata": {},
   "outputs": [],
   "source": [
    "# # Merge the new segments onto the metadata\n",
    "# reach_cut = gpd.GeoDataFrame(reach_cut.merge(right=df, how='right', left_index=True, right_index=True))"
   ]
  },
  {
   "cell_type": "code",
   "execution_count": null,
   "id": "b5f608cf-1761-46eb-82a1-de841db4b2c7",
   "metadata": {},
   "outputs": [],
   "source": [
    "# # Drop the geometry of the full reach, set segment geometry as active geometry column\n",
    "# reach_cut = reach_cut.drop(columns='geometry_x').rename(columns={'geometry_y': 'geometry'})"
   ]
  },
  {
   "cell_type": "code",
   "execution_count": null,
   "id": "b8e53965-848e-465d-9af7-bbae84ae0720",
   "metadata": {},
   "outputs": [],
   "source": [
    "d = {}\n",
    "\n",
    "for i in range(reach_cut.shape[1]):\n",
    "    d[reach_cut.iloc[:,i].name] = reach_cut.iloc[i,i]\n",
    "\n",
    "d['geometry_full'] = d['geometry']"
   ]
  },
  {
   "cell_type": "code",
   "execution_count": null,
   "id": "04e08908-a607-454b-ae23-751dfbfb3f8c",
   "metadata": {},
   "outputs": [],
   "source": [
    "test = gpd.GeoDataFrame(index=range(len(segments)), data=d, geometry=segments)"
   ]
  },
  {
   "cell_type": "code",
   "execution_count": null,
   "id": "7887f590-f59d-4187-a707-904ec03a5b4f",
   "metadata": {},
   "outputs": [],
   "source": [
    "reach_cut.iloc[:,0].name"
   ]
  },
  {
   "cell_type": "code",
   "execution_count": null,
   "id": "7687b112-157c-4198-b2c2-a3280896a8c9",
   "metadata": {},
   "outputs": [],
   "source": [
    "# reach_cut"
   ]
  },
  {
   "cell_type": "code",
   "execution_count": null,
   "id": "1c5ef8f2-2631-4a39-b6d4-7a745f2b6ace",
   "metadata": {},
   "outputs": [],
   "source": [
    "# Buffer the reach segments by 1/2 the calculated width\n",
    "# CITE BEIGER\n",
    "reach_cut['geometry'] = reach_cut.geometry.buffer(distance=(reach_cut.WidthM/2)[0], cap_style='flat')"
   ]
  },
  {
   "cell_type": "code",
   "execution_count": null,
   "id": "74d62d09-67c2-47d6-87d8-ddea8646372f",
   "metadata": {},
   "outputs": [],
   "source": [
    "fig, ax = plt.subplots(figsize=(8,8))\n",
    "reach_cut.plot(cmap='jet', ax=ax)\n",
    "\n",
    "# # plt.xlim(-13620000,-13619000)\n",
    "# plt.ylim(5968000,5970000)"
   ]
  },
  {
   "cell_type": "code",
   "execution_count": null,
   "id": "7ab8cb8e-60c0-4852-b447-3831ed5a30bd",
   "metadata": {},
   "outputs": [],
   "source": [
    "# Get the bounds for Earthdata (EPSG:4326) and analysis (EPSG:3857)\n",
    "bounds_proj = reach_cut.total_bounds\n",
    "bounds_geo = reach_cut.to_crs(epsg=4326).total_bounds"
   ]
  },
  {
   "cell_type": "markdown",
   "id": "df48ea06-6da9-40b5-84a4-0279ff4e27bb",
   "metadata": {
    "tags": []
   },
   "source": [
    "#### Get Pixel Cloud"
   ]
  },
  {
   "cell_type": "code",
   "execution_count": null,
   "id": "492be974-f492-470c-be3e-afe9b330cb39",
   "metadata": {},
   "outputs": [],
   "source": [
    "filepath = '../data/small_rivers/mar_2024_ver_c/SWOT_L2_HR_PIXC_011_345_239R_20240227T044209_20240227T044220_PIC0_01.nc'"
   ]
  },
  {
   "cell_type": "code",
   "execution_count": null,
   "id": "670fcd69-b70b-485e-856f-9e59f4c978c5",
   "metadata": {},
   "outputs": [],
   "source": [
    "ds_PIXC = xr.open_mfdataset(filepath, group = 'pixel_cloud', engine='h5netcdf')"
   ]
  },
  {
   "cell_type": "code",
   "execution_count": null,
   "id": "5e8b7b54-6769-4820-aa82-5cdae5366113",
   "metadata": {},
   "outputs": [],
   "source": [
    "ds_PIXC"
   ]
  },
  {
   "cell_type": "code",
   "execution_count": null,
   "id": "9d0e4bdc-5901-4764-91b4-e0222ab05acb",
   "metadata": {},
   "outputs": [],
   "source": [
    "# When I also filter on the qual flags like Brent does in the PO.DAAC cookbook,\n",
    "# I get no pixels\n",
    "mask = np.where(ds_PIXC.classification > 2)\n",
    "# mask = np.where(np.logical_and(ds_PIXC.classification > 2, ds_PIXC.geolocation_qual < 4))"
   ]
  },
  {
   "cell_type": "code",
   "execution_count": null,
   "id": "795620d8-c133-41c6-802a-49b81f955a6b",
   "metadata": {},
   "outputs": [],
   "source": [
    "gdf_PIXC = gpd.GeoDataFrame(ds_PIXC.classification[mask],\n",
    "                        geometry=gpd.points_from_xy(ds_PIXC.longitude[mask],\n",
    "                                                    ds_PIXC.latitude[mask]),\n",
    "                        crs=\"EPSG:4326\")\n",
    "gdf_PIXC.rename(columns={gdf_PIXC.columns[0]: 'klass'}, inplace=True)"
   ]
  },
  {
   "cell_type": "code",
   "execution_count": null,
   "id": "0a469850-f893-4f2e-a19a-086c3c36d09c",
   "metadata": {},
   "outputs": [],
   "source": [
    "gdf_PIXC = gdf_PIXC.to_crs(epsg=3857)"
   ]
  },
  {
   "cell_type": "markdown",
   "id": "5d21c454-953f-48eb-980e-56d4499df7ec",
   "metadata": {},
   "source": [
    "#### For now: Get bounds of PIXC and crop basin to it"
   ]
  },
  {
   "cell_type": "code",
   "execution_count": null,
   "id": "bfe7586b-71c9-4da6-85ef-19764fb30a16",
   "metadata": {},
   "outputs": [],
   "source": [
    "# Get bounds of PIXC, construct polygon\n",
    "bounds_PIXC = gdf_PIXC.total_bounds\n",
    "poly = box(bounds_PIXC[0], bounds_PIXC[1], bounds_PIXC[2], bounds_PIXC[3])"
   ]
  },
  {
   "cell_type": "code",
   "execution_count": null,
   "id": "47e5fdde-3fac-4bd2-9d31-687bdc6893a3",
   "metadata": {},
   "outputs": [],
   "source": [
    "crop_basin = basin.clip(poly)"
   ]
  },
  {
   "cell_type": "code",
   "execution_count": null,
   "id": "53bb3799-d75e-4afd-865d-091f3d43c9e3",
   "metadata": {},
   "outputs": [],
   "source": [
    "bins = np.unique(crop_basin.Bin)\n",
    "bins"
   ]
  },
  {
   "cell_type": "markdown",
   "id": "7cb89d7f-bb91-4709-9df9-337bfe15e2de",
   "metadata": {
    "tags": []
   },
   "source": [
    "##### To just see pixels in bounding box"
   ]
  },
  {
   "cell_type": "code",
   "execution_count": null,
   "id": "fec46e55-6263-40d2-956b-f1db530ce557",
   "metadata": {},
   "outputs": [],
   "source": [
    "polygon = box(bounds_proj[0], bounds_proj[1], bounds_proj[2], bounds_proj[3])"
   ]
  },
  {
   "cell_type": "code",
   "execution_count": null,
   "id": "470f92c0-adca-461c-b67c-9ae45f539d24",
   "metadata": {},
   "outputs": [],
   "source": [
    "crop_PIXC = gdf_PIXC.clip(polygon)"
   ]
  },
  {
   "cell_type": "code",
   "execution_count": null,
   "id": "14b3ef79-16df-4d2b-a143-9723b85c429c",
   "metadata": {},
   "outputs": [],
   "source": [
    "fig, ax = plt.subplots()\n",
    "reach_cut.plot(cmap='jet', ax=ax)\n",
    "crop_PIXC.plot(ax=ax, alpha=0.5)"
   ]
  },
  {
   "cell_type": "markdown",
   "id": "a2002ab5-c2b8-4e5d-8f5d-87aea43294ab",
   "metadata": {
    "tags": []
   },
   "source": [
    "#### Sjoin"
   ]
  },
  {
   "cell_type": "code",
   "execution_count": null,
   "id": "b9a3fc31-e871-4fe6-972d-fb7fdcd884b1",
   "metadata": {},
   "outputs": [],
   "source": [
    "inside = gpd.sjoin(gdf_PIXC, reach_cut, how='inner', predicate='within').rename(columns={'index_right': 'segment'})"
   ]
  },
  {
   "cell_type": "code",
   "execution_count": null,
   "id": "72130726-d671-445c-ba97-fbe2276876bd",
   "metadata": {},
   "outputs": [],
   "source": [
    "np.unique(inside.klass)"
   ]
  },
  {
   "cell_type": "code",
   "execution_count": null,
   "id": "900e5d04-130a-455f-a588-bb5ac76062e5",
   "metadata": {},
   "outputs": [],
   "source": [
    "fig, ax = plt.subplots(figsize=(8,8))\n",
    "reach_cut.plot(cmap='jet', alpha=0.5, ax=ax)\n",
    "inside.plot(column=inside.klass, categorical=True, \n",
    "            markersize=3, c=inside.klass, ax=ax, legend=True)\n",
    "\n",
    "leg1 = ax.get_legend()\n",
    "leg1.set_title(\"Classification\")"
   ]
  },
  {
   "cell_type": "code",
   "execution_count": null,
   "id": "1ef6a14f-52c3-4450-8255-207ef721b6f9",
   "metadata": {},
   "outputs": [],
   "source": [
    "counts = pd.DataFrame(inside.segment.value_counts().reset_index().sort_index())"
   ]
  },
  {
   "cell_type": "code",
   "execution_count": null,
   "id": "3d7aea99-e849-4d79-84de-7b7918a94f41",
   "metadata": {},
   "outputs": [],
   "source": [
    "counts"
   ]
  },
  {
   "cell_type": "code",
   "execution_count": null,
   "id": "3ec2d3a3-0007-448a-93cb-02e6904dab5d",
   "metadata": {},
   "outputs": [],
   "source": [
    "coverage = len(counts.loc[counts['count'] != 0])/len(counts.segment)"
   ]
  },
  {
   "cell_type": "code",
   "execution_count": null,
   "id": "0d227a08-a310-4247-8c44-6e99984b4832",
   "metadata": {},
   "outputs": [],
   "source": [
    "coverage"
   ]
  },
  {
   "cell_type": "code",
   "execution_count": null,
   "id": "c86f185f-d121-4936-912d-fac255ff87de",
   "metadata": {},
   "outputs": [],
   "source": [
    "d = {'coverage': [0, 1, 2], 'test': 0}"
   ]
  },
  {
   "cell_type": "code",
   "execution_count": null,
   "id": "4d116a83-c7ec-4e56-ab11-e3036ff45261",
   "metadata": {},
   "outputs": [],
   "source": [
    "tt = pd.DataFrame(data=d, index=[0, 1, 2])"
   ]
  },
  {
   "cell_type": "code",
   "execution_count": null,
   "id": "24be7c7a-07f5-4221-a608-2fd2a676e368",
   "metadata": {},
   "outputs": [],
   "source": [
    "tt"
   ]
  },
  {
   "cell_type": "code",
   "execution_count": null,
   "id": "cbbcc4a3-7da0-495f-87e1-ca4ec15072f2",
   "metadata": {
    "tags": []
   },
   "outputs": [],
   "source": [
    "# inside"
   ]
  },
  {
   "cell_type": "markdown",
   "id": "b87e1f4c-0961-4daa-adfa-5323d9d8cedc",
   "metadata": {},
   "source": [
    "#### Loop the chop"
   ]
  },
  {
   "cell_type": "code",
   "execution_count": null,
   "id": "7a965309-de7a-45fe-8a84-30ca992c98f9",
   "metadata": {},
   "outputs": [],
   "source": [
    "def segmentReach(reach):\n",
    "    ###\n",
    "    \n",
    "    # Convert MultiLineString Z to LineString (returns GeoSeries)\n",
    "    gs = reach.geometry.explode().force_2d()\n",
    "    # Extract line segment from GeoSeries\n",
    "    line = gs[reach.index[0]]\n",
    "    print(line.length)\n",
    "    # Find length of segments\n",
    "    dist = line.length/10\n",
    "    print(dist)\n",
    "    \n",
    "    # Make empty list for segments\n",
    "    segments = []\n",
    "    \n",
    "    # Segment the reach\n",
    "    for i in range(10):\n",
    "        # Chop the reach, store remainder\n",
    "        new, remain = cut(line=line, distance=dist)\n",
    "\n",
    "        # Append new segment to GeoSeries of all segments\n",
    "        segments.append(new)\n",
    "    \n",
    "    # Check the remainder to ensure we got the entire reach\n",
    "    assert linne.length < 1e-8\n",
    "    del new, linne, dist\n",
    "    \n",
    "    # Make dict for constructing new GeoDataFrame\n",
    "    d = {}\n",
    "    for i in range(reach.shape[1]):\n",
    "        d[reach.iloc[:,i].name] = reach.iloc[0,i]\n",
    "    # Rename geometry for full reach\n",
    "    d['geometry_full'] = d['geometry']\n",
    "    \n",
    "    # Make GeoDataFrame with new reach segments\n",
    "    reach_cut = gpd.GeoDataFrame(data=d, index=range(len(segments)),\n",
    "                                 geometry=segments, crs=reach.crs)\n",
    "    \n",
    "    return reach_cut"
   ]
  },
  {
   "cell_type": "code",
   "execution_count": null,
   "id": "764aa45d-a31c-40c4-a0dd-35ccc3fe6f6a",
   "metadata": {},
   "outputs": [],
   "source": [
    "def getCoverage(gdf_PIXC, reach_cut):\n",
    "    ###\n",
    "    \n",
    "    # Get pixels in reach\n",
    "    inside = gpd.sjoin(gdf_PIXC, reach_cut, how='inner', predicate='within').rename(columns={'index_right': 'segment'})\n",
    "\n",
    "    if inside.empty:\n",
    "        coverage = 0\n",
    "    else:    \n",
    "        # Get number of pixels in each reach segment\n",
    "        counts = pd.DataFrame(inside.segment.value_counts().reset_index().sort_index())\n",
    "        # Calculate coverage\n",
    "        coverage = len(counts.loc[counts['count'] != 0])/len(counts.segment)\n",
    "    \n",
    "    return coverage"
   ]
  },
  {
   "cell_type": "code",
   "execution_count": null,
   "id": "f8df7ed1-d35a-459f-9513-b6868b8a73ed",
   "metadata": {},
   "outputs": [],
   "source": [
    "# Initialize lists\n",
    "coverage = []\n",
    "reach_bins = []\n",
    "\n",
    "for binn in bins:\n",
    "    reach = crop_basin.loc[crop_basin['Bin'] == binn].sample(n=1)\n",
    "    '{}'.format(reach.NHDPlusID)\n",
    "    # break\n",
    "    reach_bins.append(reach.iloc[0,0])\n",
    "    \n",
    "    # Get reach segments\n",
    "    reach_cut = segmentReach(reach)\n",
    "    \n",
    "    # Get coverage for reach\n",
    "    prop = getCoverage(gdf_PIXC, reach_cut)\n",
    "    \n",
    "    coverage.append(prop)"
   ]
  },
  {
   "cell_type": "code",
   "execution_count": null,
   "id": "643bcd3a-ab96-4510-9336-5d1e1f063476",
   "metadata": {},
   "outputs": [],
   "source": [
    "reach"
   ]
  },
  {
   "cell_type": "code",
   "execution_count": null,
   "id": "27af036a-12eb-4bd1-a239-10b880b5d396",
   "metadata": {},
   "outputs": [],
   "source": [
    "n = 10"
   ]
  },
  {
   "cell_type": "code",
   "execution_count": null,
   "id": "f40dfc5f-362d-4b27-9274-d2f8e7d63257",
   "metadata": {},
   "outputs": [],
   "source": [
    "# Convert MultiLineString Z to LineString (returns GeoSeries)\n",
    "gs = reach.geometry.explode().force_2d()\n",
    "# Extract line segment from GeoSeries\n",
    "line = gs[reach.index[0]]\n",
    "# Find length of segments\n",
    "dist = line.length/n"
   ]
  },
  {
   "cell_type": "code",
   "execution_count": null,
   "id": "97fafc9a-c607-4cc5-ab42-03ef2309b277",
   "metadata": {},
   "outputs": [],
   "source": [
    "line.length"
   ]
  },
  {
   "cell_type": "code",
   "execution_count": null,
   "id": "6fea0d9c-8844-435e-92e4-c77719290a67",
   "metadata": {},
   "outputs": [],
   "source": [
    "dist"
   ]
  },
  {
   "cell_type": "code",
   "execution_count": null,
   "id": "61c4f5cd-0ad6-497f-9a88-4eb1894f3be5",
   "metadata": {},
   "outputs": [],
   "source": [
    "# Make empty list for segments\n",
    "segments = []"
   ]
  },
  {
   "cell_type": "code",
   "execution_count": null,
   "id": "57c8ad07-8ea2-4ebb-a219-9c0c79d9cb7c",
   "metadata": {},
   "outputs": [],
   "source": [
    "# Segment the reach\n",
    "for i in range(n):\n",
    "    print(i)\n",
    "    # Chop the reach, store remainder\n",
    "    new, line = cut(line=line, distance=dist)\n",
    "\n",
    "    # Append new segment to GeoSeries of all segments\n",
    "    segments.append(new)"
   ]
  },
  {
   "cell_type": "code",
   "execution_count": null,
   "id": "7fcb6da6-331b-4cd0-b96e-6bb7362b22ee",
   "metadata": {},
   "outputs": [],
   "source": [
    "segments"
   ]
  },
  {
   "cell_type": "code",
   "execution_count": null,
   "id": "fb8a2e77-6e40-429b-b2e1-611ee4e49387",
   "metadata": {},
   "outputs": [],
   "source": [
    "# Check the remainder to ensure we got the entire reach\n",
    "assert line.length < 1e-8\n",
    "\n",
    "# Make dict for constructing new GeoDataFrame\n",
    "d = {}\n",
    "for i in range(reach.shape[1]):\n",
    "    d[reach.iloc[:,i].name] = reach.iloc[i,i]\n",
    "# Rename geometry for full reach\n",
    "d['geometry_full'] = d['geometry']\n",
    "\n",
    "# Make GeoDataFrame with new reach segments\n",
    "reach_cut = gpd.GeoDataFrame(data=d, index=range(len(segments)), geometry=segments)"
   ]
  }
 ],
 "metadata": {
  "kernelspec": {
   "display_name": "Python [conda env:.conda-narrowPIXC]",
   "language": "python",
   "name": "conda-env-.conda-narrowPIXC-py"
  },
  "language_info": {
   "codemirror_mode": {
    "name": "ipython",
    "version": 3
   },
   "file_extension": ".py",
   "mimetype": "text/x-python",
   "name": "python",
   "nbconvert_exporter": "python",
   "pygments_lexer": "ipython3",
   "version": "3.12.4"
  }
 },
 "nbformat": 4,
 "nbformat_minor": 5
}
