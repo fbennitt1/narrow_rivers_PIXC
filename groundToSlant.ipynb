{
 "cells": [
  {
   "cell_type": "code",
   "execution_count": 16,
   "id": "9a8e0b6c-9963-4e80-a331-c5def83aebb1",
   "metadata": {
    "tags": []
   },
   "outputs": [],
   "source": [
    "from argparse import ArgumentParser\n",
    "import os\n",
    "import sys\n",
    "import time\n",
    "\n",
    "import geopandas as gpd\n",
    "import matplotlib.pyplot as plt\n",
    "import numpy as np\n",
    "import pandas as pd\n",
    "import rasterio\n",
    "import shapely\n",
    "import xarray as xr\n",
    "\n",
    "from pyproj import Proj, transform\n",
    "\n",
    "# from matplotlib import colors\n",
    "from pandarallel import pandarallel\n",
    "\n",
    "from reaches import *\n",
    "from utils import *"
   ]
  },
  {
   "cell_type": "markdown",
   "id": "541daf9c-91f8-479e-928b-ba88c0f4c7f4",
   "metadata": {},
   "source": [
    "### Parse arguments"
   ]
  },
  {
   "cell_type": "code",
   "execution_count": 2,
   "id": "616ba997-a3c5-42d3-8aaa-565ffdb3f510",
   "metadata": {},
   "outputs": [],
   "source": [
    "# FOR NOW, SET\n",
    "width_set = 'min'\n",
    "\n",
    "# Control flow\n",
    "if width_set == 'mean':\n",
    "    width = 'WidthM'\n",
    "    binn = 'Bin'\n",
    "elif width_set == 'min':\n",
    "    width = 'WidthM_Min'\n",
    "    binn = 'Bin_Min'\n",
    "elif width_set == 'max':\n",
    "    width = 'WidthM_Max'\n",
    "    binn = 'Bin_Max'\n",
    "else:\n",
    "    print('Invalid width option specified, exiting.')\n",
    "    # sys.exit()"
   ]
  },
  {
   "cell_type": "code",
   "execution_count": 3,
   "id": "0cc9de5f-975f-48e3-8338-9c30ea1f96a8",
   "metadata": {},
   "outputs": [],
   "source": [
    "huc2 = '01' ### SET THIS\n",
    "data_path = '/nas/cee-water/cjgleason/fiona/data/PIXC_v2_0_HUC2_' + huc2\n",
    "# save_dir ="
   ]
  },
  {
   "cell_type": "markdown",
   "id": "f7f1f621-e51c-4d14-8430-7b9ec7aa7260",
   "metadata": {
    "tags": []
   },
   "source": [
    "### Pixel Cloud"
   ]
  },
  {
   "cell_type": "code",
   "execution_count": 4,
   "id": "f44fd807-8c1a-44c6-810a-425a1be5ebc3",
   "metadata": {},
   "outputs": [],
   "source": [
    "# Get job index\n",
    "# slurm = int(os.environ['SLURM_ARRAY_TASK_ID'])\n",
    "index = 106"
   ]
  },
  {
   "cell_type": "code",
   "execution_count": 5,
   "id": "aa2d3f81-7c9b-4559-969c-0fb7911c677e",
   "metadata": {},
   "outputs": [],
   "source": [
    "huc2 = '01'\n",
    "file_path = '/nas/cee-water/cjgleason/fiona/narrow_rivers_PIXC/data/PIXC_v2_0_HUC2_' + huc2 + '_filtered.json'\n",
    "data = open_json(file_path)"
   ]
  },
  {
   "cell_type": "code",
   "execution_count": 6,
   "id": "7d19bb52-cacb-45f2-99b7-2ea5a23efb01",
   "metadata": {},
   "outputs": [],
   "source": [
    "file_name = data[index]"
   ]
  },
  {
   "cell_type": "code",
   "execution_count": 7,
   "id": "ec48ead2-fe53-4a89-99ba-13596f9a5905",
   "metadata": {},
   "outputs": [
    {
     "name": "stdout",
     "output_type": "stream",
     "text": [
      "SWOT_L2_HR_PIXC_002_007_235R_20230811T080638_20230811T080649_PGC0_01\n"
     ]
    }
   ],
   "source": [
    "# Get data for this tile\n",
    "granule_name = file_name[:-3]\n",
    "tile_name = file_name[20:28]\n",
    "pass_num = int(file_name[20:23])\n",
    "\n",
    "print(granule_name)"
   ]
  },
  {
   "cell_type": "markdown",
   "id": "c4c34cb3-6c96-4114-a779-bb3fb3a990fa",
   "metadata": {
    "tags": []
   },
   "source": [
    "#### Read in PIXC"
   ]
  },
  {
   "cell_type": "code",
   "execution_count": 8,
   "id": "1cc8e148-30ae-46d9-a4af-afdf448049fb",
   "metadata": {},
   "outputs": [],
   "source": [
    "# Set PIXC filepath\n",
    "pixc_path = os.path.join(data_path, file_name)"
   ]
  },
  {
   "cell_type": "code",
   "execution_count": 9,
   "id": "6a932ce7-aabd-4486-b41b-15e290c79056",
   "metadata": {},
   "outputs": [],
   "source": [
    "# Read in pixel group\n",
    "ds_PIXC = xr.open_mfdataset(paths=pixc_path, group = 'pixel_cloud', engine='h5netcdf')"
   ]
  },
  {
   "cell_type": "code",
   "execution_count": 11,
   "id": "84709b0b-3c4e-4e4b-9ae7-e9a79dea86d4",
   "metadata": {},
   "outputs": [],
   "source": [
    "ds_TVP = xr.open_mfdataset(paths=pixc_path, group = 'tvp', engine='h5netcdf')"
   ]
  },
  {
   "cell_type": "code",
   "execution_count": 36,
   "id": "5e73d15b-7c63-4e5e-b19a-030f93e921be",
   "metadata": {},
   "outputs": [],
   "source": [
    "x = ds_TVP.x.to_dataframe()['x'].to_list()\n",
    "y = ds_TVP.y.to_dataframe()['y'].to_list()\n",
    "z = ds_TVP.z.to_dataframe()['z'].to_list()"
   ]
  },
  {
   "cell_type": "code",
   "execution_count": 37,
   "id": "0d4bfea6-e9a9-4cfd-a48f-600577d3da22",
   "metadata": {},
   "outputs": [],
   "source": [
    "# Zip the coordinates into a point object and convert to a GeoDataFrame\n",
    "geometry = [Point(xyz) for xyz in zip(x, y, z)]\n",
    "# df = GeoDataFrame(df, geometry=geometry)\n",
    "\n",
    "# # Aggregate these points with the GroupBy\n",
    "# df = df.groupby(['entity_id'])['geometry'].apply(lambda x: LineString(x.tolist()))\n",
    "# df = GeoDataFrame(df, geometry='geometry')"
   ]
  },
  {
   "cell_type": "code",
   "execution_count": 41,
   "id": "97dc3781-f0aa-4c0e-b4cf-b1c3e217ef9c",
   "metadata": {},
   "outputs": [
    {
     "data": {
      "text/plain": [
       "(1913004.408472421, -4746645.640884261, 5159664.705711862)"
      ]
     },
     "execution_count": 41,
     "metadata": {},
     "output_type": "execute_result"
    }
   ],
   "source": [
    "LineString(geometry).coords[0]"
   ]
  },
  {
   "cell_type": "code",
   "execution_count": null,
   "id": "797c35bd-a1af-4fd9-b398-53eb07ad9199",
   "metadata": {},
   "outputs": [],
   "source": [
    "geometry"
   ]
  },
  {
   "cell_type": "code",
   "execution_count": 22,
   "id": "2a228422-ea61-4cf5-822d-9238b3e44a45",
   "metadata": {},
   "outputs": [],
   "source": [
    "# Define ECEF to geodetic conversion function using pyproj\n",
    "def geodetic_to_ecef(lat, lon, alt):\n",
    "    # WGS84 datum\n",
    "    wgs84 = Proj(init=\"epsg:4326\")  # Lat, Lon, Alt (WGS84)\n",
    "    ecef = Proj(init=\"epsg:4978\")   # ECEF (meters)\n",
    "    \n",
    "    # Convert geodetic (lat, lon, alt) to ECEF (x, y, z)\n",
    "    x, y, z = transform(wgs84, ecef, lon, lat, alt)\n",
    "    return np.array([x, y, z])\n",
    "\n",
    "# Function to calculate slant range from satellite to river point\n",
    "def calculate_slant_range(satellite_position, river_points):\n",
    "    slant_ranges = []\n",
    "    \n",
    "    for point in river_points:\n",
    "        # Convert river point to ECEF\n",
    "        river_ecef = geodetic_to_ecef(point[0], point[1], point[2])  # lat, lon, alt\n",
    "        \n",
    "        # Calculate the Euclidean distance (slant range) between satellite and river point\n",
    "        slant_range = np.linalg.norm(satellite_position - river_ecef)\n",
    "        slant_ranges.append(slant_range)\n",
    "    \n",
    "    return slant_ranges"
   ]
  },
  {
   "cell_type": "code",
   "execution_count": 23,
   "id": "88792388-a157-4d6c-8d18-eb3541b5e379",
   "metadata": {},
   "outputs": [],
   "source": [
    "# Example satellite position in ECEF (x, y, z) in meters\n",
    "satellite_position = np.array([2000000, 3000000, 4000000])  # Example position\n",
    "\n",
    "# Example river points (lat, lon, alt) in degrees and meters\n",
    "# (lat, lon, alt) -> Latitude, Longitude, and Elevation (in meters)\n",
    "river_points = [\n",
    "    (37.7749, -122.4194, 30),  # Point 1 (San Francisco)\n",
    "    (36.7783, -119.4179, 50),  # Point 2 (Central California)\n",
    "    (34.0522, -118.2437, 10)   # Point 3 (Los Angeles)\n",
    "]"
   ]
  },
  {
   "cell_type": "code",
   "execution_count": 24,
   "id": "66e635d0-1780-42e3-bc5b-a7738f586a22",
   "metadata": {},
   "outputs": [
    {
     "name": "stdout",
     "output_type": "stream",
     "text": [
      "Slant range for river point 1: 8653584.89 meters\n",
      "Slant range for river point 2: 8716821.72 meters\n",
      "Slant range for river point 3: 8897216.79 meters\n"
     ]
    },
    {
     "name": "stderr",
     "output_type": "stream",
     "text": [
      "/work/pi_cjgleason_umass_edu/.conda/envs/narrowPIXC/lib/python3.12/site-packages/pyproj/crs/crs.py:141: FutureWarning: '+init=<authority>:<code>' syntax is deprecated. '<authority>:<code>' is the preferred initialization method. When making the change, be mindful of axis order changes: https://pyproj4.github.io/pyproj/stable/gotchas.html#axis-order-changes-in-proj-6\n",
      "  in_crs_string = _prepare_from_proj_string(in_crs_string)\n",
      "/work/pi_cjgleason_umass_edu/.conda/envs/narrowPIXC/lib/python3.12/site-packages/pyproj/crs/crs.py:141: FutureWarning: '+init=<authority>:<code>' syntax is deprecated. '<authority>:<code>' is the preferred initialization method. When making the change, be mindful of axis order changes: https://pyproj4.github.io/pyproj/stable/gotchas.html#axis-order-changes-in-proj-6\n",
      "  in_crs_string = _prepare_from_proj_string(in_crs_string)\n",
      "/tmp/ipykernel_125220/351315837.py:8: FutureWarning: This function is deprecated. See: https://pyproj4.github.io/pyproj/stable/gotchas.html#upgrading-to-pyproj-2-from-pyproj-1\n",
      "  x, y, z = transform(wgs84, ecef, lon, lat, alt)\n",
      "/work/pi_cjgleason_umass_edu/.conda/envs/narrowPIXC/lib/python3.12/site-packages/pyproj/crs/crs.py:141: FutureWarning: '+init=<authority>:<code>' syntax is deprecated. '<authority>:<code>' is the preferred initialization method. When making the change, be mindful of axis order changes: https://pyproj4.github.io/pyproj/stable/gotchas.html#axis-order-changes-in-proj-6\n",
      "  in_crs_string = _prepare_from_proj_string(in_crs_string)\n",
      "/work/pi_cjgleason_umass_edu/.conda/envs/narrowPIXC/lib/python3.12/site-packages/pyproj/crs/crs.py:141: FutureWarning: '+init=<authority>:<code>' syntax is deprecated. '<authority>:<code>' is the preferred initialization method. When making the change, be mindful of axis order changes: https://pyproj4.github.io/pyproj/stable/gotchas.html#axis-order-changes-in-proj-6\n",
      "  in_crs_string = _prepare_from_proj_string(in_crs_string)\n",
      "/tmp/ipykernel_125220/351315837.py:8: FutureWarning: This function is deprecated. See: https://pyproj4.github.io/pyproj/stable/gotchas.html#upgrading-to-pyproj-2-from-pyproj-1\n",
      "  x, y, z = transform(wgs84, ecef, lon, lat, alt)\n",
      "/work/pi_cjgleason_umass_edu/.conda/envs/narrowPIXC/lib/python3.12/site-packages/pyproj/crs/crs.py:141: FutureWarning: '+init=<authority>:<code>' syntax is deprecated. '<authority>:<code>' is the preferred initialization method. When making the change, be mindful of axis order changes: https://pyproj4.github.io/pyproj/stable/gotchas.html#axis-order-changes-in-proj-6\n",
      "  in_crs_string = _prepare_from_proj_string(in_crs_string)\n",
      "/work/pi_cjgleason_umass_edu/.conda/envs/narrowPIXC/lib/python3.12/site-packages/pyproj/crs/crs.py:141: FutureWarning: '+init=<authority>:<code>' syntax is deprecated. '<authority>:<code>' is the preferred initialization method. When making the change, be mindful of axis order changes: https://pyproj4.github.io/pyproj/stable/gotchas.html#axis-order-changes-in-proj-6\n",
      "  in_crs_string = _prepare_from_proj_string(in_crs_string)\n",
      "/tmp/ipykernel_125220/351315837.py:8: FutureWarning: This function is deprecated. See: https://pyproj4.github.io/pyproj/stable/gotchas.html#upgrading-to-pyproj-2-from-pyproj-1\n",
      "  x, y, z = transform(wgs84, ecef, lon, lat, alt)\n"
     ]
    }
   ],
   "source": [
    "# Calculate slant ranges for each river point\n",
    "slant_ranges = calculate_slant_range(satellite_position, river_points)\n",
    "\n",
    "# Output slant ranges\n",
    "for idx, range_ in enumerate(slant_ranges):\n",
    "    print(f\"Slant range for river point {idx + 1}: {range_:.2f} meters\")"
   ]
  }
 ],
 "metadata": {
  "kernelspec": {
   "display_name": "Python [conda env:.conda-narrowPIXC]",
   "language": "python",
   "name": "conda-env-.conda-narrowPIXC-py"
  },
  "language_info": {
   "codemirror_mode": {
    "name": "ipython",
    "version": 3
   },
   "file_extension": ".py",
   "mimetype": "text/x-python",
   "name": "python",
   "nbconvert_exporter": "python",
   "pygments_lexer": "ipython3",
   "version": "3.12.4"
  }
 },
 "nbformat": 4,
 "nbformat_minor": 5
}
