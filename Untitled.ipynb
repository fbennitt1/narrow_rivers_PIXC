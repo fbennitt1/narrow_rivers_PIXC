{
 "cells": [
  {
   "cell_type": "markdown",
   "id": "3e56c4ef-e08e-45b5-82c5-9fa29f76ad71",
   "metadata": {},
   "source": [
    "#### THIS WORKS"
   ]
  },
  {
   "cell_type": "code",
   "execution_count": 13,
   "id": "88acb32f-88ec-47ef-9994-99747ae3a525",
   "metadata": {},
   "outputs": [],
   "source": [
    "from shapely.geometry import *\n",
    "from shapely.wkt import loads\n",
    "\n",
    "def cut(line, distance):\n",
    "# Cuts a line in two at a distance from its starting point\n",
    "# Returns the trimmed piece and the remainder of the linestring\n",
    "    if distance <= 0.0 or distance >= line.length:\n",
    "        return [LineString(line)]\n",
    "    coords = list(line.coords)\n",
    "    for i, p in enumerate(coords):\n",
    "        pd = line.project(Point(p))\n",
    "        if pd == distance:\n",
    "            return [\n",
    "                LineString(coords[:i+1]),\n",
    "                LineString(coords[i:])]\n",
    "        if pd > distance:\n",
    "            cp = line.interpolate(distance)\n",
    "            return [\n",
    "                LineString(coords[:i] + [(cp.x, cp.y)]),\n",
    "                LineString([(cp.x, cp.y)] + coords[i:])]"
   ]
  },
  {
   "cell_type": "code",
   "execution_count": 22,
   "id": "e91398fa-f067-41a8-8080-92c5a6137a0c",
   "metadata": {},
   "outputs": [],
   "source": [
    "temp = cut(line, 1.6)"
   ]
  },
  {
   "cell_type": "code",
   "execution_count": 23,
   "id": "4b5a216b-447e-4899-aec0-278ac045c29b",
   "metadata": {},
   "outputs": [
    {
     "data": {
      "image/svg+xml": [
       "<svg xmlns=\"http://www.w3.org/2000/svg\" xmlns:xlink=\"http://www.w3.org/1999/xlink\" width=\"100.0\" height=\"100.0\" viewBox=\"-0.04664689766130055 0.9533531023386994 1.176380016088858 1.2594662368551146\" preserveAspectRatio=\"xMinYMin meet\"><g transform=\"matrix(1,0,0,-1,0,3.166172441532513)\"><polyline fill=\"none\" stroke=\"#66cc99\" stroke-width=\"0.02518932473710229\" points=\"0.0,1.0 1.0,2.0 1.0830862207662568,2.1661724415325136\" opacity=\"0.8\" /></g></svg>"
      ],
      "text/plain": [
       "<LINESTRING (0 1, 1 2, 1.083 2.166)>"
      ]
     },
     "execution_count": 23,
     "metadata": {},
     "output_type": "execute_result"
    }
   ],
   "source": [
    "temp[0]"
   ]
  },
  {
   "cell_type": "code",
   "execution_count": 24,
   "id": "9659b6c3-596e-45ad-802a-a783abfd4eb4",
   "metadata": {},
   "outputs": [
    {
     "data": {
      "image/svg+xml": [
       "<svg xmlns=\"http://www.w3.org/2000/svg\" xmlns:xlink=\"http://www.w3.org/1999/xlink\" width=\"100.0\" height=\"100.0\" viewBox=\"0.9664096695969071 2.049495890363164 3.150266881572443 3.0671806608061862\" preserveAspectRatio=\"xMinYMin meet\"><g transform=\"matrix(1,0,0,-1,0,7.166172441532514)\"><polyline fill=\"none\" stroke=\"#66cc99\" stroke-width=\"0.06300533763144886\" points=\"1.0830862207662568,2.1661724415325136 2.0,4.0 4.0,5.0\" opacity=\"0.8\" /></g></svg>"
      ],
      "text/plain": [
       "<LINESTRING (1.083 2.166, 2 4, 4 5)>"
      ]
     },
     "execution_count": 24,
     "metadata": {},
     "output_type": "execute_result"
    }
   ],
   "source": [
    "temp[1]"
   ]
  },
  {
   "cell_type": "code",
   "execution_count": 9,
   "id": "8a643e26-58cf-4b05-910a-ca03eb4e70c1",
   "metadata": {},
   "outputs": [],
   "source": [
    "from shapely.geometry import Point, LineString\n",
    "from shapely.ops import split"
   ]
  },
  {
   "cell_type": "code",
   "execution_count": 6,
   "id": "67238d11-b565-4c26-8762-26f2ad151d33",
   "metadata": {},
   "outputs": [
    {
     "data": {
      "image/svg+xml": [
       "<svg xmlns=\"http://www.w3.org/2000/svg\" xmlns:xlink=\"http://www.w3.org/1999/xlink\" width=\"100.0\" height=\"100.0\" viewBox=\"-0.16 0.84 4.32 4.32\" preserveAspectRatio=\"xMinYMin meet\"><g transform=\"matrix(1,0,0,-1,0,6.0)\"><polyline fill=\"none\" stroke=\"#66cc99\" stroke-width=\"0.0864\" points=\"0.0,1.0 1.0,2.0 2.0,4.0 4.0,5.0\" opacity=\"0.8\" /></g></svg>"
      ],
      "text/plain": [
       "<LINESTRING (0 1, 1 2, 2 4, 4 5)>"
      ]
     },
     "execution_count": 6,
     "metadata": {},
     "output_type": "execute_result"
    }
   ],
   "source": [
    "line = LineString([(0,1), (1,2), (2,4), (4,5)])\n",
    "line"
   ]
  },
  {
   "cell_type": "code",
   "execution_count": 7,
   "id": "40471244-3436-449e-9e2a-14088236e3bf",
   "metadata": {},
   "outputs": [],
   "source": [
    "point = Point(2,4)"
   ]
  },
  {
   "cell_type": "code",
   "execution_count": 10,
   "id": "e551f2d6-f32b-434b-8cde-eb88a9bb97fc",
   "metadata": {},
   "outputs": [],
   "source": [
    "result = split(line, point)"
   ]
  },
  {
   "cell_type": "code",
   "execution_count": 11,
   "id": "347c1fd1-8de8-49ec-a5ad-2a039638211f",
   "metadata": {},
   "outputs": [
    {
     "data": {
      "image/svg+xml": [
       "<svg xmlns=\"http://www.w3.org/2000/svg\" xmlns:xlink=\"http://www.w3.org/1999/xlink\" width=\"100.0\" height=\"100.0\" viewBox=\"-0.16 0.84 4.32 4.32\" preserveAspectRatio=\"xMinYMin meet\"><g transform=\"matrix(1,0,0,-1,0,6.0)\"><g><polyline fill=\"none\" stroke=\"#66cc99\" stroke-width=\"0.0864\" points=\"0.0,1.0 1.0,2.0 2.0,4.0\" opacity=\"0.8\" /><polyline fill=\"none\" stroke=\"#66cc99\" stroke-width=\"0.0864\" points=\"2.0,4.0 4.0,5.0\" opacity=\"0.8\" /></g></g></svg>"
      ],
      "text/plain": [
       "<GEOMETRYCOLLECTION (LINESTRING (0 1, 1 2, 2 4), LINESTRING (2 4, 4 5))>"
      ]
     },
     "execution_count": 11,
     "metadata": {},
     "output_type": "execute_result"
    }
   ],
   "source": [
    "result"
   ]
  },
  {
   "cell_type": "markdown",
   "id": "74e6a876-d686-4321-adee-ade99a56138b",
   "metadata": {
    "jp-MarkdownHeadingCollapsed": true,
    "tags": []
   },
   "source": [
    "#### Trying again"
   ]
  },
  {
   "cell_type": "code",
   "execution_count": 1,
   "id": "9d6df0df-6def-4ac4-8c99-544ba9f28275",
   "metadata": {},
   "outputs": [],
   "source": [
    "# import fiona\n",
    "from shapely import LineString, MultiPoint, Point\n",
    "from shapely.ops import nearest_points, split, snap, unary_union\n",
    "\n",
    "import geopandas as gpd\n",
    "import matplotlib.pyplot as plt\n",
    "import numpy as np\n",
    "import os\n",
    "import pandas as pd\n",
    "import shapely"
   ]
  },
  {
   "cell_type": "code",
   "execution_count": 2,
   "id": "3540a733-1c58-476b-8e7c-4c4e4d6b146f",
   "metadata": {},
   "outputs": [],
   "source": [
    "line = LineString([(0, 0), (2,1), (1.4,2.5), (3,2), (5,4), (6,7), (5,8), (10, 10)])\n",
    "# LineString(([0, 0], [2, 1], [3, 2], [3.5, 1], [5, 2], [6,]))"
   ]
  },
  {
   "cell_type": "code",
   "execution_count": 3,
   "id": "44b76c8d-3b64-4758-91c5-84a7d0de3704",
   "metadata": {},
   "outputs": [
    {
     "data": {
      "image/svg+xml": [
       "<svg xmlns=\"http://www.w3.org/2000/svg\" xmlns:xlink=\"http://www.w3.org/1999/xlink\" width=\"100.0\" height=\"100.0\" viewBox=\"-0.4 -0.4 10.8 10.8\" preserveAspectRatio=\"xMinYMin meet\"><g transform=\"matrix(1,0,0,-1,0,10.0)\"><polyline fill=\"none\" stroke=\"#66cc99\" stroke-width=\"0.21600000000000003\" points=\"0.0,0.0 2.0,1.0 1.4,2.5 3.0,2.0 5.0,4.0 6.0,7.0 5.0,8.0 10.0,10.0\" opacity=\"0.8\" /></g></svg>"
      ],
      "text/plain": [
       "<LINESTRING (0 0, 2 1, 1.4 2.5, 3 2, 5 4, 6 7, 5 8, 10 10)>"
      ]
     },
     "execution_count": 3,
     "metadata": {},
     "output_type": "execute_result"
    }
   ],
   "source": [
    "line"
   ]
  },
  {
   "cell_type": "code",
   "execution_count": 23,
   "id": "e2849973-e0b1-4912-9bde-40312fb15c45",
   "metadata": {},
   "outputs": [
    {
     "data": {
      "text/plain": [
       "np.float64(18.31800603548633)"
      ]
     },
     "execution_count": 23,
     "metadata": {},
     "output_type": "execute_result"
    }
   ],
   "source": [
    "shapely.length(line)"
   ]
  },
  {
   "cell_type": "code",
   "execution_count": null,
   "id": "272050cb-d20f-4f3a-b4b3-2c57517bc2da",
   "metadata": {},
   "outputs": [],
   "source": []
  },
  {
   "cell_type": "code",
   "execution_count": 15,
   "id": "ce2122cb-2789-4668-b124-0035e5312dc7",
   "metadata": {},
   "outputs": [],
   "source": [
    "# Get points at which to split line\n",
    "n = 10\n",
    "split = MultiPoint([line.interpolate((i/n), normalized=True) for i in range(1, n)])"
   ]
  },
  {
   "cell_type": "code",
   "execution_count": 16,
   "id": "4909b034-4cb6-403d-921b-ebe1a0abbce8",
   "metadata": {},
   "outputs": [
    {
     "data": {
      "image/svg+xml": [
       "<svg xmlns=\"http://www.w3.org/2000/svg\" xmlns:xlink=\"http://www.w3.org/1999/xlink\" width=\"100.0\" height=\"100.0\" viewBox=\"1.1298082603118256 0.4791869261219676 7.509426784973726 9.180518616810259\" preserveAspectRatio=\"xMinYMin meet\"><g transform=\"matrix(1,0,0,-1,0,10.138892469054193)\"><g><circle cx=\"1.6384122683039544\" cy=\"0.8192061341519772\" r=\"0.27541555850430777\" stroke=\"#555555\" stroke-width=\"0.09180518616810258\" fill=\"#66cc99\" opacity=\"0.6\" /><circle cx=\"1.469827468341835\" cy=\"2.3254313291454123\" r=\"0.27541555850430777\" stroke=\"#555555\" stroke-width=\"0.09180518616810258\" fill=\"#66cc99\" opacity=\"0.6\" /><circle cx=\"2.9689592894215\" cy=\"2.0097002220557814\" r=\"0.27541555850430777\" stroke=\"#555555\" stroke-width=\"0.09180518616810258\" fill=\"#66cc99\" opacity=\"0.6\" /><circle cx=\"4.27228275912665\" cy=\"3.27228275912665\" r=\"0.27541555850430777\" stroke=\"#555555\" stroke-width=\"0.09180518616810258\" fill=\"#66cc99\" opacity=\"0.6\" /><circle cx=\"5.2538211688502\" cy=\"4.7614635065506\" r=\"0.27541555850430777\" stroke=\"#555555\" stroke-width=\"0.09180518616810258\" fill=\"#66cc99\" opacity=\"0.6\" /><circle cx=\"5.83308738149868\" cy=\"6.499262144496038\" r=\"0.27541555850430777\" stroke=\"#555555\" stroke-width=\"0.09180518616810258\" fill=\"#66cc99\" opacity=\"0.6\" /><circle cx=\"5.077949332720594\" cy=\"7.922050667279406\" r=\"0.27541555850430777\" stroke=\"#555555\" stroke-width=\"0.09180518616810258\" fill=\"#66cc99\" opacity=\"0.6\" /><circle cx=\"6.5984316745110885\" cy=\"8.639372669804436\" r=\"0.27541555850430777\" stroke=\"#555555\" stroke-width=\"0.09180518616810258\" fill=\"#66cc99\" opacity=\"0.6\" /><circle cx=\"8.299215837255543\" cy=\"9.319686334902217\" r=\"0.27541555850430777\" stroke=\"#555555\" stroke-width=\"0.09180518616810258\" fill=\"#66cc99\" opacity=\"0.6\" /></g></g></svg>"
      ],
      "text/plain": [
       "<MULTIPOINT ((1.638 0.819), (1.47 2.325), (2.969 2.01), (4.272 3.272), (5.25...>"
      ]
     },
     "execution_count": 16,
     "metadata": {},
     "output_type": "execute_result"
    }
   ],
   "source": [
    "split"
   ]
  },
  {
   "cell_type": "code",
   "execution_count": 19,
   "id": "cbab7603-32ea-4235-8ae5-d73a45823463",
   "metadata": {},
   "outputs": [
    {
     "data": {
      "text/plain": [
       "array([1.63841227, 0.81920613])"
      ]
     },
     "execution_count": 19,
     "metadata": {},
     "output_type": "execute_result"
    }
   ],
   "source": [
    "shapely.get_coordinates(geometry=split)[0]"
   ]
  },
  {
   "cell_type": "code",
   "execution_count": 20,
   "id": "a4d71ea3-5269-4578-be7e-f804549c5830",
   "metadata": {},
   "outputs": [
    {
     "data": {
      "text/plain": [
       "array([[1.63841227, 0.81920613],\n",
       "       [1.46982747, 2.32543133],\n",
       "       [2.96895929, 2.00970022],\n",
       "       [4.27228276, 3.27228276],\n",
       "       [5.25382117, 4.76146351],\n",
       "       [5.83308738, 6.49926214],\n",
       "       [5.07794933, 7.92205067],\n",
       "       [6.59843167, 8.63937267],\n",
       "       [8.29921584, 9.31968633]])"
      ]
     },
     "execution_count": 20,
     "metadata": {},
     "output_type": "execute_result"
    }
   ],
   "source": [
    "split_coords = shapely.get_coordinates(geometry=split)\n",
    "split_coords"
   ]
  },
  {
   "cell_type": "code",
   "execution_count": 26,
   "id": "43853b88-2538-4f7b-a4b3-d99472659f7b",
   "metadata": {},
   "outputs": [
    {
     "data": {
      "text/plain": [
       "numpy.float64"
      ]
     },
     "execution_count": 26,
     "metadata": {},
     "output_type": "execute_result"
    }
   ],
   "source": [
    "split_coords[0][0]"
   ]
  },
  {
   "cell_type": "code",
   "execution_count": 27,
   "id": "76080296-b523-49cc-a01c-0fbdbf8856cd",
   "metadata": {},
   "outputs": [],
   "source": [
    "pt = Point(split_coords[0][0], split_coords[0][1])"
   ]
  },
  {
   "cell_type": "code",
   "execution_count": 28,
   "id": "c594e642-f0e9-4518-b450-f4a29410daa0",
   "metadata": {},
   "outputs": [
    {
     "data": {
      "image/svg+xml": [
       "<svg xmlns=\"http://www.w3.org/2000/svg\" xmlns:xlink=\"http://www.w3.org/1999/xlink\" width=\"100.0\" height=\"100.0\" viewBox=\"0.6384122683039544 -0.18079386584802282 2.0 2.0\" preserveAspectRatio=\"xMinYMin meet\"><g transform=\"matrix(1,0,0,-1,0,1.6384122683039544)\"><circle cx=\"1.6384122683039544\" cy=\"0.8192061341519772\" r=\"0.06\" stroke=\"#555555\" stroke-width=\"0.02\" fill=\"#66cc99\" opacity=\"0.6\" /></g></svg>"
      ],
      "text/plain": [
       "<POINT (1.638 0.819)>"
      ]
     },
     "execution_count": 28,
     "metadata": {},
     "output_type": "execute_result"
    }
   ],
   "source": [
    "pt"
   ]
  },
  {
   "cell_type": "code",
   "execution_count": 13,
   "id": "8ea42e7a-3dfc-42be-8e1e-53cb77899b45",
   "metadata": {},
   "outputs": [],
   "source": [
    "pt = Point(1.63841227,0.81920613)"
   ]
  },
  {
   "cell_type": "code",
   "execution_count": 5,
   "id": "aab2a629-5903-4c9a-a5c7-a6b26222cae0",
   "metadata": {},
   "outputs": [
    {
     "data": {
      "image/svg+xml": [
       "<svg xmlns=\"http://www.w3.org/2000/svg\" xmlns:xlink=\"http://www.w3.org/1999/xlink\" width=\"100.0\" height=\"100.0\" viewBox=\"0.6384122699999999 -0.18079387000000002 2.0 2.0\" preserveAspectRatio=\"xMinYMin meet\"><g transform=\"matrix(1,0,0,-1,0,1.63841226)\"><circle cx=\"1.63841227\" cy=\"0.81920613\" r=\"0.06\" stroke=\"#555555\" stroke-width=\"0.02\" fill=\"#66cc99\" opacity=\"0.6\" /></g></svg>"
      ],
      "text/plain": [
       "<POINT (1.638 0.819)>"
      ]
     },
     "execution_count": 5,
     "metadata": {},
     "output_type": "execute_result"
    }
   ],
   "source": [
    "pt"
   ]
  },
  {
   "cell_type": "code",
   "execution_count": 14,
   "id": "d96e0859-ac84-4bff-8864-1e34dd61f341",
   "metadata": {},
   "outputs": [],
   "source": [
    "# buff = pt.buffer(0.0001)"
   ]
  },
  {
   "cell_type": "code",
   "execution_count": 21,
   "id": "2ac7f06b-82f4-433e-b6ce-b794eb2d6210",
   "metadata": {},
   "outputs": [],
   "source": [
    "# Get geometry of line boundaries\n",
    "first = line.boundary.geoms[0]\n",
    "last = line.boundary.geoms[1]"
   ]
  },
  {
   "cell_type": "code",
   "execution_count": 18,
   "id": "fdb889fe-6c11-44d6-93eb-cb611e7c1887",
   "metadata": {},
   "outputs": [],
   "source": [
    "test = split(geom=line, splitter=pt)"
   ]
  },
  {
   "cell_type": "code",
   "execution_count": 20,
   "id": "960d8f98-7abf-497c-9e7d-7f0f6fd84101",
   "metadata": {},
   "outputs": [
    {
     "data": {
      "image/svg+xml": [
       "<svg xmlns=\"http://www.w3.org/2000/svg\" xmlns:xlink=\"http://www.w3.org/1999/xlink\" width=\"100.0\" height=\"100.0\" viewBox=\"-0.4 -0.4 10.8 10.8\" preserveAspectRatio=\"xMinYMin meet\"><g transform=\"matrix(1,0,0,-1,0,10.0)\"><g><polyline fill=\"none\" stroke=\"#66cc99\" stroke-width=\"0.21600000000000003\" points=\"0.0,0.0 2.0,1.0 1.4,2.5 3.0,2.0 5.0,4.0 6.0,7.0 5.0,8.0 10.0,10.0\" opacity=\"0.8\" /></g></g></svg>"
      ],
      "text/plain": [
       "<GEOMETRYCOLLECTION (LINESTRING (0 0, 2 1, 1.4 2.5, 3 2, 5 4, 6 7, 5 8, 10 10))>"
      ]
     },
     "execution_count": 20,
     "metadata": {},
     "output_type": "execute_result"
    }
   ],
   "source": [
    "test"
   ]
  },
  {
   "cell_type": "code",
   "execution_count": 21,
   "id": "c5a1c9ed-9ed6-4452-9821-98ed25b3fe3c",
   "metadata": {},
   "outputs": [
    {
     "data": {
      "text/plain": [
       "array([[ 0. ,  0. ],\n",
       "       [ 2. ,  1. ],\n",
       "       [ 1.4,  2.5],\n",
       "       [ 3. ,  2. ],\n",
       "       [ 5. ,  4. ],\n",
       "       [ 6. ,  7. ],\n",
       "       [ 5. ,  8. ],\n",
       "       [10. , 10. ]])"
      ]
     },
     "execution_count": 21,
     "metadata": {},
     "output_type": "execute_result"
    }
   ],
   "source": [
    "shapely.get_coordinates(line)"
   ]
  },
  {
   "cell_type": "code",
   "execution_count": 22,
   "id": "63014afc-bda2-4975-9bac-26f12a09e0b0",
   "metadata": {},
   "outputs": [
    {
     "data": {
      "text/plain": [
       "array([[ 0. ,  0. ],\n",
       "       [ 2. ,  1. ],\n",
       "       [ 1.4,  2.5],\n",
       "       [ 3. ,  2. ],\n",
       "       [ 5. ,  4. ],\n",
       "       [ 6. ,  7. ],\n",
       "       [ 5. ,  8. ],\n",
       "       [10. , 10. ]])"
      ]
     },
     "execution_count": 22,
     "metadata": {},
     "output_type": "execute_result"
    }
   ],
   "source": [
    "shapely.get_coordinates(test)"
   ]
  },
  {
   "cell_type": "code",
   "execution_count": 39,
   "id": "761e5854-6c50-4686-b3ca-6d8ed3ffd5b4",
   "metadata": {},
   "outputs": [],
   "source": [
    "gs = gpd.GeoSeries(test)"
   ]
  },
  {
   "cell_type": "code",
   "execution_count": 40,
   "id": "33224b8e-3923-4241-80e5-e66972f149a2",
   "metadata": {},
   "outputs": [
    {
     "data": {
      "text/plain": [
       "0    GEOMETRYCOLLECTION (LINESTRING (0 0, 1.63841 0...\n",
       "dtype: geometry"
      ]
     },
     "execution_count": 40,
     "metadata": {},
     "output_type": "execute_result"
    }
   ],
   "source": [
    "gs"
   ]
  },
  {
   "cell_type": "code",
   "execution_count": 41,
   "id": "8804330c-1719-42c7-8be9-3a92cc005f2d",
   "metadata": {},
   "outputs": [
    {
     "data": {
      "text/plain": [
       "0    GEOMETRYCOLLECTION (LINESTRING (0 0, 1.63841 0...\n",
       "dtype: geometry"
      ]
     },
     "execution_count": 41,
     "metadata": {},
     "output_type": "execute_result"
    }
   ],
   "source": [
    "gs"
   ]
  }
 ],
 "metadata": {
  "kernelspec": {
   "display_name": "Python [conda env:.conda-narrowPIXC]",
   "language": "python",
   "name": "conda-env-.conda-narrowPIXC-py"
  },
  "language_info": {
   "codemirror_mode": {
    "name": "ipython",
    "version": 3
   },
   "file_extension": ".py",
   "mimetype": "text/x-python",
   "name": "python",
   "nbconvert_exporter": "python",
   "pygments_lexer": "ipython3",
   "version": "3.12.4"
  }
 },
 "nbformat": 4,
 "nbformat_minor": 5
}
