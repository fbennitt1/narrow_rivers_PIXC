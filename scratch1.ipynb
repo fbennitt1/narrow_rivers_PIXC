{
 "cells": [
  {
   "cell_type": "markdown",
   "id": "473c00ed-b77e-4f3f-9ecb-6c4a8a77a52f",
   "metadata": {
    "jp-MarkdownHeadingCollapsed": true,
    "tags": []
   },
   "source": [
    "#### first pass"
   ]
  },
  {
   "cell_type": "code",
   "execution_count": null,
   "id": "66c2a1da-1712-4c0d-b14f-71eb0c59770e",
   "metadata": {},
   "outputs": [],
   "source": [
    "import geopandas as gpd\n",
    "import matplotlib.pyplot as plt\n",
    "import os\n",
    "import pandas as pd\n",
    "import time"
   ]
  },
  {
   "cell_type": "code",
   "execution_count": null,
   "id": "ccd2ae29-9d90-42c2-b1a3-05ff64e60a73",
   "metadata": {
    "tags": []
   },
   "outputs": [],
   "source": [
    "## Prep Physiographic Regions\n",
    "# https://www.sciencebase.gov/catalog/item/631405bbd34e36012efa304e\n",
    "# tic = time.time()\n",
    "physio = gpd.read_file('/nas/cee-water/cjgleason/craig/CONUS_ephemeral_data/other_shapefiles/physio.shp'\n",
    "                       , engine='pyogrio'\n",
    "                      )\n",
    "# print('{:.2f}s to make merged shapefile.'.format(time.time()-tic))"
   ]
  },
  {
   "cell_type": "code",
   "execution_count": null,
   "id": "0dfa257f-3ebe-46ab-8762-dec18fc1ac15",
   "metadata": {},
   "outputs": [],
   "source": [
    "# Dissolve provinces by division\n",
    "physio = physio.dissolve(by='DIVISION').reset_index()"
   ]
  },
  {
   "cell_type": "code",
   "execution_count": null,
   "id": "17b39d8c-fa15-49ba-aadc-9aa35199cc09",
   "metadata": {},
   "outputs": [],
   "source": [
    "# Set CRS to Web Mercator\n",
    "physio = physio.to_crs(epsg=3857)"
   ]
  },
  {
   "cell_type": "code",
   "execution_count": null,
   "id": "2ac961c6-b80d-4ef1-9e0f-798a5c51a53a",
   "metadata": {},
   "outputs": [],
   "source": [
    "# Drop all columns besides privince, division, and geometry\n",
    "physio = physio[['DIVISION', 'PROVINCE', 'geometry']]"
   ]
  },
  {
   "cell_type": "code",
   "execution_count": null,
   "id": "63bf395a-cd17-4a90-a341-8f5f9fcd90bd",
   "metadata": {},
   "outputs": [],
   "source": [
    "# physio"
   ]
  },
  {
   "cell_type": "code",
   "execution_count": null,
   "id": "b8bda377-85b7-412d-aea8-5ef4ec301a26",
   "metadata": {},
   "outputs": [],
   "source": [
    "# physio.plot(column='DIVISION')"
   ]
  },
  {
   "cell_type": "code",
   "execution_count": null,
   "id": "fb8c2c13-ec55-4ce1-a9a0-0e10d5d81da3",
   "metadata": {},
   "outputs": [],
   "source": [
    "## Process HUC4 basins"
   ]
  },
  {
   "cell_type": "code",
   "execution_count": null,
   "id": "bb085416-43f5-42cf-ba1a-5492260a2b22",
   "metadata": {},
   "outputs": [],
   "source": [
    "datapath = '/nas/cee-water/cjgleason/craig/CONUS_ephemeral_data/'"
   ]
  },
  {
   "cell_type": "code",
   "execution_count": null,
   "id": "a6128e03-f5d2-4d4b-9fcf-6055756b0493",
   "metadata": {},
   "outputs": [],
   "source": [
    "codes_huc2 = ['01','02','03','04','05','06','07','08','09',\n",
    "              '10','11','12','13','14','15','16','17','18']"
   ]
  },
  {
   "cell_type": "code",
   "execution_count": null,
   "id": "d7f6eff8-49a9-40cb-a2b1-d041781fc0ff",
   "metadata": {},
   "outputs": [],
   "source": [
    "fieldsF = ['GNIS_ID', 'GNIS_Name', 'LengthKM',  'FlowDir',\n",
    "           'WBArea_Permanent_Identifier', 'FType', 'FCode',\n",
    "           'NHDPlusID', 'VPUID', 'geometry']\n",
    "fieldsVAA = ['NHDPlusID', 'StreamOrde', 'FromNode', 'ToNode',\n",
    "            'LevelPathI', 'TerminalFl', 'TotDASqKm', 'VPUID']\n",
    "fieldsEROMMA = ['NHDPlusID', 'QBMA', 'VPUID']"
   ]
  },
  {
   "cell_type": "code",
   "execution_count": null,
   "id": "cb87b94d-edd0-4981-b2f5-a121f58fa93d",
   "metadata": {},
   "outputs": [],
   "source": [
    "filepath = '/nas/cee-water/cjgleason/craig/CONUS_ephemeral_data/HUC2_01/NHDPLUS_H_0108_HU4_GDB/NHDPLUS_H_0108_HU4_GDB.gdb'"
   ]
  },
  {
   "cell_type": "code",
   "execution_count": null,
   "id": "fe13c179-aeda-494c-8438-6d19ac1b9667",
   "metadata": {},
   "outputs": [],
   "source": [
    "flow = gpd.read_file(filename=filepath, layer='NHDFlowline', columns=fieldsF, engine='pyogrio')"
   ]
  },
  {
   "cell_type": "code",
   "execution_count": null,
   "id": "43d2f690-9571-44c9-863b-a929f86cdc09",
   "metadata": {},
   "outputs": [],
   "source": [
    "flow.FCode.unique()"
   ]
  },
  {
   "cell_type": "code",
   "execution_count": null,
   "id": "114cb2bc-ec65-4e76-9efb-71cda8c6b8c5",
   "metadata": {},
   "outputs": [],
   "source": [
    " # VAA\n",
    "vaa = gpd.read_file(filename=filepath, layer='NHDPlusFlowlineVAA',\n",
    "                    columns=fieldsVAA, engine='pyogrio')\n",
    "# Merge on VAA\n",
    "flow = flow.merge(vaa, on=['NHDPlusID', 'VPUID'])"
   ]
  },
  {
   "cell_type": "code",
   "execution_count": null,
   "id": "48a86b26-fa07-47b0-9667-367316e85978",
   "metadata": {},
   "outputs": [],
   "source": [
    "# EROMMA\n",
    "eromma = gpd.read_file(filename=filepath, layer='NHDPlusEROMMA',\n",
    "                        columns=fieldsEROMMA, engine='pyogrio')\n",
    "# Merge on EROMMA\n",
    "flow = flow.merge(eromma, on=['NHDPlusID', 'VPUID'])"
   ]
  },
  {
   "cell_type": "code",
   "execution_count": null,
   "id": "543d66b2-f0c6-423b-b911-7738dca05795",
   "metadata": {},
   "outputs": [],
   "source": [
    "flow = flow.to_crs(epsg=3857)"
   ]
  },
  {
   "cell_type": "markdown",
   "id": "6230cfa3-1366-4097-8b15-a29975df19e7",
   "metadata": {},
   "source": [
    "**Filtering**"
   ]
  },
  {
   "cell_type": "code",
   "execution_count": null,
   "id": "c26e5ccf-4712-497b-9885-322f4c7a32c1",
   "metadata": {
    "tags": []
   },
   "outputs": [],
   "source": [
    "# Keep reaches that are stream types or artificial path\n",
    "# flow = flow.loc[((flow.FCode == 46000) |\n",
    "#                 (flow.FCode == 46003) |\n",
    "#                 (flow.FCode == 46006) |\n",
    "#                 (flow.FCode == 46007) |\n",
    "#                 (flow.FCode == 55800))]\n",
    "flow = flow.loc[(flow.FType == 460) | (flow.FType == 558)]\n",
    "flow.shape"
   ]
  },
  {
   "cell_type": "code",
   "execution_count": null,
   "id": "f9962b2a-984c-488b-8a29-0e964d2a5f95",
   "metadata": {},
   "outputs": [],
   "source": [
    "# Keep reaches that are not terminal paths\n",
    "flow = flow.loc[flow.TerminalFl == 0]\n",
    "flow.shape"
   ]
  },
  {
   "cell_type": "code",
   "execution_count": null,
   "id": "0102d4fc-57d1-4380-864b-5025c13dfe3b",
   "metadata": {},
   "outputs": [],
   "source": [
    "# Keep only reaches with non-zero discharge\n",
    "flow = flow.loc[flow.QBMA > 0]\n",
    "flow.shape"
   ]
  },
  {
   "cell_type": "code",
   "execution_count": null,
   "id": "e30a6f96-6b6d-4711-93b5-8ad8a9b1ac3b",
   "metadata": {},
   "outputs": [],
   "source": [
    "# Keep only reaches with non-zero stream order\n",
    "flow = flow.loc[flow.StreamOrde > 0]"
   ]
  },
  {
   "cell_type": "code",
   "execution_count": null,
   "id": "bf1f966d-01d3-42a9-a6df-c7a82a9b7afd",
   "metadata": {},
   "outputs": [],
   "source": [
    "# Keep only reaches that are outside of NHDWaterbody\n"
   ]
  },
  {
   "cell_type": "code",
   "execution_count": null,
   "id": "e011267d-bd8c-4f45-b054-612bfbaa4fc8",
   "metadata": {},
   "outputs": [],
   "source": [
    "## Merge on physiographic provinces\n",
    "test = gpd.sjoin(left_df=flow, right_df=physio, how='left', predicate='within')"
   ]
  },
  {
   "cell_type": "code",
   "execution_count": null,
   "id": "ef9288a1-5d4a-4a7f-b47c-3e1314161714",
   "metadata": {},
   "outputs": [],
   "source": [
    "test = test.drop(columns='index_right')"
   ]
  },
  {
   "cell_type": "code",
   "execution_count": null,
   "id": "60d09f64-91ca-47df-8aa1-b9c92869a9aa",
   "metadata": {},
   "outputs": [],
   "source": [
    "test"
   ]
  },
  {
   "cell_type": "code",
   "execution_count": null,
   "id": "4a4bb4bc-3250-4bdd-ae0d-61dc966f3504",
   "metadata": {},
   "outputs": [],
   "source": [
    "area = gpd.read_file(filepath, layer='NHDWaterbody', \n",
    "                     columns='geometry', engine='pyogrio')"
   ]
  },
  {
   "cell_type": "code",
   "execution_count": null,
   "id": "6385f742-8296-4739-9c27-e047029800db",
   "metadata": {},
   "outputs": [],
   "source": [
    "area = area.to_crs(epsg=3857)"
   ]
  },
  {
   "cell_type": "code",
   "execution_count": null,
   "id": "82893849-9c65-4663-8035-42938df3f99a",
   "metadata": {},
   "outputs": [],
   "source": [
    "area"
   ]
  },
  {
   "cell_type": "code",
   "execution_count": null,
   "id": "ec4fac27-6aba-4ff3-b665-2e155827c9e4",
   "metadata": {},
   "outputs": [],
   "source": [
    "## Merge on physiographic provinces\n",
    "test1 = gpd.sjoin(left_df=test, right_df=area, how='inner', predicate='within')"
   ]
  },
  {
   "cell_type": "code",
   "execution_count": null,
   "id": "c0e3daa1-31d5-42d2-8f26-8ac1904b5fee",
   "metadata": {},
   "outputs": [],
   "source": [
    "test1 = test.sjoin(df=area, how='inner', predicate='within')"
   ]
  },
  {
   "cell_type": "code",
   "execution_count": null,
   "id": "34a0d3d0-1806-4241-baa6-fc35b6ba4fab",
   "metadata": {},
   "outputs": [],
   "source": [
    "lake_ids = test1.loc[:,'NHDPlusID'].to_list()"
   ]
  },
  {
   "cell_type": "code",
   "execution_count": null,
   "id": "cbb17228-00ce-4d60-af00-fb49bae49703",
   "metadata": {},
   "outputs": [],
   "source": [
    "test3 = test[~test.NHDPlusID.isin(lake_ids)]"
   ]
  },
  {
   "cell_type": "code",
   "execution_count": null,
   "id": "3d6feee1-5414-4ffd-b6e5-f7031b9894b3",
   "metadata": {},
   "outputs": [],
   "source": [
    "savepath = ('/nas/cee-water/cjgleason/fiona/HMA_small_rivers/07_08_24_figs/')"
   ]
  },
  {
   "cell_type": "code",
   "execution_count": null,
   "id": "ad82b367-1979-4c04-8324-c873f5c829df",
   "metadata": {},
   "outputs": [],
   "source": [
    "fig, ax = plt.subplots(figsize=(16,16))\n",
    "test3.plot(ax=ax, color='r')\n",
    "area.plot(ax=ax)\n",
    "\n",
    "plt.ylim(5200000,5240000)\n",
    "plt.xlim(-8060000,-8020000)\n",
    "# plt.savefig(fname=savepath + 'quabbin_removed.png', bbox_inches='tight')"
   ]
  },
  {
   "cell_type": "code",
   "execution_count": null,
   "id": "8ddf75a0-8684-4d20-8db0-9c701a793061",
   "metadata": {},
   "outputs": [],
   "source": [
    "fig, ax = plt.subplots(figsize=(16,16))\n",
    "test3.plot(ax=ax, color='r')\n",
    "area.plot(ax=ax)\n",
    "\n",
    "plt.ylim(5200000,5240000)\n",
    "plt.xlim(-8100000,-8060000)\n",
    "plt.savefig(fname=savepath + 'conn_removed.png', bbox_inches='tight')"
   ]
  },
  {
   "cell_type": "code",
   "execution_count": null,
   "id": "fde77632-ad1a-4be3-ae58-1bc7e1e370e7",
   "metadata": {
    "tags": []
   },
   "outputs": [],
   "source": [
    "test1"
   ]
  },
  {
   "cell_type": "code",
   "execution_count": null,
   "id": "7f370f58-f31e-4e1a-abf1-6d4d51802738",
   "metadata": {},
   "outputs": [],
   "source": [
    "fig, ax = plt.subplots(figsize=(16,16))\n",
    "test.plot(ax=ax, color='r')\n",
    "area.plot(ax=ax)\n",
    "\n",
    "plt.ylim(5200000,5240000)\n",
    "plt.xlim(-8060000,-8020000)\n",
    "plt.savefig(fname=savepath + 'quabbin_all.png', bbox_inches='tight')"
   ]
  },
  {
   "cell_type": "code",
   "execution_count": null,
   "id": "c28983a7-3376-454c-8ab1-5875543c16d6",
   "metadata": {},
   "outputs": [],
   "source": [
    "fig, ax = plt.subplots(figsize=(16,16))\n",
    "test1.plot(ax=ax, color='r')\n",
    "area.plot(ax=ax)\n",
    "plt.ylim(5200000,5240000)\n",
    "plt.xlim(-8060000,-8020000)"
   ]
  },
  {
   "cell_type": "code",
   "execution_count": null,
   "id": "635c15f7-b3ca-4208-8267-422ebd9f7d8e",
   "metadata": {},
   "outputs": [],
   "source": [
    "fig, ax = plt.subplots(figsize=(16,16))\n",
    "test1.plot(ax=ax, color='r')\n",
    "area.plot(ax=ax)\n",
    "plt.ylim(5200000,5240000)\n",
    "plt.xlim(-8100000,-8060000)"
   ]
  },
  {
   "cell_type": "code",
   "execution_count": null,
   "id": "c2331ce7-16d0-4525-9363-1cacb23519ee",
   "metadata": {},
   "outputs": [],
   "source": [
    "fig, ax = plt.subplots(figsize=(16,16))\n",
    "test.plot(ax=ax, color='r')\n",
    "area.plot(ax=ax)\n",
    "plt.ylim(5200000,5240000)\n",
    "plt.xlim(-8100000,-8060000)\n",
    "plt.savefig(fname=savepath + 'conn_all.png', bbox_inches='tight')"
   ]
  },
  {
   "cell_type": "code",
   "execution_count": null,
   "id": "59998def-6f9f-43de-ade9-b1325f5e59cf",
   "metadata": {},
   "outputs": [],
   "source": [
    "## Merge on physiographic provinces\n",
    "test2 = gpd.sjoin(left_df=test, right_df=area, how='inner', predicate='intersects')"
   ]
  },
  {
   "cell_type": "code",
   "execution_count": null,
   "id": "3801989a-6e31-4041-9e54-db7a8070b4a2",
   "metadata": {},
   "outputs": [],
   "source": [
    "test2"
   ]
  },
  {
   "cell_type": "code",
   "execution_count": null,
   "id": "4a3a6964-afca-4656-b959-756924824ab2",
   "metadata": {},
   "outputs": [],
   "source": [
    "fig, ax = plt.subplots(figsize=(16,16))\n",
    "test2.plot(ax=ax, color='r')\n",
    "area.plot(ax=ax)\n",
    "plt.ylim(5200000,5240000)\n",
    "plt.xlim(-8060000,-8020000)"
   ]
  },
  {
   "cell_type": "code",
   "execution_count": null,
   "id": "6a7e2407-1e63-461e-869f-fca76355cf4d",
   "metadata": {},
   "outputs": [],
   "source": [
    "## Calculate widths\n",
    "# Bankfull widths from Bieber et al. 2015, Table 3\n",
    "bankfull = pd.read_csv('/nas/cee-water/cjgleason/fiona/narrow_rivers_PIXC/data/bieger_2015_bankfull_width.csv')"
   ]
  },
  {
   "cell_type": "code",
   "execution_count": null,
   "id": "4ddf5718-c1f9-4bdc-b64c-bab025b6a47b",
   "metadata": {},
   "outputs": [],
   "source": [
    "bankfull"
   ]
  },
  {
   "cell_type": "code",
   "execution_count": null,
   "id": "40a4a3a9-0b7f-413d-9178-ed96b0087092",
   "metadata": {},
   "outputs": [],
   "source": [
    "test = test.merge(bankfull, on='DIVISION', how='left')\n",
    "# df1.merge(df2[['item_id', 'Description']], on='item_id', how='inner')"
   ]
  },
  {
   "cell_type": "code",
   "execution_count": null,
   "id": "95ea276d-f380-4f4c-9b0f-25b587e3284e",
   "metadata": {},
   "outputs": [],
   "source": [
    "# Calculate width from cumulative drainage area w/ relationship from Bieger et al. 2015\n",
    "test['WidthM'] = test.a*test.TotDASqKm**test.b"
   ]
  },
  {
   "cell_type": "code",
   "execution_count": null,
   "id": "d968d139-935a-446e-a697-54142ed7a939",
   "metadata": {},
   "outputs": [],
   "source": [
    "test"
   ]
  },
  {
   "cell_type": "code",
   "execution_count": null,
   "id": "7794ad56-12b3-4550-a417-9569788af63d",
   "metadata": {},
   "outputs": [],
   "source": [
    "bins = [0, 10, 20, 30, 40, 50, 60, 70, 80, 90, 100,\n",
    "       150, 200, 500, 1000]\n",
    "test['Bin'] = pd.cut(test['WidthM'], bins)"
   ]
  },
  {
   "cell_type": "code",
   "execution_count": null,
   "id": "5b4ad508-cf5d-4692-a4f4-0b2fd8ea49c2",
   "metadata": {},
   "outputs": [],
   "source": [
    "test.Bin.value_counts()"
   ]
  },
  {
   "cell_type": "code",
   "execution_count": null,
   "id": "3f9282b0-0cfe-4149-9650-9666aeeb3668",
   "metadata": {},
   "outputs": [],
   "source": [
    "# test.rename(columns={'CalcWidths': 'WidthM'})"
   ]
  },
  {
   "cell_type": "code",
   "execution_count": null,
   "id": "aba3d1a9-cca7-4a74-9223-eb9e76b3ac83",
   "metadata": {},
   "outputs": [],
   "source": [
    "max(test.CalcWidths)"
   ]
  },
  {
   "cell_type": "code",
   "execution_count": null,
   "id": "7f63461f-564d-498f-990f-1d771b7b41e7",
   "metadata": {},
   "outputs": [],
   "source": [
    "# flow.WBArea_Permanent_Identifier"
   ]
  },
  {
   "cell_type": "code",
   "execution_count": null,
   "id": "1195c483-4b36-40f1-a662-5686cf4c61a3",
   "metadata": {},
   "outputs": [],
   "source": [
    "test = flow[(flow.GNIS_Name=='East Branch Swift River') & \n",
    "            ~(flow.WBArea_Permanent_Identifier.isnull())]"
   ]
  },
  {
   "cell_type": "code",
   "execution_count": null,
   "id": "714528e1-879c-4f8b-9396-1fe0eafe2dab",
   "metadata": {},
   "outputs": [],
   "source": [
    "test.plot()"
   ]
  },
  {
   "cell_type": "code",
   "execution_count": null,
   "id": "5f3ab7f8-67a8-4816-b8a1-be77b57f9c87",
   "metadata": {},
   "outputs": [],
   "source": [
    "# test[test.NHDPlusID==10000900057062]"
   ]
  },
  {
   "cell_type": "code",
   "execution_count": null,
   "id": "868431f1-3d8e-4495-ac2f-8adbbeeab4c8",
   "metadata": {},
   "outputs": [],
   "source": [
    "area = gpd.read_file(filepath, layer='NHDWaterbody')"
   ]
  },
  {
   "cell_type": "code",
   "execution_count": null,
   "id": "b08b59f2-3339-4a55-8191-487991f0f6a4",
   "metadata": {},
   "outputs": [],
   "source": [
    "area = area.to_crs(epsg=3857)"
   ]
  },
  {
   "cell_type": "code",
   "execution_count": null,
   "id": "f9fc1d3f-2af9-4fea-961d-d3ffa163d335",
   "metadata": {},
   "outputs": [],
   "source": [
    "area.plot()"
   ]
  },
  {
   "cell_type": "code",
   "execution_count": null,
   "id": "56c29d6d-fd2c-463b-af78-596e0cbf7876",
   "metadata": {},
   "outputs": [],
   "source": [
    "# flowt = flow.iloc[0:100, :]"
   ]
  },
  {
   "cell_type": "code",
   "execution_count": null,
   "id": "66c09cd0-4ce0-4e66-9b60-95c8f44bf949",
   "metadata": {},
   "outputs": [],
   "source": [
    "# test = flow.clip(area)"
   ]
  },
  {
   "cell_type": "code",
   "execution_count": null,
   "id": "75042867-2e46-42f4-9acc-a845598608a6",
   "metadata": {},
   "outputs": [],
   "source": [
    "fig, ax = plt.subplots(figsize=(16,16))\n",
    "test.plot(ax=ax, color='r')\n",
    "area.plot(ax=ax)\n",
    "plt.ylim(5200000,5240000)\n",
    "plt.xlim(-8060000,-8020000)"
   ]
  },
  {
   "cell_type": "code",
   "execution_count": null,
   "id": "a1479c70-2ca3-4969-8fda-3565f5720692",
   "metadata": {},
   "outputs": [],
   "source": [
    "test1 = test.iloc[0:1000, :]"
   ]
  },
  {
   "cell_type": "code",
   "execution_count": null,
   "id": "853e725e-905f-479e-a7cf-d63f11a5bceb",
   "metadata": {},
   "outputs": [],
   "source": [
    "area_union = area.geometry.union_all()"
   ]
  },
  {
   "cell_type": "code",
   "execution_count": null,
   "id": "ac73fb8d-c4c9-4dae-a167-a50a114c6e8e",
   "metadata": {},
   "outputs": [],
   "source": [
    "test2 = test1[~test1.within(area_union)]"
   ]
  },
  {
   "cell_type": "code",
   "execution_count": null,
   "id": "2785f05d-324e-40b7-ad59-4836bc542b27",
   "metadata": {},
   "outputs": [],
   "source": [
    "test2"
   ]
  },
  {
   "cell_type": "code",
   "execution_count": null,
   "id": "d277fe9f-a6ce-45a1-b850-9e1eb499b445",
   "metadata": {},
   "outputs": [],
   "source": [
    "fig, ax = plt.subplots(figsize=(16,16))\n",
    "test1.plot(ax=ax, color='r')\n",
    "area.plot(ax=ax)\n",
    "plt.ylim(5200000,5240000)\n",
    "plt.xlim(-8060000,-8020000)"
   ]
  },
  {
   "cell_type": "code",
   "execution_count": null,
   "id": "a3b5bad2-4b85-4ad2-8133-b7c655080c29",
   "metadata": {},
   "outputs": [],
   "source": [
    "import matplotlib.pyplot as plt"
   ]
  },
  {
   "cell_type": "code",
   "execution_count": null,
   "id": "fef69f03-148c-490c-a2bc-e662b5330763",
   "metadata": {},
   "outputs": [],
   "source": [
    "test2 = flow[~flow.geometry.within(area_union)]"
   ]
  },
  {
   "cell_type": "code",
   "execution_count": null,
   "id": "3958682c-5380-40ea-ba99-13b6539c2ee8",
   "metadata": {},
   "outputs": [],
   "source": [
    "fig, ax = plt.subplots(figsize=(16,16))\n",
    "test.plot(ax=ax)\n",
    "# plt.ylim(5300000,5350000)\n",
    "# plt.xlim(-8100000,-8080000)"
   ]
  },
  {
   "cell_type": "markdown",
   "id": "10cf09e8-b968-4384-b2fb-93501aa02106",
   "metadata": {
    "jp-MarkdownHeadingCollapsed": true,
    "tags": []
   },
   "source": [
    "#### test prepNHD and chase down topology stuff"
   ]
  },
  {
   "cell_type": "code",
   "execution_count": null,
   "id": "077d6390-3ba8-4707-8c83-71ed93f9336a",
   "metadata": {},
   "outputs": [],
   "source": [
    "import geopandas as gpd\n",
    "import os\n",
    "import pandas as pd\n",
    "from shapely import is_valid, make_valid"
   ]
  },
  {
   "cell_type": "code",
   "execution_count": null,
   "id": "f1c2aaf3-d8da-4344-9a24-d1f5f155f5ef",
   "metadata": {},
   "outputs": [],
   "source": [
    "data_path = '/nas/cee-water/cjgleason/craig/CONUS_ephemeral_data/'"
   ]
  },
  {
   "cell_type": "code",
   "execution_count": null,
   "id": "8c5b7da4-8aa5-4b39-b53d-a482e279cbc0",
   "metadata": {},
   "outputs": [],
   "source": [
    "## Set-up\n",
    "codes_huc2 = ['01','02','03','04','05','06','07','08','09',\n",
    "          '10','11','12','13','14','15','16','17','18']\n",
    "fieldsF = ['GNIS_ID', 'GNIS_Name', 'LengthKM',  'FlowDir',\n",
    "           'WBArea_Permanent_Identifier', 'FType', 'FCode',\n",
    "           'NHDPlusID', 'VPUID', 'geometry']\n",
    "fieldsVAA = ['NHDPlusID', 'StreamOrde', 'FromNode', 'ToNode',\n",
    "            'LevelPathI', 'TerminalFl', 'TotDASqKm', 'VPUID']\n",
    "fieldsEROMMA = ['NHDPlusID', 'QBMA', 'VPUID']\n",
    "bins = [0, 10, 20, 30, 40, 50, 60, 70, 80, 90, 100, 150, 200, 500, 1000]"
   ]
  },
  {
   "cell_type": "code",
   "execution_count": null,
   "id": "0356fc25-ad3c-441a-8dbf-0607498aa107",
   "metadata": {},
   "outputs": [],
   "source": [
    "is_valid(physio.geometry)"
   ]
  },
  {
   "cell_type": "code",
   "execution_count": null,
   "id": "5b2e7027-046c-41d8-ac41-8f0fc1c5d666",
   "metadata": {},
   "outputs": [],
   "source": [
    "## Prep Physiographic Regions\n",
    "# https://www.sciencebase.gov/catalog/item/631405bbd34e36012efa304e\n",
    "physio = gpd.read_file('/nas/cee-water/cjgleason/craig/CONUS_ephemeral_data/other_shapefiles/physio.shp', engine='pyogrio')\n",
    "# # Repair broken topology DOESN'T MAKE A DIFFERENCE IN THIS CASE\n",
    "# physio.geometry = make_valid(physio.geometry)\n",
    "# Set CRS to Web Mercator\n",
    "physio = physio.to_crs(epsg=3857)\n",
    "# Dissolve provinces by division\n",
    "division = physio.dissolve(by='DIVISION').reset_index()\n",
    "# Drop all columns besides division and geometry\n",
    "division = division[['DIVISION', 'geometry']]"
   ]
  },
  {
   "cell_type": "code",
   "execution_count": null,
   "id": "8e7efc40-d844-4e91-9e81-58cbc2b2e62d",
   "metadata": {},
   "outputs": [],
   "source": [
    "is_valid(physio.geometry)"
   ]
  },
  {
   "cell_type": "code",
   "execution_count": null,
   "id": "e6fb6701-bc73-4497-aec6-3c8fc91558cf",
   "metadata": {},
   "outputs": [],
   "source": [
    "division.plot()\n",
    "\n",
    "plt.xlim(-8200000,-7800000)\n",
    "plt.ylim(5000000,5700000)"
   ]
  },
  {
   "cell_type": "code",
   "execution_count": null,
   "id": "a277c894-5386-46bf-bbf4-449f4e8b5529",
   "metadata": {},
   "outputs": [],
   "source": [
    "neu = physio[physio.SECTION == 'NEW ENGLAND UPLAND']"
   ]
  },
  {
   "cell_type": "code",
   "execution_count": null,
   "id": "514190c4-da23-4c4c-8d46-5f87aeb76cf2",
   "metadata": {},
   "outputs": [],
   "source": [
    "gm = physio[physio.SECTION == 'GREEN MOUNTAIN']"
   ]
  },
  {
   "cell_type": "code",
   "execution_count": null,
   "id": "d959acc9-a2dd-45e6-9743-7d6d65350802",
   "metadata": {},
   "outputs": [],
   "source": [
    "t = physio[physio.SECTION == 'TACONIC']"
   ]
  },
  {
   "cell_type": "code",
   "execution_count": null,
   "id": "219a0f53-1f34-430e-baab-6c4cae71d799",
   "metadata": {},
   "outputs": [],
   "source": [
    "c = physio[physio.SECTION == 'CHAMPLAIN']"
   ]
  },
  {
   "cell_type": "code",
   "execution_count": null,
   "id": "bef7be2b-789f-4a67-8711-5a80608d6de4",
   "metadata": {},
   "outputs": [],
   "source": [
    "## Get bankfull width coefficients from Bieber et al. 2015, Table 3\n",
    "bankfull = pd.read_csv('/nas/cee-water/cjgleason/fiona/narrow_rivers_PIXC/data/bieger_2015_bankfull_width.csv')  "
   ]
  },
  {
   "cell_type": "code",
   "execution_count": null,
   "id": "ce554b5b-6780-46d3-84e1-1f290f465292",
   "metadata": {},
   "outputs": [],
   "source": [
    "## Loop through HUC4 basins, prep the data, and write out new file\n",
    "# for i in codes_huc2:\n",
    "i = '01'\n",
    "        \n",
    "# Get all HUC4 paths for current HUC2 (excluding WBD)\n",
    "sub_paths = [fn for fn in os.listdir(os.path.join(data_path, 'HUC2_' + i)) if fn.startswith('NHD')]"
   ]
  },
  {
   "cell_type": "code",
   "execution_count": null,
   "id": "0c4b2541-327c-4079-98cb-98709fbb51c0",
   "metadata": {},
   "outputs": [],
   "source": [
    "sub_paths"
   ]
  },
  {
   "cell_type": "code",
   "execution_count": null,
   "id": "ad9b5bdc-30e6-4087-84fd-3508fd1c1b76",
   "metadata": {},
   "outputs": [],
   "source": [
    "# for j in sub_paths:\n",
    "j = sub_paths[7]\n",
    "j"
   ]
  },
  {
   "cell_type": "code",
   "execution_count": null,
   "id": "8299223d-305e-478e-a5cc-847094ecd46f",
   "metadata": {},
   "outputs": [],
   "source": [
    "file_path = os.path.join(data_path, 'HUC2_' + i,\n",
    "                j, j + '.gdb')"
   ]
  },
  {
   "cell_type": "code",
   "execution_count": null,
   "id": "6db150f9-64c1-4017-a14c-6809776cf64e",
   "metadata": {},
   "outputs": [],
   "source": [
    "## Merging\n",
    "# Read in NHD flowlines\n",
    "basin = gpd.read_file(filename=file_path, layer='NHDFlowline',\n",
    "                      # columns=fieldsF, \n",
    "                      engine='pyogrio')\n",
    "# Set CRS to Pseudo-Mercator https://epsg.io/3857\n",
    "basin = basin.to_crs(epsg=3857)"
   ]
  },
  {
   "cell_type": "code",
   "execution_count": null,
   "id": "65ff3915-8c20-45af-99db-b710a673e3fa",
   "metadata": {},
   "outputs": [],
   "source": [
    "# basin"
   ]
  },
  {
   "cell_type": "code",
   "execution_count": null,
   "id": "a8fa20c0-b07e-4b3d-824d-1e34b4a5c817",
   "metadata": {},
   "outputs": [],
   "source": [
    "# basin.plot()"
   ]
  },
  {
   "cell_type": "code",
   "execution_count": null,
   "id": "a3e578e8-7b72-43d4-850e-df3cc0a30d6a",
   "metadata": {},
   "outputs": [],
   "source": [
    "# Read in VAA\n",
    "vaa = gpd.read_file(filename=file_path, layer='NHDPlusFlowlineVAA',\n",
    "                    columns=fieldsVAA, engine='pyogrio')\n",
    "# Merge on VAA\n",
    "basin = basin.merge(vaa, on=['NHDPlusID', 'VPUID'])"
   ]
  },
  {
   "cell_type": "code",
   "execution_count": null,
   "id": "81bf1f6d-a2d1-45a7-97d1-06a9f6d77817",
   "metadata": {},
   "outputs": [],
   "source": [
    "# Read in EROMMA\n",
    "eromma = gpd.read_file(filename=file_path, layer='NHDPlusEROMMA',\n",
    "            columns=fieldsEROMMA, engine='pyogrio')\n",
    "# Merge on EROMMA\n",
    "basin = basin.merge(eromma, on=['NHDPlusID', 'VPUID'])\n",
    "# Set CRS to Pseudo-Mercator https://epsg.io/3857\n",
    "basin = basin.to_crs(epsg=3857)"
   ]
  },
  {
   "cell_type": "code",
   "execution_count": null,
   "id": "04b3a86d-27b4-49dc-b146-cc1d6dc43a96",
   "metadata": {},
   "outputs": [],
   "source": [
    "## Filtering\n",
    "# Read in NHD Waterbody polygons\n",
    "area = gpd.read_file(filename=file_path, layer='NHDWaterbody',\n",
    "                     columns=['NHDPlusID', 'geometry'], engine='pyogrio')\n",
    "# Set CRS to Pseudo-Mercator https://epsg.io/3857\n",
    "area = area.to_crs(epsg=3857)"
   ]
  },
  {
   "cell_type": "code",
   "execution_count": null,
   "id": "200f4ef7-b6ac-4af1-a48f-99d9f20b5ab5",
   "metadata": {},
   "outputs": [],
   "source": [
    "# Find all flowlines within waterbodies\n",
    "# DOES THIS NEED TO BE INTERSECTS OR OTHER\n",
    "# https://shapely.readthedocs.io/en/stable/manual.html#predicates-and-relationships\n",
    "subset = basin.sjoin(df=area, how='inner', predicate='within')\n",
    "# Get IDs of these flowlines\n",
    "ids = subset.NHDPlusID_left.to_list()"
   ]
  },
  {
   "cell_type": "code",
   "execution_count": null,
   "id": "c9fe6adb-e510-44cf-a7c3-cbcf69e35790",
   "metadata": {},
   "outputs": [],
   "source": [
    "# Keep only flowlines NOT within waterbodies\n",
    "basin = basin[~basin.NHDPlusID.isin(ids)]"
   ]
  },
  {
   "cell_type": "code",
   "execution_count": null,
   "id": "a910ded3-cba4-45d8-bc86-5f27e8938f6e",
   "metadata": {},
   "outputs": [],
   "source": [
    "import matplotlib.pyplot as plt\n",
    "import contextily as ctx "
   ]
  },
  {
   "cell_type": "code",
   "execution_count": null,
   "id": "3fce48ba-10d9-4b91-9ecf-3b64a44bdc58",
   "metadata": {},
   "outputs": [],
   "source": [
    "fig, ax = plt.subplots(figsize=(16,16))\n",
    "basin.plot(ax=ax, color='r')\n",
    "area.plot(ax=ax)\n",
    "\n",
    "plt.ylim(5200000,5240000)\n",
    "plt.xlim(-8060000,-8020000)\n",
    "# plt.savefig(fname=savepath + 'quabbin_removed.png', bbox_inches='tight')"
   ]
  },
  {
   "cell_type": "code",
   "execution_count": null,
   "id": "6d88658c-367f-4254-9b76-770f86d090a9",
   "metadata": {},
   "outputs": [],
   "source": [
    "# Keep only reaches that are stream types or artificial path\n",
    "basin = basin.loc[(basin.FType == 460) | (basin.FType == 558)]\n",
    "# Keep only reaches that are not terminal paths\n",
    "basin = basin.loc[basin.TerminalFl == 0]\n",
    "# Keep only reaches with non-zero discharge\n",
    "basin = basin.loc[basin.QBMA > 0]\n",
    "# Keep only reaches with non-zero stream order\n",
    "basin = basin.loc[basin.StreamOrde > 0]"
   ]
  },
  {
   "cell_type": "code",
   "execution_count": null,
   "id": "78a009e5-e966-4faf-bea3-97df2366e7d6",
   "metadata": {},
   "outputs": [],
   "source": [
    "basin"
   ]
  },
  {
   "cell_type": "code",
   "execution_count": null,
   "id": "74ebb7ab-573b-41b8-99c8-3d8b0768289e",
   "metadata": {},
   "outputs": [],
   "source": [
    "fig, ax = plt.subplots(figsize=(16,16))\n",
    "basin.plot(ax=ax, color='r')\n",
    "area.plot(ax=ax)\n",
    "\n",
    "plt.ylim(5200000,5240000)\n",
    "plt.xlim(-8060000,-8020000)\n",
    "# plt.savefig(fname=savepath + 'quabbin_removed.png', bbox_inches='tight')"
   ]
  },
  {
   "cell_type": "code",
   "execution_count": null,
   "id": "5bba45c5-1e4d-4640-a9a6-7286b486023e",
   "metadata": {},
   "outputs": [],
   "source": [
    "## Find the physiographic division each reach is within\n",
    "basin = basin.sjoin(df=division, how='left',\n",
    "                predicate='intersect').drop(columns='index_right')"
   ]
  },
  {
   "cell_type": "code",
   "execution_count": null,
   "id": "c8e11dfd-4f4d-4c1e-a487-c8130c65da8a",
   "metadata": {},
   "outputs": [],
   "source": [
    "## Get bankfull widths\n",
    "# Merge on bankfull width coefficient\n",
    "basin = basin.merge(bankfull, on='DIVISION', how='left')"
   ]
  },
  {
   "cell_type": "code",
   "execution_count": null,
   "id": "a3ae1da7-71e8-46a7-b042-16d8a2af3344",
   "metadata": {},
   "outputs": [],
   "source": [
    "test.columns"
   ]
  },
  {
   "cell_type": "code",
   "execution_count": null,
   "id": "f4089bf0-8e61-447d-8824-0efb412e410b",
   "metadata": {},
   "outputs": [],
   "source": [
    "missing = test[test.DIVISION.isnull()].NHDPlusID.to_list()"
   ]
  },
  {
   "cell_type": "code",
   "execution_count": null,
   "id": "80bd7f10-ea4c-491a-ac45-36b1a3c25edb",
   "metadata": {},
   "outputs": [],
   "source": [
    "len(missing)"
   ]
  },
  {
   "cell_type": "code",
   "execution_count": null,
   "id": "8db34d75-8645-449f-a428-85c73f4a8c9a",
   "metadata": {},
   "outputs": [],
   "source": [
    "osm = 'https://b.tiles.maps.eox.at/wmts/1.0.0/osm/default/WGS84/8/51/279.jpg'"
   ]
  },
  {
   "cell_type": "code",
   "execution_count": null,
   "id": "c687661b-a092-48cf-bcb5-11d08c68f4cf",
   "metadata": {},
   "outputs": [],
   "source": [
    "savepath = ('/nas/cee-water/cjgleason/fiona/HMA_small_rivers/07_08_24_figs/')"
   ]
  },
  {
   "cell_type": "code",
   "execution_count": null,
   "id": "6187d9f6-9327-4e5f-b0e1-a6fa4ecbdd35",
   "metadata": {},
   "outputs": [],
   "source": [
    "fig, ax = plt.subplots(figsize=(12,12))\n",
    "test[test.DIVISION.isnull()].plot(ax=ax, color='k')\n",
    "\n",
    "plt.xlim(-8200000,-7800000)\n",
    "plt.ylim(5000000,5700000)\n",
    "\n",
    "neu.plot(ax=ax, alpha=0.5)\n",
    "gm.plot(ax=ax, alpha=0.5, color='green')\n",
    "t.plot(ax=ax, alpha=0.5, color='yellow')\n",
    "c.plot(ax=ax, alpha=0.5, color='orange')\n",
    "\n",
    "# plt.savefig(fname=savepath + 'NHDPLUS_H_0101_HU4_missing_div.png', bbox_inches='tight')"
   ]
  },
  {
   "cell_type": "code",
   "execution_count": null,
   "id": "e829e1cb-93ce-4a6e-a257-69d954688970",
   "metadata": {},
   "outputs": [],
   "source": [
    "fig, ax = plt.subplots(figsize=(12,12))\n",
    "basin.plot(ax=ax, color='k')\n",
    "\n",
    "plt.xlim(-8200000,-7800000)\n",
    "plt.ylim(5000000,5700000)\n",
    "\n",
    "neu.plot(ax=ax, alpha=0.5)\n",
    "gm.plot(ax=ax, alpha=0.5, color='green')\n",
    "t.plot(ax=ax, alpha=0.5, color='yellow')\n",
    "c.plot(ax=ax, alpha=0.5, color='orange')\n",
    "\n",
    "plt.savefig(fname=savepath + 'NHDPLUS_H_0101_HU4_div.png', bbox_inches='tight')"
   ]
  },
  {
   "cell_type": "code",
   "execution_count": null,
   "id": "2d6fb78d-6368-4a31-b0b7-41db5974fefd",
   "metadata": {},
   "outputs": [],
   "source": [
    "# Calculate width from cumulative drainage area\n",
    "basin['WidthM'] = basin.a*basin.TotDASqKm**basin.b"
   ]
  },
  {
   "cell_type": "code",
   "execution_count": null,
   "id": "3b949c81-387c-45e7-abc2-6e110ad87de8",
   "metadata": {},
   "outputs": [],
   "source": [
    "# Plot widths\n",
    "fig, ax = plt.subplots(figsize=(16,16))\n",
    "basin.plot(column='WidthM', cmap='coolwarm', ax=ax,\n",
    "         # legend=True, legend_kwds={\"label\": \"Width (m)\", 'shrink': 0.76}\n",
    "             )\n",
    "\n",
    "ax.set_facecolor(\"black\")"
   ]
  },
  {
   "cell_type": "markdown",
   "id": "40e23c52-7a0c-4855-9671-f7f3817b1216",
   "metadata": {
    "tags": []
   },
   "source": [
    "#### final check for timing and data"
   ]
  },
  {
   "cell_type": "code",
   "execution_count": null,
   "id": "3f5666a1-0253-4663-8386-959bf12bce74",
   "metadata": {},
   "outputs": [],
   "source": []
  },
  {
   "cell_type": "code",
   "execution_count": 1,
   "id": "9497d629-2403-455f-90f4-3179a23407ad",
   "metadata": {},
   "outputs": [],
   "source": [
    "import geopandas as gpd\n",
    "import os\n",
    "import pandas as pd"
   ]
  },
  {
   "cell_type": "code",
   "execution_count": 2,
   "id": "c6485cab-c079-48be-a660-eed33d14c73d",
   "metadata": {},
   "outputs": [],
   "source": [
    "## Set-up"
   ]
  },
  {
   "cell_type": "code",
   "execution_count": 3,
   "id": "1b953438-080f-4cd4-87a6-39b0a35c5fac",
   "metadata": {},
   "outputs": [],
   "source": [
    "data_path = '/nas/cee-water/cjgleason/craig/CONUS_ephemeral_data/'"
   ]
  },
  {
   "cell_type": "code",
   "execution_count": 4,
   "id": "99117d07-af9a-4dbb-af81-0300bf1f0ffa",
   "metadata": {},
   "outputs": [],
   "source": [
    "mdata_path = '/nas/cee-water/cjgleason/fiona/narrow_rivers_PIXC/data/'"
   ]
  },
  {
   "cell_type": "code",
   "execution_count": 5,
   "id": "dd3a771f-a9f0-4c44-9d1a-a2e973b6dcf6",
   "metadata": {},
   "outputs": [],
   "source": [
    "bins = [0, 10, 20, 30, 40, 50, 60, 70, 80, 90, 100, 150, 200, 500, 1000]"
   ]
  },
  {
   "cell_type": "code",
   "execution_count": 6,
   "id": "6dbe60cc-dcf4-4ce1-b2c8-9c48f055d74d",
   "metadata": {},
   "outputs": [],
   "source": [
    "# Define dtypes for lookup tables to preserve leading zeros\n",
    "dtype_dic= {'HUC4': str, 'HUC2': str, 'toBasin': str, 'level': str}\n",
    "# Read in HUC lookup table\n",
    "lookup = pd.read_csv('/nas/cee-water/cjgleason/fiona/narrow_rivers_PIXC/data/HUC4_lookup.csv',\n",
    "                     dtype=dtype_dic)"
   ]
  },
  {
   "cell_type": "code",
   "execution_count": 7,
   "id": "6d03ee46-b5ac-4d41-9a98-91edd4912219",
   "metadata": {},
   "outputs": [],
   "source": [
    "# Get slurm job index\n",
    "# i = jobarray index: {slurm}\n",
    "i = 114;\n",
    "# Get current HUC2 and HUC4 IDs\n",
    "hu2 = 'HUC2_' + lookup.loc[i,'HUC2']\n",
    "hu4 = 'NHDPLUS_H_' + lookup.loc[i,'HUC4'] + '_HU4_GDB'"
   ]
  },
  {
   "cell_type": "code",
   "execution_count": 8,
   "id": "90bcf3a4-a057-49b4-85e7-b15658f2154d",
   "metadata": {},
   "outputs": [],
   "source": [
    "# Set data filepath\n",
    "file_path = os.path.join(data_path, hu2, hu4, hu4 + '.gdb')\n",
    "# Set write filepath\n",
    "save_path = os.path.join('../narrow_rivers_PIXC_data/prepped_NHD/', hu2)\n",
    "save_file = hu4 + '_prepped.gpkg'"
   ]
  },
  {
   "cell_type": "code",
   "execution_count": 9,
   "id": "276ee68c-8b8f-47a2-9dee-86bb6108e8d3",
   "metadata": {},
   "outputs": [
    {
     "name": "stderr",
     "output_type": "stream",
     "text": [
      "ERROR 1: PROJ: proj_create_from_database: Open of /work/pi_cjgleason_umass_edu/.conda/envs/small-rivers-1/share/proj failed\n"
     ]
    }
   ],
   "source": [
    "## Prep Physiographic Regions\n",
    "# https://www.sciencebase.gov/catalog/item/631405bbd34e36012efa304e\n",
    "physio = gpd.read_file(filename=os.path.join(data_path, 'other_shapefiles/physio.shp'), engine='pyogrio')\n",
    "# # Repair broken topology DOESN'T MAKE A DIFFERENCE IN THIS CASE\n",
    "# physio.geometry = make_valid(physio.geometry)\n",
    "# Set CRS to Web Mercator\n",
    "physio = physio.to_crs(epsg=3857)\n",
    "# Dissolve provinces by division\n",
    "physio = physio.dissolve(by='DIVISION').reset_index()\n",
    "# Drop all columns besides division and geometry\n",
    "physio = physio[['DIVISION', 'geometry']]"
   ]
  },
  {
   "cell_type": "code",
   "execution_count": 10,
   "id": "1580d3b6-d732-4ee3-8975-57126d2417b4",
   "metadata": {},
   "outputs": [],
   "source": [
    "## Get bankfull width coefficients from Bieber et al. 2015, Table 3\n",
    "bankfull = pd.read_csv(os.path.join(mdata_path, 'bieger_2015_bankfull_width.csv'))"
   ]
  },
  {
   "cell_type": "code",
   "execution_count": 11,
   "id": "c2031493-ccfb-44e6-bb4f-fa9ca9a61b10",
   "metadata": {},
   "outputs": [],
   "source": [
    "# ## Loop through HUC4 basins, prep the data, and write out new file\n",
    "# # for i in codes_huc2:\n",
    "# i = '01'\n",
    "        \n",
    "# # Get all HUC4 paths for current HUC2 (excluding WBD)\n",
    "# sub_paths = [fn for fn in os.listdir(os.path.join(data_path, 'HUC2_' + i)) if fn.startswith('NHD')]"
   ]
  },
  {
   "cell_type": "code",
   "execution_count": 12,
   "id": "7bd385b4-b0d7-44e9-a265-f86222629427",
   "metadata": {
    "tags": []
   },
   "outputs": [],
   "source": [
    "# sub_paths"
   ]
  },
  {
   "cell_type": "code",
   "execution_count": 13,
   "id": "2f43ff98-8c08-42ef-b81e-3ec835c7ae1b",
   "metadata": {},
   "outputs": [],
   "source": [
    "# # for j in sub_paths:\n",
    "# j = sub_paths[7]\n",
    "# j"
   ]
  },
  {
   "cell_type": "code",
   "execution_count": 14,
   "id": "7c05a3b7-f549-41ba-89ef-007b0b969715",
   "metadata": {},
   "outputs": [
    {
     "name": "stderr",
     "output_type": "stream",
     "text": [
      "/work/pi_cjgleason_umass_edu/.conda/envs/small-rivers-1/lib/python3.12/site-packages/pyogrio/raw.py:196: UserWarning: Measured (M) geometry types are not supported. Original type 'Measured 3D MultiLineString' is converted to 'MultiLineString Z'\n",
      "  return ogr_read(\n"
     ]
    }
   ],
   "source": [
    "## Merging\n",
    "# Read in NHD flowlines\n",
    "basin = gpd.read_file(filename=file_path, layer='NHDFlowline', engine='pyogrio')\n",
    "# Set CRS to Pseudo-Mercator https://epsg.io/3857\n",
    "basin = basin.to_crs(epsg=3857)"
   ]
  },
  {
   "cell_type": "code",
   "execution_count": 15,
   "id": "097ec934-6009-4309-9fcc-0f110f3565b7",
   "metadata": {},
   "outputs": [],
   "source": [
    "# Read in VAA\n",
    "vaa = gpd.read_file(filename=file_path, layer='NHDPlusFlowlineVAA', engine='pyogrio')\n",
    "# Merge on VAA\n",
    "basin = basin.merge(vaa, on=['NHDPlusID', 'VPUID', 'ReachCode'])"
   ]
  },
  {
   "cell_type": "code",
   "execution_count": 16,
   "id": "3fe41a42-1657-4ec3-baa1-d8b0b18e04af",
   "metadata": {},
   "outputs": [],
   "source": [
    "# Read in EROMMA\n",
    "eromma = gpd.read_file(filename=file_path, layer='NHDPlusEROMMA', engine='pyogrio')\n",
    "# Merge on EROMMA\n",
    "basin = basin.merge(eromma, on=['NHDPlusID', 'VPUID'])"
   ]
  },
  {
   "cell_type": "code",
   "execution_count": 17,
   "id": "2526a2d9-9a9a-4e7f-996c-9027e8d86bfe",
   "metadata": {},
   "outputs": [],
   "source": [
    "## Filtering\n",
    "# Read in NHD Waterbody polygons\n",
    "area = gpd.read_file(filename=file_path, layer='NHDWaterbody',\n",
    "                     columns=['NHDPlusID', 'geometry'], engine='pyogrio')\n",
    "# Set CRS to Pseudo-Mercator https://epsg.io/3857\n",
    "area = area.to_crs(epsg=3857)"
   ]
  },
  {
   "cell_type": "code",
   "execution_count": 18,
   "id": "807bcc5d-4b6f-479b-a127-7d1f1d120d23",
   "metadata": {},
   "outputs": [],
   "source": [
    "# fig, ax = plt.subplots(figsize=(16,16))\n",
    "# basin.plot(ax=ax, color='r')\n",
    "# area.plot(ax=ax)"
   ]
  },
  {
   "cell_type": "code",
   "execution_count": 19,
   "id": "a2bd617b-ff2d-4a28-967a-ae63c28d203e",
   "metadata": {},
   "outputs": [],
   "source": [
    "# fig, ax = plt.subplots(figsize=(16,16))\n",
    "# basin.plot(ax=ax, color='r')\n",
    "# area.plot(ax=ax)\n",
    "\n",
    "# plt.ylim(5900000,6000000)\n",
    "# plt.xlim(-13600000,-13500000)"
   ]
  },
  {
   "cell_type": "code",
   "execution_count": 20,
   "id": "2be0bd00-7b9a-4d98-a671-b7102affabb4",
   "metadata": {},
   "outputs": [],
   "source": [
    "# Find all flowlines within waterbodies\n",
    "# DOES THIS NEED TO BE INTERSECTS--NOPE\n",
    "# https://shapely.readthedocs.io/en/stable/manual.html#predicates-and-relationships\n",
    "subset = basin.sjoin(df=area, how='inner', predicate='within')\n",
    "# # Get IDs of these flowlines\n",
    "ids = subset.NHDPlusID_left.to_list()"
   ]
  },
  {
   "cell_type": "code",
   "execution_count": 21,
   "id": "50d73783-be16-4b42-b670-f8c911af1c96",
   "metadata": {},
   "outputs": [],
   "source": [
    "# Keep only flowlines NOT within waterbodies\n",
    "basin = basin[~basin.NHDPlusID.isin(ids)]"
   ]
  },
  {
   "cell_type": "code",
   "execution_count": 22,
   "id": "5a48ca32-1afb-443c-a702-c0544bba930f",
   "metadata": {},
   "outputs": [],
   "source": [
    "# Keep only reaches that are stream types or artificial path\n",
    "basin = basin.loc[(basin.FType == 460) | (basin.FType == 558)]\n",
    "# Keep only reaches that are not terminal paths\n",
    "basin = basin.loc[basin.TerminalFl == 0]\n",
    "# Keep only reaches with non-zero discharge\n",
    "basin = basin.loc[basin.QBMA > 0]\n",
    "# Keep only reaches with non-zero stream order\n",
    "basin = basin.loc[basin.StreamOrde > 0]"
   ]
  },
  {
   "cell_type": "code",
   "execution_count": 23,
   "id": "9fda5a6c-d028-4048-8321-95fac8c18503",
   "metadata": {},
   "outputs": [],
   "source": [
    "# fig, ax = plt.subplots(figsize=(16,16))\n",
    "# basin.plot(ax=ax, color='r')\n",
    "# area.plot(ax=ax)\n",
    "\n",
    "# plt.ylim(5900000,6000000)\n",
    "# plt.xlim(-13600000,-13500000)"
   ]
  },
  {
   "cell_type": "code",
   "execution_count": 24,
   "id": "446c6c9e-48bb-497e-9ada-aac2ad5686aa",
   "metadata": {},
   "outputs": [],
   "source": [
    "## Find the physiographic division each reach is located in\n",
    "# Using intersects as the province topology is a bit broken\n",
    "# and I can't mend it fully with shapely or sf\n",
    "basin = basin.sjoin(df=physio, how='left',\n",
    "                    predicate='intersects').drop(columns='index_right')"
   ]
  },
  {
   "cell_type": "code",
   "execution_count": 25,
   "id": "f33515d2-a1f2-46d7-b14d-cd0fbec5d5d1",
   "metadata": {},
   "outputs": [],
   "source": [
    "# Drop all reaches where DIVISION == NaN (in Canada and those off the coast)\n",
    "basin = basin[~basin.DIVISION.isnull()]"
   ]
  },
  {
   "cell_type": "code",
   "execution_count": 26,
   "id": "679c3399-e19c-4fa2-8b87-b5256c05f8c1",
   "metadata": {},
   "outputs": [],
   "source": [
    "## Get bankfull widths\n",
    "# Merge on bankfull width coefficient\n",
    "basin = basin.merge(bankfull, on='DIVISION', how='left')"
   ]
  },
  {
   "cell_type": "code",
   "execution_count": 27,
   "id": "3a0ce37b-a56a-4576-983d-3251b11a2092",
   "metadata": {},
   "outputs": [],
   "source": [
    "# Calculate width from cumulative drainage area\n",
    "basin['WidthM'] = basin.a*basin.TotDASqKm**basin.b"
   ]
  },
  {
   "cell_type": "code",
   "execution_count": 28,
   "id": "e3bb5682-f761-4ea4-8205-d4ec859aecc4",
   "metadata": {},
   "outputs": [],
   "source": [
    "## Write out gdf as gpkg file\n",
    "if not os.path.isdir(save_path):\n",
    "    os.makedirs(save_path)\n",
    "basin.to_file(os.path.join(save_path, save_file), driver='GPKG')"
   ]
  }
 ],
 "metadata": {
  "kernelspec": {
   "display_name": "conda-small-rivers-1",
   "language": "python",
   "name": "small-rivers-1"
  },
  "language_info": {
   "codemirror_mode": {
    "name": "ipython",
    "version": 3
   },
   "file_extension": ".py",
   "mimetype": "text/x-python",
   "name": "python",
   "nbconvert_exporter": "python",
   "pygments_lexer": "ipython3",
   "version": "3.12.4"
  }
 },
 "nbformat": 4,
 "nbformat_minor": 5
}
