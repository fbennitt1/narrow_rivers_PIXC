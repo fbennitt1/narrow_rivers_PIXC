{
 "cells": [
  {
   "cell_type": "code",
   "execution_count": 1,
   "id": "eba86f4f-a99c-440e-92b4-38d1678ed2e9",
   "metadata": {},
   "outputs": [],
   "source": [
    "import geopandas as gpd\n",
    "import matplotlib.pyplot as plt\n",
    "import numpy as np\n",
    "import pandas as pd\n",
    "import shapely\n",
    "import xarray as xr\n",
    "\n",
    "from shapely.affinity import translate\n",
    "from shapely.geometry import LineString, Point, Polygon\n",
    "from shapely.ops import substring"
   ]
  },
  {
   "cell_type": "markdown",
   "id": "02a5354f-04ea-4e46-a2cb-68da97687a4e",
   "metadata": {
    "jp-MarkdownHeadingCollapsed": true,
    "tags": []
   },
   "source": [
    "### Tests with arbitrary geometry"
   ]
  },
  {
   "cell_type": "code",
   "execution_count": 180,
   "id": "1b228ccb-0546-4e2d-a0dc-4f1462d4bbd7",
   "metadata": {
    "tags": []
   },
   "outputs": [],
   "source": [
    "width = 1\n",
    "height = 5"
   ]
  },
  {
   "cell_type": "code",
   "execution_count": 167,
   "id": "15827d70-c077-431a-a749-7fee0ca40cdb",
   "metadata": {},
   "outputs": [],
   "source": [
    "# Test nadir track\n",
    "nadir = LineString([[-1,-5], [4,10]])"
   ]
  },
  {
   "cell_type": "code",
   "execution_count": 168,
   "id": "486ba7fb-b043-4444-bdd3-4c1b57b2e328",
   "metadata": {},
   "outputs": [],
   "source": [
    "# Test pixel centroid\n",
    "pixel = Point([2,2])"
   ]
  },
  {
   "cell_type": "code",
   "execution_count": 169,
   "id": "bc2e9572-45e6-40d5-8d57-16831fa15219",
   "metadata": {},
   "outputs": [
    {
     "data": {
      "text/plain": [
       "(2.0, 2.0)"
      ]
     },
     "execution_count": 169,
     "metadata": {},
     "output_type": "execute_result"
    }
   ],
   "source": [
    "pixel.coords[0]"
   ]
  },
  {
   "cell_type": "code",
   "execution_count": 170,
   "id": "eeea6f77-d2ce-4ef6-8548-417e4340ea22",
   "metadata": {},
   "outputs": [],
   "source": [
    "# Get distance along nadir track closest to pixel centroid\n",
    "dist = nadir.project(pixel)"
   ]
  },
  {
   "cell_type": "code",
   "execution_count": 171,
   "id": "5c100f23-4c89-46d7-9737-9ef0c006fae6",
   "metadata": {},
   "outputs": [
    {
     "data": {
      "text/plain": [
       "np.float64(7.58946638440411)"
      ]
     },
     "execution_count": 171,
     "metadata": {},
     "output_type": "execute_result"
    }
   ],
   "source": [
    "dist"
   ]
  },
  {
   "cell_type": "code",
   "execution_count": 172,
   "id": "3a81639b-1dee-4e2a-a2a7-21e4d78d0115",
   "metadata": {},
   "outputs": [],
   "source": [
    "# Get coordinate of point along nadir closest to pixel centroid\n",
    "projection = substring(nadir, 0, dist).coords[1]"
   ]
  },
  {
   "cell_type": "code",
   "execution_count": 173,
   "id": "97ed554a-e606-41a5-8e1b-cb02ea0ef14a",
   "metadata": {},
   "outputs": [],
   "source": [
    "# Create linestring from pixel to closest point on nadir track\n",
    "orthogonal = LineString([pixel.coords[0], projection])"
   ]
  },
  {
   "cell_type": "code",
   "execution_count": 174,
   "id": "27aa1dce-a328-4a5e-b4d8-a9a264a0dfbc",
   "metadata": {},
   "outputs": [],
   "source": [
    "# Get left midpoint\n",
    "left_mid_coord = substring(orthogonal, 0, width/2).coords[1]\n",
    "left_mid_pt = Point(left_mid_coord)"
   ]
  },
  {
   "cell_type": "code",
   "execution_count": 175,
   "id": "249ace8b-1643-4b50-abbe-28d72904ba3a",
   "metadata": {},
   "outputs": [],
   "source": [
    "# Get distance for translation form nadir\n",
    "mid_dist = orthogonal.length - width/2"
   ]
  },
  {
   "cell_type": "code",
   "execution_count": 176,
   "id": "4e1646e5-d462-4661-a2af-f4b264ac662c",
   "metadata": {},
   "outputs": [],
   "source": [
    "left_edge = nadir.parallel_offset(distance=mid_dist, side='right')\n",
    "right_edge = nadir.parallel_offset(distance=mid_dist+width, side='right')"
   ]
  },
  {
   "cell_type": "code",
   "execution_count": 177,
   "id": "aae9ccf8-f9d3-44f4-a619-ea3decbae732",
   "metadata": {},
   "outputs": [],
   "source": [
    "# Get right midpoint\n",
    "right_dist = right_edge.project(pixel)\n",
    "right_mid_coord = substring(right_edge, 0, right_dist).coords[1]\n",
    "right_mid_pt = Point(right_mid_coord)"
   ]
  },
  {
   "cell_type": "code",
   "execution_count": 193,
   "id": "1a0ad30e-d31b-4605-8e1a-3acee42e43b2",
   "metadata": {},
   "outputs": [],
   "source": [
    "one_coord = substring(left_edge, dist, dist+height/2).coords[1]\n",
    "one_pt = Point(one_coord)\n",
    "\n",
    "two_coord = substring(right_edge, dist, dist+height/2).coords[1]\n",
    "two_pt = Point(two_coord)\n",
    "\n",
    "three_coord = substring(right_edge, dist-height/2, dist).coords[0]\n",
    "three_pt = Point(three_coord)\n",
    "\n",
    "four_coord = substring(left_edge, dist-height/2, dist).coords[0]\n",
    "four_pt = Point(four_coord)"
   ]
  },
  {
   "cell_type": "code",
   "execution_count": 203,
   "id": "3404bb05-9793-4f80-931b-da0c9c83b2d6",
   "metadata": {},
   "outputs": [],
   "source": [
    "pseudo_pixel = Polygon((one_coord, two_coord, three_coord, four_coord, one_coord))"
   ]
  },
  {
   "cell_type": "code",
   "execution_count": 205,
   "id": "d791c2ac-5043-473b-a508-aeb19ad47719",
   "metadata": {},
   "outputs": [
    {
     "data": {
      "image/svg+xml": [
       "<svg xmlns=\"http://www.w3.org/2000/svg\" xmlns:xlink=\"http://www.w3.org/1999/xlink\" width=\"100.0\" height=\"100.0\" viewBox=\"0.5327031656818717 -0.7322078983854794 2.934593668636256 5.46441579677096\" preserveAspectRatio=\"xMinYMin meet\"><g transform=\"matrix(1,0,0,-1,0,4.000000000000001)\"><path fill-rule=\"evenodd\" fill=\"#66cc99\" stroke=\"#555555\" stroke-width=\"0.1092883159354192\" opacity=\"0.6\" d=\"M 2.316227766016838,4.529822128134704 L 3.2649110640673515,4.213594362117866 L 1.6837722339831618,-0.5298221281347031 L 0.735088935932648,-0.2135943621178651 L 2.316227766016838,4.529822128134704 z\" /></g></svg>"
      ],
      "text/plain": [
       "<POLYGON ((2.316 4.53, 3.265 4.214, 1.684 -0.53, 0.735 -0.214, 2.316 4.53))>"
      ]
     },
     "execution_count": 205,
     "metadata": {},
     "output_type": "execute_result"
    }
   ],
   "source": [
    "pseudo_pixel"
   ]
  },
  {
   "cell_type": "code",
   "execution_count": 151,
   "id": "2e8b92a3-3e1c-4dff-ade1-ff5571fb92c9",
   "metadata": {},
   "outputs": [],
   "source": [
    "# left_edge = translate(geom=nadir, xoff=edge_dist, yoff=edge_dist)\n",
    "# right_edge = translate(geom=nadir, xoff=edge_dist+width, yoff=edge_dist+width)\n",
    "# left_gs = gpd.GeoSeries(left_edge)"
   ]
  },
  {
   "cell_type": "code",
   "execution_count": 199,
   "id": "3cf1d350-6d8b-4794-9885-6a57d90508c1",
   "metadata": {},
   "outputs": [
    {
     "data": {
      "text/plain": [
       "<Axes: >"
      ]
     },
     "execution_count": 199,
     "metadata": {},
     "output_type": "execute_result"
    },
    {
     "data": {
      "image/png": "[encoded data removed]",
      "text/plain": [
       "<Figure size 800x800 with 1 Axes>"
      ]
     },
     "metadata": {},
     "output_type": "display_data"
    }
   ],
   "source": [
    "fig, ax = plt.subplots(figsize=(8,8))\n",
    "gpd.GeoSeries(nadir).plot(ax=ax, color='k')\n",
    "gpd.GeoSeries(pixel).plot(ax=ax, color='k')\n",
    "\n",
    "gpd.GeoSeries(Point(projection)).plot(ax=ax, color='r')\n",
    "gpd.GeoSeries(orthogonal).plot(ax=ax, color='orange')\n",
    "gpd.GeoSeries(left_mid_pt).plot(ax=ax, color='hotpink')\n",
    "gpd.GeoSeries(right_mid_pt).plot(ax=ax, color='hotpink')\n",
    "\n",
    "gpd.GeoSeries(right_edge).plot(ax=ax, color='b')\n",
    "gpd.GeoSeries(left_edge).plot(ax=ax, color='y')\n",
    "\n",
    "gpd.GeoSeries(one_pt).plot(ax=ax, color='purple')\n",
    "gpd.GeoSeries(two_pt).plot(ax=ax, color='purple')\n",
    "gpd.GeoSeries(three_pt).plot(ax=ax, color='purple')\n",
    "gpd.GeoSeries(four_pt).plot(ax=ax, color='purple')\n",
    "\n",
    "gpd.GeoSeries(pseudo_pixel).plot(ax=ax, color='grey', alpha=0.5)"
   ]
  },
  {
   "cell_type": "markdown",
   "id": "14a7acd0-7ad7-4b1f-ba62-cf7d55d26659",
   "metadata": {},
   "source": [
    "### With actual SWOT data"
   ]
  },
  {
   "cell_type": "markdown",
   "id": "0ecf525b-d42d-4201-813f-c4e4dbb67556",
   "metadata": {},
   "source": [
    "#### Pixel Cloud"
   ]
  },
  {
   "cell_type": "code",
   "execution_count": 2,
   "id": "822a7271-ae43-4598-9cc7-9b8e6dc56ba2",
   "metadata": {},
   "outputs": [],
   "source": [
    "def bitwiseMask(ds):\n",
    "    # Fow now, eliminate the really bad stuff\n",
    "    mask = np.where((ds.classification > 2) & (ds.geolocation_qual < 2**16) &\n",
    "                    (np.abs(ds.cross_track) > 10000) & (np.abs(ds.cross_track) < 60000))[0]\n",
    "    \n",
    "    print(mask.shape)\n",
    "    return mask"
   ]
  },
  {
   "cell_type": "code",
   "execution_count": 3,
   "id": "1eb82c0a-198b-49c6-826c-5d81afc979d0",
   "metadata": {},
   "outputs": [],
   "source": [
    "def makeGDF(ds, mask, data_vars):\n",
    "    '''\n",
    "    This function takes the pixel cloud xarray object, makes a masked\n",
    "    GeoDataFrame, renames columns as needed, set the CRS, reprojects\n",
    "    the CRS, and returns a GeoDataFrame.\n",
    "    '''\n",
    "    # Subset xarray, convert to masked DataFrame\n",
    "    xarr = ds[data_vars]\n",
    "    df = xarr.to_dataframe().loc[mask].reset_index()\n",
    "\n",
    "    # Create GDF\n",
    "    gdf_PIXC = gpd.GeoDataFrame(df,\n",
    "                                geometry=gpd.points_from_xy(df.longitude,\n",
    "                                                            df.latitude),\n",
    "                                crs=\"EPSG:4326\") # PIXC has no native CRS, setting same as River_SP\n",
    "\n",
    "    if 'classification' in gdf_PIXC.columns:\n",
    "        gdf_PIXC.rename(columns={'classification': 'klass'}, inplace=True)\n",
    "    \n",
    "    # Convert the crs to WGS 84 / Pseudo-Mercator\n",
    "    gdf_PIXC = gdf_PIXC.to_crs(epsg=3857)\n",
    "    \n",
    "    return gdf_PIXC"
   ]
  },
  {
   "cell_type": "code",
   "execution_count": 4,
   "id": "ffe47b66-148d-4943-ae47-36950762b984",
   "metadata": {},
   "outputs": [],
   "source": [
    "leaf_off = '../data/small_rivers/mar_2024_ver_c/SWOT_L2_HR_PIXC_012_298_080L_20240317T084237_20240317T084248_PIC0_01.nc'"
   ]
  },
  {
   "cell_type": "code",
   "execution_count": 5,
   "id": "0adf167c-3cf5-490d-9a45-678af61f8c4f",
   "metadata": {},
   "outputs": [],
   "source": [
    "# Read in xarray\n",
    "ds_PIXC = xr.open_mfdataset(paths=leaf_off, group = 'pixel_cloud', engine='h5netcdf')"
   ]
  },
  {
   "cell_type": "code",
   "execution_count": 150,
   "id": "3b0fe5b4-1a47-429a-a3d1-b30f8e8673fd",
   "metadata": {},
   "outputs": [],
   "source": [
    "# ds_PIXC"
   ]
  },
  {
   "cell_type": "code",
   "execution_count": 6,
   "id": "392a105e-1bef-4be5-9585-9d4322c54da8",
   "metadata": {},
   "outputs": [],
   "source": [
    "# Read in xarray\n",
    "ds_GLOB = xr.open_mfdataset(paths=leaf_off, engine='h5netcdf')"
   ]
  },
  {
   "cell_type": "code",
   "execution_count": 149,
   "id": "7b5c2a01-82fe-4698-9b36-650d63482e75",
   "metadata": {},
   "outputs": [],
   "source": [
    "# ds_GLOB"
   ]
  },
  {
   "cell_type": "code",
   "execution_count": 7,
   "id": "727ead34-d92a-4b42-a573-59b44979fbf0",
   "metadata": {},
   "outputs": [
    {
     "data": {
      "text/plain": [
       "np.int16(298)"
      ]
     },
     "execution_count": 7,
     "metadata": {},
     "output_type": "execute_result"
    }
   ],
   "source": [
    "pass_num = ds_GLOB.pass_number\n",
    "pass_num"
   ]
  },
  {
   "cell_type": "code",
   "execution_count": 8,
   "id": "df8a0916-20a4-4d5d-81de-483b7ace2fae",
   "metadata": {},
   "outputs": [],
   "source": [
    "# Make dict for legend labels\n",
    "flags = ds_PIXC.classification.flag_meanings.split() # extract each flag meaning\n",
    "codes = {idx:k for idx, k in enumerate(flags, start=1)}"
   ]
  },
  {
   "cell_type": "code",
   "execution_count": 9,
   "id": "e414805c-0269-49c4-83f0-545875a9be26",
   "metadata": {},
   "outputs": [
    {
     "name": "stdout",
     "output_type": "stream",
     "text": [
      "(887993,)\n"
     ]
    }
   ],
   "source": [
    "# Make mask\n",
    "mask = bitwiseMask(ds_PIXC)"
   ]
  },
  {
   "cell_type": "code",
   "execution_count": 10,
   "id": "c256e1f4-f022-4e54-8961-ade8ac9c8666",
   "metadata": {},
   "outputs": [],
   "source": [
    "variables = ['azimuth_index', 'range_index', 'cross_track',\n",
    "             'pixel_area', 'classification']"
   ]
  },
  {
   "cell_type": "code",
   "execution_count": 12,
   "id": "7847e261-5142-45c5-9e11-7269ac1a863c",
   "metadata": {},
   "outputs": [],
   "source": [
    "# If dataframe not empty after filtering\n",
    "if mask.shape != (0,):\n",
    "    # Make PIXC\n",
    "    gdf_PIXC = makeGDF(ds=ds_PIXC, mask=mask, data_vars=variables)\n",
    "    # # Append to list\n",
    "    # d.append(gdf_PIXC)"
   ]
  },
  {
   "cell_type": "code",
   "execution_count": 13,
   "id": "b9fa94c2-06a3-4bfa-abe4-99056d63547c",
   "metadata": {},
   "outputs": [
    {
     "data": {
      "text/html": [
       "<div>\n",
       "<style scoped>\n",
       "    .dataframe tbody tr th:only-of-type {\n",
       "        vertical-align: middle;\n",
       "    }\n",
       "\n",
       "    .dataframe tbody tr th {\n",
       "        vertical-align: top;\n",
       "    }\n",
       "\n",
       "    .dataframe thead th {\n",
       "        text-align: right;\n",
       "    }\n",
       "</style>\n",
       "<table border=\"1\" class=\"dataframe\">\n",
       "  <thead>\n",
       "    <tr style=\"text-align: right;\">\n",
       "      <th></th>\n",
       "      <th>points</th>\n",
       "      <th>azimuth_index</th>\n",
       "      <th>range_index</th>\n",
       "      <th>cross_track</th>\n",
       "      <th>pixel_area</th>\n",
       "      <th>klass</th>\n",
       "      <th>latitude</th>\n",
       "      <th>longitude</th>\n",
       "      <th>geometry</th>\n",
       "    </tr>\n",
       "  </thead>\n",
       "  <tbody>\n",
       "    <tr>\n",
       "      <th>0</th>\n",
       "      <td>401</td>\n",
       "      <td>160.0</td>\n",
       "      <td>1024.0</td>\n",
       "      <td>-10889.750977</td>\n",
       "      <td>1178.953125</td>\n",
       "      <td>6.0</td>\n",
       "      <td>42.677126</td>\n",
       "      <td>-72.876377</td>\n",
       "      <td>POINT (-8112561.231 5262955.498)</td>\n",
       "    </tr>\n",
       "    <tr>\n",
       "      <th>1</th>\n",
       "      <td>454</td>\n",
       "      <td>160.0</td>\n",
       "      <td>1191.0</td>\n",
       "      <td>-19793.564453</td>\n",
       "      <td>649.818542</td>\n",
       "      <td>3.0</td>\n",
       "      <td>42.695743</td>\n",
       "      <td>-72.774072</td>\n",
       "      <td>POINT (-8101172.608 5265774.829)</td>\n",
       "    </tr>\n",
       "    <tr>\n",
       "      <th>2</th>\n",
       "      <td>494</td>\n",
       "      <td>160.0</td>\n",
       "      <td>1255.0</td>\n",
       "      <td>-19913.406250</td>\n",
       "      <td>645.948059</td>\n",
       "      <td>3.0</td>\n",
       "      <td>42.696196</td>\n",
       "      <td>-72.771573</td>\n",
       "      <td>POINT (-8100894.448 5265843.516)</td>\n",
       "    </tr>\n",
       "    <tr>\n",
       "      <th>3</th>\n",
       "      <td>495</td>\n",
       "      <td>160.0</td>\n",
       "      <td>1256.0</td>\n",
       "      <td>-20000.214844</td>\n",
       "      <td>643.149109</td>\n",
       "      <td>3.0</td>\n",
       "      <td>42.696374</td>\n",
       "      <td>-72.770593</td>\n",
       "      <td>POINT (-8100785.347 5265870.449)</td>\n",
       "    </tr>\n",
       "    <tr>\n",
       "      <th>4</th>\n",
       "      <td>496</td>\n",
       "      <td>160.0</td>\n",
       "      <td>1257.0</td>\n",
       "      <td>-20060.488281</td>\n",
       "      <td>641.220032</td>\n",
       "      <td>3.0</td>\n",
       "      <td>42.696443</td>\n",
       "      <td>-72.770210</td>\n",
       "      <td>POINT (-8100742.721 5265880.971)</td>\n",
       "    </tr>\n",
       "    <tr>\n",
       "      <th>...</th>\n",
       "      <td>...</td>\n",
       "      <td>...</td>\n",
       "      <td>...</td>\n",
       "      <td>...</td>\n",
       "      <td>...</td>\n",
       "      <td>...</td>\n",
       "      <td>...</td>\n",
       "      <td>...</td>\n",
       "      <td>...</td>\n",
       "    </tr>\n",
       "    <tr>\n",
       "      <th>887988</th>\n",
       "      <td>6424016</td>\n",
       "      <td>3105.0</td>\n",
       "      <td>3772.0</td>\n",
       "      <td>-58681.511719</td>\n",
       "      <td>219.810181</td>\n",
       "      <td>4.0</td>\n",
       "      <td>42.217827</td>\n",
       "      <td>-72.130669</td>\n",
       "      <td>POINT (-8029549.384 5193664.943)</td>\n",
       "    </tr>\n",
       "    <tr>\n",
       "      <th>887989</th>\n",
       "      <td>6424017</td>\n",
       "      <td>3105.0</td>\n",
       "      <td>3773.0</td>\n",
       "      <td>-58691.574219</td>\n",
       "      <td>219.772675</td>\n",
       "      <td>4.0</td>\n",
       "      <td>42.217847</td>\n",
       "      <td>-72.130554</td>\n",
       "      <td>POINT (-8029536.537 5193668.001)</td>\n",
       "    </tr>\n",
       "    <tr>\n",
       "      <th>887990</th>\n",
       "      <td>6424018</td>\n",
       "      <td>3105.0</td>\n",
       "      <td>3774.0</td>\n",
       "      <td>-58701.718750</td>\n",
       "      <td>219.734879</td>\n",
       "      <td>3.0</td>\n",
       "      <td>42.217915</td>\n",
       "      <td>-72.130169</td>\n",
       "      <td>POINT (-8029493.671 5193678.196)</td>\n",
       "    </tr>\n",
       "    <tr>\n",
       "      <th>887991</th>\n",
       "      <td>6424036</td>\n",
       "      <td>3105.0</td>\n",
       "      <td>3792.0</td>\n",
       "      <td>-58883.796875</td>\n",
       "      <td>219.058853</td>\n",
       "      <td>3.0</td>\n",
       "      <td>42.218353</td>\n",
       "      <td>-72.127685</td>\n",
       "      <td>POINT (-8029217.216 5193743.953)</td>\n",
       "    </tr>\n",
       "    <tr>\n",
       "      <th>887992</th>\n",
       "      <td>6424044</td>\n",
       "      <td>3105.0</td>\n",
       "      <td>3800.0</td>\n",
       "      <td>-58976.667969</td>\n",
       "      <td>218.715424</td>\n",
       "      <td>6.0</td>\n",
       "      <td>42.218596</td>\n",
       "      <td>-72.126307</td>\n",
       "      <td>POINT (-8029063.723 5193780.46)</td>\n",
       "    </tr>\n",
       "  </tbody>\n",
       "</table>\n",
       "<p>887993 rows × 9 columns</p>\n",
       "</div>"
      ],
      "text/plain": [
       "         points  azimuth_index  range_index   cross_track   pixel_area  klass  \\\n",
       "0           401          160.0       1024.0 -10889.750977  1178.953125    6.0   \n",
       "1           454          160.0       1191.0 -19793.564453   649.818542    3.0   \n",
       "2           494          160.0       1255.0 -19913.406250   645.948059    3.0   \n",
       "3           495          160.0       1256.0 -20000.214844   643.149109    3.0   \n",
       "4           496          160.0       1257.0 -20060.488281   641.220032    3.0   \n",
       "...         ...            ...          ...           ...          ...    ...   \n",
       "887988  6424016         3105.0       3772.0 -58681.511719   219.810181    4.0   \n",
       "887989  6424017         3105.0       3773.0 -58691.574219   219.772675    4.0   \n",
       "887990  6424018         3105.0       3774.0 -58701.718750   219.734879    3.0   \n",
       "887991  6424036         3105.0       3792.0 -58883.796875   219.058853    3.0   \n",
       "887992  6424044         3105.0       3800.0 -58976.667969   218.715424    6.0   \n",
       "\n",
       "         latitude  longitude                          geometry  \n",
       "0       42.677126 -72.876377  POINT (-8112561.231 5262955.498)  \n",
       "1       42.695743 -72.774072  POINT (-8101172.608 5265774.829)  \n",
       "2       42.696196 -72.771573  POINT (-8100894.448 5265843.516)  \n",
       "3       42.696374 -72.770593  POINT (-8100785.347 5265870.449)  \n",
       "4       42.696443 -72.770210  POINT (-8100742.721 5265880.971)  \n",
       "...           ...        ...                               ...  \n",
       "887988  42.217827 -72.130669  POINT (-8029549.384 5193664.943)  \n",
       "887989  42.217847 -72.130554  POINT (-8029536.537 5193668.001)  \n",
       "887990  42.217915 -72.130169  POINT (-8029493.671 5193678.196)  \n",
       "887991  42.218353 -72.127685  POINT (-8029217.216 5193743.953)  \n",
       "887992  42.218596 -72.126307   POINT (-8029063.723 5193780.46)  \n",
       "\n",
       "[887993 rows x 9 columns]"
      ]
     },
     "execution_count": 13,
     "metadata": {},
     "output_type": "execute_result"
    }
   ],
   "source": [
    "gdf_PIXC"
   ]
  },
  {
   "cell_type": "code",
   "execution_count": 14,
   "id": "4d21d3fc-a2d8-4a5c-a53d-4f210814bb36",
   "metadata": {},
   "outputs": [],
   "source": [
    "pixel = gdf_PIXC.sample(n=1, random_state=0)"
   ]
  },
  {
   "cell_type": "code",
   "execution_count": 15,
   "id": "7898455a-29cd-47d3-be8c-29db72be817a",
   "metadata": {},
   "outputs": [
    {
     "data": {
      "text/html": [
       "<div>\n",
       "<style scoped>\n",
       "    .dataframe tbody tr th:only-of-type {\n",
       "        vertical-align: middle;\n",
       "    }\n",
       "\n",
       "    .dataframe tbody tr th {\n",
       "        vertical-align: top;\n",
       "    }\n",
       "\n",
       "    .dataframe thead th {\n",
       "        text-align: right;\n",
       "    }\n",
       "</style>\n",
       "<table border=\"1\" class=\"dataframe\">\n",
       "  <thead>\n",
       "    <tr style=\"text-align: right;\">\n",
       "      <th></th>\n",
       "      <th>points</th>\n",
       "      <th>azimuth_index</th>\n",
       "      <th>range_index</th>\n",
       "      <th>cross_track</th>\n",
       "      <th>pixel_area</th>\n",
       "      <th>klass</th>\n",
       "      <th>latitude</th>\n",
       "      <th>longitude</th>\n",
       "      <th>geometry</th>\n",
       "    </tr>\n",
       "  </thead>\n",
       "  <tbody>\n",
       "    <tr>\n",
       "      <th>393641</th>\n",
       "      <td>3696112</td>\n",
       "      <td>1985.0</td>\n",
       "      <td>3129.0</td>\n",
       "      <td>-50703.476562</td>\n",
       "      <td>254.252487</td>\n",
       "      <td>4.0</td>\n",
       "      <td>42.414495</td>\n",
       "      <td>-72.293195</td>\n",
       "      <td>POINT (-8047641.633 5223272.432)</td>\n",
       "    </tr>\n",
       "  </tbody>\n",
       "</table>\n",
       "</div>"
      ],
      "text/plain": [
       "         points  azimuth_index  range_index   cross_track  pixel_area  klass  \\\n",
       "393641  3696112         1985.0       3129.0 -50703.476562  254.252487    4.0   \n",
       "\n",
       "         latitude  longitude                          geometry  \n",
       "393641  42.414495 -72.293195  POINT (-8047641.633 5223272.432)  "
      ]
     },
     "execution_count": 15,
     "metadata": {},
     "output_type": "execute_result"
    }
   ],
   "source": [
    "pixel"
   ]
  },
  {
   "cell_type": "code",
   "execution_count": 16,
   "id": "d43704b3-7551-43b5-be33-8e7253ec53c7",
   "metadata": {},
   "outputs": [],
   "source": [
    "pixel_pt = pixel.geometry[pixel.index[0]]"
   ]
  },
  {
   "cell_type": "markdown",
   "id": "6f5cb7de-deaf-404d-812f-79cd4cec949b",
   "metadata": {},
   "source": [
    "#### Nadir"
   ]
  },
  {
   "cell_type": "code",
   "execution_count": 19,
   "id": "63b1430e-b4ec-4cdf-a86b-f9c45bb617e0",
   "metadata": {},
   "outputs": [],
   "source": [
    "height = 22"
   ]
  },
  {
   "cell_type": "code",
   "execution_count": 74,
   "id": "ed7a8ba5-4909-467b-9ca3-3ac7836964dd",
   "metadata": {},
   "outputs": [],
   "source": [
    "width = pixel.pixel_area[pixel.index[0]]/height"
   ]
  },
  {
   "cell_type": "code",
   "execution_count": 75,
   "id": "a0661773-2894-44df-b6d0-87f00be28c3f",
   "metadata": {},
   "outputs": [
    {
     "data": {
      "text/plain": [
       "np.float32(11.5569315)"
      ]
     },
     "execution_count": 75,
     "metadata": {},
     "output_type": "execute_result"
    }
   ],
   "source": [
    "width"
   ]
  },
  {
   "cell_type": "code",
   "execution_count": 20,
   "id": "fb205f22-cb60-49f1-84cf-507d123987d7",
   "metadata": {},
   "outputs": [],
   "source": [
    "nadir = gpd.read_file('/nas/cee-water/cjgleason/data/SWOT/swath/swot_science_hr_Aug2021-v05_shapefile_nadir/swot_science_hr_2.0s_4.0s_Aug2021-v5_nadir.shp')"
   ]
  },
  {
   "cell_type": "code",
   "execution_count": 21,
   "id": "09187651-2855-42b1-961f-7c8a852dbef3",
   "metadata": {},
   "outputs": [
    {
     "data": {
      "text/plain": [
       "<Geographic 2D CRS: EPSG:4326>\n",
       "Name: WGS 84\n",
       "Axis Info [ellipsoidal]:\n",
       "- Lat[north]: Geodetic latitude (degree)\n",
       "- Lon[east]: Geodetic longitude (degree)\n",
       "Area of Use:\n",
       "- name: World.\n",
       "- bounds: (-180.0, -90.0, 180.0, 90.0)\n",
       "Datum: World Geodetic System 1984 ensemble\n",
       "- Ellipsoid: WGS 84\n",
       "- Prime Meridian: Greenwich"
      ]
     },
     "execution_count": 21,
     "metadata": {},
     "output_type": "execute_result"
    }
   ],
   "source": [
    "nadir.crs"
   ]
  },
  {
   "cell_type": "code",
   "execution_count": 22,
   "id": "0e97396f-3cc8-41ef-8dc0-5f19c466dbb5",
   "metadata": {},
   "outputs": [],
   "source": [
    "# Convert the crs to WGS 84 / Pseudo-Mercator\n",
    "nadir = nadir.to_crs(epsg=3857)"
   ]
  },
  {
   "cell_type": "code",
   "execution_count": 23,
   "id": "f5bada50-80a7-49a1-9518-d3f73e65f9e3",
   "metadata": {},
   "outputs": [
    {
     "data": {
      "text/html": [
       "<div>\n",
       "<style scoped>\n",
       "    .dataframe tbody tr th:only-of-type {\n",
       "        vertical-align: middle;\n",
       "    }\n",
       "\n",
       "    .dataframe tbody tr th {\n",
       "        vertical-align: top;\n",
       "    }\n",
       "\n",
       "    .dataframe thead th {\n",
       "        text-align: right;\n",
       "    }\n",
       "</style>\n",
       "<table border=\"1\" class=\"dataframe\">\n",
       "  <thead>\n",
       "    <tr style=\"text-align: right;\">\n",
       "      <th></th>\n",
       "      <th>ID_SEG</th>\n",
       "      <th>ID_PASS</th>\n",
       "      <th>START_TIME</th>\n",
       "      <th>geometry</th>\n",
       "    </tr>\n",
       "  </thead>\n",
       "  <tbody>\n",
       "    <tr>\n",
       "      <th>0</th>\n",
       "      <td>1</td>\n",
       "      <td>1</td>\n",
       "      <td>Day 01 00:27:16</td>\n",
       "      <td>LINESTRING (103762.456 580191.408, 107238.852 ...</td>\n",
       "    </tr>\n",
       "    <tr>\n",
       "      <th>1</th>\n",
       "      <td>2</td>\n",
       "      <td>1</td>\n",
       "      <td>Day 01 00:35:46</td>\n",
       "      <td>LINESTRING (692810.209 4065036.58, 699081.281 ...</td>\n",
       "    </tr>\n",
       "    <tr>\n",
       "      <th>2</th>\n",
       "      <td>3</td>\n",
       "      <td>1</td>\n",
       "      <td>Day 01 00:36:05</td>\n",
       "      <td>LINESTRING (723478.84 4212061.88, 731273.431 4...</td>\n",
       "    </tr>\n",
       "    <tr>\n",
       "      <th>3</th>\n",
       "      <td>4</td>\n",
       "      <td>1</td>\n",
       "      <td>Day 01 00:37:53</td>\n",
       "      <td>LINESTRING (917976.255 5074726.98, 931863.25 5...</td>\n",
       "    </tr>\n",
       "    <tr>\n",
       "      <th>4</th>\n",
       "      <td>5</td>\n",
       "      <td>1</td>\n",
       "      <td>Day 01 00:38:44</td>\n",
       "      <td>LINESTRING (1026986.423 5510945.659, 1039343.1...</td>\n",
       "    </tr>\n",
       "    <tr>\n",
       "      <th>...</th>\n",
       "      <td>...</td>\n",
       "      <td>...</td>\n",
       "      <td>...</td>\n",
       "      <td>...</td>\n",
       "    </tr>\n",
       "    <tr>\n",
       "      <th>2865</th>\n",
       "      <td>2866</td>\n",
       "      <td>583</td>\n",
       "      <td>Day 21 19:40:59</td>\n",
       "      <td>LINESTRING (3935337.584 5611680.267, 3936249.6...</td>\n",
       "    </tr>\n",
       "    <tr>\n",
       "      <th>2866</th>\n",
       "      <td>2867</td>\n",
       "      <td>583</td>\n",
       "      <td>Day 21 19:41:30</td>\n",
       "      <td>LINESTRING (4008452.56 5883159.397, 4033022.44...</td>\n",
       "    </tr>\n",
       "    <tr>\n",
       "      <th>2867</th>\n",
       "      <td>2868</td>\n",
       "      <td>583</td>\n",
       "      <td>Day 21 19:53:05</td>\n",
       "      <td>LINESTRING (11469481.798 14146679.712, 1159583...</td>\n",
       "    </tr>\n",
       "    <tr>\n",
       "      <th>2868</th>\n",
       "      <td>2869</td>\n",
       "      <td>584</td>\n",
       "      <td>Day 21 19:58:07</td>\n",
       "      <td>LINESTRING (18027273.259 11006065.269, 1805432...</td>\n",
       "    </tr>\n",
       "    <tr>\n",
       "      <th>2869</th>\n",
       "      <td>2870</td>\n",
       "      <td>584</td>\n",
       "      <td>Day 21 19:58:20</td>\n",
       "      <td>LINESTRING (18165185.418 10820193.397, 1826516...</td>\n",
       "    </tr>\n",
       "  </tbody>\n",
       "</table>\n",
       "<p>2870 rows × 4 columns</p>\n",
       "</div>"
      ],
      "text/plain": [
       "      ID_SEG  ID_PASS       START_TIME  \\\n",
       "0          1        1  Day 01 00:27:16   \n",
       "1          2        1  Day 01 00:35:46   \n",
       "2          3        1  Day 01 00:36:05   \n",
       "3          4        1  Day 01 00:37:53   \n",
       "4          5        1  Day 01 00:38:44   \n",
       "...      ...      ...              ...   \n",
       "2865    2866      583  Day 21 19:40:59   \n",
       "2866    2867      583  Day 21 19:41:30   \n",
       "2867    2868      583  Day 21 19:53:05   \n",
       "2868    2869      584  Day 21 19:58:07   \n",
       "2869    2870      584  Day 21 19:58:20   \n",
       "\n",
       "                                               geometry  \n",
       "0     LINESTRING (103762.456 580191.408, 107238.852 ...  \n",
       "1     LINESTRING (692810.209 4065036.58, 699081.281 ...  \n",
       "2     LINESTRING (723478.84 4212061.88, 731273.431 4...  \n",
       "3     LINESTRING (917976.255 5074726.98, 931863.25 5...  \n",
       "4     LINESTRING (1026986.423 5510945.659, 1039343.1...  \n",
       "...                                                 ...  \n",
       "2865  LINESTRING (3935337.584 5611680.267, 3936249.6...  \n",
       "2866  LINESTRING (4008452.56 5883159.397, 4033022.44...  \n",
       "2867  LINESTRING (11469481.798 14146679.712, 1159583...  \n",
       "2868  LINESTRING (18027273.259 11006065.269, 1805432...  \n",
       "2869  LINESTRING (18165185.418 10820193.397, 1826516...  \n",
       "\n",
       "[2870 rows x 4 columns]"
      ]
     },
     "execution_count": 23,
     "metadata": {},
     "output_type": "execute_result"
    }
   ],
   "source": [
    "nadir"
   ]
  },
  {
   "cell_type": "code",
   "execution_count": 25,
   "id": "0e1f63da-755e-4945-8525-96ec703e2f54",
   "metadata": {},
   "outputs": [],
   "source": [
    "# subset = nadir[nadir['ID_PASS'] == pass_num]\n",
    "subset = nadir[nadir['ID_SEG'] == 1466]"
   ]
  },
  {
   "cell_type": "code",
   "execution_count": 26,
   "id": "265fa65c-7197-4da8-a245-a21613ff852d",
   "metadata": {},
   "outputs": [],
   "source": [
    "subset_ln = subset.geometry[subset.index[0]]"
   ]
  },
  {
   "cell_type": "code",
   "execution_count": 27,
   "id": "293c871b-5779-4fb0-a1f3-8d1262b9ba07",
   "metadata": {},
   "outputs": [
    {
     "data": {
      "text/plain": [
       "<Axes: >"
      ]
     },
     "execution_count": 27,
     "metadata": {},
     "output_type": "execute_result"
    },
    {
     "data": {
      "image/png": "[encoded data removed]",
      "text/plain": [
       "<Figure size 800x800 with 1 Axes>"
      ]
     },
     "metadata": {},
     "output_type": "display_data"
    }
   ],
   "source": [
    "fig, ax = plt.subplots(figsize=(8,8))\n",
    "gpd.GeoSeries(subset_ln).plot(ax=ax, color='k')\n",
    "gpd.GeoSeries(pixel_pt).plot(ax=ax, color='r')"
   ]
  },
  {
   "cell_type": "code",
   "execution_count": 28,
   "id": "3c289c9c-0863-48aa-ba8b-e0dedc109156",
   "metadata": {},
   "outputs": [],
   "source": [
    "# Get distance along nadir track closest to pixel centroid\n",
    "dist = subset_ln.project(pixel_pt)"
   ]
  },
  {
   "cell_type": "code",
   "execution_count": 142,
   "id": "58859ba4-25f3-47d8-9c56-437147522d56",
   "metadata": {},
   "outputs": [
    {
     "data": {
      "text/plain": [
       "np.float64(2243857.5270774695)"
      ]
     },
     "execution_count": 142,
     "metadata": {},
     "output_type": "execute_result"
    }
   ],
   "source": [
    "dist"
   ]
  },
  {
   "cell_type": "code",
   "execution_count": 32,
   "id": "f757ecda-e676-4178-98ff-a6602d6ab33c",
   "metadata": {},
   "outputs": [],
   "source": [
    "# Get coordinate of point along nadir closest to pixel centroid\n",
    "projection = substring(subset_ln, dist, 0).coords[1]"
   ]
  },
  {
   "cell_type": "code",
   "execution_count": 33,
   "id": "c08d4b61-06fd-48f2-9619-4d969e1840d9",
   "metadata": {},
   "outputs": [],
   "source": [
    "# Create linestring from pixel to closest point on nadir track\n",
    "orthogonal = LineString([pixel_pt.coords[0], projection])"
   ]
  },
  {
   "cell_type": "code",
   "execution_count": 57,
   "id": "518dbd33-db58-4faa-8140-a87e4ce8b4cc",
   "metadata": {},
   "outputs": [],
   "source": [
    "up = orthogonal.parallel_offset(distance=height/2, side='right')\n",
    "down = orthogonal.parallel_offset(distance=height/2, side='left')"
   ]
  },
  {
   "cell_type": "code",
   "execution_count": 81,
   "id": "23ca2b2b-18bf-4acf-a15d-b6f88cd09867",
   "metadata": {},
   "outputs": [],
   "source": [
    "# Get coords for inner edge\n",
    "one_coord = substring(up, start_dist=0, end_dist=width/2).coords[1]\n",
    "two_coord = substring(down, start_dist=0, end_dist=width/2).coords[1]"
   ]
  },
  {
   "cell_type": "code",
   "execution_count": 83,
   "id": "3c6bdfb4-0936-4b02-9982-39b91efb7c47",
   "metadata": {},
   "outputs": [],
   "source": [
    "inner_edge = LineString([two_coord, one_coord])"
   ]
  },
  {
   "cell_type": "code",
   "execution_count": 105,
   "id": "78429aac-1093-48f6-bdcc-7c9c2f22c732",
   "metadata": {},
   "outputs": [],
   "source": [
    "outer_edge = inner_edge.parallel_offset(distance=width, side='right')"
   ]
  },
  {
   "cell_type": "code",
   "execution_count": 110,
   "id": "47c07805-7c97-4687-bbbb-cf56ccfabbb8",
   "metadata": {},
   "outputs": [],
   "source": [
    "three_coord = outer_edge.coords[0]\n",
    "four_coord = outer_edge.coords[1]"
   ]
  },
  {
   "cell_type": "code",
   "execution_count": 111,
   "id": "f5e1ae64-d3d7-48f0-ad80-b1fd54b12d82",
   "metadata": {},
   "outputs": [],
   "source": [
    "pseudo_pixel = Polygon((one_coord, two_coord, three_coord, four_coord, one_coord))"
   ]
  },
  {
   "cell_type": "code",
   "execution_count": 112,
   "id": "3a471a8f-43c7-46a6-b5a9-b78955194d2a",
   "metadata": {},
   "outputs": [
    {
     "data": {
      "text/plain": [
       "(5223200.0, 5223325.0)"
      ]
     },
     "execution_count": 112,
     "metadata": {},
     "output_type": "execute_result"
    },
    {
     "data": {
      "image/png": "[encoded data removed]",
      "text/plain": [
       "<Figure size 1500x1500 with 1 Axes>"
      ]
     },
     "metadata": {},
     "output_type": "display_data"
    }
   ],
   "source": [
    "fig, ax = plt.subplots(figsize=(15,15))\n",
    "gpd.GeoSeries(subset_ln).plot(ax=ax, color='k')\n",
    "gpd.GeoSeries(pixel_pt).plot(ax=ax, color='r')\n",
    "\n",
    "gpd.GeoSeries(Point(projection)).plot(ax=ax, color='hotpink')\n",
    "gpd.GeoSeries(orthogonal).plot(ax=ax, color='k')\n",
    "gpd.GeoSeries(up).plot(ax=ax, color='yellow')\n",
    "gpd.GeoSeries(down).plot(ax=ax, color='r')\n",
    "\n",
    "gpd.GeoSeries(inner_edge).plot(ax=ax, color='green')\n",
    "gpd.GeoSeries(outer_edge).plot(ax=ax, color='green')\n",
    "\n",
    "gpd.GeoSeries(pseudo_pixel).plot(ax=ax, color='grey', alpha=0.5)\n",
    "\n",
    "# plt.xlim(-8117000, -8114000)\n",
    "# plt.ylim(5211000,5212000)\n",
    "plt.xlim(-8047700, -8047575)\n",
    "plt.ylim(5223200, 5223325)"
   ]
  },
  {
   "cell_type": "code",
   "execution_count": null,
   "id": "a8b97a74-15c2-4715-8225-eaba37659822",
   "metadata": {},
   "outputs": [],
   "source": []
  },
  {
   "cell_type": "code",
   "execution_count": null,
   "id": "8c5b4921-6ac3-4bd7-b425-73c8c152078c",
   "metadata": {},
   "outputs": [],
   "source": []
  },
  {
   "cell_type": "code",
   "execution_count": null,
   "id": "ac32791a-6c58-4f9b-a565-d5c384e23058",
   "metadata": {},
   "outputs": [],
   "source": []
  },
  {
   "cell_type": "code",
   "execution_count": 90,
   "id": "9eca1cc3-3b89-4493-98ae-ea0397216511",
   "metadata": {},
   "outputs": [],
   "source": [
    "test = nadir[nadir['ID_SEG'] == 1672].geometry#.plot()"
   ]
  },
  {
   "cell_type": "code",
   "execution_count": 51,
   "id": "ddd99066-54ad-4010-a6a5-54da25796669",
   "metadata": {},
   "outputs": [],
   "source": [
    "test = test.geometry[test.index[0]]"
   ]
  },
  {
   "cell_type": "code",
   "execution_count": 52,
   "id": "8b3fcfcc-420e-4936-bb65-5b422e8ec7c6",
   "metadata": {},
   "outputs": [
    {
     "data": {
      "image/svg+xml": [
       "<svg xmlns=\"http://www.w3.org/2000/svg\" xmlns:xlink=\"http://www.w3.org/1999/xlink\" width=\"300\" height=\"300\" viewBox=\"-8305649.5788858505 4809950.32103102 1340947.5980237015 3630969.6734767584\" preserveAspectRatio=\"xMinYMin meet\"><g transform=\"matrix(1,0,0,-1,0,13250870.315538798)\"><polyline fill=\"none\" stroke=\"#66cc99\" stroke-width=\"24206.464489845057\" points=\"-8171169.220608934,4944430.679307937 -8157140.738379161,5003739.742287491 -8137245.718984586,5086648.475516985 -8116924.679898747,5170204.548914575 -8096162.036392933,5254424.498392139 -8074941.313182501,5339324.755379033 -8053245.367065871,5424922.873572766 -8031056.275605031,5511236.180433365 -8008355.448445017,5598282.549898594 -7985123.070716458,5686080.585250671 -7961338.770952548,5774649.172268128 -7936981.175811051,5864007.3287644265 -7912027.687435341,5954175.18843258 -7886454.706093369,6045172.733759508 -7860237.630177661,6137020.785007074 -7833350.522246869,6229740.365164964 -7805766.109025751,6323353.558348625 -7777455.781405173,6417882.182068579 -7748389.594442099,6513349.160974669 -7718535.822081672,6609777.523091573 -7687861.291115623,6707191.111501816 -7656331.047223841,6805613.899435805 -7623908.354974377,6905070.902513633 -7590554.141225953,7005587.118439511 -7556227.663044934,7107188.075388426 -7520885.839788397,7209900.041269416 -7484482.807826129,7313749.477136172 -7446970.811096569,7418763.227126003 -7408298.753953459,7524968.920836142 -7368413.09172172,7632393.80027029 -7327256.940141558,7741065.89129668 -7284770.1866879435,7851013.620657173 -7240889.156612146,7962264.767734207 -7195546.390302734,8074847.87674402 -7148670.531966125,8188791.2003913205 -7100185.77302908,8304122.641525023 -7099182.339139066,8306439.636230862\" opacity=\"0.8\" /></g></svg>"
      ],
      "text/plain": [
       "<LINESTRING (-8171169.221 4944430.679, -8157140.738 5003739.742, -8137245.71...>"
      ]
     },
     "execution_count": 52,
     "metadata": {},
     "output_type": "execute_result"
    }
   ],
   "source": [
    "test"
   ]
  },
  {
   "cell_type": "code",
   "execution_count": 53,
   "id": "42f418fb-6b05-4bac-a1ba-98b19588353a",
   "metadata": {},
   "outputs": [],
   "source": [
    "width = 10"
   ]
  },
  {
   "cell_type": "code",
   "execution_count": 54,
   "id": "2f45a3a4-1d5e-4a87-94cf-9dac75962685",
   "metadata": {},
   "outputs": [],
   "source": [
    "test1 = test.parallel_offset(distance=width/2, side='right')"
   ]
  },
  {
   "cell_type": "code",
   "execution_count": 55,
   "id": "21665cbd-a80c-476e-871d-23f781aefdd4",
   "metadata": {},
   "outputs": [
    {
     "data": {
      "text/plain": [
       "<Axes: >"
      ]
     },
     "execution_count": 55,
     "metadata": {},
     "output_type": "execute_result"
    },
    {
     "data": {
      "image/png": "[encoded data removed]",
      "text/plain": [
       "<Figure size 800x800 with 1 Axes>"
      ]
     },
     "metadata": {},
     "output_type": "display_data"
    }
   ],
   "source": [
    "fig, ax = plt.subplots(figsize=(8,8))\n",
    "gpd.GeoSeries(test).plot(ax=ax, color='k')\n",
    "gpd.GeoSeries(test1).plot(ax=ax, color='r')"
   ]
  }
 ],
 "metadata": {
  "kernelspec": {
   "display_name": "Python [conda env:.conda-narrowPIXC]",
   "language": "python",
   "name": "conda-env-.conda-narrowPIXC-py"
  },
  "language_info": {
   "codemirror_mode": {
    "name": "ipython",
    "version": 3
   },
   "file_extension": ".py",
   "mimetype": "text/x-python",
   "name": "python",
   "nbconvert_exporter": "python",
   "pygments_lexer": "ipython3",
   "version": "3.12.4"
  }
 },
 "nbformat": 4,
 "nbformat_minor": 5
}
