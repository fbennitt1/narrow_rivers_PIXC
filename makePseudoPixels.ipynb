{
 "cells": [
  {
   "cell_type": "code",
   "execution_count": 93,
   "id": "054ba1e0-d7ac-4524-a659-1e46d3219143",
   "metadata": {
    "tags": []
   },
   "outputs": [],
   "source": [
    "import os\n",
    "import sys\n",
    "import time\n",
    "\n",
    "# import contextily as ctx\n",
    "import geopandas as gpd\n",
    "import matplotlib.pyplot as plt\n",
    "import numpy as np\n",
    "import pandas as pd\n",
    "import shapely\n",
    "import xarray as xr\n",
    "\n",
    "# from matplotlib import colors\n",
    "from pandarallel import pandarallel\n",
    "from shapely.affinity import translate\n",
    "from shapely.geometry import box, LineString, Point, Polygon\n",
    "from shapely.ops import substring\n",
    "\n",
    "from reaches import readNHD\n",
    "from reaches import readSegments\n",
    "from reaches import bitwiseMask\n",
    "from reaches import makeGDF\n",
    "from reaches import makePseudoPixels"
   ]
  },
  {
   "cell_type": "markdown",
   "id": "0c54b76a-2171-4a4b-92f5-e4b3f4f3f8df",
   "metadata": {
    "tags": []
   },
   "source": [
    "### Pixel Cloud"
   ]
  },
  {
   "cell_type": "code",
   "execution_count": 2,
   "id": "b6a2ddd5-b8ce-4b2d-8e04-12e41eecc1ce",
   "metadata": {},
   "outputs": [],
   "source": [
    "data_path = '/nas/cee-water/cjgleason/fiona/data/PIXC_v2_0_HUC2_01/'\n",
    "\n",
    "# index = 4 # HUC4 0108, Connecticut\n",
    "\n",
    "pixc_path = os.path.join(data_path, 'SWOT_L2_HR_PIXC_005_035_230R_20231013T222132_20231013T222143_PGC0_01.nc')\n",
    "\n",
    "tile_name = pixc_path[-71:-3]"
   ]
  },
  {
   "cell_type": "markdown",
   "id": "974aa2a9-a339-4bc6-9b58-9e6e7c6ec405",
   "metadata": {},
   "source": [
    "#### Check if tile intersects NHD"
   ]
  },
  {
   "cell_type": "code",
   "execution_count": 3,
   "id": "58ba7bf0-45c5-4567-8670-6a883c767692",
   "metadata": {},
   "outputs": [],
   "source": [
    "# Read in xarray, global\n",
    "ds_GLOB = xr.open_mfdataset(paths=pixc_path, engine='h5netcdf')"
   ]
  },
  {
   "cell_type": "code",
   "execution_count": 4,
   "id": "f4f21a55-814a-4dc5-9645-4f98d4d39b2c",
   "metadata": {},
   "outputs": [],
   "source": [
    "# Get bounding coordinates for SWOT tile\n",
    "west_lon = ds_GLOB.geospatial_lon_min\n",
    "south_lat = ds_GLOB.geospatial_lat_min\n",
    "east_lon = ds_GLOB.geospatial_lon_max\n",
    "north_lat = ds_GLOB.geospatial_lat_max"
   ]
  },
  {
   "cell_type": "code",
   "execution_count": 5,
   "id": "159af5ab-dd1e-454f-ab43-427c1bdd486a",
   "metadata": {},
   "outputs": [],
   "source": [
    "# Clip width polygons to current points\n",
    "bbox = box(west_lon, south_lat, east_lon, north_lat)\n",
    "bbox = gpd.GeoDataFrame({'geometry': [bbox]}, crs=\"EPSG:4326\")\n",
    "bbox = bbox.to_crs(epsg='32618')"
   ]
  },
  {
   "cell_type": "code",
   "execution_count": 6,
   "id": "c6182750-b8d3-4ae7-a4d7-ca8712f2d49f",
   "metadata": {},
   "outputs": [],
   "source": [
    "# Read in HUC4 boundaries (no Great Lakes)\n",
    "data_path = '/nas/cee-water/cjgleason/fiona/narrow_rivers_PIXC/data/all_wbd_no_great_lakes.parquet'\n",
    "wbd = gpd.read_parquet(path=data_path)"
   ]
  },
  {
   "cell_type": "code",
   "execution_count": 7,
   "id": "3707408c-0cea-4203-850c-4887a9c8e4c8",
   "metadata": {},
   "outputs": [],
   "source": [
    "# Project CRS\n",
    "wbd = wbd.to_crs(epsg=32618)"
   ]
  },
  {
   "cell_type": "code",
   "execution_count": 8,
   "id": "570eff10-0efc-413e-b8c6-aee8d7fc8c0f",
   "metadata": {},
   "outputs": [],
   "source": [
    "test = gpd.sjoin(wbd, bbox, how='inner', predicate='intersects')"
   ]
  },
  {
   "cell_type": "code",
   "execution_count": 9,
   "id": "b814999e-b658-46bf-aa36-eab8a94fee9c",
   "metadata": {},
   "outputs": [],
   "source": [
    "if test.shape[0] == 0:\n",
    "    print('This granule does not intersect the NHD, exiting.')\n",
    "    # sys.exit()    "
   ]
  },
  {
   "cell_type": "markdown",
   "id": "2e242d24-12de-47ef-9c30-cc9ad42d719d",
   "metadata": {},
   "source": [
    "#### Proceed"
   ]
  },
  {
   "cell_type": "code",
   "execution_count": 10,
   "id": "058bcfde-b2c0-4b5e-a15d-ed63d20ecdb1",
   "metadata": {},
   "outputs": [
    {
     "data": {
      "text/plain": [
       "np.int16(35)"
      ]
     },
     "execution_count": 10,
     "metadata": {},
     "output_type": "execute_result"
    }
   ],
   "source": [
    "pass_num = ds_GLOB.pass_number\n",
    "pass_num"
   ]
  },
  {
   "cell_type": "code",
   "execution_count": 11,
   "id": "6c690a45-fe3d-4390-b62e-d7444564e276",
   "metadata": {},
   "outputs": [
    {
     "data": {
      "text/plain": [
       "'R'"
      ]
     },
     "execution_count": 11,
     "metadata": {},
     "output_type": "execute_result"
    }
   ],
   "source": [
    "swath_side = ds_GLOB.swath_side\n",
    "swath_side"
   ]
  },
  {
   "cell_type": "code",
   "execution_count": 12,
   "id": "aefb478b-ff8b-41b4-9576-0fdf0ba0a9c0",
   "metadata": {},
   "outputs": [],
   "source": [
    "# Read in xarray, pixel group\n",
    "ds_PIXC = xr.open_mfdataset(paths=pixc_path, group = 'pixel_cloud', engine='h5netcdf')"
   ]
  },
  {
   "cell_type": "code",
   "execution_count": 13,
   "id": "993471a7-b1b5-41bc-8401-1a03c47fe554",
   "metadata": {},
   "outputs": [
    {
     "name": "stdout",
     "output_type": "stream",
     "text": [
      "(2996874,)\n"
     ]
    }
   ],
   "source": [
    "# Make mask\n",
    "mask = bitwiseMask(ds_PIXC)\n",
    "\n",
    "if mask.shape[0] == 0:\n",
    "    print('This granule has no pixels after masking, exiting.')\n",
    "    # sys.exit()    "
   ]
  },
  {
   "cell_type": "code",
   "execution_count": 14,
   "id": "daa9c587-4d39-40f3-9a7f-374fed33b165",
   "metadata": {},
   "outputs": [],
   "source": [
    "variables = ['azimuth_index', 'range_index', 'cross_track',\n",
    "             'pixel_area', 'height', 'geoid',\n",
    "             'dlatitude_dphase', 'dlongitude_dphase',\n",
    "             'dheight_dphase', 'classification']"
   ]
  },
  {
   "cell_type": "code",
   "execution_count": 15,
   "id": "37bc9371-c418-4578-851d-950ee3261a55",
   "metadata": {},
   "outputs": [],
   "source": [
    "# Make PIXC into GeoDataFrame\n",
    "gdf_PIXC = makeGDF(ds=ds_PIXC, mask=mask, data_vars=variables)"
   ]
  },
  {
   "cell_type": "markdown",
   "id": "594312a8-11f5-4fcf-b7d3-3d287249187f",
   "metadata": {},
   "source": [
    "### Find correct HUC4"
   ]
  },
  {
   "cell_type": "code",
   "execution_count": 16,
   "id": "f17da233-d1c9-4b2b-97ad-0a240df76e08",
   "metadata": {},
   "outputs": [],
   "source": [
    "# Get index metadata\n",
    "mdata_path = '/nas/cee-water/cjgleason/fiona/narrow_rivers_PIXC/data/'\n",
    "# Define dtypes for lookup tables to preserve leading zeros\n",
    "dtype_dic= {'HUC4': str, 'HUC2': str, 'toBasin': str, 'level': str}\n",
    "# Read in HUC lookup table\n",
    "lookup = pd.read_csv(os.path.join(mdata_path,\n",
    "                                  'HUC4_lookup_no_great_lakes.csv'),\n",
    "                     dtype=dtype_dic)"
   ]
  },
  {
   "cell_type": "code",
   "execution_count": 17,
   "id": "e048b83d-225e-436b-9808-29b32094cd43",
   "metadata": {},
   "outputs": [],
   "source": [
    "# Merge on index metadata\n",
    "wbd = pd.merge(left=wbd, right=lookup, how='inner', left_on='huc4',\n",
    "          right_on='HUC4').drop(columns=['HUC4', 'HUC2', 'toBasin',\n",
    "                                         'level'])"
   ]
  },
  {
   "cell_type": "code",
   "execution_count": 18,
   "id": "b53dd66f-1a79-4b7f-a440-65cbb2f5207e",
   "metadata": {},
   "outputs": [],
   "source": [
    "# Get bounds of PIXC tile\n",
    "bounds_PIXC = gdf_PIXC.union_all().convex_hull\n",
    "gdf_bounds = gpd.GeoDataFrame({'geometry': [bounds_PIXC]}, crs=wbd.crs)"
   ]
  },
  {
   "cell_type": "code",
   "execution_count": 19,
   "id": "10514949-76b1-404c-b690-afca0b8cc31b",
   "metadata": {},
   "outputs": [],
   "source": [
    "# Get slurm indices (from mdata) of basins that intersect PIXC tile\n",
    "indices = gpd.sjoin(wbd, gdf_bounds, how='inner', predicate='intersects')['slurm_index'].to_list()"
   ]
  },
  {
   "cell_type": "markdown",
   "id": "8e4a50c6-9306-4d1e-853a-739263c0fe9e",
   "metadata": {},
   "source": [
    "### Read in HUC4 basins"
   ]
  },
  {
   "cell_type": "code",
   "execution_count": 20,
   "id": "a3024ad7-ba58-4910-8213-74a918a0117f",
   "metadata": {},
   "outputs": [
    {
     "name": "stdout",
     "output_type": "stream",
     "text": [
      "NHDPLUS_H_0107_HU4_GDB\n",
      "read in\n",
      "exploded\n",
      "NHDPLUS_H_0106_HU4_GDB\n",
      "read in\n",
      "exploded\n",
      "NHDPLUS_H_0109_HU4_GDB\n",
      "read in\n",
      "exploded\n"
     ]
    }
   ],
   "source": [
    "# Create merged dataframe of all basins intersected\n",
    "if len(indices) == 1:\n",
    "    # Read prepped NHD\n",
    "    basin, huc4_list, huc2_list = readNHD(index=idx)\n",
    "\n",
    "else:\n",
    "    # Initialize lists\n",
    "    d = []\n",
    "    huc4_list = []\n",
    "    huc2_list = []\n",
    "    \n",
    "    # Loop through indices and store in lists\n",
    "    for idx in indices:\n",
    "\n",
    "        # Read prepped NHD\n",
    "        basin, huc4, huc2 = readNHD(index=idx)\n",
    "\n",
    "        # Append to lists\n",
    "        d.append(basin)\n",
    "        huc4_list.append(huc4)\n",
    "        huc2_list.append(huc2)\n",
    "        \n",
    "    # Merge GeoDataFrames\n",
    "    basin = pd.concat(d)"
   ]
  },
  {
   "cell_type": "code",
   "execution_count": 21,
   "id": "2d85aef5-6afd-400d-9ef4-ce7776e46455",
   "metadata": {},
   "outputs": [],
   "source": [
    "# Project crs\n",
    "basin = basin.to_crs(epsg=32618)"
   ]
  },
  {
   "cell_type": "code",
   "execution_count": 22,
   "id": "68354293-1e8b-4327-889e-2c32a7d584b6",
   "metadata": {},
   "outputs": [],
   "source": [
    "# Buffer with an extra 40 m on each side to be safe\n",
    "basin['buffer'] = basin.buffer(distance=((basin.WidthM/2)+50), cap_style='flat')"
   ]
  },
  {
   "cell_type": "code",
   "execution_count": 23,
   "id": "5548c6b5-dbb6-4057-a10d-031ad6b49120",
   "metadata": {},
   "outputs": [],
   "source": [
    "# Set geometry to buffered reaches\n",
    "basin = basin.set_geometry('buffer')"
   ]
  },
  {
   "cell_type": "code",
   "execution_count": 24,
   "id": "d30b2202-6fc8-441d-a37d-50cca6e4352f",
   "metadata": {},
   "outputs": [],
   "source": [
    "# Get only pixels within buffered reaches\n",
    "gdf_PIXC_clip = gpd.sjoin(gdf_PIXC, basin, how='inner', predicate='within')"
   ]
  },
  {
   "cell_type": "code",
   "execution_count": 25,
   "id": "2f18adb5-7c9a-4548-9900-8046bd621bf4",
   "metadata": {},
   "outputs": [],
   "source": [
    "# Drop unneeded cols\n",
    "gdf_PIXC_clip = gdf_PIXC_clip.drop(columns=['index_right',\n",
    "                                            'Bin', 'GNIS_Name',\n",
    "                                            'LengthKM', 'NHDPlusID',\n",
    "                                            'WidthM', 'geometry_right'])"
   ]
  },
  {
   "cell_type": "markdown",
   "id": "97e0a9cb-0326-4126-8c16-a863f5891f6d",
   "metadata": {
    "tags": []
   },
   "source": [
    "### Nadir track"
   ]
  },
  {
   "cell_type": "code",
   "execution_count": 26,
   "id": "3296b62c-896b-49d9-a09f-9795daaedb2e",
   "metadata": {},
   "outputs": [],
   "source": [
    "# Get single pixel for selecting correct nadir segment\n",
    "pixel = gdf_PIXC_clip.sample(n=1, random_state=0)"
   ]
  },
  {
   "cell_type": "code",
   "execution_count": 27,
   "id": "168c5d57-b010-4ceb-bc75-53556f4c456c",
   "metadata": {},
   "outputs": [
    {
     "data": {
      "text/html": [
       "<div>\n",
       "<style scoped>\n",
       "    .dataframe tbody tr th:only-of-type {\n",
       "        vertical-align: middle;\n",
       "    }\n",
       "\n",
       "    .dataframe tbody tr th {\n",
       "        vertical-align: top;\n",
       "    }\n",
       "\n",
       "    .dataframe thead th {\n",
       "        text-align: right;\n",
       "    }\n",
       "</style>\n",
       "<table border=\"1\" class=\"dataframe\">\n",
       "  <thead>\n",
       "    <tr style=\"text-align: right;\">\n",
       "      <th></th>\n",
       "      <th>points</th>\n",
       "      <th>azimuth_index</th>\n",
       "      <th>range_index</th>\n",
       "      <th>cross_track</th>\n",
       "      <th>pixel_area</th>\n",
       "      <th>height</th>\n",
       "      <th>geoid</th>\n",
       "      <th>dlatitude_dphase</th>\n",
       "      <th>dlongitude_dphase</th>\n",
       "      <th>dheight_dphase</th>\n",
       "      <th>klass</th>\n",
       "      <th>latitude</th>\n",
       "      <th>longitude</th>\n",
       "      <th>geometry</th>\n",
       "    </tr>\n",
       "  </thead>\n",
       "  <tbody>\n",
       "    <tr>\n",
       "      <th>634135</th>\n",
       "      <td>3514024</td>\n",
       "      <td>1213.0</td>\n",
       "      <td>3027.0</td>\n",
       "      <td>50916.714844</td>\n",
       "      <td>253.294296</td>\n",
       "      <td>-28.749895</td>\n",
       "      <td>-27.780602</td>\n",
       "      <td>-0.000268</td>\n",
       "      <td>0.001409</td>\n",
       "      <td>7.700175</td>\n",
       "      <td>3.0</td>\n",
       "      <td>42.738824</td>\n",
       "      <td>-70.818031</td>\n",
       "      <td>POINT (842329.879 4740298.797)</td>\n",
       "    </tr>\n",
       "  </tbody>\n",
       "</table>\n",
       "</div>"
      ],
      "text/plain": [
       "         points  azimuth_index  range_index   cross_track  pixel_area  \\\n",
       "634135  3514024         1213.0       3027.0  50916.714844  253.294296   \n",
       "\n",
       "           height      geoid  dlatitude_dphase  dlongitude_dphase  \\\n",
       "634135 -28.749895 -27.780602         -0.000268           0.001409   \n",
       "\n",
       "        dheight_dphase  klass   latitude  longitude  \\\n",
       "634135        7.700175    3.0  42.738824 -70.818031   \n",
       "\n",
       "                              geometry  \n",
       "634135  POINT (842329.879 4740298.797)  "
      ]
     },
     "execution_count": 27,
     "metadata": {},
     "output_type": "execute_result"
    }
   ],
   "source": [
    "pixel"
   ]
  },
  {
   "cell_type": "code",
   "execution_count": 28,
   "id": "12d4a7bc-45cb-4599-8faf-79a5557d988f",
   "metadata": {},
   "outputs": [],
   "source": [
    "# Get geometry of single pixel\n",
    "pixel_pt = pixel.geometry[pixel.index[0]]"
   ]
  },
  {
   "cell_type": "code",
   "execution_count": 29,
   "id": "07a36cda-f6a3-4fa8-8d9d-92230742ad20",
   "metadata": {},
   "outputs": [],
   "source": [
    "# Read in nadir (science orbit)\n",
    "nadir = gpd.read_file('/nas/cee-water/cjgleason/data/SWOT/swath/swot_science_hr_Aug2021-v05_shapefile_nadir/swot_science_hr_2.0s_4.0s_Aug2021-v5_nadir.shp')"
   ]
  },
  {
   "cell_type": "code",
   "execution_count": 30,
   "id": "163fe415-259e-4c9a-9454-526b737208a6",
   "metadata": {},
   "outputs": [],
   "source": [
    "# Convert CRS to WGS 84 / UTM zone 18N\n",
    "nadir = nadir.to_crs(epsg=32618)"
   ]
  },
  {
   "cell_type": "code",
   "execution_count": 31,
   "id": "16ed2efd-7ef6-432d-bbcb-f93e6dd58a0f",
   "metadata": {},
   "outputs": [],
   "source": [
    "# Find candidate nadir segments\n",
    "candidates = nadir[nadir['ID_PASS'] == pass_num]"
   ]
  },
  {
   "cell_type": "code",
   "execution_count": 32,
   "id": "2a807519-a879-4a08-8aef-28950a8f7f90",
   "metadata": {},
   "outputs": [
    {
     "name": "stderr",
     "output_type": "stream",
     "text": [
      "/work/pi_cjgleason_umass_edu/.conda/envs/narrowPIXC/lib/python3.12/site-packages/geopandas/geodataframe.py:1819: SettingWithCopyWarning: \n",
      "A value is trying to be set on a copy of a slice from a DataFrame.\n",
      "Try using .loc[row_indexer,col_indexer] = value instead\n",
      "\n",
      "See the caveats in the documentation: https://pandas.pydata.org/pandas-docs/stable/user_guide/indexing.html#returning-a-view-versus-a-copy\n",
      "  super().__setitem__(key, value)\n"
     ]
    }
   ],
   "source": [
    "# Find distance from each candidate to single pixel\n",
    "candidates['dist'] = candidates.loc[:,'geometry'].distance(pixel_pt)"
   ]
  },
  {
   "cell_type": "code",
   "execution_count": 33,
   "id": "f7c7f3bb-db90-4ef9-8443-cc419b27c715",
   "metadata": {},
   "outputs": [],
   "source": [
    "# Get nadir segment closest to single pixel\n",
    "nadir_segment = candidates[candidates.dist == candidates.dist.min()]"
   ]
  },
  {
   "cell_type": "code",
   "execution_count": 34,
   "id": "2ce9a642-9447-48bc-ad4d-a72066dfe822",
   "metadata": {},
   "outputs": [],
   "source": [
    "# Get nadir segment geoemtry\n",
    "nadir_segment_ln = nadir_segment.geometry[nadir_segment.index[0]]"
   ]
  },
  {
   "cell_type": "markdown",
   "id": "6af80e8a-07ba-4f91-8636-b12874ac4bd1",
   "metadata": {},
   "source": [
    "### Make pseudo pixels"
   ]
  },
  {
   "cell_type": "code",
   "execution_count": 35,
   "id": "551e670e-f660-4137-b0ad-555e44b9a7a1",
   "metadata": {},
   "outputs": [],
   "source": [
    "# Set along-track pixel resolution\n",
    "azimuth_res = 22 # meters"
   ]
  },
  {
   "cell_type": "code",
   "execution_count": 36,
   "id": "fa5fa3a8-8e3a-4eca-90f9-7386701158a5",
   "metadata": {},
   "outputs": [
    {
     "name": "stdout",
     "output_type": "stream",
     "text": [
      "INFO: Pandarallel will run on 24 workers.\n",
      "INFO: Pandarallel will use Memory file system to transfer data between the main process and workers.\n"
     ]
    }
   ],
   "source": [
    "pandarallel.initialize()"
   ]
  },
  {
   "cell_type": "code",
   "execution_count": 37,
   "id": "b55b182b-82e9-4931-a2f6-bb21f8760149",
   "metadata": {},
   "outputs": [
    {
     "name": "stdout",
     "output_type": "stream",
     "text": [
      "6.569878339767456\n"
     ]
    }
   ],
   "source": [
    "# Make pseudo pixels\n",
    "start = time.time()\n",
    "gdf_PIXC_clip['pseudo_pixel'] = gdf_PIXC_clip.parallel_apply(user_defined_function=makePseudoPixels,\n",
    "                                                         args=(nadir_segment_ln,\n",
    "                                                               azimuth_res),\n",
    "                                                         axis=1)\n",
    "end = time.time()\n",
    "print(end - start)"
   ]
  },
  {
   "cell_type": "code",
   "execution_count": 51,
   "id": "e876d8aa-3055-4632-8cce-098926468f89",
   "metadata": {},
   "outputs": [],
   "source": [
    "pseudo = gdf_PIXC_clip.drop(columns='geometry').set_geometry('pseudo_pixel').set_crs(crs=gdf_PIXC_clip.crs)"
   ]
  },
  {
   "cell_type": "code",
   "execution_count": 100,
   "id": "17fa13af-60b3-461f-9ad7-b4182e728520",
   "metadata": {},
   "outputs": [],
   "source": [
    "# Get bounds of PIXC tile\n",
    "# pseudo_bounds = pseudo.union_all().convex_hull\n",
    "pseudo_bounds = pseudo.total_bounds\n",
    "pseudo_poly = box(pseudo_bounds[0], pseudo_bounds[1],\n",
    "                      pseudo_bounds[2], pseudo_bounds[3])\n",
    "# gdf_pseudo_bounds = gpd.GeoDataFrame({'geometry': [pseudo_bounds]}, crs=pseudo.crs)"
   ]
  },
  {
   "cell_type": "code",
   "execution_count": 38,
   "id": "bcdddc2f-92f9-4f7f-ab5f-de0dd6b9fa18",
   "metadata": {},
   "outputs": [],
   "source": [
    "# save_path = '/nas/cee-water/cjgleason/fiona/narrow_rivers_PIXC_data/PIXC_v2_0_pseudo_pixels_filtered/'"
   ]
  },
  {
   "cell_type": "code",
   "execution_count": 39,
   "id": "0517051b-705f-48a2-b160-d22726c0f8a9",
   "metadata": {},
   "outputs": [],
   "source": [
    "# gdf_PIXC.to_parquet(path=save_path + tile_name + '.parquet')"
   ]
  },
  {
   "cell_type": "markdown",
   "id": "858c7484-d355-4b2e-b0ce-3f33d5fdedff",
   "metadata": {},
   "source": [
    "### Read in segments"
   ]
  },
  {
   "cell_type": "code",
   "execution_count": 40,
   "id": "b7c9cb9a-d551-45ac-a1dd-239a86d63a02",
   "metadata": {},
   "outputs": [
    {
     "name": "stdout",
     "output_type": "stream",
     "text": [
      "read in\n",
      "read in\n",
      "read in\n"
     ]
    }
   ],
   "source": [
    "# Create merged dataframe of all basins intersected\n",
    "if len(indices) == 1:\n",
    "    # Read prepped NHD\n",
    "    segments, _, _ = readSegments(index=idx)\n",
    "\n",
    "else:\n",
    "    # Initialize lists\n",
    "    d = []\n",
    "    \n",
    "    # Loop through indices and store in lists\n",
    "    for idx in indices:\n",
    "\n",
    "        # Read prepped NHD\n",
    "        segments, _, _ = readSegments(index=idx)\n",
    "        # Append to list\n",
    "        d.append(segments)\n",
    "        \n",
    "    # Merge GeoDataFrames\n",
    "    segments = pd.concat(d)"
   ]
  },
  {
   "cell_type": "code",
   "execution_count": 44,
   "id": "a534f6b9-3e6e-4cec-92c5-8c5d56f5fd60",
   "metadata": {},
   "outputs": [],
   "source": [
    "segments = segments.to_crs(epsg='32618')"
   ]
  },
  {
   "cell_type": "code",
   "execution_count": 90,
   "id": "ff1ab870-8a1e-40f2-ac46-aaf7d26d3cb2",
   "metadata": {},
   "outputs": [],
   "source": [
    "segments_clip = segments.clip(pseudo_bounds)"
   ]
  },
  {
   "cell_type": "code",
   "execution_count": 102,
   "id": "72b23d5b-c680-4388-a058-13125df8cadb",
   "metadata": {},
   "outputs": [
    {
     "data": {
      "text/html": [
       "<div>\n",
       "<style scoped>\n",
       "    .dataframe tbody tr th:only-of-type {\n",
       "        vertical-align: middle;\n",
       "    }\n",
       "\n",
       "    .dataframe tbody tr th {\n",
       "        vertical-align: top;\n",
       "    }\n",
       "\n",
       "    .dataframe thead th {\n",
       "        text-align: right;\n",
       "    }\n",
       "</style>\n",
       "<table border=\"1\" class=\"dataframe\">\n",
       "  <thead>\n",
       "    <tr style=\"text-align: right;\">\n",
       "      <th></th>\n",
       "      <th>Bin</th>\n",
       "      <th>GNIS_Name</th>\n",
       "      <th>LengthKM</th>\n",
       "      <th>NHDPlusID</th>\n",
       "      <th>WidthM</th>\n",
       "      <th>segments</th>\n",
       "    </tr>\n",
       "  </thead>\n",
       "  <tbody>\n",
       "    <tr>\n",
       "      <th>5544</th>\n",
       "      <td>(0, 10]</td>\n",
       "      <td>None</td>\n",
       "      <td>0.558</td>\n",
       "      <td>5.000700e+12</td>\n",
       "      <td>1.672232</td>\n",
       "      <td>LINESTRING (822724.851 4719272.715, 822719.726...</td>\n",
       "    </tr>\n",
       "    <tr>\n",
       "      <th>5544</th>\n",
       "      <td>(0, 10]</td>\n",
       "      <td>None</td>\n",
       "      <td>0.558</td>\n",
       "      <td>5.000700e+12</td>\n",
       "      <td>1.672232</td>\n",
       "      <td>LINESTRING (822670.703 4719284.646, 822615.166...</td>\n",
       "    </tr>\n",
       "    <tr>\n",
       "      <th>5544</th>\n",
       "      <td>(0, 10]</td>\n",
       "      <td>None</td>\n",
       "      <td>0.558</td>\n",
       "      <td>5.000700e+12</td>\n",
       "      <td>1.672232</td>\n",
       "      <td>LINESTRING (822776.243 4719293.569, 822730.561...</td>\n",
       "    </tr>\n",
       "    <tr>\n",
       "      <th>5544</th>\n",
       "      <td>(0, 10]</td>\n",
       "      <td>None</td>\n",
       "      <td>0.558</td>\n",
       "      <td>5.000700e+12</td>\n",
       "      <td>1.672232</td>\n",
       "      <td>LINESTRING (822615.077 4719277.205, 822605.495...</td>\n",
       "    </tr>\n",
       "    <tr>\n",
       "      <th>5544</th>\n",
       "      <td>(0, 10]</td>\n",
       "      <td>None</td>\n",
       "      <td>0.558</td>\n",
       "      <td>5.000700e+12</td>\n",
       "      <td>1.672232</td>\n",
       "      <td>LINESTRING (822933.027 4719279.359, 822889.605...</td>\n",
       "    </tr>\n",
       "    <tr>\n",
       "      <th>...</th>\n",
       "      <td>...</td>\n",
       "      <td>...</td>\n",
       "      <td>...</td>\n",
       "      <td>...</td>\n",
       "      <td>...</td>\n",
       "      <td>...</td>\n",
       "    </tr>\n",
       "    <tr>\n",
       "      <th>16028</th>\n",
       "      <td>(0, 10]</td>\n",
       "      <td>York River</td>\n",
       "      <td>1.915</td>\n",
       "      <td>5.000600e+12</td>\n",
       "      <td>8.728796</td>\n",
       "      <td>LINESTRING (845027.681 4787168.946, 845051.96 ...</td>\n",
       "    </tr>\n",
       "    <tr>\n",
       "      <th>16028</th>\n",
       "      <td>(0, 10]</td>\n",
       "      <td>York River</td>\n",
       "      <td>1.915</td>\n",
       "      <td>5.000600e+12</td>\n",
       "      <td>8.728796</td>\n",
       "      <td>LINESTRING (844884.028 4787277.778, 844895.678...</td>\n",
       "    </tr>\n",
       "    <tr>\n",
       "      <th>17472</th>\n",
       "      <td>(0, 10]</td>\n",
       "      <td>York River</td>\n",
       "      <td>2.449</td>\n",
       "      <td>5.000600e+12</td>\n",
       "      <td>7.971184</td>\n",
       "      <td>LINESTRING (844981.615 4787648.01, 844983.616 ...</td>\n",
       "    </tr>\n",
       "    <tr>\n",
       "      <th>15645</th>\n",
       "      <td>(0, 10]</td>\n",
       "      <td>Rogers Brook</td>\n",
       "      <td>3.893</td>\n",
       "      <td>5.000600e+12</td>\n",
       "      <td>4.011965</td>\n",
       "      <td>LINESTRING (845194.975 4788511.416, 845235.064...</td>\n",
       "    </tr>\n",
       "    <tr>\n",
       "      <th>15645</th>\n",
       "      <td>(0, 10]</td>\n",
       "      <td>Rogers Brook</td>\n",
       "      <td>3.893</td>\n",
       "      <td>5.000600e+12</td>\n",
       "      <td>4.011965</td>\n",
       "      <td>LINESTRING (845032.952 4788705.919, 845027.958...</td>\n",
       "    </tr>\n",
       "  </tbody>\n",
       "</table>\n",
       "<p>105748 rows × 6 columns</p>\n",
       "</div>"
      ],
      "text/plain": [
       "           Bin     GNIS_Name  LengthKM     NHDPlusID    WidthM  \\\n",
       "5544   (0, 10]          None     0.558  5.000700e+12  1.672232   \n",
       "5544   (0, 10]          None     0.558  5.000700e+12  1.672232   \n",
       "5544   (0, 10]          None     0.558  5.000700e+12  1.672232   \n",
       "5544   (0, 10]          None     0.558  5.000700e+12  1.672232   \n",
       "5544   (0, 10]          None     0.558  5.000700e+12  1.672232   \n",
       "...        ...           ...       ...           ...       ...   \n",
       "16028  (0, 10]    York River     1.915  5.000600e+12  8.728796   \n",
       "16028  (0, 10]    York River     1.915  5.000600e+12  8.728796   \n",
       "17472  (0, 10]    York River     2.449  5.000600e+12  7.971184   \n",
       "15645  (0, 10]  Rogers Brook     3.893  5.000600e+12  4.011965   \n",
       "15645  (0, 10]  Rogers Brook     3.893  5.000600e+12  4.011965   \n",
       "\n",
       "                                                segments  \n",
       "5544   LINESTRING (822724.851 4719272.715, 822719.726...  \n",
       "5544   LINESTRING (822670.703 4719284.646, 822615.166...  \n",
       "5544   LINESTRING (822776.243 4719293.569, 822730.561...  \n",
       "5544   LINESTRING (822615.077 4719277.205, 822605.495...  \n",
       "5544   LINESTRING (822933.027 4719279.359, 822889.605...  \n",
       "...                                                  ...  \n",
       "16028  LINESTRING (845027.681 4787168.946, 845051.96 ...  \n",
       "16028  LINESTRING (844884.028 4787277.778, 844895.678...  \n",
       "17472  LINESTRING (844981.615 4787648.01, 844983.616 ...  \n",
       "15645  LINESTRING (845194.975 4788511.416, 845235.064...  \n",
       "15645  LINESTRING (845032.952 4788705.919, 845027.958...  \n",
       "\n",
       "[105748 rows x 6 columns]"
      ]
     },
     "execution_count": 102,
     "metadata": {},
     "output_type": "execute_result"
    }
   ],
   "source": [
    "segments_clip"
   ]
  },
  {
   "cell_type": "code",
   "execution_count": 105,
   "id": "49278940-79eb-4e8c-a20f-e484963773c9",
   "metadata": {},
   "outputs": [],
   "source": [
    "segments['index1'] = segments.index"
   ]
  },
  {
   "cell_type": "code",
   "execution_count": 106,
   "id": "7de9edc6-0a36-4876-b139-1cc8745d9d57",
   "metadata": {},
   "outputs": [
    {
     "data": {
      "text/html": [
       "<div>\n",
       "<style scoped>\n",
       "    .dataframe tbody tr th:only-of-type {\n",
       "        vertical-align: middle;\n",
       "    }\n",
       "\n",
       "    .dataframe tbody tr th {\n",
       "        vertical-align: top;\n",
       "    }\n",
       "\n",
       "    .dataframe thead th {\n",
       "        text-align: right;\n",
       "    }\n",
       "</style>\n",
       "<table border=\"1\" class=\"dataframe\">\n",
       "  <thead>\n",
       "    <tr style=\"text-align: right;\">\n",
       "      <th></th>\n",
       "      <th>Bin</th>\n",
       "      <th>GNIS_Name</th>\n",
       "      <th>LengthKM</th>\n",
       "      <th>NHDPlusID</th>\n",
       "      <th>WidthM</th>\n",
       "      <th>segments</th>\n",
       "      <th>index1</th>\n",
       "    </tr>\n",
       "  </thead>\n",
       "  <tbody>\n",
       "    <tr>\n",
       "      <th>0</th>\n",
       "      <td>(0, 10]</td>\n",
       "      <td>None</td>\n",
       "      <td>0.221</td>\n",
       "      <td>5.000900e+12</td>\n",
       "      <td>2.356104</td>\n",
       "      <td>LINESTRING (740161.42 4790619.761, 740152.358 ...</td>\n",
       "      <td>0</td>\n",
       "    </tr>\n",
       "    <tr>\n",
       "      <th>0</th>\n",
       "      <td>(0, 10]</td>\n",
       "      <td>None</td>\n",
       "      <td>0.221</td>\n",
       "      <td>5.000900e+12</td>\n",
       "      <td>2.356104</td>\n",
       "      <td>LINESTRING (740150.119 4790638.721, 740145.984...</td>\n",
       "      <td>0</td>\n",
       "    </tr>\n",
       "    <tr>\n",
       "      <th>0</th>\n",
       "      <td>(0, 10]</td>\n",
       "      <td>None</td>\n",
       "      <td>0.221</td>\n",
       "      <td>5.000900e+12</td>\n",
       "      <td>2.356104</td>\n",
       "      <td>LINESTRING (740133.563 4790653.398, 740120.86 ...</td>\n",
       "      <td>0</td>\n",
       "    </tr>\n",
       "    <tr>\n",
       "      <th>0</th>\n",
       "      <td>(0, 10]</td>\n",
       "      <td>None</td>\n",
       "      <td>0.221</td>\n",
       "      <td>5.000900e+12</td>\n",
       "      <td>2.356104</td>\n",
       "      <td>LINESTRING (740115.711 4790666.402, 740114.042...</td>\n",
       "      <td>0</td>\n",
       "    </tr>\n",
       "    <tr>\n",
       "      <th>0</th>\n",
       "      <td>(0, 10]</td>\n",
       "      <td>None</td>\n",
       "      <td>0.221</td>\n",
       "      <td>5.000900e+12</td>\n",
       "      <td>2.356104</td>\n",
       "      <td>LINESTRING (740093.841 4790669.566, 740083.427...</td>\n",
       "      <td>0</td>\n",
       "    </tr>\n",
       "    <tr>\n",
       "      <th>...</th>\n",
       "      <td>...</td>\n",
       "      <td>...</td>\n",
       "      <td>...</td>\n",
       "      <td>...</td>\n",
       "      <td>...</td>\n",
       "      <td>...</td>\n",
       "      <td>...</td>\n",
       "    </tr>\n",
       "    <tr>\n",
       "      <th>26407</th>\n",
       "      <td>(0, 10]</td>\n",
       "      <td>None</td>\n",
       "      <td>0.215</td>\n",
       "      <td>5.000700e+12</td>\n",
       "      <td>7.173304</td>\n",
       "      <td>LINESTRING (847688.595 4627231.959, 847707.46 ...</td>\n",
       "      <td>26407</td>\n",
       "    </tr>\n",
       "    <tr>\n",
       "      <th>26407</th>\n",
       "      <td>(0, 10]</td>\n",
       "      <td>None</td>\n",
       "      <td>0.215</td>\n",
       "      <td>5.000700e+12</td>\n",
       "      <td>7.173304</td>\n",
       "      <td>LINESTRING (847707.46 4627242.562, 847714.371 ...</td>\n",
       "      <td>26407</td>\n",
       "    </tr>\n",
       "    <tr>\n",
       "      <th>26407</th>\n",
       "      <td>(0, 10]</td>\n",
       "      <td>None</td>\n",
       "      <td>0.215</td>\n",
       "      <td>5.000700e+12</td>\n",
       "      <td>7.173304</td>\n",
       "      <td>LINESTRING (847726.889 4627252.051, 847746.645...</td>\n",
       "      <td>26407</td>\n",
       "    </tr>\n",
       "    <tr>\n",
       "      <th>26407</th>\n",
       "      <td>(0, 10]</td>\n",
       "      <td>None</td>\n",
       "      <td>0.215</td>\n",
       "      <td>5.000700e+12</td>\n",
       "      <td>7.173304</td>\n",
       "      <td>LINESTRING (847746.645 4627260.896, 847763.411...</td>\n",
       "      <td>26407</td>\n",
       "    </tr>\n",
       "    <tr>\n",
       "      <th>26407</th>\n",
       "      <td>(0, 10]</td>\n",
       "      <td>None</td>\n",
       "      <td>0.215</td>\n",
       "      <td>5.000700e+12</td>\n",
       "      <td>7.173304</td>\n",
       "      <td>LINESTRING (847766.133 4627270.221, 847784.121...</td>\n",
       "      <td>26407</td>\n",
       "    </tr>\n",
       "  </tbody>\n",
       "</table>\n",
       "<p>686720 rows × 7 columns</p>\n",
       "</div>"
      ],
      "text/plain": [
       "           Bin GNIS_Name  LengthKM     NHDPlusID    WidthM  \\\n",
       "0      (0, 10]      None     0.221  5.000900e+12  2.356104   \n",
       "0      (0, 10]      None     0.221  5.000900e+12  2.356104   \n",
       "0      (0, 10]      None     0.221  5.000900e+12  2.356104   \n",
       "0      (0, 10]      None     0.221  5.000900e+12  2.356104   \n",
       "0      (0, 10]      None     0.221  5.000900e+12  2.356104   \n",
       "...        ...       ...       ...           ...       ...   \n",
       "26407  (0, 10]      None     0.215  5.000700e+12  7.173304   \n",
       "26407  (0, 10]      None     0.215  5.000700e+12  7.173304   \n",
       "26407  (0, 10]      None     0.215  5.000700e+12  7.173304   \n",
       "26407  (0, 10]      None     0.215  5.000700e+12  7.173304   \n",
       "26407  (0, 10]      None     0.215  5.000700e+12  7.173304   \n",
       "\n",
       "                                                segments  index1  \n",
       "0      LINESTRING (740161.42 4790619.761, 740152.358 ...       0  \n",
       "0      LINESTRING (740150.119 4790638.721, 740145.984...       0  \n",
       "0      LINESTRING (740133.563 4790653.398, 740120.86 ...       0  \n",
       "0      LINESTRING (740115.711 4790666.402, 740114.042...       0  \n",
       "0      LINESTRING (740093.841 4790669.566, 740083.427...       0  \n",
       "...                                                  ...     ...  \n",
       "26407  LINESTRING (847688.595 4627231.959, 847707.46 ...   26407  \n",
       "26407  LINESTRING (847707.46 4627242.562, 847714.371 ...   26407  \n",
       "26407  LINESTRING (847726.889 4627252.051, 847746.645...   26407  \n",
       "26407  LINESTRING (847746.645 4627260.896, 847763.411...   26407  \n",
       "26407  LINESTRING (847766.133 4627270.221, 847784.121...   26407  \n",
       "\n",
       "[686720 rows x 7 columns]"
      ]
     },
     "execution_count": 106,
     "metadata": {},
     "output_type": "execute_result"
    }
   ],
   "source": [
    "segments"
   ]
  },
  {
   "cell_type": "code",
   "execution_count": 103,
   "id": "4882f66c-92ff-4dd8-8d2c-561e6275e796",
   "metadata": {},
   "outputs": [
    {
     "data": {
      "text/html": [
       "<div>\n",
       "<style scoped>\n",
       "    .dataframe tbody tr th:only-of-type {\n",
       "        vertical-align: middle;\n",
       "    }\n",
       "\n",
       "    .dataframe tbody tr th {\n",
       "        vertical-align: top;\n",
       "    }\n",
       "\n",
       "    .dataframe thead th {\n",
       "        text-align: right;\n",
       "    }\n",
       "</style>\n",
       "<table border=\"1\" class=\"dataframe\">\n",
       "  <thead>\n",
       "    <tr style=\"text-align: right;\">\n",
       "      <th></th>\n",
       "      <th>Bin</th>\n",
       "      <th>GNIS_Name</th>\n",
       "      <th>LengthKM</th>\n",
       "      <th>WidthM</th>\n",
       "      <th>segments</th>\n",
       "    </tr>\n",
       "    <tr>\n",
       "      <th>NHDPlusID</th>\n",
       "      <th></th>\n",
       "      <th></th>\n",
       "      <th></th>\n",
       "      <th></th>\n",
       "      <th></th>\n",
       "    </tr>\n",
       "  </thead>\n",
       "  <tbody>\n",
       "    <tr>\n",
       "      <th>5.000900e+12</th>\n",
       "      <td>(0, 10]</td>\n",
       "      <td>None</td>\n",
       "      <td>0.221</td>\n",
       "      <td>2.356104</td>\n",
       "      <td>LINESTRING (740161.42 4790619.761, 740152.358 ...</td>\n",
       "    </tr>\n",
       "    <tr>\n",
       "      <th>5.000900e+12</th>\n",
       "      <td>(0, 10]</td>\n",
       "      <td>None</td>\n",
       "      <td>0.221</td>\n",
       "      <td>2.356104</td>\n",
       "      <td>LINESTRING (740150.119 4790638.721, 740145.984...</td>\n",
       "    </tr>\n",
       "    <tr>\n",
       "      <th>5.000900e+12</th>\n",
       "      <td>(0, 10]</td>\n",
       "      <td>None</td>\n",
       "      <td>0.221</td>\n",
       "      <td>2.356104</td>\n",
       "      <td>LINESTRING (740133.563 4790653.398, 740120.86 ...</td>\n",
       "    </tr>\n",
       "    <tr>\n",
       "      <th>5.000900e+12</th>\n",
       "      <td>(0, 10]</td>\n",
       "      <td>None</td>\n",
       "      <td>0.221</td>\n",
       "      <td>2.356104</td>\n",
       "      <td>LINESTRING (740115.711 4790666.402, 740114.042...</td>\n",
       "    </tr>\n",
       "    <tr>\n",
       "      <th>5.000900e+12</th>\n",
       "      <td>(0, 10]</td>\n",
       "      <td>None</td>\n",
       "      <td>0.221</td>\n",
       "      <td>2.356104</td>\n",
       "      <td>LINESTRING (740093.841 4790669.566, 740083.427...</td>\n",
       "    </tr>\n",
       "    <tr>\n",
       "      <th>...</th>\n",
       "      <td>...</td>\n",
       "      <td>...</td>\n",
       "      <td>...</td>\n",
       "      <td>...</td>\n",
       "      <td>...</td>\n",
       "    </tr>\n",
       "    <tr>\n",
       "      <th>5.000700e+12</th>\n",
       "      <td>(0, 10]</td>\n",
       "      <td>None</td>\n",
       "      <td>0.215</td>\n",
       "      <td>7.173304</td>\n",
       "      <td>LINESTRING (847688.595 4627231.959, 847707.46 ...</td>\n",
       "    </tr>\n",
       "    <tr>\n",
       "      <th>5.000700e+12</th>\n",
       "      <td>(0, 10]</td>\n",
       "      <td>None</td>\n",
       "      <td>0.215</td>\n",
       "      <td>7.173304</td>\n",
       "      <td>LINESTRING (847707.46 4627242.562, 847714.371 ...</td>\n",
       "    </tr>\n",
       "    <tr>\n",
       "      <th>5.000700e+12</th>\n",
       "      <td>(0, 10]</td>\n",
       "      <td>None</td>\n",
       "      <td>0.215</td>\n",
       "      <td>7.173304</td>\n",
       "      <td>LINESTRING (847726.889 4627252.051, 847746.645...</td>\n",
       "    </tr>\n",
       "    <tr>\n",
       "      <th>5.000700e+12</th>\n",
       "      <td>(0, 10]</td>\n",
       "      <td>None</td>\n",
       "      <td>0.215</td>\n",
       "      <td>7.173304</td>\n",
       "      <td>LINESTRING (847746.645 4627260.896, 847763.411...</td>\n",
       "    </tr>\n",
       "    <tr>\n",
       "      <th>5.000700e+12</th>\n",
       "      <td>(0, 10]</td>\n",
       "      <td>None</td>\n",
       "      <td>0.215</td>\n",
       "      <td>7.173304</td>\n",
       "      <td>LINESTRING (847766.133 4627270.221, 847784.121...</td>\n",
       "    </tr>\n",
       "  </tbody>\n",
       "</table>\n",
       "<p>686720 rows × 5 columns</p>\n",
       "</div>"
      ],
      "text/plain": [
       "                  Bin GNIS_Name  LengthKM    WidthM  \\\n",
       "NHDPlusID                                             \n",
       "5.000900e+12  (0, 10]      None     0.221  2.356104   \n",
       "5.000900e+12  (0, 10]      None     0.221  2.356104   \n",
       "5.000900e+12  (0, 10]      None     0.221  2.356104   \n",
       "5.000900e+12  (0, 10]      None     0.221  2.356104   \n",
       "5.000900e+12  (0, 10]      None     0.221  2.356104   \n",
       "...               ...       ...       ...       ...   \n",
       "5.000700e+12  (0, 10]      None     0.215  7.173304   \n",
       "5.000700e+12  (0, 10]      None     0.215  7.173304   \n",
       "5.000700e+12  (0, 10]      None     0.215  7.173304   \n",
       "5.000700e+12  (0, 10]      None     0.215  7.173304   \n",
       "5.000700e+12  (0, 10]      None     0.215  7.173304   \n",
       "\n",
       "                                                       segments  \n",
       "NHDPlusID                                                        \n",
       "5.000900e+12  LINESTRING (740161.42 4790619.761, 740152.358 ...  \n",
       "5.000900e+12  LINESTRING (740150.119 4790638.721, 740145.984...  \n",
       "5.000900e+12  LINESTRING (740133.563 4790653.398, 740120.86 ...  \n",
       "5.000900e+12  LINESTRING (740115.711 4790666.402, 740114.042...  \n",
       "5.000900e+12  LINESTRING (740093.841 4790669.566, 740083.427...  \n",
       "...                                                         ...  \n",
       "5.000700e+12  LINESTRING (847688.595 4627231.959, 847707.46 ...  \n",
       "5.000700e+12  LINESTRING (847707.46 4627242.562, 847714.371 ...  \n",
       "5.000700e+12  LINESTRING (847726.889 4627252.051, 847746.645...  \n",
       "5.000700e+12  LINESTRING (847746.645 4627260.896, 847763.411...  \n",
       "5.000700e+12  LINESTRING (847766.133 4627270.221, 847784.121...  \n",
       "\n",
       "[686720 rows x 5 columns]"
      ]
     },
     "execution_count": 103,
     "metadata": {},
     "output_type": "execute_result"
    }
   ],
   "source": [
    "segments.set_index('NHDPlusID')"
   ]
  }
 ],
 "metadata": {
  "kernelspec": {
   "display_name": "Python [conda env:.conda-narrowPIXC]",
   "language": "python",
   "name": "conda-env-.conda-narrowPIXC-py"
  },
  "language_info": {
   "codemirror_mode": {
    "name": "ipython",
    "version": 3
   },
   "file_extension": ".py",
   "mimetype": "text/x-python",
   "name": "python",
   "nbconvert_exporter": "python",
   "pygments_lexer": "ipython3",
   "version": "3.12.4"
  }
 },
 "nbformat": 4,
 "nbformat_minor": 5
}
