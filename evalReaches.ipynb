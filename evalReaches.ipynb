{
 "cells": [
  {
   "cell_type": "code",
   "execution_count": 1,
   "id": "5f2fc575-e3a7-4df6-911a-425063258532",
   "metadata": {},
   "outputs": [],
   "source": [
    "# import fiona\n",
    "from shapely.geometry import *\n",
    "from shapely.wkt import loads\n",
    "# from shapely import LineString, MultiPoint\n",
    "# from shapely.ops import nearest_points, split, snap, unary_union\n",
    "\n",
    "import contextily as cx\n",
    "# import earthaccess\n",
    "import geopandas as gpd\n",
    "import matplotlib.pyplot as plt\n",
    "import numpy as np\n",
    "import os\n",
    "import pandas as pd\n",
    "import xarray as xr\n",
    "# import shapely"
   ]
  },
  {
   "cell_type": "markdown",
   "id": "68f3357c-1d21-45e5-82ad-b2eec6001670",
   "metadata": {
    "tags": []
   },
   "source": [
    "#### Functions"
   ]
  },
  {
   "cell_type": "code",
   "execution_count": 2,
   "id": "1cf4b0a2-4d04-492f-a38a-73315d297670",
   "metadata": {
    "tags": []
   },
   "outputs": [],
   "source": [
    "def readNHD(index):\n",
    "    ## Set-up\n",
    "    mdata_path = '/nas/cee-water/cjgleason/fiona/narrow_rivers_PIXC/data/'\n",
    "    prep_path = '/nas/cee-water/cjgleason/fiona/narrow_rivers_PIXC_data/NHD_prepped/' # _with_waterbody\n",
    "\n",
    "    # Define dtypes for lookup tables to preserve leading zeros\n",
    "    dtype_dic= {'HUC4': str, 'HUC2': str, 'toBasin': str, 'level': str}\n",
    "    # Read in HUC lookup table\n",
    "    lookup = pd.read_csv(os.path.join(mdata_path, 'HUC4_lookup_no_great_lakes.csv'), dtype=dtype_dic)\n",
    "\n",
    "    # Get current HUC2 and HUC4 IDs\n",
    "    hu2 = 'HUC2_' + lookup.loc[index,'HUC4'][0:2]\n",
    "    hu4 = 'NHDPLUS_H_' + lookup.loc[index,'HUC4'] + '_HU4_GDB'\n",
    "    \n",
    "    # Set data filepath\n",
    "    file_path = os.path.join(prep_path, hu2, hu4 + '_prepped.gpkg') # _with_waterbody\n",
    "\n",
    "    ## Read in prepped NHD flowlines\n",
    "    features = ['NHDPlusID', 'GNIS_Name', 'LengthKM', 'WidthM', 'Bin', 'geometry']\n",
    "    basin = gpd.read_file(filename=file_path, columns=features, engine='pyogrio')\n",
    "    \n",
    "    # Make geometry 2D LineStrings\n",
    "    basin['geometry'] = basin.geometry.explode().force_2d()\n",
    "    return basin"
   ]
  },
  {
   "cell_type": "code",
   "execution_count": 3,
   "id": "d4c01c8b-252f-4085-95ba-e99a6d142f16",
   "metadata": {},
   "outputs": [],
   "source": [
    "def cut(line, distance):\n",
    "    # Cuts a line in two at a distance from its starting point\n",
    "    # Returns the trimmed piece and the remainder of the linestring\n",
    "    if distance <= 0.0 or distance >= line.length:\n",
    "        return [LineString(line)]\n",
    "    coords = list(line.coords)\n",
    "    for i, p in enumerate(coords):\n",
    "        pd = line.project(Point(p))\n",
    "        if pd == distance:\n",
    "            return [\n",
    "                LineString(coords[:i+1]),\n",
    "                LineString(coords[i:])]\n",
    "        if pd > distance:\n",
    "            cp = line.interpolate(distance)\n",
    "            return [\n",
    "                LineString(coords[:i] + [(cp.x, cp.y)]),\n",
    "                LineString([(cp.x, cp.y)] + coords[i:])]"
   ]
  },
  {
   "cell_type": "code",
   "execution_count": 4,
   "id": "f9be8e4a-31cf-4195-a5d1-3312564a1199",
   "metadata": {},
   "outputs": [],
   "source": [
    "def bitwiseMask(ds):\n",
    "    # Fow now, remove pixels with land classification and\n",
    "    # geolocation_qual very not good\n",
    "    # See page 65 of PIXC PDD: https://podaac.jpl.nasa.gov/SWOT?tab=datasets-information&sections=about%2Bdata\n",
    "    mask = np.where(np.logical_and(ds.classification > 1, ds.geolocation_qual < 2**12))[0]\n",
    "    print(mask.shape)\n",
    "    return mask"
   ]
  },
  {
   "cell_type": "code",
   "execution_count": 5,
   "id": "094710c1-3bf3-4477-bf64-7b4a85623a1c",
   "metadata": {},
   "outputs": [],
   "source": [
    "def makeGDF(ds, mask, data_var):\n",
    "    # This function takes the pixel cloud, makes a GeoDataFrame,\n",
    "    # renames columns as needed, projects the CRS, and returns\n",
    "    # the GDF \n",
    "\n",
    "    # Create GDF\n",
    "    gdf_PIXC = gpd.GeoDataFrame(ds[data_var][mask],\n",
    "                                geometry=gpd.points_from_xy(\n",
    "                                    ds.longitude[mask],\n",
    "                                    ds.latitude[mask]),\n",
    "                                crs=\"EPSG:4326\") # PIXC has no native CRS, setting same as River_SP\n",
    "\n",
    "    if data_var == 'classification':\n",
    "        gdf_PIXC.rename(columns={gdf_PIXC.columns[0]: 'klass'}, inplace=True)\n",
    "    else:\n",
    "        gdf_PIXC.rename(columns={gdf_PIXC.columns[0]: data_var}, inplace=True)\n",
    "    \n",
    "    # Convert the crs to WGS 84 / Pseudo-Mercator\n",
    "    gdf_PIXC = gdf_PIXC.to_crs(epsg=3857)\n",
    "    return gdf_PIXC"
   ]
  },
  {
   "cell_type": "code",
   "execution_count": 61,
   "id": "f9ed897d-426e-4bed-beed-9f6c269e62db",
   "metadata": {},
   "outputs": [],
   "source": [
    "def segmentReach(reach):\n",
    "'''\n",
    "Ths function XXX\n",
    "'''\n",
    "    # Get linestring\n",
    "    line = reach.geometry\n",
    "    # Find length of segments\n",
    "    dist = line.length/10\n",
    "    \n",
    "    # Make empty list for segments\n",
    "    segments = []\n",
    "\n",
    "    # Segment the reach\n",
    "    for i in range(9):\n",
    "        # Chop the reach, store remainder\n",
    "        new, line = cut(line=line, distance=dist)\n",
    "        # Append new segment to GeoSeries of all segments\n",
    "        segments.append(new)\n",
    "        # segments[i]: new\n",
    "    \n",
    "    # Append final segment to list\n",
    "    segments.append(line)\n",
    "\n",
    "    return segments"
   ]
  },
  {
   "cell_type": "markdown",
   "id": "01c09a65-57ec-4828-8064-c0d2ff98990f",
   "metadata": {},
   "source": [
    "**TESTING**"
   ]
  },
  {
   "cell_type": "code",
   "execution_count": 122,
   "id": "78a94616-a0fe-47d9-84d9-5cdb32f86c18",
   "metadata": {},
   "outputs": [
    {
     "data": {
      "text/html": [
       "<div>\n",
       "<style scoped>\n",
       "    .dataframe tbody tr th:only-of-type {\n",
       "        vertical-align: middle;\n",
       "    }\n",
       "\n",
       "    .dataframe tbody tr th {\n",
       "        vertical-align: top;\n",
       "    }\n",
       "\n",
       "    .dataframe thead th {\n",
       "        text-align: right;\n",
       "    }\n",
       "</style>\n",
       "<table border=\"1\" class=\"dataframe\">\n",
       "  <thead>\n",
       "    <tr style=\"text-align: right;\">\n",
       "      <th></th>\n",
       "      <th>Bin</th>\n",
       "      <th>GNIS_Name</th>\n",
       "      <th>LengthKM</th>\n",
       "      <th>NHDPlusID</th>\n",
       "      <th>WidthM</th>\n",
       "      <th>geometry</th>\n",
       "    </tr>\n",
       "  </thead>\n",
       "  <tbody>\n",
       "    <tr>\n",
       "      <th>7656</th>\n",
       "      <td>(0, 10]</td>\n",
       "      <td>None</td>\n",
       "      <td>0.037</td>\n",
       "      <td>1.000090e+13</td>\n",
       "      <td>1.344763</td>\n",
       "      <td>LINESTRING (-8042697.158 5173579.407, -8042703...</td>\n",
       "    </tr>\n",
       "    <tr>\n",
       "      <th>13431</th>\n",
       "      <td>(0, 10]</td>\n",
       "      <td>None</td>\n",
       "      <td>0.192</td>\n",
       "      <td>1.000090e+13</td>\n",
       "      <td>5.710564</td>\n",
       "      <td>LINESTRING (-8038777.874 5203098.395, -8038777...</td>\n",
       "    </tr>\n",
       "    <tr>\n",
       "      <th>20673</th>\n",
       "      <td>(10, 20]</td>\n",
       "      <td>Chicopee Brook</td>\n",
       "      <td>1.076</td>\n",
       "      <td>1.000090e+13</td>\n",
       "      <td>16.984419</td>\n",
       "      <td>LINESTRING (-8050050.15 5182051.861, -8050035....</td>\n",
       "    </tr>\n",
       "    <tr>\n",
       "      <th>20201</th>\n",
       "      <td>(0, 10]</td>\n",
       "      <td>None</td>\n",
       "      <td>0.287</td>\n",
       "      <td>1.000090e+13</td>\n",
       "      <td>2.141918</td>\n",
       "      <td>LINESTRING (-8059423.25 5165463.762, -8059419....</td>\n",
       "    </tr>\n",
       "    <tr>\n",
       "      <th>7664</th>\n",
       "      <td>(0, 10]</td>\n",
       "      <td>None</td>\n",
       "      <td>0.472</td>\n",
       "      <td>1.000090e+13</td>\n",
       "      <td>1.620911</td>\n",
       "      <td>LINESTRING (-8040738.198 5190563.162, -8040743...</td>\n",
       "    </tr>\n",
       "  </tbody>\n",
       "</table>\n",
       "</div>"
      ],
      "text/plain": [
       "            Bin       GNIS_Name  LengthKM     NHDPlusID     WidthM  \\\n",
       "7656    (0, 10]            None     0.037  1.000090e+13   1.344763   \n",
       "13431   (0, 10]            None     0.192  1.000090e+13   5.710564   \n",
       "20673  (10, 20]  Chicopee Brook     1.076  1.000090e+13  16.984419   \n",
       "20201   (0, 10]            None     0.287  1.000090e+13   2.141918   \n",
       "7664    (0, 10]            None     0.472  1.000090e+13   1.620911   \n",
       "\n",
       "                                                geometry  \n",
       "7656   LINESTRING (-8042697.158 5173579.407, -8042703...  \n",
       "13431  LINESTRING (-8038777.874 5203098.395, -8038777...  \n",
       "20673  LINESTRING (-8050050.15 5182051.861, -8050035....  \n",
       "20201  LINESTRING (-8059423.25 5165463.762, -8059419....  \n",
       "7664   LINESTRING (-8040738.198 5190563.162, -8040743...  "
      ]
     },
     "execution_count": 122,
     "metadata": {},
     "output_type": "execute_result"
    }
   ],
   "source": [
    "test = basin_crop.sample(n=5)\n",
    "test"
   ]
  },
  {
   "cell_type": "code",
   "execution_count": 123,
   "id": "58a047af-f3a4-4fff-8528-3ff5b66be313",
   "metadata": {},
   "outputs": [],
   "source": [
    "# Try with apply()\n",
    "# test['segments'] = test.apply(segmentReach, axis=1)\n",
    "\n",
    "test['segments'] = test.apply(func=segmentReach, axis=1)"
   ]
  },
  {
   "cell_type": "code",
   "execution_count": 125,
   "id": "cedd628d-f092-486c-b0de-9fc7c7d8241b",
   "metadata": {},
   "outputs": [],
   "source": [
    "test = test.explode(column='segments').reset_index()"
   ]
  },
  {
   "cell_type": "code",
   "execution_count": 126,
   "id": "1f966bf6-71b8-496f-9cc7-cfcb2bdd4c8f",
   "metadata": {},
   "outputs": [],
   "source": [
    "test = test.set_geometry(col='segments').rename(columns={'geometry': 'geometry_full'})"
   ]
  },
  {
   "cell_type": "code",
   "execution_count": 129,
   "id": "809fcf65-2970-4ae1-be19-1404c6c8d318",
   "metadata": {},
   "outputs": [],
   "source": [
    "assert test.geometry.name == 'segments'"
   ]
  },
  {
   "cell_type": "code",
   "execution_count": 130,
   "id": "e2ee69db-8e97-4534-86da-6fcd3b0990bb",
   "metadata": {},
   "outputs": [],
   "source": [
    "test['new_index'] = test.groupby('index').cumcount()"
   ]
  },
  {
   "cell_type": "code",
   "execution_count": 131,
   "id": "1d149d2a-cb72-4a5e-ab2d-40f2cc75347a",
   "metadata": {
    "collapsed": true,
    "jupyter": {
     "outputs_hidden": true
    },
    "tags": []
   },
   "outputs": [
    {
     "data": {
      "text/html": [
       "<div>\n",
       "<style scoped>\n",
       "    .dataframe tbody tr th:only-of-type {\n",
       "        vertical-align: middle;\n",
       "    }\n",
       "\n",
       "    .dataframe tbody tr th {\n",
       "        vertical-align: top;\n",
       "    }\n",
       "\n",
       "    .dataframe thead th {\n",
       "        text-align: right;\n",
       "    }\n",
       "</style>\n",
       "<table border=\"1\" class=\"dataframe\">\n",
       "  <thead>\n",
       "    <tr style=\"text-align: right;\">\n",
       "      <th></th>\n",
       "      <th>index</th>\n",
       "      <th>Bin</th>\n",
       "      <th>GNIS_Name</th>\n",
       "      <th>LengthKM</th>\n",
       "      <th>NHDPlusID</th>\n",
       "      <th>WidthM</th>\n",
       "      <th>geometry_full</th>\n",
       "      <th>segments</th>\n",
       "      <th>new_index</th>\n",
       "    </tr>\n",
       "  </thead>\n",
       "  <tbody>\n",
       "    <tr>\n",
       "      <th>0</th>\n",
       "      <td>7656</td>\n",
       "      <td>(0, 10]</td>\n",
       "      <td>None</td>\n",
       "      <td>0.037</td>\n",
       "      <td>1.000090e+13</td>\n",
       "      <td>1.344763</td>\n",
       "      <td>LINESTRING (-8042697.158 5173579.407, -8042703...</td>\n",
       "      <td>LINESTRING (-8042697.158 5173579.407, -8042701...</td>\n",
       "      <td>0</td>\n",
       "    </tr>\n",
       "    <tr>\n",
       "      <th>1</th>\n",
       "      <td>7656</td>\n",
       "      <td>(0, 10]</td>\n",
       "      <td>None</td>\n",
       "      <td>0.037</td>\n",
       "      <td>1.000090e+13</td>\n",
       "      <td>1.344763</td>\n",
       "      <td>LINESTRING (-8042697.158 5173579.407, -8042703...</td>\n",
       "      <td>LINESTRING (-8042701.734 5173581.362, -8042703...</td>\n",
       "      <td>1</td>\n",
       "    </tr>\n",
       "    <tr>\n",
       "      <th>2</th>\n",
       "      <td>7656</td>\n",
       "      <td>(0, 10]</td>\n",
       "      <td>None</td>\n",
       "      <td>0.037</td>\n",
       "      <td>1.000090e+13</td>\n",
       "      <td>1.344763</td>\n",
       "      <td>LINESTRING (-8042697.158 5173579.407, -8042703...</td>\n",
       "      <td>LINESTRING (-8042705.826 5173584.124, -8042707...</td>\n",
       "      <td>2</td>\n",
       "    </tr>\n",
       "    <tr>\n",
       "      <th>3</th>\n",
       "      <td>7656</td>\n",
       "      <td>(0, 10]</td>\n",
       "      <td>None</td>\n",
       "      <td>0.037</td>\n",
       "      <td>1.000090e+13</td>\n",
       "      <td>1.344763</td>\n",
       "      <td>LINESTRING (-8042697.158 5173579.407, -8042703...</td>\n",
       "      <td>LINESTRING (-8042709.907 5173586.957, -8042714...</td>\n",
       "      <td>3</td>\n",
       "    </tr>\n",
       "    <tr>\n",
       "      <th>4</th>\n",
       "      <td>7656</td>\n",
       "      <td>(0, 10]</td>\n",
       "      <td>None</td>\n",
       "      <td>0.037</td>\n",
       "      <td>1.000090e+13</td>\n",
       "      <td>1.344763</td>\n",
       "      <td>LINESTRING (-8042697.158 5173579.407, -8042703...</td>\n",
       "      <td>LINESTRING (-8042714.125 5173589.598, -8042714...</td>\n",
       "      <td>4</td>\n",
       "    </tr>\n",
       "    <tr>\n",
       "      <th>5</th>\n",
       "      <td>7656</td>\n",
       "      <td>(0, 10]</td>\n",
       "      <td>None</td>\n",
       "      <td>0.037</td>\n",
       "      <td>1.000090e+13</td>\n",
       "      <td>1.344763</td>\n",
       "      <td>LINESTRING (-8042697.158 5173579.407, -8042703...</td>\n",
       "      <td>LINESTRING (-8042718.015 5173592.7, -8042718.5...</td>\n",
       "      <td>5</td>\n",
       "    </tr>\n",
       "    <tr>\n",
       "      <th>6</th>\n",
       "      <td>7656</td>\n",
       "      <td>(0, 10]</td>\n",
       "      <td>None</td>\n",
       "      <td>0.037</td>\n",
       "      <td>1.000090e+13</td>\n",
       "      <td>1.344763</td>\n",
       "      <td>LINESTRING (-8042697.158 5173579.407, -8042703...</td>\n",
       "      <td>LINESTRING (-8042721.798 5173595.931, -8042724...</td>\n",
       "      <td>6</td>\n",
       "    </tr>\n",
       "    <tr>\n",
       "      <th>7</th>\n",
       "      <td>7656</td>\n",
       "      <td>(0, 10]</td>\n",
       "      <td>None</td>\n",
       "      <td>0.037</td>\n",
       "      <td>1.000090e+13</td>\n",
       "      <td>1.344763</td>\n",
       "      <td>LINESTRING (-8042697.158 5173579.407, -8042703...</td>\n",
       "      <td>LINESTRING (-8042725.494 5173599.259, -8042729...</td>\n",
       "      <td>7</td>\n",
       "    </tr>\n",
       "    <tr>\n",
       "      <th>8</th>\n",
       "      <td>7656</td>\n",
       "      <td>(0, 10]</td>\n",
       "      <td>None</td>\n",
       "      <td>0.037</td>\n",
       "      <td>1.000090e+13</td>\n",
       "      <td>1.344763</td>\n",
       "      <td>LINESTRING (-8042697.158 5173579.407, -8042703...</td>\n",
       "      <td>LINESTRING (-8042729.01 5173602.781, -8042730....</td>\n",
       "      <td>8</td>\n",
       "    </tr>\n",
       "    <tr>\n",
       "      <th>9</th>\n",
       "      <td>7656</td>\n",
       "      <td>(0, 10]</td>\n",
       "      <td>None</td>\n",
       "      <td>0.037</td>\n",
       "      <td>1.000090e+13</td>\n",
       "      <td>1.344763</td>\n",
       "      <td>LINESTRING (-8042697.158 5173579.407, -8042703...</td>\n",
       "      <td>LINESTRING (-8042732.365 5173606.45, -8042735....</td>\n",
       "      <td>9</td>\n",
       "    </tr>\n",
       "    <tr>\n",
       "      <th>10</th>\n",
       "      <td>13431</td>\n",
       "      <td>(0, 10]</td>\n",
       "      <td>None</td>\n",
       "      <td>0.192</td>\n",
       "      <td>1.000090e+13</td>\n",
       "      <td>5.710564</td>\n",
       "      <td>LINESTRING (-8038777.874 5203098.395, -8038777...</td>\n",
       "      <td>LINESTRING (-8038777.874 5203098.395, -8038777...</td>\n",
       "      <td>0</td>\n",
       "    </tr>\n",
       "    <tr>\n",
       "      <th>11</th>\n",
       "      <td>13431</td>\n",
       "      <td>(0, 10]</td>\n",
       "      <td>None</td>\n",
       "      <td>0.192</td>\n",
       "      <td>1.000090e+13</td>\n",
       "      <td>5.710564</td>\n",
       "      <td>LINESTRING (-8038777.874 5203098.395, -8038777...</td>\n",
       "      <td>LINESTRING (-8038778.851 5203072.705, -8038780...</td>\n",
       "      <td>1</td>\n",
       "    </tr>\n",
       "    <tr>\n",
       "      <th>12</th>\n",
       "      <td>13431</td>\n",
       "      <td>(0, 10]</td>\n",
       "      <td>None</td>\n",
       "      <td>0.192</td>\n",
       "      <td>1.000090e+13</td>\n",
       "      <td>5.710564</td>\n",
       "      <td>LINESTRING (-8038777.874 5203098.395, -8038777...</td>\n",
       "      <td>LINESTRING (-8038785.023 5203047.601, -8038792...</td>\n",
       "      <td>2</td>\n",
       "    </tr>\n",
       "    <tr>\n",
       "      <th>13</th>\n",
       "      <td>13431</td>\n",
       "      <td>(0, 10]</td>\n",
       "      <td>None</td>\n",
       "      <td>0.192</td>\n",
       "      <td>1.000090e+13</td>\n",
       "      <td>5.710564</td>\n",
       "      <td>LINESTRING (-8038777.874 5203098.395, -8038777...</td>\n",
       "      <td>LINESTRING (-8038792.017 5203022.686, -8038799...</td>\n",
       "      <td>3</td>\n",
       "    </tr>\n",
       "    <tr>\n",
       "      <th>14</th>\n",
       "      <td>13431</td>\n",
       "      <td>(0, 10]</td>\n",
       "      <td>None</td>\n",
       "      <td>0.192</td>\n",
       "      <td>1.000090e+13</td>\n",
       "      <td>5.710564</td>\n",
       "      <td>LINESTRING (-8038777.874 5203098.395, -8038777...</td>\n",
       "      <td>LINESTRING (-8038799.011 5202997.771, -8038799...</td>\n",
       "      <td>4</td>\n",
       "    </tr>\n",
       "    <tr>\n",
       "      <th>15</th>\n",
       "      <td>13431</td>\n",
       "      <td>(0, 10]</td>\n",
       "      <td>None</td>\n",
       "      <td>0.192</td>\n",
       "      <td>1.000090e+13</td>\n",
       "      <td>5.710564</td>\n",
       "      <td>LINESTRING (-8038777.874 5203098.395, -8038777...</td>\n",
       "      <td>LINESTRING (-8038809.856 5202974.288, -8038820...</td>\n",
       "      <td>5</td>\n",
       "    </tr>\n",
       "    <tr>\n",
       "      <th>16</th>\n",
       "      <td>13431</td>\n",
       "      <td>(0, 10]</td>\n",
       "      <td>None</td>\n",
       "      <td>0.192</td>\n",
       "      <td>1.000090e+13</td>\n",
       "      <td>5.710564</td>\n",
       "      <td>LINESTRING (-8038777.874 5203098.395, -8038777...</td>\n",
       "      <td>LINESTRING (-8038820.839 5202950.857, -8038826...</td>\n",
       "      <td>6</td>\n",
       "    </tr>\n",
       "    <tr>\n",
       "      <th>17</th>\n",
       "      <td>13431</td>\n",
       "      <td>(0, 10]</td>\n",
       "      <td>None</td>\n",
       "      <td>0.192</td>\n",
       "      <td>1.000090e+13</td>\n",
       "      <td>5.710564</td>\n",
       "      <td>LINESTRING (-8038777.874 5203098.395, -8038777...</td>\n",
       "      <td>LINESTRING (-8038835.678 5202930.276, -8038843...</td>\n",
       "      <td>7</td>\n",
       "    </tr>\n",
       "    <tr>\n",
       "      <th>18</th>\n",
       "      <td>13431</td>\n",
       "      <td>(0, 10]</td>\n",
       "      <td>None</td>\n",
       "      <td>0.192</td>\n",
       "      <td>1.000090e+13</td>\n",
       "      <td>5.710564</td>\n",
       "      <td>LINESTRING (-8038777.874 5203098.395, -8038777...</td>\n",
       "      <td>LINESTRING (-8038857.534 5202917.084, -8038872...</td>\n",
       "      <td>8</td>\n",
       "    </tr>\n",
       "    <tr>\n",
       "      <th>19</th>\n",
       "      <td>13431</td>\n",
       "      <td>(0, 10]</td>\n",
       "      <td>None</td>\n",
       "      <td>0.192</td>\n",
       "      <td>1.000090e+13</td>\n",
       "      <td>5.710564</td>\n",
       "      <td>LINESTRING (-8038777.874 5203098.395, -8038777...</td>\n",
       "      <td>LINESTRING (-8038880.202 5202905.292, -8038893...</td>\n",
       "      <td>9</td>\n",
       "    </tr>\n",
       "    <tr>\n",
       "      <th>20</th>\n",
       "      <td>20673</td>\n",
       "      <td>(10, 20]</td>\n",
       "      <td>Chicopee Brook</td>\n",
       "      <td>1.076</td>\n",
       "      <td>1.000090e+13</td>\n",
       "      <td>16.984419</td>\n",
       "      <td>LINESTRING (-8050050.15 5182051.861, -8050035....</td>\n",
       "      <td>LINESTRING (-8050050.15 5182051.861, -8050035....</td>\n",
       "      <td>0</td>\n",
       "    </tr>\n",
       "    <tr>\n",
       "      <th>21</th>\n",
       "      <td>20673</td>\n",
       "      <td>(10, 20]</td>\n",
       "      <td>Chicopee Brook</td>\n",
       "      <td>1.076</td>\n",
       "      <td>1.000090e+13</td>\n",
       "      <td>16.984419</td>\n",
       "      <td>LINESTRING (-8050050.15 5182051.861, -8050035....</td>\n",
       "      <td>LINESTRING (-8050083.321 5182146.251, -8050094...</td>\n",
       "      <td>1</td>\n",
       "    </tr>\n",
       "    <tr>\n",
       "      <th>22</th>\n",
       "      <td>20673</td>\n",
       "      <td>(10, 20]</td>\n",
       "      <td>Chicopee Brook</td>\n",
       "      <td>1.076</td>\n",
       "      <td>1.000090e+13</td>\n",
       "      <td>16.984419</td>\n",
       "      <td>LINESTRING (-8050050.15 5182051.861, -8050035....</td>\n",
       "      <td>LINESTRING (-8050133.556 5182251.472, -8050153...</td>\n",
       "      <td>2</td>\n",
       "    </tr>\n",
       "    <tr>\n",
       "      <th>23</th>\n",
       "      <td>20673</td>\n",
       "      <td>(10, 20]</td>\n",
       "      <td>Chicopee Brook</td>\n",
       "      <td>1.076</td>\n",
       "      <td>1.000090e+13</td>\n",
       "      <td>16.984419</td>\n",
       "      <td>LINESTRING (-8050050.15 5182051.861, -8050035....</td>\n",
       "      <td>LINESTRING (-8050232.534 5182314.151, -8050233...</td>\n",
       "      <td>3</td>\n",
       "    </tr>\n",
       "    <tr>\n",
       "      <th>24</th>\n",
       "      <td>20673</td>\n",
       "      <td>(10, 20]</td>\n",
       "      <td>Chicopee Brook</td>\n",
       "      <td>1.076</td>\n",
       "      <td>1.000090e+13</td>\n",
       "      <td>16.984419</td>\n",
       "      <td>LINESTRING (-8050050.15 5182051.861, -8050035....</td>\n",
       "      <td>LINESTRING (-8050315.425 5182314.526, -8050317...</td>\n",
       "      <td>4</td>\n",
       "    </tr>\n",
       "    <tr>\n",
       "      <th>25</th>\n",
       "      <td>20673</td>\n",
       "      <td>(10, 20]</td>\n",
       "      <td>Chicopee Brook</td>\n",
       "      <td>1.076</td>\n",
       "      <td>1.000090e+13</td>\n",
       "      <td>16.984419</td>\n",
       "      <td>LINESTRING (-8050050.15 5182051.861, -8050035....</td>\n",
       "      <td>LINESTRING (-8050341.506 5182423.106, -8050350...</td>\n",
       "      <td>5</td>\n",
       "    </tr>\n",
       "    <tr>\n",
       "      <th>26</th>\n",
       "      <td>20673</td>\n",
       "      <td>(10, 20]</td>\n",
       "      <td>Chicopee Brook</td>\n",
       "      <td>1.076</td>\n",
       "      <td>1.000090e+13</td>\n",
       "      <td>16.984419</td>\n",
       "      <td>LINESTRING (-8050050.15 5182051.861, -8050035....</td>\n",
       "      <td>LINESTRING (-8050365.35 5182552.565, -8050363....</td>\n",
       "      <td>6</td>\n",
       "    </tr>\n",
       "    <tr>\n",
       "      <th>27</th>\n",
       "      <td>20673</td>\n",
       "      <td>(10, 20]</td>\n",
       "      <td>Chicopee Brook</td>\n",
       "      <td>1.076</td>\n",
       "      <td>1.000090e+13</td>\n",
       "      <td>16.984419</td>\n",
       "      <td>LINESTRING (-8050050.15 5182051.861, -8050035....</td>\n",
       "      <td>LINESTRING (-8050385.709 5182690.599, -8050377...</td>\n",
       "      <td>7</td>\n",
       "    </tr>\n",
       "    <tr>\n",
       "      <th>28</th>\n",
       "      <td>20673</td>\n",
       "      <td>(10, 20]</td>\n",
       "      <td>Chicopee Brook</td>\n",
       "      <td>1.076</td>\n",
       "      <td>1.000090e+13</td>\n",
       "      <td>16.984419</td>\n",
       "      <td>LINESTRING (-8050050.15 5182051.861, -8050035....</td>\n",
       "      <td>LINESTRING (-8050433.876 5182810.189, -8050436...</td>\n",
       "      <td>8</td>\n",
       "    </tr>\n",
       "    <tr>\n",
       "      <th>29</th>\n",
       "      <td>20673</td>\n",
       "      <td>(10, 20]</td>\n",
       "      <td>Chicopee Brook</td>\n",
       "      <td>1.076</td>\n",
       "      <td>1.000090e+13</td>\n",
       "      <td>16.984419</td>\n",
       "      <td>LINESTRING (-8050050.15 5182051.861, -8050035....</td>\n",
       "      <td>LINESTRING (-8050565.566 5182865.812, -8050582...</td>\n",
       "      <td>9</td>\n",
       "    </tr>\n",
       "    <tr>\n",
       "      <th>30</th>\n",
       "      <td>20201</td>\n",
       "      <td>(0, 10]</td>\n",
       "      <td>None</td>\n",
       "      <td>0.287</td>\n",
       "      <td>1.000090e+13</td>\n",
       "      <td>2.141918</td>\n",
       "      <td>LINESTRING (-8059423.25 5165463.762, -8059419....</td>\n",
       "      <td>LINESTRING (-8059423.25 5165463.762, -8059419....</td>\n",
       "      <td>0</td>\n",
       "    </tr>\n",
       "    <tr>\n",
       "      <th>31</th>\n",
       "      <td>20201</td>\n",
       "      <td>(0, 10]</td>\n",
       "      <td>None</td>\n",
       "      <td>0.287</td>\n",
       "      <td>1.000090e+13</td>\n",
       "      <td>2.141918</td>\n",
       "      <td>LINESTRING (-8059423.25 5165463.762, -8059419....</td>\n",
       "      <td>LINESTRING (-8059390.286 5165443.889, -8059365...</td>\n",
       "      <td>1</td>\n",
       "    </tr>\n",
       "    <tr>\n",
       "      <th>32</th>\n",
       "      <td>20201</td>\n",
       "      <td>(0, 10]</td>\n",
       "      <td>None</td>\n",
       "      <td>0.287</td>\n",
       "      <td>1.000090e+13</td>\n",
       "      <td>2.141918</td>\n",
       "      <td>LINESTRING (-8059423.25 5165463.762, -8059419....</td>\n",
       "      <td>LINESTRING (-8059355.604 5165427.024, -8059352...</td>\n",
       "      <td>2</td>\n",
       "    </tr>\n",
       "    <tr>\n",
       "      <th>33</th>\n",
       "      <td>20201</td>\n",
       "      <td>(0, 10]</td>\n",
       "      <td>None</td>\n",
       "      <td>0.287</td>\n",
       "      <td>1.000090e+13</td>\n",
       "      <td>2.141918</td>\n",
       "      <td>LINESTRING (-8059423.25 5165463.762, -8059419....</td>\n",
       "      <td>LINESTRING (-8059323.018 5165406.15, -8059296....</td>\n",
       "      <td>3</td>\n",
       "    </tr>\n",
       "    <tr>\n",
       "      <th>34</th>\n",
       "      <td>20201</td>\n",
       "      <td>(0, 10]</td>\n",
       "      <td>None</td>\n",
       "      <td>0.287</td>\n",
       "      <td>1.000090e+13</td>\n",
       "      <td>2.141918</td>\n",
       "      <td>LINESTRING (-8059423.25 5165463.762, -8059419....</td>\n",
       "      <td>LINESTRING (-8059290.036 5165385.976, -8059261...</td>\n",
       "      <td>4</td>\n",
       "    </tr>\n",
       "    <tr>\n",
       "      <th>35</th>\n",
       "      <td>20201</td>\n",
       "      <td>(0, 10]</td>\n",
       "      <td>None</td>\n",
       "      <td>0.287</td>\n",
       "      <td>1.000090e+13</td>\n",
       "      <td>2.141918</td>\n",
       "      <td>LINESTRING (-8059423.25 5165463.762, -8059419....</td>\n",
       "      <td>LINESTRING (-8059255.416 5165368.694, -8059221...</td>\n",
       "      <td>5</td>\n",
       "    </tr>\n",
       "    <tr>\n",
       "      <th>36</th>\n",
       "      <td>20201</td>\n",
       "      <td>(0, 10]</td>\n",
       "      <td>None</td>\n",
       "      <td>0.287</td>\n",
       "      <td>1.000090e+13</td>\n",
       "      <td>2.141918</td>\n",
       "      <td>LINESTRING (-8059423.25 5165463.762, -8059419....</td>\n",
       "      <td>LINESTRING (-8059221.369 5165350.297, -8059220...</td>\n",
       "      <td>6</td>\n",
       "    </tr>\n",
       "    <tr>\n",
       "      <th>37</th>\n",
       "      <td>20201</td>\n",
       "      <td>(0, 10]</td>\n",
       "      <td>None</td>\n",
       "      <td>0.287</td>\n",
       "      <td>1.000090e+13</td>\n",
       "      <td>2.141918</td>\n",
       "      <td>LINESTRING (-8059423.25 5165463.762, -8059419....</td>\n",
       "      <td>LINESTRING (-8059187.792 5165331.059, -8059179...</td>\n",
       "      <td>7</td>\n",
       "    </tr>\n",
       "    <tr>\n",
       "      <th>38</th>\n",
       "      <td>20201</td>\n",
       "      <td>(0, 10]</td>\n",
       "      <td>None</td>\n",
       "      <td>0.287</td>\n",
       "      <td>1.000090e+13</td>\n",
       "      <td>2.141918</td>\n",
       "      <td>LINESTRING (-8059423.25 5165463.762, -8059419....</td>\n",
       "      <td>LINESTRING (-8059153.676 5165312.803, -8059140...</td>\n",
       "      <td>8</td>\n",
       "    </tr>\n",
       "    <tr>\n",
       "      <th>39</th>\n",
       "      <td>20201</td>\n",
       "      <td>(0, 10]</td>\n",
       "      <td>None</td>\n",
       "      <td>0.287</td>\n",
       "      <td>1.000090e+13</td>\n",
       "      <td>2.141918</td>\n",
       "      <td>LINESTRING (-8059423.25 5165463.762, -8059419....</td>\n",
       "      <td>LINESTRING (-8059120.844 5165292.442, -8059116...</td>\n",
       "      <td>9</td>\n",
       "    </tr>\n",
       "    <tr>\n",
       "      <th>40</th>\n",
       "      <td>7664</td>\n",
       "      <td>(0, 10]</td>\n",
       "      <td>None</td>\n",
       "      <td>0.472</td>\n",
       "      <td>1.000090e+13</td>\n",
       "      <td>1.620911</td>\n",
       "      <td>LINESTRING (-8040738.198 5190563.162, -8040743...</td>\n",
       "      <td>LINESTRING (-8040738.198 5190563.162, -8040743...</td>\n",
       "      <td>0</td>\n",
       "    </tr>\n",
       "    <tr>\n",
       "      <th>41</th>\n",
       "      <td>7664</td>\n",
       "      <td>(0, 10]</td>\n",
       "      <td>None</td>\n",
       "      <td>0.472</td>\n",
       "      <td>1.000090e+13</td>\n",
       "      <td>1.620911</td>\n",
       "      <td>LINESTRING (-8040738.198 5190563.162, -8040743...</td>\n",
       "      <td>LINESTRING (-8040800.559 5190572.23, -8040847....</td>\n",
       "      <td>1</td>\n",
       "    </tr>\n",
       "    <tr>\n",
       "      <th>42</th>\n",
       "      <td>7664</td>\n",
       "      <td>(0, 10]</td>\n",
       "      <td>None</td>\n",
       "      <td>0.472</td>\n",
       "      <td>1.000090e+13</td>\n",
       "      <td>1.620911</td>\n",
       "      <td>LINESTRING (-8040738.198 5190563.162, -8040743...</td>\n",
       "      <td>LINESTRING (-8040863.271 5190581.731, -8040924...</td>\n",
       "      <td>2</td>\n",
       "    </tr>\n",
       "    <tr>\n",
       "      <th>43</th>\n",
       "      <td>7664</td>\n",
       "      <td>(0, 10]</td>\n",
       "      <td>None</td>\n",
       "      <td>0.472</td>\n",
       "      <td>1.000090e+13</td>\n",
       "      <td>1.620911</td>\n",
       "      <td>LINESTRING (-8040738.198 5190563.162, -8040743...</td>\n",
       "      <td>LINESTRING (-8040924.047 5190600.751, -8040929...</td>\n",
       "      <td>3</td>\n",
       "    </tr>\n",
       "    <tr>\n",
       "      <th>44</th>\n",
       "      <td>7664</td>\n",
       "      <td>(0, 10]</td>\n",
       "      <td>None</td>\n",
       "      <td>0.472</td>\n",
       "      <td>1.000090e+13</td>\n",
       "      <td>1.620911</td>\n",
       "      <td>LINESTRING (-8040738.198 5190563.162, -8040743...</td>\n",
       "      <td>LINESTRING (-8040972.769 5190640.251, -8040974...</td>\n",
       "      <td>4</td>\n",
       "    </tr>\n",
       "    <tr>\n",
       "      <th>45</th>\n",
       "      <td>7664</td>\n",
       "      <td>(0, 10]</td>\n",
       "      <td>None</td>\n",
       "      <td>0.472</td>\n",
       "      <td>1.000090e+13</td>\n",
       "      <td>1.620911</td>\n",
       "      <td>LINESTRING (-8040738.198 5190563.162, -8040743...</td>\n",
       "      <td>LINESTRING (-8040981.249 5190702.348, -8040982...</td>\n",
       "      <td>5</td>\n",
       "    </tr>\n",
       "    <tr>\n",
       "      <th>46</th>\n",
       "      <td>7664</td>\n",
       "      <td>(0, 10]</td>\n",
       "      <td>None</td>\n",
       "      <td>0.472</td>\n",
       "      <td>1.000090e+13</td>\n",
       "      <td>1.620911</td>\n",
       "      <td>LINESTRING (-8040738.198 5190563.162, -8040743...</td>\n",
       "      <td>LINESTRING (-8040981.873 5190765.932, -8040980...</td>\n",
       "      <td>6</td>\n",
       "    </tr>\n",
       "    <tr>\n",
       "      <th>47</th>\n",
       "      <td>7664</td>\n",
       "      <td>(0, 10]</td>\n",
       "      <td>None</td>\n",
       "      <td>0.472</td>\n",
       "      <td>1.000090e+13</td>\n",
       "      <td>1.620911</td>\n",
       "      <td>LINESTRING (-8040738.198 5190563.162, -8040743...</td>\n",
       "      <td>LINESTRING (-8040980.319 5190829.596, -8040979...</td>\n",
       "      <td>7</td>\n",
       "    </tr>\n",
       "    <tr>\n",
       "      <th>48</th>\n",
       "      <td>7664</td>\n",
       "      <td>(0, 10]</td>\n",
       "      <td>None</td>\n",
       "      <td>0.472</td>\n",
       "      <td>1.000090e+13</td>\n",
       "      <td>1.620911</td>\n",
       "      <td>LINESTRING (-8040738.198 5190563.162, -8040743...</td>\n",
       "      <td>LINESTRING (-8040986.976 5190892.506, -8040989...</td>\n",
       "      <td>8</td>\n",
       "    </tr>\n",
       "    <tr>\n",
       "      <th>49</th>\n",
       "      <td>7664</td>\n",
       "      <td>(0, 10]</td>\n",
       "      <td>None</td>\n",
       "      <td>0.472</td>\n",
       "      <td>1.000090e+13</td>\n",
       "      <td>1.620911</td>\n",
       "      <td>LINESTRING (-8040738.198 5190563.162, -8040743...</td>\n",
       "      <td>LINESTRING (-8041005.166 5190953.153, -8041010...</td>\n",
       "      <td>9</td>\n",
       "    </tr>\n",
       "  </tbody>\n",
       "</table>\n",
       "</div>"
      ],
      "text/plain": [
       "    index       Bin       GNIS_Name  LengthKM     NHDPlusID     WidthM  \\\n",
       "0    7656   (0, 10]            None     0.037  1.000090e+13   1.344763   \n",
       "1    7656   (0, 10]            None     0.037  1.000090e+13   1.344763   \n",
       "2    7656   (0, 10]            None     0.037  1.000090e+13   1.344763   \n",
       "3    7656   (0, 10]            None     0.037  1.000090e+13   1.344763   \n",
       "4    7656   (0, 10]            None     0.037  1.000090e+13   1.344763   \n",
       "5    7656   (0, 10]            None     0.037  1.000090e+13   1.344763   \n",
       "6    7656   (0, 10]            None     0.037  1.000090e+13   1.344763   \n",
       "7    7656   (0, 10]            None     0.037  1.000090e+13   1.344763   \n",
       "8    7656   (0, 10]            None     0.037  1.000090e+13   1.344763   \n",
       "9    7656   (0, 10]            None     0.037  1.000090e+13   1.344763   \n",
       "10  13431   (0, 10]            None     0.192  1.000090e+13   5.710564   \n",
       "11  13431   (0, 10]            None     0.192  1.000090e+13   5.710564   \n",
       "12  13431   (0, 10]            None     0.192  1.000090e+13   5.710564   \n",
       "13  13431   (0, 10]            None     0.192  1.000090e+13   5.710564   \n",
       "14  13431   (0, 10]            None     0.192  1.000090e+13   5.710564   \n",
       "15  13431   (0, 10]            None     0.192  1.000090e+13   5.710564   \n",
       "16  13431   (0, 10]            None     0.192  1.000090e+13   5.710564   \n",
       "17  13431   (0, 10]            None     0.192  1.000090e+13   5.710564   \n",
       "18  13431   (0, 10]            None     0.192  1.000090e+13   5.710564   \n",
       "19  13431   (0, 10]            None     0.192  1.000090e+13   5.710564   \n",
       "20  20673  (10, 20]  Chicopee Brook     1.076  1.000090e+13  16.984419   \n",
       "21  20673  (10, 20]  Chicopee Brook     1.076  1.000090e+13  16.984419   \n",
       "22  20673  (10, 20]  Chicopee Brook     1.076  1.000090e+13  16.984419   \n",
       "23  20673  (10, 20]  Chicopee Brook     1.076  1.000090e+13  16.984419   \n",
       "24  20673  (10, 20]  Chicopee Brook     1.076  1.000090e+13  16.984419   \n",
       "25  20673  (10, 20]  Chicopee Brook     1.076  1.000090e+13  16.984419   \n",
       "26  20673  (10, 20]  Chicopee Brook     1.076  1.000090e+13  16.984419   \n",
       "27  20673  (10, 20]  Chicopee Brook     1.076  1.000090e+13  16.984419   \n",
       "28  20673  (10, 20]  Chicopee Brook     1.076  1.000090e+13  16.984419   \n",
       "29  20673  (10, 20]  Chicopee Brook     1.076  1.000090e+13  16.984419   \n",
       "30  20201   (0, 10]            None     0.287  1.000090e+13   2.141918   \n",
       "31  20201   (0, 10]            None     0.287  1.000090e+13   2.141918   \n",
       "32  20201   (0, 10]            None     0.287  1.000090e+13   2.141918   \n",
       "33  20201   (0, 10]            None     0.287  1.000090e+13   2.141918   \n",
       "34  20201   (0, 10]            None     0.287  1.000090e+13   2.141918   \n",
       "35  20201   (0, 10]            None     0.287  1.000090e+13   2.141918   \n",
       "36  20201   (0, 10]            None     0.287  1.000090e+13   2.141918   \n",
       "37  20201   (0, 10]            None     0.287  1.000090e+13   2.141918   \n",
       "38  20201   (0, 10]            None     0.287  1.000090e+13   2.141918   \n",
       "39  20201   (0, 10]            None     0.287  1.000090e+13   2.141918   \n",
       "40   7664   (0, 10]            None     0.472  1.000090e+13   1.620911   \n",
       "41   7664   (0, 10]            None     0.472  1.000090e+13   1.620911   \n",
       "42   7664   (0, 10]            None     0.472  1.000090e+13   1.620911   \n",
       "43   7664   (0, 10]            None     0.472  1.000090e+13   1.620911   \n",
       "44   7664   (0, 10]            None     0.472  1.000090e+13   1.620911   \n",
       "45   7664   (0, 10]            None     0.472  1.000090e+13   1.620911   \n",
       "46   7664   (0, 10]            None     0.472  1.000090e+13   1.620911   \n",
       "47   7664   (0, 10]            None     0.472  1.000090e+13   1.620911   \n",
       "48   7664   (0, 10]            None     0.472  1.000090e+13   1.620911   \n",
       "49   7664   (0, 10]            None     0.472  1.000090e+13   1.620911   \n",
       "\n",
       "                                        geometry_full  \\\n",
       "0   LINESTRING (-8042697.158 5173579.407, -8042703...   \n",
       "1   LINESTRING (-8042697.158 5173579.407, -8042703...   \n",
       "2   LINESTRING (-8042697.158 5173579.407, -8042703...   \n",
       "3   LINESTRING (-8042697.158 5173579.407, -8042703...   \n",
       "4   LINESTRING (-8042697.158 5173579.407, -8042703...   \n",
       "5   LINESTRING (-8042697.158 5173579.407, -8042703...   \n",
       "6   LINESTRING (-8042697.158 5173579.407, -8042703...   \n",
       "7   LINESTRING (-8042697.158 5173579.407, -8042703...   \n",
       "8   LINESTRING (-8042697.158 5173579.407, -8042703...   \n",
       "9   LINESTRING (-8042697.158 5173579.407, -8042703...   \n",
       "10  LINESTRING (-8038777.874 5203098.395, -8038777...   \n",
       "11  LINESTRING (-8038777.874 5203098.395, -8038777...   \n",
       "12  LINESTRING (-8038777.874 5203098.395, -8038777...   \n",
       "13  LINESTRING (-8038777.874 5203098.395, -8038777...   \n",
       "14  LINESTRING (-8038777.874 5203098.395, -8038777...   \n",
       "15  LINESTRING (-8038777.874 5203098.395, -8038777...   \n",
       "16  LINESTRING (-8038777.874 5203098.395, -8038777...   \n",
       "17  LINESTRING (-8038777.874 5203098.395, -8038777...   \n",
       "18  LINESTRING (-8038777.874 5203098.395, -8038777...   \n",
       "19  LINESTRING (-8038777.874 5203098.395, -8038777...   \n",
       "20  LINESTRING (-8050050.15 5182051.861, -8050035....   \n",
       "21  LINESTRING (-8050050.15 5182051.861, -8050035....   \n",
       "22  LINESTRING (-8050050.15 5182051.861, -8050035....   \n",
       "23  LINESTRING (-8050050.15 5182051.861, -8050035....   \n",
       "24  LINESTRING (-8050050.15 5182051.861, -8050035....   \n",
       "25  LINESTRING (-8050050.15 5182051.861, -8050035....   \n",
       "26  LINESTRING (-8050050.15 5182051.861, -8050035....   \n",
       "27  LINESTRING (-8050050.15 5182051.861, -8050035....   \n",
       "28  LINESTRING (-8050050.15 5182051.861, -8050035....   \n",
       "29  LINESTRING (-8050050.15 5182051.861, -8050035....   \n",
       "30  LINESTRING (-8059423.25 5165463.762, -8059419....   \n",
       "31  LINESTRING (-8059423.25 5165463.762, -8059419....   \n",
       "32  LINESTRING (-8059423.25 5165463.762, -8059419....   \n",
       "33  LINESTRING (-8059423.25 5165463.762, -8059419....   \n",
       "34  LINESTRING (-8059423.25 5165463.762, -8059419....   \n",
       "35  LINESTRING (-8059423.25 5165463.762, -8059419....   \n",
       "36  LINESTRING (-8059423.25 5165463.762, -8059419....   \n",
       "37  LINESTRING (-8059423.25 5165463.762, -8059419....   \n",
       "38  LINESTRING (-8059423.25 5165463.762, -8059419....   \n",
       "39  LINESTRING (-8059423.25 5165463.762, -8059419....   \n",
       "40  LINESTRING (-8040738.198 5190563.162, -8040743...   \n",
       "41  LINESTRING (-8040738.198 5190563.162, -8040743...   \n",
       "42  LINESTRING (-8040738.198 5190563.162, -8040743...   \n",
       "43  LINESTRING (-8040738.198 5190563.162, -8040743...   \n",
       "44  LINESTRING (-8040738.198 5190563.162, -8040743...   \n",
       "45  LINESTRING (-8040738.198 5190563.162, -8040743...   \n",
       "46  LINESTRING (-8040738.198 5190563.162, -8040743...   \n",
       "47  LINESTRING (-8040738.198 5190563.162, -8040743...   \n",
       "48  LINESTRING (-8040738.198 5190563.162, -8040743...   \n",
       "49  LINESTRING (-8040738.198 5190563.162, -8040743...   \n",
       "\n",
       "                                             segments  new_index  \n",
       "0   LINESTRING (-8042697.158 5173579.407, -8042701...          0  \n",
       "1   LINESTRING (-8042701.734 5173581.362, -8042703...          1  \n",
       "2   LINESTRING (-8042705.826 5173584.124, -8042707...          2  \n",
       "3   LINESTRING (-8042709.907 5173586.957, -8042714...          3  \n",
       "4   LINESTRING (-8042714.125 5173589.598, -8042714...          4  \n",
       "5   LINESTRING (-8042718.015 5173592.7, -8042718.5...          5  \n",
       "6   LINESTRING (-8042721.798 5173595.931, -8042724...          6  \n",
       "7   LINESTRING (-8042725.494 5173599.259, -8042729...          7  \n",
       "8   LINESTRING (-8042729.01 5173602.781, -8042730....          8  \n",
       "9   LINESTRING (-8042732.365 5173606.45, -8042735....          9  \n",
       "10  LINESTRING (-8038777.874 5203098.395, -8038777...          0  \n",
       "11  LINESTRING (-8038778.851 5203072.705, -8038780...          1  \n",
       "12  LINESTRING (-8038785.023 5203047.601, -8038792...          2  \n",
       "13  LINESTRING (-8038792.017 5203022.686, -8038799...          3  \n",
       "14  LINESTRING (-8038799.011 5202997.771, -8038799...          4  \n",
       "15  LINESTRING (-8038809.856 5202974.288, -8038820...          5  \n",
       "16  LINESTRING (-8038820.839 5202950.857, -8038826...          6  \n",
       "17  LINESTRING (-8038835.678 5202930.276, -8038843...          7  \n",
       "18  LINESTRING (-8038857.534 5202917.084, -8038872...          8  \n",
       "19  LINESTRING (-8038880.202 5202905.292, -8038893...          9  \n",
       "20  LINESTRING (-8050050.15 5182051.861, -8050035....          0  \n",
       "21  LINESTRING (-8050083.321 5182146.251, -8050094...          1  \n",
       "22  LINESTRING (-8050133.556 5182251.472, -8050153...          2  \n",
       "23  LINESTRING (-8050232.534 5182314.151, -8050233...          3  \n",
       "24  LINESTRING (-8050315.425 5182314.526, -8050317...          4  \n",
       "25  LINESTRING (-8050341.506 5182423.106, -8050350...          5  \n",
       "26  LINESTRING (-8050365.35 5182552.565, -8050363....          6  \n",
       "27  LINESTRING (-8050385.709 5182690.599, -8050377...          7  \n",
       "28  LINESTRING (-8050433.876 5182810.189, -8050436...          8  \n",
       "29  LINESTRING (-8050565.566 5182865.812, -8050582...          9  \n",
       "30  LINESTRING (-8059423.25 5165463.762, -8059419....          0  \n",
       "31  LINESTRING (-8059390.286 5165443.889, -8059365...          1  \n",
       "32  LINESTRING (-8059355.604 5165427.024, -8059352...          2  \n",
       "33  LINESTRING (-8059323.018 5165406.15, -8059296....          3  \n",
       "34  LINESTRING (-8059290.036 5165385.976, -8059261...          4  \n",
       "35  LINESTRING (-8059255.416 5165368.694, -8059221...          5  \n",
       "36  LINESTRING (-8059221.369 5165350.297, -8059220...          6  \n",
       "37  LINESTRING (-8059187.792 5165331.059, -8059179...          7  \n",
       "38  LINESTRING (-8059153.676 5165312.803, -8059140...          8  \n",
       "39  LINESTRING (-8059120.844 5165292.442, -8059116...          9  \n",
       "40  LINESTRING (-8040738.198 5190563.162, -8040743...          0  \n",
       "41  LINESTRING (-8040800.559 5190572.23, -8040847....          1  \n",
       "42  LINESTRING (-8040863.271 5190581.731, -8040924...          2  \n",
       "43  LINESTRING (-8040924.047 5190600.751, -8040929...          3  \n",
       "44  LINESTRING (-8040972.769 5190640.251, -8040974...          4  \n",
       "45  LINESTRING (-8040981.249 5190702.348, -8040982...          5  \n",
       "46  LINESTRING (-8040981.873 5190765.932, -8040980...          6  \n",
       "47  LINESTRING (-8040980.319 5190829.596, -8040979...          7  \n",
       "48  LINESTRING (-8040986.976 5190892.506, -8040989...          8  \n",
       "49  LINESTRING (-8041005.166 5190953.153, -8041010...          9  "
      ]
     },
     "execution_count": 131,
     "metadata": {},
     "output_type": "execute_result"
    }
   ],
   "source": [
    "test"
   ]
  },
  {
   "cell_type": "code",
   "execution_count": 134,
   "id": "beabbb10-7d35-4af4-bb00-a49e473d40eb",
   "metadata": {},
   "outputs": [
    {
     "ename": "TypeError",
     "evalue": "getCoverage() missing 1 required positional argument: 'reach_cut'",
     "output_type": "error",
     "traceback": [
      "\u001b[0;31m---------------------------------------------------------------------------\u001b[0m",
      "\u001b[0;31mTypeError\u001b[0m                                 Traceback (most recent call last)",
      "Cell \u001b[0;32mIn[134], line 1\u001b[0m\n\u001b[0;32m----> 1\u001b[0m \u001b[43mtest\u001b[49m\u001b[38;5;241;43m.\u001b[39;49m\u001b[43miloc\u001b[49m\u001b[43m[\u001b[49m\u001b[38;5;241;43m0\u001b[39;49m\u001b[43m:\u001b[49m\u001b[38;5;241;43m10\u001b[39;49m\u001b[43m]\u001b[49m\u001b[38;5;241;43m.\u001b[39;49m\u001b[43mapply\u001b[49m\u001b[43m(\u001b[49m\u001b[43mfunc\u001b[49m\u001b[38;5;241;43m=\u001b[39;49m\u001b[43mgetCoverage\u001b[49m\u001b[43m)\u001b[49m\n",
      "File \u001b[0;32m/work/pi_cjgleason_umass_edu/.conda/envs/narrowPIXC/lib/python3.12/site-packages/geopandas/geodataframe.py:1834\u001b[0m, in \u001b[0;36mGeoDataFrame.apply\u001b[0;34m(self, func, axis, raw, result_type, args, **kwargs)\u001b[0m\n\u001b[1;32m   1832\u001b[0m \u001b[38;5;129m@doc\u001b[39m(pd\u001b[38;5;241m.\u001b[39mDataFrame)\n\u001b[1;32m   1833\u001b[0m \u001b[38;5;28;01mdef\u001b[39;00m \u001b[38;5;21mapply\u001b[39m(\u001b[38;5;28mself\u001b[39m, func, axis\u001b[38;5;241m=\u001b[39m\u001b[38;5;241m0\u001b[39m, raw\u001b[38;5;241m=\u001b[39m\u001b[38;5;28;01mFalse\u001b[39;00m, result_type\u001b[38;5;241m=\u001b[39m\u001b[38;5;28;01mNone\u001b[39;00m, args\u001b[38;5;241m=\u001b[39m(), \u001b[38;5;241m*\u001b[39m\u001b[38;5;241m*\u001b[39mkwargs):\n\u001b[0;32m-> 1834\u001b[0m     result \u001b[38;5;241m=\u001b[39m \u001b[38;5;28;43msuper\u001b[39;49m\u001b[43m(\u001b[49m\u001b[43m)\u001b[49m\u001b[38;5;241;43m.\u001b[39;49m\u001b[43mapply\u001b[49m\u001b[43m(\u001b[49m\n\u001b[1;32m   1835\u001b[0m \u001b[43m        \u001b[49m\u001b[43mfunc\u001b[49m\u001b[43m,\u001b[49m\u001b[43m \u001b[49m\u001b[43maxis\u001b[49m\u001b[38;5;241;43m=\u001b[39;49m\u001b[43maxis\u001b[49m\u001b[43m,\u001b[49m\u001b[43m \u001b[49m\u001b[43mraw\u001b[49m\u001b[38;5;241;43m=\u001b[39;49m\u001b[43mraw\u001b[49m\u001b[43m,\u001b[49m\u001b[43m \u001b[49m\u001b[43mresult_type\u001b[49m\u001b[38;5;241;43m=\u001b[39;49m\u001b[43mresult_type\u001b[49m\u001b[43m,\u001b[49m\u001b[43m \u001b[49m\u001b[43margs\u001b[49m\u001b[38;5;241;43m=\u001b[39;49m\u001b[43margs\u001b[49m\u001b[43m,\u001b[49m\u001b[43m \u001b[49m\u001b[38;5;241;43m*\u001b[39;49m\u001b[38;5;241;43m*\u001b[39;49m\u001b[43mkwargs\u001b[49m\n\u001b[1;32m   1836\u001b[0m \u001b[43m    \u001b[49m\u001b[43m)\u001b[49m\n\u001b[1;32m   1837\u001b[0m     \u001b[38;5;66;03m# Reconstruct gdf if it was lost by apply\u001b[39;00m\n\u001b[1;32m   1838\u001b[0m     \u001b[38;5;28;01mif\u001b[39;00m (\n\u001b[1;32m   1839\u001b[0m         \u001b[38;5;28misinstance\u001b[39m(result, DataFrame)\n\u001b[1;32m   1840\u001b[0m         \u001b[38;5;129;01mand\u001b[39;00m \u001b[38;5;28mself\u001b[39m\u001b[38;5;241m.\u001b[39m_geometry_column_name \u001b[38;5;129;01min\u001b[39;00m result\u001b[38;5;241m.\u001b[39mcolumns\n\u001b[1;32m   1841\u001b[0m     ):\n\u001b[1;32m   1842\u001b[0m         \u001b[38;5;66;03m# axis=1 apply will split GeometryDType to object, try and cast back\u001b[39;00m\n",
      "File \u001b[0;32m/work/pi_cjgleason_umass_edu/.conda/envs/narrowPIXC/lib/python3.12/site-packages/pandas/core/frame.py:10374\u001b[0m, in \u001b[0;36mDataFrame.apply\u001b[0;34m(self, func, axis, raw, result_type, args, by_row, engine, engine_kwargs, **kwargs)\u001b[0m\n\u001b[1;32m  10360\u001b[0m \u001b[38;5;28;01mfrom\u001b[39;00m \u001b[38;5;21;01mpandas\u001b[39;00m\u001b[38;5;21;01m.\u001b[39;00m\u001b[38;5;21;01mcore\u001b[39;00m\u001b[38;5;21;01m.\u001b[39;00m\u001b[38;5;21;01mapply\u001b[39;00m \u001b[38;5;28;01mimport\u001b[39;00m frame_apply\n\u001b[1;32m  10362\u001b[0m op \u001b[38;5;241m=\u001b[39m frame_apply(\n\u001b[1;32m  10363\u001b[0m     \u001b[38;5;28mself\u001b[39m,\n\u001b[1;32m  10364\u001b[0m     func\u001b[38;5;241m=\u001b[39mfunc,\n\u001b[0;32m   (...)\u001b[0m\n\u001b[1;32m  10372\u001b[0m     kwargs\u001b[38;5;241m=\u001b[39mkwargs,\n\u001b[1;32m  10373\u001b[0m )\n\u001b[0;32m> 10374\u001b[0m \u001b[38;5;28;01mreturn\u001b[39;00m \u001b[43mop\u001b[49m\u001b[38;5;241;43m.\u001b[39;49m\u001b[43mapply\u001b[49m\u001b[43m(\u001b[49m\u001b[43m)\u001b[49m\u001b[38;5;241m.\u001b[39m__finalize__(\u001b[38;5;28mself\u001b[39m, method\u001b[38;5;241m=\u001b[39m\u001b[38;5;124m\"\u001b[39m\u001b[38;5;124mapply\u001b[39m\u001b[38;5;124m\"\u001b[39m)\n",
      "File \u001b[0;32m/work/pi_cjgleason_umass_edu/.conda/envs/narrowPIXC/lib/python3.12/site-packages/pandas/core/apply.py:916\u001b[0m, in \u001b[0;36mFrameApply.apply\u001b[0;34m(self)\u001b[0m\n\u001b[1;32m    913\u001b[0m \u001b[38;5;28;01melif\u001b[39;00m \u001b[38;5;28mself\u001b[39m\u001b[38;5;241m.\u001b[39mraw:\n\u001b[1;32m    914\u001b[0m     \u001b[38;5;28;01mreturn\u001b[39;00m \u001b[38;5;28mself\u001b[39m\u001b[38;5;241m.\u001b[39mapply_raw(engine\u001b[38;5;241m=\u001b[39m\u001b[38;5;28mself\u001b[39m\u001b[38;5;241m.\u001b[39mengine, engine_kwargs\u001b[38;5;241m=\u001b[39m\u001b[38;5;28mself\u001b[39m\u001b[38;5;241m.\u001b[39mengine_kwargs)\n\u001b[0;32m--> 916\u001b[0m \u001b[38;5;28;01mreturn\u001b[39;00m \u001b[38;5;28;43mself\u001b[39;49m\u001b[38;5;241;43m.\u001b[39;49m\u001b[43mapply_standard\u001b[49m\u001b[43m(\u001b[49m\u001b[43m)\u001b[49m\n",
      "File \u001b[0;32m/work/pi_cjgleason_umass_edu/.conda/envs/narrowPIXC/lib/python3.12/site-packages/pandas/core/apply.py:1063\u001b[0m, in \u001b[0;36mFrameApply.apply_standard\u001b[0;34m(self)\u001b[0m\n\u001b[1;32m   1061\u001b[0m \u001b[38;5;28;01mdef\u001b[39;00m \u001b[38;5;21mapply_standard\u001b[39m(\u001b[38;5;28mself\u001b[39m):\n\u001b[1;32m   1062\u001b[0m     \u001b[38;5;28;01mif\u001b[39;00m \u001b[38;5;28mself\u001b[39m\u001b[38;5;241m.\u001b[39mengine \u001b[38;5;241m==\u001b[39m \u001b[38;5;124m\"\u001b[39m\u001b[38;5;124mpython\u001b[39m\u001b[38;5;124m\"\u001b[39m:\n\u001b[0;32m-> 1063\u001b[0m         results, res_index \u001b[38;5;241m=\u001b[39m \u001b[38;5;28;43mself\u001b[39;49m\u001b[38;5;241;43m.\u001b[39;49m\u001b[43mapply_series_generator\u001b[49m\u001b[43m(\u001b[49m\u001b[43m)\u001b[49m\n\u001b[1;32m   1064\u001b[0m     \u001b[38;5;28;01melse\u001b[39;00m:\n\u001b[1;32m   1065\u001b[0m         results, res_index \u001b[38;5;241m=\u001b[39m \u001b[38;5;28mself\u001b[39m\u001b[38;5;241m.\u001b[39mapply_series_numba()\n",
      "File \u001b[0;32m/work/pi_cjgleason_umass_edu/.conda/envs/narrowPIXC/lib/python3.12/site-packages/pandas/core/apply.py:1081\u001b[0m, in \u001b[0;36mFrameApply.apply_series_generator\u001b[0;34m(self)\u001b[0m\n\u001b[1;32m   1078\u001b[0m \u001b[38;5;28;01mwith\u001b[39;00m option_context(\u001b[38;5;124m\"\u001b[39m\u001b[38;5;124mmode.chained_assignment\u001b[39m\u001b[38;5;124m\"\u001b[39m, \u001b[38;5;28;01mNone\u001b[39;00m):\n\u001b[1;32m   1079\u001b[0m     \u001b[38;5;28;01mfor\u001b[39;00m i, v \u001b[38;5;129;01min\u001b[39;00m \u001b[38;5;28menumerate\u001b[39m(series_gen):\n\u001b[1;32m   1080\u001b[0m         \u001b[38;5;66;03m# ignore SettingWithCopy here in case the user mutates\u001b[39;00m\n\u001b[0;32m-> 1081\u001b[0m         results[i] \u001b[38;5;241m=\u001b[39m \u001b[38;5;28;43mself\u001b[39;49m\u001b[38;5;241;43m.\u001b[39;49m\u001b[43mfunc\u001b[49m\u001b[43m(\u001b[49m\u001b[43mv\u001b[49m\u001b[43m,\u001b[49m\u001b[43m \u001b[49m\u001b[38;5;241;43m*\u001b[39;49m\u001b[38;5;28;43mself\u001b[39;49m\u001b[38;5;241;43m.\u001b[39;49m\u001b[43margs\u001b[49m\u001b[43m,\u001b[49m\u001b[43m \u001b[49m\u001b[38;5;241;43m*\u001b[39;49m\u001b[38;5;241;43m*\u001b[39;49m\u001b[38;5;28;43mself\u001b[39;49m\u001b[38;5;241;43m.\u001b[39;49m\u001b[43mkwargs\u001b[49m\u001b[43m)\u001b[49m\n\u001b[1;32m   1082\u001b[0m         \u001b[38;5;28;01mif\u001b[39;00m \u001b[38;5;28misinstance\u001b[39m(results[i], ABCSeries):\n\u001b[1;32m   1083\u001b[0m             \u001b[38;5;66;03m# If we have a view on v, we need to make a copy because\u001b[39;00m\n\u001b[1;32m   1084\u001b[0m             \u001b[38;5;66;03m#  series_generator will swap out the underlying data\u001b[39;00m\n\u001b[1;32m   1085\u001b[0m             results[i] \u001b[38;5;241m=\u001b[39m results[i]\u001b[38;5;241m.\u001b[39mcopy(deep\u001b[38;5;241m=\u001b[39m\u001b[38;5;28;01mFalse\u001b[39;00m)\n",
      "\u001b[0;31mTypeError\u001b[0m: getCoverage() missing 1 required positional argument: 'reach_cut'"
     ]
    }
   ],
   "source": [
    "test.iloc[0:10].apply(func=getCoverage)"
   ]
  },
  {
   "cell_type": "code",
   "execution_count": null,
   "id": "ce55544a-2b92-470c-8286-b8c8f3220c7f",
   "metadata": {},
   "outputs": [],
   "source": [
    "test.groupby(['index']).apply(func=getCoverage)"
   ]
  },
  {
   "cell_type": "code",
   "execution_count": 133,
   "id": "af13c0f4-a0f7-42ae-a338-f1d0deae723b",
   "metadata": {},
   "outputs": [
    {
     "ename": "SyntaxError",
     "evalue": "parameter without a default follows parameter with a default (308929227.py, line 1)",
     "output_type": "error",
     "traceback": [
      "\u001b[0;36m  Cell \u001b[0;32mIn[133], line 1\u001b[0;36m\u001b[0m\n\u001b[0;31m    def getCoverage(gdf_PIXC=gdf_PIXC, reach_cut):\u001b[0m\n\u001b[0m                                       ^\u001b[0m\n\u001b[0;31mSyntaxError\u001b[0m\u001b[0;31m:\u001b[0m parameter without a default follows parameter with a default\n"
     ]
    }
   ],
   "source": [
    "def getCoverage(gdf_PIXC=gdf_PIXC, reach_cut):\n",
    "    '''\n",
    "    Ths function XXX\n",
    "    '''\n",
    "    \n",
    "    # Buffer the reach segments by 1/2 the calculated width\n",
    "    # CITE BEIGER\n",
    "    reach_cut['geometry'] = reach_cut.geometry.buffer(distance=(reach_cut.WidthM/2)[0], cap_style='flat')\n",
    "    \n",
    "    # Get pixels in reach\n",
    "    inside = gpd.sjoin(gdf_PIXC, reach_cut, how='inner', predicate='within').rename(columns={'index_right': 'segment'})\n",
    "\n",
    "    if inside.empty:\n",
    "        prop = 0\n",
    "    else:    \n",
    "        # Get number of pixels in each reach segment\n",
    "        counts = pd.DataFrame(inside.segment.value_counts().reset_index().sort_index())\n",
    "        # print(counts)\n",
    "        # Calculate coverage\n",
    "        prop = len(counts.loc[counts['count'] != 0])/10\n",
    "        # print(prop)\n",
    "    return prop"
   ]
  },
  {
   "cell_type": "markdown",
   "id": "5f916cef-3501-40be-8606-b78e94637277",
   "metadata": {},
   "source": [
    "#### Read in and prep NHD"
   ]
  },
  {
   "cell_type": "code",
   "execution_count": 8,
   "id": "52b5dd87-e212-42f5-9ca9-c016d9a8081c",
   "metadata": {},
   "outputs": [],
   "source": [
    "# Set slurm job index\n",
    "i = 4 # HUC4 0108, Connecticut\n",
    "# i = 109 # HUC4 1711, Snoqualmie"
   ]
  },
  {
   "cell_type": "code",
   "execution_count": 9,
   "id": "9ab7adb7-6d02-4f4b-a61f-51fdb9366452",
   "metadata": {},
   "outputs": [],
   "source": [
    "# Read prepped NHD\n",
    "basin = readNHD(index=i)"
   ]
  },
  {
   "cell_type": "markdown",
   "id": "1d7bf050-c406-49c0-870c-5aa0bee1ac95",
   "metadata": {
    "tags": []
   },
   "source": [
    "#### Read in and prep PIXC"
   ]
  },
  {
   "cell_type": "code",
   "execution_count": 10,
   "id": "50c97d18-419c-40b2-9868-f8d1d3585c5d",
   "metadata": {},
   "outputs": [],
   "source": [
    "# pixc_path = '../data/small_rivers/mar_2024_ver_c/SWOT_L2_HR_PIXC_011_345_239R_20240227T044209_20240227T044220_PIC0_01.nc'\n",
    "pixc_path = '../data/small_rivers/mar_2024_ver_c/leaf_off/SWOT_L2_HR_PIXC_014_341_229R_20240429T152954_20240429T153005_PIC0_01.nc'"
   ]
  },
  {
   "cell_type": "code",
   "execution_count": 11,
   "id": "e06a433a-c5fa-4266-a1f8-2b32113a389e",
   "metadata": {},
   "outputs": [
    {
     "data": {
      "text/plain": [
       "'SWOT_L2_HR_PIXC_014_341_229R_20240429T152954_20240429T153005_PIC0_01'"
      ]
     },
     "execution_count": 11,
     "metadata": {},
     "output_type": "execute_result"
    }
   ],
   "source": [
    "tile_name = pixc_path[-71:-3]\n",
    "tile_name"
   ]
  },
  {
   "cell_type": "code",
   "execution_count": 12,
   "id": "e3309add-c44a-403d-bceb-5b7d10d8c8ef",
   "metadata": {},
   "outputs": [],
   "source": [
    "# Read in xarray\n",
    "ds_PIXC = xr.open_mfdataset(paths=pixc_path, group='pixel_cloud', engine='h5netcdf')"
   ]
  },
  {
   "cell_type": "code",
   "execution_count": 13,
   "id": "8e7c6e79-47ea-4681-bd4f-86dea3410325",
   "metadata": {},
   "outputs": [],
   "source": [
    "# # Make dict for legend labels\n",
    "# flags = ds_PIXC.classification.flag_meanings.split() # extract each flag meaning\n",
    "# codes = {idx:k for idx, k in enumerate(flags, start=1)}"
   ]
  },
  {
   "cell_type": "code",
   "execution_count": 14,
   "id": "c0a51f3b-cbeb-4c78-b712-f08555322101",
   "metadata": {},
   "outputs": [],
   "source": [
    "# counts = pd.DataFrame(ds_PIXC.geolocation_qual).value_counts().sort_index()\n",
    "# counts"
   ]
  },
  {
   "cell_type": "code",
   "execution_count": 15,
   "id": "0feda8a4-edf6-497c-91ea-77def1722d50",
   "metadata": {},
   "outputs": [
    {
     "name": "stdout",
     "output_type": "stream",
     "text": [
      "(1552029,)\n"
     ]
    }
   ],
   "source": [
    "# Make mask\n",
    "mask = bitwiseMask(ds=ds_PIXC)\n",
    "\n",
    "# # If dataframe not empty after filtering\n",
    "# if mask.shape != (0,):\n",
    "#     # Make PIXC\n",
    "gdf_PIXC = makeGDF(ds=ds_PIXC, mask=mask, data_var='classification')\n",
    "    # # Append to list\n",
    "    # d.append(gdf_PIXC)"
   ]
  },
  {
   "cell_type": "markdown",
   "id": "d9d09a3c-c057-4a0e-b1ca-b93dc1d14a02",
   "metadata": {
    "tags": []
   },
   "source": [
    "#### Get bounds of PIXC and crop basin to it"
   ]
  },
  {
   "cell_type": "code",
   "execution_count": 16,
   "id": "c93f9b48-ad85-4772-95ec-ee0da6cd6761",
   "metadata": {},
   "outputs": [],
   "source": [
    "# Get bounds of PIXC, construct polygon\n",
    "bounds_PIXC = gdf_PIXC.total_bounds\n",
    "poly = box(bounds_PIXC[0], bounds_PIXC[1], bounds_PIXC[2], bounds_PIXC[3])"
   ]
  },
  {
   "cell_type": "code",
   "execution_count": 17,
   "id": "08b0d0b0-20f8-466b-9429-c9c7330b4403",
   "metadata": {},
   "outputs": [],
   "source": [
    "basin_crop = basin.clip(poly)"
   ]
  },
  {
   "cell_type": "code",
   "execution_count": 18,
   "id": "3019b23b-2e87-488f-b1fa-35c636af9f84",
   "metadata": {},
   "outputs": [
    {
     "data": {
      "text/plain": [
       "['(0, 10]',\n",
       " '(10, 20]',\n",
       " '(150, 200]',\n",
       " '(20, 30]',\n",
       " '(200, 500]',\n",
       " '(30, 40]',\n",
       " '(40, 50]',\n",
       " '(50, 60]',\n",
       " '(60, 70]']"
      ]
     },
     "execution_count": 18,
     "metadata": {},
     "output_type": "execute_result"
    }
   ],
   "source": [
    "# Find width bins present in cropped hydrography\n",
    "bins = list(np.unique(basin_crop.Bin))\n",
    "bins"
   ]
  },
  {
   "cell_type": "code",
   "execution_count": 19,
   "id": "79b0f4ce-3915-4f82-9a4d-2c2ea039b3aa",
   "metadata": {},
   "outputs": [],
   "source": [
    "# Order of all possible bins\n",
    "order = ['(0, 10]', '(10, 20]', '(20, 30]', '(30, 40]', '(40, 50]',\n",
    "         '(50, 60]', '(60, 70]', '(70, 80]', '(80, 90]', '(90, 100]',\n",
    "         '(100, 150]', '(150, 200]']"
   ]
  },
  {
   "cell_type": "code",
   "execution_count": 20,
   "id": "265397d4-c8c4-4181-844b-ac99587a1745",
   "metadata": {},
   "outputs": [
    {
     "data": {
      "text/plain": [
       "['(0, 10]',\n",
       " '(10, 20]',\n",
       " '(20, 30]',\n",
       " '(30, 40]',\n",
       " '(40, 50]',\n",
       " '(50, 60]',\n",
       " '(60, 70]',\n",
       " '(150, 200]']"
      ]
     },
     "execution_count": 20,
     "metadata": {},
     "output_type": "execute_result"
    }
   ],
   "source": [
    "# Make sorted list of bins present\n",
    "ordered = []\n",
    "for binn in order:\n",
    "    if binn in bins:\n",
    "        ordered.append(binn)\n",
    "ordered"
   ]
  },
  {
   "cell_type": "code",
   "execution_count": 32,
   "id": "35d8f561-3d70-4288-b3da-4611d2f6a0ea",
   "metadata": {},
   "outputs": [],
   "source": [
    "# basin_crop.plot()"
   ]
  },
  {
   "cell_type": "markdown",
   "id": "68b0a62e-b031-43b7-a675-2edff6031bf8",
   "metadata": {
    "tags": []
   },
   "source": [
    "#### Segment reach, calculates coverage functions"
   ]
  },
  {
   "cell_type": "code",
   "execution_count": null,
   "id": "72087760-dc38-469a-9944-7526e49bf151",
   "metadata": {},
   "outputs": [],
   "source": [
    "# # Initialize lists\n",
    "# coverage = {}\n",
    "\n",
    "# for binn in ordered:\n",
    "#     reach = basin_crop.loc[basin_crop['Bin'] == binn].sample(n=1)\n",
    "#     # '{}'.format(reach.NHDPlusID)\n",
    "#     # # break\n",
    "#     # reach_bins.append(reach.iloc[0,0])\n",
    "    \n",
    "#     # Get reach segments\n",
    "#     reach_cut = segmentReach(reach)\n",
    "    \n",
    "#     # Get coverage for reach\n",
    "#     prop = getCoverage(gdf_PIXC, reach_cut)\n",
    "    \n",
    "#     coverage[binn] = prop*100"
   ]
  },
  {
   "cell_type": "code",
   "execution_count": 22,
   "id": "e5e25eb9-76db-4eb6-b0ad-a305200c7753",
   "metadata": {},
   "outputs": [
    {
     "data": {
      "text/html": [
       "<div>\n",
       "<style scoped>\n",
       "    .dataframe tbody tr th:only-of-type {\n",
       "        vertical-align: middle;\n",
       "    }\n",
       "\n",
       "    .dataframe tbody tr th {\n",
       "        vertical-align: top;\n",
       "    }\n",
       "\n",
       "    .dataframe thead th {\n",
       "        text-align: right;\n",
       "    }\n",
       "</style>\n",
       "<table border=\"1\" class=\"dataframe\">\n",
       "  <thead>\n",
       "    <tr style=\"text-align: right;\">\n",
       "      <th></th>\n",
       "      <th>Bin</th>\n",
       "      <th>GNIS_Name</th>\n",
       "      <th>LengthKM</th>\n",
       "      <th>NHDPlusID</th>\n",
       "      <th>WidthM</th>\n",
       "      <th>geometry</th>\n",
       "    </tr>\n",
       "  </thead>\n",
       "  <tbody>\n",
       "    <tr>\n",
       "      <th>10037</th>\n",
       "      <td>(0, 10]</td>\n",
       "      <td>None</td>\n",
       "      <td>0.390</td>\n",
       "      <td>1.000090e+13</td>\n",
       "      <td>1.783037</td>\n",
       "      <td>LINESTRING (-8114805.785 5153293.114, -8114811...</td>\n",
       "    </tr>\n",
       "    <tr>\n",
       "      <th>9850</th>\n",
       "      <td>(0, 10]</td>\n",
       "      <td>None</td>\n",
       "      <td>0.626</td>\n",
       "      <td>1.000090e+13</td>\n",
       "      <td>1.318099</td>\n",
       "      <td>LINESTRING (-8118163.797 5153576.016, -8118152...</td>\n",
       "    </tr>\n",
       "    <tr>\n",
       "      <th>5673</th>\n",
       "      <td>(0, 10]</td>\n",
       "      <td>Roaring Brook</td>\n",
       "      <td>1.416</td>\n",
       "      <td>1.000090e+13</td>\n",
       "      <td>4.958987</td>\n",
       "      <td>LINESTRING (-8118476.36 5154270.273, -8118491....</td>\n",
       "    </tr>\n",
       "    <tr>\n",
       "      <th>34255</th>\n",
       "      <td>(0, 10]</td>\n",
       "      <td>None</td>\n",
       "      <td>0.063</td>\n",
       "      <td>1.000090e+13</td>\n",
       "      <td>2.743596</td>\n",
       "      <td>LINESTRING (-8118219.345 5154177.405, -8118230...</td>\n",
       "    </tr>\n",
       "    <tr>\n",
       "      <th>41262</th>\n",
       "      <td>(0, 10]</td>\n",
       "      <td>None</td>\n",
       "      <td>0.271</td>\n",
       "      <td>1.000090e+13</td>\n",
       "      <td>2.546024</td>\n",
       "      <td>LINESTRING (-8117785.518 5154269.344, -8117798...</td>\n",
       "    </tr>\n",
       "    <tr>\n",
       "      <th>...</th>\n",
       "      <td>...</td>\n",
       "      <td>...</td>\n",
       "      <td>...</td>\n",
       "      <td>...</td>\n",
       "      <td>...</td>\n",
       "      <td>...</td>\n",
       "    </tr>\n",
       "    <tr>\n",
       "      <th>49155</th>\n",
       "      <td>(0, 10]</td>\n",
       "      <td>None</td>\n",
       "      <td>1.308</td>\n",
       "      <td>1.000090e+13</td>\n",
       "      <td>3.573792</td>\n",
       "      <td>LINESTRING (-8090214.109 5258455.895, -8090210...</td>\n",
       "    </tr>\n",
       "    <tr>\n",
       "      <th>9639</th>\n",
       "      <td>(0, 10]</td>\n",
       "      <td>Hinsdale Brook</td>\n",
       "      <td>0.098</td>\n",
       "      <td>1.000090e+13</td>\n",
       "      <td>4.042594</td>\n",
       "      <td>LINESTRING (-8089240.269 5258266.295, -8089241...</td>\n",
       "    </tr>\n",
       "    <tr>\n",
       "      <th>35651</th>\n",
       "      <td>(0, 10]</td>\n",
       "      <td>Hinsdale Brook</td>\n",
       "      <td>0.828</td>\n",
       "      <td>1.000090e+13</td>\n",
       "      <td>3.611153</td>\n",
       "      <td>LINESTRING (-8089443.754 5259261.599, -8089443...</td>\n",
       "    </tr>\n",
       "    <tr>\n",
       "      <th>49038</th>\n",
       "      <td>(0, 10]</td>\n",
       "      <td>None</td>\n",
       "      <td>0.825</td>\n",
       "      <td>1.000090e+13</td>\n",
       "      <td>2.310074</td>\n",
       "      <td>LINESTRING (-8090789.054 5259268.377, -8090752...</td>\n",
       "    </tr>\n",
       "    <tr>\n",
       "      <th>48952</th>\n",
       "      <td>(0, 10]</td>\n",
       "      <td>Hinsdale Brook</td>\n",
       "      <td>0.408</td>\n",
       "      <td>1.000090e+13</td>\n",
       "      <td>2.984865</td>\n",
       "      <td>LINESTRING (-8089757.795 5259662.251, -8089747...</td>\n",
       "    </tr>\n",
       "  </tbody>\n",
       "</table>\n",
       "<p>10376 rows × 6 columns</p>\n",
       "</div>"
      ],
      "text/plain": [
       "           Bin       GNIS_Name  LengthKM     NHDPlusID    WidthM  \\\n",
       "10037  (0, 10]            None     0.390  1.000090e+13  1.783037   \n",
       "9850   (0, 10]            None     0.626  1.000090e+13  1.318099   \n",
       "5673   (0, 10]   Roaring Brook     1.416  1.000090e+13  4.958987   \n",
       "34255  (0, 10]            None     0.063  1.000090e+13  2.743596   \n",
       "41262  (0, 10]            None     0.271  1.000090e+13  2.546024   \n",
       "...        ...             ...       ...           ...       ...   \n",
       "49155  (0, 10]            None     1.308  1.000090e+13  3.573792   \n",
       "9639   (0, 10]  Hinsdale Brook     0.098  1.000090e+13  4.042594   \n",
       "35651  (0, 10]  Hinsdale Brook     0.828  1.000090e+13  3.611153   \n",
       "49038  (0, 10]            None     0.825  1.000090e+13  2.310074   \n",
       "48952  (0, 10]  Hinsdale Brook     0.408  1.000090e+13  2.984865   \n",
       "\n",
       "                                                geometry  \n",
       "10037  LINESTRING (-8114805.785 5153293.114, -8114811...  \n",
       "9850   LINESTRING (-8118163.797 5153576.016, -8118152...  \n",
       "5673   LINESTRING (-8118476.36 5154270.273, -8118491....  \n",
       "34255  LINESTRING (-8118219.345 5154177.405, -8118230...  \n",
       "41262  LINESTRING (-8117785.518 5154269.344, -8117798...  \n",
       "...                                                  ...  \n",
       "49155  LINESTRING (-8090214.109 5258455.895, -8090210...  \n",
       "9639   LINESTRING (-8089240.269 5258266.295, -8089241...  \n",
       "35651  LINESTRING (-8089443.754 5259261.599, -8089443...  \n",
       "49038  LINESTRING (-8090789.054 5259268.377, -8090752...  \n",
       "48952  LINESTRING (-8089757.795 5259662.251, -8089747...  \n",
       "\n",
       "[10376 rows x 6 columns]"
      ]
     },
     "execution_count": 22,
     "metadata": {},
     "output_type": "execute_result"
    }
   ],
   "source": [
    "basin_crop"
   ]
  },
  {
   "cell_type": "code",
   "execution_count": 48,
   "id": "15078d15-e523-48cd-9cbf-d65cdcd70fb5",
   "metadata": {},
   "outputs": [
    {
     "data": {
      "text/html": [
       "<div>\n",
       "<style scoped>\n",
       "    .dataframe tbody tr th:only-of-type {\n",
       "        vertical-align: middle;\n",
       "    }\n",
       "\n",
       "    .dataframe tbody tr th {\n",
       "        vertical-align: top;\n",
       "    }\n",
       "\n",
       "    .dataframe thead th {\n",
       "        text-align: right;\n",
       "    }\n",
       "</style>\n",
       "<table border=\"1\" class=\"dataframe\">\n",
       "  <thead>\n",
       "    <tr style=\"text-align: right;\">\n",
       "      <th></th>\n",
       "      <th>Bin</th>\n",
       "      <th>GNIS_Name</th>\n",
       "      <th>LengthKM</th>\n",
       "      <th>NHDPlusID</th>\n",
       "      <th>WidthM</th>\n",
       "      <th>geometry</th>\n",
       "    </tr>\n",
       "  </thead>\n",
       "  <tbody>\n",
       "    <tr>\n",
       "      <th>42917</th>\n",
       "      <td>(0, 10]</td>\n",
       "      <td>None</td>\n",
       "      <td>0.187</td>\n",
       "      <td>1.000090e+13</td>\n",
       "      <td>0.905916</td>\n",
       "      <td>LINESTRING (-8082079.602 5156393.453, -8082059...</td>\n",
       "    </tr>\n",
       "    <tr>\n",
       "      <th>9219</th>\n",
       "      <td>(0, 10]</td>\n",
       "      <td>Roaring Brook</td>\n",
       "      <td>0.743</td>\n",
       "      <td>1.000090e+13</td>\n",
       "      <td>5.538083</td>\n",
       "      <td>LINESTRING (-8060727.019 5196876.809, -8060735...</td>\n",
       "    </tr>\n",
       "    <tr>\n",
       "      <th>63553</th>\n",
       "      <td>(10, 20]</td>\n",
       "      <td>Longmeadow Brook</td>\n",
       "      <td>0.023</td>\n",
       "      <td>1.000090e+13</td>\n",
       "      <td>11.788978</td>\n",
       "      <td>LINESTRING (-8014851.777 5221154.088, -8014864...</td>\n",
       "    </tr>\n",
       "    <tr>\n",
       "      <th>18131</th>\n",
       "      <td>(0, 10]</td>\n",
       "      <td>Avery Brook</td>\n",
       "      <td>1.273</td>\n",
       "      <td>1.000090e+13</td>\n",
       "      <td>7.108016</td>\n",
       "      <td>LINESTRING (-8105680.1 5258736.323, -8105686.7...</td>\n",
       "    </tr>\n",
       "    <tr>\n",
       "      <th>13154</th>\n",
       "      <td>(0, 10]</td>\n",
       "      <td>Harris Brook</td>\n",
       "      <td>1.681</td>\n",
       "      <td>1.000090e+13</td>\n",
       "      <td>4.292587</td>\n",
       "      <td>LINESTRING (-8065991.088 5195045.992, -8066009...</td>\n",
       "    </tr>\n",
       "  </tbody>\n",
       "</table>\n",
       "</div>"
      ],
      "text/plain": [
       "            Bin         GNIS_Name  LengthKM     NHDPlusID     WidthM  \\\n",
       "42917   (0, 10]              None     0.187  1.000090e+13   0.905916   \n",
       "9219    (0, 10]     Roaring Brook     0.743  1.000090e+13   5.538083   \n",
       "63553  (10, 20]  Longmeadow Brook     0.023  1.000090e+13  11.788978   \n",
       "18131   (0, 10]       Avery Brook     1.273  1.000090e+13   7.108016   \n",
       "13154   (0, 10]      Harris Brook     1.681  1.000090e+13   4.292587   \n",
       "\n",
       "                                                geometry  \n",
       "42917  LINESTRING (-8082079.602 5156393.453, -8082059...  \n",
       "9219   LINESTRING (-8060727.019 5196876.809, -8060735...  \n",
       "63553  LINESTRING (-8014851.777 5221154.088, -8014864...  \n",
       "18131  LINESTRING (-8105680.1 5258736.323, -8105686.7...  \n",
       "13154  LINESTRING (-8065991.088 5195045.992, -8066009...  "
      ]
     },
     "execution_count": 48,
     "metadata": {},
     "output_type": "execute_result"
    }
   ],
   "source": [
    "test = basin_crop.sample(n=5)\n",
    "test"
   ]
  },
  {
   "cell_type": "code",
   "execution_count": 21,
   "id": "d13c0e44-d131-426e-8cc4-8c6bdb902701",
   "metadata": {},
   "outputs": [
    {
     "ename": "NameError",
     "evalue": "name 'test' is not defined",
     "output_type": "error",
     "traceback": [
      "\u001b[0;31m---------------------------------------------------------------------------\u001b[0m",
      "\u001b[0;31mNameError\u001b[0m                                 Traceback (most recent call last)",
      "Cell \u001b[0;32mIn[21], line 2\u001b[0m\n\u001b[1;32m      1\u001b[0m \u001b[38;5;66;03m# Try with apply()\u001b[39;00m\n\u001b[0;32m----> 2\u001b[0m test[\u001b[38;5;124m'\u001b[39m\u001b[38;5;124msegments\u001b[39m\u001b[38;5;124m'\u001b[39m] \u001b[38;5;241m=\u001b[39m \u001b[43mtest\u001b[49m\u001b[38;5;241m.\u001b[39mapply(segmentReach, axis\u001b[38;5;241m=\u001b[39m\u001b[38;5;241m1\u001b[39m)\n",
      "\u001b[0;31mNameError\u001b[0m: name 'test' is not defined"
     ]
    }
   ],
   "source": [
    "# Try with apply()\n",
    "test['segments'] = test.apply(segmentReach, axis=1)"
   ]
  },
  {
   "cell_type": "code",
   "execution_count": null,
   "id": "5f1218a4-515e-4124-8d63-9f79fc36c2a9",
   "metadata": {},
   "outputs": [],
   "source": [
    "test"
   ]
  },
  {
   "cell_type": "code",
   "execution_count": 193,
   "id": "366a1c48-514a-46d0-9eec-dc54d684a69c",
   "metadata": {},
   "outputs": [
    {
     "data": {
      "text/plain": [
       "[<LINESTRING (-8116898.361 5159286.116, -8116894.265 5159271.319, -8116883.52...>,\n",
       " <LINESTRING (-8116883.527 5159263.018, -8116872.981 5159254.864, -8116857.77...>,\n",
       " <LINESTRING (-8116857.775 5159251.405, -8116829.573 5159244.989, -8116829.57...>,\n",
       " <LINESTRING (-8116829.57 5159244.99, -8116800.764 5159247.617)>,\n",
       " <LINESTRING (-8116800.764 5159247.617, -8116793.55 5159248.274, -8116773.912...>,\n",
       " <LINESTRING (-8116773.912 5159257.464, -8116747.713 5159269.724)>,\n",
       " <LINESTRING (-8116747.713 5159269.724, -8116732.102 5159277.03, -8116722.284...>,\n",
       " <LINESTRING (-8116721.967 5159282.813, -8116693.419 5159287.474)>,\n",
       " <LINESTRING (-8116693.419 5159287.474, -8116687.062 5159288.512, -8116665.79...>,\n",
       " <LINESTRING (-8116665.795 5159281.216, -8116653.503 5159277, -8116640.39 515...>]"
      ]
     },
     "execution_count": 193,
     "metadata": {},
     "output_type": "execute_result"
    }
   ],
   "source": [
    "test.iloc[0]['segments']"
   ]
  },
  {
   "cell_type": "code",
   "execution_count": 85,
   "id": "b7ab716b-d42c-4acd-aa83-c10fbff8b4fa",
   "metadata": {},
   "outputs": [
    {
     "data": {
      "image/png": "[encoded data removed]",
      "text/plain": [
       "<Figure size 640x480 with 1 Axes>"
      ]
     },
     "metadata": {},
     "output_type": "display_data"
    }
   ],
   "source": [
    "# plt.scatter(x=ordered, y=coverage, c='k')\n",
    "plt.scatter(x=coverage.keys(), y=coverage.values(), c='k')\n",
    "plt.title('Percent of reach detected in HUC4 0108 by \\n'\n",
    "          + tile_name)\n",
    "plt.xticks(rotation=-45);\n",
    "plt.xlabel('Bankfull Width (m)')\n",
    "plt.ylabel('Percent Detected')\n",
    "plt.savefig(fname='./figures_for_unit_test/one_tile_one_reach_per_bin.png', bbox_inches='tight')"
   ]
  },
  {
   "cell_type": "code",
   "execution_count": null,
   "id": "911d567b-680b-4585-87f6-3b2e2fff5e78",
   "metadata": {},
   "outputs": [],
   "source": []
  },
  {
   "cell_type": "markdown",
   "id": "f5193656-d5c6-42b9-99ee-44d188e4531e",
   "metadata": {
    "tags": []
   },
   "source": [
    "#### TESTING"
   ]
  },
  {
   "cell_type": "code",
   "execution_count": 22,
   "id": "f8a4b298-7d94-4ec5-b7c9-ac1d3d8c4643",
   "metadata": {},
   "outputs": [],
   "source": [
    "# Initialize lists\n",
    "coverage = []\n",
    "reach_bins = []"
   ]
  },
  {
   "cell_type": "code",
   "execution_count": 23,
   "id": "1454bdd9-5384-468b-bfbf-6c08c883486e",
   "metadata": {},
   "outputs": [
    {
     "data": {
      "text/plain": [
       "'(150, 200]'"
      ]
     },
     "execution_count": 23,
     "metadata": {},
     "output_type": "execute_result"
    }
   ],
   "source": [
    "binn = bins[2]\n",
    "binn"
   ]
  },
  {
   "cell_type": "code",
   "execution_count": 24,
   "id": "5d9ade2d-1c5d-484e-b4e3-7ce71e9e6f0d",
   "metadata": {},
   "outputs": [],
   "source": [
    "reach = basin_crop.loc[basin_crop['Bin'] == binn].sample(n=1)"
   ]
  },
  {
   "cell_type": "code",
   "execution_count": 25,
   "id": "f5037746-b659-45c4-938e-d30291ad1553",
   "metadata": {},
   "outputs": [
    {
     "data": {
      "text/html": [
       "<div>\n",
       "<style scoped>\n",
       "    .dataframe tbody tr th:only-of-type {\n",
       "        vertical-align: middle;\n",
       "    }\n",
       "\n",
       "    .dataframe tbody tr th {\n",
       "        vertical-align: top;\n",
       "    }\n",
       "\n",
       "    .dataframe thead th {\n",
       "        text-align: right;\n",
       "    }\n",
       "</style>\n",
       "<table border=\"1\" class=\"dataframe\">\n",
       "  <thead>\n",
       "    <tr style=\"text-align: right;\">\n",
       "      <th></th>\n",
       "      <th>Bin</th>\n",
       "      <th>GNIS_Name</th>\n",
       "      <th>LengthKM</th>\n",
       "      <th>NHDPlusID</th>\n",
       "      <th>WidthM</th>\n",
       "      <th>geometry</th>\n",
       "    </tr>\n",
       "  </thead>\n",
       "  <tbody>\n",
       "    <tr>\n",
       "      <th>64496</th>\n",
       "      <td>(150, 200]</td>\n",
       "      <td>Connecticut River</td>\n",
       "      <td>1.663</td>\n",
       "      <td>1.000090e+13</td>\n",
       "      <td>191.781368</td>\n",
       "      <td>LINESTRING (-8083489.406 5213595.38, -8083505....</td>\n",
       "    </tr>\n",
       "  </tbody>\n",
       "</table>\n",
       "</div>"
      ],
      "text/plain": [
       "              Bin          GNIS_Name  LengthKM     NHDPlusID      WidthM  \\\n",
       "64496  (150, 200]  Connecticut River     1.663  1.000090e+13  191.781368   \n",
       "\n",
       "                                                geometry  \n",
       "64496  LINESTRING (-8083489.406 5213595.38, -8083505....  "
      ]
     },
     "execution_count": 25,
     "metadata": {},
     "output_type": "execute_result"
    }
   ],
   "source": [
    "reach"
   ]
  },
  {
   "cell_type": "code",
   "execution_count": 134,
   "id": "9c10e93e-7a30-4e37-9c48-5bb16f004831",
   "metadata": {},
   "outputs": [
    {
     "data": {
      "text/plain": [
       "<Axes: >"
      ]
     },
     "execution_count": 134,
     "metadata": {},
     "output_type": "execute_result"
    },
    {
     "data": {
      "image/png": "[encoded data removed]",
      "text/plain": [
       "<Figure size 640x480 with 1 Axes>"
      ]
     },
     "metadata": {},
     "output_type": "display_data"
    }
   ],
   "source": [
    "reach.plot()"
   ]
  },
  {
   "cell_type": "code",
   "execution_count": 135,
   "id": "cbafe53b-57a0-4447-bf02-162282847014",
   "metadata": {},
   "outputs": [],
   "source": [
    "reach_bins.append(reach.iloc[0,0])"
   ]
  },
  {
   "cell_type": "code",
   "execution_count": 136,
   "id": "3ecf5de1-a97b-4a05-8317-de49abeddaa4",
   "metadata": {},
   "outputs": [
    {
     "data": {
      "text/plain": [
       "['(150, 200]', '(150, 200]']"
      ]
     },
     "execution_count": 136,
     "metadata": {},
     "output_type": "execute_result"
    }
   ],
   "source": [
    "reach_bins"
   ]
  },
  {
   "cell_type": "code",
   "execution_count": 26,
   "id": "953100c7-83cf-4332-ba4e-965c6ca4a19e",
   "metadata": {},
   "outputs": [
    {
     "data": {
      "text/plain": [
       "<Axes: >"
      ]
     },
     "execution_count": 26,
     "metadata": {},
     "output_type": "execute_result"
    },
    {
     "data": {
      "image/png": "[encoded data removed]",
      "text/plain": [
       "<Figure size 640x480 with 1 Axes>"
      ]
     },
     "metadata": {},
     "output_type": "display_data"
    }
   ],
   "source": [
    "# Convert MultiLineString Z to LineString (returns GeoSeries)\n",
    "gs = reach.geometry\n",
    "gs.plot()"
   ]
  },
  {
   "cell_type": "code",
   "execution_count": 27,
   "id": "7c141564-aff0-4baa-b403-460d0cdfc0f9",
   "metadata": {},
   "outputs": [
    {
     "data": {
      "text/plain": [
       "64496    LINESTRING (-8083489.406 5213595.38, -8083505....\n",
       "Name: geometry, dtype: geometry"
      ]
     },
     "execution_count": 27,
     "metadata": {},
     "output_type": "execute_result"
    }
   ],
   "source": [
    "gs"
   ]
  },
  {
   "cell_type": "code",
   "execution_count": 28,
   "id": "e8b51c2f-a4ce-424a-b93a-0a907c8cbd01",
   "metadata": {},
   "outputs": [
    {
     "data": {
      "image/svg+xml": [
       "<svg xmlns=\"http://www.w3.org/2000/svg\" xmlns:xlink=\"http://www.w3.org/1999/xlink\" width=\"300\" height=\"300\" viewBox=\"-8085767.202100367 5213507.772182331 2365.4031698377803 468.0072996849194\" preserveAspectRatio=\"xMinYMin meet\"><g transform=\"matrix(1,0,0,-1,0,10427483.551664349)\"><polyline fill=\"none\" stroke=\"#66cc99\" stroke-width=\"15.769354465585202\" points=\"-8083489.406455338,5213595.37970714 -8083505.57004175,5213597.5386817455 -8083518.95064161,5213599.476739538 -8083532.353505315,5213601.344504968 -8083545.734105213,5213603.362898131 -8083559.114705078,5213605.310998939 -8083572.495304895,5213607.178765545 -8083585.875904752,5213609.116825314 -8083599.278768419,5213610.894216169 -8083612.681632075,5213612.661565526 -8083626.08449565,5213614.268245859 -8083639.487359185,5213615.794591777 -8083652.912486512,5213617.130143013 -8083666.3821414495,5213618.144355542 -8083679.874059916,5213618.475723089 -8083693.410505853,5213618.214622109 -8083706.969215585,5213617.782809865 -8083720.505661523,5213617.521708897 -8083734.019843788,5213617.672323315 -8083747.4375495175,5213618.445531824 -8083760.884940736,5213619.781083406 -8083774.28780427,5213621.307430216 -8083787.712931786,5213622.994446757 -8083801.123216791,5213624.84213314 -8083814.503816661,5213626.790238381 -8083827.884416572,5213628.818678831 -8083841.235331391,5213631.0178312315 -8083854.571403657,5213633.297318995 -8083867.88521212,5213635.747518903 -8083881.1322289165,5213638.207761377 -8083894.342139361,5213640.919051084 -8083907.477837145,5213644.212769866 -8083920.494794316,5213647.76757853 -8083933.526594219,5213651.583477247 -8083946.5212876,5213655.319042507 -8083959.59019385,5213658.873855297 -8083972.688785114,5213662.097287178 -8083985.92838071,5213664.7182067195 -8083999.264452944,5213666.917367479 -8084012.645052768,5213668.765062478 -8084026.0330737615,5213670.361710477 -8084039.495307684,5213671.888065404 -8084052.942698925,5213673.243708338 -8084066.4197753975,5213674.669644728 -8084079.844902835,5213676.196000388 -8084093.270030364,5213677.883026721 -8084106.628366352,5213679.821101026 -8084119.934753441,5213682.100600588 -8084133.1891916385,5213684.721525665 -8084146.384259552,5213687.5232059425 -8084159.542221108,5213690.5658930475 -8084172.677918873,5213693.7893357 -8084185.813616675,5213697.0830729 -8084198.904786753,5213700.477230558 -8084211.981114228,5213703.861347515 -8084225.072284338,5213707.325801142 -8084238.163454419,5213710.719962468 -8084251.276888336,5213714.013705597 -8084264.412586108,5213717.237156242 -8084277.57054772,5213720.370230436 -8084290.787879577,5213723.252256855 -8084304.020053896,5213725.87319336 -8084317.2670707125,5213728.323417321 -8084330.58087911,5213730.602928573 -8084343.887266224,5213732.89248235 -8084357.2456023665,5213735.091658959 -8084370.544568117,5213737.270752207 -8084383.902904227,5213739.399636065 -8084397.261240274,5213741.418058731 -8084410.6195763275,5213743.446523813 -8084423.970491036,5213745.394653533 -8084437.351090937,5213747.332741663 -8084450.73169084,5213749.280872165 -8084464.112290688,5213751.128583261 -8084477.492890542,5213752.9863367155 -8084490.895754299,5213754.854132484 -8084504.276354148,5213756.701844678 -8084517.679217895,5213758.559599198 -8084531.059817752,5213760.407312118 -8084544.462681504,5213762.275109363 -8084557.843281363,5213764.132865001 -8084571.246145111,5213765.98057899 -8084584.604481085,5213767.848377372 -8084598.007344873,5213769.776428081 -8084611.387944787,5213771.724563211 -8084624.7462808015,5213773.662656764 -8084636.219609862,5213780.290370378 -8084647.819101168,5213787.26955915 -8084659.529911831,5213794.057954473 -8084671.441097297,5213800.434631151 -8084683.708504651,5213806.108369088 -8084696.146601621,5213811.380428496 -8084708.710860501,5213816.3813554 -8084721.460651625,5213821.040854923 -8084734.329183287,5213825.288632225 -8084747.286770274,5213829.094560583 -8084760.340833907,5213832.488765657 -8084773.45426786,5213835.782551203 -8084786.589965572,5213838.82528605 -8084799.762769769,5213841.868021833 -8084812.965259113,5213844.840464018 -8084826.175169706,5213847.712486307 -8084839.414765446,5213850.50417275 -8084852.62467604,5213853.376196761 -8084865.864271833,5213856.2582637025 -8084879.044497237,5213859.130289489 -8084892.232144035,5213862.173031791 -8084905.367841803,5213865.306154035 -8084918.503539616,5213868.519614159 -8084931.416598883,5213872.4159389315 -8084943.966015332,5213877.677993089 -8084956.552538131,5213882.678955017 -8084969.510124906,5213886.063137305 -8084982.935252347,5213887.499147991 -8084996.508805312,5213888.171957208 -8085009.622236515,5213886.384446382 -8085022.297809563,5213881.63451097 -8085034.965961319,5213876.894620048 -8085047.626691688,5213871.984015674 -8085060.257736858,5213867.073413871 -8085072.873939426,5213862.1427304335 -8085085.527248489,5213857.232133712 -8085098.2102427855,5213852.401876201 -8085110.900658467,5213847.742336547 -8085123.613338085,5213843.163135779 -8085136.415073411,5213838.845031026 -8085149.239072713,5213834.687601321 -8085162.137285173,5213830.871603554 -8085175.094868151,5213827.306658772 -8085188.186034795,5213824.334196587 -8085201.470155493,5213821.9542163685 -8085214.806225554,5213820.086381385 -8085228.2758791875,5213818.630270747 -8085241.775218103,5213817.344875153 -8085255.304242261,5213816.159900185 -8085268.825845069,5213814.874504904 -8085282.295498656,5213813.338058691 -8085295.676096536,5213811.550561715 -8085309.012166311,5213809.170584654 -8085322.296286911,5213806.619893577 -8085335.543300981,5213803.988866937 -8085348.820000232,5213801.347798959 -8085362.104120785,5213798.716773747 -8085375.3511347575,5213795.915034829 -8085388.6204125695,5213793.022918505 -8085401.8451625565,5213790.050466928 -8085415.01054212,5213786.997680198 -8085428.146236388,5213783.754096209 -8085441.237402741,5213780.279547113 -8085454.254356083,5213776.724663308 -8085467.197096297,5213772.898646821 -8085480.058202165,5213768.922001974 -8085492.845094905,5213764.674225025 -8085505.535510599,5213760.09506441 -8085518.114606702,5213755.274898485 -8085530.649174915,5213750.273979436 -8085543.094687473,5213745.102349564 -8085555.517935994,5213739.679673331 -8085567.866971497,5213734.166622622 -8085580.18632177,5213728.583281456 -8085592.498250695,5213722.919607985 -8085604.787915673,5213717.145476536 -8085617.077580655,5213711.391432483 -8085629.367245683,5213705.727769313 -8085641.679174605,5213700.054067577 -8085654.0059462,5213694.5410399465 -8085667.453333441,5213688.6062540505 -8085679.594575559,5213688.435529718\" opacity=\"0.8\" /></g></svg>"
      ],
      "text/plain": [
       "<LINESTRING (-8083489.406 5213595.38, -8083505.57 5213597.539, -8083518.951 ...>"
      ]
     },
     "execution_count": 28,
     "metadata": {},
     "output_type": "execute_result"
    }
   ],
   "source": [
    "# Extract line segment from GeoSeries\n",
    "line = gs[reach.index[0]]\n",
    "line"
   ]
  },
  {
   "cell_type": "code",
   "execution_count": 139,
   "id": "861dc765-0273-46de-ae02-6123e3fd3d4f",
   "metadata": {},
   "outputs": [
    {
     "name": "stdout",
     "output_type": "stream",
     "text": [
      "817.5229342573197\n"
     ]
    }
   ],
   "source": [
    "print(line.length)"
   ]
  },
  {
   "cell_type": "code",
   "execution_count": 31,
   "id": "b75ccfb3-6d17-40b6-9592-2f8b7fa44235",
   "metadata": {},
   "outputs": [
    {
     "name": "stdout",
     "output_type": "stream",
     "text": [
      "225.97472903513147\n"
     ]
    }
   ],
   "source": [
    "# Find length of segments\n",
    "dist = line.length/10\n",
    "print(dist)"
   ]
  },
  {
   "cell_type": "code",
   "execution_count": 32,
   "id": "1ede40cf-1cf6-40c5-8ddb-c1e0dc007758",
   "metadata": {},
   "outputs": [],
   "source": [
    "# Make empty list for segments\n",
    "segments = []"
   ]
  },
  {
   "cell_type": "code",
   "execution_count": 54,
   "id": "598abf65-30e5-444d-8603-35208b768d47",
   "metadata": {},
   "outputs": [],
   "source": [
    "# Segment the reach\n",
    "for i in range(9):\n",
    "    # Chop the reach, store remainder\n",
    "    new, line = cut(line=line, distance=dist)\n",
    "    # Append new segment to GeoSeries of all segments\n",
    "    segments.append(new)\n",
    "# Append final segment of reach   \n",
    "segments.append(line)"
   ]
  },
  {
   "cell_type": "code",
   "execution_count": 55,
   "id": "28506b49-2851-46c1-9e8c-d61c89c7509f",
   "metadata": {},
   "outputs": [
    {
     "data": {
      "text/plain": [
       "[<LINESTRING (-8083489.406 5213595.38, -8083505.57 5213597.539, -8083518.951 ...>,\n",
       " <LINESTRING (-8083713.872 5213617.65, -8083720.506 5213617.522, -8083734.02 ...>,\n",
       " <LINESTRING (-8083936.494 5213652.436, -8083946.521 5213655.319, -8083959.59...>,\n",
       " <LINESTRING (-8084158.901 5213690.418, -8084159.542 5213690.566, -8084172.67...>,\n",
       " <LINESTRING (-8084379.499 5213738.698, -8084383.903 5213739.4, -8084397.261 ...>,\n",
       " <LINESTRING (-8084603.217 5213770.535, -8084611.388 5213771.725, -8084624.74...>,\n",
       " <LINESTRING (-8084814.588 5213845.193, -8084826.175 5213847.712, -8084839.41...>,\n",
       " <LINESTRING (-8085033.136 5213877.579, -8085034.966 5213876.895, -8085047.62...>,\n",
       " <LINESTRING (-8085249.538 5213816.665, -8085255.304 5213816.16, -8085268.826...>,\n",
       " <LINESTRING (-8085470.669 5213771.825, -8085480.058 5213768.922, -8085492.84...>]"
      ]
     },
     "execution_count": 55,
     "metadata": {},
     "output_type": "execute_result"
    }
   ],
   "source": [
    "segments"
   ]
  },
  {
   "cell_type": "code",
   "execution_count": 57,
   "id": "6caef1b7-9f5f-42ab-a256-98293c7a621a",
   "metadata": {},
   "outputs": [],
   "source": [
    "# Make dict for constructing new GeoDataFrame\n",
    "d = {}"
   ]
  },
  {
   "cell_type": "code",
   "execution_count": 58,
   "id": "ee22709e-023e-4f55-9442-4fa6f6d3674d",
   "metadata": {},
   "outputs": [],
   "source": [
    "for i in range(reach.shape[1]):\n",
    "    d[reach.iloc[:,i].name] = reach.iloc[0,i]"
   ]
  },
  {
   "cell_type": "code",
   "execution_count": 59,
   "id": "4d6a7024-d9c6-4a68-8c9a-2880d427b1ab",
   "metadata": {},
   "outputs": [
    {
     "data": {
      "text/plain": [
       "{'Bin': '(150, 200]',\n",
       " 'GNIS_Name': 'Connecticut River',\n",
       " 'LengthKM': np.float64(1.663),\n",
       " 'NHDPlusID': np.float64(10000900065602.0),\n",
       " 'WidthM': np.float64(191.78136792049477),\n",
       " 'geometry': <LINESTRING (-8083489.406 5213595.38, -8083505.57 5213597.539, -8083518.951 ...>}"
      ]
     },
     "execution_count": 59,
     "metadata": {},
     "output_type": "execute_result"
    }
   ],
   "source": [
    "d"
   ]
  },
  {
   "cell_type": "code",
   "execution_count": null,
   "id": "7e59a4d7-87db-40ba-b7a3-5ffcd7120a04",
   "metadata": {},
   "outputs": [],
   "source": [
    "# Rename geometry for full reach\n",
    "d['geometry_full'] = d['geometry']"
   ]
  },
  {
   "cell_type": "code",
   "execution_count": null,
   "id": "14a9e757-5b86-49e6-818c-37f9c3754ca3",
   "metadata": {},
   "outputs": [],
   "source": [
    "# Make GeoDataFrame with new reach segments\n",
    "reach_cut = gpd.GeoDataFrame(data=d, index=range(len(segments)),\n",
    "                             geometry=segments, crs=reach.crs)"
   ]
  },
  {
   "cell_type": "code",
   "execution_count": 145,
   "id": "a62ab822-42d1-4268-bd14-bb78d759dc4d",
   "metadata": {},
   "outputs": [
    {
     "data": {
      "text/html": [
       "<div>\n",
       "<style scoped>\n",
       "    .dataframe tbody tr th:only-of-type {\n",
       "        vertical-align: middle;\n",
       "    }\n",
       "\n",
       "    .dataframe tbody tr th {\n",
       "        vertical-align: top;\n",
       "    }\n",
       "\n",
       "    .dataframe thead th {\n",
       "        text-align: right;\n",
       "    }\n",
       "</style>\n",
       "<table border=\"1\" class=\"dataframe\">\n",
       "  <thead>\n",
       "    <tr style=\"text-align: right;\">\n",
       "      <th></th>\n",
       "      <th>Bin</th>\n",
       "      <th>GNIS_Name</th>\n",
       "      <th>LengthKM</th>\n",
       "      <th>NHDPlusID</th>\n",
       "      <th>WidthM</th>\n",
       "      <th>geometry</th>\n",
       "      <th>geometry_full</th>\n",
       "    </tr>\n",
       "  </thead>\n",
       "  <tbody>\n",
       "    <tr>\n",
       "      <th>0</th>\n",
       "      <td>(150, 200]</td>\n",
       "      <td>Connecticut River</td>\n",
       "      <td>0.608</td>\n",
       "      <td>1.000090e+13</td>\n",
       "      <td>194.436072</td>\n",
       "      <td>LINESTRING (-8084462.395 5196331.153, -8084464...</td>\n",
       "      <td>LINESTRING (-8084462.394799335 5196331.1526111...</td>\n",
       "    </tr>\n",
       "    <tr>\n",
       "      <th>1</th>\n",
       "      <td>(150, 200]</td>\n",
       "      <td>Connecticut River</td>\n",
       "      <td>0.608</td>\n",
       "      <td>1.000090e+13</td>\n",
       "      <td>194.436072</td>\n",
       "      <td>LINESTRING (-8084478.966 5196251.099, -8084481...</td>\n",
       "      <td>LINESTRING (-8084462.394799335 5196331.1526111...</td>\n",
       "    </tr>\n",
       "    <tr>\n",
       "      <th>2</th>\n",
       "      <td>(150, 200]</td>\n",
       "      <td>Connecticut River</td>\n",
       "      <td>0.608</td>\n",
       "      <td>1.000090e+13</td>\n",
       "      <td>194.436072</td>\n",
       "      <td>LINESTRING (-8084490.999 5196170.283, -8084492...</td>\n",
       "      <td>LINESTRING (-8084462.394799335 5196331.1526111...</td>\n",
       "    </tr>\n",
       "    <tr>\n",
       "      <th>3</th>\n",
       "      <td>(150, 200]</td>\n",
       "      <td>Connecticut River</td>\n",
       "      <td>0.608</td>\n",
       "      <td>1.000090e+13</td>\n",
       "      <td>194.436072</td>\n",
       "      <td>LINESTRING (-8084492.726 5196088.648, -8084491...</td>\n",
       "      <td>LINESTRING (-8084462.394799335 5196331.1526111...</td>\n",
       "    </tr>\n",
       "    <tr>\n",
       "      <th>4</th>\n",
       "      <td>(150, 200]</td>\n",
       "      <td>Connecticut River</td>\n",
       "      <td>0.608</td>\n",
       "      <td>1.000090e+13</td>\n",
       "      <td>194.436072</td>\n",
       "      <td>LINESTRING (-8084467.432 5196011.574, -8084465...</td>\n",
       "      <td>LINESTRING (-8084462.394799335 5196331.1526111...</td>\n",
       "    </tr>\n",
       "    <tr>\n",
       "      <th>5</th>\n",
       "      <td>(150, 200]</td>\n",
       "      <td>Connecticut River</td>\n",
       "      <td>0.608</td>\n",
       "      <td>1.000090e+13</td>\n",
       "      <td>194.436072</td>\n",
       "      <td>LINESTRING (-8084462.072 5195930.128, -8084461...</td>\n",
       "      <td>LINESTRING (-8084462.394799335 5196331.1526111...</td>\n",
       "    </tr>\n",
       "    <tr>\n",
       "      <th>6</th>\n",
       "      <td>(150, 200]</td>\n",
       "      <td>Connecticut River</td>\n",
       "      <td>0.608</td>\n",
       "      <td>1.000090e+13</td>\n",
       "      <td>194.436072</td>\n",
       "      <td>LINESTRING (-8084456.281 5195848.703, -8084454...</td>\n",
       "      <td>LINESTRING (-8084462.394799335 5196331.1526111...</td>\n",
       "    </tr>\n",
       "    <tr>\n",
       "      <th>7</th>\n",
       "      <td>(150, 200]</td>\n",
       "      <td>Connecticut River</td>\n",
       "      <td>0.608</td>\n",
       "      <td>1.000090e+13</td>\n",
       "      <td>194.436072</td>\n",
       "      <td>LINESTRING (-8084435.355 5195769.707, -8084432...</td>\n",
       "      <td>LINESTRING (-8084462.394799335 5196331.1526111...</td>\n",
       "    </tr>\n",
       "    <tr>\n",
       "      <th>8</th>\n",
       "      <td>(150, 200]</td>\n",
       "      <td>Connecticut River</td>\n",
       "      <td>0.608</td>\n",
       "      <td>1.000090e+13</td>\n",
       "      <td>194.436072</td>\n",
       "      <td>LINESTRING (-8084425.743 5195689.095, -8084425...</td>\n",
       "      <td>LINESTRING (-8084462.394799335 5196331.1526111...</td>\n",
       "    </tr>\n",
       "    <tr>\n",
       "      <th>9</th>\n",
       "      <td>(150, 200]</td>\n",
       "      <td>Connecticut River</td>\n",
       "      <td>0.608</td>\n",
       "      <td>1.000090e+13</td>\n",
       "      <td>194.436072</td>\n",
       "      <td>LINESTRING (-8084399.485 5195613.583, -8084393...</td>\n",
       "      <td>LINESTRING (-8084462.394799335 5196331.1526111...</td>\n",
       "    </tr>\n",
       "  </tbody>\n",
       "</table>\n",
       "</div>"
      ],
      "text/plain": [
       "          Bin          GNIS_Name  LengthKM     NHDPlusID      WidthM  \\\n",
       "0  (150, 200]  Connecticut River     0.608  1.000090e+13  194.436072   \n",
       "1  (150, 200]  Connecticut River     0.608  1.000090e+13  194.436072   \n",
       "2  (150, 200]  Connecticut River     0.608  1.000090e+13  194.436072   \n",
       "3  (150, 200]  Connecticut River     0.608  1.000090e+13  194.436072   \n",
       "4  (150, 200]  Connecticut River     0.608  1.000090e+13  194.436072   \n",
       "5  (150, 200]  Connecticut River     0.608  1.000090e+13  194.436072   \n",
       "6  (150, 200]  Connecticut River     0.608  1.000090e+13  194.436072   \n",
       "7  (150, 200]  Connecticut River     0.608  1.000090e+13  194.436072   \n",
       "8  (150, 200]  Connecticut River     0.608  1.000090e+13  194.436072   \n",
       "9  (150, 200]  Connecticut River     0.608  1.000090e+13  194.436072   \n",
       "\n",
       "                                            geometry  \\\n",
       "0  LINESTRING (-8084462.395 5196331.153, -8084464...   \n",
       "1  LINESTRING (-8084478.966 5196251.099, -8084481...   \n",
       "2  LINESTRING (-8084490.999 5196170.283, -8084492...   \n",
       "3  LINESTRING (-8084492.726 5196088.648, -8084491...   \n",
       "4  LINESTRING (-8084467.432 5196011.574, -8084465...   \n",
       "5  LINESTRING (-8084462.072 5195930.128, -8084461...   \n",
       "6  LINESTRING (-8084456.281 5195848.703, -8084454...   \n",
       "7  LINESTRING (-8084435.355 5195769.707, -8084432...   \n",
       "8  LINESTRING (-8084425.743 5195689.095, -8084425...   \n",
       "9  LINESTRING (-8084399.485 5195613.583, -8084393...   \n",
       "\n",
       "                                       geometry_full  \n",
       "0  LINESTRING (-8084462.394799335 5196331.1526111...  \n",
       "1  LINESTRING (-8084462.394799335 5196331.1526111...  \n",
       "2  LINESTRING (-8084462.394799335 5196331.1526111...  \n",
       "3  LINESTRING (-8084462.394799335 5196331.1526111...  \n",
       "4  LINESTRING (-8084462.394799335 5196331.1526111...  \n",
       "5  LINESTRING (-8084462.394799335 5196331.1526111...  \n",
       "6  LINESTRING (-8084462.394799335 5196331.1526111...  \n",
       "7  LINESTRING (-8084462.394799335 5196331.1526111...  \n",
       "8  LINESTRING (-8084462.394799335 5196331.1526111...  \n",
       "9  LINESTRING (-8084462.394799335 5196331.1526111...  "
      ]
     },
     "execution_count": 145,
     "metadata": {},
     "output_type": "execute_result"
    }
   ],
   "source": [
    "reach_cut"
   ]
  },
  {
   "cell_type": "code",
   "execution_count": 146,
   "id": "1c5ae454-6ce9-4265-a810-e443d9f3d596",
   "metadata": {},
   "outputs": [
    {
     "data": {
      "text/plain": [
       "<Axes: >"
      ]
     },
     "execution_count": 146,
     "metadata": {},
     "output_type": "execute_result"
    },
    {
     "data": {
      "image/png": "[encoded data removed]",
      "text/plain": [
       "<Figure size 640x480 with 1 Axes>"
      ]
     },
     "metadata": {},
     "output_type": "display_data"
    }
   ],
   "source": [
    "gpd.GeoSeries(segments).plot(cmap='hsv')"
   ]
  },
  {
   "cell_type": "code",
   "execution_count": 147,
   "id": "5b96a1f6-811b-409d-ae55-dfd8ab382655",
   "metadata": {},
   "outputs": [
    {
     "data": {
      "text/plain": [
       "<Axes: >"
      ]
     },
     "execution_count": 147,
     "metadata": {},
     "output_type": "execute_result"
    },
    {
     "data": {
      "image/png": "[encoded data removed]",
      "text/plain": [
       "<Figure size 640x480 with 1 Axes>"
      ]
     },
     "metadata": {},
     "output_type": "display_data"
    }
   ],
   "source": [
    "reach_cut.plot(cmap='hsv')"
   ]
  },
  {
   "cell_type": "code",
   "execution_count": 148,
   "id": "dc48c316-327c-4452-8b00-e9f52bb6713d",
   "metadata": {},
   "outputs": [],
   "source": [
    "# Buffer the reach segments by 1/2 the calculated width\n",
    "# CITE BEIGER\n",
    "reach_cut['geometry'] = reach_cut.geometry.buffer(distance=(reach_cut.WidthM/2)[0], cap_style='flat')"
   ]
  },
  {
   "cell_type": "code",
   "execution_count": 149,
   "id": "e6b08ebe-f3d6-4b77-bfa2-dbf798bd1b91",
   "metadata": {},
   "outputs": [
    {
     "data": {
      "text/plain": [
       "<Axes: >"
      ]
     },
     "execution_count": 149,
     "metadata": {},
     "output_type": "execute_result"
    },
    {
     "data": {
      "image/png": "[encoded data removed]",
      "text/plain": [
       "<Figure size 640x480 with 1 Axes>"
      ]
     },
     "metadata": {},
     "output_type": "display_data"
    }
   ],
   "source": [
    "reach_cut.plot(cmap='hsv')"
   ]
  },
  {
   "cell_type": "code",
   "execution_count": 150,
   "id": "e4a1dc3b-64d7-4cd6-963a-207695e443ff",
   "metadata": {},
   "outputs": [],
   "source": [
    "# Get pixels in reach\n",
    "inside = gpd.sjoin(gdf_PIXC, reach_cut, how='inner', predicate='within').rename(columns={'index_right': 'segment'})"
   ]
  },
  {
   "cell_type": "code",
   "execution_count": 151,
   "id": "71612180-fddc-4f47-ad56-1e7df784f76e",
   "metadata": {},
   "outputs": [
    {
     "data": {
      "text/html": [
       "<div>\n",
       "<style scoped>\n",
       "    .dataframe tbody tr th:only-of-type {\n",
       "        vertical-align: middle;\n",
       "    }\n",
       "\n",
       "    .dataframe tbody tr th {\n",
       "        vertical-align: top;\n",
       "    }\n",
       "\n",
       "    .dataframe thead th {\n",
       "        text-align: right;\n",
       "    }\n",
       "</style>\n",
       "<table border=\"1\" class=\"dataframe\">\n",
       "  <thead>\n",
       "    <tr style=\"text-align: right;\">\n",
       "      <th></th>\n",
       "      <th>klass</th>\n",
       "      <th>geometry</th>\n",
       "      <th>segment</th>\n",
       "      <th>Bin</th>\n",
       "      <th>GNIS_Name</th>\n",
       "      <th>LengthKM</th>\n",
       "      <th>NHDPlusID</th>\n",
       "      <th>WidthM</th>\n",
       "      <th>geometry_full</th>\n",
       "    </tr>\n",
       "  </thead>\n",
       "  <tbody>\n",
       "    <tr>\n",
       "      <th>551554</th>\n",
       "      <td>2.0</td>\n",
       "      <td>POINT (-8084426.802 5195500.297)</td>\n",
       "      <td>9</td>\n",
       "      <td>(150, 200]</td>\n",
       "      <td>Connecticut River</td>\n",
       "      <td>0.608</td>\n",
       "      <td>1.000090e+13</td>\n",
       "      <td>194.436072</td>\n",
       "      <td>LINESTRING (-8084462.394799335 5196331.1526111...</td>\n",
       "    </tr>\n",
       "    <tr>\n",
       "      <th>551557</th>\n",
       "      <td>5.0</td>\n",
       "      <td>POINT (-8084413.217 5195496.899)</td>\n",
       "      <td>9</td>\n",
       "      <td>(150, 200]</td>\n",
       "      <td>Connecticut River</td>\n",
       "      <td>0.608</td>\n",
       "      <td>1.000090e+13</td>\n",
       "      <td>194.436072</td>\n",
       "      <td>LINESTRING (-8084462.394799335 5196331.1526111...</td>\n",
       "    </tr>\n",
       "    <tr>\n",
       "      <th>552054</th>\n",
       "      <td>5.0</td>\n",
       "      <td>POINT (-8084440.054 5195533.887)</td>\n",
       "      <td>9</td>\n",
       "      <td>(150, 200]</td>\n",
       "      <td>Connecticut River</td>\n",
       "      <td>0.608</td>\n",
       "      <td>1.000090e+13</td>\n",
       "      <td>194.436072</td>\n",
       "      <td>LINESTRING (-8084462.394799335 5196331.1526111...</td>\n",
       "    </tr>\n",
       "    <tr>\n",
       "      <th>552055</th>\n",
       "      <td>5.0</td>\n",
       "      <td>POINT (-8084393.322 5195522.185)</td>\n",
       "      <td>9</td>\n",
       "      <td>(150, 200]</td>\n",
       "      <td>Connecticut River</td>\n",
       "      <td>0.608</td>\n",
       "      <td>1.000090e+13</td>\n",
       "      <td>194.436072</td>\n",
       "      <td>LINESTRING (-8084462.394799335 5196331.1526111...</td>\n",
       "    </tr>\n",
       "    <tr>\n",
       "      <th>552056</th>\n",
       "      <td>4.0</td>\n",
       "      <td>POINT (-8084406.989 5195525.61)</td>\n",
       "      <td>9</td>\n",
       "      <td>(150, 200]</td>\n",
       "      <td>Connecticut River</td>\n",
       "      <td>0.608</td>\n",
       "      <td>1.000090e+13</td>\n",
       "      <td>194.436072</td>\n",
       "      <td>LINESTRING (-8084462.394799335 5196331.1526111...</td>\n",
       "    </tr>\n",
       "    <tr>\n",
       "      <th>...</th>\n",
       "      <td>...</td>\n",
       "      <td>...</td>\n",
       "      <td>...</td>\n",
       "      <td>...</td>\n",
       "      <td>...</td>\n",
       "      <td>...</td>\n",
       "      <td>...</td>\n",
       "      <td>...</td>\n",
       "      <td>...</td>\n",
       "    </tr>\n",
       "    <tr>\n",
       "      <th>566534</th>\n",
       "      <td>4.0</td>\n",
       "      <td>POINT (-8084526.541 5196342.508)</td>\n",
       "      <td>0</td>\n",
       "      <td>(150, 200]</td>\n",
       "      <td>Connecticut River</td>\n",
       "      <td>0.608</td>\n",
       "      <td>1.000090e+13</td>\n",
       "      <td>194.436072</td>\n",
       "      <td>LINESTRING (-8084462.394799335 5196331.1526111...</td>\n",
       "    </tr>\n",
       "    <tr>\n",
       "      <th>566535</th>\n",
       "      <td>4.0</td>\n",
       "      <td>POINT (-8084486.889 5196332.579)</td>\n",
       "      <td>0</td>\n",
       "      <td>(150, 200]</td>\n",
       "      <td>Connecticut River</td>\n",
       "      <td>0.608</td>\n",
       "      <td>1.000090e+13</td>\n",
       "      <td>194.436072</td>\n",
       "      <td>LINESTRING (-8084462.394799335 5196331.1526111...</td>\n",
       "    </tr>\n",
       "    <tr>\n",
       "      <th>566536</th>\n",
       "      <td>4.0</td>\n",
       "      <td>POINT (-8084452.007 5196323.879)</td>\n",
       "      <td>0</td>\n",
       "      <td>(150, 200]</td>\n",
       "      <td>Connecticut River</td>\n",
       "      <td>0.608</td>\n",
       "      <td>1.000090e+13</td>\n",
       "      <td>194.436072</td>\n",
       "      <td>LINESTRING (-8084462.394799335 5196331.1526111...</td>\n",
       "    </tr>\n",
       "    <tr>\n",
       "      <th>566537</th>\n",
       "      <td>4.0</td>\n",
       "      <td>POINT (-8084414.85 5196314.574)</td>\n",
       "      <td>0</td>\n",
       "      <td>(150, 200]</td>\n",
       "      <td>Connecticut River</td>\n",
       "      <td>0.608</td>\n",
       "      <td>1.000090e+13</td>\n",
       "      <td>194.436072</td>\n",
       "      <td>LINESTRING (-8084462.394799335 5196331.1526111...</td>\n",
       "    </tr>\n",
       "    <tr>\n",
       "      <th>566538</th>\n",
       "      <td>4.0</td>\n",
       "      <td>POINT (-8084379.869 5196305.813)</td>\n",
       "      <td>0</td>\n",
       "      <td>(150, 200]</td>\n",
       "      <td>Connecticut River</td>\n",
       "      <td>0.608</td>\n",
       "      <td>1.000090e+13</td>\n",
       "      <td>194.436072</td>\n",
       "      <td>LINESTRING (-8084462.394799335 5196331.1526111...</td>\n",
       "    </tr>\n",
       "  </tbody>\n",
       "</table>\n",
       "<p>194 rows × 9 columns</p>\n",
       "</div>"
      ],
      "text/plain": [
       "        klass                          geometry  segment         Bin  \\\n",
       "551554    2.0  POINT (-8084426.802 5195500.297)        9  (150, 200]   \n",
       "551557    5.0  POINT (-8084413.217 5195496.899)        9  (150, 200]   \n",
       "552054    5.0  POINT (-8084440.054 5195533.887)        9  (150, 200]   \n",
       "552055    5.0  POINT (-8084393.322 5195522.185)        9  (150, 200]   \n",
       "552056    4.0   POINT (-8084406.989 5195525.61)        9  (150, 200]   \n",
       "...       ...                               ...      ...         ...   \n",
       "566534    4.0  POINT (-8084526.541 5196342.508)        0  (150, 200]   \n",
       "566535    4.0  POINT (-8084486.889 5196332.579)        0  (150, 200]   \n",
       "566536    4.0  POINT (-8084452.007 5196323.879)        0  (150, 200]   \n",
       "566537    4.0   POINT (-8084414.85 5196314.574)        0  (150, 200]   \n",
       "566538    4.0  POINT (-8084379.869 5196305.813)        0  (150, 200]   \n",
       "\n",
       "                GNIS_Name  LengthKM     NHDPlusID      WidthM  \\\n",
       "551554  Connecticut River     0.608  1.000090e+13  194.436072   \n",
       "551557  Connecticut River     0.608  1.000090e+13  194.436072   \n",
       "552054  Connecticut River     0.608  1.000090e+13  194.436072   \n",
       "552055  Connecticut River     0.608  1.000090e+13  194.436072   \n",
       "552056  Connecticut River     0.608  1.000090e+13  194.436072   \n",
       "...                   ...       ...           ...         ...   \n",
       "566534  Connecticut River     0.608  1.000090e+13  194.436072   \n",
       "566535  Connecticut River     0.608  1.000090e+13  194.436072   \n",
       "566536  Connecticut River     0.608  1.000090e+13  194.436072   \n",
       "566537  Connecticut River     0.608  1.000090e+13  194.436072   \n",
       "566538  Connecticut River     0.608  1.000090e+13  194.436072   \n",
       "\n",
       "                                            geometry_full  \n",
       "551554  LINESTRING (-8084462.394799335 5196331.1526111...  \n",
       "551557  LINESTRING (-8084462.394799335 5196331.1526111...  \n",
       "552054  LINESTRING (-8084462.394799335 5196331.1526111...  \n",
       "552055  LINESTRING (-8084462.394799335 5196331.1526111...  \n",
       "552056  LINESTRING (-8084462.394799335 5196331.1526111...  \n",
       "...                                                   ...  \n",
       "566534  LINESTRING (-8084462.394799335 5196331.1526111...  \n",
       "566535  LINESTRING (-8084462.394799335 5196331.1526111...  \n",
       "566536  LINESTRING (-8084462.394799335 5196331.1526111...  \n",
       "566537  LINESTRING (-8084462.394799335 5196331.1526111...  \n",
       "566538  LINESTRING (-8084462.394799335 5196331.1526111...  \n",
       "\n",
       "[194 rows x 9 columns]"
      ]
     },
     "execution_count": 151,
     "metadata": {},
     "output_type": "execute_result"
    }
   ],
   "source": [
    "inside"
   ]
  },
  {
   "cell_type": "code",
   "execution_count": 155,
   "id": "abedf9a1-e32c-40d9-b4c4-caa157aec0a5",
   "metadata": {},
   "outputs": [
    {
     "data": {
      "text/plain": [
       "<Axes: >"
      ]
     },
     "execution_count": 155,
     "metadata": {},
     "output_type": "execute_result"
    },
    {
     "data": {
      "image/png": "[encoded data removed]",
      "text/plain": [
       "<Figure size 640x480 with 1 Axes>"
      ]
     },
     "metadata": {},
     "output_type": "display_data"
    }
   ],
   "source": [
    "inside.plot()"
   ]
  },
  {
   "cell_type": "code",
   "execution_count": 156,
   "id": "eaae71ef-f40b-4cfb-b4a2-29bb67a0fd6f",
   "metadata": {},
   "outputs": [
    {
     "ename": "AttributeError",
     "evalue": "'numpy.float64' object has no attribute 'DataFrame'",
     "output_type": "error",
     "traceback": [
      "\u001b[0;31m---------------------------------------------------------------------------\u001b[0m",
      "\u001b[0;31mAttributeError\u001b[0m                            Traceback (most recent call last)",
      "Cell \u001b[0;32mIn[156], line 5\u001b[0m\n\u001b[1;32m      2\u001b[0m     coverage \u001b[38;5;241m=\u001b[39m \u001b[38;5;241m0\u001b[39m\n\u001b[1;32m      3\u001b[0m \u001b[38;5;28;01melse\u001b[39;00m:    \n\u001b[1;32m      4\u001b[0m     \u001b[38;5;66;03m# Get number of pixels in each reach segment\u001b[39;00m\n\u001b[0;32m----> 5\u001b[0m     counts \u001b[38;5;241m=\u001b[39m \u001b[43mpd\u001b[49m\u001b[38;5;241;43m.\u001b[39;49m\u001b[43mDataFrame\u001b[49m(inside\u001b[38;5;241m.\u001b[39msegment\u001b[38;5;241m.\u001b[39mvalue_counts()\u001b[38;5;241m.\u001b[39mreset_index()\u001b[38;5;241m.\u001b[39msort_index())\n\u001b[1;32m      6\u001b[0m     \u001b[38;5;28mprint\u001b[39m(counts)\n\u001b[1;32m      7\u001b[0m     \u001b[38;5;66;03m# Calculate coverage\u001b[39;00m\n",
      "\u001b[0;31mAttributeError\u001b[0m: 'numpy.float64' object has no attribute 'DataFrame'"
     ]
    }
   ],
   "source": [
    "if inside.empty:\n",
    "    coverage = 0\n",
    "else:    \n",
    "    # Get number of pixels in each reach segment\n",
    "    counts = pd.DataFrame(inside.segment.value_counts().reset_index().sort_index())\n",
    "    print(counts)\n",
    "    # Calculate coverage\n",
    "    coverage = len(counts.loc[counts['count'] != 0])/len(counts.segment)"
   ]
  }
 ],
 "metadata": {
  "kernelspec": {
   "display_name": "Python [conda env:.conda-narrowPIXC]",
   "language": "python",
   "name": "conda-env-.conda-narrowPIXC-py"
  },
  "language_info": {
   "codemirror_mode": {
    "name": "ipython",
    "version": 3
   },
   "file_extension": ".py",
   "mimetype": "text/x-python",
   "name": "python",
   "nbconvert_exporter": "python",
   "pygments_lexer": "ipython3",
   "version": "3.12.4"
  }
 },
 "nbformat": 4,
 "nbformat_minor": 5
}
