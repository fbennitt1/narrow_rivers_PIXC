{
 "cells": [
  {
   "cell_type": "code",
   "execution_count": 1,
   "id": "48274b5f-8129-44b6-9d1f-175d5bc8a649",
   "metadata": {},
   "outputs": [],
   "source": [
    "import os\n",
    "import time\n",
    "\n",
    "import dask.dataframe as dd\n",
    "import matplotlib.cm\n",
    "import matplotlib.colors as colors\n",
    "import matplotlib.pyplot as plt\n",
    "import numpy as np\n",
    "import pandas as pd\n",
    "import seaborn as sns"
   ]
  },
  {
   "cell_type": "code",
   "execution_count": 2,
   "id": "16cf66a0-5bc5-48bb-938e-21577c3b5abe",
   "metadata": {},
   "outputs": [],
   "source": [
    "def read_output(data_path):\n",
    "\n",
    "    files = []\n",
    "    for file in os.listdir(data_path):\n",
    "        if not file.startswith('.'):\n",
    "            if 'min' in file:\n",
    "                files.append(os.path.join(data_path, file))\n",
    "                \n",
    "    # Make df dataframe\n",
    "    d = []\n",
    "\n",
    "    for file in files:\n",
    "        data = pd.read_parquet(file)\n",
    "        data = data.sort_values(by='NHDPlusID').iloc[::10]\n",
    "        data['file'] = file\n",
    "        d.append(data)\n",
    "        \n",
    "    df = pd.concat(d, axis=0, ignore_index=True)\n",
    "    return df"
   ]
  },
  {
   "cell_type": "code",
   "execution_count": 9,
   "id": "577a8c9f-bf5c-403f-883f-8684aaa40111",
   "metadata": {},
   "outputs": [],
   "source": [
    "# USE THIS ONCE I RERUN AND WRITE OUT REACHES NOT NODES FOR MIN\n",
    "\n",
    "# # Get list of files    \n",
    "# files = []\n",
    "# for file in os.listdir(data_path):\n",
    "#     if not file.startswith('.'):\n",
    "#         if 'min' in file:\n",
    "#             files.append(os.path.join(data_path, file))\n",
    "\n",
    "# ddf_ne = dd.read_parquet(files)"
   ]
  },
  {
   "cell_type": "code",
   "execution_count": 26,
   "id": "7da1a538-d783-4bae-96c0-d6b739b28696",
   "metadata": {},
   "outputs": [],
   "source": [
    "pd.options.display.float_format = '{:.2f}'.format"
   ]
  },
  {
   "cell_type": "markdown",
   "id": "8506974a-1a3a-4736-8177-3ebf0043c63d",
   "metadata": {
    "jp-MarkdownHeadingCollapsed": true,
    "tags": []
   },
   "source": [
    "## For plotting"
   ]
  },
  {
   "cell_type": "code",
   "execution_count": 2,
   "id": "c94aadc7-5635-4bff-86fa-1e069c6e14a7",
   "metadata": {},
   "outputs": [],
   "source": [
    "def truncate_colormap(cmap, minval=0.0, maxval=1.0, n=100):\n",
    "    new_cmap = colors.LinearSegmentedColormap.from_list(\n",
    "        'trunc({n},{a:.2f},{b:.2f})'.format(n=cmap.name, a=minval, b=maxval),\n",
    "        cmap(np.linspace(minval, maxval, n)))\n",
    "    return new_cmap"
   ]
  },
  {
   "cell_type": "code",
   "execution_count": 3,
   "id": "1b04f663-5e51-4999-9c8c-556c02b82c42",
   "metadata": {},
   "outputs": [],
   "source": [
    "cmap = plt.get_cmap('cubehelix', 5)\n",
    "new_cmap = truncate_colormap(cmap, 0.2, 0.75)"
   ]
  },
  {
   "cell_type": "code",
   "execution_count": 4,
   "id": "1fcba1bb-1275-4307-ae8b-16685b8c872a",
   "metadata": {},
   "outputs": [],
   "source": [
    "color = []\n",
    "\n",
    "for i in np.linspace(0, 1, 3):\n",
    "    color.append(colors.rgb2hex(new_cmap(i)))"
   ]
  },
  {
   "cell_type": "code",
   "execution_count": 5,
   "id": "a80276d3-7246-4a60-adae-c16536b93382",
   "metadata": {},
   "outputs": [],
   "source": [
    "palette = sns.color_palette(color)"
   ]
  },
  {
   "cell_type": "code",
   "execution_count": 6,
   "id": "3b0c7334-3ddf-4aba-bfd7-9bc5f86812ca",
   "metadata": {},
   "outputs": [],
   "source": [
    "# Order of all possible bins for plotting\n",
    "order = ['(0, 10]', '(10, 20]', '(20, 30]', '(30, 40]', '(40, 50]',\n",
    "         '(50, 60]', '(60, 70]', '(70, 80]', '(80, 90]', '(90, 100]',\n",
    "         '(100, 150]', '(150, 200]', '(200, 500]']"
   ]
  },
  {
   "cell_type": "code",
   "execution_count": 7,
   "id": "f4572674-865a-4c74-978d-eeedb807ba89",
   "metadata": {},
   "outputs": [],
   "source": [
    "# save_path = '/nas/cee-water/cjgleason/fiona/narrow_rivers_PIXC/figures_for_2025_03_07/'"
   ]
  },
  {
   "cell_type": "markdown",
   "id": "0d14b8a9-aa58-4fd1-992b-b1ec11c7ccdc",
   "metadata": {
    "tags": []
   },
   "source": [
    "## Minimum Coverage"
   ]
  },
  {
   "cell_type": "code",
   "execution_count": 3,
   "id": "4a5c58f6-8c40-4136-b941-41cd5fc3089a",
   "metadata": {},
   "outputs": [],
   "source": [
    "narrow = ['(0, 10]', '(10, 20]', '(20, 30]', '(30, 40]', '(40, 50]']"
   ]
  },
  {
   "cell_type": "markdown",
   "id": "42507c34-187e-4c95-aa77-b965c4874db2",
   "metadata": {
    "tags": []
   },
   "source": [
    "### HUC2_01, Northeast"
   ]
  },
  {
   "cell_type": "code",
   "execution_count": 4,
   "id": "67f14455-aabc-4db4-b051-5a66fc58dbda",
   "metadata": {},
   "outputs": [],
   "source": [
    "## Setup\n",
    "bwidth = 'mean'\n",
    "bbin = 'Bin'\n",
    "huc2 = '01'\n",
    "data_path = '../narrow_rivers_PIXC_output/PIXC_v2_0_HUC2_' + huc2 + '_2025_03_06_' + bwidth"
   ]
  },
  {
   "cell_type": "code",
   "execution_count": 5,
   "id": "8fe7cbc1-8a92-4aea-a749-41616d21d5e3",
   "metadata": {},
   "outputs": [],
   "source": [
    "df_ne = read_output(data_path=data_path)"
   ]
  },
  {
   "cell_type": "code",
   "execution_count": 6,
   "id": "bd64deb5-ac4a-4bf8-9c82-43073df0d1e0",
   "metadata": {},
   "outputs": [],
   "source": [
    "df_ne['coverage'] = df_ne['coverage']*100"
   ]
  },
  {
   "cell_type": "code",
   "execution_count": 44,
   "id": "180919d6-8e7d-4d4c-9e45-4fefbc0d250b",
   "metadata": {},
   "outputs": [],
   "source": [
    "df_ne['granule'] = df_ne['file'].str.slice(63, -20)"
   ]
  },
  {
   "cell_type": "code",
   "execution_count": 76,
   "id": "37078402-4201-43e7-b07c-1b41b16acf79",
   "metadata": {},
   "outputs": [],
   "source": [
    "# df_ne[df_ne['granule'].str.contains('PIC2')]"
   ]
  },
  {
   "cell_type": "code",
   "execution_count": 109,
   "id": "1fa926e9-54e7-43cb-b018-491cfce26d9b",
   "metadata": {},
   "outputs": [],
   "source": [
    "summary = pd.DataFrame(df_ne.groupby('NHDPlusID').count()['coverage']).rename(columns={'coverage': 'observations'})"
   ]
  },
  {
   "cell_type": "code",
   "execution_count": 110,
   "id": "44db7bdb-f61a-4761-9154-b5523e7e0d7a",
   "metadata": {},
   "outputs": [],
   "source": [
    "summary['ten']  = df_ne[df_ne.coverage > 10].groupby('NHDPlusID').count()['coverage']\n",
    "summary['twenty']  = df_ne[df_ne.coverage > 20].groupby('NHDPlusID').count()['coverage']\n",
    "summary['thirty']  = df_ne[df_ne.coverage > 30].groupby('NHDPlusID').count()['coverage']\n",
    "summary['forty']  = df_ne[df_ne.coverage > 40].groupby('NHDPlusID').count()['coverage']\n",
    "summary['fifty']  = df_ne[df_ne.coverage > 50].groupby('NHDPlusID').count()['coverage']\n",
    "summary['sixty']  = df_ne[df_ne.coverage > 60].groupby('NHDPlusID').count()['coverage']\n",
    "summary['seventy']  = df_ne[df_ne.coverage > 70].groupby('NHDPlusID').count()['coverage']\n",
    "summary['eighty']  = df_ne[df_ne.coverage > 80].groupby('NHDPlusID').count()['coverage']\n",
    "summary['ninety']  = df_ne[df_ne.coverage > 90].groupby('NHDPlusID').count()['coverage']"
   ]
  },
  {
   "cell_type": "code",
   "execution_count": 111,
   "id": "92535184-59fb-49df-897d-e83541116954",
   "metadata": {},
   "outputs": [],
   "source": [
    "summary = pd.merge(left=summary, right=df_ne.drop_duplicates(subset='NHDPlusID')[['NHDPlusID', 'Bin']], on='NHDPlusID', how='left')"
   ]
  },
  {
   "cell_type": "code",
   "execution_count": 112,
   "id": "e9dfca3f-cadb-47b8-bc23-363a91579500",
   "metadata": {},
   "outputs": [],
   "source": [
    "passed_ne = summary[(summary.thirty/summary.observations > 0.75) & summary.Bin.isin(narrow)].sort_values(by='observations', ascending=False).reset_index().drop(columns='index')"
   ]
  },
  {
   "cell_type": "code",
   "execution_count": 135,
   "id": "4251f9fb-61cf-4cfe-a1f7-a5a361844bb4",
   "metadata": {},
   "outputs": [],
   "source": [
    "# passed_ne"
   ]
  },
  {
   "cell_type": "code",
   "execution_count": 114,
   "id": "12379485-adc8-4811-bf25-6feeeb1774bd",
   "metadata": {},
   "outputs": [],
   "source": [
    "passed_ne.to_csv('passed_ne.csv')"
   ]
  },
  {
   "cell_type": "code",
   "execution_count": 115,
   "id": "b758c3e5-390b-4e93-b69f-a978b60d6f56",
   "metadata": {},
   "outputs": [],
   "source": [
    "ne_nids = summary[(summary.thirty/summary.observations > 0.75) & summary.Bin.isin(narrow)].sort_values(by='observations', ascending=False).sample(12)['NHDPlusID'].to_list()"
   ]
  },
  {
   "cell_type": "code",
   "execution_count": 116,
   "id": "26167231-8c81-4793-a288-a4f8a9a44088",
   "metadata": {},
   "outputs": [
    {
     "data": {
      "text/plain": [
       "[5000700072109.0,\n",
       " 5000600024538.0,\n",
       " 5000200005654.0,\n",
       " 5000600016172.0,\n",
       " 5000700072447.0,\n",
       " 5000600020340.0,\n",
       " 10000800066692.0,\n",
       " 5000600032907.0,\n",
       " 5000700071109.0,\n",
       " 10000900092908.0,\n",
       " 10000800047656.0,\n",
       " 5000200018595.0]"
      ]
     },
     "execution_count": 116,
     "metadata": {},
     "output_type": "execute_result"
    }
   ],
   "source": [
    "ne_nids"
   ]
  },
  {
   "cell_type": "code",
   "execution_count": 119,
   "id": "089dbe28-a3f4-407a-9818-74ad9e07aacc",
   "metadata": {},
   "outputs": [],
   "source": [
    "seen = df_ne[df_ne['NHDPlusID'].isin(ne_nids)].drop(columns='file')"
   ]
  },
  {
   "cell_type": "code",
   "execution_count": 132,
   "id": "c0b12d90-0066-425f-96f2-9672373a476e",
   "metadata": {},
   "outputs": [],
   "source": [
    "good_ne = seen[seen['coverage'] > 30].sort_values(by=['NHDPlusID', 'coverage'], ascending=[True, False]).reset_index().drop(columns='index')"
   ]
  },
  {
   "cell_type": "code",
   "execution_count": 133,
   "id": "efc3e80b-d370-475e-b51e-29f5f099f3b6",
   "metadata": {},
   "outputs": [
    {
     "data": {
      "text/html": [
       "<div>\n",
       "<style scoped>\n",
       "    .dataframe tbody tr th:only-of-type {\n",
       "        vertical-align: middle;\n",
       "    }\n",
       "\n",
       "    .dataframe tbody tr th {\n",
       "        vertical-align: top;\n",
       "    }\n",
       "\n",
       "    .dataframe thead th {\n",
       "        text-align: right;\n",
       "    }\n",
       "</style>\n",
       "<table border=\"1\" class=\"dataframe\">\n",
       "  <thead>\n",
       "    <tr style=\"text-align: right;\">\n",
       "      <th></th>\n",
       "      <th>NHDPlusID</th>\n",
       "      <th>coverage</th>\n",
       "      <th>Bin</th>\n",
       "      <th>granule</th>\n",
       "    </tr>\n",
       "  </thead>\n",
       "  <tbody>\n",
       "    <tr>\n",
       "      <th>0</th>\n",
       "      <td>5000200005654.00</td>\n",
       "      <td>47.95</td>\n",
       "      <td>(10, 20]</td>\n",
       "      <td>SWOT_L2_HR_PIXC_020_007_233R_20240820T213742_2...</td>\n",
       "    </tr>\n",
       "    <tr>\n",
       "      <th>1</th>\n",
       "      <td>5000200005654.00</td>\n",
       "      <td>47.91</td>\n",
       "      <td>(10, 20]</td>\n",
       "      <td>SWOT_L2_HR_PIXC_008_520_076R_20240101T200254_2...</td>\n",
       "    </tr>\n",
       "    <tr>\n",
       "      <th>2</th>\n",
       "      <td>5000200005654.00</td>\n",
       "      <td>47.08</td>\n",
       "      <td>(10, 20]</td>\n",
       "      <td>SWOT_L2_HR_PIXC_002_007_233R_20230811T080618_2...</td>\n",
       "    </tr>\n",
       "    <tr>\n",
       "      <th>3</th>\n",
       "      <td>5000200005654.00</td>\n",
       "      <td>46.55</td>\n",
       "      <td>(10, 20]</td>\n",
       "      <td>SWOT_L2_HR_PIXC_022_007_233R_20241001T150756_2...</td>\n",
       "    </tr>\n",
       "    <tr>\n",
       "      <th>4</th>\n",
       "      <td>5000200005654.00</td>\n",
       "      <td>45.39</td>\n",
       "      <td>(10, 20]</td>\n",
       "      <td>SWOT_L2_HR_PIXC_027_520_076R_20250201T061923_2...</td>\n",
       "    </tr>\n",
       "    <tr>\n",
       "      <th>...</th>\n",
       "      <td>...</td>\n",
       "      <td>...</td>\n",
       "      <td>...</td>\n",
       "      <td>...</td>\n",
       "    </tr>\n",
       "    <tr>\n",
       "      <th>346</th>\n",
       "      <td>10000900092908.00</td>\n",
       "      <td>33.16</td>\n",
       "      <td>(0, 10]</td>\n",
       "      <td>SWOT_L2_HR_PIXC_028_298_082L_20250214T044413_2...</td>\n",
       "    </tr>\n",
       "    <tr>\n",
       "      <th>347</th>\n",
       "      <td>10000900092908.00</td>\n",
       "      <td>32.92</td>\n",
       "      <td>(0, 10]</td>\n",
       "      <td>SWOT_L2_HR_PIXC_027_035_227L_20250114T225252_2...</td>\n",
       "    </tr>\n",
       "    <tr>\n",
       "      <th>348</th>\n",
       "      <td>10000900092908.00</td>\n",
       "      <td>32.69</td>\n",
       "      <td>(0, 10]</td>\n",
       "      <td>SWOT_L2_HR_PIXC_002_298_082L_20230821T171210_2...</td>\n",
       "    </tr>\n",
       "    <tr>\n",
       "      <th>349</th>\n",
       "      <td>10000900092908.00</td>\n",
       "      <td>30.96</td>\n",
       "      <td>(0, 10]</td>\n",
       "      <td>SWOT_L2_HR_PIXC_028_035_227L_20250204T193756_2...</td>\n",
       "    </tr>\n",
       "    <tr>\n",
       "      <th>350</th>\n",
       "      <td>10000900092908.00</td>\n",
       "      <td>30.30</td>\n",
       "      <td>(0, 10]</td>\n",
       "      <td>SWOT_L2_HR_PIXC_018_298_082L_20240720T131326_2...</td>\n",
       "    </tr>\n",
       "  </tbody>\n",
       "</table>\n",
       "<p>351 rows × 4 columns</p>\n",
       "</div>"
      ],
      "text/plain": [
       "            NHDPlusID  coverage       Bin  \\\n",
       "0    5000200005654.00     47.95  (10, 20]   \n",
       "1    5000200005654.00     47.91  (10, 20]   \n",
       "2    5000200005654.00     47.08  (10, 20]   \n",
       "3    5000200005654.00     46.55  (10, 20]   \n",
       "4    5000200005654.00     45.39  (10, 20]   \n",
       "..                ...       ...       ...   \n",
       "346 10000900092908.00     33.16   (0, 10]   \n",
       "347 10000900092908.00     32.92   (0, 10]   \n",
       "348 10000900092908.00     32.69   (0, 10]   \n",
       "349 10000900092908.00     30.96   (0, 10]   \n",
       "350 10000900092908.00     30.30   (0, 10]   \n",
       "\n",
       "                                               granule  \n",
       "0    SWOT_L2_HR_PIXC_020_007_233R_20240820T213742_2...  \n",
       "1    SWOT_L2_HR_PIXC_008_520_076R_20240101T200254_2...  \n",
       "2    SWOT_L2_HR_PIXC_002_007_233R_20230811T080618_2...  \n",
       "3    SWOT_L2_HR_PIXC_022_007_233R_20241001T150756_2...  \n",
       "4    SWOT_L2_HR_PIXC_027_520_076R_20250201T061923_2...  \n",
       "..                                                 ...  \n",
       "346  SWOT_L2_HR_PIXC_028_298_082L_20250214T044413_2...  \n",
       "347  SWOT_L2_HR_PIXC_027_035_227L_20250114T225252_2...  \n",
       "348  SWOT_L2_HR_PIXC_002_298_082L_20230821T171210_2...  \n",
       "349  SWOT_L2_HR_PIXC_028_035_227L_20250204T193756_2...  \n",
       "350  SWOT_L2_HR_PIXC_018_298_082L_20240720T131326_2...  \n",
       "\n",
       "[351 rows x 4 columns]"
      ]
     },
     "execution_count": 133,
     "metadata": {},
     "output_type": "execute_result"
    }
   ],
   "source": [
    "good_ne"
   ]
  },
  {
   "cell_type": "code",
   "execution_count": 134,
   "id": "f4fbe101-886f-4fa0-88af-008167b68326",
   "metadata": {},
   "outputs": [],
   "source": [
    "good_ne.to_csv('good_ne.csv')"
   ]
  },
  {
   "cell_type": "code",
   "execution_count": 131,
   "id": "5a396104-d8fa-482f-89f6-2f3ba27e8370",
   "metadata": {},
   "outputs": [],
   "source": [
    "# seen[(seen['NHDPlusID'] == 10000900048960.00) & (seen['coverage'] > 30)]"
   ]
  },
  {
   "cell_type": "markdown",
   "id": "04f4e5b9-45ea-4330-b565-7fe6edc20ad0",
   "metadata": {
    "tags": []
   },
   "source": [
    "### HUC2_15, Southwest"
   ]
  },
  {
   "cell_type": "code",
   "execution_count": 136,
   "id": "f7b212d7-1038-4bd1-8c34-7e9d6f21fb1d",
   "metadata": {},
   "outputs": [],
   "source": [
    "## Setup\n",
    "bwidth = 'mean'\n",
    "bbin = 'Bin'\n",
    "huc2 = '15'\n",
    "data_path = '../narrow_rivers_PIXC_output/PIXC_v2_0_HUC2_' + huc2 + '_2025_03_06_' + bwidth"
   ]
  },
  {
   "cell_type": "code",
   "execution_count": 137,
   "id": "cc11b722-34e1-4182-bab1-844ce0e47183",
   "metadata": {},
   "outputs": [],
   "source": [
    "df_sw = read_output(data_path=data_path)"
   ]
  },
  {
   "cell_type": "code",
   "execution_count": 138,
   "id": "48d024a0-9e09-463e-9f36-5913ed9da12c",
   "metadata": {},
   "outputs": [],
   "source": [
    "df_sw['granule'] = df_sw['file'].str.slice(63, -20)"
   ]
  },
  {
   "cell_type": "code",
   "execution_count": 139,
   "id": "80761109-fe4d-4a82-be1d-47369a87243f",
   "metadata": {},
   "outputs": [],
   "source": [
    "df_sw['coverage'] = df_sw['coverage']*100"
   ]
  },
  {
   "cell_type": "code",
   "execution_count": 140,
   "id": "0a3c2823-6203-40f8-959b-372a0a02710b",
   "metadata": {},
   "outputs": [],
   "source": [
    "summary_sw = pd.DataFrame(df_sw.groupby('NHDPlusID').count()['coverage']).rename(columns={'coverage': 'observations'})"
   ]
  },
  {
   "cell_type": "code",
   "execution_count": 141,
   "id": "312073bb-644e-425a-af6d-1d2fc3597012",
   "metadata": {},
   "outputs": [],
   "source": [
    "summary_sw['ten']  = df_sw[df_sw.coverage > 10].groupby('NHDPlusID').count()['coverage']\n",
    "summary_sw['twenty']  = df_sw[df_sw.coverage > 20].groupby('NHDPlusID').count()['coverage']\n",
    "summary_sw['thirty']  = df_sw[df_sw.coverage > 30].groupby('NHDPlusID').count()['coverage']\n",
    "summary_sw['forty']  = df_sw[df_sw.coverage > 40].groupby('NHDPlusID').count()['coverage']\n",
    "summary_sw['fifty']  = df_sw[df_sw.coverage > 50].groupby('NHDPlusID').count()['coverage']\n",
    "summary_sw['sixty']  = df_sw[df_sw.coverage > 60].groupby('NHDPlusID').count()['coverage']\n",
    "summary_sw['seventy']  = df_sw[df_sw.coverage > 70].groupby('NHDPlusID').count()['coverage']\n",
    "summary_sw['eighty']  = df_sw[df_sw.coverage > 80].groupby('NHDPlusID').count()['coverage']\n",
    "summary_sw['ninety']  = df_sw[df_sw.coverage > 90].groupby('NHDPlusID').count()['coverage']"
   ]
  },
  {
   "cell_type": "code",
   "execution_count": 143,
   "id": "44389905-5388-4a31-8829-653b1acd53e1",
   "metadata": {},
   "outputs": [],
   "source": [
    "summary_sw = pd.merge(left=summary_sw, right=df_sw.drop_duplicates(subset='NHDPlusID')[['NHDPlusID', 'Bin', 'granule']], on='NHDPlusID', how='left')"
   ]
  },
  {
   "cell_type": "code",
   "execution_count": 146,
   "id": "2f301644-2799-46ac-a8ab-fa74cae723bc",
   "metadata": {},
   "outputs": [
    {
     "data": {
      "text/html": [
       "<div>\n",
       "<style scoped>\n",
       "    .dataframe tbody tr th:only-of-type {\n",
       "        vertical-align: middle;\n",
       "    }\n",
       "\n",
       "    .dataframe tbody tr th {\n",
       "        vertical-align: top;\n",
       "    }\n",
       "\n",
       "    .dataframe thead th {\n",
       "        text-align: right;\n",
       "    }\n",
       "</style>\n",
       "<table border=\"1\" class=\"dataframe\">\n",
       "  <thead>\n",
       "    <tr style=\"text-align: right;\">\n",
       "      <th></th>\n",
       "      <th>NHDPlusID</th>\n",
       "      <th>observations</th>\n",
       "      <th>ten</th>\n",
       "      <th>twenty</th>\n",
       "      <th>thirty</th>\n",
       "      <th>forty</th>\n",
       "      <th>fifty</th>\n",
       "      <th>sixty</th>\n",
       "      <th>seventy</th>\n",
       "      <th>eighty</th>\n",
       "      <th>ninety</th>\n",
       "      <th>Bin</th>\n",
       "      <th>granule</th>\n",
       "    </tr>\n",
       "  </thead>\n",
       "  <tbody>\n",
       "    <tr>\n",
       "      <th>0</th>\n",
       "      <td>40000100000018.00</td>\n",
       "      <td>46</td>\n",
       "      <td>NaN</td>\n",
       "      <td>NaN</td>\n",
       "      <td>NaN</td>\n",
       "      <td>NaN</td>\n",
       "      <td>NaN</td>\n",
       "      <td>NaN</td>\n",
       "      <td>NaN</td>\n",
       "      <td>NaN</td>\n",
       "      <td>NaN</td>\n",
       "      <td>(0, 10]</td>\n",
       "      <td>SWOT_L2_HR_PIXC_002_496_098R_20230828T190121_2...</td>\n",
       "    </tr>\n",
       "    <tr>\n",
       "      <th>1</th>\n",
       "      <td>40000100000019.00</td>\n",
       "      <td>23</td>\n",
       "      <td>NaN</td>\n",
       "      <td>NaN</td>\n",
       "      <td>NaN</td>\n",
       "      <td>NaN</td>\n",
       "      <td>NaN</td>\n",
       "      <td>NaN</td>\n",
       "      <td>NaN</td>\n",
       "      <td>NaN</td>\n",
       "      <td>NaN</td>\n",
       "      <td>(0, 10]</td>\n",
       "      <td>SWOT_L2_HR_PIXC_002_496_098R_20230828T190121_2...</td>\n",
       "    </tr>\n",
       "    <tr>\n",
       "      <th>2</th>\n",
       "      <td>40000100000021.00</td>\n",
       "      <td>47</td>\n",
       "      <td>NaN</td>\n",
       "      <td>NaN</td>\n",
       "      <td>NaN</td>\n",
       "      <td>NaN</td>\n",
       "      <td>NaN</td>\n",
       "      <td>NaN</td>\n",
       "      <td>NaN</td>\n",
       "      <td>NaN</td>\n",
       "      <td>NaN</td>\n",
       "      <td>(0, 10]</td>\n",
       "      <td>SWOT_L2_HR_PIXC_002_483_211R_20230828T081126_2...</td>\n",
       "    </tr>\n",
       "    <tr>\n",
       "      <th>3</th>\n",
       "      <td>40000100000026.00</td>\n",
       "      <td>47</td>\n",
       "      <td>NaN</td>\n",
       "      <td>NaN</td>\n",
       "      <td>NaN</td>\n",
       "      <td>NaN</td>\n",
       "      <td>NaN</td>\n",
       "      <td>NaN</td>\n",
       "      <td>NaN</td>\n",
       "      <td>NaN</td>\n",
       "      <td>NaN</td>\n",
       "      <td>(0, 10]</td>\n",
       "      <td>SWOT_L2_HR_PIXC_002_483_211R_20230828T081126_2...</td>\n",
       "    </tr>\n",
       "    <tr>\n",
       "      <th>4</th>\n",
       "      <td>40000100000033.00</td>\n",
       "      <td>4</td>\n",
       "      <td>NaN</td>\n",
       "      <td>NaN</td>\n",
       "      <td>NaN</td>\n",
       "      <td>NaN</td>\n",
       "      <td>NaN</td>\n",
       "      <td>NaN</td>\n",
       "      <td>NaN</td>\n",
       "      <td>NaN</td>\n",
       "      <td>NaN</td>\n",
       "      <td>(0, 10]</td>\n",
       "      <td>SWOT_L2_HR_PIXC_003_177_210L_20230907T063334_2...</td>\n",
       "    </tr>\n",
       "    <tr>\n",
       "      <th>...</th>\n",
       "      <td>...</td>\n",
       "      <td>...</td>\n",
       "      <td>...</td>\n",
       "      <td>...</td>\n",
       "      <td>...</td>\n",
       "      <td>...</td>\n",
       "      <td>...</td>\n",
       "      <td>...</td>\n",
       "      <td>...</td>\n",
       "      <td>...</td>\n",
       "      <td>...</td>\n",
       "      <td>...</td>\n",
       "      <td>...</td>\n",
       "    </tr>\n",
       "    <tr>\n",
       "      <th>623213</th>\n",
       "      <td>40000800098769.00</td>\n",
       "      <td>50</td>\n",
       "      <td>NaN</td>\n",
       "      <td>NaN</td>\n",
       "      <td>NaN</td>\n",
       "      <td>NaN</td>\n",
       "      <td>NaN</td>\n",
       "      <td>NaN</td>\n",
       "      <td>NaN</td>\n",
       "      <td>NaN</td>\n",
       "      <td>NaN</td>\n",
       "      <td>(0, 10]</td>\n",
       "      <td>SWOT_L2_HR_PIXC_001_427_215R_20230805T112559_2...</td>\n",
       "    </tr>\n",
       "    <tr>\n",
       "      <th>623214</th>\n",
       "      <td>40000800098770.00</td>\n",
       "      <td>50</td>\n",
       "      <td>NaN</td>\n",
       "      <td>NaN</td>\n",
       "      <td>NaN</td>\n",
       "      <td>NaN</td>\n",
       "      <td>NaN</td>\n",
       "      <td>NaN</td>\n",
       "      <td>NaN</td>\n",
       "      <td>NaN</td>\n",
       "      <td>NaN</td>\n",
       "      <td>(0, 10]</td>\n",
       "      <td>SWOT_L2_HR_PIXC_001_427_215R_20230805T112559_2...</td>\n",
       "    </tr>\n",
       "    <tr>\n",
       "      <th>623215</th>\n",
       "      <td>40000800098771.00</td>\n",
       "      <td>50</td>\n",
       "      <td>NaN</td>\n",
       "      <td>NaN</td>\n",
       "      <td>NaN</td>\n",
       "      <td>NaN</td>\n",
       "      <td>NaN</td>\n",
       "      <td>NaN</td>\n",
       "      <td>NaN</td>\n",
       "      <td>NaN</td>\n",
       "      <td>NaN</td>\n",
       "      <td>(0, 10]</td>\n",
       "      <td>SWOT_L2_HR_PIXC_001_427_215R_20230805T112559_2...</td>\n",
       "    </tr>\n",
       "    <tr>\n",
       "      <th>623216</th>\n",
       "      <td>40000800098772.00</td>\n",
       "      <td>12</td>\n",
       "      <td>NaN</td>\n",
       "      <td>NaN</td>\n",
       "      <td>NaN</td>\n",
       "      <td>NaN</td>\n",
       "      <td>NaN</td>\n",
       "      <td>NaN</td>\n",
       "      <td>NaN</td>\n",
       "      <td>NaN</td>\n",
       "      <td>NaN</td>\n",
       "      <td>(0, 10]</td>\n",
       "      <td>SWOT_L2_HR_PIXC_005_134_093R_20231017T105154_2...</td>\n",
       "    </tr>\n",
       "    <tr>\n",
       "      <th>623217</th>\n",
       "      <td>40000800098774.00</td>\n",
       "      <td>43</td>\n",
       "      <td>NaN</td>\n",
       "      <td>NaN</td>\n",
       "      <td>NaN</td>\n",
       "      <td>NaN</td>\n",
       "      <td>NaN</td>\n",
       "      <td>NaN</td>\n",
       "      <td>NaN</td>\n",
       "      <td>NaN</td>\n",
       "      <td>NaN</td>\n",
       "      <td>(0, 10]</td>\n",
       "      <td>SWOT_L2_HR_PIXC_001_427_215R_20230805T112559_2...</td>\n",
       "    </tr>\n",
       "  </tbody>\n",
       "</table>\n",
       "<p>623218 rows × 13 columns</p>\n",
       "</div>"
      ],
      "text/plain": [
       "               NHDPlusID  observations  ten  twenty  thirty  forty  fifty  \\\n",
       "0      40000100000018.00            46  NaN     NaN     NaN    NaN    NaN   \n",
       "1      40000100000019.00            23  NaN     NaN     NaN    NaN    NaN   \n",
       "2      40000100000021.00            47  NaN     NaN     NaN    NaN    NaN   \n",
       "3      40000100000026.00            47  NaN     NaN     NaN    NaN    NaN   \n",
       "4      40000100000033.00             4  NaN     NaN     NaN    NaN    NaN   \n",
       "...                  ...           ...  ...     ...     ...    ...    ...   \n",
       "623213 40000800098769.00            50  NaN     NaN     NaN    NaN    NaN   \n",
       "623214 40000800098770.00            50  NaN     NaN     NaN    NaN    NaN   \n",
       "623215 40000800098771.00            50  NaN     NaN     NaN    NaN    NaN   \n",
       "623216 40000800098772.00            12  NaN     NaN     NaN    NaN    NaN   \n",
       "623217 40000800098774.00            43  NaN     NaN     NaN    NaN    NaN   \n",
       "\n",
       "        sixty  seventy  eighty  ninety      Bin  \\\n",
       "0         NaN      NaN     NaN     NaN  (0, 10]   \n",
       "1         NaN      NaN     NaN     NaN  (0, 10]   \n",
       "2         NaN      NaN     NaN     NaN  (0, 10]   \n",
       "3         NaN      NaN     NaN     NaN  (0, 10]   \n",
       "4         NaN      NaN     NaN     NaN  (0, 10]   \n",
       "...       ...      ...     ...     ...      ...   \n",
       "623213    NaN      NaN     NaN     NaN  (0, 10]   \n",
       "623214    NaN      NaN     NaN     NaN  (0, 10]   \n",
       "623215    NaN      NaN     NaN     NaN  (0, 10]   \n",
       "623216    NaN      NaN     NaN     NaN  (0, 10]   \n",
       "623217    NaN      NaN     NaN     NaN  (0, 10]   \n",
       "\n",
       "                                                  granule  \n",
       "0       SWOT_L2_HR_PIXC_002_496_098R_20230828T190121_2...  \n",
       "1       SWOT_L2_HR_PIXC_002_496_098R_20230828T190121_2...  \n",
       "2       SWOT_L2_HR_PIXC_002_483_211R_20230828T081126_2...  \n",
       "3       SWOT_L2_HR_PIXC_002_483_211R_20230828T081126_2...  \n",
       "4       SWOT_L2_HR_PIXC_003_177_210L_20230907T063334_2...  \n",
       "...                                                   ...  \n",
       "623213  SWOT_L2_HR_PIXC_001_427_215R_20230805T112559_2...  \n",
       "623214  SWOT_L2_HR_PIXC_001_427_215R_20230805T112559_2...  \n",
       "623215  SWOT_L2_HR_PIXC_001_427_215R_20230805T112559_2...  \n",
       "623216  SWOT_L2_HR_PIXC_005_134_093R_20231017T105154_2...  \n",
       "623217  SWOT_L2_HR_PIXC_001_427_215R_20230805T112559_2...  \n",
       "\n",
       "[623218 rows x 13 columns]"
      ]
     },
     "execution_count": 146,
     "metadata": {},
     "output_type": "execute_result"
    }
   ],
   "source": [
    "summary_sw"
   ]
  },
  {
   "cell_type": "code",
   "execution_count": 145,
   "id": "c17eb086-3e35-47fa-937b-217bd48d028d",
   "metadata": {},
   "outputs": [],
   "source": [
    "# summary_sw[(summary_sw.thirty/summary_sw.observations > 0.75) & summary_sw.Bin.isin(narrow)].sort_values(by='observations', ascending=False)"
   ]
  },
  {
   "cell_type": "code",
   "execution_count": 147,
   "id": "acb9fc8d-49bc-41c4-9869-b5e8cc914b13",
   "metadata": {},
   "outputs": [],
   "source": [
    "passed_sw = summary_sw[(summary_sw.thirty/summary_sw.observations > 0.75) & summary_sw.Bin.isin(narrow)].sort_values(by='observations', ascending=False).reset_index().drop(columns='index')"
   ]
  },
  {
   "cell_type": "code",
   "execution_count": 149,
   "id": "14efdba9-3643-437a-b196-05bbb632b847",
   "metadata": {},
   "outputs": [],
   "source": [
    "passed_sw.to_csv('passed_sw.csv')"
   ]
  },
  {
   "cell_type": "code",
   "execution_count": 150,
   "id": "15410b0d-c488-41f8-989d-9f8bb4839476",
   "metadata": {},
   "outputs": [],
   "source": [
    "sw_nids = summary_sw[(summary_sw.thirty/summary_sw.observations > 0.75) & summary_sw.Bin.isin(narrow)].sort_values(by='observations', ascending=False).sample(12)['NHDPlusID'].to_list()"
   ]
  },
  {
   "cell_type": "code",
   "execution_count": 151,
   "id": "291d0649-8c6e-4f57-b6b1-bc75532d6cf6",
   "metadata": {},
   "outputs": [
    {
     "data": {
      "text/plain": [
       "[40000300031638.0,\n",
       " 40000300038034.0,\n",
       " 40000300075622.0,\n",
       " 40000600048401.0,\n",
       " 40000400106243.0,\n",
       " 40000600035936.0,\n",
       " 40000300075623.0,\n",
       " 40000300025412.0,\n",
       " 40000300000677.0,\n",
       " 40000600042938.0,\n",
       " 40000300013045.0,\n",
       " 40000600010826.0]"
      ]
     },
     "execution_count": 151,
     "metadata": {},
     "output_type": "execute_result"
    }
   ],
   "source": [
    "sw_nids"
   ]
  },
  {
   "cell_type": "code",
   "execution_count": 152,
   "id": "1b4db3d1-95bf-4f77-af6f-e6dbf41c33ec",
   "metadata": {},
   "outputs": [],
   "source": [
    "seen_sw = df_sw[df_sw['NHDPlusID'].isin(sw_nids)].drop(columns='file')"
   ]
  },
  {
   "cell_type": "code",
   "execution_count": 153,
   "id": "2b391ee6-4430-4f27-ab8b-fc8877704919",
   "metadata": {},
   "outputs": [],
   "source": [
    "good_sw = seen_sw[seen_sw['coverage'] > 30].sort_values(by=['NHDPlusID', 'coverage'], ascending=[True, False]).reset_index().drop(columns='index')"
   ]
  },
  {
   "cell_type": "code",
   "execution_count": 154,
   "id": "fa0b2690-6b2d-4f88-ab15-3e561eb76cac",
   "metadata": {},
   "outputs": [
    {
     "data": {
      "text/html": [
       "<div>\n",
       "<style scoped>\n",
       "    .dataframe tbody tr th:only-of-type {\n",
       "        vertical-align: middle;\n",
       "    }\n",
       "\n",
       "    .dataframe tbody tr th {\n",
       "        vertical-align: top;\n",
       "    }\n",
       "\n",
       "    .dataframe thead th {\n",
       "        text-align: right;\n",
       "    }\n",
       "</style>\n",
       "<table border=\"1\" class=\"dataframe\">\n",
       "  <thead>\n",
       "    <tr style=\"text-align: right;\">\n",
       "      <th></th>\n",
       "      <th>NHDPlusID</th>\n",
       "      <th>coverage</th>\n",
       "      <th>Bin</th>\n",
       "      <th>granule</th>\n",
       "    </tr>\n",
       "  </thead>\n",
       "  <tbody>\n",
       "    <tr>\n",
       "      <th>0</th>\n",
       "      <td>40000300000677.00</td>\n",
       "      <td>62.77</td>\n",
       "      <td>(20, 30]</td>\n",
       "      <td>SWOT_L2_HR_PIXC_003_496_097R_20230918T154617_2...</td>\n",
       "    </tr>\n",
       "    <tr>\n",
       "      <th>1</th>\n",
       "      <td>40000300000677.00</td>\n",
       "      <td>61.95</td>\n",
       "      <td>(20, 30]</td>\n",
       "      <td>SWOT_L2_HR_PIXC_026_496_097R_20250110T130304_2...</td>\n",
       "    </tr>\n",
       "    <tr>\n",
       "      <th>2</th>\n",
       "      <td>40000300000677.00</td>\n",
       "      <td>61.35</td>\n",
       "      <td>(20, 30]</td>\n",
       "      <td>SWOT_L2_HR_PIXC_015_496_097R_20240526T004712_2...</td>\n",
       "    </tr>\n",
       "    <tr>\n",
       "      <th>3</th>\n",
       "      <td>40000300000677.00</td>\n",
       "      <td>60.81</td>\n",
       "      <td>(20, 30]</td>\n",
       "      <td>SWOT_L2_HR_PIXC_008_483_212R_20231231T124205_2...</td>\n",
       "    </tr>\n",
       "    <tr>\n",
       "      <th>4</th>\n",
       "      <td>40000300000677.00</td>\n",
       "      <td>59.98</td>\n",
       "      <td>(20, 30]</td>\n",
       "      <td>SWOT_L2_HR_PIXC_012_483_212R_20240323T234223_2...</td>\n",
       "    </tr>\n",
       "    <tr>\n",
       "      <th>...</th>\n",
       "      <td>...</td>\n",
       "      <td>...</td>\n",
       "      <td>...</td>\n",
       "      <td>...</td>\n",
       "    </tr>\n",
       "    <tr>\n",
       "      <th>588</th>\n",
       "      <td>40000600048401.00</td>\n",
       "      <td>33.06</td>\n",
       "      <td>(40, 50]</td>\n",
       "      <td>SWOT_L2_HR_PIXC_022_455_214R_20241017T151302_2...</td>\n",
       "    </tr>\n",
       "    <tr>\n",
       "      <th>589</th>\n",
       "      <td>40000600048401.00</td>\n",
       "      <td>32.62</td>\n",
       "      <td>(40, 50]</td>\n",
       "      <td>SWOT_L2_HR_PIXC_027_455_214R_20250129T225824_2...</td>\n",
       "    </tr>\n",
       "    <tr>\n",
       "      <th>590</th>\n",
       "      <td>40000600048401.00</td>\n",
       "      <td>31.99</td>\n",
       "      <td>(40, 50]</td>\n",
       "      <td>SWOT_L2_HR_PIXC_007_455_214R_20231209T155648_2...</td>\n",
       "    </tr>\n",
       "    <tr>\n",
       "      <th>591</th>\n",
       "      <td>40000600048401.00</td>\n",
       "      <td>31.27</td>\n",
       "      <td>(40, 50]</td>\n",
       "      <td>SWOT_L2_HR_PIXC_021_455_214R_20240926T182757_2...</td>\n",
       "    </tr>\n",
       "    <tr>\n",
       "      <th>592</th>\n",
       "      <td>40000600048401.00</td>\n",
       "      <td>30.19</td>\n",
       "      <td>(40, 50]</td>\n",
       "      <td>SWOT_L2_HR_PIXC_002_468_095L_20230827T190020_2...</td>\n",
       "    </tr>\n",
       "  </tbody>\n",
       "</table>\n",
       "<p>593 rows × 4 columns</p>\n",
       "</div>"
      ],
      "text/plain": [
       "            NHDPlusID  coverage       Bin  \\\n",
       "0   40000300000677.00     62.77  (20, 30]   \n",
       "1   40000300000677.00     61.95  (20, 30]   \n",
       "2   40000300000677.00     61.35  (20, 30]   \n",
       "3   40000300000677.00     60.81  (20, 30]   \n",
       "4   40000300000677.00     59.98  (20, 30]   \n",
       "..                ...       ...       ...   \n",
       "588 40000600048401.00     33.06  (40, 50]   \n",
       "589 40000600048401.00     32.62  (40, 50]   \n",
       "590 40000600048401.00     31.99  (40, 50]   \n",
       "591 40000600048401.00     31.27  (40, 50]   \n",
       "592 40000600048401.00     30.19  (40, 50]   \n",
       "\n",
       "                                               granule  \n",
       "0    SWOT_L2_HR_PIXC_003_496_097R_20230918T154617_2...  \n",
       "1    SWOT_L2_HR_PIXC_026_496_097R_20250110T130304_2...  \n",
       "2    SWOT_L2_HR_PIXC_015_496_097R_20240526T004712_2...  \n",
       "3    SWOT_L2_HR_PIXC_008_483_212R_20231231T124205_2...  \n",
       "4    SWOT_L2_HR_PIXC_012_483_212R_20240323T234223_2...  \n",
       "..                                                 ...  \n",
       "588  SWOT_L2_HR_PIXC_022_455_214R_20241017T151302_2...  \n",
       "589  SWOT_L2_HR_PIXC_027_455_214R_20250129T225824_2...  \n",
       "590  SWOT_L2_HR_PIXC_007_455_214R_20231209T155648_2...  \n",
       "591  SWOT_L2_HR_PIXC_021_455_214R_20240926T182757_2...  \n",
       "592  SWOT_L2_HR_PIXC_002_468_095L_20230827T190020_2...  \n",
       "\n",
       "[593 rows x 4 columns]"
      ]
     },
     "execution_count": 154,
     "metadata": {},
     "output_type": "execute_result"
    }
   ],
   "source": [
    "good_sw"
   ]
  },
  {
   "cell_type": "code",
   "execution_count": 155,
   "id": "186213ac-1c64-4e4c-a848-b82da2daecb9",
   "metadata": {},
   "outputs": [],
   "source": [
    "good_sw.to_csv('good_sw.csv')"
   ]
  },
  {
   "cell_type": "markdown",
   "id": "288e6deb-8b93-4859-8c47-224212297396",
   "metadata": {},
   "source": [
    "### Testing"
   ]
  },
  {
   "cell_type": "code",
   "execution_count": 140,
   "id": "3432d05c-ebef-4971-bf36-1a27a5340092",
   "metadata": {},
   "outputs": [],
   "source": [
    "# test = ddf[ddf['file'].str.contains('313_233R')].compute()"
   ]
  },
  {
   "cell_type": "code",
   "execution_count": 139,
   "id": "4409534d-ebbd-4bcf-8f43-c55cb1cf5ad6",
   "metadata": {},
   "outputs": [],
   "source": [
    "# test"
   ]
  },
  {
   "cell_type": "code",
   "execution_count": 141,
   "id": "d402e2b0-e89e-46d0-baae-959da3c90489",
   "metadata": {},
   "outputs": [],
   "source": [
    "# len(test.NHDPlusID.unique())"
   ]
  },
  {
   "cell_type": "code",
   "execution_count": 142,
   "id": "4a056f03-ad18-4026-927f-7dfa76ec90f2",
   "metadata": {},
   "outputs": [],
   "source": [
    "# summary = pd.DataFrame(test.groupby('NHDPlusID').count()['coverage']).rename(columns={'coverage': 'observations'})"
   ]
  },
  {
   "cell_type": "code",
   "execution_count": 143,
   "id": "cca598d4-aa8b-4902-a5f5-b75a61d9d21e",
   "metadata": {},
   "outputs": [],
   "source": [
    "# summary['ten']  = test[test.coverage > 0.1].groupby('NHDPlusID').count()['coverage']\n",
    "# summary['twenty']  = test[test.coverage > 0.2].groupby('NHDPlusID').count()['coverage']\n",
    "# summary['thirty']  = test[test.coverage > 0.3].groupby('NHDPlusID').count()['coverage']\n",
    "# summary['forty']  = test[test.coverage > 0.4].groupby('NHDPlusID').count()['coverage']\n",
    "# summary['fifty']  = test[test.coverage > 0.5].groupby('NHDPlusID').count()['coverage']\n",
    "# summary['sixty']  = test[test.coverage > 0.6].groupby('NHDPlusID').count()['coverage']\n",
    "# summary['seventy']  = test[test.coverage > 0.7].groupby('NHDPlusID').count()['coverage']\n",
    "# summary['eighty']  = test[test.coverage > 0.8].groupby('NHDPlusID').count()['coverage']\n",
    "# summary['ninety']  = test[test.coverage > 0.9].groupby('NHDPlusID').count()['coverage']"
   ]
  },
  {
   "cell_type": "code",
   "execution_count": 144,
   "id": "b1da7ec9-b1c9-454d-ab1b-204a25d8dc46",
   "metadata": {},
   "outputs": [],
   "source": [
    "# summary = pd.merge(left=summary, right=test, on='NHDPlusID', how='left')"
   ]
  },
  {
   "cell_type": "code",
   "execution_count": 145,
   "id": "9eab3293-b506-451e-b559-d65d92bb7bb1",
   "metadata": {},
   "outputs": [],
   "source": [
    "# summary[summary.forty/summary.observations > 0.75]"
   ]
  },
  {
   "cell_type": "code",
   "execution_count": 146,
   "id": "46faaad5-ddb1-413a-b90f-a9058b107518",
   "metadata": {},
   "outputs": [],
   "source": [
    "# ddf.groupby('NHDPlusID').count().compute()"
   ]
  },
  {
   "cell_type": "code",
   "execution_count": 147,
   "id": "56d8afc9-b6e5-4321-bf9a-a0f7faf4db2f",
   "metadata": {},
   "outputs": [],
   "source": [
    "# ddf.groupby('NHDPlusID').apply(lambda group: (group['coverage'] > 0.5).count()).compute()"
   ]
  },
  {
   "cell_type": "code",
   "execution_count": 13,
   "id": "55355063-e274-43b1-9703-bd374d13b1d3",
   "metadata": {},
   "outputs": [],
   "source": [
    "# test = dd.read_parquet(files[0])"
   ]
  },
  {
   "cell_type": "code",
   "execution_count": null,
   "id": "7b23a82c-8e4c-460a-b5ef-9e28e999c214",
   "metadata": {},
   "outputs": [],
   "source": [
    "# len(test_min.NHDPlusID.unique())"
   ]
  },
  {
   "cell_type": "code",
   "execution_count": 34,
   "id": "c4b2361a-5457-493d-aacf-bc0e513fbfda",
   "metadata": {},
   "outputs": [],
   "source": [
    "# len(test.sort_values(by='NHDPlusID').compute().iloc[::10].NHDPlusID.unique())"
   ]
  },
  {
   "cell_type": "code",
   "execution_count": 7,
   "id": "384fe8d1-9e6c-4c6d-8a46-a332359b85d9",
   "metadata": {},
   "outputs": [],
   "source": [
    "# len(test_min.NHDPlusID.unique())"
   ]
  },
  {
   "cell_type": "code",
   "execution_count": 8,
   "id": "ba5787a1-3285-4d74-bd79-bc599d5c06d8",
   "metadata": {},
   "outputs": [],
   "source": [
    "# len(test_min.sort_values(by='NHDPlusID')[::10].NHDPlusID.unique())"
   ]
  },
  {
   "cell_type": "code",
   "execution_count": 7,
   "id": "409c80cc-fc48-4ba7-b688-8becb824790f",
   "metadata": {},
   "outputs": [],
   "source": [
    "# ddf_ne = ddf_ne.drop(columns='NHDPlusID')"
   ]
  },
  {
   "cell_type": "code",
   "execution_count": 156,
   "id": "550c0bf5-7dd3-4643-9f8a-fc58945a1d57",
   "metadata": {},
   "outputs": [],
   "source": [
    "# ddf_ne['coverage'] = ddf_ne['coverage']*100"
   ]
  },
  {
   "cell_type": "code",
   "execution_count": 10,
   "id": "57a2bd2b-c396-4616-ab13-97fbfca8b1ba",
   "metadata": {},
   "outputs": [],
   "source": [
    "# fort = ddf_ne[ddf_ne['NHDPlusID'] == 10000900004534].compute()"
   ]
  },
  {
   "cell_type": "code",
   "execution_count": 11,
   "id": "855594e5-4d47-40f7-8ccd-3d59ce758310",
   "metadata": {},
   "outputs": [],
   "source": [
    "# fort[fort['coverage'] > 0]"
   ]
  }
 ],
 "metadata": {
  "kernelspec": {
   "display_name": "Python [conda env:.conda-narrowPIXC]",
   "language": "python",
   "name": "conda-env-.conda-narrowPIXC-py"
  },
  "language_info": {
   "codemirror_mode": {
    "name": "ipython",
    "version": 3
   },
   "file_extension": ".py",
   "mimetype": "text/x-python",
   "name": "python",
   "nbconvert_exporter": "python",
   "pygments_lexer": "ipython3",
   "version": "3.12.4"
  }
 },
 "nbformat": 4,
 "nbformat_minor": 5
}
