{
 "cells": [
  {
   "cell_type": "code",
   "execution_count": 25,
   "id": "9058484e-dfbe-4c64-8577-239ca34302a3",
   "metadata": {},
   "outputs": [],
   "source": [
    "import os\n",
    "\n",
    "import matplotlib.pyplot as plt\n",
    "import numpy as np\n",
    "import pandas as pd\n",
    "import seaborn as sns\n",
    "\n",
    "from itertools import repeat, chain\n",
    "import matplotlib.colors as colors"
   ]
  },
  {
   "cell_type": "code",
   "execution_count": 26,
   "id": "b7cb674c-d9dd-4415-a41e-c61a0f692ed0",
   "metadata": {},
   "outputs": [],
   "source": [
    "# Order of all possible bins for plotting\n",
    "order = ['(0, 10]', '(10, 20]', '(20, 30]', '(30, 40]', '(40, 50]',\n",
    "         '(50, 60]', '(60, 70]', '(70, 80]', '(80, 90]', '(90, 100]',\n",
    "         '(100, 150]', '(150, 200]', '(200, 500]', '(500, 1000]']"
   ]
  },
  {
   "cell_type": "code",
   "execution_count": 44,
   "id": "ba8f29b9-a7e1-4c3c-a000-c6c942864be4",
   "metadata": {},
   "outputs": [],
   "source": [
    "def get_order(df, order, bbin):\n",
    "    # Make sorted list of bins present\n",
    "    ordered = []\n",
    "    reach_bins = list(set(df[bbin].to_list()))\n",
    "\n",
    "    for i in order:\n",
    "        if i in reach_bins:\n",
    "            ordered.append(i)\n",
    "            \n",
    "    return ordered"
   ]
  },
  {
   "cell_type": "code",
   "execution_count": 41,
   "id": "72a4dc48-a27e-49dc-bceb-bbbd78d968dd",
   "metadata": {},
   "outputs": [],
   "source": [
    "def read_output(data_path):\n",
    "    df_c = []\n",
    "\n",
    "    for file in os.listdir(data_path):\n",
    "        if not file.startswith('.'):\n",
    "            if 'cent' in file:\n",
    "                df_c.append(file)\n",
    "                \n",
    "    # Make df dataframe\n",
    "    d = []\n",
    "\n",
    "    for file in df_c:\n",
    "        data = pd.read_parquet(os.path.join(data_path, file))\n",
    "        d.append(data)\n",
    "        \n",
    "    df = pd.concat(d, axis=0, ignore_index=True)\n",
    "    return df"
   ]
  },
  {
   "cell_type": "code",
   "execution_count": 29,
   "id": "68f5c6aa-aa39-4b4b-ab3c-95e4042b639d",
   "metadata": {},
   "outputs": [],
   "source": [
    "def grouped_weighted_avg(values, weights):\n",
    "    return (values * weights).sum() / weights.sum()"
   ]
  },
  {
   "cell_type": "code",
   "execution_count": null,
   "id": "a7d46000-6c6c-4e8e-9a61-79ee3f2e4ae3",
   "metadata": {},
   "outputs": [],
   "source": [
    "# def read_in_centiles"
   ]
  },
  {
   "cell_type": "markdown",
   "id": "ab18a808-ef76-4493-8c43-4401a29c605f",
   "metadata": {
    "tags": []
   },
   "source": [
    "## Get data"
   ]
  },
  {
   "cell_type": "markdown",
   "id": "8d0bc7b0-693c-4609-9ac4-1e5db5e4a92c",
   "metadata": {},
   "source": [
    "### Max"
   ]
  },
  {
   "cell_type": "code",
   "execution_count": 38,
   "id": "bf85e51b-4451-4606-b341-7a4c2cdfe545",
   "metadata": {},
   "outputs": [],
   "source": [
    "## Setup\n",
    "bwidth = 'min'\n",
    "bbin = 'Bin_Min'\n",
    "data_path = '../narrow_rivers_PIXC_output/PIXC_v2_0_HUC2_01_2025_03_02_' + bwidth"
   ]
  },
  {
   "cell_type": "code",
   "execution_count": 39,
   "id": "703fcf22-2c79-4275-a513-d9a3ce587a33",
   "metadata": {},
   "outputs": [],
   "source": [
    "df = read_output(data_path)"
   ]
  },
  {
   "cell_type": "code",
   "execution_count": 45,
   "id": "4acf1974-40a3-4834-b58a-caf0636860e3",
   "metadata": {},
   "outputs": [],
   "source": [
    "ordered = get_order(df=df, order=order, bbin=bbin)"
   ]
  },
  {
   "cell_type": "code",
   "execution_count": 47,
   "id": "01b1ad89-7563-46d0-9ad8-ba4301c421e0",
   "metadata": {},
   "outputs": [],
   "source": [
    "# expanded = {}\n",
    "# data = {}\n",
    "\n",
    "# for width in ordered[3:4]:\n",
    "#     for thresh in df.threshold.unique():\n",
    "#         coverage = np.array(df[(df[binn] == width) & (df['threshold'] == thresh)]['coverage'].to_list())\n",
    "#         counts = np.array(df[(df[binn] == width) & (df['threshold'] == thresh)]['count'].to_list())\n",
    "\n",
    "#         new = np.array(list(chain.from_iterable(repeat(value, count) for value, count in zip(coverage, counts))))\n",
    "\n",
    "#         data[i] = new\n",
    "        \n",
    "#     expanded[binn] = data"
   ]
  },
  {
   "cell_type": "code",
   "execution_count": null,
   "id": "1fbaa352-c95f-4297-a413-6019f4571dae",
   "metadata": {},
   "outputs": [],
   "source": [
    "# zero_ten_thresh_30 = np.array(df[(df['Bin_Max'] == ordered[3]) & (df['threshold'] == 0.3)]['coverage'].to_list())"
   ]
  },
  {
   "cell_type": "code",
   "execution_count": 11,
   "id": "64df6324-f2ac-49c7-b9eb-b40fe2d45cd1",
   "metadata": {},
   "outputs": [],
   "source": [
    "# zero_ten_thresh_30_count = np.array(df[(df['Bin_Max'] == ordered[3]) & (df['threshold'] == 0.3)]['count'].to_list())"
   ]
  },
  {
   "cell_type": "code",
   "execution_count": 12,
   "id": "092d8b7e-2ebe-492b-8312-039ff2aa841f",
   "metadata": {},
   "outputs": [],
   "source": [
    "# test = np.array(list(chain.from_iterable(repeat(value, count) for value, count in zip(zero_ten_thresh_30, zero_ten_thresh_30_count))))"
   ]
  },
  {
   "cell_type": "code",
   "execution_count": 50,
   "id": "09325c7a-ba1c-4a24-afce-a067807af922",
   "metadata": {},
   "outputs": [],
   "source": [
    "df_mean = df.groupby([bbin,'quantile','threshold'])[list(df.columns)].apply(lambda x: grouped_weighted_avg(x['coverage'], x['count']))"
   ]
  },
  {
   "cell_type": "code",
   "execution_count": 51,
   "id": "704b68e6-f149-481f-a46f-80e419222045",
   "metadata": {},
   "outputs": [],
   "source": [
    "df_mean = df_mean.reset_index().rename(columns={0: 'weighted_coverage'})"
   ]
  },
  {
   "cell_type": "code",
   "execution_count": 52,
   "id": "d75d5f3e-1a5d-4f8b-91e7-54650021d254",
   "metadata": {},
   "outputs": [],
   "source": [
    "# Convert to percentage\n",
    "df_mean[['weighted_coverage', 'threshold']] = df_mean[['weighted_coverage', 'threshold']]*100"
   ]
  },
  {
   "cell_type": "code",
   "execution_count": 53,
   "id": "f0693f87-1bff-4aae-9533-1dc638fe2caf",
   "metadata": {},
   "outputs": [],
   "source": [
    "# thresholds = [10, 30, 50, 70, 90]\n",
    "df_subset = df_mean[(df_mean['threshold'] == 10) | (df_mean['threshold'] == 30) |\n",
    "                    (df_mean['threshold'] == 50) | (df_mean['threshold'] == 70) |\n",
    "                    (df_mean['threshold'] == 90)]"
   ]
  },
  {
   "cell_type": "code",
   "execution_count": 60,
   "id": "9b6ef174-41cd-451e-8628-f33a0b1f2243",
   "metadata": {},
   "outputs": [
    {
     "data": {
      "text/html": [
       "<div>\n",
       "<style scoped>\n",
       "    .dataframe tbody tr th:only-of-type {\n",
       "        vertical-align: middle;\n",
       "    }\n",
       "\n",
       "    .dataframe tbody tr th {\n",
       "        vertical-align: top;\n",
       "    }\n",
       "\n",
       "    .dataframe thead th {\n",
       "        text-align: right;\n",
       "    }\n",
       "</style>\n",
       "<table border=\"1\" class=\"dataframe\">\n",
       "  <thead>\n",
       "    <tr style=\"text-align: right;\">\n",
       "      <th></th>\n",
       "      <th>Bin_Min</th>\n",
       "      <th>quantile</th>\n",
       "      <th>threshold</th>\n",
       "      <th>weighted_coverage</th>\n",
       "    </tr>\n",
       "  </thead>\n",
       "  <tbody>\n",
       "    <tr>\n",
       "      <th>0</th>\n",
       "      <td>(0, 10]</td>\n",
       "      <td>0.00</td>\n",
       "      <td>10.0</td>\n",
       "      <td>0.000036</td>\n",
       "    </tr>\n",
       "    <tr>\n",
       "      <th>2</th>\n",
       "      <td>(0, 10]</td>\n",
       "      <td>0.00</td>\n",
       "      <td>30.0</td>\n",
       "      <td>0.000021</td>\n",
       "    </tr>\n",
       "    <tr>\n",
       "      <th>4</th>\n",
       "      <td>(0, 10]</td>\n",
       "      <td>0.00</td>\n",
       "      <td>50.0</td>\n",
       "      <td>0.000018</td>\n",
       "    </tr>\n",
       "    <tr>\n",
       "      <th>6</th>\n",
       "      <td>(0, 10]</td>\n",
       "      <td>0.00</td>\n",
       "      <td>70.0</td>\n",
       "      <td>0.000000</td>\n",
       "    </tr>\n",
       "    <tr>\n",
       "      <th>8</th>\n",
       "      <td>(0, 10]</td>\n",
       "      <td>0.00</td>\n",
       "      <td>90.0</td>\n",
       "      <td>0.000000</td>\n",
       "    </tr>\n",
       "    <tr>\n",
       "      <th>...</th>\n",
       "      <td>...</td>\n",
       "      <td>...</td>\n",
       "      <td>...</td>\n",
       "      <td>...</td>\n",
       "    </tr>\n",
       "    <tr>\n",
       "      <th>10791</th>\n",
       "      <td>(90, 100]</td>\n",
       "      <td>0.99</td>\n",
       "      <td>10.0</td>\n",
       "      <td>89.408124</td>\n",
       "    </tr>\n",
       "    <tr>\n",
       "      <th>10793</th>\n",
       "      <td>(90, 100]</td>\n",
       "      <td>0.99</td>\n",
       "      <td>30.0</td>\n",
       "      <td>88.850723</td>\n",
       "    </tr>\n",
       "    <tr>\n",
       "      <th>10795</th>\n",
       "      <td>(90, 100]</td>\n",
       "      <td>0.99</td>\n",
       "      <td>50.0</td>\n",
       "      <td>87.892116</td>\n",
       "    </tr>\n",
       "    <tr>\n",
       "      <th>10797</th>\n",
       "      <td>(90, 100]</td>\n",
       "      <td>0.99</td>\n",
       "      <td>70.0</td>\n",
       "      <td>85.644963</td>\n",
       "    </tr>\n",
       "    <tr>\n",
       "      <th>10799</th>\n",
       "      <td>(90, 100]</td>\n",
       "      <td>0.99</td>\n",
       "      <td>90.0</td>\n",
       "      <td>67.259351</td>\n",
       "    </tr>\n",
       "  </tbody>\n",
       "</table>\n",
       "<p>6000 rows × 4 columns</p>\n",
       "</div>"
      ],
      "text/plain": [
       "         Bin_Min  quantile  threshold  weighted_coverage\n",
       "0        (0, 10]      0.00       10.0           0.000036\n",
       "2        (0, 10]      0.00       30.0           0.000021\n",
       "4        (0, 10]      0.00       50.0           0.000018\n",
       "6        (0, 10]      0.00       70.0           0.000000\n",
       "8        (0, 10]      0.00       90.0           0.000000\n",
       "...          ...       ...        ...                ...\n",
       "10791  (90, 100]      0.99       10.0          89.408124\n",
       "10793  (90, 100]      0.99       30.0          88.850723\n",
       "10795  (90, 100]      0.99       50.0          87.892116\n",
       "10797  (90, 100]      0.99       70.0          85.644963\n",
       "10799  (90, 100]      0.99       90.0          67.259351\n",
       "\n",
       "[6000 rows x 4 columns]"
      ]
     },
     "execution_count": 60,
     "metadata": {},
     "output_type": "execute_result"
    }
   ],
   "source": [
    "df_subset"
   ]
  },
  {
   "cell_type": "code",
   "execution_count": null,
   "id": "39dd3231-f518-4371-8c4a-88184b297bc9",
   "metadata": {},
   "outputs": [],
   "source": [
    "# df_crop = df_subset[df_subset[binn] != '(200, 500]']"
   ]
  },
  {
   "cell_type": "code",
   "execution_count": null,
   "id": "9a69501e-3d0c-45c2-98d0-3c00f29d0e1a",
   "metadata": {},
   "outputs": [],
   "source": [
    "# reach_thirty = df_mean[df_mean['threshold'] == 30]\n",
    "# reach_thirty = pd.DataFrame(reach_thirty, columns=['NHDPlus HR df with > 10% detection in all nodes'])"
   ]
  },
  {
   "cell_type": "code",
   "execution_count": null,
   "id": "ccb694cb-756e-4030-b134-62316a8c107e",
   "metadata": {},
   "outputs": [],
   "source": [
    "# reach_ten = df_mean[df_mean['threshold'] == 10]\n",
    "# reach_ten = pd.DataFrame(reach_ten, columns=['NHDPlus HR df with > 10% detection in all nodes'])"
   ]
  },
  {
   "cell_type": "code",
   "execution_count": null,
   "id": "087032f9-3d4a-4d6c-b5ab-7d0d3b962095",
   "metadata": {},
   "outputs": [],
   "source": [
    "# ten_list = []\n",
    "# for binn in ordered:\n",
    "#     print(binn)\n",
    "#     coverage = reach_ten[reach_ten['Bin'] == binn].coverage.to_list()\n",
    "#     ten_list.append(coverage)"
   ]
  },
  {
   "cell_type": "code",
   "execution_count": null,
   "id": "acd83711-904d-46fe-bc56-998eed41d355",
   "metadata": {},
   "outputs": [],
   "source": [
    "# reach_fifty = df_mean[df_mean['threshold'] == 50]\n",
    "# reach_fifty = pd.DataFrame(reach_fifty, columns=['NHDPlus HR df with > 10% detection in all nodes'])"
   ]
  },
  {
   "cell_type": "markdown",
   "id": "613ad699-d4eb-4dfd-aac9-bc0c010733e0",
   "metadata": {},
   "source": [
    "## Plot data"
   ]
  },
  {
   "cell_type": "code",
   "execution_count": null,
   "id": "5bdbafaf-b746-4acd-b1f6-310ae31c29bf",
   "metadata": {},
   "outputs": [],
   "source": [
    "# # Make sorted list of bins present\n",
    "# ordered = []\n",
    "# node_bins = node_w_zero_mean.Bin.to_list()\n",
    "# for i in order:\n",
    "#     if i in node_bins:\n",
    "#         ordered.append(i)\n",
    "# # ordered"
   ]
  },
  {
   "cell_type": "code",
   "execution_count": 54,
   "id": "d93416dd-1dac-4da9-b8a0-e4df8ddd9403",
   "metadata": {},
   "outputs": [],
   "source": [
    "def truncate_colormap(cmap, minval=0.0, maxval=1.0, n=100):\n",
    "    new_cmap = colors.LinearSegmentedColormap.from_list(\n",
    "        'trunc({n},{a:.2f},{b:.2f})'.format(n=cmap.name, a=minval, b=maxval),\n",
    "        cmap(np.linspace(minval, maxval, n)))\n",
    "    return new_cmap"
   ]
  },
  {
   "cell_type": "code",
   "execution_count": 55,
   "id": "f11c968a-533f-4aea-8d60-f89d8d0868c7",
   "metadata": {},
   "outputs": [],
   "source": [
    "cmap = plt.get_cmap('cubehelix')\n",
    "new_cmap = truncate_colormap(cmap, 0.2, 0.75)"
   ]
  },
  {
   "cell_type": "code",
   "execution_count": null,
   "id": "81c270e9-2442-42d3-a7cd-ca4992e11b83",
   "metadata": {},
   "outputs": [],
   "source": [
    "save_path = '/nas/cee-water/cjgleason/fiona/narrow_rivers_PIXC/figures_for_2025_03_03/'"
   ]
  },
  {
   "cell_type": "markdown",
   "id": "32f9863a-6eb7-4064-b928-ce5e8fb047e4",
   "metadata": {},
   "source": [
    "#### New"
   ]
  },
  {
   "cell_type": "code",
   "execution_count": null,
   "id": "f9a1c1ac-e599-43c3-9cfb-f038552cc7b5",
   "metadata": {},
   "outputs": [],
   "source": [
    "# fig, ax = plt.subplots(figsize=(12,6))\n",
    "# sns.boxplot(x=binn, y='weighted_coverage',\n",
    "#             data=reach_thirty, order=ordered, color='#2D7038',\n",
    "#             saturation=1, showmeans=True,\n",
    "#             fliersize=2, linewidth=2,\n",
    "#             boxprops=dict(alpha=0.8),\n",
    "#             meanprops={'marker':'o',\n",
    "#                        'markerfacecolor':'white',\n",
    "#                        'markeredgecolor':'k',\n",
    "#                        'markersize':'8'})\n",
    "\n",
    "# plt.title('Bieger et al. width == ' + width + ', 30% threshold', fontsize=16,\n",
    "#            fontweight='bold')\n",
    "# plt.xticks(fontsize=14, fontweight='semibold', rotation=-45)\n",
    "# plt.yticks(fontsize=14, fontweight='semibold',)\n",
    "\n",
    "# plt.xlabel('Width Bin [m]', fontsize=16,\n",
    "#            fontweight='bold', labelpad=20)\n",
    "# plt.ylabel('Detected [%]', fontsize=16,\n",
    "#            fontweight='bold')\n",
    "\n",
    "# plt.savefig(fname=save_path + 'thirty_' + width + '.png', dpi=300, bbox_inches='tight')"
   ]
  },
  {
   "cell_type": "code",
   "execution_count": 64,
   "id": "0a71b420-1384-4bb6-b3ea-812d47659453",
   "metadata": {},
   "outputs": [
    {
     "data": {
      "text/plain": [
       "['(0, 10]',\n",
       " '(10, 20]',\n",
       " '(20, 30]',\n",
       " '(30, 40]',\n",
       " '(40, 50]',\n",
       " '(50, 60]',\n",
       " '(60, 70]',\n",
       " '(70, 80]',\n",
       " '(80, 90]',\n",
       " '(90, 100]',\n",
       " '(100, 150]',\n",
       " '(150, 200]']"
      ]
     },
     "execution_count": 64,
     "metadata": {},
     "output_type": "execute_result"
    }
   ],
   "source": [
    "ordered"
   ]
  },
  {
   "cell_type": "code",
   "execution_count": null,
   "id": "9e18047f-023f-43a5-a1ec-14d6cfe3e6ba",
   "metadata": {},
   "outputs": [],
   "source": [
    "fig, ax = plt.subplots(figsize=(20,8))\n",
    "sns.boxplot(x=bbin, y='weighted_coverage', hue='threshold',\n",
    "            data=df_subset, \n",
    "            order=ordered, palette=new_cmap,\n",
    "            saturation=1, showmeans=True,\n",
    "            fliersize=2, legend=False,\n",
    "            boxprops=dict(alpha=0.8),\n",
    "            meanprops={'marker':'o',\n",
    "                       'markerfacecolor':'white',\n",
    "                       'markeredgecolor':'k',\n",
    "                       'markersize':'4'})\n",
    "\n",
    "plt.title('Bieger et al. width: ' + bwidth + '\\nOLD WAY', fontsize=16,\n",
    "           fontweight='bold')\n",
    "\n",
    "plt.xticks(fontsize=14, fontweight='semibold', rotation=-45)\n",
    "plt.yticks(fontsize=14, fontweight='semibold',)\n",
    "\n",
    "plt.xlabel('Width Bin [m]', fontsize=16,\n",
    "           fontweight='bold', labelpad=20)\n",
    "plt.ylabel('Detected [%]', fontsize=16,\n",
    "           fontweight='bold')\n",
    "\n",
    "# plt.legend(title='Threshold [%]', #loc='upper left',\n",
    "#            title_fontproperties={'weight': 'bold',\n",
    "#                                  'size': 14},\n",
    "#            prop={'weight': 'semibold',\n",
    "#                  'size': 12})\n",
    "\n",
    "# plt.savefig(fname=save_path + 'all_' + width + '.png', dpi=300, bbox_inches='tight')"
   ]
  },
  {
   "cell_type": "markdown",
   "id": "1d050e83-615f-42ea-bd0d-b2b617fb9d73",
   "metadata": {
    "jp-MarkdownHeadingCollapsed": true,
    "tags": []
   },
   "source": [
    "### For Later"
   ]
  },
  {
   "cell_type": "code",
   "execution_count": null,
   "id": "87954600-7a9e-4864-bdec-a339e4833bf2",
   "metadata": {},
   "outputs": [],
   "source": [
    "# Group by the 'Bin' column and compute the weighted mean for each group\n",
    "def weighted_mean(group):\n",
    "    return (group['count'] * group['mean']).sum() / group['count'].sum()\n",
    "\n",
    "# Apply the weighted mean function to each group\n",
    "weighted_means = nodes_desc.groupby('Bin').apply(weighted_mean).reset_index(name='Weighted Mean')"
   ]
  },
  {
   "cell_type": "code",
   "execution_count": null,
   "id": "5cbde6ff-fe34-4529-9c8d-29591b13294c",
   "metadata": {},
   "outputs": [],
   "source": [
    "weighted_means"
   ]
  },
  {
   "cell_type": "code",
   "execution_count": null,
   "id": "fe32f862-a923-4eae-943c-364b5e40aa27",
   "metadata": {},
   "outputs": [],
   "source": [
    "# Group by the 'Bin' column\n",
    "def weighted_std(group, weighted_mean):\n",
    "    # Compute the weighted variance\n",
    "    weighted_variance = ((group['count'] * ((group['mean'] - weighted_mean)**2 + group['std']**2)).sum()) / group['count'].sum()\n",
    "    return weighted_variance**0.5\n",
    "\n",
    "# Compute the weighted mean first\n",
    "weighted_mean = (nodes_desc['count' ] * nodes_desc['mean']).sum() / nodes_desc['count'].sum()\n",
    "\n",
    "# Apply the weighted std function to each group\n",
    "weighted_stds = nodes_desc.groupby('Bin').apply(weighted_std, weighted_mean=weighted_mean).reset_index(name='Weighted Std')"
   ]
  },
  {
   "cell_type": "code",
   "execution_count": null,
   "id": "f56daf70-0f6f-4323-81c5-e4454c7257b3",
   "metadata": {},
   "outputs": [],
   "source": [
    "weighted_stds"
   ]
  },
  {
   "cell_type": "code",
   "execution_count": null,
   "id": "b86d0377-13e4-4732-9acc-fdceb9072c89",
   "metadata": {},
   "outputs": [],
   "source": [
    "# Remove rows where the mean or standard deviation is NaN (e.g., row with index 15)\n",
    "df = df.dropna(subset=['Mean', 'Std'])\n",
    "\n",
    "# Group by the 'Bin' column\n",
    "def weighted_std(group, weighted_mean):\n",
    "    # Compute the weighted variance\n",
    "    weighted_variance = ((group['Count'] * ((group['Mean'] - weighted_mean)**2 + group['Std']**2)).sum()) / group['Count'].sum())\n",
    "    return weighted_variance**0.5\n",
    "\n",
    "# Compute the weighted mean first\n",
    "weighted_mean = (df['Count'] * df['Mean']).sum() / df['Count'].sum()\n",
    "\n",
    "# Compute the weighted standard deviation first\n",
    "weighted_stds = df.groupby('Bin').apply(weighted_std, weighted_mean=weighted_mean).reset_index(name='Weighted Std')\n",
    "\n",
    "# Calculate the weighted standard error for each bin (Std / sqrt(Count))\n",
    "weighted_stds['Weighted Std Error'] = weighted_stds['Weighted Std'] / np.sqrt(df.groupby('Bin')['Count'].sum().values)\n",
    "\n",
    "# Print the results\n",
    "print(weighted_stds)"
   ]
  },
  {
   "cell_type": "code",
   "execution_count": null,
   "id": "2daf3d15-60f3-41de-8a87-b4f342ee1f2f",
   "metadata": {},
   "outputs": [],
   "source": [
    "# nodes_desc[nodes_desc['Bin'] == '(100, 150]']"
   ]
  },
  {
   "cell_type": "code",
   "execution_count": null,
   "id": "f1e073cd-b885-478e-a67f-4db8eb99cb57",
   "metadata": {},
   "outputs": [],
   "source": [
    "# # Make nodes dataframe\n",
    "# d = []\n",
    "# for file in nodes_quant:\n",
    "#     data = pd.read_csv(os.path.join(data_path, file))\n",
    "#     d.append(data)\n",
    "# nodes_quant = pd.concat(d, axis=0, ignore_index=True)#.rename(columns={'Unnamed: 0': 'stat'})"
   ]
  },
  {
   "cell_type": "code",
   "execution_count": null,
   "id": "96d2bb0e-2b9e-4115-88f4-65c044103924",
   "metadata": {},
   "outputs": [],
   "source": [
    "# nodes_quant = nodes_quant[nodes_quant['with_zero'] == 1]"
   ]
  },
  {
   "cell_type": "code",
   "execution_count": null,
   "id": "5fdfcd82-5350-4b5f-9739-464ee8f6b40e",
   "metadata": {},
   "outputs": [],
   "source": [
    "# nodes_quant_binned = nodes_quant.groupby(['Bin', 'quantile']).mean().reset_index().drop(columns=['Unnamed: 0', 'with_zero'])"
   ]
  },
  {
   "cell_type": "code",
   "execution_count": null,
   "id": "3ed3f44d-c7c0-4843-90d0-344092d714db",
   "metadata": {},
   "outputs": [],
   "source": [
    "# nodes_quant_binned"
   ]
  },
  {
   "cell_type": "code",
   "execution_count": null,
   "id": "717b7650-c2cd-48e9-90fa-b3edb98821ae",
   "metadata": {},
   "outputs": [],
   "source": [
    "# nodes_quant_binned[nodes_quant_binned['Bin'] == '(0, 10]']#.coverage.to_list()"
   ]
  },
  {
   "cell_type": "code",
   "execution_count": null,
   "id": "7c80f989-67b0-4e8f-a5ce-01ee8c7c0325",
   "metadata": {},
   "outputs": [],
   "source": [
    "# Example: two groups of coverage data for two rivers\n",
    "# Coverage values for River 1 and River 2 (from the data you provided)\n",
    "river1_coverage = [0.0, 0.000356, 0.00166, 0.0042, 0.00691, 0.00935, 0.01078, 0.01217, 0.01308, 0.01471]  # And more...\n",
    "river2_coverage = [0.0, 0.00205, 0.00407, 0.00496, 0.00627, 0.00766, 0.01038, 0.01121, 0.0121, 0.01261]  # And more...\n",
    "\n",
    "# Combine these two rivers' data into a list of groups\n",
    "data = [river1_coverage, river2_coverage]"
   ]
  },
  {
   "cell_type": "code",
   "execution_count": null,
   "id": "ac0c0a08-5920-4dd3-b5c5-3f209071ca0f",
   "metadata": {},
   "outputs": [],
   "source": [
    "# Example: two groups of coverage data for two rivers\n",
    "# Coverage values for River 1 and River 2 (from the data you provided)\n",
    "river1_coverage = [0.0, 0.000356, 0.00166, 0.0042, 0.00691, 0.00935, 0.01078, 0.01217, 0.01308, 0.01471]  # And more...\n",
    "river2_coverage = [0.0, 0.00205, 0.00407, 0.00496, 0.00627, 0.00766, 0.01038, 0.01121, 0.0121, 0.01261]  # And more...\n",
    "\n",
    "# Combine these two rivers' data into a list of groups\n",
    "data = [river1_coverage, river2_coverage]\n",
    "\n",
    "# Create a boxplot\n",
    "plt.boxplot(data, tick_labels=['River 1', 'River 2'])\n",
    "\n",
    "# Set titles and labels\n",
    "plt.title('Coverage Comparison between Rivers')\n",
    "plt.ylabel('Coverage Value')\n",
    "\n",
    "# Show plot\n",
    "plt.show()"
   ]
  },
  {
   "cell_type": "code",
   "execution_count": null,
   "id": "fd04dfe1-ae7a-4b80-af5d-336216586ea9",
   "metadata": {},
   "outputs": [],
   "source": [
    "# node_w_zero = node[node['with_zero'] == 1]"
   ]
  },
  {
   "cell_type": "code",
   "execution_count": null,
   "id": "cd2d1e28-cba7-4f23-9dfc-d37d80774946",
   "metadata": {},
   "outputs": [],
   "source": [
    "# node_w_zero"
   ]
  },
  {
   "cell_type": "code",
   "execution_count": null,
   "id": "5dfb6c0b-7731-4904-9660-574dcc612ca0",
   "metadata": {},
   "outputs": [],
   "source": []
  },
  {
   "cell_type": "code",
   "execution_count": null,
   "id": "6610aaf7-6e16-4a3b-8595-9e038588de4f",
   "metadata": {},
   "outputs": [],
   "source": [
    "# node_mean = node[node['stat'] == 'mean'].drop(columns='stat').mean()"
   ]
  },
  {
   "cell_type": "code",
   "execution_count": null,
   "id": "77a42f6b-10d7-484f-b65c-e73c127dcbe9",
   "metadata": {},
   "outputs": [],
   "source": [
    "# node_mean = pd.DataFrame(node_mean, columns=['Pseudo-nodes'])"
   ]
  }
 ],
 "metadata": {
  "kernelspec": {
   "display_name": "Python [conda env:.conda-narrowPIXC]",
   "language": "python",
   "name": "conda-env-.conda-narrowPIXC-py"
  },
  "language_info": {
   "codemirror_mode": {
    "name": "ipython",
    "version": 3
   },
   "file_extension": ".py",
   "mimetype": "text/x-python",
   "name": "python",
   "nbconvert_exporter": "python",
   "pygments_lexer": "ipython3",
   "version": "3.12.4"
  }
 },
 "nbformat": 4,
 "nbformat_minor": 5
}
