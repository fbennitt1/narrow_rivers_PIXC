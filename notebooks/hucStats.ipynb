{
 "cells": [
  {
   "cell_type": "code",
   "execution_count": 15,
   "id": "5c9ef012-6cdc-4221-ad14-1ee44b2ba9b3",
   "metadata": {},
   "outputs": [],
   "source": [
    "import os\n",
    "import sys\n",
    "\n",
    "import geopandas as gpd\n",
    "import matplotlib.colors as colors\n",
    "import matplotlib.pyplot as plt\n",
    "import numpy as np\n",
    "import pandas as pd\n",
    "import shapely\n",
    "import seaborn as sns\n",
    "\n",
    "sys.path.insert(1, '../scripts/')\n",
    "from reaches import *"
   ]
  },
  {
   "cell_type": "markdown",
   "id": "60b41ebc-4d56-4419-876b-0cf63094d671",
   "metadata": {},
   "source": [
    "## Setup"
   ]
  },
  {
   "cell_type": "code",
   "execution_count": 10,
   "id": "b6665d7a-9327-4750-9d2f-cf15bcebf4fe",
   "metadata": {},
   "outputs": [],
   "source": [
    "mdata_path = '/nas/cee-water/cjgleason/fiona/narrow_rivers_PIXC/data/'"
   ]
  },
  {
   "cell_type": "code",
   "execution_count": null,
   "id": "d1c91adc-ffe5-444d-8cce-ebca2b629546",
   "metadata": {},
   "outputs": [],
   "source": []
  },
  {
   "cell_type": "code",
   "execution_count": 31,
   "id": "ffa5ff06-2034-4255-be46-01843e4920ad",
   "metadata": {},
   "outputs": [],
   "source": [
    "def truncate_colormap(cmap, minval=0.0, maxval=1.0, n=100):\n",
    "    new_cmap = colors.LinearSegmentedColormap.from_list(\n",
    "        'trunc({n},{a:.2f},{b:.2f})'.format(n=cmap.name, a=minval, b=maxval),\n",
    "        cmap(np.linspace(minval, maxval, n)))\n",
    "    return new_cmap"
   ]
  },
  {
   "cell_type": "code",
   "execution_count": 32,
   "id": "64d460ca-392c-4bad-ae00-5966154eb1d4",
   "metadata": {},
   "outputs": [],
   "source": [
    "cmap = plt.get_cmap('cubehelix', 11)\n",
    "new_cmap = truncate_colormap(cmap, 0.2, 0.75)"
   ]
  },
  {
   "cell_type": "code",
   "execution_count": 33,
   "id": "ca973645-20dc-4bc1-9320-899d389f3102",
   "metadata": {},
   "outputs": [],
   "source": [
    "color = []\n",
    "\n",
    "for i in np.linspace(0, 1, 7):\n",
    "    color.append(colors.rgb2hex(new_cmap(i)))"
   ]
  },
  {
   "cell_type": "code",
   "execution_count": 34,
   "id": "403b1edf-84c2-4967-8d8f-f6913e14da2e",
   "metadata": {},
   "outputs": [],
   "source": [
    "palette = sns.color_palette(color)\n",
    "palette_two = sns.color_palette(color[1::3])\n",
    "palette_three = sns.color_palette(color[1::2])\n",
    "palette_four = sns.color_palette(color[0::2])"
   ]
  },
  {
   "cell_type": "code",
   "execution_count": 35,
   "id": "bb1f3528-1d87-4a4e-bb51-6f868ebe1d23",
   "metadata": {},
   "outputs": [
    {
     "data": {
      "text/html": [
       "<svg  width=\"220\" height=\"55\"><rect x=\"0\" y=\"0\" width=\"55\" height=\"55\" style=\"fill:#163d4e;stroke-width:2;stroke:rgb(255,255,255)\"/><rect x=\"55\" y=\"0\" width=\"55\" height=\"55\" style=\"fill:#54792f;stroke-width:2;stroke:rgb(255,255,255)\"/><rect x=\"110\" y=\"0\" width=\"55\" height=\"55\" style=\"fill:#d07e93;stroke-width:2;stroke:rgb(255,255,255)\"/><rect x=\"165\" y=\"0\" width=\"55\" height=\"55\" style=\"fill:#c1caf3;stroke-width:2;stroke:rgb(255,255,255)\"/></svg>"
      ],
      "text/plain": [
       "[(0.08627450980392157, 0.23921568627450981, 0.3058823529411765),\n",
       " (0.32941176470588235, 0.4745098039215686, 0.1843137254901961),\n",
       " (0.8156862745098039, 0.49411764705882355, 0.5764705882352941),\n",
       " (0.7568627450980392, 0.792156862745098, 0.9529411764705882)]"
      ]
     },
     "execution_count": 35,
     "metadata": {},
     "output_type": "execute_result"
    }
   ],
   "source": [
    "palette_four"
   ]
  },
  {
   "cell_type": "code",
   "execution_count": null,
   "id": "26c37312-422f-4ed6-994f-06a3c9103368",
   "metadata": {},
   "outputs": [],
   "source": []
  },
  {
   "cell_type": "code",
   "execution_count": 11,
   "id": "f93cf193-6710-404e-b936-b3b0a63e5375",
   "metadata": {
    "tags": []
   },
   "outputs": [],
   "source": [
    "# Get NHD index metadata\n",
    "# Define dtypes for lookup tables to preserve leading zeros\n",
    "dtype_dic= {'HUC4': str, 'HUC2': str, 'toBasin': str, 'level': str}\n",
    "# Read in HUC lookup table\n",
    "huc_lookup = pd.read_csv(os.path.join(mdata_path,\n",
    "                                  'HUC4_lookup_no_great_lakes.csv'),\n",
    "                     dtype=dtype_dic)"
   ]
  },
  {
   "cell_type": "code",
   "execution_count": 69,
   "id": "a17a8cbd-5509-47d0-96b8-485a3ff1b60e",
   "metadata": {},
   "outputs": [],
   "source": [
    "def truncate_colormap(cmap, minval=0.0, maxval=1.0, n=100):\n",
    "    new_cmap = colors.LinearSegmentedColormap.from_list(\n",
    "        'trunc({n},{a:.2f},{b:.2f})'.format(n=cmap.name, a=minval, b=maxval),\n",
    "        cmap(np.linspace(minval, maxval, n)))\n",
    "    return new_cmap"
   ]
  },
  {
   "cell_type": "code",
   "execution_count": 73,
   "id": "975489e4-16e5-4580-9376-26361ec2a2f2",
   "metadata": {},
   "outputs": [],
   "source": [
    "cmap = plt.get_cmap('cubehelix', 5)\n",
    "new_cmap = truncate_colormap(cmap, 0.2, 0.75)"
   ]
  },
  {
   "cell_type": "code",
   "execution_count": 74,
   "id": "5086c941-4ef6-4dd8-9894-e140b73a0e2b",
   "metadata": {},
   "outputs": [],
   "source": [
    "color = []\n",
    "\n",
    "for i in np.linspace(0, 1, 3):\n",
    "    color.append(colors.rgb2hex(new_cmap(i)))"
   ]
  },
  {
   "cell_type": "code",
   "execution_count": 75,
   "id": "e6755927-e911-4584-9cf9-b183eb514778",
   "metadata": {
    "tags": []
   },
   "outputs": [],
   "source": [
    "# palette = sns.color_palette(color)\n",
    "palette_two = sns.color_palette(color[:-1])"
   ]
  },
  {
   "cell_type": "code",
   "execution_count": 28,
   "id": "b5b19527-472f-44f8-a6ae-d4825820b2ad",
   "metadata": {},
   "outputs": [],
   "source": [
    "# Order of all possible bins for plotting\n",
    "order = ['(0, 10]', '(10, 20]', '(20, 30]', '(30, 40]', '(40, 50]',\n",
    "         '(50, 60]', '(60, 70]', '(70, 80]', '(80, 90]', '(90, 100]',\n",
    "         '(100, 150]', '(150, 200]', '(200, 500]']"
   ]
  },
  {
   "cell_type": "markdown",
   "id": "e84f0e29-981c-4725-a2e9-3baa71b1e57d",
   "metadata": {},
   "source": [
    "## Get HUCs"
   ]
  },
  {
   "cell_type": "code",
   "execution_count": 2,
   "id": "376308ee-d417-4bcd-b4a7-b1aaa12c6c06",
   "metadata": {},
   "outputs": [],
   "source": [
    "# Read in HUC4 boundaries (no Great Lakes)\n",
    "data_path = '/nas/cee-water/cjgleason/fiona/narrow_rivers_PIXC_data/all_wbd_no_great_lakes.parquet'\n",
    "wbd = gpd.read_parquet(path=data_path)"
   ]
  },
  {
   "cell_type": "code",
   "execution_count": 3,
   "id": "9279a4a5-6efb-4a88-a734-31a2103764ba",
   "metadata": {},
   "outputs": [],
   "source": [
    "# Project CRS\n",
    "wbd = wbd.to_crs(epsg=3857)"
   ]
  },
  {
   "cell_type": "code",
   "execution_count": 4,
   "id": "9e766972-9a78-4fa0-a6d4-c6be95425660",
   "metadata": {},
   "outputs": [],
   "source": [
    "hucs_01 = wbd[wbd['huc4'].str.startswith('01')]['huc4'].to_list()"
   ]
  },
  {
   "cell_type": "code",
   "execution_count": 5,
   "id": "14c77460-c73c-48de-8d22-59b016043a06",
   "metadata": {},
   "outputs": [],
   "source": [
    "hucs_15 = wbd[wbd['huc4'].str.startswith('15')]['huc4'].to_list()"
   ]
  },
  {
   "cell_type": "code",
   "execution_count": 6,
   "id": "30e2bfc2-9a4b-4a3f-abf7-bae63e35b2b3",
   "metadata": {},
   "outputs": [],
   "source": [
    "hucs_08 = wbd[wbd['huc4'].str.startswith('08')]['huc4'].to_list()"
   ]
  },
  {
   "cell_type": "code",
   "execution_count": 7,
   "id": "11fcbf5a-9316-4ed0-952a-777581b3621f",
   "metadata": {},
   "outputs": [],
   "source": [
    "hucs_17 = wbd[wbd['huc4'].str.startswith('17')]['huc4'].to_list()"
   ]
  },
  {
   "cell_type": "code",
   "execution_count": 13,
   "id": "f2a8e557-3aad-48a1-89ca-2f40360c43f3",
   "metadata": {},
   "outputs": [],
   "source": [
    "# Extract indices for read-in\n",
    "indices_01 = list(huc_lookup[huc_lookup['HUC4'].isin(hucs_01)]['slurm_index'])\n",
    "indices_08 = list(huc_lookup[huc_lookup['HUC4'].isin(hucs_08)]['slurm_index'])\n",
    "indices_15 = list(huc_lookup[huc_lookup['HUC4'].isin(hucs_15)]['slurm_index'])\n",
    "indices_17 = list(huc_lookup[huc_lookup['HUC4'].isin(hucs_17)]['slurm_index'])"
   ]
  },
  {
   "cell_type": "markdown",
   "id": "2388010d-8577-4691-819e-5f4780b0eae7",
   "metadata": {},
   "source": [
    "## Analysis"
   ]
  },
  {
   "cell_type": "code",
   "execution_count": null,
   "id": "684241bd-5f0a-4b4c-8fee-9a51113eca8e",
   "metadata": {},
   "outputs": [],
   "source": [
    "# Create merged dataframe of all flowlines intersected\n",
    "# Initialize lists\n",
    "d = []\n",
    "\n",
    "# Loop through indices and store in lists\n",
    "for i in indices_01:\n",
    "    # Read prepped NHD\n",
    "    flowlines, _, _ = readNHD(index=i)\n",
    "    # Append to lists\n",
    "    d.append(flowlines)\n",
    "# Merge GeoDataFrames\n",
    "flowlines_01 = pd.concat(d)"
   ]
  },
  {
   "cell_type": "code",
   "execution_count": null,
   "id": "71563151-a0e8-4e79-902f-c87ac6375e68",
   "metadata": {},
   "outputs": [],
   "source": [
    "# Create merged dataframe of all flowlines intersected\n",
    "# Initialize lists\n",
    "d = []\n",
    "\n",
    "# Loop through indices and store in lists\n",
    "for i in indices_08:\n",
    "    # Read prepped NHD\n",
    "    flowlines, _, _ = readNHD(index=i)\n",
    "    # Append to lists\n",
    "    d.append(flowlines)\n",
    "# Merge GeoDataFrames\n",
    "flowlines_08 = pd.concat(d)"
   ]
  },
  {
   "cell_type": "code",
   "execution_count": null,
   "id": "4f303100-571c-4849-92ee-bfeaafddfe94",
   "metadata": {},
   "outputs": [],
   "source": [
    "# Create merged dataframe of all flowlines intersected\n",
    "# Initialize lists\n",
    "d = []\n",
    "\n",
    "# Loop through indices and store in lists\n",
    "for i in indices_15:\n",
    "    # Read prepped NHD\n",
    "    flowlines, _, _ = readNHD(index=i)\n",
    "    # Append to lists\n",
    "    d.append(flowlines)\n",
    "# Merge GeoDataFrames\n",
    "flowlines_15 = pd.concat(d)"
   ]
  },
  {
   "cell_type": "code",
   "execution_count": null,
   "id": "902b790d-7318-48b1-bf45-472068f808bb",
   "metadata": {},
   "outputs": [],
   "source": [
    "# Create merged dataframe of all flowlines intersected\n",
    "# Initialize lists\n",
    "d = []\n",
    "\n",
    "# Loop through indices and store in lists\n",
    "for i in indices_17:\n",
    "    # Read prepped NHD\n",
    "    flowlines, _, _ = readNHD(index=i)\n",
    "    # Append to lists\n",
    "    d.append(flowlines)\n",
    "# Merge GeoDataFrames\n",
    "flowlines_17 = pd.concat(d)"
   ]
  },
  {
   "cell_type": "code",
   "execution_count": 20,
   "id": "251fec68-34d6-4c5b-a8a4-b8b96a48e1ec",
   "metadata": {},
   "outputs": [],
   "source": [
    "flowlines_01['huc2'] = '01'\n",
    "flowlines_08['huc2'] = '08'\n",
    "flowlines_15['huc2'] = '15'\n",
    "flowlines_17['huc2'] = '17'"
   ]
  },
  {
   "cell_type": "code",
   "execution_count": 21,
   "id": "1b8d0427-718c-43a5-a668-1fe5a645d974",
   "metadata": {},
   "outputs": [
    {
     "data": {
      "text/plain": [
       "272884"
      ]
     },
     "execution_count": 21,
     "metadata": {},
     "output_type": "execute_result"
    }
   ],
   "source": [
    "flowlines_01.shape[0]"
   ]
  },
  {
   "cell_type": "code",
   "execution_count": 22,
   "id": "9d383d3f-2aaf-439b-8a2e-1bb2bde80634",
   "metadata": {},
   "outputs": [
    {
     "data": {
      "text/plain": [
       "560027"
      ]
     },
     "execution_count": 22,
     "metadata": {},
     "output_type": "execute_result"
    }
   ],
   "source": [
    "flowlines_08.shape[0]"
   ]
  },
  {
   "cell_type": "code",
   "execution_count": 57,
   "id": "d62da70a-f8bf-45bd-a605-c7acadffb923",
   "metadata": {},
   "outputs": [
    {
     "data": {
      "text/plain": [
       "623321"
      ]
     },
     "execution_count": 57,
     "metadata": {},
     "output_type": "execute_result"
    }
   ],
   "source": [
    "flowlines_15.shape[0]"
   ]
  },
  {
   "cell_type": "code",
   "execution_count": 23,
   "id": "8c5e92d7-08bc-4e3d-9043-8602b2140c41",
   "metadata": {},
   "outputs": [
    {
     "data": {
      "text/plain": [
       "2802528"
      ]
     },
     "execution_count": 23,
     "metadata": {},
     "output_type": "execute_result"
    }
   ],
   "source": [
    "flowlines_17.shape[0]"
   ]
  },
  {
   "cell_type": "code",
   "execution_count": 24,
   "id": "3a7ca9eb-32db-4cf6-ad66-e63af06bf5bb",
   "metadata": {},
   "outputs": [],
   "source": [
    "temp_01 = flowlines_01[['StreamOrde', 'Bin', 'huc2']]\n",
    "temp_08 = flowlines_08[['StreamOrde', 'Bin', 'huc2']]\n",
    "temp_15 = flowlines_15[['StreamOrde', 'Bin', 'huc2']]\n",
    "temp_17 = flowlines_17[['StreamOrde', 'Bin', 'huc2']]"
   ]
  },
  {
   "cell_type": "code",
   "execution_count": 26,
   "id": "e560556a-49af-492c-9a50-819d169d3e71",
   "metadata": {},
   "outputs": [],
   "source": [
    "all_ = pd.concat(objs=[temp_01, temp_08, temp_15, temp_17]).reset_index().drop(columns='index')"
   ]
  },
  {
   "cell_type": "code",
   "execution_count": 29,
   "id": "f96faa4e-dc83-40d6-8e11-7a9f1bb6c732",
   "metadata": {},
   "outputs": [],
   "source": [
    "all_['Bin'] = pd.Categorical(all_['Bin'], order)"
   ]
  },
  {
   "cell_type": "code",
   "execution_count": 30,
   "id": "41f03187-0662-47f5-8b20-760c340303fc",
   "metadata": {},
   "outputs": [
    {
     "data": {
      "text/html": [
       "<div>\n",
       "<style scoped>\n",
       "    .dataframe tbody tr th:only-of-type {\n",
       "        vertical-align: middle;\n",
       "    }\n",
       "\n",
       "    .dataframe tbody tr th {\n",
       "        vertical-align: top;\n",
       "    }\n",
       "\n",
       "    .dataframe thead th {\n",
       "        text-align: right;\n",
       "    }\n",
       "</style>\n",
       "<table border=\"1\" class=\"dataframe\">\n",
       "  <thead>\n",
       "    <tr style=\"text-align: right;\">\n",
       "      <th></th>\n",
       "      <th>StreamOrde</th>\n",
       "      <th>Bin</th>\n",
       "      <th>huc2</th>\n",
       "    </tr>\n",
       "  </thead>\n",
       "  <tbody>\n",
       "    <tr>\n",
       "      <th>0</th>\n",
       "      <td>2</td>\n",
       "      <td>(0, 10]</td>\n",
       "      <td>01</td>\n",
       "    </tr>\n",
       "    <tr>\n",
       "      <th>1</th>\n",
       "      <td>1</td>\n",
       "      <td>(0, 10]</td>\n",
       "      <td>01</td>\n",
       "    </tr>\n",
       "    <tr>\n",
       "      <th>2</th>\n",
       "      <td>3</td>\n",
       "      <td>(10, 20]</td>\n",
       "      <td>01</td>\n",
       "    </tr>\n",
       "    <tr>\n",
       "      <th>3</th>\n",
       "      <td>6</td>\n",
       "      <td>(100, 150]</td>\n",
       "      <td>01</td>\n",
       "    </tr>\n",
       "    <tr>\n",
       "      <th>4</th>\n",
       "      <td>1</td>\n",
       "      <td>(0, 10]</td>\n",
       "      <td>01</td>\n",
       "    </tr>\n",
       "    <tr>\n",
       "      <th>...</th>\n",
       "      <td>...</td>\n",
       "      <td>...</td>\n",
       "      <td>...</td>\n",
       "    </tr>\n",
       "    <tr>\n",
       "      <th>4258755</th>\n",
       "      <td>1</td>\n",
       "      <td>(0, 10]</td>\n",
       "      <td>17</td>\n",
       "    </tr>\n",
       "    <tr>\n",
       "      <th>4258756</th>\n",
       "      <td>1</td>\n",
       "      <td>(0, 10]</td>\n",
       "      <td>17</td>\n",
       "    </tr>\n",
       "    <tr>\n",
       "      <th>4258757</th>\n",
       "      <td>1</td>\n",
       "      <td>(0, 10]</td>\n",
       "      <td>17</td>\n",
       "    </tr>\n",
       "    <tr>\n",
       "      <th>4258758</th>\n",
       "      <td>2</td>\n",
       "      <td>(0, 10]</td>\n",
       "      <td>17</td>\n",
       "    </tr>\n",
       "    <tr>\n",
       "      <th>4258759</th>\n",
       "      <td>2</td>\n",
       "      <td>(0, 10]</td>\n",
       "      <td>17</td>\n",
       "    </tr>\n",
       "  </tbody>\n",
       "</table>\n",
       "<p>4258760 rows × 3 columns</p>\n",
       "</div>"
      ],
      "text/plain": [
       "         StreamOrde         Bin huc2\n",
       "0                 2     (0, 10]   01\n",
       "1                 1     (0, 10]   01\n",
       "2                 3    (10, 20]   01\n",
       "3                 6  (100, 150]   01\n",
       "4                 1     (0, 10]   01\n",
       "...             ...         ...  ...\n",
       "4258755           1     (0, 10]   17\n",
       "4258756           1     (0, 10]   17\n",
       "4258757           1     (0, 10]   17\n",
       "4258758           2     (0, 10]   17\n",
       "4258759           2     (0, 10]   17\n",
       "\n",
       "[4258760 rows x 3 columns]"
      ]
     },
     "execution_count": 30,
     "metadata": {},
     "output_type": "execute_result"
    }
   ],
   "source": [
    "all_"
   ]
  },
  {
   "cell_type": "code",
   "execution_count": 36,
   "id": "0f005ba0-ffb4-4817-8427-dc60ebf09981",
   "metadata": {},
   "outputs": [
    {
     "data": {
      "image/png": "[encoded data removed]",
      "text/plain": [
       "<Figure size 700x500 with 1 Axes>"
      ]
     },
     "metadata": {},
     "output_type": "display_data"
    }
   ],
   "source": [
    "fig, ax = plt.subplots(figsize=(7,5))\n",
    "\n",
    "sns.histplot(data=all_, x=\"StreamOrde\",\n",
    "             hue=\"huc2\", palette=palette_four,\n",
    "             multiple=\"dodge\", discrete=True,\n",
    "             shrink=0.8, edgecolor='None',\n",
    "             legend=True, ax=ax)\n",
    "\n",
    "plt.xlabel('Stream Order');\n",
    "plt.xticks(np.arange(0,10));"
   ]
  },
  {
   "cell_type": "code",
   "execution_count": 37,
   "id": "8ca0babb-98f8-46f7-8c5f-55de154f3bc7",
   "metadata": {},
   "outputs": [
    {
     "data": {
      "image/png": "[encoded data removed]",
      "text/plain": [
       "<Figure size 700x500 with 1 Axes>"
      ]
     },
     "metadata": {},
     "output_type": "display_data"
    }
   ],
   "source": [
    "fig, ax = plt.subplots(figsize=(7,5))\n",
    "\n",
    "sns.histplot(data=all_, x=\"Bin\", log_scale=True,\n",
    "             hue=\"huc2\", palette=palette_four,\n",
    "             multiple=\"dodge\", discrete=True,\n",
    "             shrink=0.8, edgecolor='None',\n",
    "             legend=True)\n",
    "\n",
    "plt.xlabel('Width [m]');\n",
    "plt.ylabel('log(Count)')\n",
    "plt.yscale('log')\n",
    "plt.xticks(rotation=-45)\n",
    "plt.xticks(np.arange(0,13));"
   ]
  }
 ],
 "metadata": {
  "kernelspec": {
   "display_name": "Python [conda env:.conda-narrowPIXC]",
   "language": "python",
   "name": "conda-env-.conda-narrowPIXC-py"
  },
  "language_info": {
   "codemirror_mode": {
    "name": "ipython",
    "version": 3
   },
   "file_extension": ".py",
   "mimetype": "text/x-python",
   "name": "python",
   "nbconvert_exporter": "python",
   "pygments_lexer": "ipython3",
   "version": "3.12.4"
  }
 },
 "nbformat": 4,
 "nbformat_minor": 5
}
