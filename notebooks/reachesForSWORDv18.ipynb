{
 "cells": [
  {
   "cell_type": "code",
   "execution_count": 1,
   "id": "48274b5f-8129-44b6-9d1f-175d5bc8a649",
   "metadata": {},
   "outputs": [],
   "source": [
    "import os\n",
    "import time\n",
    "\n",
    "import dask.dataframe as dd\n",
    "import geopandas as gpd\n",
    "import matplotlib.cm\n",
    "import matplotlib.colors as colors\n",
    "import matplotlib.pyplot as plt\n",
    "import numpy as np\n",
    "import pandas as pd\n",
    "import seaborn as sns\n",
    "\n",
    "from reaches import *"
   ]
  },
  {
   "cell_type": "code",
   "execution_count": 2,
   "id": "16cf66a0-5bc5-48bb-938e-21577c3b5abe",
   "metadata": {},
   "outputs": [],
   "source": [
    "def read_output(data_path):\n",
    "\n",
    "    files = []\n",
    "    for file in os.listdir(data_path):\n",
    "        if not file.startswith('.'):\n",
    "            if 'min' in file:\n",
    "                files.append(os.path.join(data_path, file))\n",
    "                \n",
    "    # Make df dataframe\n",
    "    d = []\n",
    "\n",
    "    for file in files:\n",
    "        data = pd.read_parquet(file)\n",
    "        data = data.sort_values(by='NHDPlusID').iloc[::10]\n",
    "        data['file'] = file\n",
    "        d.append(data)\n",
    "        \n",
    "    df = pd.concat(d, axis=0, ignore_index=True)\n",
    "    return df"
   ]
  },
  {
   "cell_type": "code",
   "execution_count": 3,
   "id": "c23da355-3736-4b02-9af6-7134970bde56",
   "metadata": {},
   "outputs": [],
   "source": [
    "# Order of all possible bins for plotting\n",
    "order = ['(0, 10]', '(10, 20]', '(20, 30]', '(30, 40]', '(40, 50]',\n",
    "         '(50, 60]', '(60, 70]', '(70, 80]', '(80, 90]', '(90, 100]',\n",
    "         '(100, 150]', '(150, 200]', '(200, 500]']"
   ]
  },
  {
   "cell_type": "code",
   "execution_count": null,
   "id": "577a8c9f-bf5c-403f-883f-8684aaa40111",
   "metadata": {},
   "outputs": [],
   "source": [
    "# USE THIS ONCE I RERUN AND WRITE OUT REACHES NOT NODES FOR MIN\n",
    "\n",
    "# # Get list of files    \n",
    "# files = []\n",
    "# for file in os.listdir(data_path):\n",
    "#     if not file.startswith('.'):\n",
    "#         if 'min' in file:\n",
    "#             files.append(os.path.join(data_path, file))\n",
    "\n",
    "# ddf_ne = dd.read_parquet(files)"
   ]
  },
  {
   "cell_type": "code",
   "execution_count": 4,
   "id": "7da1a538-d783-4bae-96c0-d6b739b28696",
   "metadata": {},
   "outputs": [],
   "source": [
    "pd.options.display.float_format = '{:.2f}'.format"
   ]
  },
  {
   "cell_type": "markdown",
   "id": "8506974a-1a3a-4736-8177-3ebf0043c63d",
   "metadata": {
    "jp-MarkdownHeadingCollapsed": true,
    "tags": []
   },
   "source": [
    "## For plotting"
   ]
  },
  {
   "cell_type": "code",
   "execution_count": null,
   "id": "c94aadc7-5635-4bff-86fa-1e069c6e14a7",
   "metadata": {},
   "outputs": [],
   "source": [
    "def truncate_colormap(cmap, minval=0.0, maxval=1.0, n=100):\n",
    "    new_cmap = colors.LinearSegmentedColormap.from_list(\n",
    "        'trunc({n},{a:.2f},{b:.2f})'.format(n=cmap.name, a=minval, b=maxval),\n",
    "        cmap(np.linspace(minval, maxval, n)))\n",
    "    return new_cmap"
   ]
  },
  {
   "cell_type": "code",
   "execution_count": null,
   "id": "1b04f663-5e51-4999-9c8c-556c02b82c42",
   "metadata": {},
   "outputs": [],
   "source": [
    "cmap = plt.get_cmap('cubehelix', 5)\n",
    "new_cmap = truncate_colormap(cmap, 0.2, 0.75)"
   ]
  },
  {
   "cell_type": "code",
   "execution_count": null,
   "id": "1fcba1bb-1275-4307-ae8b-16685b8c872a",
   "metadata": {},
   "outputs": [],
   "source": [
    "color = []\n",
    "\n",
    "for i in np.linspace(0, 1, 3):\n",
    "    color.append(colors.rgb2hex(new_cmap(i)))"
   ]
  },
  {
   "cell_type": "code",
   "execution_count": null,
   "id": "a80276d3-7246-4a60-adae-c16536b93382",
   "metadata": {},
   "outputs": [],
   "source": [
    "palette = sns.color_palette(color)"
   ]
  },
  {
   "cell_type": "code",
   "execution_count": null,
   "id": "3b0c7334-3ddf-4aba-bfd7-9bc5f86812ca",
   "metadata": {},
   "outputs": [],
   "source": [
    "# Order of all possible bins for plotting\n",
    "order = ['(0, 10]', '(10, 20]', '(20, 30]', '(30, 40]', '(40, 50]',\n",
    "         '(50, 60]', '(60, 70]', '(70, 80]', '(80, 90]', '(90, 100]',\n",
    "         '(100, 150]', '(150, 200]', '(200, 500]']"
   ]
  },
  {
   "cell_type": "code",
   "execution_count": null,
   "id": "f4572674-865a-4c74-978d-eeedb807ba89",
   "metadata": {},
   "outputs": [],
   "source": [
    "# save_path = '/nas/cee-water/cjgleason/fiona/narrow_rivers_PIXC/figures_for_2025_03_07/'"
   ]
  },
  {
   "cell_type": "markdown",
   "id": "0d14b8a9-aa58-4fd1-992b-b1ec11c7ccdc",
   "metadata": {
    "tags": []
   },
   "source": [
    "## Minimum Coverage"
   ]
  },
  {
   "cell_type": "code",
   "execution_count": 5,
   "id": "4a5c58f6-8c40-4136-b941-41cd5fc3089a",
   "metadata": {},
   "outputs": [],
   "source": [
    "narrow = ['(0, 10]', '(10, 20]', '(20, 30]', '(30, 40]', '(40, 50]']"
   ]
  },
  {
   "cell_type": "markdown",
   "id": "42507c34-187e-4c95-aa77-b965c4874db2",
   "metadata": {
    "tags": []
   },
   "source": [
    "### HUC2_01, Northeast"
   ]
  },
  {
   "cell_type": "code",
   "execution_count": 6,
   "id": "67f14455-aabc-4db4-b051-5a66fc58dbda",
   "metadata": {},
   "outputs": [],
   "source": [
    "## Setup\n",
    "bwidth = 'mean'\n",
    "bbin = 'Bin'\n",
    "huc2 = '01'\n",
    "data_path = '../narrow_rivers_PIXC_output/PIXC_v2_0_HUC2_' + huc2 + '_2025_03_06_' + bwidth"
   ]
  },
  {
   "cell_type": "code",
   "execution_count": 7,
   "id": "8fe7cbc1-8a92-4aea-a749-41616d21d5e3",
   "metadata": {},
   "outputs": [],
   "source": [
    "df_ne = read_output(data_path=data_path)"
   ]
  },
  {
   "cell_type": "code",
   "execution_count": 8,
   "id": "bd64deb5-ac4a-4bf8-9c82-43073df0d1e0",
   "metadata": {},
   "outputs": [],
   "source": [
    "df_ne['coverage'] = df_ne['coverage']*100"
   ]
  },
  {
   "cell_type": "code",
   "execution_count": 9,
   "id": "180919d6-8e7d-4d4c-9e45-4fefbc0d250b",
   "metadata": {},
   "outputs": [],
   "source": [
    "df_ne['granule'] = df_ne['file'].str.slice(63, -20)"
   ]
  },
  {
   "cell_type": "code",
   "execution_count": null,
   "id": "37078402-4201-43e7-b07c-1b41b16acf79",
   "metadata": {},
   "outputs": [],
   "source": [
    "# df_ne[df_ne['granule'].str.contains('PIC2')]"
   ]
  },
  {
   "cell_type": "code",
   "execution_count": 15,
   "id": "1fa926e9-54e7-43cb-b018-491cfce26d9b",
   "metadata": {},
   "outputs": [],
   "source": [
    "summary = pd.DataFrame(df_ne.groupby('NHDPlusID').count()['coverage']).rename(columns={'coverage': 'observations'})"
   ]
  },
  {
   "cell_type": "code",
   "execution_count": 16,
   "id": "44db7bdb-f61a-4761-9154-b5523e7e0d7a",
   "metadata": {},
   "outputs": [],
   "source": [
    "summary['ten']  = df_ne[df_ne.coverage > 10].groupby('NHDPlusID').count()['coverage']\n",
    "summary['twenty']  = df_ne[df_ne.coverage > 20].groupby('NHDPlusID').count()['coverage']\n",
    "summary['thirty']  = df_ne[df_ne.coverage > 30].groupby('NHDPlusID').count()['coverage']\n",
    "summary['forty']  = df_ne[df_ne.coverage > 40].groupby('NHDPlusID').count()['coverage']\n",
    "summary['fifty']  = df_ne[df_ne.coverage > 50].groupby('NHDPlusID').count()['coverage']\n",
    "summary['sixty']  = df_ne[df_ne.coverage > 60].groupby('NHDPlusID').count()['coverage']\n",
    "summary['seventy']  = df_ne[df_ne.coverage > 70].groupby('NHDPlusID').count()['coverage']\n",
    "summary['eighty']  = df_ne[df_ne.coverage > 80].groupby('NHDPlusID').count()['coverage']\n",
    "summary['ninety']  = df_ne[df_ne.coverage > 90].groupby('NHDPlusID').count()['coverage']"
   ]
  },
  {
   "cell_type": "code",
   "execution_count": 17,
   "id": "92535184-59fb-49df-897d-e83541116954",
   "metadata": {},
   "outputs": [],
   "source": [
    "summary = pd.merge(left=summary, right=df_ne.drop_duplicates(subset='NHDPlusID')[['NHDPlusID', 'Bin']], on='NHDPlusID', how='left')"
   ]
  },
  {
   "cell_type": "code",
   "execution_count": 26,
   "id": "44e8ac64-a278-44a4-b12b-197d20bd49de",
   "metadata": {},
   "outputs": [
    {
     "data": {
      "text/html": [
       "<div>\n",
       "<style scoped>\n",
       "    .dataframe tbody tr th:only-of-type {\n",
       "        vertical-align: middle;\n",
       "    }\n",
       "\n",
       "    .dataframe tbody tr th {\n",
       "        vertical-align: top;\n",
       "    }\n",
       "\n",
       "    .dataframe thead th {\n",
       "        text-align: right;\n",
       "    }\n",
       "</style>\n",
       "<table border=\"1\" class=\"dataframe\">\n",
       "  <thead>\n",
       "    <tr style=\"text-align: right;\">\n",
       "      <th></th>\n",
       "      <th>NHDPlusID</th>\n",
       "      <th>observations</th>\n",
       "      <th>ten</th>\n",
       "      <th>twenty</th>\n",
       "      <th>thirty</th>\n",
       "      <th>forty</th>\n",
       "      <th>fifty</th>\n",
       "      <th>sixty</th>\n",
       "      <th>seventy</th>\n",
       "      <th>eighty</th>\n",
       "      <th>ninety</th>\n",
       "      <th>Bin</th>\n",
       "    </tr>\n",
       "  </thead>\n",
       "  <tbody>\n",
       "    <tr>\n",
       "      <th>0</th>\n",
       "      <td>5000100000001.00</td>\n",
       "      <td>22</td>\n",
       "      <td>3.00</td>\n",
       "      <td>1.00</td>\n",
       "      <td>NaN</td>\n",
       "      <td>NaN</td>\n",
       "      <td>NaN</td>\n",
       "      <td>NaN</td>\n",
       "      <td>NaN</td>\n",
       "      <td>NaN</td>\n",
       "      <td>NaN</td>\n",
       "      <td>(10, 20]</td>\n",
       "    </tr>\n",
       "    <tr>\n",
       "      <th>1</th>\n",
       "      <td>5000100000006.00</td>\n",
       "      <td>23</td>\n",
       "      <td>1.00</td>\n",
       "      <td>NaN</td>\n",
       "      <td>NaN</td>\n",
       "      <td>NaN</td>\n",
       "      <td>NaN</td>\n",
       "      <td>NaN</td>\n",
       "      <td>NaN</td>\n",
       "      <td>NaN</td>\n",
       "      <td>NaN</td>\n",
       "      <td>(0, 10]</td>\n",
       "    </tr>\n",
       "    <tr>\n",
       "      <th>2</th>\n",
       "      <td>5000100000007.00</td>\n",
       "      <td>50</td>\n",
       "      <td>NaN</td>\n",
       "      <td>NaN</td>\n",
       "      <td>NaN</td>\n",
       "      <td>NaN</td>\n",
       "      <td>NaN</td>\n",
       "      <td>NaN</td>\n",
       "      <td>NaN</td>\n",
       "      <td>NaN</td>\n",
       "      <td>NaN</td>\n",
       "      <td>(10, 20]</td>\n",
       "    </tr>\n",
       "    <tr>\n",
       "      <th>3</th>\n",
       "      <td>5000100000008.00</td>\n",
       "      <td>90</td>\n",
       "      <td>5.00</td>\n",
       "      <td>1.00</td>\n",
       "      <td>NaN</td>\n",
       "      <td>NaN</td>\n",
       "      <td>NaN</td>\n",
       "      <td>NaN</td>\n",
       "      <td>NaN</td>\n",
       "      <td>NaN</td>\n",
       "      <td>NaN</td>\n",
       "      <td>(0, 10]</td>\n",
       "    </tr>\n",
       "    <tr>\n",
       "      <th>4</th>\n",
       "      <td>5000100000009.00</td>\n",
       "      <td>26</td>\n",
       "      <td>NaN</td>\n",
       "      <td>NaN</td>\n",
       "      <td>NaN</td>\n",
       "      <td>NaN</td>\n",
       "      <td>NaN</td>\n",
       "      <td>NaN</td>\n",
       "      <td>NaN</td>\n",
       "      <td>NaN</td>\n",
       "      <td>NaN</td>\n",
       "      <td>(0, 10]</td>\n",
       "    </tr>\n",
       "    <tr>\n",
       "      <th>...</th>\n",
       "      <td>...</td>\n",
       "      <td>...</td>\n",
       "      <td>...</td>\n",
       "      <td>...</td>\n",
       "      <td>...</td>\n",
       "      <td>...</td>\n",
       "      <td>...</td>\n",
       "      <td>...</td>\n",
       "      <td>...</td>\n",
       "      <td>...</td>\n",
       "      <td>...</td>\n",
       "      <td>...</td>\n",
       "    </tr>\n",
       "    <tr>\n",
       "      <th>272738</th>\n",
       "      <td>10000900099059.00</td>\n",
       "      <td>69</td>\n",
       "      <td>NaN</td>\n",
       "      <td>NaN</td>\n",
       "      <td>NaN</td>\n",
       "      <td>NaN</td>\n",
       "      <td>NaN</td>\n",
       "      <td>NaN</td>\n",
       "      <td>NaN</td>\n",
       "      <td>NaN</td>\n",
       "      <td>NaN</td>\n",
       "      <td>(0, 10]</td>\n",
       "    </tr>\n",
       "    <tr>\n",
       "      <th>272739</th>\n",
       "      <td>10000900099062.00</td>\n",
       "      <td>69</td>\n",
       "      <td>NaN</td>\n",
       "      <td>NaN</td>\n",
       "      <td>NaN</td>\n",
       "      <td>NaN</td>\n",
       "      <td>NaN</td>\n",
       "      <td>NaN</td>\n",
       "      <td>NaN</td>\n",
       "      <td>NaN</td>\n",
       "      <td>NaN</td>\n",
       "      <td>(0, 10]</td>\n",
       "    </tr>\n",
       "    <tr>\n",
       "      <th>272740</th>\n",
       "      <td>10000900099065.00</td>\n",
       "      <td>69</td>\n",
       "      <td>NaN</td>\n",
       "      <td>NaN</td>\n",
       "      <td>NaN</td>\n",
       "      <td>NaN</td>\n",
       "      <td>NaN</td>\n",
       "      <td>NaN</td>\n",
       "      <td>NaN</td>\n",
       "      <td>NaN</td>\n",
       "      <td>NaN</td>\n",
       "      <td>(0, 10]</td>\n",
       "    </tr>\n",
       "    <tr>\n",
       "      <th>272741</th>\n",
       "      <td>10000900099066.00</td>\n",
       "      <td>69</td>\n",
       "      <td>NaN</td>\n",
       "      <td>NaN</td>\n",
       "      <td>NaN</td>\n",
       "      <td>NaN</td>\n",
       "      <td>NaN</td>\n",
       "      <td>NaN</td>\n",
       "      <td>NaN</td>\n",
       "      <td>NaN</td>\n",
       "      <td>NaN</td>\n",
       "      <td>(0, 10]</td>\n",
       "    </tr>\n",
       "    <tr>\n",
       "      <th>272742</th>\n",
       "      <td>10000900099067.00</td>\n",
       "      <td>69</td>\n",
       "      <td>NaN</td>\n",
       "      <td>NaN</td>\n",
       "      <td>NaN</td>\n",
       "      <td>NaN</td>\n",
       "      <td>NaN</td>\n",
       "      <td>NaN</td>\n",
       "      <td>NaN</td>\n",
       "      <td>NaN</td>\n",
       "      <td>NaN</td>\n",
       "      <td>(0, 10]</td>\n",
       "    </tr>\n",
       "  </tbody>\n",
       "</table>\n",
       "<p>272743 rows × 12 columns</p>\n",
       "</div>"
      ],
      "text/plain": [
       "               NHDPlusID  observations  ten  twenty  thirty  forty  fifty  \\\n",
       "0       5000100000001.00            22 3.00    1.00     NaN    NaN    NaN   \n",
       "1       5000100000006.00            23 1.00     NaN     NaN    NaN    NaN   \n",
       "2       5000100000007.00            50  NaN     NaN     NaN    NaN    NaN   \n",
       "3       5000100000008.00            90 5.00    1.00     NaN    NaN    NaN   \n",
       "4       5000100000009.00            26  NaN     NaN     NaN    NaN    NaN   \n",
       "...                  ...           ...  ...     ...     ...    ...    ...   \n",
       "272738 10000900099059.00            69  NaN     NaN     NaN    NaN    NaN   \n",
       "272739 10000900099062.00            69  NaN     NaN     NaN    NaN    NaN   \n",
       "272740 10000900099065.00            69  NaN     NaN     NaN    NaN    NaN   \n",
       "272741 10000900099066.00            69  NaN     NaN     NaN    NaN    NaN   \n",
       "272742 10000900099067.00            69  NaN     NaN     NaN    NaN    NaN   \n",
       "\n",
       "        sixty  seventy  eighty  ninety       Bin  \n",
       "0         NaN      NaN     NaN     NaN  (10, 20]  \n",
       "1         NaN      NaN     NaN     NaN   (0, 10]  \n",
       "2         NaN      NaN     NaN     NaN  (10, 20]  \n",
       "3         NaN      NaN     NaN     NaN   (0, 10]  \n",
       "4         NaN      NaN     NaN     NaN   (0, 10]  \n",
       "...       ...      ...     ...     ...       ...  \n",
       "272738    NaN      NaN     NaN     NaN   (0, 10]  \n",
       "272739    NaN      NaN     NaN     NaN   (0, 10]  \n",
       "272740    NaN      NaN     NaN     NaN   (0, 10]  \n",
       "272741    NaN      NaN     NaN     NaN   (0, 10]  \n",
       "272742    NaN      NaN     NaN     NaN   (0, 10]  \n",
       "\n",
       "[272743 rows x 12 columns]"
      ]
     },
     "execution_count": 26,
     "metadata": {},
     "output_type": "execute_result"
    }
   ],
   "source": [
    "summary"
   ]
  },
  {
   "cell_type": "code",
   "execution_count": null,
   "id": "e9dfca3f-cadb-47b8-bc23-363a91579500",
   "metadata": {},
   "outputs": [],
   "source": [
    "passed_ne = summary[(summary.twenty/summary.observations > 0.5) & summary.Bin.isin(narrow)].sort_values(by='observations', ascending=False).reset_index().drop(columns='index')"
   ]
  },
  {
   "cell_type": "code",
   "execution_count": null,
   "id": "ff9509e6-6739-49cc-aadd-df0ab0f3f91c",
   "metadata": {},
   "outputs": [],
   "source": [
    "passed_ne"
   ]
  },
  {
   "cell_type": "code",
   "execution_count": null,
   "id": "12379485-adc8-4811-bf25-6feeeb1774bd",
   "metadata": {},
   "outputs": [],
   "source": [
    "# passed_ne.to_csv('passed_ne.csv')"
   ]
  },
  {
   "cell_type": "code",
   "execution_count": null,
   "id": "b758c3e5-390b-4e93-b69f-a978b60d6f56",
   "metadata": {},
   "outputs": [],
   "source": [
    "ne_ids = passed_ne['NHDPlusID'].to_list()"
   ]
  },
  {
   "cell_type": "code",
   "execution_count": null,
   "id": "a9f9a0d0-fa1d-4f95-9a28-27fb656bcd3f",
   "metadata": {},
   "outputs": [],
   "source": [
    "len(ne_ids)"
   ]
  },
  {
   "cell_type": "code",
   "execution_count": null,
   "id": "089dbe28-a3f4-407a-9818-74ad9e07aacc",
   "metadata": {},
   "outputs": [],
   "source": [
    "seen = df_ne[df_ne['NHDPlusID'].isin(ne_ids)].drop(columns='file')"
   ]
  },
  {
   "cell_type": "code",
   "execution_count": null,
   "id": "c0b12d90-0066-425f-96f2-9672373a476e",
   "metadata": {},
   "outputs": [],
   "source": [
    "good_ne = seen[seen['coverage'] > 20].sort_values(by=['NHDPlusID', 'coverage'], ascending=[True, False]).reset_index().drop(columns='index')"
   ]
  },
  {
   "cell_type": "code",
   "execution_count": null,
   "id": "efc3e80b-d370-475e-b51e-29f5f099f3b6",
   "metadata": {},
   "outputs": [],
   "source": [
    "good_ne"
   ]
  },
  {
   "cell_type": "code",
   "execution_count": null,
   "id": "f4fbe101-886f-4fa0-88af-008167b68326",
   "metadata": {},
   "outputs": [],
   "source": [
    "# good_ne.to_csv('good_ne.csv')"
   ]
  },
  {
   "cell_type": "code",
   "execution_count": null,
   "id": "5a396104-d8fa-482f-89f6-2f3ba27e8370",
   "metadata": {},
   "outputs": [],
   "source": [
    "# seen[(seen['NHDPlusID'] == 10000900048960.00) & (seen['coverage'] > 30)]"
   ]
  },
  {
   "cell_type": "markdown",
   "id": "04f4e5b9-45ea-4330-b565-7fe6edc20ad0",
   "metadata": {
    "tags": []
   },
   "source": [
    "### HUC2_15, Southwest"
   ]
  },
  {
   "cell_type": "code",
   "execution_count": 19,
   "id": "f7b212d7-1038-4bd1-8c34-7e9d6f21fb1d",
   "metadata": {},
   "outputs": [],
   "source": [
    "## Setup\n",
    "bwidth = 'mean'\n",
    "bbin = 'Bin'\n",
    "huc2 = '15'\n",
    "data_path = '../narrow_rivers_PIXC_output/PIXC_v2_0_HUC2_' + huc2 + '_2025_03_06_' + bwidth"
   ]
  },
  {
   "cell_type": "code",
   "execution_count": 20,
   "id": "cc11b722-34e1-4182-bab1-844ce0e47183",
   "metadata": {},
   "outputs": [],
   "source": [
    "df_sw = read_output(data_path=data_path)"
   ]
  },
  {
   "cell_type": "code",
   "execution_count": 21,
   "id": "48d024a0-9e09-463e-9f36-5913ed9da12c",
   "metadata": {},
   "outputs": [],
   "source": [
    "df_sw['granule'] = df_sw['file'].str.slice(63, -20)"
   ]
  },
  {
   "cell_type": "code",
   "execution_count": 22,
   "id": "80761109-fe4d-4a82-be1d-47369a87243f",
   "metadata": {},
   "outputs": [],
   "source": [
    "df_sw['coverage'] = df_sw['coverage']*100"
   ]
  },
  {
   "cell_type": "code",
   "execution_count": 23,
   "id": "0a3c2823-6203-40f8-959b-372a0a02710b",
   "metadata": {},
   "outputs": [],
   "source": [
    "summary_sw = pd.DataFrame(df_sw.groupby('NHDPlusID').count()['coverage']).rename(columns={'coverage': 'observations'})"
   ]
  },
  {
   "cell_type": "code",
   "execution_count": 24,
   "id": "312073bb-644e-425a-af6d-1d2fc3597012",
   "metadata": {},
   "outputs": [],
   "source": [
    "summary_sw['ten']  = df_sw[df_sw.coverage > 10].groupby('NHDPlusID').count()['coverage']\n",
    "summary_sw['twenty']  = df_sw[df_sw.coverage > 20].groupby('NHDPlusID').count()['coverage']\n",
    "summary_sw['thirty']  = df_sw[df_sw.coverage > 30].groupby('NHDPlusID').count()['coverage']\n",
    "summary_sw['forty']  = df_sw[df_sw.coverage > 40].groupby('NHDPlusID').count()['coverage']\n",
    "summary_sw['fifty']  = df_sw[df_sw.coverage > 50].groupby('NHDPlusID').count()['coverage']\n",
    "summary_sw['sixty']  = df_sw[df_sw.coverage > 60].groupby('NHDPlusID').count()['coverage']\n",
    "summary_sw['seventy']  = df_sw[df_sw.coverage > 70].groupby('NHDPlusID').count()['coverage']\n",
    "summary_sw['eighty']  = df_sw[df_sw.coverage > 80].groupby('NHDPlusID').count()['coverage']\n",
    "summary_sw['ninety']  = df_sw[df_sw.coverage > 90].groupby('NHDPlusID').count()['coverage']"
   ]
  },
  {
   "cell_type": "code",
   "execution_count": null,
   "id": "175c1e7c-357a-415f-98b4-57eee1327bcf",
   "metadata": {},
   "outputs": [],
   "source": [
    "# summary_sw = summary_sw.reset_index()"
   ]
  },
  {
   "cell_type": "code",
   "execution_count": 25,
   "id": "44389905-5388-4a31-8829-653b1acd53e1",
   "metadata": {},
   "outputs": [],
   "source": [
    "summary_sw = pd.merge(left=summary_sw, right=df_sw.drop_duplicates(subset='NHDPlusID')[['NHDPlusID', 'Bin', 'granule']], on='NHDPlusID', how='left')"
   ]
  },
  {
   "cell_type": "code",
   "execution_count": null,
   "id": "acb9fc8d-49bc-41c4-9869-b5e8cc914b13",
   "metadata": {},
   "outputs": [],
   "source": [
    "passed_sw = summary_sw[(summary_sw.twenty/summary_sw.observations > 0.5) & summary_sw.Bin.isin(narrow)].sort_values(by='observations', ascending=False).reset_index().drop(columns='index')"
   ]
  },
  {
   "cell_type": "code",
   "execution_count": null,
   "id": "99bda2cb-921b-4085-8af8-df0e88fb131e",
   "metadata": {},
   "outputs": [],
   "source": [
    "passed_sw"
   ]
  },
  {
   "cell_type": "code",
   "execution_count": null,
   "id": "14efdba9-3643-437a-b196-05bbb632b847",
   "metadata": {},
   "outputs": [],
   "source": [
    "# passed_sw.to_csv('passed_sw.csv')"
   ]
  },
  {
   "cell_type": "code",
   "execution_count": null,
   "id": "15410b0d-c488-41f8-989d-9f8bb4839476",
   "metadata": {},
   "outputs": [],
   "source": [
    "sw_ids = passed_sw['NHDPlusID'].to_list()"
   ]
  },
  {
   "cell_type": "code",
   "execution_count": null,
   "id": "291d0649-8c6e-4f57-b6b1-bc75532d6cf6",
   "metadata": {},
   "outputs": [],
   "source": [
    "len(sw_ids)"
   ]
  },
  {
   "cell_type": "code",
   "execution_count": null,
   "id": "1b4db3d1-95bf-4f77-af6f-e6dbf41c33ec",
   "metadata": {},
   "outputs": [],
   "source": [
    "seen_sw = df_sw[df_sw['NHDPlusID'].isin(sw_ids)].drop(columns='file')"
   ]
  },
  {
   "cell_type": "code",
   "execution_count": null,
   "id": "2b391ee6-4430-4f27-ab8b-fc8877704919",
   "metadata": {},
   "outputs": [],
   "source": [
    "good_sw = seen_sw[seen_sw['coverage'] > 20].sort_values(by=['NHDPlusID', 'coverage'], ascending=[True, False]).reset_index().drop(columns='index')"
   ]
  },
  {
   "cell_type": "code",
   "execution_count": null,
   "id": "fa0b2690-6b2d-4f88-ab15-3e561eb76cac",
   "metadata": {},
   "outputs": [],
   "source": [
    "good_sw"
   ]
  },
  {
   "cell_type": "code",
   "execution_count": null,
   "id": "186213ac-1c64-4e4c-a848-b82da2daecb9",
   "metadata": {},
   "outputs": [],
   "source": [
    "# good_sw.to_csv('good_sw.csv')"
   ]
  },
  {
   "cell_type": "markdown",
   "id": "288e6deb-8b93-4859-8c47-224212297396",
   "metadata": {
    "jp-MarkdownHeadingCollapsed": true,
    "tags": []
   },
   "source": [
    "### Testing"
   ]
  },
  {
   "cell_type": "code",
   "execution_count": null,
   "id": "3432d05c-ebef-4971-bf36-1a27a5340092",
   "metadata": {},
   "outputs": [],
   "source": [
    "# test = ddf[ddf['file'].str.contains('313_233R')].compute()"
   ]
  },
  {
   "cell_type": "code",
   "execution_count": null,
   "id": "4409534d-ebbd-4bcf-8f43-c55cb1cf5ad6",
   "metadata": {},
   "outputs": [],
   "source": [
    "# test"
   ]
  },
  {
   "cell_type": "code",
   "execution_count": null,
   "id": "d402e2b0-e89e-46d0-baae-959da3c90489",
   "metadata": {},
   "outputs": [],
   "source": [
    "# len(test.NHDPlusID.unique())"
   ]
  },
  {
   "cell_type": "code",
   "execution_count": null,
   "id": "4a056f03-ad18-4026-927f-7dfa76ec90f2",
   "metadata": {},
   "outputs": [],
   "source": [
    "# summary = pd.DataFrame(test.groupby('NHDPlusID').count()['coverage']).rename(columns={'coverage': 'observations'})"
   ]
  },
  {
   "cell_type": "code",
   "execution_count": null,
   "id": "cca598d4-aa8b-4902-a5f5-b75a61d9d21e",
   "metadata": {},
   "outputs": [],
   "source": [
    "# summary['ten']  = test[test.coverage > 0.1].groupby('NHDPlusID').count()['coverage']\n",
    "# summary['twenty']  = test[test.coverage > 0.2].groupby('NHDPlusID').count()['coverage']\n",
    "# summary['thirty']  = test[test.coverage > 0.3].groupby('NHDPlusID').count()['coverage']\n",
    "# summary['forty']  = test[test.coverage > 0.4].groupby('NHDPlusID').count()['coverage']\n",
    "# summary['fifty']  = test[test.coverage > 0.5].groupby('NHDPlusID').count()['coverage']\n",
    "# summary['sixty']  = test[test.coverage > 0.6].groupby('NHDPlusID').count()['coverage']\n",
    "# summary['seventy']  = test[test.coverage > 0.7].groupby('NHDPlusID').count()['coverage']\n",
    "# summary['eighty']  = test[test.coverage > 0.8].groupby('NHDPlusID').count()['coverage']\n",
    "# summary['ninety']  = test[test.coverage > 0.9].groupby('NHDPlusID').count()['coverage']"
   ]
  },
  {
   "cell_type": "code",
   "execution_count": null,
   "id": "b1da7ec9-b1c9-454d-ab1b-204a25d8dc46",
   "metadata": {},
   "outputs": [],
   "source": [
    "# summary = pd.merge(left=summary, right=test, on='NHDPlusID', how='left')"
   ]
  },
  {
   "cell_type": "code",
   "execution_count": null,
   "id": "9eab3293-b506-451e-b559-d65d92bb7bb1",
   "metadata": {},
   "outputs": [],
   "source": [
    "# summary[summary.forty/summary.observations > 0.75]"
   ]
  },
  {
   "cell_type": "code",
   "execution_count": null,
   "id": "46faaad5-ddb1-413a-b90f-a9058b107518",
   "metadata": {},
   "outputs": [],
   "source": [
    "# ddf.groupby('NHDPlusID').count().compute()"
   ]
  },
  {
   "cell_type": "code",
   "execution_count": null,
   "id": "56d8afc9-b6e5-4321-bf9a-a0f7faf4db2f",
   "metadata": {},
   "outputs": [],
   "source": [
    "# ddf.groupby('NHDPlusID').apply(lambda group: (group['coverage'] > 0.5).count()).compute()"
   ]
  },
  {
   "cell_type": "code",
   "execution_count": null,
   "id": "55355063-e274-43b1-9703-bd374d13b1d3",
   "metadata": {},
   "outputs": [],
   "source": [
    "# test = dd.read_parquet(files[0])"
   ]
  },
  {
   "cell_type": "code",
   "execution_count": null,
   "id": "7b23a82c-8e4c-460a-b5ef-9e28e999c214",
   "metadata": {},
   "outputs": [],
   "source": [
    "# len(test_min.NHDPlusID.unique())"
   ]
  },
  {
   "cell_type": "code",
   "execution_count": null,
   "id": "c4b2361a-5457-493d-aacf-bc0e513fbfda",
   "metadata": {},
   "outputs": [],
   "source": [
    "# len(test.sort_values(by='NHDPlusID').compute().iloc[::10].NHDPlusID.unique())"
   ]
  },
  {
   "cell_type": "code",
   "execution_count": null,
   "id": "384fe8d1-9e6c-4c6d-8a46-a332359b85d9",
   "metadata": {},
   "outputs": [],
   "source": [
    "# len(test_min.NHDPlusID.unique())"
   ]
  },
  {
   "cell_type": "code",
   "execution_count": null,
   "id": "ba5787a1-3285-4d74-bd79-bc599d5c06d8",
   "metadata": {},
   "outputs": [],
   "source": [
    "# len(test_min.sort_values(by='NHDPlusID')[::10].NHDPlusID.unique())"
   ]
  },
  {
   "cell_type": "code",
   "execution_count": null,
   "id": "409c80cc-fc48-4ba7-b688-8becb824790f",
   "metadata": {},
   "outputs": [],
   "source": [
    "# ddf_ne = ddf_ne.drop(columns='NHDPlusID')"
   ]
  },
  {
   "cell_type": "code",
   "execution_count": null,
   "id": "550c0bf5-7dd3-4643-9f8a-fc58945a1d57",
   "metadata": {},
   "outputs": [],
   "source": [
    "# ddf_ne['coverage'] = ddf_ne['coverage']*100"
   ]
  },
  {
   "cell_type": "code",
   "execution_count": null,
   "id": "57a2bd2b-c396-4616-ab13-97fbfca8b1ba",
   "metadata": {},
   "outputs": [],
   "source": [
    "# fort = ddf_ne[ddf_ne['NHDPlusID'] == 10000900004534].compute()"
   ]
  },
  {
   "cell_type": "code",
   "execution_count": null,
   "id": "855594e5-4d47-40f7-8ccd-3d59ce758310",
   "metadata": {},
   "outputs": [],
   "source": [
    "# fort[fort['coverage'] > 0]"
   ]
  },
  {
   "cell_type": "markdown",
   "id": "09b9dafa-07b1-4dfd-b322-137d90bd375f",
   "metadata": {
    "tags": []
   },
   "source": [
    "## Find centroids"
   ]
  },
  {
   "cell_type": "code",
   "execution_count": null,
   "id": "6cde98f7-d4c6-4572-9806-470b798baf42",
   "metadata": {},
   "outputs": [],
   "source": [
    "mdata_path = '/nas/cee-water/cjgleason/fiona/narrow_rivers_PIXC/data/'"
   ]
  },
  {
   "cell_type": "code",
   "execution_count": null,
   "id": "ffeb584f-44e9-4ebc-9558-35e8a51647f4",
   "metadata": {
    "tags": []
   },
   "outputs": [],
   "source": [
    "# Get NHD index metadata\n",
    "# Define dtypes for lookup tables to preserve leading zeros\n",
    "dtype_dic= {'HUC4': str, 'HUC2': str, 'toBasin': str, 'level': str}\n",
    "# Read in HUC lookup table\n",
    "huc_lookup = pd.read_csv(os.path.join(mdata_path,\n",
    "                                  'HUC4_lookup_no_great_lakes.csv'),\n",
    "                     dtype=dtype_dic)"
   ]
  },
  {
   "cell_type": "code",
   "execution_count": null,
   "id": "2635121e-e69c-4ce8-84e0-2a9815dd111d",
   "metadata": {},
   "outputs": [],
   "source": [
    "# Read in HUC4 boundaries (no Great Lakes)\n",
    "data_path = '/nas/cee-water/cjgleason/fiona/narrow_rivers_PIXC_data/all_wbd_no_great_lakes.parquet'\n",
    "wbd = gpd.read_parquet(path=data_path)"
   ]
  },
  {
   "cell_type": "code",
   "execution_count": null,
   "id": "ca7069c6-e687-47d8-a8da-98be8f1672f6",
   "metadata": {},
   "outputs": [],
   "source": [
    "# Project CRS\n",
    "# wbd = wbd.to_crs(epsg=3857)"
   ]
  },
  {
   "cell_type": "code",
   "execution_count": null,
   "id": "81c58efb-502b-4603-9e67-73ba580f73ac",
   "metadata": {},
   "outputs": [],
   "source": [
    "hucs_01 = wbd[wbd['huc4'].str.startswith('01')]['huc4'].to_list()"
   ]
  },
  {
   "cell_type": "code",
   "execution_count": null,
   "id": "6a11e4ea-be20-4c77-bb09-b6a2c26abe4a",
   "metadata": {},
   "outputs": [],
   "source": [
    "hucs_15 = wbd[wbd['huc4'].str.startswith('15')]['huc4'].to_list()"
   ]
  },
  {
   "cell_type": "code",
   "execution_count": null,
   "id": "56969f9e-5208-4930-af23-7c56964237d5",
   "metadata": {},
   "outputs": [],
   "source": [
    "# Extract indices for read-in\n",
    "indices_01 = list(huc_lookup[huc_lookup['HUC4'].isin(hucs_01)]['slurm_index'])\n",
    "indices_15 = list(huc_lookup[huc_lookup['HUC4'].isin(hucs_15)]['slurm_index'])"
   ]
  },
  {
   "cell_type": "markdown",
   "id": "096fbd62-f3da-40d0-b573-56eb74a701b2",
   "metadata": {},
   "source": [
    "## NHD reaches with SWORD matches"
   ]
  },
  {
   "cell_type": "code",
   "execution_count": 31,
   "id": "b41fec2d-12d1-4a31-a5c6-e47da812d411",
   "metadata": {},
   "outputs": [],
   "source": [
    "data_path = '/nas/cee-water/cjgleason/fiona/narrow_rivers_PIXC_data/'"
   ]
  },
  {
   "cell_type": "code",
   "execution_count": 74,
   "id": "9d1af955-13f0-4217-9b46-7f8aa2a7a17c",
   "metadata": {},
   "outputs": [],
   "source": [
    "sword = gpd.read_file(os.path.join(data_path, 'fiona_reach_set_sword_v18.gpkg'))"
   ]
  },
  {
   "cell_type": "code",
   "execution_count": 55,
   "id": "4d3c0306-bcbc-44ea-bb8e-a615ad157c68",
   "metadata": {},
   "outputs": [],
   "source": [
    "# sword_ids = sword.fid.unique()"
   ]
  },
  {
   "cell_type": "code",
   "execution_count": 56,
   "id": "8977e7c9-e4b5-4d14-8d86-67c30151abb4",
   "metadata": {},
   "outputs": [],
   "source": [
    "matches = pd.read_csv(os.path.join(data_path, 'narrow_candidate_centroids_20_30_sword_v18.csv'))"
   ]
  },
  {
   "cell_type": "code",
   "execution_count": 81,
   "id": "0159f295-463c-4063-90c5-b262156cc74a",
   "metadata": {},
   "outputs": [],
   "source": [
    "bins = matches.Bin.unique()"
   ]
  },
  {
   "cell_type": "code",
   "execution_count": 68,
   "id": "77401b30-f3b9-4412-bf4c-52359473ff02",
   "metadata": {},
   "outputs": [],
   "source": [
    "ne_match_ids = list(matches[matches.huc2 == 1]['NHDPlusID'])"
   ]
  },
  {
   "cell_type": "code",
   "execution_count": 70,
   "id": "6cc04292-0bcd-41b3-8757-c792c30e11d6",
   "metadata": {},
   "outputs": [],
   "source": [
    "sw_match_ids = list(matches[matches.huc2 == 15]['NHDPlusID'])"
   ]
  },
  {
   "cell_type": "code",
   "execution_count": 5,
   "id": "a65d3ad2-77a5-458d-9269-bd7669dda039",
   "metadata": {},
   "outputs": [],
   "source": [
    "narrow = ['(0, 10]', '(10, 20]', '(20, 30]', '(30, 40]', '(40, 50]']"
   ]
  },
  {
   "cell_type": "markdown",
   "id": "62851328-fe6c-45bf-9c90-9a539552ba7b",
   "metadata": {
    "tags": []
   },
   "source": [
    "### HUC2_01, Northeast"
   ]
  },
  {
   "cell_type": "code",
   "execution_count": 6,
   "id": "a3fe8a6e-0c48-4a4c-9409-66e84422151a",
   "metadata": {},
   "outputs": [],
   "source": [
    "## Setup\n",
    "bwidth = 'mean'\n",
    "bbin = 'Bin'\n",
    "huc2 = '01'\n",
    "data_path = '../narrow_rivers_PIXC_output/PIXC_v2_0_HUC2_' + huc2 + '_2025_03_06_' + bwidth"
   ]
  },
  {
   "cell_type": "code",
   "execution_count": 7,
   "id": "4c18b1cb-026d-4776-a1a5-0ca08c9e9b25",
   "metadata": {},
   "outputs": [],
   "source": [
    "df_ne = read_output(data_path=data_path)"
   ]
  },
  {
   "cell_type": "code",
   "execution_count": 8,
   "id": "ec0073a3-786e-489f-8fa5-cb6d822bbcf4",
   "metadata": {},
   "outputs": [],
   "source": [
    "df_ne['coverage'] = df_ne['coverage']*100"
   ]
  },
  {
   "cell_type": "code",
   "execution_count": 9,
   "id": "43914ba1-fc93-46ab-a51c-bd247b2b01e0",
   "metadata": {},
   "outputs": [],
   "source": [
    "df_ne['granule'] = df_ne['file'].str.slice(63, -20)"
   ]
  },
  {
   "cell_type": "markdown",
   "id": "01337f21-cb92-4c04-8a0a-47835674ddbc",
   "metadata": {},
   "source": [
    "### HUC2_15, Southwest"
   ]
  },
  {
   "cell_type": "code",
   "execution_count": 19,
   "id": "218c9c15-5817-40f3-919a-d005d401bfc9",
   "metadata": {},
   "outputs": [],
   "source": [
    "## Setup\n",
    "bwidth = 'mean'\n",
    "bbin = 'Bin'\n",
    "huc2 = '15'\n",
    "data_path = '../narrow_rivers_PIXC_output/PIXC_v2_0_HUC2_' + huc2 + '_2025_03_06_' + bwidth"
   ]
  },
  {
   "cell_type": "code",
   "execution_count": 20,
   "id": "afc43457-d89a-4d11-9fae-a7f36aa8ce61",
   "metadata": {},
   "outputs": [],
   "source": [
    "df_sw = read_output(data_path=data_path)"
   ]
  },
  {
   "cell_type": "code",
   "execution_count": 21,
   "id": "9bdb4c27-7c98-4162-a173-867256650220",
   "metadata": {},
   "outputs": [],
   "source": [
    "df_sw['granule'] = df_sw['file'].str.slice(63, -20)"
   ]
  },
  {
   "cell_type": "code",
   "execution_count": 22,
   "id": "da62e40c-d0c7-42b6-9fdd-ffa3248d5b3a",
   "metadata": {},
   "outputs": [],
   "source": [
    "df_sw['coverage'] = df_sw['coverage']*100"
   ]
  },
  {
   "cell_type": "markdown",
   "id": "27bfdeaf-d30c-44d9-9efa-41cede1a9605",
   "metadata": {},
   "source": [
    "### Find granules"
   ]
  },
  {
   "cell_type": "code",
   "execution_count": 104,
   "id": "ecaec4d3-45ed-4b13-8c7f-7e25b4b3bcee",
   "metadata": {},
   "outputs": [],
   "source": [
    "ne_granules = df_ne[(df_ne.NHDPlusID.isin(ne_match_ids)) & (df_ne.coverage > 30)].reset_index().drop(columns='index')"
   ]
  },
  {
   "cell_type": "code",
   "execution_count": 105,
   "id": "02cccd19-8620-4c8a-93bd-829e2f041634",
   "metadata": {},
   "outputs": [],
   "source": [
    "sw_granules = df_sw[(df_sw.NHDPlusID.isin(sw_match_ids)) & (df_sw.coverage > 30)].reset_index().drop(columns='index')"
   ]
  },
  {
   "cell_type": "code",
   "execution_count": 106,
   "id": "e953824a-89d0-4ae4-b643-8f76bb20640a",
   "metadata": {},
   "outputs": [],
   "source": [
    "df = pd.concat((ne_granules, sw_granules))"
   ]
  },
  {
   "cell_type": "code",
   "execution_count": 109,
   "id": "55dc9834-df5d-461b-b046-63b56064a8f0",
   "metadata": {},
   "outputs": [],
   "source": [
    "df = df.sort_values(by=['NHDPlusID', 'coverage'], ascending=[True, False]).reset_index().drop(columns=['index', 'file'])"
   ]
  },
  {
   "cell_type": "code",
   "execution_count": 113,
   "id": "464e81fb-1ecc-4867-a97a-f41a7e4264ba",
   "metadata": {},
   "outputs": [],
   "source": [
    "df = df.rename(columns={'coverage': 'min_coverage'})"
   ]
  },
  {
   "cell_type": "code",
   "execution_count": 118,
   "id": "f6ddbe51-e54c-4c55-b26b-0567ca3633f1",
   "metadata": {
    "tags": []
   },
   "outputs": [],
   "source": [
    "df.to_csv('granules_for_reaches_with_v18_matches.csv', index=False)"
   ]
  },
  {
   "cell_type": "code",
   "execution_count": 117,
   "id": "c7abbcaf-4541-4447-80cc-080581548599",
   "metadata": {},
   "outputs": [
    {
     "name": "stdout",
     "output_type": "stream",
     "text": [
      "/nas/cee-water/cjgleason/fiona/narrow_rivers_PIXC_output/SWORDv18_matches\n"
     ]
    }
   ],
   "source": [
    "cd ../narrow_rivers_PIXC_output/SWORDv18_matches/"
   ]
  },
  {
   "cell_type": "markdown",
   "id": "03f5519c-82d6-4342-b356-515a4bf4a78c",
   "metadata": {},
   "source": [
    "## Analysis"
   ]
  },
  {
   "cell_type": "code",
   "execution_count": null,
   "id": "a5c2a504-d7fc-4e69-b35a-16789c04f1de",
   "metadata": {
    "tags": []
   },
   "outputs": [],
   "source": [
    "# Create merged dataframe of all flowlines intersected\n",
    "# Initialize lists\n",
    "d = []\n",
    "\n",
    "# Loop through indices and store in lists\n",
    "for i in indices_01:\n",
    "    # Read prepped NHD\n",
    "    flowlines, huc4, huc2 = readNHD(index=i)\n",
    "    flowlines['huc4'] = huc4[10:14]\n",
    "    flowlines['huc2'] = huc2[-2:]\n",
    "    # Append to lists\n",
    "    d.append(flowlines)\n",
    "# Merge GeoDataFrames\n",
    "flowlines_01 = pd.concat(d)"
   ]
  },
  {
   "cell_type": "code",
   "execution_count": null,
   "id": "bd081fb3-4bdc-4ff7-9276-7ff497f2f240",
   "metadata": {},
   "outputs": [],
   "source": [
    "# Create merged dataframe of all flowlines intersected\n",
    "# Initialize lists\n",
    "d = []\n",
    "\n",
    "# Loop through indices and store in lists\n",
    "for i in indices_15:\n",
    "    # Read prepped NHD\n",
    "    flowlines, huc4, huc2 = readNHD(index=i)\n",
    "    flowlines['huc4'] = huc4[10:14]\n",
    "    flowlines['huc2'] = huc2[-2:]\n",
    "    # Append to lists\n",
    "    d.append(flowlines)\n",
    "# Merge GeoDataFrames\n",
    "flowlines_15 = pd.concat(d)"
   ]
  },
  {
   "cell_type": "code",
   "execution_count": null,
   "id": "98f136df-5fc5-4c2a-bb53-b042da7813e7",
   "metadata": {},
   "outputs": [],
   "source": [
    "temp_01 = flowlines_01[['NHDPlusID', 'GNIS_Name', 'Bin', 'huc2', 'huc4', 'geometry']]\n",
    "temp_15 = flowlines_15[['NHDPlusID', 'GNIS_Name', 'Bin', 'huc2', 'huc4', 'geometry']]"
   ]
  },
  {
   "cell_type": "code",
   "execution_count": null,
   "id": "1c786754-2523-4c62-b81b-a88a3ebe082e",
   "metadata": {},
   "outputs": [],
   "source": [
    "both = pd.concat(objs=[temp_01, temp_15]).reset_index().drop(columns='index')"
   ]
  },
  {
   "cell_type": "code",
   "execution_count": null,
   "id": "5ef586a1-dcec-48a4-afbf-968822427fb1",
   "metadata": {},
   "outputs": [],
   "source": [
    "both['Bin'] = pd.Categorical(both['Bin'], order)"
   ]
  },
  {
   "cell_type": "code",
   "execution_count": null,
   "id": "09cf55ed-fc6c-4813-9f7a-71106d124382",
   "metadata": {},
   "outputs": [],
   "source": [
    "all_ids = ne_ids + sw_ids"
   ]
  },
  {
   "cell_type": "code",
   "execution_count": null,
   "id": "fd6abda4-9955-4f66-9a88-aeb5dce2b205",
   "metadata": {},
   "outputs": [],
   "source": [
    "for_geom = both[both['NHDPlusID'].isin(all_ids)].reset_index().drop(columns='index')"
   ]
  },
  {
   "cell_type": "code",
   "execution_count": null,
   "id": "4263ed91-b8e4-4998-a2e6-48802c9614a8",
   "metadata": {},
   "outputs": [],
   "source": [
    "for_geom = for_geom.to_crs(epsg=4326)"
   ]
  },
  {
   "cell_type": "code",
   "execution_count": null,
   "id": "2e4c6dd8-53dd-4e18-88be-7757def4cbad",
   "metadata": {},
   "outputs": [],
   "source": [
    "for_geom['centroid'] = for_geom['geometry'].centroid"
   ]
  },
  {
   "cell_type": "code",
   "execution_count": null,
   "id": "0497111b-a778-42f3-931f-49939b9d45f7",
   "metadata": {},
   "outputs": [],
   "source": [
    "for_geom[for_geom['huc2'] == '15'].plot()\n",
    "# plt.xlim(-110.8,-110.4)\n",
    "# plt.ylim(33.6,34)"
   ]
  },
  {
   "cell_type": "code",
   "execution_count": null,
   "id": "00f3087f-bf48-4610-b89e-4d9571640cfb",
   "metadata": {},
   "outputs": [],
   "source": [
    "for_geom.to_parquet('narrow_candidate_lines_and_centroids_20_50.parquet')"
   ]
  },
  {
   "cell_type": "code",
   "execution_count": null,
   "id": "12bbb13d-4d57-4794-8ca9-8744c7d18746",
   "metadata": {},
   "outputs": [],
   "source": [
    "center = for_geom.copy()"
   ]
  },
  {
   "cell_type": "code",
   "execution_count": null,
   "id": "47f84d74-d316-4063-b11d-db1463322531",
   "metadata": {
    "tags": []
   },
   "outputs": [],
   "source": [
    "center = center.set_geometry('centroid').drop(columns='geometry')"
   ]
  },
  {
   "cell_type": "code",
   "execution_count": null,
   "id": "85c3c50c-0349-4284-9435-2c8e7a72e5e2",
   "metadata": {},
   "outputs": [],
   "source": [
    "center.to_file('narrow_candidate_centroids_20_30.gpkg')"
   ]
  },
  {
   "cell_type": "code",
   "execution_count": null,
   "id": "76913acf-a58b-4459-9575-cd9628ed127a",
   "metadata": {},
   "outputs": [],
   "source": [
    "center"
   ]
  },
  {
   "cell_type": "code",
   "execution_count": null,
   "id": "60f518b6-c20b-4e88-86b8-b0e6ed551829",
   "metadata": {},
   "outputs": [],
   "source": [
    "fig, ax = plt.subplots()\n",
    "\n",
    "for_geom.iloc[[0]].plot(ax=ax)\n",
    "for_geom['centroid'].iloc[[0]].plot(ax=ax)"
   ]
  }
 ],
 "metadata": {
  "kernelspec": {
   "display_name": "Python [conda env:.conda-narrowPIXC]",
   "language": "python",
   "name": "conda-env-.conda-narrowPIXC-py"
  },
  "language_info": {
   "codemirror_mode": {
    "name": "ipython",
    "version": 3
   },
   "file_extension": ".py",
   "mimetype": "text/x-python",
   "name": "python",
   "nbconvert_exporter": "python",
   "pygments_lexer": "ipython3",
   "version": "3.12.4"
  }
 },
 "nbformat": 4,
 "nbformat_minor": 5
}
