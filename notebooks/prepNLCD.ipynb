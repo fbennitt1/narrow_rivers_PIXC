{
 "cells": [
  {
   "cell_type": "code",
   "execution_count": 8,
   "id": "6d17eb28-25fd-45d8-9092-29e41c0e0d70",
   "metadata": {},
   "outputs": [],
   "source": [
    "import geopandas as gpd\n",
    "import rasterio\n",
    "from rasterio.mask import mask"
   ]
  },
  {
   "cell_type": "markdown",
   "id": "4da18a60-1c64-4276-afcf-5df7713aacbb",
   "metadata": {},
   "source": [
    "### Land Cover"
   ]
  },
  {
   "cell_type": "code",
   "execution_count": 6,
   "id": "5b640adf-52a2-43ca-9879-3784d922202b",
   "metadata": {},
   "outputs": [],
   "source": [
    "tif_path = '/nas/cee-water/cjgleason/data/NLCD/Annual_NLCD_LndCov_2023_CU_C1V0.tif'\n",
    "poly_path = '/nas/cee-water/cjgleason/fiona/narrow_rivers_PIXC_data/all_wbd_no_great_lakes.parquet/'"
   ]
  },
  {
   "cell_type": "code",
   "execution_count": 7,
   "id": "832cdd14-ef31-44c8-bfb1-8d6be7d7cc1f",
   "metadata": {
    "tags": []
   },
   "outputs": [],
   "source": [
    "# Read the raster data\n",
    "with rasterio.open(tif_path) as src:\n",
    "    raster_img = src.read(1)\n",
    "    raster_profile = src.profile"
   ]
  },
  {
   "cell_type": "code",
   "execution_count": 9,
   "id": "3889994f-5bef-46f4-9b19-dc0ad330e6ad",
   "metadata": {},
   "outputs": [],
   "source": [
    "wbd = gpd.read_parquet(poly_path)"
   ]
  },
  {
   "cell_type": "code",
   "execution_count": 32,
   "id": "3c109c7e-3b85-4a13-8615-5091f4b368e4",
   "metadata": {},
   "outputs": [],
   "source": [
    "temp = wbd.iloc[[0]]"
   ]
  },
  {
   "cell_type": "code",
   "execution_count": 34,
   "id": "4059b4da-caef-4169-bd85-8ca78da9c104",
   "metadata": {},
   "outputs": [],
   "source": [
    "if temp.crs != raster_profile['crs']:\n",
    "    temp = temp.to_crs(raster_profile['crs'])"
   ]
  },
  {
   "cell_type": "code",
   "execution_count": 35,
   "id": "003d56c7-d96c-4e87-a626-54833c9d42f9",
   "metadata": {},
   "outputs": [],
   "source": [
    "geoms = [shapes for shapes in temp.geometry]"
   ]
  },
  {
   "cell_type": "code",
   "execution_count": 36,
   "id": "b933cf4a-48fd-4391-b3c8-f57d52ec675b",
   "metadata": {},
   "outputs": [
    {
     "data": {
      "text/plain": [
       "'/nas/cee-water/cjgleason/fiona/narrow_rivers_PIXC'"
      ]
     },
     "execution_count": 36,
     "metadata": {},
     "output_type": "execute_result"
    }
   ],
   "source": [
    "pwd"
   ]
  },
  {
   "cell_type": "code",
   "execution_count": 38,
   "id": "a9052bbf-9de2-40f0-bd8c-880beb19bba1",
   "metadata": {},
   "outputs": [
    {
     "ename": "AttributeError",
     "evalue": "'numpy.ndarray' object has no attribute 'nodata'",
     "output_type": "error",
     "traceback": [
      "\u001b[0;31m---------------------------------------------------------------------------\u001b[0m",
      "\u001b[0;31mAttributeError\u001b[0m                            Traceback (most recent call last)",
      "Cell \u001b[0;32mIn[38], line 2\u001b[0m\n\u001b[1;32m      1\u001b[0m \u001b[38;5;28;01mwith\u001b[39;00m rasterio\u001b[38;5;241m.\u001b[39mopen(\u001b[38;5;124m'\u001b[39m\u001b[38;5;124m../narrow_rivers_PIXC_data/clipped_raster.tif\u001b[39m\u001b[38;5;124m'\u001b[39m, \u001b[38;5;124m'\u001b[39m\u001b[38;5;124mw\u001b[39m\u001b[38;5;124m'\u001b[39m, \u001b[38;5;241m*\u001b[39m\u001b[38;5;241m*\u001b[39mraster_profile) \u001b[38;5;28;01mas\u001b[39;00m dest:\n\u001b[0;32m----> 2\u001b[0m         out_image, out_transform \u001b[38;5;241m=\u001b[39m \u001b[43mmask\u001b[49m\u001b[43m(\u001b[49m\u001b[43mdataset\u001b[49m\u001b[38;5;241;43m=\u001b[39;49m\u001b[43mraster_img\u001b[49m\u001b[43m,\u001b[49m\u001b[43m \u001b[49m\u001b[43mshapes\u001b[49m\u001b[38;5;241;43m=\u001b[39;49m\u001b[43mgeoms\u001b[49m\u001b[43m,\u001b[49m\u001b[43m \u001b[49m\u001b[43mcrop\u001b[49m\u001b[38;5;241;43m=\u001b[39;49m\u001b[38;5;28;43;01mTrue\u001b[39;49;00m\u001b[43m)\u001b[49m\n\u001b[1;32m      3\u001b[0m         dest\u001b[38;5;241m.\u001b[39mwrite(out_image, \u001b[38;5;241m1\u001b[39m)\n",
      "File \u001b[0;32m/work/pi_cjgleason_umass_edu/.conda/envs/narrowPIXC/lib/python3.12/site-packages/rasterio/mask.py:173\u001b[0m, in \u001b[0;36mmask\u001b[0;34m(dataset, shapes, all_touched, invert, nodata, filled, crop, pad, pad_width, indexes)\u001b[0m\n\u001b[1;32m    112\u001b[0m \u001b[38;5;250m\u001b[39m\u001b[38;5;124;03m\"\"\"Creates a masked or filled array using input shapes.\u001b[39;00m\n\u001b[1;32m    113\u001b[0m \u001b[38;5;124;03mPixels are masked or set to nodata outside the input shapes, unless\u001b[39;00m\n\u001b[1;32m    114\u001b[0m \u001b[38;5;124;03m`invert` is `True`.\u001b[39;00m\n\u001b[0;32m   (...)\u001b[0m\n\u001b[1;32m    169\u001b[0m \u001b[38;5;124;03m            coordinate system.\u001b[39;00m\n\u001b[1;32m    170\u001b[0m \u001b[38;5;124;03m\"\"\"\u001b[39;00m\n\u001b[1;32m    172\u001b[0m \u001b[38;5;28;01mif\u001b[39;00m nodata \u001b[38;5;129;01mis\u001b[39;00m \u001b[38;5;28;01mNone\u001b[39;00m:\n\u001b[0;32m--> 173\u001b[0m     \u001b[38;5;28;01mif\u001b[39;00m \u001b[43mdataset\u001b[49m\u001b[38;5;241;43m.\u001b[39;49m\u001b[43mnodata\u001b[49m \u001b[38;5;129;01mis\u001b[39;00m \u001b[38;5;129;01mnot\u001b[39;00m \u001b[38;5;28;01mNone\u001b[39;00m:\n\u001b[1;32m    174\u001b[0m         nodata \u001b[38;5;241m=\u001b[39m dataset\u001b[38;5;241m.\u001b[39mnodata\n\u001b[1;32m    175\u001b[0m     \u001b[38;5;28;01melse\u001b[39;00m:\n",
      "\u001b[0;31mAttributeError\u001b[0m: 'numpy.ndarray' object has no attribute 'nodata'"
     ]
    }
   ],
   "source": [
    "with rasterio.open('../narrow_rivers_PIXC_data/clipped_raster.tif', 'w', **raster_profile) as dest:\n",
    "        out_image, out_transform = mask(dataset=raster_img, shapes=geoms, crop=True)\n",
    "        dest.write(out_image, 1)"
   ]
  }
 ],
 "metadata": {
  "kernelspec": {
   "display_name": "Python [conda env:.conda-narrowPIXC]",
   "language": "python",
   "name": "conda-env-.conda-narrowPIXC-py"
  },
  "language_info": {
   "codemirror_mode": {
    "name": "ipython",
    "version": 3
   },
   "file_extension": ".py",
   "mimetype": "text/x-python",
   "name": "python",
   "nbconvert_exporter": "python",
   "pygments_lexer": "ipython3",
   "version": "3.12.4"
  }
 },
 "nbformat": 4,
 "nbformat_minor": 5
}
