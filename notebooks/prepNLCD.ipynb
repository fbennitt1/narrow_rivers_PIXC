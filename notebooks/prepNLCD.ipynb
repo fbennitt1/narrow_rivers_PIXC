{
 "cells": [
  {
   "cell_type": "code",
   "execution_count": 22,
   "id": "83185ec8-ab23-46d9-911a-1b914ab28327",
   "metadata": {},
   "outputs": [],
   "source": [
    "import os\n",
    "\n",
    "import geopandas as gpd\n",
    "import matplotlib.pyplot as plt\n",
    "import numpy as np\n",
    "import pandas as pd\n",
    "import rasterio\n",
    "import rioxarray as rxr\n",
    "import xarray as xr\n",
    "\n",
    "from exactextract import exact_extract\n",
    "from rasterio.crs import CRS\n",
    "from rasterio.mask import mask\n",
    "from shapely.geometry import box"
   ]
  },
  {
   "cell_type": "markdown",
   "id": "693b4dcf-6cbd-415e-ae76-7d36be80cf8a",
   "metadata": {
    "jp-MarkdownHeadingCollapsed": true,
    "tags": []
   },
   "source": [
    "### To save one file with correct CRS"
   ]
  },
  {
   "cell_type": "code",
   "execution_count": 4,
   "id": "d0e6f5a7-6404-4bff-b2ba-400eb7ef8032",
   "metadata": {},
   "outputs": [],
   "source": [
    "nhd_path = '/nas/cee-water/cjgleason/fiona/narrow_rivers_PIXC_data/NHD_prepped_buffered_json/HUC2_01/NHDPLUS_H_0101_HU4_GDB_prepped_buffered_max.json'"
   ]
  },
  {
   "cell_type": "code",
   "execution_count": 5,
   "id": "b113b7c1-5e45-4257-a3b1-d26c4981b64c",
   "metadata": {},
   "outputs": [],
   "source": [
    "nhd = gpd.read_file(nhd_path)"
   ]
  },
  {
   "cell_type": "code",
   "execution_count": 6,
   "id": "3100a918-beb7-4fff-8b65-cdaa3ffa0903",
   "metadata": {},
   "outputs": [],
   "source": [
    "nhd = nhd.to_crs('4236')"
   ]
  },
  {
   "cell_type": "code",
   "execution_count": 7,
   "id": "2e12680d-bd30-4c37-a5f9-264789718c30",
   "metadata": {},
   "outputs": [],
   "source": [
    "nhd = nhd[['NHDPlusID', 'geometry']]"
   ]
  },
  {
   "cell_type": "code",
   "execution_count": null,
   "id": "90e38bd9-1956-4fc6-8c04-cb02ccaa2ebc",
   "metadata": {},
   "outputs": [],
   "source": [
    "save_path = '/nas/cee-water/cjgleason/fiona/narrow_rivers_PIXC_data/'\n",
    "save_file = 'NHDPLUS_H_0101_HU4_GDB_prepped_buffered_max_TEST.json'\n",
    "\n",
    "nhd.to_file(filename=os.path.join(save_path, save_file), driver='GeoJSON')"
   ]
  },
  {
   "cell_type": "markdown",
   "id": "61334ffb-5233-4a54-9864-c5c109e9a2ee",
   "metadata": {},
   "source": [
    "### Project NLCD"
   ]
  },
  {
   "cell_type": "code",
   "execution_count": 28,
   "id": "3c025635-f025-43f4-929d-8dc013a359d9",
   "metadata": {},
   "outputs": [],
   "source": [
    "nhd = gpd.read_file(filename='/nas/cee-water/cjgleason/fiona/narrow_rivers_PIXC_data/NHDPLUS_H_0101_HU4_GDB_prepped_buffered_max_TEST.json',\n",
    "                    columns=['NHDPlusID', 'geometry'])"
   ]
  },
  {
   "cell_type": "code",
   "execution_count": 18,
   "id": "cba1d167-8351-4f11-b5f2-61183d720c6d",
   "metadata": {},
   "outputs": [],
   "source": [
    "# bounds = nhd.total_bounds\n",
    "# bbox = box(bounds[0], bounds[1], bounds[2], bounds[3])\n",
    "# geo = gpd.GeoDataFrame({'geometry': [bbox]}, crs=\"EPSG:4326\") # WGS 84"
   ]
  },
  {
   "cell_type": "code",
   "execution_count": 29,
   "id": "339f9fee-796a-4058-a25d-896c28afc350",
   "metadata": {},
   "outputs": [],
   "source": [
    "nlcd_path = '/nas/cee-water/cjgleason/data/NLCD/Annual_NLCD_LndCov_2023_CU_C1V0.tif'"
   ]
  },
  {
   "cell_type": "code",
   "execution_count": 23,
   "id": "58a78b4b-090c-426b-99a7-876deec3a05b",
   "metadata": {},
   "outputs": [],
   "source": [
    "with rasterio.open(nlcd_path) as raster:\n",
    "    nhd = nhd.to_crs(raster.crs)"
   ]
  },
  {
   "cell_type": "code",
   "execution_count": 26,
   "id": "3549955c-ac37-4eba-8117-a8a1e8e81fb1",
   "metadata": {},
   "outputs": [
    {
     "data": {
      "text/plain": [
       "<closed DatasetReader name='/nas/cee-water/cjgleason/data/NLCD/Annual_NLCD_LndCov_2023_CU_C1V0.tif' mode='r'>"
      ]
     },
     "execution_count": 26,
     "metadata": {},
     "output_type": "execute_result"
    }
   ],
   "source": [
    "raster"
   ]
  },
  {
   "cell_type": "code",
   "execution_count": 30,
   "id": "34d5266e-6635-4684-94a5-0d0a61a588ff",
   "metadata": {},
   "outputs": [],
   "source": [
    "nlcd = rxr.open_rasterio(nlcd_path, masked=True)"
   ]
  },
  {
   "cell_type": "code",
   "execution_count": 35,
   "id": "7217eec6-49a6-4c31-aaab-0d711511285e",
   "metadata": {},
   "outputs": [],
   "source": [
    "nlcd_crs = nlcd.rio.crs"
   ]
  },
  {
   "cell_type": "code",
   "execution_count": 38,
   "id": "a7f13bc6-32e9-451c-9832-2c6acebdf53f",
   "metadata": {},
   "outputs": [],
   "source": [
    "nhd = nhd.to_crs(nlcd_crs)"
   ]
  },
  {
   "cell_type": "code",
   "execution_count": 18,
   "id": "4c77ab40-d75f-4691-a2af-12e33df78893",
   "metadata": {},
   "outputs": [],
   "source": [
    "# target_crs = CRS.from_string('EPSG:4326')"
   ]
  },
  {
   "cell_type": "code",
   "execution_count": null,
   "id": "0db67d8b-c573-41f1-9150-4f31cb27a0b9",
   "metadata": {},
   "outputs": [],
   "source": [
    "# nlcd_reproj = nlcd.rio.reproject(target_crs)"
   ]
  },
  {
   "cell_type": "markdown",
   "id": "896a8ab4-b718-43dd-b5e3-7c46f1808246",
   "metadata": {},
   "source": [
    "### Testing exactextract"
   ]
  },
  {
   "cell_type": "code",
   "execution_count": 13,
   "id": "e4635942-060b-4431-94e6-21804c74e1fc",
   "metadata": {},
   "outputs": [],
   "source": [
    "# rast = '/nas/cee-water/cjgleason/data/NLCD/Annual_NLCD_LndCov_2023_CU_C1V0.tif'\n",
    "# polys = '/nas/cee-water/cjgleason/fiona/narrow_rivers_PIXC_data/NHDPLUS_H_0101_HU4_GDB_prepped_buffered_max_TEST.json'"
   ]
  },
  {
   "cell_type": "code",
   "execution_count": 45,
   "id": "c08527f5-e9f0-4134-ab93-825031bdbe95",
   "metadata": {},
   "outputs": [],
   "source": [
    "test = exact_extract(rast=nlcd, vec=nhd, ops=['variety', 'mode', 'minority'], include_cols=[\"NHDPlusID\"], output='pandas')"
   ]
  },
  {
   "cell_type": "code",
   "execution_count": 46,
   "id": "011b0dba-7bb9-4e66-83fc-fd2f746dfc72",
   "metadata": {},
   "outputs": [
    {
     "data": {
      "text/html": [
       "<div>\n",
       "<style scoped>\n",
       "    .dataframe tbody tr th:only-of-type {\n",
       "        vertical-align: middle;\n",
       "    }\n",
       "\n",
       "    .dataframe tbody tr th {\n",
       "        vertical-align: top;\n",
       "    }\n",
       "\n",
       "    .dataframe thead th {\n",
       "        text-align: right;\n",
       "    }\n",
       "</style>\n",
       "<table border=\"1\" class=\"dataframe\">\n",
       "  <thead>\n",
       "    <tr style=\"text-align: right;\">\n",
       "      <th></th>\n",
       "      <th>NHDPlusID</th>\n",
       "      <th>variety</th>\n",
       "      <th>mode</th>\n",
       "      <th>minority</th>\n",
       "    </tr>\n",
       "  </thead>\n",
       "  <tbody>\n",
       "    <tr>\n",
       "      <th>0</th>\n",
       "      <td>5.000100e+12</td>\n",
       "      <td>4</td>\n",
       "      <td>90.0</td>\n",
       "      <td>22.0</td>\n",
       "    </tr>\n",
       "    <tr>\n",
       "      <th>1</th>\n",
       "      <td>5.000100e+12</td>\n",
       "      <td>4</td>\n",
       "      <td>81.0</td>\n",
       "      <td>21.0</td>\n",
       "    </tr>\n",
       "    <tr>\n",
       "      <th>2</th>\n",
       "      <td>5.000100e+12</td>\n",
       "      <td>5</td>\n",
       "      <td>90.0</td>\n",
       "      <td>81.0</td>\n",
       "    </tr>\n",
       "    <tr>\n",
       "      <th>3</th>\n",
       "      <td>5.000100e+12</td>\n",
       "      <td>9</td>\n",
       "      <td>11.0</td>\n",
       "      <td>82.0</td>\n",
       "    </tr>\n",
       "    <tr>\n",
       "      <th>4</th>\n",
       "      <td>5.000100e+12</td>\n",
       "      <td>4</td>\n",
       "      <td>11.0</td>\n",
       "      <td>71.0</td>\n",
       "    </tr>\n",
       "    <tr>\n",
       "      <th>...</th>\n",
       "      <td>...</td>\n",
       "      <td>...</td>\n",
       "      <td>...</td>\n",
       "      <td>...</td>\n",
       "    </tr>\n",
       "    <tr>\n",
       "      <th>14481</th>\n",
       "      <td>5.000100e+12</td>\n",
       "      <td>1</td>\n",
       "      <td>90.0</td>\n",
       "      <td>90.0</td>\n",
       "    </tr>\n",
       "    <tr>\n",
       "      <th>14482</th>\n",
       "      <td>5.000100e+12</td>\n",
       "      <td>3</td>\n",
       "      <td>90.0</td>\n",
       "      <td>43.0</td>\n",
       "    </tr>\n",
       "    <tr>\n",
       "      <th>14483</th>\n",
       "      <td>5.000100e+12</td>\n",
       "      <td>7</td>\n",
       "      <td>90.0</td>\n",
       "      <td>95.0</td>\n",
       "    </tr>\n",
       "    <tr>\n",
       "      <th>14484</th>\n",
       "      <td>5.000100e+12</td>\n",
       "      <td>3</td>\n",
       "      <td>42.0</td>\n",
       "      <td>43.0</td>\n",
       "    </tr>\n",
       "    <tr>\n",
       "      <th>14485</th>\n",
       "      <td>5.000100e+12</td>\n",
       "      <td>4</td>\n",
       "      <td>43.0</td>\n",
       "      <td>52.0</td>\n",
       "    </tr>\n",
       "  </tbody>\n",
       "</table>\n",
       "<p>14486 rows × 4 columns</p>\n",
       "</div>"
      ],
      "text/plain": [
       "          NHDPlusID  variety  mode  minority\n",
       "0      5.000100e+12        4  90.0      22.0\n",
       "1      5.000100e+12        4  81.0      21.0\n",
       "2      5.000100e+12        5  90.0      81.0\n",
       "3      5.000100e+12        9  11.0      82.0\n",
       "4      5.000100e+12        4  11.0      71.0\n",
       "...             ...      ...   ...       ...\n",
       "14481  5.000100e+12        1  90.0      90.0\n",
       "14482  5.000100e+12        3  90.0      43.0\n",
       "14483  5.000100e+12        7  90.0      95.0\n",
       "14484  5.000100e+12        3  42.0      43.0\n",
       "14485  5.000100e+12        4  43.0      52.0\n",
       "\n",
       "[14486 rows x 4 columns]"
      ]
     },
     "execution_count": 46,
     "metadata": {},
     "output_type": "execute_result"
    }
   ],
   "source": [
    "test"
   ]
  },
  {
   "cell_type": "markdown",
   "id": "4da18a60-1c64-4276-afcf-5df7713aacbb",
   "metadata": {},
   "source": [
    "### Land Cover"
   ]
  },
  {
   "cell_type": "code",
   "execution_count": null,
   "id": "5b640adf-52a2-43ca-9879-3784d922202b",
   "metadata": {},
   "outputs": [],
   "source": [
    "tif_path = '/nas/cee-water/cjgleason/data/NLCD/Annual_NLCD_LndCov_2023_CU_C1V0.tif'\n",
    "poly_path = '/nas/cee-water/cjgleason/fiona/narrow_rivers_PIXC_data/all_wbd_no_great_lakes.parquet/'"
   ]
  },
  {
   "cell_type": "code",
   "execution_count": null,
   "id": "832cdd14-ef31-44c8-bfb1-8d6be7d7cc1f",
   "metadata": {
    "tags": []
   },
   "outputs": [],
   "source": [
    "# Read the raster data\n",
    "with rasterio.open(tif_path) as src:\n",
    "    print(src.crs)\n",
    "    raster_img = src.read(1)\n",
    "    raster_profile = src.profile"
   ]
  },
  {
   "cell_type": "code",
   "execution_count": null,
   "id": "52db5b41-ae7d-4b8a-80a4-219b9b6aeba7",
   "metadata": {},
   "outputs": [],
   "source": [
    "raster_profile"
   ]
  },
  {
   "cell_type": "code",
   "execution_count": null,
   "id": "71c17b27-9f7b-40e5-a925-d50655b6f260",
   "metadata": {},
   "outputs": [],
   "source": [
    "test = raster_img[10000:11000, 10000:11000]"
   ]
  },
  {
   "cell_type": "code",
   "execution_count": null,
   "id": "8b25baa2-26a9-44e0-8419-c84df9edae5f",
   "metadata": {},
   "outputs": [],
   "source": [
    "test"
   ]
  },
  {
   "cell_type": "code",
   "execution_count": null,
   "id": "f2591612-6080-4063-b5d8-ad6ff0a90663",
   "metadata": {},
   "outputs": [],
   "source": [
    "np.unique(test)"
   ]
  },
  {
   "cell_type": "code",
   "execution_count": null,
   "id": "383d6465-3f4c-48ef-962b-18aa45040a46",
   "metadata": {},
   "outputs": [],
   "source": [
    "plt.imshow(test, cmap='tab20')\n",
    "plt.colorbar()"
   ]
  },
  {
   "cell_type": "code",
   "execution_count": null,
   "id": "3889994f-5bef-46f4-9b19-dc0ad330e6ad",
   "metadata": {},
   "outputs": [],
   "source": [
    "wbd = gpd.read_parquet(poly_path)"
   ]
  },
  {
   "cell_type": "code",
   "execution_count": null,
   "id": "3c109c7e-3b85-4a13-8615-5091f4b368e4",
   "metadata": {},
   "outputs": [],
   "source": [
    "temp = wbd.iloc[[0]]"
   ]
  },
  {
   "cell_type": "code",
   "execution_count": null,
   "id": "4059b4da-caef-4169-bd85-8ca78da9c104",
   "metadata": {},
   "outputs": [],
   "source": [
    "if temp.crs != raster_profile['crs']:\n",
    "    temp = temp.to_crs(raster_profile['crs'])"
   ]
  },
  {
   "cell_type": "code",
   "execution_count": null,
   "id": "003d56c7-d96c-4e87-a626-54833c9d42f9",
   "metadata": {},
   "outputs": [],
   "source": [
    "geoms = [shapes for shapes in temp.geometry]"
   ]
  },
  {
   "cell_type": "code",
   "execution_count": null,
   "id": "b933cf4a-48fd-4391-b3c8-f57d52ec675b",
   "metadata": {},
   "outputs": [],
   "source": [
    "pwd"
   ]
  },
  {
   "cell_type": "code",
   "execution_count": null,
   "id": "a9052bbf-9de2-40f0-bd8c-880beb19bba1",
   "metadata": {},
   "outputs": [],
   "source": [
    "with rasterio.open('../narrow_rivers_PIXC_data/clipped_raster.tif', 'w', **raster_profile) as dest:\n",
    "        out_image, out_transform = mask(dataset=raster_img, shapes=geoms, crop=True)\n",
    "        dest.write(out_image, 1)"
   ]
  }
 ],
 "metadata": {
  "kernelspec": {
   "display_name": "Python [conda env:.conda-narrowPIXC]",
   "language": "python",
   "name": "conda-env-.conda-narrowPIXC-py"
  },
  "language_info": {
   "codemirror_mode": {
    "name": "ipython",
    "version": 3
   },
   "file_extension": ".py",
   "mimetype": "text/x-python",
   "name": "python",
   "nbconvert_exporter": "python",
   "pygments_lexer": "ipython3",
   "version": "3.12.4"
  }
 },
 "nbformat": 4,
 "nbformat_minor": 5
}
