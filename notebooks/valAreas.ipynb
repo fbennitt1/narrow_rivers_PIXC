{
 "cells": [
  {
   "cell_type": "code",
   "execution_count": 1,
   "id": "e122d7c9-83b1-4b5d-9b1c-950f3d4de693",
   "metadata": {},
   "outputs": [],
   "source": [
    "import os\n",
    "\n",
    "import dask_geopandas\n",
    "import geopandas as gpd\n",
    "import matplotlib.pyplot as plt\n",
    "import numpy as np\n",
    "import pandas as pd"
   ]
  },
  {
   "cell_type": "code",
   "execution_count": 2,
   "id": "a2df9f08-8f5a-4d3f-9ab7-1041f9617ceb",
   "metadata": {},
   "outputs": [],
   "source": [
    "main_path = '/nas/cee-water/cjgleason/fiona/narrow_rivers_PIXC_data/NHD_prepped_buffered'"
   ]
  },
  {
   "cell_type": "code",
   "execution_count": 3,
   "id": "1f09dff1-039e-487c-b6f0-0b7801b52e98",
   "metadata": {},
   "outputs": [],
   "source": [
    "huc2s = os.listdir(main_path)\n",
    "huc2s.sort()"
   ]
  },
  {
   "cell_type": "markdown",
   "id": "60ef6205-a386-4a5d-990b-7b3c24f962f1",
   "metadata": {},
   "source": [
    "### Read in buffered flowlines"
   ]
  },
  {
   "cell_type": "code",
   "execution_count": 4,
   "id": "2c4ee6b1-e309-49e4-9bc6-e0af6a105bed",
   "metadata": {},
   "outputs": [],
   "source": [
    "width = 'max'"
   ]
  },
  {
   "cell_type": "code",
   "execution_count": 5,
   "id": "67e1ebdb-0131-40d6-aa83-458f8e65157d",
   "metadata": {},
   "outputs": [],
   "source": [
    "data_path = os.path.join(main_path, huc2s[0])"
   ]
  },
  {
   "cell_type": "code",
   "execution_count": 6,
   "id": "7c23a039-5565-4b35-a042-a384e36105ae",
   "metadata": {},
   "outputs": [],
   "source": [
    "file_paths = []\n",
    "\n",
    "for file in os.listdir(data_path):\n",
    "    if width in file:\n",
    "        file_paths.append(os.path.join(data_path, file))"
   ]
  },
  {
   "cell_type": "code",
   "execution_count": 7,
   "id": "f2df83ac-d52b-45f5-98b4-bfb0e4466ee3",
   "metadata": {},
   "outputs": [
    {
     "data": {
      "text/plain": [
       "'/nas/cee-water/cjgleason/fiona/narrow_rivers_PIXC_data/NHD_prepped_buffered/HUC2_01/NHDPLUS_H_0105_HU4_GDB_prepped_buffered_max.parquet'"
      ]
     },
     "execution_count": 7,
     "metadata": {},
     "output_type": "execute_result"
    }
   ],
   "source": [
    "file_paths[0]"
   ]
  },
  {
   "cell_type": "code",
   "execution_count": 8,
   "id": "55cc97e7-cf82-4d50-96e5-61d348e20fed",
   "metadata": {},
   "outputs": [],
   "source": [
    "huc4s = [x[94:98] for x in file_paths]\n",
    "huc4s.sort()"
   ]
  },
  {
   "cell_type": "code",
   "execution_count": 9,
   "id": "dbde90cf-1c00-4443-94de-aca656eb83f8",
   "metadata": {},
   "outputs": [],
   "source": [
    "bieger_area = dask_geopandas.read_parquet(path=file_paths, columns=['NHDPlusID', 'buffers'])"
   ]
  },
  {
   "cell_type": "code",
   "execution_count": 10,
   "id": "c9936d57-932e-4352-936c-e2f338c7488c",
   "metadata": {},
   "outputs": [],
   "source": [
    "bieger_area = bieger_area.compute()"
   ]
  },
  {
   "cell_type": "code",
   "execution_count": 11,
   "id": "7b152e6a-b023-4aa6-8c02-528253512032",
   "metadata": {},
   "outputs": [],
   "source": [
    "bieger_area['area'] = bieger_area['buffers'].area"
   ]
  },
  {
   "cell_type": "markdown",
   "id": "467a3410-a0ee-4313-83df-556a0a65e3df",
   "metadata": {},
   "source": [
    "### Read in NHDArea"
   ]
  },
  {
   "cell_type": "code",
   "execution_count": 12,
   "id": "80de862d-3c75-488f-92e0-b75aafbd1d10",
   "metadata": {},
   "outputs": [],
   "source": [
    "data_path = '/nas/cee-water/cjgleason/data/NHDPlus_HR'"
   ]
  },
  {
   "cell_type": "code",
   "execution_count": 13,
   "id": "f5b01421-05a6-4d26-a96f-dd2ba92ae438",
   "metadata": {},
   "outputs": [],
   "source": [
    "file_paths = []\n",
    "two = huc2s[0]\n",
    "\n",
    "for four in huc4s:\n",
    "    huc4 = 'NHDPLUS_H_' + four + '_HU4_GDB'\n",
    "    \n",
    "    file_path = os.path.join(data_path, two, huc4, huc4 + '.gdb')\n",
    "    \n",
    "    file_paths.append(file_path)"
   ]
  },
  {
   "cell_type": "code",
   "execution_count": 14,
   "id": "0555637d-de0f-4059-a90f-03e73d0b6dd2",
   "metadata": {},
   "outputs": [
    {
     "name": "stderr",
     "output_type": "stream",
     "text": [
      "/work/pi_cjgleason_umass_edu/.conda/envs/narrowPIXC/lib/python3.12/site-packages/pyogrio/raw.py:196: RuntimeWarning: organizePolygons() received a polygon with more than 100 parts. The processing may be really slow.  You can skip the processing by setting METHOD=SKIP, or only make it analyze counter-clock wise parts by setting METHOD=ONLY_CCW if you can assume that the outline of holes is counter-clock wise defined\n",
      "  return ogr_read(\n"
     ]
    }
   ],
   "source": [
    "d = []\n",
    "\n",
    "for file_path in file_paths:\n",
    "    area = gpd.read_file(filename=file_path, layer='NHDArea', engine='pyogrio')\n",
    "    d.append(area)\n",
    "\n",
    "nhd_area = pd.concat(d)"
   ]
  },
  {
   "cell_type": "code",
   "execution_count": 15,
   "id": "1149a424-b39e-455b-a798-2125d377c944",
   "metadata": {},
   "outputs": [],
   "source": [
    "nhd_area = nhd_area.to_crs(epsg=3857)"
   ]
  },
  {
   "cell_type": "code",
   "execution_count": 17,
   "id": "a428c836-6778-42f5-b46a-f6646262800f",
   "metadata": {},
   "outputs": [],
   "source": [
    "# deer = nhd_area.clip((-8086867.086892263, 5209725.080959584, -8079861.909633098, 5218570.366543769))\n",
    "# deer.plot(cmap='hsv')"
   ]
  },
  {
   "cell_type": "code",
   "execution_count": 18,
   "id": "62e19cdb-7ff7-4dd7-88e4-1dfc9f2c79be",
   "metadata": {},
   "outputs": [],
   "source": [
    "nhd_area['area'] = nhd_area['geometry'].area"
   ]
  },
  {
   "cell_type": "code",
   "execution_count": 19,
   "id": "18e69faf-caba-44b8-9f0d-151b853bbd5f",
   "metadata": {},
   "outputs": [],
   "source": [
    "nhd_area['traces'] = nhd_area['geometry']"
   ]
  },
  {
   "cell_type": "code",
   "execution_count": 20,
   "id": "255e8be6-d01b-48a1-ba03-669d565ae6cd",
   "metadata": {},
   "outputs": [],
   "source": [
    "both = gpd.sjoin(left_df=bieger_area, right_df=nhd_area, how='inner', predicate='intersects')"
   ]
  },
  {
   "cell_type": "code",
   "execution_count": 21,
   "id": "ef8e736d-3d7c-489d-afab-c69eeae62856",
   "metadata": {},
   "outputs": [
    {
     "data": {
      "text/plain": [
       "Index(['NHDPlusID_left', 'buffers', 'area_left', 'index_right',\n",
       "       'Permanent_Identifier', 'FDate', 'Resolution', 'GNIS_ID', 'GNIS_Name',\n",
       "       'AreaSqKm', 'Elevation', 'FType', 'FCode', 'VisibilityFilter',\n",
       "       'Shape_Length', 'Shape_Area', 'NHDPlusID_right', 'VPUID', 'area_right',\n",
       "       'traces'],\n",
       "      dtype='object')"
      ]
     },
     "execution_count": 21,
     "metadata": {},
     "output_type": "execute_result"
    }
   ],
   "source": [
    "both.columns"
   ]
  },
  {
   "cell_type": "code",
   "execution_count": 22,
   "id": "7eb168b0-1b99-4eae-bead-2eea91b8b783",
   "metadata": {},
   "outputs": [
    {
     "data": {
      "text/plain": [
       "np.float64(0.17427788137958425)"
      ]
     },
     "execution_count": 22,
     "metadata": {},
     "output_type": "execute_result"
    }
   ],
   "source": [
    "both.iloc[10].area_left / both.iloc[10].area_right"
   ]
  },
  {
   "cell_type": "code",
   "execution_count": null,
   "id": "89914d73-f4c1-4754-8afb-6c6dc42d6cb5",
   "metadata": {},
   "outputs": [],
   "source": [
    "save_path = '/nas/cee-water/cjgleason/fiona/narrow_rivers_PIXC/figures/figures_for_2025_04_01'"
   ]
  },
  {
   "cell_type": "code",
   "execution_count": null,
   "id": "6f3c8bfd-6d35-414f-9c31-0d4f12415e3f",
   "metadata": {},
   "outputs": [],
   "source": [
    "both = both.to_crs(epsg=32618)"
   ]
  },
  {
   "cell_type": "code",
   "execution_count": null,
   "id": "f3c1cfb5-0b84-4461-8067-cdf45a1c2765",
   "metadata": {},
   "outputs": [],
   "source": [
    "deer = both.clip((684000, 4718500, 687000, 4722500))"
   ]
  },
  {
   "cell_type": "code",
   "execution_count": null,
   "id": "0ae060bb-ef65-49fe-b569-d67fa1ded85b",
   "metadata": {},
   "outputs": [],
   "source": [
    "fig, ax = plt.subplots()\n",
    "deer.traces.plot(ax=ax, cmap='hsv')\n",
    "deer.plot(ax=ax, color='white', alpha=0.9)\n",
    "# plt.xlim(684000, 687000)\n",
    "# plt.ylim(4718500, 4722500)"
   ]
  },
  {
   "cell_type": "code",
   "execution_count": null,
   "id": "c47ab956-d2ef-4f2d-bff3-a6e5c0bad4e3",
   "metadata": {},
   "outputs": [],
   "source": [
    "for i in range(1000):\n",
    "\n",
    "    fig, ax = plt.subplots()\n",
    "    both.iloc[[i]].traces.plot(ax=ax, color='cornflowerblue')\n",
    "    both.iloc[[i]].plot(ax=ax, color='red', alpha=0.9)\n",
    "\n",
    "    bounds = both.iloc[[i]].total_bounds\n",
    "    plt.xlim(bounds[0], bounds[2]),\n",
    "    plt.ylim(bounds[1], bounds[3])\n",
    "\n",
    "    plt.savefig(os.path.join(save_path, 'bieger_nhd_area_' + str(i) + '.png'))"
   ]
  },
  {
   "cell_type": "code",
   "execution_count": null,
   "id": "158bb010-8e50-4636-9b4c-4527e9025cfd",
   "metadata": {},
   "outputs": [],
   "source": [
    "both.iloc[[0]].traces.plot()"
   ]
  },
  {
   "cell_type": "code",
   "execution_count": null,
   "id": "7e0f9205-a9c4-49d2-8609-0bed08a19b74",
   "metadata": {},
   "outputs": [],
   "source": [
    "bieger_area.plot()"
   ]
  }
 ],
 "metadata": {
  "kernelspec": {
   "display_name": "Python [conda env:.conda-narrowPIXC]",
   "language": "python",
   "name": "conda-env-.conda-narrowPIXC-py"
  },
  "language_info": {
   "codemirror_mode": {
    "name": "ipython",
    "version": 3
   },
   "file_extension": ".py",
   "mimetype": "text/x-python",
   "name": "python",
   "nbconvert_exporter": "python",
   "pygments_lexer": "ipython3",
   "version": "3.12.4"
  }
 },
 "nbformat": 4,
 "nbformat_minor": 5
}
