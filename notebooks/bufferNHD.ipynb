{
 "cells": [
  {
   "cell_type": "code",
   "execution_count": 1,
   "id": "1a32223a-6b05-4cf5-a2da-de9aace6766e",
   "metadata": {},
   "outputs": [],
   "source": [
    "import os\n",
    "import time\n",
    "\n",
    "import matplotlib.pyplot as plt\n",
    "\n",
    "import geopandas as gpd\n",
    "import pandas as pd\n",
    "\n",
    "from pandarallel import pandarallel\n",
    "from reaches import readNHD\n",
    "from utils import specialBuffer"
   ]
  },
  {
   "cell_type": "code",
   "execution_count": 32,
   "id": "69745b04-8a78-4a86-8c0f-67b649f307e6",
   "metadata": {},
   "outputs": [],
   "source": [
    "slurm = 197"
   ]
  },
  {
   "cell_type": "code",
   "execution_count": 33,
   "id": "b6c41bc1-ac94-4079-9fed-bbeb9968cffd",
   "metadata": {},
   "outputs": [],
   "source": [
    "# FOR NOW, SET\n",
    "width_set = 'max'"
   ]
  },
  {
   "cell_type": "code",
   "execution_count": 34,
   "id": "53adaf63-e480-4d34-8578-3b2f4b768ad1",
   "metadata": {},
   "outputs": [],
   "source": [
    "# Control flow\n",
    "if width_set == 'mean':\n",
    "    width = 'WidthM'\n",
    "elif width_set == 'min':\n",
    "    width = 'WidthM_Min'\n",
    "elif width_set == 'max':\n",
    "    width = 'WidthM_Max'\n",
    "else:\n",
    "    print('Invalid width option specified, exiting.')\n",
    "    # sys.exit()"
   ]
  },
  {
   "cell_type": "code",
   "execution_count": 35,
   "id": "3125d88d-9e63-4a29-8b01-4566b9fdd4f8",
   "metadata": {},
   "outputs": [
    {
     "name": "stdout",
     "output_type": "stream",
     "text": [
      "NHDPLUS_H_0512_HU4_GDB\n",
      "read in\n"
     ]
    }
   ],
   "source": [
    "## Prepare data\n",
    "# Read segmented NHD\n",
    "segments, huc4, huc2 = readNHD(index=slurm, segmented=True)"
   ]
  },
  {
   "cell_type": "code",
   "execution_count": 36,
   "id": "aa94007c-83c2-418d-8965-c6f484879d78",
   "metadata": {},
   "outputs": [
    {
     "name": "stdout",
     "output_type": "stream",
     "text": [
      "INFO: Pandarallel will run on 128 workers.\n",
      "INFO: Pandarallel will use Memory file system to transfer data between the main process and workers.\n"
     ]
    }
   ],
   "source": [
    "pandarallel.initialize()"
   ]
  },
  {
   "cell_type": "code",
   "execution_count": 37,
   "id": "683add3c-bfd5-4cc0-9576-b2139b0cab07",
   "metadata": {},
   "outputs": [],
   "source": [
    "start = time.time()\n",
    "segments['buffers'] = segments.parallel_apply(user_defined_function=specialBuffer,\n",
    "                                                         args=(width, 'flat', True, False),\n",
    "                                                         axis=1)\n",
    "end = time.time()"
   ]
  },
  {
   "cell_type": "code",
   "execution_count": 43,
   "id": "679af2f0-937c-4aee-a992-9a66b1038abf",
   "metadata": {},
   "outputs": [],
   "source": [
    "# fig, ax = plt.subplots()\n",
    "# segments.iloc[0:10].segments.plot(ax=ax, cmap='hsv')\n",
    "# segments.iloc[0:10].buffers.plot(ax=ax, cmap='summer', alpha=0.7)"
   ]
  },
  {
   "cell_type": "code",
   "execution_count": 49,
   "id": "8f35639a-c3af-4ac8-ae10-8245403ee076",
   "metadata": {},
   "outputs": [],
   "source": [
    "# Drop original reach geometry column, set segments as active geometry\n",
    "segments = segments.drop(columns='segments').set_geometry('buffers').set_crs(crs=segments.crs)"
   ]
  },
  {
   "cell_type": "code",
   "execution_count": 52,
   "id": "737bb9c2-6c56-412f-a9f8-46085f8ccd88",
   "metadata": {},
   "outputs": [],
   "source": [
    "# Write out\n",
    "# Set write filepath\n",
    "save_path = '../narrow_rivers_PIXC_data/NHD_buffered/'\n",
    "save_path = os.path.join(save_path, huc2)\n",
    "save_file = huc4 + '_buffered.parquet'\n",
    "\n",
    "#Write out gdf as parquet file\n",
    "if not os.path.isdir(save_path):\n",
    "    os.makedirs(save_path)\n",
    "segments.to_parquet(os.path.join(save_path, save_file))"
   ]
  },
  {
   "cell_type": "code",
   "execution_count": 55,
   "id": "f85eaae7-a885-4480-be57-40bdce86d52b",
   "metadata": {},
   "outputs": [
    {
     "data": {
      "text/plain": [
       "35.94800686836243"
      ]
     },
     "execution_count": 55,
     "metadata": {},
     "output_type": "execute_result"
    }
   ],
   "source": [
    "start = time.time()\n",
    "test = gpd.read_parquet('/nas/cee-water/cjgleason/fiona/narrow_rivers_PIXC_data/NHD_buffered/HUC2_05/NHDPLUS_H_0512_HU4_GDB_buffered.parquet')\n",
    "end = time.time()\n",
    "\n",
    "end - start"
   ]
  },
  {
   "cell_type": "code",
   "execution_count": 48,
   "id": "9bcb06e4-bdcf-4a62-bb87-b8ce9a9a684c",
   "metadata": {},
   "outputs": [
    {
     "data": {
      "text/html": [
       "<div>\n",
       "<style scoped>\n",
       "    .dataframe tbody tr th:only-of-type {\n",
       "        vertical-align: middle;\n",
       "    }\n",
       "\n",
       "    .dataframe tbody tr th {\n",
       "        vertical-align: top;\n",
       "    }\n",
       "\n",
       "    .dataframe thead th {\n",
       "        text-align: right;\n",
       "    }\n",
       "</style>\n",
       "<table border=\"1\" class=\"dataframe\">\n",
       "  <thead>\n",
       "    <tr style=\"text-align: right;\">\n",
       "      <th></th>\n",
       "      <th>NHDPlusID</th>\n",
       "      <th>GNIS_Name</th>\n",
       "      <th>LengthKM</th>\n",
       "      <th>WidthM</th>\n",
       "      <th>WidthM_Min</th>\n",
       "      <th>WidthM_Max</th>\n",
       "      <th>Bin</th>\n",
       "      <th>segments</th>\n",
       "      <th>buffers</th>\n",
       "    </tr>\n",
       "  </thead>\n",
       "  <tbody>\n",
       "    <tr>\n",
       "      <th>0</th>\n",
       "      <td>2.400130e+13</td>\n",
       "      <td>None</td>\n",
       "      <td>0.141586</td>\n",
       "      <td>0.927282</td>\n",
       "      <td>0.558743</td>\n",
       "      <td>1.538905</td>\n",
       "      <td>(0, 10]</td>\n",
       "      <td>LINESTRING (-9741383.331 4785536.967, -9741401...</td>\n",
       "      <td>POLYGON ((-9741401.772 4785536.409, -9741401.7...</td>\n",
       "    </tr>\n",
       "    <tr>\n",
       "      <th>0</th>\n",
       "      <td>2.400130e+13</td>\n",
       "      <td>None</td>\n",
       "      <td>0.141586</td>\n",
       "      <td>0.927282</td>\n",
       "      <td>0.558743</td>\n",
       "      <td>1.538905</td>\n",
       "      <td>(0, 10]</td>\n",
       "      <td>LINESTRING (-9741401.763 4785537.178, -9741407...</td>\n",
       "      <td>POLYGON ((-9741407.069 4785536.47, -9741409.96...</td>\n",
       "    </tr>\n",
       "    <tr>\n",
       "      <th>0</th>\n",
       "      <td>2.400130e+13</td>\n",
       "      <td>None</td>\n",
       "      <td>0.141586</td>\n",
       "      <td>0.927282</td>\n",
       "      <td>0.558743</td>\n",
       "      <td>1.538905</td>\n",
       "      <td>(0, 10]</td>\n",
       "      <td>LINESTRING (-9741419.86 4785534.323, -9741420....</td>\n",
       "      <td>POLYGON ((-9741420.183 4785533.45, -9741425.88...</td>\n",
       "    </tr>\n",
       "    <tr>\n",
       "      <th>0</th>\n",
       "      <td>2.400130e+13</td>\n",
       "      <td>None</td>\n",
       "      <td>0.141586</td>\n",
       "      <td>0.927282</td>\n",
       "      <td>0.558743</td>\n",
       "      <td>1.538905</td>\n",
       "      <td>(0, 10]</td>\n",
       "      <td>LINESTRING (-9741433.69 4785522.758, -9741434....</td>\n",
       "      <td>POLYGON ((-9741433.487 4785521.701, -9741436.2...</td>\n",
       "    </tr>\n",
       "    <tr>\n",
       "      <th>0</th>\n",
       "      <td>2.400130e+13</td>\n",
       "      <td>None</td>\n",
       "      <td>0.141586</td>\n",
       "      <td>0.927282</td>\n",
       "      <td>0.558743</td>\n",
       "      <td>1.538905</td>\n",
       "      <td>(0, 10]</td>\n",
       "      <td>LINESTRING (-9741447.64 4785515.293, -9741453....</td>\n",
       "      <td>POLYGON ((-9741453.739 4785515.887, -9741453.7...</td>\n",
       "    </tr>\n",
       "    <tr>\n",
       "      <th>...</th>\n",
       "      <td>...</td>\n",
       "      <td>...</td>\n",
       "      <td>...</td>\n",
       "      <td>...</td>\n",
       "      <td>...</td>\n",
       "      <td>...</td>\n",
       "      <td>...</td>\n",
       "      <td>...</td>\n",
       "      <td>...</td>\n",
       "    </tr>\n",
       "    <tr>\n",
       "      <th>1292630</th>\n",
       "      <td>2.400130e+13</td>\n",
       "      <td>None</td>\n",
       "      <td>0.140535</td>\n",
       "      <td>0.395821</td>\n",
       "      <td>0.238506</td>\n",
       "      <td>0.656899</td>\n",
       "      <td>(0, 10]</td>\n",
       "      <td>LINESTRING (-9460959.658 4937327.442, -9460951...</td>\n",
       "      <td>POLYGON ((-9460951.34 4937343.9, -9460950.759 ...</td>\n",
       "    </tr>\n",
       "    <tr>\n",
       "      <th>1292630</th>\n",
       "      <td>2.400130e+13</td>\n",
       "      <td>None</td>\n",
       "      <td>0.140535</td>\n",
       "      <td>0.395821</td>\n",
       "      <td>0.238506</td>\n",
       "      <td>0.656899</td>\n",
       "      <td>(0, 10]</td>\n",
       "      <td>LINESTRING (-9460951.049 4937343.746, -9460947...</td>\n",
       "      <td>POLYGON ((-9460947.709 4937350.777, -9460947.6...</td>\n",
       "    </tr>\n",
       "    <tr>\n",
       "      <th>1292630</th>\n",
       "      <td>2.400130e+13</td>\n",
       "      <td>None</td>\n",
       "      <td>0.140535</td>\n",
       "      <td>0.395821</td>\n",
       "      <td>0.238506</td>\n",
       "      <td>0.656899</td>\n",
       "      <td>(0, 10]</td>\n",
       "      <td>LINESTRING (-9460940.424 4937358.669, -9460928...</td>\n",
       "      <td>POLYGON ((-9460928.576 4937372.8, -9460928.08 ...</td>\n",
       "    </tr>\n",
       "    <tr>\n",
       "      <th>1292630</th>\n",
       "      <td>2.400130e+13</td>\n",
       "      <td>None</td>\n",
       "      <td>0.140535</td>\n",
       "      <td>0.395821</td>\n",
       "      <td>0.238506</td>\n",
       "      <td>0.656899</td>\n",
       "      <td>(0, 10]</td>\n",
       "      <td>LINESTRING (-9460928.328 4937372.585, -9460916...</td>\n",
       "      <td>POLYGON ((-9460916.48 4937386.715, -9460915.98...</td>\n",
       "    </tr>\n",
       "    <tr>\n",
       "      <th>1292630</th>\n",
       "      <td>2.400130e+13</td>\n",
       "      <td>None</td>\n",
       "      <td>0.140535</td>\n",
       "      <td>0.395821</td>\n",
       "      <td>0.238506</td>\n",
       "      <td>0.656899</td>\n",
       "      <td>(0, 10]</td>\n",
       "      <td>LINESTRING (-9460916.232 4937386.5, -9460904.1...</td>\n",
       "      <td>POLYGON ((-9460904.384 4937400.63, -9460903.88...</td>\n",
       "    </tr>\n",
       "  </tbody>\n",
       "</table>\n",
       "<p>12898820 rows × 9 columns</p>\n",
       "</div>"
      ],
      "text/plain": [
       "            NHDPlusID GNIS_Name  LengthKM    WidthM  WidthM_Min  WidthM_Max  \\\n",
       "0        2.400130e+13      None  0.141586  0.927282    0.558743    1.538905   \n",
       "0        2.400130e+13      None  0.141586  0.927282    0.558743    1.538905   \n",
       "0        2.400130e+13      None  0.141586  0.927282    0.558743    1.538905   \n",
       "0        2.400130e+13      None  0.141586  0.927282    0.558743    1.538905   \n",
       "0        2.400130e+13      None  0.141586  0.927282    0.558743    1.538905   \n",
       "...               ...       ...       ...       ...         ...         ...   \n",
       "1292630  2.400130e+13      None  0.140535  0.395821    0.238506    0.656899   \n",
       "1292630  2.400130e+13      None  0.140535  0.395821    0.238506    0.656899   \n",
       "1292630  2.400130e+13      None  0.140535  0.395821    0.238506    0.656899   \n",
       "1292630  2.400130e+13      None  0.140535  0.395821    0.238506    0.656899   \n",
       "1292630  2.400130e+13      None  0.140535  0.395821    0.238506    0.656899   \n",
       "\n",
       "             Bin                                           segments  \\\n",
       "0        (0, 10]  LINESTRING (-9741383.331 4785536.967, -9741401...   \n",
       "0        (0, 10]  LINESTRING (-9741401.763 4785537.178, -9741407...   \n",
       "0        (0, 10]  LINESTRING (-9741419.86 4785534.323, -9741420....   \n",
       "0        (0, 10]  LINESTRING (-9741433.69 4785522.758, -9741434....   \n",
       "0        (0, 10]  LINESTRING (-9741447.64 4785515.293, -9741453....   \n",
       "...          ...                                                ...   \n",
       "1292630  (0, 10]  LINESTRING (-9460959.658 4937327.442, -9460951...   \n",
       "1292630  (0, 10]  LINESTRING (-9460951.049 4937343.746, -9460947...   \n",
       "1292630  (0, 10]  LINESTRING (-9460940.424 4937358.669, -9460928...   \n",
       "1292630  (0, 10]  LINESTRING (-9460928.328 4937372.585, -9460916...   \n",
       "1292630  (0, 10]  LINESTRING (-9460916.232 4937386.5, -9460904.1...   \n",
       "\n",
       "                                                   buffers  \n",
       "0        POLYGON ((-9741401.772 4785536.409, -9741401.7...  \n",
       "0        POLYGON ((-9741407.069 4785536.47, -9741409.96...  \n",
       "0        POLYGON ((-9741420.183 4785533.45, -9741425.88...  \n",
       "0        POLYGON ((-9741433.487 4785521.701, -9741436.2...  \n",
       "0        POLYGON ((-9741453.739 4785515.887, -9741453.7...  \n",
       "...                                                    ...  \n",
       "1292630  POLYGON ((-9460951.34 4937343.9, -9460950.759 ...  \n",
       "1292630  POLYGON ((-9460947.709 4937350.777, -9460947.6...  \n",
       "1292630  POLYGON ((-9460928.576 4937372.8, -9460928.08 ...  \n",
       "1292630  POLYGON ((-9460916.48 4937386.715, -9460915.98...  \n",
       "1292630  POLYGON ((-9460904.384 4937400.63, -9460903.88...  \n",
       "\n",
       "[12898820 rows x 9 columns]"
      ]
     },
     "execution_count": 48,
     "metadata": {},
     "output_type": "execute_result"
    }
   ],
   "source": [
    "test"
   ]
  }
 ],
 "metadata": {
  "kernelspec": {
   "display_name": "Python [conda env:.conda-narrowPIXC]",
   "language": "python",
   "name": "conda-env-.conda-narrowPIXC-py"
  },
  "language_info": {
   "codemirror_mode": {
    "name": "ipython",
    "version": 3
   },
   "file_extension": ".py",
   "mimetype": "text/x-python",
   "name": "python",
   "nbconvert_exporter": "python",
   "pygments_lexer": "ipython3",
   "version": "3.12.4"
  }
 },
 "nbformat": 4,
 "nbformat_minor": 5
}
