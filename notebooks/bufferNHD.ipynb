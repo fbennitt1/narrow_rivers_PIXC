{
 "cells": [
  {
   "cell_type": "code",
   "execution_count": 1,
   "id": "1a32223a-6b05-4cf5-a2da-de9aace6766e",
   "metadata": {},
   "outputs": [],
   "source": [
    "from argparse import ArgumentParser\n",
    "\n",
    "import os\n",
    "import sys\n",
    "import time\n",
    "\n",
    "import matplotlib.pyplot as plt\n",
    "\n",
    "import geopandas as gpd\n",
    "import pandas as pd\n",
    "\n",
    "from pandarallel import pandarallel\n",
    "\n",
    "sys.path.insert(1, '../scripts/')\n",
    "from reaches import readNHD\n",
    "from utils import specialBuffer"
   ]
  },
  {
   "cell_type": "code",
   "execution_count": 3,
   "id": "69745b04-8a78-4a86-8c0f-67b649f307e6",
   "metadata": {},
   "outputs": [],
   "source": [
    "slurm = 197\n",
    "# slurm = int(os.environ['SLURM_ARRAY_TASK_ID'])\n",
    "cpus = int(os.environ.get('SLURM_CPUS_PER_TASK'))\n",
    "cpus_per_task = cpus if cpus < 65 else 1"
   ]
  },
  {
   "cell_type": "code",
   "execution_count": 5,
   "id": "b6c41bc1-ac94-4079-9fed-bbeb9968cffd",
   "metadata": {},
   "outputs": [],
   "source": [
    "# # FOR NOW, SET\n",
    "width_set = 'max'\n",
    "\n",
    "# ### PARSE ARGUMENTS\n",
    "# parser = ArgumentParser(description='Please specify whether you would\\\n",
    "#                         like to use the min, mean, or max predicted\\\n",
    "#                         bankfull width for this analysis.')\n",
    "# parser.add_argument('width_set', type=str, help='min, mean, or max')\n",
    "# args=parser.parse_args()\n",
    "# width_set = args.width_set"
   ]
  },
  {
   "cell_type": "code",
   "execution_count": 6,
   "id": "53adaf63-e480-4d34-8578-3b2f4b768ad1",
   "metadata": {},
   "outputs": [],
   "source": [
    "# Control flow\n",
    "if width_set == 'mean':\n",
    "    width = 'WidthM'\n",
    "elif width_set == 'min':\n",
    "    width = 'WidthM_Min'\n",
    "elif width_set == 'max':\n",
    "    width = 'WidthM_Max'\n",
    "else:\n",
    "    print('Invalid width option specified, exiting.')\n",
    "    # sys.exit()"
   ]
  },
  {
   "cell_type": "code",
   "execution_count": 7,
   "id": "3125d88d-9e63-4a29-8b01-4566b9fdd4f8",
   "metadata": {},
   "outputs": [
    {
     "name": "stdout",
     "output_type": "stream",
     "text": [
      "type: segmented\n",
      "NHDPLUS_H_0512_HU4_GDB\n",
      "/nas/cee-water/cjgleason/fiona/narrow_rivers_PIXC_data/NHD_prepped_segmented/HUC2_05/NHDPLUS_H_0512_HU4_GDB_prepped_segmented.parquet\n",
      "segments read-in\n"
     ]
    }
   ],
   "source": [
    "## Prepare data\n",
    "# Read segmented NHD\n",
    "segments, huc4, huc2 = readNHD(index=slurm, segmented=True)"
   ]
  },
  {
   "cell_type": "code",
   "execution_count": 8,
   "id": "aa94007c-83c2-418d-8965-c6f484879d78",
   "metadata": {},
   "outputs": [
    {
     "name": "stdout",
     "output_type": "stream",
     "text": [
      "INFO: Pandarallel will run on 8 workers.\n",
      "INFO: Pandarallel will use Memory file system to transfer data between the main process and workers.\n"
     ]
    }
   ],
   "source": [
    "pandarallel.initialize(nb_workers=cpus_per_task)"
   ]
  },
  {
   "cell_type": "code",
   "execution_count": 9,
   "id": "683add3c-bfd5-4cc0-9576-b2139b0cab07",
   "metadata": {},
   "outputs": [
    {
     "name": "stdout",
     "output_type": "stream",
     "text": [
      "141.5606770515442\n"
     ]
    }
   ],
   "source": [
    "# Buffer segments\n",
    "## PARALLELIZE\n",
    "start = time.time()\n",
    "segments['buffer'] = segments.parallel_apply(user_defined_function=specialBuffer,\n",
    "                                                         args=(width,\n",
    "                                                               'flat', True, False),\n",
    "                                                         axis=1)\n",
    "end = time.time()\n",
    "print(end - start)"
   ]
  },
  {
   "cell_type": "code",
   "execution_count": 8,
   "id": "679af2f0-937c-4aee-a992-9a66b1038abf",
   "metadata": {},
   "outputs": [],
   "source": [
    "# fig, ax = plt.subplots()\n",
    "# segments.iloc[0:10].segments.plot(ax=ax, cmap='hsv')\n",
    "# segments.iloc[0:10].buffers.plot(ax=ax, cmap='summer', alpha=0.7)"
   ]
  },
  {
   "cell_type": "code",
   "execution_count": 10,
   "id": "8f35639a-c3af-4ac8-ae10-8245403ee076",
   "metadata": {},
   "outputs": [],
   "source": [
    "# Drop original reach geometry column, set segments as active geometry\n",
    "segments = segments.drop(columns='segments').set_geometry('buffer').set_crs(crs=segments.crs)"
   ]
  },
  {
   "cell_type": "code",
   "execution_count": 11,
   "id": "d1eae89d-e771-45e7-856a-0a2200250495",
   "metadata": {},
   "outputs": [],
   "source": [
    "save_path = '../../narrow_rivers_PIXC_data/NHD_prepped_segmented_buffered/'"
   ]
  },
  {
   "cell_type": "code",
   "execution_count": 12,
   "id": "737bb9c2-6c56-412f-a9f8-46085f8ccd88",
   "metadata": {},
   "outputs": [],
   "source": [
    "# Write out\n",
    "# Set write filepath\n",
    "save_path = '../../narrow_rivers_PIXC_data/NHD_prepped_segmented_buffered/'\n",
    "save_path = os.path.join(save_path, huc2)\n",
    "save_file = huc4 + '_buffered_' + width_set + '.parquet'\n",
    "\n",
    "#Write out gdf as parquet file\n",
    "if not os.path.isdir(save_path):\n",
    "    os.makedirs(save_path)\n",
    "segments.to_parquet(os.path.join(save_path, save_file))"
   ]
  },
  {
   "cell_type": "code",
   "execution_count": 13,
   "id": "8b3faa3a-4c02-4c4e-9e55-7828d8672abd",
   "metadata": {},
   "outputs": [
    {
     "name": "stdout",
     "output_type": "stream",
     "text": [
      "Script completed.\n"
     ]
    }
   ],
   "source": [
    "print('Script completed.')"
   ]
  },
  {
   "cell_type": "code",
   "execution_count": 12,
   "id": "71fd2020-50f1-43b0-9b18-a52d1a0ba45b",
   "metadata": {},
   "outputs": [],
   "source": [
    "# del segments"
   ]
  },
  {
   "cell_type": "code",
   "execution_count": 21,
   "id": "f85eaae7-a885-4480-be57-40bdce86d52b",
   "metadata": {},
   "outputs": [
    {
     "data": {
      "text/plain": [
       "0.708996057510376"
      ]
     },
     "execution_count": 21,
     "metadata": {},
     "output_type": "execute_result"
    }
   ],
   "source": [
    "start = time.time()\n",
    "# test = gpd.read_parquet('/nas/cee-water/cjgleason/fiona/narrow_rivers_PIXC_data/NHD_prepped_segmented_buffered/HUC2_01/NHDPLUS_H_0102_HU4_GDB_prepped_segmented_buffered_min.parquet')\n",
    "test = gpd.read_parquet('/nas/cee-water/cjgleason/fiona/narrow_rivers_PIXC_data/NHD_prepped_buffered_extra/HUC2_01/NHDPLUS_H_0102_HU4_GDB_prepped_buffered_extra_min.parquet')\n",
    "end = time.time()\n",
    "\n",
    "end - start"
   ]
  },
  {
   "cell_type": "code",
   "execution_count": 24,
   "id": "460de743-cc6f-409c-8143-669c9081bf0d",
   "metadata": {},
   "outputs": [],
   "source": [
    "test = gpd.read_parquet('/nas/cee-water/cjgleason/fiona/narrow_rivers_PIXC_data/NHD_prepped_segmented/HUC2_01/NHDPLUS_H_0102_HU4_GDB_prepped_segmented.parquet')"
   ]
  },
  {
   "cell_type": "code",
   "execution_count": 25,
   "id": "9d94551a-b1a0-4afc-b2d9-d60e6bb01d75",
   "metadata": {},
   "outputs": [
    {
     "data": {
      "text/html": [
       "<div>\n",
       "<style scoped>\n",
       "    .dataframe tbody tr th:only-of-type {\n",
       "        vertical-align: middle;\n",
       "    }\n",
       "\n",
       "    .dataframe tbody tr th {\n",
       "        vertical-align: top;\n",
       "    }\n",
       "\n",
       "    .dataframe thead th {\n",
       "        text-align: right;\n",
       "    }\n",
       "</style>\n",
       "<table border=\"1\" class=\"dataframe\">\n",
       "  <thead>\n",
       "    <tr style=\"text-align: right;\">\n",
       "      <th></th>\n",
       "      <th>NHDPlusID</th>\n",
       "      <th>GNIS_Name</th>\n",
       "      <th>LengthKM</th>\n",
       "      <th>WidthM</th>\n",
       "      <th>WidthM_Min</th>\n",
       "      <th>WidthM_Max</th>\n",
       "      <th>Bin</th>\n",
       "      <th>Bin_Min</th>\n",
       "      <th>Bin_Max</th>\n",
       "      <th>StreamOrde</th>\n",
       "      <th>Slope</th>\n",
       "      <th>segments</th>\n",
       "    </tr>\n",
       "  </thead>\n",
       "  <tbody>\n",
       "    <tr>\n",
       "      <th>0</th>\n",
       "      <td>5.000500e+12</td>\n",
       "      <td>None</td>\n",
       "      <td>0.011</td>\n",
       "      <td>3.106102</td>\n",
       "      <td>2.356219</td>\n",
       "      <td>4.094640</td>\n",
       "      <td>(0, 10]</td>\n",
       "      <td>(0, 10]</td>\n",
       "      <td>(0, 10]</td>\n",
       "      <td>1</td>\n",
       "      <td>0.000010</td>\n",
       "      <td>LINESTRING (-7788776.503 5801117.101, -7788775...</td>\n",
       "    </tr>\n",
       "    <tr>\n",
       "      <th>0</th>\n",
       "      <td>5.000500e+12</td>\n",
       "      <td>None</td>\n",
       "      <td>0.011</td>\n",
       "      <td>3.106102</td>\n",
       "      <td>2.356219</td>\n",
       "      <td>4.094640</td>\n",
       "      <td>(0, 10]</td>\n",
       "      <td>(0, 10]</td>\n",
       "      <td>(0, 10]</td>\n",
       "      <td>1</td>\n",
       "      <td>0.000010</td>\n",
       "      <td>LINESTRING (-7788775.187 5801116.262, -7788773...</td>\n",
       "    </tr>\n",
       "    <tr>\n",
       "      <th>0</th>\n",
       "      <td>5.000500e+12</td>\n",
       "      <td>None</td>\n",
       "      <td>0.011</td>\n",
       "      <td>3.106102</td>\n",
       "      <td>2.356219</td>\n",
       "      <td>4.094640</td>\n",
       "      <td>(0, 10]</td>\n",
       "      <td>(0, 10]</td>\n",
       "      <td>(0, 10]</td>\n",
       "      <td>1</td>\n",
       "      <td>0.000010</td>\n",
       "      <td>LINESTRING (-7788773.871 5801115.422, -7788772...</td>\n",
       "    </tr>\n",
       "    <tr>\n",
       "      <th>0</th>\n",
       "      <td>5.000500e+12</td>\n",
       "      <td>None</td>\n",
       "      <td>0.011</td>\n",
       "      <td>3.106102</td>\n",
       "      <td>2.356219</td>\n",
       "      <td>4.094640</td>\n",
       "      <td>(0, 10]</td>\n",
       "      <td>(0, 10]</td>\n",
       "      <td>(0, 10]</td>\n",
       "      <td>1</td>\n",
       "      <td>0.000010</td>\n",
       "      <td>LINESTRING (-7788772.555 5801114.583, -7788771...</td>\n",
       "    </tr>\n",
       "    <tr>\n",
       "      <th>0</th>\n",
       "      <td>5.000500e+12</td>\n",
       "      <td>None</td>\n",
       "      <td>0.011</td>\n",
       "      <td>3.106102</td>\n",
       "      <td>2.356219</td>\n",
       "      <td>4.094640</td>\n",
       "      <td>(0, 10]</td>\n",
       "      <td>(0, 10]</td>\n",
       "      <td>(0, 10]</td>\n",
       "      <td>1</td>\n",
       "      <td>0.000010</td>\n",
       "      <td>LINESTRING (-7788771.24 5801113.743, -7788769....</td>\n",
       "    </tr>\n",
       "    <tr>\n",
       "      <th>...</th>\n",
       "      <td>...</td>\n",
       "      <td>...</td>\n",
       "      <td>...</td>\n",
       "      <td>...</td>\n",
       "      <td>...</td>\n",
       "      <td>...</td>\n",
       "      <td>...</td>\n",
       "      <td>...</td>\n",
       "      <td>...</td>\n",
       "      <td>...</td>\n",
       "      <td>...</td>\n",
       "      <td>...</td>\n",
       "    </tr>\n",
       "    <tr>\n",
       "      <th>23568</th>\n",
       "      <td>5.000500e+12</td>\n",
       "      <td>Salmon Stream</td>\n",
       "      <td>0.131</td>\n",
       "      <td>22.253802</td>\n",
       "      <td>16.881235</td>\n",
       "      <td>29.336224</td>\n",
       "      <td>(20, 30]</td>\n",
       "      <td>(10, 20]</td>\n",
       "      <td>(20, 30]</td>\n",
       "      <td>3</td>\n",
       "      <td>0.000076</td>\n",
       "      <td>LINESTRING (-7623087.236 5734463.607, -7623088...</td>\n",
       "    </tr>\n",
       "    <tr>\n",
       "      <th>23568</th>\n",
       "      <td>5.000500e+12</td>\n",
       "      <td>Salmon Stream</td>\n",
       "      <td>0.131</td>\n",
       "      <td>22.253802</td>\n",
       "      <td>16.881235</td>\n",
       "      <td>29.336224</td>\n",
       "      <td>(20, 30]</td>\n",
       "      <td>(10, 20]</td>\n",
       "      <td>(20, 30]</td>\n",
       "      <td>3</td>\n",
       "      <td>0.000076</td>\n",
       "      <td>LINESTRING (-7623088.978 5734444.962, -7623090...</td>\n",
       "    </tr>\n",
       "    <tr>\n",
       "      <th>23568</th>\n",
       "      <td>5.000500e+12</td>\n",
       "      <td>Salmon Stream</td>\n",
       "      <td>0.131</td>\n",
       "      <td>22.253802</td>\n",
       "      <td>16.881235</td>\n",
       "      <td>29.336224</td>\n",
       "      <td>(20, 30]</td>\n",
       "      <td>(10, 20]</td>\n",
       "      <td>(20, 30]</td>\n",
       "      <td>3</td>\n",
       "      <td>0.000076</td>\n",
       "      <td>LINESTRING (-7623090.72 5734426.317, -7623092....</td>\n",
       "    </tr>\n",
       "    <tr>\n",
       "      <th>23568</th>\n",
       "      <td>5.000500e+12</td>\n",
       "      <td>Salmon Stream</td>\n",
       "      <td>0.131</td>\n",
       "      <td>22.253802</td>\n",
       "      <td>16.881235</td>\n",
       "      <td>29.336224</td>\n",
       "      <td>(20, 30]</td>\n",
       "      <td>(10, 20]</td>\n",
       "      <td>(20, 30]</td>\n",
       "      <td>3</td>\n",
       "      <td>0.000076</td>\n",
       "      <td>LINESTRING (-7623092.463 5734407.672, -7623094...</td>\n",
       "    </tr>\n",
       "    <tr>\n",
       "      <th>23568</th>\n",
       "      <td>5.000500e+12</td>\n",
       "      <td>Salmon Stream</td>\n",
       "      <td>0.131</td>\n",
       "      <td>22.253802</td>\n",
       "      <td>16.881235</td>\n",
       "      <td>29.336224</td>\n",
       "      <td>(20, 30]</td>\n",
       "      <td>(10, 20]</td>\n",
       "      <td>(20, 30]</td>\n",
       "      <td>3</td>\n",
       "      <td>0.000076</td>\n",
       "      <td>LINESTRING (-7623094.205 5734389.027, -7623095...</td>\n",
       "    </tr>\n",
       "  </tbody>\n",
       "</table>\n",
       "<p>232170 rows × 12 columns</p>\n",
       "</div>"
      ],
      "text/plain": [
       "          NHDPlusID      GNIS_Name  LengthKM     WidthM  WidthM_Min  \\\n",
       "0      5.000500e+12           None     0.011   3.106102    2.356219   \n",
       "0      5.000500e+12           None     0.011   3.106102    2.356219   \n",
       "0      5.000500e+12           None     0.011   3.106102    2.356219   \n",
       "0      5.000500e+12           None     0.011   3.106102    2.356219   \n",
       "0      5.000500e+12           None     0.011   3.106102    2.356219   \n",
       "...             ...            ...       ...        ...         ...   \n",
       "23568  5.000500e+12  Salmon Stream     0.131  22.253802   16.881235   \n",
       "23568  5.000500e+12  Salmon Stream     0.131  22.253802   16.881235   \n",
       "23568  5.000500e+12  Salmon Stream     0.131  22.253802   16.881235   \n",
       "23568  5.000500e+12  Salmon Stream     0.131  22.253802   16.881235   \n",
       "23568  5.000500e+12  Salmon Stream     0.131  22.253802   16.881235   \n",
       "\n",
       "       WidthM_Max       Bin   Bin_Min   Bin_Max  StreamOrde     Slope  \\\n",
       "0        4.094640   (0, 10]   (0, 10]   (0, 10]           1  0.000010   \n",
       "0        4.094640   (0, 10]   (0, 10]   (0, 10]           1  0.000010   \n",
       "0        4.094640   (0, 10]   (0, 10]   (0, 10]           1  0.000010   \n",
       "0        4.094640   (0, 10]   (0, 10]   (0, 10]           1  0.000010   \n",
       "0        4.094640   (0, 10]   (0, 10]   (0, 10]           1  0.000010   \n",
       "...           ...       ...       ...       ...         ...       ...   \n",
       "23568   29.336224  (20, 30]  (10, 20]  (20, 30]           3  0.000076   \n",
       "23568   29.336224  (20, 30]  (10, 20]  (20, 30]           3  0.000076   \n",
       "23568   29.336224  (20, 30]  (10, 20]  (20, 30]           3  0.000076   \n",
       "23568   29.336224  (20, 30]  (10, 20]  (20, 30]           3  0.000076   \n",
       "23568   29.336224  (20, 30]  (10, 20]  (20, 30]           3  0.000076   \n",
       "\n",
       "                                                segments  \n",
       "0      LINESTRING (-7788776.503 5801117.101, -7788775...  \n",
       "0      LINESTRING (-7788775.187 5801116.262, -7788773...  \n",
       "0      LINESTRING (-7788773.871 5801115.422, -7788772...  \n",
       "0      LINESTRING (-7788772.555 5801114.583, -7788771...  \n",
       "0      LINESTRING (-7788771.24 5801113.743, -7788769....  \n",
       "...                                                  ...  \n",
       "23568  LINESTRING (-7623087.236 5734463.607, -7623088...  \n",
       "23568  LINESTRING (-7623088.978 5734444.962, -7623090...  \n",
       "23568  LINESTRING (-7623090.72 5734426.317, -7623092....  \n",
       "23568  LINESTRING (-7623092.463 5734407.672, -7623094...  \n",
       "23568  LINESTRING (-7623094.205 5734389.027, -7623095...  \n",
       "\n",
       "[232170 rows x 12 columns]"
      ]
     },
     "execution_count": 25,
     "metadata": {},
     "output_type": "execute_result"
    }
   ],
   "source": [
    "test"
   ]
  },
  {
   "cell_type": "code",
   "execution_count": 16,
   "id": "39578d41-5737-4f58-acf0-c272d53d582a",
   "metadata": {},
   "outputs": [
    {
     "data": {
      "text/plain": [
       "<Axes: >"
      ]
     },
     "execution_count": 16,
     "metadata": {},
     "output_type": "execute_result"
    },
    {
     "data": {
      "image/png": "[encoded data removed]",
      "text/plain": [
       "<Figure size 640x480 with 1 Axes>"
      ]
     },
     "metadata": {},
     "output_type": "display_data"
    }
   ],
   "source": [
    "test[40:50].plot(cmap='hsv')\n",
    "# plt.xlim(-7680000, -7640000)\n",
    "# plt.ylim(5520000, 5560000)"
   ]
  }
 ],
 "metadata": {
  "kernelspec": {
   "display_name": "Python [conda env:.conda-narrowPIXC]",
   "language": "python",
   "name": "conda-env-.conda-narrowPIXC-py"
  },
  "language_info": {
   "codemirror_mode": {
    "name": "ipython",
    "version": 3
   },
   "file_extension": ".py",
   "mimetype": "text/x-python",
   "name": "python",
   "nbconvert_exporter": "python",
   "pygments_lexer": "ipython3",
   "version": "3.12.4"
  }
 },
 "nbformat": 4,
 "nbformat_minor": 5
}
