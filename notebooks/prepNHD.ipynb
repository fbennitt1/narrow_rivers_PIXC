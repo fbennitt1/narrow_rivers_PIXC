{
 "cells": [
  {
   "cell_type": "code",
   "execution_count": 36,
   "id": "0b6e12cf-1c9b-4e29-84cd-53563e485c57",
   "metadata": {},
   "outputs": [],
   "source": [
    "import geopandas as gpd\n",
    "import os\n",
    "import pandas as pd\n",
    "import pyarrow as pa"
   ]
  },
  {
   "cell_type": "code",
   "execution_count": 2,
   "id": "f7445790-1f46-4384-851a-53b8d53b22c5",
   "metadata": {},
   "outputs": [],
   "source": [
    "## Set-up\n",
    "data_path = '/nas/cee-water/cjgleason/craig/CONUS_ephemeral_data/'\n",
    "mdata_path = '/nas/cee-water/cjgleason/fiona/narrow_rivers_PIXC/data/'\n",
    "save_path = '../narrow_rivers_PIXC_data/NHD_prepped/'\n",
    "# Max binsize of 1000 is plenty for CONUS w/o lakes\n",
    "# Mississippi is ~472 m wide at mouth as calculated here\n",
    "bins = [0, 10, 20, 30, 40, 50, 60, 70, 80, 90, 100, 150, 200, 500, 1000]"
   ]
  },
  {
   "cell_type": "code",
   "execution_count": 3,
   "id": "3c1c6d72-4b34-4777-bac2-21b58af53b3d",
   "metadata": {},
   "outputs": [],
   "source": [
    "# Define dtypes for lookup tables to preserve leading zeros\n",
    "dtype_dic= {'HUC4': str, 'HUC2': str, 'toBasin': str, 'level': str}\n",
    "# Read in HUC lookup table\n",
    "lookup = pd.read_csv(os.path.join(mdata_path,\n",
    "                                  'HUC4_lookup_no_great_lakes.csv'),\n",
    "                     dtype=dtype_dic)"
   ]
  },
  {
   "cell_type": "code",
   "execution_count": 4,
   "id": "7a7b57bd-5e35-467a-b7c9-457ae9d26b08",
   "metadata": {},
   "outputs": [],
   "source": [
    "# Get slurm job index\n",
    "i = 4"
   ]
  },
  {
   "cell_type": "code",
   "execution_count": 5,
   "id": "b7b5ec4c-aee3-4577-85d5-fb4a9c71170d",
   "metadata": {},
   "outputs": [],
   "source": [
    "# Get current HUC2 and HUC4 IDs\n",
    "huc2 = 'HUC2_' + lookup.loc[i,'HUC4'][0:2]\n",
    "huc4 = 'NHDPLUS_H_' + lookup.loc[i,'HUC4'] + '_HU4_GDB'"
   ]
  },
  {
   "cell_type": "code",
   "execution_count": 6,
   "id": "fe6e356c-1045-4f7b-83ab-a482c173838c",
   "metadata": {},
   "outputs": [],
   "source": [
    "# Set data filepath\n",
    "file_path = os.path.join(data_path, huc2, huc4, huc4 + '.gdb')"
   ]
  },
  {
   "cell_type": "code",
   "execution_count": 7,
   "id": "68fef4a2-ff43-4011-8508-82310b8ea905",
   "metadata": {},
   "outputs": [],
   "source": [
    "# Set write filepath\n",
    "save_path = os.path.join(save_path, huc2)\n",
    "save_file = huc4 + '_prepped.gpkg' ## CHANGE"
   ]
  },
  {
   "cell_type": "code",
   "execution_count": 8,
   "id": "fec1e261-e630-4f52-aed7-9d17b239707a",
   "metadata": {},
   "outputs": [],
   "source": [
    "## Prep Physiographic Regions\n",
    "# https://www.sciencebase.gov/catalog/item/631405bbd34e36012efa304e\n",
    "physio = gpd.read_file(filename=os.path.join(data_path,\n",
    "                                             'other_shapefiles/physio.shp'),\n",
    "                       engine='pyogrio')\n",
    "# Set CRS to Web Mercator\n",
    "physio = physio.to_crs(epsg=3857)\n",
    "# Dissolve provinces by division\n",
    "physio = physio.dissolve(by='DIVISION').reset_index()\n",
    "# Drop all columns besides division and geometry\n",
    "physio = physio[['DIVISION', 'geometry']]"
   ]
  },
  {
   "cell_type": "code",
   "execution_count": 9,
   "id": "b2b63994-562f-4156-91a3-a62e84974ef3",
   "metadata": {},
   "outputs": [],
   "source": [
    "## Get bankfull width coefficients from Bieber et al. 2015, Table 3\n",
    "bankfull = pd.read_csv(os.path.join(mdata_path,\n",
    "                                    'bieger_2015_bankfull_width.csv'))"
   ]
  },
  {
   "cell_type": "code",
   "execution_count": 11,
   "id": "6d54ed22-2f48-467d-83f4-6d9801b625a0",
   "metadata": {},
   "outputs": [
    {
     "name": "stderr",
     "output_type": "stream",
     "text": [
      "/work/pi_cjgleason_umass_edu/.conda/envs/narrowPIXC/lib/python3.12/site-packages/pyogrio/raw.py:196: UserWarning: Measured (M) geometry types are not supported. Original type 'Measured 3D MultiLineString' is converted to 'MultiLineString Z'\n",
      "  return ogr_read(\n"
     ]
    }
   ],
   "source": [
    "## Merging\n",
    "# Read in NHD flowlines\n",
    "basin = gpd.read_file(filename=file_path, layer='NHDFlowline', engine='pyogrio')\n",
    "# Set CRS to Pseudo-Mercator https://epsg.io/3857\n",
    "basin = basin.to_crs(epsg=3857)"
   ]
  },
  {
   "cell_type": "code",
   "execution_count": 12,
   "id": "c424c460-1b83-4cd0-a49f-980b9dd83a32",
   "metadata": {},
   "outputs": [],
   "source": [
    "# Read in VAA\n",
    "vaa = gpd.read_file(filename=file_path, layer='NHDPlusFlowlineVAA', engine='pyogrio')\n",
    "# Merge on VAA\n",
    "basin = basin.merge(right=vaa, how='inner', on=['NHDPlusID', 'VPUID', 'ReachCode'])\n",
    "# Read in EROMMA\n",
    "eromma = gpd.read_file(filename=file_path, layer='NHDPlusEROMMA', engine='pyogrio')\n",
    "# Merge on EROMMA\n",
    "basin = basin.merge(right=eromma, how='inner', on=['NHDPlusID', 'VPUID'])"
   ]
  },
  {
   "cell_type": "code",
   "execution_count": 13,
   "id": "8c5bd69c-65b7-4cc2-b0cc-e6a1cffd2f63",
   "metadata": {},
   "outputs": [],
   "source": [
    "## Filtering\n",
    "# Read in NHD Waterbody polygons\n",
    "area = gpd.read_file(filename=file_path, layer='NHDWaterbody',\n",
    "                     columns=['NHDPlusID', 'geometry'], engine='pyogrio')\n",
    "# Set CRS to Pseudo-Mercator https://epsg.io/3857\n",
    "area = area.to_crs(epsg=3857)"
   ]
  },
  {
   "cell_type": "code",
   "execution_count": 14,
   "id": "7126c08d-2d27-47df-b967-485ceb01717f",
   "metadata": {},
   "outputs": [],
   "source": [
    "# Find all flowlines within waterbodies\n",
    "subset = basin.sjoin(df=area, how='inner', predicate='within')\n",
    "# Get IDs of these flowlines\n",
    "ids = subset.NHDPlusID_left.to_list()"
   ]
  },
  {
   "cell_type": "code",
   "execution_count": 15,
   "id": "301a36e4-d41a-4f1f-a844-c52730e0ac03",
   "metadata": {},
   "outputs": [],
   "source": [
    "# Drop reaches within waterbodies\n",
    "basin = basin[~basin.NHDPlusID.isin(ids)]\n",
    "# Drop reaches that aren't stream types or artificial path\n",
    "basin = basin.loc[(basin.FType == 460) | (basin.FType == 558)]\n",
    "# Drop reaches that are terminal paths\n",
    "basin = basin.loc[basin.TerminalFl == 0]\n",
    "# Drop reaches with discharge of zero\n",
    "basin = basin.loc[basin.QBMA > 0]\n",
    "# Drop reaches with stream order of zero\n",
    "basin = basin.loc[basin.StreamOrde > 0]"
   ]
  },
  {
   "cell_type": "code",
   "execution_count": 16,
   "id": "750c9739-93f3-45d3-95a8-9bb0bd50bb26",
   "metadata": {},
   "outputs": [],
   "source": [
    "## Find the physiographic division each reach is within\n",
    "# Note: there is broken topology even after the dissolve,\n",
    "# and neither shapely nor sf fully repaired it\n",
    "basin = basin.sjoin(df=physio, how='left',\n",
    "                    predicate='intersects').drop(columns='index_right')\n",
    "# Drop all reaches where DIVISION == NaN (in Canada and at the coasts)\n",
    "basin = basin[~basin.DIVISION.isnull()]"
   ]
  },
  {
   "cell_type": "code",
   "execution_count": 18,
   "id": "cac30fed-b91e-4a83-acdb-ab8a797e0c86",
   "metadata": {},
   "outputs": [],
   "source": [
    "## Get bankfull widths\n",
    "# Merge on bankfull width coefficient\n",
    "basin = basin.merge(bankfull, on='DIVISION', how='left')\n",
    "# Calculate width from cumulative drainage area\n",
    "basin['WidthM'] = basin.a*basin.TotDASqKm**basin.b"
   ]
  },
  {
   "cell_type": "code",
   "execution_count": 24,
   "id": "8426485c-3b42-4eff-9b58-f43590c151c8",
   "metadata": {},
   "outputs": [],
   "source": [
    "### NEW\n",
    "# Calculate the multiplicative factor from the standard error\n",
    "# of estimate for each physiographic division (SEEpd) by exponentiation\n",
    "basin['mul_factor'] = 10**basin.see_phys\n",
    "# Calculate the min width of each reach\n",
    "basin['WidthM_Min'] = basin.WidthM/basin.mul_factor\n",
    "# Calculate the max width of each basin\n",
    "basin['WidthM_Max'] = basin.WidthM*basin.mul_factor"
   ]
  },
  {
   "cell_type": "code",
   "execution_count": 39,
   "id": "a2fa0893-f26c-4570-8aa4-51c1934c0bb0",
   "metadata": {},
   "outputs": [],
   "source": [
    "# Drop reaches that are shorter than their width\n",
    "basin = basin[basin['LengthKM']*1000 > basin['WidthM']]"
   ]
  },
  {
   "cell_type": "code",
   "execution_count": 43,
   "id": "96e6b9c4-49c1-4e06-8511-ae682e8ee660",
   "metadata": {},
   "outputs": [
    {
     "name": "stderr",
     "output_type": "stream",
     "text": [
      "/work/pi_cjgleason_umass_edu/.conda/envs/narrowPIXC/lib/python3.12/site-packages/geopandas/geodataframe.py:1819: SettingWithCopyWarning: \n",
      "A value is trying to be set on a copy of a slice from a DataFrame.\n",
      "Try using .loc[row_indexer,col_indexer] = value instead\n",
      "\n",
      "See the caveats in the documentation: https://pandas.pydata.org/pandas-docs/stable/user_guide/indexing.html#returning-a-view-versus-a-copy\n",
      "  super().__setitem__(key, value)\n"
     ]
    }
   ],
   "source": [
    "## Bin reaches by width, set to string for parquet\n",
    "basin['Bin'] = pd.cut(basin['WidthM'], bins).astype(str)\n",
    "basin['Bin_Min'] = pd.cut(basin['WidthM_Min'], bins).astype(str)\n",
    "basin['Bin_Max'] = pd.cut(basin['WidthM_Max'], bins).astype(str)"
   ]
  },
  {
   "cell_type": "code",
   "execution_count": 34,
   "id": "51226748-cbb9-4556-a6d0-c046e0be713d",
   "metadata": {},
   "outputs": [],
   "source": [
    "pd.set_option('display.max_rows', 95)"
   ]
  },
  {
   "cell_type": "code",
   "execution_count": 45,
   "id": "b8e6cfcd-aa8b-4ae4-a5a1-008a1aa299aa",
   "metadata": {},
   "outputs": [
    {
     "data": {
      "text/plain": [
       "Permanent_Identifier                 object\n",
       "FDate                   datetime64[ms, UTC]\n",
       "Resolution                            int32\n",
       "GNIS_ID                              object\n",
       "GNIS_Name                            object\n",
       "                               ...         \n",
       "WidthM                              float64\n",
       "mul_factor                          float64\n",
       "WidthM_Min                          float64\n",
       "WidthM_Max                          float64\n",
       "Bin                                  object\n",
       "Length: 96, dtype: object"
      ]
     },
     "execution_count": 45,
     "metadata": {},
     "output_type": "execute_result"
    }
   ],
   "source": [
    "basin.dtypes"
   ]
  }
 ],
 "metadata": {
  "kernelspec": {
   "display_name": "Python [conda env:.conda-narrowPIXC]",
   "language": "python",
   "name": "conda-env-.conda-narrowPIXC-py"
  },
  "language_info": {
   "codemirror_mode": {
    "name": "ipython",
    "version": 3
   },
   "file_extension": ".py",
   "mimetype": "text/x-python",
   "name": "python",
   "nbconvert_exporter": "python",
   "pygments_lexer": "ipython3",
   "version": "3.12.4"
  }
 },
 "nbformat": 4,
 "nbformat_minor": 5
}
