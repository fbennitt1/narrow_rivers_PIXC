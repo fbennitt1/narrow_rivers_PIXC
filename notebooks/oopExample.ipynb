{
 "cells": [
  {
   "cell_type": "markdown",
   "id": "5479057a-3c05-43a7-bd98-490b0a2e4234",
   "metadata": {},
   "source": [
    "### Object Oriented"
   ]
  },
  {
   "cell_type": "code",
   "execution_count": 1,
   "id": "accaa2bb-8200-4740-9638-4b27ba524acf",
   "metadata": {},
   "outputs": [],
   "source": [
    "class Student(object):\n",
    "    def __init__(self, name, age, gender, level, grades=None):\n",
    "        self.name = name\n",
    "        self.age = age\n",
    "        self.gender = gender\n",
    "        self.level = level\n",
    "        self.grades = grades or {}\n",
    "\n",
    "    def setGrade(self, course, grade):\n",
    "        self.grades[course] = grade\n",
    "\n",
    "    def getGrade(self, course):\n",
    "        return self.grades[course]\n",
    "\n",
    "    def getGPA(self):\n",
    "        return sum(self.grades.values())/len(self.grades)"
   ]
  },
  {
   "cell_type": "code",
   "execution_count": 2,
   "id": "b0003923-97bf-4f0d-a807-87af3fe958f7",
   "metadata": {},
   "outputs": [],
   "source": [
    "# Define some students\n",
    "john = Student(\"John\", 12, \"male\", 6, {\"math\":3.3})\n",
    "jane = Student(\"Jane\", 12, \"female\", 6, {\"math\":3.5})"
   ]
  },
  {
   "cell_type": "code",
   "execution_count": 10,
   "id": "7da0240c-207e-4804-844a-249a42649672",
   "metadata": {},
   "outputs": [
    {
     "name": "stdout",
     "output_type": "stream",
     "text": [
      "3.3\n",
      "3.5\n"
     ]
    }
   ],
   "source": [
    "# Now we can get to the grades easily\n",
    "print(john.getGPA())\n",
    "print(jane.getGPA())"
   ]
  },
  {
   "cell_type": "markdown",
   "id": "8e871e93-500b-4634-bd73-47f38f0fa030",
   "metadata": {},
   "source": [
    "### Standard Dict"
   ]
  },
  {
   "cell_type": "code",
   "execution_count": 11,
   "id": "12957a8d-32f1-49a6-952d-fe3afa135647",
   "metadata": {},
   "outputs": [],
   "source": [
    "def calculateGPA(gradeDict):\n",
    "    return sum(gradeDict.values())/len(gradeDict)"
   ]
  },
  {
   "cell_type": "code",
   "execution_count": 12,
   "id": "aa8f2de4-a107-411b-9aff-4688d4dacb49",
   "metadata": {},
   "outputs": [],
   "source": [
    "students = {}"
   ]
  },
  {
   "cell_type": "code",
   "execution_count": 13,
   "id": "39b9cf57-9746-4dce-8a26-a9ab7c0b62ac",
   "metadata": {},
   "outputs": [],
   "source": [
    "# We can set the keys to variables so we might minimize typos\n",
    "name, age, gender, level, grades = \"name\", \"age\", \"gender\", \"level\", \"grades\"\n",
    "john, jane = \"john\", \"jane\"\n",
    "math = \"math\"\n",
    "students[john] = {}\n",
    "students[john][age] = 12\n",
    "students[john][gender] = \"male\"\n",
    "students[john][level] = 6\n",
    "students[john][grades] = {math:3.3}\n",
    "\n",
    "students[jane] = {}\n",
    "students[jane][age] = 12\n",
    "students[jane][gender] = \"female\"\n",
    "students[jane][level] = 6\n",
    "students[jane][grades] = {math:3.5}"
   ]
  },
  {
   "cell_type": "code",
   "execution_count": 14,
   "id": "c91fc777-2860-4fdf-8786-2cac003494d3",
   "metadata": {},
   "outputs": [
    {
     "name": "stdout",
     "output_type": "stream",
     "text": [
      "3.3\n",
      "3.5\n"
     ]
    }
   ],
   "source": [
    "# At this point, we need to remember who the students are and where the grades are stored. Not a huge deal, but avoided by OOP.\n",
    "print(calculateGPA(students[john][grades]))\n",
    "print(calculateGPA(students[jane][grades]))"
   ]
  }
 ],
 "metadata": {
  "kernelspec": {
   "display_name": "Python [conda env:.conda-narrowPIXC]",
   "language": "python",
   "name": "conda-env-.conda-narrowPIXC-py"
  },
  "language_info": {
   "codemirror_mode": {
    "name": "ipython",
    "version": 3
   },
   "file_extension": ".py",
   "mimetype": "text/x-python",
   "name": "python",
   "nbconvert_exporter": "python",
   "pygments_lexer": "ipython3",
   "version": "3.12.4"
  }
 },
 "nbformat": 4,
 "nbformat_minor": 5
}
