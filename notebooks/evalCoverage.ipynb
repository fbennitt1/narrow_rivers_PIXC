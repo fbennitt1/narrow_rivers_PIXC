{
 "cells": [
  {
   "cell_type": "code",
   "execution_count": 1,
   "id": "054ba1e0-d7ac-4524-a659-1e46d3219143",
   "metadata": {
    "tags": []
   },
   "outputs": [],
   "source": [
    "from argparse import ArgumentParser\n",
    "import os\n",
    "import sys\n",
    "import time\n",
    "\n",
    "import dask.dataframe as dd\n",
    "import dask_geopandas\n",
    "import geopandas as gpd\n",
    "import matplotlib.pyplot as plt\n",
    "import numpy as np\n",
    "import pandas as pd\n",
    "import rasterio\n",
    "import shapely\n",
    "import xarray as xr\n",
    "\n",
    "# from matplotlib import colors\n",
    "from pandarallel import pandarallel\n",
    "from scipy import stats\n",
    "\n",
    "sys.path.insert(1, '../scripts/')\n",
    "from reaches import *\n",
    "from utils import *"
   ]
  },
  {
   "cell_type": "markdown",
   "id": "7738211e-0067-4356-a77d-bddee1b036e0",
   "metadata": {},
   "source": [
    "### Parse arguments"
   ]
  },
  {
   "cell_type": "code",
   "execution_count": 2,
   "id": "9c28b14c-e137-4864-b7a1-326396a644eb",
   "metadata": {},
   "outputs": [],
   "source": [
    "# FOR NOW, SET\n",
    "width_set = 'mean'\n",
    "\n",
    "# Control flow\n",
    "if width_set == 'mean':\n",
    "    width = 'WidthM'\n",
    "    binn = 'Bin'\n",
    "elif width_set == 'min':\n",
    "    width = 'WidthM_Min'\n",
    "    binn = 'Bin_Min'\n",
    "elif width_set == 'max':\n",
    "    width = 'WidthM_Max'\n",
    "    binn = 'Bin_Max'\n",
    "else:\n",
    "    print('Invalid width option specified, exiting.')\n",
    "    # sys.exit()"
   ]
  },
  {
   "cell_type": "code",
   "execution_count": 3,
   "id": "5330fb44-4474-48e8-b3f9-497e8848ca7c",
   "metadata": {},
   "outputs": [],
   "source": [
    "huc2 = '15' # '01' ### SET THIS\n",
    "data_path = '/nas/cee-water/cjgleason/data/SWOT/PIXC_v2_0_HUC2_' + huc2\n",
    "# save_dir ="
   ]
  },
  {
   "cell_type": "markdown",
   "id": "0c54b76a-2171-4a4b-92f5-e4b3f4f3f8df",
   "metadata": {
    "tags": []
   },
   "source": [
    "### Pixel Cloud"
   ]
  },
  {
   "cell_type": "code",
   "execution_count": 4,
   "id": "5bc56ba8-11e0-4b21-8829-1fce78256846",
   "metadata": {},
   "outputs": [],
   "source": [
    "# Get job index\n",
    "# slurm = int(os.environ['SLURM_ARRAY_TASK_ID'])\n",
    "index = 2517 # 106"
   ]
  },
  {
   "cell_type": "code",
   "execution_count": 5,
   "id": "e7c349c8-83b0-4735-9d3d-c98d4edba32e",
   "metadata": {},
   "outputs": [],
   "source": [
    "mdata_path = '/nas/cee-water/cjgleason/fiona/narrow_rivers_PIXC/data/' ## HERE\n",
    "file_path = os.path.join(mdata_path, 'PIXC_v2_0_HUC2_' + huc2 + '_filtered.json') ## HERE\n",
    "data = open_json(file_path)"
   ]
  },
  {
   "cell_type": "code",
   "execution_count": 6,
   "id": "85b6f73f-964f-4bda-a324-b6d4e710dc4d",
   "metadata": {},
   "outputs": [],
   "source": [
    "file_name = data[index]"
   ]
  },
  {
   "cell_type": "code",
   "execution_count": 7,
   "id": "900dad6e-8c22-4a17-a2f7-37ef07f35ca7",
   "metadata": {},
   "outputs": [
    {
     "name": "stdout",
     "output_type": "stream",
     "text": [
      "SWOT_L2_HR_PIXC_009_511_219L_20240122T092851_20240122T092902_PGC0_01\n"
     ]
    }
   ],
   "source": [
    "# Get data for this tile\n",
    "granule_name = file_name[:-3]\n",
    "tile_name = file_name[20:28]\n",
    "pass_num = int(file_name[20:23])\n",
    "\n",
    "print(granule_name)"
   ]
  },
  {
   "cell_type": "markdown",
   "id": "974aa2a9-a339-4bc6-9b58-9e6e7c6ec405",
   "metadata": {
    "tags": []
   },
   "source": [
    "#### Read in PIXC"
   ]
  },
  {
   "cell_type": "code",
   "execution_count": 8,
   "id": "b6a2ddd5-b8ce-4b2d-8e04-12e41eecc1ce",
   "metadata": {},
   "outputs": [],
   "source": [
    "# Set PIXC filepath\n",
    "pixc_path = os.path.join(data_path, file_name)"
   ]
  },
  {
   "cell_type": "code",
   "execution_count": 9,
   "id": "aefb478b-ff8b-41b4-9576-0fdf0ba0a9c0",
   "metadata": {},
   "outputs": [],
   "source": [
    "# Read in pixel group\n",
    "ds_PIXC = xr.open_dataset(filename_or_obj=pixc_path,\n",
    "                          group='pixel_cloud', engine='h5netcdf')"
   ]
  },
  {
   "cell_type": "code",
   "execution_count": 10,
   "id": "daa9c587-4d39-40f3-9a7f-374fed33b165",
   "metadata": {},
   "outputs": [],
   "source": [
    "# Set desired data vars\n",
    "\n",
    "## HERE CLEAN UP\n",
    "\n",
    "variables = ['cross_track', 'water_frac',\n",
    "             'pixel_area', 'height', 'geoid', 'solid_earth_tide', ## HERE\n",
    "             'load_tide_fes', 'pole_tide', 'prior_water_prob', ## HERE\n",
    "             # 'phase_noise_std', 'dheight_dphase', ## HERE\n",
    "             'classification_qual', 'geolocation_qual', ## HERE\n",
    "             'classification']"
   ]
  },
  {
   "cell_type": "code",
   "execution_count": 11,
   "id": "ed0d7129-21fd-4865-8b35-4ff2afc93f9d",
   "metadata": {},
   "outputs": [],
   "source": [
    "def bitwiseMask(ds):\n",
    "    '''\n",
    "    This function masks a PIXC granules: for now, it ony remove pixels\n",
    "    with land classification and those with bad geolocation_qual.\n",
    "    # See page 65 of PIXC PDD: https://podaac.jpl.nasa.gov/SWOT?tab=datasets-information&sections=about%2Bdata\n",
    "    '''\n",
    "    # Fow now, eliminate the bad stuff\n",
    "    mask = np.where((ds.classification > 1) & \n",
    "                    (ds.interferogram_qual < 2**16) & (ds.classification_qual < 2**16) & ## HERE\n",
    "                    (ds.geolocation_qual < 2**16) & (ds.sig0_qual < 2**16) &  ## HERE\n",
    "                    (np.abs(ds.cross_track) > 10000) & (np.abs(ds.cross_track) < 60000))[0]\n",
    "    \n",
    "    print(mask.shape)\n",
    "    return mask"
   ]
  },
  {
   "cell_type": "code",
   "execution_count": 12,
   "id": "993471a7-b1b5-41bc-8401-1a03c47fe554",
   "metadata": {},
   "outputs": [
    {
     "name": "stdout",
     "output_type": "stream",
     "text": [
      "(597484,)\n"
     ]
    }
   ],
   "source": [
    "# Make mask\n",
    "mask = bitwiseMask(ds_PIXC)\n",
    "\n",
    "if mask.shape[0] == 0:\n",
    "    print('This granule has no pixels after masking, exiting.')\n",
    "    # sys.exit(1)    "
   ]
  },
  {
   "cell_type": "code",
   "execution_count": 13,
   "id": "37bc9371-c418-4578-851d-950ee3261a55",
   "metadata": {},
   "outputs": [],
   "source": [
    "# Convert PIXC to GeoDataFrame\n",
    "gdf_PIXC = makeGDF(ds=ds_PIXC, mask=mask, data_vars=variables)"
   ]
  },
  {
   "cell_type": "code",
   "execution_count": 14,
   "id": "56a549dd-36cd-4030-84e1-359ec3e377fe",
   "metadata": {},
   "outputs": [],
   "source": [
    "del ds_PIXC"
   ]
  },
  {
   "cell_type": "code",
   "execution_count": 15,
   "id": "6d0d3d44-3402-4fce-8245-65bfbae94134",
   "metadata": {},
   "outputs": [],
   "source": [
    "gdf_PIXC = gdf_PIXC.drop(columns=['latitude', 'longitude'])"
   ]
  },
  {
   "cell_type": "code",
   "execution_count": 16,
   "id": "4f821e87-a70c-491d-9f62-a77d1e208f9d",
   "metadata": {},
   "outputs": [],
   "source": [
    "## Flag as-in RiverSP ## HERE\n",
    "gdf_PIXC['geo_qual_wse_suspect'] = 0\n",
    "gdf_PIXC['geo_qual_wse_suspect'] = np.where((gdf_PIXC['geolocation_qual'] >=2**7),\n",
    "                                            1, gdf_PIXC['geo_qual_wse_suspect'])\n",
    "\n",
    "gdf_PIXC['class_qual_area_suspect'] = 0\n",
    "gdf_PIXC['class_qual_area_suspect'] = np.where((gdf_PIXC['classification_qual'] >=2**7),\n",
    "                                            1, gdf_PIXC['geo_qual_wse_suspect'])\n",
    "\n",
    "gdf_PIXC = gdf_PIXC.drop(columns=['geolocation_qual', 'classification_qual'])"
   ]
  },
  {
   "cell_type": "code",
   "execution_count": 17,
   "id": "eb0264a5-efa3-4561-a4cc-e8bd366d196d",
   "metadata": {},
   "outputs": [],
   "source": [
    "## Make indicator for wse aggregation\n",
    "# (don't use lane_near_water or dark_water)\n",
    "wse_klass = [3.0, 4.0, 6.0, 7.0]\n",
    "\n",
    "gdf_PIXC['agg_wse'] = 0\n",
    "gdf_PIXC.loc[gdf_PIXC['klass'].isin(wse_klass), 'agg_wse'] = 1"
   ]
  },
  {
   "cell_type": "code",
   "execution_count": 18,
   "id": "0610afe2-b21e-4788-a372-eb653dcb9604",
   "metadata": {},
   "outputs": [],
   "source": [
    "# Calculate wse\n",
    "gdf_PIXC['wse'] = gdf_PIXC.height - gdf_PIXC.geoid - gdf_PIXC.solid_earth_tide - gdf_PIXC.load_tide_fes - gdf_PIXC.pole_tide\n",
    "gdf_PIXC = gdf_PIXC.drop(columns=['height', 'geoid', 'solid_earth_tide', 'load_tide_fes', 'pole_tide'])"
   ]
  },
  {
   "cell_type": "markdown",
   "id": "67de04c0-8e96-4b5d-be2b-0ca295d75273",
   "metadata": {},
   "source": [
    "### Find correct HUC4s"
   ]
  },
  {
   "cell_type": "code",
   "execution_count": 19,
   "id": "af1db866-f656-41d6-bde7-383044114334",
   "metadata": {},
   "outputs": [],
   "source": [
    "### NHDPlus HR\n",
    "## Find correct HUC4s\n",
    "# Read in tile and HUC4 intersection data\n",
    "dtype_dic= {'tile': str, 'huc4': str, 'coverage': float}\n",
    "tile_huc4 = pd.read_csv(os.path.join(mdata_path,\n",
    "                                    'huc4_swot_science_tiles.csv'),\n",
    "                        dtype=dtype_dic)"
   ]
  },
  {
   "cell_type": "code",
   "execution_count": 20,
   "id": "6c241cb3-e5b4-43b8-86f2-9d8c0afdff10",
   "metadata": {},
   "outputs": [],
   "source": [
    "# Make list of HUC4s that intersect the tile\n",
    "huc4s = list(tile_huc4[(tile_huc4['tile'] == tile_name)]['huc4'])\n",
    "# Limit to the current HUC2\n",
    "huc4s = [x for x in huc4s if x.startswith(huc2)]"
   ]
  },
  {
   "cell_type": "code",
   "execution_count": 21,
   "id": "b3f10eef-a276-4e9b-be59-cb695da44ad8",
   "metadata": {},
   "outputs": [
    {
     "data": {
      "text/plain": [
       "['1501']"
      ]
     },
     "execution_count": 21,
     "metadata": {},
     "output_type": "execute_result"
    }
   ],
   "source": [
    "huc4s"
   ]
  },
  {
   "cell_type": "markdown",
   "id": "8e4a50c6-9306-4d1e-853a-739263c0fe9e",
   "metadata": {
    "tags": []
   },
   "source": [
    "### Read in buffered flowlines (with extra 32 m on each side to capture full pseudo-pixels)"
   ]
  },
  {
   "cell_type": "code",
   "execution_count": 22,
   "id": "1606b8aa-f3b1-4d4c-b945-d3f64a65635c",
   "metadata": {},
   "outputs": [],
   "source": [
    "data_path = '/nas/cee-water/cjgleason/fiona/narrow_rivers_PIXC_data/NHD_prepped_buffered/HUC2_' + huc2 + '/'\n",
    "# file_paths = getFilepaths(data_path, huc2, huc4s, width_set)"
   ]
  },
  {
   "cell_type": "code",
   "execution_count": 23,
   "id": "65424f7d-18c2-495a-a519-616367cf1859",
   "metadata": {},
   "outputs": [],
   "source": [
    "file_paths = []\n",
    "\n",
    "for huc in huc4s:\n",
    "    file_path = data_path + 'NHDPLUS_H_' + huc + '_HU4_GDB_prepped_buffered_' + width_set + '.parquet'\n",
    "    file_paths.append(file_path)"
   ]
  },
  {
   "cell_type": "code",
   "execution_count": 24,
   "id": "f2194e9d-329b-4887-bbf9-f06bc24f6dd5",
   "metadata": {},
   "outputs": [],
   "source": [
    "reach_mask = dask_geopandas.read_parquet(path=file_paths, columns=['NHDPlusID',\n",
    "                                                                   width, binn,\n",
    "                                                                   'Slope', 'LengthKM',\n",
    "                                                                   'buffers'])"
   ]
  },
  {
   "cell_type": "code",
   "execution_count": 25,
   "id": "bba945ae-9efd-4603-a810-19ebb76a2c76",
   "metadata": {},
   "outputs": [],
   "source": [
    "reach_mask = reach_mask.compute()"
   ]
  },
  {
   "cell_type": "code",
   "execution_count": 26,
   "id": "d30b2202-6fc8-441d-a37d-50cca6e4352f",
   "metadata": {},
   "outputs": [],
   "source": [
    "# Clip masked pixels to buffered reaches with extra width\n",
    "gdf_PIXC = gpd.sjoin(gdf_PIXC, reach_mask, how='inner', predicate='within').reset_index().drop(columns=['index', 'index_right'])"
   ]
  },
  {
   "cell_type": "code",
   "execution_count": 27,
   "id": "2ce0ed83-fac7-49c0-a144-56cc42745e38",
   "metadata": {},
   "outputs": [],
   "source": [
    "if gdf_PIXC.shape[0] == 0:\n",
    "    print('This granule has no pixels that intersect reaches, exiting.')\n",
    "    # sys.exit() "
   ]
  },
  {
   "cell_type": "code",
   "execution_count": 28,
   "id": "dfe54ee0-9241-4b63-b074-8985362fb714",
   "metadata": {},
   "outputs": [],
   "source": [
    "del reach_mask"
   ]
  },
  {
   "cell_type": "code",
   "execution_count": 29,
   "id": "317384ec-644b-4d4c-a628-b71ace2a9594",
   "metadata": {},
   "outputs": [],
   "source": [
    "# # Get NIDs of reaches with pixels in them\n",
    "# ids = gdf_PIXC['NHDPlusID'].unique()"
   ]
  },
  {
   "cell_type": "markdown",
   "id": "fc9eeeb2-fd9b-45d9-ab6c-9397dcef04b0",
   "metadata": {
    "tags": []
   },
   "source": [
    "### Nadir track (a quick detour so we can delete the flowlines ASAP)"
   ]
  },
  {
   "cell_type": "code",
   "execution_count": 30,
   "id": "3296b62c-896b-49d9-a09f-9795daaedb2e",
   "metadata": {},
   "outputs": [],
   "source": [
    "# Get single pixel for selecting correct nadir segment\n",
    "pixel_pt = gdf_PIXC.iloc[0].geometry"
   ]
  },
  {
   "cell_type": "code",
   "execution_count": 31,
   "id": "16ed2efd-7ef6-432d-bbcb-f93e6dd58a0f",
   "metadata": {},
   "outputs": [
    {
     "name": "stderr",
     "output_type": "stream",
     "text": [
      "/work/pi_cjgleason_umass_edu/.conda/envs/narrowPIXC/lib/python3.12/site-packages/geopandas/geodataframe.py:1819: SettingWithCopyWarning: \n",
      "A value is trying to be set on a copy of a slice from a DataFrame.\n",
      "Try using .loc[row_indexer,col_indexer] = value instead\n",
      "\n",
      "See the caveats in the documentation: https://pandas.pydata.org/pandas-docs/stable/user_guide/indexing.html#returning-a-view-versus-a-copy\n",
      "  super().__setitem__(key, value)\n"
     ]
    }
   ],
   "source": [
    "# Find correct nadir segment and return its geometry\n",
    "nadir_segment_ln = findNadir(pass_num=pass_num, pixel_pt=pixel_pt)"
   ]
  },
  {
   "cell_type": "code",
   "execution_count": 32,
   "id": "9905e16d-e514-4d9d-9f22-9c8d76c8853e",
   "metadata": {},
   "outputs": [],
   "source": [
    "del pixel_pt"
   ]
  },
  {
   "cell_type": "markdown",
   "id": "f019a98d-4518-4262-9ee7-9a5ab5a598b0",
   "metadata": {
    "tags": []
   },
   "source": [
    "### Find alignment"
   ]
  },
  {
   "cell_type": "code",
   "execution_count": 33,
   "id": "353125db-2adb-4d2b-b552-ade3d723f735",
   "metadata": {},
   "outputs": [],
   "source": [
    "az_nadir = calcAzimuth(line=nadir_segment_ln)"
   ]
  },
  {
   "cell_type": "markdown",
   "id": "450a7e1b-7780-41e8-b693-aae9ba61424d",
   "metadata": {
    "tags": []
   },
   "source": [
    "### Find coverage"
   ]
  },
  {
   "cell_type": "markdown",
   "id": "ba5b8466-17b1-4fbd-aeb0-07fc68ab1a50",
   "metadata": {
    "tags": []
   },
   "source": [
    "#### Make pseudo pixels"
   ]
  },
  {
   "cell_type": "code",
   "execution_count": 34,
   "id": "551e670e-f660-4137-b0ad-555e44b9a7a1",
   "metadata": {},
   "outputs": [],
   "source": [
    "# Set along-track pixel resolution\n",
    "azimuth_res = 22 # meters"
   ]
  },
  {
   "cell_type": "code",
   "execution_count": 35,
   "id": "ba501c81-d4cb-40f0-9329-ebe5972c1fa9",
   "metadata": {},
   "outputs": [
    {
     "name": "stdout",
     "output_type": "stream",
     "text": [
      "INFO: Pandarallel will run on 4 workers.\n",
      "INFO: Pandarallel will use Memory file system to transfer data between the main process and workers.\n"
     ]
    }
   ],
   "source": [
    "pandarallel.initialize(nb_workers=int(os.environ.get('SLURM_CPUS_PER_TASK')))"
   ]
  },
  {
   "cell_type": "code",
   "execution_count": 36,
   "id": "e02693f9-c2f3-4565-a13c-9eb6ed15226f",
   "metadata": {},
   "outputs": [],
   "source": [
    "gdf_PIXC_cov = gdf_PIXC[['points', 'pixel_area', 'geometry']].copy()"
   ]
  },
  {
   "cell_type": "code",
   "execution_count": 37,
   "id": "b55b182b-82e9-4931-a2f6-bb21f8760149",
   "metadata": {},
   "outputs": [
    {
     "name": "stdout",
     "output_type": "stream",
     "text": [
      "2.830976724624634\n"
     ]
    }
   ],
   "source": [
    "# Make pseudo pixels\n",
    "start = time.time()\n",
    "gdf_PIXC_cov['pseudo_pixel'] = gdf_PIXC_cov.parallel_apply(user_defined_function=makePseudoPixels,\n",
    "                                                   args=(nadir_segment_ln,\n",
    "                                                         azimuth_res),\n",
    "                                                         axis=1)\n",
    "end = time.time()\n",
    "print(end - start)"
   ]
  },
  {
   "cell_type": "code",
   "execution_count": 38,
   "id": "ba9336f7-0dd9-43d4-8890-998ee2d619df",
   "metadata": {},
   "outputs": [],
   "source": [
    "del nadir_segment_ln"
   ]
  },
  {
   "cell_type": "code",
   "execution_count": 39,
   "id": "e876d8aa-3055-4632-8cce-098926468f89",
   "metadata": {},
   "outputs": [],
   "source": [
    "gdf_PIXC_cov = gdf_PIXC_cov.rename(columns={'geometry': 'pixel_centroid'}).set_geometry('pseudo_pixel').set_crs(epsg=3857)"
   ]
  },
  {
   "cell_type": "code",
   "execution_count": 40,
   "id": "82a8f1dd-da0d-4f28-b61c-9c2c07c78948",
   "metadata": {},
   "outputs": [],
   "source": [
    "# gdf_PIXC_cov = gdf_PIXC_cov.drop(columns='pixel_centroid')"
   ]
  },
  {
   "cell_type": "code",
   "execution_count": 41,
   "id": "17fa13af-60b3-461f-9ad7-b4182e728520",
   "metadata": {},
   "outputs": [],
   "source": [
    "# Get bounds of PIXC tile\n",
    "pseudo_bounds = gdf_PIXC_cov.total_bounds"
   ]
  },
  {
   "cell_type": "code",
   "execution_count": 42,
   "id": "240322f8-f90d-4653-b065-07158a2786e5",
   "metadata": {},
   "outputs": [],
   "source": [
    "# Copy geometry column as sjoin will discard it\n",
    "gdf_PIXC_cov['pseudo_geom'] = gdf_PIXC_cov.geometry # DO I NEED THIS"
   ]
  },
  {
   "cell_type": "markdown",
   "id": "8643b805-4a2c-4ea7-bbf0-5112cf3061e4",
   "metadata": {},
   "source": [
    "#### Read in buffered segments"
   ]
  },
  {
   "cell_type": "code",
   "execution_count": 43,
   "id": "b8ef5326-5cf2-4240-a1c8-48ef64066730",
   "metadata": {},
   "outputs": [],
   "source": [
    "data_path = '/nas/cee-water/cjgleason/fiona/narrow_rivers_PIXC_data/NHD_prepped_segmented_buffered/HUC2_' + huc2 + '/'"
   ]
  },
  {
   "cell_type": "code",
   "execution_count": 44,
   "id": "d7c3b8a2-b85a-476b-8eb6-1b28ab602a47",
   "metadata": {},
   "outputs": [],
   "source": [
    "file_paths = []\n",
    "\n",
    "for huc in huc4s:\n",
    "    file_path = data_path + 'NHDPLUS_H_' + huc + '_HU4_GDB_prepped_segmented_buffered_' + width_set + '.parquet'\n",
    "    file_paths.append(file_path)"
   ]
  },
  {
   "cell_type": "code",
   "execution_count": 45,
   "id": "670a2cdb-7008-4426-a710-9c2a889ff0f7",
   "metadata": {},
   "outputs": [],
   "source": [
    "fields = ['NHDPlusID', 'counter', 'buffers']"
   ]
  },
  {
   "cell_type": "code",
   "execution_count": 46,
   "id": "2100985c-7d87-47d3-bdcd-e88313305a5c",
   "metadata": {},
   "outputs": [],
   "source": [
    "segments = dask_geopandas.read_parquet(path=file_paths, columns=fields)"
   ]
  },
  {
   "cell_type": "code",
   "execution_count": 47,
   "id": "88602038-2604-4e4a-9335-f95b8e080831",
   "metadata": {},
   "outputs": [],
   "source": [
    "segments = segments.compute()"
   ]
  },
  {
   "cell_type": "code",
   "execution_count": 48,
   "id": "7c989955-676f-45fb-9287-561781698cf7",
   "metadata": {},
   "outputs": [],
   "source": [
    "# segments = segments[segments['NHDPlusID'].isin(ids)]"
   ]
  },
  {
   "cell_type": "code",
   "execution_count": 49,
   "id": "ff1ab870-8a1e-40f2-ac46-aaf7d26d3cb2",
   "metadata": {},
   "outputs": [],
   "source": [
    "segments = segments.clip(pseudo_bounds)"
   ]
  },
  {
   "cell_type": "code",
   "execution_count": 50,
   "id": "3b7bbb49-83b0-4fdc-b0c8-e2dc41d3a8c5",
   "metadata": {},
   "outputs": [],
   "source": [
    "# Keep only reaches that are fully contained in PIXC granule\n",
    "segments = segments.groupby('NHDPlusID').filter(lambda x: len(x) == 10)"
   ]
  },
  {
   "cell_type": "code",
   "execution_count": 51,
   "id": "4dab7f5e-56a5-4877-b2df-354c8dc27321",
   "metadata": {},
   "outputs": [],
   "source": [
    "segments = segments.sort_values(by=['NHDPlusID', 'counter']).reset_index()"
   ]
  },
  {
   "cell_type": "code",
   "execution_count": 52,
   "id": "bb923ffc-210f-4e60-a02a-9d665e3ccc86",
   "metadata": {},
   "outputs": [],
   "source": [
    "segments = segments.drop(columns='index')"
   ]
  },
  {
   "cell_type": "code",
   "execution_count": 53,
   "id": "0b854ca8-21bb-4696-a910-f3e3238df018",
   "metadata": {},
   "outputs": [],
   "source": [
    "# # Get number of reaches per bin\n",
    "# counts = pd.DataFrame(segments.sort_values(by=['NHDPlusID', 'counter'])[::10].Bin_Min.value_counts()).reset_index()"
   ]
  },
  {
   "cell_type": "code",
   "execution_count": 54,
   "id": "75a4a80b-ddc1-436c-9f22-c29e6e98f20d",
   "metadata": {},
   "outputs": [],
   "source": [
    "# counts"
   ]
  },
  {
   "cell_type": "code",
   "execution_count": 55,
   "id": "175df691-6f78-4743-9422-044a045be63b",
   "metadata": {},
   "outputs": [],
   "source": [
    "# Calculate segment area\n",
    "segments['segment_area'] = segments.geometry.area"
   ]
  },
  {
   "cell_type": "markdown",
   "id": "0f1269a3-6f90-4e18-a66e-844dfc210bf2",
   "metadata": {},
   "source": [
    "#### Join and analyze coverage"
   ]
  },
  {
   "cell_type": "code",
   "execution_count": 56,
   "id": "ec5c6340-d7c4-43e2-b0f5-fd158e1c5f33",
   "metadata": {},
   "outputs": [],
   "source": [
    "# Merge the segments and pseudo-puxels by intersection\n",
    "sj = gpd.sjoin(segments, gdf_PIXC_cov, how='left', predicate='intersects').reset_index()"
   ]
  },
  {
   "cell_type": "code",
   "execution_count": 57,
   "id": "90c53174-5f74-4eca-812a-4922b419c652",
   "metadata": {},
   "outputs": [],
   "source": [
    "del segments, gdf_PIXC_cov"
   ]
  },
  {
   "cell_type": "code",
   "execution_count": 58,
   "id": "ba0ac9e6-dab0-4041-88fb-d8822c992d36",
   "metadata": {},
   "outputs": [],
   "source": [
    "sj = sj.drop(columns=['index', 'points', 'pixel_centroid',\n",
    "                      'pixel_area',\n",
    "                      # 'index_old',\n",
    "                      'index_right'])"
   ]
  },
  {
   "cell_type": "code",
   "execution_count": 59,
   "id": "6f9e5cbc-e442-446a-817a-6bb906375509",
   "metadata": {},
   "outputs": [],
   "source": [
    "# # NHDPlusID_left reflects the segment ids, keeping that one\n",
    "# sj = sj.drop(columns=['NHDPlusID_right', 'points', 'azimuth_index',\n",
    "#                       'range_index',\n",
    "#                       # 'height', 'geoid',\n",
    "#                       # 'klass',\n",
    "#                       'latitude', 'longitude'])"
   ]
  },
  {
   "cell_type": "code",
   "execution_count": 60,
   "id": "f48dcf6b-0694-4530-8210-b1f4e67503fb",
   "metadata": {},
   "outputs": [],
   "source": [
    "sj = sj.set_geometry('pseudo_geom')"
   ]
  },
  {
   "cell_type": "code",
   "execution_count": 61,
   "id": "3eb299f3-11fe-4a77-b980-74a147d91ed8",
   "metadata": {
    "tags": []
   },
   "outputs": [],
   "source": [
    "sj = sj.groupby('NHDPlusID', as_index=False).parallel_apply(user_defined_function=specialDissolve)"
   ]
  },
  {
   "cell_type": "code",
   "execution_count": 62,
   "id": "23e75900-d21b-4801-9b57-f1611b1454be",
   "metadata": {},
   "outputs": [],
   "source": [
    "sj = sj.reset_index().drop(columns=['level_0', 'level_1'])"
   ]
  },
  {
   "cell_type": "code",
   "execution_count": 63,
   "id": "72aa0b69-3521-4503-832d-8466a12a41f6",
   "metadata": {},
   "outputs": [],
   "source": [
    "sj['pseudo_geom_clip'] = sj.parallel_apply(user_defined_function=specialClip,\n",
    "                                           axis=1)"
   ]
  },
  {
   "cell_type": "code",
   "execution_count": 64,
   "id": "29f5b63e-eb10-4d3e-b58a-a9e578306285",
   "metadata": {},
   "outputs": [],
   "source": [
    "# Calculate the pseudo-pixel area within each node\n",
    "sj['pseudo_area'] = sj.pseudo_geom_clip.area"
   ]
  },
  {
   "cell_type": "code",
   "execution_count": 65,
   "id": "c0764bd5-a82b-45a5-9075-73fda889aa00",
   "metadata": {},
   "outputs": [],
   "source": [
    "sj['coverage'] = sj.pseudo_area/sj.segment_area"
   ]
  },
  {
   "cell_type": "code",
   "execution_count": 66,
   "id": "7ba267bf-a933-4d27-af5a-cd73331720db",
   "metadata": {
    "tags": []
   },
   "outputs": [],
   "source": [
    "sj['coverage'] = sj['coverage'].fillna(0)"
   ]
  },
  {
   "cell_type": "code",
   "execution_count": 67,
   "id": "aa41ce6d-c748-4ef4-9f2f-406d1fe5ac1e",
   "metadata": {},
   "outputs": [
    {
     "data": {
      "text/plain": [
       "Index(['counter', 'pseudo_geom', 'NHDPlusID', 'buffers', 'segment_area',\n",
       "       'pseudo_geom_clip', 'pseudo_area', 'coverage'],\n",
       "      dtype='object')"
      ]
     },
     "execution_count": 67,
     "metadata": {},
     "output_type": "execute_result"
    }
   ],
   "source": [
    "sj.columns"
   ]
  },
  {
   "cell_type": "code",
   "execution_count": 68,
   "id": "1ad9b1e2-8bee-4280-80c5-26eed6bdd7dd",
   "metadata": {},
   "outputs": [],
   "source": [
    "# Drop geometry columns\n",
    "sj = sj.drop(columns=['pseudo_geom', 'buffers', 'pseudo_geom_clip', 'pseudo_area'\n",
    "                      , 'segment_area'])"
   ]
  },
  {
   "cell_type": "code",
   "execution_count": 69,
   "id": "72e511fc-4319-4e87-9754-442808a10c60",
   "metadata": {},
   "outputs": [],
   "source": [
    "sj['nodes'] = 'node_' + sj['counter'].astype(str)"
   ]
  },
  {
   "cell_type": "code",
   "execution_count": 70,
   "id": "7cd90f5b-487d-4a2f-8249-aa6a22cf188f",
   "metadata": {},
   "outputs": [],
   "source": [
    "sj = sj.drop(columns='counter')"
   ]
  },
  {
   "cell_type": "code",
   "execution_count": 71,
   "id": "d4846d33-170d-435b-8986-468f75bdfdbc",
   "metadata": {},
   "outputs": [],
   "source": [
    "sj = sj.pivot(index='NHDPlusID', columns='nodes', values='coverage').reset_index()\n",
    "sj.index.name = 'index'"
   ]
  },
  {
   "cell_type": "code",
   "execution_count": 72,
   "id": "6ca0f2b8-41d2-4467-ba9a-1939ac278a35",
   "metadata": {},
   "outputs": [
    {
     "data": {
      "text/plain": [
       "11968"
      ]
     },
     "execution_count": 72,
     "metadata": {},
     "output_type": "execute_result"
    }
   ],
   "source": [
    "len(sj['NHDPlusID'].unique())"
   ]
  },
  {
   "cell_type": "markdown",
   "id": "5a80fe04-a4f6-4bd3-8b97-0d9cd1dd57e0",
   "metadata": {},
   "source": [
    "#### Read in flowlines"
   ]
  },
  {
   "cell_type": "code",
   "execution_count": 73,
   "id": "8ba7a78e-83e9-4820-a16d-d35cf2294e0a",
   "metadata": {},
   "outputs": [],
   "source": [
    "data_path = '/nas/cee-water/cjgleason/fiona/narrow_rivers_PIXC_data/NHD_prepped/HUC2_' + huc2 + '/'"
   ]
  },
  {
   "cell_type": "code",
   "execution_count": 74,
   "id": "80cb086d-c86b-4d84-8d95-44032c9b5e31",
   "metadata": {},
   "outputs": [],
   "source": [
    "file_paths = []\n",
    "\n",
    "for huc in huc4s:\n",
    "    file_path = data_path + 'NHDPLUS_H_' + huc + '_HU4_GDB_prepped.parquet'\n",
    "    file_paths.append(file_path)"
   ]
  },
  {
   "cell_type": "code",
   "execution_count": 75,
   "id": "773089a2-b259-48bf-8dc2-fd2d69724261",
   "metadata": {},
   "outputs": [],
   "source": [
    "fields = ['NHDPlusID', 'GNIS_Name', 'LengthKM',\n",
    "          # 'WidthM', 'WidthM_Min',\n",
    "          # 'WidthM_Max', 'Bin', 'Bin_Min', 'Bin_Max', 'StreamOrde',\n",
    "          # 'Slope', \n",
    "          'geometry']"
   ]
  },
  {
   "cell_type": "code",
   "execution_count": 76,
   "id": "ea54cbf4-0729-42c3-a19d-ab3b461de793",
   "metadata": {},
   "outputs": [],
   "source": [
    "flowlines = dask_geopandas.read_parquet(path=file_paths, columns=fields)"
   ]
  },
  {
   "cell_type": "code",
   "execution_count": 77,
   "id": "b2e5d93f-9094-4cbe-8aa8-aca074e59b55",
   "metadata": {},
   "outputs": [],
   "source": [
    "flowlines = flowlines.compute()"
   ]
  },
  {
   "cell_type": "code",
   "execution_count": 78,
   "id": "79500dfd-e2cf-48fa-a619-e46d656e6008",
   "metadata": {},
   "outputs": [],
   "source": [
    "flowlines.loc[:,'geometry'] = flowlines.geometry.explode().force_2d()"
   ]
  },
  {
   "cell_type": "markdown",
   "id": "cd074b84-cb31-4a58-b387-8a6749f179a4",
   "metadata": {},
   "source": [
    "### Calculate azimuth and sinuosity (should move sinuosity to static)"
   ]
  },
  {
   "cell_type": "code",
   "execution_count": 79,
   "id": "afa9db3f-7fd9-4521-a803-9c32d82a7fdf",
   "metadata": {},
   "outputs": [],
   "source": [
    "flowlines['az_nadir'] = az_nadir"
   ]
  },
  {
   "cell_type": "code",
   "execution_count": 80,
   "id": "7370cd2c-db39-49e5-83b0-902b95a406c8",
   "metadata": {},
   "outputs": [],
   "source": [
    "flowlines['temp'] = flowlines.parallel_apply(user_defined_function=calcAzSin, axis=1)"
   ]
  },
  {
   "cell_type": "code",
   "execution_count": 81,
   "id": "9607199c-eded-4c19-a976-33975b5b2451",
   "metadata": {},
   "outputs": [],
   "source": [
    "flowlines[['alignment', 'sinuosity']] = pd.DataFrame(flowlines['temp'].tolist(), index=flowlines.index)\n",
    "flowlines = flowlines.drop(columns='temp')"
   ]
  },
  {
   "cell_type": "code",
   "execution_count": 82,
   "id": "e8bec94e-8371-4e1d-9190-d11c064da624",
   "metadata": {},
   "outputs": [],
   "source": [
    "# Rename geometry to avoid conflicts with heights\n",
    "flowlines = flowlines.rename_geometry('flowlines')"
   ]
  },
  {
   "cell_type": "code",
   "execution_count": 83,
   "id": "0187fd11-45f4-48c7-97b8-a2d46912a4cf",
   "metadata": {},
   "outputs": [],
   "source": [
    "gdf_PIXC = pd.merge(left=gdf_PIXC,\n",
    "                    right=flowlines[['NHDPlusID', 'alignment',\n",
    "                                     'sinuosity', 'flowlines']],\n",
    "                    on='NHDPlusID')"
   ]
  },
  {
   "cell_type": "code",
   "execution_count": 84,
   "id": "693a08d1-816b-4d8a-9bc0-1f6e08e93333",
   "metadata": {},
   "outputs": [],
   "source": [
    "del flowlines"
   ]
  },
  {
   "cell_type": "markdown",
   "id": "d0634ae5-d021-40ec-a46a-2f4ada7ae4de",
   "metadata": {},
   "source": [
    "### Calculate distance along reaches"
   ]
  },
  {
   "cell_type": "code",
   "execution_count": 85,
   "id": "173ba56e-0db1-4efa-99cf-41e8a988eb49",
   "metadata": {},
   "outputs": [],
   "source": [
    "def project_point(line, point):\n",
    "    # Project point onto line\n",
    "    return line.project(point)"
   ]
  },
  {
   "cell_type": "code",
   "execution_count": 86,
   "id": "0a9a6a6b-f5f8-41c8-b835-d48d4e2955b1",
   "metadata": {},
   "outputs": [],
   "source": [
    "gdf_PIXC['distance'] = gdf_PIXC.apply(lambda x: project_point(x['flowlines'], x['geometry']), axis=1)"
   ]
  },
  {
   "cell_type": "code",
   "execution_count": 87,
   "id": "20383abb-1a92-474f-a245-52e52eda1dad",
   "metadata": {},
   "outputs": [],
   "source": [
    "# Drop geometry columns\n",
    "gdf_PIXC = gdf_PIXC.drop(columns=['geometry', 'flowlines'])"
   ]
  },
  {
   "cell_type": "markdown",
   "id": "fdb4e0bd-84d6-48d1-a147-8ce9a4d168da",
   "metadata": {
    "jp-MarkdownHeadingCollapsed": true,
    "tags": []
   },
   "source": [
    "### Calculate weights (skip for now)"
   ]
  },
  {
   "cell_type": "code",
   "execution_count": 88,
   "id": "cab9398c-77c2-4d46-bdb8-15f42de6c94f",
   "metadata": {},
   "outputs": [],
   "source": [
    "# # Multiply the correct columns for the weight denominator\n",
    "# gdf_PIXC['pre_denom'] = gdf_PIXC['phase_noise_std']**-2 * gdf_PIXC['dheight_dphase']**-2 * gdf_PIXC['agg_wse']"
   ]
  },
  {
   "cell_type": "code",
   "execution_count": 89,
   "id": "8f30df8f-e0d1-4f50-a884-b0cce62bd569",
   "metadata": {},
   "outputs": [],
   "source": [
    "# len(np.unique(gdf_PIXC['NHDPlusID']))"
   ]
  },
  {
   "cell_type": "code",
   "execution_count": 90,
   "id": "1d0803c1-61a3-4ee6-92f2-a0aa328c1f71",
   "metadata": {},
   "outputs": [],
   "source": [
    "# # Sum the weight denominators by reach\n",
    "# denoms = gdf_PIXC.groupby(by='NHDPlusID')['pre_denom'].sum()\n",
    "# denoms = denoms.rename('denom')"
   ]
  },
  {
   "cell_type": "code",
   "execution_count": 91,
   "id": "09f41127-814f-4f76-93f2-f4cb0dc39679",
   "metadata": {},
   "outputs": [],
   "source": [
    "# gdf_PIXC = pd.merge(left=gdf_PIXC, right=denoms, how='left', on='NHDPlusID')\n",
    "# del denoms"
   ]
  },
  {
   "cell_type": "code",
   "execution_count": 92,
   "id": "bbc8582b-da91-4abf-ac26-39bfc20612b2",
   "metadata": {},
   "outputs": [],
   "source": [
    "# gdf_PIXC[gdf_PIXC['NHDPlusID'] == gdf_PIXC.iloc[[0]]['NHDPlusID'][0]]"
   ]
  },
  {
   "cell_type": "code",
   "execution_count": 93,
   "id": "a46f527c-5614-49ea-91bb-ef7a46041749",
   "metadata": {},
   "outputs": [],
   "source": [
    "# gdf_PIXC['weight'] = (gdf_PIXC['phase_noise_std'] * gdf_PIXC['dheight_dphase'])**-2 * gdf_PIXC['agg_wse'] / gdf_PIXC['denom']"
   ]
  },
  {
   "cell_type": "code",
   "execution_count": 94,
   "id": "e3c70a0b-e806-41bc-b332-482ea56bfac6",
   "metadata": {
    "tags": []
   },
   "outputs": [],
   "source": [
    "# gdf_PIXC = gdf_PIXC.drop(columns=['pre_denom', 'denom', 'phase_noise_std',\n",
    "#                                   'dheight_dphase'])"
   ]
  },
  {
   "cell_type": "code",
   "execution_count": 95,
   "id": "9511fe00-986f-4b68-98b6-a23ed8754739",
   "metadata": {},
   "outputs": [],
   "source": [
    "# gdf_PIXC['wse_weighted'] = gdf_PIXC['wse'] * gdf_PIXC['weight']"
   ]
  },
  {
   "cell_type": "code",
   "execution_count": 96,
   "id": "9fb2ed69-1975-4d96-a397-c219ef283088",
   "metadata": {},
   "outputs": [],
   "source": [
    "# gdf_PIXC[['wse', 'weight', 'wse_weighted']]"
   ]
  },
  {
   "cell_type": "code",
   "execution_count": 97,
   "id": "4f696123-31b0-4679-b016-bde69c8e8a81",
   "metadata": {},
   "outputs": [],
   "source": [
    "# gdf_PIXC.groupby(by='NHDPlusID')['wse_weighted'].sum()"
   ]
  },
  {
   "cell_type": "markdown",
   "id": "50231130-0258-4a82-a334-6e0e03157922",
   "metadata": {
    "tags": []
   },
   "source": [
    "### Calculate slopes"
   ]
  },
  {
   "cell_type": "code",
   "execution_count": 98,
   "id": "9f6bf956-8018-4730-9cc9-6539e6e5e9ac",
   "metadata": {},
   "outputs": [],
   "source": [
    "# ?stats.linregress"
   ]
  },
  {
   "cell_type": "code",
   "execution_count": 99,
   "id": "6f427321-3ebf-4474-a691-bd472563fd80",
   "metadata": {},
   "outputs": [],
   "source": [
    "def group_regress(group):\n",
    "    \n",
    "    # group = group.filter(lambda x: x['agg_wse'] == 1)\n",
    "    \n",
    "    if len(group) > 2:\n",
    "        slope, _, r, _, se = (stats.linregress(x=group['distance'], y=group['wse']))\n",
    "        return pd.Series({'swot_slope': slope, 'swot_r': r, 'swot_se': se})\n",
    "    else:\n",
    "        return pd.Series({'swot_slope': np.nan, 'swot_r': np.nan, 'swot_se': np.nan})"
   ]
  },
  {
   "cell_type": "code",
   "execution_count": 100,
   "id": "a64f9720-3992-40bf-a311-5fbf4f2cd8aa",
   "metadata": {},
   "outputs": [],
   "source": [
    "gdf_PIXC_for_agg = gdf_PIXC[gdf_PIXC['agg_wse'] == 1]"
   ]
  },
  {
   "cell_type": "code",
   "execution_count": 101,
   "id": "a558de6b-9127-467b-8be8-a7f4f50581a8",
   "metadata": {},
   "outputs": [],
   "source": [
    "slopes = gdf_PIXC_for_agg.groupby('NHDPlusID').apply(func=group_regress, include_groups=False)"
   ]
  },
  {
   "cell_type": "code",
   "execution_count": 102,
   "id": "568ef99a-1a2b-4b79-bbdc-a38c51c03eef",
   "metadata": {},
   "outputs": [],
   "source": [
    "del gdf_PIXC_for_agg"
   ]
  },
  {
   "cell_type": "code",
   "execution_count": 103,
   "id": "418e0db4-f804-49b5-9831-5c66e23e6a4e",
   "metadata": {
    "tags": []
   },
   "outputs": [],
   "source": [
    "gdf_PIXC = pd.merge(left=gdf_PIXC, right=slopes, how='left', on='NHDPlusID')"
   ]
  },
  {
   "cell_type": "code",
   "execution_count": 104,
   "id": "4f91a3da-b6fa-42f6-89f6-5e6fc3b9a2d8",
   "metadata": {},
   "outputs": [],
   "source": [
    "del slopes"
   ]
  },
  {
   "cell_type": "code",
   "execution_count": 105,
   "id": "ce9aabe2-1c6b-4fb8-b183-de9e3112d7db",
   "metadata": {},
   "outputs": [],
   "source": [
    "gdf_PIXC = gdf_PIXC.drop(columns=['pixel_area', 'klass',\n",
    "                                  # 'agg_wse',\n",
    "                                  'distance'])"
   ]
  },
  {
   "cell_type": "code",
   "execution_count": 106,
   "id": "14fb4f4c-0cf8-4ce1-a238-9df42ad0e518",
   "metadata": {},
   "outputs": [],
   "source": [
    "# gdf_PIXC.drop(columns=['slope', 'r', 'se'], inplace=True)\n",
    "# gdf_PIXC.drop(columns = ['swot_slope_x', 'swot_r_x', 'swot_se_x',\n",
    "#                          'swot_slope_y', 'swot_r_y', 'swot_se_y'],\n",
    "#               inplace=True)"
   ]
  },
  {
   "cell_type": "code",
   "execution_count": 107,
   "id": "da384db5-36ec-432b-b129-c161d5e20e6b",
   "metadata": {},
   "outputs": [],
   "source": [
    "gdf_PIXC['DropM'] = gdf_PIXC['Slope'] * gdf_PIXC['LengthKM'] * 1000"
   ]
  },
  {
   "cell_type": "code",
   "execution_count": 112,
   "id": "357a1833-06b6-4e85-9b63-e00745ce378b",
   "metadata": {},
   "outputs": [
    {
     "data": {
      "text/plain": [
       "1673"
      ]
     },
     "execution_count": 112,
     "metadata": {},
     "output_type": "execute_result"
    }
   ],
   "source": [
    "len(gdf_PIXC.NHDPlusID.unique())"
   ]
  },
  {
   "cell_type": "code",
   "execution_count": 111,
   "id": "4a5a09cb-bf25-443b-b46e-e0d4a669858f",
   "metadata": {},
   "outputs": [],
   "source": [
    "num_pixels = gdf_PIXC.groupby('NHDPlusID').count()['points'].reset_index()\n",
    "# gdf_PIXC.groupby('NHDPlusID')['points'].count().reset_index()['points']"
   ]
  },
  {
   "cell_type": "code",
   "execution_count": null,
   "id": "c3189bd4-8f77-43ab-b653-a67bc640e036",
   "metadata": {},
   "outputs": [],
   "source": [
    "# num_wse = gdf_PIXC.groupby('NHDPlusID').count()['agg_wse'].reset_index()\n",
    "temp = gdf_PIXC.groupby('NHDPlusID')['agg_wse'].value_counts().reset_index()\n",
    "temp = temp[temp['agg_wse'] == 1]\n",
    "temp = temp.reset_index().drop(columns=['agg_wse', 'index'])"
   ]
  },
  {
   "cell_type": "code",
   "execution_count": 123,
   "id": "ab2d79b6-0f3b-4f83-ba22-3c19f95111be",
   "metadata": {},
   "outputs": [],
   "source": [
    "gdf_PIXC = gdf_PIXC.drop(columns=['points', 'agg_wse'])"
   ]
  },
  {
   "cell_type": "code",
   "execution_count": 124,
   "id": "8975fc0f-a8c7-444f-8033-543fe05a5d7a",
   "metadata": {},
   "outputs": [],
   "source": [
    "gdf_PIXC = pd.merge(gdf_PIXC, num_pixels, how='left', on='NHDPlusID')\n",
    "gdf_PIXC = pd.merge(gdf_PIXC, temp, how='left', on='NHDPlusID')"
   ]
  },
  {
   "cell_type": "code",
   "execution_count": 127,
   "id": "91bef25e-8979-4ade-9d60-9835ee750fe0",
   "metadata": {},
   "outputs": [],
   "source": [
    "gdf_PIXC = gdf_PIXC.rename(columns={'points': 'num_pixels', 'count': 'num_wse'})"
   ]
  },
  {
   "cell_type": "code",
   "execution_count": 130,
   "id": "00085fb0-9eed-4054-a442-014d159ad06e",
   "metadata": {},
   "outputs": [
    {
     "data": {
      "text/html": [
       "<div>\n",
       "<style scoped>\n",
       "    .dataframe tbody tr th:only-of-type {\n",
       "        vertical-align: middle;\n",
       "    }\n",
       "\n",
       "    .dataframe tbody tr th {\n",
       "        vertical-align: top;\n",
       "    }\n",
       "\n",
       "    .dataframe thead th {\n",
       "        text-align: right;\n",
       "    }\n",
       "</style>\n",
       "<table border=\"1\" class=\"dataframe\">\n",
       "  <thead>\n",
       "    <tr style=\"text-align: right;\">\n",
       "      <th></th>\n",
       "      <th>cross_track</th>\n",
       "      <th>water_frac</th>\n",
       "      <th>prior_water_prob</th>\n",
       "      <th>geo_qual_wse_suspect</th>\n",
       "      <th>class_qual_area_suspect</th>\n",
       "      <th>wse</th>\n",
       "      <th>NHDPlusID</th>\n",
       "      <th>WidthM</th>\n",
       "      <th>Bin</th>\n",
       "      <th>Slope</th>\n",
       "      <th>LengthKM</th>\n",
       "      <th>alignment</th>\n",
       "      <th>sinuosity</th>\n",
       "      <th>swot_slope</th>\n",
       "      <th>swot_r</th>\n",
       "      <th>swot_se</th>\n",
       "      <th>DropM</th>\n",
       "      <th>num_pixels</th>\n",
       "      <th>num_wse</th>\n",
       "    </tr>\n",
       "  </thead>\n",
       "  <tbody>\n",
       "    <tr>\n",
       "      <th>14491</th>\n",
       "      <td>-22252.859375</td>\n",
       "      <td>0.283885</td>\n",
       "      <td>0.06</td>\n",
       "      <td>0</td>\n",
       "      <td>1</td>\n",
       "      <td>1114.911499</td>\n",
       "      <td>4.000050e+13</td>\n",
       "      <td>0.522455</td>\n",
       "      <td>(0, 10]</td>\n",
       "      <td>0.047466</td>\n",
       "      <td>0.763</td>\n",
       "      <td>122.157577</td>\n",
       "      <td>1.242017</td>\n",
       "      <td>NaN</td>\n",
       "      <td>NaN</td>\n",
       "      <td>NaN</td>\n",
       "      <td>36.216604</td>\n",
       "      <td>7</td>\n",
       "      <td>2.0</td>\n",
       "    </tr>\n",
       "  </tbody>\n",
       "</table>\n",
       "</div>"
      ],
      "text/plain": [
       "        cross_track  water_frac  prior_water_prob  geo_qual_wse_suspect  \\\n",
       "14491 -22252.859375    0.283885              0.06                     0   \n",
       "\n",
       "       class_qual_area_suspect          wse     NHDPlusID    WidthM      Bin  \\\n",
       "14491                        1  1114.911499  4.000050e+13  0.522455  (0, 10]   \n",
       "\n",
       "          Slope  LengthKM   alignment  sinuosity  swot_slope  swot_r  swot_se  \\\n",
       "14491  0.047466     0.763  122.157577   1.242017         NaN     NaN      NaN   \n",
       "\n",
       "           DropM  num_pixels  num_wse  \n",
       "14491  36.216604           7      2.0  "
      ]
     },
     "execution_count": 130,
     "metadata": {},
     "output_type": "execute_result"
    }
   ],
   "source": [
    "gdf_PIXC[gdf_PIXC['prior_water_prob'] != 0]"
   ]
  },
  {
   "cell_type": "code",
   "execution_count": null,
   "id": "8191e021-08cf-4b8b-afda-6b500026af50",
   "metadata": {},
   "outputs": [],
   "source": [
    "# ids = gdf_PIXC['NHDPlusID'].unique()"
   ]
  },
  {
   "cell_type": "code",
   "execution_count": null,
   "id": "6df7970a-05db-4af1-bf2c-2f0b700fdb37",
   "metadata": {},
   "outputs": [],
   "source": [
    "# del ids"
   ]
  },
  {
   "cell_type": "code",
   "execution_count": null,
   "id": "be63c019-14c5-4b79-bfa5-09395c576f30",
   "metadata": {},
   "outputs": [],
   "source": [
    "test = gdf_PIXC.sort_values(by=['NHDPlusID', 'geo_qual_wse_suspect',\n",
    "                                'class_qual_area_suspect', 'swot_slope'],\n",
    "                            ascending=[True, False, False, False])"
   ]
  },
  {
   "cell_type": "code",
   "execution_count": null,
   "id": "1cfd3d79-a566-472c-bdde-d6dc64fa4edc",
   "metadata": {},
   "outputs": [],
   "source": [
    "gdf_PIXC = gdf_PIXC.drop_duplicates(subset='NHDPlusID').reset_index()"
   ]
  },
  {
   "cell_type": "code",
   "execution_count": null,
   "id": "e7c54326-91ef-461e-9574-e9998d33e87e",
   "metadata": {},
   "outputs": [],
   "source": [
    "gdf_PIXC[gdf_PIXC['points_y'] != gdf_PIXC['agg_wse_y']]"
   ]
  },
  {
   "cell_type": "code",
   "execution_count": null,
   "id": "a82568b4-0191-41a1-9460-ecab0504d09c",
   "metadata": {},
   "outputs": [],
   "source": [
    "assert gdf_PIXC.iloc[0]['points_y'] == gdf_PIXC.iloc[0]['agg_wse_y']"
   ]
  },
  {
   "cell_type": "code",
   "execution_count": null,
   "id": "a15b5f57-d0ed-48cb-ace8-8d9333a4192c",
   "metadata": {},
   "outputs": [],
   "source": [
    "gdf_PIXC.iloc[0]['agg_wse_y']"
   ]
  },
  {
   "cell_type": "code",
   "execution_count": null,
   "id": "8c77fe88-2577-4dc8-96cb-f7296768b2d5",
   "metadata": {},
   "outputs": [],
   "source": [
    "test[test['NHDPlusID'] == 40000500183604]"
   ]
  },
  {
   "cell_type": "code",
   "execution_count": null,
   "id": "28f39883-9a48-4f27-8efa-2a70e7e69a63",
   "metadata": {},
   "outputs": [],
   "source": [
    "# gdf_PIXC[~ gdf_PIXC['swot_se'].isna()]"
   ]
  },
  {
   "cell_type": "code",
   "execution_count": null,
   "id": "da0eecea-f32d-4ba7-b180-5b3daeb106e4",
   "metadata": {},
   "outputs": [],
   "source": [
    "# def checkMag(df):\n",
    "#     # if df['slope_swot'] > df['Slope']:\n",
    "#     #     ratio = df['slope_swot'] / df['Slope']\n",
    "#     # else:\n",
    "#     #     ratio = df['Slope'] / df['slope_swot']\n",
    "#     if np.isnan(df['slope_swot']):\n",
    "#         return False\n",
    "    \n",
    "#     else:\n",
    "#         order1 = math.floor(math.log10(df['slope_swot']))\n",
    "#         order2 = math.floor(math.log10(df['Slope']))\n",
    "        \n",
    "#     # if (ratio > 0.1) and (ratio < 10):\n",
    "#     #     return True\n",
    "#     # else:\n",
    "#     #     return False\n",
    "\n",
    "#         if order1 == order2:\n",
    "#             return True\n",
    "#         else:\n",
    "#             return False"
   ]
  },
  {
   "cell_type": "code",
   "execution_count": null,
   "id": "50616919-4477-4125-a7ae-830024fc9fff",
   "metadata": {},
   "outputs": [],
   "source": [
    "# gdf_wse['slope_match'] = gdf_wse.apply(func = checkMag, axis=1)"
   ]
  },
  {
   "cell_type": "code",
   "execution_count": null,
   "id": "8f5015ec-7add-4248-9211-2eff5aeed759",
   "metadata": {},
   "outputs": [],
   "source": [
    "# slope_match = gdf_wse[gdf_wse['slope_match'] == True]['NHDPlusID'].tolist()"
   ]
  },
  {
   "cell_type": "code",
   "execution_count": null,
   "id": "56e857fe-190f-4613-be47-93441d289466",
   "metadata": {},
   "outputs": [],
   "source": [
    "# sj['good_wse'] = np.where(sj['NHDPlusID'].isin(slope_match), True, False)"
   ]
  },
  {
   "cell_type": "code",
   "execution_count": null,
   "id": "cc2361d6-ac1f-4666-8c7c-a8a64dda0af0",
   "metadata": {},
   "outputs": [],
   "source": [
    "# pd.DataFrame(sj.sort_values(by=['NHDPlusID', 'counter'])[::10].Bin.value_counts()).reset_index()"
   ]
  },
  {
   "cell_type": "code",
   "execution_count": null,
   "id": "74233671-de2a-446c-9671-2122368e316d",
   "metadata": {},
   "outputs": [],
   "source": [
    "# reaches_min = pd.DataFrame(sj.groupby('NHDPlusID')['coverage'].min()).reset_index()"
   ]
  },
  {
   "cell_type": "code",
   "execution_count": null,
   "id": "4a392daf-8183-45c4-b4f0-0f4a211257af",
   "metadata": {},
   "outputs": [],
   "source": [
    "# # Merge on bins\n",
    "# reaches_min = pd.merge(left=reaches_min, right=sj[['NHDPlusID', 'Bin']], how='left', on='NHDPlusID')\n",
    "# # Take every tenth row to get reach-level results\n",
    "# reaches_min = reaches_min.sort_values(by=['NHDPlusID'])[::10].reset_index()"
   ]
  },
  {
   "cell_type": "code",
   "execution_count": null,
   "id": "cd309a69-1d90-4c4e-b07b-2c7f43c0f5d0",
   "metadata": {},
   "outputs": [],
   "source": [
    "# pd.DataFrame(reaches_min[reaches_min['coverage'] > 0.1].Bin.value_counts()).reset_index()"
   ]
  },
  {
   "cell_type": "code",
   "execution_count": null,
   "id": "e7ddff26-42be-4bfe-802c-a09bf22451b7",
   "metadata": {},
   "outputs": [],
   "source": [
    "# pd.DataFrame(sj[sj['good_wse'] == True].sort_values(by=['NHDPlusID', 'counter'])[::10].Bin.value_counts()).reset_index()"
   ]
  },
  {
   "cell_type": "code",
   "execution_count": null,
   "id": "32efa21a-3caa-41a2-a376-eaa6564f0bb6",
   "metadata": {},
   "outputs": [],
   "source": [
    "# sj[sj['good_wse'] == True].iloc[50:60]"
   ]
  },
  {
   "cell_type": "markdown",
   "id": "622bd27e-cf7c-4c1e-a7aa-b2ed4f32d675",
   "metadata": {},
   "source": [
    "### Do stats"
   ]
  },
  {
   "cell_type": "code",
   "execution_count": null,
   "id": "ed1d559f-4dba-4724-bd78-75421e17e7a3",
   "metadata": {
    "tags": []
   },
   "outputs": [],
   "source": [
    "bins = sj.Bin.unique()"
   ]
  },
  {
   "cell_type": "markdown",
   "id": "b9b2b467-5cc8-4d40-94ba-17d3de0807fc",
   "metadata": {},
   "source": [
    "#### Reaches"
   ]
  },
  {
   "cell_type": "code",
   "execution_count": null,
   "id": "01063fdc-cd34-4167-9478-b98716293723",
   "metadata": {},
   "outputs": [],
   "source": [
    "reaches_cent, reaches_thresh, reaches_min = summarizeCoverage(df=sj, binn=binn,\n",
    "                                            bins=bins, counts=counts)"
   ]
  },
  {
   "cell_type": "code",
   "execution_count": null,
   "id": "d970a001-366f-4cb9-8e90-d64d62353d0c",
   "metadata": {},
   "outputs": [],
   "source": [
    "reaches_min"
   ]
  },
  {
   "cell_type": "code",
   "execution_count": null,
   "id": "8db1a77f-0315-4c9b-8258-8e31ce9509cb",
   "metadata": {},
   "outputs": [],
   "source": [
    "reaches_min.sort_values(by=['NHDPlusID'])[::10]"
   ]
  },
  {
   "cell_type": "code",
   "execution_count": null,
   "id": "e9acee56-ba8a-41a6-9ea4-f72870fa8159",
   "metadata": {
    "tags": []
   },
   "outputs": [],
   "source": [
    "# d = {}\n",
    "# # d_q = {}\n",
    "# for i in range(1, 10):\n",
    "#     threshold = i/10\n",
    "#     # print(threshold)\n",
    "    \n",
    "#     detected = sj.groupby([binn, 'NHDPlusID'])['coverage'].apply(lambda x: (x > threshold).sum()) / 10\n",
    "#     reach = detected.reset_index()\n",
    "    \n",
    "#     # reach = detected.groupby(binn).quantile(q=[x / 100.0 for x in range(0,100,1)]).reset_index()\n",
    "        \n",
    "#     d[threshold] = reach"
   ]
  },
  {
   "cell_type": "code",
   "execution_count": null,
   "id": "f4a9a984-1d84-446d-8c84-395d0e91fa47",
   "metadata": {},
   "outputs": [],
   "source": [
    "# Add a column for each DataFrame indicating the key\n",
    "# for threshold, data in d.items():\n",
    "#     data['threshold'] = threshold\n",
    "    \n",
    "for threshold, data in d.items():\n",
    "    data['threshold'] = threshold"
   ]
  },
  {
   "cell_type": "code",
   "execution_count": null,
   "id": "c540f758-4134-41e5-8248-60919814fcc1",
   "metadata": {},
   "outputs": [],
   "source": [
    "# Concatenate all DataFrames into one\n",
    "# reaches_desc = pd.concat(d.values())\n",
    "\n",
    "reaches_cent = pd.concat(d.values()).rename(columns={'level_1': 'centile'})"
   ]
  },
  {
   "cell_type": "code",
   "execution_count": null,
   "id": "6f889785-d1c2-4369-b564-94d6f3e61d87",
   "metadata": {},
   "outputs": [],
   "source": [
    "reaches_cent"
   ]
  },
  {
   "cell_type": "code",
   "execution_count": null,
   "id": "8cdc70fc-b719-4eb6-addb-853674d93fe0",
   "metadata": {},
   "outputs": [],
   "source": [
    "# reaches_cent = pd.merge(left=reaches_cent, right=counts, how='left', on=binn)"
   ]
  },
  {
   "cell_type": "code",
   "execution_count": null,
   "id": "c190e431-c234-4dd2-9080-7b6d76fc1b18",
   "metadata": {},
   "outputs": [],
   "source": [
    "reaches_cent"
   ]
  },
  {
   "cell_type": "code",
   "execution_count": null,
   "id": "38b6bd38-a36d-4bba-8e1c-51be0583f87f",
   "metadata": {},
   "outputs": [],
   "source": [
    "reaches_min = pd.DataFrame(sj.groupby('NHDPlusID')['coverage'].min()).reset_index()"
   ]
  },
  {
   "cell_type": "code",
   "execution_count": null,
   "id": "e2df040f-a3ea-48b1-8b45-0fe2d27635f8",
   "metadata": {},
   "outputs": [],
   "source": [
    "reaches_min = pd.merge(left=reaches_min, right=sj[['NHDPlusID', binn]], how='left', on='NHDPlusID')"
   ]
  },
  {
   "cell_type": "code",
   "execution_count": null,
   "id": "25e688fc-a670-4ed1-a49a-932e7717ea87",
   "metadata": {},
   "outputs": [],
   "source": [
    "min_cov"
   ]
  },
  {
   "cell_type": "code",
   "execution_count": null,
   "id": "d127d092-07e4-4272-8b9c-97046bdbe771",
   "metadata": {},
   "outputs": [],
   "source": [
    "# reaches = pd.DataFrame(data=d).T"
   ]
  },
  {
   "cell_type": "code",
   "execution_count": null,
   "id": "a265330f-6724-4107-a18f-a48f88e3526c",
   "metadata": {},
   "outputs": [],
   "source": [
    "# reaches.columns = bins"
   ]
  },
  {
   "cell_type": "markdown",
   "id": "57eb3443-462c-4f0f-a55e-f0251d195d94",
   "metadata": {},
   "source": [
    "### Write out"
   ]
  },
  {
   "cell_type": "code",
   "execution_count": null,
   "id": "095ea3be-4f04-441d-917a-bc9633d07816",
   "metadata": {},
   "outputs": [],
   "source": [
    "save_path = os.path.join('/nas/cee-water/cjgleason/fiona/narrow_rivers_PIXC_data/', 'PIXC_v2_0_HUC2_01')"
   ]
  },
  {
   "cell_type": "code",
   "execution_count": null,
   "id": "afe97f05-8afd-4dac-959c-956a6c336e1c",
   "metadata": {},
   "outputs": [],
   "source": [
    "# Combine node_desc\n",
    "node_desc_both = pd.concat([node_desc, node_desc_w_zero], ignore_index=True)\n",
    "node_desc_both"
   ]
  },
  {
   "cell_type": "code",
   "execution_count": null,
   "id": "21d6bcf5-d411-4a8b-a0dd-ce2c4bc7d739",
   "metadata": {},
   "outputs": [],
   "source": [
    "# Combine node_quant\n",
    "node_quant_both = pd.concat([node_quant, node_quant_w_zero], ignore_index=True)\n",
    "node_quant_both"
   ]
  },
  {
   "cell_type": "code",
   "execution_count": null,
   "id": "6f17958c-cce3-40bd-8d0d-0425d3ada6ed",
   "metadata": {},
   "outputs": [],
   "source": [
    "# nodes_desc_both.to_csv(os.path.join(save_path, granule_name + '_nodes_describe.csv'))\n",
    "# nodes_quant_both.to_csv(os.path.join(save_path, granule_name + '_nodes_quantile.csv'))"
   ]
  },
  {
   "cell_type": "code",
   "execution_count": null,
   "id": "1126eceb-0e67-40d0-a68a-116aabc4f41f",
   "metadata": {},
   "outputs": [],
   "source": [
    "# reaches_desc.to_csv(os.path.join(save_path, granule_name + '_reaches_describe.csv'))\n",
    "# reaches_quant.to_csv(os.path.join(save_path, granule_name + '_reaches_quantile.csv'))"
   ]
  },
  {
   "cell_type": "code",
   "execution_count": null,
   "id": "b6d5fa3b-9428-4ca5-b68d-2241f80924bc",
   "metadata": {},
   "outputs": [],
   "source": [
    "test = pd.read_parquet('/nas/cee-water/cjgleason/fiona/narrow_rivers_PIXC_output/PIXC_v2_0_HUC2_01_2025_03_02_min/SWOT_L2_HR_PIXC_004_242_074L_20230930T103957_20230930T104008_PGC0_01_reaches_thresh.parquet')"
   ]
  },
  {
   "cell_type": "code",
   "execution_count": null,
   "id": "74da1788-44c3-4731-a5ec-983010c07291",
   "metadata": {},
   "outputs": [],
   "source": [
    "test"
   ]
  },
  {
   "cell_type": "code",
   "execution_count": null,
   "id": "19d8c671-7861-4c04-a026-6f42bdf6e67a",
   "metadata": {},
   "outputs": [],
   "source": []
  },
  {
   "cell_type": "code",
   "execution_count": null,
   "id": "fb389a18-7580-4b54-bbef-c4383ee68e06",
   "metadata": {},
   "outputs": [],
   "source": []
  },
  {
   "cell_type": "code",
   "execution_count": null,
   "id": "3fcfd214-7276-4db9-9a3e-b142fde6ec48",
   "metadata": {},
   "outputs": [],
   "source": []
  },
  {
   "cell_type": "code",
   "execution_count": null,
   "id": "df6d1997-ac7f-4639-bcc7-6e7db52a8698",
   "metadata": {},
   "outputs": [],
   "source": []
  },
  {
   "cell_type": "markdown",
   "id": "c656724b-59b8-46b2-9213-4c10e3a016c9",
   "metadata": {},
   "source": [
    "### Look at heights"
   ]
  },
  {
   "cell_type": "markdown",
   "id": "6733694b-e436-4db3-82cf-776c3b10dd20",
   "metadata": {
    "tags": []
   },
   "source": [
    "#### Read in buffered flowlines"
   ]
  },
  {
   "cell_type": "code",
   "execution_count": null,
   "id": "ff93d8c7-c987-45e5-a19e-50364ec3c2ea",
   "metadata": {},
   "outputs": [],
   "source": [
    "# data_path = '/nas/cee-water/cjgleason/fiona/narrow_rivers_PIXC_data/NHD_prepped_buffered/HUC2_' + huc2 + '/'"
   ]
  },
  {
   "cell_type": "code",
   "execution_count": null,
   "id": "b307280f-94c0-4d5c-802b-3e24566b286f",
   "metadata": {},
   "outputs": [],
   "source": [
    "file_paths = []\n",
    "\n",
    "for huc in huc4s:\n",
    "    file_path = data_path + 'NHDPLUS_H_' + huc + '_HU4_GDB_prepped_buffered_' + width_set + '.parquet'\n",
    "    file_paths.append(file_path)"
   ]
  },
  {
   "cell_type": "code",
   "execution_count": null,
   "id": "1d7359f1-338d-4b43-91a5-5d07def17144",
   "metadata": {},
   "outputs": [],
   "source": [
    "reach_extent = dask_geopandas.read_parquet(path=file_paths, columns=['NHDPlusID', 'Bin', 'Slope', 'buffers'])"
   ]
  },
  {
   "cell_type": "code",
   "execution_count": null,
   "id": "48d9a7b5-3a37-4f63-9303-eef93945112c",
   "metadata": {},
   "outputs": [],
   "source": [
    "reach_extent = reach_extent.compute()"
   ]
  },
  {
   "cell_type": "code",
   "execution_count": null,
   "id": "61bb1edf-32a1-4e7e-879b-1aafa11701a4",
   "metadata": {},
   "outputs": [],
   "source": [
    "reach_extent['area'] = reach_extent['buffers'].area"
   ]
  }
 ],
 "metadata": {
  "kernelspec": {
   "display_name": "Python [conda env:.conda-narrowPIXC]",
   "language": "python",
   "name": "conda-env-.conda-narrowPIXC-py"
  },
  "language_info": {
   "codemirror_mode": {
    "name": "ipython",
    "version": 3
   },
   "file_extension": ".py",
   "mimetype": "text/x-python",
   "name": "python",
   "nbconvert_exporter": "python",
   "pygments_lexer": "ipython3",
   "version": "3.12.4"
  }
 },
 "nbformat": 4,
 "nbformat_minor": 5
}
