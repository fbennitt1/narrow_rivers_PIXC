{
 "cells": [
  {
   "cell_type": "code",
   "execution_count": 1,
   "id": "3a969e19-56af-4005-9bcb-a3607fb7e5e7",
   "metadata": {},
   "outputs": [],
   "source": [
    "import os\n",
    "import time\n",
    "\n",
    "import dask.dataframe as dd\n",
    "import matplotlib.colors as colors\n",
    "import matplotlib.patches as mpatches\n",
    "import matplotlib.pyplot as plt\n",
    "import matplotlib.gridspec as gridspec\n",
    "import numpy as np\n",
    "import pandas as pd\n",
    "import seaborn as sns"
   ]
  },
  {
   "cell_type": "markdown",
   "id": "1cb993a2-2425-4eb5-a8b8-7b83c2232ff6",
   "metadata": {
    "tags": []
   },
   "source": [
    "### Functions"
   ]
  },
  {
   "cell_type": "code",
   "execution_count": 2,
   "id": "59afabc7-293a-4472-8d06-2f372ea17dc4",
   "metadata": {},
   "outputs": [],
   "source": [
    "def truncate_colormap(cmap, minval=0.0, maxval=1.0, n=100):\n",
    "    new_cmap = colors.LinearSegmentedColormap.from_list(\n",
    "        'trunc({n},{a:.2f},{b:.2f})'.format(n=cmap.name, a=minval, b=maxval),\n",
    "        cmap(np.linspace(minval, maxval, n)))\n",
    "    return new_cmap"
   ]
  },
  {
   "cell_type": "code",
   "execution_count": 2,
   "id": "9357d463-4aab-42d2-bf6c-9040b8247fb6",
   "metadata": {},
   "outputs": [],
   "source": [
    "def getFiles(filepath):\n",
    "    files = []\n",
    "    for file in os.listdir(data_path):\n",
    "        if not file.startswith('.'):\n",
    "            if not 'C2' in file:\n",
    "                files.append(os.path.join(data_path, file))\n",
    "    return files"
   ]
  },
  {
   "cell_type": "code",
   "execution_count": null,
   "id": "7ffacdcf-8766-4d2d-ad00-9990df8d80dc",
   "metadata": {},
   "outputs": [],
   "source": [
    "# def countCoverage(ddf):\n",
    "#     # Count number of nodes exceeding threhold\n",
    "#     ddf['0.1'] = ddf.iloc[:,1:11][ddf.iloc[:,1:11] > 0.1].count(axis=1)\n",
    "#     ddf['0.2'] = ddf.iloc[:,1:11][ddf.iloc[:,1:11] > 0.2].count(axis=1)\n",
    "#     ddf['0.3'] = ddf.iloc[:,1:11][ddf.iloc[:,1:11] > 0.3].count(axis=1)\n",
    "#     ddf['0.4'] = ddf.iloc[:,1:11][ddf.iloc[:,1:11] > 0.4].count(axis=1)\n",
    "#     ddf['0.5'] = ddf.iloc[:,1:11][ddf.iloc[:,1:11] > 0.5].count(axis=1)\n",
    "#     ddf['0.6'] = ddf.iloc[:,1:11][ddf.iloc[:,1:11] > 0.6].count(axis=1)\n",
    "#     ddf['0.7'] = ddf.iloc[:,1:11][ddf.iloc[:,1:11] > 0.7].count(axis=1)\n",
    "#     ddf['0.8'] = ddf.iloc[:,1:11][ddf.iloc[:,1:11] > 0.8].count(axis=1)\n",
    "#     ddf['0.9'] = ddf.iloc[:,1:11][ddf.iloc[:,1:11] > 0.9].count(axis=1)\n",
    "\n",
    "#     # Drop the node columns\n",
    "#     ddf = ddf.drop(list(ddf.columns[1:11]), axis=1)\n",
    "    \n",
    "#     return ddf"
   ]
  },
  {
   "cell_type": "code",
   "execution_count": 6,
   "id": "d123dcdf-e17b-4ff5-82d1-cf6af16d53cb",
   "metadata": {},
   "outputs": [],
   "source": [
    "def computeStats(ddf, order, bbin):\n",
    "    \n",
    "    means = {}\n",
    "    stds = {}\n",
    "    zeros = {}\n",
    "    reaches = {}\n",
    "    zeros_per = {}\n",
    "\n",
    "    \n",
    "    for i in range(len(order)):\n",
    "        start = time.time()\n",
    "        \n",
    "        binn = order[i]\n",
    "    \n",
    "        df = ddf[ddf[bbin] == binn].compute()\n",
    "    \n",
    "        # Get the number of reaches with 0% coverage in all nodes by bin\n",
    "        zero = df[df.coverage == 0].shape[0]\n",
    "        # Get the number of reaches by bin\n",
    "        reach = df.shape[0]\n",
    "    \n",
    "        # Store these\n",
    "        zeros[binn] = zero\n",
    "        reaches[binn] = reach\n",
    "        \n",
    "        if reach == 0:\n",
    "            zeros_per[binn] = 0\n",
    "        else:\n",
    "            zeros_per[binn] = round((zero / reach * 100), 1)\n",
    "        \n",
    "        # Drop all reaches with zero coverage\n",
    "        df = df[df.coverage != 0]\n",
    "    \n",
    "        mean = df['coverage'].mean()\n",
    "        std = df['coverage'].std()\n",
    "        \n",
    "        means[binn] = mean * 100\n",
    "        stds[binn] = std * 100\n",
    "    \n",
    "        end = time.time()\n",
    "    \n",
    "        print(binn + ' took ' + str((end-start)) + ' s')\n",
    "\n",
    "    return means, stds, zeros, reaches, zeros_per"
   ]
  },
  {
   "cell_type": "markdown",
   "id": "f312c953-5226-4207-83fd-ea6d30749ba8",
   "metadata": {
    "tags": []
   },
   "source": [
    "### For plotting"
   ]
  },
  {
   "cell_type": "code",
   "execution_count": 7,
   "id": "cb5e0840-6d62-45d9-865a-27ddbdfe602b",
   "metadata": {},
   "outputs": [],
   "source": [
    "cmap = plt.get_cmap('cubehelix', 11)\n",
    "new_cmap = truncate_colormap(cmap, 0.2, 0.75)"
   ]
  },
  {
   "cell_type": "code",
   "execution_count": 8,
   "id": "db1b8be2-fd20-4a66-83a1-4bb6ed98f4dc",
   "metadata": {},
   "outputs": [],
   "source": [
    "color = []\n",
    "\n",
    "for i in np.linspace(0, 1, 7):\n",
    "    color.append(colors.rgb2hex(new_cmap(i)))"
   ]
  },
  {
   "cell_type": "code",
   "execution_count": 9,
   "id": "ca505ea2-1e5d-4587-a1a5-6a1f17221076",
   "metadata": {},
   "outputs": [],
   "source": [
    "palette = sns.color_palette(color)\n",
    "palette_two = sns.color_palette(color[1::3])\n",
    "palette_three = sns.color_palette(color[1::2])\n",
    "palette_four = sns.color_palette(color[0::2])"
   ]
  },
  {
   "cell_type": "code",
   "execution_count": null,
   "id": "3b7224c2-d1fb-401a-9462-d83358d54fb7",
   "metadata": {},
   "outputs": [],
   "source": [
    "# palette_three"
   ]
  },
  {
   "cell_type": "code",
   "execution_count": null,
   "id": "e722070b-f5d2-4b9c-bf25-46f5ab70dab9",
   "metadata": {
    "scrolled": true
   },
   "outputs": [],
   "source": [
    "# palette_four"
   ]
  },
  {
   "cell_type": "markdown",
   "id": "6790c17c-db46-46b7-b2c0-9a45f5e86df5",
   "metadata": {
    "tags": []
   },
   "source": [
    "### Setup"
   ]
  },
  {
   "cell_type": "code",
   "execution_count": 10,
   "id": "3761e791-90d9-4c87-bace-f10edad737d3",
   "metadata": {},
   "outputs": [],
   "source": [
    "# Order of all possible bins for plotting\n",
    "order = ['(0, 10]', '(10, 20]', '(20, 30]', '(30, 40]', '(40, 50]',\n",
    "         '(50, 60]', '(60, 70]', '(70, 80]', '(80, 90]', '(90, 100]',\n",
    "         '(100, 150]', '(150, 200]', '(200, 500]']"
   ]
  },
  {
   "cell_type": "code",
   "execution_count": 11,
   "id": "bfdb0405-cb86-4ebd-a7b0-bd3ca75d9e42",
   "metadata": {
    "tags": []
   },
   "outputs": [],
   "source": [
    "# Thresholds\n",
    "thresholds = ['0.1', '0.2', '0.3', '0.4', '0.5', '0.6', '0.7', '0.8', '0.9']"
   ]
  },
  {
   "cell_type": "code",
   "execution_count": 12,
   "id": "b89c63f1-8bc9-44fd-96ec-8a2660296e9a",
   "metadata": {},
   "outputs": [],
   "source": [
    "save_path = '/nas/cee-water/cjgleason/fiona/narrow_rivers_PIXC/figures/figures_for_2025_06_16/'"
   ]
  },
  {
   "cell_type": "markdown",
   "id": "e6e572fe-811c-4326-9e7d-a373f443a55a",
   "metadata": {
    "tags": []
   },
   "source": [
    "### HUC2_01, Northeast"
   ]
  },
  {
   "cell_type": "code",
   "execution_count": 3,
   "id": "1dd97655-9e5c-4a41-8fce-6a437a30ca41",
   "metadata": {},
   "outputs": [],
   "source": [
    "## Setup\n",
    "bwidth = 'mean'\n",
    "bbin = 'Bin'\n",
    "huc2 = '01'\n",
    "data_path = '../../narrow_rivers_PIXC_output/PIXC_v2_0_HUC2_' + \\\n",
    "            huc2 + '_2025_05_24_' + bwidth"
   ]
  },
  {
   "cell_type": "code",
   "execution_count": 4,
   "id": "7f6b9e36-ce00-464a-8485-8f36346d8914",
   "metadata": {},
   "outputs": [
    {
     "data": {
      "text/plain": [
       "2658"
      ]
     },
     "execution_count": 4,
     "metadata": {},
     "output_type": "execute_result"
    }
   ],
   "source": [
    "# Get list of files (currently set to only give PIC2)\n",
    "files = getFiles(data_path)\n",
    "len(files)"
   ]
  },
  {
   "cell_type": "code",
   "execution_count": 9,
   "id": "04ce7a4d-db31-4c94-9c0f-4491fe3e791a",
   "metadata": {},
   "outputs": [],
   "source": [
    "# Read in all files\n",
    "ddf_ne = dd.read_parquet(files[0:5])"
   ]
  },
  {
   "cell_type": "code",
   "execution_count": 16,
   "id": "17aae9dc-8275-4080-903a-129f64f5c737",
   "metadata": {},
   "outputs": [],
   "source": [
    "# Calculate percent coverage of full reach\n",
    "ddf_ne['coverage'] = ddf_ne.iloc[:, 1:10].sum(axis=1) / 10"
   ]
  },
  {
   "cell_type": "code",
   "execution_count": 17,
   "id": "4aec7b8f-9511-4627-b5f5-eb8ebb17f9f9",
   "metadata": {},
   "outputs": [],
   "source": [
    "ddf_ne = ddf_ne[['NHDPlusID', bbin, 'coverage']]"
   ]
  },
  {
   "cell_type": "code",
   "execution_count": 18,
   "id": "d4a778cb-b18e-4122-bf5e-5f5c711293b4",
   "metadata": {},
   "outputs": [
    {
     "name": "stdout",
     "output_type": "stream",
     "text": [
      "(0, 10] took 13.986270904541016 s\n",
      "(10, 20] took 12.377955913543701 s\n",
      "(20, 30] took 12.43013072013855 s\n",
      "(30, 40] took 12.482090711593628 s\n",
      "(40, 50] took 12.419821500778198 s\n",
      "(50, 60] took 12.448651313781738 s\n",
      "(60, 70] took 12.531167030334473 s\n",
      "(70, 80] took 12.257956743240356 s\n",
      "(80, 90] took 12.122227668762207 s\n",
      "(90, 100] took 12.139350652694702 s\n",
      "(100, 150] took 12.289011716842651 s\n",
      "(150, 200] took 12.404659032821655 s\n",
      "(200, 500] took 11.975711107254028 s\n"
     ]
    }
   ],
   "source": [
    "# Compute stats for plotting\n",
    "# means, stds, zeros, reaches, zeros_per\n",
    "means_ne, stds_ne, zeros_ne, \\\n",
    "reaches_ne, zeros_per_ne = computeStats(ddf=ddf_ne,\n",
    "                                            order=order,\n",
    "                                            bbin=bbin)"
   ]
  },
  {
   "cell_type": "code",
   "execution_count": 19,
   "id": "7ab37496-3240-4452-a54a-0891cf596fb8",
   "metadata": {},
   "outputs": [],
   "source": [
    "# zeros_per_ne = {}\n",
    "\n",
    "# for (i, x, y) in zip(order, zeros_ne.values(), reaches_ne.values()):\n",
    "#     zeros_per_ne[i] = round((x / y * 100), 1)"
   ]
  },
  {
   "cell_type": "code",
   "execution_count": 20,
   "id": "adbe6213-bab9-4c93-a2d8-783a55a960ff",
   "metadata": {
    "scrolled": true
   },
   "outputs": [],
   "source": [
    "# for i in range(len(thresholds)):\n",
    "\n",
    "#     thresh = thresholds[i]\n",
    "\n",
    "#     percent = str(int(float(thresh)*100))\n",
    "\n",
    "#     # Draw plot with error bars and extra formatting to match seaborn style\n",
    "#     fig, ax = plt.subplots(figsize=(9,5))\n",
    "#     ax.errorbar(x=order, y=means_ne[thresh], yerr=stds_ne[thresh],\n",
    "#                 color=palette_four[0], ecolor=palette_four[0],\n",
    "#                 marker='o')\n",
    "#     # ax.set_xlabel('timepoint')\n",
    "#     # ax.set_ylabel('signal')\n",
    "#     ax.spines['top'].set_visible(False)\n",
    "#     ax.spines['right'].set_visible(False)\n",
    "#     plt.title('Reaches by proportion of nodes that meet or exceed ' + percent +\n",
    "#           '% coverage, excluding reaches with 0% coverage')\n",
    "    \n",
    "#     plt.xlabel('Width Bin [m]')\n",
    "#     plt.ylabel('Number of nodes that exceed ' + percent + '% coverage')\n",
    "#     plt.xticks(rotation=-45)\n",
    "    \n",
    "#     plt.show()"
   ]
  },
  {
   "cell_type": "markdown",
   "id": "b77b52bd-df32-4e0e-a45c-c3b9718af630",
   "metadata": {
    "tags": []
   },
   "source": [
    "### HUC2_08, Southeast"
   ]
  },
  {
   "cell_type": "code",
   "execution_count": 21,
   "id": "8c978590-83a3-4418-bcb7-cb0a58010a54",
   "metadata": {},
   "outputs": [],
   "source": [
    "## Setup\n",
    "bwidth = 'mean'\n",
    "bbin = 'Bin'\n",
    "huc2 = '08'\n",
    "data_path = '../../narrow_rivers_PIXC_output/PIXC_v2_0_HUC2_' + \\\n",
    "            huc2 + '_2025_05_24_' + bwidth"
   ]
  },
  {
   "cell_type": "code",
   "execution_count": 22,
   "id": "6388aef1-21d8-4469-8801-0714eb0522eb",
   "metadata": {},
   "outputs": [
    {
     "data": {
      "text/plain": [
       "3817"
      ]
     },
     "execution_count": 22,
     "metadata": {},
     "output_type": "execute_result"
    }
   ],
   "source": [
    "# Get list of files\n",
    "files = getFiles(data_path)\n",
    "len(files)"
   ]
  },
  {
   "cell_type": "code",
   "execution_count": 23,
   "id": "367c871a-5e10-4121-8b26-88433fbe86b9",
   "metadata": {},
   "outputs": [],
   "source": [
    "ddf_se = dd.read_parquet(files)"
   ]
  },
  {
   "cell_type": "code",
   "execution_count": 24,
   "id": "750ce4d1-1d01-4e21-98ed-ec8b59c867af",
   "metadata": {},
   "outputs": [],
   "source": [
    "# Calculate percent coverage of full reach\n",
    "ddf_se['coverage'] = ddf_se.iloc[:, 1:10].sum(axis=1) / 10"
   ]
  },
  {
   "cell_type": "code",
   "execution_count": 25,
   "id": "b7ffba66-2c77-4c13-927c-2059c114bf93",
   "metadata": {},
   "outputs": [],
   "source": [
    "ddf_se = ddf_se[['NHDPlusID', bbin, 'coverage']]"
   ]
  },
  {
   "cell_type": "code",
   "execution_count": 26,
   "id": "73b0b599-2bf3-47af-992c-9fa8a1407502",
   "metadata": {},
   "outputs": [
    {
     "name": "stdout",
     "output_type": "stream",
     "text": [
      "(0, 10] took 20.34357738494873 s\n",
      "(10, 20] took 19.049506664276123 s\n",
      "(20, 30] took 18.45288109779358 s\n",
      "(30, 40] took 18.53713893890381 s\n",
      "(40, 50] took 18.598238706588745 s\n",
      "(50, 60] took 18.120993852615356 s\n",
      "(60, 70] took 18.499536514282227 s\n",
      "(70, 80] took 18.325384616851807 s\n",
      "(80, 90] took 18.77493929862976 s\n",
      "(90, 100] took 18.50914764404297 s\n",
      "(100, 150] took 18.446311712265015 s\n",
      "(150, 200] took 18.376737594604492 s\n",
      "(200, 500] took 18.382988691329956 s\n"
     ]
    }
   ],
   "source": [
    "# Compute stats for plotting\n",
    "means_se, stds_se, zeros_se, reaches_se, zeros_per_se = computeStats(ddf=ddf_se,\n",
    "                                                       order=order,\n",
    "                                                       bbin=bbin)"
   ]
  },
  {
   "cell_type": "code",
   "execution_count": 27,
   "id": "4f3380ad-7e9b-4df6-abbc-4318a32f44d9",
   "metadata": {},
   "outputs": [],
   "source": [
    "# zeros_per_se = {}\n",
    "\n",
    "# for (i, x, y) in zip(order, zeros_se.values(), reaches_se.values()):\n",
    "#     zeros_per_se[i] = round((x / y * 100), 1)"
   ]
  },
  {
   "cell_type": "code",
   "execution_count": 28,
   "id": "966b256d-bfa2-4f9e-9d8b-5bb67111c2af",
   "metadata": {},
   "outputs": [
    {
     "data": {
      "text/plain": [
       "{'(0, 10]': 61.7,\n",
       " '(10, 20]': 48.8,\n",
       " '(20, 30]': 51.9,\n",
       " '(30, 40]': 43.6,\n",
       " '(40, 50]': 39.5,\n",
       " '(50, 60]': 33.8,\n",
       " '(60, 70]': 43.8,\n",
       " '(70, 80]': 37.7,\n",
       " '(80, 90]': 28.0,\n",
       " '(90, 100]': 35.1,\n",
       " '(100, 150]': 32.7,\n",
       " '(150, 200]': 24.1,\n",
       " '(200, 500]': 24.6}"
      ]
     },
     "execution_count": 28,
     "metadata": {},
     "output_type": "execute_result"
    }
   ],
   "source": [
    "zeros_per_se"
   ]
  },
  {
   "cell_type": "markdown",
   "id": "98e3f765-05c4-4c8b-be32-39197b686177",
   "metadata": {
    "tags": []
   },
   "source": [
    "### HUC2_15, Southwest"
   ]
  },
  {
   "cell_type": "code",
   "execution_count": 29,
   "id": "1a5e32ba-a4f9-4825-85b3-b71037b5bcaf",
   "metadata": {
    "tags": []
   },
   "outputs": [],
   "source": [
    "## Setup\n",
    "bwidth = 'mean'\n",
    "bbin = 'Bin'\n",
    "huc2 = '15'\n",
    "data_path = '../../narrow_rivers_PIXC_output/PIXC_v2_0_HUC2_' + \\\n",
    "            huc2 + '_2025_05_24_' + bwidth"
   ]
  },
  {
   "cell_type": "code",
   "execution_count": 30,
   "id": "b974a1a7-003f-4166-8db8-2ac14ff514d3",
   "metadata": {},
   "outputs": [
    {
     "data": {
      "text/plain": [
       "5094"
      ]
     },
     "execution_count": 30,
     "metadata": {},
     "output_type": "execute_result"
    }
   ],
   "source": [
    "# Get list of files\n",
    "files = getFiles(data_path)\n",
    "len(files)"
   ]
  },
  {
   "cell_type": "code",
   "execution_count": 31,
   "id": "22a8cb73-c0de-4744-aa24-a8c747d88574",
   "metadata": {},
   "outputs": [],
   "source": [
    "ddf_sw = dd.read_parquet(files)"
   ]
  },
  {
   "cell_type": "code",
   "execution_count": 32,
   "id": "2191e07f-c046-4d28-9ba7-3780e62df331",
   "metadata": {},
   "outputs": [],
   "source": [
    "# Calculate percent coverage of full reach\n",
    "ddf_sw['coverage'] = ddf_sw.iloc[:, 1:10].sum(axis=1) / 10"
   ]
  },
  {
   "cell_type": "code",
   "execution_count": 33,
   "id": "33bbbf55-d9c1-401c-ab3d-5ca9975695aa",
   "metadata": {},
   "outputs": [],
   "source": [
    "ddf_sw = ddf_sw[['NHDPlusID', bbin, 'coverage']]"
   ]
  },
  {
   "cell_type": "code",
   "execution_count": 34,
   "id": "d7a1e561-3d19-4a0b-bf28-ef995c071dbf",
   "metadata": {},
   "outputs": [
    {
     "name": "stdout",
     "output_type": "stream",
     "text": [
      "(0, 10] took 26.93579602241516 s\n",
      "(10, 20] took 25.09740662574768 s\n",
      "(20, 30] took 24.927325963974 s\n",
      "(30, 40] took 24.621665000915527 s\n",
      "(40, 50] took 24.219584465026855 s\n",
      "(50, 60] took 24.178546667099 s\n",
      "(60, 70] took 24.512553215026855 s\n",
      "(70, 80] took 24.288629055023193 s\n",
      "(80, 90] took 24.397319555282593 s\n",
      "(90, 100] took 24.31048846244812 s\n",
      "(100, 150] took 24.36142897605896 s\n",
      "(150, 200] took 24.10036325454712 s\n",
      "(200, 500] took 24.444551467895508 s\n"
     ]
    }
   ],
   "source": [
    "# Compute stats for plotting\n",
    "means_sw, stds_sw, zeros_sw, reaches_sw, zeros_per_sw = computeStats(ddf=ddf_sw,\n",
    "                                                       order=order,\n",
    "                                                       bbin=bbin)"
   ]
  },
  {
   "cell_type": "code",
   "execution_count": 35,
   "id": "90ef49a9-e6b6-47f8-b6b6-ea6ca86a35c1",
   "metadata": {},
   "outputs": [],
   "source": [
    "# zeros_per_sw = {}\n",
    "\n",
    "# for (i, x, y) in zip(order, zeros_sw.values(), reaches_sw.values()):\n",
    "#     if y == 0:\n",
    "#         zeros_per_sw[i] = 0\n",
    "#     else:\n",
    "#         zeros_per_sw[i] = round((x / y * 100), 1)"
   ]
  },
  {
   "cell_type": "markdown",
   "id": "8b66f158-cc5a-4354-914a-7c7b9dec68c2",
   "metadata": {
    "tags": []
   },
   "source": [
    "### HUC2_17, Northwest"
   ]
  },
  {
   "cell_type": "code",
   "execution_count": 36,
   "id": "2be08f00-cf7b-4ecb-be6f-3c9c9139fa14",
   "metadata": {},
   "outputs": [],
   "source": [
    "## Setup\n",
    "bwidth = 'mean'\n",
    "bbin = 'Bin'\n",
    "huc2 = '17'\n",
    "data_path = '../../narrow_rivers_PIXC_output/PIXC_v2_0_HUC2_' + \\\n",
    "            huc2 + '_2025_05_24_' + bwidth"
   ]
  },
  {
   "cell_type": "code",
   "execution_count": 37,
   "id": "41bde6c2-b273-4db2-98a5-6dcc23bce74d",
   "metadata": {},
   "outputs": [
    {
     "data": {
      "text/plain": [
       "10032"
      ]
     },
     "execution_count": 37,
     "metadata": {},
     "output_type": "execute_result"
    }
   ],
   "source": [
    "# Get list of files\n",
    "files = getFiles(data_path)\n",
    "len(files)"
   ]
  },
  {
   "cell_type": "code",
   "execution_count": 38,
   "id": "084403ff-1a77-43c3-a625-efd574d92b56",
   "metadata": {},
   "outputs": [],
   "source": [
    "ddf_nw = dd.read_parquet(files)"
   ]
  },
  {
   "cell_type": "code",
   "execution_count": 39,
   "id": "de9e131f-fbba-426b-9d9f-5c8dcd1d14d2",
   "metadata": {},
   "outputs": [],
   "source": [
    "# Calculate percent coverage of full reach\n",
    "ddf_nw['coverage'] = ddf_nw.iloc[:, 1:10].sum(axis=1) / 10"
   ]
  },
  {
   "cell_type": "code",
   "execution_count": 40,
   "id": "a4105890-99e4-4660-a82e-f53ac8137016",
   "metadata": {},
   "outputs": [],
   "source": [
    "ddf_nw = ddf_nw[['NHDPlusID', bbin, 'coverage']]"
   ]
  },
  {
   "cell_type": "code",
   "execution_count": 41,
   "id": "fbac27a6-03e9-4280-afab-dac85bc57dfc",
   "metadata": {},
   "outputs": [
    {
     "name": "stdout",
     "output_type": "stream",
     "text": [
      "(0, 10] took 72.78383541107178 s\n",
      "(10, 20] took 60.46162796020508 s\n",
      "(20, 30] took 60.3454213142395 s\n",
      "(30, 40] took 60.902358531951904 s\n",
      "(40, 50] took 60.77099394798279 s\n",
      "(50, 60] took 60.43974852561951 s\n",
      "(60, 70] took 59.763548851013184 s\n",
      "(70, 80] took 60.2411584854126 s\n",
      "(80, 90] took 59.92852067947388 s\n",
      "(90, 100] took 59.20961284637451 s\n",
      "(100, 150] took 59.164790630340576 s\n",
      "(150, 200] took 64.98160767555237 s\n",
      "(200, 500] took 63.243043184280396 s\n"
     ]
    }
   ],
   "source": [
    "# Compute stats for plotting\n",
    "means_nw, stds_nw, zeros_nw, reaches_nw, zeros_per_nw = computeStats(ddf=ddf_nw,\n",
    "                                                       order=order,\n",
    "                                                       bbin=bbin)"
   ]
  },
  {
   "cell_type": "code",
   "execution_count": null,
   "id": "e3a540e4-cd70-4cdc-8877-f1f3226ffa4c",
   "metadata": {},
   "outputs": [],
   "source": [
    "# zeros_per_nw = {}\n",
    "\n",
    "# for (i, x, y) in zip(order, zeros_nw.values(), reaches_nw.values()):\n",
    "#     if y == 0:\n",
    "#         zeros_per_nw[i] = 0\n",
    "#     else:\n",
    "#         zeros_per_nw[i] = round((x / y * 100), 1)"
   ]
  },
  {
   "cell_type": "markdown",
   "id": "c675989a-45b5-4ae5-ba16-68ee6ef994f7",
   "metadata": {
    "tags": []
   },
   "source": [
    "### Four"
   ]
  },
  {
   "cell_type": "code",
   "execution_count": null,
   "id": "4a690d52-0b25-47e8-9f35-2c54d237e11a",
   "metadata": {},
   "outputs": [],
   "source": [
    "# result_list = []\n",
    "# for key in means_ne:\n",
    "#   result_list.append(means_ne[key] - stds_ne[key])"
   ]
  },
  {
   "cell_type": "code",
   "execution_count": null,
   "id": "aaa4d668-5c77-4563-82aa-853af6ab7241",
   "metadata": {},
   "outputs": [],
   "source": [
    "# test = []\n",
    "# for key in means_ne:\n",
    "#   test.append(means_ne[key] + stds_ne[key])"
   ]
  },
  {
   "cell_type": "code",
   "execution_count": 43,
   "id": "44b06ec6-fe99-4805-9deb-a30b08170836",
   "metadata": {},
   "outputs": [
    {
     "name": "stderr",
     "output_type": "stream",
     "text": [
      "/tmp/ipykernel_3860863/843429247.py:28: UserWarning: set_ticklabels() should only be used with a fixed number of ticks, i.e. after set_ticks() or using a FixedLocator.\n",
      "  ax0.set_xticklabels(ax0.get_xticklabels(), rotation=-45)\n"
     ]
    },
    {
     "data": {
      "image/png": "[encoded data removed]",
      "text/plain": [
       "<Figure size 1200x1600 with 5 Axes>"
      ]
     },
     "metadata": {},
     "output_type": "display_data"
    }
   ],
   "source": [
    "# i = 4\n",
    "# thresh = thresholds[i]\n",
    "# percent = str(int(float(thresh) * 100))\n",
    "\n",
    "fig = plt.figure(figsize=(12, 16), layout='constrained')\n",
    "spec = fig.add_gridspec(3, 2\n",
    "                       # , height_ratios=[2, 1.5, 1.5]\n",
    "                       # , width_ratios=[2, 0.5]\n",
    "                      )\n",
    "\n",
    "## First plot (spans both columns)\n",
    "ax0 = fig.add_subplot(spec[0, :])\n",
    "\n",
    "ax0.errorbar(x=order, y=list(means_ne.values()), color=palette_four[0], ecolor=palette_four[0],\n",
    "             capsize=5, marker='o', label='HUC2_01')\n",
    "ax0.errorbar(x=order, y=list(means_se.values()), color=palette_four[1], ecolor=palette_four[1],\n",
    "             capsize=5, marker='o', label='HUC2_08')\n",
    "ax0.errorbar(x=order, y=list(means_sw.values()), color=palette_four[2], ecolor=palette_four[2],\n",
    "             capsize=5, marker='o', label='HUC2_15')\n",
    "ax0.errorbar(x=order, y=list(means_nw.values()), color=palette_four[3], ecolor=palette_four[3],\n",
    "             capsize=5, marker='o', label='HUC2_17')\n",
    "\n",
    "ax0.set_title('Mean coverage for reaches, excluding reaches with 0% coverage')\n",
    "ax0.set_xlabel('Width Bin [m]')\n",
    "ax0.set_ylabel('Percentage [%]')\n",
    "ax0.set_ylim(0,50)\n",
    "ax0.legend()\n",
    "ax0.set_xticklabels(ax0.get_xticklabels(), rotation=-45)\n",
    "\n",
    "\n",
    "## SUBPLOTS\n",
    "# NE\n",
    "ax10 = fig.add_subplot(spec[1,0])\n",
    "\n",
    "ax10.errorbar(x=order, y=list(means_ne.values()), yerr=list(stds_ne.values()),\n",
    "              color=palette_four[0], ecolor=palette_four[0],\n",
    "              alpha=0.5, capsize=5, marker='o')\n",
    "\n",
    "for x, y in zip(order, list(means_ne.values())):\n",
    "        plt.annotate(text=(str(zeros_per_ne[x]) + '%\\n' + str(reaches_ne[x])),\n",
    "                     xy=(x, y), xytext=(x, y+1), ha='center', fontsize=8, weight='bold')\n",
    "\n",
    "\n",
    "ax10.set_title('HUC2_01')\n",
    "ax10.set_ylabel('Percentage [%]')\n",
    "ax10.set_ylim(0,50)\n",
    "# ax.set_ylabel(f'# of Nodes ≥ {percent}% Coverage')\n",
    "ax10.tick_params(axis='x', rotation=-45)\n",
    "\n",
    "# ax10_1 = ax10.twinx()\n",
    "# # ax10_1.plot(order, list(reaches_ne.values()))\n",
    "# # ax10_1.fill_between(order, list(reaches_ne.values()),\n",
    "#                      # color=palette_four[0], alpha=0.3) # Fill under the line with transparency\n",
    "# ax10_1.bar(order, list(reaches_ne.values()), color=palette_four[0], alpha=0.4)\n",
    "# ax10_1.bar(order, np.array(list(reaches_ne.values())) * np.array(list(zeros_per_ne.values())),\n",
    "#            color=palette_four[0], alpha=0.4)\n",
    "# ax10_1.set_ylim(0, np.max(list(reaches_ne.values())))\n",
    "\n",
    "\n",
    "# SE\n",
    "ax11 = fig.add_subplot(spec[1,1])\n",
    "\n",
    "ax11.errorbar(x=order, y=list(means_se.values()), yerr=list(stds_se.values()),\n",
    "              color=palette_four[1], ecolor=palette_four[1],\n",
    "              alpha=0.5, capsize=5, marker='o')\n",
    "\n",
    "for x, y in zip(order, list(means_se.values())):\n",
    "        plt.annotate(text=(str(zeros_per_se[x]) + '%\\n' + str(reaches_se[x])),\n",
    "                     xy=(x, y), xytext=(x, y+1), ha='center', fontsize=8, weight='bold')\n",
    "\n",
    "ax11.set_title('HUC2_08')\n",
    "# ax11.set_xlabel('Width Bin [m]')\n",
    "ax11.set_ylim(0,50)\n",
    "# ax.set_ylabel(f'# of Nodes ≥ {percent}% Coverage')\n",
    "ax11.tick_params(axis='x', rotation=-45)\n",
    "\n",
    "# SW\n",
    "ax20 = fig.add_subplot(spec[2,0])\n",
    "\n",
    "ax20.errorbar(x=order, y=list(means_sw.values()), yerr=list(stds_sw.values()),\n",
    "              color=palette_four[2], ecolor=palette_four[2],\n",
    "              alpha=0.5, capsize=5, marker='o')\n",
    "\n",
    "for x, y in zip(order, list(means_sw.values())):\n",
    "        plt.annotate(text=(str(zeros_per_sw[x]) + '%\\n' + str(reaches_sw[x])),\n",
    "                     xy=(x, y), xytext=(x, y+1), ha='center', fontsize=8, weight='bold')\n",
    "\n",
    "ax20.set_title('HUC2_15')\n",
    "ax20.set_xlabel('Width Bin [m]')\n",
    "ax20.set_ylabel('Percentage [%]')\n",
    "ax20.set_ylim(0,50)\n",
    "# ax.set_ylabel(f'# of Nodes ≥ {percent}% Coverage')\n",
    "ax20.tick_params(axis='x', rotation=-45)\n",
    "\n",
    "\n",
    "# NW\n",
    "ax21 = fig.add_subplot(spec[2,1])\n",
    "\n",
    "ax21.errorbar(x=order, y=list(means_nw.values()), yerr=list(stds_nw.values()),\n",
    "              color=palette_four[3], ecolor=palette_four[3],\n",
    "              alpha=0.5, capsize=5, marker='o')\n",
    "\n",
    "for x, y in zip(order, list(means_nw.values())):\n",
    "        plt.annotate(text=(str(zeros_per_nw[x]) + '%\\n' + str(reaches_nw[x])),\n",
    "                     xy=(x, y), xytext=(x, y+1), ha='center', fontsize=8, weight='bold')\n",
    "\n",
    "ax21.set_title('HUC2_17')\n",
    "ax21.set_xlabel('Width Bin [m]')\n",
    "ax21.set_ylim(0,50)\n",
    "# ax.set_ylabel(f'# of Nodes ≥ {percent}% Coverage')\n",
    "ax21.tick_params(axis='x', rotation=-45)\n",
    "\n",
    "plt.savefig(os.path.join(save_path, 'reaches_four_PIC0_PGC0_with_sub.png'), bbox_inches='tight')"
   ]
  },
  {
   "cell_type": "code",
   "execution_count": null,
   "id": "d887f02d-d75e-4251-af89-2c4cad747454",
   "metadata": {},
   "outputs": [],
   "source": [
    "np.max(list(reaches_ne.values()))"
   ]
  },
  {
   "cell_type": "code",
   "execution_count": null,
   "id": "0ce02378-9512-47db-b971-fc0e6e2b1251",
   "metadata": {},
   "outputs": [],
   "source": [
    "# # for i in range(len(thresholds)):\n",
    "\n",
    "# # i = 4\n",
    "\n",
    "# # thresh = thresholds[i]\n",
    "\n",
    "# # percent = str(int(float(thresh)*100))\n",
    "\n",
    "# # Draw plot with error bars and extra formatting to match seaborn style\n",
    "# fig, ax = plt.subplots(figsize=(10,6))\n",
    "\n",
    "# ax.errorbar(x=order, y=list(means_ne.values()),\n",
    "#             # yerr=stds_ne[thresh],\n",
    "#             color=palette_four[0], ecolor=palette_four[0],\n",
    "#             # alpha=0.7,\n",
    "#             capsize=5,\n",
    "#             marker='o', label='HUC2_01')\n",
    "\n",
    "# # ax.fill_between(x=order, y1=result_list,\n",
    "# #                 y2=test, \n",
    "# #                 alpha=0.3, color=palette_four[0],\n",
    "# #                 label='Error Ribbon')\n",
    "\n",
    "# ax.errorbar(x=order, y=list(means_se.values()),\n",
    "#             # yerr=stds_se[thresh],\n",
    "#             color=palette_four[1], ecolor=palette_four[1],\n",
    "#             # alpha=0.7, \n",
    "#             capsize=5,\n",
    "#             marker='o', label='HUC2_08')\n",
    "\n",
    "# ax.errorbar(x=order, y=list(means_sw.values()),\n",
    "#             # yerr=stds_sw[thresh],\n",
    "#             color=palette_four[2], ecolor=palette_four[2],\n",
    "#             # alpha=0.7,\n",
    "#             capsize=5,\n",
    "#             marker='o', label='HUC2_15')\n",
    "\n",
    "# ax.errorbar(x=order, y=list(means_nw.values()),\n",
    "#             # yerr=stds_nw[thresh],\n",
    "#             color=palette_four[3], ecolor=palette_four[3],\n",
    "#             # alpha=0.7,\n",
    "#             # capsize=5,\n",
    "#             marker='o', label='HUC2_17')\n",
    "\n",
    "# ax.set_title('Mean coverage for reaches, excluding reaches with 0% coverage')\n",
    "\n",
    "# ax.set_xlabel('Width Bin [m]')\n",
    "# ax.set_ylabel('Percentage [%]')\n",
    "\n",
    "\n",
    "# plt.legend(title='HUC2', loc='upper left',\n",
    "#            title_fontproperties={'weight': 'bold'})\n",
    "# plt.xticks(rotation=-45)\n",
    "# plt.ylim(0,50)\n",
    "\n",
    "# plt.tight_layout()\n",
    "# plt.show()"
   ]
  },
  {
   "cell_type": "code",
   "execution_count": null,
   "id": "74f1f8cf-e33e-484b-b1cb-ded2e9c2a014",
   "metadata": {
    "scrolled": true
   },
   "outputs": [],
   "source": [
    "# # Set threshold\n",
    "# # i = 4\n",
    "# # thresh = thresholds[i]\n",
    "# # percent = str(int(float(thresh) * 100))\n",
    "\n",
    "# # Set up 2x2 subplot grid\n",
    "# fig, axs = plt.subplots(2, 2, figsize=(10, 10), sharex=True, sharey=True)\n",
    "\n",
    "# # Region data dictionary for iteration\n",
    "# regions = {\n",
    "#     'HUC2_01': (list(means_ne.values()), list(stds_ne.values()), palette_four[0]),\n",
    "#     'HUC2_08': (list(means_se.values()), list(stds_se.values()), palette_four[1]),\n",
    "#     'HUC2_15': (list(means_sw.values()), list(stds_sw.values()), palette_four[2]),\n",
    "#     'HUC2_17': (list(means_nw.values()), list(stds_nw.values()), palette_four[3]),\n",
    "# }\n",
    "\n",
    "# # Flatten axes array for easy indexing\n",
    "# axs = axs.flatten()\n",
    "\n",
    "# # Plot each region in its own subplot\n",
    "# for ax, (region, (mean_vals, std_vals, color)) in zip(axs, regions.items()):\n",
    "#     ax.errorbar(x=order, y=mean_vals, yerr=std_vals,\n",
    "#                 color=color, ecolor=color,\n",
    "#                 alpha=1, capsize=5, \n",
    "#                 marker='o', label=region)\n",
    "\n",
    "#     ax.set_title(region)\n",
    "#     ax.set_xlabel('Width Bin [m]')\n",
    "#     # ax.set_ylabel(f'# of Nodes ≥ {percent}% Coverage')\n",
    "#     ax.tick_params(axis='x', rotation=-45)\n",
    "\n",
    "# # Add overall title\n",
    "# # plt.suptitle('Reaches by mean number of nodes that meet or exceed ' + percent +\n",
    "# #              '% coverage, excluding reaches with 0% coverage')\n",
    "# plt.tight_layout()\n",
    "# plt.show()"
   ]
  },
  {
   "cell_type": "markdown",
   "id": "a3eaecae-7e6a-49ac-9260-a8091e80c718",
   "metadata": {
    "jp-MarkdownHeadingCollapsed": true,
    "tags": []
   },
   "source": [
    "## HIDE"
   ]
  },
  {
   "cell_type": "code",
   "execution_count": null,
   "id": "4541956b-316d-4956-9ffd-aade39e67fe2",
   "metadata": {},
   "outputs": [],
   "source": [
    "i = 4\n",
    "thresh = thresholds[i]\n",
    "percent = str(int(float(thresh) * 100))\n",
    "\n",
    "fig = plt.figure(figsize=(12, 16), layout='constrained')\n",
    "gs = gridspec.GridSpec(3, 2\n",
    "                       # , height_ratios=[2, 1.5, 1.5]\n",
    "                       # , width_ratios=[2, 0.5]\n",
    "                      )\n",
    "\n",
    "# First plot (spans both columns)\n",
    "ax0 = fig.add_subplot(gs[0, :])\n",
    "\n",
    "ax0.errorbar(x=order, y=means_ne[thresh], color=palette_four[0], ecolor=palette_four[0],\n",
    "             capsize=5, marker='o', label='HUC2_01')\n",
    "ax0.errorbar(x=order, y=means_se[thresh], color=palette_four[1], ecolor=palette_four[1],\n",
    "             capsize=5, marker='o', label='HUC2_08')\n",
    "ax0.errorbar(x=order, y=means_sw[thresh], color=palette_four[2], ecolor=palette_four[2],\n",
    "             capsize=5, marker='o', label='HUC2_15')\n",
    "ax0.errorbar(x=order, y=means_nw[thresh], color=palette_four[3], ecolor=palette_four[3],\n",
    "             capsize=5, marker='o', label='HUC2_17')\n",
    "\n",
    "ax0.set_xlabel('Width Bin [m]')\n",
    "ax0.set_ylabel(f'Number of nodes that exceed {percent}% coverage')\n",
    "ax0.legend()\n",
    "ax0.set_xticklabels(ax0.get_xticklabels(), rotation=-45)\n",
    "ax0.set_ylim(-1, 11)\n",
    "\n",
    "gs2 = gridspec.GridSpecFromSubplotSpec(2, 2, subplot_spec=gs[1, 0]\n",
    "                                       ,\n",
    "                                       wspace=0.3, hspace=1\n",
    "                                      )\n",
    "\n",
    "regions = {\n",
    "    'HUC2_01': (means_ne[thresh], stds_ne[thresh], palette_four[0]),\n",
    "    'HUC2_08': (means_se[thresh], stds_se[thresh], palette_four[1]),\n",
    "    'HUC2_15': (means_sw[thresh], stds_sw[thresh], palette_four[2]),\n",
    "    'HUC2_17': (means_nw[thresh], stds_nw[thresh], palette_four[3]),\n",
    "}\n",
    "\n",
    "axs = [fig.add_subplot(gs2[i]) for i in range(4)]\n",
    "\n",
    "for ax, (region, (mean_vals, std_vals, color)) in zip(axs, regions.items()):\n",
    "    ax.errorbar(x=order, y=mean_vals, yerr=std_vals, color=color, ecolor=color,\n",
    "                capsize=5, marker='o', label=region)\n",
    "    ax.set_title(region)\n",
    "    ax.set_xlim(-1,11)\n",
    "    ax.set_xlabel('Width Bin [m]')\n",
    "    ax.set_ylabel(f'# of Nodes ≥ {percent}% Coverage')\n",
    "    ax.tick_params(axis='x', rotation=-45)\n",
    "\n",
    "plt.suptitle(f'Reaches by mean number of nodes that meet or exceed {percent}% coverage')\n",
    "plt.tight_layout()\n",
    "# plt.const\n",
    "plt.show()\n"
   ]
  },
  {
   "cell_type": "code",
   "execution_count": null,
   "id": "0a40f917-f987-42fa-a6ec-3d9402464559",
   "metadata": {
    "scrolled": true
   },
   "outputs": [],
   "source": [
    "for i in range(len(thresholds)):\n",
    "    \n",
    "    # Get ne reaches at threshold\n",
    "    ne = ddf_ne_melted[ddf_ne_melted['threshold'] == thresholds[i]].reset_index()#.drop(columns='index')\n",
    "    # ne = ne.sample(frac=0.05)\n",
    "    ne = ne.compute()\n",
    "    \n",
    "    zeros = ne[ne.coverage == 0].count()\n",
    "    reaches = ne.shape[0]\n",
    "    ne_zeros = round(((zeros['coverage']/reaches)*100), 1)\n",
    "    \n",
    "    ne = ne[ne.coverage != 0]\n",
    "    if ne.shape[0] > 100000:\n",
    "        ne = ne.sample(100000)\n",
    "    ne['huc2'] = '01'\n",
    "    \n",
    "    # Get se reaches at threshold\n",
    "    se = ddf_se_melted[ddf_se_melted['threshold'] == thresholds[i]].reset_index().drop(columns='index')\n",
    "    # se = se.sample(frac=0.05)\n",
    "    se = se.compute()\n",
    "    \n",
    "    zeros = se[se.coverage == 0].count()\n",
    "    reaches = se.shape[0]\n",
    "    se_zeros = round(((zeros['coverage']/reaches)*100), 1)\n",
    "    \n",
    "    se = se[se.coverage != 0]\n",
    "    if se.shape[0] > 100000:\n",
    "        se = se.sample(100000)\n",
    "    se['huc2'] = '08'\n",
    "    \n",
    "    # Get sw reaches\n",
    "    sw = ddf_sw_melted[ddf_sw_melted['threshold'] == thresholds[i]].reset_index().drop(columns='index')\n",
    "    # sw = sw.sample(frac=0.05)\n",
    "    sw = sw.compute()\n",
    "    \n",
    "    zeros = sw[sw.coverage == 0].count()\n",
    "    reaches = sw.shape[0]\n",
    "    sw_zeros = round(((zeros['coverage']/reaches)*100), 1)\n",
    "    \n",
    "    sw = sw[sw.coverage != 0]\n",
    "    if sw.shape[0] > 100000:\n",
    "        sw = sw.sample(100000)\n",
    "    sw['huc2'] = '15'\n",
    "    \n",
    "    # Get nw reaches\n",
    "    nw = ddf_nw_melted[ddf_nw_melted['threshold'] == thresholds[i]].reset_index().drop(columns='index')\n",
    "    # nw = nw.sample(frac=0.05)\n",
    "    nw = nw.compute()\n",
    "    \n",
    "    zeros = nw[nw.coverage == 0].count()\n",
    "    reaches = nw.shape[0]\n",
    "    nw_zeros = round(((zeros['coverage']/reaches)*100), 1)\n",
    "    \n",
    "    nw = nw[nw.coverage != 0]\n",
    "    if nw.shape[0] > 100000:\n",
    "        nw = nw.sample(100000)\n",
    "    nw['huc2'] = '17'\n",
    "    \n",
    "    #     # Get combined reaches at 10% threshold\n",
    "    #     both = pd.concat(objs=[ne, sw], axis=0).reset_index()\n",
    "    \n",
    "    #     combo = both.copy()\n",
    "    #     combo['huc2'] = 'combined'\n",
    "    \n",
    "    combined = pd.concat(objs=[ne, se, sw, nw], axis=0).reset_index().drop(columns='index')\n",
    "    \n",
    "    del ne, se, sw, nw\n",
    "    \n",
    "    percent = str(int(float(thresholds[i])*100))\n",
    "    \n",
    "    fig, ax = plt.subplots(figsize=(14,8))\n",
    "    sns.boxplot(data=combined, x='Bin', y='coverage',\n",
    "                order=order,\n",
    "                hue='huc2', palette=palette_four,\n",
    "                legend=True,\n",
    "                saturation=1, showmeans=True,\n",
    "                fliersize=2, linewidth=2,\n",
    "                boxprops=dict(alpha=0.9),\n",
    "                meanprops={'marker':'o',\n",
    "                           'markerfacecolor':'k',\n",
    "                           'markeredgecolor':'k',\n",
    "                           'markersize':'8'})\n",
    "    \n",
    "    plt.title('Reaches by proportion of nodes that meet or exceed ' + percent +\n",
    "              '% coverage, excluding reaches with 0% coverage\\nHUC2_01: ' +\n",
    "              str(ne_zeros) + '% of reaches have 0% coverage in all nodes\\nHUC2_08: ' +\n",
    "              str(se_zeros)+ '% of reaches have 0% coverage in all nodes\\nHUC2_15: ' +\n",
    "              str(sw_zeros) + '% of reaches have 0% coverage in all nodes\\nHUC2_17: ' +\n",
    "              str(nw_zeros) + '% of reaches have 0% coverage in all nodes')\n",
    "    \n",
    "    plt.legend(title='HUC2', loc='upper left',\n",
    "               title_fontproperties={'weight': 'bold'})\n",
    "    \n",
    "    plt.xlabel('Width Bin [m]')\n",
    "    plt.ylabel('Number of nodes that exceed ' + percent + '% coverage')\n",
    "    plt.xticks(rotation=-45)\n",
    "    \n",
    "    plt.savefig(save_path + 'threshold_four_hucs_mean_' + percent + '.png')\n",
    "\n",
    "    del combined"
   ]
  },
  {
   "cell_type": "markdown",
   "id": "5e54ce33-ad51-48cf-8ce2-3b19923d779d",
   "metadata": {
    "tags": []
   },
   "source": [
    "### Combined"
   ]
  },
  {
   "cell_type": "code",
   "execution_count": null,
   "id": "cb69d5b9-1f77-40ef-a3f9-8e7707d1efa3",
   "metadata": {
    "tags": []
   },
   "outputs": [],
   "source": [
    "for i in range(5, len(thresholds)):\n",
    "\n",
    "    zeros = 0\n",
    "    reaches = 0\n",
    "    \n",
    "    # Get ne reaches at threshold\n",
    "    ne = ddf_ne_melted[ddf_ne_melted['threshold'] == thresholds[i]].reset_index()#.drop(columns='index')\n",
    "    # ne = ne.sample(frac=0.05)\n",
    "    ne = ne.compute()\n",
    "    \n",
    "    zeros += ne[ne.coverage == 0].count()\n",
    "    reaches += ne.shape[0]\n",
    "    \n",
    "    ne = ne[ne.coverage != 0]\n",
    "    if ne.shape[0] > 100000:\n",
    "        ne = ne.sample(100000)\n",
    "    \n",
    "    # Get se reaches at threshold\n",
    "    se = ddf_se_melted[ddf_se_melted['threshold'] == thresholds[i]].reset_index().drop(columns='index')\n",
    "    # se = se.sample(frac=0.05)\n",
    "    se = se.compute()\n",
    "    \n",
    "    zeros += se[se.coverage == 0].count()\n",
    "    reaches += se.shape[0]\n",
    "    \n",
    "    se = se[se.coverage != 0]\n",
    "    if se.shape[0] > 100000:\n",
    "        se = se.sample(100000)\n",
    "    \n",
    "    # Get sw reaches\n",
    "    sw = ddf_sw_melted[ddf_sw_melted['threshold'] == thresholds[i]].reset_index().drop(columns='index')\n",
    "    # sw = sw.sample(frac=0.05)\n",
    "    sw = sw.compute()\n",
    "    \n",
    "    zeros += sw[sw.coverage == 0].count()\n",
    "    reaches += sw.shape[0]\n",
    "    \n",
    "    sw = sw[sw.coverage != 0]\n",
    "    if sw.shape[0] > 100000:\n",
    "        sw = sw.sample(100000)\n",
    "    \n",
    "    # Get nw reaches\n",
    "    nw = ddf_nw_melted[ddf_nw_melted['threshold'] == thresholds[i]].reset_index().drop(columns='index')\n",
    "    # nw = nw.sample(frac=0.05)\n",
    "    nw = nw.compute()\n",
    "    \n",
    "    zeros += nw[nw.coverage == 0].count()\n",
    "    reaches += nw.shape[0]\n",
    "    \n",
    "    nw = nw[nw.coverage != 0]\n",
    "    if nw.shape[0] > 100000:\n",
    "        nw = nw.sample(100000)\n",
    "    \n",
    "    #     # Get combined reaches at 10% threshold\n",
    "    #     both = pd.concat(objs=[ne, sw], axis=0).reset_index()\n",
    "    \n",
    "    #     combo = both.copy()\n",
    "    #     combo['huc2'] = 'combined'\n",
    "    \n",
    "    combined = pd.concat(objs=[ne, se, sw, nw], axis=0).reset_index().drop(columns='index')\n",
    "    \n",
    "    del ne, se, sw, nw\n",
    "    \n",
    "    percent = str(int(float(thresholds[i])*100))\n",
    "\n",
    "    all_zeros = round(((zeros['coverage']/reaches)*100), 1)\n",
    "\n",
    "    fig, ax = plt.subplots(figsize=(14,8))\n",
    "    sns.boxplot(data=combined, x='Bin', y='coverage',\n",
    "                order=order,\n",
    "                color=palette[3],\n",
    "                saturation=1, showmeans=True,\n",
    "                fliersize=2, linewidth=2,\n",
    "                boxprops=dict(alpha=0.8),\n",
    "                meanprops={'marker':'o',\n",
    "                           'markerfacecolor':'k',\n",
    "                           'markeredgecolor':'k',\n",
    "                           'markersize':'8'})\n",
    "\n",
    "    plt.title('Reaches by proportion of nodes that meet or exceed ' + percent +\n",
    "              '% coverage, excluding reaches with 0% coverage\\n' + str(all_zeros) +\n",
    "              '% of reaches have 0% coverage in all nodes')\n",
    "\n",
    "    patch = mpatches.Patch(color=palette[3], label='combined')\n",
    "    plt.legend(handles=[patch], title='HUC2', loc='upper left',\n",
    "               title_fontproperties={'weight': 'bold'})\n",
    "\n",
    "    plt.xticks(rotation=-45)\n",
    "\n",
    "    plt.xlabel('Width Bin [m]')\n",
    "    plt.ylabel('Number of nodes that exceed ' + percent + '% coverage')\n",
    "\n",
    "    plt.savefig(save_path + 'threshold_combined_mean_' + percent + '.png')\n",
    "\n",
    "    del combined"
   ]
  },
  {
   "cell_type": "markdown",
   "id": "13868d9f-42e0-4a88-a5f8-c332eed8d900",
   "metadata": {
    "tags": []
   },
   "source": [
    "### All three"
   ]
  },
  {
   "cell_type": "code",
   "execution_count": null,
   "id": "b0f1e88d-4267-4c6e-8bc7-2aeaf85736c9",
   "metadata": {},
   "outputs": [],
   "source": [
    "for i in range(len(thresholds)):\n",
    "\n",
    "    # Get ne reaches at threshold\n",
    "    ne = ddf_ne_melted[ddf_ne_melted['threshold'] == thresholds[i]]\n",
    "    ne = ne.compute().reset_index().drop(columns=['NHDPlusID', 'index'])\n",
    "\n",
    "    zeros = ne[ne.coverage == 0].count()\n",
    "    reaches = ne.shape[0]\n",
    "    ne_zeros = round(((zeros['coverage']/reaches)*100), 1)\n",
    "\n",
    "    ne = ne[ne.coverage != 0]\n",
    "    if ne.shape[0] > 100000:\n",
    "        ne = ne.sample(100000)\n",
    "    ne['huc2'] = '01'\n",
    "\n",
    "    # Get sw reaches\n",
    "    sw = ddf_sw_melted[ddf_sw_melted['threshold'] == thresholds[i]]\n",
    "    sw = sw.compute().reset_index().drop(columns=['NHDPlusID', 'index'])\n",
    "\n",
    "    zeros = sw[sw.coverage == 0].count()\n",
    "    reaches = sw.shape[0]\n",
    "    sw_zeros = round(((zeros['coverage']/reaches)*100), 1)\n",
    "\n",
    "    sw = sw[sw.coverage != 0]\n",
    "    if sw.shape[0] > 100000:\n",
    "        sw = sw.sample(100000)\n",
    "    sw['huc2'] = '15'\n",
    "\n",
    "    # Get combined reaches at 10% threshold\n",
    "    both = pd.concat(objs=[ne, sw], axis=0).reset_index()\n",
    "\n",
    "    combo = both.copy()\n",
    "    combo['huc2'] = 'combined'\n",
    "\n",
    "    combined = pd.concat(objs=[ne, sw, combo], axis=0).reset_index().drop(columns=['index'])\n",
    "\n",
    "    del ne, sw, combo\n",
    "\n",
    "    percent = str(int(thresholds[i]*100))\n",
    "\n",
    "    fig, ax = plt.subplots(figsize=(12,6))\n",
    "    sns.boxplot(data=combined, x='Bin', y='coverage',\n",
    "                order=order,\n",
    "                hue='huc2', palette=palette,\n",
    "                legend=True,\n",
    "                saturation=1, showmeans=True,\n",
    "                fliersize=2, linewidth=2,\n",
    "                boxprops=dict(alpha=0.8),\n",
    "                meanprops={'marker':'o',\n",
    "                           'markerfacecolor':'k',\n",
    "                           'markeredgecolor':'k',\n",
    "                           'markersize':'8'})\n",
    "\n",
    "    plt.title('Reaches with at least ' + percent +\n",
    "              '% coverage in each node, excluding reaches with 0% coverage\\nHUC2_01: ' + str(ne_zeros) +\n",
    "              '% of reaches have 0% coverage in all nodes\\nHUC2_15: ' +\n",
    "              str(sw_zeros) + '% of reaches have 0% coverage in all nodes')\n",
    "\n",
    "    plt.legend(title='HUC2', loc='upper right',\n",
    "               title_fontproperties={'weight': 'bold'})\n",
    "\n",
    "    plt.xlabel('Width Bin [m]')\n",
    "    plt.ylabel('Reaches with at least ' + percent + '% coverage')\n",
    "    plt.xticks(rotation=-45)\n",
    "\n",
    "    plt.savefig(save_path + 'threshold_all_three_mean_' + percent + '.png')"
   ]
  },
  {
   "cell_type": "markdown",
   "id": "cd654467-3703-43b0-92e0-e1e8386d54e4",
   "metadata": {
    "tags": []
   },
   "source": [
    "### Combined old"
   ]
  },
  {
   "cell_type": "code",
   "execution_count": null,
   "id": "1106320c-5946-4431-963a-f467affa10f6",
   "metadata": {},
   "outputs": [],
   "source": [
    "for i in range(len(thresholds)):\n",
    "    # Make combined dataframe\n",
    "    ddf_combo = dd.concat(dfs=[ddf_ne_melted, ddf_sw_melted], axis=0)\n",
    "\n",
    "    # Get combined reaches at 10% threshold\n",
    "    ddf_combo = ddf_combo[(ddf_combo['threshold'] == thresholds[i])]\n",
    "    combo = ddf_combo.compute().drop(columns=['NHDPlusID']).reset_index()\n",
    "    combo = combo.drop(columns=['index', 'threshold'])\n",
    "    combo['coverage'] = combo['coverage']*100\n",
    "    # combo['huc2'] = '01, 15'\n",
    "\n",
    "    percent = str(int(thresholds[i]*100))\n",
    "\n",
    "    fig, ax = plt.subplots(figsize=(10,6))\n",
    "    sns.boxplot(x='Bin', y='coverage',\n",
    "                data=combo,\n",
    "                order=order,\n",
    "                color=color[2],\n",
    "                saturation=1, showmeans=True,\n",
    "                fliersize=2, linewidth=2,\n",
    "                boxprops=dict(alpha=0.8),\n",
    "                meanprops={'marker':'o',\n",
    "                           'markerfacecolor':'k',\n",
    "                           'markeredgecolor':'k',\n",
    "                           'markersize':'8'})\n",
    "\n",
    "    plt.title('Reaches with at least ' + percent +'% coverage in each node, HUC2_01 and HUC2_15')\n",
    "    plt.xticks(rotation=-45)\n",
    "\n",
    "    plt.xlabel('Width Bin [m]')\n",
    "    plt.ylabel('Detected [%]')\n",
    "\n",
    "    plt.savefig('./figures_for_2025_03_06/threshold_combined_mean_' + percent + '.png')"
   ]
  },
  {
   "cell_type": "markdown",
   "id": "dd34e97b-9531-4783-991f-9de5147f74f6",
   "metadata": {
    "tags": []
   },
   "source": [
    "### Side-by-side old"
   ]
  },
  {
   "cell_type": "code",
   "execution_count": null,
   "id": "eebe9079-6473-4f0a-aa97-5e358f2fd1e2",
   "metadata": {},
   "outputs": [],
   "source": [
    "for i in range(len(thresholds)):\n",
    "\n",
    "    # Get ne reaches at 10% threshold\n",
    "    ddf_ne_thresh = ddf_ne[(ddf_ne['threshold'] == thresholds[i])]\n",
    "    ne = ddf_ne_thresh.compute().drop(columns=['NHDPlusID']).reset_index()\n",
    "    ne = ne.drop(columns=['index', 'threshold'])\n",
    "    ne['coverage'] = ne['coverage']*100\n",
    "    ne['huc2'] = '01'\n",
    "\n",
    "    # Get sw reaches at 10% threshold\n",
    "    ddf_sw_melted_thresh = ddf_sw_melted[(ddf_sw_melted['threshold'] == thresholds[i])]\n",
    "    sw = ddf_sw_melted_thresh.compute().drop(columns=['NHDPlusID']).reset_index()\n",
    "    sw = sw.drop(columns=['index', 'threshold'])\n",
    "    sw['coverage'] = sw['coverage']*100\n",
    "    sw['huc2'] = '15'\n",
    "\n",
    "    combo = pd.concat(objs=[ne, sw], axis=0).reset_index()\n",
    "\n",
    "    del ne, sw\n",
    "\n",
    "    percent = str(int(thresholds[i]*100))\n",
    "\n",
    "    fig, ax = plt.subplots(figsize=(10,6))\n",
    "    sns.boxplot(x='Bin', y='coverage', hue='huc2',\n",
    "                data=combo, order=order,\n",
    "                palette=palette_two,\n",
    "                legend=True,\n",
    "                saturation=1, showmeans=True,\n",
    "                fliersize=2, linewidth=2,\n",
    "                boxprops=dict(alpha=0.8),\n",
    "                meanprops={'marker':'o',\n",
    "                           'markerfacecolor':'k',\n",
    "                           'markeredgecolor':'k',\n",
    "                           'markersize':'8'})\n",
    "\n",
    "    plt.legend(title='HUC2', loc='upper right')\n",
    "\n",
    "    plt.title('Reaches with at least ' + percent +'% coverage in each node, HUC2_01 and HUC2_15')\n",
    "    plt.xlabel('Width Bin [m]')\n",
    "    plt.ylabel('Detected [%]')\n",
    "    plt.xticks(rotation=-45)\n",
    "\n",
    "    plt.savefig('./figures_for_2025_03_06/threshold_huc2_01_and_huc_15_mean_' + percent + '.png')"
   ]
  },
  {
   "cell_type": "code",
   "execution_count": null,
   "id": "4f6c69b5-418a-4e27-a3de-21cd4e1e8a35",
   "metadata": {},
   "outputs": [],
   "source": [
    "del combo"
   ]
  },
  {
   "cell_type": "code",
   "execution_count": null,
   "id": "294b70b7-1fbf-41a4-af20-b5b219830a98",
   "metadata": {},
   "outputs": [],
   "source": [
    "# # Define a function to process each group\n",
    "# def process_group(group):\n",
    "#     start = time.time()\n",
    "    \n",
    "#     # Filter the group based on coverage\n",
    "#     zero = group[group.coverage == 0].groupby('Bin').count()\n",
    "#     reach = group.groupby('Bin').count()\n",
    "    \n",
    "#     # Filter out rows where coverage is 0\n",
    "#     temp = group[group.coverage != 0]\n",
    "    \n",
    "#     # Calculate mean and standard deviation\n",
    "#     mean = temp.groupby('Bin')['coverage'].mean()\n",
    "#     std = temp.groupby('Bin')['coverage'].std()\n",
    "    \n",
    "#     end = time.time()\n",
    "#     print(f\"Processing took {end - start} seconds\")\n",
    "    \n",
    "#     return pd.Series({\n",
    "#         'mean': mean,\n",
    "#         'std': std,\n",
    "#         'zero': zero,\n",
    "#         'reach': reach\n",
    "#     })"
   ]
  },
  {
   "cell_type": "code",
   "execution_count": null,
   "id": "2c252391-5d16-41f6-9a5b-05ee9eb505c5",
   "metadata": {},
   "outputs": [],
   "source": [
    "# # Apply the function to each threshold and store results in dictionaries\n",
    "# results = {thresh: process_group(test[test['threshold'] == thresh]) for thresh in thresholds}\n",
    "\n",
    "# # Separate the results into distinct dictionaries\n",
    "# means_ne = {thresh: res['mean'] for thresh, res in results.items()}\n",
    "# stds_ne = {thresh: res['std'] for thresh, res in results.items()}\n",
    "# zeros_ne = {thresh: res['zero'] for thresh, res in results.items()}\n",
    "# reaches_ne = {thresh: res['reach'] for thresh, res in results.items()}"
   ]
  },
  {
   "cell_type": "code",
   "execution_count": null,
   "id": "aec10297-7829-486d-ab5e-44a88ed92ce4",
   "metadata": {},
   "outputs": [],
   "source": [
    "temp = test.groupby('Bin').count().compute()"
   ]
  },
  {
   "cell_type": "code",
   "execution_count": null,
   "id": "d431a5b0-7773-4a85-a4a9-85897f174780",
   "metadata": {},
   "outputs": [],
   "source": [
    "temp = temp.reset_index()"
   ]
  },
  {
   "cell_type": "code",
   "execution_count": null,
   "id": "b92df80d-21a1-4837-adc6-c10e2e94d878",
   "metadata": {},
   "outputs": [],
   "source": [
    "testt = test.compute()"
   ]
  },
  {
   "cell_type": "code",
   "execution_count": null,
   "id": "1758ec7b-ba62-497f-ae3b-3adedc94b3ea",
   "metadata": {},
   "outputs": [],
   "source": [
    "testt['Bin'] = pd.Categorical(testt['Bin'], categories=order, ordered=True)"
   ]
  },
  {
   "cell_type": "code",
   "execution_count": null,
   "id": "35d3c107-7f54-4792-acda-40e8f426fb4c",
   "metadata": {
    "scrolled": true
   },
   "outputs": [],
   "source": [
    "sns.histplot(testt['Bin'])\n",
    "plt.ylim(0,1000)\n",
    "plt.xticks(rotation=45); # Rotate labels 45 degrees"
   ]
  },
  {
   "cell_type": "markdown",
   "id": "89627529-7bc8-4d88-95d5-16f19c8a7e5b",
   "metadata": {},
   "source": [
    "### troubleshoot"
   ]
  },
  {
   "cell_type": "code",
   "execution_count": null,
   "id": "996a37b6-9323-45e1-ba55-f3b6f38bc448",
   "metadata": {},
   "outputs": [],
   "source": [
    "# test = ddf_ne.get_partition(0).compute()"
   ]
  },
  {
   "cell_type": "code",
   "execution_count": null,
   "id": "440fcdd8-7d88-4864-9aee-39ade728e29b",
   "metadata": {},
   "outputs": [],
   "source": [
    "# test = test.drop(test.columns[1:11], axis=1)"
   ]
  },
  {
   "cell_type": "code",
   "execution_count": null,
   "id": "9875fe50-bc31-4bad-a741-eb7948836894",
   "metadata": {},
   "outputs": [],
   "source": [
    "# test.melt(id_vars=['NHDPlusID'],\n",
    "#           value_vars=['0.1', '0.2', '0.3', '0.4', '0.5', '0.6', '0.7', '0.8', '0.9'],\n",
    "#           var_name='threshold')"
   ]
  },
  {
   "cell_type": "code",
   "execution_count": null,
   "id": "2f46aad9-1b89-40c1-8e71-405035b5c223",
   "metadata": {
    "scrolled": true
   },
   "outputs": [],
   "source": [
    "# ddf_ne_melted = ddf_ne_melted.compute().reset_index().drop(columns='index')"
   ]
  },
  {
   "cell_type": "code",
   "execution_count": null,
   "id": "e821fb0e-6ab6-4094-9890-4f092d23e6c7",
   "metadata": {},
   "outputs": [],
   "source": [
    "len(ddf_ne.NHDPlusID.unique())"
   ]
  },
  {
   "cell_type": "code",
   "execution_count": null,
   "id": "2d59a57f-b96d-4061-af8c-34f241053718",
   "metadata": {},
   "outputs": [],
   "source": [
    "len(ddf_ne_melted.NHDPlusID.unique())"
   ]
  },
  {
   "cell_type": "code",
   "execution_count": null,
   "id": "458c917c-184d-4290-a43a-81802b51ee89",
   "metadata": {},
   "outputs": [],
   "source": [
    "# ne = ddf_ne_melted[ddf_ne_melted['coverage'] != 0]"
   ]
  },
  {
   "cell_type": "code",
   "execution_count": null,
   "id": "8e4d2258-d0c4-45ce-b5fb-23b57868b377",
   "metadata": {},
   "outputs": [],
   "source": [
    "# ne = ne[ne['threshold'] == thresholds[4]].reset_index().drop(columns='index')"
   ]
  },
  {
   "cell_type": "code",
   "execution_count": null,
   "id": "796f0a4d-0cca-48bb-95aa-2c9ecde268b8",
   "metadata": {},
   "outputs": [],
   "source": [
    "# ne.compute()"
   ]
  },
  {
   "cell_type": "code",
   "execution_count": null,
   "id": "56ba0f5e-d4f9-414b-b55a-1ac72dbf4d36",
   "metadata": {},
   "outputs": [],
   "source": [
    "ddf_ne = ddf_ne.drop(list(ddf_ne.columns[-9:]), axis=1)"
   ]
  },
  {
   "cell_type": "code",
   "execution_count": null,
   "id": "c1a1873c-a7d4-4f54-8744-42f3b25e8fe9",
   "metadata": {},
   "outputs": [],
   "source": [
    "temp = ddf_ne_melted.merge(right=ddf_ne, how='left', on='NHDPlusID').reset_index()"
   ]
  },
  {
   "cell_type": "code",
   "execution_count": null,
   "id": "eaf66127-c9c2-4bd5-901c-5851a08653fd",
   "metadata": {},
   "outputs": [],
   "source": [
    "temp.compute().iloc[[0]].NHDPlusID"
   ]
  },
  {
   "cell_type": "code",
   "execution_count": null,
   "id": "25dde0bd-57e7-4899-9474-20ab2787fd81",
   "metadata": {},
   "outputs": [],
   "source": [
    "temp = temp.compute()"
   ]
  },
  {
   "cell_type": "code",
   "execution_count": null,
   "id": "24193265-3c8f-4064-a431-19821e98a55b",
   "metadata": {},
   "outputs": [],
   "source": [
    "temp.iloc[0].NHDPlusID"
   ]
  },
  {
   "cell_type": "code",
   "execution_count": null,
   "id": "8d4c5da6-173a-4706-af65-ce00b03d2c23",
   "metadata": {},
   "outputs": [],
   "source": [
    "temp[(temp.threshold == '0.5')].shape"
   ]
  },
  {
   "cell_type": "code",
   "execution_count": null,
   "id": "79177c49-3c05-4e68-acbd-de68d95ca2c7",
   "metadata": {},
   "outputs": [],
   "source": [
    "temp[(temp.threshold == '0.5') & (temp.coverage != 0)].shape"
   ]
  },
  {
   "cell_type": "code",
   "execution_count": null,
   "id": "6585dd20-cfe9-4220-bd64-e401dbb03c0c",
   "metadata": {
    "scrolled": true
   },
   "outputs": [],
   "source": [
    "temp[(temp.threshold == '0.5') & (temp.coverage != 0) & ~(temp.swot_slope.isna())]"
   ]
  },
  {
   "cell_type": "code",
   "execution_count": null,
   "id": "55d0f33c-49b9-4034-8ba2-5f487e35a500",
   "metadata": {},
   "outputs": [],
   "source": [
    "zeros = temp[temp['coverage'] == 0]"
   ]
  },
  {
   "cell_type": "code",
   "execution_count": null,
   "id": "634fdbea-4020-4a04-a3d3-fae160cad52b",
   "metadata": {},
   "outputs": [],
   "source": [
    "ne = temp[temp['coverage'] != 0]"
   ]
  },
  {
   "cell_type": "code",
   "execution_count": null,
   "id": "8e92600b-8eac-41b8-8a15-499db3e6eb11",
   "metadata": {},
   "outputs": [],
   "source": [
    "ne['coverage'] = ne['coverage']*10"
   ]
  },
  {
   "cell_type": "code",
   "execution_count": null,
   "id": "a7d8af44-cf8b-41ef-9996-8d73ce65aea7",
   "metadata": {},
   "outputs": [],
   "source": [
    "ne = ne[['threshold', 'coverage', 'Bin', 'alignment']]"
   ]
  },
  {
   "cell_type": "code",
   "execution_count": null,
   "id": "559ae770-0b3d-4a95-ba5c-390bd38a95f1",
   "metadata": {},
   "outputs": [],
   "source": [
    "ne = ne[ne['threshold'] == thresholds[4]].reset_index().drop(columns='index')"
   ]
  },
  {
   "cell_type": "code",
   "execution_count": null,
   "id": "d4ce0514-cb4a-413a-828a-d8f15ce36ef6",
   "metadata": {},
   "outputs": [],
   "source": [
    "ne.columns"
   ]
  },
  {
   "cell_type": "code",
   "execution_count": null,
   "id": "86e93ffd-db22-41d0-b17d-e77263c1ddb1",
   "metadata": {},
   "outputs": [],
   "source": [
    "ne = ne.merge(ddf_ne[['NHDPlusID', bbin]], how='left', on='NHDPlusID')"
   ]
  },
  {
   "cell_type": "code",
   "execution_count": null,
   "id": "a4333a00-22d6-41d1-9b3d-1e3a3b540a58",
   "metadata": {},
   "outputs": [],
   "source": [
    "ne = ne.drop(columns='NHDPlusID')"
   ]
  },
  {
   "cell_type": "code",
   "execution_count": null,
   "id": "697e3387-a879-4310-9707-88b32c59aeb6",
   "metadata": {},
   "outputs": [],
   "source": [
    "ne.compute()"
   ]
  },
  {
   "cell_type": "code",
   "execution_count": null,
   "id": "93a017f2-bdbd-4243-9f97-ea36cf3f7cd2",
   "metadata": {},
   "outputs": [],
   "source": [
    "# test = ne.sample(frac=0.00005)"
   ]
  },
  {
   "cell_type": "code",
   "execution_count": null,
   "id": "2e820877-b782-44ad-84df-c0635bfb61d3",
   "metadata": {},
   "outputs": [],
   "source": [
    "del ddf_ne, ddf_ne_melted, temp"
   ]
  },
  {
   "cell_type": "code",
   "execution_count": null,
   "id": "f9c07e43-26ec-45a6-a5d9-9a79892a2712",
   "metadata": {},
   "outputs": [],
   "source": [
    "# testy = test.get_partition(0)"
   ]
  },
  {
   "cell_type": "code",
   "execution_count": null,
   "id": "1afa38fb-e57a-4b32-8c72-fc4000825ff4",
   "metadata": {},
   "outputs": [],
   "source": [
    "# testy = testy.compute()"
   ]
  },
  {
   "cell_type": "code",
   "execution_count": null,
   "id": "fb90f956-03ce-4c41-9e0c-883e2c8ad989",
   "metadata": {},
   "outputs": [],
   "source": [
    "# ddf_ne = ddf_ne.sample(frac=0.1)"
   ]
  },
  {
   "cell_type": "code",
   "execution_count": null,
   "id": "0b27e63b-cad5-4af4-bd17-d2d31e0faf43",
   "metadata": {},
   "outputs": [],
   "source": [
    "# ne = ddf_ne[ddf_ne['threshold'] == thresholds[8]].reset_index()#.drop(columns='index')"
   ]
  },
  {
   "cell_type": "code",
   "execution_count": null,
   "id": "f2c1ba7f-bab0-4e34-ada4-4c2dc6fa8bbe",
   "metadata": {},
   "outputs": [],
   "source": [
    "# ne = ne[['num_wse']]"
   ]
  },
  {
   "cell_type": "code",
   "execution_count": null,
   "id": "a276cf19-dfcf-46ca-8b85-b03bacbe876f",
   "metadata": {},
   "outputs": [],
   "source": [
    "# del ne"
   ]
  },
  {
   "cell_type": "code",
   "execution_count": null,
   "id": "25596e66-7107-4e23-af1c-7d6c8fd0695d",
   "metadata": {},
   "outputs": [],
   "source": [
    "# ne = ne.sample(frac=0.005)"
   ]
  },
  {
   "cell_type": "code",
   "execution_count": null,
   "id": "1877bee5-4084-4bd8-b7ef-36c3a2578518",
   "metadata": {},
   "outputs": [],
   "source": [
    "# unique_val = ddf_ne['Bin'].unique()"
   ]
  },
  {
   "cell_type": "code",
   "execution_count": null,
   "id": "3b54982c-2242-40ec-97ed-53a92624abaa",
   "metadata": {},
   "outputs": [],
   "source": [
    "# unique_val.compute()"
   ]
  }
 ],
 "metadata": {
  "kernelspec": {
   "display_name": "Python [conda env:.conda-narrowPIXC]",
   "language": "python",
   "name": "conda-env-.conda-narrowPIXC-py"
  },
  "language_info": {
   "codemirror_mode": {
    "name": "ipython",
    "version": 3
   },
   "file_extension": ".py",
   "mimetype": "text/x-python",
   "name": "python",
   "nbconvert_exporter": "python",
   "pygments_lexer": "ipython3",
   "version": "3.12.4"
  }
 },
 "nbformat": 4,
 "nbformat_minor": 5
}
