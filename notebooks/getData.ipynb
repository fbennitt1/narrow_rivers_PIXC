{
 "cells": [
  {
   "cell_type": "markdown",
   "id": "4cda9f4e-85ac-446c-aeb9-14d110a622a3",
   "metadata": {},
   "source": [
    "**Reminder to self: EARTHDATA WILL CHECK THE DIRECTORY TO SEE IF THE FILE ALREADY EXISTS. DO NOT DOWNLOAD TO A NEW DIR, JUST DOWNLOAD TO THE SAME ONE.**"
   ]
  },
  {
   "cell_type": "code",
   "execution_count": 1,
   "id": "70e9d56a-07d6-4e33-b2e0-465bf17c763f",
   "metadata": {},
   "outputs": [
    {
     "name": "stderr",
     "output_type": "stream",
     "text": [
      "/work/pi_cjgleason_umass_edu/.conda/envs/narrowPIXC/lib/python3.12/site-packages/tqdm/auto.py:21: TqdmWarning: IProgress not found. Please update jupyter and ipywidgets. See https://ipywidgets.readthedocs.io/en/stable/user_install.html\n",
      "  from .autonotebook import tqdm as notebook_tqdm\n"
     ]
    }
   ],
   "source": [
    "import os\n",
    "\n",
    "import earthaccess\n",
    "import pandas as pd"
   ]
  },
  {
   "cell_type": "markdown",
   "id": "8c01bd28-f178-4182-a9f0-f432098da6e5",
   "metadata": {},
   "source": [
    "### Set-up"
   ]
  },
  {
   "cell_type": "code",
   "execution_count": 2,
   "id": "9aefd2ef-bff9-4e12-8129-7e609737589c",
   "metadata": {},
   "outputs": [],
   "source": [
    "mdata_path = '/nas/cee-water/cjgleason/fiona/narrow_rivers_PIXC/data/'"
   ]
  },
  {
   "cell_type": "code",
   "execution_count": 3,
   "id": "72701a79-0a43-46d8-9864-97b5d1c55779",
   "metadata": {},
   "outputs": [],
   "source": [
    "dtype_dic = {'tile': str, 'huc4': str, 'coverage': float}"
   ]
  },
  {
   "cell_type": "code",
   "execution_count": 4,
   "id": "351452a7-5729-4d45-8285-51b8379b313e",
   "metadata": {},
   "outputs": [],
   "source": [
    "lookup = pd.read_csv(os.path.join(mdata_path,\n",
    "                                  'huc4_swot_science_tiles.csv'),\n",
    "                     dtype=dtype_dic)"
   ]
  },
  {
   "cell_type": "markdown",
   "id": "abb72689-921e-43aa-96f6-fed118831b73",
   "metadata": {},
   "source": [
    "### Get the right tiles"
   ]
  },
  {
   "cell_type": "code",
   "execution_count": 5,
   "id": "a67e43c6-aebc-408f-96c9-4c7ecd6af918",
   "metadata": {},
   "outputs": [],
   "source": [
    "# Get tiles in HUC2_17\n",
    "huc2 = '17'\n",
    "huc2_01 = lookup[lookup['huc4'].str.startswith(huc2)]"
   ]
  },
  {
   "cell_type": "code",
   "execution_count": 6,
   "id": "f8afbf38-b6bf-446a-b521-9a5327385f4e",
   "metadata": {},
   "outputs": [],
   "source": [
    "# Get list of tiles\n",
    "tiles = list(huc2_01['tile'])"
   ]
  },
  {
   "cell_type": "code",
   "execution_count": 7,
   "id": "a1a39fcd-f568-453b-97f2-4f3cd77efdf7",
   "metadata": {},
   "outputs": [
    {
     "data": {
      "text/plain": [
       "1033"
      ]
     },
     "execution_count": 7,
     "metadata": {},
     "output_type": "execute_result"
    }
   ],
   "source": [
    "len(tiles)"
   ]
  },
  {
   "cell_type": "code",
   "execution_count": 8,
   "id": "78ac5208-d972-4d64-be0b-f40f2b22fa2e",
   "metadata": {},
   "outputs": [],
   "source": [
    "# Remove duplicates\n",
    "# Doesn't really matter because Earthdata will check :)\n",
    "tiles = list(set(tiles))\n",
    "tiles.sort()"
   ]
  },
  {
   "cell_type": "code",
   "execution_count": 9,
   "id": "b804fc85-877f-4f37-a263-eba8fe45fd92",
   "metadata": {},
   "outputs": [
    {
     "data": {
      "text/plain": [
       "700"
      ]
     },
     "execution_count": 9,
     "metadata": {},
     "output_type": "execute_result"
    }
   ],
   "source": [
    "len(tiles)"
   ]
  },
  {
   "cell_type": "code",
   "execution_count": 10,
   "id": "100cb0f7-5f8b-4c4e-baa1-eaeeffe902cd",
   "metadata": {},
   "outputs": [],
   "source": [
    "tiles = [tile + '_*' for tile in tiles]\n",
    "tiles = ['*_' + tile for tile in tiles]"
   ]
  },
  {
   "cell_type": "code",
   "execution_count": 46,
   "id": "95fb2db3-7e3c-4407-92ed-c0a8eb7bfca9",
   "metadata": {},
   "outputs": [],
   "source": [
    "# tiles.reverse()"
   ]
  },
  {
   "cell_type": "markdown",
   "id": "38b005d0-dc3d-40a6-be08-62a761b7538b",
   "metadata": {
    "jp-MarkdownHeadingCollapsed": true,
    "tags": []
   },
   "source": [
    "### Check what we already have"
   ]
  },
  {
   "cell_type": "code",
   "execution_count": 14,
   "id": "42a80c9f-f606-452d-8da1-8bcd0f2a7bc5",
   "metadata": {},
   "outputs": [],
   "source": [
    "directory = '/nas/cee-water/cjgleason/data/SWOT/PIXC_v2_0_HUC2_17/'"
   ]
  },
  {
   "cell_type": "code",
   "execution_count": 15,
   "id": "88d797df-75d6-4ce5-9029-e100f20ae0f3",
   "metadata": {},
   "outputs": [
    {
     "name": "stdout",
     "output_type": "stream",
     "text": [
      "There are 14064 original files in directory.\n"
     ]
    }
   ],
   "source": [
    "# List to store all file paths\n",
    "files = []\n",
    "for file in os.listdir(directory):\n",
    "    files.append(file)\n",
    "\n",
    "print(f\"There are {str(len(files))} original files in directory.\")"
   ]
  },
  {
   "cell_type": "code",
   "execution_count": 16,
   "id": "96d96fb2-a422-46c3-a8a3-ed70ab9ea163",
   "metadata": {},
   "outputs": [],
   "source": [
    "# Make DataFrame of filenames\n",
    "granules = pd.DataFrame({'files': files})\n",
    "granules['cycle'] = granules['files'].str.slice(16, 19)\n",
    "granules['pass'] = granules['files'].str.slice(20, 23)\n",
    "granules['tile'] = granules['files'].str.slice(24, 28)\n",
    "granules['version'] = granules['files'].str.slice(-10, -6)\n",
    "granules['counter'] = granules['files'].str.slice(-5, -3) "
   ]
  },
  {
   "cell_type": "code",
   "execution_count": 25,
   "id": "eda78825-b45d-4788-956f-f942637f423f",
   "metadata": {},
   "outputs": [],
   "source": [
    "downloaded = list(set('*_' + granules['pass'] + '_' + granules['tile'] + '_*'))"
   ]
  },
  {
   "cell_type": "code",
   "execution_count": 26,
   "id": "7a5acf3e-decc-4c7d-a25e-fd4de5c876c5",
   "metadata": {},
   "outputs": [
    {
     "data": {
      "text/plain": [
       "435"
      ]
     },
     "execution_count": 26,
     "metadata": {},
     "output_type": "execute_result"
    }
   ],
   "source": [
    "len(downloaded)"
   ]
  },
  {
   "cell_type": "code",
   "execution_count": 28,
   "id": "8a5449d1-db25-4e47-87cb-9114a2cfe83d",
   "metadata": {},
   "outputs": [
    {
     "data": {
      "text/plain": [
       "700"
      ]
     },
     "execution_count": 28,
     "metadata": {},
     "output_type": "execute_result"
    }
   ],
   "source": [
    "len(tiles)"
   ]
  },
  {
   "cell_type": "code",
   "execution_count": 30,
   "id": "d4f0f965-963e-4005-b094-cfdc5ab4121e",
   "metadata": {},
   "outputs": [],
   "source": [
    "test = list(set(tiles) - set(downloaded))"
   ]
  },
  {
   "cell_type": "code",
   "execution_count": 37,
   "id": "ae09f082-d9b0-4a1e-a4ee-363e58b9d1ff",
   "metadata": {},
   "outputs": [],
   "source": [
    "test.sort()"
   ]
  },
  {
   "cell_type": "code",
   "execution_count": 49,
   "id": "7f5e6a84-215d-47dd-b77c-8004c405920c",
   "metadata": {},
   "outputs": [
    {
     "data": {
      "text/plain": [
       "265"
      ]
     },
     "execution_count": 49,
     "metadata": {},
     "output_type": "execute_result"
    }
   ],
   "source": [
    "len(test)"
   ]
  },
  {
   "cell_type": "code",
   "execution_count": 47,
   "id": "15388ff8-9a51-4ca0-9c66-8bdb2d20093b",
   "metadata": {},
   "outputs": [
    {
     "data": {
      "text/plain": [
       "92"
      ]
     },
     "execution_count": 47,
     "metadata": {},
     "output_type": "execute_result"
    }
   ],
   "source": [
    "# Get the index of the first tile that is missing\n",
    "tiles.index(test[0])"
   ]
  },
  {
   "cell_type": "code",
   "execution_count": 48,
   "id": "8da8f73c-3926-4718-a9db-a7721f04c9c4",
   "metadata": {},
   "outputs": [
    {
     "data": {
      "text/plain": [
       "356"
      ]
     },
     "execution_count": 48,
     "metadata": {},
     "output_type": "execute_result"
    }
   ],
   "source": [
    "# Get the index of the last tile that is missing\n",
    "tiles.index(test[-1])"
   ]
  },
  {
   "cell_type": "code",
   "execution_count": 51,
   "id": "b06c21d2-8db3-4d57-8beb-bbc10e9df07f",
   "metadata": {},
   "outputs": [],
   "source": [
    "# Add first tile before and last tile after the missing tiles\n",
    "# I had downloaded reversed after I had to interrupt forward\n",
    "test.insert(0, tiles[91])\n",
    "test.insert(-1, tiles[357])"
   ]
  },
  {
   "cell_type": "code",
   "execution_count": 53,
   "id": "258d7ba7-e15f-4b35-89d2-c0189008c42d",
   "metadata": {},
   "outputs": [
    {
     "data": {
      "text/plain": [
       "267"
      ]
     },
     "execution_count": 53,
     "metadata": {},
     "output_type": "execute_result"
    }
   ],
   "source": [
    "len(test)"
   ]
  },
  {
   "cell_type": "markdown",
   "id": "c402c71f-5fab-4be6-bd5f-ecc4347b4cc4",
   "metadata": {},
   "source": [
    "### Download tiles"
   ]
  },
  {
   "cell_type": "code",
   "execution_count": 12,
   "id": "9019e24d-aec8-4744-9a8f-6fc3a22db34d",
   "metadata": {},
   "outputs": [
    {
     "data": {
      "text/plain": [
       "'/nas/cee-water/cjgleason/fiona/narrow_rivers_PIXC/notebooks'"
      ]
     },
     "execution_count": 12,
     "metadata": {},
     "output_type": "execute_result"
    }
   ],
   "source": [
    "pwd"
   ]
  },
  {
   "cell_type": "code",
   "execution_count": null,
   "id": "c558b754-f741-42e7-a803-bca60e1fcea3",
   "metadata": {},
   "outputs": [
    {
     "name": "stdout",
     "output_type": "stream",
     "text": [
      "*_134_077R_*\n"
     ]
    },
    {
     "name": "stderr",
     "output_type": "stream",
     "text": [
      "QUEUEING TASKS | : 100%|██████████| 31/31 [00:00<00:00, 21948.59it/s]\n",
      "PROCESSING TASKS | : 100%|██████████| 31/31 [00:00<00:00, 2685.21it/s]\n",
      "COLLECTING RESULTS | : 100%|██████████| 31/31 [00:00<00:00, 467710.16it/s]\n"
     ]
    },
    {
     "name": "stdout",
     "output_type": "stream",
     "text": [
      "*_134_078L_*\n"
     ]
    },
    {
     "name": "stderr",
     "output_type": "stream",
     "text": [
      "QUEUEING TASKS | : 100%|██████████| 31/31 [00:00<00:00, 4927.18it/s]\n",
      "PROCESSING TASKS | : 100%|██████████| 31/31 [01:32<00:00,  2.99s/it]\n",
      "COLLECTING RESULTS | : 100%|██████████| 31/31 [00:00<00:00, 335977.84it/s]\n"
     ]
    },
    {
     "name": "stdout",
     "output_type": "stream",
     "text": [
      "*_134_078R_*\n"
     ]
    },
    {
     "name": "stderr",
     "output_type": "stream",
     "text": [
      "QUEUEING TASKS | : 100%|██████████| 31/31 [00:00<00:00, 5032.26it/s]\n",
      "PROCESSING TASKS | : 100%|██████████| 31/31 [01:16<00:00,  2.46s/it]\n",
      "COLLECTING RESULTS | : 100%|██████████| 31/31 [00:00<00:00, 303793.05it/s]\n"
     ]
    },
    {
     "name": "stdout",
     "output_type": "stream",
     "text": [
      "*_134_079R_*\n"
     ]
    },
    {
     "name": "stderr",
     "output_type": "stream",
     "text": [
      "QUEUEING TASKS | : 100%|██████████| 31/31 [00:00<00:00, 23610.57it/s]\n",
      "PROCESSING TASKS | : 100%|██████████| 31/31 [00:49<00:00,  1.59s/it]\n",
      "COLLECTING RESULTS | : 100%|██████████| 31/31 [00:00<00:00, 304504.51it/s]\n"
     ]
    },
    {
     "name": "stdout",
     "output_type": "stream",
     "text": [
      "*_134_080R_*\n"
     ]
    },
    {
     "name": "stderr",
     "output_type": "stream",
     "text": [
      "QUEUEING TASKS | : 100%|██████████| 31/31 [00:00<00:00, 9367.68it/s]\n",
      "PROCESSING TASKS | : 100%|██████████| 31/31 [00:54<00:00,  1.75s/it]\n",
      "COLLECTING RESULTS | : 100%|██████████| 31/31 [00:00<00:00, 230947.47it/s]\n"
     ]
    },
    {
     "name": "stdout",
     "output_type": "stream",
     "text": [
      "*_162_062R_*\n"
     ]
    },
    {
     "name": "stderr",
     "output_type": "stream",
     "text": [
      "QUEUEING TASKS | : 100%|██████████| 30/30 [00:00<00:00, 7113.81it/s]\n",
      "PROCESSING TASKS | : 100%|██████████| 30/30 [01:44<00:00,  3.47s/it]\n",
      "COLLECTING RESULTS | : 100%|██████████| 30/30 [00:00<00:00, 291946.91it/s]\n"
     ]
    },
    {
     "name": "stdout",
     "output_type": "stream",
     "text": [
      "*_162_063R_*\n"
     ]
    },
    {
     "name": "stderr",
     "output_type": "stream",
     "text": [
      "QUEUEING TASKS | : 100%|██████████| 30/30 [00:00<00:00, 4229.41it/s]\n",
      "PROCESSING TASKS | : 100%|██████████| 30/30 [01:22<00:00,  2.76s/it]\n",
      "COLLECTING RESULTS | : 100%|██████████| 30/30 [00:00<00:00, 307650.66it/s]\n"
     ]
    },
    {
     "name": "stdout",
     "output_type": "stream",
     "text": [
      "*_162_064L_*\n"
     ]
    },
    {
     "name": "stderr",
     "output_type": "stream",
     "text": [
      "QUEUEING TASKS | : 100%|██████████| 30/30 [00:00<00:00, 4034.41it/s]\n",
      "PROCESSING TASKS | : 100%|██████████| 30/30 [01:07<00:00,  2.24s/it]\n",
      "COLLECTING RESULTS | : 100%|██████████| 30/30 [00:00<00:00, 299593.14it/s]\n"
     ]
    },
    {
     "name": "stdout",
     "output_type": "stream",
     "text": [
      "*_162_064R_*\n"
     ]
    },
    {
     "name": "stderr",
     "output_type": "stream",
     "text": [
      "QUEUEING TASKS | : 100%|██████████| 30/30 [00:00<00:00, 5042.64it/s]\n",
      "PROCESSING TASKS | : 100%|██████████| 30/30 [00:54<00:00,  1.82s/it]\n",
      "COLLECTING RESULTS | : 100%|██████████| 30/30 [00:00<00:00, 255750.24it/s]\n"
     ]
    },
    {
     "name": "stdout",
     "output_type": "stream",
     "text": [
      "*_162_065L_*\n"
     ]
    },
    {
     "name": "stderr",
     "output_type": "stream",
     "text": [
      "QUEUEING TASKS | : 100%|██████████| 30/30 [00:00<00:00, 3753.52it/s]\n",
      "PROCESSING TASKS | : 100%|██████████| 30/30 [01:08<00:00,  2.28s/it]\n",
      "COLLECTING RESULTS | : 100%|██████████| 30/30 [00:00<00:00, 329395.60it/s]\n"
     ]
    },
    {
     "name": "stdout",
     "output_type": "stream",
     "text": [
      "*_162_065R_*\n"
     ]
    },
    {
     "name": "stderr",
     "output_type": "stream",
     "text": [
      "QUEUEING TASKS | : 100%|██████████| 30/30 [00:00<00:00, 4991.63it/s]\n",
      "PROCESSING TASKS | : 100%|██████████| 30/30 [00:52<00:00,  1.76s/it]\n",
      "COLLECTING RESULTS | : 100%|██████████| 30/30 [00:00<00:00, 227539.10it/s]\n"
     ]
    },
    {
     "name": "stdout",
     "output_type": "stream",
     "text": [
      "*_162_066L_*\n"
     ]
    },
    {
     "name": "stderr",
     "output_type": "stream",
     "text": [
      "QUEUEING TASKS | : 100%|██████████| 31/31 [00:00<00:00, 4526.02it/s]\n",
      "PROCESSING TASKS | : 100%|██████████| 31/31 [01:06<00:00,  2.16s/it]\n",
      "COLLECTING RESULTS | : 100%|██████████| 31/31 [00:00<00:00, 300285.04it/s]\n"
     ]
    },
    {
     "name": "stdout",
     "output_type": "stream",
     "text": [
      "*_162_066R_*\n"
     ]
    },
    {
     "name": "stderr",
     "output_type": "stream",
     "text": [
      "QUEUEING TASKS | : 100%|██████████| 31/31 [00:00<00:00, 5508.07it/s]\n",
      "PROCESSING TASKS | : 100%|██████████| 31/31 [00:48<00:00,  1.56s/it]\n",
      "COLLECTING RESULTS | : 100%|██████████| 31/31 [00:00<00:00, 309579.58it/s]\n"
     ]
    },
    {
     "name": "stdout",
     "output_type": "stream",
     "text": [
      "*_162_067L_*\n"
     ]
    },
    {
     "name": "stderr",
     "output_type": "stream",
     "text": [
      "QUEUEING TASKS | : 100%|██████████| 31/31 [00:00<00:00, 4841.86it/s]\n",
      "PROCESSING TASKS | : 100%|██████████| 31/31 [00:47<00:00,  1.53s/it]\n",
      "COLLECTING RESULTS | : 100%|██████████| 31/31 [00:00<00:00, 320254.74it/s]\n"
     ]
    },
    {
     "name": "stdout",
     "output_type": "stream",
     "text": [
      "*_162_067R_*\n"
     ]
    },
    {
     "name": "stderr",
     "output_type": "stream",
     "text": [
      "QUEUEING TASKS | : 100%|██████████| 31/31 [00:00<00:00, 4493.33it/s]\n",
      "PROCESSING TASKS | : 100%|██████████| 31/31 [00:37<00:00,  1.22s/it]\n",
      "COLLECTING RESULTS | : 100%|██████████| 31/31 [00:00<00:00, 316358.70it/s]\n"
     ]
    },
    {
     "name": "stdout",
     "output_type": "stream",
     "text": [
      "*_162_068L_*\n"
     ]
    },
    {
     "name": "stderr",
     "output_type": "stream",
     "text": [
      "QUEUEING TASKS | : 100%|██████████| 31/31 [00:00<00:00, 4458.35it/s]\n",
      "PROCESSING TASKS | : 100%|██████████| 31/31 [00:47<00:00,  1.54s/it]\n",
      "COLLECTING RESULTS | : 100%|██████████| 31/31 [00:00<00:00, 220378.68it/s]\n"
     ]
    },
    {
     "name": "stdout",
     "output_type": "stream",
     "text": [
      "*_162_068R_*\n"
     ]
    },
    {
     "name": "stderr",
     "output_type": "stream",
     "text": [
      "QUEUEING TASKS | : 100%|██████████| 31/31 [00:00<00:00, 4080.32it/s]\n",
      "PROCESSING TASKS | : 100%|██████████| 31/31 [00:43<00:00,  1.41s/it]\n",
      "COLLECTING RESULTS | : 100%|██████████| 31/31 [00:00<00:00, 294170.64it/s]\n"
     ]
    },
    {
     "name": "stdout",
     "output_type": "stream",
     "text": [
      "*_162_069L_*\n"
     ]
    },
    {
     "name": "stderr",
     "output_type": "stream",
     "text": [
      "QUEUEING TASKS | : 100%|██████████| 31/31 [00:00<00:00, 4627.83it/s]\n",
      "PROCESSING TASKS | : 100%|██████████| 31/31 [00:54<00:00,  1.74s/it]\n",
      "COLLECTING RESULTS | : 100%|██████████| 31/31 [00:00<00:00, 302380.06it/s]\n"
     ]
    },
    {
     "name": "stdout",
     "output_type": "stream",
     "text": [
      "*_162_069R_*\n"
     ]
    },
    {
     "name": "stderr",
     "output_type": "stream",
     "text": [
      "QUEUEING TASKS | : 100%|██████████| 31/31 [00:00<00:00, 5071.51it/s]\n",
      "PROCESSING TASKS | : 100%|██████████| 31/31 [00:28<00:00,  1.10it/s]\n",
      "COLLECTING RESULTS | : 100%|██████████| 31/31 [00:00<00:00, 231358.41it/s]\n"
     ]
    },
    {
     "name": "stdout",
     "output_type": "stream",
     "text": [
      "*_162_070L_*\n"
     ]
    },
    {
     "name": "stderr",
     "output_type": "stream",
     "text": [
      "QUEUEING TASKS | : 100%|██████████| 31/31 [00:00<00:00, 3950.28it/s]\n",
      "PROCESSING TASKS | : 100%|██████████| 31/31 [00:54<00:00,  1.74s/it]\n",
      "COLLECTING RESULTS | : 100%|██████████| 31/31 [00:00<00:00, 304504.51it/s]\n"
     ]
    },
    {
     "name": "stdout",
     "output_type": "stream",
     "text": [
      "*_162_070R_*\n"
     ]
    },
    {
     "name": "stderr",
     "output_type": "stream",
     "text": [
      "QUEUEING TASKS | : 100%|██████████| 32/32 [00:00<00:00, 5176.95it/s]\n",
      "PROCESSING TASKS | : 100%|██████████| 32/32 [00:37<00:00,  1.16s/it]\n",
      "COLLECTING RESULTS | : 100%|██████████| 32/32 [00:00<00:00, 298925.90it/s]\n"
     ]
    },
    {
     "name": "stdout",
     "output_type": "stream",
     "text": [
      "*_162_071L_*\n"
     ]
    },
    {
     "name": "stderr",
     "output_type": "stream",
     "text": [
      "QUEUEING TASKS | : 100%|██████████| 31/31 [00:00<00:00, 4415.51it/s]\n",
      "PROCESSING TASKS | : 100%|██████████| 31/31 [00:48<00:00,  1.57s/it]\n",
      "COLLECTING RESULTS | : 100%|██████████| 31/31 [00:00<00:00, 315590.83it/s]\n"
     ]
    },
    {
     "name": "stdout",
     "output_type": "stream",
     "text": [
      "*_162_071R_*\n"
     ]
    },
    {
     "name": "stderr",
     "output_type": "stream",
     "text": [
      "QUEUEING TASKS | : 100%|██████████| 31/31 [00:00<00:00, 4749.02it/s]\n",
      "PROCESSING TASKS | : 100%|██████████| 31/31 [00:40<00:00,  1.29s/it]\n",
      "COLLECTING RESULTS | : 100%|██████████| 31/31 [00:00<00:00, 186013.48it/s]\n"
     ]
    },
    {
     "name": "stdout",
     "output_type": "stream",
     "text": [
      "*_162_072L_*\n"
     ]
    },
    {
     "name": "stderr",
     "output_type": "stream",
     "text": [
      "QUEUEING TASKS | : 100%|██████████| 31/31 [00:00<00:00, 4804.12it/s]\n",
      "PROCESSING TASKS | : 100%|██████████| 31/31 [01:00<00:00,  1.94s/it]\n",
      "COLLECTING RESULTS | : 100%|██████████| 31/31 [00:00<00:00, 323441.35it/s]\n"
     ]
    },
    {
     "name": "stdout",
     "output_type": "stream",
     "text": [
      "*_162_072R_*\n"
     ]
    },
    {
     "name": "stderr",
     "output_type": "stream",
     "text": [
      "QUEUEING TASKS | : 100%|██████████| 31/31 [00:00<00:00, 3833.58it/s]\n",
      "PROCESSING TASKS | : 100%|██████████| 31/31 [00:49<00:00,  1.60s/it]\n",
      "COLLECTING RESULTS | : 100%|██████████| 31/31 [00:00<00:00, 315590.83it/s]\n"
     ]
    },
    {
     "name": "stdout",
     "output_type": "stream",
     "text": [
      "*_162_073L_*\n"
     ]
    },
    {
     "name": "stderr",
     "output_type": "stream",
     "text": [
      "QUEUEING TASKS | : 100%|██████████| 31/31 [00:00<00:00, 3975.52it/s]\n",
      "PROCESSING TASKS | : 100%|██████████| 31/31 [00:48<00:00,  1.57s/it]\n",
      "COLLECTING RESULTS | : 100%|██████████| 31/31 [00:00<00:00, 239013.65it/s]\n"
     ]
    },
    {
     "name": "stdout",
     "output_type": "stream",
     "text": [
      "*_162_073R_*\n"
     ]
    },
    {
     "name": "stderr",
     "output_type": "stream",
     "text": [
      "QUEUEING TASKS | : 100%|██████████| 31/31 [00:00<00:00, 4713.90it/s]\n",
      "PROCESSING TASKS | : 100%|██████████| 31/31 [00:58<00:00,  1.89s/it]\n",
      "COLLECTING RESULTS | : 100%|██████████| 31/31 [00:00<00:00, 235123.73it/s]\n"
     ]
    },
    {
     "name": "stdout",
     "output_type": "stream",
     "text": [
      "*_162_074L_*\n"
     ]
    },
    {
     "name": "stderr",
     "output_type": "stream",
     "text": [
      "QUEUEING TASKS | : 100%|██████████| 31/31 [00:00<00:00, 4398.48it/s]\n",
      "PROCESSING TASKS | : 100%|██████████| 31/31 [01:13<00:00,  2.37s/it]\n",
      "COLLECTING RESULTS | : 100%|██████████| 31/31 [00:00<00:00, 305937.47it/s]\n"
     ]
    },
    {
     "name": "stdout",
     "output_type": "stream",
     "text": [
      "*_162_074R_*\n"
     ]
    },
    {
     "name": "stderr",
     "output_type": "stream",
     "text": [
      "QUEUEING TASKS | : 100%|██████████| 31/31 [00:00<00:00, 4504.85it/s]\n",
      "PROCESSING TASKS | : 100%|██████████| 31/31 [00:37<00:00,  1.23s/it]\n",
      "COLLECTING RESULTS | : 100%|██████████| 31/31 [00:00<00:00, 326692.02it/s]\n"
     ]
    },
    {
     "name": "stdout",
     "output_type": "stream",
     "text": [
      "*_162_075R_*\n"
     ]
    },
    {
     "name": "stderr",
     "output_type": "stream",
     "text": [
      "QUEUEING TASKS | : 100%|██████████| 31/31 [00:00<00:00, 4293.33it/s]\n",
      "PROCESSING TASKS | : 100%|██████████| 31/31 [00:38<00:00,  1.25s/it]\n",
      "COLLECTING RESULTS | : 100%|██████████| 31/31 [00:00<00:00, 281435.98it/s]\n"
     ]
    },
    {
     "name": "stdout",
     "output_type": "stream",
     "text": [
      "*_162_076L_*\n"
     ]
    },
    {
     "name": "stderr",
     "output_type": "stream",
     "text": [
      "QUEUEING TASKS | : 100%|██████████| 31/31 [00:00<00:00, 5229.38it/s]\n",
      "PROCESSING TASKS | : 100%|██████████| 31/31 [00:54<00:00,  1.75s/it]\n",
      "COLLECTING RESULTS | : 100%|██████████| 31/31 [00:00<00:00, 312556.31it/s]\n"
     ]
    },
    {
     "name": "stdout",
     "output_type": "stream",
     "text": [
      "*_162_076R_*\n"
     ]
    },
    {
     "name": "stderr",
     "output_type": "stream",
     "text": [
      "QUEUEING TASKS | : 100%|██████████| 31/31 [00:00<00:00, 4513.92it/s]\n",
      "PROCESSING TASKS | : 100%|██████████| 31/31 [00:47<00:00,  1.52s/it]\n",
      "COLLECTING RESULTS | : 100%|██████████| 31/31 [00:00<00:00, 297536.44it/s]\n"
     ]
    },
    {
     "name": "stdout",
     "output_type": "stream",
     "text": [
      "*_162_077L_*\n"
     ]
    },
    {
     "name": "stderr",
     "output_type": "stream",
     "text": [
      "QUEUEING TASKS | : 100%|██████████| 31/31 [00:00<00:00, 3780.74it/s]\n",
      "PROCESSING TASKS | : 100%|██████████| 31/31 [00:41<00:00,  1.34s/it]\n",
      "COLLECTING RESULTS | : 100%|██████████| 31/31 [00:00<00:00, 223024.74it/s]\n"
     ]
    },
    {
     "name": "stdout",
     "output_type": "stream",
     "text": [
      "*_162_077R_*\n"
     ]
    },
    {
     "name": "stderr",
     "output_type": "stream",
     "text": [
      "QUEUEING TASKS | : 100%|██████████| 31/31 [00:00<00:00, 3436.59it/s]\n",
      "PROCESSING TASKS | : 100%|██████████| 31/31 [00:42<00:00,  1.37s/it]\n",
      "COLLECTING RESULTS | : 100%|██████████| 31/31 [00:00<00:00, 296857.13it/s]\n"
     ]
    },
    {
     "name": "stdout",
     "output_type": "stream",
     "text": [
      "*_162_078L_*\n"
     ]
    },
    {
     "name": "stderr",
     "output_type": "stream",
     "text": [
      "QUEUEING TASKS | : 100%|██████████| 31/31 [00:00<00:00, 4215.24it/s]\n",
      "PROCESSING TASKS | : 100%|██████████| 31/31 [01:20<00:00,  2.61s/it]\n",
      "COLLECTING RESULTS | : 100%|██████████| 31/31 [00:00<00:00, 253952.00it/s]\n"
     ]
    },
    {
     "name": "stdout",
     "output_type": "stream",
     "text": [
      "*_162_078R_*\n"
     ]
    },
    {
     "name": "stderr",
     "output_type": "stream",
     "text": [
      "QUEUEING TASKS | : 100%|██████████| 31/31 [00:00<00:00, 4417.61it/s]\n",
      "PROCESSING TASKS | : 100%|██████████| 31/31 [01:16<00:00,  2.46s/it]\n",
      "COLLECTING RESULTS | : 100%|██████████| 31/31 [00:00<00:00, 235123.73it/s]\n"
     ]
    },
    {
     "name": "stdout",
     "output_type": "stream",
     "text": [
      "*_162_079L_*\n"
     ]
    },
    {
     "name": "stderr",
     "output_type": "stream",
     "text": [
      "QUEUEING TASKS | : 100%|██████████| 31/31 [00:00<00:00, 3240.86it/s]\n",
      "PROCESSING TASKS | : 100%|██████████| 31/31 [01:13<00:00,  2.37s/it]\n",
      "COLLECTING RESULTS | : 100%|██████████| 31/31 [00:00<00:00, 248610.75it/s]\n"
     ]
    },
    {
     "name": "stdout",
     "output_type": "stream",
     "text": [
      "*_162_079R_*\n"
     ]
    },
    {
     "name": "stderr",
     "output_type": "stream",
     "text": [
      "QUEUEING TASKS | : 100%|██████████| 31/31 [00:00<00:00, 3993.35it/s]\n",
      "PROCESSING TASKS | : 100%|██████████| 31/31 [02:21<00:00,  4.58s/it]\n",
      "COLLECTING RESULTS | : 100%|██████████| 31/31 [00:00<00:00, 314826.69it/s]\n"
     ]
    },
    {
     "name": "stdout",
     "output_type": "stream",
     "text": [
      "*_162_080L_*\n"
     ]
    },
    {
     "name": "stderr",
     "output_type": "stream",
     "text": [
      "QUEUEING TASKS | : 100%|██████████| 31/31 [00:00<00:00, 4398.03it/s]\n",
      "PROCESSING TASKS | : 100%|██████████| 31/31 [01:10<00:00,  2.29s/it]\n",
      "COLLECTING RESULTS | : 100%|██████████| 31/31 [00:00<00:00, 249087.02it/s]\n"
     ]
    },
    {
     "name": "stdout",
     "output_type": "stream",
     "text": [
      "*_162_080R_*\n"
     ]
    },
    {
     "name": "stderr",
     "output_type": "stream",
     "text": [
      "QUEUEING TASKS | : 100%|██████████| 31/31 [00:00<00:00, 5257.72it/s]\n",
      "PROCESSING TASKS | : 100%|██████████| 31/31 [00:37<00:00,  1.22s/it]\n",
      "COLLECTING RESULTS | : 100%|██████████| 31/31 [00:00<00:00, 314826.69it/s]\n"
     ]
    },
    {
     "name": "stdout",
     "output_type": "stream",
     "text": [
      "*_177_230L_*\n"
     ]
    },
    {
     "name": "stderr",
     "output_type": "stream",
     "text": [
      "QUEUEING TASKS | : 100%|██████████| 32/32 [00:00<00:00, 5383.57it/s]\n",
      "PROCESSING TASKS | : 100%|██████████| 32/32 [01:46<00:00,  3.32s/it]\n",
      "COLLECTING RESULTS | : 100%|██████████| 32/32 [00:00<00:00, 218240.21it/s]\n"
     ]
    },
    {
     "name": "stdout",
     "output_type": "stream",
     "text": [
      "*_177_231L_*\n"
     ]
    },
    {
     "name": "stderr",
     "output_type": "stream",
     "text": [
      "QUEUEING TASKS | : 100%|██████████| 32/32 [00:00<00:00, 4917.66it/s]\n",
      "PROCESSING TASKS | : 100%|██████████| 32/32 [02:04<00:00,  3.89s/it]\n",
      "COLLECTING RESULTS | : 100%|██████████| 32/32 [00:00<00:00, 318806.95it/s]\n"
     ]
    },
    {
     "name": "stdout",
     "output_type": "stream",
     "text": [
      "*_177_232L_*\n"
     ]
    },
    {
     "name": "stderr",
     "output_type": "stream",
     "text": [
      "QUEUEING TASKS | : 100%|██████████| 32/32 [00:00<00:00, 3181.04it/s]\n",
      "PROCESSING TASKS | : 100%|██████████| 32/32 [00:59<00:00,  1.85s/it]\n",
      "COLLECTING RESULTS | : 100%|██████████| 32/32 [00:00<00:00, 274473.88it/s]\n"
     ]
    },
    {
     "name": "stdout",
     "output_type": "stream",
     "text": [
      "*_190_061L_*\n"
     ]
    },
    {
     "name": "stderr",
     "output_type": "stream",
     "text": [
      "QUEUEING TASKS | : 100%|██████████| 31/31 [00:00<00:00, 4664.02it/s]\n",
      "PROCESSING TASKS | : 100%|██████████| 31/31 [01:38<00:00,  3.17s/it]\n",
      "COLLECTING RESULTS | : 100%|██████████| 31/31 [00:00<00:00, 280222.90it/s]\n"
     ]
    },
    {
     "name": "stdout",
     "output_type": "stream",
     "text": [
      "*_190_061R_*\n"
     ]
    },
    {
     "name": "stderr",
     "output_type": "stream",
     "text": [
      "QUEUEING TASKS | : 100%|██████████| 31/31 [00:00<00:00, 5527.03it/s]\n",
      "PROCESSING TASKS | : 100%|██████████| 31/31 [01:36<00:00,  3.12s/it]\n",
      "COLLECTING RESULTS | : 100%|██████████| 31/31 [00:00<00:00, 248136.31it/s]\n"
     ]
    },
    {
     "name": "stdout",
     "output_type": "stream",
     "text": [
      "*_190_062L_*\n"
     ]
    },
    {
     "name": "stderr",
     "output_type": "stream",
     "text": [
      "QUEUEING TASKS | : 100%|██████████| 31/31 [00:00<00:00, 3214.42it/s]\n",
      "PROCESSING TASKS | : 100%|██████████| 31/31 [02:15<00:00,  4.36s/it]\n",
      "COLLECTING RESULTS | : 100%|██████████| 31/31 [00:00<00:00, 311060.82it/s]\n"
     ]
    },
    {
     "name": "stdout",
     "output_type": "stream",
     "text": [
      "*_190_062R_*\n"
     ]
    },
    {
     "name": "stderr",
     "output_type": "stream",
     "text": [
      "QUEUEING TASKS | : 100%|██████████| 31/31 [00:00<00:00, 4139.95it/s]\n",
      "PROCESSING TASKS | : 100%|██████████| 31/31 [01:31<00:00,  2.96s/it]\n",
      "COLLECTING RESULTS | : 100%|██████████| 31/31 [00:00<00:00, 312556.31it/s]\n"
     ]
    },
    {
     "name": "stdout",
     "output_type": "stream",
     "text": [
      "*_190_063L_*\n"
     ]
    },
    {
     "name": "stderr",
     "output_type": "stream",
     "text": [
      "QUEUEING TASKS | : 100%|██████████| 31/31 [00:00<00:00, 4483.10it/s]\n",
      "PROCESSING TASKS | : 100%|██████████| 31/31 [01:52<00:00,  3.62s/it]\n",
      "COLLECTING RESULTS | : 100%|██████████| 31/31 [00:00<00:00, 287662.44it/s]\n"
     ]
    },
    {
     "name": "stdout",
     "output_type": "stream",
     "text": [
      "*_190_063R_*\n"
     ]
    },
    {
     "name": "stderr",
     "output_type": "stream",
     "text": [
      "QUEUEING TASKS | : 100%|██████████| 31/31 [00:00<00:00, 3641.91it/s]\n",
      "PROCESSING TASKS | : 100%|██████████| 31/31 [01:20<00:00,  2.61s/it]\n",
      "COLLECTING RESULTS | : 100%|██████████| 31/31 [00:00<00:00, 302380.06it/s]\n"
     ]
    },
    {
     "name": "stdout",
     "output_type": "stream",
     "text": [
      "*_190_064L_*\n"
     ]
    },
    {
     "name": "stderr",
     "output_type": "stream",
     "text": [
      "QUEUEING TASKS | : 100%|██████████| 32/32 [00:00<00:00, 4808.78it/s]\n",
      "PROCESSING TASKS | : 100%|██████████| 32/32 [01:20<00:00,  2.52s/it]\n",
      "COLLECTING RESULTS | : 100%|██████████| 32/32 [00:00<00:00, 342392.16it/s]\n"
     ]
    },
    {
     "name": "stdout",
     "output_type": "stream",
     "text": [
      "*_190_064R_*\n"
     ]
    },
    {
     "name": "stderr",
     "output_type": "stream",
     "text": [
      "QUEUEING TASKS | : 100%|██████████| 32/32 [00:00<00:00, 4439.00it/s]\n",
      "PROCESSING TASKS | : 100%|██████████| 32/32 [00:59<00:00,  1.86s/it]\n",
      "COLLECTING RESULTS | : 100%|██████████| 32/32 [00:00<00:00, 269513.51it/s]\n"
     ]
    },
    {
     "name": "stdout",
     "output_type": "stream",
     "text": [
      "*_190_065L_*\n"
     ]
    },
    {
     "name": "stderr",
     "output_type": "stream",
     "text": [
      "QUEUEING TASKS | : 100%|██████████| 32/32 [00:00<00:00, 3049.71it/s]\n",
      "PROCESSING TASKS | : 100%|██████████| 32/32 [01:14<00:00,  2.32s/it]\n",
      "COLLECTING RESULTS | : 100%|██████████| 32/32 [00:00<00:00, 319566.02it/s]\n"
     ]
    },
    {
     "name": "stdout",
     "output_type": "stream",
     "text": [
      "*_190_065R_*\n"
     ]
    },
    {
     "name": "stderr",
     "output_type": "stream",
     "text": [
      "QUEUEING TASKS | : 100%|██████████| 32/32 [00:00<00:00, 4503.65it/s]\n",
      "PROCESSING TASKS | : 100%|██████████| 32/32 [01:12<00:00,  2.25s/it]\n",
      "COLLECTING RESULTS | : 100%|██████████| 32/32 [00:00<00:00, 291144.75it/s]\n"
     ]
    },
    {
     "name": "stdout",
     "output_type": "stream",
     "text": [
      "*_190_066L_*\n"
     ]
    },
    {
     "name": "stderr",
     "output_type": "stream",
     "text": [
      "QUEUEING TASKS | : 100%|██████████| 32/32 [00:00<00:00, 4372.06it/s]\n",
      "PROCESSING TASKS | : 100%|██████████| 32/32 [00:58<00:00,  1.83s/it]\n",
      "COLLECTING RESULTS | : 100%|██████████| 32/32 [00:00<00:00, 333874.95it/s]\n"
     ]
    },
    {
     "name": "stdout",
     "output_type": "stream",
     "text": [
      "*_190_066R_*\n"
     ]
    },
    {
     "name": "stderr",
     "output_type": "stream",
     "text": [
      "QUEUEING TASKS | : 100%|██████████| 32/32 [00:00<00:00, 4205.47it/s]\n",
      "PROCESSING TASKS | : 100%|██████████| 32/32 [01:06<00:00,  2.08s/it]\n",
      "COLLECTING RESULTS | : 100%|██████████| 32/32 [00:00<00:00, 294337.12it/s]\n"
     ]
    },
    {
     "name": "stdout",
     "output_type": "stream",
     "text": [
      "*_190_067L_*\n"
     ]
    },
    {
     "name": "stderr",
     "output_type": "stream",
     "text": [
      "QUEUEING TASKS | : 100%|██████████| 32/32 [00:00<00:00, 6377.96it/s]\n",
      "PROCESSING TASKS | : 100%|██████████| 32/32 [01:09<00:00,  2.18s/it]\n",
      "COLLECTING RESULTS | : 100%|██████████| 32/32 [00:00<00:00, 240965.40it/s]\n"
     ]
    },
    {
     "name": "stdout",
     "output_type": "stream",
     "text": [
      "*_190_067R_*\n"
     ]
    },
    {
     "name": "stderr",
     "output_type": "stream",
     "text": [
      "QUEUEING TASKS | : 100%|██████████| 32/32 [00:00<00:00, 4313.74it/s]\n",
      "PROCESSING TASKS | : 100%|██████████| 32/32 [00:51<00:00,  1.62s/it]\n",
      "COLLECTING RESULTS | : 100%|██████████| 32/32 [00:00<00:00, 318051.49it/s]\n"
     ]
    },
    {
     "name": "stdout",
     "output_type": "stream",
     "text": [
      "*_190_068L_*\n"
     ]
    },
    {
     "name": "stderr",
     "output_type": "stream",
     "text": [
      "QUEUEING TASKS | : 100%|██████████| 32/32 [00:00<00:00, 6061.41it/s]\n",
      "PROCESSING TASKS | : 100%|██████████| 32/32 [02:26<00:00,  4.56s/it]\n",
      "COLLECTING RESULTS | : 100%|██████████| 32/32 [00:00<00:00, 419430.40it/s]\n"
     ]
    },
    {
     "name": "stdout",
     "output_type": "stream",
     "text": [
      "*_190_068R_*\n"
     ]
    },
    {
     "name": "stderr",
     "output_type": "stream",
     "text": [
      "QUEUEING TASKS | : 100%|██████████| 32/32 [00:00<00:00, 5487.01it/s]\n",
      "PROCESSING TASKS | : 100%|██████████| 32/32 [01:05<00:00,  2.05s/it]\n",
      "COLLECTING RESULTS | : 100%|██████████| 32/32 [00:00<00:00, 298925.90it/s]\n"
     ]
    },
    {
     "name": "stdout",
     "output_type": "stream",
     "text": [
      "*_190_069L_*\n"
     ]
    },
    {
     "name": "stderr",
     "output_type": "stream",
     "text": [
      "QUEUEING TASKS | : 100%|██████████| 32/32 [00:00<00:00, 4528.26it/s]\n",
      "PROCESSING TASKS | : 100%|██████████| 32/32 [00:46<00:00,  1.44s/it]\n",
      "COLLECTING RESULTS | : 100%|██████████| 32/32 [00:00<00:00, 337230.47it/s]\n"
     ]
    },
    {
     "name": "stdout",
     "output_type": "stream",
     "text": [
      "*_190_069R_*\n"
     ]
    },
    {
     "name": "stderr",
     "output_type": "stream",
     "text": [
      "QUEUEING TASKS | : 100%|██████████| 32/32 [00:00<00:00, 6239.78it/s]\n",
      "PROCESSING TASKS | : 100%|██████████| 32/32 [02:34<00:00,  4.83s/it]\n",
      "COLLECTING RESULTS | : 100%|██████████| 32/32 [00:00<00:00, 324197.41it/s]\n"
     ]
    },
    {
     "name": "stdout",
     "output_type": "stream",
     "text": [
      "*_190_070L_*\n"
     ]
    },
    {
     "name": "stderr",
     "output_type": "stream",
     "text": [
      "QUEUEING TASKS | : 100%|██████████| 32/32 [00:00<00:00, 5204.25it/s]\n",
      "PROCESSING TASKS | : 100%|██████████| 32/32 [00:53<00:00,  1.68s/it]\n",
      "COLLECTING RESULTS | : 100%|██████████| 32/32 [00:00<00:00, 319566.02it/s]\n"
     ]
    },
    {
     "name": "stdout",
     "output_type": "stream",
     "text": [
      "*_190_070R_*\n"
     ]
    },
    {
     "name": "stderr",
     "output_type": "stream",
     "text": [
      "QUEUEING TASKS | : 100%|██████████| 32/32 [00:00<00:00, 4461.73it/s]\n",
      "PROCESSING TASKS | : 100%|██████████| 32/32 [03:25<00:00,  6.44s/it]\n",
      "COLLECTING RESULTS | : 100%|██████████| 32/32 [00:00<00:00, 284963.33it/s]\n"
     ]
    },
    {
     "name": "stdout",
     "output_type": "stream",
     "text": [
      "*_190_071L_*\n"
     ]
    },
    {
     "name": "stderr",
     "output_type": "stream",
     "text": [
      "QUEUEING TASKS | : 100%|██████████| 32/32 [00:00<00:00, 3594.09it/s]\n",
      "PROCESSING TASKS | : 100%|██████████| 32/32 [01:01<00:00,  1.91s/it]\n",
      "COLLECTING RESULTS | : 100%|██████████| 32/32 [00:00<00:00, 310689.19it/s]\n"
     ]
    },
    {
     "name": "stdout",
     "output_type": "stream",
     "text": [
      "*_190_071R_*\n"
     ]
    },
    {
     "name": "stderr",
     "output_type": "stream",
     "text": [
      "QUEUEING TASKS | : 100%|██████████| 32/32 [00:00<00:00, 5473.14it/s]\n",
      "PROCESSING TASKS | : 100%|██████████| 32/32 [01:26<00:00,  2.70s/it]\n",
      "COLLECTING RESULTS | : 100%|██████████| 32/32 [00:00<00:00, 326563.82it/s]\n"
     ]
    },
    {
     "name": "stdout",
     "output_type": "stream",
     "text": [
      "*_190_072L_*\n"
     ]
    },
    {
     "name": "stderr",
     "output_type": "stream",
     "text": [
      "QUEUEING TASKS | : 100%|██████████| 32/32 [00:00<00:00, 5188.96it/s]\n",
      "PROCESSING TASKS | : 100%|██████████| 32/32 [01:04<00:00,  2.03s/it]\n",
      "COLLECTING RESULTS | : 100%|██████████| 32/32 [00:00<00:00, 300936.61it/s]\n"
     ]
    },
    {
     "name": "stdout",
     "output_type": "stream",
     "text": [
      "*_190_072R_*\n"
     ]
    },
    {
     "name": "stderr",
     "output_type": "stream",
     "text": [
      "QUEUEING TASKS | : 100%|██████████| 32/32 [00:00<00:00, 4635.87it/s]\n",
      "PROCESSING TASKS | : 100%|██████████| 32/32 [01:18<00:00,  2.46s/it]\n",
      "COLLECTING RESULTS | : 100%|██████████| 32/32 [00:00<00:00, 262657.00it/s]\n"
     ]
    },
    {
     "name": "stdout",
     "output_type": "stream",
     "text": [
      "*_190_073L_*\n"
     ]
    },
    {
     "name": "stderr",
     "output_type": "stream",
     "text": [
      "QUEUEING TASKS | : 100%|██████████| 32/32 [00:00<00:00, 4482.89it/s]\n",
      "PROCESSING TASKS | : 100%|██████████| 32/32 [01:14<00:00,  2.34s/it]\n",
      "COLLECTING RESULTS | : 100%|██████████| 32/32 [00:00<00:00, 336385.28it/s]\n"
     ]
    },
    {
     "name": "stdout",
     "output_type": "stream",
     "text": [
      "*_190_073R_*\n"
     ]
    },
    {
     "name": "stderr",
     "output_type": "stream",
     "text": [
      "QUEUEING TASKS | : 100%|██████████| 32/32 [00:00<00:00, 4490.39it/s]\n",
      "PROCESSING TASKS | : 100%|██████████| 32/32 [00:42<00:00,  1.34s/it]\n",
      "COLLECTING RESULTS | : 100%|██████████| 32/32 [00:00<00:00, 240103.27it/s]\n"
     ]
    },
    {
     "name": "stdout",
     "output_type": "stream",
     "text": [
      "*_190_074L_*\n"
     ]
    },
    {
     "name": "stderr",
     "output_type": "stream",
     "text": [
      "QUEUEING TASKS | : 100%|██████████| 32/32 [00:00<00:00, 4457.73it/s]\n",
      "PROCESSING TASKS | : 100%|██████████| 32/32 [01:33<00:00,  2.94s/it]\n",
      "COLLECTING RESULTS | : 100%|██████████| 32/32 [00:00<00:00, 208089.50it/s]\n"
     ]
    },
    {
     "name": "stdout",
     "output_type": "stream",
     "text": [
      "*_190_074R_*\n"
     ]
    },
    {
     "name": "stderr",
     "output_type": "stream",
     "text": [
      "QUEUEING TASKS | : 100%|██████████| 32/32 [00:00<00:00, 4862.26it/s]\n",
      "PROCESSING TASKS | : 100%|██████████| 32/32 [00:53<00:00,  1.67s/it]\n",
      "COLLECTING RESULTS | : 100%|██████████| 32/32 [00:00<00:00, 316551.25it/s]\n"
     ]
    },
    {
     "name": "stdout",
     "output_type": "stream",
     "text": [
      "*_190_075L_*\n"
     ]
    },
    {
     "name": "stderr",
     "output_type": "stream",
     "text": [
      "QUEUEING TASKS | : 100%|██████████| 32/32 [00:00<00:00, 5603.14it/s]\n",
      "PROCESSING TASKS | : 100%|██████████| 32/32 [01:26<00:00,  2.72s/it]\n",
      "COLLECTING RESULTS | : 100%|██████████| 32/32 [00:00<00:00, 314327.23it/s]\n"
     ]
    },
    {
     "name": "stdout",
     "output_type": "stream",
     "text": [
      "*_190_075R_*\n"
     ]
    },
    {
     "name": "stderr",
     "output_type": "stream",
     "text": [
      "QUEUEING TASKS | : 100%|██████████| 32/32 [00:00<00:00, 4050.39it/s]\n",
      "PROCESSING TASKS | : 100%|██████████| 32/32 [01:09<00:00,  2.18s/it]\n",
      "COLLECTING RESULTS | : 100%|██████████| 32/32 [00:00<00:00, 288020.88it/s]\n"
     ]
    },
    {
     "name": "stdout",
     "output_type": "stream",
     "text": [
      "*_190_076L_*\n"
     ]
    },
    {
     "name": "stderr",
     "output_type": "stream",
     "text": [
      "QUEUEING TASKS | : 100%|██████████| 32/32 [00:00<00:00, 1702.69it/s]\n",
      "PROCESSING TASKS | : 100%|██████████| 32/32 [00:59<00:00,  1.86s/it]\n",
      "COLLECTING RESULTS | : 100%|██████████| 32/32 [00:00<00:00, 316551.25it/s]\n"
     ]
    },
    {
     "name": "stdout",
     "output_type": "stream",
     "text": [
      "*_190_076R_*\n"
     ]
    },
    {
     "name": "stderr",
     "output_type": "stream",
     "text": [
      "QUEUEING TASKS | : 100%|██████████| 32/32 [00:00<00:00, 4677.88it/s]\n",
      "PROCESSING TASKS | :  47%|████▋     | 15/32 [00:25<00:31,  1.86s/it]"
     ]
    }
   ],
   "source": [
    "# Full science orbit (thus far)\n",
    "start = '2023-07-27 00:00:00'\n",
    "# end = '2025-02-20 23:59:59'\n",
    "end = '2025-05-03 23:59:59'\n",
    "\n",
    "for tile in test: # CHANGE THIS\n",
    "    print(tile)\n",
    "    \n",
    "    pixc_results = earthaccess.search_data(short_name = 'SWOT_L2_HR_PIXC_2.0',\n",
    "                                           temporal = (start, end),\n",
    "                                           granule_name = tile)\n",
    "    pixc_results\n",
    "    \n",
    "    # download\n",
    "    earthaccess.download(pixc_results, '../../../data/SWOT/PIXC_v2_0_HUC2_' + huc2)"
   ]
  }
 ],
 "metadata": {
  "kernelspec": {
   "display_name": "Python [conda env:.conda-narrowPIXC]",
   "language": "python",
   "name": "conda-env-.conda-narrowPIXC-py"
  },
  "language_info": {
   "codemirror_mode": {
    "name": "ipython",
    "version": 3
   },
   "file_extension": ".py",
   "mimetype": "text/x-python",
   "name": "python",
   "nbconvert_exporter": "python",
   "pygments_lexer": "ipython3",
   "version": "3.12.4"
  }
 },
 "nbformat": 4,
 "nbformat_minor": 5
}
