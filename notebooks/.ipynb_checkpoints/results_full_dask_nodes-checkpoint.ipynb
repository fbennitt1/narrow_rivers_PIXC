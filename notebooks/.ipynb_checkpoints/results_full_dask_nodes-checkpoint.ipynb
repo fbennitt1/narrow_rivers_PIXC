{
 "cells": [
  {
   "cell_type": "code",
   "execution_count": 1,
   "id": "3a969e19-56af-4005-9bcb-a3607fb7e5e7",
   "metadata": {},
   "outputs": [],
   "source": [
    "import os\n",
    "import time\n",
    "\n",
    "import dask.dataframe as dd\n",
    "import matplotlib.colors as colors\n",
    "import matplotlib.patches as mpatches\n",
    "import matplotlib.pyplot as plt\n",
    "import matplotlib.gridspec as gridspec\n",
    "import numpy as np\n",
    "import pandas as pd\n",
    "import seaborn as sns"
   ]
  },
  {
   "cell_type": "markdown",
   "id": "1cb993a2-2425-4eb5-a8b8-7b83c2232ff6",
   "metadata": {
    "jp-MarkdownHeadingCollapsed": true
   },
   "source": [
    "### Functions"
   ]
  },
  {
   "cell_type": "code",
   "execution_count": 2,
   "id": "59afabc7-293a-4472-8d06-2f372ea17dc4",
   "metadata": {},
   "outputs": [],
   "source": [
    "def truncate_colormap(cmap, minval=0.0, maxval=1.0, n=100):\n",
    "    new_cmap = colors.LinearSegmentedColormap.from_list(\n",
    "        'trunc({n},{a:.2f},{b:.2f})'.format(n=cmap.name, a=minval, b=maxval),\n",
    "        cmap(np.linspace(minval, maxval, n)))\n",
    "    return new_cmap"
   ]
  },
  {
   "cell_type": "code",
   "execution_count": 3,
   "id": "9357d463-4aab-42d2-bf6c-9040b8247fb6",
   "metadata": {},
   "outputs": [],
   "source": [
    "def getFiles(filepath):\n",
    "    files = []\n",
    "    for file in os.listdir(data_path):\n",
    "        if not file.startswith('.'):\n",
    "            if 'C2' in file:\n",
    "                files.append(os.path.join(data_path, file))\n",
    "    return files"
   ]
  },
  {
   "cell_type": "code",
   "execution_count": 4,
   "id": "7ffacdcf-8766-4d2d-ad00-9990df8d80dc",
   "metadata": {},
   "outputs": [],
   "source": [
    "def countCoverage(ddf):\n",
    "    # Count number of nodes exceeding threhold\n",
    "    ddf['0.1'] = ddf.iloc[:,1:11][ddf.iloc[:,1:11] > 0.1].count(axis=1)\n",
    "    ddf['0.2'] = ddf.iloc[:,1:11][ddf.iloc[:,1:11] > 0.2].count(axis=1)\n",
    "    ddf['0.3'] = ddf.iloc[:,1:11][ddf.iloc[:,1:11] > 0.3].count(axis=1)\n",
    "    ddf['0.4'] = ddf.iloc[:,1:11][ddf.iloc[:,1:11] > 0.4].count(axis=1)\n",
    "    ddf['0.5'] = ddf.iloc[:,1:11][ddf.iloc[:,1:11] > 0.5].count(axis=1)\n",
    "    ddf['0.6'] = ddf.iloc[:,1:11][ddf.iloc[:,1:11] > 0.6].count(axis=1)\n",
    "    ddf['0.7'] = ddf.iloc[:,1:11][ddf.iloc[:,1:11] > 0.7].count(axis=1)\n",
    "    ddf['0.8'] = ddf.iloc[:,1:11][ddf.iloc[:,1:11] > 0.8].count(axis=1)\n",
    "    ddf['0.9'] = ddf.iloc[:,1:11][ddf.iloc[:,1:11] > 0.9].count(axis=1)\n",
    "\n",
    "    # Drop the node columns\n",
    "    ddf = ddf.drop(list(ddf.columns[1:11]), axis=1)\n",
    "    \n",
    "    return ddf"
   ]
  },
  {
   "cell_type": "code",
   "execution_count": 5,
   "id": "d123dcdf-e17b-4ff5-82d1-cf6af16d53cb",
   "metadata": {},
   "outputs": [],
   "source": [
    "def computeStats(ddf, thresholds, order):\n",
    "    zeros = {}\n",
    "    reaches = {}\n",
    "    means = {}\n",
    "    stds = {}\n",
    "    \n",
    "    for i in range(len(thresholds)):\n",
    "        start = time.time()\n",
    "        \n",
    "        thresh = thresholds[i]\n",
    "    \n",
    "        df = ddf[ddf['threshold'] == thresh].compute()\n",
    "    \n",
    "        # Get the number of reaches with 0% coverage in all nodes by bin\n",
    "        zero = df[df.coverage == 0].groupby('Bin').count()\n",
    "        # Get the number of reaches by bin\n",
    "        reach = df.groupby('Bin').count()\n",
    "    \n",
    "        # Store these\n",
    "        zeros[thresh] = zero\n",
    "        reaches[thresh] = reach\n",
    "    \n",
    "        # Drop all reaches with \n",
    "        df = df[df.coverage != 0]\n",
    "    \n",
    "        mean = df.groupby('Bin')['coverage'].mean()\n",
    "        \n",
    "        if len(mean) < len(order):\n",
    "            add_indices = pd.Index(order).difference(mean.index)\n",
    "            add_data = np.zeros(len(add_indices))\n",
    "            add_se = pd.Series(index=add_indices, name='coverage', data=add_data)\n",
    "    \n",
    "            mean = pd.concat([mean, add_se])\n",
    "    \n",
    "        std = df.groupby('Bin')['coverage'].std()\n",
    "    \n",
    "        if len(std) < len(order):\n",
    "            add_indices = pd.Index(order).difference(std.index)\n",
    "            add_data = np.zeros(len(add_indices))\n",
    "            add_se = pd.Series(index=add_indices, name='coverage', data=add_data)\n",
    "    \n",
    "            std = pd.concat([std, add_se])\n",
    "        \n",
    "        means[thresh] = mean\n",
    "        stds[thresh] = std\n",
    "    \n",
    "        end = time.time()\n",
    "    \n",
    "        print(thresh + ' took ' + str((end-start)) + ' s')\n",
    "\n",
    "    return means, stds, zeros, reaches"
   ]
  },
  {
   "cell_type": "code",
   "execution_count": 6,
   "id": "cc32a87d-3506-4fde-8c5b-f2f7e532f65b",
   "metadata": {},
   "outputs": [],
   "source": [
    "def meltData(ddf):\n",
    "    ddf_melted = ddf.melt(id_vars=['NHDPlusID', 'Bin'\n",
    "                                   # , 'cross_track',\n",
    "                                   # 'prior_water_prob', 'alignment',\n",
    "                                   # 'sinuosity'\n",
    "                                  ],\n",
    "                          value_vars=['0.1', '0.2', '0.3', '0.4', '0.5',\n",
    "                                      '0.6', '0.7', '0.8', '0.9'],\n",
    "                          var_name='threshold', value_name='coverage')\n",
    "    return ddf_melted"
   ]
  },
  {
   "cell_type": "markdown",
   "id": "f312c953-5226-4207-83fd-ea6d30749ba8",
   "metadata": {
    "jp-MarkdownHeadingCollapsed": true
   },
   "source": [
    "### For plotting"
   ]
  },
  {
   "cell_type": "code",
   "execution_count": 7,
   "id": "cb5e0840-6d62-45d9-865a-27ddbdfe602b",
   "metadata": {},
   "outputs": [],
   "source": [
    "cmap = plt.get_cmap('cubehelix', 11)\n",
    "new_cmap = truncate_colormap(cmap, 0.2, 0.75)"
   ]
  },
  {
   "cell_type": "code",
   "execution_count": 8,
   "id": "db1b8be2-fd20-4a66-83a1-4bb6ed98f4dc",
   "metadata": {},
   "outputs": [],
   "source": [
    "color = []\n",
    "\n",
    "for i in np.linspace(0, 1, 7):\n",
    "    color.append(colors.rgb2hex(new_cmap(i)))"
   ]
  },
  {
   "cell_type": "code",
   "execution_count": 9,
   "id": "ca505ea2-1e5d-4587-a1a5-6a1f17221076",
   "metadata": {},
   "outputs": [],
   "source": [
    "palette = sns.color_palette(color)\n",
    "palette_two = sns.color_palette(color[1::3])\n",
    "palette_three = sns.color_palette(color[1::2])\n",
    "palette_four = sns.color_palette(color[0::2])"
   ]
  },
  {
   "cell_type": "code",
   "execution_count": 9,
   "id": "3b7224c2-d1fb-401a-9462-d83358d54fb7",
   "metadata": {},
   "outputs": [],
   "source": [
    "# palette_three"
   ]
  },
  {
   "cell_type": "code",
   "execution_count": 11,
   "id": "e722070b-f5d2-4b9c-bf25-46f5ab70dab9",
   "metadata": {
    "scrolled": true
   },
   "outputs": [],
   "source": [
    "# palette_four"
   ]
  },
  {
   "cell_type": "markdown",
   "id": "6790c17c-db46-46b7-b2c0-9a45f5e86df5",
   "metadata": {
    "jp-MarkdownHeadingCollapsed": true,
    "tags": []
   },
   "source": [
    "### Setup"
   ]
  },
  {
   "cell_type": "code",
   "execution_count": 12,
   "id": "3761e791-90d9-4c87-bace-f10edad737d3",
   "metadata": {},
   "outputs": [],
   "source": [
    "# Order of all possible bins for plotting\n",
    "order = ['(0, 10]', '(10, 20]', '(20, 30]', '(30, 40]', '(40, 50]',\n",
    "         '(50, 60]', '(60, 70]', '(70, 80]', '(80, 90]', '(90, 100]',\n",
    "         '(100, 150]', '(150, 200]', '(200, 500]']"
   ]
  },
  {
   "cell_type": "code",
   "execution_count": 13,
   "id": "bfdb0405-cb86-4ebd-a7b0-bd3ca75d9e42",
   "metadata": {
    "tags": []
   },
   "outputs": [],
   "source": [
    "# Thresholds\n",
    "thresholds = ['0.1', '0.2', '0.3', '0.4', '0.5', '0.6', '0.7', '0.8', '0.9']"
   ]
  },
  {
   "cell_type": "code",
   "execution_count": 64,
   "id": "b89c63f1-8bc9-44fd-96ec-8a2660296e9a",
   "metadata": {},
   "outputs": [],
   "source": [
    "save_path = '/nas/cee-water/cjgleason/fiona/narrow_rivers_PIXC/figures/figures_for_2025_06_16/'"
   ]
  },
  {
   "cell_type": "markdown",
   "id": "e6e572fe-811c-4326-9e7d-a373f443a55a",
   "metadata": {
    "tags": []
   },
   "source": [
    "### HUC2_01, Northeast"
   ]
  },
  {
   "cell_type": "code",
   "execution_count": 92,
   "id": "1dd97655-9e5c-4a41-8fce-6a437a30ca41",
   "metadata": {},
   "outputs": [],
   "source": [
    "## Setup\n",
    "bwidth = 'mean'\n",
    "bbin = 'Bin'\n",
    "huc2 = '01'\n",
    "data_path = '../../narrow_rivers_PIXC_output/PIXC_v2_0_HUC2_' + \\\n",
    "            huc2 + '_2025_05_24_' + bwidth"
   ]
  },
  {
   "cell_type": "code",
   "execution_count": 93,
   "id": "7f6b9e36-ce00-464a-8485-8f36346d8914",
   "metadata": {},
   "outputs": [
    {
     "data": {
      "text/plain": [
       "1295"
      ]
     },
     "execution_count": 93,
     "metadata": {},
     "output_type": "execute_result"
    }
   ],
   "source": [
    "# Get list of files (currently set to only give PIC2)\n",
    "files = getFiles(data_path)\n",
    "len(files)"
   ]
  },
  {
   "cell_type": "code",
   "execution_count": 94,
   "id": "04ce7a4d-db31-4c94-9c0f-4491fe3e791a",
   "metadata": {},
   "outputs": [],
   "source": [
    "# Read in all files\n",
    "ddf_ne = dd.read_parquet(files)"
   ]
  },
  {
   "cell_type": "code",
   "execution_count": 96,
   "id": "ae3858cf-241b-451d-8bfd-ca4ec675de5e",
   "metadata": {},
   "outputs": [],
   "source": [
    "test = ddf_ne.loc[0].compute()"
   ]
  },
  {
   "cell_type": "code",
   "execution_count": 116,
   "id": "b54372f1-9e01-4229-b513-0ecd9d6d82de",
   "metadata": {},
   "outputs": [
    {
     "data": {
      "text/html": [
       "<div>\n",
       "<style scoped>\n",
       "    .dataframe tbody tr th:only-of-type {\n",
       "        vertical-align: middle;\n",
       "    }\n",
       "\n",
       "    .dataframe tbody tr th {\n",
       "        vertical-align: top;\n",
       "    }\n",
       "\n",
       "    .dataframe thead th {\n",
       "        text-align: right;\n",
       "    }\n",
       "</style>\n",
       "<table border=\"1\" class=\"dataframe\">\n",
       "  <thead>\n",
       "    <tr style=\"text-align: right;\">\n",
       "      <th></th>\n",
       "      <th>node_0</th>\n",
       "      <th>node_1</th>\n",
       "      <th>node_2</th>\n",
       "      <th>node_3</th>\n",
       "      <th>node_4</th>\n",
       "      <th>node_5</th>\n",
       "      <th>node_6</th>\n",
       "      <th>node_7</th>\n",
       "      <th>node_8</th>\n",
       "      <th>node_9</th>\n",
       "    </tr>\n",
       "  </thead>\n",
       "  <tbody>\n",
       "    <tr>\n",
       "      <th>0</th>\n",
       "      <td>0.000000</td>\n",
       "      <td>0.000000</td>\n",
       "      <td>0.000000</td>\n",
       "      <td>0.000000</td>\n",
       "      <td>0.000000</td>\n",
       "      <td>0.000000</td>\n",
       "      <td>0.000000</td>\n",
       "      <td>0.000000</td>\n",
       "      <td>0.000000</td>\n",
       "      <td>0.000000</td>\n",
       "    </tr>\n",
       "    <tr>\n",
       "      <th>0</th>\n",
       "      <td>0.000000</td>\n",
       "      <td>0.000000</td>\n",
       "      <td>0.000000</td>\n",
       "      <td>0.000000</td>\n",
       "      <td>0.000000</td>\n",
       "      <td>0.000000</td>\n",
       "      <td>0.000000</td>\n",
       "      <td>0.000000</td>\n",
       "      <td>0.000000</td>\n",
       "      <td>0.000000</td>\n",
       "    </tr>\n",
       "    <tr>\n",
       "      <th>0</th>\n",
       "      <td>0.000000</td>\n",
       "      <td>0.000000</td>\n",
       "      <td>0.000000</td>\n",
       "      <td>0.000000</td>\n",
       "      <td>0.000000</td>\n",
       "      <td>0.000000</td>\n",
       "      <td>0.000000</td>\n",
       "      <td>0.000000</td>\n",
       "      <td>0.000000</td>\n",
       "      <td>0.000000</td>\n",
       "    </tr>\n",
       "    <tr>\n",
       "      <th>0</th>\n",
       "      <td>0.000000</td>\n",
       "      <td>0.000000</td>\n",
       "      <td>0.000000</td>\n",
       "      <td>0.000000</td>\n",
       "      <td>0.000000</td>\n",
       "      <td>0.000000</td>\n",
       "      <td>0.000000</td>\n",
       "      <td>0.000000</td>\n",
       "      <td>0.000000</td>\n",
       "      <td>0.000000</td>\n",
       "    </tr>\n",
       "    <tr>\n",
       "      <th>0</th>\n",
       "      <td>0.012857</td>\n",
       "      <td>0.000000</td>\n",
       "      <td>0.000000</td>\n",
       "      <td>0.000000</td>\n",
       "      <td>0.000000</td>\n",
       "      <td>0.000000</td>\n",
       "      <td>0.000000</td>\n",
       "      <td>0.000000</td>\n",
       "      <td>0.000000</td>\n",
       "      <td>0.000000</td>\n",
       "    </tr>\n",
       "    <tr>\n",
       "      <th>...</th>\n",
       "      <td>...</td>\n",
       "      <td>...</td>\n",
       "      <td>...</td>\n",
       "      <td>...</td>\n",
       "      <td>...</td>\n",
       "      <td>...</td>\n",
       "      <td>...</td>\n",
       "      <td>...</td>\n",
       "      <td>...</td>\n",
       "      <td>...</td>\n",
       "    </tr>\n",
       "    <tr>\n",
       "      <th>0</th>\n",
       "      <td>0.362403</td>\n",
       "      <td>0.466680</td>\n",
       "      <td>0.478267</td>\n",
       "      <td>0.461440</td>\n",
       "      <td>0.483470</td>\n",
       "      <td>0.500730</td>\n",
       "      <td>0.498618</td>\n",
       "      <td>0.475506</td>\n",
       "      <td>0.492601</td>\n",
       "      <td>0.476915</td>\n",
       "    </tr>\n",
       "    <tr>\n",
       "      <th>0</th>\n",
       "      <td>0.041528</td>\n",
       "      <td>0.000000</td>\n",
       "      <td>0.098108</td>\n",
       "      <td>0.145629</td>\n",
       "      <td>0.170914</td>\n",
       "      <td>0.134695</td>\n",
       "      <td>0.164422</td>\n",
       "      <td>0.079258</td>\n",
       "      <td>0.051198</td>\n",
       "      <td>0.163748</td>\n",
       "    </tr>\n",
       "    <tr>\n",
       "      <th>0</th>\n",
       "      <td>0.000000</td>\n",
       "      <td>0.000000</td>\n",
       "      <td>0.023058</td>\n",
       "      <td>0.173997</td>\n",
       "      <td>0.033994</td>\n",
       "      <td>0.076232</td>\n",
       "      <td>0.034918</td>\n",
       "      <td>0.093963</td>\n",
       "      <td>0.032252</td>\n",
       "      <td>0.000000</td>\n",
       "    </tr>\n",
       "    <tr>\n",
       "      <th>0</th>\n",
       "      <td>0.210908</td>\n",
       "      <td>0.059893</td>\n",
       "      <td>0.016674</td>\n",
       "      <td>0.000000</td>\n",
       "      <td>0.000000</td>\n",
       "      <td>0.000000</td>\n",
       "      <td>0.000000</td>\n",
       "      <td>0.000000</td>\n",
       "      <td>0.000000</td>\n",
       "      <td>0.000000</td>\n",
       "    </tr>\n",
       "    <tr>\n",
       "      <th>0</th>\n",
       "      <td>0.000000</td>\n",
       "      <td>0.000000</td>\n",
       "      <td>0.000000</td>\n",
       "      <td>0.000000</td>\n",
       "      <td>0.000000</td>\n",
       "      <td>0.000000</td>\n",
       "      <td>0.000000</td>\n",
       "      <td>0.000000</td>\n",
       "      <td>0.000000</td>\n",
       "      <td>0.000000</td>\n",
       "    </tr>\n",
       "  </tbody>\n",
       "</table>\n",
       "<p>1295 rows × 10 columns</p>\n",
       "</div>"
      ],
      "text/plain": [
       "      node_0    node_1    node_2    node_3    node_4    node_5    node_6  \\\n",
       "0   0.000000  0.000000  0.000000  0.000000  0.000000  0.000000  0.000000   \n",
       "0   0.000000  0.000000  0.000000  0.000000  0.000000  0.000000  0.000000   \n",
       "0   0.000000  0.000000  0.000000  0.000000  0.000000  0.000000  0.000000   \n",
       "0   0.000000  0.000000  0.000000  0.000000  0.000000  0.000000  0.000000   \n",
       "0   0.012857  0.000000  0.000000  0.000000  0.000000  0.000000  0.000000   \n",
       "..       ...       ...       ...       ...       ...       ...       ...   \n",
       "0   0.362403  0.466680  0.478267  0.461440  0.483470  0.500730  0.498618   \n",
       "0   0.041528  0.000000  0.098108  0.145629  0.170914  0.134695  0.164422   \n",
       "0   0.000000  0.000000  0.023058  0.173997  0.033994  0.076232  0.034918   \n",
       "0   0.210908  0.059893  0.016674  0.000000  0.000000  0.000000  0.000000   \n",
       "0   0.000000  0.000000  0.000000  0.000000  0.000000  0.000000  0.000000   \n",
       "\n",
       "      node_7    node_8    node_9  \n",
       "0   0.000000  0.000000  0.000000  \n",
       "0   0.000000  0.000000  0.000000  \n",
       "0   0.000000  0.000000  0.000000  \n",
       "0   0.000000  0.000000  0.000000  \n",
       "0   0.000000  0.000000  0.000000  \n",
       "..       ...       ...       ...  \n",
       "0   0.475506  0.492601  0.476915  \n",
       "0   0.079258  0.051198  0.163748  \n",
       "0   0.093963  0.032252  0.000000  \n",
       "0   0.000000  0.000000  0.000000  \n",
       "0   0.000000  0.000000  0.000000  \n",
       "\n",
       "[1295 rows x 10 columns]"
      ]
     },
     "execution_count": 116,
     "metadata": {},
     "output_type": "execute_result"
    }
   ],
   "source": [
    "test.iloc[:, 1:11]"
   ]
  },
  {
   "cell_type": "code",
   "execution_count": 117,
   "id": "17aae9dc-8275-4080-903a-129f64f5c737",
   "metadata": {},
   "outputs": [],
   "source": [
    "test['reach_coverage'] = test.iloc[:, 1:10].sum(axis=1) / 10"
   ]
  },
  {
   "cell_type": "code",
   "execution_count": 118,
   "id": "62084b27-913c-45b2-a782-1e1b103f480a",
   "metadata": {},
   "outputs": [
    {
     "data": {
      "text/html": [
       "<div>\n",
       "<style scoped>\n",
       "    .dataframe tbody tr th:only-of-type {\n",
       "        vertical-align: middle;\n",
       "    }\n",
       "\n",
       "    .dataframe tbody tr th {\n",
       "        vertical-align: top;\n",
       "    }\n",
       "\n",
       "    .dataframe thead th {\n",
       "        text-align: right;\n",
       "    }\n",
       "</style>\n",
       "<table border=\"1\" class=\"dataframe\">\n",
       "  <thead>\n",
       "    <tr style=\"text-align: right;\">\n",
       "      <th></th>\n",
       "      <th>NHDPlusID</th>\n",
       "      <th>node_0</th>\n",
       "      <th>node_1</th>\n",
       "      <th>node_2</th>\n",
       "      <th>node_3</th>\n",
       "      <th>node_4</th>\n",
       "      <th>node_5</th>\n",
       "      <th>node_6</th>\n",
       "      <th>node_7</th>\n",
       "      <th>node_8</th>\n",
       "      <th>...</th>\n",
       "      <th>LengthKM</th>\n",
       "      <th>alignment</th>\n",
       "      <th>sinuosity</th>\n",
       "      <th>swot_slope</th>\n",
       "      <th>swot_r</th>\n",
       "      <th>swot_se</th>\n",
       "      <th>DropM</th>\n",
       "      <th>num_pixels</th>\n",
       "      <th>num_wse</th>\n",
       "      <th>reach_coverage</th>\n",
       "    </tr>\n",
       "  </thead>\n",
       "  <tbody>\n",
       "    <tr>\n",
       "      <th>0</th>\n",
       "      <td>5.000100e+12</td>\n",
       "      <td>0.000000</td>\n",
       "      <td>0.000000</td>\n",
       "      <td>0.000000</td>\n",
       "      <td>0.000000</td>\n",
       "      <td>0.000000</td>\n",
       "      <td>0.000000</td>\n",
       "      <td>0.000000</td>\n",
       "      <td>0.000000</td>\n",
       "      <td>0.000000</td>\n",
       "      <td>...</td>\n",
       "      <td>NaN</td>\n",
       "      <td>NaN</td>\n",
       "      <td>NaN</td>\n",
       "      <td>NaN</td>\n",
       "      <td>NaN</td>\n",
       "      <td>NaN</td>\n",
       "      <td>NaN</td>\n",
       "      <td>NaN</td>\n",
       "      <td>NaN</td>\n",
       "      <td>0.000000</td>\n",
       "    </tr>\n",
       "    <tr>\n",
       "      <th>0</th>\n",
       "      <td>5.000100e+12</td>\n",
       "      <td>0.000000</td>\n",
       "      <td>0.000000</td>\n",
       "      <td>0.000000</td>\n",
       "      <td>0.000000</td>\n",
       "      <td>0.000000</td>\n",
       "      <td>0.000000</td>\n",
       "      <td>0.000000</td>\n",
       "      <td>0.000000</td>\n",
       "      <td>0.000000</td>\n",
       "      <td>...</td>\n",
       "      <td>NaN</td>\n",
       "      <td>NaN</td>\n",
       "      <td>NaN</td>\n",
       "      <td>NaN</td>\n",
       "      <td>NaN</td>\n",
       "      <td>NaN</td>\n",
       "      <td>NaN</td>\n",
       "      <td>NaN</td>\n",
       "      <td>NaN</td>\n",
       "      <td>0.000000</td>\n",
       "    </tr>\n",
       "    <tr>\n",
       "      <th>0</th>\n",
       "      <td>5.000100e+12</td>\n",
       "      <td>0.000000</td>\n",
       "      <td>0.000000</td>\n",
       "      <td>0.000000</td>\n",
       "      <td>0.000000</td>\n",
       "      <td>0.000000</td>\n",
       "      <td>0.000000</td>\n",
       "      <td>0.000000</td>\n",
       "      <td>0.000000</td>\n",
       "      <td>0.000000</td>\n",
       "      <td>...</td>\n",
       "      <td>NaN</td>\n",
       "      <td>NaN</td>\n",
       "      <td>NaN</td>\n",
       "      <td>NaN</td>\n",
       "      <td>NaN</td>\n",
       "      <td>NaN</td>\n",
       "      <td>NaN</td>\n",
       "      <td>NaN</td>\n",
       "      <td>NaN</td>\n",
       "      <td>0.000000</td>\n",
       "    </tr>\n",
       "    <tr>\n",
       "      <th>0</th>\n",
       "      <td>5.000100e+12</td>\n",
       "      <td>0.000000</td>\n",
       "      <td>0.000000</td>\n",
       "      <td>0.000000</td>\n",
       "      <td>0.000000</td>\n",
       "      <td>0.000000</td>\n",
       "      <td>0.000000</td>\n",
       "      <td>0.000000</td>\n",
       "      <td>0.000000</td>\n",
       "      <td>0.000000</td>\n",
       "      <td>...</td>\n",
       "      <td>NaN</td>\n",
       "      <td>NaN</td>\n",
       "      <td>NaN</td>\n",
       "      <td>NaN</td>\n",
       "      <td>NaN</td>\n",
       "      <td>NaN</td>\n",
       "      <td>NaN</td>\n",
       "      <td>NaN</td>\n",
       "      <td>NaN</td>\n",
       "      <td>0.000000</td>\n",
       "    </tr>\n",
       "    <tr>\n",
       "      <th>0</th>\n",
       "      <td>5.000100e+12</td>\n",
       "      <td>0.012857</td>\n",
       "      <td>0.000000</td>\n",
       "      <td>0.000000</td>\n",
       "      <td>0.000000</td>\n",
       "      <td>0.000000</td>\n",
       "      <td>0.000000</td>\n",
       "      <td>0.000000</td>\n",
       "      <td>0.000000</td>\n",
       "      <td>0.000000</td>\n",
       "      <td>...</td>\n",
       "      <td>4.300000</td>\n",
       "      <td>14.167812</td>\n",
       "      <td>1.184040</td>\n",
       "      <td>NaN</td>\n",
       "      <td>NaN</td>\n",
       "      <td>NaN</td>\n",
       "      <td>19.139988</td>\n",
       "      <td>1.0</td>\n",
       "      <td>NaN</td>\n",
       "      <td>0.001286</td>\n",
       "    </tr>\n",
       "    <tr>\n",
       "      <th>...</th>\n",
       "      <td>...</td>\n",
       "      <td>...</td>\n",
       "      <td>...</td>\n",
       "      <td>...</td>\n",
       "      <td>...</td>\n",
       "      <td>...</td>\n",
       "      <td>...</td>\n",
       "      <td>...</td>\n",
       "      <td>...</td>\n",
       "      <td>...</td>\n",
       "      <td>...</td>\n",
       "      <td>...</td>\n",
       "      <td>...</td>\n",
       "      <td>...</td>\n",
       "      <td>...</td>\n",
       "      <td>...</td>\n",
       "      <td>...</td>\n",
       "      <td>...</td>\n",
       "      <td>...</td>\n",
       "      <td>...</td>\n",
       "      <td>...</td>\n",
       "    </tr>\n",
       "    <tr>\n",
       "      <th>0</th>\n",
       "      <td>5.000100e+12</td>\n",
       "      <td>0.362403</td>\n",
       "      <td>0.466680</td>\n",
       "      <td>0.478267</td>\n",
       "      <td>0.461440</td>\n",
       "      <td>0.483470</td>\n",
       "      <td>0.500730</td>\n",
       "      <td>0.498618</td>\n",
       "      <td>0.475506</td>\n",
       "      <td>0.492601</td>\n",
       "      <td>...</td>\n",
       "      <td>4.014822</td>\n",
       "      <td>-19.692326</td>\n",
       "      <td>1.014737</td>\n",
       "      <td>-0.000789</td>\n",
       "      <td>-0.607657</td>\n",
       "      <td>0.000027</td>\n",
       "      <td>4.370013</td>\n",
       "      <td>1644.0</td>\n",
       "      <td>1480.0</td>\n",
       "      <td>0.421972</td>\n",
       "    </tr>\n",
       "    <tr>\n",
       "      <th>0</th>\n",
       "      <td>1.000080e+13</td>\n",
       "      <td>0.041528</td>\n",
       "      <td>0.000000</td>\n",
       "      <td>0.098108</td>\n",
       "      <td>0.145629</td>\n",
       "      <td>0.170914</td>\n",
       "      <td>0.134695</td>\n",
       "      <td>0.164422</td>\n",
       "      <td>0.079258</td>\n",
       "      <td>0.051198</td>\n",
       "      <td>...</td>\n",
       "      <td>5.316422</td>\n",
       "      <td>190.859777</td>\n",
       "      <td>1.368107</td>\n",
       "      <td>-0.003353</td>\n",
       "      <td>-0.854315</td>\n",
       "      <td>0.000183</td>\n",
       "      <td>32.020011</td>\n",
       "      <td>292.0</td>\n",
       "      <td>126.0</td>\n",
       "      <td>0.088575</td>\n",
       "    </tr>\n",
       "    <tr>\n",
       "      <th>0</th>\n",
       "      <td>1.000080e+13</td>\n",
       "      <td>0.000000</td>\n",
       "      <td>0.000000</td>\n",
       "      <td>0.023058</td>\n",
       "      <td>0.173997</td>\n",
       "      <td>0.033994</td>\n",
       "      <td>0.076232</td>\n",
       "      <td>0.034918</td>\n",
       "      <td>0.093963</td>\n",
       "      <td>0.032252</td>\n",
       "      <td>...</td>\n",
       "      <td>2.145000</td>\n",
       "      <td>175.084592</td>\n",
       "      <td>1.400293</td>\n",
       "      <td>-0.000890</td>\n",
       "      <td>-0.281187</td>\n",
       "      <td>0.001012</td>\n",
       "      <td>2.159994</td>\n",
       "      <td>44.0</td>\n",
       "      <td>11.0</td>\n",
       "      <td>0.046841</td>\n",
       "    </tr>\n",
       "    <tr>\n",
       "      <th>0</th>\n",
       "      <td>1.000080e+13</td>\n",
       "      <td>0.210908</td>\n",
       "      <td>0.059893</td>\n",
       "      <td>0.016674</td>\n",
       "      <td>0.000000</td>\n",
       "      <td>0.000000</td>\n",
       "      <td>0.000000</td>\n",
       "      <td>0.000000</td>\n",
       "      <td>0.000000</td>\n",
       "      <td>0.000000</td>\n",
       "      <td>...</td>\n",
       "      <td>0.986000</td>\n",
       "      <td>178.669461</td>\n",
       "      <td>1.067519</td>\n",
       "      <td>-0.048042</td>\n",
       "      <td>-0.995986</td>\n",
       "      <td>0.004317</td>\n",
       "      <td>55.980002</td>\n",
       "      <td>13.0</td>\n",
       "      <td>3.0</td>\n",
       "      <td>0.028747</td>\n",
       "    </tr>\n",
       "    <tr>\n",
       "      <th>0</th>\n",
       "      <td>1.000090e+13</td>\n",
       "      <td>0.000000</td>\n",
       "      <td>0.000000</td>\n",
       "      <td>0.000000</td>\n",
       "      <td>0.000000</td>\n",
       "      <td>0.000000</td>\n",
       "      <td>0.000000</td>\n",
       "      <td>0.000000</td>\n",
       "      <td>0.000000</td>\n",
       "      <td>0.000000</td>\n",
       "      <td>...</td>\n",
       "      <td>NaN</td>\n",
       "      <td>NaN</td>\n",
       "      <td>NaN</td>\n",
       "      <td>NaN</td>\n",
       "      <td>NaN</td>\n",
       "      <td>NaN</td>\n",
       "      <td>NaN</td>\n",
       "      <td>NaN</td>\n",
       "      <td>NaN</td>\n",
       "      <td>0.000000</td>\n",
       "    </tr>\n",
       "  </tbody>\n",
       "</table>\n",
       "<p>1295 rows × 32 columns</p>\n",
       "</div>"
      ],
      "text/plain": [
       "       NHDPlusID    node_0    node_1    node_2    node_3    node_4    node_5  \\\n",
       "0   5.000100e+12  0.000000  0.000000  0.000000  0.000000  0.000000  0.000000   \n",
       "0   5.000100e+12  0.000000  0.000000  0.000000  0.000000  0.000000  0.000000   \n",
       "0   5.000100e+12  0.000000  0.000000  0.000000  0.000000  0.000000  0.000000   \n",
       "0   5.000100e+12  0.000000  0.000000  0.000000  0.000000  0.000000  0.000000   \n",
       "0   5.000100e+12  0.012857  0.000000  0.000000  0.000000  0.000000  0.000000   \n",
       "..           ...       ...       ...       ...       ...       ...       ...   \n",
       "0   5.000100e+12  0.362403  0.466680  0.478267  0.461440  0.483470  0.500730   \n",
       "0   1.000080e+13  0.041528  0.000000  0.098108  0.145629  0.170914  0.134695   \n",
       "0   1.000080e+13  0.000000  0.000000  0.023058  0.173997  0.033994  0.076232   \n",
       "0   1.000080e+13  0.210908  0.059893  0.016674  0.000000  0.000000  0.000000   \n",
       "0   1.000090e+13  0.000000  0.000000  0.000000  0.000000  0.000000  0.000000   \n",
       "\n",
       "      node_6    node_7    node_8  ...  LengthKM   alignment sinuosity  \\\n",
       "0   0.000000  0.000000  0.000000  ...       NaN         NaN       NaN   \n",
       "0   0.000000  0.000000  0.000000  ...       NaN         NaN       NaN   \n",
       "0   0.000000  0.000000  0.000000  ...       NaN         NaN       NaN   \n",
       "0   0.000000  0.000000  0.000000  ...       NaN         NaN       NaN   \n",
       "0   0.000000  0.000000  0.000000  ...  4.300000   14.167812  1.184040   \n",
       "..       ...       ...       ...  ...       ...         ...       ...   \n",
       "0   0.498618  0.475506  0.492601  ...  4.014822  -19.692326  1.014737   \n",
       "0   0.164422  0.079258  0.051198  ...  5.316422  190.859777  1.368107   \n",
       "0   0.034918  0.093963  0.032252  ...  2.145000  175.084592  1.400293   \n",
       "0   0.000000  0.000000  0.000000  ...  0.986000  178.669461  1.067519   \n",
       "0   0.000000  0.000000  0.000000  ...       NaN         NaN       NaN   \n",
       "\n",
       "    swot_slope    swot_r   swot_se      DropM  num_pixels  num_wse  \\\n",
       "0          NaN       NaN       NaN        NaN         NaN      NaN   \n",
       "0          NaN       NaN       NaN        NaN         NaN      NaN   \n",
       "0          NaN       NaN       NaN        NaN         NaN      NaN   \n",
       "0          NaN       NaN       NaN        NaN         NaN      NaN   \n",
       "0          NaN       NaN       NaN  19.139988         1.0      NaN   \n",
       "..         ...       ...       ...        ...         ...      ...   \n",
       "0    -0.000789 -0.607657  0.000027   4.370013      1644.0   1480.0   \n",
       "0    -0.003353 -0.854315  0.000183  32.020011       292.0    126.0   \n",
       "0    -0.000890 -0.281187  0.001012   2.159994        44.0     11.0   \n",
       "0    -0.048042 -0.995986  0.004317  55.980002        13.0      3.0   \n",
       "0          NaN       NaN       NaN        NaN         NaN      NaN   \n",
       "\n",
       "    reach_coverage  \n",
       "0         0.000000  \n",
       "0         0.000000  \n",
       "0         0.000000  \n",
       "0         0.000000  \n",
       "0         0.001286  \n",
       "..             ...  \n",
       "0         0.421972  \n",
       "0         0.088575  \n",
       "0         0.046841  \n",
       "0         0.028747  \n",
       "0         0.000000  \n",
       "\n",
       "[1295 rows x 32 columns]"
      ]
     },
     "execution_count": 118,
     "metadata": {},
     "output_type": "execute_result"
    }
   ],
   "source": [
    "test"
   ]
  },
  {
   "cell_type": "code",
   "execution_count": 18,
   "id": "d56957fe-a7a7-4ecb-a8c8-1d2cd42fafbb",
   "metadata": {},
   "outputs": [],
   "source": [
    "# Summarize coverage in nodes\n",
    "ddf_ne = countCoverage(ddf_ne)"
   ]
  },
  {
   "cell_type": "code",
   "execution_count": 19,
   "id": "71478b08-0fc4-4171-8365-074cbc825357",
   "metadata": {},
   "outputs": [],
   "source": [
    "# Sample across all partitions\n",
    "ddf_ne_sample = ddf_ne.map_partitions(lambda df: df.sample(frac=0.01))"
   ]
  },
  {
   "cell_type": "code",
   "execution_count": 20,
   "id": "92e11930-3f5d-4787-96f6-b5ca5740817a",
   "metadata": {},
   "outputs": [],
   "source": [
    "# Melt data for plotting\n",
    "ddf_ne_melted = meltData(ddf_ne_sample)"
   ]
  },
  {
   "cell_type": "code",
   "execution_count": 21,
   "id": "d4a778cb-b18e-4122-bf5e-5f5c711293b4",
   "metadata": {},
   "outputs": [
    {
     "name": "stdout",
     "output_type": "stream",
     "text": [
      "0.1 took 32.3315691947937 s\n",
      "0.2 took 31.700626850128174 s\n",
      "0.3 took 31.55781602859497 s\n",
      "0.4 took 31.796749591827393 s\n",
      "0.5 took 32.07582688331604 s\n",
      "0.6 took 30.463420152664185 s\n",
      "0.7 took 29.801027297973633 s\n",
      "0.8 took 29.844746351242065 s\n",
      "0.9 took 30.401626586914062 s\n"
     ]
    }
   ],
   "source": [
    "# Compute stats for plotting\n",
    "means_ne, stds_ne, zeros_ne, reaches_ne = computeStats(ddf=ddf_ne_melted,\n",
    "                                                       thresholds=thresholds,\n",
    "                                                       order=order)"
   ]
  },
  {
   "cell_type": "code",
   "execution_count": 22,
   "id": "adbe6213-bab9-4c93-a2d8-783a55a960ff",
   "metadata": {
    "scrolled": true
   },
   "outputs": [],
   "source": [
    "# for i in range(len(thresholds)):\n",
    "\n",
    "#     thresh = thresholds[i]\n",
    "\n",
    "#     percent = str(int(float(thresh)*100))\n",
    "\n",
    "#     # Draw plot with error bars and extra formatting to match seaborn style\n",
    "#     fig, ax = plt.subplots(figsize=(9,5))\n",
    "#     ax.errorbar(x=order, y=means_ne[thresh], yerr=stds_ne[thresh],\n",
    "#                 color=palette_four[0], ecolor=palette_four[0],\n",
    "#                 marker='o')\n",
    "#     # ax.set_xlabel('timepoint')\n",
    "#     # ax.set_ylabel('signal')\n",
    "#     ax.spines['top'].set_visible(False)\n",
    "#     ax.spines['right'].set_visible(False)\n",
    "#     plt.title('Reaches by proportion of nodes that meet or exceed ' + percent +\n",
    "#           '% coverage, excluding reaches with 0% coverage')\n",
    "    \n",
    "#     plt.xlabel('Width Bin [m]')\n",
    "#     plt.ylabel('Number of nodes that exceed ' + percent + '% coverage')\n",
    "#     plt.xticks(rotation=-45)\n",
    "    \n",
    "#     plt.show()"
   ]
  },
  {
   "cell_type": "markdown",
   "id": "b77b52bd-df32-4e0e-a45c-c3b9718af630",
   "metadata": {
    "tags": []
   },
   "source": [
    "### HUC2_08, Southeast"
   ]
  },
  {
   "cell_type": "code",
   "execution_count": 23,
   "id": "8c978590-83a3-4418-bcb7-cb0a58010a54",
   "metadata": {},
   "outputs": [],
   "source": [
    "## Setup\n",
    "bwidth = 'mean'\n",
    "bbin = 'Bin'\n",
    "huc2 = '08'\n",
    "data_path = '../../narrow_rivers_PIXC_output/PIXC_v2_0_HUC2_' + \\\n",
    "            huc2 + '_2025_05_24_' + bwidth"
   ]
  },
  {
   "cell_type": "code",
   "execution_count": 24,
   "id": "6388aef1-21d8-4469-8801-0714eb0522eb",
   "metadata": {},
   "outputs": [
    {
     "data": {
      "text/plain": [
       "1686"
      ]
     },
     "execution_count": 24,
     "metadata": {},
     "output_type": "execute_result"
    }
   ],
   "source": [
    "# Get list of files\n",
    "files = getFiles(data_path)\n",
    "len(files)"
   ]
  },
  {
   "cell_type": "code",
   "execution_count": 25,
   "id": "367c871a-5e10-4121-8b26-88433fbe86b9",
   "metadata": {},
   "outputs": [],
   "source": [
    "ddf_se = dd.read_parquet(files)"
   ]
  },
  {
   "cell_type": "code",
   "execution_count": 26,
   "id": "c775572e-e8b9-4777-8509-760dcfca5c64",
   "metadata": {},
   "outputs": [],
   "source": [
    "ddf_se = countCoverage(ddf_se)"
   ]
  },
  {
   "cell_type": "code",
   "execution_count": 27,
   "id": "d4da3092-a798-4971-8470-cf066cb90953",
   "metadata": {},
   "outputs": [],
   "source": [
    "# Sample across all partitions\n",
    "ddf_se_sample = ddf_se.map_partitions(lambda df: df.sample(frac=0.01))"
   ]
  },
  {
   "cell_type": "code",
   "execution_count": 28,
   "id": "b177b80b-69ab-4d3f-bc54-55bdd5fa21e4",
   "metadata": {},
   "outputs": [],
   "source": [
    "# Melt data for plotting\n",
    "ddf_se_melted = meltData(ddf_se_sample)"
   ]
  },
  {
   "cell_type": "code",
   "execution_count": 29,
   "id": "7146319d-d254-4b9e-8df3-ac9c9b004c9d",
   "metadata": {},
   "outputs": [
    {
     "name": "stdout",
     "output_type": "stream",
     "text": [
      "0.1 took 41.70557713508606 s\n",
      "0.2 took 41.12979054450989 s\n",
      "0.3 took 41.55265498161316 s\n",
      "0.4 took 40.96125030517578 s\n",
      "0.5 took 41.03275799751282 s\n",
      "0.6 took 41.03368020057678 s\n",
      "0.7 took 41.51097798347473 s\n",
      "0.8 took 41.10739254951477 s\n",
      "0.9 took 41.23086428642273 s\n"
     ]
    }
   ],
   "source": [
    "# Compute stats for plotting\n",
    "means_se, stds_se, zeros_se, reaches_se = computeStats(ddf=ddf_se_melted,\n",
    "                                                       thresholds=thresholds,\n",
    "                                                       order=order)"
   ]
  },
  {
   "cell_type": "markdown",
   "id": "98e3f765-05c4-4c8b-be32-39197b686177",
   "metadata": {
    "tags": []
   },
   "source": [
    "### HUC2_15, Southwest"
   ]
  },
  {
   "cell_type": "code",
   "execution_count": 30,
   "id": "1a5e32ba-a4f9-4825-85b3-b71037b5bcaf",
   "metadata": {},
   "outputs": [],
   "source": [
    "## Setup\n",
    "bwidth = 'mean'\n",
    "bbin = 'Bin'\n",
    "huc2 = '15'\n",
    "data_path = '../../narrow_rivers_PIXC_output/PIXC_v2_0_HUC2_' + \\\n",
    "            huc2 + '_2025_05_24_' + bwidth"
   ]
  },
  {
   "cell_type": "code",
   "execution_count": 31,
   "id": "b974a1a7-003f-4166-8db8-2ac14ff514d3",
   "metadata": {},
   "outputs": [
    {
     "data": {
      "text/plain": [
       "2412"
      ]
     },
     "execution_count": 31,
     "metadata": {},
     "output_type": "execute_result"
    }
   ],
   "source": [
    "# Get list of files\n",
    "files = getFiles(data_path)\n",
    "len(files)"
   ]
  },
  {
   "cell_type": "code",
   "execution_count": 32,
   "id": "22a8cb73-c0de-4744-aa24-a8c747d88574",
   "metadata": {},
   "outputs": [],
   "source": [
    "ddf_sw = dd.read_parquet(files)"
   ]
  },
  {
   "cell_type": "code",
   "execution_count": 33,
   "id": "56e9b452-e47e-4a60-ac63-8ae055c5bfb1",
   "metadata": {},
   "outputs": [],
   "source": [
    "ddf_sw = countCoverage(ddf_sw)"
   ]
  },
  {
   "cell_type": "code",
   "execution_count": 136,
   "id": "3a8fca13-471d-4298-a2bb-442ec07fb924",
   "metadata": {},
   "outputs": [
    {
     "data": {
      "text/plain": [
       "'(150, 200]'"
      ]
     },
     "execution_count": 136,
     "metadata": {},
     "output_type": "execute_result"
    }
   ],
   "source": [
    "order[-2]"
   ]
  },
  {
   "cell_type": "code",
   "execution_count": 138,
   "id": "b8e2bfbb-9912-488e-a876-af690fb88d05",
   "metadata": {
    "scrolled": true
   },
   "outputs": [
    {
     "data": {
      "text/html": [
       "<div>\n",
       "<style scoped>\n",
       "    .dataframe tbody tr th:only-of-type {\n",
       "        vertical-align: middle;\n",
       "    }\n",
       "\n",
       "    .dataframe tbody tr th {\n",
       "        vertical-align: top;\n",
       "    }\n",
       "\n",
       "    .dataframe thead th {\n",
       "        text-align: right;\n",
       "    }\n",
       "</style>\n",
       "<table border=\"1\" class=\"dataframe\">\n",
       "  <thead>\n",
       "    <tr style=\"text-align: right;\">\n",
       "      <th></th>\n",
       "      <th>NHDPlusID</th>\n",
       "      <th>WidthM</th>\n",
       "      <th>Bin</th>\n",
       "      <th>index</th>\n",
       "      <th>cross_track</th>\n",
       "      <th>water_frac</th>\n",
       "      <th>prior_water_prob</th>\n",
       "      <th>latitude</th>\n",
       "      <th>longitude</th>\n",
       "      <th>geo_qual_wse_suspect</th>\n",
       "      <th>...</th>\n",
       "      <th>num_wse</th>\n",
       "      <th>0.1</th>\n",
       "      <th>0.2</th>\n",
       "      <th>0.3</th>\n",
       "      <th>0.4</th>\n",
       "      <th>0.5</th>\n",
       "      <th>0.6</th>\n",
       "      <th>0.7</th>\n",
       "      <th>0.8</th>\n",
       "      <th>0.9</th>\n",
       "    </tr>\n",
       "  </thead>\n",
       "  <tbody>\n",
       "    <tr>\n",
       "      <th>244</th>\n",
       "      <td>4.000050e+13</td>\n",
       "      <td>253.630866</td>\n",
       "      <td>(200, 500]</td>\n",
       "      <td>NaN</td>\n",
       "      <td>NaN</td>\n",
       "      <td>NaN</td>\n",
       "      <td>NaN</td>\n",
       "      <td>NaN</td>\n",
       "      <td>NaN</td>\n",
       "      <td>NaN</td>\n",
       "      <td>...</td>\n",
       "      <td>NaN</td>\n",
       "      <td>0</td>\n",
       "      <td>0</td>\n",
       "      <td>0</td>\n",
       "      <td>0</td>\n",
       "      <td>0</td>\n",
       "      <td>0</td>\n",
       "      <td>0</td>\n",
       "      <td>0</td>\n",
       "      <td>0</td>\n",
       "    </tr>\n",
       "    <tr>\n",
       "      <th>248</th>\n",
       "      <td>4.000050e+13</td>\n",
       "      <td>253.532902</td>\n",
       "      <td>(200, 500]</td>\n",
       "      <td>NaN</td>\n",
       "      <td>NaN</td>\n",
       "      <td>NaN</td>\n",
       "      <td>NaN</td>\n",
       "      <td>NaN</td>\n",
       "      <td>NaN</td>\n",
       "      <td>NaN</td>\n",
       "      <td>...</td>\n",
       "      <td>NaN</td>\n",
       "      <td>0</td>\n",
       "      <td>0</td>\n",
       "      <td>0</td>\n",
       "      <td>0</td>\n",
       "      <td>0</td>\n",
       "      <td>0</td>\n",
       "      <td>0</td>\n",
       "      <td>0</td>\n",
       "      <td>0</td>\n",
       "    </tr>\n",
       "    <tr>\n",
       "      <th>250</th>\n",
       "      <td>4.000050e+13</td>\n",
       "      <td>253.575671</td>\n",
       "      <td>(200, 500]</td>\n",
       "      <td>17729.0</td>\n",
       "      <td>-24670.621094</td>\n",
       "      <td>0.203904</td>\n",
       "      <td>0.0</td>\n",
       "      <td>36.496130</td>\n",
       "      <td>-111.844457</td>\n",
       "      <td>0.0</td>\n",
       "      <td>...</td>\n",
       "      <td>1.0</td>\n",
       "      <td>0</td>\n",
       "      <td>0</td>\n",
       "      <td>0</td>\n",
       "      <td>0</td>\n",
       "      <td>0</td>\n",
       "      <td>0</td>\n",
       "      <td>0</td>\n",
       "      <td>0</td>\n",
       "      <td>0</td>\n",
       "    </tr>\n",
       "    <tr>\n",
       "      <th>266</th>\n",
       "      <td>4.000050e+13</td>\n",
       "      <td>253.489893</td>\n",
       "      <td>(200, 500]</td>\n",
       "      <td>NaN</td>\n",
       "      <td>NaN</td>\n",
       "      <td>NaN</td>\n",
       "      <td>NaN</td>\n",
       "      <td>NaN</td>\n",
       "      <td>NaN</td>\n",
       "      <td>NaN</td>\n",
       "      <td>...</td>\n",
       "      <td>NaN</td>\n",
       "      <td>0</td>\n",
       "      <td>0</td>\n",
       "      <td>0</td>\n",
       "      <td>0</td>\n",
       "      <td>0</td>\n",
       "      <td>0</td>\n",
       "      <td>0</td>\n",
       "      <td>0</td>\n",
       "      <td>0</td>\n",
       "    </tr>\n",
       "    <tr>\n",
       "      <th>760</th>\n",
       "      <td>4.000050e+13</td>\n",
       "      <td>253.133153</td>\n",
       "      <td>(200, 500]</td>\n",
       "      <td>8219.0</td>\n",
       "      <td>-26689.107422</td>\n",
       "      <td>0.423579</td>\n",
       "      <td>0.0</td>\n",
       "      <td>36.746475</td>\n",
       "      <td>-111.685711</td>\n",
       "      <td>0.0</td>\n",
       "      <td>...</td>\n",
       "      <td>49.0</td>\n",
       "      <td>9</td>\n",
       "      <td>5</td>\n",
       "      <td>0</td>\n",
       "      <td>0</td>\n",
       "      <td>0</td>\n",
       "      <td>0</td>\n",
       "      <td>0</td>\n",
       "      <td>0</td>\n",
       "      <td>0</td>\n",
       "    </tr>\n",
       "    <tr>\n",
       "      <th>...</th>\n",
       "      <td>...</td>\n",
       "      <td>...</td>\n",
       "      <td>...</td>\n",
       "      <td>...</td>\n",
       "      <td>...</td>\n",
       "      <td>...</td>\n",
       "      <td>...</td>\n",
       "      <td>...</td>\n",
       "      <td>...</td>\n",
       "      <td>...</td>\n",
       "      <td>...</td>\n",
       "      <td>...</td>\n",
       "      <td>...</td>\n",
       "      <td>...</td>\n",
       "      <td>...</td>\n",
       "      <td>...</td>\n",
       "      <td>...</td>\n",
       "      <td>...</td>\n",
       "      <td>...</td>\n",
       "      <td>...</td>\n",
       "      <td>...</td>\n",
       "    </tr>\n",
       "    <tr>\n",
       "      <th>174</th>\n",
       "      <td>4.000020e+13</td>\n",
       "      <td>273.325898</td>\n",
       "      <td>(200, 500]</td>\n",
       "      <td>NaN</td>\n",
       "      <td>NaN</td>\n",
       "      <td>NaN</td>\n",
       "      <td>NaN</td>\n",
       "      <td>NaN</td>\n",
       "      <td>NaN</td>\n",
       "      <td>NaN</td>\n",
       "      <td>...</td>\n",
       "      <td>NaN</td>\n",
       "      <td>0</td>\n",
       "      <td>0</td>\n",
       "      <td>0</td>\n",
       "      <td>0</td>\n",
       "      <td>0</td>\n",
       "      <td>0</td>\n",
       "      <td>0</td>\n",
       "      <td>0</td>\n",
       "      <td>0</td>\n",
       "    </tr>\n",
       "    <tr>\n",
       "      <th>195</th>\n",
       "      <td>4.000020e+13</td>\n",
       "      <td>273.301963</td>\n",
       "      <td>(200, 500]</td>\n",
       "      <td>33605.0</td>\n",
       "      <td>58272.714844</td>\n",
       "      <td>-0.018639</td>\n",
       "      <td>0.0</td>\n",
       "      <td>36.000230</td>\n",
       "      <td>-114.742572</td>\n",
       "      <td>0.0</td>\n",
       "      <td>...</td>\n",
       "      <td>241.0</td>\n",
       "      <td>5</td>\n",
       "      <td>3</td>\n",
       "      <td>0</td>\n",
       "      <td>0</td>\n",
       "      <td>0</td>\n",
       "      <td>0</td>\n",
       "      <td>0</td>\n",
       "      <td>0</td>\n",
       "      <td>0</td>\n",
       "    </tr>\n",
       "    <tr>\n",
       "      <th>201</th>\n",
       "      <td>4.000020e+13</td>\n",
       "      <td>273.326485</td>\n",
       "      <td>(200, 500]</td>\n",
       "      <td>NaN</td>\n",
       "      <td>NaN</td>\n",
       "      <td>NaN</td>\n",
       "      <td>NaN</td>\n",
       "      <td>NaN</td>\n",
       "      <td>NaN</td>\n",
       "      <td>NaN</td>\n",
       "      <td>...</td>\n",
       "      <td>NaN</td>\n",
       "      <td>0</td>\n",
       "      <td>0</td>\n",
       "      <td>0</td>\n",
       "      <td>0</td>\n",
       "      <td>0</td>\n",
       "      <td>0</td>\n",
       "      <td>0</td>\n",
       "      <td>0</td>\n",
       "      <td>0</td>\n",
       "    </tr>\n",
       "    <tr>\n",
       "      <th>202</th>\n",
       "      <td>4.000020e+13</td>\n",
       "      <td>273.324547</td>\n",
       "      <td>(200, 500]</td>\n",
       "      <td>NaN</td>\n",
       "      <td>NaN</td>\n",
       "      <td>NaN</td>\n",
       "      <td>NaN</td>\n",
       "      <td>NaN</td>\n",
       "      <td>NaN</td>\n",
       "      <td>NaN</td>\n",
       "      <td>...</td>\n",
       "      <td>NaN</td>\n",
       "      <td>0</td>\n",
       "      <td>0</td>\n",
       "      <td>0</td>\n",
       "      <td>0</td>\n",
       "      <td>0</td>\n",
       "      <td>0</td>\n",
       "      <td>0</td>\n",
       "      <td>0</td>\n",
       "      <td>0</td>\n",
       "    </tr>\n",
       "    <tr>\n",
       "      <th>205</th>\n",
       "      <td>4.000020e+13</td>\n",
       "      <td>273.312742</td>\n",
       "      <td>(200, 500]</td>\n",
       "      <td>19094.0</td>\n",
       "      <td>59891.628906</td>\n",
       "      <td>0.009187</td>\n",
       "      <td>0.9</td>\n",
       "      <td>35.963199</td>\n",
       "      <td>-114.731305</td>\n",
       "      <td>1.0</td>\n",
       "      <td>...</td>\n",
       "      <td>33.0</td>\n",
       "      <td>5</td>\n",
       "      <td>4</td>\n",
       "      <td>1</td>\n",
       "      <td>1</td>\n",
       "      <td>0</td>\n",
       "      <td>0</td>\n",
       "      <td>0</td>\n",
       "      <td>0</td>\n",
       "      <td>0</td>\n",
       "    </tr>\n",
       "  </tbody>\n",
       "</table>\n",
       "<p>26491 rows × 30 columns</p>\n",
       "</div>"
      ],
      "text/plain": [
       "        NHDPlusID      WidthM         Bin    index   cross_track  water_frac  \\\n",
       "244  4.000050e+13  253.630866  (200, 500]      NaN           NaN         NaN   \n",
       "248  4.000050e+13  253.532902  (200, 500]      NaN           NaN         NaN   \n",
       "250  4.000050e+13  253.575671  (200, 500]  17729.0 -24670.621094    0.203904   \n",
       "266  4.000050e+13  253.489893  (200, 500]      NaN           NaN         NaN   \n",
       "760  4.000050e+13  253.133153  (200, 500]   8219.0 -26689.107422    0.423579   \n",
       "..            ...         ...         ...      ...           ...         ...   \n",
       "174  4.000020e+13  273.325898  (200, 500]      NaN           NaN         NaN   \n",
       "195  4.000020e+13  273.301963  (200, 500]  33605.0  58272.714844   -0.018639   \n",
       "201  4.000020e+13  273.326485  (200, 500]      NaN           NaN         NaN   \n",
       "202  4.000020e+13  273.324547  (200, 500]      NaN           NaN         NaN   \n",
       "205  4.000020e+13  273.312742  (200, 500]  19094.0  59891.628906    0.009187   \n",
       "\n",
       "     prior_water_prob   latitude   longitude  geo_qual_wse_suspect  ...  \\\n",
       "244               NaN        NaN         NaN                   NaN  ...   \n",
       "248               NaN        NaN         NaN                   NaN  ...   \n",
       "250               0.0  36.496130 -111.844457                   0.0  ...   \n",
       "266               NaN        NaN         NaN                   NaN  ...   \n",
       "760               0.0  36.746475 -111.685711                   0.0  ...   \n",
       "..                ...        ...         ...                   ...  ...   \n",
       "174               NaN        NaN         NaN                   NaN  ...   \n",
       "195               0.0  36.000230 -114.742572                   0.0  ...   \n",
       "201               NaN        NaN         NaN                   NaN  ...   \n",
       "202               NaN        NaN         NaN                   NaN  ...   \n",
       "205               0.9  35.963199 -114.731305                   1.0  ...   \n",
       "\n",
       "     num_wse  0.1  0.2  0.3  0.4  0.5  0.6  0.7  0.8  0.9  \n",
       "244      NaN    0    0    0    0    0    0    0    0    0  \n",
       "248      NaN    0    0    0    0    0    0    0    0    0  \n",
       "250      1.0    0    0    0    0    0    0    0    0    0  \n",
       "266      NaN    0    0    0    0    0    0    0    0    0  \n",
       "760     49.0    9    5    0    0    0    0    0    0    0  \n",
       "..       ...  ...  ...  ...  ...  ...  ...  ...  ...  ...  \n",
       "174      NaN    0    0    0    0    0    0    0    0    0  \n",
       "195    241.0    5    3    0    0    0    0    0    0    0  \n",
       "201      NaN    0    0    0    0    0    0    0    0    0  \n",
       "202      NaN    0    0    0    0    0    0    0    0    0  \n",
       "205     33.0    5    4    1    1    0    0    0    0    0  \n",
       "\n",
       "[26491 rows x 30 columns]"
      ]
     },
     "execution_count": 138,
     "metadata": {},
     "output_type": "execute_result"
    }
   ],
   "source": [
    "ddf_sw[ddf_sw['Bin'] == order[-1]].compute()"
   ]
  },
  {
   "cell_type": "code",
   "execution_count": 37,
   "id": "46de4e8c-1026-45d5-9ec3-dc0014171587",
   "metadata": {},
   "outputs": [],
   "source": [
    "# Sample across all partitions\n",
    "ddf_sw_sample = ddf_sw.map_partitions(lambda df: df.sample(frac=0.005))"
   ]
  },
  {
   "cell_type": "code",
   "execution_count": 38,
   "id": "4c0ed8cf-ac84-4c8f-bb23-0bb0e7208c08",
   "metadata": {},
   "outputs": [],
   "source": [
    "# Melt data for plotting\n",
    "ddf_sw_melted = meltData(ddf_sw_sample)"
   ]
  },
  {
   "cell_type": "code",
   "execution_count": 39,
   "id": "56fa1d4e-0f0a-4210-bc13-89da9f99d091",
   "metadata": {},
   "outputs": [
    {
     "name": "stdout",
     "output_type": "stream",
     "text": [
      "0.1 took 58.6121392250061 s\n",
      "0.2 took 58.849308013916016 s\n",
      "0.3 took 58.036306619644165 s\n",
      "0.4 took 57.62744331359863 s\n",
      "0.5 took 58.21872639656067 s\n",
      "0.6 took 57.55247449874878 s\n",
      "0.7 took 57.79880881309509 s\n",
      "0.8 took 57.94714832305908 s\n",
      "0.9 took 69.61983728408813 s\n"
     ]
    }
   ],
   "source": [
    "# Compute stats for plotting\n",
    "means_sw, stds_sw, zeros_sw, reaches_sw = computeStats(ddf=ddf_sw_melted,\n",
    "                                                       thresholds=thresholds,\n",
    "                                                       order=order)"
   ]
  },
  {
   "cell_type": "code",
   "execution_count": 142,
   "id": "88f180fd-7a2c-4d24-997f-ec3402bef0eb",
   "metadata": {},
   "outputs": [
    {
     "data": {
      "text/html": [
       "<div>\n",
       "<style scoped>\n",
       "    .dataframe tbody tr th:only-of-type {\n",
       "        vertical-align: middle;\n",
       "    }\n",
       "\n",
       "    .dataframe tbody tr th {\n",
       "        vertical-align: top;\n",
       "    }\n",
       "\n",
       "    .dataframe thead th {\n",
       "        text-align: right;\n",
       "    }\n",
       "</style>\n",
       "<table border=\"1\" class=\"dataframe\">\n",
       "  <thead>\n",
       "    <tr style=\"text-align: right;\">\n",
       "      <th></th>\n",
       "      <th>NHDPlusID</th>\n",
       "      <th>threshold</th>\n",
       "      <th>coverage</th>\n",
       "    </tr>\n",
       "    <tr>\n",
       "      <th>Bin</th>\n",
       "      <th></th>\n",
       "      <th></th>\n",
       "      <th></th>\n",
       "    </tr>\n",
       "  </thead>\n",
       "  <tbody>\n",
       "    <tr>\n",
       "      <th>(0, 10]</th>\n",
       "      <td>67759</td>\n",
       "      <td>67759</td>\n",
       "      <td>67759</td>\n",
       "    </tr>\n",
       "    <tr>\n",
       "      <th>(10, 20]</th>\n",
       "      <td>2192</td>\n",
       "      <td>2192</td>\n",
       "      <td>2192</td>\n",
       "    </tr>\n",
       "    <tr>\n",
       "      <th>(100, 150]</th>\n",
       "      <td>102</td>\n",
       "      <td>102</td>\n",
       "      <td>102</td>\n",
       "    </tr>\n",
       "    <tr>\n",
       "      <th>(20, 30]</th>\n",
       "      <td>602</td>\n",
       "      <td>602</td>\n",
       "      <td>602</td>\n",
       "    </tr>\n",
       "    <tr>\n",
       "      <th>(200, 500]</th>\n",
       "      <td>120</td>\n",
       "      <td>120</td>\n",
       "      <td>120</td>\n",
       "    </tr>\n",
       "    <tr>\n",
       "      <th>(30, 40]</th>\n",
       "      <td>287</td>\n",
       "      <td>287</td>\n",
       "      <td>287</td>\n",
       "    </tr>\n",
       "    <tr>\n",
       "      <th>(40, 50]</th>\n",
       "      <td>123</td>\n",
       "      <td>123</td>\n",
       "      <td>123</td>\n",
       "    </tr>\n",
       "    <tr>\n",
       "      <th>(50, 60]</th>\n",
       "      <td>116</td>\n",
       "      <td>116</td>\n",
       "      <td>116</td>\n",
       "    </tr>\n",
       "    <tr>\n",
       "      <th>(60, 70]</th>\n",
       "      <td>25</td>\n",
       "      <td>25</td>\n",
       "      <td>25</td>\n",
       "    </tr>\n",
       "    <tr>\n",
       "      <th>(70, 80]</th>\n",
       "      <td>28</td>\n",
       "      <td>28</td>\n",
       "      <td>28</td>\n",
       "    </tr>\n",
       "    <tr>\n",
       "      <th>(80, 90]</th>\n",
       "      <td>21</td>\n",
       "      <td>21</td>\n",
       "      <td>21</td>\n",
       "    </tr>\n",
       "    <tr>\n",
       "      <th>(90, 100]</th>\n",
       "      <td>15</td>\n",
       "      <td>15</td>\n",
       "      <td>15</td>\n",
       "    </tr>\n",
       "  </tbody>\n",
       "</table>\n",
       "</div>"
      ],
      "text/plain": [
       "            NHDPlusID  threshold  coverage\n",
       "Bin                                       \n",
       "(0, 10]         67759      67759     67759\n",
       "(10, 20]         2192       2192      2192\n",
       "(100, 150]        102        102       102\n",
       "(20, 30]          602        602       602\n",
       "(200, 500]        120        120       120\n",
       "(30, 40]          287        287       287\n",
       "(40, 50]          123        123       123\n",
       "(50, 60]          116        116       116\n",
       "(60, 70]           25         25        25\n",
       "(70, 80]           28         28        28\n",
       "(80, 90]           21         21        21\n",
       "(90, 100]          15         15        15"
      ]
     },
     "execution_count": 142,
     "metadata": {},
     "output_type": "execute_result"
    }
   ],
   "source": [
    "zeros_sw['0.4']"
   ]
  },
  {
   "cell_type": "code",
   "execution_count": 143,
   "id": "ebf51cb4-12c2-456e-b54f-bd9f19e175d1",
   "metadata": {},
   "outputs": [
    {
     "data": {
      "text/html": [
       "<div>\n",
       "<style scoped>\n",
       "    .dataframe tbody tr th:only-of-type {\n",
       "        vertical-align: middle;\n",
       "    }\n",
       "\n",
       "    .dataframe tbody tr th {\n",
       "        vertical-align: top;\n",
       "    }\n",
       "\n",
       "    .dataframe thead th {\n",
       "        text-align: right;\n",
       "    }\n",
       "</style>\n",
       "<table border=\"1\" class=\"dataframe\">\n",
       "  <thead>\n",
       "    <tr style=\"text-align: right;\">\n",
       "      <th></th>\n",
       "      <th>NHDPlusID</th>\n",
       "      <th>threshold</th>\n",
       "      <th>coverage</th>\n",
       "    </tr>\n",
       "    <tr>\n",
       "      <th>Bin</th>\n",
       "      <th></th>\n",
       "      <th></th>\n",
       "      <th></th>\n",
       "    </tr>\n",
       "  </thead>\n",
       "  <tbody>\n",
       "    <tr>\n",
       "      <th>(0, 10]</th>\n",
       "      <td>70910</td>\n",
       "      <td>70910</td>\n",
       "      <td>70910</td>\n",
       "    </tr>\n",
       "    <tr>\n",
       "      <th>(10, 20]</th>\n",
       "      <td>2388</td>\n",
       "      <td>2388</td>\n",
       "      <td>2388</td>\n",
       "    </tr>\n",
       "    <tr>\n",
       "      <th>(100, 150]</th>\n",
       "      <td>116</td>\n",
       "      <td>116</td>\n",
       "      <td>116</td>\n",
       "    </tr>\n",
       "    <tr>\n",
       "      <th>(20, 30]</th>\n",
       "      <td>685</td>\n",
       "      <td>685</td>\n",
       "      <td>685</td>\n",
       "    </tr>\n",
       "    <tr>\n",
       "      <th>(200, 500]</th>\n",
       "      <td>154</td>\n",
       "      <td>154</td>\n",
       "      <td>154</td>\n",
       "    </tr>\n",
       "    <tr>\n",
       "      <th>(30, 40]</th>\n",
       "      <td>334</td>\n",
       "      <td>334</td>\n",
       "      <td>334</td>\n",
       "    </tr>\n",
       "    <tr>\n",
       "      <th>(40, 50]</th>\n",
       "      <td>164</td>\n",
       "      <td>164</td>\n",
       "      <td>164</td>\n",
       "    </tr>\n",
       "    <tr>\n",
       "      <th>(50, 60]</th>\n",
       "      <td>144</td>\n",
       "      <td>144</td>\n",
       "      <td>144</td>\n",
       "    </tr>\n",
       "    <tr>\n",
       "      <th>(60, 70]</th>\n",
       "      <td>28</td>\n",
       "      <td>28</td>\n",
       "      <td>28</td>\n",
       "    </tr>\n",
       "    <tr>\n",
       "      <th>(70, 80]</th>\n",
       "      <td>36</td>\n",
       "      <td>36</td>\n",
       "      <td>36</td>\n",
       "    </tr>\n",
       "    <tr>\n",
       "      <th>(80, 90]</th>\n",
       "      <td>26</td>\n",
       "      <td>26</td>\n",
       "      <td>26</td>\n",
       "    </tr>\n",
       "    <tr>\n",
       "      <th>(90, 100]</th>\n",
       "      <td>17</td>\n",
       "      <td>17</td>\n",
       "      <td>17</td>\n",
       "    </tr>\n",
       "  </tbody>\n",
       "</table>\n",
       "</div>"
      ],
      "text/plain": [
       "            NHDPlusID  threshold  coverage\n",
       "Bin                                       \n",
       "(0, 10]         70910      70910     70910\n",
       "(10, 20]         2388       2388      2388\n",
       "(100, 150]        116        116       116\n",
       "(20, 30]          685        685       685\n",
       "(200, 500]        154        154       154\n",
       "(30, 40]          334        334       334\n",
       "(40, 50]          164        164       164\n",
       "(50, 60]          144        144       144\n",
       "(60, 70]           28         28        28\n",
       "(70, 80]           36         36        36\n",
       "(80, 90]           26         26        26\n",
       "(90, 100]          17         17        17"
      ]
     },
     "execution_count": 143,
     "metadata": {},
     "output_type": "execute_result"
    }
   ],
   "source": [
    "reaches_sw['0.4']"
   ]
  },
  {
   "cell_type": "markdown",
   "id": "8b66f158-cc5a-4354-914a-7c7b9dec68c2",
   "metadata": {
    "tags": []
   },
   "source": [
    "### HUC2_17, Northwest"
   ]
  },
  {
   "cell_type": "code",
   "execution_count": 40,
   "id": "2be08f00-cf7b-4ecb-be6f-3c9c9139fa14",
   "metadata": {},
   "outputs": [],
   "source": [
    "## Setup\n",
    "bwidth = 'mean'\n",
    "bbin = 'Bin'\n",
    "huc2 = '17'\n",
    "data_path = '../../narrow_rivers_PIXC_output/PIXC_v2_0_HUC2_' + \\\n",
    "            huc2 + '_2025_05_24_' + bwidth"
   ]
  },
  {
   "cell_type": "code",
   "execution_count": 41,
   "id": "41bde6c2-b273-4db2-98a5-6dcc23bce74d",
   "metadata": {},
   "outputs": [
    {
     "data": {
      "text/plain": [
       "4709"
      ]
     },
     "execution_count": 41,
     "metadata": {},
     "output_type": "execute_result"
    }
   ],
   "source": [
    "# Get list of files\n",
    "files = getFiles(data_path)\n",
    "len(files)"
   ]
  },
  {
   "cell_type": "code",
   "execution_count": 42,
   "id": "084403ff-1a77-43c3-a625-efd574d92b56",
   "metadata": {},
   "outputs": [],
   "source": [
    "ddf_nw = dd.read_parquet(files)"
   ]
  },
  {
   "cell_type": "code",
   "execution_count": 43,
   "id": "554e4c23-0136-4300-95b9-7d4eb87c9d49",
   "metadata": {},
   "outputs": [],
   "source": [
    "ddf_nw = countCoverage(ddf_nw)"
   ]
  },
  {
   "cell_type": "code",
   "execution_count": 59,
   "id": "6bcc961b-271d-4334-a47e-c0703921c247",
   "metadata": {},
   "outputs": [],
   "source": [
    "# Sample across all partitions\n",
    "ddf_nw_sample = ddf_nw.map_partitions(lambda df: df.sample(frac=0.002))"
   ]
  },
  {
   "cell_type": "code",
   "execution_count": 60,
   "id": "3ab5cf99-e803-46cc-b4d9-5603f015e068",
   "metadata": {},
   "outputs": [],
   "source": [
    "# ddf_nw_sample = dd.from_pandas(ddf_nw_sample)"
   ]
  },
  {
   "cell_type": "code",
   "execution_count": 61,
   "id": "599a3d97-c98f-42b5-82ac-898b9beb61fe",
   "metadata": {},
   "outputs": [],
   "source": [
    "# ddf_nw_sample.repartion(npartitions=100)"
   ]
  },
  {
   "cell_type": "code",
   "execution_count": 62,
   "id": "3ed0fb65-5582-4bbf-be0f-d0401525ea9e",
   "metadata": {},
   "outputs": [],
   "source": [
    "# Melt data for plotting\n",
    "ddf_nw_melted = meltData(ddf_nw_sample)"
   ]
  },
  {
   "cell_type": "code",
   "execution_count": 63,
   "id": "2e5ec7bd-385a-4930-a3ac-1778b6e3e087",
   "metadata": {},
   "outputs": [
    {
     "name": "stdout",
     "output_type": "stream",
     "text": [
      "0.1 took 241.0030837059021 s\n",
      "0.2 took 241.52246284484863 s\n",
      "0.3 took 239.11013507843018 s\n",
      "0.4 took 241.39678812026978 s\n",
      "0.5 took 240.38785910606384 s\n",
      "0.6 took 239.38559675216675 s\n",
      "0.7 took 242.50612115859985 s\n",
      "0.8 took 241.7745189666748 s\n",
      "0.9 took 240.13608145713806 s\n"
     ]
    }
   ],
   "source": [
    "# Compute stats for plotting\n",
    "means_nw, stds_nw, zeros_nw, reaches_nw = computeStats(ddf=ddf_nw_melted,\n",
    "                                                       thresholds=thresholds,\n",
    "                                                       order=order)"
   ]
  },
  {
   "cell_type": "markdown",
   "id": "f50926d0-81b4-4cc1-892a-43a2ccf2f146",
   "metadata": {
    "jp-MarkdownHeadingCollapsed": true
   },
   "source": [
    "### Cross-track"
   ]
  },
  {
   "cell_type": "code",
   "execution_count": null,
   "id": "99c1c2ac-4334-41bc-bdca-cc445d1b3362",
   "metadata": {},
   "outputs": [],
   "source": [
    "i = 3\n",
    "\n",
    "# Get ne reaches at threshold\n",
    "ne = ddf_ne_melted[ddf_ne_melted['threshold'] == thresholds[i]].reset_index()#.drop(columns='index')\n",
    "# ne = ne.sample(frac=0.05)\n",
    "ne = ne.compute()\n",
    "\n",
    "ne = ne[ne.coverage != 0]\n",
    "if ne.shape[0] > 100000:\n",
    "    ne = ne.sample(100000)\n",
    "ne['huc2'] = '01'\n",
    "\n",
    "# Get se reaches at threshold\n",
    "se = ddf_se_melted[ddf_se_melted['threshold'] == thresholds[i]].reset_index().drop(columns='index')\n",
    "# se = se.sample(frac=0.05)\n",
    "se = se.compute()\n",
    "\n",
    "se = se[se.coverage != 0]\n",
    "if se.shape[0] > 100000:\n",
    "    se = se.sample(100000)\n",
    "se['huc2'] = '08'\n",
    "\n",
    "# Get sw reaches\n",
    "sw = ddf_sw_melted[ddf_sw_melted['threshold'] == thresholds[i]].reset_index().drop(columns='index')\n",
    "# sw = sw.sample(frac=0.05)\n",
    "sw = sw.compute()\n",
    "\n",
    "sw = sw[sw.coverage != 0]\n",
    "if sw.shape[0] > 100000:\n",
    "    sw = sw.sample(100000)\n",
    "sw['huc2'] = '15'\n",
    "\n",
    "# Get nw reaches\n",
    "nw = ddf_nw_melted[ddf_nw_melted['threshold'] == thresholds[i]].reset_index().drop(columns='index')\n",
    "# nw = nw.sample(frac=0.05)\n",
    "nw = nw.compute()\n",
    "\n",
    "nw = nw[nw.coverage != 0]\n",
    "if nw.shape[0] > 100000:\n",
    "    nw = nw.sample(100000)\n",
    "nw['huc2'] = '17'\n",
    "\n",
    "combined = pd.concat(objs=[ne, se, sw\n",
    "                          , nw\n",
    "                          ], axis=0).reset_index().drop(columns='index')\n",
    "\n",
    "del ne, se, sw, nw\n",
    "\n",
    "percent = str(int(float(thresholds[i])*100))"
   ]
  },
  {
   "cell_type": "code",
   "execution_count": 137,
   "id": "69dc092b-1e80-4fd4-9e4d-9bf94941a231",
   "metadata": {},
   "outputs": [],
   "source": [
    "combined['cross_track'] = np.abs(combined['cross_track'])"
   ]
  },
  {
   "cell_type": "code",
   "execution_count": 138,
   "id": "071c3619-006e-4c5e-bef6-0476a7eb38dd",
   "metadata": {},
   "outputs": [],
   "source": [
    "cross_bins = [0, 15000, 30000, 45000, 60000]"
   ]
  },
  {
   "cell_type": "code",
   "execution_count": 139,
   "id": "d85ed89a-5bb0-4bb0-a11a-2d93f2f23cac",
   "metadata": {},
   "outputs": [],
   "source": [
    "## Bin reaches by width, set to string for parquet\n",
    "# combined['cross_bin'] = combined['cross_track'].map_partitions(pd.cut, cross_bins).astype(str)\n",
    "combined['cross_bin'] = pd.cut(combined['cross_track'], cross_bins).astype(str)"
   ]
  },
  {
   "cell_type": "code",
   "execution_count": 71,
   "id": "cfe63267-8193-42d8-83cc-2a7925b96057",
   "metadata": {},
   "outputs": [],
   "source": [
    "# combined = combined.compute()"
   ]
  },
  {
   "cell_type": "code",
   "execution_count": null,
   "id": "3b53c4fd-57e4-4078-ae09-a04bdce96919",
   "metadata": {},
   "outputs": [],
   "source": [
    "# fig, ax = plt.subplots(figsize=(10,10))\n",
    "\n",
    "g = sns.FacetGrid(combined[combined['cross_bin'] != np.str_('nan')],\n",
    "                  col='cross_bin', col_wrap=2,\n",
    "                  height=5, aspect=1.7)\n",
    "\n",
    "g.map(sns.boxplot, data=combined[combined['cross_bin'] != np.str_('nan')],\n",
    "      x='Bin', y='coverage', order=order, ax=ax,hue='huc2',\n",
    "      palette=palette_four, legend=True, saturation=1,\n",
    "      showmeans=True, fliersize=1, linewidth=1,\n",
    "      boxprops=dict(alpha=0.8),\n",
    "      meanprops={'marker':'o',\n",
    "                 'markerfacecolor':'k',\n",
    "                 'markeredgecolor':'k',\n",
    "                 'markersize':'5'}\n",
    "     )\n",
    "# Rotate x-axis labels\n",
    "for ax in g.axes.flat: # Iterate through all axes in the grid\n",
    "    plt.sca(ax)  # Set current axis\n",
    "    plt.xticks(rotation=45) # Rotate labels 45 degrees\n",
    "    plt.xlabel('Width Bin [m]');\n",
    "    plt.ylabel('Number of nodes that exceed ' + percent + '% coverage');\n",
    "    \n",
    "# Add legend (if you want it outside the plot)\n",
    "g.add_legend()  # Use FacetGrid's add_legend method\n",
    "\n",
    "plt.savefig(save_path + 'cross_track_' + percent + '.png')"
   ]
  },
  {
   "cell_type": "code",
   "execution_count": 140,
   "id": "91b23969-3e6d-45f7-8e4c-acdc4aa71834",
   "metadata": {
    "scrolled": true
   },
   "outputs": [],
   "source": [
    "combined['alignment'] = np.abs(combined['alignment'])"
   ]
  },
  {
   "cell_type": "code",
   "execution_count": 141,
   "id": "f009d24b-180f-4daa-a943-5ea8b8ddf07c",
   "metadata": {},
   "outputs": [],
   "source": [
    "align_bins = [0, 45, 135, 225, 315, 360]"
   ]
  },
  {
   "cell_type": "code",
   "execution_count": 142,
   "id": "b6ef3100-9c79-4c57-99d5-43eb8c9a6381",
   "metadata": {},
   "outputs": [],
   "source": [
    "## Bin reaches by width, set to string for parquet\n",
    "# combined['cross_bin'] = combined['cross_track'].map_partitions(pd.cut, cross_bins).astype(str)\n",
    "combined['align_bin'] = pd.cut(combined['alignment'], align_bins).astype(str)"
   ]
  },
  {
   "cell_type": "code",
   "execution_count": 126,
   "id": "3d197e05-5e2e-430c-ba08-596dca5834bf",
   "metadata": {},
   "outputs": [],
   "source": [
    "# combined['aligned'] = 'no'"
   ]
  },
  {
   "cell_type": "code",
   "execution_count": null,
   "id": "ad9b5083-7ded-4261-a69f-8073a34a006d",
   "metadata": {},
   "outputs": [],
   "source": [
    "# combined.loc[['align_bin'] == '(0, 45]', combined['aligned']] = 'yes'"
   ]
  },
  {
   "cell_type": "code",
   "execution_count": 134,
   "id": "63c7022f-1286-4ff5-9821-2283471dc4b4",
   "metadata": {},
   "outputs": [],
   "source": [
    "# combined.loc[['align_bin'] == '(135, 225]', combined['aligned']] = 'yes'"
   ]
  },
  {
   "cell_type": "code",
   "execution_count": 71,
   "id": "33f2bb49-e7df-4e18-86e9-f4431f73af4f",
   "metadata": {},
   "outputs": [],
   "source": [
    "# combined = combined.compute()"
   ]
  },
  {
   "cell_type": "code",
   "execution_count": null,
   "id": "429e0729-a505-4603-adc7-d5acb7991a56",
   "metadata": {
    "scrolled": true
   },
   "outputs": [],
   "source": [
    "# fig, ax = plt.subplots(figsize=(10,10))\n",
    "\n",
    "g = sns.FacetGrid(combined[combined['align_bin'] != np.str_('nan')],\n",
    "                  col='align_bin', col_wrap=2,\n",
    "                  height=5, aspect=1.7)\n",
    "\n",
    "g.map(sns.boxplot, data=combined[combined['align_bin'] != np.str_('nan')],\n",
    "      x='Bin', y='coverage', order=order, ax=ax,hue='huc2',\n",
    "      palette=palette_four, legend=True, saturation=1,\n",
    "      showmeans=True, fliersize=1, linewidth=1,\n",
    "      boxprops=dict(alpha=0.8),\n",
    "      meanprops={'marker':'o',\n",
    "                 'markerfacecolor':'k',\n",
    "                 'markeredgecolor':'k',\n",
    "                 'markersize':'5'}\n",
    "     )\n",
    "# Rotate x-axis labels\n",
    "for ax in g.axes.flat: # Iterate through all axes in the grid\n",
    "    plt.sca(ax)  # Set current axis\n",
    "    plt.xticks(rotation=45) # Rotate labels 45 degrees\n",
    "    plt.xlabel('Width Bin [m]');\n",
    "    plt.ylabel('Number of nodes that exceed ' + percent + '% coverage');\n",
    "    \n",
    "# Add legend (if you want it outside the plot)\n",
    "g.add_legend()  # Use FacetGrid's add_legend method\n",
    "\n",
    "plt.savefig(save_path + 'align_' + percent + '.png')"
   ]
  },
  {
   "cell_type": "code",
   "execution_count": 146,
   "id": "8399d0b3-a9a1-408c-99f8-d3ba5e8cc061",
   "metadata": {},
   "outputs": [
    {
     "data": {
      "text/plain": [
       "array([0.  , 0.1 , 0.8 , 0.79, 0.71, 0.93, 0.84,  nan, 0.26, 0.74, 0.81,\n",
       "       0.29, 0.69, 0.97, 0.11, 0.28, 0.45, 0.01, 0.87, 0.08, 0.92, 0.85,\n",
       "       0.06, 0.17, 0.02, 0.98, 0.35, 0.04, 0.09, 0.43, 0.12, 0.2 , 0.95,\n",
       "       0.59, 0.89, 0.37, 0.96, 0.03, 0.72, 0.94, 0.88, 0.51, 0.73, 0.21,\n",
       "       0.27, 0.82, 0.15, 0.49, 0.42, 0.47, 0.07, 0.16, 0.66, 0.91, 0.31,\n",
       "       0.78, 0.58, 0.86, 0.18, 0.05, 0.41, 0.77, 0.83, 0.75, 0.32, 0.76,\n",
       "       0.61, 0.25, 0.7 , 0.63, 0.67, 0.64, 0.53, 0.57, 0.22, 0.5 , 0.24,\n",
       "       0.3 , 0.9 , 0.13, 0.54, 0.14, 0.56, 0.39, 0.52, 0.68, 0.6 , 0.62,\n",
       "       0.33, 0.23, 0.65, 0.46, 0.34, 0.19, 0.44, 0.48, 0.38, 0.36, 0.4 ,\n",
       "       0.55, 0.99, 1.  ], dtype=float32)"
      ]
     },
     "execution_count": 146,
     "metadata": {},
     "output_type": "execute_result"
    }
   ],
   "source": [
    "combined.prior_water_prob.unique()"
   ]
  },
  {
   "cell_type": "code",
   "execution_count": 147,
   "id": "615a5193-54d0-4f45-93f7-62784665a018",
   "metadata": {},
   "outputs": [],
   "source": [
    "prior_bins = [0.1, 0.2, 0.3, 0.4, 0.5, 0.6, 0.7, 0.8, 0.9, 1]"
   ]
  },
  {
   "cell_type": "code",
   "execution_count": 148,
   "id": "3ee8aae9-9322-4041-bbe2-84fbb2918908",
   "metadata": {},
   "outputs": [],
   "source": [
    "## Bin reaches by width, set to string for parquet\n",
    "# combined['cross_bin'] = combined['cross_track'].map_partitions(pd.cut, cross_bins).astype(str)\n",
    "combined['prior_bin'] = pd.cut(combined['prior_water_prob'], prior_bins).astype(str)"
   ]
  },
  {
   "cell_type": "code",
   "execution_count": null,
   "id": "d58f77ac-4a28-42b1-9199-63ddf3617126",
   "metadata": {},
   "outputs": [],
   "source": [
    "# fig, ax = plt.subplots(figsize=(10,10))\n",
    "\n",
    "g = sns.FacetGrid(combined[combined['prior_bin'] != np.str_('nan')],\n",
    "                  col='prior_bin', col_wrap=3,\n",
    "                  height=5, aspect=1.7)\n",
    "\n",
    "g.map(sns.boxplot, data=combined[combined['prior_bin'] != np.str_('nan')],\n",
    "      x='Bin', y='coverage', order=order, ax=ax,hue='huc2',\n",
    "      palette=palette_four, legend=True, saturation=1,\n",
    "      showmeans=True, fliersize=1, linewidth=1,\n",
    "      boxprops=dict(alpha=0.8),\n",
    "      meanprops={'marker':'o',\n",
    "                 'markerfacecolor':'k',\n",
    "                 'markeredgecolor':'k',\n",
    "                 'markersize':'5'}\n",
    "     )\n",
    "# Rotate x-axis labels\n",
    "for ax in g.axes.flat: # Iterate through all axes in the grid\n",
    "    plt.sca(ax)  # Set current axis\n",
    "    plt.xticks(rotation=45) # Rotate labels 45 degrees\n",
    "    plt.xlabel('Width Bin [m]');\n",
    "    plt.ylabel('Number of nodes that exceed ' + percent + '% coverage');\n",
    "    \n",
    "# Add legend (if you want it outside the plot)\n",
    "g.add_legend()  # Use FacetGrid's add_legend method\n",
    "\n",
    "plt.savefig(save_path + 'prior_' + percent + '.png')"
   ]
  },
  {
   "cell_type": "markdown",
   "id": "c675989a-45b5-4ae5-ba16-68ee6ef994f7",
   "metadata": {
    "tags": []
   },
   "source": [
    "### Four"
   ]
  },
  {
   "cell_type": "code",
   "execution_count": 146,
   "id": "0ce02378-9512-47db-b971-fc0e6e2b1251",
   "metadata": {},
   "outputs": [
    {
     "data": {
      "image/png": "[encoded data removed]",
      "text/plain": [
       "<Figure size 1000x500 with 1 Axes>"
      ]
     },
     "metadata": {},
     "output_type": "display_data"
    }
   ],
   "source": [
    "# for i in range(len(thresholds)):\n",
    "\n",
    "i = 4\n",
    "\n",
    "thresh = thresholds[i]\n",
    "\n",
    "percent = str(int(float(thresh)*100))\n",
    "\n",
    "# Draw plot with error bars and extra formatting to match seaborn style\n",
    "fig, ax = plt.subplots(figsize=(10,5))\n",
    "\n",
    "ax.errorbar(x=order, y=means_ne[thresh],\n",
    "            # yerr=stds_ne[thresh],\n",
    "            color=palette_four[0], ecolor=palette_four[0],\n",
    "            # alpha=0.7,\n",
    "            capsize=5,\n",
    "            marker='o', label='HUC2_01')\n",
    "\n",
    "ax.errorbar(x=order, y=means_se[thresh],\n",
    "            # yerr=stds_se[thresh],\n",
    "            color=palette_four[1], ecolor=palette_four[1],\n",
    "            # alpha=0.7, \n",
    "            capsize=5,\n",
    "            marker='o', label='HUC2_08')\n",
    "\n",
    "ax.errorbar(x=order, y=means_sw[thresh],\n",
    "            # yerr=stds_sw[thresh],\n",
    "            color=palette_four[2], ecolor=palette_four[2],\n",
    "            # alpha=0.7,\n",
    "            capsize=5,\n",
    "            marker='o', label='HUC2_15')\n",
    "\n",
    "ax.errorbar(x=order, y=means_nw[thresh],\n",
    "            # yerr=stds_nw[thresh],\n",
    "            color=palette_four[3], ecolor=palette_four[3],\n",
    "            # alpha=0.7,\n",
    "            # capsize=5,\n",
    "            marker='o', label='HUC2_17')\n",
    "\n",
    "ax.set_title('Reaches by mean number of nodes that meet or exceed ' + percent +\n",
    "      '% coverage, excluding reaches with 0% coverage')\n",
    "\n",
    "ax.set_xlabel('Width Bin [m]')\n",
    "ax.set_ylabel('Number of nodes that exceed ' + percent + '% coverage')\n",
    "\n",
    "\n",
    "plt.legend()\n",
    "plt.xticks(rotation=-45)\n",
    "plt.ylim(-1,11)\n",
    "\n",
    "plt.tight_layout()\n",
    "plt.show()"
   ]
  },
  {
   "cell_type": "code",
   "execution_count": 131,
   "id": "74f1f8cf-e33e-484b-b1cb-ded2e9c2a014",
   "metadata": {
    "scrolled": true
   },
   "outputs": [
    {
     "data": {
      "image/png": "[encoded data removed]",
      "text/plain": [
       "<Figure size 1000x1000 with 4 Axes>"
      ]
     },
     "metadata": {},
     "output_type": "display_data"
    }
   ],
   "source": [
    "# Set threshold\n",
    "i = 4\n",
    "thresh = thresholds[i]\n",
    "percent = str(int(float(thresh) * 100))\n",
    "\n",
    "# Set up 2x2 subplot grid\n",
    "fig, axs = plt.subplots(2, 2, figsize=(10, 10), sharex=True, sharey=True)\n",
    "\n",
    "# Region data dictionary for iteration\n",
    "regions = {\n",
    "    'HUC2_01': (means_ne[thresh], stds_ne[thresh], palette_four[0]),\n",
    "    'HUC2_08': (means_se[thresh], stds_se[thresh], palette_four[1]),\n",
    "    'HUC2_15': (means_sw[thresh], stds_sw[thresh], palette_four[2]),\n",
    "    'HUC2_17': (means_nw[thresh], stds_nw[thresh], palette_four[3]),\n",
    "}\n",
    "\n",
    "# Flatten axes array for easy indexing\n",
    "axs = axs.flatten()\n",
    "\n",
    "# Plot each region in its own subplot\n",
    "for ax, (region, (mean_vals, std_vals, color)) in zip(axs, regions.items()):\n",
    "    ax.errorbar(x=order, y=mean_vals, yerr=std_vals,\n",
    "                color=color, ecolor=color,\n",
    "                alpha=1, capsize=5, \n",
    "                marker='o', label=region)\n",
    "\n",
    "    ax.set_title(region)\n",
    "    ax.set_xlabel('Width Bin [m]')\n",
    "    ax.set_ylabel(f'# of Nodes ≥ {percent}% Coverage')\n",
    "    ax.tick_params(axis='x', rotation=-45)\n",
    "\n",
    "# Add overall title\n",
    "plt.suptitle('Reaches by mean number of nodes that meet or exceed ' + percent +\n",
    "             '% coverage, excluding reaches with 0% coverage')\n",
    "plt.tight_layout()\n",
    "plt.show()"
   ]
  },
  {
   "cell_type": "code",
   "execution_count": 171,
   "id": "4541956b-316d-4956-9ffd-aade39e67fe2",
   "metadata": {},
   "outputs": [
    {
     "name": "stderr",
     "output_type": "stream",
     "text": [
      "/tmp/ipykernel_3081715/304374042.py:26: UserWarning: set_ticklabels() should only be used with a fixed number of ticks, i.e. after set_ticks() or using a FixedLocator.\n",
      "  ax0.set_xticklabels(ax0.get_xticklabels(), rotation=-45)\n",
      "/tmp/ipykernel_3081715/304374042.py:53: UserWarning: The figure layout has changed to tight\n",
      "  plt.tight_layout()\n"
     ]
    },
    {
     "data": {
      "image/png": "[encoded data removed]",
      "text/plain": [
       "<Figure size 1200x1600 with 5 Axes>"
      ]
     },
     "metadata": {},
     "output_type": "display_data"
    }
   ],
   "source": [
    "i = 4\n",
    "thresh = thresholds[i]\n",
    "percent = str(int(float(thresh) * 100))\n",
    "\n",
    "fig = plt.figure(figsize=(12, 16), layout='constrained')\n",
    "gs = gridspec.GridSpec(3, 2\n",
    "                       , height_ratios=[2, 1.5, 1.5]\n",
    "                       , width_ratios=[2, 0.5]\n",
    "                      )\n",
    "\n",
    "# First plot (spans both columns)\n",
    "ax0 = fig.add_subplot(gs[0, :])\n",
    "\n",
    "ax0.errorbar(x=order, y=means_ne[thresh], color=palette_four[0], ecolor=palette_four[0],\n",
    "             capsize=5, marker='o', label='HUC2_01')\n",
    "ax0.errorbar(x=order, y=means_se[thresh], color=palette_four[1], ecolor=palette_four[1],\n",
    "             capsize=5, marker='o', label='HUC2_08')\n",
    "ax0.errorbar(x=order, y=means_sw[thresh], color=palette_four[2], ecolor=palette_four[2],\n",
    "             capsize=5, marker='o', label='HUC2_15')\n",
    "ax0.errorbar(x=order, y=means_nw[thresh], color=palette_four[3], ecolor=palette_four[3],\n",
    "             capsize=5, marker='o', label='HUC2_17')\n",
    "\n",
    "ax0.set_xlabel('Width Bin [m]')\n",
    "ax0.set_ylabel(f'Number of nodes that exceed {percent}% coverage')\n",
    "ax0.legend()\n",
    "ax0.set_xticklabels(ax0.get_xticklabels(), rotation=-45)\n",
    "ax0.set_ylim(-1, 11)\n",
    "\n",
    "gs2 = gridspec.GridSpecFromSubplotSpec(2, 2, subplot_spec=gs[1, 0]\n",
    "                                       ,\n",
    "                                       wspace=0.3, hspace=1\n",
    "                                      )\n",
    "\n",
    "regions = {\n",
    "    'HUC2_01': (means_ne[thresh], stds_ne[thresh], palette_four[0]),\n",
    "    'HUC2_08': (means_se[thresh], stds_se[thresh], palette_four[1]),\n",
    "    'HUC2_15': (means_sw[thresh], stds_sw[thresh], palette_four[2]),\n",
    "    'HUC2_17': (means_nw[thresh], stds_nw[thresh], palette_four[3]),\n",
    "}\n",
    "\n",
    "axs = [fig.add_subplot(gs2[i]) for i in range(4)]\n",
    "\n",
    "for ax, (region, (mean_vals, std_vals, color)) in zip(axs, regions.items()):\n",
    "    ax.errorbar(x=order, y=mean_vals, yerr=std_vals, color=color, ecolor=color,\n",
    "                capsize=5, marker='o', label=region)\n",
    "    ax.set_title(region)\n",
    "    ax.set_xlim(-1,11)\n",
    "    ax.set_xlabel('Width Bin [m]')\n",
    "    ax.set_ylabel(f'# of Nodes ≥ {percent}% Coverage')\n",
    "    ax.tick_params(axis='x', rotation=-45)\n",
    "\n",
    "plt.suptitle(f'Reaches by mean number of nodes that meet or exceed {percent}% coverage')\n",
    "plt.tight_layout()\n",
    "# plt.const\n",
    "plt.show()\n"
   ]
  },
  {
   "cell_type": "code",
   "execution_count": null,
   "id": "0a40f917-f987-42fa-a6ec-3d9402464559",
   "metadata": {
    "scrolled": true
   },
   "outputs": [],
   "source": [
    "for i in range(len(thresholds)):\n",
    "    \n",
    "    # Get ne reaches at threshold\n",
    "    ne = ddf_ne_melted[ddf_ne_melted['threshold'] == thresholds[i]].reset_index()#.drop(columns='index')\n",
    "    # ne = ne.sample(frac=0.05)\n",
    "    ne = ne.compute()\n",
    "    \n",
    "    zeros = ne[ne.coverage == 0].count()\n",
    "    reaches = ne.shape[0]\n",
    "    ne_zeros = round(((zeros['coverage']/reaches)*100), 1)\n",
    "    \n",
    "    ne = ne[ne.coverage != 0]\n",
    "    if ne.shape[0] > 100000:\n",
    "        ne = ne.sample(100000)\n",
    "    ne['huc2'] = '01'\n",
    "    \n",
    "    # Get se reaches at threshold\n",
    "    se = ddf_se_melted[ddf_se_melted['threshold'] == thresholds[i]].reset_index().drop(columns='index')\n",
    "    # se = se.sample(frac=0.05)\n",
    "    se = se.compute()\n",
    "    \n",
    "    zeros = se[se.coverage == 0].count()\n",
    "    reaches = se.shape[0]\n",
    "    se_zeros = round(((zeros['coverage']/reaches)*100), 1)\n",
    "    \n",
    "    se = se[se.coverage != 0]\n",
    "    if se.shape[0] > 100000:\n",
    "        se = se.sample(100000)\n",
    "    se['huc2'] = '08'\n",
    "    \n",
    "    # Get sw reaches\n",
    "    sw = ddf_sw_melted[ddf_sw_melted['threshold'] == thresholds[i]].reset_index().drop(columns='index')\n",
    "    # sw = sw.sample(frac=0.05)\n",
    "    sw = sw.compute()\n",
    "    \n",
    "    zeros = sw[sw.coverage == 0].count()\n",
    "    reaches = sw.shape[0]\n",
    "    sw_zeros = round(((zeros['coverage']/reaches)*100), 1)\n",
    "    \n",
    "    sw = sw[sw.coverage != 0]\n",
    "    if sw.shape[0] > 100000:\n",
    "        sw = sw.sample(100000)\n",
    "    sw['huc2'] = '15'\n",
    "    \n",
    "    # Get nw reaches\n",
    "    nw = ddf_nw_melted[ddf_nw_melted['threshold'] == thresholds[i]].reset_index().drop(columns='index')\n",
    "    # nw = nw.sample(frac=0.05)\n",
    "    nw = nw.compute()\n",
    "    \n",
    "    zeros = nw[nw.coverage == 0].count()\n",
    "    reaches = nw.shape[0]\n",
    "    nw_zeros = round(((zeros['coverage']/reaches)*100), 1)\n",
    "    \n",
    "    nw = nw[nw.coverage != 0]\n",
    "    if nw.shape[0] > 100000:\n",
    "        nw = nw.sample(100000)\n",
    "    nw['huc2'] = '17'\n",
    "    \n",
    "    #     # Get combined reaches at 10% threshold\n",
    "    #     both = pd.concat(objs=[ne, sw], axis=0).reset_index()\n",
    "    \n",
    "    #     combo = both.copy()\n",
    "    #     combo['huc2'] = 'combined'\n",
    "    \n",
    "    combined = pd.concat(objs=[ne, se, sw, nw], axis=0).reset_index().drop(columns='index')\n",
    "    \n",
    "    del ne, se, sw, nw\n",
    "    \n",
    "    percent = str(int(float(thresholds[i])*100))\n",
    "    \n",
    "    fig, ax = plt.subplots(figsize=(14,8))\n",
    "    sns.boxplot(data=combined, x='Bin', y='coverage',\n",
    "                order=order,\n",
    "                hue='huc2', palette=palette_four,\n",
    "                legend=True,\n",
    "                saturation=1, showmeans=True,\n",
    "                fliersize=2, linewidth=2,\n",
    "                boxprops=dict(alpha=0.9),\n",
    "                meanprops={'marker':'o',\n",
    "                           'markerfacecolor':'k',\n",
    "                           'markeredgecolor':'k',\n",
    "                           'markersize':'8'})\n",
    "    \n",
    "    plt.title('Reaches by proportion of nodes that meet or exceed ' + percent +\n",
    "              '% coverage, excluding reaches with 0% coverage\\nHUC2_01: ' +\n",
    "              str(ne_zeros) + '% of reaches have 0% coverage in all nodes\\nHUC2_08: ' +\n",
    "              str(se_zeros)+ '% of reaches have 0% coverage in all nodes\\nHUC2_15: ' +\n",
    "              str(sw_zeros) + '% of reaches have 0% coverage in all nodes\\nHUC2_17: ' +\n",
    "              str(nw_zeros) + '% of reaches have 0% coverage in all nodes')\n",
    "    \n",
    "    plt.legend(title='HUC2', loc='upper left',\n",
    "               title_fontproperties={'weight': 'bold'})\n",
    "    \n",
    "    plt.xlabel('Width Bin [m]')\n",
    "    plt.ylabel('Number of nodes that exceed ' + percent + '% coverage')\n",
    "    plt.xticks(rotation=-45)\n",
    "    \n",
    "    plt.savefig(save_path + 'threshold_four_hucs_mean_' + percent + '.png')\n",
    "\n",
    "    del combined"
   ]
  },
  {
   "cell_type": "markdown",
   "id": "5e54ce33-ad51-48cf-8ce2-3b19923d779d",
   "metadata": {
    "tags": []
   },
   "source": [
    "### Combined"
   ]
  },
  {
   "cell_type": "code",
   "execution_count": null,
   "id": "cb69d5b9-1f77-40ef-a3f9-8e7707d1efa3",
   "metadata": {
    "tags": []
   },
   "outputs": [],
   "source": [
    "for i in range(5, len(thresholds)):\n",
    "\n",
    "    zeros = 0\n",
    "    reaches = 0\n",
    "    \n",
    "    # Get ne reaches at threshold\n",
    "    ne = ddf_ne_melted[ddf_ne_melted['threshold'] == thresholds[i]].reset_index()#.drop(columns='index')\n",
    "    # ne = ne.sample(frac=0.05)\n",
    "    ne = ne.compute()\n",
    "    \n",
    "    zeros += ne[ne.coverage == 0].count()\n",
    "    reaches += ne.shape[0]\n",
    "    \n",
    "    ne = ne[ne.coverage != 0]\n",
    "    if ne.shape[0] > 100000:\n",
    "        ne = ne.sample(100000)\n",
    "    \n",
    "    # Get se reaches at threshold\n",
    "    se = ddf_se_melted[ddf_se_melted['threshold'] == thresholds[i]].reset_index().drop(columns='index')\n",
    "    # se = se.sample(frac=0.05)\n",
    "    se = se.compute()\n",
    "    \n",
    "    zeros += se[se.coverage == 0].count()\n",
    "    reaches += se.shape[0]\n",
    "    \n",
    "    se = se[se.coverage != 0]\n",
    "    if se.shape[0] > 100000:\n",
    "        se = se.sample(100000)\n",
    "    \n",
    "    # Get sw reaches\n",
    "    sw = ddf_sw_melted[ddf_sw_melted['threshold'] == thresholds[i]].reset_index().drop(columns='index')\n",
    "    # sw = sw.sample(frac=0.05)\n",
    "    sw = sw.compute()\n",
    "    \n",
    "    zeros += sw[sw.coverage == 0].count()\n",
    "    reaches += sw.shape[0]\n",
    "    \n",
    "    sw = sw[sw.coverage != 0]\n",
    "    if sw.shape[0] > 100000:\n",
    "        sw = sw.sample(100000)\n",
    "    \n",
    "    # Get nw reaches\n",
    "    nw = ddf_nw_melted[ddf_nw_melted['threshold'] == thresholds[i]].reset_index().drop(columns='index')\n",
    "    # nw = nw.sample(frac=0.05)\n",
    "    nw = nw.compute()\n",
    "    \n",
    "    zeros += nw[nw.coverage == 0].count()\n",
    "    reaches += nw.shape[0]\n",
    "    \n",
    "    nw = nw[nw.coverage != 0]\n",
    "    if nw.shape[0] > 100000:\n",
    "        nw = nw.sample(100000)\n",
    "    \n",
    "    #     # Get combined reaches at 10% threshold\n",
    "    #     both = pd.concat(objs=[ne, sw], axis=0).reset_index()\n",
    "    \n",
    "    #     combo = both.copy()\n",
    "    #     combo['huc2'] = 'combined'\n",
    "    \n",
    "    combined = pd.concat(objs=[ne, se, sw, nw], axis=0).reset_index().drop(columns='index')\n",
    "    \n",
    "    del ne, se, sw, nw\n",
    "    \n",
    "    percent = str(int(float(thresholds[i])*100))\n",
    "\n",
    "    all_zeros = round(((zeros['coverage']/reaches)*100), 1)\n",
    "\n",
    "    fig, ax = plt.subplots(figsize=(14,8))\n",
    "    sns.boxplot(data=combined, x='Bin', y='coverage',\n",
    "                order=order,\n",
    "                color=palette[3],\n",
    "                saturation=1, showmeans=True,\n",
    "                fliersize=2, linewidth=2,\n",
    "                boxprops=dict(alpha=0.8),\n",
    "                meanprops={'marker':'o',\n",
    "                           'markerfacecolor':'k',\n",
    "                           'markeredgecolor':'k',\n",
    "                           'markersize':'8'})\n",
    "\n",
    "    plt.title('Reaches by proportion of nodes that meet or exceed ' + percent +\n",
    "              '% coverage, excluding reaches with 0% coverage\\n' + str(all_zeros) +\n",
    "              '% of reaches have 0% coverage in all nodes')\n",
    "\n",
    "    patch = mpatches.Patch(color=palette[3], label='combined')\n",
    "    plt.legend(handles=[patch], title='HUC2', loc='upper left',\n",
    "               title_fontproperties={'weight': 'bold'})\n",
    "\n",
    "    plt.xticks(rotation=-45)\n",
    "\n",
    "    plt.xlabel('Width Bin [m]')\n",
    "    plt.ylabel('Number of nodes that exceed ' + percent + '% coverage')\n",
    "\n",
    "    plt.savefig(save_path + 'threshold_combined_mean_' + percent + '.png')\n",
    "\n",
    "    del combined"
   ]
  },
  {
   "cell_type": "markdown",
   "id": "13868d9f-42e0-4a88-a5f8-c332eed8d900",
   "metadata": {
    "tags": []
   },
   "source": [
    "### All three"
   ]
  },
  {
   "cell_type": "code",
   "execution_count": null,
   "id": "b0f1e88d-4267-4c6e-8bc7-2aeaf85736c9",
   "metadata": {},
   "outputs": [],
   "source": [
    "for i in range(len(thresholds)):\n",
    "\n",
    "    # Get ne reaches at threshold\n",
    "    ne = ddf_ne_melted[ddf_ne_melted['threshold'] == thresholds[i]]\n",
    "    ne = ne.compute().reset_index().drop(columns=['NHDPlusID', 'index'])\n",
    "\n",
    "    zeros = ne[ne.coverage == 0].count()\n",
    "    reaches = ne.shape[0]\n",
    "    ne_zeros = round(((zeros['coverage']/reaches)*100), 1)\n",
    "\n",
    "    ne = ne[ne.coverage != 0]\n",
    "    if ne.shape[0] > 100000:\n",
    "        ne = ne.sample(100000)\n",
    "    ne['huc2'] = '01'\n",
    "\n",
    "    # Get sw reaches\n",
    "    sw = ddf_sw_melted[ddf_sw_melted['threshold'] == thresholds[i]]\n",
    "    sw = sw.compute().reset_index().drop(columns=['NHDPlusID', 'index'])\n",
    "\n",
    "    zeros = sw[sw.coverage == 0].count()\n",
    "    reaches = sw.shape[0]\n",
    "    sw_zeros = round(((zeros['coverage']/reaches)*100), 1)\n",
    "\n",
    "    sw = sw[sw.coverage != 0]\n",
    "    if sw.shape[0] > 100000:\n",
    "        sw = sw.sample(100000)\n",
    "    sw['huc2'] = '15'\n",
    "\n",
    "    # Get combined reaches at 10% threshold\n",
    "    both = pd.concat(objs=[ne, sw], axis=0).reset_index()\n",
    "\n",
    "    combo = both.copy()\n",
    "    combo['huc2'] = 'combined'\n",
    "\n",
    "    combined = pd.concat(objs=[ne, sw, combo], axis=0).reset_index().drop(columns=['index'])\n",
    "\n",
    "    del ne, sw, combo\n",
    "\n",
    "    percent = str(int(thresholds[i]*100))\n",
    "\n",
    "    fig, ax = plt.subplots(figsize=(12,6))\n",
    "    sns.boxplot(data=combined, x='Bin', y='coverage',\n",
    "                order=order,\n",
    "                hue='huc2', palette=palette,\n",
    "                legend=True,\n",
    "                saturation=1, showmeans=True,\n",
    "                fliersize=2, linewidth=2,\n",
    "                boxprops=dict(alpha=0.8),\n",
    "                meanprops={'marker':'o',\n",
    "                           'markerfacecolor':'k',\n",
    "                           'markeredgecolor':'k',\n",
    "                           'markersize':'8'})\n",
    "\n",
    "    plt.title('Reaches with at least ' + percent +\n",
    "              '% coverage in each node, excluding reaches with 0% coverage\\nHUC2_01: ' + str(ne_zeros) +\n",
    "              '% of reaches have 0% coverage in all nodes\\nHUC2_15: ' +\n",
    "              str(sw_zeros) + '% of reaches have 0% coverage in all nodes')\n",
    "\n",
    "    plt.legend(title='HUC2', loc='upper right',\n",
    "               title_fontproperties={'weight': 'bold'})\n",
    "\n",
    "    plt.xlabel('Width Bin [m]')\n",
    "    plt.ylabel('Reaches with at least ' + percent + '% coverage')\n",
    "    plt.xticks(rotation=-45)\n",
    "\n",
    "    plt.savefig(save_path + 'threshold_all_three_mean_' + percent + '.png')"
   ]
  },
  {
   "cell_type": "markdown",
   "id": "cd654467-3703-43b0-92e0-e1e8386d54e4",
   "metadata": {
    "tags": []
   },
   "source": [
    "### Combined old"
   ]
  },
  {
   "cell_type": "code",
   "execution_count": null,
   "id": "1106320c-5946-4431-963a-f467affa10f6",
   "metadata": {},
   "outputs": [],
   "source": [
    "for i in range(len(thresholds)):\n",
    "    # Make combined dataframe\n",
    "    ddf_combo = dd.concat(dfs=[ddf_ne_melted, ddf_sw_melted], axis=0)\n",
    "\n",
    "    # Get combined reaches at 10% threshold\n",
    "    ddf_combo = ddf_combo[(ddf_combo['threshold'] == thresholds[i])]\n",
    "    combo = ddf_combo.compute().drop(columns=['NHDPlusID']).reset_index()\n",
    "    combo = combo.drop(columns=['index', 'threshold'])\n",
    "    combo['coverage'] = combo['coverage']*100\n",
    "    # combo['huc2'] = '01, 15'\n",
    "\n",
    "    percent = str(int(thresholds[i]*100))\n",
    "\n",
    "    fig, ax = plt.subplots(figsize=(10,6))\n",
    "    sns.boxplot(x='Bin', y='coverage',\n",
    "                data=combo,\n",
    "                order=order,\n",
    "                color=color[2],\n",
    "                saturation=1, showmeans=True,\n",
    "                fliersize=2, linewidth=2,\n",
    "                boxprops=dict(alpha=0.8),\n",
    "                meanprops={'marker':'o',\n",
    "                           'markerfacecolor':'k',\n",
    "                           'markeredgecolor':'k',\n",
    "                           'markersize':'8'})\n",
    "\n",
    "    plt.title('Reaches with at least ' + percent +'% coverage in each node, HUC2_01 and HUC2_15')\n",
    "    plt.xticks(rotation=-45)\n",
    "\n",
    "    plt.xlabel('Width Bin [m]')\n",
    "    plt.ylabel('Detected [%]')\n",
    "\n",
    "    plt.savefig('./figures_for_2025_03_06/threshold_combined_mean_' + percent + '.png')"
   ]
  },
  {
   "cell_type": "markdown",
   "id": "dd34e97b-9531-4783-991f-9de5147f74f6",
   "metadata": {
    "tags": []
   },
   "source": [
    "### Side-by-side old"
   ]
  },
  {
   "cell_type": "code",
   "execution_count": null,
   "id": "eebe9079-6473-4f0a-aa97-5e358f2fd1e2",
   "metadata": {},
   "outputs": [],
   "source": [
    "for i in range(len(thresholds)):\n",
    "\n",
    "    # Get ne reaches at 10% threshold\n",
    "    ddf_ne_thresh = ddf_ne[(ddf_ne['threshold'] == thresholds[i])]\n",
    "    ne = ddf_ne_thresh.compute().drop(columns=['NHDPlusID']).reset_index()\n",
    "    ne = ne.drop(columns=['index', 'threshold'])\n",
    "    ne['coverage'] = ne['coverage']*100\n",
    "    ne['huc2'] = '01'\n",
    "\n",
    "    # Get sw reaches at 10% threshold\n",
    "    ddf_sw_melted_thresh = ddf_sw_melted[(ddf_sw_melted['threshold'] == thresholds[i])]\n",
    "    sw = ddf_sw_melted_thresh.compute().drop(columns=['NHDPlusID']).reset_index()\n",
    "    sw = sw.drop(columns=['index', 'threshold'])\n",
    "    sw['coverage'] = sw['coverage']*100\n",
    "    sw['huc2'] = '15'\n",
    "\n",
    "    combo = pd.concat(objs=[ne, sw], axis=0).reset_index()\n",
    "\n",
    "    del ne, sw\n",
    "\n",
    "    percent = str(int(thresholds[i]*100))\n",
    "\n",
    "    fig, ax = plt.subplots(figsize=(10,6))\n",
    "    sns.boxplot(x='Bin', y='coverage', hue='huc2',\n",
    "                data=combo, order=order,\n",
    "                palette=palette_two,\n",
    "                legend=True,\n",
    "                saturation=1, showmeans=True,\n",
    "                fliersize=2, linewidth=2,\n",
    "                boxprops=dict(alpha=0.8),\n",
    "                meanprops={'marker':'o',\n",
    "                           'markerfacecolor':'k',\n",
    "                           'markeredgecolor':'k',\n",
    "                           'markersize':'8'})\n",
    "\n",
    "    plt.legend(title='HUC2', loc='upper right')\n",
    "\n",
    "    plt.title('Reaches with at least ' + percent +'% coverage in each node, HUC2_01 and HUC2_15')\n",
    "    plt.xlabel('Width Bin [m]')\n",
    "    plt.ylabel('Detected [%]')\n",
    "    plt.xticks(rotation=-45)\n",
    "\n",
    "    plt.savefig('./figures_for_2025_03_06/threshold_huc2_01_and_huc_15_mean_' + percent + '.png')"
   ]
  },
  {
   "cell_type": "code",
   "execution_count": null,
   "id": "4f6c69b5-418a-4e27-a3de-21cd4e1e8a35",
   "metadata": {},
   "outputs": [],
   "source": [
    "del combo"
   ]
  },
  {
   "cell_type": "code",
   "execution_count": 118,
   "id": "294b70b7-1fbf-41a4-af20-b5b219830a98",
   "metadata": {},
   "outputs": [],
   "source": [
    "# # Define a function to process each group\n",
    "# def process_group(group):\n",
    "#     start = time.time()\n",
    "    \n",
    "#     # Filter the group based on coverage\n",
    "#     zero = group[group.coverage == 0].groupby('Bin').count()\n",
    "#     reach = group.groupby('Bin').count()\n",
    "    \n",
    "#     # Filter out rows where coverage is 0\n",
    "#     temp = group[group.coverage != 0]\n",
    "    \n",
    "#     # Calculate mean and standard deviation\n",
    "#     mean = temp.groupby('Bin')['coverage'].mean()\n",
    "#     std = temp.groupby('Bin')['coverage'].std()\n",
    "    \n",
    "#     end = time.time()\n",
    "#     print(f\"Processing took {end - start} seconds\")\n",
    "    \n",
    "#     return pd.Series({\n",
    "#         'mean': mean,\n",
    "#         'std': std,\n",
    "#         'zero': zero,\n",
    "#         'reach': reach\n",
    "#     })"
   ]
  },
  {
   "cell_type": "code",
   "execution_count": null,
   "id": "2c252391-5d16-41f6-9a5b-05ee9eb505c5",
   "metadata": {},
   "outputs": [],
   "source": [
    "# # Apply the function to each threshold and store results in dictionaries\n",
    "# results = {thresh: process_group(test[test['threshold'] == thresh]) for thresh in thresholds}\n",
    "\n",
    "# # Separate the results into distinct dictionaries\n",
    "# means_ne = {thresh: res['mean'] for thresh, res in results.items()}\n",
    "# stds_ne = {thresh: res['std'] for thresh, res in results.items()}\n",
    "# zeros_ne = {thresh: res['zero'] for thresh, res in results.items()}\n",
    "# reaches_ne = {thresh: res['reach'] for thresh, res in results.items()}"
   ]
  },
  {
   "cell_type": "code",
   "execution_count": 30,
   "id": "aec10297-7829-486d-ab5e-44a88ed92ce4",
   "metadata": {},
   "outputs": [],
   "source": [
    "temp = test.groupby('Bin').count().compute()"
   ]
  },
  {
   "cell_type": "code",
   "execution_count": 35,
   "id": "d431a5b0-7773-4a85-a4a9-85897f174780",
   "metadata": {},
   "outputs": [],
   "source": [
    "temp = temp.reset_index()"
   ]
  },
  {
   "cell_type": "code",
   "execution_count": 44,
   "id": "b92df80d-21a1-4837-adc6-c10e2e94d878",
   "metadata": {},
   "outputs": [],
   "source": [
    "testt = test.compute()"
   ]
  },
  {
   "cell_type": "code",
   "execution_count": 53,
   "id": "1758ec7b-ba62-497f-ae3b-3adedc94b3ea",
   "metadata": {},
   "outputs": [],
   "source": [
    "testt['Bin'] = pd.Categorical(testt['Bin'], categories=order, ordered=True)"
   ]
  },
  {
   "cell_type": "code",
   "execution_count": 60,
   "id": "35d3c107-7f54-4792-acda-40e8f426fb4c",
   "metadata": {
    "scrolled": true
   },
   "outputs": [
    {
     "data": {
      "image/png": "[encoded data removed]",
      "text/plain": [
       "<Figure size 640x480 with 1 Axes>"
      ]
     },
     "metadata": {},
     "output_type": "display_data"
    }
   ],
   "source": [
    "sns.histplot(testt['Bin'])\n",
    "plt.ylim(0,1000)\n",
    "plt.xticks(rotation=45); # Rotate labels 45 degrees"
   ]
  },
  {
   "cell_type": "markdown",
   "id": "89627529-7bc8-4d88-95d5-16f19c8a7e5b",
   "metadata": {},
   "source": [
    "### troubleshoot"
   ]
  },
  {
   "cell_type": "code",
   "execution_count": null,
   "id": "996a37b6-9323-45e1-ba55-f3b6f38bc448",
   "metadata": {},
   "outputs": [],
   "source": [
    "# test = ddf_ne.get_partition(0).compute()"
   ]
  },
  {
   "cell_type": "code",
   "execution_count": null,
   "id": "440fcdd8-7d88-4864-9aee-39ade728e29b",
   "metadata": {},
   "outputs": [],
   "source": [
    "# test = test.drop(test.columns[1:11], axis=1)"
   ]
  },
  {
   "cell_type": "code",
   "execution_count": null,
   "id": "9875fe50-bc31-4bad-a741-eb7948836894",
   "metadata": {},
   "outputs": [],
   "source": [
    "# test.melt(id_vars=['NHDPlusID'],\n",
    "#           value_vars=['0.1', '0.2', '0.3', '0.4', '0.5', '0.6', '0.7', '0.8', '0.9'],\n",
    "#           var_name='threshold')"
   ]
  },
  {
   "cell_type": "code",
   "execution_count": null,
   "id": "2f46aad9-1b89-40c1-8e71-405035b5c223",
   "metadata": {
    "scrolled": true
   },
   "outputs": [],
   "source": [
    "# ddf_ne_melted = ddf_ne_melted.compute().reset_index().drop(columns='index')"
   ]
  },
  {
   "cell_type": "code",
   "execution_count": null,
   "id": "e821fb0e-6ab6-4094-9890-4f092d23e6c7",
   "metadata": {},
   "outputs": [],
   "source": [
    "len(ddf_ne.NHDPlusID.unique())"
   ]
  },
  {
   "cell_type": "code",
   "execution_count": null,
   "id": "2d59a57f-b96d-4061-af8c-34f241053718",
   "metadata": {},
   "outputs": [],
   "source": [
    "len(ddf_ne_melted.NHDPlusID.unique())"
   ]
  },
  {
   "cell_type": "code",
   "execution_count": null,
   "id": "458c917c-184d-4290-a43a-81802b51ee89",
   "metadata": {},
   "outputs": [],
   "source": [
    "# ne = ddf_ne_melted[ddf_ne_melted['coverage'] != 0]"
   ]
  },
  {
   "cell_type": "code",
   "execution_count": null,
   "id": "8e4d2258-d0c4-45ce-b5fb-23b57868b377",
   "metadata": {},
   "outputs": [],
   "source": [
    "# ne = ne[ne['threshold'] == thresholds[4]].reset_index().drop(columns='index')"
   ]
  },
  {
   "cell_type": "code",
   "execution_count": null,
   "id": "796f0a4d-0cca-48bb-95aa-2c9ecde268b8",
   "metadata": {},
   "outputs": [],
   "source": [
    "# ne.compute()"
   ]
  },
  {
   "cell_type": "code",
   "execution_count": null,
   "id": "56ba0f5e-d4f9-414b-b55a-1ac72dbf4d36",
   "metadata": {},
   "outputs": [],
   "source": [
    "ddf_ne = ddf_ne.drop(list(ddf_ne.columns[-9:]), axis=1)"
   ]
  },
  {
   "cell_type": "code",
   "execution_count": null,
   "id": "c1a1873c-a7d4-4f54-8744-42f3b25e8fe9",
   "metadata": {},
   "outputs": [],
   "source": [
    "temp = ddf_ne_melted.merge(right=ddf_ne, how='left', on='NHDPlusID').reset_index()"
   ]
  },
  {
   "cell_type": "code",
   "execution_count": null,
   "id": "eaf66127-c9c2-4bd5-901c-5851a08653fd",
   "metadata": {},
   "outputs": [],
   "source": [
    "temp.compute().iloc[[0]].NHDPlusID"
   ]
  },
  {
   "cell_type": "code",
   "execution_count": null,
   "id": "25dde0bd-57e7-4899-9474-20ab2787fd81",
   "metadata": {},
   "outputs": [],
   "source": [
    "temp = temp.compute()"
   ]
  },
  {
   "cell_type": "code",
   "execution_count": null,
   "id": "24193265-3c8f-4064-a431-19821e98a55b",
   "metadata": {},
   "outputs": [],
   "source": [
    "temp.iloc[0].NHDPlusID"
   ]
  },
  {
   "cell_type": "code",
   "execution_count": null,
   "id": "8d4c5da6-173a-4706-af65-ce00b03d2c23",
   "metadata": {},
   "outputs": [],
   "source": [
    "temp[(temp.threshold == '0.5')].shape"
   ]
  },
  {
   "cell_type": "code",
   "execution_count": null,
   "id": "79177c49-3c05-4e68-acbd-de68d95ca2c7",
   "metadata": {},
   "outputs": [],
   "source": [
    "temp[(temp.threshold == '0.5') & (temp.coverage != 0)].shape"
   ]
  },
  {
   "cell_type": "code",
   "execution_count": null,
   "id": "6585dd20-cfe9-4220-bd64-e401dbb03c0c",
   "metadata": {
    "scrolled": true
   },
   "outputs": [],
   "source": [
    "temp[(temp.threshold == '0.5') & (temp.coverage != 0) & ~(temp.swot_slope.isna())]"
   ]
  },
  {
   "cell_type": "code",
   "execution_count": null,
   "id": "55d0f33c-49b9-4034-8ba2-5f487e35a500",
   "metadata": {},
   "outputs": [],
   "source": [
    "zeros = temp[temp['coverage'] == 0]"
   ]
  },
  {
   "cell_type": "code",
   "execution_count": null,
   "id": "634fdbea-4020-4a04-a3d3-fae160cad52b",
   "metadata": {},
   "outputs": [],
   "source": [
    "ne = temp[temp['coverage'] != 0]"
   ]
  },
  {
   "cell_type": "code",
   "execution_count": null,
   "id": "8e92600b-8eac-41b8-8a15-499db3e6eb11",
   "metadata": {},
   "outputs": [],
   "source": [
    "ne['coverage'] = ne['coverage']*10"
   ]
  },
  {
   "cell_type": "code",
   "execution_count": null,
   "id": "a7d8af44-cf8b-41ef-9996-8d73ce65aea7",
   "metadata": {},
   "outputs": [],
   "source": [
    "ne = ne[['threshold', 'coverage', 'Bin', 'alignment']]"
   ]
  },
  {
   "cell_type": "code",
   "execution_count": null,
   "id": "559ae770-0b3d-4a95-ba5c-390bd38a95f1",
   "metadata": {},
   "outputs": [],
   "source": [
    "ne = ne[ne['threshold'] == thresholds[4]].reset_index().drop(columns='index')"
   ]
  },
  {
   "cell_type": "code",
   "execution_count": null,
   "id": "d4ce0514-cb4a-413a-828a-d8f15ce36ef6",
   "metadata": {},
   "outputs": [],
   "source": [
    "ne.columns"
   ]
  },
  {
   "cell_type": "code",
   "execution_count": null,
   "id": "86e93ffd-db22-41d0-b17d-e77263c1ddb1",
   "metadata": {},
   "outputs": [],
   "source": [
    "ne = ne.merge(ddf_ne[['NHDPlusID', bbin]], how='left', on='NHDPlusID')"
   ]
  },
  {
   "cell_type": "code",
   "execution_count": null,
   "id": "a4333a00-22d6-41d1-9b3d-1e3a3b540a58",
   "metadata": {},
   "outputs": [],
   "source": [
    "ne = ne.drop(columns='NHDPlusID')"
   ]
  },
  {
   "cell_type": "code",
   "execution_count": null,
   "id": "697e3387-a879-4310-9707-88b32c59aeb6",
   "metadata": {},
   "outputs": [],
   "source": [
    "ne.compute()"
   ]
  },
  {
   "cell_type": "code",
   "execution_count": null,
   "id": "93a017f2-bdbd-4243-9f97-ea36cf3f7cd2",
   "metadata": {},
   "outputs": [],
   "source": [
    "# test = ne.sample(frac=0.00005)"
   ]
  },
  {
   "cell_type": "code",
   "execution_count": null,
   "id": "2e820877-b782-44ad-84df-c0635bfb61d3",
   "metadata": {},
   "outputs": [],
   "source": [
    "del ddf_ne, ddf_ne_melted, temp"
   ]
  },
  {
   "cell_type": "code",
   "execution_count": null,
   "id": "f9c07e43-26ec-45a6-a5d9-9a79892a2712",
   "metadata": {},
   "outputs": [],
   "source": [
    "# testy = test.get_partition(0)"
   ]
  },
  {
   "cell_type": "code",
   "execution_count": null,
   "id": "1afa38fb-e57a-4b32-8c72-fc4000825ff4",
   "metadata": {},
   "outputs": [],
   "source": [
    "# testy = testy.compute()"
   ]
  },
  {
   "cell_type": "code",
   "execution_count": null,
   "id": "fb90f956-03ce-4c41-9e0c-883e2c8ad989",
   "metadata": {},
   "outputs": [],
   "source": [
    "# ddf_ne = ddf_ne.sample(frac=0.1)"
   ]
  },
  {
   "cell_type": "code",
   "execution_count": null,
   "id": "0b27e63b-cad5-4af4-bd17-d2d31e0faf43",
   "metadata": {},
   "outputs": [],
   "source": [
    "# ne = ddf_ne[ddf_ne['threshold'] == thresholds[8]].reset_index()#.drop(columns='index')"
   ]
  },
  {
   "cell_type": "code",
   "execution_count": null,
   "id": "f2c1ba7f-bab0-4e34-ada4-4c2dc6fa8bbe",
   "metadata": {},
   "outputs": [],
   "source": [
    "# ne = ne[['num_wse']]"
   ]
  },
  {
   "cell_type": "code",
   "execution_count": null,
   "id": "a276cf19-dfcf-46ca-8b85-b03bacbe876f",
   "metadata": {},
   "outputs": [],
   "source": [
    "# del ne"
   ]
  },
  {
   "cell_type": "code",
   "execution_count": null,
   "id": "25596e66-7107-4e23-af1c-7d6c8fd0695d",
   "metadata": {},
   "outputs": [],
   "source": [
    "# ne = ne.sample(frac=0.005)"
   ]
  },
  {
   "cell_type": "code",
   "execution_count": null,
   "id": "1877bee5-4084-4bd8-b7ef-36c3a2578518",
   "metadata": {},
   "outputs": [],
   "source": [
    "# unique_val = ddf_ne['Bin'].unique()"
   ]
  },
  {
   "cell_type": "code",
   "execution_count": null,
   "id": "3b54982c-2242-40ec-97ed-53a92624abaa",
   "metadata": {},
   "outputs": [],
   "source": [
    "# unique_val.compute()"
   ]
  }
 ],
 "metadata": {
  "kernelspec": {
   "display_name": "Python [conda env:.conda-narrowPIXC]",
   "language": "python",
   "name": "conda-env-.conda-narrowPIXC-py"
  },
  "language_info": {
   "codemirror_mode": {
    "name": "ipython",
    "version": 3
   },
   "file_extension": ".py",
   "mimetype": "text/x-python",
   "name": "python",
   "nbconvert_exporter": "python",
   "pygments_lexer": "ipython3",
   "version": "3.12.4"
  }
 },
 "nbformat": 4,
 "nbformat_minor": 5
}
