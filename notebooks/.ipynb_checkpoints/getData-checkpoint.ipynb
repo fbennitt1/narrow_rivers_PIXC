{
 "cells": [
  {
   "cell_type": "markdown",
   "id": "4cda9f4e-85ac-446c-aeb9-14d110a622a3",
   "metadata": {},
   "source": [
    "**Reminder to self: EARTHDATA WILL CHECK THE DIRECTORY TO SEE IF THE FILE ALREADY EXISTS. DO NOT DOWNLOAD TO A NEW DIR, JUST DOWNLOAD TO THE SAME ONE.**"
   ]
  },
  {
   "cell_type": "code",
   "execution_count": 1,
   "id": "70e9d56a-07d6-4e33-b2e0-465bf17c763f",
   "metadata": {},
   "outputs": [
    {
     "name": "stderr",
     "output_type": "stream",
     "text": [
      "/work/pi_cjgleason_umass_edu/.conda/envs/narrowPIXC/lib/python3.12/site-packages/tqdm/auto.py:21: TqdmWarning: IProgress not found. Please update jupyter and ipywidgets. See https://ipywidgets.readthedocs.io/en/stable/user_install.html\n",
      "  from .autonotebook import tqdm as notebook_tqdm\n"
     ]
    }
   ],
   "source": [
    "import os\n",
    "\n",
    "import earthaccess\n",
    "import pandas as pd"
   ]
  },
  {
   "cell_type": "markdown",
   "id": "8c01bd28-f178-4182-a9f0-f432098da6e5",
   "metadata": {},
   "source": [
    "### Set-up"
   ]
  },
  {
   "cell_type": "code",
   "execution_count": 2,
   "id": "9aefd2ef-bff9-4e12-8129-7e609737589c",
   "metadata": {},
   "outputs": [],
   "source": [
    "mdata_path = '/nas/cee-water/cjgleason/fiona/narrow_rivers_PIXC/data/'"
   ]
  },
  {
   "cell_type": "code",
   "execution_count": 3,
   "id": "72701a79-0a43-46d8-9864-97b5d1c55779",
   "metadata": {},
   "outputs": [],
   "source": [
    "dtype_dic = {'tile': str, 'huc4': str, 'coverage': float}"
   ]
  },
  {
   "cell_type": "code",
   "execution_count": 4,
   "id": "351452a7-5729-4d45-8285-51b8379b313e",
   "metadata": {},
   "outputs": [],
   "source": [
    "lookup = pd.read_csv(os.path.join(mdata_path,\n",
    "                                  'huc4_swot_science_tiles.csv'),\n",
    "                     dtype=dtype_dic)"
   ]
  },
  {
   "cell_type": "markdown",
   "id": "abb72689-921e-43aa-96f6-fed118831b73",
   "metadata": {},
   "source": [
    "### Get the right tiles"
   ]
  },
  {
   "cell_type": "code",
   "execution_count": 5,
   "id": "a67e43c6-aebc-408f-96c9-4c7ecd6af918",
   "metadata": {},
   "outputs": [],
   "source": [
    "# Get tiles in HUC2_17\n",
    "huc2 = '08'\n",
    "huc2_01 = lookup[lookup['huc4'].str.startswith(huc2)]"
   ]
  },
  {
   "cell_type": "code",
   "execution_count": 6,
   "id": "f8afbf38-b6bf-446a-b521-9a5327385f4e",
   "metadata": {},
   "outputs": [],
   "source": [
    "# Get list of tiles\n",
    "tiles = list(huc2_01['tile'])"
   ]
  },
  {
   "cell_type": "code",
   "execution_count": 7,
   "id": "a1a39fcd-f568-453b-97f2-4f3cd77efdf7",
   "metadata": {},
   "outputs": [
    {
     "data": {
      "text/plain": [
       "349"
      ]
     },
     "execution_count": 7,
     "metadata": {},
     "output_type": "execute_result"
    }
   ],
   "source": [
    "len(tiles)"
   ]
  },
  {
   "cell_type": "code",
   "execution_count": 8,
   "id": "78ac5208-d972-4d64-be0b-f40f2b22fa2e",
   "metadata": {},
   "outputs": [],
   "source": [
    "# Remove duplicates\n",
    "# Doesn't really matter because Earthdata will check :)\n",
    "tiles = list(set(tiles))\n",
    "tiles.sort()"
   ]
  },
  {
   "cell_type": "code",
   "execution_count": 9,
   "id": "b804fc85-877f-4f37-a263-eba8fe45fd92",
   "metadata": {},
   "outputs": [
    {
     "data": {
      "text/plain": [
       "231"
      ]
     },
     "execution_count": 9,
     "metadata": {},
     "output_type": "execute_result"
    }
   ],
   "source": [
    "len(tiles)"
   ]
  },
  {
   "cell_type": "code",
   "execution_count": 10,
   "id": "100cb0f7-5f8b-4c4e-baa1-eaeeffe902cd",
   "metadata": {},
   "outputs": [],
   "source": [
    "tiles = [tile + '_*' for tile in tiles]\n",
    "tiles = ['*_' + tile for tile in tiles]"
   ]
  },
  {
   "cell_type": "code",
   "execution_count": 11,
   "id": "1d39cd0e-7295-41e2-b2af-6d51e6173783",
   "metadata": {},
   "outputs": [
    {
     "data": {
      "text/plain": [
       "'*_203_205L_*'"
      ]
     },
     "execution_count": 11,
     "metadata": {},
     "output_type": "execute_result"
    }
   ],
   "source": [
    "tiles[0]"
   ]
  },
  {
   "cell_type": "code",
   "execution_count": 12,
   "id": "bc5940bc-ed74-4804-b58b-b992105110f2",
   "metadata": {},
   "outputs": [
    {
     "data": {
      "text/plain": [
       "87"
      ]
     },
     "execution_count": 12,
     "metadata": {},
     "output_type": "execute_result"
    }
   ],
   "source": [
    "tiles.index('*_244_102R_*')"
   ]
  },
  {
   "cell_type": "code",
   "execution_count": 36,
   "id": "cdd1b168-9691-476a-aa50-a1453fb7ff81",
   "metadata": {},
   "outputs": [],
   "source": [
    "# Problem tiles for HUC2_01\n",
    "# 60, 61, 87, 88\n",
    "\n",
    "# Problem tiles for HUC2_15\n",
    "# *_233_224R_*, "
   ]
  },
  {
   "cell_type": "code",
   "execution_count": 37,
   "id": "95fb2db3-7e3c-4407-92ed-c0a8eb7bfca9",
   "metadata": {},
   "outputs": [],
   "source": [
    "# tiles.reverse()"
   ]
  },
  {
   "cell_type": "markdown",
   "id": "38b005d0-dc3d-40a6-be08-62a761b7538b",
   "metadata": {
    "jp-MarkdownHeadingCollapsed": true,
    "tags": []
   },
   "source": [
    "### Check what we already have"
   ]
  },
  {
   "cell_type": "code",
   "execution_count": 14,
   "id": "42a80c9f-f606-452d-8da1-8bcd0f2a7bc5",
   "metadata": {},
   "outputs": [],
   "source": [
    "# directory = '/nas/cee-water/cjgleason/data/SWOT/PIXC_v2_0_HUC2_17/'"
   ]
  },
  {
   "cell_type": "code",
   "execution_count": 15,
   "id": "88d797df-75d6-4ce5-9029-e100f20ae0f3",
   "metadata": {},
   "outputs": [
    {
     "name": "stdout",
     "output_type": "stream",
     "text": [
      "There are 14064 original files in directory.\n"
     ]
    }
   ],
   "source": [
    "# # List to store all file paths\n",
    "# files = []\n",
    "# for file in os.listdir(directory):\n",
    "#     files.append(file)\n",
    "\n",
    "# print(f\"There are {str(len(files))} original files in directory.\")"
   ]
  },
  {
   "cell_type": "code",
   "execution_count": 16,
   "id": "96d96fb2-a422-46c3-a8a3-ed70ab9ea163",
   "metadata": {},
   "outputs": [],
   "source": [
    "# # Make DataFrame of filenames\n",
    "# granules = pd.DataFrame({'files': files})\n",
    "# granules['cycle'] = granules['files'].str.slice(16, 19)\n",
    "# granules['pass'] = granules['files'].str.slice(20, 23)\n",
    "# granules['tile'] = granules['files'].str.slice(24, 28)\n",
    "# granules['version'] = granules['files'].str.slice(-10, -6)\n",
    "# granules['counter'] = granules['files'].str.slice(-5, -3) "
   ]
  },
  {
   "cell_type": "code",
   "execution_count": 25,
   "id": "eda78825-b45d-4788-956f-f942637f423f",
   "metadata": {},
   "outputs": [],
   "source": [
    "# downloaded = list(set('*_' + granules['pass'] + '_' + granules['tile'] + '_*'))"
   ]
  },
  {
   "cell_type": "code",
   "execution_count": 26,
   "id": "7a5acf3e-decc-4c7d-a25e-fd4de5c876c5",
   "metadata": {},
   "outputs": [
    {
     "data": {
      "text/plain": [
       "435"
      ]
     },
     "execution_count": 26,
     "metadata": {},
     "output_type": "execute_result"
    }
   ],
   "source": [
    "# len(downloaded)"
   ]
  },
  {
   "cell_type": "code",
   "execution_count": 28,
   "id": "8a5449d1-db25-4e47-87cb-9114a2cfe83d",
   "metadata": {},
   "outputs": [
    {
     "data": {
      "text/plain": [
       "700"
      ]
     },
     "execution_count": 28,
     "metadata": {},
     "output_type": "execute_result"
    }
   ],
   "source": [
    "# len(tiles)"
   ]
  },
  {
   "cell_type": "code",
   "execution_count": 30,
   "id": "d4f0f965-963e-4005-b094-cfdc5ab4121e",
   "metadata": {},
   "outputs": [],
   "source": [
    "# test = list(set(tiles) - set(downloaded))"
   ]
  },
  {
   "cell_type": "code",
   "execution_count": 37,
   "id": "ae09f082-d9b0-4a1e-a4ee-363e58b9d1ff",
   "metadata": {},
   "outputs": [],
   "source": [
    "# test.sort()"
   ]
  },
  {
   "cell_type": "code",
   "execution_count": 49,
   "id": "7f5e6a84-215d-47dd-b77c-8004c405920c",
   "metadata": {},
   "outputs": [
    {
     "data": {
      "text/plain": [
       "265"
      ]
     },
     "execution_count": 49,
     "metadata": {},
     "output_type": "execute_result"
    }
   ],
   "source": [
    "# len(test)"
   ]
  },
  {
   "cell_type": "code",
   "execution_count": 47,
   "id": "15388ff8-9a51-4ca0-9c66-8bdb2d20093b",
   "metadata": {},
   "outputs": [
    {
     "data": {
      "text/plain": [
       "92"
      ]
     },
     "execution_count": 47,
     "metadata": {},
     "output_type": "execute_result"
    }
   ],
   "source": [
    "Get the index of the first tile that is missing\n",
    "tiles.index(test[0])"
   ]
  },
  {
   "cell_type": "code",
   "execution_count": 48,
   "id": "8da8f73c-3926-4718-a9db-a7721f04c9c4",
   "metadata": {},
   "outputs": [
    {
     "data": {
      "text/plain": [
       "356"
      ]
     },
     "execution_count": 48,
     "metadata": {},
     "output_type": "execute_result"
    }
   ],
   "source": [
    "Get the index of the last tile that is missing\n",
    "tiles.index(test[-1])"
   ]
  },
  {
   "cell_type": "code",
   "execution_count": 51,
   "id": "b06c21d2-8db3-4d57-8beb-bbc10e9df07f",
   "metadata": {},
   "outputs": [],
   "source": [
    "# # Add first tile before and last tile after the missing tiles\n",
    "# # I had downloaded reversed after I had to interrupt forward\n",
    "# test.insert(0, tiles[91])\n",
    "# test.insert(-1, tiles[357])"
   ]
  },
  {
   "cell_type": "code",
   "execution_count": 53,
   "id": "258d7ba7-e15f-4b35-89d2-c0189008c42d",
   "metadata": {},
   "outputs": [
    {
     "data": {
      "text/plain": [
       "267"
      ]
     },
     "execution_count": 53,
     "metadata": {},
     "output_type": "execute_result"
    }
   ],
   "source": [
    "# len(test)"
   ]
  },
  {
   "cell_type": "markdown",
   "id": "c402c71f-5fab-4be6-bd5f-ecc4347b4cc4",
   "metadata": {},
   "source": [
    "### Download tiles"
   ]
  },
  {
   "cell_type": "code",
   "execution_count": 13,
   "id": "9019e24d-aec8-4744-9a8f-6fc3a22db34d",
   "metadata": {},
   "outputs": [
    {
     "data": {
      "text/plain": [
       "'/nas/cee-water/cjgleason/fiona/narrow_rivers_PIXC/notebooks'"
      ]
     },
     "execution_count": 13,
     "metadata": {},
     "output_type": "execute_result"
    }
   ],
   "source": [
    "pwd"
   ]
  },
  {
   "cell_type": "code",
   "execution_count": null,
   "id": "c558b754-f741-42e7-a803-bca60e1fcea3",
   "metadata": {},
   "outputs": [
    {
     "name": "stdout",
     "output_type": "stream",
     "text": [
      "*_244_103L_*\n"
     ]
    },
    {
     "name": "stderr",
     "output_type": "stream",
     "text": [
      "QUEUEING TASKS | : 100%|██████████| 32/32 [00:00<00:00, 6984.69it/s]\n",
      "PROCESSING TASKS | :  94%|█████████▍| 30/32 [03:06<00:19,  9.58s/it]"
     ]
    }
   ],
   "source": [
    "## Full science orbit (thus far)\n",
    "\n",
    "start = '2023-07-27 00:00:00'\n",
    "# end = '2025-02-20 23:59:59'\n",
    "end = '2025-05-03 23:59:59'\n",
    "\n",
    "# Fill the gap\n",
    "# start = '2025-02-20 23:59:59'\n",
    "# end = '2025-05-03 23:59:59'\n",
    "\n",
    "missing = []\n",
    "\n",
    "for tile in tiles[88:]: # CHANGE THIS # START AT 158\n",
    "    print(tile)\n",
    "    \n",
    "    try:\n",
    "        pixc_results = earthaccess.search_data(short_name = 'SWOT_L2_HR_PIXC_2.0',\n",
    "                                               temporal = (start, end),\n",
    "                                               granule_name = tile)\n",
    "        pixc_results\n",
    "\n",
    "        # download\n",
    "        earthaccess.download(pixc_results, '../../../data/SWOT/PIXC_v2_0_HUC2_' + huc2)\n",
    "    \n",
    "    except:\n",
    "        missing.append(tile)"
   ]
  }
 ],
 "metadata": {
  "kernelspec": {
   "display_name": "Python [conda env:.conda-narrowPIXC]",
   "language": "python",
   "name": "conda-env-.conda-narrowPIXC-py"
  },
  "language_info": {
   "codemirror_mode": {
    "name": "ipython",
    "version": 3
   },
   "file_extension": ".py",
   "mimetype": "text/x-python",
   "name": "python",
   "nbconvert_exporter": "python",
   "pygments_lexer": "ipython3",
   "version": "3.12.4"
  }
 },
 "nbformat": 4,
 "nbformat_minor": 5
}
