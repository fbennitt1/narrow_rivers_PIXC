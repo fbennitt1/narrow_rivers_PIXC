{
 "cells": [
  {
   "cell_type": "code",
   "execution_count": 1,
   "id": "83185ec8-ab23-46d9-911a-1b914ab28327",
   "metadata": {},
   "outputs": [],
   "source": [
    "import os\n",
    "\n",
    "import geopandas as gpd\n",
    "import matplotlib.pyplot as plt\n",
    "import numpy as np\n",
    "import pandas as pd\n",
    "import rasterio\n",
    "import rioxarray as rxr\n",
    "import xarray as xr\n",
    "\n",
    "from exactextract import exact_extract\n",
    "from rasterio.crs import CRS\n",
    "from rasterio.mask import mask\n",
    "from shapely.geometry import box"
   ]
  },
  {
   "cell_type": "markdown",
   "id": "693b4dcf-6cbd-415e-ae76-7d36be80cf8a",
   "metadata": {
    "jp-MarkdownHeadingCollapsed": true,
    "tags": []
   },
   "source": [
    "### To save one NHD file with correct CRS"
   ]
  },
  {
   "cell_type": "code",
   "execution_count": null,
   "id": "d0e6f5a7-6404-4bff-b2ba-400eb7ef8032",
   "metadata": {},
   "outputs": [],
   "source": [
    "# nhd_path = '/nas/cee-water/cjgleason/fiona/narrow_rivers_PIXC_data/NHD_prepped_buffered_json/HUC2_01/NHDPLUS_H_0101_HU4_GDB_prepped_buffered_max.json'\n",
    "nhd_path = '/nas/cee-water/cjgleason/fiona/narrow_rivers_PIXC_data/NHD_prepped_buffered/HUC2_01/NHDPLUS_H_0101_HU4_GDB_prepped_buffered_max.parquet'"
   ]
  },
  {
   "cell_type": "code",
   "execution_count": null,
   "id": "b113b7c1-5e45-4257-a3b1-d26c4981b64c",
   "metadata": {},
   "outputs": [],
   "source": [
    "nhd = gpd.read_parquet(nhd_path)"
   ]
  },
  {
   "cell_type": "code",
   "execution_count": null,
   "id": "3100a918-beb7-4fff-8b65-cdaa3ffa0903",
   "metadata": {},
   "outputs": [],
   "source": [
    "# nhd = nhd.to_crs('4236')\n",
    "nhd.to_crs(nlcd_crs)"
   ]
  },
  {
   "cell_type": "code",
   "execution_count": null,
   "id": "2e12680d-bd30-4c37-a5f9-264789718c30",
   "metadata": {},
   "outputs": [],
   "source": [
    "nhd = nhd[['NHDPlusID', 'geometry']]"
   ]
  },
  {
   "cell_type": "code",
   "execution_count": null,
   "id": "90e38bd9-1956-4fc6-8c04-cb02ccaa2ebc",
   "metadata": {},
   "outputs": [],
   "source": [
    "save_path = '/nas/cee-water/cjgleason/fiona/narrow_rivers_PIXC_data/'\n",
    "save_file = 'NHDPLUS_H_0101_HU4_GDB_prepped_buffered_max_TEST.json'\n",
    "\n",
    "nhd.to_file(filename=os.path.join(save_path, save_file), driver='GeoJSON')"
   ]
  },
  {
   "cell_type": "markdown",
   "id": "0eb3a4eb-ee6c-4e7b-8e4b-7f7a688c6d65",
   "metadata": {
    "tags": []
   },
   "source": [
    "### To save one NLCD file with correct CRS"
   ]
  },
  {
   "cell_type": "code",
   "execution_count": 26,
   "id": "991c527e-a83e-47c0-9aad-3537d330a6ca",
   "metadata": {},
   "outputs": [],
   "source": [
    "# del nlcd"
   ]
  },
  {
   "cell_type": "code",
   "execution_count": 68,
   "id": "82d43769-19e9-4bb8-b43d-01c8d3f65974",
   "metadata": {},
   "outputs": [],
   "source": [
    "nlcd_path = '/nas/cee-water/cjgleason/data/NLCD/Annual_NLCD_LndCov_2023_CU_C1V0.tif'\n",
    "nlcd = rxr.open_rasterio(nlcd_path, masked=True)"
   ]
  },
  {
   "cell_type": "code",
   "execution_count": 61,
   "id": "4a9372c2-4949-4fd9-acfc-32521515cc85",
   "metadata": {},
   "outputs": [],
   "source": [
    "with rasterio.open(nlcd_path) as src:\n",
    "    nlcd_crs = src.crs"
   ]
  },
  {
   "cell_type": "code",
   "execution_count": 62,
   "id": "00571c8c-6701-4aac-97f8-a2720887fa6e",
   "metadata": {},
   "outputs": [
    {
     "data": {
      "text/plain": [
       "CRS.from_wkt('PROJCS[\"AEA        WGS84\",GEOGCS[\"WGS 84\",DATUM[\"WGS_1984\",SPHEROID[\"WGS 84\",6378137,298.257223563,AUTHORITY[\"EPSG\",\"7030\"]],AUTHORITY[\"EPSG\",\"6326\"]],PRIMEM[\"Greenwich\",0],UNIT[\"degree\",0.0174532925199433,AUTHORITY[\"EPSG\",\"9122\"]],AUTHORITY[\"EPSG\",\"4326\"]],PROJECTION[\"Albers_Conic_Equal_Area\"],PARAMETER[\"latitude_of_center\",23],PARAMETER[\"longitude_of_center\",-96],PARAMETER[\"standard_parallel_1\",29.5],PARAMETER[\"standard_parallel_2\",45.5],PARAMETER[\"false_easting\",0],PARAMETER[\"false_northing\",0],UNIT[\"metre\",1,AUTHORITY[\"EPSG\",\"9001\"]],AXIS[\"Easting\",EAST],AXIS[\"Northing\",NORTH]]')"
      ]
     },
     "execution_count": 62,
     "metadata": {},
     "output_type": "execute_result"
    }
   ],
   "source": [
    "nlcd_crs"
   ]
  },
  {
   "cell_type": "code",
   "execution_count": 37,
   "id": "73e1c12b-00d0-4373-9bb2-b30ede2da2cd",
   "metadata": {},
   "outputs": [],
   "source": [
    "test = nlcd.sel(x=slice(-2016000, -2015500), y=slice(3015000, 3014500))"
   ]
  },
  {
   "cell_type": "code",
   "execution_count": 38,
   "id": "a8e6b2fe-05d3-4507-97c3-b2d3aaf969c9",
   "metadata": {},
   "outputs": [
    {
     "data": {
      "text/plain": [
       "array([[[42., 42., 42., 42., 42., 42., 42., 90., 42., 42., 42., 42.,\n",
       "         42., 42., 42., 42., 42.],\n",
       "        [42., 42., 42., 42., 42., 42., 90., 90., 42., 42., 42., 42.,\n",
       "         42., 42., 42., 42., 42.],\n",
       "        [42., 42., 42., 42., 42., 42., 90., 90., 42., 42., 42., 42.,\n",
       "         42., 42., 42., 42., 42.],\n",
       "        [42., 42., 42., 42., 42., 42., 90., 90., 42., 42., 42., 42.,\n",
       "         42., 42., 42., 42., 42.],\n",
       "        [42., 42., 42., 42., 42., 90., 90., 90., 42., 42., 42., 42.,\n",
       "         42., 42., 42., 42., 42.],\n",
       "        [52., 42., 42., 90., 90., 90., 90., 90., 42., 42., 42., 42.,\n",
       "         42., 42., 42., 42., 42.],\n",
       "        [71., 42., 42., 90., 90., 42., 42., 42., 42., 42., 42., 42.,\n",
       "         42., 42., 42., 42., 42.],\n",
       "        [71., 71., 42., 90., 90., 42., 42., 42., 42., 42., 42., 42.,\n",
       "         42., 42., 42., 42., 42.],\n",
       "        [71., 52., 42., 42., 90., 42., 42., 42., 42., 42., 42., 42.,\n",
       "         42., 42., 42., 42., 42.],\n",
       "        [52., 42., 90., 90., 42., 42., 42., 42., 42., 42., 42., 42.,\n",
       "         42., 42., 42., 42., 42.],\n",
       "        [42., 42., 90., 42., 42., 42., 42., 42., 42., 42., 42., 42.,\n",
       "         42., 42., 42., 42., 42.],\n",
       "        [42., 42., 90., 42., 42., 42., 42., 42., 42., 42., 42., 42.,\n",
       "         42., 42., 42., 42., 42.],\n",
       "        [42., 42., 90., 42., 42., 42., 42., 42., 42., 42., 42., 42.,\n",
       "         42., 42., 42., 42., 42.],\n",
       "        [42., 42., 90., 42., 42., 42., 42., 42., 42., 42., 42., 42.,\n",
       "         42., 42., 42., 42., 42.],\n",
       "        [90., 42., 90., 42., 42., 42., 42., 42., 42., 42., 42., 42.,\n",
       "         42., 42., 42., 42., 42.],\n",
       "        [90., 90., 90., 42., 42., 42., 42., 42., 42., 42., 42., 42.,\n",
       "         42., 42., 42., 42., 42.],\n",
       "        [90., 90., 90., 42., 42., 42., 42., 42., 42., 42., 42., 42.,\n",
       "         42., 42., 42., 42., 42.]]], dtype=float32)"
      ]
     },
     "execution_count": 38,
     "metadata": {},
     "output_type": "execute_result"
    }
   ],
   "source": [
    "test.to_numpy()"
   ]
  },
  {
   "cell_type": "code",
   "execution_count": 39,
   "id": "141f06d7-c02d-4e9d-8c34-22af06c7589a",
   "metadata": {},
   "outputs": [
    {
     "data": {
      "text/html": [
       "<div><svg style=\"position: absolute; width: 0; height: 0; overflow: hidden\">\n",
       "<defs>\n",
       "<symbol id=\"icon-database\" viewBox=\"0 0 32 32\">\n",
       "<path d=\"M16 0c-8.837 0-16 2.239-16 5v4c0 2.761 7.163 5 16 5s16-2.239 16-5v-4c0-2.761-7.163-5-16-5z\"></path>\n",
       "<path d=\"M16 17c-8.837 0-16-2.239-16-5v6c0 2.761 7.163 5 16 5s16-2.239 16-5v-6c0 2.761-7.163 5-16 5z\"></path>\n",
       "<path d=\"M16 26c-8.837 0-16-2.239-16-5v6c0 2.761 7.163 5 16 5s16-2.239 16-5v-6c0 2.761-7.163 5-16 5z\"></path>\n",
       "</symbol>\n",
       "<symbol id=\"icon-file-text2\" viewBox=\"0 0 32 32\">\n",
       "<path d=\"M28.681 7.159c-0.694-0.947-1.662-2.053-2.724-3.116s-2.169-2.030-3.116-2.724c-1.612-1.182-2.393-1.319-2.841-1.319h-15.5c-1.378 0-2.5 1.121-2.5 2.5v27c0 1.378 1.122 2.5 2.5 2.5h23c1.378 0 2.5-1.122 2.5-2.5v-19.5c0-0.448-0.137-1.23-1.319-2.841zM24.543 5.457c0.959 0.959 1.712 1.825 2.268 2.543h-4.811v-4.811c0.718 0.556 1.584 1.309 2.543 2.268zM28 29.5c0 0.271-0.229 0.5-0.5 0.5h-23c-0.271 0-0.5-0.229-0.5-0.5v-27c0-0.271 0.229-0.5 0.5-0.5 0 0 15.499-0 15.5 0v7c0 0.552 0.448 1 1 1h7v19.5z\"></path>\n",
       "<path d=\"M23 26h-14c-0.552 0-1-0.448-1-1s0.448-1 1-1h14c0.552 0 1 0.448 1 1s-0.448 1-1 1z\"></path>\n",
       "<path d=\"M23 22h-14c-0.552 0-1-0.448-1-1s0.448-1 1-1h14c0.552 0 1 0.448 1 1s-0.448 1-1 1z\"></path>\n",
       "<path d=\"M23 18h-14c-0.552 0-1-0.448-1-1s0.448-1 1-1h14c0.552 0 1 0.448 1 1s-0.448 1-1 1z\"></path>\n",
       "</symbol>\n",
       "</defs>\n",
       "</svg>\n",
       "<style>/* CSS stylesheet for displaying xarray objects in jupyterlab.\n",
       " *\n",
       " */\n",
       "\n",
       ":root {\n",
       "  --xr-font-color0: var(--jp-content-font-color0, rgba(0, 0, 0, 1));\n",
       "  --xr-font-color2: var(--jp-content-font-color2, rgba(0, 0, 0, 0.54));\n",
       "  --xr-font-color3: var(--jp-content-font-color3, rgba(0, 0, 0, 0.38));\n",
       "  --xr-border-color: var(--jp-border-color2, #e0e0e0);\n",
       "  --xr-disabled-color: var(--jp-layout-color3, #bdbdbd);\n",
       "  --xr-background-color: var(--jp-layout-color0, white);\n",
       "  --xr-background-color-row-even: var(--jp-layout-color1, white);\n",
       "  --xr-background-color-row-odd: var(--jp-layout-color2, #eeeeee);\n",
       "}\n",
       "\n",
       "html[theme=\"dark\"],\n",
       "html[data-theme=\"dark\"],\n",
       "body[data-theme=\"dark\"],\n",
       "body.vscode-dark {\n",
       "  --xr-font-color0: rgba(255, 255, 255, 1);\n",
       "  --xr-font-color2: rgba(255, 255, 255, 0.54);\n",
       "  --xr-font-color3: rgba(255, 255, 255, 0.38);\n",
       "  --xr-border-color: #1f1f1f;\n",
       "  --xr-disabled-color: #515151;\n",
       "  --xr-background-color: #111111;\n",
       "  --xr-background-color-row-even: #111111;\n",
       "  --xr-background-color-row-odd: #313131;\n",
       "}\n",
       "\n",
       ".xr-wrap {\n",
       "  display: block !important;\n",
       "  min-width: 300px;\n",
       "  max-width: 700px;\n",
       "}\n",
       "\n",
       ".xr-text-repr-fallback {\n",
       "  /* fallback to plain text repr when CSS is not injected (untrusted notebook) */\n",
       "  display: none;\n",
       "}\n",
       "\n",
       ".xr-header {\n",
       "  padding-top: 6px;\n",
       "  padding-bottom: 6px;\n",
       "  margin-bottom: 4px;\n",
       "  border-bottom: solid 1px var(--xr-border-color);\n",
       "}\n",
       "\n",
       ".xr-header > div,\n",
       ".xr-header > ul {\n",
       "  display: inline;\n",
       "  margin-top: 0;\n",
       "  margin-bottom: 0;\n",
       "}\n",
       "\n",
       ".xr-obj-type,\n",
       ".xr-array-name {\n",
       "  margin-left: 2px;\n",
       "  margin-right: 10px;\n",
       "}\n",
       "\n",
       ".xr-obj-type {\n",
       "  color: var(--xr-font-color2);\n",
       "}\n",
       "\n",
       ".xr-sections {\n",
       "  padding-left: 0 !important;\n",
       "  display: grid;\n",
       "  grid-template-columns: 150px auto auto 1fr 0 20px 0 20px;\n",
       "}\n",
       "\n",
       ".xr-section-item {\n",
       "  display: contents;\n",
       "}\n",
       "\n",
       ".xr-section-item input {\n",
       "  display: inline-block;\n",
       "  opacity: 0;\n",
       "  height: 0;\n",
       "}\n",
       "\n",
       ".xr-section-item input + label {\n",
       "  color: var(--xr-disabled-color);\n",
       "}\n",
       "\n",
       ".xr-section-item input:enabled + label {\n",
       "  cursor: pointer;\n",
       "  color: var(--xr-font-color2);\n",
       "}\n",
       "\n",
       ".xr-section-item input:focus + label {\n",
       "  border: 2px solid var(--xr-font-color0);\n",
       "}\n",
       "\n",
       ".xr-section-item input:enabled + label:hover {\n",
       "  color: var(--xr-font-color0);\n",
       "}\n",
       "\n",
       ".xr-section-summary {\n",
       "  grid-column: 1;\n",
       "  color: var(--xr-font-color2);\n",
       "  font-weight: 500;\n",
       "}\n",
       "\n",
       ".xr-section-summary > span {\n",
       "  display: inline-block;\n",
       "  padding-left: 0.5em;\n",
       "}\n",
       "\n",
       ".xr-section-summary-in:disabled + label {\n",
       "  color: var(--xr-font-color2);\n",
       "}\n",
       "\n",
       ".xr-section-summary-in + label:before {\n",
       "  display: inline-block;\n",
       "  content: \"►\";\n",
       "  font-size: 11px;\n",
       "  width: 15px;\n",
       "  text-align: center;\n",
       "}\n",
       "\n",
       ".xr-section-summary-in:disabled + label:before {\n",
       "  color: var(--xr-disabled-color);\n",
       "}\n",
       "\n",
       ".xr-section-summary-in:checked + label:before {\n",
       "  content: \"▼\";\n",
       "}\n",
       "\n",
       ".xr-section-summary-in:checked + label > span {\n",
       "  display: none;\n",
       "}\n",
       "\n",
       ".xr-section-summary,\n",
       ".xr-section-inline-details {\n",
       "  padding-top: 4px;\n",
       "  padding-bottom: 4px;\n",
       "}\n",
       "\n",
       ".xr-section-inline-details {\n",
       "  grid-column: 2 / -1;\n",
       "}\n",
       "\n",
       ".xr-section-details {\n",
       "  display: none;\n",
       "  grid-column: 1 / -1;\n",
       "  margin-bottom: 5px;\n",
       "}\n",
       "\n",
       ".xr-section-summary-in:checked ~ .xr-section-details {\n",
       "  display: contents;\n",
       "}\n",
       "\n",
       ".xr-array-wrap {\n",
       "  grid-column: 1 / -1;\n",
       "  display: grid;\n",
       "  grid-template-columns: 20px auto;\n",
       "}\n",
       "\n",
       ".xr-array-wrap > label {\n",
       "  grid-column: 1;\n",
       "  vertical-align: top;\n",
       "}\n",
       "\n",
       ".xr-preview {\n",
       "  color: var(--xr-font-color3);\n",
       "}\n",
       "\n",
       ".xr-array-preview,\n",
       ".xr-array-data {\n",
       "  padding: 0 5px !important;\n",
       "  grid-column: 2;\n",
       "}\n",
       "\n",
       ".xr-array-data,\n",
       ".xr-array-in:checked ~ .xr-array-preview {\n",
       "  display: none;\n",
       "}\n",
       "\n",
       ".xr-array-in:checked ~ .xr-array-data,\n",
       ".xr-array-preview {\n",
       "  display: inline-block;\n",
       "}\n",
       "\n",
       ".xr-dim-list {\n",
       "  display: inline-block !important;\n",
       "  list-style: none;\n",
       "  padding: 0 !important;\n",
       "  margin: 0;\n",
       "}\n",
       "\n",
       ".xr-dim-list li {\n",
       "  display: inline-block;\n",
       "  padding: 0;\n",
       "  margin: 0;\n",
       "}\n",
       "\n",
       ".xr-dim-list:before {\n",
       "  content: \"(\";\n",
       "}\n",
       "\n",
       ".xr-dim-list:after {\n",
       "  content: \")\";\n",
       "}\n",
       "\n",
       ".xr-dim-list li:not(:last-child):after {\n",
       "  content: \",\";\n",
       "  padding-right: 5px;\n",
       "}\n",
       "\n",
       ".xr-has-index {\n",
       "  font-weight: bold;\n",
       "}\n",
       "\n",
       ".xr-var-list,\n",
       ".xr-var-item {\n",
       "  display: contents;\n",
       "}\n",
       "\n",
       ".xr-var-item > div,\n",
       ".xr-var-item label,\n",
       ".xr-var-item > .xr-var-name span {\n",
       "  background-color: var(--xr-background-color-row-even);\n",
       "  margin-bottom: 0;\n",
       "}\n",
       "\n",
       ".xr-var-item > .xr-var-name:hover span {\n",
       "  padding-right: 5px;\n",
       "}\n",
       "\n",
       ".xr-var-list > li:nth-child(odd) > div,\n",
       ".xr-var-list > li:nth-child(odd) > label,\n",
       ".xr-var-list > li:nth-child(odd) > .xr-var-name span {\n",
       "  background-color: var(--xr-background-color-row-odd);\n",
       "}\n",
       "\n",
       ".xr-var-name {\n",
       "  grid-column: 1;\n",
       "}\n",
       "\n",
       ".xr-var-dims {\n",
       "  grid-column: 2;\n",
       "}\n",
       "\n",
       ".xr-var-dtype {\n",
       "  grid-column: 3;\n",
       "  text-align: right;\n",
       "  color: var(--xr-font-color2);\n",
       "}\n",
       "\n",
       ".xr-var-preview {\n",
       "  grid-column: 4;\n",
       "}\n",
       "\n",
       ".xr-index-preview {\n",
       "  grid-column: 2 / 5;\n",
       "  color: var(--xr-font-color2);\n",
       "}\n",
       "\n",
       ".xr-var-name,\n",
       ".xr-var-dims,\n",
       ".xr-var-dtype,\n",
       ".xr-preview,\n",
       ".xr-attrs dt {\n",
       "  white-space: nowrap;\n",
       "  overflow: hidden;\n",
       "  text-overflow: ellipsis;\n",
       "  padding-right: 10px;\n",
       "}\n",
       "\n",
       ".xr-var-name:hover,\n",
       ".xr-var-dims:hover,\n",
       ".xr-var-dtype:hover,\n",
       ".xr-attrs dt:hover {\n",
       "  overflow: visible;\n",
       "  width: auto;\n",
       "  z-index: 1;\n",
       "}\n",
       "\n",
       ".xr-var-attrs,\n",
       ".xr-var-data,\n",
       ".xr-index-data {\n",
       "  display: none;\n",
       "  background-color: var(--xr-background-color) !important;\n",
       "  padding-bottom: 5px !important;\n",
       "}\n",
       "\n",
       ".xr-var-attrs-in:checked ~ .xr-var-attrs,\n",
       ".xr-var-data-in:checked ~ .xr-var-data,\n",
       ".xr-index-data-in:checked ~ .xr-index-data {\n",
       "  display: block;\n",
       "}\n",
       "\n",
       ".xr-var-data > table {\n",
       "  float: right;\n",
       "}\n",
       "\n",
       ".xr-var-name span,\n",
       ".xr-var-data,\n",
       ".xr-index-name div,\n",
       ".xr-index-data,\n",
       ".xr-attrs {\n",
       "  padding-left: 25px !important;\n",
       "}\n",
       "\n",
       ".xr-attrs,\n",
       ".xr-var-attrs,\n",
       ".xr-var-data,\n",
       ".xr-index-data {\n",
       "  grid-column: 1 / -1;\n",
       "}\n",
       "\n",
       "dl.xr-attrs {\n",
       "  padding: 0;\n",
       "  margin: 0;\n",
       "  display: grid;\n",
       "  grid-template-columns: 125px auto;\n",
       "}\n",
       "\n",
       ".xr-attrs dt,\n",
       ".xr-attrs dd {\n",
       "  padding: 0;\n",
       "  margin: 0;\n",
       "  float: left;\n",
       "  padding-right: 10px;\n",
       "  width: auto;\n",
       "}\n",
       "\n",
       ".xr-attrs dt {\n",
       "  font-weight: normal;\n",
       "  grid-column: 1;\n",
       "}\n",
       "\n",
       ".xr-attrs dt:hover span {\n",
       "  display: inline-block;\n",
       "  background: var(--xr-background-color);\n",
       "  padding-right: 10px;\n",
       "}\n",
       "\n",
       ".xr-attrs dd {\n",
       "  grid-column: 2;\n",
       "  white-space: pre-wrap;\n",
       "  word-break: break-all;\n",
       "}\n",
       "\n",
       ".xr-icon-database,\n",
       ".xr-icon-file-text2,\n",
       ".xr-no-icon {\n",
       "  display: inline-block;\n",
       "  vertical-align: middle;\n",
       "  width: 1em;\n",
       "  height: 1.5em !important;\n",
       "  stroke-width: 0;\n",
       "  stroke: currentColor;\n",
       "  fill: currentColor;\n",
       "}\n",
       "</style><pre class='xr-text-repr-fallback'>&lt;xarray.DataArray (band: 1, y: 17, x: 17)&gt; Size: 1kB\n",
       "array([[[42., 42., ..., 42., 42.],\n",
       "        [42., 42., ..., 42., 42.],\n",
       "        ...,\n",
       "        [90., 90., ..., 42., 42.],\n",
       "        [90., 90., ..., 42., 42.]]], dtype=float32)\n",
       "Coordinates:\n",
       "  * band         (band) int64 8B 1\n",
       "  * x            (x) float64 136B -2.016e+06 -2.016e+06 ... -2.016e+06\n",
       "  * y            (y) float64 136B 3.015e+06 3.015e+06 ... 3.015e+06 3.015e+06\n",
       "    spatial_ref  int64 8B 0\n",
       "Attributes:\n",
       "    AREA_OR_POINT:  Area\n",
       "    scale_factor:   1.0\n",
       "    add_offset:     0.0\n",
       "    _FillValue:     nan</pre><div class='xr-wrap' style='display:none'><div class='xr-header'><div class='xr-obj-type'>xarray.DataArray</div><div class='xr-array-name'></div><ul class='xr-dim-list'><li><span class='xr-has-index'>band</span>: 1</li><li><span class='xr-has-index'>y</span>: 17</li><li><span class='xr-has-index'>x</span>: 17</li></ul></div><ul class='xr-sections'><li class='xr-section-item'><div class='xr-array-wrap'><input id='section-caa048eb-5d29-4008-8c26-77be36cdc97c' class='xr-array-in' type='checkbox' checked><label for='section-caa048eb-5d29-4008-8c26-77be36cdc97c' title='Show/hide data repr'><svg class='icon xr-icon-database'><use xlink:href='#icon-database'></use></svg></label><div class='xr-array-preview xr-preview'><span>42.0 42.0 42.0 42.0 42.0 42.0 42.0 ... 42.0 42.0 42.0 42.0 42.0 42.0</span></div><div class='xr-array-data'><pre>array([[[42., 42., ..., 42., 42.],\n",
       "        [42., 42., ..., 42., 42.],\n",
       "        ...,\n",
       "        [90., 90., ..., 42., 42.],\n",
       "        [90., 90., ..., 42., 42.]]], dtype=float32)</pre></div></div></li><li class='xr-section-item'><input id='section-4763263a-f9ad-4b5b-9c08-8edf6db6285e' class='xr-section-summary-in' type='checkbox'  checked><label for='section-4763263a-f9ad-4b5b-9c08-8edf6db6285e' class='xr-section-summary' >Coordinates: <span>(4)</span></label><div class='xr-section-inline-details'></div><div class='xr-section-details'><ul class='xr-var-list'><li class='xr-var-item'><div class='xr-var-name'><span class='xr-has-index'>band</span></div><div class='xr-var-dims'>(band)</div><div class='xr-var-dtype'>int64</div><div class='xr-var-preview xr-preview'>1</div><input id='attrs-61d7e7c8-9e37-4b25-acbf-f653062b9ff6' class='xr-var-attrs-in' type='checkbox' disabled><label for='attrs-61d7e7c8-9e37-4b25-acbf-f653062b9ff6' title='Show/Hide attributes'><svg class='icon xr-icon-file-text2'><use xlink:href='#icon-file-text2'></use></svg></label><input id='data-1a58f1b6-f929-475f-ac83-85fa6214295c' class='xr-var-data-in' type='checkbox'><label for='data-1a58f1b6-f929-475f-ac83-85fa6214295c' title='Show/Hide data repr'><svg class='icon xr-icon-database'><use xlink:href='#icon-database'></use></svg></label><div class='xr-var-attrs'><dl class='xr-attrs'></dl></div><div class='xr-var-data'><pre>array([1])</pre></div></li><li class='xr-var-item'><div class='xr-var-name'><span class='xr-has-index'>x</span></div><div class='xr-var-dims'>(x)</div><div class='xr-var-dtype'>float64</div><div class='xr-var-preview xr-preview'>-2.016e+06 ... -2.016e+06</div><input id='attrs-f4bd3b2d-d81e-4b25-9bfb-affbd1891208' class='xr-var-attrs-in' type='checkbox' disabled><label for='attrs-f4bd3b2d-d81e-4b25-9bfb-affbd1891208' title='Show/Hide attributes'><svg class='icon xr-icon-file-text2'><use xlink:href='#icon-file-text2'></use></svg></label><input id='data-c19f9547-4166-43b4-a957-189aeaca56b9' class='xr-var-data-in' type='checkbox'><label for='data-c19f9547-4166-43b4-a957-189aeaca56b9' title='Show/Hide data repr'><svg class='icon xr-icon-database'><use xlink:href='#icon-database'></use></svg></label><div class='xr-var-attrs'><dl class='xr-attrs'></dl></div><div class='xr-var-data'><pre>array([-2016000., -2015970., -2015940., -2015910., -2015880., -2015850.,\n",
       "       -2015820., -2015790., -2015760., -2015730., -2015700., -2015670.,\n",
       "       -2015640., -2015610., -2015580., -2015550., -2015520.])</pre></div></li><li class='xr-var-item'><div class='xr-var-name'><span class='xr-has-index'>y</span></div><div class='xr-var-dims'>(y)</div><div class='xr-var-dtype'>float64</div><div class='xr-var-preview xr-preview'>3.015e+06 3.015e+06 ... 3.015e+06</div><input id='attrs-d9220edf-3364-42b3-903a-db19186feb6b' class='xr-var-attrs-in' type='checkbox' disabled><label for='attrs-d9220edf-3364-42b3-903a-db19186feb6b' title='Show/Hide attributes'><svg class='icon xr-icon-file-text2'><use xlink:href='#icon-file-text2'></use></svg></label><input id='data-2de92e82-88bf-47a5-825d-53b608d387db' class='xr-var-data-in' type='checkbox'><label for='data-2de92e82-88bf-47a5-825d-53b608d387db' title='Show/Hide data repr'><svg class='icon xr-icon-database'><use xlink:href='#icon-database'></use></svg></label><div class='xr-var-attrs'><dl class='xr-attrs'></dl></div><div class='xr-var-data'><pre>array([3015000., 3014970., 3014940., 3014910., 3014880., 3014850., 3014820.,\n",
       "       3014790., 3014760., 3014730., 3014700., 3014670., 3014640., 3014610.,\n",
       "       3014580., 3014550., 3014520.])</pre></div></li><li class='xr-var-item'><div class='xr-var-name'><span>spatial_ref</span></div><div class='xr-var-dims'>()</div><div class='xr-var-dtype'>int64</div><div class='xr-var-preview xr-preview'>0</div><input id='attrs-7ee130bd-eb3d-4f0d-bb82-c3c209270012' class='xr-var-attrs-in' type='checkbox' ><label for='attrs-7ee130bd-eb3d-4f0d-bb82-c3c209270012' title='Show/Hide attributes'><svg class='icon xr-icon-file-text2'><use xlink:href='#icon-file-text2'></use></svg></label><input id='data-57d10e98-6a0a-4b82-b6c8-58c5f07b3e15' class='xr-var-data-in' type='checkbox'><label for='data-57d10e98-6a0a-4b82-b6c8-58c5f07b3e15' title='Show/Hide data repr'><svg class='icon xr-icon-database'><use xlink:href='#icon-database'></use></svg></label><div class='xr-var-attrs'><dl class='xr-attrs'><dt><span>crs_wkt :</span></dt><dd>PROJCS[&quot;AEA        WGS84&quot;,GEOGCS[&quot;WGS 84&quot;,DATUM[&quot;WGS_1984&quot;,SPHEROID[&quot;WGS 84&quot;,6378137,298.257223563,AUTHORITY[&quot;EPSG&quot;,&quot;7030&quot;]],AUTHORITY[&quot;EPSG&quot;,&quot;6326&quot;]],PRIMEM[&quot;Greenwich&quot;,0],UNIT[&quot;degree&quot;,0.0174532925199433,AUTHORITY[&quot;EPSG&quot;,&quot;9122&quot;]],AUTHORITY[&quot;EPSG&quot;,&quot;4326&quot;]],PROJECTION[&quot;Albers_Conic_Equal_Area&quot;],PARAMETER[&quot;latitude_of_center&quot;,23],PARAMETER[&quot;longitude_of_center&quot;,-96],PARAMETER[&quot;standard_parallel_1&quot;,29.5],PARAMETER[&quot;standard_parallel_2&quot;,45.5],PARAMETER[&quot;false_easting&quot;,0],PARAMETER[&quot;false_northing&quot;,0],UNIT[&quot;metre&quot;,1,AUTHORITY[&quot;EPSG&quot;,&quot;9001&quot;]],AXIS[&quot;Easting&quot;,EAST],AXIS[&quot;Northing&quot;,NORTH]]</dd><dt><span>semi_major_axis :</span></dt><dd>6378137.0</dd><dt><span>semi_minor_axis :</span></dt><dd>6356752.314245179</dd><dt><span>inverse_flattening :</span></dt><dd>298.257223563</dd><dt><span>reference_ellipsoid_name :</span></dt><dd>WGS 84</dd><dt><span>longitude_of_prime_meridian :</span></dt><dd>0.0</dd><dt><span>prime_meridian_name :</span></dt><dd>Greenwich</dd><dt><span>geographic_crs_name :</span></dt><dd>WGS 84</dd><dt><span>horizontal_datum_name :</span></dt><dd>World Geodetic System 1984</dd><dt><span>projected_crs_name :</span></dt><dd>AEA        WGS84</dd><dt><span>grid_mapping_name :</span></dt><dd>albers_conical_equal_area</dd><dt><span>standard_parallel :</span></dt><dd>(29.5, 45.5)</dd><dt><span>latitude_of_projection_origin :</span></dt><dd>23.0</dd><dt><span>longitude_of_central_meridian :</span></dt><dd>-96.0</dd><dt><span>false_easting :</span></dt><dd>0.0</dd><dt><span>false_northing :</span></dt><dd>0.0</dd><dt><span>spatial_ref :</span></dt><dd>PROJCS[&quot;AEA        WGS84&quot;,GEOGCS[&quot;WGS 84&quot;,DATUM[&quot;WGS_1984&quot;,SPHEROID[&quot;WGS 84&quot;,6378137,298.257223563,AUTHORITY[&quot;EPSG&quot;,&quot;7030&quot;]],AUTHORITY[&quot;EPSG&quot;,&quot;6326&quot;]],PRIMEM[&quot;Greenwich&quot;,0],UNIT[&quot;degree&quot;,0.0174532925199433,AUTHORITY[&quot;EPSG&quot;,&quot;9122&quot;]],AUTHORITY[&quot;EPSG&quot;,&quot;4326&quot;]],PROJECTION[&quot;Albers_Conic_Equal_Area&quot;],PARAMETER[&quot;latitude_of_center&quot;,23],PARAMETER[&quot;longitude_of_center&quot;,-96],PARAMETER[&quot;standard_parallel_1&quot;,29.5],PARAMETER[&quot;standard_parallel_2&quot;,45.5],PARAMETER[&quot;false_easting&quot;,0],PARAMETER[&quot;false_northing&quot;,0],UNIT[&quot;metre&quot;,1,AUTHORITY[&quot;EPSG&quot;,&quot;9001&quot;]],AXIS[&quot;Easting&quot;,EAST],AXIS[&quot;Northing&quot;,NORTH]]</dd><dt><span>GeoTransform :</span></dt><dd>-2415585.0 30.0 0.0 3314805.0 0.0 -30.0</dd></dl></div><div class='xr-var-data'><pre>array(0)</pre></div></li></ul></div></li><li class='xr-section-item'><input id='section-20710a5f-d7a4-40f5-848e-9c58d8cbcb7a' class='xr-section-summary-in' type='checkbox'  ><label for='section-20710a5f-d7a4-40f5-848e-9c58d8cbcb7a' class='xr-section-summary' >Indexes: <span>(3)</span></label><div class='xr-section-inline-details'></div><div class='xr-section-details'><ul class='xr-var-list'><li class='xr-var-item'><div class='xr-index-name'><div>band</div></div><div class='xr-index-preview'>PandasIndex</div><input type='checkbox' disabled/><label></label><input id='index-87916037-5746-4cd2-8040-017f8aedb54e' class='xr-index-data-in' type='checkbox'/><label for='index-87916037-5746-4cd2-8040-017f8aedb54e' title='Show/Hide index repr'><svg class='icon xr-icon-database'><use xlink:href='#icon-database'></use></svg></label><div class='xr-index-data'><pre>PandasIndex(Index([1], dtype=&#x27;int64&#x27;, name=&#x27;band&#x27;))</pre></div></li><li class='xr-var-item'><div class='xr-index-name'><div>x</div></div><div class='xr-index-preview'>PandasIndex</div><input type='checkbox' disabled/><label></label><input id='index-12a339f8-c4f9-40e4-b5d8-46e7fa6852f8' class='xr-index-data-in' type='checkbox'/><label for='index-12a339f8-c4f9-40e4-b5d8-46e7fa6852f8' title='Show/Hide index repr'><svg class='icon xr-icon-database'><use xlink:href='#icon-database'></use></svg></label><div class='xr-index-data'><pre>PandasIndex(Index([-2016000.0, -2015970.0, -2015940.0, -2015910.0, -2015880.0, -2015850.0,\n",
       "       -2015820.0, -2015790.0, -2015760.0, -2015730.0, -2015700.0, -2015670.0,\n",
       "       -2015640.0, -2015610.0, -2015580.0, -2015550.0, -2015520.0],\n",
       "      dtype=&#x27;float64&#x27;, name=&#x27;x&#x27;))</pre></div></li><li class='xr-var-item'><div class='xr-index-name'><div>y</div></div><div class='xr-index-preview'>PandasIndex</div><input type='checkbox' disabled/><label></label><input id='index-f3d5e536-2763-4671-91c5-de3e71dcc56a' class='xr-index-data-in' type='checkbox'/><label for='index-f3d5e536-2763-4671-91c5-de3e71dcc56a' title='Show/Hide index repr'><svg class='icon xr-icon-database'><use xlink:href='#icon-database'></use></svg></label><div class='xr-index-data'><pre>PandasIndex(Index([3015000.0, 3014970.0, 3014940.0, 3014910.0, 3014880.0, 3014850.0,\n",
       "       3014820.0, 3014790.0, 3014760.0, 3014730.0, 3014700.0, 3014670.0,\n",
       "       3014640.0, 3014610.0, 3014580.0, 3014550.0, 3014520.0],\n",
       "      dtype=&#x27;float64&#x27;, name=&#x27;y&#x27;))</pre></div></li></ul></div></li><li class='xr-section-item'><input id='section-b4a019e1-37da-4440-bedd-e040a7ad57f8' class='xr-section-summary-in' type='checkbox'  checked><label for='section-b4a019e1-37da-4440-bedd-e040a7ad57f8' class='xr-section-summary' >Attributes: <span>(4)</span></label><div class='xr-section-inline-details'></div><div class='xr-section-details'><dl class='xr-attrs'><dt><span>AREA_OR_POINT :</span></dt><dd>Area</dd><dt><span>scale_factor :</span></dt><dd>1.0</dd><dt><span>add_offset :</span></dt><dd>0.0</dd><dt><span>_FillValue :</span></dt><dd>nan</dd></dl></div></li></ul></div></div>"
      ],
      "text/plain": [
       "<xarray.DataArray (band: 1, y: 17, x: 17)> Size: 1kB\n",
       "array([[[42., 42., ..., 42., 42.],\n",
       "        [42., 42., ..., 42., 42.],\n",
       "        ...,\n",
       "        [90., 90., ..., 42., 42.],\n",
       "        [90., 90., ..., 42., 42.]]], dtype=float32)\n",
       "Coordinates:\n",
       "  * band         (band) int64 8B 1\n",
       "  * x            (x) float64 136B -2.016e+06 -2.016e+06 ... -2.016e+06\n",
       "  * y            (y) float64 136B 3.015e+06 3.015e+06 ... 3.015e+06 3.015e+06\n",
       "    spatial_ref  int64 8B 0\n",
       "Attributes:\n",
       "    AREA_OR_POINT:  Area\n",
       "    scale_factor:   1.0\n",
       "    add_offset:     0.0\n",
       "    _FillValue:     nan"
      ]
     },
     "execution_count": 39,
     "metadata": {},
     "output_type": "execute_result"
    }
   ],
   "source": [
    "test.rio.write_nodata(-np.nan, inplace=True)"
   ]
  },
  {
   "cell_type": "code",
   "execution_count": 46,
   "id": "46449bf8-5d55-4c6c-86e4-9bba0b153733",
   "metadata": {},
   "outputs": [
    {
     "data": {
      "text/plain": [
       "CRS.from_wkt('PROJCS[\"AEA        WGS84\",GEOGCS[\"WGS 84\",DATUM[\"WGS_1984\",SPHEROID[\"WGS 84\",6378137,298.257223563,AUTHORITY[\"EPSG\",\"7030\"]],AUTHORITY[\"EPSG\",\"6326\"]],PRIMEM[\"Greenwich\",0],UNIT[\"degree\",0.0174532925199433,AUTHORITY[\"EPSG\",\"9122\"]],AUTHORITY[\"EPSG\",\"4326\"]],PROJECTION[\"Albers_Conic_Equal_Area\"],PARAMETER[\"latitude_of_center\",23],PARAMETER[\"longitude_of_center\",-96],PARAMETER[\"standard_parallel_1\",29.5],PARAMETER[\"standard_parallel_2\",45.5],PARAMETER[\"false_easting\",0],PARAMETER[\"false_northing\",0],UNIT[\"metre\",1,AUTHORITY[\"EPSG\",\"9001\"]],AXIS[\"Easting\",EAST],AXIS[\"Northing\",NORTH]]')"
      ]
     },
     "execution_count": 46,
     "metadata": {},
     "output_type": "execute_result"
    }
   ],
   "source": [
    "test.rio.crs"
   ]
  },
  {
   "cell_type": "code",
   "execution_count": 42,
   "id": "b6ee11b9-7d0e-4450-8ca6-1048b0a33c09",
   "metadata": {},
   "outputs": [
    {
     "data": {
      "text/plain": [
       "<matplotlib.collections.QuadMesh at 0x79f5ca7bdc70>"
      ]
     },
     "execution_count": 42,
     "metadata": {},
     "output_type": "execute_result"
    },
    {
     "data": {
      "image/png": "[encoded data removed]",
      "text/plain": [
       "<Figure size 640x480 with 2 Axes>"
      ]
     },
     "metadata": {},
     "output_type": "display_data"
    }
   ],
   "source": [
    "test.plot()"
   ]
  },
  {
   "cell_type": "code",
   "execution_count": 45,
   "id": "655890b3-1b9c-444d-bc89-bb891538f0fe",
   "metadata": {},
   "outputs": [
    {
     "data": {
      "text/plain": [
       "<matplotlib.collections.QuadMesh at 0x79f5c13b8170>"
      ]
     },
     "execution_count": 45,
     "metadata": {},
     "output_type": "execute_result"
    },
    {
     "data": {
      "image/png": "[encoded data removed]",
      "text/plain": [
       "<Figure size 640x480 with 2 Axes>"
      ]
     },
     "metadata": {},
     "output_type": "display_data"
    }
   ],
   "source": [
    "test.rio.reproject('EPSG:3857').plot()"
   ]
  },
  {
   "cell_type": "code",
   "execution_count": 43,
   "id": "c121b5f1-00c5-4aff-a164-253b4c95cf58",
   "metadata": {},
   "outputs": [
    {
     "data": {
      "text/plain": [
       "<matplotlib.collections.QuadMesh at 0x79f5c13b8fb0>"
      ]
     },
     "execution_count": 43,
     "metadata": {},
     "output_type": "execute_result"
    },
    {
     "data": {
      "image/png": "[encoded data removed]",
      "text/plain": [
       "<Figure size 640x480 with 2 Axes>"
      ]
     },
     "metadata": {},
     "output_type": "display_data"
    }
   ],
   "source": [
    "test.rio.reproject('EPSG:4269').plot()"
   ]
  },
  {
   "cell_type": "code",
   "execution_count": null,
   "id": "a58f436b-59b6-4350-ad51-b9fae860c5bd",
   "metadata": {},
   "outputs": [],
   "source": [
    "# nlcd.sel(x=slice(-2417000, -2418000), y=slice(3315000, 3316000))"
   ]
  },
  {
   "cell_type": "code",
   "execution_count": null,
   "id": "d70bb346-09dd-409e-a3c2-ec78ad674025",
   "metadata": {},
   "outputs": [],
   "source": [
    "nlcd_new = nlcd.rio.reproject('EPSG:4269')"
   ]
  },
  {
   "cell_type": "code",
   "execution_count": null,
   "id": "453b4dab-67f8-4ad5-b677-72e89a19ace8",
   "metadata": {},
   "outputs": [],
   "source": [
    "nlcd.rio.crs"
   ]
  },
  {
   "cell_type": "code",
   "execution_count": null,
   "id": "c022a9ab-252f-465b-9282-3c14560b4886",
   "metadata": {},
   "outputs": [],
   "source": [
    "nlcd_new.rio.crs"
   ]
  },
  {
   "cell_type": "code",
   "execution_count": null,
   "id": "ad9a1ca6-7bb4-429c-a650-5606bae412b3",
   "metadata": {},
   "outputs": [],
   "source": []
  },
  {
   "cell_type": "code",
   "execution_count": null,
   "id": "b9d5e3fb-9f71-4324-ba53-1f25e9207ee8",
   "metadata": {},
   "outputs": [],
   "source": [
    "test = nlcd_new.sel(x=slice(-129.2, -100), y=slice(52.92, 50))"
   ]
  },
  {
   "cell_type": "code",
   "execution_count": null,
   "id": "028510df-4a97-4179-a877-f7758f8a4681",
   "metadata": {},
   "outputs": [],
   "source": [
    "np.unique(test)"
   ]
  },
  {
   "cell_type": "code",
   "execution_count": null,
   "id": "cb108c9e-4fa8-4ee3-9646-592a93aacc42",
   "metadata": {},
   "outputs": [],
   "source": [
    "plt.imshow(test, cmap='tab20')\n",
    "plt.colorbar()"
   ]
  },
  {
   "cell_type": "markdown",
   "id": "61334ffb-5233-4a54-9864-c5c109e9a2ee",
   "metadata": {
    "tags": []
   },
   "source": [
    "### Project NLCD"
   ]
  },
  {
   "cell_type": "code",
   "execution_count": null,
   "id": "3c025635-f025-43f4-929d-8dc013a359d9",
   "metadata": {},
   "outputs": [],
   "source": [
    "nhd = gpd.read_file(filename='/nas/cee-water/cjgleason/fiona/narrow_rivers_PIXC_data/NHDPLUS_H_0101_HU4_GDB_prepped_buffered_max_TEST.json',\n",
    "                    columns=['NHDPlusID', 'geometry'])"
   ]
  },
  {
   "cell_type": "code",
   "execution_count": null,
   "id": "cba1d167-8351-4f11-b5f2-61183d720c6d",
   "metadata": {},
   "outputs": [],
   "source": [
    "# bounds = nhd.total_bounds\n",
    "# bbox = box(bounds[0], bounds[1], bounds[2], bounds[3])\n",
    "# geo = gpd.GeoDataFrame({'geometry': [bbox]}, crs=\"EPSG:4326\") # WGS 84"
   ]
  },
  {
   "cell_type": "code",
   "execution_count": 80,
   "id": "339f9fee-796a-4058-a25d-896c28afc350",
   "metadata": {},
   "outputs": [],
   "source": [
    "nlcd_path = '/nas/cee-water/cjgleason/data/NLCD/Annual_NLCD_LndCov_2023_CU_C1V0.tif'"
   ]
  },
  {
   "cell_type": "code",
   "execution_count": null,
   "id": "58a78b4b-090c-426b-99a7-876deec3a05b",
   "metadata": {},
   "outputs": [],
   "source": [
    "# with rasterio.open(nlcd_path) as raster:\n",
    "#     nhd = nhd.to_crs(raster.crs)"
   ]
  },
  {
   "cell_type": "code",
   "execution_count": null,
   "id": "3549955c-ac37-4eba-8117-a8a1e8e81fb1",
   "metadata": {},
   "outputs": [],
   "source": [
    "# raster"
   ]
  },
  {
   "cell_type": "code",
   "execution_count": 81,
   "id": "34d5266e-6635-4684-94a5-0d0a61a588ff",
   "metadata": {},
   "outputs": [],
   "source": [
    "nlcd = rxr.open_rasterio(nlcd_path, masked=True)"
   ]
  },
  {
   "cell_type": "code",
   "execution_count": 59,
   "id": "6034aeb4-5641-4d3b-a313-b8718df2f554",
   "metadata": {},
   "outputs": [
    {
     "data": {
      "text/plain": [
       "CRS.from_wkt('PROJCS[\"AEA        WGS84\",GEOGCS[\"WGS 84\",DATUM[\"WGS_1984\",SPHEROID[\"WGS 84\",6378137,298.257223563,AUTHORITY[\"EPSG\",\"7030\"]],AUTHORITY[\"EPSG\",\"6326\"]],PRIMEM[\"Greenwich\",0],UNIT[\"degree\",0.0174532925199433,AUTHORITY[\"EPSG\",\"9122\"]],AUTHORITY[\"EPSG\",\"4326\"]],PROJECTION[\"Albers_Conic_Equal_Area\"],PARAMETER[\"latitude_of_center\",23],PARAMETER[\"longitude_of_center\",-96],PARAMETER[\"standard_parallel_1\",29.5],PARAMETER[\"standard_parallel_2\",45.5],PARAMETER[\"false_easting\",0],PARAMETER[\"false_northing\",0],UNIT[\"metre\",1,AUTHORITY[\"EPSG\",\"9001\"]],AXIS[\"Easting\",EAST],AXIS[\"Northing\",NORTH]]')"
      ]
     },
     "execution_count": 59,
     "metadata": {},
     "output_type": "execute_result"
    }
   ],
   "source": [
    "nlcd.rio.crs"
   ]
  },
  {
   "cell_type": "code",
   "execution_count": 60,
   "id": "2a456f5b-abc3-4c35-88b6-b0e2baf0cc6d",
   "metadata": {},
   "outputs": [
    {
     "data": {
      "text/plain": [
       "'PROJCS[\"AEA        WGS84\",GEOGCS[\"WGS 84\",DATUM[\"WGS_1984\",SPHEROID[\"WGS 84\",6378137,298.257223563,AUTHORITY[\"EPSG\",\"7030\"]],AUTHORITY[\"EPSG\",\"6326\"]],PRIMEM[\"Greenwich\",0],UNIT[\"degree\",0.0174532925199433,AUTHORITY[\"EPSG\",\"9122\"]],AUTHORITY[\"EPSG\",\"4326\"]],PROJECTION[\"Albers_Conic_Equal_Area\"],PARAMETER[\"latitude_of_center\",23],PARAMETER[\"longitude_of_center\",-96],PARAMETER[\"standard_parallel_1\",29.5],PARAMETER[\"standard_parallel_2\",45.5],PARAMETER[\"false_easting\",0],PARAMETER[\"false_northing\",0],UNIT[\"metre\",1,AUTHORITY[\"EPSG\",\"9001\"]],AXIS[\"Easting\",EAST],AXIS[\"Northing\",NORTH]]'"
      ]
     },
     "execution_count": 60,
     "metadata": {},
     "output_type": "execute_result"
    }
   ],
   "source": [
    "nlcd_crs"
   ]
  },
  {
   "cell_type": "code",
   "execution_count": 54,
   "id": "7217eec6-49a6-4c31-aaab-0d711511285e",
   "metadata": {},
   "outputs": [],
   "source": [
    "nlcd_crs = nlcd.rio.crs"
   ]
  },
  {
   "cell_type": "code",
   "execution_count": 56,
   "id": "b123191b-87af-4e0e-acdf-96d189e93a58",
   "metadata": {},
   "outputs": [],
   "source": [
    "nlcd_crs = str(nlcd_crs)"
   ]
  },
  {
   "cell_type": "code",
   "execution_count": 57,
   "id": "3a5d0f72-f486-4e90-89ba-34d851289c3b",
   "metadata": {},
   "outputs": [
    {
     "data": {
      "text/plain": [
       "'PROJCS[\"AEA        WGS84\",GEOGCS[\"WGS 84\",DATUM[\"WGS_1984\",SPHEROID[\"WGS 84\",6378137,298.257223563,AUTHORITY[\"EPSG\",\"7030\"]],AUTHORITY[\"EPSG\",\"6326\"]],PRIMEM[\"Greenwich\",0],UNIT[\"degree\",0.0174532925199433,AUTHORITY[\"EPSG\",\"9122\"]],AUTHORITY[\"EPSG\",\"4326\"]],PROJECTION[\"Albers_Conic_Equal_Area\"],PARAMETER[\"latitude_of_center\",23],PARAMETER[\"longitude_of_center\",-96],PARAMETER[\"standard_parallel_1\",29.5],PARAMETER[\"standard_parallel_2\",45.5],PARAMETER[\"false_easting\",0],PARAMETER[\"false_northing\",0],UNIT[\"metre\",1,AUTHORITY[\"EPSG\",\"9001\"]],AXIS[\"Easting\",EAST],AXIS[\"Northing\",NORTH]]'"
      ]
     },
     "execution_count": 57,
     "metadata": {},
     "output_type": "execute_result"
    }
   ],
   "source": [
    "nlcd_crs"
   ]
  },
  {
   "cell_type": "code",
   "execution_count": 58,
   "id": "a7f13bc6-32e9-451c-9832-2c6acebdf53f",
   "metadata": {},
   "outputs": [
    {
     "ename": "NameError",
     "evalue": "name 'nhd' is not defined",
     "output_type": "error",
     "traceback": [
      "\u001b[0;31m---------------------------------------------------------------------------\u001b[0m",
      "\u001b[0;31mNameError\u001b[0m                                 Traceback (most recent call last)",
      "Cell \u001b[0;32mIn[58], line 1\u001b[0m\n\u001b[0;32m----> 1\u001b[0m nhd \u001b[38;5;241m=\u001b[39m \u001b[43mnhd\u001b[49m\u001b[38;5;241m.\u001b[39mto_crs(nlcd_crs)\n",
      "\u001b[0;31mNameError\u001b[0m: name 'nhd' is not defined"
     ]
    }
   ],
   "source": [
    "nhd = nhd.to_crs(nlcd_crs)"
   ]
  },
  {
   "cell_type": "code",
   "execution_count": null,
   "id": "4c77ab40-d75f-4691-a2af-12e33df78893",
   "metadata": {},
   "outputs": [],
   "source": [
    "# target_crs = CRS.from_string('EPSG:4326')"
   ]
  },
  {
   "cell_type": "code",
   "execution_count": null,
   "id": "0db67d8b-c573-41f1-9150-4f31cb27a0b9",
   "metadata": {},
   "outputs": [],
   "source": [
    "# nlcd_reproj = nlcd.rio.reproject(target_crs)"
   ]
  },
  {
   "cell_type": "markdown",
   "id": "896a8ab4-b718-43dd-b5e3-7c46f1808246",
   "metadata": {},
   "source": [
    "### Testing exactextract"
   ]
  },
  {
   "cell_type": "code",
   "execution_count": 63,
   "id": "e4635942-060b-4431-94e6-21804c74e1fc",
   "metadata": {},
   "outputs": [],
   "source": [
    "rast = '/nas/cee-water/cjgleason/data/NLCD/Annual_NLCD_LndCov_2023_CU_C1V0.tif'\n",
    "polys = '/nas/cee-water/cjgleason/fiona/narrow_rivers_PIXC_data/NHD_prepped_buffered_json/HUC2_01/NHDPLUS_H_0101_HU4_GDB_prepped_buffered_min.json'\n",
    "# old_polys = '/nas/cee-water/cjgleason/fiona/narrow_rivers_PIXC_data/NHD_prepped_buffered/HUC2_01/NHDPLUS_H_0101_HU4_GDB_prepped_buffered_min.parquet'"
   ]
  },
  {
   "cell_type": "code",
   "execution_count": 64,
   "id": "c08527f5-e9f0-4134-ab93-825031bdbe95",
   "metadata": {},
   "outputs": [
    {
     "name": "stderr",
     "output_type": "stream",
     "text": [
      "/work/pi_cjgleason_umass_edu/.conda/envs/narrowPIXC/lib/python3.12/site-packages/exactextract/exact_extract.py:330: RuntimeWarning: Spatial reference system of input features does not exactly match raster.\n",
      "  warnings.warn(\n"
     ]
    },
    {
     "data": {
      "text/html": [
       "<div>\n",
       "<style scoped>\n",
       "    .dataframe tbody tr th:only-of-type {\n",
       "        vertical-align: middle;\n",
       "    }\n",
       "\n",
       "    .dataframe tbody tr th {\n",
       "        vertical-align: top;\n",
       "    }\n",
       "\n",
       "    .dataframe thead th {\n",
       "        text-align: right;\n",
       "    }\n",
       "</style>\n",
       "<table border=\"1\" class=\"dataframe\">\n",
       "  <thead>\n",
       "    <tr style=\"text-align: right;\">\n",
       "      <th></th>\n",
       "      <th>NHDPlusID</th>\n",
       "      <th>variety</th>\n",
       "      <th>mode</th>\n",
       "      <th>minority</th>\n",
       "    </tr>\n",
       "  </thead>\n",
       "  <tbody>\n",
       "    <tr>\n",
       "      <th>0</th>\n",
       "      <td>5.000100e+12</td>\n",
       "      <td>3</td>\n",
       "      <td>90.0</td>\n",
       "      <td>21.0</td>\n",
       "    </tr>\n",
       "    <tr>\n",
       "      <th>1</th>\n",
       "      <td>5.000100e+12</td>\n",
       "      <td>4</td>\n",
       "      <td>81.0</td>\n",
       "      <td>21.0</td>\n",
       "    </tr>\n",
       "    <tr>\n",
       "      <th>2</th>\n",
       "      <td>5.000100e+12</td>\n",
       "      <td>5</td>\n",
       "      <td>90.0</td>\n",
       "      <td>81.0</td>\n",
       "    </tr>\n",
       "    <tr>\n",
       "      <th>3</th>\n",
       "      <td>5.000100e+12</td>\n",
       "      <td>7</td>\n",
       "      <td>11.0</td>\n",
       "      <td>90.0</td>\n",
       "    </tr>\n",
       "    <tr>\n",
       "      <th>4</th>\n",
       "      <td>5.000100e+12</td>\n",
       "      <td>4</td>\n",
       "      <td>11.0</td>\n",
       "      <td>71.0</td>\n",
       "    </tr>\n",
       "    <tr>\n",
       "      <th>...</th>\n",
       "      <td>...</td>\n",
       "      <td>...</td>\n",
       "      <td>...</td>\n",
       "      <td>...</td>\n",
       "    </tr>\n",
       "    <tr>\n",
       "      <th>14481</th>\n",
       "      <td>5.000100e+12</td>\n",
       "      <td>1</td>\n",
       "      <td>90.0</td>\n",
       "      <td>90.0</td>\n",
       "    </tr>\n",
       "    <tr>\n",
       "      <th>14482</th>\n",
       "      <td>5.000100e+12</td>\n",
       "      <td>3</td>\n",
       "      <td>90.0</td>\n",
       "      <td>43.0</td>\n",
       "    </tr>\n",
       "    <tr>\n",
       "      <th>14483</th>\n",
       "      <td>5.000100e+12</td>\n",
       "      <td>7</td>\n",
       "      <td>90.0</td>\n",
       "      <td>95.0</td>\n",
       "    </tr>\n",
       "    <tr>\n",
       "      <th>14484</th>\n",
       "      <td>5.000100e+12</td>\n",
       "      <td>3</td>\n",
       "      <td>42.0</td>\n",
       "      <td>43.0</td>\n",
       "    </tr>\n",
       "    <tr>\n",
       "      <th>14485</th>\n",
       "      <td>5.000100e+12</td>\n",
       "      <td>4</td>\n",
       "      <td>43.0</td>\n",
       "      <td>52.0</td>\n",
       "    </tr>\n",
       "  </tbody>\n",
       "</table>\n",
       "<p>14486 rows × 4 columns</p>\n",
       "</div>"
      ],
      "text/plain": [
       "          NHDPlusID  variety  mode  minority\n",
       "0      5.000100e+12        3  90.0      21.0\n",
       "1      5.000100e+12        4  81.0      21.0\n",
       "2      5.000100e+12        5  90.0      81.0\n",
       "3      5.000100e+12        7  11.0      90.0\n",
       "4      5.000100e+12        4  11.0      71.0\n",
       "...             ...      ...   ...       ...\n",
       "14481  5.000100e+12        1  90.0      90.0\n",
       "14482  5.000100e+12        3  90.0      43.0\n",
       "14483  5.000100e+12        7  90.0      95.0\n",
       "14484  5.000100e+12        3  42.0      43.0\n",
       "14485  5.000100e+12        4  43.0      52.0\n",
       "\n",
       "[14486 rows x 4 columns]"
      ]
     },
     "execution_count": 64,
     "metadata": {},
     "output_type": "execute_result"
    }
   ],
   "source": [
    "exact_extract(rast=rast, vec=polys, ops=['frac', 'variety', 'mode', 'minority'], include_cols=[\"NHDPlusID\"], output='pandas')"
   ]
  },
  {
   "cell_type": "markdown",
   "id": "3bc986c7-f16c-45c9-bd61-3ec7c1991d7f",
   "metadata": {},
   "source": [
    "### Confirm this matches what we would get reprojecting here"
   ]
  },
  {
   "cell_type": "code",
   "execution_count": 93,
   "id": "fc19d115-8e8b-482f-9d77-1bf03a9d2d3d",
   "metadata": {},
   "outputs": [],
   "source": [
    "nhd = gpd.read_file(filename=polys)"
   ]
  },
  {
   "cell_type": "code",
   "execution_count": 95,
   "id": "29bd794d-0cc2-4964-9b03-7fdda7e2b069",
   "metadata": {},
   "outputs": [],
   "source": [
    "nlcd_crs = nlcd.rio.crs"
   ]
  },
  {
   "cell_type": "code",
   "execution_count": 96,
   "id": "b9b20edb-2d38-422f-8fb2-c4b58ec47acd",
   "metadata": {},
   "outputs": [],
   "source": [
    "nlcd_crs = str(nlcd_crs)"
   ]
  },
  {
   "cell_type": "code",
   "execution_count": 97,
   "id": "aa6e22de-1b31-4502-a166-5afd6dff6875",
   "metadata": {},
   "outputs": [],
   "source": [
    "nhd = nhd.to_crs(nlcd_crs)"
   ]
  },
  {
   "cell_type": "code",
   "execution_count": null,
   "id": "f7434ac5-517a-4e12-9283-e44fd8493718",
   "metadata": {},
   "outputs": [],
   "source": [
    "# bounds = nhd.total_bounds\n",
    "# bbox = box(bounds[0], bounds[1], bounds[2], bounds[3])\n",
    "# geo = gpd.GeoDataFrame({'geometry': [bbox]}, crs=\"EPSG:4326\") # WGS 84"
   ]
  },
  {
   "cell_type": "code",
   "execution_count": 102,
   "id": "33d06a32-e0a1-4420-aa02-3a9614302a5d",
   "metadata": {},
   "outputs": [],
   "source": [
    "with rasterio.open(nlcd_path) as raster:\n",
    "    test = exact_extract(rast=raster, vec=nhd, ops=['unique', 'frac', 'variety', 'mode', 'minority'], include_cols=[\"NHDPlusID\"], output='pandas')"
   ]
  },
  {
   "cell_type": "code",
   "execution_count": 103,
   "id": "49976c22-f133-47e7-94f2-fd15d86d529e",
   "metadata": {},
   "outputs": [
    {
     "data": {
      "text/html": [
       "<div>\n",
       "<style scoped>\n",
       "    .dataframe tbody tr th:only-of-type {\n",
       "        vertical-align: middle;\n",
       "    }\n",
       "\n",
       "    .dataframe tbody tr th {\n",
       "        vertical-align: top;\n",
       "    }\n",
       "\n",
       "    .dataframe thead th {\n",
       "        text-align: right;\n",
       "    }\n",
       "</style>\n",
       "<table border=\"1\" class=\"dataframe\">\n",
       "  <thead>\n",
       "    <tr style=\"text-align: right;\">\n",
       "      <th></th>\n",
       "      <th>NHDPlusID</th>\n",
       "      <th>variety</th>\n",
       "      <th>mode</th>\n",
       "      <th>majority</th>\n",
       "      <th>minority</th>\n",
       "    </tr>\n",
       "  </thead>\n",
       "  <tbody>\n",
       "    <tr>\n",
       "      <th>0</th>\n",
       "      <td>5.000100e+12</td>\n",
       "      <td>3</td>\n",
       "      <td>90.0</td>\n",
       "      <td>90.0</td>\n",
       "      <td>21.0</td>\n",
       "    </tr>\n",
       "    <tr>\n",
       "      <th>1</th>\n",
       "      <td>5.000100e+12</td>\n",
       "      <td>4</td>\n",
       "      <td>81.0</td>\n",
       "      <td>81.0</td>\n",
       "      <td>21.0</td>\n",
       "    </tr>\n",
       "    <tr>\n",
       "      <th>2</th>\n",
       "      <td>5.000100e+12</td>\n",
       "      <td>5</td>\n",
       "      <td>90.0</td>\n",
       "      <td>90.0</td>\n",
       "      <td>81.0</td>\n",
       "    </tr>\n",
       "    <tr>\n",
       "      <th>3</th>\n",
       "      <td>5.000100e+12</td>\n",
       "      <td>7</td>\n",
       "      <td>11.0</td>\n",
       "      <td>11.0</td>\n",
       "      <td>90.0</td>\n",
       "    </tr>\n",
       "    <tr>\n",
       "      <th>4</th>\n",
       "      <td>5.000100e+12</td>\n",
       "      <td>4</td>\n",
       "      <td>11.0</td>\n",
       "      <td>11.0</td>\n",
       "      <td>71.0</td>\n",
       "    </tr>\n",
       "    <tr>\n",
       "      <th>...</th>\n",
       "      <td>...</td>\n",
       "      <td>...</td>\n",
       "      <td>...</td>\n",
       "      <td>...</td>\n",
       "      <td>...</td>\n",
       "    </tr>\n",
       "    <tr>\n",
       "      <th>14481</th>\n",
       "      <td>5.000100e+12</td>\n",
       "      <td>1</td>\n",
       "      <td>90.0</td>\n",
       "      <td>90.0</td>\n",
       "      <td>90.0</td>\n",
       "    </tr>\n",
       "    <tr>\n",
       "      <th>14482</th>\n",
       "      <td>5.000100e+12</td>\n",
       "      <td>3</td>\n",
       "      <td>90.0</td>\n",
       "      <td>90.0</td>\n",
       "      <td>43.0</td>\n",
       "    </tr>\n",
       "    <tr>\n",
       "      <th>14483</th>\n",
       "      <td>5.000100e+12</td>\n",
       "      <td>7</td>\n",
       "      <td>90.0</td>\n",
       "      <td>90.0</td>\n",
       "      <td>95.0</td>\n",
       "    </tr>\n",
       "    <tr>\n",
       "      <th>14484</th>\n",
       "      <td>5.000100e+12</td>\n",
       "      <td>3</td>\n",
       "      <td>42.0</td>\n",
       "      <td>42.0</td>\n",
       "      <td>43.0</td>\n",
       "    </tr>\n",
       "    <tr>\n",
       "      <th>14485</th>\n",
       "      <td>5.000100e+12</td>\n",
       "      <td>4</td>\n",
       "      <td>43.0</td>\n",
       "      <td>43.0</td>\n",
       "      <td>52.0</td>\n",
       "    </tr>\n",
       "  </tbody>\n",
       "</table>\n",
       "<p>14486 rows × 5 columns</p>\n",
       "</div>"
      ],
      "text/plain": [
       "          NHDPlusID  variety  mode  majority  minority\n",
       "0      5.000100e+12        3  90.0      90.0      21.0\n",
       "1      5.000100e+12        4  81.0      81.0      21.0\n",
       "2      5.000100e+12        5  90.0      90.0      81.0\n",
       "3      5.000100e+12        7  11.0      11.0      90.0\n",
       "4      5.000100e+12        4  11.0      11.0      71.0\n",
       "...             ...      ...   ...       ...       ...\n",
       "14481  5.000100e+12        1  90.0      90.0      90.0\n",
       "14482  5.000100e+12        3  90.0      90.0      43.0\n",
       "14483  5.000100e+12        7  90.0      90.0      95.0\n",
       "14484  5.000100e+12        3  42.0      42.0      43.0\n",
       "14485  5.000100e+12        4  43.0      43.0      52.0\n",
       "\n",
       "[14486 rows x 5 columns]"
      ]
     },
     "execution_count": 103,
     "metadata": {},
     "output_type": "execute_result"
    }
   ],
   "source": [
    "test"
   ]
  },
  {
   "cell_type": "markdown",
   "id": "4da18a60-1c64-4276-afcf-5df7713aacbb",
   "metadata": {},
   "source": [
    "### Land Cover"
   ]
  },
  {
   "cell_type": "code",
   "execution_count": null,
   "id": "5b640adf-52a2-43ca-9879-3784d922202b",
   "metadata": {},
   "outputs": [],
   "source": [
    "tif_path = '/nas/cee-water/cjgleason/data/NLCD/Annual_NLCD_LndCov_2023_CU_C1V0.tif'\n",
    "poly_path = '/nas/cee-water/cjgleason/fiona/narrow_rivers_PIXC_data/all_wbd_no_great_lakes.parquet/'"
   ]
  },
  {
   "cell_type": "code",
   "execution_count": null,
   "id": "832cdd14-ef31-44c8-bfb1-8d6be7d7cc1f",
   "metadata": {
    "tags": []
   },
   "outputs": [],
   "source": [
    "# Read the raster data\n",
    "with rasterio.open(tif_path) as src:\n",
    "    print(src.crs)\n",
    "    raster_img = src.read(1)\n",
    "    raster_profile = src.profile"
   ]
  },
  {
   "cell_type": "code",
   "execution_count": null,
   "id": "52db5b41-ae7d-4b8a-80a4-219b9b6aeba7",
   "metadata": {},
   "outputs": [],
   "source": [
    "raster_profile"
   ]
  },
  {
   "cell_type": "code",
   "execution_count": null,
   "id": "71c17b27-9f7b-40e5-a925-d50655b6f260",
   "metadata": {},
   "outputs": [],
   "source": [
    "test = raster_img[10000:11000, 10000:11000]"
   ]
  },
  {
   "cell_type": "code",
   "execution_count": null,
   "id": "8b25baa2-26a9-44e0-8419-c84df9edae5f",
   "metadata": {},
   "outputs": [],
   "source": [
    "test"
   ]
  },
  {
   "cell_type": "code",
   "execution_count": null,
   "id": "f2591612-6080-4063-b5d8-ad6ff0a90663",
   "metadata": {},
   "outputs": [],
   "source": [
    "np.unique(test)"
   ]
  },
  {
   "cell_type": "code",
   "execution_count": null,
   "id": "383d6465-3f4c-48ef-962b-18aa45040a46",
   "metadata": {},
   "outputs": [],
   "source": [
    "plt.imshow(test, cmap='tab20')\n",
    "plt.colorbar()"
   ]
  },
  {
   "cell_type": "code",
   "execution_count": null,
   "id": "3889994f-5bef-46f4-9b19-dc0ad330e6ad",
   "metadata": {},
   "outputs": [],
   "source": [
    "wbd = gpd.read_parquet(poly_path)"
   ]
  },
  {
   "cell_type": "code",
   "execution_count": null,
   "id": "3c109c7e-3b85-4a13-8615-5091f4b368e4",
   "metadata": {},
   "outputs": [],
   "source": [
    "temp = wbd.iloc[[0]]"
   ]
  },
  {
   "cell_type": "code",
   "execution_count": null,
   "id": "4059b4da-caef-4169-bd85-8ca78da9c104",
   "metadata": {},
   "outputs": [],
   "source": [
    "if temp.crs != raster_profile['crs']:\n",
    "    temp = temp.to_crs(raster_profile['crs'])"
   ]
  },
  {
   "cell_type": "code",
   "execution_count": null,
   "id": "003d56c7-d96c-4e87-a626-54833c9d42f9",
   "metadata": {},
   "outputs": [],
   "source": [
    "geoms = [shapes for shapes in temp.geometry]"
   ]
  },
  {
   "cell_type": "code",
   "execution_count": null,
   "id": "b933cf4a-48fd-4391-b3c8-f57d52ec675b",
   "metadata": {},
   "outputs": [],
   "source": [
    "pwd"
   ]
  },
  {
   "cell_type": "code",
   "execution_count": null,
   "id": "a9052bbf-9de2-40f0-bd8c-880beb19bba1",
   "metadata": {},
   "outputs": [],
   "source": [
    "with rasterio.open('../narrow_rivers_PIXC_data/clipped_raster.tif', 'w', **raster_profile) as dest:\n",
    "        out_image, out_transform = mask(dataset=raster_img, shapes=geoms, crop=True)\n",
    "        dest.write(out_image, 1)"
   ]
  }
 ],
 "metadata": {
  "kernelspec": {
   "display_name": "Python [conda env:.conda-narrowPIXC]",
   "language": "python",
   "name": "conda-env-.conda-narrowPIXC-py"
  },
  "language_info": {
   "codemirror_mode": {
    "name": "ipython",
    "version": 3
   },
   "file_extension": ".py",
   "mimetype": "text/x-python",
   "name": "python",
   "nbconvert_exporter": "python",
   "pygments_lexer": "ipython3",
   "version": "3.12.4"
  }
 },
 "nbformat": 4,
 "nbformat_minor": 5
}
