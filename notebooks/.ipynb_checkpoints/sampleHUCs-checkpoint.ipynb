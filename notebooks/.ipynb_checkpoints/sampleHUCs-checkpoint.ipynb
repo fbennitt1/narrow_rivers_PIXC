{
 "cells": [
  {
   "cell_type": "code",
   "execution_count": 1,
   "id": "9c144e47-aa40-4ac9-8707-4f4a57a18454",
   "metadata": {},
   "outputs": [
    {
     "name": "stderr",
     "output_type": "stream",
     "text": [
      "/work/pi_cjgleason_umass_edu/.conda/envs/narrowPIXC/lib/python3.12/site-packages/tqdm/auto.py:21: TqdmWarning: IProgress not found. Please update jupyter and ipywidgets. See https://ipywidgets.readthedocs.io/en/stable/user_install.html\n",
      "  from .autonotebook import tqdm as notebook_tqdm\n"
     ]
    }
   ],
   "source": [
    "from datetime import datetime\n",
    "import earthaccess\n",
    "import geopandas as gpd\n",
    "import matplotlib.pyplot as plt\n",
    "import numpy as np\n",
    "import os\n",
    "import pandas as pd"
   ]
  },
  {
   "cell_type": "code",
   "execution_count": 2,
   "id": "0322a893-5ea3-4173-aff6-58b113e3fed9",
   "metadata": {},
   "outputs": [],
   "source": [
    "mdata_path = '/nas/cee-water/cjgleason/fiona/narrow_rivers_PIXC/data/'"
   ]
  },
  {
   "cell_type": "code",
   "execution_count": 3,
   "id": "caa49800-8766-457a-9429-ad6ee8823356",
   "metadata": {},
   "outputs": [],
   "source": [
    "# Define dtypes for lookup tables to preserve leading zeros\n",
    "dtype_dic= {'HUC4': str, 'HUC2': str, 'toBasin': str, 'level': str}\n",
    "\n",
    "# Read in HUC lookup table\n",
    "lookup = pd.read_csv(os.path.join(mdata_path, 'HUC4_lookup_no_great_lakes.csv'), dtype=dtype_dic)"
   ]
  },
  {
   "cell_type": "code",
   "execution_count": 4,
   "id": "8d20eb3b-172a-48b8-b017-089a321524df",
   "metadata": {},
   "outputs": [
    {
     "data": {
      "text/html": [
       "<div>\n",
       "<style scoped>\n",
       "    .dataframe tbody tr th:only-of-type {\n",
       "        vertical-align: middle;\n",
       "    }\n",
       "\n",
       "    .dataframe tbody tr th {\n",
       "        vertical-align: top;\n",
       "    }\n",
       "\n",
       "    .dataframe thead th {\n",
       "        text-align: right;\n",
       "    }\n",
       "</style>\n",
       "<table border=\"1\" class=\"dataframe\">\n",
       "  <thead>\n",
       "    <tr style=\"text-align: right;\">\n",
       "      <th></th>\n",
       "      <th>slurm_index</th>\n",
       "      <th>HUC4</th>\n",
       "      <th>HUC2</th>\n",
       "      <th>toBasin</th>\n",
       "      <th>level</th>\n",
       "    </tr>\n",
       "  </thead>\n",
       "  <tbody>\n",
       "    <tr>\n",
       "      <th>120</th>\n",
       "      <td>120</td>\n",
       "      <td>0103</td>\n",
       "      <td>01</td>\n",
       "      <td>0105</td>\n",
       "      <td>0</td>\n",
       "    </tr>\n",
       "    <tr>\n",
       "      <th>122</th>\n",
       "      <td>122</td>\n",
       "      <td>0207</td>\n",
       "      <td>02</td>\n",
       "      <td>0208</td>\n",
       "      <td>0</td>\n",
       "    </tr>\n",
       "    <tr>\n",
       "      <th>13</th>\n",
       "      <td>13</td>\n",
       "      <td>0303</td>\n",
       "      <td>03</td>\n",
       "      <td>NaN</td>\n",
       "      <td>0</td>\n",
       "    </tr>\n",
       "    <tr>\n",
       "      <th>126</th>\n",
       "      <td>126</td>\n",
       "      <td>0420</td>\n",
       "      <td>04</td>\n",
       "      <td>0424</td>\n",
       "      <td>2</td>\n",
       "    </tr>\n",
       "    <tr>\n",
       "      <th>33</th>\n",
       "      <td>33</td>\n",
       "      <td>0503</td>\n",
       "      <td>05</td>\n",
       "      <td>0509</td>\n",
       "      <td>1</td>\n",
       "    </tr>\n",
       "    <tr>\n",
       "      <th>37</th>\n",
       "      <td>37</td>\n",
       "      <td>0603</td>\n",
       "      <td>06</td>\n",
       "      <td>0604</td>\n",
       "      <td>2</td>\n",
       "    </tr>\n",
       "    <tr>\n",
       "      <th>134</th>\n",
       "      <td>134</td>\n",
       "      <td>0707</td>\n",
       "      <td>07</td>\n",
       "      <td>0706</td>\n",
       "      <td>0</td>\n",
       "    </tr>\n",
       "    <tr>\n",
       "      <th>52</th>\n",
       "      <td>52</td>\n",
       "      <td>0807</td>\n",
       "      <td>08</td>\n",
       "      <td>0809</td>\n",
       "      <td>17</td>\n",
       "    </tr>\n",
       "    <tr>\n",
       "      <th>54</th>\n",
       "      <td>54</td>\n",
       "      <td>0902</td>\n",
       "      <td>09</td>\n",
       "      <td>NaN</td>\n",
       "      <td>0</td>\n",
       "    </tr>\n",
       "    <tr>\n",
       "      <th>142</th>\n",
       "      <td>142</td>\n",
       "      <td>1005</td>\n",
       "      <td>10</td>\n",
       "      <td>1006</td>\n",
       "      <td>0</td>\n",
       "    </tr>\n",
       "    <tr>\n",
       "      <th>73</th>\n",
       "      <td>73</td>\n",
       "      <td>1108</td>\n",
       "      <td>11</td>\n",
       "      <td>1109</td>\n",
       "      <td>0</td>\n",
       "    </tr>\n",
       "    <tr>\n",
       "      <th>155</th>\n",
       "      <td>155</td>\n",
       "      <td>1209</td>\n",
       "      <td>12</td>\n",
       "      <td>NaN</td>\n",
       "      <td>1</td>\n",
       "    </tr>\n",
       "    <tr>\n",
       "      <th>83</th>\n",
       "      <td>83</td>\n",
       "      <td>1301</td>\n",
       "      <td>13</td>\n",
       "      <td>1302</td>\n",
       "      <td>0</td>\n",
       "    </tr>\n",
       "    <tr>\n",
       "      <th>92</th>\n",
       "      <td>92</td>\n",
       "      <td>1404</td>\n",
       "      <td>14</td>\n",
       "      <td>1406</td>\n",
       "      <td>0</td>\n",
       "    </tr>\n",
       "    <tr>\n",
       "      <th>95</th>\n",
       "      <td>95</td>\n",
       "      <td>1501</td>\n",
       "      <td>15</td>\n",
       "      <td>1503</td>\n",
       "      <td>4</td>\n",
       "    </tr>\n",
       "    <tr>\n",
       "      <th>99</th>\n",
       "      <td>99</td>\n",
       "      <td>1601</td>\n",
       "      <td>16</td>\n",
       "      <td>1602</td>\n",
       "      <td>0</td>\n",
       "    </tr>\n",
       "    <tr>\n",
       "      <th>110</th>\n",
       "      <td>110</td>\n",
       "      <td>1712</td>\n",
       "      <td>17</td>\n",
       "      <td>NaN</td>\n",
       "      <td>0</td>\n",
       "    </tr>\n",
       "    <tr>\n",
       "      <th>113</th>\n",
       "      <td>113</td>\n",
       "      <td>1803</td>\n",
       "      <td>18</td>\n",
       "      <td>1804</td>\n",
       "      <td>0</td>\n",
       "    </tr>\n",
       "  </tbody>\n",
       "</table>\n",
       "</div>"
      ],
      "text/plain": [
       "     slurm_index  HUC4 HUC2 toBasin level\n",
       "120          120  0103   01    0105     0\n",
       "122          122  0207   02    0208     0\n",
       "13            13  0303   03     NaN     0\n",
       "126          126  0420   04    0424     2\n",
       "33            33  0503   05    0509     1\n",
       "37            37  0603   06    0604     2\n",
       "134          134  0707   07    0706     0\n",
       "52            52  0807   08    0809    17\n",
       "54            54  0902   09     NaN     0\n",
       "142          142  1005   10    1006     0\n",
       "73            73  1108   11    1109     0\n",
       "155          155  1209   12     NaN     1\n",
       "83            83  1301   13    1302     0\n",
       "92            92  1404   14    1406     0\n",
       "95            95  1501   15    1503     4\n",
       "99            99  1601   16    1602     0\n",
       "110          110  1712   17     NaN     0\n",
       "113          113  1803   18    1804     0"
      ]
     },
     "execution_count": 4,
     "metadata": {},
     "output_type": "execute_result"
    }
   ],
   "source": [
    "sample = lookup.groupby('HUC2').sample(n=1)\n",
    "sample"
   ]
  },
  {
   "cell_type": "code",
   "execution_count": 5,
   "id": "0b7bae11-7008-4800-a4fa-208d8dda77e4",
   "metadata": {},
   "outputs": [],
   "source": [
    "data_path = '/nas/cee-water/cjgleason/craig/CONUS_ephemeral_data/'"
   ]
  },
  {
   "cell_type": "code",
   "execution_count": 61,
   "id": "ee07cdfe-d38c-4f37-9aef-8bdb5e186206",
   "metadata": {},
   "outputs": [
    {
     "name": "stdout",
     "output_type": "stream",
     "text": [
      "Collection: {'Version': '2.0', 'ShortName': 'SWOT_L2_HR_PIXC_2.0'}\n",
      "Spatial coverage: {'HorizontalSpatialDomain': {'Geometry': {'BoundingRectangles': [{'WestBoundingCoordinate': -71.86225324630749, 'SouthBoundingCoordinate': 41.355773934194865, 'EastBoundingCoordinate': -70.88544107939475, 'NorthBoundingCoordinate': 42.1226607788997}]}, 'Track': {'Cycle': 19, 'Passes': [{'Pass': 35, 'Tiles': ['228R']}]}}}\n",
      "Temporal coverage: {'RangeDateTime': {'EndingDateTime': '2024-08-01T00:52:29.805Z', 'BeginningDateTime': '2024-08-01T00:52:18.711Z'}}\n",
      "Size(MB): 785.5527048110962\n",
      "Data: ['https://archive.swot.podaac.earthdata.nasa.gov/podaac-swot-ops-cumulus-protected/SWOT_L2_HR_PIXC_2.0/SWOT_L2_HR_PIXC_019_035_228R_20240801T005218_20240801T005229_PIC0_02.nc']\n",
      "Collection: {'Version': '2.0', 'ShortName': 'SWOT_L2_HR_PIXC_2.0'}\n",
      "Spatial coverage: {'HorizontalSpatialDomain': {'Geometry': {'BoundingRectangles': [{'WestBoundingCoordinate': -75.6379870261294, 'SouthBoundingCoordinate': 39.829453360584026, 'EastBoundingCoordinate': -74.72734882598985, 'NorthBoundingCoordinate': 40.57933142859632}]}, 'Track': {'Cycle': 19, 'Passes': [{'Pass': 63, 'Tiles': ['225L']}]}}}\n",
      "Temporal coverage: {'RangeDateTime': {'EndingDateTime': '2024-08-02T00:52:30.746Z', 'BeginningDateTime': '2024-08-02T00:52:19.652Z'}}\n",
      "Size(MB): 731.2184000015259\n",
      "Data: ['https://archive.swot.podaac.earthdata.nasa.gov/podaac-swot-ops-cumulus-protected/SWOT_L2_HR_PIXC_2.0/SWOT_L2_HR_PIXC_019_063_225L_20240802T005219_20240802T005230_PIC0_01.nc']\n",
      "Collection: {'Version': '2.0', 'ShortName': 'SWOT_L2_HR_PIXC_2.0'}\n",
      "Spatial coverage: {'HorizontalSpatialDomain': {'Geometry': {'BoundingRectangles': [{'WestBoundingCoordinate': -83.19448067979272, 'SouthBoundingCoordinate': 31.80508344086235, 'EastBoundingCoordinate': -82.35731120379933, 'NorthBoundingCoordinate': 32.551167802907905}]}, 'Track': {'Cycle': 19, 'Passes': [{'Pass': 438, 'Tiles': ['098R']}]}}}\n",
      "Temporal coverage: {'RangeDateTime': {'EndingDateTime': '2024-08-15T10:03:57.024Z', 'BeginningDateTime': '2024-08-15T10:03:45.938Z'}}\n",
      "Size(MB): 421.2553005218506\n",
      "Data: ['https://archive.swot.podaac.earthdata.nasa.gov/podaac-swot-ops-cumulus-protected/SWOT_L2_HR_PIXC_2.0/SWOT_L2_HR_PIXC_019_438_098R_20240815T100345_20240815T100357_PIC0_01.nc']\n",
      "Collection: {'Version': '2.0', 'ShortName': 'SWOT_L2_HR_PIXC_2.0'}\n",
      "Spatial coverage: {'HorizontalSpatialDomain': {'Geometry': {'BoundingRectangles': [{'WestBoundingCoordinate': -86.33181684612305, 'SouthBoundingCoordinate': 42.470924799741, 'EastBoundingCoordinate': -85.36802220210228, 'NorthBoundingCoordinate': 43.23877096144824}]}, 'Track': {'Cycle': 19, 'Passes': [{'Pass': 438, 'Tiles': ['079R']}]}}}\n",
      "Temporal coverage: {'RangeDateTime': {'EndingDateTime': '2024-08-15T10:00:47.047Z', 'BeginningDateTime': '2024-08-15T10:00:35.952Z'}}\n",
      "Size(MB): 650.1403007507324\n",
      "Data: ['https://archive.swot.podaac.earthdata.nasa.gov/podaac-swot-ops-cumulus-protected/SWOT_L2_HR_PIXC_2.0/SWOT_L2_HR_PIXC_019_438_079R_20240815T100035_20240815T100047_PIC0_01.nc']\n",
      "Collection: {'Version': '2.0', 'ShortName': 'SWOT_L2_HR_PIXC_2.0'}\n",
      "Spatial coverage: {'HorizontalSpatialDomain': {'Geometry': {'BoundingRectangles': [{'WestBoundingCoordinate': -87.18243143781706, 'SouthBoundingCoordinate': 39.67874825627186, 'EastBoundingCoordinate': -86.22993068475984, 'NorthBoundingCoordinate': 40.44149485988719}]}, 'Track': {'Cycle': 19, 'Passes': [{'Pass': 203, 'Tiles': ['225R']}]}}}\n",
      "Temporal coverage: {'RangeDateTime': {'EndingDateTime': '2024-08-07T00:55:06.558Z', 'BeginningDateTime': '2024-08-07T00:54:55.465Z'}}\n",
      "Size(MB): 329.74097633361816\n",
      "Data: ['https://archive.swot.podaac.earthdata.nasa.gov/podaac-swot-ops-cumulus-protected/SWOT_L2_HR_PIXC_2.0/SWOT_L2_HR_PIXC_019_203_225R_20240807T005455_20240807T005506_PIC0_01.nc']\n",
      "Collection: {'Version': '2.0', 'ShortName': 'SWOT_L2_HR_PIXC_2.0'}\n",
      "Spatial coverage: {'HorizontalSpatialDomain': {'Geometry': {'BoundingRectangles': [{'WestBoundingCoordinate': -83.45846846851873, 'SouthBoundingCoordinate': 35.88556438968757, 'EastBoundingCoordinate': -82.52200966003988, 'NorthBoundingCoordinate': 36.63424518179377}]}, 'Track': {'Cycle': 19, 'Passes': [{'Pass': 438, 'Tiles': ['091L']}]}}}\n",
      "Temporal coverage: {'RangeDateTime': {'EndingDateTime': '2024-08-15T10:02:47.054Z', 'BeginningDateTime': '2024-08-15T10:02:35.961Z'}}\n",
      "Size(MB): 417.36126804351807\n",
      "Data: ['https://archive.swot.podaac.earthdata.nasa.gov/podaac-swot-ops-cumulus-protected/SWOT_L2_HR_PIXC_2.0/SWOT_L2_HR_PIXC_019_438_091L_20240815T100235_20240815T100247_PIC0_01.nc']\n",
      "Collection: {'Version': '2.0', 'ShortName': 'SWOT_L2_HR_PIXC_2.0'}\n",
      "Spatial coverage: {'HorizontalSpatialDomain': {'Geometry': {'BoundingRectangles': [{'WestBoundingCoordinate': -94.90876567464647, 'SouthBoundingCoordinate': 45.80510263618692, 'EastBoundingCoordinate': -93.87580954541284, 'NorthBoundingCoordinate': 46.57590675171453}]}, 'Track': {'Cycle': 19, 'Passes': [{'Pass': 315, 'Tiles': ['236R']}]}}}\n",
      "Temporal coverage: {'RangeDateTime': {'EndingDateTime': '2024-08-11T00:59:01.393Z', 'BeginningDateTime': '2024-08-11T00:58:50.299Z'}}\n",
      "Size(MB): 586.8727426528931\n",
      "Data: ['https://archive.swot.podaac.earthdata.nasa.gov/podaac-swot-ops-cumulus-protected/SWOT_L2_HR_PIXC_2.0/SWOT_L2_HR_PIXC_019_315_236R_20240811T005850_20240811T005901_PIC0_01.nc']\n",
      "Collection: {'Version': '2.0', 'ShortName': 'SWOT_L2_HR_PIXC_2.0'}\n",
      "Spatial coverage: {'HorizontalSpatialDomain': {'Geometry': {'BoundingRectangles': [{'WestBoundingCoordinate': -92.81723441661472, 'SouthBoundingCoordinate': 30.226285441108438, 'EastBoundingCoordinate': -92.00298521122227, 'NorthBoundingCoordinate': 30.967009448770256}]}, 'Track': {'Cycle': 19, 'Passes': [{'Pass': 231, 'Tiles': ['208L']}]}}}\n",
      "Temporal coverage: {'RangeDateTime': {'EndingDateTime': '2024-08-08T00:52:47.782Z', 'BeginningDateTime': '2024-08-08T00:52:36.693Z'}}\n",
      "Size(MB): 509.37718772888184\n",
      "Data: ['https://archive.swot.podaac.earthdata.nasa.gov/podaac-swot-ops-cumulus-protected/SWOT_L2_HR_PIXC_2.0/SWOT_L2_HR_PIXC_019_231_208L_20240808T005236_20240808T005247_PIC0_01.nc']\n",
      "Collection: {'Version': '2.0', 'ShortName': 'SWOT_L2_HR_PIXC_2.0'}\n",
      "Spatial coverage: {'HorizontalSpatialDomain': {'Geometry': {'BoundingRectangles': [{'WestBoundingCoordinate': -97.73523444670315, 'SouthBoundingCoordinate': 48.01029284416335, 'EastBoundingCoordinate': -96.59229804303726, 'NorthBoundingCoordinate': 48.79627998816489}]}, 'Track': {'Cycle': 19, 'Passes': [{'Pass': 65, 'Tiles': ['240R']}]}}}\n",
      "Temporal coverage: {'RangeDateTime': {'EndingDateTime': '2024-08-02T02:37:54.565Z', 'BeginningDateTime': '2024-08-02T02:37:43.472Z'}}\n",
      "Size(MB): 282.5819902420044\n",
      "Data: ['https://archive.swot.podaac.earthdata.nasa.gov/podaac-swot-ops-cumulus-protected/SWOT_L2_HR_PIXC_2.0/SWOT_L2_HR_PIXC_019_065_240R_20240802T023743_20240802T023754_PIC0_01.nc']\n",
      "Collection: {'Version': '2.0', 'ShortName': 'SWOT_L2_HR_PIXC_2.0'}\n",
      "Spatial coverage: {'HorizontalSpatialDomain': {'Geometry': {'BoundingRectangles': [{'WestBoundingCoordinate': -105.79919909325565, 'SouthBoundingCoordinate': 46.35137927154358, 'EastBoundingCoordinate': -104.74184675684779, 'NorthBoundingCoordinate': 47.13201657535575}]}, 'Track': {'Cycle': 19, 'Passes': [{'Pass': 149, 'Tiles': ['237R']}]}}}\n",
      "Temporal coverage: {'RangeDateTime': {'EndingDateTime': '2024-08-05T02:38:57.970Z', 'BeginningDateTime': '2024-08-05T02:38:46.877Z'}}\n",
      "Size(MB): 328.0993375778198\n",
      "Data: ['https://archive.swot.podaac.earthdata.nasa.gov/podaac-swot-ops-cumulus-protected/SWOT_L2_HR_PIXC_2.0/SWOT_L2_HR_PIXC_019_149_237R_20240805T023846_20240805T023857_PIC0_01.nc']\n",
      "Collection: {'Version': '2.0', 'ShortName': 'SWOT_L2_HR_PIXC_2.0'}\n",
      "Spatial coverage: {'HorizontalSpatialDomain': {'Geometry': {'BoundingRectangles': [{'WestBoundingCoordinate': -101.20454366951151, 'SouthBoundingCoordinate': 34.62756145790166, 'EastBoundingCoordinate': -100.33199060235467, 'NorthBoundingCoordinate': 35.3707771150754}]}, 'Track': {'Cycle': 19, 'Passes': [{'Pass': 50, 'Tiles': ['093R']}]}}}\n",
      "Temporal coverage: {'RangeDateTime': {'EndingDateTime': '2024-08-01T13:21:38.852Z', 'BeginningDateTime': '2024-08-01T13:21:27.765Z'}}\n",
      "Size(MB): 313.14691162109375\n",
      "Data: ['https://archive.swot.podaac.earthdata.nasa.gov/podaac-swot-ops-cumulus-protected/SWOT_L2_HR_PIXC_2.0/SWOT_L2_HR_PIXC_019_050_093R_20240801T132127_20240801T132138_PIC0_02.nc']\n",
      "Collection: {'Version': '2.0', 'ShortName': 'SWOT_L2_HR_PIXC_2.0'}\n",
      "Spatial coverage: {'HorizontalSpatialDomain': {'Geometry': {'BoundingRectangles': [{'WestBoundingCoordinate': -103.06354211234691, 'SouthBoundingCoordinate': 32.37037567476844, 'EastBoundingCoordinate': -102.23158991043402, 'NorthBoundingCoordinate': 33.11814829371884}]}, 'Track': {'Cycle': 19, 'Passes': [{'Pass': 78, 'Tiles': ['097R']}]}}}\n",
      "Temporal coverage: {'RangeDateTime': {'EndingDateTime': '2024-08-02T13:22:49.755Z', 'BeginningDateTime': '2024-08-02T13:22:38.668Z'}}\n",
      "Size(MB): 391.71354579925537\n",
      "Data: ['https://archive.swot.podaac.earthdata.nasa.gov/podaac-swot-ops-cumulus-protected/SWOT_L2_HR_PIXC_2.0/SWOT_L2_HR_PIXC_019_078_097R_20240802T132238_20240802T132249_PIC0_01.nc']\n",
      "Collection: {'Version': '2.0', 'ShortName': 'SWOT_L2_HR_PIXC_2.0'}\n",
      "Spatial coverage: {'HorizontalSpatialDomain': {'Geometry': {'BoundingRectangles': [{'WestBoundingCoordinate': -106.85962327210086, 'SouthBoundingCoordinate': 35.179237617886734, 'EastBoundingCoordinate': -106.01633087919862, 'NorthBoundingCoordinate': 35.90656378179807}]}, 'Track': {'Cycle': 19, 'Passes': [{'Pass': 121, 'Tiles': ['217R']}]}}}\n",
      "Temporal coverage: {'RangeDateTime': {'EndingDateTime': '2024-08-04T02:35:06.723Z', 'BeginningDateTime': '2024-08-04T02:34:55.633Z'}}\n",
      "Size(MB): 382.6246557235718\n",
      "Data: ['https://archive.swot.podaac.earthdata.nasa.gov/podaac-swot-ops-cumulus-protected/SWOT_L2_HR_PIXC_2.0/SWOT_L2_HR_PIXC_019_121_217R_20240804T023455_20240804T023506_PIC0_01.nc']\n",
      "Collection: {'Version': '2.0', 'ShortName': 'SWOT_L2_HR_PIXC_2.0'}\n",
      "Spatial coverage: {'HorizontalSpatialDomain': {'Geometry': {'BoundingRectangles': [{'WestBoundingCoordinate': -108.5015651005134, 'SouthBoundingCoordinate': 38.536357380799, 'EastBoundingCoordinate': -107.53753050512404, 'NorthBoundingCoordinate': 39.30918379004359}]}, 'Track': {'Cycle': 19, 'Passes': [{'Pass': 412, 'Tiles': ['086R']}]}}}\n",
      "Temporal coverage: {'RangeDateTime': {'EndingDateTime': '2024-08-14T11:44:19.829Z', 'BeginningDateTime': '2024-08-14T11:44:08.738Z'}}\n",
      "Size(MB): 635.054594039917\n",
      "Data: ['https://archive.swot.podaac.earthdata.nasa.gov/podaac-swot-ops-cumulus-protected/SWOT_L2_HR_PIXC_2.0/SWOT_L2_HR_PIXC_019_412_086R_20240814T114408_20240814T114419_PIC0_01.nc']\n",
      "Collection: {'Version': '2.0', 'ShortName': 'SWOT_L2_HR_PIXC_2.0'}\n",
      "Spatial coverage: {'HorizontalSpatialDomain': {'Geometry': {'BoundingRectangles': [{'WestBoundingCoordinate': -111.91413526252273, 'SouthBoundingCoordinate': 37.43595031312844, 'EastBoundingCoordinate': -110.92429954177953, 'NorthBoundingCoordinate': 38.144489993466735}]}, 'Track': {'Cycle': 20, 'Passes': [{'Pass': 162, 'Tiles': ['088R']}]}}}\n",
      "Temporal coverage: {'RangeDateTime': {'EndingDateTime': '2024-08-26T10:07:57.429Z', 'BeginningDateTime': '2024-08-26T10:07:46.343Z'}}\n",
      "Size(MB): 493.0517749786377\n",
      "Data: ['https://archive.swot.podaac.earthdata.nasa.gov/podaac-swot-ops-cumulus-protected/SWOT_L2_HR_PIXC_2.0/SWOT_L2_HR_PIXC_020_162_088R_20240826T100746_20240826T100757_PIC0_01.nc']\n",
      "Collection: {'Version': '2.0', 'ShortName': 'SWOT_L2_HR_PIXC_2.0'}\n",
      "Spatial coverage: {'HorizontalSpatialDomain': {'Geometry': {'BoundingRectangles': [{'WestBoundingCoordinate': -113.71821309646373, 'SouthBoundingCoordinate': 40.40090580435792, 'EastBoundingCoordinate': -112.90373925180378, 'NorthBoundingCoordinate': 41.14526914558958}]}, 'Track': {'Cycle': 19, 'Passes': [{'Pass': 205, 'Tiles': ['226L']}]}}}\n",
      "Temporal coverage: {'RangeDateTime': {'EndingDateTime': '2024-08-07T02:38:10.320Z', 'BeginningDateTime': '2024-08-07T02:37:59.227Z'}}\n",
      "Size(MB): 525.9581508636475\n",
      "Data: ['https://archive.swot.podaac.earthdata.nasa.gov/podaac-swot-ops-cumulus-protected/SWOT_L2_HR_PIXC_2.0/SWOT_L2_HR_PIXC_019_205_226L_20240807T023759_20240807T023810_PIC0_01.nc']\n",
      "Collection: {'Version': '2.0', 'ShortName': 'SWOT_L2_HR_PIXC_2.0'}\n",
      "Spatial coverage: {'HorizontalSpatialDomain': {'Geometry': {'BoundingRectangles': [{'WestBoundingCoordinate': -112.85034132468255, 'SouthBoundingCoordinate': 43.184559083719954, 'EastBoundingCoordinate': -111.7848284206465, 'NorthBoundingCoordinate': 43.946167433789334}]}, 'Track': {'Cycle': 19, 'Passes': [{'Pass': 162, 'Tiles': ['078L']}]}}}\n",
      "Temporal coverage: {'RangeDateTime': {'EndingDateTime': '2024-08-05T13:21:13.274Z', 'BeginningDateTime': '2024-08-05T13:21:02.180Z'}}\n",
      "Size(MB): 329.0427589416504\n",
      "Data: ['https://archive.swot.podaac.earthdata.nasa.gov/podaac-swot-ops-cumulus-protected/SWOT_L2_HR_PIXC_2.0/SWOT_L2_HR_PIXC_019_162_078L_20240805T132102_20240805T132113_PIC0_01.nc']\n",
      "Collection: {'Version': '2.0', 'ShortName': 'SWOT_L2_HR_PIXC_2.0'}\n",
      "Spatial coverage: {'HorizontalSpatialDomain': {'Geometry': {'BoundingRectangles': [{'WestBoundingCoordinate': -123.75771709641623, 'SouthBoundingCoordinate': 40.80102911270393, 'EastBoundingCoordinate': -122.8415889297898, 'NorthBoundingCoordinate': 41.51473190871545}]}, 'Track': {'Cycle': 19, 'Passes': [{'Pass': 39, 'Tiles': ['227R']}]}}}\n",
      "Temporal coverage: {'RangeDateTime': {'EndingDateTime': '2024-08-01T04:18:07.262Z', 'BeginningDateTime': '2024-08-01T04:17:56.167Z'}}\n",
      "Size(MB): 179.78998851776123\n",
      "Data: ['https://archive.swot.podaac.earthdata.nasa.gov/podaac-swot-ops-cumulus-protected/SWOT_L2_HR_PIXC_2.0/SWOT_L2_HR_PIXC_019_039_227R_20240801T041756_20240801T041807_PIC0_02.nc']\n"
     ]
    }
   ],
   "source": [
    "PIXC_files = {}\n",
    "\n",
    "for index in sample['slurm_index']:\n",
    "    # Get current HUC2 and HUC4 IDs\n",
    "    huc2 = 'HUC2_' + lookup.loc[index,'HUC4'][0:2]\n",
    "    huc2_num = lookup.loc[index,'HUC4'][0:2]\n",
    "    huc4 = 'NHDPLUS_H_' + lookup.loc[index,'HUC4'] + '_HU4_GDB'\n",
    "    huc4_num = lookup.loc[index,'HUC4']\n",
    "    \n",
    "    # Set data filepath\n",
    "    file_path = os.path.join(data_path, huc2, 'WBD_' + huc2_num + '_HU2_Shape',\n",
    "                             'Shape', 'WBDHU4.shp')\n",
    "    # Read in prepped NHD flowlines\n",
    "    basin = gpd.read_file(filename=file_path,\n",
    "                          # columns=features,\n",
    "                          engine='pyogrio')\n",
    "    \n",
    "    basin = basin.to_crs(epsg=3857)\n",
    "    \n",
    "    center = basin[basin['huc4'] == huc4_num].centroid\n",
    "    center_box = center.buffer(10000, cap_style = 3).to_crs(epsg=4269)\n",
    "    # Get bounds of buffered polygon\n",
    "    bounds = list(zip(center_box.bounds['minx'], center_box.bounds['miny'],\n",
    "                      center_box.bounds['maxx'], center_box.bounds['maxy']))[0]\n",
    "    \n",
    "    # Find SWOT granules\n",
    "    pixc_results = earthaccess.search_data(short_name = 'SWOT_L2_HR_PIXC_2.0',\n",
    "                                           temporal = ('2024-04-01 00:00:00',\n",
    "                                                        # str(datetime.now())),\n",
    "                                                       '2024-04-30 00:00:00'),\n",
    "                                           bounding_box = bounds)\n",
    "    print(pixc_results[1])\n",
    "    \n",
    "    download\n",
    "    new_file = dearthaccess.download(pixc_results[1],\n",
    "                                    '../narrow_rivers_PIXC_data/PIXC_v2_0_for_unit_test/')\n",
    "    \n",
    "    PIXC_files[huc4_num] = new_file\n",
    "\n",
    "# lookup['PIXC_files'] = PIXC_files"
   ]
  },
  {
   "cell_type": "code",
   "execution_count": 6,
   "id": "63eb1064-f405-4588-b345-663769b5baed",
   "metadata": {},
   "outputs": [],
   "source": [
    "# Slurm index\n",
    "index = sample.iloc[10,0]"
   ]
  },
  {
   "cell_type": "code",
   "execution_count": 7,
   "id": "f2638ca0-dfdb-4b5b-beff-eb6de46610dd",
   "metadata": {},
   "outputs": [],
   "source": [
    "# Get current HUC2 and HUC4 IDs\n",
    "huc2 = 'HUC2_' + lookup.loc[index,'HUC4'][0:2]\n",
    "huc2_num = lookup.loc[index,'HUC4'][0:2]\n",
    "huc4 = 'NHDPLUS_H_' + lookup.loc[index,'HUC4'] + '_HU4_GDB'\n",
    "huc4_num = lookup.loc[index,'HUC4']"
   ]
  },
  {
   "cell_type": "code",
   "execution_count": 8,
   "id": "397e1bfc-d357-4894-95e3-4374e38983b2",
   "metadata": {},
   "outputs": [
    {
     "data": {
      "text/plain": [
       "'1108'"
      ]
     },
     "execution_count": 8,
     "metadata": {},
     "output_type": "execute_result"
    }
   ],
   "source": [
    "huc4_num"
   ]
  },
  {
   "cell_type": "code",
   "execution_count": 9,
   "id": "24bf16db-96d0-4e08-b9f0-2580ffb26990",
   "metadata": {},
   "outputs": [],
   "source": [
    "# Set data filepath\n",
    "file_path = os.path.join(data_path, huc2, 'WBD_' + huc2_num + '_HU2_Shape',\n",
    "                         'Shape', 'WBDHU4.shp')"
   ]
  },
  {
   "cell_type": "code",
   "execution_count": 10,
   "id": "ae1c38c7-cf05-4ab2-ac9b-a7ebd75dee42",
   "metadata": {},
   "outputs": [],
   "source": [
    "## Read in prepped NHD flowlines\n",
    "# features = ['NHDPlusID', 'GNIS_Name', 'LengthKM', 'WidthM', 'Bin', 'geometry']\n",
    "basin = gpd.read_file(filename=file_path,\n",
    "                      # columns=features,\n",
    "                      engine='pyogrio')"
   ]
  },
  {
   "cell_type": "code",
   "execution_count": 11,
   "id": "30b3503d-bce5-4e54-a9ef-c2c4534cac97",
   "metadata": {},
   "outputs": [],
   "source": [
    "basin = basin.to_crs(epsg=3857)"
   ]
  },
  {
   "cell_type": "code",
   "execution_count": 12,
   "id": "e6e12d5d-4c92-4de9-beaf-3a5efe6b2855",
   "metadata": {},
   "outputs": [
    {
     "data": {
      "text/html": [
       "<div>\n",
       "<style scoped>\n",
       "    .dataframe tbody tr th:only-of-type {\n",
       "        vertical-align: middle;\n",
       "    }\n",
       "\n",
       "    .dataframe tbody tr th {\n",
       "        vertical-align: top;\n",
       "    }\n",
       "\n",
       "    .dataframe thead th {\n",
       "        text-align: right;\n",
       "    }\n",
       "</style>\n",
       "<table border=\"1\" class=\"dataframe\">\n",
       "  <thead>\n",
       "    <tr style=\"text-align: right;\">\n",
       "      <th></th>\n",
       "      <th>tnmid</th>\n",
       "      <th>metasource</th>\n",
       "      <th>sourcedata</th>\n",
       "      <th>sourceorig</th>\n",
       "      <th>sourcefeat</th>\n",
       "      <th>loaddate</th>\n",
       "      <th>referenceg</th>\n",
       "      <th>areaacres</th>\n",
       "      <th>areasqkm</th>\n",
       "      <th>states</th>\n",
       "      <th>huc4</th>\n",
       "      <th>name</th>\n",
       "      <th>shape_Leng</th>\n",
       "      <th>shape_Area</th>\n",
       "      <th>ObjectID</th>\n",
       "      <th>geometry</th>\n",
       "    </tr>\n",
       "  </thead>\n",
       "  <tbody>\n",
       "    <tr>\n",
       "      <th>10</th>\n",
       "      <td>{035089DE-3D9F-4504-B664-ACB93ED34723}</td>\n",
       "      <td>None</td>\n",
       "      <td>None</td>\n",
       "      <td>None</td>\n",
       "      <td>None</td>\n",
       "      <td>2020-06-04</td>\n",
       "      <td>None</td>\n",
       "      <td>7983248.29</td>\n",
       "      <td>32307.09</td>\n",
       "      <td>CO,NM,TX</td>\n",
       "      <td>1108</td>\n",
       "      <td>Upper Canadian</td>\n",
       "      <td>11.120302</td>\n",
       "      <td>3.225854</td>\n",
       "      <td>11</td>\n",
       "      <td>POLYGON ((-11711838.99 4449170.072, -11711768....</td>\n",
       "    </tr>\n",
       "  </tbody>\n",
       "</table>\n",
       "</div>"
      ],
      "text/plain": [
       "                                     tnmid metasource sourcedata sourceorig  \\\n",
       "10  {035089DE-3D9F-4504-B664-ACB93ED34723}       None       None       None   \n",
       "\n",
       "   sourcefeat   loaddate referenceg   areaacres  areasqkm    states  huc4  \\\n",
       "10       None 2020-06-04       None  7983248.29  32307.09  CO,NM,TX  1108   \n",
       "\n",
       "              name  shape_Leng  shape_Area  ObjectID  \\\n",
       "10  Upper Canadian   11.120302    3.225854        11   \n",
       "\n",
       "                                             geometry  \n",
       "10  POLYGON ((-11711838.99 4449170.072, -11711768....  "
      ]
     },
     "execution_count": 12,
     "metadata": {},
     "output_type": "execute_result"
    }
   ],
   "source": [
    "basin[basin['huc4'] == huc4_num]"
   ]
  },
  {
   "cell_type": "code",
   "execution_count": 13,
   "id": "2e974054-ebfc-4b4c-bfa3-a7cc7f124091",
   "metadata": {},
   "outputs": [],
   "source": [
    "center = basin[basin['huc4'] == huc4_num].centroid"
   ]
  },
  {
   "cell_type": "code",
   "execution_count": 14,
   "id": "6cf8d362-7304-4888-acb1-bf4becf27136",
   "metadata": {},
   "outputs": [
    {
     "data": {
      "text/plain": [
       "<Axes: >"
      ]
     },
     "execution_count": 14,
     "metadata": {},
     "output_type": "execute_result"
    },
    {
     "data": {
      "image/png": "[encoded data removed]",
      "text/plain": [
       "<Figure size 1200x800 with 1 Axes>"
      ]
     },
     "metadata": {},
     "output_type": "display_data"
    }
   ],
   "source": [
    "fig, ax = plt.subplots(figsize=(12,8))\n",
    "basin.plot(ax=ax)\n",
    "center.plot(ax=ax, color='r')"
   ]
  },
  {
   "cell_type": "code",
   "execution_count": 15,
   "id": "86885c1b-554c-43b6-8892-4529bb80f447",
   "metadata": {},
   "outputs": [],
   "source": [
    "center_box = center.buffer(10000, cap_style = 3).to_crs(epsg=4269)"
   ]
  },
  {
   "cell_type": "code",
   "execution_count": 16,
   "id": "c449c1e1-3c8f-4499-9c3b-db0f042f1741",
   "metadata": {},
   "outputs": [],
   "source": [
    "# Get bounds of buffered polygon\n",
    "bounds = list(zip(center_box.bounds['minx'], center_box.bounds['miny'],\n",
    "                  center_box.bounds['maxx'], center_box.bounds['maxy']))[0]"
   ]
  },
  {
   "cell_type": "code",
   "execution_count": 18,
   "id": "99458edd-764e-4b58-a46d-ed071c89f1e6",
   "metadata": {},
   "outputs": [],
   "source": [
    "# Find SWOT granules\n",
    "pixc_results = earthaccess.search_data(short_name = 'SWOT_L2_HR_PIXC_2.0',\n",
    "                                       temporal = ('2024-04-01 00:00:00',\n",
    "                                                    # str(datetime.now())),\n",
    "                                                   '2024-04-30 00:00:00'),\n",
    "                                       bounding_box = bounds)"
   ]
  },
  {
   "cell_type": "code",
   "execution_count": 19,
   "id": "5c03e5ba-0940-46eb-86f8-83eac4628a1e",
   "metadata": {},
   "outputs": [
    {
     "data": {
      "text/plain": [
       "[Collection: {'Version': '2.0', 'ShortName': 'SWOT_L2_HR_PIXC_2.0'}\n",
       " Spatial coverage: {'HorizontalSpatialDomain': {'Geometry': {'BoundingRectangles': [{'WestBoundingCoordinate': -105.27845484415997, 'SouthBoundingCoordinate': 35.74918989276409, 'EastBoundingCoordinate': -104.30791253524802, 'NorthBoundingCoordinate': 36.50693527397153}]}, 'Track': {'Cycle': 13, 'Passes': [{'Pass': 384, 'Tiles': ['091R']}]}}}\n",
       " Temporal coverage: {'RangeDateTime': {'EndingDateTime': '2024-04-10T07:14:10.537Z', 'BeginningDateTime': '2024-04-10T07:13:59.446Z'}}\n",
       " Size(MB): 206.64777660369873\n",
       " Data: ['https://archive.swot.podaac.earthdata.nasa.gov/podaac-swot-ops-cumulus-protected/SWOT_L2_HR_PIXC_2.0/SWOT_L2_HR_PIXC_013_384_091R_20240410T071359_20240410T071410_PIC0_01.nc'],\n",
       " Collection: {'Version': '2.0', 'ShortName': 'SWOT_L2_HR_PIXC_2.0'}\n",
       " Spatial coverage: {'HorizontalSpatialDomain': {'Geometry': {'BoundingRectangles': [{'WestBoundingCoordinate': -105.07668573714932, 'SouthBoundingCoordinate': 35.18869342218074, 'EastBoundingCoordinate': -104.19845930474429, 'NorthBoundingCoordinate': 35.94307922352059}]}, 'Track': {'Cycle': 13, 'Passes': [{'Pass': 384, 'Tiles': ['092R']}]}}}\n",
       " Temporal coverage: {'RangeDateTime': {'EndingDateTime': '2024-04-10T07:14:20.536Z', 'BeginningDateTime': '2024-04-10T07:14:09.446Z'}}\n",
       " Size(MB): 224.90256309509277\n",
       " Data: ['https://archive.swot.podaac.earthdata.nasa.gov/podaac-swot-ops-cumulus-protected/SWOT_L2_HR_PIXC_2.0/SWOT_L2_HR_PIXC_013_384_092R_20240410T071409_20240410T071420_PIC0_01.nc'],\n",
       " Collection: {'Version': '2.0', 'ShortName': 'SWOT_L2_HR_PIXC_2.0'}\n",
       " Spatial coverage: {'HorizontalSpatialDomain': {'Geometry': {'BoundingRectangles': [{'WestBoundingCoordinate': -104.48215975921187, 'SouthBoundingCoordinate': 35.19185652077173, 'EastBoundingCoordinate': -103.59131113564268, 'NorthBoundingCoordinate': 35.9354045224827}]}, 'Track': {'Cycle': 14, 'Passes': [{'Pass': 93, 'Tiles': ['217R']}]}}}\n",
       " Temporal coverage: {'RangeDateTime': {'EndingDateTime': '2024-04-20T18:49:14.481Z', 'BeginningDateTime': '2024-04-20T18:49:03.395Z'}}\n",
       " Size(MB): 275.2060966491699\n",
       " Data: ['https://archive.swot.podaac.earthdata.nasa.gov/podaac-swot-ops-cumulus-protected/SWOT_L2_HR_PIXC_2.0/SWOT_L2_HR_PIXC_014_093_217R_20240420T184903_20240420T184914_PIC0_01.nc'],\n",
       " Collection: {'Version': '2.0', 'ShortName': 'SWOT_L2_HR_PIXC_2.0'}\n",
       " Spatial coverage: {'HorizontalSpatialDomain': {'Geometry': {'BoundingRectangles': [{'WestBoundingCoordinate': -104.30769383649852, 'SouthBoundingCoordinate': 35.76101112069836, 'EastBoundingCoordinate': -103.44706041420517, 'NorthBoundingCoordinate': 36.50344742677772}]}, 'Track': {'Cycle': 14, 'Passes': [{'Pass': 93, 'Tiles': ['218R']}]}}}\n",
       " Temporal coverage: {'RangeDateTime': {'EndingDateTime': '2024-04-20T18:49:24.481Z', 'BeginningDateTime': '2024-04-20T18:49:13.392Z'}}\n",
       " Size(MB): 220.11468601226807\n",
       " Data: ['https://archive.swot.podaac.earthdata.nasa.gov/podaac-swot-ops-cumulus-protected/SWOT_L2_HR_PIXC_2.0/SWOT_L2_HR_PIXC_014_093_218R_20240420T184913_20240420T184924_PIC0_01.nc'],\n",
       " Collection: {'Version': '2.0', 'ShortName': 'SWOT_L2_HR_PIXC_2.0'}\n",
       " Spatial coverage: {'HorizontalSpatialDomain': {'Geometry': {'BoundingRectangles': [{'WestBoundingCoordinate': -105.1196272444003, 'SouthBoundingCoordinate': 35.88385381537998, 'EastBoundingCoordinate': -104.18663016279623, 'NorthBoundingCoordinate': 36.64250070511918}]}, 'Track': {'Cycle': 14, 'Passes': [{'Pass': 93, 'Tiles': ['218L']}]}}}\n",
       " Temporal coverage: {'RangeDateTime': {'EndingDateTime': '2024-04-20T18:49:24.484Z', 'BeginningDateTime': '2024-04-20T18:49:13.398Z'}}\n",
       " Size(MB): 223.04822158813477\n",
       " Data: ['https://archive.swot.podaac.earthdata.nasa.gov/podaac-swot-ops-cumulus-protected/SWOT_L2_HR_PIXC_2.0/SWOT_L2_HR_PIXC_014_093_218L_20240420T184913_20240420T184924_PIC0_01.nc']]"
      ]
     },
     "execution_count": 19,
     "metadata": {},
     "output_type": "execute_result"
    }
   ],
   "source": [
    "pixc_results"
   ]
  },
  {
   "cell_type": "code",
   "execution_count": 46,
   "id": "9a9c3260-e512-45f5-861f-cf82abad7069",
   "metadata": {},
   "outputs": [
    {
     "name": "stderr",
     "output_type": "stream",
     "text": [
      "QUEUEING TASKS | : 100%|██████████| 1/1 [00:00<00:00, 1877.49it/s]\n",
      "PROCESSING TASKS | : 100%|██████████| 1/1 [00:00<00:00, 16256.99it/s]\n",
      "COLLECTING RESULTS | : 100%|██████████| 1/1 [00:00<00:00, 32017.59it/s]\n"
     ]
    }
   ],
   "source": [
    "# download\n",
    "new_file = earthaccess.download(pixc_results[1], '../narrow_rivers_PIXC_data/PIXC_v2_0_for_unit_test/')"
   ]
  },
  {
   "cell_type": "code",
   "execution_count": null,
   "id": "6bf06b2b-3e9f-49a8-95fb-30dc900d696c",
   "metadata": {},
   "outputs": [],
   "source": [
    "PIXC_files.append(new_file)"
   ]
  }
 ],
 "metadata": {
  "kernelspec": {
   "display_name": "Python [conda env:.conda-narrowPIXC]",
   "language": "python",
   "name": "conda-env-.conda-narrowPIXC-py"
  },
  "language_info": {
   "codemirror_mode": {
    "name": "ipython",
    "version": 3
   },
   "file_extension": ".py",
   "mimetype": "text/x-python",
   "name": "python",
   "nbconvert_exporter": "python",
   "pygments_lexer": "ipython3",
   "version": "3.12.4"
  }
 },
 "nbformat": 4,
 "nbformat_minor": 5
}
