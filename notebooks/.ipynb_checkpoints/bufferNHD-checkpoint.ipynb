{
 "cells": [
  {
   "cell_type": "code",
   "execution_count": 1,
   "id": "1a32223a-6b05-4cf5-a2da-de9aace6766e",
   "metadata": {},
   "outputs": [],
   "source": [
    "from argparse import ArgumentParser\n",
    "\n",
    "import os\n",
    "import sys\n",
    "import time\n",
    "\n",
    "import matplotlib.pyplot as plt\n",
    "\n",
    "import geopandas as gpd\n",
    "import pandas as pd\n",
    "\n",
    "from pandarallel import pandarallel\n",
    "\n",
    "sys.path.insert(1, '../scripts/')\n",
    "from reaches import readNHD\n",
    "from utils import specialBuffer"
   ]
  },
  {
   "cell_type": "code",
   "execution_count": 2,
   "id": "69745b04-8a78-4a86-8c0f-67b649f307e6",
   "metadata": {},
   "outputs": [],
   "source": [
    "# slurm = 197\n",
    "slurm = int(os.environ['SLURM_ARRAY_TASK_ID'])\n",
    "cpus = int(os.environ.get('SLURM_CPUS_PER_TASK'))\n",
    "cpus_per_task = cpus if cpus < 65 else 1"
   ]
  },
  {
   "cell_type": "code",
   "execution_count": 3,
   "id": "b6c41bc1-ac94-4079-9fed-bbeb9968cffd",
   "metadata": {},
   "outputs": [],
   "source": [
    "# # FOR NOW, SET\n",
    "# width_set = 'max'\n",
    "\n",
    "### PARSE ARGUMENTS\n",
    "parser = ArgumentParser(description='Please specify whether you would\\\n",
    "                        like to use the min, mean, or max predicted\\\n",
    "                        bankfull width for this analysis.')\n",
    "parser.add_argument('width_set', type=str, help='min, mean, or max')\n",
    "args=parser.parse_args()\n",
    "width_set = args.width_set"
   ]
  },
  {
   "cell_type": "code",
   "execution_count": 4,
   "id": "53adaf63-e480-4d34-8578-3b2f4b768ad1",
   "metadata": {},
   "outputs": [],
   "source": [
    "# Control flow\n",
    "if width_set == 'mean':\n",
    "    width = 'WidthM'\n",
    "elif width_set == 'min':\n",
    "    width = 'WidthM_Min'\n",
    "elif width_set == 'max':\n",
    "    width = 'WidthM_Max'\n",
    "else:\n",
    "    print('Invalid width option specified, exiting.')\n",
    "    # sys.exit()"
   ]
  },
  {
   "cell_type": "code",
   "execution_count": 5,
   "id": "3125d88d-9e63-4a29-8b01-4566b9fdd4f8",
   "metadata": {},
   "outputs": [
    {
     "name": "stdout",
     "output_type": "stream",
     "text": [
      "type: segmented\n",
      "NHDPLUS_H_0512_HU4_GDB\n",
      "/nas/cee-water/cjgleason/fiona/narrow_rivers_PIXC_data/NHD_prepped_segmented/HUC2_05/NHDPLUS_H_0512_HU4_GDB_prepped_segmented.parquet\n",
      "segments read-in\n"
     ]
    }
   ],
   "source": [
    "## Prepare data\n",
    "# Read segmented NHD\n",
    "segments, huc4, huc2 = readNHD(index=slurm, segmented=True)"
   ]
  },
  {
   "cell_type": "code",
   "execution_count": 6,
   "id": "aa94007c-83c2-418d-8965-c6f484879d78",
   "metadata": {},
   "outputs": [
    {
     "name": "stdout",
     "output_type": "stream",
     "text": [
      "INFO: Pandarallel will run on 24 workers.\n",
      "INFO: Pandarallel will use Memory file system to transfer data between the main process and workers.\n"
     ]
    }
   ],
   "source": [
    "pandarallel.initialize(nb_workers=cpus_per_task)"
   ]
  },
  {
   "cell_type": "code",
   "execution_count": 7,
   "id": "683add3c-bfd5-4cc0-9576-b2139b0cab07",
   "metadata": {},
   "outputs": [
    {
     "name": "stdout",
     "output_type": "stream",
     "text": [
      "141.34991335868835\n"
     ]
    }
   ],
   "source": [
    "# Buffer segments\n",
    "## PARALLELIZE\n",
    "start = time.time()\n",
    "segments['buffer'] = segments.parallel_apply(user_defined_function=specialBuffer,\n",
    "                                                         args=(width,\n",
    "                                                               'flat', True, False),\n",
    "                                                         axis=1)\n",
    "end = time.time()\n",
    "print(end - start)"
   ]
  },
  {
   "cell_type": "code",
   "execution_count": 8,
   "id": "679af2f0-937c-4aee-a992-9a66b1038abf",
   "metadata": {},
   "outputs": [],
   "source": [
    "# fig, ax = plt.subplots()\n",
    "# segments.iloc[0:10].segments.plot(ax=ax, cmap='hsv')\n",
    "# segments.iloc[0:10].buffers.plot(ax=ax, cmap='summer', alpha=0.7)"
   ]
  },
  {
   "cell_type": "code",
   "execution_count": 9,
   "id": "8f35639a-c3af-4ac8-ae10-8245403ee076",
   "metadata": {},
   "outputs": [],
   "source": [
    "# Drop original reach geometry column, set segments as active geometry\n",
    "segments = segments.drop(columns='segments').set_geometry('buffer').set_crs(crs=segments.crs)"
   ]
  },
  {
   "cell_type": "code",
   "execution_count": 10,
   "id": "d1eae89d-e771-45e7-856a-0a2200250495",
   "metadata": {},
   "outputs": [],
   "source": [
    "save_path = '../../narrow_rivers_PIXC_data/NHD_prepped_segmented_buffered/'"
   ]
  },
  {
   "cell_type": "code",
   "execution_count": 11,
   "id": "737bb9c2-6c56-412f-a9f8-46085f8ccd88",
   "metadata": {},
   "outputs": [],
   "source": [
    "# Write out\n",
    "# Set write filepath\n",
    "save_path = '../../narrow_rivers_PIXC_data/NHD_prepped_segmented_buffered/'\n",
    "save_path = os.path.join(save_path, huc2)\n",
    "save_file = huc4 + '_buffered_' + width_set + '.parquet'\n",
    "\n",
    "#Write out gdf as parquet file\n",
    "if not os.path.isdir(save_path):\n",
    "    os.makedirs(save_path)\n",
    "segments.to_parquet(os.path.join(save_path, save_file))"
   ]
  },
  {
   "cell_type": "code",
   "execution_count": null,
   "id": "8b3faa3a-4c02-4c4e-9e55-7828d8672abd",
   "metadata": {},
   "outputs": [],
   "source": [
    "print('Script completed.')"
   ]
  },
  {
   "cell_type": "code",
   "execution_count": 12,
   "id": "71fd2020-50f1-43b0-9b18-a52d1a0ba45b",
   "metadata": {},
   "outputs": [],
   "source": [
    "# del segments"
   ]
  },
  {
   "cell_type": "code",
   "execution_count": 13,
   "id": "f85eaae7-a885-4480-be57-40bdce86d52b",
   "metadata": {},
   "outputs": [
    {
     "data": {
      "text/plain": [
       "23.425416707992554"
      ]
     },
     "execution_count": 13,
     "metadata": {},
     "output_type": "execute_result"
    }
   ],
   "source": [
    "# start = time.time()\n",
    "# test = gpd.read_parquet('/nas/cee-water/cjgleason/fiona/narrow_rivers_PIXC_data/NHD_prepped_segmented_buffered/HUC2_05/NHDPLUS_H_0512_HU4_GDB_buffered.parquet')\n",
    "# end = time.time()\n",
    "\n",
    "# end - start"
   ]
  }
 ],
 "metadata": {
  "kernelspec": {
   "display_name": "Python [conda env:.conda-narrowPIXC]",
   "language": "python",
   "name": "conda-env-.conda-narrowPIXC-py"
  },
  "language_info": {
   "codemirror_mode": {
    "name": "ipython",
    "version": 3
   },
   "file_extension": ".py",
   "mimetype": "text/x-python",
   "name": "python",
   "nbconvert_exporter": "python",
   "pygments_lexer": "ipython3",
   "version": "3.12.4"
  }
 },
 "nbformat": 4,
 "nbformat_minor": 5
}
