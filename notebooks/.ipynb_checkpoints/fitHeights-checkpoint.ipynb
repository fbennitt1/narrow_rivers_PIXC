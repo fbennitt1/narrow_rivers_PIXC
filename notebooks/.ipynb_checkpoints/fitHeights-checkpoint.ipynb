{
 "cells": [
  {
   "cell_type": "code",
   "execution_count": 1,
   "id": "054ba1e0-d7ac-4524-a659-1e46d3219143",
   "metadata": {
    "tags": []
   },
   "outputs": [],
   "source": [
    "from argparse import ArgumentParser\n",
    "import os\n",
    "import sys\n",
    "import time\n",
    "\n",
    "import contextily as ctx\n",
    "import dask_geopandas\n",
    "import geopandas as gpd\n",
    "import matplotlib.pyplot as plt\n",
    "import matplotlib.colors as colors\n",
    "import numpy as np\n",
    "import pandas as pd\n",
    "import piecewise_regression\n",
    "import rasterio\n",
    "import seaborn as sns\n",
    "import shapely\n",
    "import xarray as xr\n",
    "\n",
    "# from matplotlib import colors\n",
    "from matplotlib.ticker import MaxNLocator\n",
    "from pandarallel import pandarallel\n",
    "from scipy import stats\n",
    "\n",
    "# caution: path[0] is reserved for script path (or '' in REPL)\n",
    "sys.path.insert(1, '../scripts/')\n",
    "\n",
    "from reaches import *\n",
    "from utils import *"
   ]
  },
  {
   "cell_type": "markdown",
   "id": "3851cc1b-3f31-40d7-aa68-a646e92358d6",
   "metadata": {
    "tags": []
   },
   "source": [
    "## For plotting"
   ]
  },
  {
   "cell_type": "code",
   "execution_count": 2,
   "id": "7f6c40b0-d285-4dce-9700-85b6d99a6175",
   "metadata": {},
   "outputs": [],
   "source": [
    "def truncate_colormap(cmap, minval=0.0, maxval=1.0, n=100):\n",
    "    new_cmap = colors.LinearSegmentedColormap.from_list(\n",
    "        'trunc({n},{a:.2f},{b:.2f})'.format(n=cmap.name, a=minval, b=maxval),\n",
    "        cmap(np.linspace(minval, maxval, n)))\n",
    "    return new_cmap"
   ]
  },
  {
   "cell_type": "code",
   "execution_count": 3,
   "id": "d6ee2ae1-721a-4ff8-a375-76c6ddf247d2",
   "metadata": {},
   "outputs": [],
   "source": [
    "cmap = plt.get_cmap('cubehelix')\n",
    "new_cmap = truncate_colormap(cmap, 0.2, 0.75)"
   ]
  },
  {
   "cell_type": "code",
   "execution_count": 4,
   "id": "2f914a70-7632-4663-aabd-feb9021da442",
   "metadata": {},
   "outputs": [],
   "source": [
    "# cmap = plt.get_cmap('cubehelix', 5)\n",
    "# new_cmap = truncate_colormap(cmap, 0.2, 0.75)"
   ]
  },
  {
   "cell_type": "code",
   "execution_count": 5,
   "id": "10da5bbb-8e7a-4c17-9af6-80c43dfa509d",
   "metadata": {},
   "outputs": [],
   "source": [
    "# color = []\n",
    "\n",
    "# for i in np.linspace(0, 1, 3):\n",
    "#     color.append(colors.rgb2hex(new_cmap(i)))"
   ]
  },
  {
   "cell_type": "code",
   "execution_count": 6,
   "id": "523c23a2-0fce-4510-9500-bf6774ee0e30",
   "metadata": {},
   "outputs": [],
   "source": [
    "# palette = sns.color_palette(color)"
   ]
  },
  {
   "cell_type": "markdown",
   "id": "7738211e-0067-4356-a77d-bddee1b036e0",
   "metadata": {},
   "source": [
    "### Parse arguments"
   ]
  },
  {
   "cell_type": "code",
   "execution_count": 7,
   "id": "9c28b14c-e137-4864-b7a1-326396a644eb",
   "metadata": {},
   "outputs": [],
   "source": [
    "# FOR NOW, SET\n",
    "width_set = 'mean'\n",
    "\n",
    "# Control flow\n",
    "if width_set == 'mean':\n",
    "    width = 'WidthM'\n",
    "    binn = 'Bin'\n",
    "elif width_set == 'min':\n",
    "    width = 'WidthM_Min'\n",
    "    binn = 'Bin_Min'\n",
    "elif width_set == 'max':\n",
    "    width = 'WidthM_Max'\n",
    "    binn = 'Bin_Max'\n",
    "else:\n",
    "    print('Invalid width option specified, exiting.')\n",
    "    # sys.exit()"
   ]
  },
  {
   "cell_type": "code",
   "execution_count": 8,
   "id": "5330fb44-4474-48e8-b3f9-497e8848ca7c",
   "metadata": {},
   "outputs": [],
   "source": [
    "huc2 = '01' ### SET THIS\n",
    "data_path = '/nas/cee-water/cjgleason/data/SWOT/PIXC_v2_0_HUC2_' + huc2 ## HERE\n",
    "# save_dir ="
   ]
  },
  {
   "cell_type": "markdown",
   "id": "0c54b76a-2171-4a4b-92f5-e4b3f4f3f8df",
   "metadata": {
    "tags": []
   },
   "source": [
    "### Pixel Cloud"
   ]
  },
  {
   "cell_type": "code",
   "execution_count": 9,
   "id": "5bc56ba8-11e0-4b21-8829-1fce78256846",
   "metadata": {},
   "outputs": [],
   "source": [
    "# Get job index\n",
    "# slurm = int(os.environ['SLURM_ARRAY_TASK_ID'])\n",
    "index = 106"
   ]
  },
  {
   "cell_type": "code",
   "execution_count": 10,
   "id": "e7c349c8-83b0-4735-9d3d-c98d4edba32e",
   "metadata": {},
   "outputs": [],
   "source": [
    "mdata_path = '/nas/cee-water/cjgleason/fiona/narrow_rivers_PIXC/data/' ## HERE\n",
    "file_path = os.path.join(mdata_path, 'PIXC_v2_0_HUC2_' + huc2 + '_filtered.json') ## HERE\n",
    "data = open_json(file_path)"
   ]
  },
  {
   "cell_type": "code",
   "execution_count": 11,
   "id": "85b6f73f-964f-4bda-a324-b6d4e710dc4d",
   "metadata": {},
   "outputs": [],
   "source": [
    "file_name = data[index]"
   ]
  },
  {
   "cell_type": "code",
   "execution_count": 12,
   "id": "900dad6e-8c22-4a17-a2f7-37ef07f35ca7",
   "metadata": {},
   "outputs": [
    {
     "name": "stdout",
     "output_type": "stream",
     "text": [
      "SWOT_L2_HR_PIXC_002_007_235R_20230811T080638_20230811T080649_PGC0_01\n"
     ]
    }
   ],
   "source": [
    "# Get data for this tile\n",
    "granule_name = file_name[:-3]\n",
    "tile_name = file_name[20:28]\n",
    "pass_num = int(file_name[20:23])\n",
    "\n",
    "print(granule_name)"
   ]
  },
  {
   "cell_type": "markdown",
   "id": "974aa2a9-a339-4bc6-9b58-9e6e7c6ec405",
   "metadata": {
    "tags": []
   },
   "source": [
    "#### Read in PIXC"
   ]
  },
  {
   "cell_type": "code",
   "execution_count": 13,
   "id": "b6a2ddd5-b8ce-4b2d-8e04-12e41eecc1ce",
   "metadata": {},
   "outputs": [],
   "source": [
    "# Set PIXC filepath\n",
    "pixc_path = os.path.join(data_path, file_name)"
   ]
  },
  {
   "cell_type": "code",
   "execution_count": 14,
   "id": "a79f66cd-29bd-4018-84c1-2e58cf077ed1",
   "metadata": {},
   "outputs": [
    {
     "data": {
      "text/plain": [
       "'/nas/cee-water/cjgleason/data/SWOT/PIXC_v2_0_HUC2_01/SWOT_L2_HR_PIXC_002_007_235R_20230811T080638_20230811T080649_PGC0_01.nc'"
      ]
     },
     "execution_count": 14,
     "metadata": {},
     "output_type": "execute_result"
    }
   ],
   "source": [
    "pixc_path"
   ]
  },
  {
   "cell_type": "code",
   "execution_count": 15,
   "id": "aefb478b-ff8b-41b4-9576-0fdf0ba0a9c0",
   "metadata": {},
   "outputs": [],
   "source": [
    "# Read in pixel group\n",
    "ds_PIXC = xr.open_mfdataset(paths=pixc_path, group = 'pixel_cloud', engine='h5netcdf')"
   ]
  },
  {
   "cell_type": "code",
   "execution_count": 16,
   "id": "98521352-cdb8-493e-8d58-74ad87426e34",
   "metadata": {},
   "outputs": [],
   "source": [
    "def bitwiseMask(ds):\n",
    "    '''\n",
    "    This function masks a PIXC granules: for now, it ony remove pixels\n",
    "    with land classification and those with bad geolocation_qual.\n",
    "    # See page 65 of PIXC PDD: https://podaac.jpl.nasa.gov/SWOT?tab=datasets-information&sections=about%2Bdata\n",
    "    '''\n",
    "    # Fow now, eliminate the really bad stuff\n",
    "    mask = np.where((ds.classification > 1) & \n",
    "                    (ds.interferogram_qual < 2**7) & (ds.classification_qual < 2**7) &\n",
    "                    (ds.geolocation_qual < 2**7) & (ds.sig0_qual < 2**7) &\n",
    "                    (np.abs(ds.cross_track) > 10000) & (np.abs(ds.cross_track) < 60000))[0]\n",
    "    \n",
    "    print(mask.shape)\n",
    "    return mask"
   ]
  },
  {
   "cell_type": "code",
   "execution_count": 17,
   "id": "993471a7-b1b5-41bc-8401-1a03c47fe554",
   "metadata": {},
   "outputs": [
    {
     "name": "stdout",
     "output_type": "stream",
     "text": [
      "(742270,)\n"
     ]
    }
   ],
   "source": [
    "# Make mask\n",
    "mask = bitwiseMask(ds_PIXC)\n",
    "\n",
    "if mask.shape[0] == 0:\n",
    "    print('This granule has no pixels after masking, exiting.')\n",
    "    # sys.exit(1)    "
   ]
  },
  {
   "cell_type": "code",
   "execution_count": 18,
   "id": "daa9c587-4d39-40f3-9a7f-374fed33b165",
   "metadata": {},
   "outputs": [],
   "source": [
    "# Set desired data vars\n",
    "variables = ['azimuth_index', 'range_index', 'cross_track',\n",
    "             'pixel_area', 'height', 'geoid', 'solid_earth_tide', ## HERE\n",
    "             'load_tide_fes', 'pole_tide', 'prior_water_prob', ## HERE\n",
    "             'classification']"
   ]
  },
  {
   "cell_type": "code",
   "execution_count": 19,
   "id": "37bc9371-c418-4578-851d-950ee3261a55",
   "metadata": {},
   "outputs": [],
   "source": [
    "# Convert PIXC to GeoDataFrame\n",
    "gdf_PIXC = makeGDF(ds=ds_PIXC, mask=mask, data_vars=variables)"
   ]
  },
  {
   "cell_type": "code",
   "execution_count": 20,
   "id": "10b47007-ef30-4663-bf3a-2388d2095baf",
   "metadata": {},
   "outputs": [],
   "source": [
    "del ds_PIXC"
   ]
  },
  {
   "cell_type": "markdown",
   "id": "67de04c0-8e96-4b5d-be2b-0ca295d75273",
   "metadata": {},
   "source": [
    "### Find correct HUC4s"
   ]
  },
  {
   "cell_type": "code",
   "execution_count": 21,
   "id": "af1db866-f656-41d6-bde7-383044114334",
   "metadata": {},
   "outputs": [],
   "source": [
    "### NHDPlus HR\n",
    "## Find correct HUC4s\n",
    "# Read in tile and HUC4 intersection data\n",
    "# mdata_path = '/nas/cee-water/cjgleason/fiona/narrow_rivers_PIXC/data/' ## HERE\n",
    "dtype_dic= {'tile': str, 'huc4': str, 'coverage': float}\n",
    "tile_huc4 = pd.read_csv(os.path.join(mdata_path,\n",
    "                                    'huc4_swot_science_tiles.csv'),\n",
    "                        dtype=dtype_dic)"
   ]
  },
  {
   "cell_type": "code",
   "execution_count": 22,
   "id": "6c241cb3-e5b4-43b8-86f2-9d8c0afdff10",
   "metadata": {},
   "outputs": [],
   "source": [
    "# Make list of HUC4s that intersect the tile\n",
    "hucs = list(tile_huc4[(tile_huc4['tile'] == tile_name)]['huc4'])\n",
    "# Limit to the current HUC2\n",
    "hucs = [x for x in hucs if x.startswith(huc2)]"
   ]
  },
  {
   "cell_type": "code",
   "execution_count": 23,
   "id": "d97ee289-b5c4-4952-9521-71c052b8861b",
   "metadata": {},
   "outputs": [
    {
     "data": {
      "text/plain": [
       "['0101', '0102', '0105']"
      ]
     },
     "execution_count": 23,
     "metadata": {},
     "output_type": "execute_result"
    }
   ],
   "source": [
    "hucs"
   ]
  },
  {
   "cell_type": "markdown",
   "id": "8e4a50c6-9306-4d1e-853a-739263c0fe9e",
   "metadata": {},
   "source": [
    "### Read in buffered flowlines with extra"
   ]
  },
  {
   "cell_type": "code",
   "execution_count": 24,
   "id": "e704fd13-dd87-4695-9065-0c8ff975af3d",
   "metadata": {},
   "outputs": [],
   "source": [
    "data_path = '/nas/cee-water/cjgleason/fiona/narrow_rivers_PIXC_data/NHD_prepped_buffered_extra/HUC2_' + huc2 + '/'"
   ]
  },
  {
   "cell_type": "code",
   "execution_count": 25,
   "id": "3891e6d7-a0c0-4a9a-8f3d-b8b991495425",
   "metadata": {},
   "outputs": [],
   "source": [
    "file_paths = []\n",
    "\n",
    "for huc in hucs:\n",
    "    file_path = data_path + 'NHDPLUS_H_' + huc + '_HU4_GDB_prepped_buffered_extra_' + width_set + '.parquet'\n",
    "    file_paths.append(file_path)"
   ]
  },
  {
   "cell_type": "code",
   "execution_count": 26,
   "id": "6b728fc3-abbe-47cc-bd9a-7324bdb65669",
   "metadata": {},
   "outputs": [],
   "source": [
    "reach_mask = dask_geopandas.read_parquet(path=file_paths, columns=['NHDPlusID', 'buffers'])"
   ]
  },
  {
   "cell_type": "code",
   "execution_count": 27,
   "id": "fa6053e6-e0d3-48c5-b907-e4f3d784d7b0",
   "metadata": {},
   "outputs": [],
   "source": [
    "reach_mask = reach_mask.compute()"
   ]
  },
  {
   "cell_type": "code",
   "execution_count": 28,
   "id": "d30b2202-6fc8-441d-a37d-50cca6e4352f",
   "metadata": {},
   "outputs": [],
   "source": [
    "# Clip masked pixels to buffered reaches\n",
    "gdf_PIXC_clip = gpd.sjoin(gdf_PIXC, reach_mask, how='inner', predicate='within').reset_index().drop(columns=['index', 'index_right'])"
   ]
  },
  {
   "cell_type": "code",
   "execution_count": 29,
   "id": "2ce0ed83-fac7-49c0-a144-56cc42745e38",
   "metadata": {},
   "outputs": [],
   "source": [
    "if gdf_PIXC_clip.shape[0] == 0:\n",
    "    print('This granule has no pixels that intersect reaches, exiting.')\n",
    "    # sys.exit() "
   ]
  },
  {
   "cell_type": "markdown",
   "id": "97e0a9cb-0326-4126-8c16-a863f5891f6d",
   "metadata": {
    "tags": []
   },
   "source": [
    "### Nadir track"
   ]
  },
  {
   "cell_type": "code",
   "execution_count": 30,
   "id": "3296b62c-896b-49d9-a09f-9795daaedb2e",
   "metadata": {},
   "outputs": [],
   "source": [
    "# Get single pixel for selecting correct nadir segment\n",
    "pixel_pt = gdf_PIXC_clip.iloc[0].geometry"
   ]
  },
  {
   "cell_type": "code",
   "execution_count": 31,
   "id": "16ed2efd-7ef6-432d-bbcb-f93e6dd58a0f",
   "metadata": {},
   "outputs": [
    {
     "name": "stderr",
     "output_type": "stream",
     "text": [
      "/work/pi_cjgleason_umass_edu/.conda/envs/narrowPIXC/lib/python3.12/site-packages/geopandas/geodataframe.py:1819: SettingWithCopyWarning: \n",
      "A value is trying to be set on a copy of a slice from a DataFrame.\n",
      "Try using .loc[row_indexer,col_indexer] = value instead\n",
      "\n",
      "See the caveats in the documentation: https://pandas.pydata.org/pandas-docs/stable/user_guide/indexing.html#returning-a-view-versus-a-copy\n",
      "  super().__setitem__(key, value)\n"
     ]
    }
   ],
   "source": [
    "# Find correct nadir segment and return its geometry\n",
    "nadir_segment_ln = findNadir(pass_num=pass_num, pixel_pt=pixel_pt)"
   ]
  },
  {
   "cell_type": "markdown",
   "id": "d46398c4-f392-44b8-8a10-4e6018dd942c",
   "metadata": {
    "tags": []
   },
   "source": [
    "### Find alignment"
   ]
  },
  {
   "cell_type": "code",
   "execution_count": 32,
   "id": "cf93afd9-c09c-4ef7-8d2f-9b79d0f4d465",
   "metadata": {},
   "outputs": [],
   "source": [
    "az_nadir = calcAzimuth(line=nadir_segment_ln)"
   ]
  },
  {
   "cell_type": "code",
   "execution_count": 33,
   "id": "a0836358-efdb-412c-871f-e0d9cadfdba5",
   "metadata": {},
   "outputs": [
    {
     "data": {
      "text/plain": [
       "72.41249500094567"
      ]
     },
     "execution_count": 33,
     "metadata": {},
     "output_type": "execute_result"
    }
   ],
   "source": [
    "az_nadir"
   ]
  },
  {
   "cell_type": "markdown",
   "id": "784bca5c-fa07-4693-a7a2-f8318f5725d8",
   "metadata": {},
   "source": [
    "#### Read in flowlines"
   ]
  },
  {
   "cell_type": "code",
   "execution_count": 34,
   "id": "60b0337a-380f-4271-ac9c-370db0693dd2",
   "metadata": {},
   "outputs": [],
   "source": [
    "data_path = '/nas/cee-water/cjgleason/fiona/narrow_rivers_PIXC_data/NHD_prepped/HUC2_' + huc2 + '/'"
   ]
  },
  {
   "cell_type": "code",
   "execution_count": 35,
   "id": "56f68af1-5a8a-4aba-ac05-5374b838f79e",
   "metadata": {},
   "outputs": [],
   "source": [
    "file_paths = []\n",
    "\n",
    "for huc in hucs:\n",
    "    file_path = data_path + 'NHDPLUS_H_' + huc + '_HU4_GDB_prepped.parquet'\n",
    "    file_paths.append(file_path)"
   ]
  },
  {
   "cell_type": "code",
   "execution_count": 36,
   "id": "05ed712c-677e-4dd5-a9c6-3c77d717fada",
   "metadata": {},
   "outputs": [],
   "source": [
    "### SHOULD THIS BE FEWER\n",
    "fields = ['NHDPlusID', 'GNIS_Name', 'LengthKM', 'WidthM', 'WidthM_Min',\n",
    "          'WidthM_Max', 'Bin', 'Bin_Min', 'Bin_Max', 'StreamOrde',\n",
    "          'Slope', 'geometry']"
   ]
  },
  {
   "cell_type": "code",
   "execution_count": 37,
   "id": "d15ae238-71ea-4544-b4b7-b9eac3ea487a",
   "metadata": {},
   "outputs": [],
   "source": [
    "flowlines = dask_geopandas.read_parquet(path=file_paths, columns=fields)"
   ]
  },
  {
   "cell_type": "code",
   "execution_count": 38,
   "id": "9a045400-3003-4be4-afbe-7d6d81c3b68a",
   "metadata": {},
   "outputs": [],
   "source": [
    "flowlines = flowlines.compute()"
   ]
  },
  {
   "cell_type": "code",
   "execution_count": 39,
   "id": "cccbe5e9-149b-4fbd-823c-41a34f1e0c4a",
   "metadata": {},
   "outputs": [],
   "source": [
    "flowlines.loc[:,'geometry'] = flowlines.geometry.explode().force_2d()"
   ]
  },
  {
   "cell_type": "code",
   "execution_count": 40,
   "id": "f87853e5-cf0d-44c4-869e-37dfcd8b885b",
   "metadata": {},
   "outputs": [
    {
     "name": "stdout",
     "output_type": "stream",
     "text": [
      "INFO: Pandarallel will run on 2 workers.\n",
      "INFO: Pandarallel will use Memory file system to transfer data between the main process and workers.\n"
     ]
    }
   ],
   "source": [
    "pandarallel.initialize(nb_workers=int(os.environ.get('SLURM_CPUS_PER_TASK')))"
   ]
  },
  {
   "cell_type": "code",
   "execution_count": 41,
   "id": "aa956650-3f4e-4cc4-b017-269e07543acb",
   "metadata": {},
   "outputs": [],
   "source": [
    "flowlines['temp'] = flowlines.parallel_apply(user_defined_function=calcAzSin, axis=1)"
   ]
  },
  {
   "cell_type": "code",
   "execution_count": 42,
   "id": "73cd39f9-dbc1-47fc-a61c-a17b2907e4a5",
   "metadata": {},
   "outputs": [],
   "source": [
    "flowlines[['alignment', 'sinuosity']] = pd.DataFrame(flowlines['temp'].tolist(), index=flowlines.index)\n",
    "flowlines = flowlines.drop(columns='temp')"
   ]
  },
  {
   "cell_type": "markdown",
   "id": "6af80e8a-07ba-4f91-8636-b12874ac4bd1",
   "metadata": {},
   "source": [
    "### Make pseudo pixels"
   ]
  },
  {
   "cell_type": "code",
   "execution_count": 43,
   "id": "551e670e-f660-4137-b0ad-555e44b9a7a1",
   "metadata": {},
   "outputs": [],
   "source": [
    "# Set along-track pixel resolution\n",
    "azimuth_res = 22 # meters"
   ]
  },
  {
   "cell_type": "code",
   "execution_count": 44,
   "id": "b55b182b-82e9-4931-a2f6-bb21f8760149",
   "metadata": {},
   "outputs": [
    {
     "name": "stdout",
     "output_type": "stream",
     "text": [
      "3.786194086074829\n"
     ]
    }
   ],
   "source": [
    "# Make pseudo pixels\n",
    "start = time.time()\n",
    "gdf_PIXC_clip['pseudo_pixel'] = gdf_PIXC_clip.parallel_apply(user_defined_function=makePseudoPixels,\n",
    "                                                         args=(nadir_segment_ln,\n",
    "                                                               azimuth_res),\n",
    "                                                         axis=1)\n",
    "end = time.time()\n",
    "print(end - start)"
   ]
  },
  {
   "cell_type": "code",
   "execution_count": 45,
   "id": "e876d8aa-3055-4632-8cce-098926468f89",
   "metadata": {},
   "outputs": [],
   "source": [
    "gdf_PIXC_clip = gdf_PIXC_clip.rename(columns={'geometry': 'pixel_centroid'}).set_geometry('pseudo_pixel').set_crs(epsg=3857)"
   ]
  },
  {
   "cell_type": "code",
   "execution_count": 46,
   "id": "17fa13af-60b3-461f-9ad7-b4182e728520",
   "metadata": {},
   "outputs": [],
   "source": [
    "## DO I NEED THIS--for areas, yes, for heights, no\n",
    "# Copy geometry column as sjoin will discard it\n",
    "gdf_PIXC_clip['pseudo_geom'] = gdf_PIXC_clip.geometry\n",
    "\n",
    "# Get bounds of PIXC tile with pseudo-pixels\n",
    "pseudo_bounds = gdf_PIXC_clip.total_bounds"
   ]
  },
  {
   "cell_type": "code",
   "execution_count": 47,
   "id": "91096523-fb07-427d-8e49-b51954c8b9dd",
   "metadata": {},
   "outputs": [
    {
     "data": {
      "text/plain": [
       "Index(['points', 'azimuth_index', 'range_index', 'cross_track', 'pixel_area',\n",
       "       'height', 'geoid', 'solid_earth_tide', 'load_tide_fes', 'pole_tide',\n",
       "       'prior_water_prob', 'klass', 'latitude', 'longitude', 'pixel_centroid',\n",
       "       'NHDPlusID', 'pseudo_pixel', 'pseudo_geom'],\n",
       "      dtype='object')"
      ]
     },
     "execution_count": 47,
     "metadata": {},
     "output_type": "execute_result"
    }
   ],
   "source": [
    "gdf_PIXC_clip.columns"
   ]
  },
  {
   "cell_type": "markdown",
   "id": "858c7484-d355-4b2e-b0ce-3f33d5fdedff",
   "metadata": {
    "jp-MarkdownHeadingCollapsed": true,
    "tags": []
   },
   "source": [
    "### Read in segments"
   ]
  },
  {
   "cell_type": "code",
   "execution_count": null,
   "id": "806c166f-16db-4601-971f-2183e63ae80f",
   "metadata": {},
   "outputs": [],
   "source": [
    "data_path = '/nas/cee-water/cjgleason/fiona/narrow_rivers_PIXC_data/NHD_prepped_segmented_buffered/HUC2_' + huc2 + '/'"
   ]
  },
  {
   "cell_type": "code",
   "execution_count": null,
   "id": "74c76e81-d043-4318-b0cf-cfca11cd01da",
   "metadata": {},
   "outputs": [],
   "source": [
    "file_paths = []\n",
    "\n",
    "for huc in hucs:\n",
    "    file_path = data_path + 'NHDPLUS_H_' + huc + '_HU4_GDB_prepped_segmented_buffered_' + width_set + '.parquet'\n",
    "    file_paths.append(file_path)"
   ]
  },
  {
   "cell_type": "code",
   "execution_count": null,
   "id": "24ff2186-a876-4208-aa54-175003b04f2d",
   "metadata": {},
   "outputs": [],
   "source": [
    "segments = dask_geopandas.read_parquet(path=file_paths)"
   ]
  },
  {
   "cell_type": "code",
   "execution_count": null,
   "id": "e10ab204-27f0-4061-b1df-87b0d40a43fe",
   "metadata": {},
   "outputs": [],
   "source": [
    "segments = segments.compute()"
   ]
  },
  {
   "cell_type": "code",
   "execution_count": null,
   "id": "ff1ab870-8a1e-40f2-ac46-aaf7d26d3cb2",
   "metadata": {},
   "outputs": [],
   "source": [
    "# Clip segments to the extent of the pseudo-pixels\n",
    "segments = segments.clip(pseudo_bounds)"
   ]
  },
  {
   "cell_type": "code",
   "execution_count": null,
   "id": "74945aed-3de8-4129-aaa2-0b658cf83825",
   "metadata": {},
   "outputs": [],
   "source": [
    "# Keep only reaches that are fully contained in PIXC granule\n",
    "segments = segments.groupby('NHDPlusID').filter(lambda x: len(x) == 10)"
   ]
  },
  {
   "cell_type": "code",
   "execution_count": null,
   "id": "07f18a19-b059-41b1-94b3-8605f88168b9",
   "metadata": {},
   "outputs": [],
   "source": [
    "segments = segments.sort_values(by=['NHDPlusID', 'counter']).reset_index()"
   ]
  },
  {
   "cell_type": "code",
   "execution_count": null,
   "id": "d1d13419-ddeb-4b3a-bcbd-ebb653470c91",
   "metadata": {},
   "outputs": [],
   "source": [
    "segments = segments.drop(columns='index')"
   ]
  },
  {
   "cell_type": "code",
   "execution_count": null,
   "id": "3b7bbb49-83b0-4fdc-b0c8-e2dc41d3a8c5",
   "metadata": {},
   "outputs": [],
   "source": [
    "# Keep only reaches that are fully contained in PIXC granule\n",
    "segments = segments.groupby('NHDPlusID').filter(lambda x: len(x) == 10)"
   ]
  },
  {
   "cell_type": "code",
   "execution_count": null,
   "id": "175df691-6f78-4743-9422-044a045be63b",
   "metadata": {},
   "outputs": [],
   "source": [
    "# # Calculate segment area\n",
    "# segments['segment_area'] = segments.geometry.area"
   ]
  },
  {
   "cell_type": "markdown",
   "id": "6b3a4bee-02cb-4ad1-980d-4dd1858be95e",
   "metadata": {},
   "source": [
    "### Read in buffered flowlines"
   ]
  },
  {
   "cell_type": "code",
   "execution_count": 48,
   "id": "66d84c06-d6a4-4ad3-83c8-287faf2e063c",
   "metadata": {},
   "outputs": [],
   "source": [
    "data_path = '/nas/cee-water/cjgleason/fiona/narrow_rivers_PIXC_data/NHD_prepped_buffered/HUC2_' + huc2 + '/'"
   ]
  },
  {
   "cell_type": "code",
   "execution_count": 49,
   "id": "1f174d25-f898-4ae2-88c7-e311d89e548d",
   "metadata": {},
   "outputs": [],
   "source": [
    "file_paths = []\n",
    "\n",
    "for huc in hucs:\n",
    "    file_path = data_path + 'NHDPLUS_H_' + huc + '_HU4_GDB_prepped_buffered_' + width_set + '.parquet'\n",
    "    file_paths.append(file_path)"
   ]
  },
  {
   "cell_type": "code",
   "execution_count": 50,
   "id": "ab14b289-bdf9-4826-8dca-8073cea2d143",
   "metadata": {},
   "outputs": [],
   "source": [
    "reach_extent = dask_geopandas.read_parquet(path=file_paths, columns=['NHDPlusID', 'Slope', 'buffers'])"
   ]
  },
  {
   "cell_type": "code",
   "execution_count": 51,
   "id": "43a3f99e-389d-406a-96b1-29f61d8d107a",
   "metadata": {},
   "outputs": [],
   "source": [
    "reach_extent = reach_extent.compute()"
   ]
  },
  {
   "cell_type": "markdown",
   "id": "39cda7ca-e5f5-4037-820a-bc1ad282d602",
   "metadata": {},
   "source": [
    "### For heights"
   ]
  },
  {
   "cell_type": "code",
   "execution_count": 52,
   "id": "24552735-2b2e-45ce-b63d-3b54e530756a",
   "metadata": {},
   "outputs": [],
   "source": [
    "height_klass = [3, 4, 6, 7]"
   ]
  },
  {
   "cell_type": "code",
   "execution_count": 53,
   "id": "d905e7f7-fce8-4e58-8c03-0eb009a04d94",
   "metadata": {},
   "outputs": [],
   "source": [
    "for_heights = gdf_PIXC_clip[gdf_PIXC_clip.klass.isin(height_klass)].reset_index().drop(columns='index')"
   ]
  },
  {
   "cell_type": "code",
   "execution_count": 54,
   "id": "9d34f250-6d6a-4ff7-8243-85bbba0a04b0",
   "metadata": {},
   "outputs": [
    {
     "data": {
      "text/plain": [
       "533"
      ]
     },
     "execution_count": 54,
     "metadata": {},
     "output_type": "execute_result"
    }
   ],
   "source": [
    "len(gdf_PIXC_clip.NHDPlusID.unique())"
   ]
  },
  {
   "cell_type": "code",
   "execution_count": 55,
   "id": "21a9d4f7-7808-4c75-a698-5ff111c0ff7e",
   "metadata": {},
   "outputs": [
    {
     "data": {
      "text/plain": [
       "451"
      ]
     },
     "execution_count": 55,
     "metadata": {},
     "output_type": "execute_result"
    }
   ],
   "source": [
    "len(for_heights.NHDPlusID.unique())"
   ]
  },
  {
   "cell_type": "code",
   "execution_count": 59,
   "id": "a8bd7c2e-9cae-4b64-9c07-812b1520135e",
   "metadata": {},
   "outputs": [],
   "source": [
    "for_heights['wse'] = for_heights.height - for_heights.geoid - for_heights.solid_earth_tide - for_heights.load_tide_fes - for_heights.pole_tide"
   ]
  },
  {
   "cell_type": "code",
   "execution_count": 60,
   "id": "87bd4349-0987-4e45-ab97-94fcfd0ed08f",
   "metadata": {},
   "outputs": [],
   "source": [
    "for_heights = for_heights.drop(columns=['height', 'geoid', 'solid_earth_tide', 'load_tide_fes', 'pole_tide'])"
   ]
  },
  {
   "cell_type": "code",
   "execution_count": 63,
   "id": "bb907780-d674-413c-9436-2c53926de951",
   "metadata": {},
   "outputs": [],
   "source": [
    "# Clip masked pixels to buffered reaches\n",
    "test = gpd.sjoin(for_heights, reach_extent, how='inner', predicate='intersects').reset_index()\n",
    "test = test.drop(columns=['index', 'index_right', 'NHDPlusID_left', 'pseudo_geom'])"
   ]
  },
  {
   "cell_type": "code",
   "execution_count": 64,
   "id": "681c6aba-54c3-4ac6-93b4-72b0ac2c96b5",
   "metadata": {},
   "outputs": [
    {
     "data": {
      "text/html": [
       "<div>\n",
       "<style scoped>\n",
       "    .dataframe tbody tr th:only-of-type {\n",
       "        vertical-align: middle;\n",
       "    }\n",
       "\n",
       "    .dataframe tbody tr th {\n",
       "        vertical-align: top;\n",
       "    }\n",
       "\n",
       "    .dataframe thead th {\n",
       "        text-align: right;\n",
       "    }\n",
       "</style>\n",
       "<table border=\"1\" class=\"dataframe\">\n",
       "  <thead>\n",
       "    <tr style=\"text-align: right;\">\n",
       "      <th></th>\n",
       "      <th>points</th>\n",
       "      <th>azimuth_index</th>\n",
       "      <th>range_index</th>\n",
       "      <th>cross_track</th>\n",
       "      <th>pixel_area</th>\n",
       "      <th>prior_water_prob</th>\n",
       "      <th>klass</th>\n",
       "      <th>latitude</th>\n",
       "      <th>longitude</th>\n",
       "      <th>pixel_centroid</th>\n",
       "      <th>pseudo_pixel</th>\n",
       "      <th>wse</th>\n",
       "      <th>NHDPlusID_right</th>\n",
       "      <th>Slope</th>\n",
       "    </tr>\n",
       "  </thead>\n",
       "  <tbody>\n",
       "    <tr>\n",
       "      <th>0</th>\n",
       "      <td>157</td>\n",
       "      <td>161.0</td>\n",
       "      <td>1236.0</td>\n",
       "      <td>23140.648438</td>\n",
       "      <td>556.804932</td>\n",
       "      <td>0.0</td>\n",
       "      <td>3.0</td>\n",
       "      <td>45.388645</td>\n",
       "      <td>-67.751008</td>\n",
       "      <td>POINT (-7542007.719 5682914.67)</td>\n",
       "      <td>POLYGON ((-7542017.116 5682928.557, -7542022.7...</td>\n",
       "      <td>104.567116</td>\n",
       "      <td>5.000200e+12</td>\n",
       "      <td>0.000010</td>\n",
       "    </tr>\n",
       "    <tr>\n",
       "      <th>1</th>\n",
       "      <td>303</td>\n",
       "      <td>161.0</td>\n",
       "      <td>1688.0</td>\n",
       "      <td>31692.291016</td>\n",
       "      <td>406.816620</td>\n",
       "      <td>0.0</td>\n",
       "      <td>3.0</td>\n",
       "      <td>45.368263</td>\n",
       "      <td>-67.644580</td>\n",
       "      <td>POINT (-7530160.255 5679684.403)</td>\n",
       "      <td>POLYGON ((-7530166.358 5679697.413, -7530172.0...</td>\n",
       "      <td>64.555763</td>\n",
       "      <td>5.000200e+12</td>\n",
       "      <td>0.001725</td>\n",
       "    </tr>\n",
       "    <tr>\n",
       "      <th>2</th>\n",
       "      <td>304</td>\n",
       "      <td>161.0</td>\n",
       "      <td>1689.0</td>\n",
       "      <td>31709.978516</td>\n",
       "      <td>406.590179</td>\n",
       "      <td>0.0</td>\n",
       "      <td>3.0</td>\n",
       "      <td>45.368224</td>\n",
       "      <td>-67.644382</td>\n",
       "      <td>POINT (-7530138.197 5679678.374)</td>\n",
       "      <td>POLYGON ((-7530144.294 5679691.382, -7530149.9...</td>\n",
       "      <td>64.450737</td>\n",
       "      <td>5.000200e+12</td>\n",
       "      <td>0.001725</td>\n",
       "    </tr>\n",
       "    <tr>\n",
       "      <th>3</th>\n",
       "      <td>305</td>\n",
       "      <td>161.0</td>\n",
       "      <td>1690.0</td>\n",
       "      <td>31727.929688</td>\n",
       "      <td>406.360626</td>\n",
       "      <td>0.0</td>\n",
       "      <td>3.0</td>\n",
       "      <td>45.368219</td>\n",
       "      <td>-67.644354</td>\n",
       "      <td>POINT (-7530135.093 5679677.527)</td>\n",
       "      <td>POLYGON ((-7530141.186 5679690.533, -7530146.8...</td>\n",
       "      <td>63.792355</td>\n",
       "      <td>5.000200e+12</td>\n",
       "      <td>0.001725</td>\n",
       "    </tr>\n",
       "    <tr>\n",
       "      <th>4</th>\n",
       "      <td>957</td>\n",
       "      <td>162.0</td>\n",
       "      <td>1234.0</td>\n",
       "      <td>23106.451172</td>\n",
       "      <td>557.627563</td>\n",
       "      <td>0.0</td>\n",
       "      <td>3.0</td>\n",
       "      <td>45.388916</td>\n",
       "      <td>-67.751366</td>\n",
       "      <td>POINT (-7542047.562 5682957.598)</td>\n",
       "      <td>POLYGON ((-7542056.977 5682971.489, -7542062.6...</td>\n",
       "      <td>105.092285</td>\n",
       "      <td>5.000200e+12</td>\n",
       "      <td>0.000010</td>\n",
       "    </tr>\n",
       "    <tr>\n",
       "      <th>...</th>\n",
       "      <td>...</td>\n",
       "      <td>...</td>\n",
       "      <td>...</td>\n",
       "      <td>...</td>\n",
       "      <td>...</td>\n",
       "      <td>...</td>\n",
       "      <td>...</td>\n",
       "      <td>...</td>\n",
       "      <td>...</td>\n",
       "      <td>...</td>\n",
       "      <td>...</td>\n",
       "      <td>...</td>\n",
       "      <td>...</td>\n",
       "      <td>...</td>\n",
       "    </tr>\n",
       "    <tr>\n",
       "      <th>8404</th>\n",
       "      <td>1601866</td>\n",
       "      <td>1663.0</td>\n",
       "      <td>1050.0</td>\n",
       "      <td>15584.335938</td>\n",
       "      <td>826.115723</td>\n",
       "      <td>0.9</td>\n",
       "      <td>4.0</td>\n",
       "      <td>45.689281</td>\n",
       "      <td>-67.732523</td>\n",
       "      <td>POINT (-7539949.952 5730695.312)</td>\n",
       "      <td>POLYGON ((-7539965.205 5730710.831, -7539970.9...</td>\n",
       "      <td>127.364258</td>\n",
       "      <td>5.000200e+12</td>\n",
       "      <td>0.000100</td>\n",
       "    </tr>\n",
       "    <tr>\n",
       "      <th>8405</th>\n",
       "      <td>1601867</td>\n",
       "      <td>1663.0</td>\n",
       "      <td>1051.0</td>\n",
       "      <td>15621.580078</td>\n",
       "      <td>824.151550</td>\n",
       "      <td>0.0</td>\n",
       "      <td>4.0</td>\n",
       "      <td>45.689197</td>\n",
       "      <td>-67.732084</td>\n",
       "      <td>POINT (-7539901.11 5730681.988)</td>\n",
       "      <td>POLYGON ((-7539916.321 5730697.496, -7539922.0...</td>\n",
       "      <td>127.316948</td>\n",
       "      <td>5.000200e+12</td>\n",
       "      <td>0.000100</td>\n",
       "    </tr>\n",
       "    <tr>\n",
       "      <th>8406</th>\n",
       "      <td>1601868</td>\n",
       "      <td>1663.0</td>\n",
       "      <td>1052.0</td>\n",
       "      <td>15659.371094</td>\n",
       "      <td>822.167969</td>\n",
       "      <td>0.0</td>\n",
       "      <td>4.0</td>\n",
       "      <td>45.689121</td>\n",
       "      <td>-67.731682</td>\n",
       "      <td>POINT (-7539856.398 5730669.79)</td>\n",
       "      <td>POLYGON ((-7539871.564 5730685.286, -7539877.3...</td>\n",
       "      <td>127.211662</td>\n",
       "      <td>5.000200e+12</td>\n",
       "      <td>0.000100</td>\n",
       "    </tr>\n",
       "    <tr>\n",
       "      <th>8407</th>\n",
       "      <td>1601869</td>\n",
       "      <td>1663.0</td>\n",
       "      <td>1053.0</td>\n",
       "      <td>15697.072266</td>\n",
       "      <td>820.198608</td>\n",
       "      <td>0.0</td>\n",
       "      <td>3.0</td>\n",
       "      <td>45.689053</td>\n",
       "      <td>-67.731325</td>\n",
       "      <td>POINT (-7539816.651 5730658.947)</td>\n",
       "      <td>POLYGON ((-7539831.774 5730674.431, -7539837.5...</td>\n",
       "      <td>127.035927</td>\n",
       "      <td>5.000200e+12</td>\n",
       "      <td>0.000100</td>\n",
       "    </tr>\n",
       "    <tr>\n",
       "      <th>8408</th>\n",
       "      <td>1603199</td>\n",
       "      <td>1664.0</td>\n",
       "      <td>1054.0</td>\n",
       "      <td>15730.197266</td>\n",
       "      <td>818.462341</td>\n",
       "      <td>0.0</td>\n",
       "      <td>3.0</td>\n",
       "      <td>45.689218</td>\n",
       "      <td>-67.731130</td>\n",
       "      <td>POINT (-7539794.883 5730685.284)</td>\n",
       "      <td>POLYGON ((-7539809.968 5730700.758, -7539815.7...</td>\n",
       "      <td>126.525574</td>\n",
       "      <td>5.000200e+12</td>\n",
       "      <td>0.000100</td>\n",
       "    </tr>\n",
       "  </tbody>\n",
       "</table>\n",
       "<p>8409 rows × 14 columns</p>\n",
       "</div>"
      ],
      "text/plain": [
       "       points  azimuth_index  range_index   cross_track  pixel_area  \\\n",
       "0         157          161.0       1236.0  23140.648438  556.804932   \n",
       "1         303          161.0       1688.0  31692.291016  406.816620   \n",
       "2         304          161.0       1689.0  31709.978516  406.590179   \n",
       "3         305          161.0       1690.0  31727.929688  406.360626   \n",
       "4         957          162.0       1234.0  23106.451172  557.627563   \n",
       "...       ...            ...          ...           ...         ...   \n",
       "8404  1601866         1663.0       1050.0  15584.335938  826.115723   \n",
       "8405  1601867         1663.0       1051.0  15621.580078  824.151550   \n",
       "8406  1601868         1663.0       1052.0  15659.371094  822.167969   \n",
       "8407  1601869         1663.0       1053.0  15697.072266  820.198608   \n",
       "8408  1603199         1664.0       1054.0  15730.197266  818.462341   \n",
       "\n",
       "      prior_water_prob  klass   latitude  longitude  \\\n",
       "0                  0.0    3.0  45.388645 -67.751008   \n",
       "1                  0.0    3.0  45.368263 -67.644580   \n",
       "2                  0.0    3.0  45.368224 -67.644382   \n",
       "3                  0.0    3.0  45.368219 -67.644354   \n",
       "4                  0.0    3.0  45.388916 -67.751366   \n",
       "...                ...    ...        ...        ...   \n",
       "8404               0.9    4.0  45.689281 -67.732523   \n",
       "8405               0.0    4.0  45.689197 -67.732084   \n",
       "8406               0.0    4.0  45.689121 -67.731682   \n",
       "8407               0.0    3.0  45.689053 -67.731325   \n",
       "8408               0.0    3.0  45.689218 -67.731130   \n",
       "\n",
       "                        pixel_centroid  \\\n",
       "0      POINT (-7542007.719 5682914.67)   \n",
       "1     POINT (-7530160.255 5679684.403)   \n",
       "2     POINT (-7530138.197 5679678.374)   \n",
       "3     POINT (-7530135.093 5679677.527)   \n",
       "4     POINT (-7542047.562 5682957.598)   \n",
       "...                                ...   \n",
       "8404  POINT (-7539949.952 5730695.312)   \n",
       "8405   POINT (-7539901.11 5730681.988)   \n",
       "8406   POINT (-7539856.398 5730669.79)   \n",
       "8407  POINT (-7539816.651 5730658.947)   \n",
       "8408  POINT (-7539794.883 5730685.284)   \n",
       "\n",
       "                                           pseudo_pixel         wse  \\\n",
       "0     POLYGON ((-7542017.116 5682928.557, -7542022.7...  104.567116   \n",
       "1     POLYGON ((-7530166.358 5679697.413, -7530172.0...   64.555763   \n",
       "2     POLYGON ((-7530144.294 5679691.382, -7530149.9...   64.450737   \n",
       "3     POLYGON ((-7530141.186 5679690.533, -7530146.8...   63.792355   \n",
       "4     POLYGON ((-7542056.977 5682971.489, -7542062.6...  105.092285   \n",
       "...                                                 ...         ...   \n",
       "8404  POLYGON ((-7539965.205 5730710.831, -7539970.9...  127.364258   \n",
       "8405  POLYGON ((-7539916.321 5730697.496, -7539922.0...  127.316948   \n",
       "8406  POLYGON ((-7539871.564 5730685.286, -7539877.3...  127.211662   \n",
       "8407  POLYGON ((-7539831.774 5730674.431, -7539837.5...  127.035927   \n",
       "8408  POLYGON ((-7539809.968 5730700.758, -7539815.7...  126.525574   \n",
       "\n",
       "      NHDPlusID_right     Slope  \n",
       "0        5.000200e+12  0.000010  \n",
       "1        5.000200e+12  0.001725  \n",
       "2        5.000200e+12  0.001725  \n",
       "3        5.000200e+12  0.001725  \n",
       "4        5.000200e+12  0.000010  \n",
       "...               ...       ...  \n",
       "8404     5.000200e+12  0.000100  \n",
       "8405     5.000200e+12  0.000100  \n",
       "8406     5.000200e+12  0.000100  \n",
       "8407     5.000200e+12  0.000100  \n",
       "8408     5.000200e+12  0.000100  \n",
       "\n",
       "[8409 rows x 14 columns]"
      ]
     },
     "execution_count": 64,
     "metadata": {},
     "output_type": "execute_result"
    }
   ],
   "source": [
    "test"
   ]
  },
  {
   "cell_type": "code",
   "execution_count": 65,
   "id": "78c5ad61-a648-4a13-ab92-94df45c18c8e",
   "metadata": {},
   "outputs": [],
   "source": [
    "test = test.rename(columns={'NHDPlusID_right': 'NHDPlusID'})"
   ]
  },
  {
   "cell_type": "code",
   "execution_count": 66,
   "id": "a06a3270-6da2-4982-bbd5-61f7b217d6e0",
   "metadata": {},
   "outputs": [],
   "source": [
    "test = pd.merge(left=test, right=flowlines[['NHDPlusID', 'geometry']], on='NHDPlusID')"
   ]
  },
  {
   "cell_type": "code",
   "execution_count": 67,
   "id": "2ab9dd58-b1bb-4041-8cdc-0f2d16b711ae",
   "metadata": {},
   "outputs": [],
   "source": [
    "test = test.rename(columns={'geometry': 'flowline'})"
   ]
  },
  {
   "cell_type": "code",
   "execution_count": null,
   "id": "7f07e526-7113-440f-8254-2fd9f715369b",
   "metadata": {},
   "outputs": [],
   "source": [
    "# del flowlines ????"
   ]
  },
  {
   "cell_type": "code",
   "execution_count": 68,
   "id": "797b633a-56a1-4b14-b422-eaf2901fcb73",
   "metadata": {},
   "outputs": [],
   "source": [
    "def project_point(line, point):\n",
    "    # Project point onto line\n",
    "    return line.project(point)"
   ]
  },
  {
   "cell_type": "code",
   "execution_count": 69,
   "id": "8d4ef07a-825c-4e82-9ad5-ed17ede4e1d8",
   "metadata": {},
   "outputs": [],
   "source": [
    "test['distance'] = test.apply(lambda x: project_point(x['flowline'], x['pixel_centroid']), axis=1)"
   ]
  },
  {
   "cell_type": "code",
   "execution_count": 70,
   "id": "118928f8-ae6f-4f22-ad8f-5c57aaae6d26",
   "metadata": {},
   "outputs": [
    {
     "data": {
      "text/plain": [
       "Index(['points', 'azimuth_index', 'range_index', 'cross_track', 'pixel_area',\n",
       "       'prior_water_prob', 'klass', 'latitude', 'longitude', 'pixel_centroid',\n",
       "       'pseudo_pixel', 'wse', 'NHDPlusID', 'Slope', 'flowline', 'distance'],\n",
       "      dtype='object')"
      ]
     },
     "execution_count": 70,
     "metadata": {},
     "output_type": "execute_result"
    }
   ],
   "source": [
    "test.columns"
   ]
  },
  {
   "cell_type": "code",
   "execution_count": 71,
   "id": "537eaf03-9a0d-420c-8554-d3096ad751d0",
   "metadata": {},
   "outputs": [],
   "source": [
    "test = test.set_geometry('pixel_centroid')"
   ]
  },
  {
   "cell_type": "code",
   "execution_count": 72,
   "id": "d0799f88-0a1b-4e06-ae51-0bdecaab711c",
   "metadata": {},
   "outputs": [],
   "source": [
    "test = test.drop(columns=['pseudo_pixel', 'flowline'])\n",
    "# for_heights = for_heights.drop(columns=['flowline'])"
   ]
  },
  {
   "cell_type": "code",
   "execution_count": null,
   "id": "bfec14ed-53ee-453d-abf1-34fbe23b15a9",
   "metadata": {},
   "outputs": [],
   "source": [
    "# ## ASSUMING THIS IS CORRECT--NEED TO COM BACK AND THINK ABOUT IT\n",
    "# ## SHOULD I JUST BE INTERSECTING THE CENTROID? SHOULD IT BE WITH THE BUFFER? AGH\n",
    "# gdf_height = gpd.sjoin(reach_extent, for_heights, predicate='intersects') # [['NHDPlusID', 'counter', 'GNIS_Name', 'height']]"
   ]
  },
  {
   "cell_type": "code",
   "execution_count": null,
   "id": "78c85534-f891-470f-bc44-dc996bd13244",
   "metadata": {},
   "outputs": [],
   "source": [
    "# del for_heights"
   ]
  },
  {
   "cell_type": "code",
   "execution_count": null,
   "id": "ca3963e4-9d97-4168-a3c7-972a3f803dac",
   "metadata": {},
   "outputs": [],
   "source": [
    "# gdf_height = gdf_height.rename(columns={'NHDPlusID_left': 'NHDPlusID'})\n",
    "# gdf_height = gdf_height.sort_values(by=['NHDPlusID']).reset_index().drop(columns=['index', 'NHDPlusID_right'])"
   ]
  },
  {
   "cell_type": "code",
   "execution_count": 73,
   "id": "a5a7237f-5ae2-44c2-a8b0-7849255fa6a5",
   "metadata": {},
   "outputs": [],
   "source": [
    "# ids = gdf_height['NHDPlusID'].unique()\n",
    "ids = test['NHDPlusID'].unique()"
   ]
  },
  {
   "cell_type": "code",
   "execution_count": 76,
   "id": "1c276983-cbf8-42e7-b856-4ea0bd5ef361",
   "metadata": {},
   "outputs": [
    {
     "data": {
      "text/plain": [
       "367"
      ]
     },
     "execution_count": 76,
     "metadata": {},
     "output_type": "execute_result"
    }
   ],
   "source": [
    "len(ids)"
   ]
  },
  {
   "cell_type": "code",
   "execution_count": 77,
   "id": "9e56d4f2-97a2-4c99-8953-fd61513038b8",
   "metadata": {},
   "outputs": [],
   "source": [
    "slope_swot = []\n",
    "\n",
    "for i in ids:\n",
    "    temp = test[test['NHDPlusID'] == i][['distance', 'wse']]\n",
    "    dist = temp['distance'].tolist()\n",
    "    wse = temp['wse'].tolist()\n",
    "    \n",
    "    if len(set(dist)) == 1:\n",
    "        slope_swot.append(np.nan)\n",
    "    else:\n",
    "        slope_swot.append(stats.linregress(x=dist, y=wse).slope)"
   ]
  },
  {
   "cell_type": "code",
   "execution_count": 78,
   "id": "7505465f-d910-4f22-805d-08fc7389f903",
   "metadata": {},
   "outputs": [],
   "source": [
    "temp = pd.DataFrame({'NHDPlusID': ids, 'slope_swot': slope_swot})"
   ]
  },
  {
   "cell_type": "code",
   "execution_count": 79,
   "id": "bb6f8a1e-d81b-461f-a1da-173888bc79f4",
   "metadata": {},
   "outputs": [],
   "source": [
    "temp = pd.merge(left=temp, right=test[['NHDPlusID', 'Slope']], how='left', on='NHDPlusID')"
   ]
  },
  {
   "cell_type": "code",
   "execution_count": 80,
   "id": "930a2934-d39a-4d20-9ded-39f5eae9df2b",
   "metadata": {},
   "outputs": [],
   "source": [
    "temp['slope_swot'] = np.abs(temp['slope_swot'])"
   ]
  },
  {
   "cell_type": "code",
   "execution_count": 92,
   "id": "b944b059-2d44-4ca8-97b8-f38b42418d67",
   "metadata": {},
   "outputs": [],
   "source": [
    "temp = temp.drop_duplicates(subset='NHDPlusID').reset_index()"
   ]
  },
  {
   "cell_type": "code",
   "execution_count": 94,
   "id": "f5cdd593-11fe-4957-b09c-60557ff583da",
   "metadata": {},
   "outputs": [
    {
     "data": {
      "text/html": [
       "<div>\n",
       "<style scoped>\n",
       "    .dataframe tbody tr th:only-of-type {\n",
       "        vertical-align: middle;\n",
       "    }\n",
       "\n",
       "    .dataframe tbody tr th {\n",
       "        vertical-align: top;\n",
       "    }\n",
       "\n",
       "    .dataframe thead th {\n",
       "        text-align: right;\n",
       "    }\n",
       "</style>\n",
       "<table border=\"1\" class=\"dataframe\">\n",
       "  <thead>\n",
       "    <tr style=\"text-align: right;\">\n",
       "      <th></th>\n",
       "      <th>index</th>\n",
       "      <th>NHDPlusID</th>\n",
       "      <th>slope_swot</th>\n",
       "      <th>Slope</th>\n",
       "      <th>slope_match</th>\n",
       "    </tr>\n",
       "  </thead>\n",
       "  <tbody>\n",
       "    <tr>\n",
       "      <th>1</th>\n",
       "      <td>3</td>\n",
       "      <td>5.000200e+12</td>\n",
       "      <td>0.007466</td>\n",
       "      <td>0.001725</td>\n",
       "      <td>True</td>\n",
       "    </tr>\n",
       "    <tr>\n",
       "      <th>2</th>\n",
       "      <td>11</td>\n",
       "      <td>5.000200e+12</td>\n",
       "      <td>0.000775</td>\n",
       "      <td>0.000144</td>\n",
       "      <td>True</td>\n",
       "    </tr>\n",
       "    <tr>\n",
       "      <th>5</th>\n",
       "      <td>34</td>\n",
       "      <td>5.000200e+12</td>\n",
       "      <td>0.005471</td>\n",
       "      <td>0.003958</td>\n",
       "      <td>True</td>\n",
       "    </tr>\n",
       "    <tr>\n",
       "      <th>6</th>\n",
       "      <td>42</td>\n",
       "      <td>5.000200e+12</td>\n",
       "      <td>0.002710</td>\n",
       "      <td>0.002230</td>\n",
       "      <td>True</td>\n",
       "    </tr>\n",
       "    <tr>\n",
       "      <th>7</th>\n",
       "      <td>49</td>\n",
       "      <td>5.000200e+12</td>\n",
       "      <td>0.008722</td>\n",
       "      <td>0.005288</td>\n",
       "      <td>True</td>\n",
       "    </tr>\n",
       "    <tr>\n",
       "      <th>...</th>\n",
       "      <td>...</td>\n",
       "      <td>...</td>\n",
       "      <td>...</td>\n",
       "      <td>...</td>\n",
       "      <td>...</td>\n",
       "    </tr>\n",
       "    <tr>\n",
       "      <th>356</th>\n",
       "      <td>7595</td>\n",
       "      <td>5.000200e+12</td>\n",
       "      <td>0.000825</td>\n",
       "      <td>0.000100</td>\n",
       "      <td>True</td>\n",
       "    </tr>\n",
       "    <tr>\n",
       "      <th>357</th>\n",
       "      <td>7642</td>\n",
       "      <td>5.000200e+12</td>\n",
       "      <td>0.004196</td>\n",
       "      <td>0.002166</td>\n",
       "      <td>True</td>\n",
       "    </tr>\n",
       "    <tr>\n",
       "      <th>358</th>\n",
       "      <td>7813</td>\n",
       "      <td>5.000200e+12</td>\n",
       "      <td>0.004470</td>\n",
       "      <td>0.001869</td>\n",
       "      <td>True</td>\n",
       "    </tr>\n",
       "    <tr>\n",
       "      <th>359</th>\n",
       "      <td>7823</td>\n",
       "      <td>5.000200e+12</td>\n",
       "      <td>0.000016</td>\n",
       "      <td>0.000010</td>\n",
       "      <td>True</td>\n",
       "    </tr>\n",
       "    <tr>\n",
       "      <th>361</th>\n",
       "      <td>8099</td>\n",
       "      <td>5.000200e+12</td>\n",
       "      <td>0.002186</td>\n",
       "      <td>0.007289</td>\n",
       "      <td>True</td>\n",
       "    </tr>\n",
       "  </tbody>\n",
       "</table>\n",
       "<p>141 rows × 5 columns</p>\n",
       "</div>"
      ],
      "text/plain": [
       "     index     NHDPlusID  slope_swot     Slope  slope_match\n",
       "1        3  5.000200e+12    0.007466  0.001725         True\n",
       "2       11  5.000200e+12    0.000775  0.000144         True\n",
       "5       34  5.000200e+12    0.005471  0.003958         True\n",
       "6       42  5.000200e+12    0.002710  0.002230         True\n",
       "7       49  5.000200e+12    0.008722  0.005288         True\n",
       "..     ...           ...         ...       ...          ...\n",
       "356   7595  5.000200e+12    0.000825  0.000100         True\n",
       "357   7642  5.000200e+12    0.004196  0.002166         True\n",
       "358   7813  5.000200e+12    0.004470  0.001869         True\n",
       "359   7823  5.000200e+12    0.000016  0.000010         True\n",
       "361   8099  5.000200e+12    0.002186  0.007289         True\n",
       "\n",
       "[141 rows x 5 columns]"
      ]
     },
     "execution_count": 94,
     "metadata": {},
     "output_type": "execute_result"
    }
   ],
   "source": [
    "temp[temp['slope_match'] == True]"
   ]
  },
  {
   "cell_type": "code",
   "execution_count": 85,
   "id": "4349d0bc-2c40-432c-af16-11e0d605e300",
   "metadata": {},
   "outputs": [
    {
     "data": {
      "text/plain": [
       "367"
      ]
     },
     "execution_count": 85,
     "metadata": {},
     "output_type": "execute_result"
    }
   ],
   "source": [
    "len(temp.NHDPlusID.unique())"
   ]
  },
  {
   "cell_type": "code",
   "execution_count": 86,
   "id": "150e1184-a04b-4871-9913-17b19b3e0f86",
   "metadata": {},
   "outputs": [],
   "source": [
    "def checkMag(df):\n",
    "    # if df['slope_swot'] > df['Slope']:\n",
    "    #     ratio = df['slope_swot'] / df['Slope']\n",
    "    # else:\n",
    "    #     ratio = df['Slope'] / df['slope_swot']\n",
    "    if np.isnan(df['slope_swot']):\n",
    "        return False\n",
    "    \n",
    "    else:\n",
    "        order1 = math.floor(math.log10(df['slope_swot']))\n",
    "        order2 = math.floor(math.log10(df['Slope']))\n",
    "        \n",
    "    # if (ratio > 0.1) and (ratio < 10):\n",
    "    #     return True\n",
    "    # else:\n",
    "    #     return False\n",
    "\n",
    "        if order1 == order2:\n",
    "            return True\n",
    "        else:\n",
    "            return False"
   ]
  },
  {
   "cell_type": "code",
   "execution_count": 87,
   "id": "ae7dbc7e-b8b1-42fe-93ad-079f47b3d480",
   "metadata": {
    "tags": []
   },
   "outputs": [],
   "source": [
    "temp['slope_match'] = temp.apply(func = checkMag, axis=1)"
   ]
  },
  {
   "cell_type": "code",
   "execution_count": 88,
   "id": "987783a0-f970-4207-938d-ae6b9a3bff7e",
   "metadata": {},
   "outputs": [
    {
     "data": {
      "text/html": [
       "<div>\n",
       "<style scoped>\n",
       "    .dataframe tbody tr th:only-of-type {\n",
       "        vertical-align: middle;\n",
       "    }\n",
       "\n",
       "    .dataframe tbody tr th {\n",
       "        vertical-align: top;\n",
       "    }\n",
       "\n",
       "    .dataframe thead th {\n",
       "        text-align: right;\n",
       "    }\n",
       "</style>\n",
       "<table border=\"1\" class=\"dataframe\">\n",
       "  <thead>\n",
       "    <tr style=\"text-align: right;\">\n",
       "      <th></th>\n",
       "      <th>NHDPlusID</th>\n",
       "      <th>slope_swot</th>\n",
       "      <th>Slope</th>\n",
       "      <th>slope_match</th>\n",
       "    </tr>\n",
       "  </thead>\n",
       "  <tbody>\n",
       "    <tr>\n",
       "      <th>0</th>\n",
       "      <td>5.000200e+12</td>\n",
       "      <td>0.020520</td>\n",
       "      <td>0.000010</td>\n",
       "      <td>False</td>\n",
       "    </tr>\n",
       "    <tr>\n",
       "      <th>1</th>\n",
       "      <td>5.000200e+12</td>\n",
       "      <td>0.020520</td>\n",
       "      <td>0.000010</td>\n",
       "      <td>False</td>\n",
       "    </tr>\n",
       "    <tr>\n",
       "      <th>2</th>\n",
       "      <td>5.000200e+12</td>\n",
       "      <td>0.020520</td>\n",
       "      <td>0.000010</td>\n",
       "      <td>False</td>\n",
       "    </tr>\n",
       "    <tr>\n",
       "      <th>3</th>\n",
       "      <td>5.000200e+12</td>\n",
       "      <td>0.007466</td>\n",
       "      <td>0.001725</td>\n",
       "      <td>True</td>\n",
       "    </tr>\n",
       "    <tr>\n",
       "      <th>4</th>\n",
       "      <td>5.000200e+12</td>\n",
       "      <td>0.007466</td>\n",
       "      <td>0.001725</td>\n",
       "      <td>True</td>\n",
       "    </tr>\n",
       "    <tr>\n",
       "      <th>...</th>\n",
       "      <td>...</td>\n",
       "      <td>...</td>\n",
       "      <td>...</td>\n",
       "      <td>...</td>\n",
       "    </tr>\n",
       "    <tr>\n",
       "      <th>8404</th>\n",
       "      <td>5.000200e+12</td>\n",
       "      <td>0.000004</td>\n",
       "      <td>0.000100</td>\n",
       "      <td>False</td>\n",
       "    </tr>\n",
       "    <tr>\n",
       "      <th>8405</th>\n",
       "      <td>5.000200e+12</td>\n",
       "      <td>0.000004</td>\n",
       "      <td>0.000100</td>\n",
       "      <td>False</td>\n",
       "    </tr>\n",
       "    <tr>\n",
       "      <th>8406</th>\n",
       "      <td>5.000200e+12</td>\n",
       "      <td>0.000004</td>\n",
       "      <td>0.000100</td>\n",
       "      <td>False</td>\n",
       "    </tr>\n",
       "    <tr>\n",
       "      <th>8407</th>\n",
       "      <td>5.000200e+12</td>\n",
       "      <td>0.000004</td>\n",
       "      <td>0.000100</td>\n",
       "      <td>False</td>\n",
       "    </tr>\n",
       "    <tr>\n",
       "      <th>8408</th>\n",
       "      <td>5.000200e+12</td>\n",
       "      <td>0.000004</td>\n",
       "      <td>0.000100</td>\n",
       "      <td>False</td>\n",
       "    </tr>\n",
       "  </tbody>\n",
       "</table>\n",
       "<p>8409 rows × 4 columns</p>\n",
       "</div>"
      ],
      "text/plain": [
       "         NHDPlusID  slope_swot     Slope  slope_match\n",
       "0     5.000200e+12    0.020520  0.000010        False\n",
       "1     5.000200e+12    0.020520  0.000010        False\n",
       "2     5.000200e+12    0.020520  0.000010        False\n",
       "3     5.000200e+12    0.007466  0.001725         True\n",
       "4     5.000200e+12    0.007466  0.001725         True\n",
       "...            ...         ...       ...          ...\n",
       "8404  5.000200e+12    0.000004  0.000100        False\n",
       "8405  5.000200e+12    0.000004  0.000100        False\n",
       "8406  5.000200e+12    0.000004  0.000100        False\n",
       "8407  5.000200e+12    0.000004  0.000100        False\n",
       "8408  5.000200e+12    0.000004  0.000100        False\n",
       "\n",
       "[8409 rows x 4 columns]"
      ]
     },
     "execution_count": 88,
     "metadata": {},
     "output_type": "execute_result"
    }
   ],
   "source": [
    "temp"
   ]
  },
  {
   "cell_type": "code",
   "execution_count": null,
   "id": "57f33770-86d8-4292-a0be-2f5799430d5a",
   "metadata": {},
   "outputs": [],
   "source": []
  },
  {
   "cell_type": "code",
   "execution_count": null,
   "id": "ec12933a-762f-4eb9-8504-fce8527e0f7d",
   "metadata": {},
   "outputs": [],
   "source": []
  },
  {
   "cell_type": "code",
   "execution_count": null,
   "id": "abcbe0cb-d14c-4ea6-a26f-d33c708d5ba3",
   "metadata": {},
   "outputs": [],
   "source": [
    "ids = segments['NHDPlusID'].unique()"
   ]
  },
  {
   "cell_type": "code",
   "execution_count": null,
   "id": "65d33c07-8698-41cb-9455-a643a476fa1f",
   "metadata": {},
   "outputs": [],
   "source": [
    "segments"
   ]
  },
  {
   "cell_type": "code",
   "execution_count": null,
   "id": "d31722c0-4064-46db-9359-96d2d2710c0d",
   "metadata": {},
   "outputs": [],
   "source": [
    "segments[segments['NHDPlusID'] == ids[0]].Slope.unique()"
   ]
  },
  {
   "cell_type": "code",
   "execution_count": null,
   "id": "5fe18cc8-9c55-4749-927f-ac0fa7ca9620",
   "metadata": {},
   "outputs": [],
   "source": [
    "test = gpd.sjoin(segments, gdf_PIXC_clip, predicate='intersects').sort_values(by=['NHDPlusID', 'counter']).reset_index().drop(columns=['level_0', 'index_old']) # [['NHDPlusID', 'counter', 'GNIS_Name', 'height']]"
   ]
  },
  {
   "cell_type": "code",
   "execution_count": null,
   "id": "5c4b9e33-165c-4aac-96d8-0afaa6faf508",
   "metadata": {},
   "outputs": [],
   "source": [
    "for_height = [3, 4, 6, 7]"
   ]
  },
  {
   "cell_type": "code",
   "execution_count": null,
   "id": "f43f7663-6769-4182-b06d-02c88a6b6bc7",
   "metadata": {},
   "outputs": [],
   "source": [
    "test = test[test.klass.isin(for_height)].reset_index().drop(columns='level_0')"
   ]
  },
  {
   "cell_type": "code",
   "execution_count": null,
   "id": "c6ad43e6-9841-4b5b-bf78-164f214fd912",
   "metadata": {},
   "outputs": [],
   "source": [
    "test['wse'] = test.height - test.geoid - test.solid_earth_tide - test.load_tide_fes - test.pole_tide"
   ]
  },
  {
   "cell_type": "code",
   "execution_count": null,
   "id": "233284fb-2a28-4857-bf7e-5ede3b157079",
   "metadata": {},
   "outputs": [],
   "source": [
    "test.columns"
   ]
  },
  {
   "cell_type": "code",
   "execution_count": null,
   "id": "d0061e4b-ee51-4b5d-8993-1a6b9f63232a",
   "metadata": {},
   "outputs": [],
   "source": [
    "test[test['NHDPlusID'] == 5000200008760].counter.unique()"
   ]
  },
  {
   "cell_type": "code",
   "execution_count": null,
   "id": "a27514a7-8e49-4f89-b052-3aeabff28069",
   "metadata": {},
   "outputs": [],
   "source": [
    "test[test['NHDPlusID'] == 5000200008760].WidthM.unique()"
   ]
  },
  {
   "cell_type": "code",
   "execution_count": null,
   "id": "3f543107-4006-46fb-805f-1cd285bc0905",
   "metadata": {},
   "outputs": [],
   "source": [
    "def project_point(line, point):\n",
    "    # Project point onto line\n",
    "    return line.project(point)"
   ]
  },
  {
   "cell_type": "code",
   "execution_count": null,
   "id": "91254eb3-5eb8-4621-b2e0-7221a436e849",
   "metadata": {},
   "outputs": [],
   "source": [
    "test.shape"
   ]
  },
  {
   "cell_type": "code",
   "execution_count": null,
   "id": "7a47a596-a99c-48cc-91d7-a3f0faae329f",
   "metadata": {},
   "outputs": [],
   "source": [
    "test = pd.merge(left=test, right=flowlines[['NHDPlusID', 'geometry']], on='NHDPlusID')"
   ]
  },
  {
   "cell_type": "code",
   "execution_count": null,
   "id": "a868fc85-b9c5-49c4-97d5-0f5a8cb8bdb3",
   "metadata": {},
   "outputs": [],
   "source": [
    "test = test.rename(columns={'geometry': 'flowline'})"
   ]
  },
  {
   "cell_type": "code",
   "execution_count": null,
   "id": "9aeb013c-c4ab-40c9-97c4-b6e8187f3e3f",
   "metadata": {},
   "outputs": [],
   "source": [
    "test['distance'] = test.apply(lambda x: project_point(x['flowline'], x['pixel_centroid']), axis=1)"
   ]
  },
  {
   "cell_type": "code",
   "execution_count": null,
   "id": "36588669-3bb9-4c53-baa6-10b87cd139fe",
   "metadata": {},
   "outputs": [],
   "source": [
    "ids = test['NHDPlusID'].unique()"
   ]
  },
  {
   "cell_type": "code",
   "execution_count": null,
   "id": "9ab93cab-0c2d-4993-b114-8c5604e6c27e",
   "metadata": {},
   "outputs": [],
   "source": [
    "data_path = './figures_for_2025_03_17/'"
   ]
  },
  {
   "cell_type": "code",
   "execution_count": null,
   "id": "c99119db-4684-48db-b963-20f402dc8e71",
   "metadata": {},
   "outputs": [],
   "source": [
    "palette = {#2: 'forestgreen', \n",
    "           3: 'cornflowerblue', 4: 'blue', 5: 'hotpink',\n",
    "           6: 'darkkhaki', 7: 'springgreen'} # 6: 'lightsalmon', 7: 'lightblue'"
   ]
  },
  {
   "cell_type": "code",
   "execution_count": null,
   "id": "dbdbabb2-4f22-4440-a926-4e870663d10a",
   "metadata": {},
   "outputs": [],
   "source": [
    "# Make dict for legend labels\n",
    "flags = ds_PIXC.classification.flag_meanings.split() # extract each flag meaning\n",
    "codes = {str(idx) + '.0':k for idx, k in enumerate(flags, start=1)}"
   ]
  },
  {
   "cell_type": "code",
   "execution_count": null,
   "id": "959f84c0-543a-4b3e-aff0-e7c13306f681",
   "metadata": {},
   "outputs": [],
   "source": [
    "codes"
   ]
  },
  {
   "cell_type": "code",
   "execution_count": null,
   "id": "af2d424b-d3f4-4786-aeda-c3993feefdcd",
   "metadata": {},
   "outputs": [],
   "source": [
    "test.columns"
   ]
  },
  {
   "cell_type": "code",
   "execution_count": null,
   "id": "f3474b3a-e5ee-4e3a-a79b-1d7d9843c371",
   "metadata": {},
   "outputs": [],
   "source": [
    "data = test[test['NHDPlusID'] == 5000200008760].sort_values(by='distance')\n",
    "\n",
    "graph = sns.lmplot(data=data,\n",
    "                   x='distance', y='wse',\n",
    "                   hue='klass', palette=palette, fit_reg=False,\n",
    "                   height=7, aspect=1.42, legend=False)\n",
    "sns.regplot(data=data, x='distance', y='wse',\n",
    "            color='gray',\n",
    "            scatter=False,ax=graph.axes[0, 0])\n",
    "\n",
    "ax.axline((0, 5000), slope=3., color='C0', label='by slope')\n",
    "\n",
    "# Get the axes object\n",
    "ax = graph.axes[0, 0]\n",
    "\n",
    "plt.plot(data['distance'], abline_values, 'b')\n",
    "\n",
    "# Get the handles and labels\n",
    "handles, labels = ax.get_legend_handles_labels()\n",
    "# Update the labels\n",
    "new_labels = [codes[label] for label in labels]\n",
    "# Update the legend\n",
    "ax.legend(handles, new_labels,\n",
    "          title='Classification', loc='upper right')\n",
    "\n",
    "plt.xlabel('Distance along reach [m]')\n",
    "plt.ylabel('WSE [m]')\n",
    "ax.xaxis.set_major_locator(MaxNLocator(integer=True))\n",
    "# plt.title('NHDPlusID: ' + str(id_.astype('int')) +\n",
    "#           ', width: ' + str(round(data.iloc[0]['WidthM'], 2)) +\n",
    "#           ' [m], length: ' + str(round(data.iloc[0]['LengthKM'], 2)) +\n",
    "#           ' [km]')"
   ]
  },
  {
   "cell_type": "code",
   "execution_count": null,
   "id": "c8b29621-7c90-4e7a-be0e-5bbe088a1847",
   "metadata": {},
   "outputs": [],
   "source": [
    "test"
   ]
  },
  {
   "cell_type": "code",
   "execution_count": null,
   "id": "f54331ac-1e8b-4b41-9d46-824e74f7b29c",
   "metadata": {},
   "outputs": [],
   "source": [
    "test[test['NHDPlusID'] == 5000200008760]['Slope'].unique()"
   ]
  },
  {
   "cell_type": "code",
   "execution_count": null,
   "id": "c4ce54a1-b6ed-4585-b2c7-2f242e4cb62d",
   "metadata": {},
   "outputs": [],
   "source": [
    "nhd_slope = flowlines[flowlines['NHDPlusID'] == 5000200008760].Slope"
   ]
  },
  {
   "cell_type": "code",
   "execution_count": null,
   "id": "84bf3f59-08e5-47ab-ad5a-d055933ef376",
   "metadata": {},
   "outputs": [],
   "source": [
    "math.floor(nhd_slope)"
   ]
  },
  {
   "cell_type": "code",
   "execution_count": null,
   "id": "98564e78-ea7c-4576-9f34-5b43cd0f14cd",
   "metadata": {},
   "outputs": [],
   "source": [
    "temp = stats.linregress(data['distance'], data.wse)"
   ]
  },
  {
   "cell_type": "code",
   "execution_count": null,
   "id": "c913c6cf-121b-48c2-b204-20adf9b720f1",
   "metadata": {},
   "outputs": [],
   "source": [
    "temp.slope"
   ]
  },
  {
   "cell_type": "code",
   "execution_count": null,
   "id": "2af6d018-29d1-4daa-9195-a946b3111b3c",
   "metadata": {},
   "outputs": [],
   "source": [
    "# Find the slope and intercept of the best fit line\n",
    "slope, intercept = np.polyfit(data['distance'], data['wse'], 1)"
   ]
  },
  {
   "cell_type": "code",
   "execution_count": null,
   "id": "e9f67ebe-4413-4402-bd6d-bb21968ea797",
   "metadata": {},
   "outputs": [],
   "source": [
    "# Create a list of values in the best fit line\n",
    "abline_values = [slope * i + intercept for i in data['distance']]"
   ]
  },
  {
   "cell_type": "code",
   "execution_count": null,
   "id": "e2a66305-5ed7-496f-afe9-d52c36b0f92d",
   "metadata": {},
   "outputs": [],
   "source": [
    "# abline_values"
   ]
  },
  {
   "cell_type": "code",
   "execution_count": null,
   "id": "37cd7709-52e8-4eb1-9200-08b6c9d014bd",
   "metadata": {},
   "outputs": [],
   "source": [
    "temp.intercept"
   ]
  },
  {
   "cell_type": "code",
   "execution_count": null,
   "id": "f66d5344-bca0-45c8-80e6-d3706850d982",
   "metadata": {},
   "outputs": [],
   "source": [
    "(temp.rvalue)**2"
   ]
  },
  {
   "cell_type": "code",
   "execution_count": null,
   "id": "d437a353-ac05-4c74-ba65-a6f89a31062e",
   "metadata": {},
   "outputs": [],
   "source": [
    "# data = test[test['NHDPlusID'] == ids[30]].sort_values(by='distance')#.drop_duplicates(subset='distance')\n",
    "data = test[test['NHDPlusID'] == 5000200008760].sort_values(by='distance')\n",
    "x = np.array(data['distance'])\n",
    "y = np.array(data['wse'])\n",
    "c=np.array(data['klass'])\n",
    "\n",
    "plt.scatter(x=x, y=y,\n",
    "            c=c\n",
    "            # cmap=palette\n",
    "           )\n",
    "plt.xlabel('Distance along reach [m]')\n",
    "plt.legend()\n",
    "plt.ylabel('WSE [m]')"
   ]
  },
  {
   "cell_type": "code",
   "execution_count": null,
   "id": "fda782eb-da2b-43c5-b005-4266fadc18cf",
   "metadata": {},
   "outputs": [],
   "source": [
    "pw_fit = piecewise_regression.ModelSelection(x, y, max_breakpoints=6)"
   ]
  },
  {
   "cell_type": "code",
   "execution_count": null,
   "id": "1c97ee79-d1da-4fed-9f75-6967a75eb026",
   "metadata": {},
   "outputs": [],
   "source": [
    "model = pw_fit.models[0]\n",
    "\n",
    "print(\"Plotting fit for model with {} breakpoint(s) . . . \".format(model.n_breakpoints))\n",
    "model.plot()\n",
    "pw_fit.models[0].plot_fit(color=\"red\", linewidth=2)\n",
    "plt.xlabel('Distance along reach [m]')\n",
    "plt.ylabel('WSE [m]')\n",
    "plt.title(\"Fit with {} breakpoints\".format(model.n_breakpoints))\n",
    "plt.show()"
   ]
  },
  {
   "cell_type": "code",
   "execution_count": null,
   "id": "48bbd9af-754c-41dd-9a44-341fd1f592de",
   "metadata": {},
   "outputs": [],
   "source": [
    "# pw_fit = piecewise_regression.Fit(x, y, start_values=[5], n_breakpoints=2)"
   ]
  },
  {
   "cell_type": "code",
   "execution_count": null,
   "id": "0673aa6e-649b-48b6-840e-f561bb73c4e8",
   "metadata": {},
   "outputs": [],
   "source": [
    "# pw_fit.summary()"
   ]
  },
  {
   "cell_type": "code",
   "execution_count": null,
   "id": "2d96c60d-4927-4695-8cbd-d5bb95eee2b8",
   "metadata": {},
   "outputs": [],
   "source": [
    "pw_fit.models[0].plot_data(color=\"grey\", s=20)\n",
    "# Pass in standard matplotlib keywords to control any of the plots\n",
    "pw_fit.models[0].plot_fit(color=\"red\", linewidth=4)\n",
    "pw_fit.models[0].plot_breakpoints()\n",
    "pw_fit.models[0].plot_breakpoint_confidence_intervals()\n",
    "plt.xlim(x.min()-10, x.max()+10)\n",
    "plt.xlabel(\"x\")\n",
    "plt.ylabel(\"y\")\n",
    "plt.show()\n",
    "plt.close()"
   ]
  },
  {
   "cell_type": "code",
   "execution_count": null,
   "id": "af01a53c-1db3-4ece-8792-de0dabe72743",
   "metadata": {},
   "outputs": [],
   "source": [
    "spl = make_splrep(x=x, y=y, k=1, s=0.90)"
   ]
  },
  {
   "cell_type": "code",
   "execution_count": null,
   "id": "4ade0e15-0e24-4a1d-806e-2a0578f9ca31",
   "metadata": {},
   "outputs": [],
   "source": [
    "xs = np.linspace(x.min(), x.max(), 1000)"
   ]
  },
  {
   "cell_type": "code",
   "execution_count": null,
   "id": "4d9c4758-b597-4fad-a51c-e5f5d75f00b1",
   "metadata": {},
   "outputs": [],
   "source": [
    "fig, ax = plt.subplots()\n",
    "ax.scatter(x, y, color=\"red\", s=20, zorder=20)\n",
    "ax.plot(xs, spl(xs), linestyle=\"--\", linewidth=1, color=\"blue\", zorder=10)\n",
    "ax.grid(color=\"grey\", linestyle=\"--\", linewidth=.5, alpha=.5)\n",
    "ax.set_ylabel(\"WSE [m]\")\n",
    "ax.set_xlabel(\"Distance along reach [m]\")\n",
    "plt.show()"
   ]
  },
  {
   "cell_type": "code",
   "execution_count": null,
   "id": "449c2e4b-e272-4d4c-b37d-0f2c89a53faa",
   "metadata": {},
   "outputs": [],
   "source": [
    "for id_ in ids:\n",
    "\n",
    "    data=test[test['NHDPlusID'] == id_]\n",
    "    if data.shape[0] > 3:\n",
    "\n",
    "        # fig, ax = plt.subplots(figsize=(10,7))\n",
    "        # sns.regplot(data=data,\n",
    "        #                 x='distance', y='wse',\n",
    "        #             column='klass', palette=new_cmap\n",
    "        #            )\n",
    "        \n",
    "        graph = sns.lmplot(data=data,\n",
    "                           x='distance', y='wse',\n",
    "                           hue='klass', palette=palette, fit_reg=False,\n",
    "                           height=7, aspect=1.42, legend=False)\n",
    "        sns.regplot(data=data, x='distance', y='wse',\n",
    "                    color='gray',\n",
    "                    scatter=False,ax=graph.axes[0, 0])\n",
    "        \n",
    "        # Get the axes object\n",
    "        ax = graph.axes[0, 0]\n",
    "\n",
    "        # Get the handles and labels\n",
    "        handles, labels = ax.get_legend_handles_labels()\n",
    "\n",
    "        # Update the labels\n",
    "        new_labels = [codes[label] for label in labels]\n",
    "\n",
    "        # Update the legend\n",
    "        ax.legend(handles, new_labels,\n",
    "                  title='Classification', loc='upper right')\n",
    "        \n",
    "        plt.xlabel('Distance along reach [m]')\n",
    "        plt.ylabel('WSE [m]')\n",
    "        ax.xaxis.set_major_locator(MaxNLocator(integer=True))\n",
    "        plt.title('NHDPlusID: ' + str(id_.astype('int')) +\n",
    "                  ', width: ' + str(round(data.iloc[0]['WidthM'], 2)) +\n",
    "                  ' [m], length: ' + str(round(data.iloc[0]['LengthKM'], 2)) +\n",
    "                  ' [km]')\n",
    "        \n",
    "        plt.savefig(data_path + str(id_.astype('int')) + '.png', bbox_inches='tight')"
   ]
  },
  {
   "cell_type": "code",
   "execution_count": null,
   "id": "84c6c6d1-3517-43b4-b95b-e91e9bf4ec84",
   "metadata": {},
   "outputs": [],
   "source": [
    "fig, ax = plt.subplots()\n",
    "sns.regplot(data=test[test['NHDPlusID'] == 5000200001544],\n",
    "                x='counter', y='wse'\n",
    "            # hue='counter', palette=new_cmap\n",
    "           )\n",
    "\n",
    "plt.xlabel('Node')\n",
    "plt.ylabel('WSE [m]')\n",
    "ax.xaxis.set_major_locator(MaxNLocator(integer=True))"
   ]
  },
  {
   "cell_type": "code",
   "execution_count": null,
   "id": "b4e63c39-2a9c-4332-818c-ed57afd33459",
   "metadata": {},
   "outputs": [],
   "source": [
    "fig, ax = plt.subplots()\n",
    "sns.regplot(data=test[test['NHDPlusID'] == 5000200006404],\n",
    "                x='counter', y='wse'\n",
    "            # hue='counter', palette=new_cmap\n",
    "           )\n",
    "\n",
    "plt.xlabel('Node')\n",
    "plt.ylabel('WSE [m]')\n",
    "ax.xaxis.set_major_locator(MaxNLocator(integer=True))"
   ]
  },
  {
   "cell_type": "code",
   "execution_count": null,
   "id": "b1213522-f367-4fdb-a7cd-aa42f8e8e1a4",
   "metadata": {},
   "outputs": [],
   "source": [
    "fig, ax = plt.subplots()\n",
    "sns.regplot(data=test[test['NHDPlusID'] == 5000200001746],\n",
    "                x='counter', y='wse'\n",
    "            # hue='counter', palette=new_cmap\n",
    "           )\n",
    "\n",
    "plt.xlabel('Node')\n",
    "plt.ylabel('WSE [m]')\n",
    "ax.xaxis.set_major_locator(MaxNLocator(integer=True))"
   ]
  },
  {
   "cell_type": "code",
   "execution_count": null,
   "id": "ec5c6340-d7c4-43e2-b0f5-fd158e1c5f33",
   "metadata": {},
   "outputs": [],
   "source": [
    "# Merge the segments and pseudo-puxels by intersection\n",
    "sj = gpd.sjoin(segments, gdf_PIXC_clip, how='left', predicate='intersects')"
   ]
  },
  {
   "cell_type": "code",
   "execution_count": null,
   "id": "ba0ac9e6-dab0-4041-88fb-d8822c992d36",
   "metadata": {},
   "outputs": [],
   "source": [
    "sj.columns"
   ]
  },
  {
   "cell_type": "code",
   "execution_count": null,
   "id": "6f9e5cbc-e442-446a-817a-6bb906375509",
   "metadata": {},
   "outputs": [],
   "source": [
    "sj = sj.drop(columns=['index_right', 'points', 'azimuth_index',\n",
    "                      'range_index',\n",
    "                      # 'height', 'geoid',\n",
    "                      # 'klass',\n",
    "                      'latitude', 'longitude'])"
   ]
  },
  {
   "cell_type": "code",
   "execution_count": null,
   "id": "8223a965-3e0e-4678-b525-5ac247a3e588",
   "metadata": {},
   "outputs": [],
   "source": [
    "sj"
   ]
  },
  {
   "cell_type": "code",
   "execution_count": null,
   "id": "f48dcf6b-0694-4530-8210-b1f4e67503fb",
   "metadata": {},
   "outputs": [],
   "source": [
    "sj = sj.set_geometry('pseudo_geom')"
   ]
  },
  {
   "cell_type": "code",
   "execution_count": null,
   "id": "3eb299f3-11fe-4a77-b980-74a147d91ed8",
   "metadata": {
    "tags": []
   },
   "outputs": [],
   "source": [
    "sj = sj.groupby('NHDPlusID', as_index=False).parallel_apply(user_defined_function=specialDissolve)"
   ]
  },
  {
   "cell_type": "code",
   "execution_count": null,
   "id": "5f32fc46-db8a-4af3-b338-69916f89b970",
   "metadata": {},
   "outputs": [],
   "source": [
    "sj = sj.reset_index().drop(columns=['level_0', 'level_1'])"
   ]
  },
  {
   "cell_type": "code",
   "execution_count": null,
   "id": "72aa0b69-3521-4503-832d-8466a12a41f6",
   "metadata": {},
   "outputs": [],
   "source": [
    "sj['pseudo_geom_clip'] = sj.parallel_apply(user_defined_function=specialClip,\n",
    "                                                         axis=1)"
   ]
  },
  {
   "cell_type": "code",
   "execution_count": null,
   "id": "314344b3-7c33-469a-a342-87b04b897dc4",
   "metadata": {},
   "outputs": [],
   "source": [
    "# sj[sj['NHDPlusID'] == 10000900090399].pseudo_geom.plot(cmap='hsv')"
   ]
  },
  {
   "cell_type": "code",
   "execution_count": null,
   "id": "29f5b63e-eb10-4d3e-b58a-a9e578306285",
   "metadata": {},
   "outputs": [],
   "source": [
    "# Calculate the pseudo-pixel area within each node\n",
    "sj['pseudo_area'] = sj.pseudo_geom_clip.area"
   ]
  },
  {
   "cell_type": "code",
   "execution_count": null,
   "id": "c0764bd5-a82b-45a5-9075-73fda889aa00",
   "metadata": {},
   "outputs": [],
   "source": [
    "sj['coverage'] = sj.pseudo_area/sj.segment_area"
   ]
  },
  {
   "cell_type": "code",
   "execution_count": null,
   "id": "e1322003-acaa-42b3-bb88-1058399bdc55",
   "metadata": {},
   "outputs": [],
   "source": [
    "# sj_w_zero = sj.copy()"
   ]
  },
  {
   "cell_type": "code",
   "execution_count": null,
   "id": "7ba267bf-a933-4d27-af5a-cd73331720db",
   "metadata": {},
   "outputs": [],
   "source": [
    "# sj_w_zero['coverage'] = sj_w_zero['coverage'].fillna(0)\n",
    "sj['coverage'] = sj['coverage'].fillna(0)"
   ]
  },
  {
   "cell_type": "markdown",
   "id": "622bd27e-cf7c-4c1e-a7aa-b2ed4f32d675",
   "metadata": {},
   "source": [
    "### Do stats"
   ]
  },
  {
   "cell_type": "code",
   "execution_count": null,
   "id": "ed1d559f-4dba-4724-bd78-75421e17e7a3",
   "metadata": {
    "tags": []
   },
   "outputs": [],
   "source": [
    "bins = sj.Bin.unique()"
   ]
  },
  {
   "cell_type": "markdown",
   "id": "b9b2b467-5cc8-4d40-94ba-17d3de0807fc",
   "metadata": {},
   "source": [
    "#### Reaches"
   ]
  },
  {
   "cell_type": "code",
   "execution_count": null,
   "id": "01063fdc-cd34-4167-9478-b98716293723",
   "metadata": {},
   "outputs": [],
   "source": [
    "reaches_cent, reaches_thresh, reaches_min = summarizeCoverage(df=sj, binn=binn,\n",
    "                                            bins=bins, counts=counts)"
   ]
  },
  {
   "cell_type": "code",
   "execution_count": null,
   "id": "d970a001-366f-4cb9-8e90-d64d62353d0c",
   "metadata": {},
   "outputs": [],
   "source": [
    "reaches_min"
   ]
  },
  {
   "cell_type": "code",
   "execution_count": null,
   "id": "8db1a77f-0315-4c9b-8258-8e31ce9509cb",
   "metadata": {},
   "outputs": [],
   "source": [
    "reaches_min.sort_values(by=['NHDPlusID'])[::10]"
   ]
  },
  {
   "cell_type": "code",
   "execution_count": null,
   "id": "e9acee56-ba8a-41a6-9ea4-f72870fa8159",
   "metadata": {
    "tags": []
   },
   "outputs": [],
   "source": [
    "# d = {}\n",
    "# # d_q = {}\n",
    "# for i in range(1, 10):\n",
    "#     threshold = i/10\n",
    "#     # print(threshold)\n",
    "    \n",
    "#     detected = sj.groupby([binn, 'NHDPlusID'])['coverage'].apply(lambda x: (x > threshold).sum()) / 10\n",
    "#     reach = detected.reset_index()\n",
    "    \n",
    "#     # reach = detected.groupby(binn).quantile(q=[x / 100.0 for x in range(0,100,1)]).reset_index()\n",
    "        \n",
    "#     d[threshold] = reach"
   ]
  },
  {
   "cell_type": "code",
   "execution_count": null,
   "id": "f4a9a984-1d84-446d-8c84-395d0e91fa47",
   "metadata": {},
   "outputs": [],
   "source": [
    "# Add a column for each DataFrame indicating the key\n",
    "# for threshold, data in d.items():\n",
    "#     data['threshold'] = threshold\n",
    "    \n",
    "for threshold, data in d.items():\n",
    "    data['threshold'] = threshold"
   ]
  },
  {
   "cell_type": "code",
   "execution_count": null,
   "id": "c540f758-4134-41e5-8248-60919814fcc1",
   "metadata": {},
   "outputs": [],
   "source": [
    "# Concatenate all DataFrames into one\n",
    "# reaches_desc = pd.concat(d.values())\n",
    "\n",
    "reaches_cent = pd.concat(d.values()).rename(columns={'level_1': 'centile'})"
   ]
  },
  {
   "cell_type": "code",
   "execution_count": null,
   "id": "6f889785-d1c2-4369-b564-94d6f3e61d87",
   "metadata": {},
   "outputs": [],
   "source": [
    "reaches_cent"
   ]
  },
  {
   "cell_type": "code",
   "execution_count": null,
   "id": "8cdc70fc-b719-4eb6-addb-853674d93fe0",
   "metadata": {},
   "outputs": [],
   "source": [
    "# reaches_cent = pd.merge(left=reaches_cent, right=counts, how='left', on=binn)"
   ]
  },
  {
   "cell_type": "code",
   "execution_count": null,
   "id": "c190e431-c234-4dd2-9080-7b6d76fc1b18",
   "metadata": {},
   "outputs": [],
   "source": [
    "reaches_cent"
   ]
  },
  {
   "cell_type": "code",
   "execution_count": null,
   "id": "38b6bd38-a36d-4bba-8e1c-51be0583f87f",
   "metadata": {},
   "outputs": [],
   "source": [
    "reaches_min = pd.DataFrame(sj.groupby('NHDPlusID')['coverage'].min()).reset_index()"
   ]
  },
  {
   "cell_type": "code",
   "execution_count": null,
   "id": "e2df040f-a3ea-48b1-8b45-0fe2d27635f8",
   "metadata": {},
   "outputs": [],
   "source": [
    "reaches_min = pd.merge(left=reaches_min, right=sj[['NHDPlusID', binn]], how='left', on='NHDPlusID')"
   ]
  },
  {
   "cell_type": "code",
   "execution_count": null,
   "id": "25e688fc-a670-4ed1-a49a-932e7717ea87",
   "metadata": {},
   "outputs": [],
   "source": [
    "min_cov"
   ]
  },
  {
   "cell_type": "code",
   "execution_count": null,
   "id": "d127d092-07e4-4272-8b9c-97046bdbe771",
   "metadata": {},
   "outputs": [],
   "source": [
    "# reaches = pd.DataFrame(data=d).T"
   ]
  },
  {
   "cell_type": "code",
   "execution_count": null,
   "id": "a265330f-6724-4107-a18f-a48f88e3526c",
   "metadata": {},
   "outputs": [],
   "source": [
    "# reaches.columns = bins"
   ]
  },
  {
   "cell_type": "markdown",
   "id": "57eb3443-462c-4f0f-a55e-f0251d195d94",
   "metadata": {},
   "source": [
    "### Write out"
   ]
  },
  {
   "cell_type": "code",
   "execution_count": null,
   "id": "095ea3be-4f04-441d-917a-bc9633d07816",
   "metadata": {},
   "outputs": [],
   "source": [
    "save_path = os.path.join('/nas/cee-water/cjgleason/fiona/narrow_rivers_PIXC_data/', 'PIXC_v2_0_HUC2_01')"
   ]
  },
  {
   "cell_type": "code",
   "execution_count": null,
   "id": "afe97f05-8afd-4dac-959c-956a6c336e1c",
   "metadata": {},
   "outputs": [],
   "source": [
    "# Combine node_desc\n",
    "node_desc_both = pd.concat([node_desc, node_desc_w_zero], ignore_index=True)\n",
    "node_desc_both"
   ]
  },
  {
   "cell_type": "code",
   "execution_count": null,
   "id": "21d6bcf5-d411-4a8b-a0dd-ce2c4bc7d739",
   "metadata": {},
   "outputs": [],
   "source": [
    "# Combine node_quant\n",
    "node_quant_both = pd.concat([node_quant, node_quant_w_zero], ignore_index=True)\n",
    "node_quant_both"
   ]
  },
  {
   "cell_type": "code",
   "execution_count": null,
   "id": "6f17958c-cce3-40bd-8d0d-0425d3ada6ed",
   "metadata": {},
   "outputs": [],
   "source": [
    "# nodes_desc_both.to_csv(os.path.join(save_path, granule_name + '_nodes_describe.csv'))\n",
    "# nodes_quant_both.to_csv(os.path.join(save_path, granule_name + '_nodes_quantile.csv'))"
   ]
  },
  {
   "cell_type": "code",
   "execution_count": null,
   "id": "1126eceb-0e67-40d0-a68a-116aabc4f41f",
   "metadata": {},
   "outputs": [],
   "source": [
    "# reaches_desc.to_csv(os.path.join(save_path, granule_name + '_reaches_describe.csv'))\n",
    "# reaches_quant.to_csv(os.path.join(save_path, granule_name + '_reaches_quantile.csv'))"
   ]
  },
  {
   "cell_type": "code",
   "execution_count": null,
   "id": "b6d5fa3b-9428-4ca5-b68d-2241f80924bc",
   "metadata": {},
   "outputs": [],
   "source": [
    "test = pd.read_parquet('/nas/cee-water/cjgleason/fiona/narrow_rivers_PIXC_output/PIXC_v2_0_HUC2_01_2025_03_02_min/SWOT_L2_HR_PIXC_004_242_074L_20230930T103957_20230930T104008_PGC0_01_reaches_thresh.parquet')"
   ]
  },
  {
   "cell_type": "code",
   "execution_count": null,
   "id": "74da1788-44c3-4731-a5ec-983010c07291",
   "metadata": {},
   "outputs": [],
   "source": [
    "test"
   ]
  }
 ],
 "metadata": {
  "kernelspec": {
   "display_name": "Python [conda env:.conda-narrowPIXC]",
   "language": "python",
   "name": "conda-env-.conda-narrowPIXC-py"
  },
  "language_info": {
   "codemirror_mode": {
    "name": "ipython",
    "version": 3
   },
   "file_extension": ".py",
   "mimetype": "text/x-python",
   "name": "python",
   "nbconvert_exporter": "python",
   "pygments_lexer": "ipython3",
   "version": "3.12.4"
  }
 },
 "nbformat": 4,
 "nbformat_minor": 5
}
