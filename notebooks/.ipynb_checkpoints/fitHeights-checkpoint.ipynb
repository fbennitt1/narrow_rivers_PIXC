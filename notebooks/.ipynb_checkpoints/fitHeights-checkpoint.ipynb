{
 "cells": [
  {
   "cell_type": "code",
   "execution_count": 55,
   "id": "054ba1e0-d7ac-4524-a659-1e46d3219143",
   "metadata": {
    "tags": []
   },
   "outputs": [],
   "source": [
    "from argparse import ArgumentParser\n",
    "import os\n",
    "import sys\n",
    "import time\n",
    "\n",
    "import contextily as ctx\n",
    "import geopandas as gpd\n",
    "import matplotlib.pyplot as plt\n",
    "import matplotlib.colors as colors\n",
    "import numpy as np\n",
    "import pandas as pd\n",
    "import piecewise_regression\n",
    "import rasterio\n",
    "import seaborn as sns\n",
    "import shapely\n",
    "import xarray as xr\n",
    "\n",
    "# from matplotlib import colors\n",
    "from matplotlib.ticker import MaxNLocator\n",
    "from pandarallel import pandarallel\n",
    "from scipy import stats\n",
    "\n",
    "# caution: path[0] is reserved for script path (or '' in REPL)\n",
    "sys.path.insert(1, '../scripts/')\n",
    "\n",
    "from reaches import *\n",
    "from utils import *"
   ]
  },
  {
   "cell_type": "markdown",
   "id": "3851cc1b-3f31-40d7-aa68-a646e92358d6",
   "metadata": {
    "tags": []
   },
   "source": [
    "## For plotting"
   ]
  },
  {
   "cell_type": "code",
   "execution_count": 56,
   "id": "7f6c40b0-d285-4dce-9700-85b6d99a6175",
   "metadata": {},
   "outputs": [],
   "source": [
    "def truncate_colormap(cmap, minval=0.0, maxval=1.0, n=100):\n",
    "    new_cmap = colors.LinearSegmentedColormap.from_list(\n",
    "        'trunc({n},{a:.2f},{b:.2f})'.format(n=cmap.name, a=minval, b=maxval),\n",
    "        cmap(np.linspace(minval, maxval, n)))\n",
    "    return new_cmap"
   ]
  },
  {
   "cell_type": "code",
   "execution_count": 57,
   "id": "d6ee2ae1-721a-4ff8-a375-76c6ddf247d2",
   "metadata": {},
   "outputs": [],
   "source": [
    "cmap = plt.get_cmap('cubehelix')\n",
    "new_cmap = truncate_colormap(cmap, 0.2, 0.75)"
   ]
  },
  {
   "cell_type": "code",
   "execution_count": 4,
   "id": "2f914a70-7632-4663-aabd-feb9021da442",
   "metadata": {},
   "outputs": [],
   "source": [
    "# cmap = plt.get_cmap('cubehelix', 5)\n",
    "# new_cmap = truncate_colormap(cmap, 0.2, 0.75)"
   ]
  },
  {
   "cell_type": "code",
   "execution_count": 5,
   "id": "10da5bbb-8e7a-4c17-9af6-80c43dfa509d",
   "metadata": {},
   "outputs": [],
   "source": [
    "# color = []\n",
    "\n",
    "# for i in np.linspace(0, 1, 3):\n",
    "#     color.append(colors.rgb2hex(new_cmap(i)))"
   ]
  },
  {
   "cell_type": "code",
   "execution_count": 6,
   "id": "523c23a2-0fce-4510-9500-bf6774ee0e30",
   "metadata": {},
   "outputs": [],
   "source": [
    "# palette = sns.color_palette(color)"
   ]
  },
  {
   "cell_type": "markdown",
   "id": "7738211e-0067-4356-a77d-bddee1b036e0",
   "metadata": {},
   "source": [
    "### Parse arguments"
   ]
  },
  {
   "cell_type": "code",
   "execution_count": 58,
   "id": "9c28b14c-e137-4864-b7a1-326396a644eb",
   "metadata": {},
   "outputs": [],
   "source": [
    "# FOR NOW, SET\n",
    "width_set = 'mean'\n",
    "\n",
    "# Control flow\n",
    "if width_set == 'mean':\n",
    "    width = 'WidthM'\n",
    "    binn = 'Bin'\n",
    "elif width_set == 'min':\n",
    "    width = 'WidthM_Min'\n",
    "    binn = 'Bin_Min'\n",
    "elif width_set == 'max':\n",
    "    width = 'WidthM_Max'\n",
    "    binn = 'Bin_Max'\n",
    "else:\n",
    "    print('Invalid width option specified, exiting.')\n",
    "    # sys.exit()"
   ]
  },
  {
   "cell_type": "code",
   "execution_count": 59,
   "id": "5330fb44-4474-48e8-b3f9-497e8848ca7c",
   "metadata": {},
   "outputs": [],
   "source": [
    "huc2 = '01' ### SET THIS\n",
    "data_path = '/nas/cee-water/cjgleason/data/SWOT/PIXC_v2_0_HUC2_' + huc2 ## HERE\n",
    "# save_dir ="
   ]
  },
  {
   "cell_type": "markdown",
   "id": "0c54b76a-2171-4a4b-92f5-e4b3f4f3f8df",
   "metadata": {
    "tags": []
   },
   "source": [
    "### Pixel Cloud"
   ]
  },
  {
   "cell_type": "code",
   "execution_count": 60,
   "id": "5bc56ba8-11e0-4b21-8829-1fce78256846",
   "metadata": {},
   "outputs": [],
   "source": [
    "# Get job index\n",
    "# slurm = int(os.environ['SLURM_ARRAY_TASK_ID'])\n",
    "index = 106"
   ]
  },
  {
   "cell_type": "code",
   "execution_count": 61,
   "id": "e7c349c8-83b0-4735-9d3d-c98d4edba32e",
   "metadata": {},
   "outputs": [],
   "source": [
    "mdata_path = '/nas/cee-water/cjgleason/fiona/narrow_rivers_PIXC/data/' ## HERE\n",
    "file_path = os.path.join(mdata_path, 'PIXC_v2_0_HUC2_' + huc2 + '_filtered.json') ## HERE\n",
    "data = open_json(file_path)"
   ]
  },
  {
   "cell_type": "code",
   "execution_count": 62,
   "id": "85b6f73f-964f-4bda-a324-b6d4e710dc4d",
   "metadata": {},
   "outputs": [],
   "source": [
    "file_name = data[index]"
   ]
  },
  {
   "cell_type": "code",
   "execution_count": 63,
   "id": "900dad6e-8c22-4a17-a2f7-37ef07f35ca7",
   "metadata": {},
   "outputs": [
    {
     "name": "stdout",
     "output_type": "stream",
     "text": [
      "SWOT_L2_HR_PIXC_002_007_235R_20230811T080638_20230811T080649_PGC0_01\n"
     ]
    }
   ],
   "source": [
    "# Get data for this tile\n",
    "granule_name = file_name[:-3]\n",
    "tile_name = file_name[20:28]\n",
    "pass_num = int(file_name[20:23])\n",
    "\n",
    "print(granule_name)"
   ]
  },
  {
   "cell_type": "markdown",
   "id": "974aa2a9-a339-4bc6-9b58-9e6e7c6ec405",
   "metadata": {
    "tags": []
   },
   "source": [
    "#### Read in PIXC"
   ]
  },
  {
   "cell_type": "code",
   "execution_count": 64,
   "id": "b6a2ddd5-b8ce-4b2d-8e04-12e41eecc1ce",
   "metadata": {},
   "outputs": [],
   "source": [
    "# Set PIXC filepath\n",
    "pixc_path = os.path.join(data_path, file_name)"
   ]
  },
  {
   "cell_type": "code",
   "execution_count": 65,
   "id": "a79f66cd-29bd-4018-84c1-2e58cf077ed1",
   "metadata": {},
   "outputs": [
    {
     "data": {
      "text/plain": [
       "'/nas/cee-water/cjgleason/data/SWOT/PIXC_v2_0_HUC2_01/SWOT_L2_HR_PIXC_002_007_235R_20230811T080638_20230811T080649_PGC0_01.nc'"
      ]
     },
     "execution_count": 65,
     "metadata": {},
     "output_type": "execute_result"
    }
   ],
   "source": [
    "pixc_path"
   ]
  },
  {
   "cell_type": "code",
   "execution_count": 66,
   "id": "aefb478b-ff8b-41b4-9576-0fdf0ba0a9c0",
   "metadata": {},
   "outputs": [],
   "source": [
    "# Read in pixel group\n",
    "ds_PIXC = xr.open_mfdataset(paths=pixc_path, group = 'pixel_cloud', engine='h5netcdf')"
   ]
  },
  {
   "cell_type": "code",
   "execution_count": 67,
   "id": "03b19e86-e8d0-450b-a37d-555602f4ce34",
   "metadata": {},
   "outputs": [],
   "source": [
    "# ds_PIXC"
   ]
  },
  {
   "cell_type": "code",
   "execution_count": 68,
   "id": "71544c38-7b9d-4e2f-8b65-bcafa9aecb53",
   "metadata": {},
   "outputs": [],
   "source": [
    "# ds_PIXC.load_tide_fes"
   ]
  },
  {
   "cell_type": "code",
   "execution_count": 69,
   "id": "993471a7-b1b5-41bc-8401-1a03c47fe554",
   "metadata": {},
   "outputs": [
    {
     "name": "stdout",
     "output_type": "stream",
     "text": [
      "(761047,)\n"
     ]
    }
   ],
   "source": [
    "# Make mask\n",
    "mask = bitwiseMask(ds_PIXC)\n",
    "\n",
    "if mask.shape[0] == 0:\n",
    "    print('This granule has no pixels after masking, exiting.')\n",
    "    # sys.exit(1)    "
   ]
  },
  {
   "cell_type": "code",
   "execution_count": 70,
   "id": "daa9c587-4d39-40f3-9a7f-374fed33b165",
   "metadata": {},
   "outputs": [],
   "source": [
    "# Set desired data vars\n",
    "variables = ['azimuth_index', 'range_index', 'cross_track',\n",
    "             'pixel_area', 'height', 'geoid', 'solid_earth_tide', ## HERE\n",
    "             'load_tide_fes', 'pole_tide', 'prior_water_prob', ## HERE\n",
    "             'classification']"
   ]
  },
  {
   "cell_type": "code",
   "execution_count": 71,
   "id": "37bc9371-c418-4578-851d-950ee3261a55",
   "metadata": {},
   "outputs": [],
   "source": [
    "# Convert PIXC to GeoDataFrame\n",
    "gdf_PIXC = makeGDF(ds=ds_PIXC, mask=mask, data_vars=variables)"
   ]
  },
  {
   "cell_type": "markdown",
   "id": "67de04c0-8e96-4b5d-be2b-0ca295d75273",
   "metadata": {},
   "source": [
    "### Find correct HUC4s"
   ]
  },
  {
   "cell_type": "code",
   "execution_count": 72,
   "id": "af1db866-f656-41d6-bde7-383044114334",
   "metadata": {},
   "outputs": [],
   "source": [
    "### NHDPlus HR\n",
    "## Find correct HUC4s\n",
    "# Read in tile and HUC4 intersection data\n",
    "# mdata_path = '/nas/cee-water/cjgleason/fiona/narrow_rivers_PIXC/data/' ## HERE\n",
    "dtype_dic= {'tile': str, 'huc4': str, 'coverage': float}\n",
    "tile_huc4 = pd.read_csv(os.path.join(mdata_path,\n",
    "                                    'huc4_swot_science_tiles.csv'),\n",
    "                        dtype=dtype_dic)"
   ]
  },
  {
   "cell_type": "code",
   "execution_count": 73,
   "id": "6c241cb3-e5b4-43b8-86f2-9d8c0afdff10",
   "metadata": {},
   "outputs": [],
   "source": [
    "# Make list of HUC4s that intersect the tile\n",
    "hucs = list(tile_huc4[(tile_huc4['tile'] == tile_name)]['huc4'])\n",
    "# Limit to the current HUC2\n",
    "hucs = [x for x in hucs if x.startswith(huc2)]"
   ]
  },
  {
   "cell_type": "code",
   "execution_count": 20,
   "id": "d97ee289-b5c4-4952-9521-71c052b8861b",
   "metadata": {},
   "outputs": [
    {
     "data": {
      "text/plain": [
       "['0101', '0102', '0105']"
      ]
     },
     "execution_count": 20,
     "metadata": {},
     "output_type": "execute_result"
    }
   ],
   "source": [
    "hucs"
   ]
  },
  {
   "cell_type": "code",
   "execution_count": 21,
   "id": "ff7ccdd0-2b70-4c2f-9956-0c217fd033f5",
   "metadata": {},
   "outputs": [],
   "source": [
    "# Get NHD index metadata\n",
    "# Define dtypes for lookup tables to preserve leading zeros\n",
    "dtype_dic= {'HUC4': str, 'HUC2': str, 'toBasin': str, 'level': str}\n",
    "# Read in HUC lookup table\n",
    "huc_lookup = pd.read_csv(os.path.join(mdata_path,\n",
    "                                  'HUC4_lookup_no_great_lakes.csv'),\n",
    "                     dtype=dtype_dic)"
   ]
  },
  {
   "cell_type": "code",
   "execution_count": 22,
   "id": "54816995-c079-4e3b-b9f3-4730303297c2",
   "metadata": {},
   "outputs": [],
   "source": [
    "# Extract indices for read-in\n",
    "indices = list(huc_lookup[huc_lookup['HUC4'].isin(hucs)]['slurm_index'])"
   ]
  },
  {
   "cell_type": "markdown",
   "id": "8e4a50c6-9306-4d1e-853a-739263c0fe9e",
   "metadata": {},
   "source": [
    "### Read in HUC4 flowlines"
   ]
  },
  {
   "cell_type": "code",
   "execution_count": 23,
   "id": "a3024ad7-ba58-4910-8213-74a918a0117f",
   "metadata": {},
   "outputs": [
    {
     "name": "stdout",
     "output_type": "stream",
     "text": [
      "type: normal\n",
      "NHDPLUS_H_0101_HU4_GDB\n",
      "flowlines read-in\n",
      "exploded\n",
      "type: normal\n",
      "NHDPLUS_H_0102_HU4_GDB\n",
      "flowlines read-in\n",
      "exploded\n",
      "type: normal\n",
      "NHDPLUS_H_0105_HU4_GDB\n",
      "flowlines read-in\n",
      "exploded\n"
     ]
    }
   ],
   "source": [
    "# Create merged dataframe of all flowlines intersected\n",
    "if len(indices) == 1:\n",
    "    # Read prepped NHD\n",
    "    flowlines, _, _,  = readNHD(index=indices[0])\n",
    "    # huc4_list, huc2_list = readNHD(index=indices[0])\n",
    "else:\n",
    "    # Initialize lists\n",
    "    d = []\n",
    "    # huc4_list = []\n",
    "    # huc2_list = []\n",
    "    # Loop through indices and store in lists\n",
    "    for i in indices:\n",
    "        # Read prepped NHD\n",
    "        flowlines, _, _ = readNHD(index=i)\n",
    "        # huc4, huc2 = readNHD(index=i)\n",
    "        # Append to lists\n",
    "        d.append(flowlines)\n",
    "        # huc4_list.append(huc4) # I DON'T DO ANYTHING WITH THIS\n",
    "        # huc2_list.append(huc2) # I DON'T DO ANYTHING WITH THIS\n",
    "    # Merge GeoDataFrames\n",
    "    flowlines = pd.concat(d)"
   ]
  },
  {
   "cell_type": "code",
   "execution_count": 24,
   "id": "2d85aef5-6afd-400d-9ef4-ce7776e46455",
   "metadata": {},
   "outputs": [],
   "source": [
    "# Project CRS (currently to WGS 84 / UTM zone 18N) \n",
    "flowlines = flowlines.to_crs(epsg=3857)"
   ]
  },
  {
   "cell_type": "code",
   "execution_count": 25,
   "id": "fa5fa3a8-8e3a-4eca-90f9-7386701158a5",
   "metadata": {},
   "outputs": [
    {
     "name": "stdout",
     "output_type": "stream",
     "text": [
      "INFO: Pandarallel will run on 8 workers.\n",
      "INFO: Pandarallel will use Memory file system to transfer data between the main process and workers.\n"
     ]
    }
   ],
   "source": [
    "pandarallel.initialize(nb_workers=int(os.environ.get('SLURM_CPUS_PER_TASK')))"
   ]
  },
  {
   "cell_type": "code",
   "execution_count": 26,
   "id": "ac849696-fa37-4a78-b96e-97ae7a13f8d3",
   "metadata": {},
   "outputs": [
    {
     "name": "stdout",
     "output_type": "stream",
     "text": [
      "7.618540525436401\n"
     ]
    }
   ],
   "source": [
    "start = time.time()\n",
    "# Args are the width, cap_style, segmented=False, extra=False\n",
    "# Buffering with extra distance to capture pixels that would overlap\n",
    "# once converted to pseudo-pixels\n",
    "flowlines['buffer'] = flowlines.parallel_apply(user_defined_function=specialBuffer,\n",
    "                                                         args=(width,\n",
    "                                                               'flat', False, True),\n",
    "                                                         axis=1)\n",
    "end = time.time()\n",
    "print(end - start)"
   ]
  },
  {
   "cell_type": "code",
   "execution_count": 27,
   "id": "5548c6b5-dbb6-4057-a10d-031ad6b49120",
   "metadata": {},
   "outputs": [],
   "source": [
    "# Set geometry to buffered reaches\n",
    "flowlines = flowlines.set_geometry('buffer').set_crs(epsg=3857)"
   ]
  },
  {
   "cell_type": "code",
   "execution_count": 28,
   "id": "b01bcbff-a463-4c77-b4af-66893aab8418",
   "metadata": {},
   "outputs": [],
   "source": [
    "# flowlines.crs"
   ]
  },
  {
   "cell_type": "code",
   "execution_count": 29,
   "id": "d30b2202-6fc8-441d-a37d-50cca6e4352f",
   "metadata": {},
   "outputs": [],
   "source": [
    "# Clip masked pixels to buffered reaches\n",
    "gdf_PIXC_clip = gpd.sjoin(gdf_PIXC, flowlines, how='inner', predicate='within')"
   ]
  },
  {
   "cell_type": "code",
   "execution_count": 30,
   "id": "2ce0ed83-fac7-49c0-a144-56cc42745e38",
   "metadata": {},
   "outputs": [],
   "source": [
    "if gdf_PIXC_clip.shape[0] == 0:\n",
    "    print('This granule has no pixels that intersect reaches, exiting.')\n",
    "    # sys.exit() "
   ]
  },
  {
   "cell_type": "code",
   "execution_count": 31,
   "id": "2f18adb5-7c9a-4548-9900-8046bd621bf4",
   "metadata": {},
   "outputs": [],
   "source": [
    "# Drop unneeded cols\n",
    "gdf_PIXC_clip = gdf_PIXC_clip.drop(columns=['index_right', 'NHDPlusID',\n",
    "                                            'GNIS_Name', 'LengthKM',\n",
    "                                            'WidthM', 'WidthM_Min',\n",
    "                                            'WidthM_Max', 'Bin', 'Bin_Min',\n",
    "                                            'Bin_Max', 'geometry_right',\n",
    "                                            'StreamOrde']).reset_index() ### HERE"
   ]
  },
  {
   "cell_type": "code",
   "execution_count": 32,
   "id": "ab24881e-158a-4271-8fed-9dd4ca1296ce",
   "metadata": {},
   "outputs": [],
   "source": [
    "# Set geometry to original reaches, drop buffers\n",
    "flowlines = flowlines.set_geometry('geometry').set_crs(epsg=3857).drop(columns='buffer')"
   ]
  },
  {
   "cell_type": "markdown",
   "id": "97e0a9cb-0326-4126-8c16-a863f5891f6d",
   "metadata": {
    "tags": []
   },
   "source": [
    "### Nadir track"
   ]
  },
  {
   "cell_type": "code",
   "execution_count": 33,
   "id": "3296b62c-896b-49d9-a09f-9795daaedb2e",
   "metadata": {},
   "outputs": [],
   "source": [
    "# Get single pixel for selecting correct nadir segment\n",
    "pixel_pt = gdf_PIXC_clip.iloc[0].geometry"
   ]
  },
  {
   "cell_type": "code",
   "execution_count": 34,
   "id": "16ed2efd-7ef6-432d-bbcb-f93e6dd58a0f",
   "metadata": {},
   "outputs": [
    {
     "name": "stderr",
     "output_type": "stream",
     "text": [
      "/work/pi_cjgleason_umass_edu/.conda/envs/narrowPIXC/lib/python3.12/site-packages/geopandas/geodataframe.py:1819: SettingWithCopyWarning: \n",
      "A value is trying to be set on a copy of a slice from a DataFrame.\n",
      "Try using .loc[row_indexer,col_indexer] = value instead\n",
      "\n",
      "See the caveats in the documentation: https://pandas.pydata.org/pandas-docs/stable/user_guide/indexing.html#returning-a-view-versus-a-copy\n",
      "  super().__setitem__(key, value)\n"
     ]
    }
   ],
   "source": [
    "# Find correct nadir segment and return its geometry\n",
    "nadir_segment_ln = findNadir(pass_num=pass_num, pixel_pt=pixel_pt)"
   ]
  },
  {
   "cell_type": "markdown",
   "id": "6af80e8a-07ba-4f91-8636-b12874ac4bd1",
   "metadata": {},
   "source": [
    "### Make pseudo pixels"
   ]
  },
  {
   "cell_type": "code",
   "execution_count": 35,
   "id": "551e670e-f660-4137-b0ad-555e44b9a7a1",
   "metadata": {},
   "outputs": [],
   "source": [
    "# Set along-track pixel resolution\n",
    "azimuth_res = 22 # meters"
   ]
  },
  {
   "cell_type": "code",
   "execution_count": 36,
   "id": "b55b182b-82e9-4931-a2f6-bb21f8760149",
   "metadata": {},
   "outputs": [
    {
     "name": "stdout",
     "output_type": "stream",
     "text": [
      "1.3000943660736084\n"
     ]
    }
   ],
   "source": [
    "# Make pseudo pixels\n",
    "start = time.time()\n",
    "gdf_PIXC_clip['pseudo_pixel'] = gdf_PIXC_clip.parallel_apply(user_defined_function=makePseudoPixels,\n",
    "                                                         args=(nadir_segment_ln,\n",
    "                                                               azimuth_res),\n",
    "                                                         axis=1)\n",
    "end = time.time()\n",
    "print(end - start)"
   ]
  },
  {
   "cell_type": "code",
   "execution_count": 37,
   "id": "e876d8aa-3055-4632-8cce-098926468f89",
   "metadata": {},
   "outputs": [],
   "source": [
    "gdf_PIXC_clip = gdf_PIXC_clip.rename(columns={'geometry': 'pixel_centroid'}).set_geometry('pseudo_pixel').set_crs(epsg=3857)"
   ]
  },
  {
   "cell_type": "code",
   "execution_count": 38,
   "id": "17fa13af-60b3-461f-9ad7-b4182e728520",
   "metadata": {},
   "outputs": [],
   "source": [
    "# Copy geometry column as sjoin will discard it\n",
    "gdf_PIXC_clip['pseudo_geom'] = gdf_PIXC_clip.geometry\n",
    "# Get bounds of PIXC tile with pseudo-pixels\n",
    "pseudo_bounds = gdf_PIXC_clip.total_bounds"
   ]
  },
  {
   "cell_type": "markdown",
   "id": "858c7484-d355-4b2e-b0ce-3f33d5fdedff",
   "metadata": {},
   "source": [
    "### Read in segments"
   ]
  },
  {
   "cell_type": "code",
   "execution_count": 39,
   "id": "b7c9cb9a-d551-45ac-a1dd-239a86d63a02",
   "metadata": {},
   "outputs": [
    {
     "name": "stdout",
     "output_type": "stream",
     "text": [
      "type: segmented\n",
      "NHDPLUS_H_0101_HU4_GDB\n",
      "/nas/cee-water/cjgleason/fiona/narrow_rivers_PIXC_data/NHD_prepped_segmented/HUC2_01/NHDPLUS_H_0101_HU4_GDB_prepped_segmented.parquet\n",
      "segments read-in\n",
      "type: segmented\n",
      "NHDPLUS_H_0102_HU4_GDB\n",
      "/nas/cee-water/cjgleason/fiona/narrow_rivers_PIXC_data/NHD_prepped_segmented/HUC2_01/NHDPLUS_H_0102_HU4_GDB_prepped_segmented.parquet\n",
      "segments read-in\n",
      "type: segmented\n",
      "NHDPLUS_H_0105_HU4_GDB\n",
      "/nas/cee-water/cjgleason/fiona/narrow_rivers_PIXC_data/NHD_prepped_segmented/HUC2_01/NHDPLUS_H_0105_HU4_GDB_prepped_segmented.parquet\n",
      "segments read-in\n"
     ]
    }
   ],
   "source": [
    "# Create merged dataframe of all basins intersected\n",
    "if len(indices) == 1:\n",
    "    # Read prepped NHD\n",
    "    segments, _, _ = readNHD(index=indices[0], segmented=True)\n",
    "else:\n",
    "    # Initialize lists\n",
    "    d = []\n",
    "    # Loop through indices and store in lists\n",
    "    for i in indices:\n",
    "        # Read prepped NHD\n",
    "        segments, huc4, _ = readNHD(index=i, segmented=True)\n",
    "        # Make column with HUC4 id\n",
    "        segments['huc4_long'] = huc4\n",
    "        segments['huc4'] = segments['huc4_long'].str[10:14]\n",
    "        # Rename segments to geometry\n",
    "        # segments = segments.rename(columns={'segments': 'geometry'}).set_geometry('geometry')\n",
    "        # Append to list\n",
    "        d.append(segments)\n",
    "    # Merge GeoDataFrames\n",
    "    segments = pd.concat(d)"
   ]
  },
  {
   "cell_type": "code",
   "execution_count": 40,
   "id": "a534f6b9-3e6e-4cec-92c5-8c5d56f5fd60",
   "metadata": {},
   "outputs": [],
   "source": [
    "# Project CRS (currently to WGS 84 / UTM zone 18N)\n",
    "segments = segments.to_crs(epsg='3857')"
   ]
  },
  {
   "cell_type": "code",
   "execution_count": 41,
   "id": "3dc9195a-211a-4b7b-b6b3-f1f672cbd55c",
   "metadata": {},
   "outputs": [],
   "source": [
    "segments = segments.reset_index().rename(columns={'index': 'index_old'})"
   ]
  },
  {
   "cell_type": "code",
   "execution_count": 42,
   "id": "932d1556-d32d-48cd-8d8a-f1a0525cf85e",
   "metadata": {},
   "outputs": [],
   "source": [
    "# Assign a unique counter within each index group\n",
    "segments['counter'] = segments.groupby('NHDPlusID').cumcount()"
   ]
  },
  {
   "cell_type": "code",
   "execution_count": 43,
   "id": "03797142-86ba-4750-bcf1-9143580b01cd",
   "metadata": {},
   "outputs": [],
   "source": [
    "# Keep only first ten segments (some reaches repeat)\n",
    "segments = segments[segments['counter'] < 10]\n",
    "\n",
    "# For HUC4_0109, 5000700035256 and 5000700072690"
   ]
  },
  {
   "cell_type": "code",
   "execution_count": 44,
   "id": "ff1ab870-8a1e-40f2-ac46-aaf7d26d3cb2",
   "metadata": {},
   "outputs": [],
   "source": [
    "# Clip segments to the extent of the pseudo-pixels\n",
    "segments = segments.clip(pseudo_bounds)"
   ]
  },
  {
   "cell_type": "code",
   "execution_count": 45,
   "id": "3b7bbb49-83b0-4fdc-b0c8-e2dc41d3a8c5",
   "metadata": {},
   "outputs": [],
   "source": [
    "# Keep only reaches that are fully contained in PIXC granule\n",
    "segments = segments.groupby('NHDPlusID').filter(lambda x: len(x) == 10)"
   ]
  },
  {
   "cell_type": "code",
   "execution_count": 46,
   "id": "72d08a17-7d3e-4b16-a64d-c80e9b00a098",
   "metadata": {},
   "outputs": [],
   "source": [
    "# segments.sort_values(by=['NHDPlusID', 'counter']).iloc[1009]['segments'].coords.xy"
   ]
  },
  {
   "cell_type": "code",
   "execution_count": 47,
   "id": "e6a80ea7-2246-4280-89e6-87bb6699e4e8",
   "metadata": {},
   "outputs": [],
   "source": [
    "# ax = segments.sort_values(by=['NHDPlusID', 'counter']).iloc[1000:1010].plot(cmap=new_cmap)\n",
    "# # ctx.add_basemap(ax, source=ctx.providers.Stadia.Stame)"
   ]
  },
  {
   "cell_type": "code",
   "execution_count": 48,
   "id": "2aedebfa-a7aa-45dc-a851-18f813ee1243",
   "metadata": {},
   "outputs": [],
   "source": [
    "# segments[segments['NHDPlusID'] == 5000200027147].plot(cmap=new_cmap)"
   ]
  },
  {
   "cell_type": "code",
   "execution_count": 49,
   "id": "60f685a6-192f-4bc9-9825-b52f0309ee2c",
   "metadata": {},
   "outputs": [
    {
     "name": "stdout",
     "output_type": "stream",
     "text": [
      "0.8860316276550293\n"
     ]
    }
   ],
   "source": [
    "# Buffer segments\n",
    "## PARALLELIZE\n",
    "start = time.time()\n",
    "segments['buffer'] = segments.parallel_apply(user_defined_function=specialBuffer,\n",
    "                                                         args=(width,\n",
    "                                                               'flat', True, False),\n",
    "                                                         axis=1)\n",
    "end = time.time()\n",
    "print(end - start)\n",
    "# segments['buffered'] = segments.buffer(distance=(segments.WidthM/2), cap_style='flat')"
   ]
  },
  {
   "cell_type": "code",
   "execution_count": 50,
   "id": "c59edf28-3592-4420-8c5f-0d189b1bbb47",
   "metadata": {},
   "outputs": [],
   "source": [
    "segments = segments.set_geometry('buffer').set_crs(epsg=3857)"
   ]
  },
  {
   "cell_type": "code",
   "execution_count": 51,
   "id": "175df691-6f78-4743-9422-044a045be63b",
   "metadata": {},
   "outputs": [],
   "source": [
    "# Calculate segment area\n",
    "segments['segment_area'] = segments.geometry.area"
   ]
  },
  {
   "cell_type": "code",
   "execution_count": 52,
   "id": "abcbe0cb-d14c-4ea6-a26f-d33c708d5ba3",
   "metadata": {},
   "outputs": [],
   "source": [
    "ids = segments['NHDPlusID'].unique()"
   ]
  },
  {
   "cell_type": "code",
   "execution_count": 53,
   "id": "65d33c07-8698-41cb-9455-a643a476fa1f",
   "metadata": {},
   "outputs": [
    {
     "data": {
      "text/html": [
       "<div>\n",
       "<style scoped>\n",
       "    .dataframe tbody tr th:only-of-type {\n",
       "        vertical-align: middle;\n",
       "    }\n",
       "\n",
       "    .dataframe tbody tr th {\n",
       "        vertical-align: top;\n",
       "    }\n",
       "\n",
       "    .dataframe thead th {\n",
       "        text-align: right;\n",
       "    }\n",
       "</style>\n",
       "<table border=\"1\" class=\"dataframe\">\n",
       "  <thead>\n",
       "    <tr style=\"text-align: right;\">\n",
       "      <th></th>\n",
       "      <th>index_old</th>\n",
       "      <th>NHDPlusID</th>\n",
       "      <th>GNIS_Name</th>\n",
       "      <th>LengthKM</th>\n",
       "      <th>WidthM</th>\n",
       "      <th>WidthM_Min</th>\n",
       "      <th>WidthM_Max</th>\n",
       "      <th>Bin</th>\n",
       "      <th>segments</th>\n",
       "      <th>Bin_Min</th>\n",
       "      <th>Bin_Max</th>\n",
       "      <th>huc4_long</th>\n",
       "      <th>huc4</th>\n",
       "      <th>counter</th>\n",
       "      <th>buffer</th>\n",
       "      <th>segment_area</th>\n",
       "    </tr>\n",
       "  </thead>\n",
       "  <tbody>\n",
       "    <tr>\n",
       "      <th>389696</th>\n",
       "      <td>1275</td>\n",
       "      <td>5.000200e+12</td>\n",
       "      <td>Denver Brook</td>\n",
       "      <td>1.209</td>\n",
       "      <td>7.769327</td>\n",
       "      <td>5.893637</td>\n",
       "      <td>10.241967</td>\n",
       "      <td>(0, 10]</td>\n",
       "      <td>LINESTRING (-7558106.029 5674843.057, -7558107...</td>\n",
       "      <td>(0, 10]</td>\n",
       "      <td>(10, 20]</td>\n",
       "      <td>NHDPLUS_H_0105_HU4_GDB</td>\n",
       "      <td>0105</td>\n",
       "      <td>6</td>\n",
       "      <td>POLYGON ((-7558111.498 5674852.615, -7558111.5...</td>\n",
       "      <td>1335.327967</td>\n",
       "    </tr>\n",
       "    <tr>\n",
       "      <th>389697</th>\n",
       "      <td>1275</td>\n",
       "      <td>5.000200e+12</td>\n",
       "      <td>Denver Brook</td>\n",
       "      <td>1.209</td>\n",
       "      <td>7.769327</td>\n",
       "      <td>5.893637</td>\n",
       "      <td>10.241967</td>\n",
       "      <td>(0, 10]</td>\n",
       "      <td>LINESTRING (-7558196.258 5674968.558, -7558217...</td>\n",
       "      <td>(0, 10]</td>\n",
       "      <td>(10, 20]</td>\n",
       "      <td>NHDPLUS_H_0105_HU4_GDB</td>\n",
       "      <td>0105</td>\n",
       "      <td>7</td>\n",
       "      <td>POLYGON ((-7558219.305 5674978.262, -7558259.7...</td>\n",
       "      <td>1336.233363</td>\n",
       "    </tr>\n",
       "    <tr>\n",
       "      <th>389698</th>\n",
       "      <td>1275</td>\n",
       "      <td>5.000200e+12</td>\n",
       "      <td>Denver Brook</td>\n",
       "      <td>1.209</td>\n",
       "      <td>7.769327</td>\n",
       "      <td>5.893637</td>\n",
       "      <td>10.241967</td>\n",
       "      <td>(0, 10]</td>\n",
       "      <td>LINESTRING (-7558328.236 5675072.532, -7558342...</td>\n",
       "      <td>(0, 10]</td>\n",
       "      <td>(10, 20]</td>\n",
       "      <td>NHDPLUS_H_0105_HU4_GDB</td>\n",
       "      <td>0105</td>\n",
       "      <td>8</td>\n",
       "      <td>POLYGON ((-7558345.308 5675092.928, -7558359.2...</td>\n",
       "      <td>1336.236757</td>\n",
       "    </tr>\n",
       "    <tr>\n",
       "      <th>389699</th>\n",
       "      <td>1275</td>\n",
       "      <td>5.000200e+12</td>\n",
       "      <td>Denver Brook</td>\n",
       "      <td>1.209</td>\n",
       "      <td>7.769327</td>\n",
       "      <td>5.893637</td>\n",
       "      <td>10.241967</td>\n",
       "      <td>(0, 10]</td>\n",
       "      <td>LINESTRING (-7558448.847 5675191.944, -7558453...</td>\n",
       "      <td>(0, 10]</td>\n",
       "      <td>(10, 20]</td>\n",
       "      <td>NHDPLUS_H_0105_HU4_GDB</td>\n",
       "      <td>0105</td>\n",
       "      <td>9</td>\n",
       "      <td>POLYGON ((-7558456.14 5675194.831, -7558456.42...</td>\n",
       "      <td>1336.259846</td>\n",
       "    </tr>\n",
       "    <tr>\n",
       "      <th>379839</th>\n",
       "      <td>282</td>\n",
       "      <td>5.000200e+12</td>\n",
       "      <td>None</td>\n",
       "      <td>1.107</td>\n",
       "      <td>3.959987</td>\n",
       "      <td>3.003957</td>\n",
       "      <td>5.220279</td>\n",
       "      <td>(0, 10]</td>\n",
       "      <td>LINESTRING (-7558080.633 5676943.061, -7558105...</td>\n",
       "      <td>(0, 10]</td>\n",
       "      <td>(0, 10]</td>\n",
       "      <td>NHDPLUS_H_0105_HU4_GDB</td>\n",
       "      <td>0105</td>\n",
       "      <td>9</td>\n",
       "      <td>POLYGON ((-7558105.887 5676940.563, -7558105.9...</td>\n",
       "      <td>623.518194</td>\n",
       "    </tr>\n",
       "    <tr>\n",
       "      <th>...</th>\n",
       "      <td>...</td>\n",
       "      <td>...</td>\n",
       "      <td>...</td>\n",
       "      <td>...</td>\n",
       "      <td>...</td>\n",
       "      <td>...</td>\n",
       "      <td>...</td>\n",
       "      <td>...</td>\n",
       "      <td>...</td>\n",
       "      <td>...</td>\n",
       "      <td>...</td>\n",
       "      <td>...</td>\n",
       "      <td>...</td>\n",
       "      <td>...</td>\n",
       "      <td>...</td>\n",
       "      <td>...</td>\n",
       "    </tr>\n",
       "    <tr>\n",
       "      <th>431144</th>\n",
       "      <td>5451</td>\n",
       "      <td>5.000200e+12</td>\n",
       "      <td>None</td>\n",
       "      <td>0.165</td>\n",
       "      <td>3.398631</td>\n",
       "      <td>2.578125</td>\n",
       "      <td>4.480268</td>\n",
       "      <td>(0, 10]</td>\n",
       "      <td>LINESTRING (-7541335.012 5722888.074, -7541324...</td>\n",
       "      <td>(0, 10]</td>\n",
       "      <td>(0, 10]</td>\n",
       "      <td>NHDPLUS_H_0105_HU4_GDB</td>\n",
       "      <td>0105</td>\n",
       "      <td>4</td>\n",
       "      <td>POLYGON ((-7541323.901 5722881.46, -7541323.78...</td>\n",
       "      <td>79.954365</td>\n",
       "    </tr>\n",
       "    <tr>\n",
       "      <th>431143</th>\n",
       "      <td>5451</td>\n",
       "      <td>5.000200e+12</td>\n",
       "      <td>None</td>\n",
       "      <td>0.165</td>\n",
       "      <td>3.398631</td>\n",
       "      <td>2.578125</td>\n",
       "      <td>4.480268</td>\n",
       "      <td>(0, 10]</td>\n",
       "      <td>LINESTRING (-7541355.678 5722899.274, -7541336...</td>\n",
       "      <td>(0, 10]</td>\n",
       "      <td>(0, 10]</td>\n",
       "      <td>NHDPLUS_H_0105_HU4_GDB</td>\n",
       "      <td>0105</td>\n",
       "      <td>3</td>\n",
       "      <td>POLYGON ((-7541335.27 5722890.408, -7541335.13...</td>\n",
       "      <td>79.956206</td>\n",
       "    </tr>\n",
       "    <tr>\n",
       "      <th>431142</th>\n",
       "      <td>5451</td>\n",
       "      <td>5.000200e+12</td>\n",
       "      <td>None</td>\n",
       "      <td>0.165</td>\n",
       "      <td>3.398631</td>\n",
       "      <td>2.578125</td>\n",
       "      <td>4.480268</td>\n",
       "      <td>(0, 10]</td>\n",
       "      <td>LINESTRING (-7541376.53 5722910.166, -7541369....</td>\n",
       "      <td>(0, 10]</td>\n",
       "      <td>(0, 10]</td>\n",
       "      <td>NHDPLUS_H_0105_HU4_GDB</td>\n",
       "      <td>0105</td>\n",
       "      <td>2</td>\n",
       "      <td>POLYGON ((-7541368.845 5722908.156, -7541368.8...</td>\n",
       "      <td>79.957303</td>\n",
       "    </tr>\n",
       "    <tr>\n",
       "      <th>431141</th>\n",
       "      <td>5451</td>\n",
       "      <td>5.000200e+12</td>\n",
       "      <td>None</td>\n",
       "      <td>0.165</td>\n",
       "      <td>3.398631</td>\n",
       "      <td>2.578125</td>\n",
       "      <td>4.480268</td>\n",
       "      <td>(0, 10]</td>\n",
       "      <td>LINESTRING (-7541397.492 5722920.848, -7541376...</td>\n",
       "      <td>(0, 10]</td>\n",
       "      <td>(0, 10]</td>\n",
       "      <td>NHDPLUS_H_0105_HU4_GDB</td>\n",
       "      <td>0105</td>\n",
       "      <td>1</td>\n",
       "      <td>POLYGON ((-7541375.759 5722911.68, -7541377.30...</td>\n",
       "      <td>79.957304</td>\n",
       "    </tr>\n",
       "    <tr>\n",
       "      <th>431140</th>\n",
       "      <td>5451</td>\n",
       "      <td>5.000200e+12</td>\n",
       "      <td>None</td>\n",
       "      <td>0.165</td>\n",
       "      <td>3.398631</td>\n",
       "      <td>2.578125</td>\n",
       "      <td>4.480268</td>\n",
       "      <td>(0, 10]</td>\n",
       "      <td>LINESTRING (-7541417.506 5722933.179, -7541401...</td>\n",
       "      <td>(0, 10]</td>\n",
       "      <td>(0, 10]</td>\n",
       "      <td>NHDPLUS_H_0105_HU4_GDB</td>\n",
       "      <td>0105</td>\n",
       "      <td>0</td>\n",
       "      <td>POLYGON ((-7541400.658 5722924.369, -7541396.7...</td>\n",
       "      <td>79.956943</td>\n",
       "    </tr>\n",
       "  </tbody>\n",
       "</table>\n",
       "<p>9760 rows × 16 columns</p>\n",
       "</div>"
      ],
      "text/plain": [
       "        index_old     NHDPlusID     GNIS_Name  LengthKM    WidthM  WidthM_Min  \\\n",
       "389696       1275  5.000200e+12  Denver Brook     1.209  7.769327    5.893637   \n",
       "389697       1275  5.000200e+12  Denver Brook     1.209  7.769327    5.893637   \n",
       "389698       1275  5.000200e+12  Denver Brook     1.209  7.769327    5.893637   \n",
       "389699       1275  5.000200e+12  Denver Brook     1.209  7.769327    5.893637   \n",
       "379839        282  5.000200e+12          None     1.107  3.959987    3.003957   \n",
       "...           ...           ...           ...       ...       ...         ...   \n",
       "431144       5451  5.000200e+12          None     0.165  3.398631    2.578125   \n",
       "431143       5451  5.000200e+12          None     0.165  3.398631    2.578125   \n",
       "431142       5451  5.000200e+12          None     0.165  3.398631    2.578125   \n",
       "431141       5451  5.000200e+12          None     0.165  3.398631    2.578125   \n",
       "431140       5451  5.000200e+12          None     0.165  3.398631    2.578125   \n",
       "\n",
       "        WidthM_Max      Bin  \\\n",
       "389696   10.241967  (0, 10]   \n",
       "389697   10.241967  (0, 10]   \n",
       "389698   10.241967  (0, 10]   \n",
       "389699   10.241967  (0, 10]   \n",
       "379839    5.220279  (0, 10]   \n",
       "...            ...      ...   \n",
       "431144    4.480268  (0, 10]   \n",
       "431143    4.480268  (0, 10]   \n",
       "431142    4.480268  (0, 10]   \n",
       "431141    4.480268  (0, 10]   \n",
       "431140    4.480268  (0, 10]   \n",
       "\n",
       "                                                 segments  Bin_Min   Bin_Max  \\\n",
       "389696  LINESTRING (-7558106.029 5674843.057, -7558107...  (0, 10]  (10, 20]   \n",
       "389697  LINESTRING (-7558196.258 5674968.558, -7558217...  (0, 10]  (10, 20]   \n",
       "389698  LINESTRING (-7558328.236 5675072.532, -7558342...  (0, 10]  (10, 20]   \n",
       "389699  LINESTRING (-7558448.847 5675191.944, -7558453...  (0, 10]  (10, 20]   \n",
       "379839  LINESTRING (-7558080.633 5676943.061, -7558105...  (0, 10]   (0, 10]   \n",
       "...                                                   ...      ...       ...   \n",
       "431144  LINESTRING (-7541335.012 5722888.074, -7541324...  (0, 10]   (0, 10]   \n",
       "431143  LINESTRING (-7541355.678 5722899.274, -7541336...  (0, 10]   (0, 10]   \n",
       "431142  LINESTRING (-7541376.53 5722910.166, -7541369....  (0, 10]   (0, 10]   \n",
       "431141  LINESTRING (-7541397.492 5722920.848, -7541376...  (0, 10]   (0, 10]   \n",
       "431140  LINESTRING (-7541417.506 5722933.179, -7541401...  (0, 10]   (0, 10]   \n",
       "\n",
       "                     huc4_long  huc4  counter  \\\n",
       "389696  NHDPLUS_H_0105_HU4_GDB  0105        6   \n",
       "389697  NHDPLUS_H_0105_HU4_GDB  0105        7   \n",
       "389698  NHDPLUS_H_0105_HU4_GDB  0105        8   \n",
       "389699  NHDPLUS_H_0105_HU4_GDB  0105        9   \n",
       "379839  NHDPLUS_H_0105_HU4_GDB  0105        9   \n",
       "...                        ...   ...      ...   \n",
       "431144  NHDPLUS_H_0105_HU4_GDB  0105        4   \n",
       "431143  NHDPLUS_H_0105_HU4_GDB  0105        3   \n",
       "431142  NHDPLUS_H_0105_HU4_GDB  0105        2   \n",
       "431141  NHDPLUS_H_0105_HU4_GDB  0105        1   \n",
       "431140  NHDPLUS_H_0105_HU4_GDB  0105        0   \n",
       "\n",
       "                                                   buffer  segment_area  \n",
       "389696  POLYGON ((-7558111.498 5674852.615, -7558111.5...   1335.327967  \n",
       "389697  POLYGON ((-7558219.305 5674978.262, -7558259.7...   1336.233363  \n",
       "389698  POLYGON ((-7558345.308 5675092.928, -7558359.2...   1336.236757  \n",
       "389699  POLYGON ((-7558456.14 5675194.831, -7558456.42...   1336.259846  \n",
       "379839  POLYGON ((-7558105.887 5676940.563, -7558105.9...    623.518194  \n",
       "...                                                   ...           ...  \n",
       "431144  POLYGON ((-7541323.901 5722881.46, -7541323.78...     79.954365  \n",
       "431143  POLYGON ((-7541335.27 5722890.408, -7541335.13...     79.956206  \n",
       "431142  POLYGON ((-7541368.845 5722908.156, -7541368.8...     79.957303  \n",
       "431141  POLYGON ((-7541375.759 5722911.68, -7541377.30...     79.957304  \n",
       "431140  POLYGON ((-7541400.658 5722924.369, -7541396.7...     79.956943  \n",
       "\n",
       "[9760 rows x 16 columns]"
      ]
     },
     "execution_count": 53,
     "metadata": {},
     "output_type": "execute_result"
    }
   ],
   "source": [
    "segments"
   ]
  },
  {
   "cell_type": "code",
   "execution_count": 54,
   "id": "d31722c0-4064-46db-9359-96d2d2710c0d",
   "metadata": {},
   "outputs": [
    {
     "ename": "AttributeError",
     "evalue": "'GeoDataFrame' object has no attribute 'Slope'",
     "output_type": "error",
     "traceback": [
      "\u001b[0;31m---------------------------------------------------------------------------\u001b[0m",
      "\u001b[0;31mAttributeError\u001b[0m                            Traceback (most recent call last)",
      "\u001b[0;32m/tmp/ipykernel_1115141/229608713.py\u001b[0m in \u001b[0;36m?\u001b[0;34m()\u001b[0m\n\u001b[0;32m----> 1\u001b[0;31m \u001b[0msegments\u001b[0m\u001b[0;34m[\u001b[0m\u001b[0msegments\u001b[0m\u001b[0;34m[\u001b[0m\u001b[0;34m'NHDPlusID'\u001b[0m\u001b[0;34m]\u001b[0m \u001b[0;34m==\u001b[0m \u001b[0mids\u001b[0m\u001b[0;34m[\u001b[0m\u001b[0;36m0\u001b[0m\u001b[0;34m]\u001b[0m\u001b[0;34m]\u001b[0m\u001b[0;34m.\u001b[0m\u001b[0mSlope\u001b[0m\u001b[0;34m.\u001b[0m\u001b[0munique\u001b[0m\u001b[0;34m(\u001b[0m\u001b[0;34m)\u001b[0m\u001b[0;34m\u001b[0m\u001b[0;34m\u001b[0m\u001b[0m\n\u001b[0m",
      "\u001b[0;32m/work/pi_cjgleason_umass_edu/.conda/envs/narrowPIXC/lib/python3.12/site-packages/pandas/core/generic.py\u001b[0m in \u001b[0;36m?\u001b[0;34m(self, name)\u001b[0m\n\u001b[1;32m   6295\u001b[0m             \u001b[0;32mand\u001b[0m \u001b[0mname\u001b[0m \u001b[0;32mnot\u001b[0m \u001b[0;32min\u001b[0m \u001b[0mself\u001b[0m\u001b[0;34m.\u001b[0m\u001b[0m_accessors\u001b[0m\u001b[0;34m\u001b[0m\u001b[0;34m\u001b[0m\u001b[0m\n\u001b[1;32m   6296\u001b[0m             \u001b[0;32mand\u001b[0m \u001b[0mself\u001b[0m\u001b[0;34m.\u001b[0m\u001b[0m_info_axis\u001b[0m\u001b[0;34m.\u001b[0m\u001b[0m_can_hold_identifiers_and_holds_name\u001b[0m\u001b[0;34m(\u001b[0m\u001b[0mname\u001b[0m\u001b[0;34m)\u001b[0m\u001b[0;34m\u001b[0m\u001b[0;34m\u001b[0m\u001b[0m\n\u001b[1;32m   6297\u001b[0m         \u001b[0;34m)\u001b[0m\u001b[0;34m:\u001b[0m\u001b[0;34m\u001b[0m\u001b[0;34m\u001b[0m\u001b[0m\n\u001b[1;32m   6298\u001b[0m             \u001b[0;32mreturn\u001b[0m \u001b[0mself\u001b[0m\u001b[0;34m[\u001b[0m\u001b[0mname\u001b[0m\u001b[0;34m]\u001b[0m\u001b[0;34m\u001b[0m\u001b[0;34m\u001b[0m\u001b[0m\n\u001b[0;32m-> 6299\u001b[0;31m         \u001b[0;32mreturn\u001b[0m \u001b[0mobject\u001b[0m\u001b[0;34m.\u001b[0m\u001b[0m__getattribute__\u001b[0m\u001b[0;34m(\u001b[0m\u001b[0mself\u001b[0m\u001b[0;34m,\u001b[0m \u001b[0mname\u001b[0m\u001b[0;34m)\u001b[0m\u001b[0;34m\u001b[0m\u001b[0;34m\u001b[0m\u001b[0m\n\u001b[0m",
      "\u001b[0;31mAttributeError\u001b[0m: 'GeoDataFrame' object has no attribute 'Slope'"
     ]
    }
   ],
   "source": [
    "segments[segments['NHDPlusID'] == ids[0]].Slope.unique()"
   ]
  },
  {
   "cell_type": "code",
   "execution_count": 93,
   "id": "5fe18cc8-9c55-4749-927f-ac0fa7ca9620",
   "metadata": {},
   "outputs": [],
   "source": [
    "test = gpd.sjoin(segments, gdf_PIXC_clip, predicate='intersects').sort_values(by=['NHDPlusID', 'counter']).reset_index().drop(columns=['level_0', 'index_old']) # [['NHDPlusID', 'counter', 'GNIS_Name', 'height']]"
   ]
  },
  {
   "cell_type": "code",
   "execution_count": 94,
   "id": "5c4b9e33-165c-4aac-96d8-0afaa6faf508",
   "metadata": {},
   "outputs": [],
   "source": [
    "for_height = [3, 4, 6, 7]"
   ]
  },
  {
   "cell_type": "code",
   "execution_count": 95,
   "id": "f43f7663-6769-4182-b06d-02c88a6b6bc7",
   "metadata": {},
   "outputs": [],
   "source": [
    "test = test[test.klass.isin(for_height)].reset_index().drop(columns='level_0')"
   ]
  },
  {
   "cell_type": "code",
   "execution_count": 96,
   "id": "c6ad43e6-9841-4b5b-bf78-164f214fd912",
   "metadata": {},
   "outputs": [],
   "source": [
    "test['wse'] = test.height - test.geoid - test.solid_earth_tide - test.load_tide_fes - test.pole_tide"
   ]
  },
  {
   "cell_type": "code",
   "execution_count": 119,
   "id": "233284fb-2a28-4857-bf7e-5ede3b157079",
   "metadata": {},
   "outputs": [
    {
     "data": {
      "text/plain": [
       "Index(['NHDPlusID', 'GNIS_Name', 'LengthKM', 'WidthM', 'WidthM_Min',\n",
       "       'WidthM_Max', 'Bin', 'segments', 'Bin_Min', 'Bin_Max', 'huc4_long',\n",
       "       'huc4', 'counter', 'buffer', 'segment_area', 'index_right0', 'index',\n",
       "       'points', 'azimuth_index', 'range_index', 'cross_track', 'pixel_area',\n",
       "       'height', 'geoid', 'solid_earth_tide', 'load_tide_fes', 'pole_tide',\n",
       "       'prior_water_prob', 'klass', 'latitude', 'longitude', 'pixel_centroid',\n",
       "       'Slope', 'pseudo_geom', 'wse', 'flowline', 'distance'],\n",
       "      dtype='object')"
      ]
     },
     "execution_count": 119,
     "metadata": {},
     "output_type": "execute_result"
    }
   ],
   "source": [
    "test.columns"
   ]
  },
  {
   "cell_type": "code",
   "execution_count": 117,
   "id": "d0061e4b-ee51-4b5d-8993-1a6b9f63232a",
   "metadata": {},
   "outputs": [
    {
     "data": {
      "text/plain": [
       "array([1, 2, 3, 4, 5, 6, 7, 8, 9])"
      ]
     },
     "execution_count": 117,
     "metadata": {},
     "output_type": "execute_result"
    }
   ],
   "source": [
    "test[test['NHDPlusID'] == 5000200008760].counter.unique()"
   ]
  },
  {
   "cell_type": "code",
   "execution_count": 120,
   "id": "a27514a7-8e49-4f89-b052-3aeabff28069",
   "metadata": {},
   "outputs": [
    {
     "data": {
      "text/plain": [
       "array([56.92203405])"
      ]
     },
     "execution_count": 120,
     "metadata": {},
     "output_type": "execute_result"
    }
   ],
   "source": [
    "test[test['NHDPlusID'] == 5000200008760].WidthM.unique()"
   ]
  },
  {
   "cell_type": "code",
   "execution_count": 98,
   "id": "3f543107-4006-46fb-805f-1cd285bc0905",
   "metadata": {},
   "outputs": [],
   "source": [
    "def project_point(line, point):\n",
    "    # Project point onto line\n",
    "    return line.project(point)"
   ]
  },
  {
   "cell_type": "code",
   "execution_count": 99,
   "id": "91254eb3-5eb8-4621-b2e0-7221a436e849",
   "metadata": {},
   "outputs": [
    {
     "data": {
      "text/plain": [
       "(9864, 35)"
      ]
     },
     "execution_count": 99,
     "metadata": {},
     "output_type": "execute_result"
    }
   ],
   "source": [
    "test.shape"
   ]
  },
  {
   "cell_type": "code",
   "execution_count": 100,
   "id": "7a47a596-a99c-48cc-91d7-a3f0faae329f",
   "metadata": {},
   "outputs": [],
   "source": [
    "test = pd.merge(left=test, right=flowlines[['NHDPlusID', 'geometry']], on='NHDPlusID')"
   ]
  },
  {
   "cell_type": "code",
   "execution_count": 101,
   "id": "a868fc85-b9c5-49c4-97d5-0f5a8cb8bdb3",
   "metadata": {},
   "outputs": [],
   "source": [
    "test = test.rename(columns={'geometry': 'flowline'})"
   ]
  },
  {
   "cell_type": "code",
   "execution_count": 102,
   "id": "9aeb013c-c4ab-40c9-97c4-b6e8187f3e3f",
   "metadata": {},
   "outputs": [],
   "source": [
    "test['distance'] = test.apply(lambda x: project_point(x['flowline'], x['pixel_centroid']), axis=1)"
   ]
  },
  {
   "cell_type": "code",
   "execution_count": 103,
   "id": "36588669-3bb9-4c53-baa6-10b87cd139fe",
   "metadata": {},
   "outputs": [],
   "source": [
    "ids = test['NHDPlusID'].unique()"
   ]
  },
  {
   "cell_type": "code",
   "execution_count": 104,
   "id": "9ab93cab-0c2d-4993-b114-8c5604e6c27e",
   "metadata": {},
   "outputs": [],
   "source": [
    "data_path = './figures_for_2025_03_17/'"
   ]
  },
  {
   "cell_type": "code",
   "execution_count": 105,
   "id": "c99119db-4684-48db-b963-20f402dc8e71",
   "metadata": {},
   "outputs": [],
   "source": [
    "palette = {#2: 'forestgreen', \n",
    "           3: 'cornflowerblue', 4: 'blue', 5: 'hotpink',\n",
    "           6: 'darkkhaki', 7: 'springgreen'} # 6: 'lightsalmon', 7: 'lightblue'"
   ]
  },
  {
   "cell_type": "code",
   "execution_count": 106,
   "id": "dbdbabb2-4f22-4440-a926-4e870663d10a",
   "metadata": {},
   "outputs": [],
   "source": [
    "# Make dict for legend labels\n",
    "flags = ds_PIXC.classification.flag_meanings.split() # extract each flag meaning\n",
    "codes = {str(idx) + '.0':k for idx, k in enumerate(flags, start=1)}"
   ]
  },
  {
   "cell_type": "code",
   "execution_count": 107,
   "id": "959f84c0-543a-4b3e-aff0-e7c13306f681",
   "metadata": {},
   "outputs": [
    {
     "data": {
      "text/plain": [
       "{'1.0': 'land',\n",
       " '2.0': 'land_near_water',\n",
       " '3.0': 'water_near_land',\n",
       " '4.0': 'open_water',\n",
       " '5.0': 'dark_water',\n",
       " '6.0': 'low_coh_water_near_land',\n",
       " '7.0': 'open_low_coh_water'}"
      ]
     },
     "execution_count": 107,
     "metadata": {},
     "output_type": "execute_result"
    }
   ],
   "source": [
    "codes"
   ]
  },
  {
   "cell_type": "code",
   "execution_count": 70,
   "id": "af2d424b-d3f4-4786-aeda-c3993feefdcd",
   "metadata": {},
   "outputs": [
    {
     "data": {
      "text/plain": [
       "Index(['NHDPlusID', 'GNIS_Name', 'LengthKM', 'WidthM', 'WidthM_Min',\n",
       "       'WidthM_Max', 'Bin', 'segments', 'Bin_Min', 'Bin_Max', 'huc4_long',\n",
       "       'huc4', 'counter', 'buffer', 'segment_area', 'index_right0', 'index',\n",
       "       'points', 'azimuth_index', 'range_index', 'cross_track', 'pixel_area',\n",
       "       'height', 'geoid', 'solid_earth_tide', 'load_tide_fes', 'pole_tide',\n",
       "       'prior_water_prob', 'klass', 'latitude', 'longitude', 'pixel_centroid',\n",
       "       'Slope', 'pseudo_geom', 'wse', 'flowline', 'distance'],\n",
       "      dtype='object')"
      ]
     },
     "execution_count": 70,
     "metadata": {},
     "output_type": "execute_result"
    }
   ],
   "source": [
    "test.columns"
   ]
  },
  {
   "cell_type": "code",
   "execution_count": 108,
   "id": "f3474b3a-e5ee-4e3a-a79b-1d7d9843c371",
   "metadata": {},
   "outputs": [
    {
     "data": {
      "image/png": "[encoded data removed]",
      "text/plain": [
       "<Figure size 994x700 with 1 Axes>"
      ]
     },
     "metadata": {},
     "output_type": "display_data"
    }
   ],
   "source": [
    "data = test[test['NHDPlusID'] == 5000200008760].sort_values(by='distance')\n",
    "\n",
    "graph = sns.lmplot(data=data,\n",
    "                   x='distance', y='wse',\n",
    "                   hue='klass', palette=palette, fit_reg=False,\n",
    "                   height=7, aspect=1.42, legend=False)\n",
    "sns.regplot(data=data, x='distance', y='wse',\n",
    "            color='gray',\n",
    "            scatter=False,ax=graph.axes[0, 0])\n",
    "\n",
    "ax.axline((0, 5000), slope=3., color='C0', label='by slope')\n",
    "\n",
    "# Get the axes object\n",
    "ax = graph.axes[0, 0]\n",
    "\n",
    "plt.plot(data['distance'], abline_values, 'b')\n",
    "\n",
    "# Get the handles and labels\n",
    "handles, labels = ax.get_legend_handles_labels()\n",
    "# Update the labels\n",
    "new_labels = [codes[label] for label in labels]\n",
    "# Update the legend\n",
    "ax.legend(handles, new_labels,\n",
    "          title='Classification', loc='upper right')\n",
    "\n",
    "plt.xlabel('Distance along reach [m]')\n",
    "plt.ylabel('WSE [m]')\n",
    "ax.xaxis.set_major_locator(MaxNLocator(integer=True))\n",
    "# plt.title('NHDPlusID: ' + str(id_.astype('int')) +\n",
    "#           ', width: ' + str(round(data.iloc[0]['WidthM'], 2)) +\n",
    "#           ' [m], length: ' + str(round(data.iloc[0]['LengthKM'], 2)) +\n",
    "#           ' [km]')"
   ]
  },
  {
   "cell_type": "code",
   "execution_count": 112,
   "id": "c8b29621-7c90-4e7a-be0e-5bbe088a1847",
   "metadata": {},
   "outputs": [
    {
     "data": {
      "text/html": [
       "<div>\n",
       "<style scoped>\n",
       "    .dataframe tbody tr th:only-of-type {\n",
       "        vertical-align: middle;\n",
       "    }\n",
       "\n",
       "    .dataframe tbody tr th {\n",
       "        vertical-align: top;\n",
       "    }\n",
       "\n",
       "    .dataframe thead th {\n",
       "        text-align: right;\n",
       "    }\n",
       "</style>\n",
       "<table border=\"1\" class=\"dataframe\">\n",
       "  <thead>\n",
       "    <tr style=\"text-align: right;\">\n",
       "      <th></th>\n",
       "      <th>NHDPlusID</th>\n",
       "      <th>GNIS_Name</th>\n",
       "      <th>LengthKM</th>\n",
       "      <th>WidthM</th>\n",
       "      <th>WidthM_Min</th>\n",
       "      <th>WidthM_Max</th>\n",
       "      <th>Bin</th>\n",
       "      <th>segments</th>\n",
       "      <th>Bin_Min</th>\n",
       "      <th>Bin_Max</th>\n",
       "      <th>...</th>\n",
       "      <th>prior_water_prob</th>\n",
       "      <th>klass</th>\n",
       "      <th>latitude</th>\n",
       "      <th>longitude</th>\n",
       "      <th>pixel_centroid</th>\n",
       "      <th>Slope</th>\n",
       "      <th>pseudo_geom</th>\n",
       "      <th>wse</th>\n",
       "      <th>flowline</th>\n",
       "      <th>distance</th>\n",
       "    </tr>\n",
       "  </thead>\n",
       "  <tbody>\n",
       "    <tr>\n",
       "      <th>0</th>\n",
       "      <td>5.000200e+12</td>\n",
       "      <td>Deadman Stream</td>\n",
       "      <td>1.039</td>\n",
       "      <td>9.765534</td>\n",
       "      <td>7.407915</td>\n",
       "      <td>12.873481</td>\n",
       "      <td>(0, 10]</td>\n",
       "      <td>LINESTRING (-7541143.986 5683454.632, -7541061...</td>\n",
       "      <td>(0, 10]</td>\n",
       "      <td>(10, 20]</td>\n",
       "      <td>...</td>\n",
       "      <td>0.00</td>\n",
       "      <td>3.0</td>\n",
       "      <td>45.391252</td>\n",
       "      <td>-67.742394</td>\n",
       "      <td>POINT (-7541048.833 5683327.848)</td>\n",
       "      <td>0.000144</td>\n",
       "      <td>POLYGON ((-7541058.031 5683341.683, -7541063.6...</td>\n",
       "      <td>112.672371</td>\n",
       "      <td>LINESTRING (-7541143.986 5683454.632, -7541022...</td>\n",
       "      <td>158.316562</td>\n",
       "    </tr>\n",
       "    <tr>\n",
       "      <th>1</th>\n",
       "      <td>5.000200e+12</td>\n",
       "      <td>Deadman Stream</td>\n",
       "      <td>1.039</td>\n",
       "      <td>9.765534</td>\n",
       "      <td>7.407915</td>\n",
       "      <td>12.873481</td>\n",
       "      <td>(0, 10]</td>\n",
       "      <td>LINESTRING (-7541143.986 5683454.632, -7541061...</td>\n",
       "      <td>(0, 10]</td>\n",
       "      <td>(10, 20]</td>\n",
       "      <td>...</td>\n",
       "      <td>0.00</td>\n",
       "      <td>3.0</td>\n",
       "      <td>45.391264</td>\n",
       "      <td>-67.742457</td>\n",
       "      <td>POINT (-7541055.782 5683329.738)</td>\n",
       "      <td>0.000144</td>\n",
       "      <td>POLYGON ((-7541064.993 5683343.575, -7541070.6...</td>\n",
       "      <td>113.271088</td>\n",
       "      <td>LINESTRING (-7541143.986 5683454.632, -7541022...</td>\n",
       "      <td>152.865015</td>\n",
       "    </tr>\n",
       "    <tr>\n",
       "      <th>2</th>\n",
       "      <td>5.000200e+12</td>\n",
       "      <td>Deadman Stream</td>\n",
       "      <td>1.039</td>\n",
       "      <td>9.765534</td>\n",
       "      <td>7.407915</td>\n",
       "      <td>12.873481</td>\n",
       "      <td>(0, 10]</td>\n",
       "      <td>LINESTRING (-7541143.986 5683454.632, -7541061...</td>\n",
       "      <td>(0, 10]</td>\n",
       "      <td>(10, 20]</td>\n",
       "      <td>...</td>\n",
       "      <td>0.00</td>\n",
       "      <td>3.0</td>\n",
       "      <td>45.391283</td>\n",
       "      <td>-67.742559</td>\n",
       "      <td>POINT (-7541067.216 5683332.848)</td>\n",
       "      <td>0.000144</td>\n",
       "      <td>POLYGON ((-7541076.441 5683346.689, -7541082.1...</td>\n",
       "      <td>113.772186</td>\n",
       "      <td>LINESTRING (-7541143.986 5683454.632, -7541022...</td>\n",
       "      <td>143.892973</td>\n",
       "    </tr>\n",
       "    <tr>\n",
       "      <th>3</th>\n",
       "      <td>5.000200e+12</td>\n",
       "      <td>Deadman Stream</td>\n",
       "      <td>1.039</td>\n",
       "      <td>9.765534</td>\n",
       "      <td>7.407915</td>\n",
       "      <td>12.873481</td>\n",
       "      <td>(0, 10]</td>\n",
       "      <td>LINESTRING (-7541143.986 5683454.632, -7541061...</td>\n",
       "      <td>(0, 10]</td>\n",
       "      <td>(10, 20]</td>\n",
       "      <td>...</td>\n",
       "      <td>0.12</td>\n",
       "      <td>3.0</td>\n",
       "      <td>45.391520</td>\n",
       "      <td>-67.742738</td>\n",
       "      <td>POINT (-7541087.049 5683370.342)</td>\n",
       "      <td>0.000144</td>\n",
       "      <td>POLYGON ((-7541096.274 5683384.184, -7541101.9...</td>\n",
       "      <td>113.207207</td>\n",
       "      <td>LINESTRING (-7541143.986 5683454.632, -7541022...</td>\n",
       "      <td>101.717695</td>\n",
       "    </tr>\n",
       "    <tr>\n",
       "      <th>4</th>\n",
       "      <td>5.000200e+12</td>\n",
       "      <td>Deadman Stream</td>\n",
       "      <td>1.039</td>\n",
       "      <td>9.765534</td>\n",
       "      <td>7.407915</td>\n",
       "      <td>12.873481</td>\n",
       "      <td>(0, 10]</td>\n",
       "      <td>LINESTRING (-7541143.986 5683454.632, -7541061...</td>\n",
       "      <td>(0, 10]</td>\n",
       "      <td>(10, 20]</td>\n",
       "      <td>...</td>\n",
       "      <td>0.12</td>\n",
       "      <td>4.0</td>\n",
       "      <td>45.391540</td>\n",
       "      <td>-67.742842</td>\n",
       "      <td>POINT (-7541098.73 5683373.522)</td>\n",
       "      <td>0.000144</td>\n",
       "      <td>POLYGON ((-7541107.942 5683387.36, -7541113.60...</td>\n",
       "      <td>112.203362</td>\n",
       "      <td>LINESTRING (-7541143.986 5683454.632, -7541022...</td>\n",
       "      <td>92.549362</td>\n",
       "    </tr>\n",
       "    <tr>\n",
       "      <th>...</th>\n",
       "      <td>...</td>\n",
       "      <td>...</td>\n",
       "      <td>...</td>\n",
       "      <td>...</td>\n",
       "      <td>...</td>\n",
       "      <td>...</td>\n",
       "      <td>...</td>\n",
       "      <td>...</td>\n",
       "      <td>...</td>\n",
       "      <td>...</td>\n",
       "      <td>...</td>\n",
       "      <td>...</td>\n",
       "      <td>...</td>\n",
       "      <td>...</td>\n",
       "      <td>...</td>\n",
       "      <td>...</td>\n",
       "      <td>...</td>\n",
       "      <td>...</td>\n",
       "      <td>...</td>\n",
       "      <td>...</td>\n",
       "      <td>...</td>\n",
       "    </tr>\n",
       "    <tr>\n",
       "      <th>9859</th>\n",
       "      <td>5.000500e+12</td>\n",
       "      <td>Baskahegan Stream</td>\n",
       "      <td>2.771</td>\n",
       "      <td>34.432981</td>\n",
       "      <td>26.120088</td>\n",
       "      <td>45.391510</td>\n",
       "      <td>(30, 40]</td>\n",
       "      <td>LINESTRING (-7553377.639 5708522.366, -7553379...</td>\n",
       "      <td>(20, 30]</td>\n",
       "      <td>(40, 50]</td>\n",
       "      <td>...</td>\n",
       "      <td>0.80</td>\n",
       "      <td>3.0</td>\n",
       "      <td>45.550605</td>\n",
       "      <td>-67.854125</td>\n",
       "      <td>POINT (-7553486.678 5708623.51)</td>\n",
       "      <td>0.000010</td>\n",
       "      <td>POLYGON ((-7553510.717 5708641.298, -7553516.3...</td>\n",
       "      <td>125.703903</td>\n",
       "      <td>LINESTRING (-7551742.515 5706495.832, -7551748...</td>\n",
       "      <td>3711.432513</td>\n",
       "    </tr>\n",
       "    <tr>\n",
       "      <th>9860</th>\n",
       "      <td>5.000500e+12</td>\n",
       "      <td>Baskahegan Stream</td>\n",
       "      <td>2.771</td>\n",
       "      <td>34.432981</td>\n",
       "      <td>26.120088</td>\n",
       "      <td>45.391510</td>\n",
       "      <td>(30, 40]</td>\n",
       "      <td>LINESTRING (-7553377.639 5708522.366, -7553379...</td>\n",
       "      <td>(20, 30]</td>\n",
       "      <td>(40, 50]</td>\n",
       "      <td>...</td>\n",
       "      <td>0.80</td>\n",
       "      <td>3.0</td>\n",
       "      <td>45.550739</td>\n",
       "      <td>-67.854831</td>\n",
       "      <td>POINT (-7553565.272 5708644.793)</td>\n",
       "      <td>0.000010</td>\n",
       "      <td>POLYGON ((-7553589.455 5708662.619, -7553595.1...</td>\n",
       "      <td>125.696167</td>\n",
       "      <td>LINESTRING (-7551742.515 5706495.832, -7551748...</td>\n",
       "      <td>3792.663066</td>\n",
       "    </tr>\n",
       "    <tr>\n",
       "      <th>9861</th>\n",
       "      <td>5.000500e+12</td>\n",
       "      <td>Baskahegan Stream</td>\n",
       "      <td>2.771</td>\n",
       "      <td>34.432981</td>\n",
       "      <td>26.120088</td>\n",
       "      <td>45.391510</td>\n",
       "      <td>(30, 40]</td>\n",
       "      <td>LINESTRING (-7553377.639 5708522.366, -7553379...</td>\n",
       "      <td>(20, 30]</td>\n",
       "      <td>(40, 50]</td>\n",
       "      <td>...</td>\n",
       "      <td>0.53</td>\n",
       "      <td>3.0</td>\n",
       "      <td>45.550836</td>\n",
       "      <td>-67.854274</td>\n",
       "      <td>POINT (-7553503.198 5708660.167)</td>\n",
       "      <td>0.000010</td>\n",
       "      <td>POLYGON ((-7553527.256 5708677.96, -7553532.92...</td>\n",
       "      <td>125.508774</td>\n",
       "      <td>LINESTRING (-7551742.515 5706495.832, -7551748...</td>\n",
       "      <td>3739.727865</td>\n",
       "    </tr>\n",
       "    <tr>\n",
       "      <th>9862</th>\n",
       "      <td>5.000500e+12</td>\n",
       "      <td>Baskahegan Stream</td>\n",
       "      <td>2.771</td>\n",
       "      <td>34.432981</td>\n",
       "      <td>26.120088</td>\n",
       "      <td>45.391510</td>\n",
       "      <td>(30, 40]</td>\n",
       "      <td>LINESTRING (-7553377.639 5708522.366, -7553379...</td>\n",
       "      <td>(20, 30]</td>\n",
       "      <td>(40, 50]</td>\n",
       "      <td>...</td>\n",
       "      <td>0.53</td>\n",
       "      <td>3.0</td>\n",
       "      <td>45.550939</td>\n",
       "      <td>-67.854818</td>\n",
       "      <td>POINT (-7553563.773 5708676.562)</td>\n",
       "      <td>0.000010</td>\n",
       "      <td>POLYGON ((-7553587.976 5708694.393, -7553593.6...</td>\n",
       "      <td>125.676895</td>\n",
       "      <td>LINESTRING (-7551742.515 5706495.832, -7551748...</td>\n",
       "      <td>3806.344452</td>\n",
       "    </tr>\n",
       "    <tr>\n",
       "      <th>9863</th>\n",
       "      <td>5.000500e+12</td>\n",
       "      <td>None</td>\n",
       "      <td>0.159</td>\n",
       "      <td>0.725017</td>\n",
       "      <td>0.549982</td>\n",
       "      <td>0.955759</td>\n",
       "      <td>(0, 10]</td>\n",
       "      <td>LINESTRING (-7551519.602 5698392.846, -7551520...</td>\n",
       "      <td>(0, 10]</td>\n",
       "      <td>(0, 10]</td>\n",
       "      <td>...</td>\n",
       "      <td>0.45</td>\n",
       "      <td>3.0</td>\n",
       "      <td>45.486302</td>\n",
       "      <td>-67.836402</td>\n",
       "      <td>POINT (-7551513.775 5698407.465)</td>\n",
       "      <td>0.005085</td>\n",
       "      <td>POLYGON ((-7551531.587 5698423.593, -7551537.2...</td>\n",
       "      <td>126.835793</td>\n",
       "      <td>LINESTRING (-7551427.349 5698314.545, -7551433...</td>\n",
       "      <td>219.566545</td>\n",
       "    </tr>\n",
       "  </tbody>\n",
       "</table>\n",
       "<p>9864 rows × 37 columns</p>\n",
       "</div>"
      ],
      "text/plain": [
       "         NHDPlusID          GNIS_Name  LengthKM     WidthM  WidthM_Min  \\\n",
       "0     5.000200e+12     Deadman Stream     1.039   9.765534    7.407915   \n",
       "1     5.000200e+12     Deadman Stream     1.039   9.765534    7.407915   \n",
       "2     5.000200e+12     Deadman Stream     1.039   9.765534    7.407915   \n",
       "3     5.000200e+12     Deadman Stream     1.039   9.765534    7.407915   \n",
       "4     5.000200e+12     Deadman Stream     1.039   9.765534    7.407915   \n",
       "...            ...                ...       ...        ...         ...   \n",
       "9859  5.000500e+12  Baskahegan Stream     2.771  34.432981   26.120088   \n",
       "9860  5.000500e+12  Baskahegan Stream     2.771  34.432981   26.120088   \n",
       "9861  5.000500e+12  Baskahegan Stream     2.771  34.432981   26.120088   \n",
       "9862  5.000500e+12  Baskahegan Stream     2.771  34.432981   26.120088   \n",
       "9863  5.000500e+12               None     0.159   0.725017    0.549982   \n",
       "\n",
       "      WidthM_Max       Bin                                           segments  \\\n",
       "0      12.873481   (0, 10]  LINESTRING (-7541143.986 5683454.632, -7541061...   \n",
       "1      12.873481   (0, 10]  LINESTRING (-7541143.986 5683454.632, -7541061...   \n",
       "2      12.873481   (0, 10]  LINESTRING (-7541143.986 5683454.632, -7541061...   \n",
       "3      12.873481   (0, 10]  LINESTRING (-7541143.986 5683454.632, -7541061...   \n",
       "4      12.873481   (0, 10]  LINESTRING (-7541143.986 5683454.632, -7541061...   \n",
       "...          ...       ...                                                ...   \n",
       "9859   45.391510  (30, 40]  LINESTRING (-7553377.639 5708522.366, -7553379...   \n",
       "9860   45.391510  (30, 40]  LINESTRING (-7553377.639 5708522.366, -7553379...   \n",
       "9861   45.391510  (30, 40]  LINESTRING (-7553377.639 5708522.366, -7553379...   \n",
       "9862   45.391510  (30, 40]  LINESTRING (-7553377.639 5708522.366, -7553379...   \n",
       "9863    0.955759   (0, 10]  LINESTRING (-7551519.602 5698392.846, -7551520...   \n",
       "\n",
       "       Bin_Min   Bin_Max  ... prior_water_prob klass   latitude  longitude  \\\n",
       "0      (0, 10]  (10, 20]  ...             0.00   3.0  45.391252 -67.742394   \n",
       "1      (0, 10]  (10, 20]  ...             0.00   3.0  45.391264 -67.742457   \n",
       "2      (0, 10]  (10, 20]  ...             0.00   3.0  45.391283 -67.742559   \n",
       "3      (0, 10]  (10, 20]  ...             0.12   3.0  45.391520 -67.742738   \n",
       "4      (0, 10]  (10, 20]  ...             0.12   4.0  45.391540 -67.742842   \n",
       "...        ...       ...  ...              ...   ...        ...        ...   \n",
       "9859  (20, 30]  (40, 50]  ...             0.80   3.0  45.550605 -67.854125   \n",
       "9860  (20, 30]  (40, 50]  ...             0.80   3.0  45.550739 -67.854831   \n",
       "9861  (20, 30]  (40, 50]  ...             0.53   3.0  45.550836 -67.854274   \n",
       "9862  (20, 30]  (40, 50]  ...             0.53   3.0  45.550939 -67.854818   \n",
       "9863   (0, 10]   (0, 10]  ...             0.45   3.0  45.486302 -67.836402   \n",
       "\n",
       "                        pixel_centroid     Slope  \\\n",
       "0     POINT (-7541048.833 5683327.848)  0.000144   \n",
       "1     POINT (-7541055.782 5683329.738)  0.000144   \n",
       "2     POINT (-7541067.216 5683332.848)  0.000144   \n",
       "3     POINT (-7541087.049 5683370.342)  0.000144   \n",
       "4      POINT (-7541098.73 5683373.522)  0.000144   \n",
       "...                                ...       ...   \n",
       "9859   POINT (-7553486.678 5708623.51)  0.000010   \n",
       "9860  POINT (-7553565.272 5708644.793)  0.000010   \n",
       "9861  POINT (-7553503.198 5708660.167)  0.000010   \n",
       "9862  POINT (-7553563.773 5708676.562)  0.000010   \n",
       "9863  POINT (-7551513.775 5698407.465)  0.005085   \n",
       "\n",
       "                                            pseudo_geom         wse  \\\n",
       "0     POLYGON ((-7541058.031 5683341.683, -7541063.6...  112.672371   \n",
       "1     POLYGON ((-7541064.993 5683343.575, -7541070.6...  113.271088   \n",
       "2     POLYGON ((-7541076.441 5683346.689, -7541082.1...  113.772186   \n",
       "3     POLYGON ((-7541096.274 5683384.184, -7541101.9...  113.207207   \n",
       "4     POLYGON ((-7541107.942 5683387.36, -7541113.60...  112.203362   \n",
       "...                                                 ...         ...   \n",
       "9859  POLYGON ((-7553510.717 5708641.298, -7553516.3...  125.703903   \n",
       "9860  POLYGON ((-7553589.455 5708662.619, -7553595.1...  125.696167   \n",
       "9861  POLYGON ((-7553527.256 5708677.96, -7553532.92...  125.508774   \n",
       "9862  POLYGON ((-7553587.976 5708694.393, -7553593.6...  125.676895   \n",
       "9863  POLYGON ((-7551531.587 5698423.593, -7551537.2...  126.835793   \n",
       "\n",
       "                                               flowline     distance  \n",
       "0     LINESTRING (-7541143.986 5683454.632, -7541022...   158.316562  \n",
       "1     LINESTRING (-7541143.986 5683454.632, -7541022...   152.865015  \n",
       "2     LINESTRING (-7541143.986 5683454.632, -7541022...   143.892973  \n",
       "3     LINESTRING (-7541143.986 5683454.632, -7541022...   101.717695  \n",
       "4     LINESTRING (-7541143.986 5683454.632, -7541022...    92.549362  \n",
       "...                                                 ...          ...  \n",
       "9859  LINESTRING (-7551742.515 5706495.832, -7551748...  3711.432513  \n",
       "9860  LINESTRING (-7551742.515 5706495.832, -7551748...  3792.663066  \n",
       "9861  LINESTRING (-7551742.515 5706495.832, -7551748...  3739.727865  \n",
       "9862  LINESTRING (-7551742.515 5706495.832, -7551748...  3806.344452  \n",
       "9863  LINESTRING (-7551427.349 5698314.545, -7551433...   219.566545  \n",
       "\n",
       "[9864 rows x 37 columns]"
      ]
     },
     "execution_count": 112,
     "metadata": {},
     "output_type": "execute_result"
    }
   ],
   "source": [
    "test"
   ]
  },
  {
   "cell_type": "code",
   "execution_count": 111,
   "id": "f54331ac-1e8b-4b41-9d46-824e74f7b29c",
   "metadata": {},
   "outputs": [
    {
     "data": {
      "text/plain": [
       "array([8.37350e-04, 6.99900e-05, 3.98299e-03])"
      ]
     },
     "execution_count": 111,
     "metadata": {},
     "output_type": "execute_result"
    }
   ],
   "source": [
    "test[test['NHDPlusID'] == 5000200008760]['Slope'].unique()"
   ]
  },
  {
   "cell_type": "code",
   "execution_count": 109,
   "id": "c4ce54a1-b6ed-4585-b2c7-2f242e4cb62d",
   "metadata": {},
   "outputs": [],
   "source": [
    "nhd_slope = flowlines[flowlines['NHDPlusID'] == 5000200008760].Slope"
   ]
  },
  {
   "cell_type": "code",
   "execution_count": 91,
   "id": "84bf3f59-08e5-47ab-ad5a-d055933ef376",
   "metadata": {},
   "outputs": [
    {
     "name": "stderr",
     "output_type": "stream",
     "text": [
      "/tmp/ipykernel_3568574/2298137016.py:1: FutureWarning: Calling float on a single element Series is deprecated and will raise a TypeError in the future. Use float(ser.iloc[0]) instead\n",
      "  math.floor(nhd_slope)\n"
     ]
    },
    {
     "data": {
      "text/plain": [
       "0"
      ]
     },
     "execution_count": 91,
     "metadata": {},
     "output_type": "execute_result"
    }
   ],
   "source": [
    "math.floor(nhd_slope)"
   ]
  },
  {
   "cell_type": "code",
   "execution_count": 77,
   "id": "98564e78-ea7c-4576-9f34-5b43cd0f14cd",
   "metadata": {},
   "outputs": [],
   "source": [
    "temp = stats.linregress(data['distance'], data.wse)"
   ]
  },
  {
   "cell_type": "code",
   "execution_count": 78,
   "id": "c913c6cf-121b-48c2-b204-20adf9b720f1",
   "metadata": {},
   "outputs": [
    {
     "data": {
      "text/plain": [
       "np.float64(-0.0009592273455582066)"
      ]
     },
     "execution_count": 78,
     "metadata": {},
     "output_type": "execute_result"
    }
   ],
   "source": [
    "temp.slope"
   ]
  },
  {
   "cell_type": "code",
   "execution_count": 80,
   "id": "2af6d018-29d1-4daa-9195-a946b3111b3c",
   "metadata": {},
   "outputs": [],
   "source": [
    "# Find the slope and intercept of the best fit line\n",
    "slope, intercept = np.polyfit(data['distance'], data['wse'], 1)"
   ]
  },
  {
   "cell_type": "code",
   "execution_count": 83,
   "id": "e9f67ebe-4413-4402-bd6d-bb21968ea797",
   "metadata": {},
   "outputs": [],
   "source": [
    "# Create a list of values in the best fit line\n",
    "abline_values = [slope * i + intercept for i in data['distance']]"
   ]
  },
  {
   "cell_type": "code",
   "execution_count": 85,
   "id": "e2a66305-5ed7-496f-afe9-d52c36b0f92d",
   "metadata": {},
   "outputs": [],
   "source": [
    "# abline_values"
   ]
  },
  {
   "cell_type": "code",
   "execution_count": 79,
   "id": "37cd7709-52e8-4eb1-9200-08b6c9d014bd",
   "metadata": {},
   "outputs": [
    {
     "data": {
      "text/plain": [
       "np.float64(107.58306250361905)"
      ]
     },
     "execution_count": 79,
     "metadata": {},
     "output_type": "execute_result"
    }
   ],
   "source": [
    "temp.intercept"
   ]
  },
  {
   "cell_type": "code",
   "execution_count": 117,
   "id": "f66d5344-bca0-45c8-80e6-d3706850d982",
   "metadata": {},
   "outputs": [
    {
     "data": {
      "text/plain": [
       "np.float64(0.722375901784923)"
      ]
     },
     "execution_count": 117,
     "metadata": {},
     "output_type": "execute_result"
    }
   ],
   "source": [
    "(temp.rvalue)**2"
   ]
  },
  {
   "cell_type": "code",
   "execution_count": 104,
   "id": "d437a353-ac05-4c74-ba65-a6f89a31062e",
   "metadata": {},
   "outputs": [
    {
     "name": "stderr",
     "output_type": "stream",
     "text": [
      "/tmp/ipykernel_3563748/2230744047.py:12: UserWarning: No artists with labels found to put in legend.  Note that artists whose label start with an underscore are ignored when legend() is called with no argument.\n",
      "  plt.legend()\n"
     ]
    },
    {
     "data": {
      "text/plain": [
       "Text(0, 0.5, 'WSE [m]')"
      ]
     },
     "execution_count": 104,
     "metadata": {},
     "output_type": "execute_result"
    },
    {
     "data": {
      "image/png": "[encoded data removed]",
      "text/plain": [
       "<Figure size 640x480 with 1 Axes>"
      ]
     },
     "metadata": {},
     "output_type": "display_data"
    }
   ],
   "source": [
    "# data = test[test['NHDPlusID'] == ids[30]].sort_values(by='distance')#.drop_duplicates(subset='distance')\n",
    "data = test[test['NHDPlusID'] == 5000200008760].sort_values(by='distance')\n",
    "x = np.array(data['distance'])\n",
    "y = np.array(data['wse'])\n",
    "c=np.array(data['klass'])\n",
    "\n",
    "plt.scatter(x=x, y=y,\n",
    "            c=c\n",
    "            # cmap=palette\n",
    "           )\n",
    "plt.xlabel('Distance along reach [m]')\n",
    "plt.legend()\n",
    "plt.ylabel('WSE [m]')"
   ]
  },
  {
   "cell_type": "code",
   "execution_count": 137,
   "id": "fda782eb-da2b-43c5-b005-4266fadc18cf",
   "metadata": {},
   "outputs": [
    {
     "name": "stdout",
     "output_type": "stream",
     "text": [
      "Running fit with n_breakpoint = 0 . . \n",
      "Running fit with n_breakpoint = 1 . . \n",
      "Running fit with n_breakpoint = 2 . . \n",
      "Running fit with n_breakpoint = 3 . . \n",
      "Running fit with n_breakpoint = 4 . . \n",
      "Running fit with n_breakpoint = 5 . . \n",
      "Running fit with n_breakpoint = 6 . . \n",
      "\n",
      "                 Breakpoint Model Comparision Results                 \n",
      "====================================================================================================\n",
      "n_breakpoints            BIC    converged          RSS \n",
      "----------------------------------------------------------------------------------------------------\n",
      "0                     -274.5         True       249.22 \n",
      "1                    -859.27         True       68.637 \n",
      "2                    -858.59         True       66.939 \n",
      "3                     -884.6         True       61.627 \n",
      "4                     -881.1         True        60.47 \n",
      "5                    -877.25         True       59.379 \n",
      "6                     -870.0         True       58.738 \n",
      "\n",
      "Min BIC (Bayesian Information Criterion) suggests best model\n"
     ]
    }
   ],
   "source": [
    "pw_fit = piecewise_regression.ModelSelection(x, y, max_breakpoints=6)"
   ]
  },
  {
   "cell_type": "code",
   "execution_count": 148,
   "id": "1c97ee79-d1da-4fed-9f75-6967a75eb026",
   "metadata": {},
   "outputs": [
    {
     "name": "stdout",
     "output_type": "stream",
     "text": [
      "Plotting fit for model with 1 breakpoint(s) . . . \n"
     ]
    },
    {
     "data": {
      "image/png": "[encoded data removed]",
      "text/plain": [
       "<Figure size 640x480 with 1 Axes>"
      ]
     },
     "metadata": {},
     "output_type": "display_data"
    }
   ],
   "source": [
    "model = pw_fit.models[0]\n",
    "\n",
    "print(\"Plotting fit for model with {} breakpoint(s) . . . \".format(model.n_breakpoints))\n",
    "model.plot()\n",
    "pw_fit.models[0].plot_fit(color=\"red\", linewidth=2)\n",
    "plt.xlabel('Distance along reach [m]')\n",
    "plt.ylabel('WSE [m]')\n",
    "plt.title(\"Fit with {} breakpoints\".format(model.n_breakpoints))\n",
    "plt.show()"
   ]
  },
  {
   "cell_type": "code",
   "execution_count": 133,
   "id": "48bbd9af-754c-41dd-9a44-341fd1f592de",
   "metadata": {},
   "outputs": [],
   "source": [
    "# pw_fit = piecewise_regression.Fit(x, y, start_values=[5], n_breakpoints=2)"
   ]
  },
  {
   "cell_type": "code",
   "execution_count": 132,
   "id": "0673aa6e-649b-48b6-840e-f561bb73c4e8",
   "metadata": {},
   "outputs": [],
   "source": [
    "# pw_fit.summary()"
   ]
  },
  {
   "cell_type": "code",
   "execution_count": 76,
   "id": "2d96c60d-4927-4695-8cbd-d5bb95eee2b8",
   "metadata": {},
   "outputs": [
    {
     "data": {
      "image/png": "[encoded data removed]",
      "text/plain": [
       "<Figure size 640x480 with 1 Axes>"
      ]
     },
     "metadata": {},
     "output_type": "display_data"
    }
   ],
   "source": [
    "pw_fit.models[0].plot_data(color=\"grey\", s=20)\n",
    "# Pass in standard matplotlib keywords to control any of the plots\n",
    "pw_fit.models[0].plot_fit(color=\"red\", linewidth=4)\n",
    "pw_fit.models[0].plot_breakpoints()\n",
    "pw_fit.models[0].plot_breakpoint_confidence_intervals()\n",
    "plt.xlim(x.min()-10, x.max()+10)\n",
    "plt.xlabel(\"x\")\n",
    "plt.ylabel(\"y\")\n",
    "plt.show()\n",
    "plt.close()"
   ]
  },
  {
   "cell_type": "code",
   "execution_count": 81,
   "id": "af01a53c-1db3-4ece-8792-de0dabe72743",
   "metadata": {},
   "outputs": [],
   "source": [
    "spl = make_splrep(x=x, y=y, k=1, s=0.90)"
   ]
  },
  {
   "cell_type": "code",
   "execution_count": 82,
   "id": "4ade0e15-0e24-4a1d-806e-2a0578f9ca31",
   "metadata": {},
   "outputs": [],
   "source": [
    "xs = np.linspace(x.min(), x.max(), 1000)"
   ]
  },
  {
   "cell_type": "code",
   "execution_count": 83,
   "id": "4d9c4758-b597-4fad-a51c-e5f5d75f00b1",
   "metadata": {},
   "outputs": [
    {
     "data": {
      "image/png": "[encoded data removed]",
      "text/plain": [
       "<Figure size 640x480 with 1 Axes>"
      ]
     },
     "metadata": {},
     "output_type": "display_data"
    }
   ],
   "source": [
    "fig, ax = plt.subplots()\n",
    "ax.scatter(x, y, color=\"red\", s=20, zorder=20)\n",
    "ax.plot(xs, spl(xs), linestyle=\"--\", linewidth=1, color=\"blue\", zorder=10)\n",
    "ax.grid(color=\"grey\", linestyle=\"--\", linewidth=.5, alpha=.5)\n",
    "ax.set_ylabel(\"WSE [m]\")\n",
    "ax.set_xlabel(\"Distance along reach [m]\")\n",
    "plt.show()"
   ]
  },
  {
   "cell_type": "code",
   "execution_count": null,
   "id": "449c2e4b-e272-4d4c-b37d-0f2c89a53faa",
   "metadata": {},
   "outputs": [],
   "source": [
    "for id_ in ids:\n",
    "\n",
    "    data=test[test['NHDPlusID'] == id_]\n",
    "    if data.shape[0] > 3:\n",
    "\n",
    "        # fig, ax = plt.subplots(figsize=(10,7))\n",
    "        # sns.regplot(data=data,\n",
    "        #                 x='distance', y='wse',\n",
    "        #             column='klass', palette=new_cmap\n",
    "        #            )\n",
    "        \n",
    "        graph = sns.lmplot(data=data,\n",
    "                           x='distance', y='wse',\n",
    "                           hue='klass', palette=palette, fit_reg=False,\n",
    "                           height=7, aspect=1.42, legend=False)\n",
    "        sns.regplot(data=data, x='distance', y='wse',\n",
    "                    color='gray',\n",
    "                    scatter=False,ax=graph.axes[0, 0])\n",
    "        \n",
    "        # Get the axes object\n",
    "        ax = graph.axes[0, 0]\n",
    "\n",
    "        # Get the handles and labels\n",
    "        handles, labels = ax.get_legend_handles_labels()\n",
    "\n",
    "        # Update the labels\n",
    "        new_labels = [codes[label] for label in labels]\n",
    "\n",
    "        # Update the legend\n",
    "        ax.legend(handles, new_labels,\n",
    "                  title='Classification', loc='upper right')\n",
    "        \n",
    "        plt.xlabel('Distance along reach [m]')\n",
    "        plt.ylabel('WSE [m]')\n",
    "        ax.xaxis.set_major_locator(MaxNLocator(integer=True))\n",
    "        plt.title('NHDPlusID: ' + str(id_.astype('int')) +\n",
    "                  ', width: ' + str(round(data.iloc[0]['WidthM'], 2)) +\n",
    "                  ' [m], length: ' + str(round(data.iloc[0]['LengthKM'], 2)) +\n",
    "                  ' [km]')\n",
    "        \n",
    "        plt.savefig(data_path + str(id_.astype('int')) + '.png', bbox_inches='tight')"
   ]
  },
  {
   "cell_type": "code",
   "execution_count": null,
   "id": "84c6c6d1-3517-43b4-b95b-e91e9bf4ec84",
   "metadata": {},
   "outputs": [],
   "source": [
    "fig, ax = plt.subplots()\n",
    "sns.regplot(data=test[test['NHDPlusID'] == 5000200001544],\n",
    "                x='counter', y='wse'\n",
    "            # hue='counter', palette=new_cmap\n",
    "           )\n",
    "\n",
    "plt.xlabel('Node')\n",
    "plt.ylabel('WSE [m]')\n",
    "ax.xaxis.set_major_locator(MaxNLocator(integer=True))"
   ]
  },
  {
   "cell_type": "code",
   "execution_count": null,
   "id": "b4e63c39-2a9c-4332-818c-ed57afd33459",
   "metadata": {},
   "outputs": [],
   "source": [
    "fig, ax = plt.subplots()\n",
    "sns.regplot(data=test[test['NHDPlusID'] == 5000200006404],\n",
    "                x='counter', y='wse'\n",
    "            # hue='counter', palette=new_cmap\n",
    "           )\n",
    "\n",
    "plt.xlabel('Node')\n",
    "plt.ylabel('WSE [m]')\n",
    "ax.xaxis.set_major_locator(MaxNLocator(integer=True))"
   ]
  },
  {
   "cell_type": "code",
   "execution_count": null,
   "id": "b1213522-f367-4fdb-a7cd-aa42f8e8e1a4",
   "metadata": {},
   "outputs": [],
   "source": [
    "fig, ax = plt.subplots()\n",
    "sns.regplot(data=test[test['NHDPlusID'] == 5000200001746],\n",
    "                x='counter', y='wse'\n",
    "            # hue='counter', palette=new_cmap\n",
    "           )\n",
    "\n",
    "plt.xlabel('Node')\n",
    "plt.ylabel('WSE [m]')\n",
    "ax.xaxis.set_major_locator(MaxNLocator(integer=True))"
   ]
  },
  {
   "cell_type": "code",
   "execution_count": null,
   "id": "ec5c6340-d7c4-43e2-b0f5-fd158e1c5f33",
   "metadata": {},
   "outputs": [],
   "source": [
    "# Merge the segments and pseudo-puxels by intersection\n",
    "sj = gpd.sjoin(segments, gdf_PIXC_clip, how='left', predicate='intersects')"
   ]
  },
  {
   "cell_type": "code",
   "execution_count": null,
   "id": "ba0ac9e6-dab0-4041-88fb-d8822c992d36",
   "metadata": {},
   "outputs": [],
   "source": [
    "sj.columns"
   ]
  },
  {
   "cell_type": "code",
   "execution_count": null,
   "id": "6f9e5cbc-e442-446a-817a-6bb906375509",
   "metadata": {},
   "outputs": [],
   "source": [
    "sj = sj.drop(columns=['index_right', 'points', 'azimuth_index',\n",
    "                      'range_index',\n",
    "                      # 'height', 'geoid',\n",
    "                      # 'klass',\n",
    "                      'latitude', 'longitude'])"
   ]
  },
  {
   "cell_type": "code",
   "execution_count": null,
   "id": "8223a965-3e0e-4678-b525-5ac247a3e588",
   "metadata": {},
   "outputs": [],
   "source": [
    "sj"
   ]
  },
  {
   "cell_type": "code",
   "execution_count": null,
   "id": "f48dcf6b-0694-4530-8210-b1f4e67503fb",
   "metadata": {},
   "outputs": [],
   "source": [
    "sj = sj.set_geometry('pseudo_geom')"
   ]
  },
  {
   "cell_type": "code",
   "execution_count": null,
   "id": "3eb299f3-11fe-4a77-b980-74a147d91ed8",
   "metadata": {
    "tags": []
   },
   "outputs": [],
   "source": [
    "sj = sj.groupby('NHDPlusID', as_index=False).parallel_apply(user_defined_function=specialDissolve)"
   ]
  },
  {
   "cell_type": "code",
   "execution_count": null,
   "id": "5f32fc46-db8a-4af3-b338-69916f89b970",
   "metadata": {},
   "outputs": [],
   "source": [
    "sj = sj.reset_index().drop(columns=['level_0', 'level_1'])"
   ]
  },
  {
   "cell_type": "code",
   "execution_count": null,
   "id": "72aa0b69-3521-4503-832d-8466a12a41f6",
   "metadata": {},
   "outputs": [],
   "source": [
    "sj['pseudo_geom_clip'] = sj.parallel_apply(user_defined_function=specialClip,\n",
    "                                                         axis=1)"
   ]
  },
  {
   "cell_type": "code",
   "execution_count": null,
   "id": "314344b3-7c33-469a-a342-87b04b897dc4",
   "metadata": {},
   "outputs": [],
   "source": [
    "# sj[sj['NHDPlusID'] == 10000900090399].pseudo_geom.plot(cmap='hsv')"
   ]
  },
  {
   "cell_type": "code",
   "execution_count": null,
   "id": "29f5b63e-eb10-4d3e-b58a-a9e578306285",
   "metadata": {},
   "outputs": [],
   "source": [
    "# Calculate the pseudo-pixel area within each node\n",
    "sj['pseudo_area'] = sj.pseudo_geom_clip.area"
   ]
  },
  {
   "cell_type": "code",
   "execution_count": null,
   "id": "c0764bd5-a82b-45a5-9075-73fda889aa00",
   "metadata": {},
   "outputs": [],
   "source": [
    "sj['coverage'] = sj.pseudo_area/sj.segment_area"
   ]
  },
  {
   "cell_type": "code",
   "execution_count": null,
   "id": "e1322003-acaa-42b3-bb88-1058399bdc55",
   "metadata": {},
   "outputs": [],
   "source": [
    "# sj_w_zero = sj.copy()"
   ]
  },
  {
   "cell_type": "code",
   "execution_count": null,
   "id": "7ba267bf-a933-4d27-af5a-cd73331720db",
   "metadata": {},
   "outputs": [],
   "source": [
    "# sj_w_zero['coverage'] = sj_w_zero['coverage'].fillna(0)\n",
    "sj['coverage'] = sj['coverage'].fillna(0)"
   ]
  },
  {
   "cell_type": "markdown",
   "id": "622bd27e-cf7c-4c1e-a7aa-b2ed4f32d675",
   "metadata": {},
   "source": [
    "### Do stats"
   ]
  },
  {
   "cell_type": "code",
   "execution_count": null,
   "id": "ed1d559f-4dba-4724-bd78-75421e17e7a3",
   "metadata": {
    "tags": []
   },
   "outputs": [],
   "source": [
    "bins = sj.Bin.unique()"
   ]
  },
  {
   "cell_type": "markdown",
   "id": "b9b2b467-5cc8-4d40-94ba-17d3de0807fc",
   "metadata": {},
   "source": [
    "#### Reaches"
   ]
  },
  {
   "cell_type": "code",
   "execution_count": null,
   "id": "01063fdc-cd34-4167-9478-b98716293723",
   "metadata": {},
   "outputs": [],
   "source": [
    "reaches_cent, reaches_thresh, reaches_min = summarizeCoverage(df=sj, binn=binn,\n",
    "                                            bins=bins, counts=counts)"
   ]
  },
  {
   "cell_type": "code",
   "execution_count": null,
   "id": "d970a001-366f-4cb9-8e90-d64d62353d0c",
   "metadata": {},
   "outputs": [],
   "source": [
    "reaches_min"
   ]
  },
  {
   "cell_type": "code",
   "execution_count": null,
   "id": "8db1a77f-0315-4c9b-8258-8e31ce9509cb",
   "metadata": {},
   "outputs": [],
   "source": [
    "reaches_min.sort_values(by=['NHDPlusID'])[::10]"
   ]
  },
  {
   "cell_type": "code",
   "execution_count": null,
   "id": "e9acee56-ba8a-41a6-9ea4-f72870fa8159",
   "metadata": {
    "tags": []
   },
   "outputs": [],
   "source": [
    "# d = {}\n",
    "# # d_q = {}\n",
    "# for i in range(1, 10):\n",
    "#     threshold = i/10\n",
    "#     # print(threshold)\n",
    "    \n",
    "#     detected = sj.groupby([binn, 'NHDPlusID'])['coverage'].apply(lambda x: (x > threshold).sum()) / 10\n",
    "#     reach = detected.reset_index()\n",
    "    \n",
    "#     # reach = detected.groupby(binn).quantile(q=[x / 100.0 for x in range(0,100,1)]).reset_index()\n",
    "        \n",
    "#     d[threshold] = reach"
   ]
  },
  {
   "cell_type": "code",
   "execution_count": null,
   "id": "f4a9a984-1d84-446d-8c84-395d0e91fa47",
   "metadata": {},
   "outputs": [],
   "source": [
    "# Add a column for each DataFrame indicating the key\n",
    "# for threshold, data in d.items():\n",
    "#     data['threshold'] = threshold\n",
    "    \n",
    "for threshold, data in d.items():\n",
    "    data['threshold'] = threshold"
   ]
  },
  {
   "cell_type": "code",
   "execution_count": null,
   "id": "c540f758-4134-41e5-8248-60919814fcc1",
   "metadata": {},
   "outputs": [],
   "source": [
    "# Concatenate all DataFrames into one\n",
    "# reaches_desc = pd.concat(d.values())\n",
    "\n",
    "reaches_cent = pd.concat(d.values()).rename(columns={'level_1': 'centile'})"
   ]
  },
  {
   "cell_type": "code",
   "execution_count": null,
   "id": "6f889785-d1c2-4369-b564-94d6f3e61d87",
   "metadata": {},
   "outputs": [],
   "source": [
    "reaches_cent"
   ]
  },
  {
   "cell_type": "code",
   "execution_count": null,
   "id": "8cdc70fc-b719-4eb6-addb-853674d93fe0",
   "metadata": {},
   "outputs": [],
   "source": [
    "# reaches_cent = pd.merge(left=reaches_cent, right=counts, how='left', on=binn)"
   ]
  },
  {
   "cell_type": "code",
   "execution_count": null,
   "id": "c190e431-c234-4dd2-9080-7b6d76fc1b18",
   "metadata": {},
   "outputs": [],
   "source": [
    "reaches_cent"
   ]
  },
  {
   "cell_type": "code",
   "execution_count": null,
   "id": "38b6bd38-a36d-4bba-8e1c-51be0583f87f",
   "metadata": {},
   "outputs": [],
   "source": [
    "reaches_min = pd.DataFrame(sj.groupby('NHDPlusID')['coverage'].min()).reset_index()"
   ]
  },
  {
   "cell_type": "code",
   "execution_count": null,
   "id": "e2df040f-a3ea-48b1-8b45-0fe2d27635f8",
   "metadata": {},
   "outputs": [],
   "source": [
    "reaches_min = pd.merge(left=reaches_min, right=sj[['NHDPlusID', binn]], how='left', on='NHDPlusID')"
   ]
  },
  {
   "cell_type": "code",
   "execution_count": null,
   "id": "25e688fc-a670-4ed1-a49a-932e7717ea87",
   "metadata": {},
   "outputs": [],
   "source": [
    "min_cov"
   ]
  },
  {
   "cell_type": "code",
   "execution_count": null,
   "id": "d127d092-07e4-4272-8b9c-97046bdbe771",
   "metadata": {},
   "outputs": [],
   "source": [
    "# reaches = pd.DataFrame(data=d).T"
   ]
  },
  {
   "cell_type": "code",
   "execution_count": null,
   "id": "a265330f-6724-4107-a18f-a48f88e3526c",
   "metadata": {},
   "outputs": [],
   "source": [
    "# reaches.columns = bins"
   ]
  },
  {
   "cell_type": "markdown",
   "id": "57eb3443-462c-4f0f-a55e-f0251d195d94",
   "metadata": {},
   "source": [
    "### Write out"
   ]
  },
  {
   "cell_type": "code",
   "execution_count": null,
   "id": "095ea3be-4f04-441d-917a-bc9633d07816",
   "metadata": {},
   "outputs": [],
   "source": [
    "save_path = os.path.join('/nas/cee-water/cjgleason/fiona/narrow_rivers_PIXC_data/', 'PIXC_v2_0_HUC2_01')"
   ]
  },
  {
   "cell_type": "code",
   "execution_count": null,
   "id": "afe97f05-8afd-4dac-959c-956a6c336e1c",
   "metadata": {},
   "outputs": [],
   "source": [
    "# Combine node_desc\n",
    "node_desc_both = pd.concat([node_desc, node_desc_w_zero], ignore_index=True)\n",
    "node_desc_both"
   ]
  },
  {
   "cell_type": "code",
   "execution_count": null,
   "id": "21d6bcf5-d411-4a8b-a0dd-ce2c4bc7d739",
   "metadata": {},
   "outputs": [],
   "source": [
    "# Combine node_quant\n",
    "node_quant_both = pd.concat([node_quant, node_quant_w_zero], ignore_index=True)\n",
    "node_quant_both"
   ]
  },
  {
   "cell_type": "code",
   "execution_count": null,
   "id": "6f17958c-cce3-40bd-8d0d-0425d3ada6ed",
   "metadata": {},
   "outputs": [],
   "source": [
    "# nodes_desc_both.to_csv(os.path.join(save_path, granule_name + '_nodes_describe.csv'))\n",
    "# nodes_quant_both.to_csv(os.path.join(save_path, granule_name + '_nodes_quantile.csv'))"
   ]
  },
  {
   "cell_type": "code",
   "execution_count": null,
   "id": "1126eceb-0e67-40d0-a68a-116aabc4f41f",
   "metadata": {},
   "outputs": [],
   "source": [
    "# reaches_desc.to_csv(os.path.join(save_path, granule_name + '_reaches_describe.csv'))\n",
    "# reaches_quant.to_csv(os.path.join(save_path, granule_name + '_reaches_quantile.csv'))"
   ]
  },
  {
   "cell_type": "code",
   "execution_count": null,
   "id": "b6d5fa3b-9428-4ca5-b68d-2241f80924bc",
   "metadata": {},
   "outputs": [],
   "source": [
    "test = pd.read_parquet('/nas/cee-water/cjgleason/fiona/narrow_rivers_PIXC_output/PIXC_v2_0_HUC2_01_2025_03_02_min/SWOT_L2_HR_PIXC_004_242_074L_20230930T103957_20230930T104008_PGC0_01_reaches_thresh.parquet')"
   ]
  },
  {
   "cell_type": "code",
   "execution_count": null,
   "id": "74da1788-44c3-4731-a5ec-983010c07291",
   "metadata": {},
   "outputs": [],
   "source": [
    "test"
   ]
  }
 ],
 "metadata": {
  "kernelspec": {
   "display_name": "Python [conda env:.conda-narrowPIXC]",
   "language": "python",
   "name": "conda-env-.conda-narrowPIXC-py"
  },
  "language_info": {
   "codemirror_mode": {
    "name": "ipython",
    "version": 3
   },
   "file_extension": ".py",
   "mimetype": "text/x-python",
   "name": "python",
   "nbconvert_exporter": "python",
   "pygments_lexer": "ipython3",
   "version": "3.12.4"
  }
 },
 "nbformat": 4,
 "nbformat_minor": 5
}
