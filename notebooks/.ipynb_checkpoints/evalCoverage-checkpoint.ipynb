{
 "cells": [
  {
   "cell_type": "code",
   "execution_count": 1,
   "id": "054ba1e0-d7ac-4524-a659-1e46d3219143",
   "metadata": {
    "tags": []
   },
   "outputs": [],
   "source": [
    "from argparse import ArgumentParser\n",
    "import os\n",
    "import sys\n",
    "import time\n",
    "\n",
    "import dask.dataframe as dd\n",
    "import dask_geopandas\n",
    "import geopandas as gpd\n",
    "import matplotlib.pyplot as plt\n",
    "import numpy as np\n",
    "import pandas as pd\n",
    "import rasterio\n",
    "import shapely\n",
    "import xarray as xr\n",
    "\n",
    "# from matplotlib import colors\n",
    "from pandarallel import pandarallel\n",
    "from scipy import stats\n",
    "\n",
    "sys.path.insert(1, '../scripts/')\n",
    "from reaches import *\n",
    "from utils import *"
   ]
  },
  {
   "cell_type": "markdown",
   "id": "7738211e-0067-4356-a77d-bddee1b036e0",
   "metadata": {},
   "source": [
    "### Parse arguments"
   ]
  },
  {
   "cell_type": "code",
   "execution_count": 2,
   "id": "9c28b14c-e137-4864-b7a1-326396a644eb",
   "metadata": {},
   "outputs": [],
   "source": [
    "# FOR NOW, SET\n",
    "width_set = 'mean'\n",
    "\n",
    "# Control flow\n",
    "if width_set == 'mean':\n",
    "    width = 'WidthM'\n",
    "    binn = 'Bin'\n",
    "elif width_set == 'min':\n",
    "    width = 'WidthM_Min'\n",
    "    binn = 'Bin_Min'\n",
    "elif width_set == 'max':\n",
    "    width = 'WidthM_Max'\n",
    "    binn = 'Bin_Max'\n",
    "else:\n",
    "    print('Invalid width option specified, exiting.')\n",
    "    # sys.exit()"
   ]
  },
  {
   "cell_type": "code",
   "execution_count": 3,
   "id": "5330fb44-4474-48e8-b3f9-497e8848ca7c",
   "metadata": {},
   "outputs": [],
   "source": [
    "huc2 = '15' # '01' ### SET THIS\n",
    "data_path = '/nas/cee-water/cjgleason/data/SWOT/PIXC_v2_0_HUC2_' + huc2\n",
    "# save_dir ="
   ]
  },
  {
   "cell_type": "markdown",
   "id": "0c54b76a-2171-4a4b-92f5-e4b3f4f3f8df",
   "metadata": {
    "tags": []
   },
   "source": [
    "### Pixel Cloud"
   ]
  },
  {
   "cell_type": "code",
   "execution_count": 4,
   "id": "5bc56ba8-11e0-4b21-8829-1fce78256846",
   "metadata": {},
   "outputs": [],
   "source": [
    "# Get job index\n",
    "# slurm = int(os.environ['SLURM_ARRAY_TASK_ID'])\n",
    "index = 2517 # 106"
   ]
  },
  {
   "cell_type": "code",
   "execution_count": 5,
   "id": "e7c349c8-83b0-4735-9d3d-c98d4edba32e",
   "metadata": {},
   "outputs": [],
   "source": [
    "mdata_path = '/nas/cee-water/cjgleason/fiona/narrow_rivers_PIXC/data/' ## HERE\n",
    "file_path = os.path.join(mdata_path, 'PIXC_v2_0_HUC2_' + huc2 + '_filtered.json') ## HERE\n",
    "data = open_json(file_path)"
   ]
  },
  {
   "cell_type": "code",
   "execution_count": 6,
   "id": "85b6f73f-964f-4bda-a324-b6d4e710dc4d",
   "metadata": {},
   "outputs": [],
   "source": [
    "file_name = data[index]"
   ]
  },
  {
   "cell_type": "code",
   "execution_count": 20,
   "id": "900dad6e-8c22-4a17-a2f7-37ef07f35ca7",
   "metadata": {},
   "outputs": [
    {
     "name": "stdout",
     "output_type": "stream",
     "text": [
      "SWOT_L2_HR_PIXC_009_511_219L_20240122T092851_20240122T092902_PGC0_01\n"
     ]
    }
   ],
   "source": [
    "# Get data for this tile\n",
    "granule_name = file_name[:-3]\n",
    "tile_name = file_name[20:28]\n",
    "pass_num = int(file_name[20:23])\n",
    "\n",
    "print(granule_name)"
   ]
  },
  {
   "cell_type": "markdown",
   "id": "974aa2a9-a339-4bc6-9b58-9e6e7c6ec405",
   "metadata": {
    "tags": []
   },
   "source": [
    "#### Read in PIXC"
   ]
  },
  {
   "cell_type": "code",
   "execution_count": 7,
   "id": "b6a2ddd5-b8ce-4b2d-8e04-12e41eecc1ce",
   "metadata": {},
   "outputs": [],
   "source": [
    "# Set PIXC filepath\n",
    "pixc_path = os.path.join(data_path, file_name)"
   ]
  },
  {
   "cell_type": "code",
   "execution_count": 8,
   "id": "aefb478b-ff8b-41b4-9576-0fdf0ba0a9c0",
   "metadata": {},
   "outputs": [],
   "source": [
    "# Read in pixel group\n",
    "ds_PIXC = xr.open_dataset(filename_or_obj=pixc_path,\n",
    "                          group='pixel_cloud', engine='h5netcdf')"
   ]
  },
  {
   "cell_type": "code",
   "execution_count": 9,
   "id": "daa9c587-4d39-40f3-9a7f-374fed33b165",
   "metadata": {},
   "outputs": [],
   "source": [
    "# Set desired data vars\n",
    "\n",
    "## HERE CLEAN UP\n",
    "\n",
    "variables = ['cross_track', 'water_frac',\n",
    "             'pixel_area', 'height', 'geoid', 'solid_earth_tide', ## HERE\n",
    "             'load_tide_fes', 'pole_tide', 'prior_water_prob', ## HERE\n",
    "             'phase_noise_std', 'dheight_dphase', ## HERE\n",
    "             'classification_qual', 'geolocation_qual', ## HERE\n",
    "             'classification']"
   ]
  },
  {
   "cell_type": "code",
   "execution_count": 10,
   "id": "ed0d7129-21fd-4865-8b35-4ff2afc93f9d",
   "metadata": {},
   "outputs": [],
   "source": [
    "def bitwiseMask(ds):\n",
    "    '''\n",
    "    This function masks a PIXC granules: for now, it ony remove pixels\n",
    "    with land classification and those with bad geolocation_qual.\n",
    "    # See page 65 of PIXC PDD: https://podaac.jpl.nasa.gov/SWOT?tab=datasets-information&sections=about%2Bdata\n",
    "    '''\n",
    "    # Fow now, eliminate the bad stuff\n",
    "    mask = np.where((ds.classification > 1) & \n",
    "                    (ds.interferogram_qual < 2**16) & (ds.classification_qual < 2**16) & ## HERE\n",
    "                    (ds.geolocation_qual < 2**16) & (ds.sig0_qual < 2**16) &  ## HERE\n",
    "                    (np.abs(ds.cross_track) > 10000) & (np.abs(ds.cross_track) < 60000))[0]\n",
    "    \n",
    "    print(mask.shape)\n",
    "    return mask"
   ]
  },
  {
   "cell_type": "code",
   "execution_count": 11,
   "id": "993471a7-b1b5-41bc-8401-1a03c47fe554",
   "metadata": {},
   "outputs": [
    {
     "name": "stdout",
     "output_type": "stream",
     "text": [
      "(597484,)\n"
     ]
    }
   ],
   "source": [
    "# Make mask\n",
    "mask = bitwiseMask(ds_PIXC)\n",
    "\n",
    "if mask.shape[0] == 0:\n",
    "    print('This granule has no pixels after masking, exiting.')\n",
    "    # sys.exit(1)    "
   ]
  },
  {
   "cell_type": "code",
   "execution_count": 12,
   "id": "37bc9371-c418-4578-851d-950ee3261a55",
   "metadata": {},
   "outputs": [],
   "source": [
    "# Convert PIXC to GeoDataFrame\n",
    "gdf_PIXC = makeGDF(ds=ds_PIXC, mask=mask, data_vars=variables)"
   ]
  },
  {
   "cell_type": "code",
   "execution_count": 13,
   "id": "56a549dd-36cd-4030-84e1-359ec3e377fe",
   "metadata": {},
   "outputs": [],
   "source": [
    "del ds_PIXC"
   ]
  },
  {
   "cell_type": "code",
   "execution_count": 14,
   "id": "4f821e87-a70c-491d-9f62-a77d1e208f9d",
   "metadata": {},
   "outputs": [],
   "source": [
    "## Flag as-in RiverSP ## HERE\n",
    "gdf_PIXC['geo_qual_wse_suspect'] = 0\n",
    "gdf_PIXC['geo_qual_wse_suspect'] = np.where((gdf_PIXC['geolocation_qual'] >=2**7),\n",
    "                                            1, gdf_PIXC['geo_qual_wse_suspect'])\n",
    "\n",
    "gdf_PIXC['class_qual_area_suspect'] = 0\n",
    "gdf_PIXC['class_qual_area_suspect'] = np.where((gdf_PIXC['classification_qual'] >=2**7),\n",
    "                                            1, gdf_PIXC['geo_qual_wse_suspect'])\n",
    "\n",
    "gdf_PIXC = gdf_PIXC.drop(columns=['geolocation_qual', 'classification_qual'])"
   ]
  },
  {
   "cell_type": "code",
   "execution_count": 16,
   "id": "eb0264a5-efa3-4561-a4cc-e8bd366d196d",
   "metadata": {},
   "outputs": [],
   "source": [
    "## Make indicator for wse aggregation\n",
    "# (don't use lane_near_water or dark_water)\n",
    "wse_klass = [3.0, 4.0, 6.0, 7.0]\n",
    "\n",
    "gdf_PIXC['agg_wse'] = 0\n",
    "gdf_PIXC.loc[gdf_PIXC['klass'].isin(wse_klass), 'agg_wse'] = 1"
   ]
  },
  {
   "cell_type": "code",
   "execution_count": 33,
   "id": "0610afe2-b21e-4788-a372-eb653dcb9604",
   "metadata": {},
   "outputs": [],
   "source": [
    "# Calculate wse\n",
    "gdf_PIXC['wse'] = gdf_PIXC.height - gdf_PIXC.geoid - gdf_PIXC.solid_earth_tide - gdf_PIXC.load_tide_fes - gdf_PIXC.pole_tide\n",
    "gdf_PIXC = gdf_PIXC.drop(columns=['height', 'geoid', 'solid_earth_tide', 'load_tide_fes', 'pole_tide'])"
   ]
  },
  {
   "cell_type": "markdown",
   "id": "67de04c0-8e96-4b5d-be2b-0ca295d75273",
   "metadata": {},
   "source": [
    "### Find correct HUC4s"
   ]
  },
  {
   "cell_type": "code",
   "execution_count": 18,
   "id": "af1db866-f656-41d6-bde7-383044114334",
   "metadata": {},
   "outputs": [],
   "source": [
    "### NHDPlus HR\n",
    "## Find correct HUC4s\n",
    "# Read in tile and HUC4 intersection data\n",
    "dtype_dic= {'tile': str, 'huc4': str, 'coverage': float}\n",
    "tile_huc4 = pd.read_csv(os.path.join(mdata_path,\n",
    "                                    'huc4_swot_science_tiles.csv'),\n",
    "                        dtype=dtype_dic)"
   ]
  },
  {
   "cell_type": "code",
   "execution_count": 21,
   "id": "6c241cb3-e5b4-43b8-86f2-9d8c0afdff10",
   "metadata": {},
   "outputs": [],
   "source": [
    "# Make list of HUC4s that intersect the tile\n",
    "huc4s = list(tile_huc4[(tile_huc4['tile'] == tile_name)]['huc4'])\n",
    "# Limit to the current HUC2\n",
    "huc4s = [x for x in huc4s if x.startswith(huc2)]"
   ]
  },
  {
   "cell_type": "code",
   "execution_count": 23,
   "id": "b3f10eef-a276-4e9b-be59-cb695da44ad8",
   "metadata": {},
   "outputs": [
    {
     "data": {
      "text/plain": [
       "['1501']"
      ]
     },
     "execution_count": 23,
     "metadata": {},
     "output_type": "execute_result"
    }
   ],
   "source": [
    "huc4s"
   ]
  },
  {
   "cell_type": "markdown",
   "id": "8e4a50c6-9306-4d1e-853a-739263c0fe9e",
   "metadata": {
    "tags": []
   },
   "source": [
    "### Read in buffered flowlines (with extra 32 m on each side to capture full pseudo-pixels)"
   ]
  },
  {
   "cell_type": "code",
   "execution_count": 24,
   "id": "1606b8aa-f3b1-4d4c-b945-d3f64a65635c",
   "metadata": {},
   "outputs": [],
   "source": [
    "data_path = '/nas/cee-water/cjgleason/fiona/narrow_rivers_PIXC_data/NHD_prepped_buffered/HUC2_' + huc2 + '/'\n",
    "# file_paths = getFilepaths(data_path, huc2, huc4s, width_set)"
   ]
  },
  {
   "cell_type": "code",
   "execution_count": 25,
   "id": "65424f7d-18c2-495a-a519-616367cf1859",
   "metadata": {},
   "outputs": [],
   "source": [
    "file_paths = []\n",
    "\n",
    "for huc in huc4s:\n",
    "    file_path = data_path + 'NHDPLUS_H_' + huc + '_HU4_GDB_prepped_buffered_' + width_set + '.parquet'\n",
    "    file_paths.append(file_path)"
   ]
  },
  {
   "cell_type": "code",
   "execution_count": 26,
   "id": "f2194e9d-329b-4887-bbf9-f06bc24f6dd5",
   "metadata": {},
   "outputs": [],
   "source": [
    "reach_mask = dask_geopandas.read_parquet(path=file_paths, columns=['NHDPlusID',\n",
    "                                                                   #'Bin',\n",
    "                                                                   #'Slope',\n",
    "                                                                   'buffers'])"
   ]
  },
  {
   "cell_type": "code",
   "execution_count": 27,
   "id": "bba945ae-9efd-4603-a810-19ebb76a2c76",
   "metadata": {},
   "outputs": [],
   "source": [
    "reach_mask = reach_mask.compute()"
   ]
  },
  {
   "cell_type": "code",
   "execution_count": 28,
   "id": "d30b2202-6fc8-441d-a37d-50cca6e4352f",
   "metadata": {},
   "outputs": [],
   "source": [
    "# Clip masked pixels to buffered reaches with extra width\n",
    "gdf_PIXC = gpd.sjoin(gdf_PIXC, reach_mask, how='inner', predicate='within').reset_index().drop(columns=['index', 'index_right'])"
   ]
  },
  {
   "cell_type": "code",
   "execution_count": 32,
   "id": "2ce0ed83-fac7-49c0-a144-56cc42745e38",
   "metadata": {},
   "outputs": [],
   "source": [
    "if gdf_PIXC.shape[0] == 0:\n",
    "    print('This granule has no pixels that intersect reaches, exiting.')\n",
    "    # sys.exit() "
   ]
  },
  {
   "cell_type": "code",
   "execution_count": 34,
   "id": "dfe54ee0-9241-4b63-b074-8985362fb714",
   "metadata": {},
   "outputs": [],
   "source": [
    "del reach_mask"
   ]
  },
  {
   "cell_type": "markdown",
   "id": "fc9eeeb2-fd9b-45d9-ab6c-9397dcef04b0",
   "metadata": {
    "tags": []
   },
   "source": [
    "### Nadir track (a quick detour so we can delete the flowlines ASAP)"
   ]
  },
  {
   "cell_type": "code",
   "execution_count": 36,
   "id": "3296b62c-896b-49d9-a09f-9795daaedb2e",
   "metadata": {},
   "outputs": [],
   "source": [
    "# Get single pixel for selecting correct nadir segment\n",
    "pixel_pt = gdf_PIXC.iloc[0].geometry"
   ]
  },
  {
   "cell_type": "code",
   "execution_count": 37,
   "id": "16ed2efd-7ef6-432d-bbcb-f93e6dd58a0f",
   "metadata": {},
   "outputs": [
    {
     "name": "stderr",
     "output_type": "stream",
     "text": [
      "/work/pi_cjgleason_umass_edu/.conda/envs/narrowPIXC/lib/python3.12/site-packages/geopandas/geodataframe.py:1819: SettingWithCopyWarning: \n",
      "A value is trying to be set on a copy of a slice from a DataFrame.\n",
      "Try using .loc[row_indexer,col_indexer] = value instead\n",
      "\n",
      "See the caveats in the documentation: https://pandas.pydata.org/pandas-docs/stable/user_guide/indexing.html#returning-a-view-versus-a-copy\n",
      "  super().__setitem__(key, value)\n"
     ]
    }
   ],
   "source": [
    "# Find correct nadir segment and return its geometry\n",
    "nadir_segment_ln = findNadir(pass_num=pass_num, pixel_pt=pixel_pt)"
   ]
  },
  {
   "cell_type": "markdown",
   "id": "f019a98d-4518-4262-9ee7-9a5ab5a598b0",
   "metadata": {
    "tags": []
   },
   "source": [
    "### Find alignment"
   ]
  },
  {
   "cell_type": "code",
   "execution_count": 38,
   "id": "353125db-2adb-4d2b-b552-ade3d723f735",
   "metadata": {},
   "outputs": [],
   "source": [
    "az_nadir = calcAzimuth(line=nadir_segment_ln)"
   ]
  },
  {
   "cell_type": "code",
   "execution_count": 40,
   "id": "ba9336f7-0dd9-43d4-8890-998ee2d619df",
   "metadata": {},
   "outputs": [],
   "source": [
    "del pixel_pt, nadir_segment_ln"
   ]
  },
  {
   "cell_type": "markdown",
   "id": "5a80fe04-a4f6-4bd3-8b97-0d9cd1dd57e0",
   "metadata": {},
   "source": [
    "#### Read in flowlines"
   ]
  },
  {
   "cell_type": "code",
   "execution_count": 41,
   "id": "8ba7a78e-83e9-4820-a16d-d35cf2294e0a",
   "metadata": {},
   "outputs": [],
   "source": [
    "data_path = '/nas/cee-water/cjgleason/fiona/narrow_rivers_PIXC_data/NHD_prepped/HUC2_' + huc2 + '/'"
   ]
  },
  {
   "cell_type": "code",
   "execution_count": 42,
   "id": "80cb086d-c86b-4d84-8d95-44032c9b5e31",
   "metadata": {},
   "outputs": [],
   "source": [
    "file_paths = []\n",
    "\n",
    "for huc in huc4s:\n",
    "    file_path = data_path + 'NHDPLUS_H_' + huc + '_HU4_GDB_prepped.parquet'\n",
    "    file_paths.append(file_path)"
   ]
  },
  {
   "cell_type": "code",
   "execution_count": 43,
   "id": "773089a2-b259-48bf-8dc2-fd2d69724261",
   "metadata": {},
   "outputs": [],
   "source": [
    "fields = ['NHDPlusID', 'GNIS_Name', 'LengthKM',\n",
    "          # 'WidthM', 'WidthM_Min',\n",
    "          # 'WidthM_Max', 'Bin', 'Bin_Min', 'Bin_Max', 'StreamOrde',\n",
    "          # 'Slope', \n",
    "          'geometry']"
   ]
  },
  {
   "cell_type": "code",
   "execution_count": 44,
   "id": "ea54cbf4-0729-42c3-a19d-ab3b461de793",
   "metadata": {},
   "outputs": [],
   "source": [
    "flowlines = dask_geopandas.read_parquet(path=file_paths, columns=fields)"
   ]
  },
  {
   "cell_type": "code",
   "execution_count": null,
   "id": "b2e5d93f-9094-4cbe-8aa8-aca074e59b55",
   "metadata": {},
   "outputs": [],
   "source": [
    "flowlines = flowlines.compute()"
   ]
  },
  {
   "cell_type": "code",
   "execution_count": 48,
   "id": "79500dfd-e2cf-48fa-a619-e46d656e6008",
   "metadata": {},
   "outputs": [],
   "source": [
    "flowlines.loc[:,'geometry'] = flowlines.geometry.explode().force_2d()"
   ]
  },
  {
   "cell_type": "markdown",
   "id": "cd074b84-cb31-4a58-b387-8a6749f179a4",
   "metadata": {},
   "source": [
    "### Calculate azimuth and sinuosity (should move sinuosity to static)"
   ]
  },
  {
   "cell_type": "code",
   "execution_count": 50,
   "id": "ba501c81-d4cb-40f0-9329-ebe5972c1fa9",
   "metadata": {},
   "outputs": [
    {
     "name": "stdout",
     "output_type": "stream",
     "text": [
      "INFO: Pandarallel will run on 4 workers.\n",
      "INFO: Pandarallel will use Memory file system to transfer data between the main process and workers.\n"
     ]
    }
   ],
   "source": [
    "pandarallel.initialize(nb_workers=int(os.environ.get('SLURM_CPUS_PER_TASK')))"
   ]
  },
  {
   "cell_type": "code",
   "execution_count": 51,
   "id": "7370cd2c-db39-49e5-83b0-902b95a406c8",
   "metadata": {},
   "outputs": [],
   "source": [
    "flowlines['temp'] = flowlines.parallel_apply(user_defined_function=calcAzSin, axis=1)"
   ]
  },
  {
   "cell_type": "code",
   "execution_count": 52,
   "id": "9607199c-eded-4c19-a976-33975b5b2451",
   "metadata": {},
   "outputs": [],
   "source": [
    "flowlines[['alignment', 'sinuosity']] = pd.DataFrame(flowlines['temp'].tolist(), index=flowlines.index)\n",
    "flowlines = flowlines.drop(columns='temp')"
   ]
  },
  {
   "cell_type": "code",
   "execution_count": 53,
   "id": "e8bec94e-8371-4e1d-9190-d11c064da624",
   "metadata": {},
   "outputs": [],
   "source": [
    "# Rename geometry to avoid conflicts with heights\n",
    "flowlines = flowlines.rename_geometry('flowlines')"
   ]
  },
  {
   "cell_type": "markdown",
   "id": "d0634ae5-d021-40ec-a46a-2f4ada7ae4de",
   "metadata": {},
   "source": [
    "### Calculate distance along reaches"
   ]
  },
  {
   "cell_type": "code",
   "execution_count": 54,
   "id": "0187fd11-45f4-48c7-97b8-a2d46912a4cf",
   "metadata": {},
   "outputs": [],
   "source": [
    "gdf_PIXC = pd.merge(left=gdf_PIXC, right=flowlines[['NHDPlusID', 'flowlines']], on='NHDPlusID')"
   ]
  },
  {
   "cell_type": "code",
   "execution_count": 55,
   "id": "173ba56e-0db1-4efa-99cf-41e8a988eb49",
   "metadata": {},
   "outputs": [],
   "source": [
    "def project_point(line, point):\n",
    "    # Project point onto line\n",
    "    return line.project(point)"
   ]
  },
  {
   "cell_type": "code",
   "execution_count": 57,
   "id": "0a9a6a6b-f5f8-41c8-b835-d48d4e2955b1",
   "metadata": {},
   "outputs": [],
   "source": [
    "gdf_PIXC['distance'] = gdf_PIXC.apply(lambda x: project_point(x['flowlines'], x['geometry']), axis=1)"
   ]
  },
  {
   "cell_type": "code",
   "execution_count": 58,
   "id": "20383abb-1a92-474f-a245-52e52eda1dad",
   "metadata": {},
   "outputs": [],
   "source": [
    "gdf_PIXC = gdf_PIXC.drop(columns='flowlines')"
   ]
  },
  {
   "cell_type": "markdown",
   "id": "fdb4e0bd-84d6-48d1-a147-8ce9a4d168da",
   "metadata": {},
   "source": [
    "### For heights"
   ]
  },
  {
   "cell_type": "code",
   "execution_count": 62,
   "id": "cab9398c-77c2-4d46-bdb8-15f42de6c94f",
   "metadata": {},
   "outputs": [],
   "source": [
    "# Multiply the correct columns for the weight denominator\n",
    "gdf_PIXC['pre_denom'] = gdf_PIXC['phase_noise_std']**-2 * gdf_PIXC['dheight_dphase']**-2 * gdf_PIXC['agg_wse']"
   ]
  },
  {
   "cell_type": "code",
   "execution_count": null,
   "id": "8f30df8f-e0d1-4f50-a884-b0cce62bd569",
   "metadata": {},
   "outputs": [
    {
     "data": {
      "text/plain": [
       "1673"
      ]
     },
     "execution_count": 63,
     "metadata": {},
     "output_type": "execute_result"
    }
   ],
   "source": [
    "len(np.unique(gdf_PIXC['NHDPlusID']))"
   ]
  },
  {
   "cell_type": "code",
   "execution_count": 64,
   "id": "1d0803c1-61a3-4ee6-92f2-a0aa328c1f71",
   "metadata": {},
   "outputs": [],
   "source": [
    "# Sum the weight denominators by reach\n",
    "denoms = gdf_PIXC.groupby(by='NHDPlusID')['pre_denom'].sum()\n",
    "denoms = denoms.rename('denom')"
   ]
  },
  {
   "cell_type": "code",
   "execution_count": 65,
   "id": "09f41127-814f-4f76-93f2-f4cb0dc39679",
   "metadata": {},
   "outputs": [],
   "source": [
    "gdf_PIXC = pd.merge(left=gdf_PIXC, right=denoms, how='left', on='NHDPlusID')\n",
    "del denoms"
   ]
  },
  {
   "cell_type": "code",
   "execution_count": 116,
   "id": "bbc8582b-da91-4abf-ac26-39bfc20612b2",
   "metadata": {},
   "outputs": [],
   "source": [
    "# gdf_PIXC[gdf_PIXC['NHDPlusID'] == gdf_PIXC.iloc[[0]]['NHDPlusID'][0]]"
   ]
  },
  {
   "cell_type": "code",
   "execution_count": 69,
   "id": "a46f527c-5614-49ea-91bb-ef7a46041749",
   "metadata": {},
   "outputs": [],
   "source": [
    "gdf_PIXC['weight'] = (gdf_PIXC['phase_noise_std'] * gdf_PIXC['dheight_dphase'])**-2 * gdf_PIXC['agg_wse'] / gdf_PIXC['denom']"
   ]
  },
  {
   "cell_type": "code",
   "execution_count": 72,
   "id": "e3c70a0b-e806-41bc-b332-482ea56bfac6",
   "metadata": {
    "tags": []
   },
   "outputs": [],
   "source": [
    "gdf_PIXC = gdf_PIXC.drop(columns=['pre_denom', 'denom'])"
   ]
  },
  {
   "cell_type": "markdown",
   "id": "50231130-0258-4a82-a334-6e0e03157922",
   "metadata": {},
   "source": [
    "### Calculate slopes"
   ]
  },
  {
   "cell_type": "code",
   "execution_count": 74,
   "id": "8191e021-08cf-4b8b-afda-6b500026af50",
   "metadata": {},
   "outputs": [],
   "source": [
    "ids = gdf_PIXC['NHDPlusID'].unique()"
   ]
  },
  {
   "cell_type": "code",
   "execution_count": 93,
   "id": "87dd17ba-0400-429d-a1cd-b8c0fe6a5f7f",
   "metadata": {},
   "outputs": [],
   "source": [
    "slope_swot = []\n",
    "\n",
    "for i in ids:\n",
    "    temp = gdf_PIXC[(gdf_PIXC['NHDPlusID'] == i) & (gdf_PIXC['agg_wse'] == 1)][['distance', 'wse']]\n",
    "    \n",
    "    if len(temp) < 2:\n",
    "        slope_swot.append(np.nan)\n",
    "    \n",
    "    else:\n",
    "        dist = temp['distance'].tolist()\n",
    "        wse = temp['wse'].tolist()\n",
    "        \n",
    "        slope_swot.append(stats.linregress(x=dist, y=wse).slope)"
   ]
  },
  {
   "cell_type": "code",
   "execution_count": 94,
   "id": "f61bed9d-93ac-42c2-826e-02ad0a7e33ae",
   "metadata": {},
   "outputs": [
    {
     "data": {
      "text/plain": [
       "[nan,\n",
       " np.float64(-0.01893633462839396),\n",
       " nan,\n",
       " np.float64(-0.004034433038188071),\n",
       " np.float64(-0.0048675571622269365),\n",
       " np.float64(-0.011553538561968264),\n",
       " np.float64(-0.0055969847238479635),\n",
       " np.float64(-0.005788412003496933),\n",
       " np.float64(-0.004845281505458221),\n",
       " nan,\n",
       " nan,\n",
       " nan,\n",
       " np.float64(-0.005474089563290428),\n",
       " nan,\n",
       " np.float64(-0.0057891369777006855),\n",
       " nan,\n",
       " nan,\n",
       " np.float64(1.158370933583705e-05),\n",
       " np.float64(-0.0026929603443676987),\n",
       " np.float64(-0.003990838519559602),\n",
       " np.float64(-0.003333073110300648),\n",
       " nan,\n",
       " np.float64(-0.014749099178841905),\n",
       " nan,\n",
       " np.float64(-0.03090312015974898),\n",
       " nan,\n",
       " np.float64(-0.009818862176964774),\n",
       " nan,\n",
       " nan,\n",
       " np.float64(-0.011529633125430256),\n",
       " np.float64(-0.011457127777005634),\n",
       " np.float64(-0.01361168678903416),\n",
       " nan,\n",
       " nan,\n",
       " nan,\n",
       " np.float64(-0.005116264517375676),\n",
       " np.float64(-0.01330040450372259),\n",
       " np.float64(-0.008148858252732675),\n",
       " np.float64(-0.0016132632862227592),\n",
       " nan,\n",
       " np.float64(0.004112384747793625),\n",
       " np.float64(-0.03702890761437717),\n",
       " nan,\n",
       " nan,\n",
       " nan,\n",
       " nan,\n",
       " np.float64(-0.023053444051648473),\n",
       " np.float64(-0.061035105305606546),\n",
       " nan,\n",
       " nan,\n",
       " nan,\n",
       " nan,\n",
       " nan,\n",
       " nan,\n",
       " nan,\n",
       " nan,\n",
       " nan,\n",
       " nan,\n",
       " nan,\n",
       " nan,\n",
       " np.float64(-0.01921555021922661),\n",
       " nan,\n",
       " nan,\n",
       " nan,\n",
       " np.float64(-0.0017997143051950168),\n",
       " nan,\n",
       " nan,\n",
       " nan,\n",
       " nan,\n",
       " np.float64(1.1200930114973767e-05),\n",
       " nan,\n",
       " np.float64(-0.011167616509178661),\n",
       " nan,\n",
       " nan,\n",
       " np.float64(-0.014594330362970734),\n",
       " nan,\n",
       " nan,\n",
       " np.float64(5.054162848925814e-06),\n",
       " nan,\n",
       " np.float64(-0.00530345424097582),\n",
       " nan,\n",
       " nan,\n",
       " nan,\n",
       " nan,\n",
       " nan,\n",
       " nan,\n",
       " nan,\n",
       " np.float64(-0.014582283186909822),\n",
       " nan,\n",
       " nan,\n",
       " nan,\n",
       " np.float64(-0.017474849962573154),\n",
       " np.float64(-0.01960778113929214),\n",
       " nan,\n",
       " nan,\n",
       " np.float64(-0.0141326943016911),\n",
       " nan,\n",
       " nan,\n",
       " nan,\n",
       " nan,\n",
       " nan,\n",
       " nan,\n",
       " nan,\n",
       " nan,\n",
       " nan,\n",
       " nan,\n",
       " nan,\n",
       " np.float64(-0.002779464668493442),\n",
       " nan,\n",
       " nan,\n",
       " nan,\n",
       " np.float64(4.725356365541342e-06),\n",
       " nan,\n",
       " np.float64(-0.00026539391866553226),\n",
       " nan,\n",
       " nan,\n",
       " nan,\n",
       " nan,\n",
       " nan,\n",
       " nan,\n",
       " nan,\n",
       " nan,\n",
       " nan,\n",
       " nan,\n",
       " nan,\n",
       " np.float64(-0.009554082809317594),\n",
       " nan,\n",
       " nan,\n",
       " nan,\n",
       " nan,\n",
       " np.float64(-0.007621352944155397),\n",
       " nan,\n",
       " np.float64(-0.05746448658478914),\n",
       " np.float64(-0.0032055879682919013),\n",
       " np.float64(-0.012686407188292566),\n",
       " nan,\n",
       " np.float64(-0.009670650434419989),\n",
       " nan,\n",
       " nan,\n",
       " nan,\n",
       " nan,\n",
       " nan,\n",
       " np.float64(-0.009504478273453376),\n",
       " np.float64(-0.010813454081680418),\n",
       " nan,\n",
       " nan,\n",
       " nan,\n",
       " np.float64(-0.010667061618229858),\n",
       " nan,\n",
       " nan,\n",
       " nan,\n",
       " nan,\n",
       " np.float64(-0.000813957263318255),\n",
       " np.float64(-0.00019160202956510725),\n",
       " np.float64(-0.010221084459627827),\n",
       " nan,\n",
       " np.float64(-0.0073667535110852325),\n",
       " np.float64(-0.00664970344691438),\n",
       " np.float64(-0.033380975184313426),\n",
       " nan,\n",
       " nan,\n",
       " np.float64(-0.021020591269111665),\n",
       " nan,\n",
       " nan,\n",
       " nan,\n",
       " nan,\n",
       " nan,\n",
       " nan,\n",
       " nan,\n",
       " nan,\n",
       " nan,\n",
       " np.float64(-0.0010153504528534073),\n",
       " np.float64(-0.010706543956818425),\n",
       " np.float64(-0.001561564018451238),\n",
       " np.float64(8.849038490081975e-05),\n",
       " np.float64(-0.011232464348441084),\n",
       " np.float64(3.6800149233626406e-05),\n",
       " np.float64(-0.017233836571174405),\n",
       " nan,\n",
       " nan,\n",
       " nan,\n",
       " nan,\n",
       " np.float64(-0.01764815002724023),\n",
       " nan,\n",
       " np.float64(-7.492823074117168e-05),\n",
       " nan,\n",
       " nan,\n",
       " nan,\n",
       " np.float64(-0.00038030473499378115),\n",
       " nan,\n",
       " nan,\n",
       " nan,\n",
       " nan,\n",
       " nan,\n",
       " nan,\n",
       " nan,\n",
       " nan,\n",
       " nan,\n",
       " nan,\n",
       " nan,\n",
       " nan,\n",
       " nan,\n",
       " nan,\n",
       " nan,\n",
       " nan,\n",
       " nan,\n",
       " np.float64(-0.010273282595235496),\n",
       " nan,\n",
       " nan,\n",
       " nan,\n",
       " nan,\n",
       " nan,\n",
       " nan,\n",
       " np.float64(2.9415162233439297e-05),\n",
       " np.float64(1.7293072402097056e-05),\n",
       " np.float64(0.0030949535783486282),\n",
       " nan,\n",
       " nan,\n",
       " nan,\n",
       " nan,\n",
       " nan,\n",
       " nan,\n",
       " nan,\n",
       " np.float64(0.004257194479757868),\n",
       " np.float64(-0.010326829852077205),\n",
       " np.float64(-0.00039786900297426967),\n",
       " nan,\n",
       " nan,\n",
       " nan,\n",
       " nan,\n",
       " np.float64(-0.014430051627992916),\n",
       " np.float64(-0.0009308839215817702),\n",
       " np.float64(-0.015627731084234844),\n",
       " nan,\n",
       " np.float64(-0.021321414215183274),\n",
       " nan,\n",
       " nan,\n",
       " nan,\n",
       " nan,\n",
       " nan,\n",
       " nan,\n",
       " nan,\n",
       " nan,\n",
       " nan,\n",
       " nan,\n",
       " np.float64(0.010695158448293768),\n",
       " np.float64(-0.03106459581505283),\n",
       " np.float64(-0.008230099074462186),\n",
       " np.float64(-0.012746971708053697),\n",
       " nan,\n",
       " nan,\n",
       " nan,\n",
       " np.float64(-0.017450628184659818),\n",
       " np.float64(-0.018810650854317372),\n",
       " nan,\n",
       " nan,\n",
       " np.float64(-0.012014254156381566),\n",
       " nan,\n",
       " nan,\n",
       " nan,\n",
       " np.float64(0.0028289790594627907),\n",
       " nan,\n",
       " np.float64(0.011959629028639443),\n",
       " nan,\n",
       " nan,\n",
       " nan,\n",
       " nan,\n",
       " np.float64(-0.00034839712767821253),\n",
       " np.float64(-0.0339957075537854),\n",
       " nan,\n",
       " nan,\n",
       " nan,\n",
       " nan,\n",
       " nan,\n",
       " nan,\n",
       " nan,\n",
       " nan,\n",
       " nan,\n",
       " nan,\n",
       " nan,\n",
       " np.float64(-0.00927301125287601),\n",
       " np.float64(-0.006944883385028364),\n",
       " nan,\n",
       " nan,\n",
       " nan,\n",
       " np.float64(0.00011892260349778943),\n",
       " nan,\n",
       " np.float64(-0.02932107148270866),\n",
       " np.float64(-0.02714724567983271),\n",
       " np.float64(-0.020626711363340055),\n",
       " nan,\n",
       " nan,\n",
       " nan,\n",
       " nan,\n",
       " nan,\n",
       " nan,\n",
       " nan,\n",
       " nan,\n",
       " nan,\n",
       " np.float64(0.01319728580428626),\n",
       " nan,\n",
       " nan,\n",
       " nan,\n",
       " nan,\n",
       " nan,\n",
       " nan,\n",
       " nan,\n",
       " nan,\n",
       " np.float64(-4.2308836187472734e-05),\n",
       " nan,\n",
       " nan,\n",
       " nan,\n",
       " np.float64(-0.02980690899099639),\n",
       " nan,\n",
       " nan,\n",
       " nan,\n",
       " nan,\n",
       " nan,\n",
       " np.float64(-0.019022711700410887),\n",
       " nan,\n",
       " np.float64(-0.001982431418469918),\n",
       " nan,\n",
       " np.float64(-0.02270539018476222),\n",
       " np.float64(-0.0015857866304052014),\n",
       " nan,\n",
       " nan,\n",
       " nan,\n",
       " nan,\n",
       " nan,\n",
       " np.float64(-0.011772954025370264),\n",
       " nan,\n",
       " nan,\n",
       " nan,\n",
       " nan,\n",
       " nan,\n",
       " nan,\n",
       " nan,\n",
       " nan,\n",
       " nan,\n",
       " nan,\n",
       " nan,\n",
       " nan,\n",
       " nan,\n",
       " np.float64(-0.005177371286749401),\n",
       " np.float64(-0.005856532598701528),\n",
       " np.float64(0.004582208844143716),\n",
       " np.float64(-0.0026312266240813877),\n",
       " np.float64(-0.01861921138861234),\n",
       " nan,\n",
       " np.float64(-0.009597022141958284),\n",
       " np.float64(-0.025306977983591557),\n",
       " nan,\n",
       " nan,\n",
       " np.float64(-0.020385182552630516),\n",
       " np.float64(-0.02039574316031965),\n",
       " np.float64(-0.029317737075059525),\n",
       " np.float64(-0.03566349829693741),\n",
       " nan,\n",
       " np.float64(-0.020625585490735576),\n",
       " nan,\n",
       " np.float64(-0.019429640717244005),\n",
       " np.float64(-0.008685021193171986),\n",
       " np.float64(-0.008090535869164087),\n",
       " np.float64(-0.012942392319731143),\n",
       " nan,\n",
       " np.float64(-0.0029180302623921647),\n",
       " np.float64(0.0024478778438942676),\n",
       " np.float64(-0.017431375718086634),\n",
       " np.float64(-0.01830513819235955),\n",
       " np.float64(0.014337298384419883),\n",
       " np.float64(-0.020471196836481853),\n",
       " np.float64(-0.010429149947758622),\n",
       " np.float64(-0.007787076293413121),\n",
       " np.float64(-0.005317112463564287),\n",
       " nan,\n",
       " np.float64(-0.010089591908114438),\n",
       " np.float64(-0.013984158738096603),\n",
       " np.float64(-0.008184504208687592),\n",
       " np.float64(0.006667442684823811),\n",
       " np.float64(-0.0033324732952107142),\n",
       " np.float64(-0.011743264452689745),\n",
       " nan,\n",
       " np.float64(-0.011021985981055603),\n",
       " nan,\n",
       " nan,\n",
       " nan,\n",
       " nan,\n",
       " nan,\n",
       " nan,\n",
       " np.float64(-0.021930046792044192),\n",
       " np.float64(-0.014202169085240428),\n",
       " np.float64(-0.00599081155817897),\n",
       " np.float64(-0.022485345647986637),\n",
       " np.float64(-0.0035462419362154436),\n",
       " np.float64(0.0714139573247503),\n",
       " np.float64(-0.013334027213779139),\n",
       " nan,\n",
       " np.float64(-0.006677126112146883),\n",
       " np.float64(-0.012970484216057255),\n",
       " np.float64(-0.016608192291210314),\n",
       " nan,\n",
       " nan,\n",
       " np.float64(-5.52288616804324e-05),\n",
       " nan,\n",
       " np.float64(-0.020020118500688865),\n",
       " nan,\n",
       " nan,\n",
       " nan,\n",
       " np.float64(-0.014781736047572918),\n",
       " np.float64(-0.021131359634653145),\n",
       " nan,\n",
       " np.float64(-0.012179097808579264),\n",
       " np.float64(-0.011945921372346145),\n",
       " nan,\n",
       " nan,\n",
       " np.float64(-0.01944044217519287),\n",
       " nan,\n",
       " np.float64(-0.015035960865129405),\n",
       " nan,\n",
       " np.float64(-0.0097526273647922),\n",
       " nan,\n",
       " nan,\n",
       " nan,\n",
       " nan,\n",
       " nan,\n",
       " np.float64(-0.016548846573495236),\n",
       " np.float64(-0.022804406354797285),\n",
       " nan,\n",
       " np.float64(-0.01585616144130344),\n",
       " nan,\n",
       " np.float64(-0.010232320621303794),\n",
       " nan,\n",
       " nan,\n",
       " np.float64(-0.016084160265844236),\n",
       " nan,\n",
       " nan,\n",
       " np.float64(-0.019351409870365495),\n",
       " np.float64(0.013069516514569566),\n",
       " np.float64(0.0021357796342992654),\n",
       " np.float64(-0.0065227773963886845),\n",
       " nan,\n",
       " np.float64(-0.009724944604391062),\n",
       " np.float64(-0.00190682167210779),\n",
       " np.float64(0.001594946903704173),\n",
       " np.float64(-0.017761922691608308),\n",
       " nan,\n",
       " nan,\n",
       " nan,\n",
       " nan,\n",
       " np.float64(0.10302310321330349),\n",
       " np.float64(-0.001989986617350431),\n",
       " nan,\n",
       " np.float64(-0.013526796937005288),\n",
       " nan,\n",
       " np.float64(-0.016173821519445644),\n",
       " nan,\n",
       " nan,\n",
       " nan,\n",
       " np.float64(0.006774109078210594),\n",
       " nan,\n",
       " nan,\n",
       " nan,\n",
       " np.float64(-0.0028010866000730515),\n",
       " np.float64(-0.018995133805723166),\n",
       " np.float64(-0.0024778492741890086),\n",
       " np.float64(-0.018126414876426966),\n",
       " np.float64(-0.00750651326488416),\n",
       " nan,\n",
       " np.float64(-0.007661434704597689),\n",
       " nan,\n",
       " nan,\n",
       " nan,\n",
       " nan,\n",
       " np.float64(-0.035616910093331275),\n",
       " np.float64(-0.016205326129163318),\n",
       " nan,\n",
       " np.float64(-0.03478710907812743),\n",
       " np.float64(-0.0025717179789983198),\n",
       " np.float64(-0.0021925390150200823),\n",
       " np.float64(-0.011023086725301801),\n",
       " np.float64(-0.0070778032242238605),\n",
       " nan,\n",
       " nan,\n",
       " nan,\n",
       " np.float64(-0.00928189289529794),\n",
       " np.float64(-0.0013287130946408035),\n",
       " np.float64(-0.0055630115075079286),\n",
       " nan,\n",
       " nan,\n",
       " nan,\n",
       " nan,\n",
       " nan,\n",
       " np.float64(-0.014292196628994119),\n",
       " np.float64(-0.012887724321029937),\n",
       " nan,\n",
       " nan,\n",
       " np.float64(-0.010379248770568323),\n",
       " np.float64(-0.013654814848919783),\n",
       " np.float64(-0.002455104553858707),\n",
       " nan,\n",
       " nan,\n",
       " np.float64(-0.002853388545100576),\n",
       " np.float64(-0.010548357006515562),\n",
       " np.float64(-0.009118515553208946),\n",
       " np.float64(-0.004437352902360455),\n",
       " np.float64(-0.004325810351035692),\n",
       " nan,\n",
       " np.float64(0.0022413274048355817),\n",
       " nan,\n",
       " np.float64(-0.01730940192154246),\n",
       " nan,\n",
       " nan,\n",
       " np.float64(-0.016966532326498807),\n",
       " np.float64(-0.007430493594162168),\n",
       " nan,\n",
       " nan,\n",
       " np.float64(-0.0009550844551125812),\n",
       " nan,\n",
       " np.float64(-0.016337539504597313),\n",
       " np.float64(-0.006941749654226486),\n",
       " np.float64(-0.004365547194962984),\n",
       " nan,\n",
       " nan,\n",
       " np.float64(-0.018785154317809475),\n",
       " nan,\n",
       " np.float64(-0.020513033085472997),\n",
       " nan,\n",
       " nan,\n",
       " np.float64(-0.00988339505325839),\n",
       " nan,\n",
       " nan,\n",
       " np.float64(-0.00636259423411164),\n",
       " nan,\n",
       " nan,\n",
       " np.float64(0.005800270588333614),\n",
       " np.float64(0.0031954800154927673),\n",
       " np.float64(0.0017196526106219134),\n",
       " np.float64(-0.00165857784535609),\n",
       " nan,\n",
       " nan,\n",
       " np.float64(-0.005123956553754086),\n",
       " nan,\n",
       " nan,\n",
       " nan,\n",
       " nan,\n",
       " nan,\n",
       " np.float64(-0.02371297492847567),\n",
       " nan,\n",
       " np.float64(-0.08819940145524553),\n",
       " np.float64(-0.0011959657821025789),\n",
       " np.float64(-0.0038786275172648017),\n",
       " np.float64(-0.012135750112386419),\n",
       " np.float64(-0.01928307039925168),\n",
       " np.float64(-0.02290847693078763),\n",
       " np.float64(-0.001262569171446116),\n",
       " np.float64(-0.0184328124299635),\n",
       " nan,\n",
       " np.float64(0.006409230900112781),\n",
       " np.float64(-0.0004265086272760814),\n",
       " np.float64(-0.020385085675098467),\n",
       " nan,\n",
       " np.float64(-0.014673112329210284),\n",
       " np.float64(-0.020379392451986802),\n",
       " nan,\n",
       " np.float64(-0.0004226817489020272),\n",
       " np.float64(-0.020561217914992474),\n",
       " np.float64(-0.0076606098073399775),\n",
       " np.float64(-0.0029362908554816923),\n",
       " np.float64(-0.0018638331738080216),\n",
       " np.float64(0.019365381836439325),\n",
       " np.float64(0.003608632218916549),\n",
       " np.float64(-0.015551357561429797),\n",
       " np.float64(0.006642669191994195),\n",
       " nan,\n",
       " np.float64(-0.006295636055925519),\n",
       " np.float64(-0.0015966605265240017),\n",
       " nan,\n",
       " np.float64(-0.002007929614328289),\n",
       " np.float64(-0.0013769294678811599),\n",
       " np.float64(0.004226620745939024),\n",
       " np.float64(-0.004619190624679706),\n",
       " np.float64(-0.002562623188057619),\n",
       " np.float64(-0.01972507334904605),\n",
       " np.float64(-0.001324326139605415),\n",
       " np.float64(-0.003980989913349208),\n",
       " np.float64(-0.005274697617509116),\n",
       " np.float64(-0.011966234696912109),\n",
       " nan,\n",
       " nan,\n",
       " np.float64(-4.432525672291126e-05),\n",
       " nan,\n",
       " np.float64(-0.0019327605262517622),\n",
       " np.float64(-0.0014154965766902475),\n",
       " np.float64(5.447916646612988e-06),\n",
       " nan,\n",
       " nan,\n",
       " np.float64(-0.020602236982750807),\n",
       " nan,\n",
       " np.float64(-0.020288941310446545),\n",
       " np.float64(-0.007318886360653094),\n",
       " nan,\n",
       " np.float64(7.47583457198248e-05),\n",
       " nan,\n",
       " np.float64(-0.00680086355964917),\n",
       " nan,\n",
       " nan,\n",
       " nan,\n",
       " nan,\n",
       " nan,\n",
       " nan,\n",
       " np.float64(-0.00033659312043354594),\n",
       " np.float64(0.0008582475017767837),\n",
       " nan,\n",
       " np.float64(-0.001924726637107843),\n",
       " np.float64(2.936695196809917e-05),\n",
       " np.float64(-0.002598522943043252),\n",
       " nan,\n",
       " np.float64(-0.002469083108682424),\n",
       " np.float64(-0.015501828056197839),\n",
       " nan,\n",
       " nan,\n",
       " np.float64(-0.013292372691589666),\n",
       " nan,\n",
       " nan,\n",
       " np.float64(-0.32395538906351595),\n",
       " nan,\n",
       " nan,\n",
       " nan,\n",
       " nan,\n",
       " np.float64(-0.005332352372162007),\n",
       " np.float64(0.0013051635910410729),\n",
       " np.float64(-0.016011998743092285),\n",
       " np.float64(-0.02450006519367406),\n",
       " np.float64(-0.022177037360657636),\n",
       " np.float64(-0.01819100578206056),\n",
       " nan,\n",
       " nan,\n",
       " np.float64(-0.0252517401520886),\n",
       " np.float64(0.05933852366902598),\n",
       " np.float64(-0.02016657115207297),\n",
       " np.float64(0.01885471210698586),\n",
       " np.float64(-0.012598761246888284),\n",
       " np.float64(-0.02349355025632656),\n",
       " np.float64(-0.024615656127377938),\n",
       " nan,\n",
       " nan,\n",
       " np.float64(-0.030586345542157355),\n",
       " np.float64(-0.01664858722211553),\n",
       " np.float64(-0.024842766475744484),\n",
       " np.float64(-0.022290866993023954),\n",
       " np.float64(-0.016121815215657555),\n",
       " np.float64(-0.00552964796544327),\n",
       " np.float64(-0.0028359952093416664),\n",
       " np.float64(-0.023284477637457338),\n",
       " nan,\n",
       " nan,\n",
       " nan,\n",
       " nan,\n",
       " np.float64(-0.0016235609523717548),\n",
       " np.float64(-0.0031649920872935146),\n",
       " nan,\n",
       " np.float64(0.004967394552010732),\n",
       " nan,\n",
       " np.float64(-0.002304395937812341),\n",
       " nan,\n",
       " nan,\n",
       " np.float64(0.0011175002256802488),\n",
       " np.float64(-0.002827715886963972),\n",
       " np.float64(-0.046643913327023875),\n",
       " np.float64(-0.001567020957867005),\n",
       " np.float64(-0.008574482296665813),\n",
       " nan,\n",
       " np.float64(-0.02012278828849099),\n",
       " np.float64(-0.003857844976140005),\n",
       " nan,\n",
       " np.float64(-0.025017153269533174),\n",
       " np.float64(-0.024220591459546675),\n",
       " np.float64(-0.005768789339419553),\n",
       " np.float64(-0.017414152059029714),\n",
       " np.float64(-0.03704102822368572),\n",
       " np.float64(-12.610858539193352),\n",
       " np.float64(-0.025494638096367657),\n",
       " np.float64(-0.02076019140974425),\n",
       " np.float64(-0.027944085247533335),\n",
       " np.float64(-0.018241862647325878),\n",
       " np.float64(-0.02581477209534343),\n",
       " np.float64(-0.02515524236924274),\n",
       " np.float64(-0.018884761188483146),\n",
       " np.float64(-0.00017473002195527134),\n",
       " np.float64(-0.00330343056353405),\n",
       " np.float64(-0.0065121336722371555),\n",
       " nan,\n",
       " np.float64(-0.023705506936615463),\n",
       " np.float64(0.0018802380800267738),\n",
       " np.float64(-0.020915283162196114),\n",
       " np.float64(-0.0038900938599853753),\n",
       " nan,\n",
       " np.float64(-0.004109527589099307),\n",
       " np.float64(0.008861816734592175),\n",
       " np.float64(-0.0009010180022466064),\n",
       " np.float64(-0.004270657438616086),\n",
       " np.float64(-0.019266430299014887),\n",
       " np.float64(-0.0039758722837543465),\n",
       " np.float64(-0.005970587410025162),\n",
       " nan,\n",
       " np.float64(0.004623411092559375),\n",
       " nan,\n",
       " nan,\n",
       " np.float64(4.694486067158125e-06),\n",
       " np.float64(-0.002623855392877046),\n",
       " nan,\n",
       " nan,\n",
       " nan,\n",
       " np.float64(-5.891715161237945e-05),\n",
       " nan,\n",
       " np.float64(-0.014896280058753207),\n",
       " nan,\n",
       " nan,\n",
       " nan,\n",
       " np.float64(-0.01905522194045681),\n",
       " np.float64(-0.019320056844842403),\n",
       " np.float64(-0.021767399574769607),\n",
       " np.float64(0.0002646830600901181),\n",
       " np.float64(-0.009401976760957572),\n",
       " np.float64(-0.019422865612714908),\n",
       " np.float64(-0.013562488012895807),\n",
       " np.float64(-0.009046353011551076),\n",
       " np.float64(-0.0252819959753577),\n",
       " np.float64(-0.004123129347529052),\n",
       " np.float64(-0.027719689371064577),\n",
       " np.float64(-0.005043567960116471),\n",
       " np.float64(-0.005488723335052605),\n",
       " np.float64(-0.02420611333721952),\n",
       " nan,\n",
       " np.float64(-0.010010149295583323),\n",
       " np.float64(-5.504503245366495e-05),\n",
       " nan,\n",
       " np.float64(-0.24963433829733128),\n",
       " np.float64(-0.007739274949936625),\n",
       " nan,\n",
       " nan,\n",
       " nan,\n",
       " np.float64(-0.010291687002204617),\n",
       " np.float64(-0.0027508518275462523),\n",
       " np.float64(-0.006002516896381149),\n",
       " np.float64(-0.01102484778100468),\n",
       " np.float64(0.030827032536697472),\n",
       " np.float64(-0.012043286839538783),\n",
       " np.float64(-0.009912131298160407),\n",
       " np.float64(0.024289576090894188),\n",
       " np.float64(-0.015879872678608912),\n",
       " np.float64(-0.018858852484845867),\n",
       " nan,\n",
       " nan,\n",
       " np.float64(-0.028442186994675635),\n",
       " nan,\n",
       " np.float64(-0.01653269402005555),\n",
       " np.float64(-0.020053104012038938),\n",
       " np.float64(-0.017574774837496924),\n",
       " np.float64(-0.0200600039459886),\n",
       " np.float64(-0.002680029786604926),\n",
       " nan,\n",
       " np.float64(-0.004034687599219408),\n",
       " np.float64(-0.0035088341454205807),\n",
       " np.float64(-0.008942601457525016),\n",
       " np.float64(-0.014773684323406661),\n",
       " np.float64(-0.05478140936272616),\n",
       " np.float64(-0.016702018161251893),\n",
       " np.float64(-0.010017139581711349),\n",
       " np.float64(-0.01885548109406287),\n",
       " nan,\n",
       " nan,\n",
       " np.float64(-0.035533612076236495),\n",
       " np.float64(0.003499584396331805),\n",
       " np.float64(-0.0027482432321918),\n",
       " nan,\n",
       " np.float64(-0.004170983842273888),\n",
       " np.float64(-0.005976627183459117),\n",
       " np.float64(-0.005947486797401718),\n",
       " np.float64(-0.005383204495160831),\n",
       " nan,\n",
       " nan,\n",
       " np.float64(-0.004756271230611553),\n",
       " nan,\n",
       " nan,\n",
       " np.float64(-0.03812575671884471),\n",
       " nan,\n",
       " np.float64(-0.007310978154007264),\n",
       " np.float64(-0.022345241973854325),\n",
       " nan,\n",
       " np.float64(-0.006998850110855502),\n",
       " np.float64(-0.0033482195940795515),\n",
       " np.float64(-0.0019076525289477653),\n",
       " np.float64(-0.013306536849097998),\n",
       " np.float64(-0.001600629520564101),\n",
       " np.float64(0.005724910639963964),\n",
       " np.float64(-0.008142086591173705),\n",
       " np.float64(-0.012985045655810459),\n",
       " nan,\n",
       " np.float64(-0.008068873172980955),\n",
       " np.float64(-0.006875814741452004),\n",
       " np.float64(0.0094083538334259),\n",
       " np.float64(-0.008639734055257519),\n",
       " np.float64(-0.01958407790109274),\n",
       " np.float64(-0.020016027821860124),\n",
       " np.float64(-0.018737684449241974),\n",
       " np.float64(0.010459311161474938),\n",
       " np.float64(0.002149887918307091),\n",
       " np.float64(-0.004350171815411215),\n",
       " np.float64(0.0003977423005438115),\n",
       " np.float64(0.005668951982090028),\n",
       " np.float64(0.18459390206999132),\n",
       " np.float64(-0.008970696487081365),\n",
       " np.float64(-0.004307107088351001),\n",
       " np.float64(-0.007311738588273012),\n",
       " np.float64(0.0032730866573838797),\n",
       " nan,\n",
       " np.float64(-0.015237070488943138),\n",
       " nan,\n",
       " np.float64(-0.008776613971661802),\n",
       " nan,\n",
       " np.float64(-0.01641410020565989),\n",
       " np.float64(-0.013021190329913572),\n",
       " nan,\n",
       " np.float64(0.002190645135237142),\n",
       " np.float64(-0.01170872220513784),\n",
       " np.float64(-0.00932273063015951),\n",
       " nan,\n",
       " np.float64(-0.02960946621900345),\n",
       " nan,\n",
       " np.float64(0.0028235897185939452),\n",
       " np.float64(-0.0171697281107291),\n",
       " np.float64(-0.010651342743382133),\n",
       " np.float64(-0.014832947956756614),\n",
       " np.float64(3.174192639058614e-05),\n",
       " np.float64(-0.007698669148384588),\n",
       " np.float64(0.004420996924737879),\n",
       " np.float64(0.0002664843881917807),\n",
       " np.float64(-0.005285140811132052),\n",
       " np.float64(-0.0043542787866740346),\n",
       " np.float64(0.00808268575900822),\n",
       " np.float64(-0.00262427193553051),\n",
       " np.float64(-0.02354513993384434),\n",
       " np.float64(0.03485602473600578),\n",
       " np.float64(0.005454546485409104),\n",
       " np.float64(-0.006110158466876917),\n",
       " np.float64(-0.0076033462345894),\n",
       " np.float64(-0.007362819283019277),\n",
       " np.float64(-0.008152746344429232),\n",
       " np.float64(-0.005476937915806906),\n",
       " np.float64(-0.018008814198386087),\n",
       " np.float64(-0.005023489495365623),\n",
       " np.float64(-0.022017838870491403),\n",
       " np.float64(-0.006041650916376767),\n",
       " np.float64(-0.020088386776380418),\n",
       " np.float64(0.01697700836186794),\n",
       " nan,\n",
       " np.float64(0.012589300357626844),\n",
       " np.float64(0.0021071750542049155),\n",
       " np.float64(-0.008054145850087558),\n",
       " np.float64(-0.008166865735841923),\n",
       " np.float64(-0.0034588810925523755),\n",
       " np.float64(-0.017819131709514578),\n",
       " np.float64(-5.962030743350562e-05),\n",
       " np.float64(-0.013985080430171761),\n",
       " np.float64(0.0014231856605835525),\n",
       " np.float64(-0.0192529639551127),\n",
       " np.float64(-0.020607237255811282),\n",
       " np.float64(-0.09432040456125065),\n",
       " np.float64(-0.0011135443076179484),\n",
       " np.float64(-0.012286236068132613),\n",
       " np.float64(-0.008164829237658568),\n",
       " np.float64(-0.0006987963846530535),\n",
       " np.float64(-0.008233050428058405),\n",
       " nan,\n",
       " np.float64(-0.02201703227755898),\n",
       " np.float64(-0.006387146957352901),\n",
       " nan,\n",
       " np.float64(0.002821345633639858),\n",
       " nan,\n",
       " np.float64(-0.0019269844163382747),\n",
       " np.float64(-0.02596070124791177),\n",
       " nan,\n",
       " np.float64(-0.006927493455687383),\n",
       " np.float64(0.0027786464724893147),\n",
       " np.float64(-0.008420393316463225),\n",
       " np.float64(0.0010053470819958506),\n",
       " np.float64(-0.020306616371001),\n",
       " nan,\n",
       " np.float64(-0.005467175178431701),\n",
       " np.float64(0.00029405992630728933),\n",
       " np.float64(0.01315417751371457),\n",
       " np.float64(-0.00806483954908246),\n",
       " np.float64(0.010119557206162921),\n",
       " np.float64(-0.00927192218842121),\n",
       " nan,\n",
       " np.float64(-0.006176362637203543),\n",
       " nan,\n",
       " np.float64(-0.007504006569992956),\n",
       " np.float64(-0.013897926704574674),\n",
       " np.float64(-0.02181592414348241),\n",
       " np.float64(-0.022658117406866986),\n",
       " nan,\n",
       " nan,\n",
       " nan,\n",
       " np.float64(-0.008330739192251229),\n",
       " np.float64(-0.004371259368719862),\n",
       " nan,\n",
       " np.float64(-0.024106063519818387),\n",
       " np.float64(-0.007744924577430072),\n",
       " np.float64(-0.017634763105197817),\n",
       " np.float64(-0.006940693135357403),\n",
       " np.float64(-0.01728309444621172),\n",
       " np.float64(-0.015384918068295195),\n",
       " nan,\n",
       " nan,\n",
       " np.float64(-0.010080349071066091),\n",
       " np.float64(-0.013005411365985738),\n",
       " nan,\n",
       " nan,\n",
       " np.float64(-0.01698643551145525),\n",
       " nan,\n",
       " np.float64(-0.07301240847548841),\n",
       " np.float64(-0.009852108833678541),\n",
       " nan,\n",
       " nan,\n",
       " np.float64(-0.013083710685981879),\n",
       " np.float64(-0.008374052732343257),\n",
       " np.float64(-0.00024085271819815148),\n",
       " np.float64(-0.00128667781459748),\n",
       " np.float64(-0.01845301176606216),\n",
       " np.float64(-0.026622681146060232),\n",
       " np.float64(-0.022799384773576275),\n",
       " np.float64(-0.009623984729890718),\n",
       " np.float64(-0.008897146403933577),\n",
       " np.float64(-0.018715849178094345),\n",
       " np.float64(-0.022756911260462902),\n",
       " nan,\n",
       " nan,\n",
       " np.float64(-0.017287741681201806),\n",
       " np.float64(-0.0172101348507055),\n",
       " nan,\n",
       " np.float64(-0.009088738126589568),\n",
       " np.float64(-0.0008899066800114871),\n",
       " np.float64(-0.011399383427703443),\n",
       " np.float64(-0.009897344315249391),\n",
       " np.float64(-0.0138499449474001),\n",
       " np.float64(-0.023629286187497385),\n",
       " nan,\n",
       " nan,\n",
       " nan,\n",
       " nan,\n",
       " np.float64(0.023588041268587667),\n",
       " np.float64(-0.013542495900790654),\n",
       " nan,\n",
       " np.float64(-0.007559262794212119),\n",
       " np.float64(-0.039302355388787916),\n",
       " np.float64(-0.0024431323114934324),\n",
       " np.float64(-0.01277346031180566),\n",
       " np.float64(-0.007811017469309241),\n",
       " np.float64(2.9343936642376542),\n",
       " np.float64(-0.014307736366663212),\n",
       " np.float64(-0.013193092352691596),\n",
       " np.float64(-0.0023585228788840376),\n",
       " np.float64(-0.020290354696573),\n",
       " np.float64(-0.007379886876735058),\n",
       " np.float64(-0.004509633457600037),\n",
       " np.float64(-0.006574521849928102),\n",
       " nan,\n",
       " np.float64(-0.03024499542662971),\n",
       " np.float64(0.0007157413652257082),\n",
       " nan,\n",
       " np.float64(-0.004987532644139684),\n",
       " np.float64(-0.010004922739199418),\n",
       " np.float64(-0.00899712000110433),\n",
       " np.float64(-0.006175366877871498),\n",
       " np.float64(-0.010141657948131308),\n",
       " nan,\n",
       " np.float64(-0.019403127467543354),\n",
       " nan,\n",
       " np.float64(-0.012220325464082978),\n",
       " np.float64(-0.02226799402870199),\n",
       " np.float64(-0.0042366659233376795),\n",
       " nan,\n",
       " np.float64(-0.0049799455032255215),\n",
       " np.float64(-0.011433017193867277),\n",
       " np.float64(-0.01189933741575216),\n",
       " nan,\n",
       " np.float64(-0.0018304978026643394),\n",
       " np.float64(-0.008955211902691019),\n",
       " np.float64(-0.026288309543156113),\n",
       " np.float64(-0.02558522988332177),\n",
       " nan,\n",
       " nan,\n",
       " np.float64(-0.0007366561172598168),\n",
       " nan,\n",
       " np.float64(-0.023627297911550674),\n",
       " np.float64(-0.009050556120091311),\n",
       " np.float64(-0.009286786828864501),\n",
       " np.float64(-0.010294831044316066),\n",
       " ...]"
      ]
     },
     "execution_count": 94,
     "metadata": {},
     "output_type": "execute_result"
    }
   ],
   "source": [
    "slope_swot"
   ]
  },
  {
   "cell_type": "code",
   "execution_count": null,
   "id": "0041dc4e-2fd8-42a8-92ed-b756d72a08e5",
   "metadata": {},
   "outputs": [],
   "source": [
    "temp = pd.DataFrame({'NHDPlusID': ids, 'slope_swot': slope_swot})\n",
    "temp['slope_swot'] = np.abs(temp['slope_swot'])"
   ]
  },
  {
   "cell_type": "code",
   "execution_count": null,
   "id": "418e0db4-f804-49b5-9831-5c66e23e6a4e",
   "metadata": {
    "tags": []
   },
   "outputs": [],
   "source": [
    "gdf_wse = pd.merge(left=gdf_wse, right=temp, how='left', on='NHDPlusID')"
   ]
  },
  {
   "cell_type": "code",
   "execution_count": null,
   "id": "4a4178f6-1d0f-44e8-9a72-0abeea76f45e",
   "metadata": {},
   "outputs": [],
   "source": [
    "gdf_wse = gdf_wse.drop_duplicates(subset='NHDPlusID').reset_index()"
   ]
  },
  {
   "cell_type": "code",
   "execution_count": null,
   "id": "da0eecea-f32d-4ba7-b180-5b3daeb106e4",
   "metadata": {},
   "outputs": [],
   "source": [
    "def checkMag(df):\n",
    "    # if df['slope_swot'] > df['Slope']:\n",
    "    #     ratio = df['slope_swot'] / df['Slope']\n",
    "    # else:\n",
    "    #     ratio = df['Slope'] / df['slope_swot']\n",
    "    if np.isnan(df['slope_swot']):\n",
    "        return False\n",
    "    \n",
    "    else:\n",
    "        order1 = math.floor(math.log10(df['slope_swot']))\n",
    "        order2 = math.floor(math.log10(df['Slope']))\n",
    "        \n",
    "    # if (ratio > 0.1) and (ratio < 10):\n",
    "    #     return True\n",
    "    # else:\n",
    "    #     return False\n",
    "\n",
    "        if order1 == order2:\n",
    "            return True\n",
    "        else:\n",
    "            return False"
   ]
  },
  {
   "cell_type": "code",
   "execution_count": null,
   "id": "50616919-4477-4125-a7ae-830024fc9fff",
   "metadata": {},
   "outputs": [],
   "source": [
    "gdf_wse['slope_match'] = gdf_wse.apply(func = checkMag, axis=1)"
   ]
  },
  {
   "cell_type": "code",
   "execution_count": null,
   "id": "8f5015ec-7add-4248-9211-2eff5aeed759",
   "metadata": {},
   "outputs": [],
   "source": [
    "slope_match = gdf_wse[gdf_wse['slope_match'] == True]['NHDPlusID'].tolist()"
   ]
  },
  {
   "cell_type": "code",
   "execution_count": null,
   "id": "56e857fe-190f-4613-be47-93441d289466",
   "metadata": {},
   "outputs": [],
   "source": [
    "sj['good_wse'] = np.where(sj['NHDPlusID'].isin(slope_match), True, False)"
   ]
  },
  {
   "cell_type": "code",
   "execution_count": null,
   "id": "cc2361d6-ac1f-4666-8c7c-a8a64dda0af0",
   "metadata": {},
   "outputs": [],
   "source": [
    "pd.DataFrame(sj.sort_values(by=['NHDPlusID', 'counter'])[::10].Bin.value_counts()).reset_index()"
   ]
  },
  {
   "cell_type": "code",
   "execution_count": null,
   "id": "74233671-de2a-446c-9671-2122368e316d",
   "metadata": {},
   "outputs": [],
   "source": [
    "reaches_min = pd.DataFrame(sj.groupby('NHDPlusID')['coverage'].min()).reset_index()"
   ]
  },
  {
   "cell_type": "code",
   "execution_count": null,
   "id": "4a392daf-8183-45c4-b4f0-0f4a211257af",
   "metadata": {},
   "outputs": [],
   "source": [
    "# Merge on bins\n",
    "reaches_min = pd.merge(left=reaches_min, right=sj[['NHDPlusID', 'Bin']], how='left', on='NHDPlusID')\n",
    "# Take every tenth row to get reach-level results\n",
    "reaches_min = reaches_min.sort_values(by=['NHDPlusID'])[::10].reset_index()"
   ]
  },
  {
   "cell_type": "code",
   "execution_count": null,
   "id": "cd309a69-1d90-4c4e-b07b-2c7f43c0f5d0",
   "metadata": {},
   "outputs": [],
   "source": [
    "pd.DataFrame(reaches_min[reaches_min['coverage'] > 0.1].Bin.value_counts()).reset_index()"
   ]
  },
  {
   "cell_type": "code",
   "execution_count": null,
   "id": "e7ddff26-42be-4bfe-802c-a09bf22451b7",
   "metadata": {},
   "outputs": [],
   "source": [
    "pd.DataFrame(sj[sj['good_wse'] == True].sort_values(by=['NHDPlusID', 'counter'])[::10].Bin.value_counts()).reset_index()"
   ]
  },
  {
   "cell_type": "code",
   "execution_count": null,
   "id": "32efa21a-3caa-41a2-a376-eaa6564f0bb6",
   "metadata": {},
   "outputs": [],
   "source": [
    "sj[sj['good_wse'] == True].iloc[50:60]"
   ]
  },
  {
   "cell_type": "markdown",
   "id": "59dbb120-b7df-428a-a72e-706814832ea8",
   "metadata": {
    "tags": []
   },
   "source": [
    "### Find coverage"
   ]
  },
  {
   "cell_type": "markdown",
   "id": "6af80e8a-07ba-4f91-8636-b12874ac4bd1",
   "metadata": {
    "tags": []
   },
   "source": [
    "#### Make pseudo pixels"
   ]
  },
  {
   "cell_type": "code",
   "execution_count": null,
   "id": "551e670e-f660-4137-b0ad-555e44b9a7a1",
   "metadata": {},
   "outputs": [],
   "source": [
    "# Set along-track pixel resolution\n",
    "azimuth_res = 22 # meters"
   ]
  },
  {
   "cell_type": "code",
   "execution_count": null,
   "id": "b55b182b-82e9-4931-a2f6-bb21f8760149",
   "metadata": {},
   "outputs": [],
   "source": [
    "# Make pseudo pixels\n",
    "start = time.time()\n",
    "gdf_PIXC_cov['pseudo_pixel'] = gdf_PIXC_cov.parallel_apply(user_defined_function=makePseudoPixels,\n",
    "                                                           args=(nadir_segment_ln,\n",
    "                                                                 azimuth_res),\n",
    "                                                           axis=1)\n",
    "end = time.time()\n",
    "print(end - start)"
   ]
  },
  {
   "cell_type": "code",
   "execution_count": null,
   "id": "e876d8aa-3055-4632-8cce-098926468f89",
   "metadata": {},
   "outputs": [],
   "source": [
    "gdf_PIXC_cov = gdf_PIXC_cov.rename(columns={'geometry': 'pixel_centroid'}).set_geometry('pseudo_pixel').set_crs(epsg=3857)"
   ]
  },
  {
   "cell_type": "code",
   "execution_count": null,
   "id": "17fa13af-60b3-461f-9ad7-b4182e728520",
   "metadata": {},
   "outputs": [],
   "source": [
    "# Get bounds of PIXC tile\n",
    "pseudo_bounds = gdf_PIXC_cov.total_bounds"
   ]
  },
  {
   "cell_type": "code",
   "execution_count": null,
   "id": "240322f8-f90d-4653-b065-07158a2786e5",
   "metadata": {},
   "outputs": [],
   "source": [
    "# Copy geometry column as sjoin will discard it\n",
    "gdf_PIXC_cov['pseudo_geom'] = gdf_PIXC_cov.geometry"
   ]
  },
  {
   "cell_type": "markdown",
   "id": "92a9ee33-aacf-4733-ae9b-fb36a6e6c962",
   "metadata": {},
   "source": [
    "#### Read in buffered segments"
   ]
  },
  {
   "cell_type": "code",
   "execution_count": null,
   "id": "b8ef5326-5cf2-4240-a1c8-48ef64066730",
   "metadata": {},
   "outputs": [],
   "source": [
    "data_path = '/nas/cee-water/cjgleason/fiona/narrow_rivers_PIXC_data/NHD_prepped_segmented_buffered/HUC2_' + huc2 + '/'"
   ]
  },
  {
   "cell_type": "code",
   "execution_count": null,
   "id": "d7c3b8a2-b85a-476b-8eb6-1b28ab602a47",
   "metadata": {},
   "outputs": [],
   "source": [
    "file_paths = []\n",
    "\n",
    "for huc in huc4s:\n",
    "    file_path = data_path + 'NHDPLUS_H_' + huc + '_HU4_GDB_prepped_segmented_buffered_' + width_set + '.parquet'\n",
    "    file_paths.append(file_path)"
   ]
  },
  {
   "cell_type": "code",
   "execution_count": null,
   "id": "2100985c-7d87-47d3-bdcd-e88313305a5c",
   "metadata": {},
   "outputs": [],
   "source": [
    "segments = dask_geopandas.read_parquet(path=file_paths)"
   ]
  },
  {
   "cell_type": "code",
   "execution_count": null,
   "id": "88602038-2604-4e4a-9335-f95b8e080831",
   "metadata": {},
   "outputs": [],
   "source": [
    "segments = segments.compute()"
   ]
  },
  {
   "cell_type": "code",
   "execution_count": null,
   "id": "ff1ab870-8a1e-40f2-ac46-aaf7d26d3cb2",
   "metadata": {},
   "outputs": [],
   "source": [
    "segments = segments.clip(pseudo_bounds)"
   ]
  },
  {
   "cell_type": "code",
   "execution_count": null,
   "id": "3b7bbb49-83b0-4fdc-b0c8-e2dc41d3a8c5",
   "metadata": {},
   "outputs": [],
   "source": [
    "# Keep only reaches that are fully contained in PIXC granule\n",
    "segments = segments.groupby('NHDPlusID').filter(lambda x: len(x) == 10)"
   ]
  },
  {
   "cell_type": "code",
   "execution_count": null,
   "id": "4dab7f5e-56a5-4877-b2df-354c8dc27321",
   "metadata": {},
   "outputs": [],
   "source": [
    "segments = segments.sort_values(by=['NHDPlusID', 'counter']).reset_index()"
   ]
  },
  {
   "cell_type": "code",
   "execution_count": null,
   "id": "bb923ffc-210f-4e60-a02a-9d665e3ccc86",
   "metadata": {},
   "outputs": [],
   "source": [
    "segments = segments.drop(columns='index')"
   ]
  },
  {
   "cell_type": "code",
   "execution_count": null,
   "id": "0b854ca8-21bb-4696-a910-f3e3238df018",
   "metadata": {},
   "outputs": [],
   "source": [
    "# Get number of reaches per bin\n",
    "counts = pd.DataFrame(segments.sort_values(by=['NHDPlusID', 'counter'])[::10].Bin_Min.value_counts()).reset_index()"
   ]
  },
  {
   "cell_type": "code",
   "execution_count": null,
   "id": "75a4a80b-ddc1-436c-9f22-c29e6e98f20d",
   "metadata": {},
   "outputs": [],
   "source": [
    "counts"
   ]
  },
  {
   "cell_type": "code",
   "execution_count": null,
   "id": "175df691-6f78-4743-9422-044a045be63b",
   "metadata": {},
   "outputs": [],
   "source": [
    "# Calculate segment area\n",
    "segments['segment_area'] = segments.geometry.area"
   ]
  },
  {
   "cell_type": "markdown",
   "id": "0df472ae-f3a3-4d63-aed8-a046012d9838",
   "metadata": {},
   "source": [
    "#### Join and analyze coverage"
   ]
  },
  {
   "cell_type": "code",
   "execution_count": null,
   "id": "ec5c6340-d7c4-43e2-b0f5-fd158e1c5f33",
   "metadata": {},
   "outputs": [],
   "source": [
    "# Merge the segments and pseudo-puxels by intersection\n",
    "sj = gpd.sjoin(segments, gdf_PIXC_cov, how='left', predicate='intersects').reset_index()"
   ]
  },
  {
   "cell_type": "code",
   "execution_count": null,
   "id": "90c53174-5f74-4eca-812a-4922b419c652",
   "metadata": {},
   "outputs": [],
   "source": [
    "del gdf_PIXC_cov"
   ]
  },
  {
   "cell_type": "code",
   "execution_count": null,
   "id": "ba0ac9e6-dab0-4041-88fb-d8822c992d36",
   "metadata": {},
   "outputs": [],
   "source": [
    "sj = sj.drop(columns=['index', 'index_old', 'index_right'])"
   ]
  },
  {
   "cell_type": "code",
   "execution_count": null,
   "id": "6f9e5cbc-e442-446a-817a-6bb906375509",
   "metadata": {},
   "outputs": [],
   "source": [
    "# # NHDPlusID_left reflects the segment ids, keeping that one\n",
    "# sj = sj.drop(columns=['NHDPlusID_right', 'points', 'azimuth_index',\n",
    "#                       'range_index',\n",
    "#                       # 'height', 'geoid',\n",
    "#                       # 'klass',\n",
    "#                       'latitude', 'longitude'])"
   ]
  },
  {
   "cell_type": "code",
   "execution_count": null,
   "id": "f48dcf6b-0694-4530-8210-b1f4e67503fb",
   "metadata": {},
   "outputs": [],
   "source": [
    "sj = sj.set_geometry('pseudo_geom')"
   ]
  },
  {
   "cell_type": "code",
   "execution_count": null,
   "id": "3eb299f3-11fe-4a77-b980-74a147d91ed8",
   "metadata": {
    "tags": []
   },
   "outputs": [],
   "source": [
    "sj = sj.groupby('NHDPlusID', as_index=False).parallel_apply(user_defined_function=specialDissolve)"
   ]
  },
  {
   "cell_type": "code",
   "execution_count": null,
   "id": "5f32fc46-db8a-4af3-b338-69916f89b970",
   "metadata": {},
   "outputs": [],
   "source": [
    "sj = sj.reset_index().drop(columns=['level_0', 'level_1', 'points',\n",
    "                                    # 'azimuth_index', 'range_index',\n",
    "                                    'cross_track', 'pixel_area',\n",
    "                                    'prior_water_prob', 'klass', 'pixel_centroid'])"
   ]
  },
  {
   "cell_type": "code",
   "execution_count": null,
   "id": "72aa0b69-3521-4503-832d-8466a12a41f6",
   "metadata": {},
   "outputs": [],
   "source": [
    "sj['pseudo_geom_clip'] = sj.parallel_apply(user_defined_function=specialClip,\n",
    "                                           axis=1)"
   ]
  },
  {
   "cell_type": "code",
   "execution_count": null,
   "id": "29f5b63e-eb10-4d3e-b58a-a9e578306285",
   "metadata": {},
   "outputs": [],
   "source": [
    "# Calculate the pseudo-pixel area within each node\n",
    "sj['pseudo_area'] = sj.pseudo_geom_clip.area"
   ]
  },
  {
   "cell_type": "code",
   "execution_count": null,
   "id": "c0764bd5-a82b-45a5-9075-73fda889aa00",
   "metadata": {},
   "outputs": [],
   "source": [
    "sj['coverage'] = sj.pseudo_area/sj.segment_area"
   ]
  },
  {
   "cell_type": "code",
   "execution_count": null,
   "id": "7ba267bf-a933-4d27-af5a-cd73331720db",
   "metadata": {
    "tags": []
   },
   "outputs": [],
   "source": [
    "sj['coverage'] = sj['coverage'].fillna(0)"
   ]
  },
  {
   "cell_type": "code",
   "execution_count": null,
   "id": "1ad9b1e2-8bee-4280-80c5-26eed6bdd7dd",
   "metadata": {},
   "outputs": [],
   "source": [
    "# Drop geometry columns\n",
    "sj = sj.drop(columns=['pseudo_geom', 'buffers', 'pseudo_geom_clip', 'pseudo_area'])"
   ]
  },
  {
   "cell_type": "markdown",
   "id": "622bd27e-cf7c-4c1e-a7aa-b2ed4f32d675",
   "metadata": {},
   "source": [
    "### Do stats"
   ]
  },
  {
   "cell_type": "code",
   "execution_count": null,
   "id": "ed1d559f-4dba-4724-bd78-75421e17e7a3",
   "metadata": {
    "tags": []
   },
   "outputs": [],
   "source": [
    "bins = sj.Bin.unique()"
   ]
  },
  {
   "cell_type": "markdown",
   "id": "b9b2b467-5cc8-4d40-94ba-17d3de0807fc",
   "metadata": {},
   "source": [
    "#### Reaches"
   ]
  },
  {
   "cell_type": "code",
   "execution_count": null,
   "id": "01063fdc-cd34-4167-9478-b98716293723",
   "metadata": {},
   "outputs": [],
   "source": [
    "reaches_cent, reaches_thresh, reaches_min = summarizeCoverage(df=sj, binn=binn,\n",
    "                                            bins=bins, counts=counts)"
   ]
  },
  {
   "cell_type": "code",
   "execution_count": null,
   "id": "d970a001-366f-4cb9-8e90-d64d62353d0c",
   "metadata": {},
   "outputs": [],
   "source": [
    "reaches_min"
   ]
  },
  {
   "cell_type": "code",
   "execution_count": null,
   "id": "8db1a77f-0315-4c9b-8258-8e31ce9509cb",
   "metadata": {},
   "outputs": [],
   "source": [
    "reaches_min.sort_values(by=['NHDPlusID'])[::10]"
   ]
  },
  {
   "cell_type": "code",
   "execution_count": null,
   "id": "e9acee56-ba8a-41a6-9ea4-f72870fa8159",
   "metadata": {
    "tags": []
   },
   "outputs": [],
   "source": [
    "# d = {}\n",
    "# # d_q = {}\n",
    "# for i in range(1, 10):\n",
    "#     threshold = i/10\n",
    "#     # print(threshold)\n",
    "    \n",
    "#     detected = sj.groupby([binn, 'NHDPlusID'])['coverage'].apply(lambda x: (x > threshold).sum()) / 10\n",
    "#     reach = detected.reset_index()\n",
    "    \n",
    "#     # reach = detected.groupby(binn).quantile(q=[x / 100.0 for x in range(0,100,1)]).reset_index()\n",
    "        \n",
    "#     d[threshold] = reach"
   ]
  },
  {
   "cell_type": "code",
   "execution_count": null,
   "id": "f4a9a984-1d84-446d-8c84-395d0e91fa47",
   "metadata": {},
   "outputs": [],
   "source": [
    "# Add a column for each DataFrame indicating the key\n",
    "# for threshold, data in d.items():\n",
    "#     data['threshold'] = threshold\n",
    "    \n",
    "for threshold, data in d.items():\n",
    "    data['threshold'] = threshold"
   ]
  },
  {
   "cell_type": "code",
   "execution_count": null,
   "id": "c540f758-4134-41e5-8248-60919814fcc1",
   "metadata": {},
   "outputs": [],
   "source": [
    "# Concatenate all DataFrames into one\n",
    "# reaches_desc = pd.concat(d.values())\n",
    "\n",
    "reaches_cent = pd.concat(d.values()).rename(columns={'level_1': 'centile'})"
   ]
  },
  {
   "cell_type": "code",
   "execution_count": null,
   "id": "6f889785-d1c2-4369-b564-94d6f3e61d87",
   "metadata": {},
   "outputs": [],
   "source": [
    "reaches_cent"
   ]
  },
  {
   "cell_type": "code",
   "execution_count": null,
   "id": "8cdc70fc-b719-4eb6-addb-853674d93fe0",
   "metadata": {},
   "outputs": [],
   "source": [
    "# reaches_cent = pd.merge(left=reaches_cent, right=counts, how='left', on=binn)"
   ]
  },
  {
   "cell_type": "code",
   "execution_count": null,
   "id": "c190e431-c234-4dd2-9080-7b6d76fc1b18",
   "metadata": {},
   "outputs": [],
   "source": [
    "reaches_cent"
   ]
  },
  {
   "cell_type": "code",
   "execution_count": null,
   "id": "38b6bd38-a36d-4bba-8e1c-51be0583f87f",
   "metadata": {},
   "outputs": [],
   "source": [
    "reaches_min = pd.DataFrame(sj.groupby('NHDPlusID')['coverage'].min()).reset_index()"
   ]
  },
  {
   "cell_type": "code",
   "execution_count": null,
   "id": "e2df040f-a3ea-48b1-8b45-0fe2d27635f8",
   "metadata": {},
   "outputs": [],
   "source": [
    "reaches_min = pd.merge(left=reaches_min, right=sj[['NHDPlusID', binn]], how='left', on='NHDPlusID')"
   ]
  },
  {
   "cell_type": "code",
   "execution_count": null,
   "id": "25e688fc-a670-4ed1-a49a-932e7717ea87",
   "metadata": {},
   "outputs": [],
   "source": [
    "min_cov"
   ]
  },
  {
   "cell_type": "code",
   "execution_count": null,
   "id": "d127d092-07e4-4272-8b9c-97046bdbe771",
   "metadata": {},
   "outputs": [],
   "source": [
    "# reaches = pd.DataFrame(data=d).T"
   ]
  },
  {
   "cell_type": "code",
   "execution_count": null,
   "id": "a265330f-6724-4107-a18f-a48f88e3526c",
   "metadata": {},
   "outputs": [],
   "source": [
    "# reaches.columns = bins"
   ]
  },
  {
   "cell_type": "markdown",
   "id": "57eb3443-462c-4f0f-a55e-f0251d195d94",
   "metadata": {},
   "source": [
    "### Write out"
   ]
  },
  {
   "cell_type": "code",
   "execution_count": null,
   "id": "095ea3be-4f04-441d-917a-bc9633d07816",
   "metadata": {},
   "outputs": [],
   "source": [
    "save_path = os.path.join('/nas/cee-water/cjgleason/fiona/narrow_rivers_PIXC_data/', 'PIXC_v2_0_HUC2_01')"
   ]
  },
  {
   "cell_type": "code",
   "execution_count": null,
   "id": "afe97f05-8afd-4dac-959c-956a6c336e1c",
   "metadata": {},
   "outputs": [],
   "source": [
    "# Combine node_desc\n",
    "node_desc_both = pd.concat([node_desc, node_desc_w_zero], ignore_index=True)\n",
    "node_desc_both"
   ]
  },
  {
   "cell_type": "code",
   "execution_count": null,
   "id": "21d6bcf5-d411-4a8b-a0dd-ce2c4bc7d739",
   "metadata": {},
   "outputs": [],
   "source": [
    "# Combine node_quant\n",
    "node_quant_both = pd.concat([node_quant, node_quant_w_zero], ignore_index=True)\n",
    "node_quant_both"
   ]
  },
  {
   "cell_type": "code",
   "execution_count": null,
   "id": "6f17958c-cce3-40bd-8d0d-0425d3ada6ed",
   "metadata": {},
   "outputs": [],
   "source": [
    "# nodes_desc_both.to_csv(os.path.join(save_path, granule_name + '_nodes_describe.csv'))\n",
    "# nodes_quant_both.to_csv(os.path.join(save_path, granule_name + '_nodes_quantile.csv'))"
   ]
  },
  {
   "cell_type": "code",
   "execution_count": null,
   "id": "1126eceb-0e67-40d0-a68a-116aabc4f41f",
   "metadata": {},
   "outputs": [],
   "source": [
    "# reaches_desc.to_csv(os.path.join(save_path, granule_name + '_reaches_describe.csv'))\n",
    "# reaches_quant.to_csv(os.path.join(save_path, granule_name + '_reaches_quantile.csv'))"
   ]
  },
  {
   "cell_type": "code",
   "execution_count": null,
   "id": "b6d5fa3b-9428-4ca5-b68d-2241f80924bc",
   "metadata": {},
   "outputs": [],
   "source": [
    "test = pd.read_parquet('/nas/cee-water/cjgleason/fiona/narrow_rivers_PIXC_output/PIXC_v2_0_HUC2_01_2025_03_02_min/SWOT_L2_HR_PIXC_004_242_074L_20230930T103957_20230930T104008_PGC0_01_reaches_thresh.parquet')"
   ]
  },
  {
   "cell_type": "code",
   "execution_count": null,
   "id": "74da1788-44c3-4731-a5ec-983010c07291",
   "metadata": {},
   "outputs": [],
   "source": [
    "test"
   ]
  },
  {
   "cell_type": "code",
   "execution_count": null,
   "id": "19d8c671-7861-4c04-a026-6f42bdf6e67a",
   "metadata": {},
   "outputs": [],
   "source": []
  },
  {
   "cell_type": "code",
   "execution_count": null,
   "id": "fb389a18-7580-4b54-bbef-c4383ee68e06",
   "metadata": {},
   "outputs": [],
   "source": []
  },
  {
   "cell_type": "code",
   "execution_count": null,
   "id": "3fcfd214-7276-4db9-9a3e-b142fde6ec48",
   "metadata": {},
   "outputs": [],
   "source": []
  },
  {
   "cell_type": "code",
   "execution_count": null,
   "id": "df6d1997-ac7f-4639-bcc7-6e7db52a8698",
   "metadata": {},
   "outputs": [],
   "source": []
  },
  {
   "cell_type": "markdown",
   "id": "c656724b-59b8-46b2-9213-4c10e3a016c9",
   "metadata": {},
   "source": [
    "### Look at heights"
   ]
  },
  {
   "cell_type": "markdown",
   "id": "6733694b-e436-4db3-82cf-776c3b10dd20",
   "metadata": {
    "tags": []
   },
   "source": [
    "#### Read in buffered flowlines"
   ]
  },
  {
   "cell_type": "code",
   "execution_count": 127,
   "id": "ff93d8c7-c987-45e5-a19e-50364ec3c2ea",
   "metadata": {},
   "outputs": [],
   "source": [
    "# data_path = '/nas/cee-water/cjgleason/fiona/narrow_rivers_PIXC_data/NHD_prepped_buffered/HUC2_' + huc2 + '/'"
   ]
  },
  {
   "cell_type": "code",
   "execution_count": 128,
   "id": "b307280f-94c0-4d5c-802b-3e24566b286f",
   "metadata": {},
   "outputs": [],
   "source": [
    "file_paths = []\n",
    "\n",
    "for huc in huc4s:\n",
    "    file_path = data_path + 'NHDPLUS_H_' + huc + '_HU4_GDB_prepped_buffered_' + width_set + '.parquet'\n",
    "    file_paths.append(file_path)"
   ]
  },
  {
   "cell_type": "code",
   "execution_count": 129,
   "id": "1d7359f1-338d-4b43-91a5-5d07def17144",
   "metadata": {},
   "outputs": [],
   "source": [
    "reach_extent = dask_geopandas.read_parquet(path=file_paths, columns=['NHDPlusID', 'Bin', 'Slope', 'buffers'])"
   ]
  },
  {
   "cell_type": "code",
   "execution_count": null,
   "id": "48d9a7b5-3a37-4f63-9303-eef93945112c",
   "metadata": {},
   "outputs": [],
   "source": [
    "reach_extent = reach_extent.compute()"
   ]
  },
  {
   "cell_type": "code",
   "execution_count": null,
   "id": "61bb1edf-32a1-4e7e-879b-1aafa11701a4",
   "metadata": {},
   "outputs": [],
   "source": [
    "reach_extent['area'] = reach_extent['buffers'].area"
   ]
  }
 ],
 "metadata": {
  "kernelspec": {
   "display_name": "Python [conda env:.conda-narrowPIXC]",
   "language": "python",
   "name": "conda-env-.conda-narrowPIXC-py"
  },
  "language_info": {
   "codemirror_mode": {
    "name": "ipython",
    "version": 3
   },
   "file_extension": ".py",
   "mimetype": "text/x-python",
   "name": "python",
   "nbconvert_exporter": "python",
   "pygments_lexer": "ipython3",
   "version": "3.12.4"
  }
 },
 "nbformat": 4,
 "nbformat_minor": 5
}
