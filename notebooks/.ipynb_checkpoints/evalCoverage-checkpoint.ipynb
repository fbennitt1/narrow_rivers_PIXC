{
 "cells": [
  {
   "cell_type": "code",
   "execution_count": 1,
   "id": "054ba1e0-d7ac-4524-a659-1e46d3219143",
   "metadata": {
    "tags": []
   },
   "outputs": [],
   "source": [
    "from argparse import ArgumentParser\n",
    "import os\n",
    "import sys\n",
    "import time\n",
    "\n",
    "import dask.dataframe as dd\n",
    "import dask_geopandas\n",
    "import geopandas as gpd\n",
    "import matplotlib.pyplot as plt\n",
    "import numpy as np\n",
    "import pandas as pd\n",
    "import rasterio\n",
    "import shapely\n",
    "import xarray as xr\n",
    "\n",
    "# from matplotlib import colors\n",
    "from pandarallel import pandarallel\n",
    "\n",
    "sys.path.insert(1, '../scripts/')\n",
    "from reaches import *\n",
    "from utils import *"
   ]
  },
  {
   "cell_type": "markdown",
   "id": "7738211e-0067-4356-a77d-bddee1b036e0",
   "metadata": {},
   "source": [
    "### Parse arguments"
   ]
  },
  {
   "cell_type": "code",
   "execution_count": 2,
   "id": "9c28b14c-e137-4864-b7a1-326396a644eb",
   "metadata": {},
   "outputs": [],
   "source": [
    "# FOR NOW, SET\n",
    "width_set = 'min'\n",
    "\n",
    "# Control flow\n",
    "if width_set == 'mean':\n",
    "    width = 'WidthM'\n",
    "    binn = 'Bin'\n",
    "elif width_set == 'min':\n",
    "    width = 'WidthM_Min'\n",
    "    binn = 'Bin_Min'\n",
    "elif width_set == 'max':\n",
    "    width = 'WidthM_Max'\n",
    "    binn = 'Bin_Max'\n",
    "else:\n",
    "    print('Invalid width option specified, exiting.')\n",
    "    # sys.exit()"
   ]
  },
  {
   "cell_type": "code",
   "execution_count": 3,
   "id": "5330fb44-4474-48e8-b3f9-497e8848ca7c",
   "metadata": {},
   "outputs": [],
   "source": [
    "huc2 = '01' ### SET THIS\n",
    "data_path = '/nas/cee-water/cjgleason/data/SWOT/PIXC_v2_0_HUC2_' + huc2\n",
    "# save_dir ="
   ]
  },
  {
   "cell_type": "markdown",
   "id": "0c54b76a-2171-4a4b-92f5-e4b3f4f3f8df",
   "metadata": {
    "tags": []
   },
   "source": [
    "### Pixel Cloud"
   ]
  },
  {
   "cell_type": "code",
   "execution_count": 4,
   "id": "5bc56ba8-11e0-4b21-8829-1fce78256846",
   "metadata": {},
   "outputs": [],
   "source": [
    "# Get job index\n",
    "# slurm = int(os.environ['SLURM_ARRAY_TASK_ID'])\n",
    "index = 106"
   ]
  },
  {
   "cell_type": "code",
   "execution_count": 5,
   "id": "e7c349c8-83b0-4735-9d3d-c98d4edba32e",
   "metadata": {},
   "outputs": [],
   "source": [
    "huc2 = '01'\n",
    "file_path = '/nas/cee-water/cjgleason/fiona/narrow_rivers_PIXC/data/PIXC_v2_0_HUC2_' + huc2 + '_filtered.json'\n",
    "data = open_json(file_path)"
   ]
  },
  {
   "cell_type": "code",
   "execution_count": 6,
   "id": "85b6f73f-964f-4bda-a324-b6d4e710dc4d",
   "metadata": {},
   "outputs": [],
   "source": [
    "file_name = data[index]"
   ]
  },
  {
   "cell_type": "code",
   "execution_count": 7,
   "id": "900dad6e-8c22-4a17-a2f7-37ef07f35ca7",
   "metadata": {},
   "outputs": [
    {
     "name": "stdout",
     "output_type": "stream",
     "text": [
      "SWOT_L2_HR_PIXC_002_007_235R_20230811T080638_20230811T080649_PGC0_01\n"
     ]
    }
   ],
   "source": [
    "# Get data for this tile\n",
    "granule_name = file_name[:-3]\n",
    "tile_name = file_name[20:28]\n",
    "pass_num = int(file_name[20:23])\n",
    "\n",
    "print(granule_name)"
   ]
  },
  {
   "cell_type": "markdown",
   "id": "974aa2a9-a339-4bc6-9b58-9e6e7c6ec405",
   "metadata": {
    "tags": []
   },
   "source": [
    "#### Read in PIXC"
   ]
  },
  {
   "cell_type": "code",
   "execution_count": 8,
   "id": "2d8fd1d1-2236-438b-80c1-7adb5fd94092",
   "metadata": {},
   "outputs": [
    {
     "data": {
      "text/plain": [
       "'/nas/cee-water/cjgleason/data/SWOT/PIXC_v2_0_HUC2_01'"
      ]
     },
     "execution_count": 8,
     "metadata": {},
     "output_type": "execute_result"
    }
   ],
   "source": [
    "data_path"
   ]
  },
  {
   "cell_type": "code",
   "execution_count": 9,
   "id": "b6a2ddd5-b8ce-4b2d-8e04-12e41eecc1ce",
   "metadata": {},
   "outputs": [],
   "source": [
    "# Set PIXC filepath\n",
    "pixc_path = os.path.join(data_path, file_name)"
   ]
  },
  {
   "cell_type": "code",
   "execution_count": 10,
   "id": "aefb478b-ff8b-41b4-9576-0fdf0ba0a9c0",
   "metadata": {},
   "outputs": [],
   "source": [
    "# Read in pixel group\n",
    "ds_PIXC = xr.open_mfdataset(paths=pixc_path, group = 'pixel_cloud', engine='h5netcdf')"
   ]
  },
  {
   "cell_type": "code",
   "execution_count": 11,
   "id": "d24e4b2e-f676-4cec-9148-0d937d20a08e",
   "metadata": {},
   "outputs": [],
   "source": [
    "# ds_PIXC"
   ]
  },
  {
   "cell_type": "code",
   "execution_count": 12,
   "id": "ed0d7129-21fd-4865-8b35-4ff2afc93f9d",
   "metadata": {},
   "outputs": [],
   "source": [
    "def bitwiseMask(ds):\n",
    "    '''\n",
    "    This function masks a PIXC granules: for now, it ony remove pixels\n",
    "    with land classification and those with bad geolocation_qual.\n",
    "    # See page 65 of PIXC PDD: https://podaac.jpl.nasa.gov/SWOT?tab=datasets-information&sections=about%2Bdata\n",
    "    '''\n",
    "    # Fow now, eliminate the really bad stuff\n",
    "    mask = np.where((ds.classification > 1) & \n",
    "                    (ds.interferogram_qual < 2**7) & (ds.classification_qual < 2**7) &\n",
    "                    (ds.geolocation_qual < 2**7) & (ds.sig0_qual < 2**7) &\n",
    "                    (np.abs(ds.cross_track) > 10000) & (np.abs(ds.cross_track) < 60000))[0]\n",
    "    \n",
    "    print(mask.shape)\n",
    "    return mask"
   ]
  },
  {
   "cell_type": "code",
   "execution_count": 13,
   "id": "993471a7-b1b5-41bc-8401-1a03c47fe554",
   "metadata": {},
   "outputs": [
    {
     "name": "stdout",
     "output_type": "stream",
     "text": [
      "(742270,)\n"
     ]
    }
   ],
   "source": [
    "# Make mask\n",
    "mask = bitwiseMask(ds_PIXC)\n",
    "\n",
    "if mask.shape[0] == 0:\n",
    "    print('This granule has no pixels after masking, exiting.')\n",
    "    # sys.exit(1)    "
   ]
  },
  {
   "cell_type": "code",
   "execution_count": 14,
   "id": "daa9c587-4d39-40f3-9a7f-374fed33b165",
   "metadata": {},
   "outputs": [],
   "source": [
    "# Set desired data vars\n",
    "variables = ['azimuth_index', 'range_index', 'cross_track',\n",
    "             'pixel_area', 'height', 'geoid', 'solid_earth_tide', ## HERE\n",
    "             'load_tide_fes', 'pole_tide', 'prior_water_prob', ## HERE\n",
    "             'classification']"
   ]
  },
  {
   "cell_type": "code",
   "execution_count": 15,
   "id": "37bc9371-c418-4578-851d-950ee3261a55",
   "metadata": {},
   "outputs": [],
   "source": [
    "# Convert PIXC to GeoDataFrame\n",
    "gdf_PIXC = makeGDF(ds=ds_PIXC, mask=mask, data_vars=variables)"
   ]
  },
  {
   "cell_type": "code",
   "execution_count": 16,
   "id": "56a549dd-36cd-4030-84e1-359ec3e377fe",
   "metadata": {},
   "outputs": [],
   "source": [
    "del ds_PIXC"
   ]
  },
  {
   "cell_type": "markdown",
   "id": "67de04c0-8e96-4b5d-be2b-0ca295d75273",
   "metadata": {},
   "source": [
    "### Find correct HUC4s"
   ]
  },
  {
   "cell_type": "code",
   "execution_count": 17,
   "id": "af1db866-f656-41d6-bde7-383044114334",
   "metadata": {},
   "outputs": [],
   "source": [
    "### NHDPlus HR\n",
    "## Find correct HUC4s\n",
    "# Read in tile and HUC4 intersection data\n",
    "mdata_path = '/nas/cee-water/cjgleason/fiona/narrow_rivers_PIXC/data/'\n",
    "dtype_dic= {'tile': str, 'huc4': str, 'coverage': float}\n",
    "tile_huc4 = pd.read_csv(os.path.join(mdata_path,\n",
    "                                    'huc4_swot_science_tiles.csv'),\n",
    "                        dtype=dtype_dic)"
   ]
  },
  {
   "cell_type": "code",
   "execution_count": 18,
   "id": "6c241cb3-e5b4-43b8-86f2-9d8c0afdff10",
   "metadata": {},
   "outputs": [],
   "source": [
    "# Make list of HUC4s that intersect the tile\n",
    "hucs = list(tile_huc4[(tile_huc4['tile'] == tile_name)]['huc4'])\n",
    "# Limit to the current HUC2\n",
    "hucs = [x for x in hucs if x.startswith(huc2)]"
   ]
  },
  {
   "cell_type": "code",
   "execution_count": 19,
   "id": "d97ee289-b5c4-4952-9521-71c052b8861b",
   "metadata": {},
   "outputs": [
    {
     "data": {
      "text/plain": [
       "['0101', '0102', '0105']"
      ]
     },
     "execution_count": 19,
     "metadata": {},
     "output_type": "execute_result"
    }
   ],
   "source": [
    "hucs"
   ]
  },
  {
   "cell_type": "code",
   "execution_count": 20,
   "id": "ff7ccdd0-2b70-4c2f-9956-0c217fd033f5",
   "metadata": {},
   "outputs": [],
   "source": [
    "# # Get NHD index metadata\n",
    "# # Define dtypes for lookup tables to preserve leading zeros\n",
    "# dtype_dic= {'HUC4': str, 'HUC2': str, 'toBasin': str, 'level': str}\n",
    "# # Read in HUC lookup table\n",
    "# huc_lookup = pd.read_csv(os.path.join(mdata_path,\n",
    "#                                   'HUC4_lookup_no_great_lakes.csv'),\n",
    "#                      dtype=dtype_dic)"
   ]
  },
  {
   "cell_type": "code",
   "execution_count": 21,
   "id": "54816995-c079-4e3b-b9f3-4730303297c2",
   "metadata": {},
   "outputs": [],
   "source": [
    "# # Extract indices for read-in\n",
    "# indices = list(huc_lookup[huc_lookup['HUC4'].isin(hucs)]['slurm_index'])"
   ]
  },
  {
   "cell_type": "markdown",
   "id": "8e4a50c6-9306-4d1e-853a-739263c0fe9e",
   "metadata": {
    "tags": []
   },
   "source": [
    "### Read in buffered flowlines with extra"
   ]
  },
  {
   "cell_type": "code",
   "execution_count": 22,
   "id": "1606b8aa-f3b1-4d4c-b945-d3f64a65635c",
   "metadata": {},
   "outputs": [],
   "source": [
    "data_path = '/nas/cee-water/cjgleason/fiona/narrow_rivers_PIXC_data/NHD_prepped_buffered_extra/HUC2_' + huc2 + '/'"
   ]
  },
  {
   "cell_type": "code",
   "execution_count": 23,
   "id": "dc718b97-a99c-4c77-87d5-47c41ed8a49f",
   "metadata": {},
   "outputs": [],
   "source": [
    "file_paths = []\n",
    "\n",
    "for huc in hucs:\n",
    "    file_path = data_path + 'NHDPLUS_H_' + huc + '_HU4_GDB_prepped_buffered_extra_' + width_set + '.parquet'\n",
    "    file_paths.append(file_path)"
   ]
  },
  {
   "cell_type": "code",
   "execution_count": 24,
   "id": "bd6cb8c8-7bc4-4d7d-a48f-22556de80e3f",
   "metadata": {},
   "outputs": [
    {
     "data": {
      "text/plain": [
       "['/nas/cee-water/cjgleason/fiona/narrow_rivers_PIXC_data/NHD_prepped_buffered_extra/HUC2_01/NHDPLUS_H_0101_HU4_GDB_prepped_buffered_extra_min.parquet',\n",
       " '/nas/cee-water/cjgleason/fiona/narrow_rivers_PIXC_data/NHD_prepped_buffered_extra/HUC2_01/NHDPLUS_H_0102_HU4_GDB_prepped_buffered_extra_min.parquet',\n",
       " '/nas/cee-water/cjgleason/fiona/narrow_rivers_PIXC_data/NHD_prepped_buffered_extra/HUC2_01/NHDPLUS_H_0105_HU4_GDB_prepped_buffered_extra_min.parquet']"
      ]
     },
     "execution_count": 24,
     "metadata": {},
     "output_type": "execute_result"
    }
   ],
   "source": [
    "file_paths"
   ]
  },
  {
   "cell_type": "code",
   "execution_count": 25,
   "id": "a3024ad7-ba58-4910-8213-74a918a0117f",
   "metadata": {},
   "outputs": [],
   "source": [
    "# # Create merged dataframe of all flowlines intersected\n",
    "# if len(indices) == 1:\n",
    "#     # Read prepped NHD\n",
    "#     flowlines, _, _,  = readNHD(index=indices[0])\n",
    "#     # huc4_list, huc2_list = readNHD(index=indices[0])\n",
    "# else:\n",
    "#     # Initialize lists\n",
    "#     d = []\n",
    "#     # huc4_list = []\n",
    "#     # huc2_list = []\n",
    "#     # Loop through indices and store in lists\n",
    "#     for i in indices:\n",
    "#         # Read prepped NHD\n",
    "#         flowlines, _, _ = readNHD(index=i)\n",
    "#         # huc4, huc2 = readNHD(index=i)\n",
    "#         # Append to lists\n",
    "#         d.append(flowlines)\n",
    "#         # huc4_list.append(huc4) # I DON'T DO ANYTHING WITH THIS\n",
    "#         # huc2_list.append(huc2) # I DON'T DO ANYTHING WITH THIS\n",
    "#     # Merge GeoDataFrames\n",
    "#     flowlines = pd.concat(d)"
   ]
  },
  {
   "cell_type": "code",
   "execution_count": 39,
   "id": "f2194e9d-329b-4887-bbf9-f06bc24f6dd5",
   "metadata": {},
   "outputs": [],
   "source": [
    "reach_mask = dask_geopandas.read_parquet(path=file_paths, columns=['NHDPlusID', 'buffers'])"
   ]
  },
  {
   "cell_type": "code",
   "execution_count": 40,
   "id": "bba945ae-9efd-4603-a810-19ebb76a2c76",
   "metadata": {},
   "outputs": [],
   "source": [
    "reach_mask = reach_mask.compute()"
   ]
  },
  {
   "cell_type": "code",
   "execution_count": 41,
   "id": "5dc34276-378a-45a2-ad78-7df5683bb644",
   "metadata": {},
   "outputs": [
    {
     "data": {
      "text/html": [
       "<div>\n",
       "<style scoped>\n",
       "    .dataframe tbody tr th:only-of-type {\n",
       "        vertical-align: middle;\n",
       "    }\n",
       "\n",
       "    .dataframe tbody tr th {\n",
       "        vertical-align: top;\n",
       "    }\n",
       "\n",
       "    .dataframe thead th {\n",
       "        text-align: right;\n",
       "    }\n",
       "</style>\n",
       "<table border=\"1\" class=\"dataframe\">\n",
       "  <thead>\n",
       "    <tr style=\"text-align: right;\">\n",
       "      <th></th>\n",
       "      <th>NHDPlusID</th>\n",
       "      <th>buffers</th>\n",
       "    </tr>\n",
       "  </thead>\n",
       "  <tbody>\n",
       "    <tr>\n",
       "      <th>0</th>\n",
       "      <td>5.000100e+12</td>\n",
       "      <td>POLYGON ((-7556065.155 5901238.694, -7556063.1...</td>\n",
       "    </tr>\n",
       "    <tr>\n",
       "      <th>1</th>\n",
       "      <td>5.000100e+12</td>\n",
       "      <td>POLYGON ((-7555956.36 5901220.07, -7555959.009...</td>\n",
       "    </tr>\n",
       "    <tr>\n",
       "      <th>2</th>\n",
       "      <td>5.000100e+12</td>\n",
       "      <td>POLYGON ((-7555456.182 5905189.369, -7555351.7...</td>\n",
       "    </tr>\n",
       "    <tr>\n",
       "      <th>3</th>\n",
       "      <td>5.000100e+12</td>\n",
       "      <td>POLYGON ((-7556267.55 5911622.722, -7556257.22...</td>\n",
       "    </tr>\n",
       "    <tr>\n",
       "      <th>4</th>\n",
       "      <td>5.000100e+12</td>\n",
       "      <td>POLYGON ((-7555177.369 5910114.686, -7555191.6...</td>\n",
       "    </tr>\n",
       "    <tr>\n",
       "      <th>...</th>\n",
       "      <td>...</td>\n",
       "      <td>...</td>\n",
       "    </tr>\n",
       "    <tr>\n",
       "      <th>17740</th>\n",
       "      <td>5.000200e+12</td>\n",
       "      <td>POLYGON ((-7554606.833 5613571.625, -7554479.7...</td>\n",
       "    </tr>\n",
       "    <tr>\n",
       "      <th>17741</th>\n",
       "      <td>5.000200e+12</td>\n",
       "      <td>POLYGON ((-7475728.83 5640963.938, -7475732.38...</td>\n",
       "    </tr>\n",
       "    <tr>\n",
       "      <th>17742</th>\n",
       "      <td>5.000200e+12</td>\n",
       "      <td>POLYGON ((-7585929.787 5615446.411, -7585869.3...</td>\n",
       "    </tr>\n",
       "    <tr>\n",
       "      <th>17743</th>\n",
       "      <td>5.000200e+12</td>\n",
       "      <td>POLYGON ((-7533892.664 5607799.685, -7533889.9...</td>\n",
       "    </tr>\n",
       "    <tr>\n",
       "      <th>17744</th>\n",
       "      <td>5.000200e+12</td>\n",
       "      <td>POLYGON ((-7570814.664 5549813.73, -7570811.85...</td>\n",
       "    </tr>\n",
       "  </tbody>\n",
       "</table>\n",
       "<p>55347 rows × 2 columns</p>\n",
       "</div>"
      ],
      "text/plain": [
       "          NHDPlusID                                            buffers\n",
       "0      5.000100e+12  POLYGON ((-7556065.155 5901238.694, -7556063.1...\n",
       "1      5.000100e+12  POLYGON ((-7555956.36 5901220.07, -7555959.009...\n",
       "2      5.000100e+12  POLYGON ((-7555456.182 5905189.369, -7555351.7...\n",
       "3      5.000100e+12  POLYGON ((-7556267.55 5911622.722, -7556257.22...\n",
       "4      5.000100e+12  POLYGON ((-7555177.369 5910114.686, -7555191.6...\n",
       "...             ...                                                ...\n",
       "17740  5.000200e+12  POLYGON ((-7554606.833 5613571.625, -7554479.7...\n",
       "17741  5.000200e+12  POLYGON ((-7475728.83 5640963.938, -7475732.38...\n",
       "17742  5.000200e+12  POLYGON ((-7585929.787 5615446.411, -7585869.3...\n",
       "17743  5.000200e+12  POLYGON ((-7533892.664 5607799.685, -7533889.9...\n",
       "17744  5.000200e+12  POLYGON ((-7570814.664 5549813.73, -7570811.85...\n",
       "\n",
       "[55347 rows x 2 columns]"
      ]
     },
     "execution_count": 41,
     "metadata": {},
     "output_type": "execute_result"
    }
   ],
   "source": [
    "reach_mask"
   ]
  },
  {
   "cell_type": "code",
   "execution_count": 28,
   "id": "2d85aef5-6afd-400d-9ef4-ce7776e46455",
   "metadata": {},
   "outputs": [],
   "source": [
    "# # Project CRS (currently to WGS 84 / UTM zone 18N) \n",
    "# flowlines = flowlines.to_crs(epsg=3857)"
   ]
  },
  {
   "cell_type": "code",
   "execution_count": 29,
   "id": "fa5fa3a8-8e3a-4eca-90f9-7386701158a5",
   "metadata": {},
   "outputs": [],
   "source": [
    "# pandarallel.initialize(nb_workers=int(os.environ.get('SLURM_CPUS_PER_TASK')))"
   ]
  },
  {
   "cell_type": "code",
   "execution_count": 30,
   "id": "ac849696-fa37-4a78-b96e-97ae7a13f8d3",
   "metadata": {},
   "outputs": [],
   "source": [
    "# start = time.time()\n",
    "# # Args are the width, cap_style, segmented=False, extra=False\n",
    "# # Buffering with extra distance to capture pixels that would overlap\n",
    "# # once converted to pseudo-pixels\n",
    "# flowlines['buffer'] = flowlines.parallel_apply(user_defined_function=specialBuffer,\n",
    "#                                                          args=(width,\n",
    "#                                                                'flat', False, True),\n",
    "#                                                          axis=1)\n",
    "# end = time.time()\n",
    "# print(end - start)"
   ]
  },
  {
   "cell_type": "code",
   "execution_count": 31,
   "id": "5548c6b5-dbb6-4057-a10d-031ad6b49120",
   "metadata": {},
   "outputs": [],
   "source": [
    "# # Set geometry to buffered reaches\n",
    "# flowlines = flowlines.set_geometry('buffer').set_crs(epsg=3857)"
   ]
  },
  {
   "cell_type": "code",
   "execution_count": 32,
   "id": "b01bcbff-a463-4c77-b4af-66893aab8418",
   "metadata": {},
   "outputs": [],
   "source": [
    "# flowlines.crs"
   ]
  },
  {
   "cell_type": "code",
   "execution_count": 44,
   "id": "d30b2202-6fc8-441d-a37d-50cca6e4352f",
   "metadata": {},
   "outputs": [],
   "source": [
    "# Clip masked pixels to buffered reaches\n",
    "gdf_PIXC_clip = gpd.sjoin(gdf_PIXC, reach_mask, how='inner', predicate='within').reset_index().drop(columns=['index', 'index_right'])"
   ]
  },
  {
   "cell_type": "code",
   "execution_count": 113,
   "id": "457f7fc7-0c88-4c63-ab2e-91925f498c4d",
   "metadata": {},
   "outputs": [],
   "source": [
    "# gdf_PIXC_clip"
   ]
  },
  {
   "cell_type": "code",
   "execution_count": 46,
   "id": "2ce0ed83-fac7-49c0-a144-56cc42745e38",
   "metadata": {},
   "outputs": [],
   "source": [
    "if gdf_PIXC_clip.shape[0] == 0:\n",
    "    print('This granule has no pixels that intersect reaches, exiting.')\n",
    "    # sys.exit() "
   ]
  },
  {
   "cell_type": "code",
   "execution_count": 47,
   "id": "dfe54ee0-9241-4b63-b074-8985362fb714",
   "metadata": {},
   "outputs": [],
   "source": [
    "del gdf_PIXC, reach_mask"
   ]
  },
  {
   "cell_type": "code",
   "execution_count": 48,
   "id": "2f18adb5-7c9a-4548-9900-8046bd621bf4",
   "metadata": {},
   "outputs": [],
   "source": [
    "# # Drop unneeded cols\n",
    "# gdf_PIXC_clip = gdf_PIXC_clip.drop(columns=['index_right', 'NHDPlusID',\n",
    "#                                             'GNIS_Name', 'LengthKM',\n",
    "#                                             'WidthM', 'WidthM_Min',\n",
    "#                                             'WidthM_Max', 'Bin', 'Bin_Min',\n",
    "#                                             'Bin_Max'#, 'geometry_right'\n",
    "#                                            ])"
   ]
  },
  {
   "cell_type": "code",
   "execution_count": null,
   "id": "e3dab0c0-ebf2-4f0f-8417-0610c31bd14a",
   "metadata": {},
   "outputs": [],
   "source": [
    "### STOPPED HERE 02-25-25"
   ]
  },
  {
   "cell_type": "markdown",
   "id": "97e0a9cb-0326-4126-8c16-a863f5891f6d",
   "metadata": {
    "tags": []
   },
   "source": [
    "### Nadir track"
   ]
  },
  {
   "cell_type": "code",
   "execution_count": 65,
   "id": "3296b62c-896b-49d9-a09f-9795daaedb2e",
   "metadata": {},
   "outputs": [],
   "source": [
    "# Get single pixel for selecting correct nadir segment\n",
    "pixel_pt = gdf_PIXC_clip.iloc[0].geometry"
   ]
  },
  {
   "cell_type": "code",
   "execution_count": 66,
   "id": "16ed2efd-7ef6-432d-bbcb-f93e6dd58a0f",
   "metadata": {},
   "outputs": [
    {
     "name": "stderr",
     "output_type": "stream",
     "text": [
      "/work/pi_cjgleason_umass_edu/.conda/envs/narrowPIXC/lib/python3.12/site-packages/geopandas/geodataframe.py:1819: SettingWithCopyWarning: \n",
      "A value is trying to be set on a copy of a slice from a DataFrame.\n",
      "Try using .loc[row_indexer,col_indexer] = value instead\n",
      "\n",
      "See the caveats in the documentation: https://pandas.pydata.org/pandas-docs/stable/user_guide/indexing.html#returning-a-view-versus-a-copy\n",
      "  super().__setitem__(key, value)\n"
     ]
    }
   ],
   "source": [
    "# Find correct nadir segment and return its geometry\n",
    "nadir_segment_ln = findNadir(pass_num=pass_num, pixel_pt=pixel_pt)"
   ]
  },
  {
   "cell_type": "code",
   "execution_count": 67,
   "id": "e674a907-f6dc-44af-a7ef-61fad6885dab",
   "metadata": {},
   "outputs": [
    {
     "data": {
      "image/svg+xml": [
       "<svg xmlns=\"http://www.w3.org/2000/svg\" xmlns:xlink=\"http://www.w3.org/1999/xlink\" width=\"300\" height=\"300\" viewBox=\"-7719704.372098443 5389665.547683533 923535.6086519277 2512524.0003024014\" preserveAspectRatio=\"xMinYMin meet\"><g transform=\"matrix(1,0,0,-1,0,13291855.095669467)\"><polyline fill=\"none\" stroke=\"#66cc99\" stroke-width=\"16750.160002016008\" points=\"-7626647.927642799,5482721.992139177 -7608934.102350826,5551242.435053944 -7585990.932659353,5638632.832211374 -7562506.861562114,5726783.469691866 -7538461.294953313,5815713.351858365 -7513831.968934793,5905441.944030833 -7488596.17433043,5995989.521009937 -7462729.643491229,6087376.209598151 -7436207.21821228,6179623.150121861 -7409002.293135273,6272751.698011044 -7381087.149707008,6366783.772515026 -7352432.399581912,6461741.707985743 -7323007.429900019,6557648.620844276 -7292779.846689503,6654527.913892565 -7261715.586186182,6752403.463327939 -7229778.914833522,6851299.454624188 -7196931.984004641,6951241.3106593955 -7163135.16396082,7052253.890901494 -7128346.487254035,7154363.330324901 -7092521.537407454,7257595.957894707 -7055613.894193416,7361978.485955988 -7017573.909119029,7467537.820203938 -6978349.707301585,7574301.650300844 -6937886.074273645,7682297.672975587 -6896124.567302546,7791553.977984909 -6889225.20790216,7809133.103530291\" opacity=\"0.8\" /></g></svg>"
      ],
      "text/plain": [
       "<LINESTRING (-7626647.928 5482721.992, -7608934.102 5551242.435, -7585990.93...>"
      ]
     },
     "execution_count": 67,
     "metadata": {},
     "output_type": "execute_result"
    }
   ],
   "source": [
    "nadir_segment_ln"
   ]
  },
  {
   "cell_type": "markdown",
   "id": "a871747d-de7c-453d-9c3a-3a0cd249f9dc",
   "metadata": {},
   "source": [
    "### Find alignment"
   ]
  },
  {
   "cell_type": "code",
   "execution_count": 68,
   "id": "353125db-2adb-4d2b-b552-ade3d723f735",
   "metadata": {},
   "outputs": [],
   "source": [
    "az_nadir = calcAzimuth(line=nadir_segment_ln)"
   ]
  },
  {
   "cell_type": "code",
   "execution_count": 69,
   "id": "4c87a99d-437a-48ae-a591-70e9650623a9",
   "metadata": {},
   "outputs": [
    {
     "data": {
      "text/plain": [
       "72.41249500094567"
      ]
     },
     "execution_count": 69,
     "metadata": {},
     "output_type": "execute_result"
    }
   ],
   "source": [
    "az_nadir"
   ]
  },
  {
   "cell_type": "markdown",
   "id": "6410b65a-d00f-4078-a5dc-7f305f4aa9e2",
   "metadata": {},
   "source": [
    "#### Read in flowlines"
   ]
  },
  {
   "cell_type": "code",
   "execution_count": 70,
   "id": "53fc8e68-33d8-42bd-8183-c02f0579e496",
   "metadata": {},
   "outputs": [],
   "source": [
    "data_path = '/nas/cee-water/cjgleason/fiona/narrow_rivers_PIXC_data/NHD_prepped/HUC2_' + huc2 + '/'"
   ]
  },
  {
   "cell_type": "code",
   "execution_count": 71,
   "id": "7e0286c2-ff9b-418a-b2c9-470a2d61552a",
   "metadata": {},
   "outputs": [],
   "source": [
    "file_paths = []\n",
    "\n",
    "for huc in hucs:\n",
    "    file_path = data_path + 'NHDPLUS_H_' + huc + '_HU4_GDB_prepped.parquet'\n",
    "    file_paths.append(file_path)"
   ]
  },
  {
   "cell_type": "code",
   "execution_count": 72,
   "id": "773089a2-b259-48bf-8dc2-fd2d69724261",
   "metadata": {},
   "outputs": [],
   "source": [
    "fields = ['NHDPlusID', 'GNIS_Name', 'LengthKM', 'WidthM', 'WidthM_Min',\n",
    "          'WidthM_Max', 'Bin', 'Bin_Min', 'Bin_Max', 'StreamOrde',\n",
    "          'Slope', 'geometry']"
   ]
  },
  {
   "cell_type": "code",
   "execution_count": 97,
   "id": "ea54cbf4-0729-42c3-a19d-ab3b461de793",
   "metadata": {},
   "outputs": [],
   "source": [
    "flowlines = dask_geopandas.read_parquet(path=file_paths, columns=fields)"
   ]
  },
  {
   "cell_type": "code",
   "execution_count": 98,
   "id": "b2e5d93f-9094-4cbe-8aa8-aca074e59b55",
   "metadata": {},
   "outputs": [],
   "source": [
    "flowlines = flowlines.compute()"
   ]
  },
  {
   "cell_type": "code",
   "execution_count": 99,
   "id": "79500dfd-e2cf-48fa-a619-e46d656e6008",
   "metadata": {},
   "outputs": [],
   "source": [
    "flowlines.loc[:,'geometry'] = flowlines.geometry.explode().force_2d()"
   ]
  },
  {
   "cell_type": "code",
   "execution_count": 100,
   "id": "dc949b85-fcb9-4b03-b480-fc120934d91d",
   "metadata": {},
   "outputs": [
    {
     "name": "stdout",
     "output_type": "stream",
     "text": [
      "INFO: Pandarallel will run on 2 workers.\n",
      "INFO: Pandarallel will use Memory file system to transfer data between the main process and workers.\n"
     ]
    }
   ],
   "source": [
    "pandarallel.initialize(nb_workers=int(os.environ.get('SLURM_CPUS_PER_TASK')))"
   ]
  },
  {
   "cell_type": "code",
   "execution_count": 101,
   "id": "cc766e1e-24de-4676-a0f4-55d19925e51c",
   "metadata": {},
   "outputs": [],
   "source": [
    "def calcAzSin(df):\n",
    "    # Set-up\n",
    "    line = df.geometry\n",
    "    x_coords = [coord[0] for coord in line.coords]\n",
    "    y_coords = [coord[1] for coord in line.coords]\n",
    "    \n",
    "    # Regress\n",
    "    result = linregress(x_coords, y_coords)\n",
    "    slope = result.slope\n",
    "    intercept = result.intercept\n",
    "    \n",
    "    # Find deltas\n",
    "    dx = x_coords[-1] - x_coords[0]\n",
    "    dy = y_coords[-1] - y_coords[0]\n",
    "    dy_reg = (slope*x_coords[-1] + intercept) - y_coords[0]\n",
    "    \n",
    "    # Find azimuth\n",
    "    azimuth = math.degrees(math.atan2(dy_reg, dx))\n",
    "        \n",
    "    if azimuth < 0:\n",
    "        azimuth += 360\n",
    "    \n",
    "    # Find sinuosity\n",
    "    distance = np.sqrt(dx**2 + dy**2)\n",
    "    \n",
    "    sinuosity = line.length/distance\n",
    "    \n",
    "    return azimuth, sinuosity"
   ]
  },
  {
   "cell_type": "code",
   "execution_count": 102,
   "id": "7370cd2c-db39-49e5-83b0-902b95a406c8",
   "metadata": {},
   "outputs": [],
   "source": [
    "flowlines['temp'] = flowlines.parallel_apply(user_defined_function=calcAzSin, axis=1)"
   ]
  },
  {
   "cell_type": "code",
   "execution_count": 106,
   "id": "9607199c-eded-4c19-a976-33975b5b2451",
   "metadata": {},
   "outputs": [],
   "source": [
    "flowlines[['alignment', 'sinuosity']] = pd.DataFrame(flowlines['temp'].tolist(), index=flowlines.index)\n",
    "flowlines = flowlines.drop(columns='temp')"
   ]
  },
  {
   "cell_type": "markdown",
   "id": "6af80e8a-07ba-4f91-8636-b12874ac4bd1",
   "metadata": {},
   "source": [
    "### Make pseudo pixels"
   ]
  },
  {
   "cell_type": "code",
   "execution_count": 108,
   "id": "551e670e-f660-4137-b0ad-555e44b9a7a1",
   "metadata": {},
   "outputs": [],
   "source": [
    "# Set along-track pixel resolution\n",
    "azimuth_res = 22 # meters"
   ]
  },
  {
   "cell_type": "code",
   "execution_count": 109,
   "id": "b55b182b-82e9-4931-a2f6-bb21f8760149",
   "metadata": {},
   "outputs": [
    {
     "name": "stdout",
     "output_type": "stream",
     "text": [
      "4.783907413482666\n"
     ]
    }
   ],
   "source": [
    "# Make pseudo pixels\n",
    "start = time.time()\n",
    "gdf_PIXC_clip['pseudo_pixel'] = gdf_PIXC_clip.parallel_apply(user_defined_function=makePseudoPixels,\n",
    "                                                         args=(nadir_segment_ln,\n",
    "                                                               azimuth_res),\n",
    "                                                         axis=1)\n",
    "end = time.time()\n",
    "print(end - start)"
   ]
  },
  {
   "cell_type": "code",
   "execution_count": null,
   "id": "d48d2577-f46b-4b89-95ce-e6e2d3894f45",
   "metadata": {},
   "outputs": [],
   "source": [
    "# fig, ax = plt.subplots(figsize=(8,8))\n",
    "# gdf_PIXC_clip.iloc[5:10]['pseudo_pixel'].plot(ax=ax, alpha=0.5, color='y')\n",
    "# gdf_PIXC_clip.iloc[5:10].plot(ax=ax, markersize=5, color='hotpink')"
   ]
  },
  {
   "cell_type": "code",
   "execution_count": 110,
   "id": "e876d8aa-3055-4632-8cce-098926468f89",
   "metadata": {},
   "outputs": [],
   "source": [
    "# xxxWHY NOT JUST KEEP THE SAME DATA FRAME AND DROP THE UNWANTED COLS?\n",
    "# pseudo = gdf_PIXC_clip.drop(columns='geometry').set_geometry('pseudo_pixel').set_crs(crs=gdf_PIXC_clip.crs)\n",
    "gdf_PIXC_clip = gdf_PIXC_clip.rename(columns={'geometry': 'pixel_centroid'}).set_geometry('pseudo_pixel').set_crs(epsg=3857)"
   ]
  },
  {
   "cell_type": "code",
   "execution_count": 111,
   "id": "17fa13af-60b3-461f-9ad7-b4182e728520",
   "metadata": {},
   "outputs": [],
   "source": [
    "# Get bounds of PIXC tile\n",
    "pseudo_bounds = gdf_PIXC_clip.total_bounds\n",
    "# Copy geometry column as sjoin will discard it\n",
    "gdf_PIXC_clip['pseudo_geom'] = gdf_PIXC_clip.geometry\n",
    "# pseudo_poly = box(pseudo_bounds[0], pseudo_bounds[1],\n",
    "#                       pseudo_bounds[2], pseudo_bounds[3])\n",
    "# gdf_pseudo_bounds = gpd.GeoDataFrame({'geometry': [pseudo_bounds]}, crs=pseudo.crs)"
   ]
  },
  {
   "cell_type": "code",
   "execution_count": 112,
   "id": "240322f8-f90d-4653-b065-07158a2786e5",
   "metadata": {},
   "outputs": [
    {
     "data": {
      "text/html": [
       "<div>\n",
       "<style scoped>\n",
       "    .dataframe tbody tr th:only-of-type {\n",
       "        vertical-align: middle;\n",
       "    }\n",
       "\n",
       "    .dataframe tbody tr th {\n",
       "        vertical-align: top;\n",
       "    }\n",
       "\n",
       "    .dataframe thead th {\n",
       "        text-align: right;\n",
       "    }\n",
       "</style>\n",
       "<table border=\"1\" class=\"dataframe\">\n",
       "  <thead>\n",
       "    <tr style=\"text-align: right;\">\n",
       "      <th></th>\n",
       "      <th>points</th>\n",
       "      <th>azimuth_index</th>\n",
       "      <th>range_index</th>\n",
       "      <th>cross_track</th>\n",
       "      <th>pixel_area</th>\n",
       "      <th>height</th>\n",
       "      <th>geoid</th>\n",
       "      <th>prior_water_prob</th>\n",
       "      <th>klass</th>\n",
       "      <th>latitude</th>\n",
       "      <th>longitude</th>\n",
       "      <th>pixel_centroid</th>\n",
       "      <th>NHDPlusID</th>\n",
       "      <th>pseudo_pixel</th>\n",
       "      <th>pseudo_geom</th>\n",
       "    </tr>\n",
       "  </thead>\n",
       "  <tbody>\n",
       "    <tr>\n",
       "      <th>0</th>\n",
       "      <td>150</td>\n",
       "      <td>161.0</td>\n",
       "      <td>1229.0</td>\n",
       "      <td>22959.318359</td>\n",
       "      <td>561.194397</td>\n",
       "      <td>84.104378</td>\n",
       "      <td>-24.635891</td>\n",
       "      <td>0.00</td>\n",
       "      <td>2.0</td>\n",
       "      <td>45.388731</td>\n",
       "      <td>-67.751455</td>\n",
       "      <td>POINT (-7542057.427 5682928.174)</td>\n",
       "      <td>5.000200e+12</td>\n",
       "      <td>POLYGON ((-7542066.92 5682942.086, -7542072.58...</td>\n",
       "      <td>POLYGON ((-7542066.92 5682942.086, -7542072.58...</td>\n",
       "    </tr>\n",
       "    <tr>\n",
       "      <th>1</th>\n",
       "      <td>151</td>\n",
       "      <td>161.0</td>\n",
       "      <td>1230.0</td>\n",
       "      <td>22985.056641</td>\n",
       "      <td>560.567139</td>\n",
       "      <td>81.963776</td>\n",
       "      <td>-24.636068</td>\n",
       "      <td>0.00</td>\n",
       "      <td>3.0</td>\n",
       "      <td>45.388843</td>\n",
       "      <td>-67.752044</td>\n",
       "      <td>POINT (-7542123.07 5682946.028)</td>\n",
       "      <td>5.000200e+12</td>\n",
       "      <td>POLYGON ((-7542132.549 5682959.937, -7542138.2...</td>\n",
       "      <td>POLYGON ((-7542132.549 5682959.937, -7542138.2...</td>\n",
       "    </tr>\n",
       "    <tr>\n",
       "      <th>2</th>\n",
       "      <td>152</td>\n",
       "      <td>161.0</td>\n",
       "      <td>1231.0</td>\n",
       "      <td>23010.769531</td>\n",
       "      <td>559.941895</td>\n",
       "      <td>83.854668</td>\n",
       "      <td>-24.635729</td>\n",
       "      <td>0.00</td>\n",
       "      <td>2.0</td>\n",
       "      <td>45.388629</td>\n",
       "      <td>-67.750925</td>\n",
       "      <td>POINT (-7541998.523 5682912.155)</td>\n",
       "      <td>5.000200e+12</td>\n",
       "      <td>POLYGON ((-7542007.988 5682926.06, -7542013.65...</td>\n",
       "      <td>POLYGON ((-7542007.988 5682926.06, -7542013.65...</td>\n",
       "    </tr>\n",
       "    <tr>\n",
       "      <th>3</th>\n",
       "      <td>155</td>\n",
       "      <td>161.0</td>\n",
       "      <td>1234.0</td>\n",
       "      <td>23089.482422</td>\n",
       "      <td>558.036499</td>\n",
       "      <td>78.806297</td>\n",
       "      <td>-24.636089</td>\n",
       "      <td>0.00</td>\n",
       "      <td>2.0</td>\n",
       "      <td>45.388856</td>\n",
       "      <td>-67.752111</td>\n",
       "      <td>POINT (-7542130.478 5682948.055)</td>\n",
       "      <td>5.000200e+12</td>\n",
       "      <td>POLYGON ((-7542139.901 5682961.949, -7542145.5...</td>\n",
       "      <td>POLYGON ((-7542139.901 5682961.949, -7542145.5...</td>\n",
       "    </tr>\n",
       "    <tr>\n",
       "      <th>4</th>\n",
       "      <td>156</td>\n",
       "      <td>161.0</td>\n",
       "      <td>1235.0</td>\n",
       "      <td>23115.082031</td>\n",
       "      <td>557.419617</td>\n",
       "      <td>79.239677</td>\n",
       "      <td>-24.635937</td>\n",
       "      <td>0.00</td>\n",
       "      <td>2.0</td>\n",
       "      <td>45.388760</td>\n",
       "      <td>-67.751609</td>\n",
       "      <td>POINT (-7542074.596 5682932.858)</td>\n",
       "      <td>5.000200e+12</td>\n",
       "      <td>POLYGON ((-7542084.005 5682946.749, -7542089.6...</td>\n",
       "      <td>POLYGON ((-7542084.005 5682946.749, -7542089.6...</td>\n",
       "    </tr>\n",
       "    <tr>\n",
       "      <th>...</th>\n",
       "      <td>...</td>\n",
       "      <td>...</td>\n",
       "      <td>...</td>\n",
       "      <td>...</td>\n",
       "      <td>...</td>\n",
       "      <td>...</td>\n",
       "      <td>...</td>\n",
       "      <td>...</td>\n",
       "      <td>...</td>\n",
       "      <td>...</td>\n",
       "      <td>...</td>\n",
       "      <td>...</td>\n",
       "      <td>...</td>\n",
       "      <td>...</td>\n",
       "      <td>...</td>\n",
       "    </tr>\n",
       "    <tr>\n",
       "      <th>22747</th>\n",
       "      <td>1603195</td>\n",
       "      <td>1664.0</td>\n",
       "      <td>1050.0</td>\n",
       "      <td>15581.965820</td>\n",
       "      <td>826.227173</td>\n",
       "      <td>102.537430</td>\n",
       "      <td>-24.668346</td>\n",
       "      <td>0.63</td>\n",
       "      <td>4.0</td>\n",
       "      <td>45.689491</td>\n",
       "      <td>-67.732562</td>\n",
       "      <td>POINT (-7539954.27 5730728.765)</td>\n",
       "      <td>5.000200e+12</td>\n",
       "      <td>POLYGON ((-7539969.526 5730744.285, -7539975.2...</td>\n",
       "      <td>POLYGON ((-7539969.526 5730744.285, -7539975.2...</td>\n",
       "    </tr>\n",
       "    <tr>\n",
       "      <th>22748</th>\n",
       "      <td>1603196</td>\n",
       "      <td>1664.0</td>\n",
       "      <td>1051.0</td>\n",
       "      <td>15619.209961</td>\n",
       "      <td>824.262390</td>\n",
       "      <td>102.532898</td>\n",
       "      <td>-24.668530</td>\n",
       "      <td>0.00</td>\n",
       "      <td>4.0</td>\n",
       "      <td>45.689402</td>\n",
       "      <td>-67.732096</td>\n",
       "      <td>POINT (-7539902.415 5730714.619)</td>\n",
       "      <td>5.000200e+12</td>\n",
       "      <td>POLYGON ((-7539917.628 5730730.127, -7539923.3...</td>\n",
       "      <td>POLYGON ((-7539917.628 5730730.127, -7539923.3...</td>\n",
       "    </tr>\n",
       "    <tr>\n",
       "      <th>22749</th>\n",
       "      <td>1603197</td>\n",
       "      <td>1664.0</td>\n",
       "      <td>1052.0</td>\n",
       "      <td>15657.007812</td>\n",
       "      <td>822.277954</td>\n",
       "      <td>102.413261</td>\n",
       "      <td>-24.668684</td>\n",
       "      <td>0.00</td>\n",
       "      <td>3.0</td>\n",
       "      <td>45.689327</td>\n",
       "      <td>-67.731703</td>\n",
       "      <td>POINT (-7539858.667 5730702.685)</td>\n",
       "      <td>5.000200e+12</td>\n",
       "      <td>POLYGON ((-7539873.837 5730718.181, -7539879.5...</td>\n",
       "      <td>POLYGON ((-7539873.837 5730718.181, -7539879.5...</td>\n",
       "    </tr>\n",
       "    <tr>\n",
       "      <th>22750</th>\n",
       "      <td>1603198</td>\n",
       "      <td>1664.0</td>\n",
       "      <td>1053.0</td>\n",
       "      <td>15694.713867</td>\n",
       "      <td>820.307739</td>\n",
       "      <td>102.315971</td>\n",
       "      <td>-24.668842</td>\n",
       "      <td>0.00</td>\n",
       "      <td>3.0</td>\n",
       "      <td>45.689250</td>\n",
       "      <td>-67.731297</td>\n",
       "      <td>POINT (-7539813.461 5730690.352)</td>\n",
       "      <td>5.000200e+12</td>\n",
       "      <td>POLYGON ((-7539828.587 5730705.837, -7539834.3...</td>\n",
       "      <td>POLYGON ((-7539828.587 5730705.837, -7539834.3...</td>\n",
       "    </tr>\n",
       "    <tr>\n",
       "      <th>22751</th>\n",
       "      <td>1603199</td>\n",
       "      <td>1664.0</td>\n",
       "      <td>1054.0</td>\n",
       "      <td>15730.197266</td>\n",
       "      <td>818.462341</td>\n",
       "      <td>101.834808</td>\n",
       "      <td>-24.668907</td>\n",
       "      <td>0.00</td>\n",
       "      <td>3.0</td>\n",
       "      <td>45.689218</td>\n",
       "      <td>-67.731130</td>\n",
       "      <td>POINT (-7539794.883 5730685.284)</td>\n",
       "      <td>5.000200e+12</td>\n",
       "      <td>POLYGON ((-7539809.968 5730700.758, -7539815.7...</td>\n",
       "      <td>POLYGON ((-7539809.968 5730700.758, -7539815.7...</td>\n",
       "    </tr>\n",
       "  </tbody>\n",
       "</table>\n",
       "<p>22752 rows × 15 columns</p>\n",
       "</div>"
      ],
      "text/plain": [
       "        points  azimuth_index  range_index   cross_track  pixel_area  \\\n",
       "0          150          161.0       1229.0  22959.318359  561.194397   \n",
       "1          151          161.0       1230.0  22985.056641  560.567139   \n",
       "2          152          161.0       1231.0  23010.769531  559.941895   \n",
       "3          155          161.0       1234.0  23089.482422  558.036499   \n",
       "4          156          161.0       1235.0  23115.082031  557.419617   \n",
       "...        ...            ...          ...           ...         ...   \n",
       "22747  1603195         1664.0       1050.0  15581.965820  826.227173   \n",
       "22748  1603196         1664.0       1051.0  15619.209961  824.262390   \n",
       "22749  1603197         1664.0       1052.0  15657.007812  822.277954   \n",
       "22750  1603198         1664.0       1053.0  15694.713867  820.307739   \n",
       "22751  1603199         1664.0       1054.0  15730.197266  818.462341   \n",
       "\n",
       "           height      geoid  prior_water_prob  klass   latitude  longitude  \\\n",
       "0       84.104378 -24.635891              0.00    2.0  45.388731 -67.751455   \n",
       "1       81.963776 -24.636068              0.00    3.0  45.388843 -67.752044   \n",
       "2       83.854668 -24.635729              0.00    2.0  45.388629 -67.750925   \n",
       "3       78.806297 -24.636089              0.00    2.0  45.388856 -67.752111   \n",
       "4       79.239677 -24.635937              0.00    2.0  45.388760 -67.751609   \n",
       "...           ...        ...               ...    ...        ...        ...   \n",
       "22747  102.537430 -24.668346              0.63    4.0  45.689491 -67.732562   \n",
       "22748  102.532898 -24.668530              0.00    4.0  45.689402 -67.732096   \n",
       "22749  102.413261 -24.668684              0.00    3.0  45.689327 -67.731703   \n",
       "22750  102.315971 -24.668842              0.00    3.0  45.689250 -67.731297   \n",
       "22751  101.834808 -24.668907              0.00    3.0  45.689218 -67.731130   \n",
       "\n",
       "                         pixel_centroid     NHDPlusID  \\\n",
       "0      POINT (-7542057.427 5682928.174)  5.000200e+12   \n",
       "1       POINT (-7542123.07 5682946.028)  5.000200e+12   \n",
       "2      POINT (-7541998.523 5682912.155)  5.000200e+12   \n",
       "3      POINT (-7542130.478 5682948.055)  5.000200e+12   \n",
       "4      POINT (-7542074.596 5682932.858)  5.000200e+12   \n",
       "...                                 ...           ...   \n",
       "22747   POINT (-7539954.27 5730728.765)  5.000200e+12   \n",
       "22748  POINT (-7539902.415 5730714.619)  5.000200e+12   \n",
       "22749  POINT (-7539858.667 5730702.685)  5.000200e+12   \n",
       "22750  POINT (-7539813.461 5730690.352)  5.000200e+12   \n",
       "22751  POINT (-7539794.883 5730685.284)  5.000200e+12   \n",
       "\n",
       "                                            pseudo_pixel  \\\n",
       "0      POLYGON ((-7542066.92 5682942.086, -7542072.58...   \n",
       "1      POLYGON ((-7542132.549 5682959.937, -7542138.2...   \n",
       "2      POLYGON ((-7542007.988 5682926.06, -7542013.65...   \n",
       "3      POLYGON ((-7542139.901 5682961.949, -7542145.5...   \n",
       "4      POLYGON ((-7542084.005 5682946.749, -7542089.6...   \n",
       "...                                                  ...   \n",
       "22747  POLYGON ((-7539969.526 5730744.285, -7539975.2...   \n",
       "22748  POLYGON ((-7539917.628 5730730.127, -7539923.3...   \n",
       "22749  POLYGON ((-7539873.837 5730718.181, -7539879.5...   \n",
       "22750  POLYGON ((-7539828.587 5730705.837, -7539834.3...   \n",
       "22751  POLYGON ((-7539809.968 5730700.758, -7539815.7...   \n",
       "\n",
       "                                             pseudo_geom  \n",
       "0      POLYGON ((-7542066.92 5682942.086, -7542072.58...  \n",
       "1      POLYGON ((-7542132.549 5682959.937, -7542138.2...  \n",
       "2      POLYGON ((-7542007.988 5682926.06, -7542013.65...  \n",
       "3      POLYGON ((-7542139.901 5682961.949, -7542145.5...  \n",
       "4      POLYGON ((-7542084.005 5682946.749, -7542089.6...  \n",
       "...                                                  ...  \n",
       "22747  POLYGON ((-7539969.526 5730744.285, -7539975.2...  \n",
       "22748  POLYGON ((-7539917.628 5730730.127, -7539923.3...  \n",
       "22749  POLYGON ((-7539873.837 5730718.181, -7539879.5...  \n",
       "22750  POLYGON ((-7539828.587 5730705.837, -7539834.3...  \n",
       "22751  POLYGON ((-7539809.968 5730700.758, -7539815.7...  \n",
       "\n",
       "[22752 rows x 15 columns]"
      ]
     },
     "execution_count": 112,
     "metadata": {},
     "output_type": "execute_result"
    }
   ],
   "source": [
    "gdf_PIXC_clip"
   ]
  },
  {
   "cell_type": "code",
   "execution_count": null,
   "id": "bcdddc2f-92f9-4f7f-ab5f-de0dd6b9fa18",
   "metadata": {},
   "outputs": [],
   "source": [
    "# save_path = '/nas/cee-water/cjgleason/fiona/narrow_rivers_PIXC_data/PIXC_v2_0_pseudo_pixels_filtered/'"
   ]
  },
  {
   "cell_type": "code",
   "execution_count": null,
   "id": "0517051b-705f-48a2-b160-d22726c0f8a9",
   "metadata": {},
   "outputs": [],
   "source": [
    "# gdf_PIXC.to_parquet(path=save_path + granule_name + '.parquet')"
   ]
  },
  {
   "cell_type": "code",
   "execution_count": null,
   "id": "bf7a67c7-3e8b-407d-adfe-a724a6d95486",
   "metadata": {},
   "outputs": [],
   "source": [
    "## Stopped here 04/07/2025"
   ]
  },
  {
   "cell_type": "markdown",
   "id": "858c7484-d355-4b2e-b0ce-3f33d5fdedff",
   "metadata": {},
   "source": [
    "### Read in segments"
   ]
  },
  {
   "cell_type": "code",
   "execution_count": 114,
   "id": "b8ef5326-5cf2-4240-a1c8-48ef64066730",
   "metadata": {},
   "outputs": [],
   "source": [
    "data_path = '/nas/cee-water/cjgleason/fiona/narrow_rivers_PIXC_data/NHD_prepped_segmented_buffered/HUC2_' + huc2 + '/'"
   ]
  },
  {
   "cell_type": "code",
   "execution_count": 118,
   "id": "d7c3b8a2-b85a-476b-8eb6-1b28ab602a47",
   "metadata": {},
   "outputs": [],
   "source": [
    "file_paths = []\n",
    "\n",
    "for huc in hucs:\n",
    "    file_path = data_path + 'NHDPLUS_H_' + huc + '_HU4_GDB_prepped_segmented_buffered_' + width_set + '.parquet'\n",
    "    file_paths.append(file_path)"
   ]
  },
  {
   "cell_type": "code",
   "execution_count": 119,
   "id": "80feed14-3aba-4835-99fd-2340cf1eb825",
   "metadata": {},
   "outputs": [
    {
     "data": {
      "text/plain": [
       "['/nas/cee-water/cjgleason/fiona/narrow_rivers_PIXC_data/NHD_prepped_segmented_buffered/HUC2_01/NHDPLUS_H_0101_HU4_GDB_prepped_segmented_buffered_min.parquet',\n",
       " '/nas/cee-water/cjgleason/fiona/narrow_rivers_PIXC_data/NHD_prepped_segmented_buffered/HUC2_01/NHDPLUS_H_0102_HU4_GDB_prepped_segmented_buffered_min.parquet',\n",
       " '/nas/cee-water/cjgleason/fiona/narrow_rivers_PIXC_data/NHD_prepped_segmented_buffered/HUC2_01/NHDPLUS_H_0105_HU4_GDB_prepped_segmented_buffered_min.parquet']"
      ]
     },
     "execution_count": 119,
     "metadata": {},
     "output_type": "execute_result"
    }
   ],
   "source": [
    "file_paths"
   ]
  },
  {
   "cell_type": "code",
   "execution_count": 145,
   "id": "2100985c-7d87-47d3-bdcd-e88313305a5c",
   "metadata": {},
   "outputs": [],
   "source": [
    "segments = dask_geopandas.read_parquet(path=file_paths)"
   ]
  },
  {
   "cell_type": "code",
   "execution_count": 146,
   "id": "88602038-2604-4e4a-9335-f95b8e080831",
   "metadata": {},
   "outputs": [],
   "source": [
    "segments = segments.compute()"
   ]
  },
  {
   "cell_type": "code",
   "execution_count": null,
   "id": "b7c9cb9a-d551-45ac-a1dd-239a86d63a02",
   "metadata": {},
   "outputs": [],
   "source": [
    "# # Create merged dataframe of all basins intersected\n",
    "# if len(indices) == 1:\n",
    "#     # Read prepped NHD\n",
    "#     segments, _, _ = readNHD(index=indices[0], segmented=True)\n",
    "# else:\n",
    "#     # Initialize lists\n",
    "#     d = []\n",
    "#     # Loop through indices and store in lists\n",
    "#     for i in indices:\n",
    "#         # Read prepped NHD\n",
    "#         segments, huc4, _ = readNHD(index=i, segmented=True)\n",
    "#         # Make column with HUC4 id\n",
    "#         segments['huc4_long'] = huc4\n",
    "#         segments['huc4'] = segments['huc4_long'].str[10:14]\n",
    "#         # Rename segments to geometry\n",
    "#         # segments = segments.rename(columns={'segments': 'geometry'}).set_geometry('geometry')\n",
    "#         # Append to list\n",
    "#         d.append(segments)\n",
    "#     # Merge GeoDataFrames\n",
    "#     segments = pd.concat(d)"
   ]
  },
  {
   "cell_type": "code",
   "execution_count": null,
   "id": "67d8653c-139d-4b22-8086-66bf4f94f21e",
   "metadata": {},
   "outputs": [],
   "source": [
    "# # Cast objects to string type so they aren't dropped in groupby()\n",
    "# segments['Bin'] = segments['Bin'].astype('|S')\n",
    "# segments['GNIS_Name'] = segments['GNIS_Name'].astype(str).str.encode('utf-8', errors='replace').str.decode('utf-8')"
   ]
  },
  {
   "cell_type": "code",
   "execution_count": null,
   "id": "62c671d0-f61d-433b-99de-eec37397e95e",
   "metadata": {},
   "outputs": [],
   "source": [
    "# segments['GNIS_Name'] = segments['GNIS_Name'].astype('|S')"
   ]
  },
  {
   "cell_type": "code",
   "execution_count": null,
   "id": "a534f6b9-3e6e-4cec-92c5-8c5d56f5fd60",
   "metadata": {},
   "outputs": [],
   "source": [
    "# # Project CRS (currently to WGS 84 / UTM zone 18N)\n",
    "# segments = segments.to_crs(epsg='3857')"
   ]
  },
  {
   "cell_type": "code",
   "execution_count": 134,
   "id": "3dc9195a-211a-4b7b-b6b3-f1f672cbd55c",
   "metadata": {},
   "outputs": [],
   "source": [
    "# segments = segments.reset_index().rename(columns={'index': 'index_old'})"
   ]
  },
  {
   "cell_type": "code",
   "execution_count": 135,
   "id": "932d1556-d32d-48cd-8d8a-f1a0525cf85e",
   "metadata": {},
   "outputs": [],
   "source": [
    "# # Assign a unique counter within each index group\n",
    "# segments['counter'] = segments.groupby('NHDPlusID').cumcount()"
   ]
  },
  {
   "cell_type": "code",
   "execution_count": 136,
   "id": "03797142-86ba-4750-bcf1-9143580b01cd",
   "metadata": {},
   "outputs": [],
   "source": [
    "# Keep only first ten segments (some reaches repeat)\n",
    "# segments = segments[segments['counter'] < 10]\n",
    "\n",
    "# For HUC4_0109, 5000700035256 and 5000700072690"
   ]
  },
  {
   "cell_type": "code",
   "execution_count": 148,
   "id": "ff1ab870-8a1e-40f2-ac46-aaf7d26d3cb2",
   "metadata": {},
   "outputs": [],
   "source": [
    "segments = segments.clip(pseudo_bounds)"
   ]
  },
  {
   "cell_type": "code",
   "execution_count": 150,
   "id": "3b7bbb49-83b0-4fdc-b0c8-e2dc41d3a8c5",
   "metadata": {},
   "outputs": [],
   "source": [
    "# Keep only reaches that are fully contained in PIXC granule\n",
    "segments = segments.groupby('NHDPlusID').filter(lambda x: len(x) == 10)"
   ]
  },
  {
   "cell_type": "code",
   "execution_count": 161,
   "id": "4dab7f5e-56a5-4877-b2df-354c8dc27321",
   "metadata": {},
   "outputs": [],
   "source": [
    "segments = segments.sort_values(by=['NHDPlusID', 'counter']).reset_index()"
   ]
  },
  {
   "cell_type": "code",
   "execution_count": 163,
   "id": "bb923ffc-210f-4e60-a02a-9d665e3ccc86",
   "metadata": {},
   "outputs": [],
   "source": [
    "segments = segments.drop(columns='index')"
   ]
  },
  {
   "cell_type": "code",
   "execution_count": 151,
   "id": "177266f9-3c4c-498e-a93f-487d884095c2",
   "metadata": {},
   "outputs": [
    {
     "data": {
      "text/plain": [
       "957"
      ]
     },
     "execution_count": 151,
     "metadata": {},
     "output_type": "execute_result"
    }
   ],
   "source": [
    "len(segments['NHDPlusID'].unique())"
   ]
  },
  {
   "cell_type": "code",
   "execution_count": 152,
   "id": "f0fa9325-377a-41f5-be44-fb20965edb84",
   "metadata": {},
   "outputs": [
    {
     "data": {
      "text/plain": [
       "957"
      ]
     },
     "execution_count": 152,
     "metadata": {},
     "output_type": "execute_result"
    }
   ],
   "source": [
    "len(segments.sort_values(by=['NHDPlusID', 'counter'])[::10]['NHDPlusID'].unique())"
   ]
  },
  {
   "cell_type": "code",
   "execution_count": 165,
   "id": "0b854ca8-21bb-4696-a910-f3e3238df018",
   "metadata": {},
   "outputs": [],
   "source": [
    "# Get number of reaches per bin\n",
    "counts = pd.DataFrame(segments.sort_values(by=['NHDPlusID', 'counter'])[::10].Bin_Min.value_counts()).reset_index()"
   ]
  },
  {
   "cell_type": "code",
   "execution_count": 166,
   "id": "75a4a80b-ddc1-436c-9f22-c29e6e98f20d",
   "metadata": {},
   "outputs": [
    {
     "data": {
      "text/html": [
       "<div>\n",
       "<style scoped>\n",
       "    .dataframe tbody tr th:only-of-type {\n",
       "        vertical-align: middle;\n",
       "    }\n",
       "\n",
       "    .dataframe tbody tr th {\n",
       "        vertical-align: top;\n",
       "    }\n",
       "\n",
       "    .dataframe thead th {\n",
       "        text-align: right;\n",
       "    }\n",
       "</style>\n",
       "<table border=\"1\" class=\"dataframe\">\n",
       "  <thead>\n",
       "    <tr style=\"text-align: right;\">\n",
       "      <th></th>\n",
       "      <th>Bin_Min</th>\n",
       "      <th>count</th>\n",
       "    </tr>\n",
       "  </thead>\n",
       "  <tbody>\n",
       "    <tr>\n",
       "      <th>0</th>\n",
       "      <td>(0, 10]</td>\n",
       "      <td>822</td>\n",
       "    </tr>\n",
       "    <tr>\n",
       "      <th>1</th>\n",
       "      <td>(10, 20]</td>\n",
       "      <td>63</td>\n",
       "    </tr>\n",
       "    <tr>\n",
       "      <th>2</th>\n",
       "      <td>(40, 50]</td>\n",
       "      <td>37</td>\n",
       "    </tr>\n",
       "    <tr>\n",
       "      <th>3</th>\n",
       "      <td>(20, 30]</td>\n",
       "      <td>29</td>\n",
       "    </tr>\n",
       "    <tr>\n",
       "      <th>4</th>\n",
       "      <td>(30, 40]</td>\n",
       "      <td>6</td>\n",
       "    </tr>\n",
       "  </tbody>\n",
       "</table>\n",
       "</div>"
      ],
      "text/plain": [
       "    Bin_Min  count\n",
       "0   (0, 10]    822\n",
       "1  (10, 20]     63\n",
       "2  (40, 50]     37\n",
       "3  (20, 30]     29\n",
       "4  (30, 40]      6"
      ]
     },
     "execution_count": 166,
     "metadata": {},
     "output_type": "execute_result"
    }
   ],
   "source": [
    "counts"
   ]
  },
  {
   "cell_type": "code",
   "execution_count": null,
   "id": "60f685a6-192f-4bc9-9825-b52f0309ee2c",
   "metadata": {},
   "outputs": [],
   "source": [
    "# # Buffer segments\n",
    "# ## PARALLELIZE\n",
    "# start = time.time()\n",
    "# segments['buffer'] = segments.parallel_apply(user_defined_function=specialBuffer,\n",
    "#                                                          args=(width,\n",
    "#                                                                'flat', True, False),\n",
    "#                                                          axis=1)\n",
    "# end = time.time()\n",
    "# print(end - start)\n",
    "# # segments['buffered'] = segments.buffer(distance=(segments.WidthM/2), cap_style='flat')"
   ]
  },
  {
   "cell_type": "code",
   "execution_count": null,
   "id": "c59edf28-3592-4420-8c5f-0d189b1bbb47",
   "metadata": {},
   "outputs": [],
   "source": [
    "# segments = segments.set_geometry('buffer').set_crs(epsg=3857)"
   ]
  },
  {
   "cell_type": "code",
   "execution_count": 155,
   "id": "175df691-6f78-4743-9422-044a045be63b",
   "metadata": {},
   "outputs": [],
   "source": [
    "# Calculate segment area\n",
    "segments['segment_area'] = segments.geometry.area"
   ]
  },
  {
   "cell_type": "code",
   "execution_count": null,
   "id": "348a07d9-66cd-4c01-8d0a-6b76b64f14ad",
   "metadata": {},
   "outputs": [],
   "source": [
    "# segments.sort_values(['NHDPlusID', 'counter'])"
   ]
  },
  {
   "cell_type": "code",
   "execution_count": null,
   "id": "70ef2988-130c-4dc4-b86e-703b01337044",
   "metadata": {},
   "outputs": [],
   "source": [
    "# segments_buff = segments.geometry.buffer(distance=(segments.WidthM/2), cap_style='flat')"
   ]
  },
  {
   "cell_type": "code",
   "execution_count": null,
   "id": "86858ce8-2980-4900-a3df-8a617f7691e1",
   "metadata": {},
   "outputs": [],
   "source": [
    "# segment_bounds = segments_buff.bounds"
   ]
  },
  {
   "cell_type": "code",
   "execution_count": null,
   "id": "fbed24f4-f2b7-4d5a-9e0c-5ffef26f5ef9",
   "metadata": {},
   "outputs": [],
   "source": [
    "# ## Clip the pseudo pixels to the bounds of the reach\n",
    "# pseudo_all = pseudo.union_all()"
   ]
  },
  {
   "cell_type": "code",
   "execution_count": null,
   "id": "3818d284-dc74-42a0-a870-669ac2858cc5",
   "metadata": {},
   "outputs": [],
   "source": [
    "# fig, ax = plt.subplots(figsize=(8,8))\n",
    "# pseudo.plot(ax=ax, column='klass')\n",
    "# segments.plot(ax=ax, color='k', alpha=0.6)\n",
    "# plt.xlim(824000, 826000)\n",
    "# plt.ylim(4741000, 4743000)"
   ]
  },
  {
   "cell_type": "code",
   "execution_count": null,
   "id": "5fe18cc8-9c55-4749-927f-ac0fa7ca9620",
   "metadata": {},
   "outputs": [],
   "source": [
    "gpd.sjoin(segments, gdf_PIXC_clip, predicate='intersects')"
   ]
  },
  {
   "cell_type": "code",
   "execution_count": 224,
   "id": "148d23f3-77c9-4058-8ab0-5d4ea37ac86f",
   "metadata": {},
   "outputs": [
    {
     "data": {
      "text/plain": [
       "<Axes: >"
      ]
     },
     "execution_count": 224,
     "metadata": {},
     "output_type": "execute_result"
    },
    {
     "data": {
      "image/png": "[encoded data removed]",
      "text/plain": [
       "<Figure size 640x480 with 1 Axes>"
      ]
     },
     "metadata": {},
     "output_type": "display_data"
    }
   ],
   "source": [
    "gpd.GeoSeries(test.loc[79].pseudo_geom).plot()"
   ]
  },
  {
   "cell_type": "code",
   "execution_count": 225,
   "id": "a1e1c305-bc89-44ea-a03a-ab750282f182",
   "metadata": {},
   "outputs": [
    {
     "data": {
      "text/plain": [
       "<Axes: >"
      ]
     },
     "execution_count": 225,
     "metadata": {},
     "output_type": "execute_result"
    },
    {
     "data": {
      "image/png": "[encoded data removed]",
      "text/plain": [
       "<Figure size 640x480 with 1 Axes>"
      ]
     },
     "metadata": {},
     "output_type": "display_data"
    }
   ],
   "source": [
    "fig, ax = plt.subplots()\n",
    "segments[segments['NHDPlusID'] == test.NHDPlusID_left[79]].plot(ax=ax)\n",
    "segments[segments['NHDPlusID'] == test.NHDPlusID_right[79]].plot(ax=ax)\n",
    "gpd.GeoSeries(test.loc[79].pseudo_geom).plot(ax=ax)"
   ]
  },
  {
   "cell_type": "code",
   "execution_count": 191,
   "id": "ec5c6340-d7c4-43e2-b0f5-fd158e1c5f33",
   "metadata": {},
   "outputs": [],
   "source": [
    "# Merge the segments and pseudo-puxels by intersection\n",
    "sj = gpd.sjoin(segments, gdf_PIXC_clip, how='left', predicate='intersects').reset_index()"
   ]
  },
  {
   "cell_type": "code",
   "execution_count": 227,
   "id": "ba0ac9e6-dab0-4041-88fb-d8822c992d36",
   "metadata": {},
   "outputs": [
    {
     "data": {
      "text/plain": [
       "Index(['index', 'index_old', 'NHDPlusID_left', 'GNIS_Name', 'LengthKM',\n",
       "       'WidthM', 'WidthM_Min', 'WidthM_Max', 'Bin', 'Bin_Min', 'Bin_Max',\n",
       "       'StreamOrde', 'Slope', 'buffers', 'counter', 'segment_area',\n",
       "       'index_right', 'points', 'azimuth_index', 'range_index', 'cross_track',\n",
       "       'pixel_area', 'height', 'geoid', 'prior_water_prob', 'klass',\n",
       "       'latitude', 'longitude', 'pixel_centroid', 'NHDPlusID_right',\n",
       "       'pseudo_geom'],\n",
       "      dtype='object')"
      ]
     },
     "execution_count": 227,
     "metadata": {},
     "output_type": "execute_result"
    }
   ],
   "source": [
    "sj.columns"
   ]
  },
  {
   "cell_type": "code",
   "execution_count": null,
   "id": "6f9e5cbc-e442-446a-817a-6bb906375509",
   "metadata": {},
   "outputs": [],
   "source": [
    "# NHDPlusID_left reflects which reach the pixel centroid is\n",
    "# within, keeping that one\n",
    "sj = sj.drop(columns=['NHDPlusID_left', 'points', 'azimuth_index',\n",
    "                      'range_index',\n",
    "                      # 'height', 'geoid',\n",
    "                      # 'klass',\n",
    "                      'latitude', 'longitude'])"
   ]
  },
  {
   "cell_type": "code",
   "execution_count": null,
   "id": "8223a965-3e0e-4678-b525-5ac247a3e588",
   "metadata": {},
   "outputs": [],
   "source": [
    "sj"
   ]
  },
  {
   "cell_type": "code",
   "execution_count": null,
   "id": "f48dcf6b-0694-4530-8210-b1f4e67503fb",
   "metadata": {},
   "outputs": [],
   "source": [
    "sj = sj.set_geometry('pseudo_geom')"
   ]
  },
  {
   "cell_type": "code",
   "execution_count": null,
   "id": "3eb299f3-11fe-4a77-b980-74a147d91ed8",
   "metadata": {
    "tags": []
   },
   "outputs": [],
   "source": [
    "sj = sj.groupby('NHDPlusID', as_index=False).parallel_apply(user_defined_function=specialDissolve)"
   ]
  },
  {
   "cell_type": "code",
   "execution_count": null,
   "id": "5f32fc46-db8a-4af3-b338-69916f89b970",
   "metadata": {},
   "outputs": [],
   "source": [
    "sj = sj.reset_index().drop(columns=['level_0', 'level_1'])"
   ]
  },
  {
   "cell_type": "code",
   "execution_count": null,
   "id": "72aa0b69-3521-4503-832d-8466a12a41f6",
   "metadata": {},
   "outputs": [],
   "source": [
    "sj['pseudo_geom_clip'] = sj.parallel_apply(user_defined_function=specialClip,\n",
    "                                                         axis=1)"
   ]
  },
  {
   "cell_type": "code",
   "execution_count": null,
   "id": "314344b3-7c33-469a-a342-87b04b897dc4",
   "metadata": {},
   "outputs": [],
   "source": [
    "# sj[sj['NHDPlusID'] == 10000900090399].pseudo_geom.plot(cmap='hsv')"
   ]
  },
  {
   "cell_type": "code",
   "execution_count": null,
   "id": "29f5b63e-eb10-4d3e-b58a-a9e578306285",
   "metadata": {},
   "outputs": [],
   "source": [
    "# Calculate the pseudo-pixel area within each node\n",
    "sj['pseudo_area'] = sj.pseudo_geom_clip.area"
   ]
  },
  {
   "cell_type": "code",
   "execution_count": null,
   "id": "c0764bd5-a82b-45a5-9075-73fda889aa00",
   "metadata": {},
   "outputs": [],
   "source": [
    "sj['coverage'] = sj.pseudo_area/sj.segment_area"
   ]
  },
  {
   "cell_type": "code",
   "execution_count": null,
   "id": "e1322003-acaa-42b3-bb88-1058399bdc55",
   "metadata": {},
   "outputs": [],
   "source": [
    "# sj_w_zero = sj.copy()"
   ]
  },
  {
   "cell_type": "code",
   "execution_count": null,
   "id": "7ba267bf-a933-4d27-af5a-cd73331720db",
   "metadata": {},
   "outputs": [],
   "source": [
    "# sj_w_zero['coverage'] = sj_w_zero['coverage'].fillna(0)\n",
    "sj['coverage'] = sj['coverage'].fillna(0)"
   ]
  },
  {
   "cell_type": "markdown",
   "id": "622bd27e-cf7c-4c1e-a7aa-b2ed4f32d675",
   "metadata": {},
   "source": [
    "### Do stats"
   ]
  },
  {
   "cell_type": "code",
   "execution_count": null,
   "id": "ed1d559f-4dba-4724-bd78-75421e17e7a3",
   "metadata": {
    "tags": []
   },
   "outputs": [],
   "source": [
    "bins = sj.Bin.unique()"
   ]
  },
  {
   "cell_type": "markdown",
   "id": "b9b2b467-5cc8-4d40-94ba-17d3de0807fc",
   "metadata": {},
   "source": [
    "#### Reaches"
   ]
  },
  {
   "cell_type": "code",
   "execution_count": null,
   "id": "01063fdc-cd34-4167-9478-b98716293723",
   "metadata": {},
   "outputs": [],
   "source": [
    "reaches_cent, reaches_thresh, reaches_min = summarizeCoverage(df=sj, binn=binn,\n",
    "                                            bins=bins, counts=counts)"
   ]
  },
  {
   "cell_type": "code",
   "execution_count": null,
   "id": "d970a001-366f-4cb9-8e90-d64d62353d0c",
   "metadata": {},
   "outputs": [],
   "source": [
    "reaches_min"
   ]
  },
  {
   "cell_type": "code",
   "execution_count": null,
   "id": "8db1a77f-0315-4c9b-8258-8e31ce9509cb",
   "metadata": {},
   "outputs": [],
   "source": [
    "reaches_min.sort_values(by=['NHDPlusID'])[::10]"
   ]
  },
  {
   "cell_type": "code",
   "execution_count": null,
   "id": "e9acee56-ba8a-41a6-9ea4-f72870fa8159",
   "metadata": {
    "tags": []
   },
   "outputs": [],
   "source": [
    "# d = {}\n",
    "# # d_q = {}\n",
    "# for i in range(1, 10):\n",
    "#     threshold = i/10\n",
    "#     # print(threshold)\n",
    "    \n",
    "#     detected = sj.groupby([binn, 'NHDPlusID'])['coverage'].apply(lambda x: (x > threshold).sum()) / 10\n",
    "#     reach = detected.reset_index()\n",
    "    \n",
    "#     # reach = detected.groupby(binn).quantile(q=[x / 100.0 for x in range(0,100,1)]).reset_index()\n",
    "        \n",
    "#     d[threshold] = reach"
   ]
  },
  {
   "cell_type": "code",
   "execution_count": null,
   "id": "f4a9a984-1d84-446d-8c84-395d0e91fa47",
   "metadata": {},
   "outputs": [],
   "source": [
    "# Add a column for each DataFrame indicating the key\n",
    "# for threshold, data in d.items():\n",
    "#     data['threshold'] = threshold\n",
    "    \n",
    "for threshold, data in d.items():\n",
    "    data['threshold'] = threshold"
   ]
  },
  {
   "cell_type": "code",
   "execution_count": null,
   "id": "c540f758-4134-41e5-8248-60919814fcc1",
   "metadata": {},
   "outputs": [],
   "source": [
    "# Concatenate all DataFrames into one\n",
    "# reaches_desc = pd.concat(d.values())\n",
    "\n",
    "reaches_cent = pd.concat(d.values()).rename(columns={'level_1': 'centile'})"
   ]
  },
  {
   "cell_type": "code",
   "execution_count": null,
   "id": "6f889785-d1c2-4369-b564-94d6f3e61d87",
   "metadata": {},
   "outputs": [],
   "source": [
    "reaches_cent"
   ]
  },
  {
   "cell_type": "code",
   "execution_count": null,
   "id": "8cdc70fc-b719-4eb6-addb-853674d93fe0",
   "metadata": {},
   "outputs": [],
   "source": [
    "# reaches_cent = pd.merge(left=reaches_cent, right=counts, how='left', on=binn)"
   ]
  },
  {
   "cell_type": "code",
   "execution_count": null,
   "id": "c190e431-c234-4dd2-9080-7b6d76fc1b18",
   "metadata": {},
   "outputs": [],
   "source": [
    "reaches_cent"
   ]
  },
  {
   "cell_type": "code",
   "execution_count": null,
   "id": "38b6bd38-a36d-4bba-8e1c-51be0583f87f",
   "metadata": {},
   "outputs": [],
   "source": [
    "reaches_min = pd.DataFrame(sj.groupby('NHDPlusID')['coverage'].min()).reset_index()"
   ]
  },
  {
   "cell_type": "code",
   "execution_count": null,
   "id": "e2df040f-a3ea-48b1-8b45-0fe2d27635f8",
   "metadata": {},
   "outputs": [],
   "source": [
    "reaches_min = pd.merge(left=reaches_min, right=sj[['NHDPlusID', binn]], how='left', on='NHDPlusID')"
   ]
  },
  {
   "cell_type": "code",
   "execution_count": null,
   "id": "25e688fc-a670-4ed1-a49a-932e7717ea87",
   "metadata": {},
   "outputs": [],
   "source": [
    "min_cov"
   ]
  },
  {
   "cell_type": "code",
   "execution_count": null,
   "id": "d127d092-07e4-4272-8b9c-97046bdbe771",
   "metadata": {},
   "outputs": [],
   "source": [
    "# reaches = pd.DataFrame(data=d).T"
   ]
  },
  {
   "cell_type": "code",
   "execution_count": null,
   "id": "a265330f-6724-4107-a18f-a48f88e3526c",
   "metadata": {},
   "outputs": [],
   "source": [
    "# reaches.columns = bins"
   ]
  },
  {
   "cell_type": "markdown",
   "id": "57eb3443-462c-4f0f-a55e-f0251d195d94",
   "metadata": {},
   "source": [
    "### Write out"
   ]
  },
  {
   "cell_type": "code",
   "execution_count": null,
   "id": "095ea3be-4f04-441d-917a-bc9633d07816",
   "metadata": {},
   "outputs": [],
   "source": [
    "save_path = os.path.join('/nas/cee-water/cjgleason/fiona/narrow_rivers_PIXC_data/', 'PIXC_v2_0_HUC2_01')"
   ]
  },
  {
   "cell_type": "code",
   "execution_count": null,
   "id": "afe97f05-8afd-4dac-959c-956a6c336e1c",
   "metadata": {},
   "outputs": [],
   "source": [
    "# Combine node_desc\n",
    "node_desc_both = pd.concat([node_desc, node_desc_w_zero], ignore_index=True)\n",
    "node_desc_both"
   ]
  },
  {
   "cell_type": "code",
   "execution_count": null,
   "id": "21d6bcf5-d411-4a8b-a0dd-ce2c4bc7d739",
   "metadata": {},
   "outputs": [],
   "source": [
    "# Combine node_quant\n",
    "node_quant_both = pd.concat([node_quant, node_quant_w_zero], ignore_index=True)\n",
    "node_quant_both"
   ]
  },
  {
   "cell_type": "code",
   "execution_count": null,
   "id": "6f17958c-cce3-40bd-8d0d-0425d3ada6ed",
   "metadata": {},
   "outputs": [],
   "source": [
    "# nodes_desc_both.to_csv(os.path.join(save_path, granule_name + '_nodes_describe.csv'))\n",
    "# nodes_quant_both.to_csv(os.path.join(save_path, granule_name + '_nodes_quantile.csv'))"
   ]
  },
  {
   "cell_type": "code",
   "execution_count": null,
   "id": "1126eceb-0e67-40d0-a68a-116aabc4f41f",
   "metadata": {},
   "outputs": [],
   "source": [
    "# reaches_desc.to_csv(os.path.join(save_path, granule_name + '_reaches_describe.csv'))\n",
    "# reaches_quant.to_csv(os.path.join(save_path, granule_name + '_reaches_quantile.csv'))"
   ]
  },
  {
   "cell_type": "code",
   "execution_count": null,
   "id": "b6d5fa3b-9428-4ca5-b68d-2241f80924bc",
   "metadata": {},
   "outputs": [],
   "source": [
    "test = pd.read_parquet('/nas/cee-water/cjgleason/fiona/narrow_rivers_PIXC_output/PIXC_v2_0_HUC2_01_2025_03_02_min/SWOT_L2_HR_PIXC_004_242_074L_20230930T103957_20230930T104008_PGC0_01_reaches_thresh.parquet')"
   ]
  },
  {
   "cell_type": "code",
   "execution_count": null,
   "id": "74da1788-44c3-4731-a5ec-983010c07291",
   "metadata": {},
   "outputs": [],
   "source": [
    "test"
   ]
  }
 ],
 "metadata": {
  "kernelspec": {
   "display_name": "Python [conda env:.conda-narrowPIXC]",
   "language": "python",
   "name": "conda-env-.conda-narrowPIXC-py"
  },
  "language_info": {
   "codemirror_mode": {
    "name": "ipython",
    "version": 3
   },
   "file_extension": ".py",
   "mimetype": "text/x-python",
   "name": "python",
   "nbconvert_exporter": "python",
   "pygments_lexer": "ipython3",
   "version": "3.12.4"
  }
 },
 "nbformat": 4,
 "nbformat_minor": 5
}
