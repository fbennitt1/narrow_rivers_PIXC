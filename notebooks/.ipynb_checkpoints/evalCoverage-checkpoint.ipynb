{
 "cells": [
  {
   "cell_type": "code",
   "execution_count": 2,
   "id": "054ba1e0-d7ac-4524-a659-1e46d3219143",
   "metadata": {
    "tags": []
   },
   "outputs": [],
   "source": [
    "from argparse import ArgumentParser\n",
    "import os\n",
    "import sys\n",
    "import time\n",
    "\n",
    "import dask.dataframe as dd\n",
    "import dask_geopandas\n",
    "import geopandas as gpd\n",
    "import matplotlib.pyplot as plt\n",
    "import numpy as np\n",
    "import pandas as pd\n",
    "import rasterio\n",
    "import shapely\n",
    "import xarray as xr\n",
    "\n",
    "# from matplotlib import colors\n",
    "from pandarallel import pandarallel\n",
    "from scipy import stats\n",
    "\n",
    "sys.path.insert(1, '../scripts/')\n",
    "from reaches import *\n",
    "from utils import *"
   ]
  },
  {
   "cell_type": "markdown",
   "id": "7738211e-0067-4356-a77d-bddee1b036e0",
   "metadata": {},
   "source": [
    "### Parse arguments"
   ]
  },
  {
   "cell_type": "code",
   "execution_count": 3,
   "id": "9c28b14c-e137-4864-b7a1-326396a644eb",
   "metadata": {},
   "outputs": [],
   "source": [
    "# FOR NOW, SET\n",
    "width_set = 'mean'\n",
    "\n",
    "# Control flow\n",
    "if width_set == 'mean':\n",
    "    width = 'WidthM'\n",
    "    binn = 'Bin'\n",
    "elif width_set == 'min':\n",
    "    width = 'WidthM_Min'\n",
    "    binn = 'Bin_Min'\n",
    "elif width_set == 'max':\n",
    "    width = 'WidthM_Max'\n",
    "    binn = 'Bin_Max'\n",
    "else:\n",
    "    print('Invalid width option specified, exiting.')\n",
    "    # sys.exit()"
   ]
  },
  {
   "cell_type": "code",
   "execution_count": 4,
   "id": "5330fb44-4474-48e8-b3f9-497e8848ca7c",
   "metadata": {},
   "outputs": [],
   "source": [
    "huc2 = '01' ### SET THIS\n",
    "data_path = '/nas/cee-water/cjgleason/data/SWOT/PIXC_v2_0_HUC2_' + huc2\n",
    "# save_dir ="
   ]
  },
  {
   "cell_type": "markdown",
   "id": "0c54b76a-2171-4a4b-92f5-e4b3f4f3f8df",
   "metadata": {
    "tags": []
   },
   "source": [
    "### Pixel Cloud"
   ]
  },
  {
   "cell_type": "code",
   "execution_count": 5,
   "id": "5bc56ba8-11e0-4b21-8829-1fce78256846",
   "metadata": {},
   "outputs": [],
   "source": [
    "# Get job index\n",
    "# slurm = int(os.environ['SLURM_ARRAY_TASK_ID'])\n",
    "index = 106"
   ]
  },
  {
   "cell_type": "code",
   "execution_count": 6,
   "id": "e7c349c8-83b0-4735-9d3d-c98d4edba32e",
   "metadata": {},
   "outputs": [],
   "source": [
    "mdata_path = '/nas/cee-water/cjgleason/fiona/narrow_rivers_PIXC/data/' ## HERE\n",
    "file_path = os.path.join(mdata_path, 'PIXC_v2_0_HUC2_' + huc2 + '_filtered.json') ## HERE\n",
    "data = open_json(file_path)"
   ]
  },
  {
   "cell_type": "code",
   "execution_count": 7,
   "id": "85b6f73f-964f-4bda-a324-b6d4e710dc4d",
   "metadata": {},
   "outputs": [],
   "source": [
    "file_name = data[index]"
   ]
  },
  {
   "cell_type": "code",
   "execution_count": 8,
   "id": "900dad6e-8c22-4a17-a2f7-37ef07f35ca7",
   "metadata": {},
   "outputs": [
    {
     "name": "stdout",
     "output_type": "stream",
     "text": [
      "SWOT_L2_HR_PIXC_002_007_235R_20230811T080638_20230811T080649_PGC0_01\n"
     ]
    }
   ],
   "source": [
    "# Get data for this tile\n",
    "granule_name = file_name[:-3]\n",
    "tile_name = file_name[20:28]\n",
    "pass_num = int(file_name[20:23])\n",
    "\n",
    "print(granule_name)"
   ]
  },
  {
   "cell_type": "markdown",
   "id": "974aa2a9-a339-4bc6-9b58-9e6e7c6ec405",
   "metadata": {
    "tags": []
   },
   "source": [
    "#### Read in PIXC"
   ]
  },
  {
   "cell_type": "code",
   "execution_count": 9,
   "id": "b6a2ddd5-b8ce-4b2d-8e04-12e41eecc1ce",
   "metadata": {},
   "outputs": [],
   "source": [
    "# Set PIXC filepath\n",
    "pixc_path = os.path.join(data_path, file_name)"
   ]
  },
  {
   "cell_type": "code",
   "execution_count": 10,
   "id": "aefb478b-ff8b-41b4-9576-0fdf0ba0a9c0",
   "metadata": {},
   "outputs": [],
   "source": [
    "# Read in pixel group\n",
    "ds_PIXC = xr.open_mfdataset(paths=pixc_path, group = 'pixel_cloud', engine='h5netcdf')"
   ]
  },
  {
   "cell_type": "code",
   "execution_count": 11,
   "id": "ed0d7129-21fd-4865-8b35-4ff2afc93f9d",
   "metadata": {},
   "outputs": [],
   "source": [
    "def bitwiseMask(ds):\n",
    "    '''\n",
    "    This function masks a PIXC granules: for now, it ony remove pixels\n",
    "    with land classification and those with bad geolocation_qual.\n",
    "    # See page 65 of PIXC PDD: https://podaac.jpl.nasa.gov/SWOT?tab=datasets-information&sections=about%2Bdata\n",
    "    '''\n",
    "    # Fow now, eliminate the really bad stuff\n",
    "    mask = np.where((ds.classification > 1) & \n",
    "                    (ds.interferogram_qual < 2**7) & (ds.classification_qual < 2**7) &\n",
    "                    (ds.geolocation_qual < 2**7) & (ds.sig0_qual < 2**7) &\n",
    "                    (np.abs(ds.cross_track) > 10000) & (np.abs(ds.cross_track) < 60000))[0]\n",
    "    \n",
    "    print(mask.shape)\n",
    "    return mask"
   ]
  },
  {
   "cell_type": "code",
   "execution_count": 12,
   "id": "993471a7-b1b5-41bc-8401-1a03c47fe554",
   "metadata": {},
   "outputs": [
    {
     "name": "stdout",
     "output_type": "stream",
     "text": [
      "(742270,)\n"
     ]
    }
   ],
   "source": [
    "# Make mask\n",
    "mask = bitwiseMask(ds_PIXC)\n",
    "\n",
    "if mask.shape[0] == 0:\n",
    "    print('This granule has no pixels after masking, exiting.')\n",
    "    # sys.exit(1)    "
   ]
  },
  {
   "cell_type": "code",
   "execution_count": 13,
   "id": "daa9c587-4d39-40f3-9a7f-374fed33b165",
   "metadata": {},
   "outputs": [],
   "source": [
    "# Set desired data vars\n",
    "\n",
    "## HERE CLEAN UP\n",
    "\n",
    "variables = [#'azimuth_index', 'range_index',\n",
    "             'cross_track',\n",
    "             'pixel_area', 'height', 'geoid', 'solid_earth_tide', ## HERE\n",
    "             'load_tide_fes', 'pole_tide', 'prior_water_prob', ## HERE\n",
    "             'classification']"
   ]
  },
  {
   "cell_type": "code",
   "execution_count": 14,
   "id": "37bc9371-c418-4578-851d-950ee3261a55",
   "metadata": {},
   "outputs": [],
   "source": [
    "# Convert PIXC to GeoDataFrame\n",
    "gdf_PIXC = makeGDF(ds=ds_PIXC, mask=mask, data_vars=variables)"
   ]
  },
  {
   "cell_type": "code",
   "execution_count": 15,
   "id": "56a549dd-36cd-4030-84e1-359ec3e377fe",
   "metadata": {},
   "outputs": [],
   "source": [
    "del ds_PIXC"
   ]
  },
  {
   "cell_type": "markdown",
   "id": "67de04c0-8e96-4b5d-be2b-0ca295d75273",
   "metadata": {},
   "source": [
    "### Find correct HUC4s"
   ]
  },
  {
   "cell_type": "code",
   "execution_count": 16,
   "id": "af1db866-f656-41d6-bde7-383044114334",
   "metadata": {},
   "outputs": [],
   "source": [
    "### NHDPlus HR\n",
    "## Find correct HUC4s\n",
    "# Read in tile and HUC4 intersection data\n",
    "dtype_dic= {'tile': str, 'huc4': str, 'coverage': float}\n",
    "tile_huc4 = pd.read_csv(os.path.join(mdata_path,\n",
    "                                    'huc4_swot_science_tiles.csv'),\n",
    "                        dtype=dtype_dic)"
   ]
  },
  {
   "cell_type": "code",
   "execution_count": 17,
   "id": "6c241cb3-e5b4-43b8-86f2-9d8c0afdff10",
   "metadata": {},
   "outputs": [],
   "source": [
    "# Make list of HUC4s that intersect the tile\n",
    "huc4s = list(tile_huc4[(tile_huc4['tile'] == tile_name)]['huc4'])\n",
    "# Limit to the current HUC2\n",
    "huc4s = [x for x in huc4s if x.startswith(huc2)]"
   ]
  },
  {
   "cell_type": "markdown",
   "id": "8e4a50c6-9306-4d1e-853a-739263c0fe9e",
   "metadata": {
    "tags": []
   },
   "source": [
    "### Read in buffered flowlines with extra"
   ]
  },
  {
   "cell_type": "code",
   "execution_count": 18,
   "id": "1606b8aa-f3b1-4d4c-b945-d3f64a65635c",
   "metadata": {},
   "outputs": [],
   "source": [
    "data_path = '/nas/cee-water/cjgleason/fiona/narrow_rivers_PIXC_data/NHD_prepped_buffered_extra/HUC2_' + huc2 + '/'\n",
    "# file_paths = getFilepaths(data_path, huc2, huc4s, width_set)"
   ]
  },
  {
   "cell_type": "code",
   "execution_count": 20,
   "id": "65424f7d-18c2-495a-a519-616367cf1859",
   "metadata": {},
   "outputs": [],
   "source": [
    "file_paths = []\n",
    "\n",
    "for huc in huc4s:\n",
    "    file_path = data_path + 'NHDPLUS_H_' + huc + '_HU4_GDB_prepped_buffered_extra_' + width_set + '.parquet'\n",
    "    file_paths.append(file_path)"
   ]
  },
  {
   "cell_type": "code",
   "execution_count": 21,
   "id": "f2194e9d-329b-4887-bbf9-f06bc24f6dd5",
   "metadata": {},
   "outputs": [],
   "source": [
    "reach_mask = dask_geopandas.read_parquet(path=file_paths, columns=['NHDPlusID', 'buffers'])"
   ]
  },
  {
   "cell_type": "code",
   "execution_count": 22,
   "id": "bba945ae-9efd-4603-a810-19ebb76a2c76",
   "metadata": {},
   "outputs": [],
   "source": [
    "reach_mask = reach_mask.compute()"
   ]
  },
  {
   "cell_type": "code",
   "execution_count": 23,
   "id": "d30b2202-6fc8-441d-a37d-50cca6e4352f",
   "metadata": {},
   "outputs": [],
   "source": [
    "# Clip masked pixels to buffered reaches with extra width\n",
    "gdf_PIXC_cov = gpd.sjoin(gdf_PIXC, reach_mask, how='inner', predicate='within').reset_index().drop(columns=['index', 'index_right'])"
   ]
  },
  {
   "cell_type": "code",
   "execution_count": 24,
   "id": "2ce0ed83-fac7-49c0-a144-56cc42745e38",
   "metadata": {},
   "outputs": [],
   "source": [
    "if gdf_PIXC_cov.shape[0] == 0:\n",
    "    print('This granule has no pixels that intersect reaches, exiting.')\n",
    "    # sys.exit() "
   ]
  },
  {
   "cell_type": "code",
   "execution_count": 25,
   "id": "dfe54ee0-9241-4b63-b074-8985362fb714",
   "metadata": {},
   "outputs": [],
   "source": [
    "del gdf_PIXC, reach_mask"
   ]
  },
  {
   "cell_type": "code",
   "execution_count": 26,
   "id": "59b224df-7b10-4068-b2b0-8e0ad25bad88",
   "metadata": {},
   "outputs": [],
   "source": [
    "# Make copy for wse analysis\n",
    "gdf_PIXC_wse = gdf_PIXC_cov.copy()"
   ]
  },
  {
   "cell_type": "code",
   "execution_count": 27,
   "id": "cd743a4a-8752-41af-a369-b927d7acb242",
   "metadata": {},
   "outputs": [],
   "source": [
    "# Drop unneeded columns for coverage analysis\n",
    "gdf_PIXC_cov = gdf_PIXC_cov.drop(columns=['height', 'geoid', 'solid_earth_tide', 'load_tide_fes',\n",
    "                                          'pole_tide', 'NHDPlusID', 'latitude', 'longitude'])"
   ]
  },
  {
   "cell_type": "code",
   "execution_count": 28,
   "id": "ea831aeb-0da0-4f1f-8fe0-8f51bb1cfb8c",
   "metadata": {},
   "outputs": [],
   "source": [
    "# Drop unneeded columns for wse analysis\n",
    "gdf_PIXC_wse = gdf_PIXC_wse.drop(columns=['latitude', 'longitude', 'NHDPlusID'])\n",
    "\n",
    "gdf_PIXC_wse['wse'] = gdf_PIXC_wse.height - gdf_PIXC_wse.geoid - gdf_PIXC_wse.solid_earth_tide - gdf_PIXC_wse.load_tide_fes - gdf_PIXC_wse.pole_tide\n",
    "gdf_PIXC_wse = gdf_PIXC_wse.drop(columns=['height', 'geoid', 'solid_earth_tide', 'load_tide_fes', 'pole_tide'])"
   ]
  },
  {
   "cell_type": "markdown",
   "id": "97e0a9cb-0326-4126-8c16-a863f5891f6d",
   "metadata": {
    "tags": []
   },
   "source": [
    "### Nadir track"
   ]
  },
  {
   "cell_type": "code",
   "execution_count": 29,
   "id": "3296b62c-896b-49d9-a09f-9795daaedb2e",
   "metadata": {},
   "outputs": [],
   "source": [
    "# Get single pixel for selecting correct nadir segment\n",
    "pixel_pt = gdf_PIXC_cov.iloc[0].geometry"
   ]
  },
  {
   "cell_type": "code",
   "execution_count": 30,
   "id": "16ed2efd-7ef6-432d-bbcb-f93e6dd58a0f",
   "metadata": {},
   "outputs": [
    {
     "name": "stderr",
     "output_type": "stream",
     "text": [
      "/work/pi_cjgleason_umass_edu/.conda/envs/narrowPIXC/lib/python3.12/site-packages/geopandas/geodataframe.py:1819: SettingWithCopyWarning: \n",
      "A value is trying to be set on a copy of a slice from a DataFrame.\n",
      "Try using .loc[row_indexer,col_indexer] = value instead\n",
      "\n",
      "See the caveats in the documentation: https://pandas.pydata.org/pandas-docs/stable/user_guide/indexing.html#returning-a-view-versus-a-copy\n",
      "  super().__setitem__(key, value)\n"
     ]
    }
   ],
   "source": [
    "# Find correct nadir segment and return its geometry\n",
    "nadir_segment_ln = findNadir(pass_num=pass_num, pixel_pt=pixel_pt)"
   ]
  },
  {
   "cell_type": "markdown",
   "id": "a871747d-de7c-453d-9c3a-3a0cd249f9dc",
   "metadata": {
    "tags": []
   },
   "source": [
    "### Find alignment"
   ]
  },
  {
   "cell_type": "code",
   "execution_count": 31,
   "id": "353125db-2adb-4d2b-b552-ade3d723f735",
   "metadata": {},
   "outputs": [],
   "source": [
    "az_nadir = calcAzimuth(line=nadir_segment_ln)"
   ]
  },
  {
   "cell_type": "markdown",
   "id": "6410b65a-d00f-4078-a5dc-7f305f4aa9e2",
   "metadata": {},
   "source": [
    "#### Read in flowlines"
   ]
  },
  {
   "cell_type": "code",
   "execution_count": 32,
   "id": "8ba7a78e-83e9-4820-a16d-d35cf2294e0a",
   "metadata": {},
   "outputs": [],
   "source": [
    "data_path = '/nas/cee-water/cjgleason/fiona/narrow_rivers_PIXC_data/NHD_prepped/HUC2_' + huc2 + '/'"
   ]
  },
  {
   "cell_type": "code",
   "execution_count": 33,
   "id": "80cb086d-c86b-4d84-8d95-44032c9b5e31",
   "metadata": {},
   "outputs": [],
   "source": [
    "file_paths = []\n",
    "\n",
    "for huc in huc4s:\n",
    "    file_path = data_path + 'NHDPLUS_H_' + huc + '_HU4_GDB_prepped.parquet'\n",
    "    file_paths.append(file_path)"
   ]
  },
  {
   "cell_type": "code",
   "execution_count": 34,
   "id": "058686c7-da5e-4b01-9811-d209d2fb841c",
   "metadata": {},
   "outputs": [
    {
     "data": {
      "text/plain": [
       "['/nas/cee-water/cjgleason/fiona/narrow_rivers_PIXC_data/NHD_prepped/HUC2_01/NHDPLUS_H_0101_HU4_GDB_prepped.parquet',\n",
       " '/nas/cee-water/cjgleason/fiona/narrow_rivers_PIXC_data/NHD_prepped/HUC2_01/NHDPLUS_H_0102_HU4_GDB_prepped.parquet',\n",
       " '/nas/cee-water/cjgleason/fiona/narrow_rivers_PIXC_data/NHD_prepped/HUC2_01/NHDPLUS_H_0105_HU4_GDB_prepped.parquet']"
      ]
     },
     "execution_count": 34,
     "metadata": {},
     "output_type": "execute_result"
    }
   ],
   "source": [
    "file_paths"
   ]
  },
  {
   "cell_type": "code",
   "execution_count": 35,
   "id": "773089a2-b259-48bf-8dc2-fd2d69724261",
   "metadata": {},
   "outputs": [],
   "source": [
    "fields = ['NHDPlusID', 'GNIS_Name', 'LengthKM', 'WidthM', 'WidthM_Min',\n",
    "          'WidthM_Max', 'Bin', 'Bin_Min', 'Bin_Max', 'StreamOrde',\n",
    "          'Slope', 'geometry']"
   ]
  },
  {
   "cell_type": "code",
   "execution_count": 36,
   "id": "ea54cbf4-0729-42c3-a19d-ab3b461de793",
   "metadata": {},
   "outputs": [],
   "source": [
    "flowlines = dask_geopandas.read_parquet(path=file_paths, columns=fields)"
   ]
  },
  {
   "cell_type": "code",
   "execution_count": 37,
   "id": "b2e5d93f-9094-4cbe-8aa8-aca074e59b55",
   "metadata": {},
   "outputs": [],
   "source": [
    "flowlines = flowlines.compute()"
   ]
  },
  {
   "cell_type": "code",
   "execution_count": 38,
   "id": "79500dfd-e2cf-48fa-a619-e46d656e6008",
   "metadata": {},
   "outputs": [],
   "source": [
    "flowlines.loc[:,'geometry'] = flowlines.geometry.explode().force_2d()"
   ]
  },
  {
   "cell_type": "code",
   "execution_count": 40,
   "id": "dc949b85-fcb9-4b03-b480-fc120934d91d",
   "metadata": {},
   "outputs": [
    {
     "name": "stdout",
     "output_type": "stream",
     "text": [
      "INFO: Pandarallel will run on 2 workers.\n",
      "INFO: Pandarallel will use Memory file system to transfer data between the main process and workers.\n"
     ]
    }
   ],
   "source": [
    "pandarallel.initialize(nb_workers=int(os.environ.get('SLURM_CPUS_PER_TASK')))"
   ]
  },
  {
   "cell_type": "code",
   "execution_count": 45,
   "id": "7370cd2c-db39-49e5-83b0-902b95a406c8",
   "metadata": {},
   "outputs": [],
   "source": [
    "flowlines['temp'] = flowlines.parallel_apply(user_defined_function=calcAzSin, axis=1)"
   ]
  },
  {
   "cell_type": "code",
   "execution_count": 46,
   "id": "9607199c-eded-4c19-a976-33975b5b2451",
   "metadata": {},
   "outputs": [],
   "source": [
    "flowlines[['alignment', 'sinuosity']] = pd.DataFrame(flowlines['temp'].tolist(), index=flowlines.index)\n",
    "flowlines = flowlines.drop(columns='temp')"
   ]
  },
  {
   "cell_type": "code",
   "execution_count": 47,
   "id": "e8bec94e-8371-4e1d-9190-d11c064da624",
   "metadata": {},
   "outputs": [],
   "source": [
    "# Rename geometry to avoid conflicts with heights\n",
    "flowlines = flowlines.rename_geometry('flowlines')"
   ]
  },
  {
   "cell_type": "markdown",
   "id": "59dbb120-b7df-428a-a72e-706814832ea8",
   "metadata": {
    "tags": []
   },
   "source": [
    "### Find coverage"
   ]
  },
  {
   "cell_type": "markdown",
   "id": "6af80e8a-07ba-4f91-8636-b12874ac4bd1",
   "metadata": {
    "tags": []
   },
   "source": [
    "#### Make pseudo pixels"
   ]
  },
  {
   "cell_type": "code",
   "execution_count": 48,
   "id": "551e670e-f660-4137-b0ad-555e44b9a7a1",
   "metadata": {},
   "outputs": [],
   "source": [
    "# Set along-track pixel resolution\n",
    "azimuth_res = 22 # meters"
   ]
  },
  {
   "cell_type": "code",
   "execution_count": 49,
   "id": "b55b182b-82e9-4931-a2f6-bb21f8760149",
   "metadata": {},
   "outputs": [
    {
     "name": "stdout",
     "output_type": "stream",
     "text": [
      "3.6386959552764893\n"
     ]
    }
   ],
   "source": [
    "# Make pseudo pixels\n",
    "start = time.time()\n",
    "gdf_PIXC_cov['pseudo_pixel'] = gdf_PIXC_cov.parallel_apply(user_defined_function=makePseudoPixels,\n",
    "                                                           args=(nadir_segment_ln,\n",
    "                                                                 azimuth_res),\n",
    "                                                           axis=1)\n",
    "end = time.time()\n",
    "print(end - start)"
   ]
  },
  {
   "cell_type": "code",
   "execution_count": 50,
   "id": "e876d8aa-3055-4632-8cce-098926468f89",
   "metadata": {},
   "outputs": [],
   "source": [
    "gdf_PIXC_cov = gdf_PIXC_cov.rename(columns={'geometry': 'pixel_centroid'}).set_geometry('pseudo_pixel').set_crs(epsg=3857)"
   ]
  },
  {
   "cell_type": "code",
   "execution_count": 51,
   "id": "17fa13af-60b3-461f-9ad7-b4182e728520",
   "metadata": {},
   "outputs": [],
   "source": [
    "# Get bounds of PIXC tile\n",
    "pseudo_bounds = gdf_PIXC_cov.total_bounds"
   ]
  },
  {
   "cell_type": "code",
   "execution_count": 52,
   "id": "240322f8-f90d-4653-b065-07158a2786e5",
   "metadata": {},
   "outputs": [],
   "source": [
    "# Copy geometry column as sjoin will discard it\n",
    "gdf_PIXC_cov['pseudo_geom'] = gdf_PIXC_cov.geometry"
   ]
  },
  {
   "cell_type": "markdown",
   "id": "92a9ee33-aacf-4733-ae9b-fb36a6e6c962",
   "metadata": {},
   "source": [
    "#### Read in buffered segments"
   ]
  },
  {
   "cell_type": "code",
   "execution_count": 53,
   "id": "b8ef5326-5cf2-4240-a1c8-48ef64066730",
   "metadata": {},
   "outputs": [],
   "source": [
    "data_path = '/nas/cee-water/cjgleason/fiona/narrow_rivers_PIXC_data/NHD_prepped_segmented_buffered/HUC2_' + huc2 + '/'"
   ]
  },
  {
   "cell_type": "code",
   "execution_count": 54,
   "id": "d7c3b8a2-b85a-476b-8eb6-1b28ab602a47",
   "metadata": {},
   "outputs": [],
   "source": [
    "file_paths = []\n",
    "\n",
    "for huc in huc4s:\n",
    "    file_path = data_path + 'NHDPLUS_H_' + huc + '_HU4_GDB_prepped_segmented_buffered_' + width_set + '.parquet'\n",
    "    file_paths.append(file_path)"
   ]
  },
  {
   "cell_type": "code",
   "execution_count": 55,
   "id": "2100985c-7d87-47d3-bdcd-e88313305a5c",
   "metadata": {},
   "outputs": [],
   "source": [
    "segments = dask_geopandas.read_parquet(path=file_paths)"
   ]
  },
  {
   "cell_type": "code",
   "execution_count": 56,
   "id": "88602038-2604-4e4a-9335-f95b8e080831",
   "metadata": {},
   "outputs": [],
   "source": [
    "segments = segments.compute()"
   ]
  },
  {
   "cell_type": "code",
   "execution_count": 57,
   "id": "ff1ab870-8a1e-40f2-ac46-aaf7d26d3cb2",
   "metadata": {},
   "outputs": [],
   "source": [
    "segments = segments.clip(pseudo_bounds)"
   ]
  },
  {
   "cell_type": "code",
   "execution_count": 58,
   "id": "3b7bbb49-83b0-4fdc-b0c8-e2dc41d3a8c5",
   "metadata": {},
   "outputs": [],
   "source": [
    "# Keep only reaches that are fully contained in PIXC granule\n",
    "segments = segments.groupby('NHDPlusID').filter(lambda x: len(x) == 10)"
   ]
  },
  {
   "cell_type": "code",
   "execution_count": 59,
   "id": "4dab7f5e-56a5-4877-b2df-354c8dc27321",
   "metadata": {},
   "outputs": [],
   "source": [
    "segments = segments.sort_values(by=['NHDPlusID', 'counter']).reset_index()"
   ]
  },
  {
   "cell_type": "code",
   "execution_count": 60,
   "id": "bb923ffc-210f-4e60-a02a-9d665e3ccc86",
   "metadata": {},
   "outputs": [],
   "source": [
    "segments = segments.drop(columns='index')"
   ]
  },
  {
   "cell_type": "code",
   "execution_count": 61,
   "id": "0b854ca8-21bb-4696-a910-f3e3238df018",
   "metadata": {},
   "outputs": [],
   "source": [
    "# Get number of reaches per bin\n",
    "counts = pd.DataFrame(segments.sort_values(by=['NHDPlusID', 'counter'])[::10].Bin_Min.value_counts()).reset_index()"
   ]
  },
  {
   "cell_type": "code",
   "execution_count": 62,
   "id": "75a4a80b-ddc1-436c-9f22-c29e6e98f20d",
   "metadata": {},
   "outputs": [
    {
     "data": {
      "text/html": [
       "<div>\n",
       "<style scoped>\n",
       "    .dataframe tbody tr th:only-of-type {\n",
       "        vertical-align: middle;\n",
       "    }\n",
       "\n",
       "    .dataframe tbody tr th {\n",
       "        vertical-align: top;\n",
       "    }\n",
       "\n",
       "    .dataframe thead th {\n",
       "        text-align: right;\n",
       "    }\n",
       "</style>\n",
       "<table border=\"1\" class=\"dataframe\">\n",
       "  <thead>\n",
       "    <tr style=\"text-align: right;\">\n",
       "      <th></th>\n",
       "      <th>Bin_Min</th>\n",
       "      <th>count</th>\n",
       "    </tr>\n",
       "  </thead>\n",
       "  <tbody>\n",
       "    <tr>\n",
       "      <th>0</th>\n",
       "      <td>(0, 10]</td>\n",
       "      <td>822</td>\n",
       "    </tr>\n",
       "    <tr>\n",
       "      <th>1</th>\n",
       "      <td>(10, 20]</td>\n",
       "      <td>63</td>\n",
       "    </tr>\n",
       "    <tr>\n",
       "      <th>2</th>\n",
       "      <td>(40, 50]</td>\n",
       "      <td>37</td>\n",
       "    </tr>\n",
       "    <tr>\n",
       "      <th>3</th>\n",
       "      <td>(20, 30]</td>\n",
       "      <td>29</td>\n",
       "    </tr>\n",
       "    <tr>\n",
       "      <th>4</th>\n",
       "      <td>(30, 40]</td>\n",
       "      <td>6</td>\n",
       "    </tr>\n",
       "  </tbody>\n",
       "</table>\n",
       "</div>"
      ],
      "text/plain": [
       "    Bin_Min  count\n",
       "0   (0, 10]    822\n",
       "1  (10, 20]     63\n",
       "2  (40, 50]     37\n",
       "3  (20, 30]     29\n",
       "4  (30, 40]      6"
      ]
     },
     "execution_count": 62,
     "metadata": {},
     "output_type": "execute_result"
    }
   ],
   "source": [
    "counts"
   ]
  },
  {
   "cell_type": "code",
   "execution_count": 63,
   "id": "175df691-6f78-4743-9422-044a045be63b",
   "metadata": {},
   "outputs": [],
   "source": [
    "# Calculate segment area\n",
    "segments['segment_area'] = segments.geometry.area"
   ]
  },
  {
   "cell_type": "markdown",
   "id": "0df472ae-f3a3-4d63-aed8-a046012d9838",
   "metadata": {},
   "source": [
    "#### Join and analyze coverage"
   ]
  },
  {
   "cell_type": "code",
   "execution_count": 64,
   "id": "ec5c6340-d7c4-43e2-b0f5-fd158e1c5f33",
   "metadata": {},
   "outputs": [],
   "source": [
    "# Merge the segments and pseudo-puxels by intersection\n",
    "sj = gpd.sjoin(segments, gdf_PIXC_cov, how='left', predicate='intersects').reset_index()"
   ]
  },
  {
   "cell_type": "code",
   "execution_count": 65,
   "id": "90c53174-5f74-4eca-812a-4922b419c652",
   "metadata": {},
   "outputs": [],
   "source": [
    "del gdf_PIXC_cov"
   ]
  },
  {
   "cell_type": "code",
   "execution_count": 66,
   "id": "ba0ac9e6-dab0-4041-88fb-d8822c992d36",
   "metadata": {},
   "outputs": [],
   "source": [
    "sj = sj.drop(columns=['index', 'index_old', 'index_right'])"
   ]
  },
  {
   "cell_type": "code",
   "execution_count": 67,
   "id": "6f9e5cbc-e442-446a-817a-6bb906375509",
   "metadata": {},
   "outputs": [],
   "source": [
    "# # NHDPlusID_left reflects the segment ids, keeping that one\n",
    "# sj = sj.drop(columns=['NHDPlusID_right', 'points', 'azimuth_index',\n",
    "#                       'range_index',\n",
    "#                       # 'height', 'geoid',\n",
    "#                       # 'klass',\n",
    "#                       'latitude', 'longitude'])"
   ]
  },
  {
   "cell_type": "code",
   "execution_count": 68,
   "id": "f48dcf6b-0694-4530-8210-b1f4e67503fb",
   "metadata": {},
   "outputs": [],
   "source": [
    "sj = sj.set_geometry('pseudo_geom')"
   ]
  },
  {
   "cell_type": "code",
   "execution_count": 69,
   "id": "3eb299f3-11fe-4a77-b980-74a147d91ed8",
   "metadata": {
    "tags": []
   },
   "outputs": [],
   "source": [
    "sj = sj.groupby('NHDPlusID', as_index=False).parallel_apply(user_defined_function=specialDissolve)"
   ]
  },
  {
   "cell_type": "code",
   "execution_count": 71,
   "id": "5f32fc46-db8a-4af3-b338-69916f89b970",
   "metadata": {},
   "outputs": [],
   "source": [
    "sj = sj.reset_index().drop(columns=['level_0', 'level_1', 'points',\n",
    "                                    # 'azimuth_index', 'range_index',\n",
    "                                    'cross_track', 'pixel_area',\n",
    "                                    'prior_water_prob', 'klass', 'pixel_centroid'])"
   ]
  },
  {
   "cell_type": "code",
   "execution_count": 72,
   "id": "72aa0b69-3521-4503-832d-8466a12a41f6",
   "metadata": {},
   "outputs": [],
   "source": [
    "sj['pseudo_geom_clip'] = sj.parallel_apply(user_defined_function=specialClip,\n",
    "                                           axis=1)"
   ]
  },
  {
   "cell_type": "code",
   "execution_count": 73,
   "id": "29f5b63e-eb10-4d3e-b58a-a9e578306285",
   "metadata": {},
   "outputs": [],
   "source": [
    "# Calculate the pseudo-pixel area within each node\n",
    "sj['pseudo_area'] = sj.pseudo_geom_clip.area"
   ]
  },
  {
   "cell_type": "code",
   "execution_count": 74,
   "id": "c0764bd5-a82b-45a5-9075-73fda889aa00",
   "metadata": {},
   "outputs": [],
   "source": [
    "sj['coverage'] = sj.pseudo_area/sj.segment_area"
   ]
  },
  {
   "cell_type": "code",
   "execution_count": 75,
   "id": "7ba267bf-a933-4d27-af5a-cd73331720db",
   "metadata": {
    "tags": []
   },
   "outputs": [],
   "source": [
    "sj['coverage'] = sj['coverage'].fillna(0)"
   ]
  },
  {
   "cell_type": "code",
   "execution_count": 90,
   "id": "1ad9b1e2-8bee-4280-80c5-26eed6bdd7dd",
   "metadata": {},
   "outputs": [],
   "source": [
    "# Drop geometry columns\n",
    "sj = sj.drop(columns=['pseudo_geom', 'buffers', 'pseudo_geom_clip', 'pseudo_area'])"
   ]
  },
  {
   "cell_type": "markdown",
   "id": "4ab43167-5144-45f7-ab2a-2911b7774a29",
   "metadata": {},
   "source": [
    "### Look at heights"
   ]
  },
  {
   "cell_type": "markdown",
   "id": "b2c2209e-c637-4040-9a8b-6847c08624cf",
   "metadata": {
    "tags": []
   },
   "source": [
    "#### Read in buffered flowlines"
   ]
  },
  {
   "cell_type": "code",
   "execution_count": 76,
   "id": "ff93d8c7-c987-45e5-a19e-50364ec3c2ea",
   "metadata": {},
   "outputs": [],
   "source": [
    "data_path = '/nas/cee-water/cjgleason/fiona/narrow_rivers_PIXC_data/NHD_prepped_buffered/HUC2_' + huc2 + '/'"
   ]
  },
  {
   "cell_type": "code",
   "execution_count": 77,
   "id": "b307280f-94c0-4d5c-802b-3e24566b286f",
   "metadata": {},
   "outputs": [],
   "source": [
    "file_paths = []\n",
    "\n",
    "for huc in huc4s:\n",
    "    file_path = data_path + 'NHDPLUS_H_' + huc + '_HU4_GDB_prepped_buffered_' + width_set + '.parquet'\n",
    "    file_paths.append(file_path)"
   ]
  },
  {
   "cell_type": "code",
   "execution_count": 148,
   "id": "1d7359f1-338d-4b43-91a5-5d07def17144",
   "metadata": {},
   "outputs": [],
   "source": [
    "reach_extent = dask_geopandas.read_parquet(path=file_paths, columns=['NHDPlusID', 'Bin', 'Slope', 'buffers'])"
   ]
  },
  {
   "cell_type": "code",
   "execution_count": 149,
   "id": "48d9a7b5-3a37-4f63-9303-eef93945112c",
   "metadata": {},
   "outputs": [],
   "source": [
    "reach_extent = reach_extent.compute()"
   ]
  },
  {
   "cell_type": "code",
   "execution_count": 150,
   "id": "61bb1edf-32a1-4e7e-879b-1aafa11701a4",
   "metadata": {},
   "outputs": [],
   "source": [
    "reach_extent['area'] = reach_extent['buffers'].area"
   ]
  },
  {
   "cell_type": "code",
   "execution_count": 151,
   "id": "a1214653-5f03-4bc2-9a43-2bf9c209f87f",
   "metadata": {},
   "outputs": [
    {
     "data": {
      "text/html": [
       "<div>\n",
       "<style scoped>\n",
       "    .dataframe tbody tr th:only-of-type {\n",
       "        vertical-align: middle;\n",
       "    }\n",
       "\n",
       "    .dataframe tbody tr th {\n",
       "        vertical-align: top;\n",
       "    }\n",
       "\n",
       "    .dataframe thead th {\n",
       "        text-align: right;\n",
       "    }\n",
       "</style>\n",
       "<table border=\"1\" class=\"dataframe\">\n",
       "  <thead>\n",
       "    <tr style=\"text-align: right;\">\n",
       "      <th></th>\n",
       "      <th>NHDPlusID</th>\n",
       "      <th>Bin</th>\n",
       "      <th>Slope</th>\n",
       "      <th>buffers</th>\n",
       "      <th>area</th>\n",
       "    </tr>\n",
       "  </thead>\n",
       "  <tbody>\n",
       "    <tr>\n",
       "      <th>0</th>\n",
       "      <td>5.000100e+12</td>\n",
       "      <td>(0, 10]</td>\n",
       "      <td>0.000685</td>\n",
       "      <td>POLYGON ((-7556034.129 5901200.235, -7556034.0...</td>\n",
       "      <td>521.018301</td>\n",
       "    </tr>\n",
       "    <tr>\n",
       "      <th>1</th>\n",
       "      <td>5.000100e+12</td>\n",
       "      <td>(0, 10]</td>\n",
       "      <td>0.032476</td>\n",
       "      <td>POLYGON ((-7555847.863 5901227.057, -7555869.1...</td>\n",
       "      <td>255.772674</td>\n",
       "    </tr>\n",
       "    <tr>\n",
       "      <th>2</th>\n",
       "      <td>5.000100e+12</td>\n",
       "      <td>(10, 20]</td>\n",
       "      <td>0.009537</td>\n",
       "      <td>POLYGON ((-7555471.52 5905143.422, -7555365.19...</td>\n",
       "      <td>21125.079347</td>\n",
       "    </tr>\n",
       "    <tr>\n",
       "      <th>3</th>\n",
       "      <td>5.000100e+12</td>\n",
       "      <td>(100, 150]</td>\n",
       "      <td>0.000010</td>\n",
       "      <td>POLYGON ((-7556288.564 5911593.294, -7556282.2...</td>\n",
       "      <td>123482.896693</td>\n",
       "    </tr>\n",
       "    <tr>\n",
       "      <th>4</th>\n",
       "      <td>5.000100e+12</td>\n",
       "      <td>(0, 10]</td>\n",
       "      <td>0.017952</td>\n",
       "      <td>POLYGON ((-7555187.066 5910167.776, -7555218.8...</td>\n",
       "      <td>286.078229</td>\n",
       "    </tr>\n",
       "    <tr>\n",
       "      <th>...</th>\n",
       "      <td>...</td>\n",
       "      <td>...</td>\n",
       "      <td>...</td>\n",
       "      <td>...</td>\n",
       "      <td>...</td>\n",
       "    </tr>\n",
       "    <tr>\n",
       "      <th>17740</th>\n",
       "      <td>5.000200e+12</td>\n",
       "      <td>(30, 40]</td>\n",
       "      <td>0.000010</td>\n",
       "      <td>POLYGON ((-7554607.624 5613526.083, -7554475.4...</td>\n",
       "      <td>70410.088357</td>\n",
       "    </tr>\n",
       "    <tr>\n",
       "      <th>17741</th>\n",
       "      <td>5.000200e+12</td>\n",
       "      <td>(0, 10]</td>\n",
       "      <td>0.011684</td>\n",
       "      <td>POLYGON ((-7475689.231 5640936.81, -7475686.61...</td>\n",
       "      <td>10167.053436</td>\n",
       "    </tr>\n",
       "    <tr>\n",
       "      <th>17742</th>\n",
       "      <td>5.000200e+12</td>\n",
       "      <td>(10, 20]</td>\n",
       "      <td>0.001614</td>\n",
       "      <td>POLYGON ((-7585942.994 5615398.404, -7585872.2...</td>\n",
       "      <td>12993.657951</td>\n",
       "    </tr>\n",
       "    <tr>\n",
       "      <th>17743</th>\n",
       "      <td>5.000200e+12</td>\n",
       "      <td>(10, 20]</td>\n",
       "      <td>0.003280</td>\n",
       "      <td>POLYGON ((-7533936.053 5607778.047, -7533935.7...</td>\n",
       "      <td>54281.052127</td>\n",
       "    </tr>\n",
       "    <tr>\n",
       "      <th>17744</th>\n",
       "      <td>5.000200e+12</td>\n",
       "      <td>(0, 10]</td>\n",
       "      <td>0.003481</td>\n",
       "      <td>POLYGON ((-7570855.189 5549786.543, -7570854.9...</td>\n",
       "      <td>21144.391034</td>\n",
       "    </tr>\n",
       "  </tbody>\n",
       "</table>\n",
       "<p>55347 rows × 5 columns</p>\n",
       "</div>"
      ],
      "text/plain": [
       "          NHDPlusID         Bin     Slope  \\\n",
       "0      5.000100e+12     (0, 10]  0.000685   \n",
       "1      5.000100e+12     (0, 10]  0.032476   \n",
       "2      5.000100e+12    (10, 20]  0.009537   \n",
       "3      5.000100e+12  (100, 150]  0.000010   \n",
       "4      5.000100e+12     (0, 10]  0.017952   \n",
       "...             ...         ...       ...   \n",
       "17740  5.000200e+12    (30, 40]  0.000010   \n",
       "17741  5.000200e+12     (0, 10]  0.011684   \n",
       "17742  5.000200e+12    (10, 20]  0.001614   \n",
       "17743  5.000200e+12    (10, 20]  0.003280   \n",
       "17744  5.000200e+12     (0, 10]  0.003481   \n",
       "\n",
       "                                                 buffers           area  \n",
       "0      POLYGON ((-7556034.129 5901200.235, -7556034.0...     521.018301  \n",
       "1      POLYGON ((-7555847.863 5901227.057, -7555869.1...     255.772674  \n",
       "2      POLYGON ((-7555471.52 5905143.422, -7555365.19...   21125.079347  \n",
       "3      POLYGON ((-7556288.564 5911593.294, -7556282.2...  123482.896693  \n",
       "4      POLYGON ((-7555187.066 5910167.776, -7555218.8...     286.078229  \n",
       "...                                                  ...            ...  \n",
       "17740  POLYGON ((-7554607.624 5613526.083, -7554475.4...   70410.088357  \n",
       "17741  POLYGON ((-7475689.231 5640936.81, -7475686.61...   10167.053436  \n",
       "17742  POLYGON ((-7585942.994 5615398.404, -7585872.2...   12993.657951  \n",
       "17743  POLYGON ((-7533936.053 5607778.047, -7533935.7...   54281.052127  \n",
       "17744  POLYGON ((-7570855.189 5549786.543, -7570854.9...   21144.391034  \n",
       "\n",
       "[55347 rows x 5 columns]"
      ]
     },
     "execution_count": 151,
     "metadata": {},
     "output_type": "execute_result"
    }
   ],
   "source": [
    "reach_extent"
   ]
  },
  {
   "cell_type": "markdown",
   "id": "83248a46-78bf-4d48-8947-6e7fd6bb7301",
   "metadata": {},
   "source": [
    "### For heights"
   ]
  },
  {
   "cell_type": "code",
   "execution_count": 80,
   "id": "1ffd6905-eb48-4484-b79a-344c13d29ff0",
   "metadata": {},
   "outputs": [],
   "source": [
    "height_klass = [3, 4, 6, 7]"
   ]
  },
  {
   "cell_type": "code",
   "execution_count": 81,
   "id": "22a77353-bafb-4791-be99-b26dbafa8773",
   "metadata": {},
   "outputs": [],
   "source": [
    "for_heights = gdf_PIXC_wse[gdf_PIXC_wse.klass.isin(height_klass)].reset_index().drop(columns='index')"
   ]
  },
  {
   "cell_type": "code",
   "execution_count": 82,
   "id": "0bfa178e-764f-4f89-ba13-41a6df5d77dd",
   "metadata": {},
   "outputs": [],
   "source": [
    "# Clip masked pixels to buffered reaches\n",
    "gdf_wse = gpd.sjoin(for_heights, reach_extent, how='inner', predicate='intersects').reset_index()"
   ]
  },
  {
   "cell_type": "code",
   "execution_count": 83,
   "id": "8d18293a-f111-4de1-ad4e-11d5b2f2ec5c",
   "metadata": {},
   "outputs": [
    {
     "data": {
      "text/plain": [
       "Index(['index', 'points', 'cross_track', 'pixel_area', 'prior_water_prob',\n",
       "       'klass', 'geometry', 'wse', 'index_right', 'NHDPlusID', 'Slope'],\n",
       "      dtype='object')"
      ]
     },
     "execution_count": 83,
     "metadata": {},
     "output_type": "execute_result"
    }
   ],
   "source": [
    "gdf_wse.columns"
   ]
  },
  {
   "cell_type": "code",
   "execution_count": 84,
   "id": "fbabd6cb-47da-4ffc-a800-64b0058ed188",
   "metadata": {},
   "outputs": [],
   "source": [
    "gdf_wse = gdf_wse.drop(columns=['index', 'index_right'])"
   ]
  },
  {
   "cell_type": "code",
   "execution_count": 85,
   "id": "70b117d0-c4ce-4017-a99b-ce5e8ea5d6e5",
   "metadata": {},
   "outputs": [
    {
     "data": {
      "text/plain": [
       "225"
      ]
     },
     "execution_count": 85,
     "metadata": {},
     "output_type": "execute_result"
    }
   ],
   "source": [
    "len(gdf_wse.NHDPlusID.unique())"
   ]
  },
  {
   "cell_type": "code",
   "execution_count": 86,
   "id": "0187fd11-45f4-48c7-97b8-a2d46912a4cf",
   "metadata": {},
   "outputs": [],
   "source": [
    "gdf_wse = pd.merge(left=gdf_wse, right=flowlines[['NHDPlusID', 'flowlines']], on='NHDPlusID')"
   ]
  },
  {
   "cell_type": "code",
   "execution_count": 87,
   "id": "1eb2c5e0-af25-43fc-9bdf-81c05d53f29a",
   "metadata": {},
   "outputs": [],
   "source": [
    "def project_point(line, point):\n",
    "    # Project point onto line\n",
    "    return line.project(point)"
   ]
  },
  {
   "cell_type": "code",
   "execution_count": 91,
   "id": "b5c268da-c608-4d15-9dc0-ceeef819b71e",
   "metadata": {},
   "outputs": [],
   "source": [
    "gdf_wse['distance'] = gdf_wse.apply(lambda x: project_point(x['flowlines'], x['geometry']), axis=1)"
   ]
  },
  {
   "cell_type": "code",
   "execution_count": 92,
   "id": "13fbe996-61dd-4b35-94b5-64ad29522428",
   "metadata": {},
   "outputs": [],
   "source": [
    "gdf_wse = gdf_wse.drop(columns='flowlines')"
   ]
  },
  {
   "cell_type": "code",
   "execution_count": 93,
   "id": "8191e021-08cf-4b8b-afda-6b500026af50",
   "metadata": {},
   "outputs": [],
   "source": [
    "ids = gdf_wse['NHDPlusID'].unique()"
   ]
  },
  {
   "cell_type": "code",
   "execution_count": 94,
   "id": "87dd17ba-0400-429d-a1cd-b8c0fe6a5f7f",
   "metadata": {},
   "outputs": [],
   "source": [
    "slope_swot = []\n",
    "\n",
    "for i in ids:\n",
    "    temp = gdf_wse[gdf_wse['NHDPlusID'] == i][['distance', 'wse']]\n",
    "    dist = temp['distance'].tolist()\n",
    "    wse = temp['wse'].tolist()\n",
    "    \n",
    "    if len(set(dist)) == 1:\n",
    "        slope_swot.append(np.nan)\n",
    "    else:\n",
    "        slope_swot.append(stats.linregress(x=dist, y=wse).slope)"
   ]
  },
  {
   "cell_type": "code",
   "execution_count": 95,
   "id": "0041dc4e-2fd8-42a8-92ed-b756d72a08e5",
   "metadata": {},
   "outputs": [],
   "source": [
    "temp = pd.DataFrame({'NHDPlusID': ids, 'slope_swot': slope_swot})\n",
    "temp['slope_swot'] = np.abs(temp['slope_swot'])"
   ]
  },
  {
   "cell_type": "code",
   "execution_count": 96,
   "id": "418e0db4-f804-49b5-9831-5c66e23e6a4e",
   "metadata": {
    "tags": []
   },
   "outputs": [],
   "source": [
    "gdf_wse = pd.merge(left=gdf_wse, right=temp, how='left', on='NHDPlusID')"
   ]
  },
  {
   "cell_type": "code",
   "execution_count": 97,
   "id": "4a4178f6-1d0f-44e8-9a72-0abeea76f45e",
   "metadata": {},
   "outputs": [],
   "source": [
    "gdf_wse = gdf_wse.drop_duplicates(subset='NHDPlusID').reset_index()"
   ]
  },
  {
   "cell_type": "code",
   "execution_count": 98,
   "id": "da0eecea-f32d-4ba7-b180-5b3daeb106e4",
   "metadata": {},
   "outputs": [],
   "source": [
    "def checkMag(df):\n",
    "    # if df['slope_swot'] > df['Slope']:\n",
    "    #     ratio = df['slope_swot'] / df['Slope']\n",
    "    # else:\n",
    "    #     ratio = df['Slope'] / df['slope_swot']\n",
    "    if np.isnan(df['slope_swot']):\n",
    "        return False\n",
    "    \n",
    "    else:\n",
    "        order1 = math.floor(math.log10(df['slope_swot']))\n",
    "        order2 = math.floor(math.log10(df['Slope']))\n",
    "        \n",
    "    # if (ratio > 0.1) and (ratio < 10):\n",
    "    #     return True\n",
    "    # else:\n",
    "    #     return False\n",
    "\n",
    "        if order1 == order2:\n",
    "            return True\n",
    "        else:\n",
    "            return False"
   ]
  },
  {
   "cell_type": "code",
   "execution_count": 99,
   "id": "50616919-4477-4125-a7ae-830024fc9fff",
   "metadata": {},
   "outputs": [],
   "source": [
    "gdf_wse['slope_match'] = gdf_wse.apply(func = checkMag, axis=1)"
   ]
  },
  {
   "cell_type": "code",
   "execution_count": 104,
   "id": "8f5015ec-7add-4248-9211-2eff5aeed759",
   "metadata": {},
   "outputs": [],
   "source": [
    "slope_match = gdf_wse[gdf_wse['slope_match'] == True]['NHDPlusID'].tolist()"
   ]
  },
  {
   "cell_type": "code",
   "execution_count": 111,
   "id": "56e857fe-190f-4613-be47-93441d289466",
   "metadata": {},
   "outputs": [],
   "source": [
    "sj['good_wse'] = np.where(sj['NHDPlusID'].isin(slope_match), True, False)"
   ]
  },
  {
   "cell_type": "code",
   "execution_count": 116,
   "id": "cc2361d6-ac1f-4666-8c7c-a8a64dda0af0",
   "metadata": {},
   "outputs": [
    {
     "data": {
      "text/html": [
       "<div>\n",
       "<style scoped>\n",
       "    .dataframe tbody tr th:only-of-type {\n",
       "        vertical-align: middle;\n",
       "    }\n",
       "\n",
       "    .dataframe tbody tr th {\n",
       "        vertical-align: top;\n",
       "    }\n",
       "\n",
       "    .dataframe thead th {\n",
       "        text-align: right;\n",
       "    }\n",
       "</style>\n",
       "<table border=\"1\" class=\"dataframe\">\n",
       "  <thead>\n",
       "    <tr style=\"text-align: right;\">\n",
       "      <th></th>\n",
       "      <th>Bin</th>\n",
       "      <th>count</th>\n",
       "    </tr>\n",
       "  </thead>\n",
       "  <tbody>\n",
       "    <tr>\n",
       "      <th>0</th>\n",
       "      <td>(0, 10]</td>\n",
       "      <td>759</td>\n",
       "    </tr>\n",
       "    <tr>\n",
       "      <th>1</th>\n",
       "      <td>(10, 20]</td>\n",
       "      <td>110</td>\n",
       "    </tr>\n",
       "    <tr>\n",
       "      <th>2</th>\n",
       "      <td>(20, 30]</td>\n",
       "      <td>25</td>\n",
       "    </tr>\n",
       "    <tr>\n",
       "      <th>3</th>\n",
       "      <td>(50, 60]</td>\n",
       "      <td>24</td>\n",
       "    </tr>\n",
       "    <tr>\n",
       "      <th>4</th>\n",
       "      <td>(30, 40]</td>\n",
       "      <td>21</td>\n",
       "    </tr>\n",
       "    <tr>\n",
       "      <th>5</th>\n",
       "      <td>(60, 70]</td>\n",
       "      <td>13</td>\n",
       "    </tr>\n",
       "    <tr>\n",
       "      <th>6</th>\n",
       "      <td>(40, 50]</td>\n",
       "      <td>5</td>\n",
       "    </tr>\n",
       "  </tbody>\n",
       "</table>\n",
       "</div>"
      ],
      "text/plain": [
       "        Bin  count\n",
       "0   (0, 10]    759\n",
       "1  (10, 20]    110\n",
       "2  (20, 30]     25\n",
       "3  (50, 60]     24\n",
       "4  (30, 40]     21\n",
       "5  (60, 70]     13\n",
       "6  (40, 50]      5"
      ]
     },
     "execution_count": 116,
     "metadata": {},
     "output_type": "execute_result"
    }
   ],
   "source": [
    "pd.DataFrame(sj.sort_values(by=['NHDPlusID', 'counter'])[::10].Bin.value_counts()).reset_index()"
   ]
  },
  {
   "cell_type": "code",
   "execution_count": 129,
   "id": "74233671-de2a-446c-9671-2122368e316d",
   "metadata": {},
   "outputs": [],
   "source": [
    "reaches_min = pd.DataFrame(sj.groupby('NHDPlusID')['coverage'].min()).reset_index()"
   ]
  },
  {
   "cell_type": "code",
   "execution_count": 131,
   "id": "4a392daf-8183-45c4-b4f0-0f4a211257af",
   "metadata": {},
   "outputs": [],
   "source": [
    "# Merge on bins\n",
    "reaches_min = pd.merge(left=reaches_min, right=sj[['NHDPlusID', 'Bin']], how='left', on='NHDPlusID')\n",
    "# Take every tenth row to get reach-level results\n",
    "reaches_min = reaches_min.sort_values(by=['NHDPlusID'])[::10].reset_index()"
   ]
  },
  {
   "cell_type": "code",
   "execution_count": 135,
   "id": "cd309a69-1d90-4c4e-b07b-2c7f43c0f5d0",
   "metadata": {},
   "outputs": [
    {
     "data": {
      "text/html": [
       "<div>\n",
       "<style scoped>\n",
       "    .dataframe tbody tr th:only-of-type {\n",
       "        vertical-align: middle;\n",
       "    }\n",
       "\n",
       "    .dataframe tbody tr th {\n",
       "        vertical-align: top;\n",
       "    }\n",
       "\n",
       "    .dataframe thead th {\n",
       "        text-align: right;\n",
       "    }\n",
       "</style>\n",
       "<table border=\"1\" class=\"dataframe\">\n",
       "  <thead>\n",
       "    <tr style=\"text-align: right;\">\n",
       "      <th></th>\n",
       "      <th>Bin</th>\n",
       "      <th>count</th>\n",
       "    </tr>\n",
       "  </thead>\n",
       "  <tbody>\n",
       "    <tr>\n",
       "      <th>0</th>\n",
       "      <td>(50, 60]</td>\n",
       "      <td>12</td>\n",
       "    </tr>\n",
       "    <tr>\n",
       "      <th>1</th>\n",
       "      <td>(0, 10]</td>\n",
       "      <td>8</td>\n",
       "    </tr>\n",
       "    <tr>\n",
       "      <th>2</th>\n",
       "      <td>(60, 70]</td>\n",
       "      <td>5</td>\n",
       "    </tr>\n",
       "    <tr>\n",
       "      <th>3</th>\n",
       "      <td>(20, 30]</td>\n",
       "      <td>4</td>\n",
       "    </tr>\n",
       "    <tr>\n",
       "      <th>4</th>\n",
       "      <td>(10, 20]</td>\n",
       "      <td>2</td>\n",
       "    </tr>\n",
       "    <tr>\n",
       "      <th>5</th>\n",
       "      <td>(30, 40]</td>\n",
       "      <td>1</td>\n",
       "    </tr>\n",
       "  </tbody>\n",
       "</table>\n",
       "</div>"
      ],
      "text/plain": [
       "        Bin  count\n",
       "0  (50, 60]     12\n",
       "1   (0, 10]      8\n",
       "2  (60, 70]      5\n",
       "3  (20, 30]      4\n",
       "4  (10, 20]      2\n",
       "5  (30, 40]      1"
      ]
     },
     "execution_count": 135,
     "metadata": {},
     "output_type": "execute_result"
    }
   ],
   "source": [
    "pd.DataFrame(reaches_min[reaches_min['coverage'] > 0.1].Bin.value_counts()).reset_index()"
   ]
  },
  {
   "cell_type": "code",
   "execution_count": 117,
   "id": "e7ddff26-42be-4bfe-802c-a09bf22451b7",
   "metadata": {},
   "outputs": [
    {
     "data": {
      "text/html": [
       "<div>\n",
       "<style scoped>\n",
       "    .dataframe tbody tr th:only-of-type {\n",
       "        vertical-align: middle;\n",
       "    }\n",
       "\n",
       "    .dataframe tbody tr th {\n",
       "        vertical-align: top;\n",
       "    }\n",
       "\n",
       "    .dataframe thead th {\n",
       "        text-align: right;\n",
       "    }\n",
       "</style>\n",
       "<table border=\"1\" class=\"dataframe\">\n",
       "  <thead>\n",
       "    <tr style=\"text-align: right;\">\n",
       "      <th></th>\n",
       "      <th>Bin</th>\n",
       "      <th>count</th>\n",
       "    </tr>\n",
       "  </thead>\n",
       "  <tbody>\n",
       "    <tr>\n",
       "      <th>0</th>\n",
       "      <td>(0, 10]</td>\n",
       "      <td>31</td>\n",
       "    </tr>\n",
       "    <tr>\n",
       "      <th>1</th>\n",
       "      <td>(10, 20]</td>\n",
       "      <td>12</td>\n",
       "    </tr>\n",
       "    <tr>\n",
       "      <th>2</th>\n",
       "      <td>(50, 60]</td>\n",
       "      <td>12</td>\n",
       "    </tr>\n",
       "    <tr>\n",
       "      <th>3</th>\n",
       "      <td>(60, 70]</td>\n",
       "      <td>6</td>\n",
       "    </tr>\n",
       "    <tr>\n",
       "      <th>4</th>\n",
       "      <td>(30, 40]</td>\n",
       "      <td>4</td>\n",
       "    </tr>\n",
       "    <tr>\n",
       "      <th>5</th>\n",
       "      <td>(20, 30]</td>\n",
       "      <td>2</td>\n",
       "    </tr>\n",
       "  </tbody>\n",
       "</table>\n",
       "</div>"
      ],
      "text/plain": [
       "        Bin  count\n",
       "0   (0, 10]     31\n",
       "1  (10, 20]     12\n",
       "2  (50, 60]     12\n",
       "3  (60, 70]      6\n",
       "4  (30, 40]      4\n",
       "5  (20, 30]      2"
      ]
     },
     "execution_count": 117,
     "metadata": {},
     "output_type": "execute_result"
    }
   ],
   "source": [
    "pd.DataFrame(sj[sj['good_wse'] == True].sort_values(by=['NHDPlusID', 'counter'])[::10].Bin.value_counts()).reset_index()"
   ]
  },
  {
   "cell_type": "code",
   "execution_count": 142,
   "id": "32efa21a-3caa-41a2-a376-eaa6564f0bb6",
   "metadata": {},
   "outputs": [
    {
     "data": {
      "text/html": [
       "<div>\n",
       "<style scoped>\n",
       "    .dataframe tbody tr th:only-of-type {\n",
       "        vertical-align: middle;\n",
       "    }\n",
       "\n",
       "    .dataframe tbody tr th {\n",
       "        vertical-align: top;\n",
       "    }\n",
       "\n",
       "    .dataframe thead th {\n",
       "        text-align: right;\n",
       "    }\n",
       "</style>\n",
       "<table border=\"1\" class=\"dataframe\">\n",
       "  <thead>\n",
       "    <tr style=\"text-align: right;\">\n",
       "      <th></th>\n",
       "      <th>counter</th>\n",
       "      <th>NHDPlusID</th>\n",
       "      <th>GNIS_Name</th>\n",
       "      <th>LengthKM</th>\n",
       "      <th>WidthM</th>\n",
       "      <th>WidthM_Min</th>\n",
       "      <th>WidthM_Max</th>\n",
       "      <th>Bin</th>\n",
       "      <th>Bin_Min</th>\n",
       "      <th>Bin_Max</th>\n",
       "      <th>StreamOrde</th>\n",
       "      <th>Slope</th>\n",
       "      <th>segment_area</th>\n",
       "      <th>coverage</th>\n",
       "      <th>good_wse</th>\n",
       "    </tr>\n",
       "  </thead>\n",
       "  <tbody>\n",
       "    <tr>\n",
       "      <th>1090</th>\n",
       "      <td>0</td>\n",
       "      <td>5.000200e+12</td>\n",
       "      <td>Tomah Stream</td>\n",
       "      <td>0.713</td>\n",
       "      <td>34.972976</td>\n",
       "      <td>26.529716</td>\n",
       "      <td>46.103362</td>\n",
       "      <td>(30, 40]</td>\n",
       "      <td>(20, 30]</td>\n",
       "      <td>(40, 50]</td>\n",
       "      <td>4</td>\n",
       "      <td>0.001725</td>\n",
       "      <td>3548.656625</td>\n",
       "      <td>0.010746</td>\n",
       "      <td>True</td>\n",
       "    </tr>\n",
       "    <tr>\n",
       "      <th>1091</th>\n",
       "      <td>1</td>\n",
       "      <td>5.000200e+12</td>\n",
       "      <td>Tomah Stream</td>\n",
       "      <td>0.713</td>\n",
       "      <td>34.972976</td>\n",
       "      <td>26.529716</td>\n",
       "      <td>46.103362</td>\n",
       "      <td>(30, 40]</td>\n",
       "      <td>(20, 30]</td>\n",
       "      <td>(40, 50]</td>\n",
       "      <td>4</td>\n",
       "      <td>0.001725</td>\n",
       "      <td>3550.342945</td>\n",
       "      <td>0.000000</td>\n",
       "      <td>True</td>\n",
       "    </tr>\n",
       "    <tr>\n",
       "      <th>1092</th>\n",
       "      <td>2</td>\n",
       "      <td>5.000200e+12</td>\n",
       "      <td>Tomah Stream</td>\n",
       "      <td>0.713</td>\n",
       "      <td>34.972976</td>\n",
       "      <td>26.529716</td>\n",
       "      <td>46.103362</td>\n",
       "      <td>(30, 40]</td>\n",
       "      <td>(20, 30]</td>\n",
       "      <td>(40, 50]</td>\n",
       "      <td>4</td>\n",
       "      <td>0.001725</td>\n",
       "      <td>3552.919990</td>\n",
       "      <td>0.000000</td>\n",
       "      <td>True</td>\n",
       "    </tr>\n",
       "    <tr>\n",
       "      <th>1093</th>\n",
       "      <td>3</td>\n",
       "      <td>5.000200e+12</td>\n",
       "      <td>Tomah Stream</td>\n",
       "      <td>0.713</td>\n",
       "      <td>34.972976</td>\n",
       "      <td>26.529716</td>\n",
       "      <td>46.103362</td>\n",
       "      <td>(30, 40]</td>\n",
       "      <td>(20, 30]</td>\n",
       "      <td>(40, 50]</td>\n",
       "      <td>4</td>\n",
       "      <td>0.001725</td>\n",
       "      <td>3547.634988</td>\n",
       "      <td>0.351520</td>\n",
       "      <td>True</td>\n",
       "    </tr>\n",
       "    <tr>\n",
       "      <th>1094</th>\n",
       "      <td>4</td>\n",
       "      <td>5.000200e+12</td>\n",
       "      <td>Tomah Stream</td>\n",
       "      <td>0.713</td>\n",
       "      <td>34.972976</td>\n",
       "      <td>26.529716</td>\n",
       "      <td>46.103362</td>\n",
       "      <td>(30, 40]</td>\n",
       "      <td>(20, 30]</td>\n",
       "      <td>(40, 50]</td>\n",
       "      <td>4</td>\n",
       "      <td>0.001725</td>\n",
       "      <td>3547.945992</td>\n",
       "      <td>0.232326</td>\n",
       "      <td>True</td>\n",
       "    </tr>\n",
       "    <tr>\n",
       "      <th>1095</th>\n",
       "      <td>5</td>\n",
       "      <td>5.000200e+12</td>\n",
       "      <td>Tomah Stream</td>\n",
       "      <td>0.713</td>\n",
       "      <td>34.972976</td>\n",
       "      <td>26.529716</td>\n",
       "      <td>46.103362</td>\n",
       "      <td>(30, 40]</td>\n",
       "      <td>(20, 30]</td>\n",
       "      <td>(40, 50]</td>\n",
       "      <td>4</td>\n",
       "      <td>0.001725</td>\n",
       "      <td>3550.342945</td>\n",
       "      <td>0.000000</td>\n",
       "      <td>True</td>\n",
       "    </tr>\n",
       "    <tr>\n",
       "      <th>1096</th>\n",
       "      <td>6</td>\n",
       "      <td>5.000200e+12</td>\n",
       "      <td>Tomah Stream</td>\n",
       "      <td>0.713</td>\n",
       "      <td>34.972976</td>\n",
       "      <td>26.529716</td>\n",
       "      <td>46.103362</td>\n",
       "      <td>(30, 40]</td>\n",
       "      <td>(20, 30]</td>\n",
       "      <td>(40, 50]</td>\n",
       "      <td>4</td>\n",
       "      <td>0.001725</td>\n",
       "      <td>3548.969664</td>\n",
       "      <td>0.000000</td>\n",
       "      <td>True</td>\n",
       "    </tr>\n",
       "    <tr>\n",
       "      <th>1097</th>\n",
       "      <td>7</td>\n",
       "      <td>5.000200e+12</td>\n",
       "      <td>Tomah Stream</td>\n",
       "      <td>0.713</td>\n",
       "      <td>34.972976</td>\n",
       "      <td>26.529716</td>\n",
       "      <td>46.103362</td>\n",
       "      <td>(30, 40]</td>\n",
       "      <td>(20, 30]</td>\n",
       "      <td>(40, 50]</td>\n",
       "      <td>4</td>\n",
       "      <td>0.001725</td>\n",
       "      <td>3550.067189</td>\n",
       "      <td>0.000000</td>\n",
       "      <td>True</td>\n",
       "    </tr>\n",
       "    <tr>\n",
       "      <th>1098</th>\n",
       "      <td>8</td>\n",
       "      <td>5.000200e+12</td>\n",
       "      <td>Tomah Stream</td>\n",
       "      <td>0.713</td>\n",
       "      <td>34.972976</td>\n",
       "      <td>26.529716</td>\n",
       "      <td>46.103362</td>\n",
       "      <td>(30, 40]</td>\n",
       "      <td>(20, 30]</td>\n",
       "      <td>(40, 50]</td>\n",
       "      <td>4</td>\n",
       "      <td>0.001725</td>\n",
       "      <td>3550.342945</td>\n",
       "      <td>0.000000</td>\n",
       "      <td>True</td>\n",
       "    </tr>\n",
       "    <tr>\n",
       "      <th>1099</th>\n",
       "      <td>9</td>\n",
       "      <td>5.000200e+12</td>\n",
       "      <td>Tomah Stream</td>\n",
       "      <td>0.713</td>\n",
       "      <td>34.972976</td>\n",
       "      <td>26.529716</td>\n",
       "      <td>46.103362</td>\n",
       "      <td>(30, 40]</td>\n",
       "      <td>(20, 30]</td>\n",
       "      <td>(40, 50]</td>\n",
       "      <td>4</td>\n",
       "      <td>0.001725</td>\n",
       "      <td>3548.402701</td>\n",
       "      <td>0.000000</td>\n",
       "      <td>True</td>\n",
       "    </tr>\n",
       "  </tbody>\n",
       "</table>\n",
       "</div>"
      ],
      "text/plain": [
       "      counter     NHDPlusID     GNIS_Name  LengthKM     WidthM  WidthM_Min  \\\n",
       "1090        0  5.000200e+12  Tomah Stream     0.713  34.972976   26.529716   \n",
       "1091        1  5.000200e+12  Tomah Stream     0.713  34.972976   26.529716   \n",
       "1092        2  5.000200e+12  Tomah Stream     0.713  34.972976   26.529716   \n",
       "1093        3  5.000200e+12  Tomah Stream     0.713  34.972976   26.529716   \n",
       "1094        4  5.000200e+12  Tomah Stream     0.713  34.972976   26.529716   \n",
       "1095        5  5.000200e+12  Tomah Stream     0.713  34.972976   26.529716   \n",
       "1096        6  5.000200e+12  Tomah Stream     0.713  34.972976   26.529716   \n",
       "1097        7  5.000200e+12  Tomah Stream     0.713  34.972976   26.529716   \n",
       "1098        8  5.000200e+12  Tomah Stream     0.713  34.972976   26.529716   \n",
       "1099        9  5.000200e+12  Tomah Stream     0.713  34.972976   26.529716   \n",
       "\n",
       "      WidthM_Max       Bin   Bin_Min   Bin_Max  StreamOrde     Slope  \\\n",
       "1090   46.103362  (30, 40]  (20, 30]  (40, 50]           4  0.001725   \n",
       "1091   46.103362  (30, 40]  (20, 30]  (40, 50]           4  0.001725   \n",
       "1092   46.103362  (30, 40]  (20, 30]  (40, 50]           4  0.001725   \n",
       "1093   46.103362  (30, 40]  (20, 30]  (40, 50]           4  0.001725   \n",
       "1094   46.103362  (30, 40]  (20, 30]  (40, 50]           4  0.001725   \n",
       "1095   46.103362  (30, 40]  (20, 30]  (40, 50]           4  0.001725   \n",
       "1096   46.103362  (30, 40]  (20, 30]  (40, 50]           4  0.001725   \n",
       "1097   46.103362  (30, 40]  (20, 30]  (40, 50]           4  0.001725   \n",
       "1098   46.103362  (30, 40]  (20, 30]  (40, 50]           4  0.001725   \n",
       "1099   46.103362  (30, 40]  (20, 30]  (40, 50]           4  0.001725   \n",
       "\n",
       "      segment_area  coverage  good_wse  \n",
       "1090   3548.656625  0.010746      True  \n",
       "1091   3550.342945  0.000000      True  \n",
       "1092   3552.919990  0.000000      True  \n",
       "1093   3547.634988  0.351520      True  \n",
       "1094   3547.945992  0.232326      True  \n",
       "1095   3550.342945  0.000000      True  \n",
       "1096   3548.969664  0.000000      True  \n",
       "1097   3550.067189  0.000000      True  \n",
       "1098   3550.342945  0.000000      True  \n",
       "1099   3548.402701  0.000000      True  "
      ]
     },
     "execution_count": 142,
     "metadata": {},
     "output_type": "execute_result"
    }
   ],
   "source": [
    "sj[sj['good_wse'] == True].iloc[50:60]"
   ]
  },
  {
   "cell_type": "markdown",
   "id": "622bd27e-cf7c-4c1e-a7aa-b2ed4f32d675",
   "metadata": {},
   "source": [
    "### Do stats"
   ]
  },
  {
   "cell_type": "code",
   "execution_count": null,
   "id": "ed1d559f-4dba-4724-bd78-75421e17e7a3",
   "metadata": {
    "tags": []
   },
   "outputs": [],
   "source": [
    "bins = sj.Bin.unique()"
   ]
  },
  {
   "cell_type": "markdown",
   "id": "b9b2b467-5cc8-4d40-94ba-17d3de0807fc",
   "metadata": {},
   "source": [
    "#### Reaches"
   ]
  },
  {
   "cell_type": "code",
   "execution_count": null,
   "id": "01063fdc-cd34-4167-9478-b98716293723",
   "metadata": {},
   "outputs": [],
   "source": [
    "reaches_cent, reaches_thresh, reaches_min = summarizeCoverage(df=sj, binn=binn,\n",
    "                                            bins=bins, counts=counts)"
   ]
  },
  {
   "cell_type": "code",
   "execution_count": null,
   "id": "d970a001-366f-4cb9-8e90-d64d62353d0c",
   "metadata": {},
   "outputs": [],
   "source": [
    "reaches_min"
   ]
  },
  {
   "cell_type": "code",
   "execution_count": null,
   "id": "8db1a77f-0315-4c9b-8258-8e31ce9509cb",
   "metadata": {},
   "outputs": [],
   "source": [
    "reaches_min.sort_values(by=['NHDPlusID'])[::10]"
   ]
  },
  {
   "cell_type": "code",
   "execution_count": null,
   "id": "e9acee56-ba8a-41a6-9ea4-f72870fa8159",
   "metadata": {
    "tags": []
   },
   "outputs": [],
   "source": [
    "# d = {}\n",
    "# # d_q = {}\n",
    "# for i in range(1, 10):\n",
    "#     threshold = i/10\n",
    "#     # print(threshold)\n",
    "    \n",
    "#     detected = sj.groupby([binn, 'NHDPlusID'])['coverage'].apply(lambda x: (x > threshold).sum()) / 10\n",
    "#     reach = detected.reset_index()\n",
    "    \n",
    "#     # reach = detected.groupby(binn).quantile(q=[x / 100.0 for x in range(0,100,1)]).reset_index()\n",
    "        \n",
    "#     d[threshold] = reach"
   ]
  },
  {
   "cell_type": "code",
   "execution_count": null,
   "id": "f4a9a984-1d84-446d-8c84-395d0e91fa47",
   "metadata": {},
   "outputs": [],
   "source": [
    "# Add a column for each DataFrame indicating the key\n",
    "# for threshold, data in d.items():\n",
    "#     data['threshold'] = threshold\n",
    "    \n",
    "for threshold, data in d.items():\n",
    "    data['threshold'] = threshold"
   ]
  },
  {
   "cell_type": "code",
   "execution_count": null,
   "id": "c540f758-4134-41e5-8248-60919814fcc1",
   "metadata": {},
   "outputs": [],
   "source": [
    "# Concatenate all DataFrames into one\n",
    "# reaches_desc = pd.concat(d.values())\n",
    "\n",
    "reaches_cent = pd.concat(d.values()).rename(columns={'level_1': 'centile'})"
   ]
  },
  {
   "cell_type": "code",
   "execution_count": null,
   "id": "6f889785-d1c2-4369-b564-94d6f3e61d87",
   "metadata": {},
   "outputs": [],
   "source": [
    "reaches_cent"
   ]
  },
  {
   "cell_type": "code",
   "execution_count": null,
   "id": "8cdc70fc-b719-4eb6-addb-853674d93fe0",
   "metadata": {},
   "outputs": [],
   "source": [
    "# reaches_cent = pd.merge(left=reaches_cent, right=counts, how='left', on=binn)"
   ]
  },
  {
   "cell_type": "code",
   "execution_count": null,
   "id": "c190e431-c234-4dd2-9080-7b6d76fc1b18",
   "metadata": {},
   "outputs": [],
   "source": [
    "reaches_cent"
   ]
  },
  {
   "cell_type": "code",
   "execution_count": null,
   "id": "38b6bd38-a36d-4bba-8e1c-51be0583f87f",
   "metadata": {},
   "outputs": [],
   "source": [
    "reaches_min = pd.DataFrame(sj.groupby('NHDPlusID')['coverage'].min()).reset_index()"
   ]
  },
  {
   "cell_type": "code",
   "execution_count": null,
   "id": "e2df040f-a3ea-48b1-8b45-0fe2d27635f8",
   "metadata": {},
   "outputs": [],
   "source": [
    "reaches_min = pd.merge(left=reaches_min, right=sj[['NHDPlusID', binn]], how='left', on='NHDPlusID')"
   ]
  },
  {
   "cell_type": "code",
   "execution_count": null,
   "id": "25e688fc-a670-4ed1-a49a-932e7717ea87",
   "metadata": {},
   "outputs": [],
   "source": [
    "min_cov"
   ]
  },
  {
   "cell_type": "code",
   "execution_count": null,
   "id": "d127d092-07e4-4272-8b9c-97046bdbe771",
   "metadata": {},
   "outputs": [],
   "source": [
    "# reaches = pd.DataFrame(data=d).T"
   ]
  },
  {
   "cell_type": "code",
   "execution_count": null,
   "id": "a265330f-6724-4107-a18f-a48f88e3526c",
   "metadata": {},
   "outputs": [],
   "source": [
    "# reaches.columns = bins"
   ]
  },
  {
   "cell_type": "markdown",
   "id": "57eb3443-462c-4f0f-a55e-f0251d195d94",
   "metadata": {},
   "source": [
    "### Write out"
   ]
  },
  {
   "cell_type": "code",
   "execution_count": null,
   "id": "095ea3be-4f04-441d-917a-bc9633d07816",
   "metadata": {},
   "outputs": [],
   "source": [
    "save_path = os.path.join('/nas/cee-water/cjgleason/fiona/narrow_rivers_PIXC_data/', 'PIXC_v2_0_HUC2_01')"
   ]
  },
  {
   "cell_type": "code",
   "execution_count": null,
   "id": "afe97f05-8afd-4dac-959c-956a6c336e1c",
   "metadata": {},
   "outputs": [],
   "source": [
    "# Combine node_desc\n",
    "node_desc_both = pd.concat([node_desc, node_desc_w_zero], ignore_index=True)\n",
    "node_desc_both"
   ]
  },
  {
   "cell_type": "code",
   "execution_count": null,
   "id": "21d6bcf5-d411-4a8b-a0dd-ce2c4bc7d739",
   "metadata": {},
   "outputs": [],
   "source": [
    "# Combine node_quant\n",
    "node_quant_both = pd.concat([node_quant, node_quant_w_zero], ignore_index=True)\n",
    "node_quant_both"
   ]
  },
  {
   "cell_type": "code",
   "execution_count": null,
   "id": "6f17958c-cce3-40bd-8d0d-0425d3ada6ed",
   "metadata": {},
   "outputs": [],
   "source": [
    "# nodes_desc_both.to_csv(os.path.join(save_path, granule_name + '_nodes_describe.csv'))\n",
    "# nodes_quant_both.to_csv(os.path.join(save_path, granule_name + '_nodes_quantile.csv'))"
   ]
  },
  {
   "cell_type": "code",
   "execution_count": null,
   "id": "1126eceb-0e67-40d0-a68a-116aabc4f41f",
   "metadata": {},
   "outputs": [],
   "source": [
    "# reaches_desc.to_csv(os.path.join(save_path, granule_name + '_reaches_describe.csv'))\n",
    "# reaches_quant.to_csv(os.path.join(save_path, granule_name + '_reaches_quantile.csv'))"
   ]
  },
  {
   "cell_type": "code",
   "execution_count": null,
   "id": "b6d5fa3b-9428-4ca5-b68d-2241f80924bc",
   "metadata": {},
   "outputs": [],
   "source": [
    "test = pd.read_parquet('/nas/cee-water/cjgleason/fiona/narrow_rivers_PIXC_output/PIXC_v2_0_HUC2_01_2025_03_02_min/SWOT_L2_HR_PIXC_004_242_074L_20230930T103957_20230930T104008_PGC0_01_reaches_thresh.parquet')"
   ]
  },
  {
   "cell_type": "code",
   "execution_count": null,
   "id": "74da1788-44c3-4731-a5ec-983010c07291",
   "metadata": {},
   "outputs": [],
   "source": [
    "test"
   ]
  }
 ],
 "metadata": {
  "kernelspec": {
   "display_name": "Python [conda env:.conda-narrowPIXC]",
   "language": "python",
   "name": "conda-env-.conda-narrowPIXC-py"
  },
  "language_info": {
   "codemirror_mode": {
    "name": "ipython",
    "version": 3
   },
   "file_extension": ".py",
   "mimetype": "text/x-python",
   "name": "python",
   "nbconvert_exporter": "python",
   "pygments_lexer": "ipython3",
   "version": "3.12.4"
  }
 },
 "nbformat": 4,
 "nbformat_minor": 5
}
