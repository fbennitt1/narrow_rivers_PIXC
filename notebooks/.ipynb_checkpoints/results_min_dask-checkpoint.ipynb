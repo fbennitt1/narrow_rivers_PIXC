{
 "cells": [
  {
   "cell_type": "code",
   "execution_count": 1,
   "id": "3a969e19-56af-4005-9bcb-a3607fb7e5e7",
   "metadata": {},
   "outputs": [],
   "source": [
    "import os\n",
    "import time\n",
    "\n",
    "import dask.dataframe as dd\n",
    "import matplotlib.cm\n",
    "import matplotlib.colors as colors\n",
    "import matplotlib.pyplot as plt\n",
    "import numpy as np\n",
    "import pandas as pd\n",
    "import seaborn as sns"
   ]
  },
  {
   "cell_type": "code",
   "execution_count": 2,
   "id": "5e607ef2-4f42-4ccf-b5d6-0b9f987d4006",
   "metadata": {},
   "outputs": [],
   "source": [
    "def truncate_colormap(cmap, minval=0.0, maxval=1.0, n=100):\n",
    "    new_cmap = colors.LinearSegmentedColormap.from_list(\n",
    "        'trunc({n},{a:.2f},{b:.2f})'.format(n=cmap.name, a=minval, b=maxval),\n",
    "        cmap(np.linspace(minval, maxval, n)))\n",
    "    return new_cmap"
   ]
  },
  {
   "cell_type": "code",
   "execution_count": 3,
   "id": "677614e9-9722-4903-8253-fb8aa1f05444",
   "metadata": {},
   "outputs": [],
   "source": [
    "cmap = plt.get_cmap('cubehelix', 5)\n",
    "new_cmap = truncate_colormap(cmap, 0.2, 0.75)"
   ]
  },
  {
   "cell_type": "code",
   "execution_count": 4,
   "id": "efa77a94-346d-48d5-9c48-9ed5c7dbb3d4",
   "metadata": {},
   "outputs": [],
   "source": [
    "color = []\n",
    "\n",
    "for i in np.linspace(0, 1, 3):\n",
    "    color.append(colors.rgb2hex(new_cmap(i)))"
   ]
  },
  {
   "cell_type": "code",
   "execution_count": 5,
   "id": "223f81e8-4ba4-4f5a-b047-e2605fe5bf71",
   "metadata": {},
   "outputs": [],
   "source": [
    "palette = sns.color_palette(color)"
   ]
  },
  {
   "cell_type": "code",
   "execution_count": 6,
   "id": "3761e791-90d9-4c87-bace-f10edad737d3",
   "metadata": {},
   "outputs": [],
   "source": [
    "# Order of all possible bins for plotting\n",
    "order = ['(0, 10]', '(10, 20]', '(20, 30]', '(30, 40]', '(40, 50]',\n",
    "         '(50, 60]', '(60, 70]', '(70, 80]', '(80, 90]', '(90, 100]',\n",
    "         '(100, 150]', '(150, 200]', '(200, 500]']"
   ]
  },
  {
   "cell_type": "code",
   "execution_count": 7,
   "id": "b89c63f1-8bc9-44fd-96ec-8a2660296e9a",
   "metadata": {},
   "outputs": [],
   "source": [
    "# save_path = '/nas/cee-water/cjgleason/fiona/narrow_rivers_PIXC/figures_for_2025_03_07/'"
   ]
  },
  {
   "cell_type": "markdown",
   "id": "93751c9a-1f1c-4809-a888-a6174e613bfa",
   "metadata": {},
   "source": [
    "## Minimum"
   ]
  },
  {
   "cell_type": "markdown",
   "id": "0fc36d58-df41-4c32-a054-46c811fefb5f",
   "metadata": {
    "tags": []
   },
   "source": [
    "### HUC2_01, Northeast"
   ]
  },
  {
   "cell_type": "code",
   "execution_count": 10,
   "id": "fdd970dc-a341-4b53-988e-aeda267932a6",
   "metadata": {},
   "outputs": [],
   "source": [
    "## Setup\n",
    "bwidth = 'mean'\n",
    "bbin = 'Bin'\n",
    "huc2 = '01'\n",
    "data_path = '../narrow_rivers_PIXC_output/PIXC_v2_0_HUC2_' + huc2 + '_2025_03_06_' + bwidth"
   ]
  },
  {
   "cell_type": "code",
   "execution_count": 20,
   "id": "46d0bb83-8832-4c6a-88ed-39c23ba67895",
   "metadata": {},
   "outputs": [],
   "source": [
    "# Get list of files    \n",
    "files = []\n",
    "for file in os.listdir(data_path):\n",
    "    if not file.startswith('.'):\n",
    "        if 'min' in file:\n",
    "            files.append(os.path.join(data_path, file))"
   ]
  },
  {
   "cell_type": "code",
   "execution_count": 6,
   "id": "eaf4f2f3-a951-40fb-af22-c03d367249d2",
   "metadata": {},
   "outputs": [],
   "source": [
    "ddf_ne = dd.read_parquet(files)"
   ]
  },
  {
   "cell_type": "code",
   "execution_count": 7,
   "id": "73234b81-a86f-4ce1-b1c4-0a4403e1b0ba",
   "metadata": {},
   "outputs": [],
   "source": [
    "# ddf_ne = ddf_ne.drop(columns='NHDPlusID')"
   ]
  },
  {
   "cell_type": "code",
   "execution_count": 8,
   "id": "f012e9c1-a504-4658-a5c2-e9986e7c97da",
   "metadata": {},
   "outputs": [],
   "source": [
    "ddf_ne['coverage'] = ddf_ne['coverage']*100"
   ]
  },
  {
   "cell_type": "markdown",
   "id": "7b60b083-69d2-47c7-a872-c0eef6b64d6f",
   "metadata": {},
   "source": [
    "### HUC2_15, Southwest"
   ]
  },
  {
   "cell_type": "code",
   "execution_count": 42,
   "id": "c0113ad8-e8bd-4200-88a2-808d7aca0c6c",
   "metadata": {},
   "outputs": [],
   "source": [
    "## Setup\n",
    "bwidth = 'mean'\n",
    "bbin = 'Bin'\n",
    "huc2 = '15'\n",
    "data_path = '../narrow_rivers_PIXC_output/PIXC_v2_0_HUC2_' + huc2 + '_2025_03_06_' + bwidth"
   ]
  },
  {
   "cell_type": "code",
   "execution_count": 43,
   "id": "57d7bd43-f156-42cb-93e3-b8a09e9e9e7c",
   "metadata": {},
   "outputs": [],
   "source": [
    "# Get list of files    \n",
    "files = []\n",
    "for file in os.listdir(data_path):\n",
    "    if not file.startswith('.'):\n",
    "        if 'min' in file:\n",
    "            files.append(os.path.join(data_path, file))"
   ]
  },
  {
   "cell_type": "code",
   "execution_count": 44,
   "id": "1b63d7d4-39a2-4fc0-b371-9d47301a5eb2",
   "metadata": {},
   "outputs": [],
   "source": [
    "ddf_sw = dd.read_parquet(files)"
   ]
  },
  {
   "cell_type": "code",
   "execution_count": 45,
   "id": "c9881a6e-c189-4bf2-9f51-cb6359c09725",
   "metadata": {},
   "outputs": [],
   "source": [
    "ddf_sw = ddf_sw.drop(columns='NHDPlusID')"
   ]
  },
  {
   "cell_type": "code",
   "execution_count": 46,
   "id": "8988c3ba-a11f-4a95-bb0a-706fc2a75e07",
   "metadata": {},
   "outputs": [],
   "source": [
    "ddf_sw['coverage'] = ddf_sw['coverage']*100"
   ]
  },
  {
   "cell_type": "markdown",
   "id": "1fb56def-d6c1-4ead-bc1b-18da9caa02f8",
   "metadata": {
    "jp-MarkdownHeadingCollapsed": true,
    "tags": []
   },
   "source": [
    "### Combine"
   ]
  },
  {
   "cell_type": "code",
   "execution_count": 19,
   "id": "fe4fb294-5c73-48a0-b5e7-80c7a2327a14",
   "metadata": {},
   "outputs": [],
   "source": [
    "d = []\n",
    "\n",
    "for binn in order:\n",
    "\n",
    "    # Process ne reaches\n",
    "    ne = ddf_ne[ddf_ne.Bin == binn].reset_index().drop(columns='index')\n",
    "    ne = ne[ne.coverage != 0].compute()\n",
    "    if ne.shape[0] > 10000:\n",
    "        ne = ne.sample(10000)\n",
    "    ne = dd.from_pandas(ne)\n",
    "    ne['huc2'] = '01'\n",
    "\n",
    "    # Process sw reaches\n",
    "    sw = ddf_sw[ddf_sw.Bin == binn].reset_index().drop(columns='index')\n",
    "    sw = sw[sw.coverage != 0].compute()\n",
    "    if sw.shape[0] > 10000:\n",
    "        sw = sw.sample(10000)\n",
    "    sw = dd.from_pandas(sw)\n",
    "    sw['huc2'] = '15'\n",
    "\n",
    "    # Get combined reaches\n",
    "    combo = dd.concat(dfs=[ne, sw], axis=0)#.reset_index()\n",
    "    combo['huc2'] = 'combined'\n",
    "\n",
    "    # combined = pd.concat(objs=[ne, sw, combo], axis=0).reset_index()#.drop(columns=['index', 'level_0'])\n",
    "    combined = dd.concat(dfs=[ne, sw, combo], axis=0)\n",
    "\n",
    "    del ne, sw, combo\n",
    "    \n",
    "    d.append(combined)\n",
    "    \n",
    "    del combined"
   ]
  },
  {
   "cell_type": "code",
   "execution_count": 20,
   "id": "1e5abbf2-2432-4ce4-b20a-0000f46d29b6",
   "metadata": {},
   "outputs": [],
   "source": [
    "combined = dd.concat(dfs=d, axis=0)"
   ]
  },
  {
   "cell_type": "code",
   "execution_count": 23,
   "id": "bef04942-04b9-4bba-8e11-ba5e24b2bac8",
   "metadata": {},
   "outputs": [],
   "source": [
    "all_bins = combined.compute()"
   ]
  },
  {
   "cell_type": "code",
   "execution_count": 28,
   "id": "abdedffd-06ee-4381-8aab-cfb647abda40",
   "metadata": {},
   "outputs": [
    {
     "data": {
      "image/png": "[encoded data removed]",
      "text/plain": [
       "<Figure size 1300x700 with 1 Axes>"
      ]
     },
     "metadata": {},
     "output_type": "display_data"
    }
   ],
   "source": [
    "fig, ax = plt.subplots(figsize=(13,7))\n",
    "sns.boxplot(data=all_bins, x='Bin', y='coverage',\n",
    "            hue='huc2', palette=palette,\n",
    "            legend=True,\n",
    "            saturation=1, showmeans=True,\n",
    "            fliersize=2, linewidth=2,\n",
    "            boxprops=dict(alpha=0.8),\n",
    "            meanprops={'marker':'o',\n",
    "                       'markerfacecolor':'k',\n",
    "                       'markeredgecolor':'k',\n",
    "                       'markersize':'8'})\n",
    "\n",
    "plt.legend(title='HUC2', loc='upper right',\n",
    "           title_fontproperties={'weight': 'bold'})\n",
    "\n",
    "plt.title('Reaches by minimum coverage for all nodes by width bin, excluding reaches with 0% coverage')\n",
    "\n",
    "plt.xticks(rotation=-45)\n",
    "plt.ylim(0,100)\n",
    "plt.xlabel('Width Bin [m]')\n",
    "plt.ylabel('Minimum coverage for all nodes in reach [%]')\n",
    "\n",
    "plt.savefig(save_path + 'minimum_mean_box_all_sampled.png')"
   ]
  },
  {
   "cell_type": "code",
   "execution_count": 29,
   "id": "5fa5992d-d220-493e-b205-ca315e35cc2c",
   "metadata": {},
   "outputs": [
    {
     "data": {
      "text/html": [
       "<div>\n",
       "<style scoped>\n",
       "    .dataframe tbody tr th:only-of-type {\n",
       "        vertical-align: middle;\n",
       "    }\n",
       "\n",
       "    .dataframe tbody tr th {\n",
       "        vertical-align: top;\n",
       "    }\n",
       "\n",
       "    .dataframe thead th {\n",
       "        text-align: right;\n",
       "    }\n",
       "</style>\n",
       "<table border=\"1\" class=\"dataframe\">\n",
       "  <thead>\n",
       "    <tr style=\"text-align: right;\">\n",
       "      <th></th>\n",
       "      <th>coverage</th>\n",
       "      <th>Bin</th>\n",
       "      <th>huc2</th>\n",
       "    </tr>\n",
       "  </thead>\n",
       "  <tbody>\n",
       "    <tr>\n",
       "      <th>1</th>\n",
       "      <td>3.972978</td>\n",
       "      <td>(0, 10]</td>\n",
       "      <td>01</td>\n",
       "    </tr>\n",
       "    <tr>\n",
       "      <th>4</th>\n",
       "      <td>6.073580</td>\n",
       "      <td>(0, 10]</td>\n",
       "      <td>01</td>\n",
       "    </tr>\n",
       "    <tr>\n",
       "      <th>5</th>\n",
       "      <td>8.914456</td>\n",
       "      <td>(0, 10]</td>\n",
       "      <td>01</td>\n",
       "    </tr>\n",
       "    <tr>\n",
       "      <th>8</th>\n",
       "      <td>18.980137</td>\n",
       "      <td>(0, 10]</td>\n",
       "      <td>01</td>\n",
       "    </tr>\n",
       "    <tr>\n",
       "      <th>11</th>\n",
       "      <td>14.463919</td>\n",
       "      <td>(0, 10]</td>\n",
       "      <td>01</td>\n",
       "    </tr>\n",
       "    <tr>\n",
       "      <th>...</th>\n",
       "      <td>...</td>\n",
       "      <td>...</td>\n",
       "      <td>...</td>\n",
       "    </tr>\n",
       "    <tr>\n",
       "      <th>2781</th>\n",
       "      <td>7.357600</td>\n",
       "      <td>(200, 500]</td>\n",
       "      <td>combined</td>\n",
       "    </tr>\n",
       "    <tr>\n",
       "      <th>2822</th>\n",
       "      <td>7.478895</td>\n",
       "      <td>(200, 500]</td>\n",
       "      <td>combined</td>\n",
       "    </tr>\n",
       "    <tr>\n",
       "      <th>2832</th>\n",
       "      <td>10.671545</td>\n",
       "      <td>(200, 500]</td>\n",
       "      <td>combined</td>\n",
       "    </tr>\n",
       "    <tr>\n",
       "      <th>2840</th>\n",
       "      <td>2.205754</td>\n",
       "      <td>(200, 500]</td>\n",
       "      <td>combined</td>\n",
       "    </tr>\n",
       "    <tr>\n",
       "      <th>2867</th>\n",
       "      <td>43.294520</td>\n",
       "      <td>(200, 500]</td>\n",
       "      <td>combined</td>\n",
       "    </tr>\n",
       "  </tbody>\n",
       "</table>\n",
       "<p>500000 rows × 3 columns</p>\n",
       "</div>"
      ],
      "text/plain": [
       "       coverage         Bin      huc2\n",
       "1      3.972978     (0, 10]        01\n",
       "4      6.073580     (0, 10]        01\n",
       "5      8.914456     (0, 10]        01\n",
       "8     18.980137     (0, 10]        01\n",
       "11    14.463919     (0, 10]        01\n",
       "...         ...         ...       ...\n",
       "2781   7.357600  (200, 500]  combined\n",
       "2822   7.478895  (200, 500]  combined\n",
       "2832  10.671545  (200, 500]  combined\n",
       "2840   2.205754  (200, 500]  combined\n",
       "2867  43.294520  (200, 500]  combined\n",
       "\n",
       "[500000 rows x 3 columns]"
      ]
     },
     "execution_count": 29,
     "metadata": {},
     "output_type": "execute_result"
    }
   ],
   "source": [
    "all_bins."
   ]
  },
  {
   "cell_type": "code",
   "execution_count": null,
   "id": "4b098864-391b-49f6-a56f-30ac150111a2",
   "metadata": {
    "tags": []
   },
   "outputs": [],
   "source": [
    "# # Make combined dataframe\n",
    "# ddf_combo = dd.concat(dfs=[ddf_ne, ddf_sw], axis=0)"
   ]
  },
  {
   "cell_type": "markdown",
   "id": "0b5e491b-2297-4768-b0ab-260776e5fbe5",
   "metadata": {
    "tags": []
   },
   "source": [
    "### Plots"
   ]
  },
  {
   "cell_type": "code",
   "execution_count": 49,
   "id": "b62f704f-0809-4965-94e3-07414288f540",
   "metadata": {},
   "outputs": [
    {
     "name": "stderr",
     "output_type": "stream",
     "text": [
      "/tmp/ipykernel_1429124/2522201880.py:21: RuntimeWarning: invalid value encountered in scalar divide\n",
      "  sw_zeros = round(((zeros['index']/reaches)*100), 1)\n"
     ]
    }
   ],
   "source": [
    "d = {}\n",
    "\n",
    "for binn in order:\n",
    "\n",
    "    # Get ne reaches\n",
    "    ddf_ne_bin = ddf_ne[ddf_ne.Bin == binn]\n",
    "    ne = ddf_ne_bin.compute().reset_index()\n",
    "\n",
    "    zeros = ne[ne.coverage == 0].count()\n",
    "    reaches = ne.shape[0]\n",
    "    ne_zeros = round(((zeros['index']/reaches)*100), 1)\n",
    "    \n",
    "    del ne\n",
    "\n",
    "    # Get sw reaches\n",
    "    ddf_sw_bin = ddf_sw[ddf_sw.Bin == binn]\n",
    "    sw = ddf_sw_bin.compute().reset_index()\n",
    "\n",
    "    zeros = sw[sw.coverage == 0].count()\n",
    "    reaches = sw.shape[0]\n",
    "    sw_zeros = round(((zeros['index']/reaches)*100), 1)\n",
    "    \n",
    "    del sw\n",
    "    \n",
    "    d[binn] = [ne_zeros, sw_zeros]"
   ]
  },
  {
   "cell_type": "code",
   "execution_count": 50,
   "id": "7a10ec81-88b1-4657-92c8-811189fd1794",
   "metadata": {},
   "outputs": [],
   "source": [
    "df = pd.DataFrame(d)"
   ]
  },
  {
   "cell_type": "code",
   "execution_count": 52,
   "id": "7af82593-41d7-441f-ba9e-577a9629d0f1",
   "metadata": {},
   "outputs": [
    {
     "data": {
      "text/html": [
       "<div>\n",
       "<style scoped>\n",
       "    .dataframe tbody tr th:only-of-type {\n",
       "        vertical-align: middle;\n",
       "    }\n",
       "\n",
       "    .dataframe tbody tr th {\n",
       "        vertical-align: top;\n",
       "    }\n",
       "\n",
       "    .dataframe thead th {\n",
       "        text-align: right;\n",
       "    }\n",
       "</style>\n",
       "<table border=\"1\" class=\"dataframe\">\n",
       "  <thead>\n",
       "    <tr style=\"text-align: right;\">\n",
       "      <th></th>\n",
       "      <th>0</th>\n",
       "      <th>1</th>\n",
       "    </tr>\n",
       "  </thead>\n",
       "  <tbody>\n",
       "    <tr>\n",
       "      <th>(0, 10]</th>\n",
       "      <td>98.1</td>\n",
       "      <td>99.4</td>\n",
       "    </tr>\n",
       "    <tr>\n",
       "      <th>(10, 20]</th>\n",
       "      <td>90.3</td>\n",
       "      <td>97.9</td>\n",
       "    </tr>\n",
       "    <tr>\n",
       "      <th>(20, 30]</th>\n",
       "      <td>79.9</td>\n",
       "      <td>94.1</td>\n",
       "    </tr>\n",
       "    <tr>\n",
       "      <th>(30, 40]</th>\n",
       "      <td>71.2</td>\n",
       "      <td>92.8</td>\n",
       "    </tr>\n",
       "    <tr>\n",
       "      <th>(40, 50]</th>\n",
       "      <td>67.4</td>\n",
       "      <td>81.7</td>\n",
       "    </tr>\n",
       "    <tr>\n",
       "      <th>(50, 60]</th>\n",
       "      <td>63.7</td>\n",
       "      <td>85.6</td>\n",
       "    </tr>\n",
       "    <tr>\n",
       "      <th>(60, 70]</th>\n",
       "      <td>61.9</td>\n",
       "      <td>73.0</td>\n",
       "    </tr>\n",
       "    <tr>\n",
       "      <th>(70, 80]</th>\n",
       "      <td>57.2</td>\n",
       "      <td>71.2</td>\n",
       "    </tr>\n",
       "    <tr>\n",
       "      <th>(80, 90]</th>\n",
       "      <td>46.6</td>\n",
       "      <td>77.7</td>\n",
       "    </tr>\n",
       "    <tr>\n",
       "      <th>(90, 100]</th>\n",
       "      <td>51.1</td>\n",
       "      <td>92.3</td>\n",
       "    </tr>\n",
       "    <tr>\n",
       "      <th>(100, 150]</th>\n",
       "      <td>42.8</td>\n",
       "      <td>84.5</td>\n",
       "    </tr>\n",
       "    <tr>\n",
       "      <th>(150, 200]</th>\n",
       "      <td>44.7</td>\n",
       "      <td>NaN</td>\n",
       "    </tr>\n",
       "    <tr>\n",
       "      <th>(200, 500]</th>\n",
       "      <td>42.4</td>\n",
       "      <td>49.4</td>\n",
       "    </tr>\n",
       "  </tbody>\n",
       "</table>\n",
       "</div>"
      ],
      "text/plain": [
       "               0     1\n",
       "(0, 10]     98.1  99.4\n",
       "(10, 20]    90.3  97.9\n",
       "(20, 30]    79.9  94.1\n",
       "(30, 40]    71.2  92.8\n",
       "(40, 50]    67.4  81.7\n",
       "(50, 60]    63.7  85.6\n",
       "(60, 70]    61.9  73.0\n",
       "(70, 80]    57.2  71.2\n",
       "(80, 90]    46.6  77.7\n",
       "(90, 100]   51.1  92.3\n",
       "(100, 150]  42.8  84.5\n",
       "(150, 200]  44.7   NaN\n",
       "(200, 500]  42.4  49.4"
      ]
     },
     "execution_count": 52,
     "metadata": {},
     "output_type": "execute_result"
    }
   ],
   "source": [
    "df = df.T."
   ]
  },
  {
   "cell_type": "code",
   "execution_count": 47,
   "id": "a44511b3-27f5-41ca-8888-fa0f89be36bd",
   "metadata": {},
   "outputs": [],
   "source": [
    "bin_string = ['10', '20', '30', '40', '50',\n",
    "              '60', '70', '80', '90', '100', '150',\n",
    "              '200', '500']\n",
    "bin_dict = {}\n",
    "\n",
    "for i, binn in enumerate(order):\n",
    "    bin_dict[binn] = bin_string[i]"
   ]
  },
  {
   "cell_type": "code",
   "execution_count": null,
   "id": "afdb752d-100a-4bf4-a406-b93cd68919f9",
   "metadata": {},
   "outputs": [],
   "source": [
    "for binn in order[-2:]:\n",
    "\n",
    "    # Get ne reaches\n",
    "    ddf_ne_bin = ddf_ne[ddf_ne.Bin == binn]\n",
    "    ne = ddf_ne_bin.compute().drop(columns=['NHDPlusID']).reset_index()\n",
    "\n",
    "    zeros = ne[ne.coverage == 0].count()\n",
    "    reaches = ne.shape[0]\n",
    "    ne_zeros = round(((zeros['index']/reaches)*100), 1)\n",
    "\n",
    "    ne = ne[ne.coverage != 0]\n",
    "    if ne.shape[0] > 100000:\n",
    "        ne = ne.sample(100000)\n",
    "    ne = ne.drop(columns=['index'])\n",
    "    ne['coverage'] = ne['coverage']*100\n",
    "    ne['huc2'] = '01'\n",
    "\n",
    "    # Get sw reaches\n",
    "    ddf_sw_bin = ddf_sw[ddf_sw.Bin == binn]\n",
    "    sw = ddf_sw_bin.compute().drop(columns=['NHDPlusID']).reset_index()\n",
    "\n",
    "    zeros = sw[sw.coverage == 0].count()\n",
    "    reaches = sw.shape[0]\n",
    "    sw_zeros = round(((zeros['index']/reaches)*100), 1)\n",
    "\n",
    "    sw = sw[sw.coverage != 0]\n",
    "    if sw.shape[0] > 100000:\n",
    "        sw = sw.sample(100000)\n",
    "    sw = sw.drop(columns=['index'])\n",
    "    sw['coverage'] = sw['coverage']*100\n",
    "    sw['huc2'] = '15'\n",
    "\n",
    "    # Get combined reaches\n",
    "    combo = pd.concat(objs=[ne, sw], axis=0).reset_index()\n",
    "    combo['huc2'] = 'combined'\n",
    "\n",
    "    combined = pd.concat(objs=[ne, sw, combo], axis=0).reset_index()\n",
    "\n",
    "    del ne, sw, combo\n",
    "\n",
    "    # Boxplot\n",
    "    fig, ax = plt.subplots(figsize=(6,10))\n",
    "    sns.boxplot(data=combined, x='Bin', y='coverage',\n",
    "                hue='huc2', palette=palette,\n",
    "                legend=True,\n",
    "                saturation=1, showmeans=True,\n",
    "                fliersize=2, linewidth=2,\n",
    "                boxprops=dict(alpha=0.8),\n",
    "                meanprops={'marker':'o',\n",
    "                           'markerfacecolor':'k',\n",
    "                           'markeredgecolor':'k',\n",
    "                           'markersize':'8'})\n",
    "\n",
    "    plt.legend(title='HUC2', loc='upper right',\n",
    "               title_fontproperties={'weight': 'bold'})\n",
    "\n",
    "    plt.title('HUC2_01: ' + str(ne_zeros) +\n",
    "              '% of reaches have 0% coverage in all nodes\\nHUC2_15: ' +\n",
    "              str(sw_zeros) + '% of reaches have 0% coverage in all nodes')\n",
    "\n",
    "    plt.xticks(rotation=-45)\n",
    "    plt.ylim(0,100)\n",
    "    plt.xlabel('Width Bin [m]')\n",
    "    plt.ylabel('Minimum coverage of all nodes in reach [%]')\n",
    "    plt.savefig(save_path + 'minimum_mean_box_' + bin_dict[binn] + '_sampled.png')\n",
    "    \n",
    "    del combined"
   ]
  },
  {
   "cell_type": "code",
   "execution_count": null,
   "id": "f0c24100-77c5-4dab-9acb-19c0704da1ef",
   "metadata": {},
   "outputs": [],
   "source": []
  },
  {
   "cell_type": "code",
   "execution_count": null,
   "id": "29223c5a-df80-4756-9600-d0f6ca2b3b71",
   "metadata": {},
   "outputs": [],
   "source": []
  },
  {
   "cell_type": "code",
   "execution_count": null,
   "id": "ff11cd86-9621-46b5-91b5-1eabfc4f5490",
   "metadata": {},
   "outputs": [],
   "source": [
    "# Get ne reaches\n",
    "ddf_ne_bin = ddf_ne[ddf_ne.Bin == binn]\n",
    "ne = ddf_ne_bin.compute().drop(columns=['NHDPlusID']).reset_index()\n",
    "\n",
    "zeros = ne[ne.coverage == 0].count()\n",
    "reaches = ne.shape[0]\n",
    "ne_zeros = round(((zeros['index']/reaches)*100), 1)\n",
    "\n",
    "ne = ne[ne.coverage != 0]\n",
    "if ne.shape[0] > 100000:\n",
    "    ne = ne.sample(100000)\n",
    "ne = ne.drop(columns=['index'])\n",
    "ne['coverage'] = ne['coverage']*100\n",
    "ne['huc2'] = '01'\n",
    "\n",
    "# Get sw reaches\n",
    "ddf_sw_bin = ddf_sw[ddf_sw.Bin == binn]\n",
    "sw = ddf_sw_bin.compute().drop(columns=['NHDPlusID']).reset_index()\n",
    "\n",
    "zeros = sw[sw.coverage == 0].count()\n",
    "reaches = sw.shape[0]\n",
    "sw_zeros = round(((zeros['index']/reaches)*100), 1)\n",
    "\n",
    "sw = sw[sw.coverage != 0]\n",
    "if sw.shape[0] > 100000:\n",
    "    sw = sw.sample(100000)\n",
    "sw = sw.drop(columns=['index'])\n",
    "sw['coverage'] = sw['coverage']*100\n",
    "sw['huc2'] = '15'\n",
    "\n",
    "# Get combined reaches\n",
    "combo = pd.concat(objs=[ne, sw], axis=0).reset_index()\n",
    "combo['huc2'] = 'combined'\n",
    "\n",
    "combined = pd.concat(objs=[ne, sw, combo], axis=0).reset_index().drop(columns=['level_0', 'index'])"
   ]
  },
  {
   "cell_type": "code",
   "execution_count": null,
   "id": "0e911bb3-002f-43e7-a272-474551e7ba6c",
   "metadata": {},
   "outputs": [],
   "source": [
    "combined"
   ]
  },
  {
   "cell_type": "code",
   "execution_count": null,
   "id": "b73321da-3800-43fb-8b75-109690b8796f",
   "metadata": {},
   "outputs": [],
   "source": [
    "#     # Violin plot\n",
    "#     fig, ax = plt.subplots(figsize=(6,10))\n",
    "#     sns.violinplot(data=combined, x='Bin', y='coverage',\n",
    "#                    hue='huc2', palette=palette)\n",
    "\n",
    "#     plt.legend(title='HUC2', loc='upper right',\n",
    "#                title_fontproperties={'weight': 'bold'})\n",
    "\n",
    "#     plt.title('HUC2_01: ' + str(ne_zeros) +\n",
    "#               '% of reaches have 0% coverage in all nodes\\nHUC2_15: ' +\n",
    "#               str(sw_zeros) + '% of reaches have 0% coverage in all nodes')\n",
    "\n",
    "#     plt.xticks(rotation=-45)\n",
    "#     plt.ylim(0,100)\n",
    "#     plt.xlabel('Width Bin [m]')\n",
    "#     plt.ylabel('Minimum coverage of all nodes in reach [%]')\n",
    "\n",
    "#     plt.savefig(save_path + 'minimum_mean_violin_' + bin_dict[binn] + '_sampled.png')\n"
   ]
  },
  {
   "cell_type": "code",
   "execution_count": null,
   "id": "8287ed72-6e52-4bb7-afd2-4f29e0b0b535",
   "metadata": {},
   "outputs": [],
   "source": [
    "binn = order[0]"
   ]
  },
  {
   "cell_type": "code",
   "execution_count": null,
   "id": "26649193-ef8d-4a5e-a2dc-c1435b87872e",
   "metadata": {},
   "outputs": [],
   "source": [
    "ne_zeros = {}"
   ]
  },
  {
   "cell_type": "code",
   "execution_count": null,
   "id": "19530bf7-50bd-4276-953c-27762f111c16",
   "metadata": {},
   "outputs": [],
   "source": [
    "# Get ne reaches\n",
    "ddf_ne_bin = ddf_ne[ddf_ne.Bin == binn]\n",
    "ne = ddf_ne_bin.compute().drop(columns=['NHDPlusID']).reset_index()"
   ]
  },
  {
   "cell_type": "code",
   "execution_count": null,
   "id": "eab8738f-1b52-4d91-b6fc-0f4245a72cee",
   "metadata": {},
   "outputs": [],
   "source": [
    "zeros = ne[ne.coverage == 0].count()"
   ]
  },
  {
   "cell_type": "code",
   "execution_count": null,
   "id": "ac6b2ac3-7823-4e99-8c62-8336c8783076",
   "metadata": {},
   "outputs": [],
   "source": [
    "reaches = ne.shape[0]"
   ]
  },
  {
   "cell_type": "code",
   "execution_count": null,
   "id": "890fac31-fd6c-4cc6-aa6f-86f240e5a2a4",
   "metadata": {},
   "outputs": [],
   "source": [
    "round(((zeros['index']/reaches)*100), 1)"
   ]
  },
  {
   "cell_type": "code",
   "execution_count": null,
   "id": "dd5399ce-21a5-4191-b3c2-a268f6aeb318",
   "metadata": {},
   "outputs": [],
   "source": [
    "ne_zeros[binn] = (zeros, reaches)"
   ]
  },
  {
   "cell_type": "code",
   "execution_count": null,
   "id": "0ef14429-84dc-48f3-815b-c83b69a77680",
   "metadata": {},
   "outputs": [],
   "source": [
    "ne_zeros"
   ]
  },
  {
   "cell_type": "code",
   "execution_count": null,
   "id": "057754a7-7245-495f-8abb-8f230e974eb2",
   "metadata": {},
   "outputs": [],
   "source": [
    "# Get ne reaches\n",
    "ddf_sw_bin = ddf_sw[ddf_sw.Bin == binn]\n",
    "sw = ddf_sw_bin.compute().drop(columns=['NHDPlusID']).reset_index()"
   ]
  },
  {
   "cell_type": "code",
   "execution_count": null,
   "id": "f0d6e03a-1462-4b35-b1db-8d1faca9f4de",
   "metadata": {},
   "outputs": [],
   "source": [
    "sw[sw.coverage == 0].count()"
   ]
  },
  {
   "cell_type": "code",
   "execution_count": null,
   "id": "2ec79a19-cfe7-467c-8369-b25cc2442cba",
   "metadata": {},
   "outputs": [],
   "source": [
    "sw.shape"
   ]
  },
  {
   "cell_type": "markdown",
   "id": "a72f5411-b3f3-4ef8-b7f4-bf11621be186",
   "metadata": {
    "tags": []
   },
   "source": [
    "### Box plots old"
   ]
  },
  {
   "cell_type": "code",
   "execution_count": null,
   "id": "9bf43c89-ea3c-4fd7-83b4-b7d926947a71",
   "metadata": {},
   "outputs": [],
   "source": [
    "# for binn in order:\n",
    "\n",
    "binn = order[]\n",
    "\n",
    "    # Get ne reaches\n",
    "    ddf_ne_bin = ddf_ne[ddf_ne.Bin == binn]\n",
    "    ne = ddf_ne_bin.compute().drop(columns=['NHDPlusID']).reset_index()\n",
    "    ne = ne.drop(columns=['index'])\n",
    "    ne['coverage'] = ne['coverage']*100\n",
    "    ne['huc2'] = '01'\n",
    "\n",
    "    # Get sw reaches\n",
    "    ddf_sw_bin = ddf_sw[ddf_sw.Bin == binn]\n",
    "    sw = ddf_sw_bin.compute().drop(columns=['NHDPlusID']).reset_index()\n",
    "    sw = sw.drop(columns=['index'])\n",
    "    sw['coverage'] = sw['coverage']*100\n",
    "    sw['huc2'] = '15'\n",
    "\n",
    "    # Get combined reaches\n",
    "    ddf_combo_bin = ddf_combo[ddf_combo.Bin == binn]\n",
    "    combo = ddf_combo_bin.compute().drop(columns=['NHDPlusID']).reset_index()\n",
    "    combo = combo.drop(columns=['index'])\n",
    "    combo['coverage'] = combo['coverage']*100\n",
    "    combo['huc2'] = 'combined'\n",
    "\n",
    "    combos = pd.concat(objs=[ne, sw, combo], axis=0).reset_index()\n",
    "\n",
    "    del ne, sw, combo\n",
    "\n",
    "    fig, ax = plt.subplots(figsize=(6,10))\n",
    "    sns.boxplot(x='Bin', y='coverage', hue='huc2',\n",
    "                data=combos,\n",
    "                palette=palette,\n",
    "                legend=True,\n",
    "                saturation=1, showmeans=True,\n",
    "                fliersize=2, linewidth=2,\n",
    "                boxprops=dict(alpha=0.8),\n",
    "                meanprops={'marker':'o',\n",
    "                           'markerfacecolor':'k',\n",
    "                           'markeredgecolor':'k',\n",
    "                           'markersize':'8'})\n",
    "\n",
    "    plt.legend(title='HUC2', loc='upper right',\n",
    "               title_fontproperties={'weight': 'bold'})\n",
    "\n",
    "    # plt.title('Minimum percent coverage of nodes in each reach')\n",
    "    plt.xticks(rotation=-45)\n",
    "    plt.ylim(0,100)\n",
    "    plt.xlabel('Width Bin [m]')\n",
    "    plt.ylabel('Detected [%]')\n",
    "\n",
    "    plt.savefig('./figures_for_2025_03_06/minimum_mean_' + binn + '.png')"
   ]
  },
  {
   "cell_type": "code",
   "execution_count": null,
   "id": "57a22cb5-1a3c-45dc-a2d5-12a733bb720c",
   "metadata": {},
   "outputs": [],
   "source": []
  },
  {
   "cell_type": "code",
   "execution_count": null,
   "id": "980a34da-d56f-4f19-b0e2-19e344e5821b",
   "metadata": {},
   "outputs": [],
   "source": []
  },
  {
   "cell_type": "code",
   "execution_count": null,
   "id": "693f3405-edc9-4514-b238-52454921d1ea",
   "metadata": {},
   "outputs": [],
   "source": []
  },
  {
   "cell_type": "code",
   "execution_count": null,
   "id": "d1449ff8-7d0f-45c5-babc-24f2e2459b6d",
   "metadata": {},
   "outputs": [],
   "source": [
    "# # Get just NE reaches at 10% threshold\n",
    "# ddf_ne_10 = ddf_ne[(ddf_ne['threshold'] == thresholds[0])]\n",
    "# ddf_ne_10 = ddf_ne_10.compute().drop(columns=['NHDPlusID']).reset_index()\n",
    "# ddf_ne_10 = ddf_ne_10.drop(columns=['index', 'threshold'])\n",
    "# ddf_ne_10['coverage'] = ddf_ne_10['coverage']*100\n",
    "# ddf_ne_10['huc2'] = '01'"
   ]
  },
  {
   "cell_type": "code",
   "execution_count": null,
   "id": "2e90e923-e763-4c0a-a5b0-cf768f1305fb",
   "metadata": {},
   "outputs": [],
   "source": [
    "# # Get just SW reaches at 10% threshold\n",
    "# ddf_sw_10 = ddf_sw[(ddf_sw['threshold'] == thresholds[0])]\n",
    "# ddf_sw_10 = ddf_sw_10.compute().drop(columns=['NHDPlusID']).reset_index()\n",
    "# ddf_sw_10 = ddf_sw_10.drop(columns=['index', 'threshold'])\n",
    "# ddf_sw_10['coverage'] = ddf_sw_10['coverage']*100\n",
    "# ddf_sw_10['huc2'] = '15'"
   ]
  },
  {
   "cell_type": "code",
   "execution_count": null,
   "id": "0df96cdc-02cb-46b1-86ee-73ed0e578226",
   "metadata": {},
   "outputs": [],
   "source": [
    "# combined = pd.concat(objs=[ddf_ne_10, ddf_sw_10, ddf_combo_10], axis=0).reset_index()"
   ]
  },
  {
   "cell_type": "code",
   "execution_count": null,
   "id": "74fade05-fe72-4f5b-8f92-ccbc24bdd4fc",
   "metadata": {},
   "outputs": [],
   "source": [
    "# del ddf_ne_10, ddf_sw_10, ddf_combo_10"
   ]
  },
  {
   "cell_type": "code",
   "execution_count": null,
   "id": "fd24dc25-1f3f-4d90-8d54-86b498376cb7",
   "metadata": {},
   "outputs": [],
   "source": [
    "# combined.columns"
   ]
  },
  {
   "cell_type": "code",
   "execution_count": null,
   "id": "005fdd1b-b079-40b3-a1d6-e28bd87f3490",
   "metadata": {},
   "outputs": [],
   "source": [
    "ddf_ne_10 = ddf_ne[(ddf_ne.threshold == 0.1)]\n",
    "ddf_10 = ddf_ne.compute().drop(columns='NHDPlusID').reset_index()"
   ]
  },
  {
   "cell_type": "code",
   "execution_count": null,
   "id": "5694fb37-fb69-429f-aa0b-c9c24cc5ea56",
   "metadata": {},
   "outputs": [],
   "source": [
    "ddf_10 = ddf_10.drop(columns='index')"
   ]
  },
  {
   "cell_type": "code",
   "execution_count": null,
   "id": "8f25f5ba-14de-4e52-870f-4fc02e8f9567",
   "metadata": {},
   "outputs": [],
   "source": [
    "# ddf_10 = ddf_10.sample(n=10000000, axis=0)"
   ]
  },
  {
   "cell_type": "code",
   "execution_count": null,
   "id": "bda8d3c4-e78e-43ea-93f1-545b0d2bf542",
   "metadata": {},
   "outputs": [],
   "source": [
    "ddf_10['coverage'] = ddf_10['coverage']*100"
   ]
  },
  {
   "cell_type": "code",
   "execution_count": null,
   "id": "cbb862aa-aa81-4eb0-a19b-6f15edec6727",
   "metadata": {},
   "outputs": [],
   "source": [
    "ddf_50 = ddf[(ddf.threshold == 0.5)]\n",
    "ddf_50 = ddf_50.compute().drop(columns='NHDPlusID').reset_index()"
   ]
  },
  {
   "cell_type": "code",
   "execution_count": null,
   "id": "7c694ecf-e352-4a10-b56c-f9662d3b99b9",
   "metadata": {},
   "outputs": [],
   "source": [
    "ddf_50 = ddf_50.drop(columns='index')"
   ]
  },
  {
   "cell_type": "code",
   "execution_count": null,
   "id": "2072ba4a-267d-41af-b53a-8deccf8d3932",
   "metadata": {},
   "outputs": [],
   "source": [
    "ddf_50 = ddf_50.sample(n=10000, axis=0)"
   ]
  },
  {
   "cell_type": "code",
   "execution_count": null,
   "id": "ccd001d5-b874-456d-af96-834c3b13f628",
   "metadata": {},
   "outputs": [],
   "source": []
  },
  {
   "cell_type": "code",
   "execution_count": null,
   "id": "14ee8656-b3bf-4199-b389-f141f87f6fe5",
   "metadata": {},
   "outputs": [],
   "source": []
  },
  {
   "cell_type": "code",
   "execution_count": null,
   "id": "3e98da2f-c50b-44e0-88d5-18a9aea3637e",
   "metadata": {},
   "outputs": [],
   "source": []
  },
  {
   "cell_type": "markdown",
   "id": "86cb8f41-b84c-4347-a63c-8d9fa46ddc1c",
   "metadata": {
    "tags": []
   },
   "source": [
    "## Plots"
   ]
  },
  {
   "cell_type": "code",
   "execution_count": null,
   "id": "e8c389b4-2c7e-4840-9d50-59ee1933e987",
   "metadata": {},
   "outputs": [],
   "source": [
    "def truncate_colormap(cmap, minval=0.0, maxval=1.0, n=100):\n",
    "    new_cmap = colors.LinearSegmentedColormap.from_list(\n",
    "        'trunc({n},{a:.2f},{b:.2f})'.format(n=cmap.name, a=minval, b=maxval),\n",
    "        cmap(np.linspace(minval, maxval, n)))\n",
    "    return new_cmap"
   ]
  },
  {
   "cell_type": "code",
   "execution_count": null,
   "id": "e16702c3-e438-41b9-bd08-c52d6ebacef1",
   "metadata": {},
   "outputs": [],
   "source": [
    "cmap = plt.get_cmap('cubehelix')\n",
    "new_cmap = truncate_colormap(cmap, 0.2, 0.75)\n",
    "ten = new_cmap(0)\n",
    "thirty = new_cmap(0.25)\n",
    "fifty = new_cmap(0.5)\n",
    "seventy = new_cmap(0.75)\n",
    "ninety = new_cmap(1)"
   ]
  },
  {
   "cell_type": "code",
   "execution_count": null,
   "id": "2f12f854-5279-404e-8efd-251da365ee51",
   "metadata": {},
   "outputs": [],
   "source": [
    "# Order of all possible bins for plotting\n",
    "order = ['(0, 10]', '(10, 20]', '(20, 30]', '(30, 40]', '(40, 50]',\n",
    "         '(50, 60]', '(60, 70]', '(70, 80]', '(80, 90]', '(90, 100]',\n",
    "         '(100, 150]']"
   ]
  },
  {
   "cell_type": "code",
   "execution_count": null,
   "id": "4a1bfd46-b680-490b-b931-b3876d240817",
   "metadata": {},
   "outputs": [],
   "source": [
    "save_path = '/nas/cee-water/cjgleason/fiona/narrow_rivers_PIXC/figures_for_2025_03_03/'"
   ]
  },
  {
   "cell_type": "code",
   "execution_count": null,
   "id": "53e9668a-8fbe-4ec7-b13b-8ab70522e03a",
   "metadata": {},
   "outputs": [],
   "source": [
    "fig, ax = plt.subplots(figsize=(12,6))\n",
    "sns.boxplot(x=bbin, y='coverage',\n",
    "            data=ddf_10, order=order, color=ten,\n",
    "            saturation=1, showmeans=True,\n",
    "            fliersize=2, linewidth=2,\n",
    "            boxprops=dict(alpha=0.8),\n",
    "            meanprops={'marker':'o',\n",
    "                       'markerfacecolor':'white',\n",
    "                       'markeredgecolor':'k',\n",
    "                       'markersize':'8'})\n",
    "\n",
    "plt.title('Bieger et al. width == ' + bwidth + ', 10% threshold', fontsize=16,\n",
    "           fontweight='bold')\n",
    "plt.xticks(fontsize=14, fontweight='semibold', rotation=-45)\n",
    "plt.yticks(fontsize=14, fontweight='semibold',)\n",
    "\n",
    "plt.xlabel('Width Bin [m]', fontsize=16,\n",
    "           fontweight='bold', labelpad=20)\n",
    "plt.ylabel('Detected [%]', fontsize=16,\n",
    "           fontweight='bold')\n",
    "\n",
    "# plt.savefig(fname=save_path + 'huc2_15_fifty_' + bwidth + '.png', dpi=300, bbox_inches='tight')"
   ]
  },
  {
   "cell_type": "code",
   "execution_count": null,
   "id": "e9ccef03-841c-4e9c-a7ff-e2144f8bea45",
   "metadata": {},
   "outputs": [],
   "source": [
    "# fig, ax = plt.subplots(figsize=(20,8))\n",
    "# sns.boxplot(x='Bin', y='coverage', hue='threshold',\n",
    "#             data=ddf_subset, \n",
    "#             palette=new_cmap,\n",
    "#             saturation=1, showmeans=True,\n",
    "#             fliersize=2, legend=False,\n",
    "#             boxprops=dict(alpha=0.8),\n",
    "#             meanprops={'marker':'o',\n",
    "#                        'markerfacecolor':'white',\n",
    "#                        'markeredgecolor':'k',\n",
    "#                        'markersize':'4'})\n",
    "\n",
    "# plt.title('Bieger et al. width: ' + bwidth + '\\nHUC2_15', fontsize=16,\n",
    "#            fontweight='bold')\n",
    "\n",
    "# plt.xticks(fontsize=14, fontweight='semibold', rotation=-45)\n",
    "# plt.yticks(fontsize=14, fontweight='semibold',)\n",
    "\n",
    "# plt.xlabel('Width Bin [m]', fontsize=16,\n",
    "#            fontweight='bold', labelpad=20)\n",
    "# plt.ylabel('Detected [%]', fontsize=16,\n",
    "#            fontweight='bold')\n",
    "\n",
    "# plt.savefig(save_path + 'huc2_15_no_land.png', bbox_inches='tight')"
   ]
  },
  {
   "cell_type": "code",
   "execution_count": null,
   "id": "aba6e7f5-0dd3-4977-ab93-0564f884e8e2",
   "metadata": {},
   "outputs": [],
   "source": [
    "    fig, ax = plt.subplots(figsize=(10,6))\n",
    "    sns.boxplot(data=combined, x='Bin', y='coverage',\n",
    "                order=order,\n",
    "                color=color[2],\n",
    "                saturation=1, showmeans=True,\n",
    "                fliersize=2, linewidth=2,\n",
    "                boxprops=dict(alpha=0.8),\n",
    "                meanprops={'marker':'o',\n",
    "                           'markerfacecolor':'k',\n",
    "                           'markeredgecolor':'k',\n",
    "                           'markersize':'8'})\n",
    "\n",
    "    plt.title('Reaches with at least ' + percent +\n",
    "              '% coverage in each node, excluding reaches with 0% coverage\\nHUC2_01: ' + str(ne_zeros) +\n",
    "              '% of reaches have 0% coverage in all nodes\\nHUC2_15: ' +\n",
    "              str(sw_zeros) + '% of reaches have 0% coverage in all nodes')\n",
    "\n",
    "    patch = mpatches.Patch(color=color[2], label='combined')\n",
    "    plt.legend(handles=[patch], title='HUC2', loc='upper right',\n",
    "               title_fontproperties={'weight': 'bold'})\n",
    "\n",
    "    plt.xticks(rotation=-45)\n",
    "\n",
    "    plt.xlabel('Width Bin [m]')\n",
    "    plt.ylabel('Reaches with at least ' + percent + '% coverage')\n",
    "\n",
    "    plt.savefig(save_path + 'threshold_combined_mean_' + percent + '.png')"
   ]
  }
 ],
 "metadata": {
  "kernelspec": {
   "display_name": "Python [conda env:.conda-narrowPIXC]",
   "language": "python",
   "name": "conda-env-.conda-narrowPIXC-py"
  },
  "language_info": {
   "codemirror_mode": {
    "name": "ipython",
    "version": 3
   },
   "file_extension": ".py",
   "mimetype": "text/x-python",
   "name": "python",
   "nbconvert_exporter": "python",
   "pygments_lexer": "ipython3",
   "version": "3.12.4"
  }
 },
 "nbformat": 4,
 "nbformat_minor": 5
}
