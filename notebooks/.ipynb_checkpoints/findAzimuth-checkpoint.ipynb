{
 "cells": [
  {
   "cell_type": "code",
   "execution_count": 1,
   "id": "08a455bc-09e6-499a-9dfb-a213e8b8c0d0",
   "metadata": {},
   "outputs": [],
   "source": [
    "import os\n",
    "\n",
    "import geopandas as gpd\n",
    "import math\n",
    "import matplotlib.pyplot as plt\n",
    "import numpy as np\n",
    "import pandas as pd\n",
    "import shapely\n",
    "\n",
    "from scipy.stats import linregress\n",
    "from reaches import *\n",
    "from utils import *"
   ]
  },
  {
   "cell_type": "code",
   "execution_count": 2,
   "id": "fbf3b776-c10c-46b8-98ae-e4b4f0e684fb",
   "metadata": {},
   "outputs": [],
   "source": [
    "# FOR NOW, SET\n",
    "width_set = 'min'\n",
    "\n",
    "# Control flow\n",
    "if width_set == 'mean':\n",
    "    width = 'WidthM'\n",
    "    binn = 'Bin'\n",
    "elif width_set == 'min':\n",
    "    width = 'WidthM_Min'\n",
    "    binn = 'Bin_Min'\n",
    "elif width_set == 'max':\n",
    "    width = 'WidthM_Max'\n",
    "    binn = 'Bin_Max'\n",
    "else:\n",
    "    print('Invalid width option specified, exiting.')\n",
    "    # sys.exit()"
   ]
  },
  {
   "cell_type": "code",
   "execution_count": 3,
   "id": "ec5f41c6-4932-444f-bb43-72033d6d9450",
   "metadata": {},
   "outputs": [],
   "source": [
    "huc2 = '01' ### SET THIS\n",
    "data_path = '/nas/cee-water/cjgleason/fiona/data/PIXC_v2_0_HUC2_' + huc2\n",
    "# save_dir ="
   ]
  },
  {
   "cell_type": "markdown",
   "id": "cb8120ec-5361-43ba-9f31-b12209fef174",
   "metadata": {
    "tags": []
   },
   "source": [
    "### Pixel Cloud"
   ]
  },
  {
   "cell_type": "code",
   "execution_count": 4,
   "id": "9b7b040c-c818-424e-b4c1-ca9869764ef8",
   "metadata": {},
   "outputs": [],
   "source": [
    "# Get job index\n",
    "# slurm = int(os.environ['SLURM_ARRAY_TASK_ID'])\n",
    "index = 106"
   ]
  },
  {
   "cell_type": "code",
   "execution_count": 5,
   "id": "46edb51f-af1e-42f2-959b-2f340db9bd03",
   "metadata": {},
   "outputs": [],
   "source": [
    "huc2 = '01'\n",
    "file_path = '/nas/cee-water/cjgleason/fiona/narrow_rivers_PIXC/data/PIXC_v2_0_HUC2_' + huc2 + '_filtered.json'\n",
    "data = open_json(file_path)"
   ]
  },
  {
   "cell_type": "code",
   "execution_count": 6,
   "id": "213fcfe8-f2aa-4ca9-9ac4-460f221e2a56",
   "metadata": {},
   "outputs": [],
   "source": [
    "file_name = data[index]"
   ]
  },
  {
   "cell_type": "code",
   "execution_count": 7,
   "id": "090711f0-9465-4abb-998a-28b48a7690f4",
   "metadata": {},
   "outputs": [
    {
     "name": "stdout",
     "output_type": "stream",
     "text": [
      "SWOT_L2_HR_PIXC_002_007_235R_20230811T080638_20230811T080649_PGC0_01\n"
     ]
    }
   ],
   "source": [
    "# Get data for this tile\n",
    "granule_name = file_name[:-3]\n",
    "tile_name = file_name[20:28]\n",
    "pass_num = int(file_name[20:23])\n",
    "\n",
    "print(granule_name)"
   ]
  },
  {
   "cell_type": "markdown",
   "id": "e1fd7536-7119-4cea-9972-43b54d9acc43",
   "metadata": {
    "tags": []
   },
   "source": [
    "#### Read in PIXC"
   ]
  },
  {
   "cell_type": "code",
   "execution_count": 8,
   "id": "e934b610-08da-404e-b986-49e1a828c837",
   "metadata": {},
   "outputs": [],
   "source": [
    "# Set PIXC filepath\n",
    "pixc_path = os.path.join(data_path, file_name)"
   ]
  },
  {
   "cell_type": "code",
   "execution_count": 9,
   "id": "0653f04e-2a79-4897-a271-a78fec6a2dfd",
   "metadata": {},
   "outputs": [],
   "source": [
    "# Read in pixel group\n",
    "ds_PIXC = xr.open_mfdataset(paths=pixc_path, group = 'pixel_cloud', engine='h5netcdf')"
   ]
  },
  {
   "cell_type": "code",
   "execution_count": 10,
   "id": "3f172fd2-9599-4de6-96dd-25a3349c2e64",
   "metadata": {},
   "outputs": [
    {
     "name": "stdout",
     "output_type": "stream",
     "text": [
      "(761047,)\n"
     ]
    }
   ],
   "source": [
    "# Make mask\n",
    "mask = bitwiseMask(ds_PIXC)\n",
    "\n",
    "if mask.shape[0] == 0:\n",
    "    print('This granule has no pixels after masking, exiting.')\n",
    "    # sys.exit(1)    "
   ]
  },
  {
   "cell_type": "code",
   "execution_count": 11,
   "id": "8f91074c-08eb-4e5b-a280-556f84e10eec",
   "metadata": {},
   "outputs": [],
   "source": [
    "# Set desired data vars\n",
    "variables = ['azimuth_index', 'range_index', 'cross_track',\n",
    "             'pixel_area', 'height', 'geoid', 'prior_water_prob',\n",
    "             'classification']"
   ]
  },
  {
   "cell_type": "code",
   "execution_count": 12,
   "id": "b05fad59-8e74-4898-a3b2-a2aec1f918f8",
   "metadata": {},
   "outputs": [],
   "source": [
    "# Convert PIXC to GeoDataFrame\n",
    "gdf_PIXC = makeGDF(ds=ds_PIXC, mask=mask, data_vars=variables)"
   ]
  },
  {
   "cell_type": "markdown",
   "id": "afc94b79-e284-48d5-8113-139c4733f692",
   "metadata": {},
   "source": [
    "### Find correct HUC4s"
   ]
  },
  {
   "cell_type": "code",
   "execution_count": 13,
   "id": "83ff72ae-88bf-4ed1-8fdc-ac841a6def3b",
   "metadata": {},
   "outputs": [],
   "source": [
    "### NHDPlus HR\n",
    "## Find correct HUC4s\n",
    "# Read in tile and HUC4 intersection data\n",
    "mdata_path = '/nas/cee-water/cjgleason/fiona/narrow_rivers_PIXC/data/'\n",
    "dtype_dic= {'tile': str, 'huc4': str, 'coverage': float}\n",
    "tile_huc4 = pd.read_csv(os.path.join(mdata_path,\n",
    "                                    'huc4_swot_science_tiles.csv'),\n",
    "                        dtype=dtype_dic)"
   ]
  },
  {
   "cell_type": "code",
   "execution_count": 14,
   "id": "a8af890f-2d8e-41ee-9a89-9723c95a6668",
   "metadata": {},
   "outputs": [],
   "source": [
    "# Make list of HUC4s that intersect the tile\n",
    "hucs = list(tile_huc4[(tile_huc4['tile'] == tile_name)]['huc4'])\n",
    "# Limit to the current HUC2\n",
    "hucs = [x for x in hucs if x.startswith(huc2)]"
   ]
  },
  {
   "cell_type": "code",
   "execution_count": 15,
   "id": "18a0a688-2429-478c-921a-85df21bfda48",
   "metadata": {},
   "outputs": [
    {
     "data": {
      "text/plain": [
       "['0101', '0102', '0105']"
      ]
     },
     "execution_count": 15,
     "metadata": {},
     "output_type": "execute_result"
    }
   ],
   "source": [
    "hucs"
   ]
  },
  {
   "cell_type": "code",
   "execution_count": 16,
   "id": "94f32a15-03ca-4e66-93e6-7f08b39ded3f",
   "metadata": {},
   "outputs": [],
   "source": [
    "# Get NHD index metadata\n",
    "# Define dtypes for lookup tables to preserve leading zeros\n",
    "dtype_dic= {'HUC4': str, 'HUC2': str, 'toBasin': str, 'level': str}\n",
    "# Read in HUC lookup table\n",
    "huc_lookup = pd.read_csv(os.path.join(mdata_path,\n",
    "                                  'HUC4_lookup_no_great_lakes.csv'),\n",
    "                     dtype=dtype_dic)"
   ]
  },
  {
   "cell_type": "code",
   "execution_count": 17,
   "id": "63b17128-f41e-4843-b76f-ba910d7eeec5",
   "metadata": {},
   "outputs": [],
   "source": [
    "# Extract indices for read-in\n",
    "indices = list(huc_lookup[huc_lookup['HUC4'].isin(hucs)]['slurm_index'])"
   ]
  },
  {
   "cell_type": "markdown",
   "id": "db198bfd-90e2-43f1-9a85-21268e901b48",
   "metadata": {},
   "source": [
    "### Read in HUC4 flowliness"
   ]
  },
  {
   "cell_type": "code",
   "execution_count": 18,
   "id": "47a3b129-0c66-4c83-9424-ab866c348235",
   "metadata": {},
   "outputs": [
    {
     "name": "stdout",
     "output_type": "stream",
     "text": [
      "type: normal\n",
      "NHDPLUS_H_0101_HU4_GDB\n",
      "flowlines read-in\n",
      "exploded\n",
      "type: normal\n",
      "NHDPLUS_H_0102_HU4_GDB\n",
      "flowlines read-in\n",
      "exploded\n",
      "type: normal\n",
      "NHDPLUS_H_0105_HU4_GDB\n",
      "flowlines read-in\n",
      "exploded\n"
     ]
    }
   ],
   "source": [
    "# Create merged dataframe of all flowlines intersected\n",
    "if len(indices) == 1:\n",
    "    # Read prepped NHD\n",
    "    flowlines, _, _,  = readNHD(index=indices[0])\n",
    "    # huc4_list, huc2_list = readNHD(index=indices[0])\n",
    "else:\n",
    "    # Initialize lists\n",
    "    d = []\n",
    "    # huc4_list = []\n",
    "    # huc2_list = []\n",
    "    # Loop through indices and store in lists\n",
    "    for i in indices:\n",
    "        # Read prepped NHD\n",
    "        flowlines, _, _ = readNHD(index=i)\n",
    "        # huc4, huc2 = readNHD(index=i)\n",
    "        # Append to lists\n",
    "        d.append(flowlines)\n",
    "        # huc4_list.append(huc4) # I DON'T DO ANYTHING WITH THIS\n",
    "        # huc2_list.append(huc2) # I DON'T DO ANYTHING WITH THIS\n",
    "    # Merge GeoDataFrames\n",
    "    flowlines = pd.concat(d)"
   ]
  },
  {
   "cell_type": "code",
   "execution_count": 19,
   "id": "7dbfc19b-ee52-4c38-86fc-2ec4bc74153c",
   "metadata": {},
   "outputs": [],
   "source": [
    "# Project CRS (currently to WGS 84 / UTM zone 18N) \n",
    "flowlines = flowlines.to_crs(epsg=3857)"
   ]
  },
  {
   "cell_type": "markdown",
   "id": "db4c0f2a-800d-47b1-ba01-601d26a46726",
   "metadata": {
    "tags": []
   },
   "source": [
    "### Nadir track"
   ]
  },
  {
   "cell_type": "code",
   "execution_count": 20,
   "id": "f362996c-5245-4e98-ab94-2f7c0653c3fd",
   "metadata": {},
   "outputs": [],
   "source": [
    "# Get single pixel for selecting correct nadir segment\n",
    "pixel_pt = gdf_PIXC.iloc[0].geometry"
   ]
  },
  {
   "cell_type": "code",
   "execution_count": 21,
   "id": "b76514a1-fabf-4908-8c88-40cb07983e4b",
   "metadata": {},
   "outputs": [
    {
     "name": "stderr",
     "output_type": "stream",
     "text": [
      "/work/pi_cjgleason_umass_edu/.conda/envs/narrowPIXC/lib/python3.12/site-packages/geopandas/geodataframe.py:1819: SettingWithCopyWarning: \n",
      "A value is trying to be set on a copy of a slice from a DataFrame.\n",
      "Try using .loc[row_indexer,col_indexer] = value instead\n",
      "\n",
      "See the caveats in the documentation: https://pandas.pydata.org/pandas-docs/stable/user_guide/indexing.html#returning-a-view-versus-a-copy\n",
      "  super().__setitem__(key, value)\n"
     ]
    }
   ],
   "source": [
    "# Find correct nadir segment and return its geometry\n",
    "nadir_segment_ln = findNadir(pass_num=pass_num, pixel_pt=pixel_pt)"
   ]
  },
  {
   "cell_type": "code",
   "execution_count": 22,
   "id": "a6f9fd68-07a6-4db1-9212-74494d80910c",
   "metadata": {},
   "outputs": [
    {
     "data": {
      "image/svg+xml": [
       "<svg xmlns=\"http://www.w3.org/2000/svg\" xmlns:xlink=\"http://www.w3.org/1999/xlink\" width=\"300\" height=\"300\" viewBox=\"-7719704.372098443 5389665.547683533 923535.6086519277 2512524.0003024014\" preserveAspectRatio=\"xMinYMin meet\"><g transform=\"matrix(1,0,0,-1,0,13291855.095669467)\"><polyline fill=\"none\" stroke=\"#66cc99\" stroke-width=\"16750.160002016008\" points=\"-7626647.927642799,5482721.992139177 -7608934.102350826,5551242.435053944 -7585990.932659353,5638632.832211374 -7562506.861562114,5726783.469691866 -7538461.294953313,5815713.351858365 -7513831.968934793,5905441.944030833 -7488596.17433043,5995989.521009937 -7462729.643491229,6087376.209598151 -7436207.21821228,6179623.150121861 -7409002.293135273,6272751.698011044 -7381087.149707008,6366783.772515026 -7352432.399581912,6461741.707985743 -7323007.429900019,6557648.620844276 -7292779.846689503,6654527.913892565 -7261715.586186182,6752403.463327939 -7229778.914833522,6851299.454624188 -7196931.984004641,6951241.3106593955 -7163135.16396082,7052253.890901494 -7128346.487254035,7154363.330324901 -7092521.537407454,7257595.957894707 -7055613.894193416,7361978.485955988 -7017573.909119029,7467537.820203938 -6978349.707301585,7574301.650300844 -6937886.074273645,7682297.672975587 -6896124.567302546,7791553.977984909 -6889225.20790216,7809133.103530291\" opacity=\"0.8\" /></g></svg>"
      ],
      "text/plain": [
       "<LINESTRING (-7626647.928 5482721.992, -7608934.102 5551242.435, -7585990.93...>"
      ]
     },
     "execution_count": 22,
     "metadata": {},
     "output_type": "execute_result"
    }
   ],
   "source": [
    "nadir_segment_ln"
   ]
  },
  {
   "cell_type": "code",
   "execution_count": 47,
   "id": "4ee6e22a-b869-470a-8e11-eceb8388a6bb",
   "metadata": {},
   "outputs": [],
   "source": [
    "def calcAzSin(df):\n",
    "    # Set-up\n",
    "    line = df.geometry\n",
    "    x_coords = [coord[0] for coord in line.coords]\n",
    "    y_coords = [coord[1] for coord in line.coords]\n",
    "    \n",
    "    # Regress\n",
    "    result = linregress(x_coords, y_coords)\n",
    "    slope = result.slope\n",
    "    intercept = result.intercept\n",
    "    \n",
    "    # Find deltas\n",
    "    dx = x_coords[-1] - x_coords[0]\n",
    "    dy = y_coords[-1] - y_coords[0]\n",
    "    dy_reg = (slope*x_coords[-1] + intercept) - y_coords[0]\n",
    "    \n",
    "    # Find azimuth\n",
    "    azimuth = math.degrees(math.atan2(dy_reg, dx))\n",
    "        \n",
    "    if azimuth < 0:\n",
    "        azimuth += 360\n",
    "    \n",
    "    # Find sinuosity\n",
    "    distance = np.sqrt(dx**2 + dy**2)\n",
    "    \n",
    "    sinuosity = line.length/distance\n",
    "    \n",
    "    return azimuth, sinuosity"
   ]
  },
  {
   "cell_type": "code",
   "execution_count": 49,
   "id": "6eac55b7-018f-4e7a-94fb-a3d4aad0a63b",
   "metadata": {},
   "outputs": [],
   "source": [
    "df = flowlines.iloc[6]"
   ]
  },
  {
   "cell_type": "code",
   "execution_count": 50,
   "id": "d63c1ba9-fc46-49b0-803e-cbfd929b8321",
   "metadata": {},
   "outputs": [],
   "source": [
    "az, sin = calcAzSin(df)"
   ]
  },
  {
   "cell_type": "code",
   "execution_count": 51,
   "id": "814bf32b-10b4-4e29-8a5e-f8ec4ebfed7e",
   "metadata": {},
   "outputs": [
    {
     "data": {
      "text/plain": [
       "315.74662251281615"
      ]
     },
     "execution_count": 51,
     "metadata": {},
     "output_type": "execute_result"
    }
   ],
   "source": [
    "az"
   ]
  },
  {
   "cell_type": "code",
   "execution_count": 52,
   "id": "f71812cb-9d52-4a33-8975-3143326f4154",
   "metadata": {},
   "outputs": [
    {
     "data": {
      "text/plain": [
       "np.float64(1.0153297442996871)"
      ]
     },
     "execution_count": 52,
     "metadata": {},
     "output_type": "execute_result"
    }
   ],
   "source": [
    "sin"
   ]
  },
  {
   "cell_type": "code",
   "execution_count": 42,
   "id": "93be22dd-6071-4aef-98bd-8fba22ef0124",
   "metadata": {},
   "outputs": [],
   "source": [
    "az_n, _ = calc_az_sin(line=nadir_segment_ln, nadir=True)"
   ]
  },
  {
   "cell_type": "code",
   "execution_count": 43,
   "id": "c1235b83-9c35-442e-9c3e-00098bf06c5e",
   "metadata": {},
   "outputs": [
    {
     "data": {
      "text/plain": [
       "72.41249500094567"
      ]
     },
     "execution_count": 43,
     "metadata": {},
     "output_type": "execute_result"
    }
   ],
   "source": [
    "az_n"
   ]
  },
  {
   "cell_type": "code",
   "execution_count": 44,
   "id": "54773001-9dbf-40b6-85c9-8c371b96f747",
   "metadata": {},
   "outputs": [],
   "source": [
    "diff = np.abs(az - az_n)"
   ]
  },
  {
   "cell_type": "code",
   "execution_count": 45,
   "id": "674b2358-5bbe-4829-8a85-9c9f8faaadbb",
   "metadata": {},
   "outputs": [
    {
     "data": {
      "text/plain": [
       "np.float64(243.33412751187046)"
      ]
     },
     "execution_count": 45,
     "metadata": {},
     "output_type": "execute_result"
    }
   ],
   "source": [
    "diff"
   ]
  },
  {
   "cell_type": "code",
   "execution_count": 38,
   "id": "11f0f6b1-4d10-4672-a088-a4ec09313e6a",
   "metadata": {},
   "outputs": [],
   "source": [
    "aligned = 0\n",
    "\n",
    "if (diff < 45) or (diff >= 315):\n",
    "    aligned = 1\n",
    "elif (diff >= 135) and (diff < 225):\n",
    "    aligned = 1"
   ]
  },
  {
   "cell_type": "code",
   "execution_count": 39,
   "id": "4fb1e357-4356-4414-9ffc-c866ed1c0013",
   "metadata": {},
   "outputs": [
    {
     "data": {
      "text/plain": [
       "0"
      ]
     },
     "execution_count": 39,
     "metadata": {},
     "output_type": "execute_result"
    }
   ],
   "source": [
    "aligned"
   ]
  }
 ],
 "metadata": {
  "kernelspec": {
   "display_name": "Python [conda env:.conda-narrowPIXC]",
   "language": "python",
   "name": "conda-env-.conda-narrowPIXC-py"
  },
  "language_info": {
   "codemirror_mode": {
    "name": "ipython",
    "version": 3
   },
   "file_extension": ".py",
   "mimetype": "text/x-python",
   "name": "python",
   "nbconvert_exporter": "python",
   "pygments_lexer": "ipython3",
   "version": "3.12.4"
  }
 },
 "nbformat": 4,
 "nbformat_minor": 5
}
