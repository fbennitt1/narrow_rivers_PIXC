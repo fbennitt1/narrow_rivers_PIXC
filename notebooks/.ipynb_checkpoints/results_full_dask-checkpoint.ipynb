{
 "cells": [
  {
   "cell_type": "code",
   "execution_count": 1,
   "id": "3a969e19-56af-4005-9bcb-a3607fb7e5e7",
   "metadata": {},
   "outputs": [],
   "source": [
    "import os\n",
    "import time\n",
    "\n",
    "import dask.dataframe as dd\n",
    "import matplotlib.colors as colors\n",
    "import matplotlib.patches as mpatches\n",
    "import matplotlib.pyplot as plt\n",
    "import numpy as np\n",
    "import pandas as pd\n",
    "import seaborn as sns"
   ]
  },
  {
   "cell_type": "markdown",
   "id": "f312c953-5226-4207-83fd-ea6d30749ba8",
   "metadata": {},
   "source": [
    "### For plotting"
   ]
  },
  {
   "cell_type": "code",
   "execution_count": 68,
   "id": "59afabc7-293a-4472-8d06-2f372ea17dc4",
   "metadata": {},
   "outputs": [],
   "source": [
    "def truncate_colormap(cmap, minval=0.0, maxval=1.0, n=100):\n",
    "    new_cmap = colors.LinearSegmentedColormap.from_list(\n",
    "        'trunc({n},{a:.2f},{b:.2f})'.format(n=cmap.name, a=minval, b=maxval),\n",
    "        cmap(np.linspace(minval, maxval, n)))\n",
    "    return new_cmap"
   ]
  },
  {
   "cell_type": "code",
   "execution_count": 163,
   "id": "cb5e0840-6d62-45d9-865a-27ddbdfe602b",
   "metadata": {},
   "outputs": [],
   "source": [
    "cmap = plt.get_cmap('cubehelix', 5)\n",
    "new_cmap = truncate_colormap(cmap, 0.2, 0.75)"
   ]
  },
  {
   "cell_type": "code",
   "execution_count": 176,
   "id": "db1b8be2-fd20-4a66-83a1-4bb6ed98f4dc",
   "metadata": {},
   "outputs": [],
   "source": [
    "color = []\n",
    "\n",
    "for i in np.linspace(0, 1, 7):\n",
    "    color.append(colors.rgb2hex(new_cmap(i)))"
   ]
  },
  {
   "cell_type": "code",
   "execution_count": 202,
   "id": "ca505ea2-1e5d-4587-a1a5-6a1f17221076",
   "metadata": {},
   "outputs": [],
   "source": [
    "palette = sns.color_palette(color)\n",
    "palette_two = sns.color_palette(color[1::3])\n",
    "palette_three = sns.color_palette(color[1::2])\n",
    "palette_four = sns.color_palette(color[0::2])"
   ]
  },
  {
   "cell_type": "code",
   "execution_count": 190,
   "id": "b0a22b17-dea5-4738-9794-c483543f1057",
   "metadata": {},
   "outputs": [
    {
     "data": {
      "text/html": [
       "<svg  width=\"385\" height=\"55\"><rect x=\"0\" y=\"0\" width=\"55\" height=\"55\" style=\"fill:#16534c;stroke-width:2;stroke:rgb(255,255,255)\"/><rect x=\"55\" y=\"0\" width=\"55\" height=\"55\" style=\"fill:#16534c;stroke-width:2;stroke:rgb(255,255,255)\"/><rect x=\"110\" y=\"0\" width=\"55\" height=\"55\" style=\"fill:#16534c;stroke-width:2;stroke:rgb(255,255,255)\"/><rect x=\"165\" y=\"0\" width=\"55\" height=\"55\" style=\"fill:#a07949;stroke-width:2;stroke:rgb(255,255,255)\"/><rect x=\"220\" y=\"0\" width=\"55\" height=\"55\" style=\"fill:#a07949;stroke-width:2;stroke:rgb(255,255,255)\"/><rect x=\"275\" y=\"0\" width=\"55\" height=\"55\" style=\"fill:#c7b3ed;stroke-width:2;stroke:rgb(255,255,255)\"/><rect x=\"330\" y=\"0\" width=\"55\" height=\"55\" style=\"fill:#c7b3ed;stroke-width:2;stroke:rgb(255,255,255)\"/></svg>"
      ],
      "text/plain": [
       "[(0.08627450980392157, 0.3254901960784314, 0.2980392156862745),\n",
       " (0.08627450980392157, 0.3254901960784314, 0.2980392156862745),\n",
       " (0.08627450980392157, 0.3254901960784314, 0.2980392156862745),\n",
       " (0.6274509803921569, 0.4745098039215686, 0.28627450980392155),\n",
       " (0.6274509803921569, 0.4745098039215686, 0.28627450980392155),\n",
       " (0.7803921568627451, 0.7019607843137254, 0.9294117647058824),\n",
       " (0.7803921568627451, 0.7019607843137254, 0.9294117647058824)]"
      ]
     },
     "execution_count": 190,
     "metadata": {},
     "output_type": "execute_result"
    }
   ],
   "source": [
    "palette"
   ]
  },
  {
   "cell_type": "code",
   "execution_count": 203,
   "id": "3b7224c2-d1fb-401a-9462-d83358d54fb7",
   "metadata": {},
   "outputs": [
    {
     "data": {
      "text/html": [
       "<svg  width=\"165\" height=\"55\"><rect x=\"0\" y=\"0\" width=\"55\" height=\"55\" style=\"fill:#16534c;stroke-width:2;stroke:rgb(255,255,255)\"/><rect x=\"55\" y=\"0\" width=\"55\" height=\"55\" style=\"fill:#a07949;stroke-width:2;stroke:rgb(255,255,255)\"/><rect x=\"110\" y=\"0\" width=\"55\" height=\"55\" style=\"fill:#c7b3ed;stroke-width:2;stroke:rgb(255,255,255)\"/></svg>"
      ],
      "text/plain": [
       "[(0.08627450980392157, 0.3254901960784314, 0.2980392156862745),\n",
       " (0.6274509803921569, 0.4745098039215686, 0.28627450980392155),\n",
       " (0.7803921568627451, 0.7019607843137254, 0.9294117647058824)]"
      ]
     },
     "execution_count": 203,
     "metadata": {},
     "output_type": "execute_result"
    }
   ],
   "source": [
    "palette_three"
   ]
  },
  {
   "cell_type": "code",
   "execution_count": 198,
   "id": "e722070b-f5d2-4b9c-bf25-46f5ab70dab9",
   "metadata": {},
   "outputs": [
    {
     "data": {
      "text/html": [
       "<svg  width=\"220\" height=\"55\"><rect x=\"0\" y=\"0\" width=\"55\" height=\"55\" style=\"fill:#16534c;stroke-width:2;stroke:rgb(255,255,255)\"/><rect x=\"55\" y=\"0\" width=\"55\" height=\"55\" style=\"fill:#16534c;stroke-width:2;stroke:rgb(255,255,255)\"/><rect x=\"110\" y=\"0\" width=\"55\" height=\"55\" style=\"fill:#a07949;stroke-width:2;stroke:rgb(255,255,255)\"/><rect x=\"165\" y=\"0\" width=\"55\" height=\"55\" style=\"fill:#c7b3ed;stroke-width:2;stroke:rgb(255,255,255)\"/></svg>"
      ],
      "text/plain": [
       "[(0.08627450980392157, 0.3254901960784314, 0.2980392156862745),\n",
       " (0.08627450980392157, 0.3254901960784314, 0.2980392156862745),\n",
       " (0.6274509803921569, 0.4745098039215686, 0.28627450980392155),\n",
       " (0.7803921568627451, 0.7019607843137254, 0.9294117647058824)]"
      ]
     },
     "execution_count": 198,
     "metadata": {},
     "output_type": "execute_result"
    }
   ],
   "source": [
    "palette_four"
   ]
  },
  {
   "cell_type": "code",
   "execution_count": 72,
   "id": "3761e791-90d9-4c87-bace-f10edad737d3",
   "metadata": {},
   "outputs": [],
   "source": [
    "# Order of all possible bins for plotting\n",
    "order = ['(0, 10]', '(10, 20]', '(20, 30]', '(30, 40]', '(40, 50]',\n",
    "         '(50, 60]', '(60, 70]', '(70, 80]', '(80, 90]', '(90, 100]',\n",
    "         '(100, 150]', '(150, 200]', '(200, 500]']"
   ]
  },
  {
   "cell_type": "code",
   "execution_count": null,
   "id": "b89c63f1-8bc9-44fd-96ec-8a2660296e9a",
   "metadata": {},
   "outputs": [],
   "source": [
    "# save_path = '/nas/cee-water/cjgleason/fiona/narrow_rivers_PIXC/figures_for_2025_05_27/'"
   ]
  },
  {
   "cell_type": "markdown",
   "id": "6790c17c-db46-46b7-b2c0-9a45f5e86df5",
   "metadata": {
    "tags": []
   },
   "source": [
    "## Threshold"
   ]
  },
  {
   "cell_type": "code",
   "execution_count": 47,
   "id": "bfdb0405-cb86-4ebd-a7b0-bd3ca75d9e42",
   "metadata": {
    "tags": []
   },
   "outputs": [],
   "source": [
    "# Thresholds\n",
    "thresholds = ['0.1', '0.2', '0.3', '0.4', \n",
    "              '0.5', '0.6', '0.7', '0.8', '0.9']"
   ]
  },
  {
   "cell_type": "markdown",
   "id": "e6e572fe-811c-4326-9e7d-a373f443a55a",
   "metadata": {
    "tags": []
   },
   "source": [
    "### HUC2_01, Northeast"
   ]
  },
  {
   "cell_type": "code",
   "execution_count": 130,
   "id": "1dd97655-9e5c-4a41-8fce-6a437a30ca41",
   "metadata": {},
   "outputs": [],
   "source": [
    "## Setup\n",
    "bwidth = 'mean'\n",
    "bbin = 'Bin'\n",
    "huc2 = '01'\n",
    "data_path = '../../narrow_rivers_PIXC_output/PIXC_v2_0_HUC2_' + \\\n",
    "            huc2 + '_2025_05_24_' + bwidth"
   ]
  },
  {
   "cell_type": "code",
   "execution_count": 131,
   "id": "7f6b9e36-ce00-464a-8485-8f36346d8914",
   "metadata": {},
   "outputs": [],
   "source": [
    "# Get list of files    \n",
    "files = []\n",
    "for file in os.listdir(data_path):\n",
    "    if not file.startswith('.'):\n",
    "        files.append(os.path.join(data_path, file))"
   ]
  },
  {
   "cell_type": "code",
   "execution_count": 132,
   "id": "04ce7a4d-db31-4c94-9c0f-4491fe3e791a",
   "metadata": {},
   "outputs": [],
   "source": [
    "ddf_ne = dd.read_parquet(files[-1000:])"
   ]
  },
  {
   "cell_type": "code",
   "execution_count": 133,
   "id": "ae7c116f-957e-46ca-8ec0-a53a0edfad8b",
   "metadata": {},
   "outputs": [],
   "source": [
    "ddf_ne['0.1'] = ddf_ne.iloc[:,1:11][ddf_ne.iloc[:,1:11] > 0.1].count(axis=1)\n",
    "ddf_ne['0.2'] = ddf_ne.iloc[:,1:11][ddf_ne.iloc[:,1:11] > 0.2].count(axis=1)\n",
    "ddf_ne['0.3'] = ddf_ne.iloc[:,1:11][ddf_ne.iloc[:,1:11] > 0.3].count(axis=1)\n",
    "ddf_ne['0.4'] = ddf_ne.iloc[:,1:11][ddf_ne.iloc[:,1:11] > 0.4].count(axis=1)\n",
    "ddf_ne['0.5'] = ddf_ne.iloc[:,1:11][ddf_ne.iloc[:,1:11] > 0.5].count(axis=1)\n",
    "ddf_ne['0.6'] = ddf_ne.iloc[:,1:11][ddf_ne.iloc[:,1:11] > 0.6].count(axis=1)\n",
    "ddf_ne['0.7'] = ddf_ne.iloc[:,1:11][ddf_ne.iloc[:,1:11] > 0.7].count(axis=1)\n",
    "ddf_ne['0.8'] = ddf_ne.iloc[:,1:11][ddf_ne.iloc[:,1:11] > 0.8].count(axis=1)\n",
    "ddf_ne['0.9'] = ddf_ne.iloc[:,1:11][ddf_ne.iloc[:,1:11] > 0.9].count(axis=1)"
   ]
  },
  {
   "cell_type": "code",
   "execution_count": 134,
   "id": "df660102-a79a-416b-b639-f4357438287a",
   "metadata": {},
   "outputs": [],
   "source": [
    "ddf_ne = ddf_ne.drop(list(ddf_ne.columns[1:11]), axis=1)"
   ]
  },
  {
   "cell_type": "code",
   "execution_count": 135,
   "id": "92e11930-3f5d-4787-96f6-b5ca5740817a",
   "metadata": {},
   "outputs": [],
   "source": [
    "ddf_ne_melted = ddf_ne.melt(id_vars=['NHDPlusID', 'Bin'],\n",
    "                            value_vars=['0.1', '0.2', '0.3', '0.4', '0.5',\n",
    "                                        '0.6', '0.7', '0.8', '0.9'],\n",
    "                            var_name='threshold', value_name='coverage')"
   ]
  },
  {
   "cell_type": "markdown",
   "id": "709280f6-3dd1-4f25-9fc9-66993a87ddad",
   "metadata": {
    "jp-MarkdownHeadingCollapsed": true
   },
   "source": [
    "### troubleshoot"
   ]
  },
  {
   "cell_type": "code",
   "execution_count": 93,
   "id": "996a37b6-9323-45e1-ba55-f3b6f38bc448",
   "metadata": {},
   "outputs": [],
   "source": [
    "# test = ddf_ne.get_partition(0).compute()"
   ]
  },
  {
   "cell_type": "code",
   "execution_count": 94,
   "id": "440fcdd8-7d88-4864-9aee-39ade728e29b",
   "metadata": {},
   "outputs": [],
   "source": [
    "# test = test.drop(test.columns[1:11], axis=1)"
   ]
  },
  {
   "cell_type": "code",
   "execution_count": 95,
   "id": "9875fe50-bc31-4bad-a741-eb7948836894",
   "metadata": {},
   "outputs": [],
   "source": [
    "# test.melt(id_vars=['NHDPlusID'],\n",
    "#           value_vars=['0.1', '0.2', '0.3', '0.4', '0.5', '0.6', '0.7', '0.8', '0.9'],\n",
    "#           var_name='threshold')"
   ]
  },
  {
   "cell_type": "code",
   "execution_count": 20,
   "id": "2f46aad9-1b89-40c1-8e71-405035b5c223",
   "metadata": {
    "scrolled": true
   },
   "outputs": [],
   "source": [
    "# ddf_ne_melted = ddf_ne_melted.compute().reset_index().drop(columns='index')"
   ]
  },
  {
   "cell_type": "code",
   "execution_count": 18,
   "id": "e821fb0e-6ab6-4094-9890-4f092d23e6c7",
   "metadata": {},
   "outputs": [
    {
     "data": {
      "text/plain": [
       "102895"
      ]
     },
     "execution_count": 18,
     "metadata": {},
     "output_type": "execute_result"
    }
   ],
   "source": [
    "len(ddf_ne.NHDPlusID.unique())"
   ]
  },
  {
   "cell_type": "code",
   "execution_count": 19,
   "id": "2d59a57f-b96d-4061-af8c-34f241053718",
   "metadata": {},
   "outputs": [
    {
     "data": {
      "text/plain": [
       "102895"
      ]
     },
     "execution_count": 19,
     "metadata": {},
     "output_type": "execute_result"
    }
   ],
   "source": [
    "len(ddf_ne_melted.NHDPlusID.unique())"
   ]
  },
  {
   "cell_type": "code",
   "execution_count": 15,
   "id": "458c917c-184d-4290-a43a-81802b51ee89",
   "metadata": {},
   "outputs": [],
   "source": [
    "# ne = ddf_ne_melted[ddf_ne_melted['coverage'] != 0]"
   ]
  },
  {
   "cell_type": "code",
   "execution_count": 16,
   "id": "8e4d2258-d0c4-45ce-b5fb-23b57868b377",
   "metadata": {},
   "outputs": [],
   "source": [
    "# ne = ne[ne['threshold'] == thresholds[4]].reset_index().drop(columns='index')"
   ]
  },
  {
   "cell_type": "code",
   "execution_count": 17,
   "id": "796f0a4d-0cca-48bb-95aa-2c9ecde268b8",
   "metadata": {},
   "outputs": [],
   "source": [
    "# ne.compute()"
   ]
  },
  {
   "cell_type": "code",
   "execution_count": 36,
   "id": "56ba0f5e-d4f9-414b-b55a-1ac72dbf4d36",
   "metadata": {},
   "outputs": [],
   "source": [
    "ddf_ne = ddf_ne.drop(list(ddf_ne.columns[-9:]), axis=1)"
   ]
  },
  {
   "cell_type": "code",
   "execution_count": 37,
   "id": "c1a1873c-a7d4-4f54-8744-42f3b25e8fe9",
   "metadata": {},
   "outputs": [],
   "source": [
    "temp = ddf_ne_melted.merge(right=ddf_ne, how='left', on='NHDPlusID').reset_index()"
   ]
  },
  {
   "cell_type": "code",
   "execution_count": 40,
   "id": "eaf66127-c9c2-4bd5-901c-5851a08653fd",
   "metadata": {},
   "outputs": [
    {
     "data": {
      "text/plain": [
       "0    5.000200e+12\n",
       "Name: NHDPlusID, dtype: float64"
      ]
     },
     "execution_count": 40,
     "metadata": {},
     "output_type": "execute_result"
    }
   ],
   "source": [
    "temp.compute().iloc[[0]].NHDPlusID"
   ]
  },
  {
   "cell_type": "code",
   "execution_count": 42,
   "id": "25dde0bd-57e7-4899-9474-20ab2787fd81",
   "metadata": {},
   "outputs": [],
   "source": [
    "temp = temp.compute()"
   ]
  },
  {
   "cell_type": "code",
   "execution_count": 45,
   "id": "24193265-3c8f-4064-a431-19821e98a55b",
   "metadata": {},
   "outputs": [
    {
     "data": {
      "text/plain": [
       "np.float64(5000200000005.0)"
      ]
     },
     "execution_count": 45,
     "metadata": {},
     "output_type": "execute_result"
    }
   ],
   "source": [
    "temp.iloc[0].NHDPlusID"
   ]
  },
  {
   "cell_type": "code",
   "execution_count": 56,
   "id": "8d4c5da6-173a-4706-af65-ce00b03d2c23",
   "metadata": {},
   "outputs": [
    {
     "data": {
      "text/plain": [
       "(63345, 25)"
      ]
     },
     "execution_count": 56,
     "metadata": {},
     "output_type": "execute_result"
    }
   ],
   "source": [
    "temp[(temp.threshold == '0.5')].shape"
   ]
  },
  {
   "cell_type": "code",
   "execution_count": 57,
   "id": "79177c49-3c05-4e68-acbd-de68d95ca2c7",
   "metadata": {},
   "outputs": [
    {
     "data": {
      "text/plain": [
       "(8719, 25)"
      ]
     },
     "execution_count": 57,
     "metadata": {},
     "output_type": "execute_result"
    }
   ],
   "source": [
    "temp[(temp.threshold == '0.5') & (temp.coverage != 0)].shape"
   ]
  },
  {
   "cell_type": "code",
   "execution_count": null,
   "id": "6585dd20-cfe9-4220-bd64-e401dbb03c0c",
   "metadata": {
    "scrolled": true
   },
   "outputs": [],
   "source": [
    "temp[(temp.threshold == '0.5') & (temp.coverage != 0) & ~(temp.swot_slope.isna())]"
   ]
  },
  {
   "cell_type": "code",
   "execution_count": null,
   "id": "55d0f33c-49b9-4034-8ba2-5f487e35a500",
   "metadata": {},
   "outputs": [],
   "source": [
    "zeros = temp[temp['coverage'] == 0]"
   ]
  },
  {
   "cell_type": "code",
   "execution_count": null,
   "id": "634fdbea-4020-4a04-a3d3-fae160cad52b",
   "metadata": {},
   "outputs": [],
   "source": [
    "ne = temp[temp['coverage'] != 0]"
   ]
  },
  {
   "cell_type": "code",
   "execution_count": null,
   "id": "8e92600b-8eac-41b8-8a15-499db3e6eb11",
   "metadata": {},
   "outputs": [],
   "source": [
    "ne['coverage'] = ne['coverage']*10"
   ]
  },
  {
   "cell_type": "code",
   "execution_count": null,
   "id": "a7d8af44-cf8b-41ef-9996-8d73ce65aea7",
   "metadata": {},
   "outputs": [],
   "source": [
    "ne = ne[['threshold', 'coverage', 'Bin', 'alignment']]"
   ]
  },
  {
   "cell_type": "code",
   "execution_count": null,
   "id": "559ae770-0b3d-4a95-ba5c-390bd38a95f1",
   "metadata": {},
   "outputs": [],
   "source": [
    "ne = ne[ne['threshold'] == thresholds[4]].reset_index().drop(columns='index')"
   ]
  },
  {
   "cell_type": "code",
   "execution_count": null,
   "id": "d4ce0514-cb4a-413a-828a-d8f15ce36ef6",
   "metadata": {},
   "outputs": [],
   "source": [
    "ne.columns"
   ]
  },
  {
   "cell_type": "code",
   "execution_count": null,
   "id": "86e93ffd-db22-41d0-b17d-e77263c1ddb1",
   "metadata": {},
   "outputs": [],
   "source": [
    "ne = ne.merge(ddf_ne[['NHDPlusID', bbin]], how='left', on='NHDPlusID')"
   ]
  },
  {
   "cell_type": "code",
   "execution_count": null,
   "id": "a4333a00-22d6-41d1-9b3d-1e3a3b540a58",
   "metadata": {},
   "outputs": [],
   "source": [
    "ne = ne.drop(columns='NHDPlusID')"
   ]
  },
  {
   "cell_type": "code",
   "execution_count": null,
   "id": "697e3387-a879-4310-9707-88b32c59aeb6",
   "metadata": {},
   "outputs": [],
   "source": [
    "ne.compute()"
   ]
  },
  {
   "cell_type": "code",
   "execution_count": null,
   "id": "93a017f2-bdbd-4243-9f97-ea36cf3f7cd2",
   "metadata": {},
   "outputs": [],
   "source": [
    "# test = ne.sample(frac=0.00005)"
   ]
  },
  {
   "cell_type": "code",
   "execution_count": null,
   "id": "2e820877-b782-44ad-84df-c0635bfb61d3",
   "metadata": {},
   "outputs": [],
   "source": [
    "del ddf_ne, ddf_ne_melted, temp"
   ]
  },
  {
   "cell_type": "code",
   "execution_count": null,
   "id": "f9c07e43-26ec-45a6-a5d9-9a79892a2712",
   "metadata": {},
   "outputs": [],
   "source": [
    "# testy = test.get_partition(0)"
   ]
  },
  {
   "cell_type": "code",
   "execution_count": null,
   "id": "1afa38fb-e57a-4b32-8c72-fc4000825ff4",
   "metadata": {},
   "outputs": [],
   "source": [
    "# testy = testy.compute()"
   ]
  },
  {
   "cell_type": "code",
   "execution_count": null,
   "id": "fb90f956-03ce-4c41-9e0c-883e2c8ad989",
   "metadata": {},
   "outputs": [],
   "source": [
    "# ddf_ne = ddf_ne.sample(frac=0.1)"
   ]
  },
  {
   "cell_type": "code",
   "execution_count": null,
   "id": "0b27e63b-cad5-4af4-bd17-d2d31e0faf43",
   "metadata": {},
   "outputs": [],
   "source": [
    "# ne = ddf_ne[ddf_ne['threshold'] == thresholds[8]].reset_index()#.drop(columns='index')"
   ]
  },
  {
   "cell_type": "code",
   "execution_count": null,
   "id": "f2c1ba7f-bab0-4e34-ada4-4c2dc6fa8bbe",
   "metadata": {},
   "outputs": [],
   "source": [
    "# ne = ne[['num_wse']]"
   ]
  },
  {
   "cell_type": "code",
   "execution_count": null,
   "id": "a276cf19-dfcf-46ca-8b85-b03bacbe876f",
   "metadata": {},
   "outputs": [],
   "source": [
    "# del ne"
   ]
  },
  {
   "cell_type": "code",
   "execution_count": null,
   "id": "25596e66-7107-4e23-af1c-7d6c8fd0695d",
   "metadata": {},
   "outputs": [],
   "source": [
    "# ne = ne.sample(frac=0.005)"
   ]
  },
  {
   "cell_type": "code",
   "execution_count": null,
   "id": "1877bee5-4084-4bd8-b7ef-36c3a2578518",
   "metadata": {},
   "outputs": [],
   "source": [
    "# unique_val = ddf_ne['Bin'].unique()"
   ]
  },
  {
   "cell_type": "code",
   "execution_count": null,
   "id": "3b54982c-2242-40ec-97ed-53a92624abaa",
   "metadata": {},
   "outputs": [],
   "source": [
    "# unique_val.compute()"
   ]
  },
  {
   "cell_type": "markdown",
   "id": "b77b52bd-df32-4e0e-a45c-c3b9718af630",
   "metadata": {
    "tags": []
   },
   "source": [
    "### HUC2_08, Southeast"
   ]
  },
  {
   "cell_type": "code",
   "execution_count": 123,
   "id": "8c978590-83a3-4418-bcb7-cb0a58010a54",
   "metadata": {},
   "outputs": [],
   "source": [
    "## Setup\n",
    "bwidth = 'mean'\n",
    "bbin = 'Bin'\n",
    "huc2 = '08'\n",
    "data_path = '../../narrow_rivers_PIXC_output/PIXC_v2_0_HUC2_' + \\\n",
    "            huc2 + '_2025_05_24_' + bwidth"
   ]
  },
  {
   "cell_type": "code",
   "execution_count": 124,
   "id": "556fd635-0045-4a05-a15e-5c6e59593b8e",
   "metadata": {},
   "outputs": [],
   "source": [
    "# Get list of files    \n",
    "files = []\n",
    "for file in os.listdir(data_path):\n",
    "    if not file.startswith('.'):\n",
    "        files.append(os.path.join(data_path, file))"
   ]
  },
  {
   "cell_type": "code",
   "execution_count": 125,
   "id": "0be0c8b1-b93d-4b34-98be-b65ad2b9c4b4",
   "metadata": {
    "scrolled": true,
    "tags": []
   },
   "outputs": [],
   "source": [
    "ddf_se = dd.read_parquet(files[-1000:])"
   ]
  },
  {
   "cell_type": "code",
   "execution_count": 126,
   "id": "e91eb85b-125d-42c7-b227-6e4d7cf83fc9",
   "metadata": {},
   "outputs": [],
   "source": [
    "ddf_se['0.1'] = ddf_se.iloc[:,1:11][ddf_se.iloc[:,1:11] > 0.1].count(axis=1)\n",
    "ddf_se['0.2'] = ddf_se.iloc[:,1:11][ddf_se.iloc[:,1:11] > 0.2].count(axis=1)\n",
    "ddf_se['0.3'] = ddf_se.iloc[:,1:11][ddf_se.iloc[:,1:11] > 0.3].count(axis=1)\n",
    "ddf_se['0.4'] = ddf_se.iloc[:,1:11][ddf_se.iloc[:,1:11] > 0.4].count(axis=1)\n",
    "ddf_se['0.5'] = ddf_se.iloc[:,1:11][ddf_se.iloc[:,1:11] > 0.5].count(axis=1)\n",
    "ddf_se['0.6'] = ddf_se.iloc[:,1:11][ddf_se.iloc[:,1:11] > 0.6].count(axis=1)\n",
    "ddf_se['0.7'] = ddf_se.iloc[:,1:11][ddf_se.iloc[:,1:11] > 0.7].count(axis=1)\n",
    "ddf_se['0.8'] = ddf_se.iloc[:,1:11][ddf_se.iloc[:,1:11] > 0.8].count(axis=1)\n",
    "ddf_se['0.9'] = ddf_se.iloc[:,1:11][ddf_se.iloc[:,1:11] > 0.9].count(axis=1)"
   ]
  },
  {
   "cell_type": "code",
   "execution_count": 127,
   "id": "efd5462c-f8e1-44a7-af68-c202d8ee9584",
   "metadata": {},
   "outputs": [],
   "source": [
    "ddf_se = ddf_se.drop(list(ddf_se.columns[1:11]), axis=1)"
   ]
  },
  {
   "cell_type": "code",
   "execution_count": 128,
   "id": "f833356c-2080-4e18-847b-45b7622c17b7",
   "metadata": {},
   "outputs": [],
   "source": [
    "ddf_se_melted = ddf_se.melt(id_vars=['NHDPlusID', 'Bin'],\n",
    "                            value_vars=['0.1', '0.2', '0.3', '0.4', '0.5',\n",
    "                                        '0.6', '0.7', '0.8', '0.9'],\n",
    "                            var_name='threshold', value_name='coverage')"
   ]
  },
  {
   "cell_type": "code",
   "execution_count": 129,
   "id": "a53d9a73-46f5-41d9-ba35-8f40968115ad",
   "metadata": {},
   "outputs": [],
   "source": [
    "# ddf_se_melted = ddf_se_melted.compute().reset_index().drop(columns='index')"
   ]
  },
  {
   "cell_type": "markdown",
   "id": "98e3f765-05c4-4c8b-be32-39197b686177",
   "metadata": {
    "tags": []
   },
   "source": [
    "### HUC2_15, Southwest"
   ]
  },
  {
   "cell_type": "code",
   "execution_count": 136,
   "id": "1a5e32ba-a4f9-4825-85b3-b71037b5bcaf",
   "metadata": {},
   "outputs": [],
   "source": [
    "## Setup\n",
    "bwidth = 'mean'\n",
    "bbin = 'Bin'\n",
    "huc2 = '15'\n",
    "data_path = '../../narrow_rivers_PIXC_output/PIXC_v2_0_HUC2_' + \\\n",
    "            huc2 + '_2025_05_24_' + bwidth"
   ]
  },
  {
   "cell_type": "code",
   "execution_count": 137,
   "id": "81beeb17-7447-41ff-948b-150ac5bea375",
   "metadata": {},
   "outputs": [],
   "source": [
    "# Get list of files    \n",
    "files = []\n",
    "for file in os.listdir(data_path):\n",
    "    if not file.startswith('.'):\n",
    "        files.append(os.path.join(data_path, file))"
   ]
  },
  {
   "cell_type": "code",
   "execution_count": 138,
   "id": "cbc6816a-09fa-4c7f-b567-b401ba9cab50",
   "metadata": {
    "scrolled": true,
    "tags": []
   },
   "outputs": [],
   "source": [
    "ddf_sw = dd.read_parquet(files[-1000:])"
   ]
  },
  {
   "cell_type": "code",
   "execution_count": 139,
   "id": "13a47a15-4342-4a9d-aeca-289ad5d039ec",
   "metadata": {},
   "outputs": [],
   "source": [
    "ddf_sw['0.1'] = ddf_sw.iloc[:,1:11][ddf_sw.iloc[:,1:11] > 0.1].count(axis=1)\n",
    "ddf_sw['0.2'] = ddf_sw.iloc[:,1:11][ddf_sw.iloc[:,1:11] > 0.2].count(axis=1)\n",
    "ddf_sw['0.3'] = ddf_sw.iloc[:,1:11][ddf_sw.iloc[:,1:11] > 0.3].count(axis=1)\n",
    "ddf_sw['0.4'] = ddf_sw.iloc[:,1:11][ddf_sw.iloc[:,1:11] > 0.4].count(axis=1)\n",
    "ddf_sw['0.5'] = ddf_sw.iloc[:,1:11][ddf_sw.iloc[:,1:11] > 0.5].count(axis=1)\n",
    "ddf_sw['0.6'] = ddf_sw.iloc[:,1:11][ddf_sw.iloc[:,1:11] > 0.6].count(axis=1)\n",
    "ddf_sw['0.7'] = ddf_sw.iloc[:,1:11][ddf_sw.iloc[:,1:11] > 0.7].count(axis=1)\n",
    "ddf_sw['0.8'] = ddf_sw.iloc[:,1:11][ddf_sw.iloc[:,1:11] > 0.8].count(axis=1)\n",
    "ddf_sw['0.9'] = ddf_sw.iloc[:,1:11][ddf_sw.iloc[:,1:11] > 0.9].count(axis=1)"
   ]
  },
  {
   "cell_type": "code",
   "execution_count": 140,
   "id": "1f109d2b-acf3-4f74-90c4-9dd1903b215b",
   "metadata": {},
   "outputs": [],
   "source": [
    "ddf_sw = ddf_sw.drop(list(ddf_sw.columns[1:11]), axis=1)"
   ]
  },
  {
   "cell_type": "code",
   "execution_count": 141,
   "id": "6f09c701-a30d-4546-9cf2-27ab986694a9",
   "metadata": {},
   "outputs": [],
   "source": [
    "ddf_sw_melted = ddf_sw.melt(id_vars=['NHDPlusID', 'Bin'],\n",
    "                            value_vars=['0.1', '0.2', '0.3', '0.4', '0.5',\n",
    "                                        '0.6', '0.7', '0.8', '0.9'],\n",
    "                            var_name='threshold', value_name='coverage')"
   ]
  },
  {
   "cell_type": "code",
   "execution_count": 50,
   "id": "9d389383-2ebd-4a22-a837-93c356f56334",
   "metadata": {},
   "outputs": [],
   "source": [
    "# ddf_sw_melted = ddf_sw_melted.compute().reset_index().drop(columns='index')"
   ]
  },
  {
   "cell_type": "markdown",
   "id": "8b66f158-cc5a-4354-914a-7c7b9dec68c2",
   "metadata": {
    "tags": []
   },
   "source": [
    "### HUC2_17, Northwest"
   ]
  },
  {
   "cell_type": "code",
   "execution_count": 142,
   "id": "2be08f00-cf7b-4ecb-be6f-3c9c9139fa14",
   "metadata": {},
   "outputs": [],
   "source": [
    "## Setup\n",
    "bwidth = 'mean'\n",
    "bbin = 'Bin'\n",
    "huc2 = '17'\n",
    "data_path = '../../narrow_rivers_PIXC_output/PIXC_v2_0_HUC2_' + \\\n",
    "            huc2 + '_2025_05_24_' + bwidth"
   ]
  },
  {
   "cell_type": "code",
   "execution_count": 143,
   "id": "e63a66a7-6f55-401a-a9f5-c40e39726563",
   "metadata": {},
   "outputs": [],
   "source": [
    "# Get list of files    \n",
    "files = []\n",
    "for file in os.listdir(data_path):\n",
    "    if not file.startswith('.'):\n",
    "        files.append(os.path.join(data_path, file))"
   ]
  },
  {
   "cell_type": "code",
   "execution_count": 145,
   "id": "12e60597-a335-4711-8509-6fed2baa6df8",
   "metadata": {
    "scrolled": true,
    "tags": []
   },
   "outputs": [],
   "source": [
    "ddf_nw = dd.read_parquet(files[-1000:])"
   ]
  },
  {
   "cell_type": "code",
   "execution_count": 146,
   "id": "7379917d-bf4a-4bac-a0ed-a4bb442b895c",
   "metadata": {},
   "outputs": [],
   "source": [
    "ddf_nw['0.1'] = ddf_nw.iloc[:,1:11][ddf_nw.iloc[:,1:11] > 0.1].count(axis=1)\n",
    "ddf_nw['0.2'] = ddf_nw.iloc[:,1:11][ddf_nw.iloc[:,1:11] > 0.2].count(axis=1)\n",
    "ddf_nw['0.3'] = ddf_nw.iloc[:,1:11][ddf_nw.iloc[:,1:11] > 0.3].count(axis=1)\n",
    "ddf_nw['0.4'] = ddf_nw.iloc[:,1:11][ddf_nw.iloc[:,1:11] > 0.4].count(axis=1)\n",
    "ddf_nw['0.5'] = ddf_nw.iloc[:,1:11][ddf_nw.iloc[:,1:11] > 0.5].count(axis=1)\n",
    "ddf_nw['0.6'] = ddf_nw.iloc[:,1:11][ddf_nw.iloc[:,1:11] > 0.6].count(axis=1)\n",
    "ddf_nw['0.7'] = ddf_nw.iloc[:,1:11][ddf_nw.iloc[:,1:11] > 0.7].count(axis=1)\n",
    "ddf_nw['0.8'] = ddf_nw.iloc[:,1:11][ddf_nw.iloc[:,1:11] > 0.8].count(axis=1)\n",
    "ddf_nw['0.9'] = ddf_nw.iloc[:,1:11][ddf_nw.iloc[:,1:11] > 0.9].count(axis=1)"
   ]
  },
  {
   "cell_type": "code",
   "execution_count": 147,
   "id": "0d6ed24f-b0d7-41e0-8384-eb803a316077",
   "metadata": {},
   "outputs": [],
   "source": [
    "ddf_nw = ddf_nw.drop(list(ddf_nw.columns[1:11]), axis=1)"
   ]
  },
  {
   "cell_type": "code",
   "execution_count": 148,
   "id": "cdb21b72-8575-4279-94fa-5c9488d38d60",
   "metadata": {},
   "outputs": [],
   "source": [
    "ddf_nw_melted = ddf_nw.melt(id_vars=['NHDPlusID', 'Bin'],\n",
    "                            value_vars=['0.1', '0.2', '0.3', '0.4', '0.5',\n",
    "                                        '0.6', '0.7', '0.8', '0.9'],\n",
    "                            var_name='threshold', value_name='coverage')"
   ]
  },
  {
   "cell_type": "code",
   "execution_count": 149,
   "id": "43cd31c1-b151-49b6-adf7-045a66b4df3e",
   "metadata": {},
   "outputs": [],
   "source": [
    "# ddf_nw_melted = ddf_nw_melted.compute().reset_index().drop(columns='index')"
   ]
  },
  {
   "cell_type": "markdown",
   "id": "c675989a-45b5-4ae5-ba16-68ee6ef994f7",
   "metadata": {
    "tags": []
   },
   "source": [
    "### Four"
   ]
  },
  {
   "cell_type": "code",
   "execution_count": null,
   "id": "0a40f917-f987-42fa-a6ec-3d9402464559",
   "metadata": {
    "scrolled": true
   },
   "outputs": [],
   "source": [
    "# for i in range(len(thresholds)):\n",
    "i = 7\n",
    "\n",
    "# Get ne reaches at threshold\n",
    "ne = ddf_ne_melted[ddf_ne_melted['threshold'] == thresholds[i]].reset_index()#.drop(columns='index')\n",
    "# ne = ne.sample(frac=0.05)\n",
    "ne = ne.compute()\n",
    "\n",
    "zeros = ne[ne.coverage == 0].count()\n",
    "reaches = ne.shape[0]\n",
    "ne_zeros = round(((zeros['coverage']/reaches)*100), 1)\n",
    "\n",
    "ne = ne[ne.coverage != 0]\n",
    "if ne.shape[0] > 100000:\n",
    "    ne = ne.sample(100000)\n",
    "ne['huc2'] = '01'\n",
    "\n",
    "# Get se reaches at threshold\n",
    "se = ddf_se_melted[ddf_se_melted['threshold'] == thresholds[i]].reset_index().drop(columns='index')\n",
    "# se = se.sample(frac=0.05)\n",
    "se = se.compute()\n",
    "\n",
    "zeros = se[se.coverage == 0].count()\n",
    "reaches = se.shape[0]\n",
    "se_zeros = round(((zeros['coverage']/reaches)*100), 1)\n",
    "\n",
    "se = se[se.coverage != 0]\n",
    "if se.shape[0] > 100000:\n",
    "    se = se.sample(100000)\n",
    "se['huc2'] = '08'\n",
    "\n",
    "# Get sw reaches\n",
    "sw = ddf_sw_melted[ddf_sw_melted['threshold'] == thresholds[i]].reset_index().drop(columns='index')\n",
    "# sw = sw.sample(frac=0.05)\n",
    "sw = sw.compute()\n",
    "\n",
    "zeros = sw[sw.coverage == 0].count()\n",
    "reaches = sw.shape[0]\n",
    "sw_zeros = round(((zeros['coverage']/reaches)*100), 1)\n",
    "\n",
    "sw = sw[sw.coverage != 0]\n",
    "if sw.shape[0] > 100000:\n",
    "    sw = sw.sample(100000)\n",
    "sw['huc2'] = '15'\n",
    "\n",
    "# Get nw reaches\n",
    "nw = ddf_nw_melted[ddf_nw_melted['threshold'] == thresholds[i]].reset_index().drop(columns='index')\n",
    "# nw = nw.sample(frac=0.05)\n",
    "nw = nw.compute()\n",
    "\n",
    "zeros = nw[nw.coverage == 0].count()\n",
    "reaches = nw.shape[0]\n",
    "nw_zeros = round(((zeros['coverage']/reaches)*100), 1)\n",
    "\n",
    "nw = nw[nw.coverage != 0]\n",
    "if nw.shape[0] > 100000:\n",
    "    nw = nw.sample(100000)\n",
    "nw['huc2'] = '17'\n",
    "\n",
    "#     # Get combined reaches at 10% threshold\n",
    "#     both = pd.concat(objs=[ne, sw], axis=0).reset_index()\n",
    "\n",
    "#     combo = both.copy()\n",
    "#     combo['huc2'] = 'combined'\n",
    "\n",
    "combined = pd.concat(objs=[ne, se, sw, nw], axis=0).reset_index().drop(columns='index')\n",
    "\n",
    "del ne, se, sw, nw\n",
    "\n",
    "percent = str(int(float(thresholds[i])*100))\n",
    "\n",
    "fig, ax = plt.subplots(figsize=(12,6))\n",
    "sns.boxplot(data=combined, x='Bin', y='coverage',\n",
    "            order=order,\n",
    "            hue='huc2', palette=palette_four,\n",
    "            legend=True,\n",
    "            saturation=1, showmeans=True,\n",
    "            fliersize=2, linewidth=2,\n",
    "            boxprops=dict(alpha=0.8),\n",
    "            meanprops={'marker':'o',\n",
    "                       'markerfacecolor':'k',\n",
    "                       'markeredgecolor':'k',\n",
    "                       'markersize':'8'})\n",
    "\n",
    "plt.title('Reaches by proportion of nodes that meet or exceed ' + percent +\n",
    "          '% coverage, excluding reaches with 0% coverage\\nHUC2_01: ' + str(ne_zeros) +\n",
    "          '% of reaches have 0% coverage in all nodes\\nHUC2_15: ' +\n",
    "          str(sw_zeros) + '% of reaches have 0% coverage in all nodes')\n",
    "\n",
    "plt.legend(title='HUC2', loc='upper right',\n",
    "           title_fontproperties={'weight': 'bold'})\n",
    "\n",
    "plt.xlabel('Width Bin [m]')\n",
    "plt.ylabel('Number of nodes that exceed ' + percent + '% coverage')\n",
    "plt.xticks(rotation=-45)\n",
    "\n",
    "# plt.savefig(save_path + 'threshold_just_hucs_mean_' + percent + '.png')"
   ]
  },
  {
   "cell_type": "markdown",
   "id": "5e54ce33-ad51-48cf-8ce2-3b19923d779d",
   "metadata": {
    "tags": []
   },
   "source": [
    "### Combined"
   ]
  },
  {
   "cell_type": "code",
   "execution_count": null,
   "id": "cb69d5b9-1f77-40ef-a3f9-8e7707d1efa3",
   "metadata": {
    "tags": []
   },
   "outputs": [],
   "source": [
    "for i in range(len(thresholds)):\n",
    "    \n",
    "    ne = ddf_ne_melted[ddf_ne_melted['threshold'] == thresholds[i]]\n",
    "    ne = ne.compute().reset_index().drop(columns='index')\n",
    "\n",
    "    zeros = ne[ne.coverage == 0].count()\n",
    "    reaches = ne.shape[0]\n",
    "    ne_zeros = round(((zeros['coverage']/reaches)*100), 1)\n",
    "    \n",
    "    ne = ne[ne.coverage != 0]\n",
    "    if ne.shape[0] > 100000:\n",
    "        ne = ne.sample(100000)\n",
    "    \n",
    "    sw = ddf_sw_melted[ddf_sw_melted['threshold'] == thresholds[i]]\n",
    "    sw = sw.compute().reset_index().drop(columns='index')\n",
    "\n",
    "    zeros = sw[sw.coverage == 0].count()\n",
    "    reaches = sw.shape[0]\n",
    "    sw_zeros = round(((zeros['coverage']/reaches)*100), 1)\n",
    "\n",
    "    sw = sw[sw.coverage != 0]\n",
    "    if sw.shape[0] > 100000:\n",
    "        sw = sw.sample(100000)\n",
    "\n",
    "    # Get combined reaches at 10% threshold\n",
    "    combined = pd.concat(objs=[ne, sw], axis=0).reset_index()\n",
    "\n",
    "    del ne, sw\n",
    "\n",
    "    percent = str(int(thresholds[i]*100))\n",
    "\n",
    "    fig, ax = plt.subplots(figsize=(10,6))\n",
    "    sns.boxplot(data=combined, x='Bin', y='coverage',\n",
    "                order=order,\n",
    "                color=color[2],\n",
    "                saturation=1, showmeans=True,\n",
    "                fliersize=2, linewidth=2,\n",
    "                boxprops=dict(alpha=0.8),\n",
    "                meanprops={'marker':'o',\n",
    "                           'markerfacecolor':'k',\n",
    "                           'markeredgecolor':'k',\n",
    "                           'markersize':'8'})\n",
    "\n",
    "    plt.title('Reaches by proportion of nodes that meet or exceed ' + percent +\n",
    "              '% coverage, excluding reaches with 0% coverage\\nHUC2_01: ' + str(ne_zeros) +\n",
    "              '% of reaches have 0% coverage in all nodes\\nHUC2_15: ' +\n",
    "              str(sw_zeros) + '% of reaches have 0% coverage in all nodes')\n",
    "\n",
    "    patch = mpatches.Patch(color=color[2], label='combined')\n",
    "    plt.legend(handles=[patch], title='HUC2', loc='upper right',\n",
    "               title_fontproperties={'weight': 'bold'})\n",
    "\n",
    "    plt.xticks(rotation=-45)\n",
    "\n",
    "    plt.xlabel('Width Bin [m]')\n",
    "    plt.ylabel('Proportion of nodes that exceed ' + percent + '% coverage')\n",
    "\n",
    "    plt.savefig(save_path + 'threshold_combined_mean_' + percent + '.png')"
   ]
  },
  {
   "cell_type": "markdown",
   "id": "13868d9f-42e0-4a88-a5f8-c332eed8d900",
   "metadata": {
    "tags": []
   },
   "source": [
    "### All three"
   ]
  },
  {
   "cell_type": "code",
   "execution_count": null,
   "id": "b0f1e88d-4267-4c6e-8bc7-2aeaf85736c9",
   "metadata": {},
   "outputs": [],
   "source": [
    "for i in range(len(thresholds)):\n",
    "\n",
    "    # Get ne reaches at threshold\n",
    "    ne = ddf_ne_melted[ddf_ne_melted['threshold'] == thresholds[i]]\n",
    "    ne = ne.compute().reset_index().drop(columns=['NHDPlusID', 'index'])\n",
    "\n",
    "    zeros = ne[ne.coverage == 0].count()\n",
    "    reaches = ne.shape[0]\n",
    "    ne_zeros = round(((zeros['coverage']/reaches)*100), 1)\n",
    "\n",
    "    ne = ne[ne.coverage != 0]\n",
    "    if ne.shape[0] > 100000:\n",
    "        ne = ne.sample(100000)\n",
    "    ne['huc2'] = '01'\n",
    "\n",
    "    # Get sw reaches\n",
    "    sw = ddf_sw_melted[ddf_sw_melted['threshold'] == thresholds[i]]\n",
    "    sw = sw.compute().reset_index().drop(columns=['NHDPlusID', 'index'])\n",
    "\n",
    "    zeros = sw[sw.coverage == 0].count()\n",
    "    reaches = sw.shape[0]\n",
    "    sw_zeros = round(((zeros['coverage']/reaches)*100), 1)\n",
    "\n",
    "    sw = sw[sw.coverage != 0]\n",
    "    if sw.shape[0] > 100000:\n",
    "        sw = sw.sample(100000)\n",
    "    sw['huc2'] = '15'\n",
    "\n",
    "    # Get combined reaches at 10% threshold\n",
    "    both = pd.concat(objs=[ne, sw], axis=0).reset_index()\n",
    "\n",
    "    combo = both.copy()\n",
    "    combo['huc2'] = 'combined'\n",
    "\n",
    "    combined = pd.concat(objs=[ne, sw, combo], axis=0).reset_index().drop(columns=['index'])\n",
    "\n",
    "    del ne, sw, combo\n",
    "\n",
    "    percent = str(int(thresholds[i]*100))\n",
    "\n",
    "    fig, ax = plt.subplots(figsize=(12,6))\n",
    "    sns.boxplot(data=combined, x='Bin', y='coverage',\n",
    "                order=order,\n",
    "                hue='huc2', palette=palette,\n",
    "                legend=True,\n",
    "                saturation=1, showmeans=True,\n",
    "                fliersize=2, linewidth=2,\n",
    "                boxprops=dict(alpha=0.8),\n",
    "                meanprops={'marker':'o',\n",
    "                           'markerfacecolor':'k',\n",
    "                           'markeredgecolor':'k',\n",
    "                           'markersize':'8'})\n",
    "\n",
    "    plt.title('Reaches with at least ' + percent +\n",
    "              '% coverage in each node, excluding reaches with 0% coverage\\nHUC2_01: ' + str(ne_zeros) +\n",
    "              '% of reaches have 0% coverage in all nodes\\nHUC2_15: ' +\n",
    "              str(sw_zeros) + '% of reaches have 0% coverage in all nodes')\n",
    "\n",
    "    plt.legend(title='HUC2', loc='upper right',\n",
    "               title_fontproperties={'weight': 'bold'})\n",
    "\n",
    "    plt.xlabel('Width Bin [m]')\n",
    "    plt.ylabel('Reaches with at least ' + percent + '% coverage')\n",
    "    plt.xticks(rotation=-45)\n",
    "\n",
    "    plt.savefig(save_path + 'threshold_all_three_mean_' + percent + '.png')"
   ]
  },
  {
   "cell_type": "markdown",
   "id": "cd654467-3703-43b0-92e0-e1e8386d54e4",
   "metadata": {
    "tags": []
   },
   "source": [
    "### Combined old"
   ]
  },
  {
   "cell_type": "code",
   "execution_count": null,
   "id": "1106320c-5946-4431-963a-f467affa10f6",
   "metadata": {},
   "outputs": [],
   "source": [
    "for i in range(len(thresholds)):\n",
    "    # Make combined dataframe\n",
    "    ddf_combo = dd.concat(dfs=[ddf_ne_melted, ddf_sw_melted], axis=0)\n",
    "\n",
    "    # Get combined reaches at 10% threshold\n",
    "    ddf_combo = ddf_combo[(ddf_combo['threshold'] == thresholds[i])]\n",
    "    combo = ddf_combo.compute().drop(columns=['NHDPlusID']).reset_index()\n",
    "    combo = combo.drop(columns=['index', 'threshold'])\n",
    "    combo['coverage'] = combo['coverage']*100\n",
    "    # combo['huc2'] = '01, 15'\n",
    "\n",
    "    percent = str(int(thresholds[i]*100))\n",
    "\n",
    "    fig, ax = plt.subplots(figsize=(10,6))\n",
    "    sns.boxplot(x='Bin', y='coverage',\n",
    "                data=combo,\n",
    "                order=order,\n",
    "                color=color[2],\n",
    "                saturation=1, showmeans=True,\n",
    "                fliersize=2, linewidth=2,\n",
    "                boxprops=dict(alpha=0.8),\n",
    "                meanprops={'marker':'o',\n",
    "                           'markerfacecolor':'k',\n",
    "                           'markeredgecolor':'k',\n",
    "                           'markersize':'8'})\n",
    "\n",
    "    plt.title('Reaches with at least ' + percent +'% coverage in each node, HUC2_01 and HUC2_15')\n",
    "    plt.xticks(rotation=-45)\n",
    "\n",
    "    plt.xlabel('Width Bin [m]')\n",
    "    plt.ylabel('Detected [%]')\n",
    "\n",
    "    plt.savefig('./figures_for_2025_03_06/threshold_combined_mean_' + percent + '.png')"
   ]
  },
  {
   "cell_type": "markdown",
   "id": "dd34e97b-9531-4783-991f-9de5147f74f6",
   "metadata": {
    "tags": []
   },
   "source": [
    "### Side-by-side old"
   ]
  },
  {
   "cell_type": "code",
   "execution_count": null,
   "id": "eebe9079-6473-4f0a-aa97-5e358f2fd1e2",
   "metadata": {},
   "outputs": [],
   "source": [
    "for i in range(len(thresholds)):\n",
    "\n",
    "    # Get ne reaches at 10% threshold\n",
    "    ddf_ne_thresh = ddf_ne[(ddf_ne['threshold'] == thresholds[i])]\n",
    "    ne = ddf_ne_thresh.compute().drop(columns=['NHDPlusID']).reset_index()\n",
    "    ne = ne.drop(columns=['index', 'threshold'])\n",
    "    ne['coverage'] = ne['coverage']*100\n",
    "    ne['huc2'] = '01'\n",
    "\n",
    "    # Get sw reaches at 10% threshold\n",
    "    ddf_sw_melted_thresh = ddf_sw_melted[(ddf_sw_melted['threshold'] == thresholds[i])]\n",
    "    sw = ddf_sw_melted_thresh.compute().drop(columns=['NHDPlusID']).reset_index()\n",
    "    sw = sw.drop(columns=['index', 'threshold'])\n",
    "    sw['coverage'] = sw['coverage']*100\n",
    "    sw['huc2'] = '15'\n",
    "\n",
    "    combo = pd.concat(objs=[ne, sw], axis=0).reset_index()\n",
    "\n",
    "    del ne, sw\n",
    "\n",
    "    percent = str(int(thresholds[i]*100))\n",
    "\n",
    "    fig, ax = plt.subplots(figsize=(10,6))\n",
    "    sns.boxplot(x='Bin', y='coverage', hue='huc2',\n",
    "                data=combo, order=order,\n",
    "                palette=palette_two,\n",
    "                legend=True,\n",
    "                saturation=1, showmeans=True,\n",
    "                fliersize=2, linewidth=2,\n",
    "                boxprops=dict(alpha=0.8),\n",
    "                meanprops={'marker':'o',\n",
    "                           'markerfacecolor':'k',\n",
    "                           'markeredgecolor':'k',\n",
    "                           'markersize':'8'})\n",
    "\n",
    "    plt.legend(title='HUC2', loc='upper right')\n",
    "\n",
    "    plt.title('Reaches with at least ' + percent +'% coverage in each node, HUC2_01 and HUC2_15')\n",
    "    plt.xlabel('Width Bin [m]')\n",
    "    plt.ylabel('Detected [%]')\n",
    "    plt.xticks(rotation=-45)\n",
    "\n",
    "    plt.savefig('./figures_for_2025_03_06/threshold_huc2_01_and_huc_15_mean_' + percent + '.png')"
   ]
  },
  {
   "cell_type": "code",
   "execution_count": null,
   "id": "4f6c69b5-418a-4e27-a3de-21cd4e1e8a35",
   "metadata": {},
   "outputs": [],
   "source": [
    "del combo"
   ]
  }
 ],
 "metadata": {
  "kernelspec": {
   "display_name": "Python [conda env:.conda-narrowPIXC]",
   "language": "python",
   "name": "conda-env-.conda-narrowPIXC-py"
  },
  "language_info": {
   "codemirror_mode": {
    "name": "ipython",
    "version": 3
   },
   "file_extension": ".py",
   "mimetype": "text/x-python",
   "name": "python",
   "nbconvert_exporter": "python",
   "pygments_lexer": "ipython3",
   "version": "3.12.4"
  }
 },
 "nbformat": 4,
 "nbformat_minor": 5
}
