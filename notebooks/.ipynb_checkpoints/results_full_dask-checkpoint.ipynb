{
 "cells": [
  {
   "cell_type": "code",
   "execution_count": 1,
   "id": "3a969e19-56af-4005-9bcb-a3607fb7e5e7",
   "metadata": {},
   "outputs": [],
   "source": [
    "import os\n",
    "import time\n",
    "\n",
    "import dask.dataframe as dd\n",
    "import matplotlib.colors as colors\n",
    "import matplotlib.patches as mpatches\n",
    "import matplotlib.pyplot as plt\n",
    "import numpy as np\n",
    "import pandas as pd\n",
    "import seaborn as sns"
   ]
  },
  {
   "cell_type": "code",
   "execution_count": 2,
   "id": "59afabc7-293a-4472-8d06-2f372ea17dc4",
   "metadata": {},
   "outputs": [],
   "source": [
    "def truncate_colormap(cmap, minval=0.0, maxval=1.0, n=100):\n",
    "    new_cmap = colors.LinearSegmentedColormap.from_list(\n",
    "        'trunc({n},{a:.2f},{b:.2f})'.format(n=cmap.name, a=minval, b=maxval),\n",
    "        cmap(np.linspace(minval, maxval, n)))\n",
    "    return new_cmap"
   ]
  },
  {
   "cell_type": "code",
   "execution_count": 3,
   "id": "cb5e0840-6d62-45d9-865a-27ddbdfe602b",
   "metadata": {},
   "outputs": [],
   "source": [
    "cmap = plt.get_cmap('cubehelix', 5)\n",
    "new_cmap = truncate_colormap(cmap, 0.2, 0.75)"
   ]
  },
  {
   "cell_type": "code",
   "execution_count": 4,
   "id": "db1b8be2-fd20-4a66-83a1-4bb6ed98f4dc",
   "metadata": {},
   "outputs": [],
   "source": [
    "color = []\n",
    "\n",
    "for i in np.linspace(0, 1, 3):\n",
    "    color.append(colors.rgb2hex(new_cmap(i)))"
   ]
  },
  {
   "cell_type": "code",
   "execution_count": 5,
   "id": "ca505ea2-1e5d-4587-a1a5-6a1f17221076",
   "metadata": {},
   "outputs": [],
   "source": [
    "palette = sns.color_palette(color)\n",
    "palette_two = sns.color_palette(color[:-1])"
   ]
  },
  {
   "cell_type": "code",
   "execution_count": 6,
   "id": "3761e791-90d9-4c87-bace-f10edad737d3",
   "metadata": {},
   "outputs": [],
   "source": [
    "# Order of all possible bins for plotting\n",
    "order = ['(0, 10]', '(10, 20]', '(20, 30]', '(30, 40]', '(40, 50]',\n",
    "         '(50, 60]', '(60, 70]', '(70, 80]', '(80, 90]', '(90, 100]',\n",
    "         '(100, 150]', '(150, 200]', '(200, 500]']"
   ]
  },
  {
   "cell_type": "code",
   "execution_count": 7,
   "id": "b89c63f1-8bc9-44fd-96ec-8a2660296e9a",
   "metadata": {},
   "outputs": [],
   "source": [
    "# save_path = '/nas/cee-water/cjgleason/fiona/narrow_rivers_PIXC/figures_for_2025_05_27/'"
   ]
  },
  {
   "cell_type": "markdown",
   "id": "6790c17c-db46-46b7-b2c0-9a45f5e86df5",
   "metadata": {
    "tags": []
   },
   "source": [
    "## Threshold"
   ]
  },
  {
   "cell_type": "code",
   "execution_count": 8,
   "id": "bfdb0405-cb86-4ebd-a7b0-bd3ca75d9e42",
   "metadata": {
    "tags": []
   },
   "outputs": [],
   "source": [
    "# Thresholds\n",
    "thresholds = [0.1, 0.2, 0.3, 0.4, 0.5, 0.6, 0.7, 0.8, 0.9]"
   ]
  },
  {
   "cell_type": "markdown",
   "id": "e6e572fe-811c-4326-9e7d-a373f443a55a",
   "metadata": {
    "tags": []
   },
   "source": [
    "### HUC2_01, Northeast"
   ]
  },
  {
   "cell_type": "code",
   "execution_count": 10,
   "id": "1dd97655-9e5c-4a41-8fce-6a437a30ca41",
   "metadata": {},
   "outputs": [],
   "source": [
    "## Setup\n",
    "bwidth = 'mean'\n",
    "bbin = 'Bin'\n",
    "huc2 = '01'\n",
    "data_path = '../../narrow_rivers_PIXC_output/PIXC_v2_0_HUC2_' + \\\n",
    "            huc2 + '_2025_05_24_' + bwidth"
   ]
  },
  {
   "cell_type": "code",
   "execution_count": 11,
   "id": "7f6b9e36-ce00-464a-8485-8f36346d8914",
   "metadata": {},
   "outputs": [],
   "source": [
    "# Get list of files    \n",
    "files = []\n",
    "for file in os.listdir(data_path):\n",
    "    if not file.startswith('.'):\n",
    "        files.append(os.path.join(data_path, file))"
   ]
  },
  {
   "cell_type": "code",
   "execution_count": 12,
   "id": "04ce7a4d-db31-4c94-9c0f-4491fe3e791a",
   "metadata": {},
   "outputs": [],
   "source": [
    "ddf_ne = dd.read_parquet(files)"
   ]
  },
  {
   "cell_type": "code",
   "execution_count": 13,
   "id": "ae7c116f-957e-46ca-8ec0-a53a0edfad8b",
   "metadata": {},
   "outputs": [],
   "source": [
    "ddf_ne['0.1'] = ddf_ne.iloc[:,1:11][ddf_ne.iloc[:,1:11] > 0.1].count(axis=1)\n",
    "ddf_ne['0.2'] = ddf_ne.iloc[:,1:11][ddf_ne.iloc[:,1:11] > 0.2].count(axis=1)\n",
    "ddf_ne['0.3'] = ddf_ne.iloc[:,1:11][ddf_ne.iloc[:,1:11] > 0.3].count(axis=1)\n",
    "ddf_ne['0.4'] = ddf_ne.iloc[:,1:11][ddf_ne.iloc[:,1:11] > 0.4].count(axis=1)\n",
    "ddf_ne['0.5'] = ddf_ne.iloc[:,1:11][ddf_ne.iloc[:,1:11] > 0.5].count(axis=1)\n",
    "ddf_ne['0.6'] = ddf_ne.iloc[:,1:11][ddf_ne.iloc[:,1:11] > 0.6].count(axis=1)\n",
    "ddf_ne['0.7'] = ddf_ne.iloc[:,1:11][ddf_ne.iloc[:,1:11] > 0.7].count(axis=1)\n",
    "ddf_ne['0.8'] = ddf_ne.iloc[:,1:11][ddf_ne.iloc[:,1:11] > 0.8].count(axis=1)\n",
    "ddf_ne['0.9'] = ddf_ne.iloc[:,1:11][ddf_ne.iloc[:,1:11] > 0.9].count(axis=1)"
   ]
  },
  {
   "cell_type": "code",
   "execution_count": null,
   "id": "996a37b6-9323-45e1-ba55-f3b6f38bc448",
   "metadata": {},
   "outputs": [],
   "source": [
    "# test = ddf_ne.get_partition(0).compute()"
   ]
  },
  {
   "cell_type": "code",
   "execution_count": null,
   "id": "440fcdd8-7d88-4864-9aee-39ade728e29b",
   "metadata": {},
   "outputs": [],
   "source": [
    "# test = test.drop(test.columns[1:11], axis=1)"
   ]
  },
  {
   "cell_type": "code",
   "execution_count": null,
   "id": "9875fe50-bc31-4bad-a741-eb7948836894",
   "metadata": {},
   "outputs": [],
   "source": [
    "# test.melt(id_vars=['NHDPlusID'],\n",
    "#           value_vars=['0.1', '0.2', '0.3', '0.4', '0.5', '0.6', '0.7', '0.8', '0.9'],\n",
    "#           var_name='threshold')"
   ]
  },
  {
   "cell_type": "code",
   "execution_count": 14,
   "id": "df660102-a79a-416b-b639-f4357438287a",
   "metadata": {},
   "outputs": [],
   "source": [
    "ddf_ne = ddf_ne.drop(list(ddf_ne.columns[1:11]), axis=1)"
   ]
  },
  {
   "cell_type": "code",
   "execution_count": 15,
   "id": "92e11930-3f5d-4787-96f6-b5ca5740817a",
   "metadata": {},
   "outputs": [],
   "source": [
    "ddf_ne_melted = ddf_ne.melt(id_vars=['NHDPlusID'],\n",
    "                            value_vars=['0.1', '0.2', '0.3', '0.4', '0.5',\n",
    "                                        '0.6', '0.7', '0.8', '0.9'],\n",
    "                            var_name='threshold')"
   ]
  },
  {
   "cell_type": "code",
   "execution_count": 16,
   "id": "56ba0f5e-d4f9-414b-b55a-1ac72dbf4d36",
   "metadata": {},
   "outputs": [],
   "source": [
    "ddf_ne = ddf_ne.drop(list(ddf_ne.columns[-9:]), axis=1)"
   ]
  },
  {
   "cell_type": "code",
   "execution_count": 17,
   "id": "c1a1873c-a7d4-4f54-8744-42f3b25e8fe9",
   "metadata": {},
   "outputs": [],
   "source": [
    "test = ddf_ne_melted.merge(right=ddf_ne, how='left', on='NHDPlusID')"
   ]
  },
  {
   "cell_type": "code",
   "execution_count": null,
   "id": "e363c2a8-3cce-46a3-ba41-f9a4cea03b79",
   "metadata": {},
   "outputs": [],
   "source": []
  },
  {
   "cell_type": "code",
   "execution_count": 18,
   "id": "f9c07e43-26ec-45a6-a5d9-9a79892a2712",
   "metadata": {},
   "outputs": [],
   "source": [
    "testy = test.get_partition(0)"
   ]
  },
  {
   "cell_type": "code",
   "execution_count": null,
   "id": "1afa38fb-e57a-4b32-8c72-fc4000825ff4",
   "metadata": {},
   "outputs": [],
   "source": [
    "testy.compute()"
   ]
  },
  {
   "cell_type": "code",
   "execution_count": null,
   "id": "47357e09-c7e4-4c2c-82ab-5042c04b70c7",
   "metadata": {},
   "outputs": [],
   "source": [
    "# test = ddf_ne.compute()"
   ]
  },
  {
   "cell_type": "code",
   "execution_count": null,
   "id": "f4c90064-01b8-487a-866e-4708b73b25eb",
   "metadata": {},
   "outputs": [],
   "source": [
    "# ddf_ne = ddf_ne.drop(columns='NHDPlusID')"
   ]
  },
  {
   "cell_type": "code",
   "execution_count": null,
   "id": "8e92600b-8eac-41b8-8a15-499db3e6eb11",
   "metadata": {},
   "outputs": [],
   "source": [
    "ddf_ne['coverage'] = ddf_ne['coverage']*100"
   ]
  },
  {
   "cell_type": "code",
   "execution_count": null,
   "id": "1877bee5-4084-4bd8-b7ef-36c3a2578518",
   "metadata": {},
   "outputs": [],
   "source": [
    "# unique_val = ddf_ne['Bin'].unique()"
   ]
  },
  {
   "cell_type": "code",
   "execution_count": null,
   "id": "3b54982c-2242-40ec-97ed-53a92624abaa",
   "metadata": {},
   "outputs": [],
   "source": [
    "# unique_val.compute()"
   ]
  },
  {
   "cell_type": "markdown",
   "id": "98e3f765-05c4-4c8b-be32-39197b686177",
   "metadata": {},
   "source": [
    "### HUC2_15, Southwest"
   ]
  },
  {
   "cell_type": "code",
   "execution_count": null,
   "id": "1a5e32ba-a4f9-4825-85b3-b71037b5bcaf",
   "metadata": {},
   "outputs": [],
   "source": [
    "## Setup\n",
    "bwidth = 'mean'\n",
    "bbin = 'Bin'\n",
    "huc2 = '15'\n",
    "data_path = '../../narrow_rivers_PIXC_output/PIXC_v2_0_HUC2_' + \\\n",
    "            huc2 + '_2025_05_24_' + bwidth"
   ]
  },
  {
   "cell_type": "code",
   "execution_count": null,
   "id": "81beeb17-7447-41ff-948b-150ac5bea375",
   "metadata": {},
   "outputs": [],
   "source": [
    "# Get list of files    \n",
    "files = []\n",
    "for file in os.listdir(data_path):\n",
    "    if not file.startswith('.'):\n",
    "        if 'thresh' in file:\n",
    "            files.append(os.path.join(data_path, file))"
   ]
  },
  {
   "cell_type": "code",
   "execution_count": null,
   "id": "cbc6816a-09fa-4c7f-b567-b401ba9cab50",
   "metadata": {
    "tags": []
   },
   "outputs": [],
   "source": [
    "ddf_sw = dd.read_parquet(files)"
   ]
  },
  {
   "cell_type": "code",
   "execution_count": null,
   "id": "09314008-c330-4f9c-b0de-30171c8cc42d",
   "metadata": {},
   "outputs": [],
   "source": [
    "ddf_sw['thresh_01'] = ddf_sw.iloc[:,1:11][ddf_sw.iloc[:,1:11] > 0.1].count(axis=1)\n",
    "ddf_sw['thresh_02'] = ddf_sw.iloc[:,1:11][ddf_sw.iloc[:,1:11] > 0.2].count(axis=1)\n",
    "ddf_sw['thresh_03'] = ddf_sw.iloc[:,1:11][ddf_sw.iloc[:,1:11] > 0.3].count(axis=1)\n",
    "ddf_sw['thresh_04'] = ddf_sw.iloc[:,1:11][ddf_sw.iloc[:,1:11] > 0.4].count(axis=1)\n",
    "ddf_sw['thresh_05'] = ddf_sw.iloc[:,1:11][ddf_sw.iloc[:,1:11] > 0.5].count(axis=1)\n",
    "ddf_sw['thresh_06'] = ddf_sw.iloc[:,1:11][ddf_sw.iloc[:,1:11] > 0.6].count(axis=1)\n",
    "ddf_sw['thresh_07'] = ddf_sw.iloc[:,1:11][ddf_sw.iloc[:,1:11] > 0.7].count(axis=1)\n",
    "ddf_sw['thresh_08'] = ddf_sw.iloc[:,1:11][ddf_sw.iloc[:,1:11] > 0.8].count(axis=1)\n",
    "ddf_sw['thresh_09'] = ddf_sw.iloc[:,1:11][ddf_sw.iloc[:,1:11] > 0.9].count(axis=1)"
   ]
  },
  {
   "cell_type": "code",
   "execution_count": null,
   "id": "cb624b26-9460-4e18-bf80-5bfa29e8bbe2",
   "metadata": {},
   "outputs": [],
   "source": [
    "ddf_sw = ddf_sw.drop(columns='NHDPlusID')"
   ]
  },
  {
   "cell_type": "code",
   "execution_count": null,
   "id": "1285d474-c2ec-48f4-9862-377c92780a8c",
   "metadata": {},
   "outputs": [],
   "source": [
    "ddf_sw['coverage'] = ddf_sw['coverage']*100"
   ]
  },
  {
   "cell_type": "markdown",
   "id": "8b66f158-cc5a-4354-914a-7c7b9dec68c2",
   "metadata": {
    "tags": []
   },
   "source": [
    "### HUC2_17, Northwest"
   ]
  },
  {
   "cell_type": "code",
   "execution_count": null,
   "id": "670a5665-ac03-4e7f-bcb2-e3da37d0acc0",
   "metadata": {},
   "outputs": [],
   "source": [
    "## Setup\n",
    "bwidth = 'mean'\n",
    "bbin = 'Bin'\n",
    "huc2 = '17'\n",
    "data_path = '../../narrow_rivers_PIXC_output/PIXC_v2_0_HUC2_' + \\\n",
    "            huc2 + '_2025_05_24_' + bwidth"
   ]
  },
  {
   "cell_type": "code",
   "execution_count": null,
   "id": "f584b004-097a-4944-b549-b50551eb3570",
   "metadata": {},
   "outputs": [],
   "source": [
    "# Get list of files    \n",
    "files = []\n",
    "for file in os.listdir(data_path):\n",
    "    if not file.startswith('.'):\n",
    "        files.append(os.path.join(data_path, file))"
   ]
  },
  {
   "cell_type": "code",
   "execution_count": null,
   "id": "9fcc5776-b21d-4233-81db-cb15bb43b8e7",
   "metadata": {},
   "outputs": [],
   "source": [
    "ddf_nw = dd.read_parquet(files)"
   ]
  },
  {
   "cell_type": "code",
   "execution_count": null,
   "id": "d50ea149-463a-427c-a6aa-dd0e9b4a0c26",
   "metadata": {},
   "outputs": [],
   "source": [
    "ddf_nw['thresh_01'] = ddf_nw.iloc[:,1:11][ddf_nw.iloc[:,1:11] > 0.1].count(axis=1)\n",
    "ddf_nw['thresh_02'] = ddf_nw.iloc[:,1:11][ddf_nw.iloc[:,1:11] > 0.2].count(axis=1)\n",
    "ddf_nw['thresh_03'] = ddf_nw.iloc[:,1:11][ddf_nw.iloc[:,1:11] > 0.3].count(axis=1)\n",
    "ddf_nw['thresh_04'] = ddf_nw.iloc[:,1:11][ddf_nw.iloc[:,1:11] > 0.4].count(axis=1)\n",
    "ddf_nw['thresh_05'] = ddf_nw.iloc[:,1:11][ddf_nw.iloc[:,1:11] > 0.5].count(axis=1)\n",
    "ddf_nw['thresh_06'] = ddf_nw.iloc[:,1:11][ddf_nw.iloc[:,1:11] > 0.6].count(axis=1)\n",
    "ddf_nw['thresh_07'] = ddf_nw.iloc[:,1:11][ddf_nw.iloc[:,1:11] > 0.7].count(axis=1)\n",
    "ddf_nw['thresh_08'] = ddf_nw.iloc[:,1:11][ddf_nw.iloc[:,1:11] > 0.8].count(axis=1)\n",
    "ddf_nw['thresh_09'] = ddf_nw.iloc[:,1:11][ddf_nw.iloc[:,1:11] > 0.9].count(axis=1)"
   ]
  },
  {
   "cell_type": "code",
   "execution_count": null,
   "id": "06e1d3da-5d61-45c8-a2f4-e41380e61224",
   "metadata": {},
   "outputs": [],
   "source": [
    "ddf_nw"
   ]
  },
  {
   "cell_type": "code",
   "execution_count": null,
   "id": "661ab356-bf54-45e3-b709-5d40b324b4d2",
   "metadata": {},
   "outputs": [],
   "source": [
    "# test = ddf_nw.compute()"
   ]
  },
  {
   "cell_type": "code",
   "execution_count": null,
   "id": "b949b18e-2a5b-4a42-b657-54d06b9d6214",
   "metadata": {},
   "outputs": [],
   "source": [
    "# ddf_nw = ddf_nw.drop(columns='NHDPlusID')"
   ]
  },
  {
   "cell_type": "code",
   "execution_count": null,
   "id": "b873e0fb-9091-4197-8224-91ef19ec1417",
   "metadata": {},
   "outputs": [],
   "source": [
    "ddf_nw['coverage'] = ddf_nw['coverage']*100"
   ]
  },
  {
   "cell_type": "code",
   "execution_count": null,
   "id": "5776d354-f5e6-4097-9921-c7dfd3076034",
   "metadata": {},
   "outputs": [],
   "source": [
    "# unique_val = ddf_nw['Bin'].unique()"
   ]
  },
  {
   "cell_type": "code",
   "execution_count": null,
   "id": "7e216c3c-a29a-42d8-ac6e-3191426d5f7f",
   "metadata": {},
   "outputs": [],
   "source": [
    "# unique_val.compute()"
   ]
  },
  {
   "cell_type": "markdown",
   "id": "5e54ce33-ad51-48cf-8ce2-3b19923d779d",
   "metadata": {
    "tags": []
   },
   "source": [
    "### Combined"
   ]
  },
  {
   "cell_type": "code",
   "execution_count": null,
   "id": "cb69d5b9-1f77-40ef-a3f9-8e7707d1efa3",
   "metadata": {
    "tags": []
   },
   "outputs": [],
   "source": [
    "for i in range(len(thresholds)):\n",
    "    \n",
    "    ne = ddf_ne[ddf_ne['threshold'] == thresholds[i]]\n",
    "    ne = ne.compute().reset_index().drop(columns='index')\n",
    "\n",
    "    zeros = ne[ne.coverage == 0].count()\n",
    "    reaches = ne.shape[0]\n",
    "    ne_zeros = round(((zeros['coverage']/reaches)*100), 1)\n",
    "    \n",
    "    ne = ne[ne.coverage != 0]\n",
    "    if ne.shape[0] > 100000:\n",
    "        ne = ne.sample(100000)\n",
    "    \n",
    "    sw = ddf_sw[ddf_sw['threshold'] == thresholds[i]]\n",
    "    sw = sw.compute().reset_index().drop(columns='index')\n",
    "\n",
    "    zeros = sw[sw.coverage == 0].count()\n",
    "    reaches = sw.shape[0]\n",
    "    sw_zeros = round(((zeros['coverage']/reaches)*100), 1)\n",
    "\n",
    "    sw = sw[sw.coverage != 0]\n",
    "    if sw.shape[0] > 100000:\n",
    "        sw = sw.sample(100000)\n",
    "\n",
    "    # Get combined reaches at 10% threshold\n",
    "    combined = pd.concat(objs=[ne, sw], axis=0).reset_index()\n",
    "\n",
    "    del ne, sw\n",
    "\n",
    "    percent = str(int(thresholds[i]*100))\n",
    "\n",
    "    fig, ax = plt.subplots(figsize=(10,6))\n",
    "    sns.boxplot(data=combined, x='Bin', y='coverage',\n",
    "                order=order,\n",
    "                color=color[2],\n",
    "                saturation=1, showmeans=True,\n",
    "                fliersize=2, linewidth=2,\n",
    "                boxprops=dict(alpha=0.8),\n",
    "                meanprops={'marker':'o',\n",
    "                           'markerfacecolor':'k',\n",
    "                           'markeredgecolor':'k',\n",
    "                           'markersize':'8'})\n",
    "\n",
    "    plt.title('Reaches by proportion of nodes that meet or exceed ' + percent +\n",
    "              '% coverage, excluding reaches with 0% coverage\\nHUC2_01: ' + str(ne_zeros) +\n",
    "              '% of reaches have 0% coverage in all nodes\\nHUC2_15: ' +\n",
    "              str(sw_zeros) + '% of reaches have 0% coverage in all nodes')\n",
    "\n",
    "    patch = mpatches.Patch(color=color[2], label='combined')\n",
    "    plt.legend(handles=[patch], title='HUC2', loc='upper right',\n",
    "               title_fontproperties={'weight': 'bold'})\n",
    "\n",
    "    plt.xticks(rotation=-45)\n",
    "\n",
    "    plt.xlabel('Width Bin [m]')\n",
    "    plt.ylabel('Proportion of nodes that exceed ' + percent + '% coverage')\n",
    "\n",
    "    plt.savefig(save_path + 'threshold_combined_mean_' + percent + '.png')"
   ]
  },
  {
   "cell_type": "markdown",
   "id": "dea0bc7a-1116-4a42-ac47-019a6b10c6aa",
   "metadata": {
    "tags": []
   },
   "source": [
    "### Two"
   ]
  },
  {
   "cell_type": "code",
   "execution_count": null,
   "id": "0a40f917-f987-42fa-a6ec-3d9402464559",
   "metadata": {},
   "outputs": [],
   "source": [
    "for i in range(len(thresholds)):\n",
    "\n",
    "    # Get ne reaches at threshold\n",
    "    ne = ddf_ne[ddf_ne['threshold'] == thresholds[i]].reset_index().drop(columns='index')\n",
    "    ne = ne.compute()\n",
    "    \n",
    "    zeros = ne[ne.coverage == 0].count()\n",
    "    reaches = ne.shape[0]\n",
    "    ne_zeros = round(((zeros['coverage']/reaches)*100), 1)\n",
    "\n",
    "    ne = ne[ne.coverage != 0]\n",
    "    if ne.shape[0] > 100000:\n",
    "        ne = ne.sample(100000)\n",
    "    ne['huc2'] = '01'\n",
    "\n",
    "    # Get sw reaches\n",
    "    sw = ddf_sw[ddf_sw['threshold'] == thresholds[i]].reset_index().drop(columns='index')\n",
    "    sw = sw.compute()\n",
    "\n",
    "    zeros = sw[sw.coverage == 0].count()\n",
    "    reaches = sw.shape[0]\n",
    "    sw_zeros = round(((zeros['coverage']/reaches)*100), 1)\n",
    "\n",
    "    sw = sw[sw.coverage != 0]\n",
    "    if sw.shape[0] > 100000:\n",
    "        sw = sw.sample(100000)\n",
    "    sw['huc2'] = '15'\n",
    "\n",
    "#     # Get combined reaches at 10% threshold\n",
    "#     both = pd.concat(objs=[ne, sw], axis=0).reset_index()\n",
    "\n",
    "#     combo = both.copy()\n",
    "#     combo['huc2'] = 'combined'\n",
    "\n",
    "    combined = pd.concat(objs=[ne, sw], axis=0).reset_index().drop(columns='index')\n",
    "\n",
    "    del ne, sw\n",
    "\n",
    "    percent = str(int(thresholds[i]*100))\n",
    "\n",
    "    fig, ax = plt.subplots(figsize=(12,6))\n",
    "    sns.boxplot(data=combined, x='Bin', y='coverage',\n",
    "                order=order,\n",
    "                hue='huc2', palette=palette_two,\n",
    "                legend=True,\n",
    "                saturation=1, showmeans=True,\n",
    "                fliersize=2, linewidth=2,\n",
    "                boxprops=dict(alpha=0.8),\n",
    "                meanprops={'marker':'o',\n",
    "                           'markerfacecolor':'k',\n",
    "                           'markeredgecolor':'k',\n",
    "                           'markersize':'8'})\n",
    "\n",
    "    plt.title('Reaches by proportion of nodes that meet or exceed ' + percent +\n",
    "              '% coverage, excluding reaches with 0% coverage\\nHUC2_01: ' + str(ne_zeros) +\n",
    "              '% of reaches have 0% coverage in all nodes\\nHUC2_15: ' +\n",
    "              str(sw_zeros) + '% of reaches have 0% coverage in all nodes')\n",
    "\n",
    "    plt.legend(title='HUC2', loc='upper right',\n",
    "               title_fontproperties={'weight': 'bold'})\n",
    "\n",
    "    plt.xlabel('Width Bin [m]')\n",
    "    plt.ylabel('Proportion of nodes that exceed ' + percent + '% coverage')\n",
    "    plt.xticks(rotation=-45)\n",
    "\n",
    "    plt.savefig(save_path + 'threshold_just_hucs_mean_' + percent + '.png')"
   ]
  },
  {
   "cell_type": "markdown",
   "id": "13868d9f-42e0-4a88-a5f8-c332eed8d900",
   "metadata": {
    "jp-MarkdownHeadingCollapsed": true,
    "tags": []
   },
   "source": [
    "### All three"
   ]
  },
  {
   "cell_type": "code",
   "execution_count": null,
   "id": "b0f1e88d-4267-4c6e-8bc7-2aeaf85736c9",
   "metadata": {},
   "outputs": [],
   "source": [
    "for i in range(len(thresholds)):\n",
    "\n",
    "    # Get ne reaches at threshold\n",
    "    ne = ddf_ne[ddf_ne['threshold'] == thresholds[i]]\n",
    "    ne = ne.compute().reset_index().drop(columns=['NHDPlusID', 'index'])\n",
    "\n",
    "    zeros = ne[ne.coverage == 0].count()\n",
    "    reaches = ne.shape[0]\n",
    "    ne_zeros = round(((zeros['coverage']/reaches)*100), 1)\n",
    "\n",
    "    ne = ne[ne.coverage != 0]\n",
    "    if ne.shape[0] > 100000:\n",
    "        ne = ne.sample(100000)\n",
    "    ne['huc2'] = '01'\n",
    "\n",
    "    # Get sw reaches\n",
    "    sw = ddf_sw[ddf_sw['threshold'] == thresholds[i]]\n",
    "    sw = sw.compute().reset_index().drop(columns=['NHDPlusID', 'index'])\n",
    "\n",
    "    zeros = sw[sw.coverage == 0].count()\n",
    "    reaches = sw.shape[0]\n",
    "    sw_zeros = round(((zeros['coverage']/reaches)*100), 1)\n",
    "\n",
    "    sw = sw[sw.coverage != 0]\n",
    "    if sw.shape[0] > 100000:\n",
    "        sw = sw.sample(100000)\n",
    "    sw['huc2'] = '15'\n",
    "\n",
    "    # Get combined reaches at 10% threshold\n",
    "    both = pd.concat(objs=[ne, sw], axis=0).reset_index()\n",
    "\n",
    "    combo = both.copy()\n",
    "    combo['huc2'] = 'combined'\n",
    "\n",
    "    combined = pd.concat(objs=[ne, sw, combo], axis=0).reset_index().drop(columns=['level_0', 'index'])\n",
    "\n",
    "    del ne, sw, combo\n",
    "\n",
    "    percent = str(int(thresholds[i]*100))\n",
    "\n",
    "    fig, ax = plt.subplots(figsize=(12,6))\n",
    "    sns.boxplot(data=combined, x='Bin', y='coverage',\n",
    "                order=order,\n",
    "                hue='huc2', palette=palette,\n",
    "                legend=True,\n",
    "                saturation=1, showmeans=True,\n",
    "                fliersize=2, linewidth=2,\n",
    "                boxprops=dict(alpha=0.8),\n",
    "                meanprops={'marker':'o',\n",
    "                           'markerfacecolor':'k',\n",
    "                           'markeredgecolor':'k',\n",
    "                           'markersize':'8'})\n",
    "\n",
    "    plt.title('Reaches with at least ' + percent +\n",
    "              '% coverage in each node, excluding reaches with 0% coverage\\nHUC2_01: ' + str(ne_zeros) +\n",
    "              '% of reaches have 0% coverage in all nodes\\nHUC2_15: ' +\n",
    "              str(sw_zeros) + '% of reaches have 0% coverage in all nodes')\n",
    "\n",
    "    plt.legend(title='HUC2', loc='upper right',\n",
    "               title_fontproperties={'weight': 'bold'})\n",
    "\n",
    "    plt.xlabel('Width Bin [m]')\n",
    "    plt.ylabel('Reaches with at least ' + percent + '% coverage')\n",
    "    plt.xticks(rotation=-45)\n",
    "\n",
    "    plt.savefig(save_path + 'threshold_all_three_mean_' + percent + '.png')"
   ]
  },
  {
   "cell_type": "markdown",
   "id": "cd654467-3703-43b0-92e0-e1e8386d54e4",
   "metadata": {
    "jp-MarkdownHeadingCollapsed": true,
    "tags": []
   },
   "source": [
    "### Combined old"
   ]
  },
  {
   "cell_type": "code",
   "execution_count": null,
   "id": "1106320c-5946-4431-963a-f467affa10f6",
   "metadata": {},
   "outputs": [],
   "source": [
    "for i in range(len(thresholds)):\n",
    "    # Make combined dataframe\n",
    "    ddf_combo = dd.concat(dfs=[ddf_ne, ddf_sw], axis=0)\n",
    "\n",
    "    # Get combined reaches at 10% threshold\n",
    "    ddf_combo = ddf_combo[(ddf_combo['threshold'] == thresholds[i])]\n",
    "    combo = ddf_combo.compute().drop(columns=['NHDPlusID']).reset_index()\n",
    "    combo = combo.drop(columns=['index', 'threshold'])\n",
    "    combo['coverage'] = combo['coverage']*100\n",
    "    # combo['huc2'] = '01, 15'\n",
    "\n",
    "    percent = str(int(thresholds[i]*100))\n",
    "\n",
    "    fig, ax = plt.subplots(figsize=(10,6))\n",
    "    sns.boxplot(x='Bin', y='coverage',\n",
    "                data=combo,\n",
    "                order=order,\n",
    "                color=color[2],\n",
    "                saturation=1, showmeans=True,\n",
    "                fliersize=2, linewidth=2,\n",
    "                boxprops=dict(alpha=0.8),\n",
    "                meanprops={'marker':'o',\n",
    "                           'markerfacecolor':'k',\n",
    "                           'markeredgecolor':'k',\n",
    "                           'markersize':'8'})\n",
    "\n",
    "    plt.title('Reaches with at least ' + percent +'% coverage in each node, HUC2_01 and HUC2_15')\n",
    "    plt.xticks(rotation=-45)\n",
    "\n",
    "    plt.xlabel('Width Bin [m]')\n",
    "    plt.ylabel('Detected [%]')\n",
    "\n",
    "    plt.savefig('./figures_for_2025_03_06/threshold_combined_mean_' + percent + '.png')"
   ]
  },
  {
   "cell_type": "markdown",
   "id": "dd34e97b-9531-4783-991f-9de5147f74f6",
   "metadata": {
    "jp-MarkdownHeadingCollapsed": true,
    "tags": []
   },
   "source": [
    "### Side-by-side old"
   ]
  },
  {
   "cell_type": "code",
   "execution_count": null,
   "id": "eebe9079-6473-4f0a-aa97-5e358f2fd1e2",
   "metadata": {},
   "outputs": [],
   "source": [
    "for i in range(len(thresholds)):\n",
    "\n",
    "    # Get ne reaches at 10% threshold\n",
    "    ddf_ne_thresh = ddf_ne[(ddf_ne['threshold'] == thresholds[i])]\n",
    "    ne = ddf_ne_thresh.compute().drop(columns=['NHDPlusID']).reset_index()\n",
    "    ne = ne.drop(columns=['index', 'threshold'])\n",
    "    ne['coverage'] = ne['coverage']*100\n",
    "    ne['huc2'] = '01'\n",
    "\n",
    "    # Get sw reaches at 10% threshold\n",
    "    ddf_sw_thresh = ddf_sw[(ddf_sw['threshold'] == thresholds[i])]\n",
    "    sw = ddf_sw_thresh.compute().drop(columns=['NHDPlusID']).reset_index()\n",
    "    sw = sw.drop(columns=['index', 'threshold'])\n",
    "    sw['coverage'] = sw['coverage']*100\n",
    "    sw['huc2'] = '15'\n",
    "\n",
    "    combo = pd.concat(objs=[ne, sw], axis=0).reset_index()\n",
    "\n",
    "    del ne, sw\n",
    "\n",
    "    percent = str(int(thresholds[i]*100))\n",
    "\n",
    "    fig, ax = plt.subplots(figsize=(10,6))\n",
    "    sns.boxplot(x='Bin', y='coverage', hue='huc2',\n",
    "                data=combo, order=order,\n",
    "                palette=palette_two,\n",
    "                legend=True,\n",
    "                saturation=1, showmeans=True,\n",
    "                fliersize=2, linewidth=2,\n",
    "                boxprops=dict(alpha=0.8),\n",
    "                meanprops={'marker':'o',\n",
    "                           'markerfacecolor':'k',\n",
    "                           'markeredgecolor':'k',\n",
    "                           'markersize':'8'})\n",
    "\n",
    "    plt.legend(title='HUC2', loc='upper right')\n",
    "\n",
    "    plt.title('Reaches with at least ' + percent +'% coverage in each node, HUC2_01 and HUC2_15')\n",
    "    plt.xlabel('Width Bin [m]')\n",
    "    plt.ylabel('Detected [%]')\n",
    "    plt.xticks(rotation=-45)\n",
    "\n",
    "    plt.savefig('./figures_for_2025_03_06/threshold_huc2_01_and_huc_15_mean_' + percent + '.png')"
   ]
  },
  {
   "cell_type": "code",
   "execution_count": null,
   "id": "4f6c69b5-418a-4e27-a3de-21cd4e1e8a35",
   "metadata": {},
   "outputs": [],
   "source": [
    "del combo"
   ]
  }
 ],
 "metadata": {
  "kernelspec": {
   "display_name": "Python [conda env:.conda-narrowPIXC]",
   "language": "python",
   "name": "conda-env-.conda-narrowPIXC-py"
  },
  "language_info": {
   "codemirror_mode": {
    "name": "ipython",
    "version": 3
   },
   "file_extension": ".py",
   "mimetype": "text/x-python",
   "name": "python",
   "nbconvert_exporter": "python",
   "pygments_lexer": "ipython3",
   "version": "3.12.4"
  }
 },
 "nbformat": 4,
 "nbformat_minor": 5
}
