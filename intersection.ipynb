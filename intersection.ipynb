{
 "cells": [
  {
   "cell_type": "code",
   "execution_count": 11,
   "id": "f9339142-55fc-44c1-8d60-236ac5516637",
   "metadata": {},
   "outputs": [],
   "source": [
    "import os\n",
    "\n",
    "import numpy as np\n",
    "import geopandas as gpd\n",
    "import matplotlib.pyplot as plt\n",
    "import pandas as pd\n",
    "import xarray as xr\n",
    "\n",
    "from matplotlib import colors\n",
    "from reaches import readNHD\n",
    "from reaches import segmentReach\n",
    "from reaches import bitwiseMask\n",
    "from reaches import makeGDF"
   ]
  },
  {
   "cell_type": "code",
   "execution_count": 2,
   "id": "cab96595-8e07-4bd4-8e89-b7588a944333",
   "metadata": {},
   "outputs": [],
   "source": [
    "# Order of all possible bins for plotting\n",
    "order = ['(0, 10]', '(10, 20]', '(20, 30]', '(30, 40]', '(40, 50]',\n",
    "         '(50, 60]', '(60, 70]', '(70, 80]', '(80, 90]', '(90, 100]',\n",
    "         '(100, 150]', '(150, 200]', '(200, 500]', '(500, 1000]']"
   ]
  },
  {
   "cell_type": "markdown",
   "id": "81622451-ee68-4edc-85dd-aceb72b28ba1",
   "metadata": {
    "tags": []
   },
   "source": [
    "#### Original PIXC granule"
   ]
  },
  {
   "cell_type": "code",
   "execution_count": 3,
   "id": "9c9a407f-0832-4e43-8811-ddca635992fe",
   "metadata": {},
   "outputs": [],
   "source": [
    "data_path = '/nas/cee-water/cjgleason/fiona/data/small_rivers/mar_2024_ver_c/'\n",
    "pixc_path = os.path.join(data_path, 'SWOT_L2_HR_PIXC_012_298_080L_20240317T084237_20240317T084248_PIC0_01.nc')\n",
    "tile_name = pixc_path[-71:-3]\n",
    "\n",
    "# Read in xarray\n",
    "ds_PIXC = xr.open_mfdataset(paths=pixc_path, group = 'pixel_cloud', engine='h5netcdf')"
   ]
  },
  {
   "cell_type": "code",
   "execution_count": 12,
   "id": "da87473a-bad8-4fcd-9310-783cd753a0f8",
   "metadata": {},
   "outputs": [
    {
     "name": "stdout",
     "output_type": "stream",
     "text": [
      "(887993,)\n"
     ]
    }
   ],
   "source": [
    "# Make mask\n",
    "mask = bitwiseMask(ds_PIXC)"
   ]
  },
  {
   "cell_type": "code",
   "execution_count": 13,
   "id": "5f5ff99b-9b9e-437a-911b-285a7b97d404",
   "metadata": {},
   "outputs": [],
   "source": [
    "variables = ['azimuth_index', 'range_index', 'cross_track',\n",
    "             'pixel_area', 'height', 'geoid',\n",
    "             'dlatitude_dphase', 'dlongitude_dphase',\n",
    "             'dheight_dphase', 'classification']"
   ]
  },
  {
   "cell_type": "code",
   "execution_count": 14,
   "id": "6ccd9a50-95cd-4ad6-93c9-5b6c51565213",
   "metadata": {},
   "outputs": [],
   "source": [
    "# If dataframe not empty after filtering\n",
    "if mask.shape != (0,):\n",
    "    # Make PIXC\n",
    "    gdf_PIXC = makeGDF(ds=ds_PIXC, mask=mask, data_vars=variables)\n",
    "    # # Append to list\n",
    "    # d.append(gdf_PIXC)"
   ]
  },
  {
   "cell_type": "code",
   "execution_count": 4,
   "id": "2a7dc17c-562c-4614-86f0-8007dec1d75e",
   "metadata": {},
   "outputs": [],
   "source": [
    "# Make dict for legend labels\n",
    "flags = ds_PIXC.classification.flag_meanings.split() # extract each flag meaning\n",
    "codes = {idx:k for idx, k in enumerate(flags, start=1)}"
   ]
  },
  {
   "cell_type": "markdown",
   "id": "59350dd8-88b2-4b57-ac04-2496396be8cd",
   "metadata": {
    "tags": []
   },
   "source": [
    "#### Read in pseudo-pixels"
   ]
  },
  {
   "cell_type": "code",
   "execution_count": 5,
   "id": "3608c44a-006d-43ea-aa8d-9ad204b251b9",
   "metadata": {},
   "outputs": [],
   "source": [
    "data_path = '/nas/cee-water/cjgleason/fiona/narrow_rivers_PIXC_data/PIXC_v2_0_pseudo_pixels_filtered/'"
   ]
  },
  {
   "cell_type": "code",
   "execution_count": 6,
   "id": "e7a7b82e-cd7e-434c-ab32-8bcb1f9fabb5",
   "metadata": {},
   "outputs": [],
   "source": [
    "pseudo_path = os.path.join(data_path,\n",
    "                           'SWOT_L2_HR_PIXC_012_298_080L_20240317T084237_20240317T084248_PIC0_01.parquet')"
   ]
  },
  {
   "cell_type": "code",
   "execution_count": 7,
   "id": "0b23acae-82ad-4317-96c4-c080278816d4",
   "metadata": {},
   "outputs": [],
   "source": [
    "gdf_PIXC = gpd.read_parquet(pseudo_path)"
   ]
  },
  {
   "cell_type": "code",
   "execution_count": 8,
   "id": "044be73e-8e14-414d-900a-aff5f56cfe85",
   "metadata": {
    "tags": []
   },
   "outputs": [],
   "source": [
    "pseudo = gdf_PIXC.drop(columns='geometry').set_geometry('pseudo_pixel').set_crs(crs=gdf_PIXC.crs)"
   ]
  },
  {
   "cell_type": "markdown",
   "id": "aa34d8b2-0ed5-4ab7-9183-385de9b3d4b5",
   "metadata": {},
   "source": [
    "#### Read in NHD"
   ]
  },
  {
   "cell_type": "code",
   "execution_count": 6,
   "id": "f4fa98dd-63c8-4803-a458-691056c04283",
   "metadata": {},
   "outputs": [],
   "source": [
    "index = 4 # Connecticut River"
   ]
  },
  {
   "cell_type": "code",
   "execution_count": 8,
   "id": "38dd8cea-27d6-4bf3-92e7-d33b050d7746",
   "metadata": {},
   "outputs": [],
   "source": [
    "# Read prepped NHD\n",
    "basin, huc4, huc2 = readNHD(index=index)"
   ]
  },
  {
   "cell_type": "code",
   "execution_count": 10,
   "id": "141bc93b-bebe-4dd5-bf93-eab101553689",
   "metadata": {},
   "outputs": [],
   "source": [
    "basin['buffer'] = basin.buffer(distance=((basin.WidthM/2)+50), cap_style='flat')"
   ]
  },
  {
   "cell_type": "code",
   "execution_count": 26,
   "id": "c6734e0f-3106-4d38-b86f-f036ec827a2c",
   "metadata": {},
   "outputs": [],
   "source": [
    "# Project crs\n",
    "basin = basin.to_crs(epsg=32618)"
   ]
  },
  {
   "cell_type": "code",
   "execution_count": 17,
   "id": "cb2de022-1f48-43d0-a25a-1f251eb2c05d",
   "metadata": {},
   "outputs": [],
   "source": [
    "# # Get bounds of pseudo-pixels\n",
    "# pbounds = gdf_PIXC.total_bounds\n",
    "#  NEEDS TO BE BIGGER BUFFERED TO CAPTURE PSEUDO PIXELS"
   ]
  },
  {
   "cell_type": "code",
   "execution_count": 20,
   "id": "3287bda1-ad6c-43e5-91b5-bfb9a674c3c9",
   "metadata": {},
   "outputs": [],
   "source": [
    "# # Crop NHD to current tile\n",
    "# basin_crop = basin.clip(pbounds)"
   ]
  },
  {
   "cell_type": "code",
   "execution_count": 24,
   "id": "24783519-c161-4830-84b7-110750b9503a",
   "metadata": {},
   "outputs": [],
   "source": [
    "basin = basin.set_geometry('buffer')"
   ]
  },
  {
   "cell_type": "code",
   "execution_count": 29,
   "id": "70e6f156-3f4b-4613-8ea6-e5fd0c445ab0",
   "metadata": {},
   "outputs": [],
   "source": [
    "# Get pixels in buffered reaches\n",
    "inside = gpd.sjoin(gdf_PIXC, basin, how='inner',\n",
    "                       predicate='within')"
   ]
  },
  {
   "cell_type": "code",
   "execution_count": 30,
   "id": "bb07f6ed-d32e-4d30-b4e5-aa65ca252b83",
   "metadata": {},
   "outputs": [
    {
     "data": {
      "text/html": [
       "<div>\n",
       "<style scoped>\n",
       "    .dataframe tbody tr th:only-of-type {\n",
       "        vertical-align: middle;\n",
       "    }\n",
       "\n",
       "    .dataframe tbody tr th {\n",
       "        vertical-align: top;\n",
       "    }\n",
       "\n",
       "    .dataframe thead th {\n",
       "        text-align: right;\n",
       "    }\n",
       "</style>\n",
       "<table border=\"1\" class=\"dataframe\">\n",
       "  <thead>\n",
       "    <tr style=\"text-align: right;\">\n",
       "      <th></th>\n",
       "      <th>points</th>\n",
       "      <th>azimuth_index</th>\n",
       "      <th>range_index</th>\n",
       "      <th>cross_track</th>\n",
       "      <th>pixel_area</th>\n",
       "      <th>height</th>\n",
       "      <th>geoid</th>\n",
       "      <th>dlatitude_dphase</th>\n",
       "      <th>dlongitude_dphase</th>\n",
       "      <th>dheight_dphase</th>\n",
       "      <th>...</th>\n",
       "      <th>latitude</th>\n",
       "      <th>longitude</th>\n",
       "      <th>geometry</th>\n",
       "      <th>index_right</th>\n",
       "      <th>Bin</th>\n",
       "      <th>GNIS_Name</th>\n",
       "      <th>LengthKM</th>\n",
       "      <th>NHDPlusID</th>\n",
       "      <th>WidthM</th>\n",
       "      <th>geometry_right</th>\n",
       "    </tr>\n",
       "  </thead>\n",
       "  <tbody>\n",
       "    <tr>\n",
       "      <th>4</th>\n",
       "      <td>496</td>\n",
       "      <td>160.0</td>\n",
       "      <td>1257.0</td>\n",
       "      <td>-20060.488281</td>\n",
       "      <td>641.220032</td>\n",
       "      <td>236.046875</td>\n",
       "      <td>-28.926233</td>\n",
       "      <td>-0.000255</td>\n",
       "      <td>-0.001408</td>\n",
       "      <td>-3.020458</td>\n",
       "      <td>...</td>\n",
       "      <td>42.696443</td>\n",
       "      <td>-72.770210</td>\n",
       "      <td>POINT (682642.42 4729516.869)</td>\n",
       "      <td>21952</td>\n",
       "      <td>(10, 20]</td>\n",
       "      <td>West Branch North River</td>\n",
       "      <td>1.448</td>\n",
       "      <td>1.000090e+13</td>\n",
       "      <td>16.045485</td>\n",
       "      <td>LINESTRING (682571.291 4729624.41, 682578.416 ...</td>\n",
       "    </tr>\n",
       "    <tr>\n",
       "      <th>7</th>\n",
       "      <td>535</td>\n",
       "      <td>160.0</td>\n",
       "      <td>1296.0</td>\n",
       "      <td>-20994.736328</td>\n",
       "      <td>612.744873</td>\n",
       "      <td>207.906326</td>\n",
       "      <td>-28.925648</td>\n",
       "      <td>-0.000256</td>\n",
       "      <td>-0.001408</td>\n",
       "      <td>-3.027173</td>\n",
       "      <td>...</td>\n",
       "      <td>42.696540</td>\n",
       "      <td>-72.769683</td>\n",
       "      <td>POINT (682685.298 4729528.757)</td>\n",
       "      <td>21952</td>\n",
       "      <td>(10, 20]</td>\n",
       "      <td>West Branch North River</td>\n",
       "      <td>1.448</td>\n",
       "      <td>1.000090e+13</td>\n",
       "      <td>16.045485</td>\n",
       "      <td>LINESTRING (682571.291 4729624.41, 682578.416 ...</td>\n",
       "    </tr>\n",
       "    <tr>\n",
       "      <th>8</th>\n",
       "      <td>536</td>\n",
       "      <td>160.0</td>\n",
       "      <td>1297.0</td>\n",
       "      <td>-21007.921875</td>\n",
       "      <td>612.361267</td>\n",
       "      <td>207.830246</td>\n",
       "      <td>-28.925303</td>\n",
       "      <td>-0.000255</td>\n",
       "      <td>-0.001408</td>\n",
       "      <td>-3.031179</td>\n",
       "      <td>...</td>\n",
       "      <td>42.696597</td>\n",
       "      <td>-72.769369</td>\n",
       "      <td>POINT (682710.888 4729535.799)</td>\n",
       "      <td>21952</td>\n",
       "      <td>(10, 20]</td>\n",
       "      <td>West Branch North River</td>\n",
       "      <td>1.448</td>\n",
       "      <td>1.000090e+13</td>\n",
       "      <td>16.045485</td>\n",
       "      <td>LINESTRING (682571.291 4729624.41, 682578.416 ...</td>\n",
       "    </tr>\n",
       "    <tr>\n",
       "      <th>9</th>\n",
       "      <td>537</td>\n",
       "      <td>160.0</td>\n",
       "      <td>1298.0</td>\n",
       "      <td>-21018.623047</td>\n",
       "      <td>612.050476</td>\n",
       "      <td>207.248871</td>\n",
       "      <td>-28.925215</td>\n",
       "      <td>-0.000255</td>\n",
       "      <td>-0.001408</td>\n",
       "      <td>-3.032200</td>\n",
       "      <td>...</td>\n",
       "      <td>42.696612</td>\n",
       "      <td>-72.769289</td>\n",
       "      <td>POINT (682717.4 4729537.62)</td>\n",
       "      <td>21952</td>\n",
       "      <td>(10, 20]</td>\n",
       "      <td>West Branch North River</td>\n",
       "      <td>1.448</td>\n",
       "      <td>1.000090e+13</td>\n",
       "      <td>16.045485</td>\n",
       "      <td>LINESTRING (682571.291 4729624.41, 682578.416 ...</td>\n",
       "    </tr>\n",
       "    <tr>\n",
       "      <th>10</th>\n",
       "      <td>538</td>\n",
       "      <td>160.0</td>\n",
       "      <td>1299.0</td>\n",
       "      <td>-21053.603516</td>\n",
       "      <td>611.035400</td>\n",
       "      <td>206.932098</td>\n",
       "      <td>-28.924994</td>\n",
       "      <td>-0.000255</td>\n",
       "      <td>-0.001408</td>\n",
       "      <td>-3.034759</td>\n",
       "      <td>...</td>\n",
       "      <td>42.696649</td>\n",
       "      <td>-72.769088</td>\n",
       "      <td>POINT (682733.754 4729542.104)</td>\n",
       "      <td>21952</td>\n",
       "      <td>(10, 20]</td>\n",
       "      <td>West Branch North River</td>\n",
       "      <td>1.448</td>\n",
       "      <td>1.000090e+13</td>\n",
       "      <td>16.045485</td>\n",
       "      <td>LINESTRING (682571.291 4729624.41, 682578.416 ...</td>\n",
       "    </tr>\n",
       "    <tr>\n",
       "      <th>...</th>\n",
       "      <td>...</td>\n",
       "      <td>...</td>\n",
       "      <td>...</td>\n",
       "      <td>...</td>\n",
       "      <td>...</td>\n",
       "      <td>...</td>\n",
       "      <td>...</td>\n",
       "      <td>...</td>\n",
       "      <td>...</td>\n",
       "      <td>...</td>\n",
       "      <td>...</td>\n",
       "      <td>...</td>\n",
       "      <td>...</td>\n",
       "      <td>...</td>\n",
       "      <td>...</td>\n",
       "      <td>...</td>\n",
       "      <td>...</td>\n",
       "      <td>...</td>\n",
       "      <td>...</td>\n",
       "      <td>...</td>\n",
       "      <td>...</td>\n",
       "    </tr>\n",
       "    <tr>\n",
       "      <th>887919</th>\n",
       "      <td>6423514</td>\n",
       "      <td>3105.0</td>\n",
       "      <td>2850.0</td>\n",
       "      <td>-47989.863281</td>\n",
       "      <td>268.562531</td>\n",
       "      <td>184.801208</td>\n",
       "      <td>-29.223537</td>\n",
       "      <td>-0.000248</td>\n",
       "      <td>-0.001401</td>\n",
       "      <td>-7.403436</td>\n",
       "      <td>...</td>\n",
       "      <td>42.197723</td>\n",
       "      <td>-72.244410</td>\n",
       "      <td>POINT (727512.285 4675405.872)</td>\n",
       "      <td>14597</td>\n",
       "      <td>(0, 10]</td>\n",
       "      <td>None</td>\n",
       "      <td>0.398</td>\n",
       "      <td>1.000090e+13</td>\n",
       "      <td>2.379599</td>\n",
       "      <td>LINESTRING (727525.052 4675407.222, 727481.521...</td>\n",
       "    </tr>\n",
       "    <tr>\n",
       "      <th>887920</th>\n",
       "      <td>6423515</td>\n",
       "      <td>3105.0</td>\n",
       "      <td>2851.0</td>\n",
       "      <td>-48009.968750</td>\n",
       "      <td>268.450317</td>\n",
       "      <td>184.372330</td>\n",
       "      <td>-29.223452</td>\n",
       "      <td>-0.000248</td>\n",
       "      <td>-0.001401</td>\n",
       "      <td>-7.404207</td>\n",
       "      <td>...</td>\n",
       "      <td>42.197734</td>\n",
       "      <td>-72.244350</td>\n",
       "      <td>POINT (727517.196 4675407.213)</td>\n",
       "      <td>14597</td>\n",
       "      <td>(0, 10]</td>\n",
       "      <td>None</td>\n",
       "      <td>0.398</td>\n",
       "      <td>1.000090e+13</td>\n",
       "      <td>2.379599</td>\n",
       "      <td>LINESTRING (727525.052 4675407.222, 727481.521...</td>\n",
       "    </tr>\n",
       "    <tr>\n",
       "      <th>887925</th>\n",
       "      <td>6423520</td>\n",
       "      <td>3105.0</td>\n",
       "      <td>2856.0</td>\n",
       "      <td>-48119.949219</td>\n",
       "      <td>267.838074</td>\n",
       "      <td>185.318527</td>\n",
       "      <td>-29.222191</td>\n",
       "      <td>-0.000248</td>\n",
       "      <td>-0.001401</td>\n",
       "      <td>-7.415616</td>\n",
       "      <td>...</td>\n",
       "      <td>42.197891</td>\n",
       "      <td>-72.243463</td>\n",
       "      <td>POINT (727589.855 4675427.058)</td>\n",
       "      <td>59569</td>\n",
       "      <td>(0, 10]</td>\n",
       "      <td>None</td>\n",
       "      <td>0.279</td>\n",
       "      <td>1.000090e+13</td>\n",
       "      <td>1.512897</td>\n",
       "      <td>LINESTRING (727786.917 4675615.985, 727784.508...</td>\n",
       "    </tr>\n",
       "    <tr>\n",
       "      <th>887926</th>\n",
       "      <td>6423522</td>\n",
       "      <td>3105.0</td>\n",
       "      <td>2858.0</td>\n",
       "      <td>-48171.656250</td>\n",
       "      <td>267.551086</td>\n",
       "      <td>186.285782</td>\n",
       "      <td>-29.221533</td>\n",
       "      <td>-0.000248</td>\n",
       "      <td>-0.001401</td>\n",
       "      <td>-7.421613</td>\n",
       "      <td>...</td>\n",
       "      <td>42.197974</td>\n",
       "      <td>-72.242997</td>\n",
       "      <td>POINT (727628.056 4675437.483)</td>\n",
       "      <td>59569</td>\n",
       "      <td>(0, 10]</td>\n",
       "      <td>None</td>\n",
       "      <td>0.279</td>\n",
       "      <td>1.000090e+13</td>\n",
       "      <td>1.512897</td>\n",
       "      <td>LINESTRING (727786.917 4675615.985, 727784.508...</td>\n",
       "    </tr>\n",
       "    <tr>\n",
       "      <th>887991</th>\n",
       "      <td>6424036</td>\n",
       "      <td>3105.0</td>\n",
       "      <td>3792.0</td>\n",
       "      <td>-58883.796875</td>\n",
       "      <td>219.058853</td>\n",
       "      <td>156.181183</td>\n",
       "      <td>-29.204578</td>\n",
       "      <td>-0.000247</td>\n",
       "      <td>-0.001403</td>\n",
       "      <td>-8.905811</td>\n",
       "      <td>...</td>\n",
       "      <td>42.218353</td>\n",
       "      <td>-72.127685</td>\n",
       "      <td>POINT (737073.085 4678014.95)</td>\n",
       "      <td>33802</td>\n",
       "      <td>(30, 40]</td>\n",
       "      <td>Quaboag River</td>\n",
       "      <td>2.006</td>\n",
       "      <td>1.000090e+13</td>\n",
       "      <td>30.438436</td>\n",
       "      <td>LINESTRING (736978.54 4677762.44, 736977.093 4...</td>\n",
       "    </tr>\n",
       "  </tbody>\n",
       "</table>\n",
       "<p>103815 rows × 21 columns</p>\n",
       "</div>"
      ],
      "text/plain": [
       "         points  azimuth_index  range_index   cross_track  pixel_area  \\\n",
       "4           496          160.0       1257.0 -20060.488281  641.220032   \n",
       "7           535          160.0       1296.0 -20994.736328  612.744873   \n",
       "8           536          160.0       1297.0 -21007.921875  612.361267   \n",
       "9           537          160.0       1298.0 -21018.623047  612.050476   \n",
       "10          538          160.0       1299.0 -21053.603516  611.035400   \n",
       "...         ...            ...          ...           ...         ...   \n",
       "887919  6423514         3105.0       2850.0 -47989.863281  268.562531   \n",
       "887920  6423515         3105.0       2851.0 -48009.968750  268.450317   \n",
       "887925  6423520         3105.0       2856.0 -48119.949219  267.838074   \n",
       "887926  6423522         3105.0       2858.0 -48171.656250  267.551086   \n",
       "887991  6424036         3105.0       3792.0 -58883.796875  219.058853   \n",
       "\n",
       "            height      geoid  dlatitude_dphase  dlongitude_dphase  \\\n",
       "4       236.046875 -28.926233         -0.000255          -0.001408   \n",
       "7       207.906326 -28.925648         -0.000256          -0.001408   \n",
       "8       207.830246 -28.925303         -0.000255          -0.001408   \n",
       "9       207.248871 -28.925215         -0.000255          -0.001408   \n",
       "10      206.932098 -28.924994         -0.000255          -0.001408   \n",
       "...            ...        ...               ...                ...   \n",
       "887919  184.801208 -29.223537         -0.000248          -0.001401   \n",
       "887920  184.372330 -29.223452         -0.000248          -0.001401   \n",
       "887925  185.318527 -29.222191         -0.000248          -0.001401   \n",
       "887926  186.285782 -29.221533         -0.000248          -0.001401   \n",
       "887991  156.181183 -29.204578         -0.000247          -0.001403   \n",
       "\n",
       "        dheight_dphase  ...   latitude  longitude  \\\n",
       "4            -3.020458  ...  42.696443 -72.770210   \n",
       "7            -3.027173  ...  42.696540 -72.769683   \n",
       "8            -3.031179  ...  42.696597 -72.769369   \n",
       "9            -3.032200  ...  42.696612 -72.769289   \n",
       "10           -3.034759  ...  42.696649 -72.769088   \n",
       "...                ...  ...        ...        ...   \n",
       "887919       -7.403436  ...  42.197723 -72.244410   \n",
       "887920       -7.404207  ...  42.197734 -72.244350   \n",
       "887925       -7.415616  ...  42.197891 -72.243463   \n",
       "887926       -7.421613  ...  42.197974 -72.242997   \n",
       "887991       -8.905811  ...  42.218353 -72.127685   \n",
       "\n",
       "                              geometry index_right       Bin  \\\n",
       "4        POINT (682642.42 4729516.869)       21952  (10, 20]   \n",
       "7       POINT (682685.298 4729528.757)       21952  (10, 20]   \n",
       "8       POINT (682710.888 4729535.799)       21952  (10, 20]   \n",
       "9          POINT (682717.4 4729537.62)       21952  (10, 20]   \n",
       "10      POINT (682733.754 4729542.104)       21952  (10, 20]   \n",
       "...                                ...         ...       ...   \n",
       "887919  POINT (727512.285 4675405.872)       14597   (0, 10]   \n",
       "887920  POINT (727517.196 4675407.213)       14597   (0, 10]   \n",
       "887925  POINT (727589.855 4675427.058)       59569   (0, 10]   \n",
       "887926  POINT (727628.056 4675437.483)       59569   (0, 10]   \n",
       "887991   POINT (737073.085 4678014.95)       33802  (30, 40]   \n",
       "\n",
       "                      GNIS_Name LengthKM     NHDPlusID     WidthM  \\\n",
       "4       West Branch North River    1.448  1.000090e+13  16.045485   \n",
       "7       West Branch North River    1.448  1.000090e+13  16.045485   \n",
       "8       West Branch North River    1.448  1.000090e+13  16.045485   \n",
       "9       West Branch North River    1.448  1.000090e+13  16.045485   \n",
       "10      West Branch North River    1.448  1.000090e+13  16.045485   \n",
       "...                         ...      ...           ...        ...   \n",
       "887919                     None    0.398  1.000090e+13   2.379599   \n",
       "887920                     None    0.398  1.000090e+13   2.379599   \n",
       "887925                     None    0.279  1.000090e+13   1.512897   \n",
       "887926                     None    0.279  1.000090e+13   1.512897   \n",
       "887991            Quaboag River    2.006  1.000090e+13  30.438436   \n",
       "\n",
       "                                           geometry_right  \n",
       "4       LINESTRING (682571.291 4729624.41, 682578.416 ...  \n",
       "7       LINESTRING (682571.291 4729624.41, 682578.416 ...  \n",
       "8       LINESTRING (682571.291 4729624.41, 682578.416 ...  \n",
       "9       LINESTRING (682571.291 4729624.41, 682578.416 ...  \n",
       "10      LINESTRING (682571.291 4729624.41, 682578.416 ...  \n",
       "...                                                   ...  \n",
       "887919  LINESTRING (727525.052 4675407.222, 727481.521...  \n",
       "887920  LINESTRING (727525.052 4675407.222, 727481.521...  \n",
       "887925  LINESTRING (727786.917 4675615.985, 727784.508...  \n",
       "887926  LINESTRING (727786.917 4675615.985, 727784.508...  \n",
       "887991  LINESTRING (736978.54 4677762.44, 736977.093 4...  \n",
       "\n",
       "[103815 rows x 21 columns]"
      ]
     },
     "execution_count": 30,
     "metadata": {},
     "output_type": "execute_result"
    }
   ],
   "source": [
    "inside"
   ]
  },
  {
   "cell_type": "code",
   "execution_count": 14,
   "id": "9cd99d75-05a1-4862-a42d-af3e54cd48ee",
   "metadata": {},
   "outputs": [],
   "source": [
    "# basin.crs"
   ]
  },
  {
   "cell_type": "code",
   "execution_count": 14,
   "id": "294adfe4-d60a-47d9-8a9d-77bfa59a3bd7",
   "metadata": {},
   "outputs": [],
   "source": [
    "# bounds_PIXC = pseudo.union_all().convex_hull # HANGS FOREVER"
   ]
  },
  {
   "cell_type": "code",
   "execution_count": 15,
   "id": "0548b92b-a1b8-4c6b-b02b-d061edf67b2c",
   "metadata": {},
   "outputs": [],
   "source": [
    "# Drop all geometries that aren't LineStrings\n",
    "# (If a river flows across the PIXC boundary then back in, becomes\n",
    "# MultiLineString and needs to be dropped for now).\n",
    "basin_crop = basin_crop[basin_crop.geometry.geometry.type=='LineString']"
   ]
  },
  {
   "cell_type": "markdown",
   "id": "b7f02d00-6ed7-4bf5-aec7-2b55cba33aca",
   "metadata": {},
   "source": [
    "#### Let's try"
   ]
  },
  {
   "cell_type": "code",
   "execution_count": 43,
   "id": "874cffa3-7b15-433e-a831-6619b955aee7",
   "metadata": {},
   "outputs": [],
   "source": [
    "def getCoverage(reach, basin_crs, pseudo, percent):\n",
    "\n",
    "    # Check that this reach and the pseudo-pixels are in the same crs\n",
    "    assert basin_crs == pseudo.crs\n",
    "\n",
    "    ## Get the bounds of the full, buffered reach for clipping the pseudo-pixels\n",
    "    # Buffer the reach by 1/2 width on each side\n",
    "    reach_buff = reach.geometry.buffer(distance=(reach.WidthM/2), cap_style='flat')\n",
    "    # Get the bounds of the full, buffered reach\n",
    "    bounds = reach_buff.bounds\n",
    "    # bounds = list(bounds.itertuples(index=False, name=None))[0]\n",
    "\n",
    "    ## Clip the pseudo pixels to the bounds of the reach\n",
    "    clipped = pseudo.clip(bounds) ###\n",
    "    clipped_all = clipped.union_all()\n",
    "\n",
    "    # Segment the reach and buffer the segments\n",
    "    # Segment the reach (returns list of linestrings\n",
    "    segments = segmentReach(reach)\n",
    "    # Buffer segments\n",
    "    segments = gpd.GeoSeries(segments).buffer(distance=(reach.WidthM/2), cap_style='flat')\n",
    "    \n",
    "    # # Create a GeoDataFrame of segments\n",
    "    # segments = gpd.GeoDataFrame(segments).rename(columns={0: 'geometry'}).set_geometry('geometry').set_crs(basin_crs)\n",
    "    # # Buffer the segments\n",
    "    # segments['seg_buffer'] = segments.buffer(distance=(reach.WidthM/2), cap_style='flat')\n",
    "    # # Set the active geometry column to the buffered segments\n",
    "    # segments = segments.set_geometry('seg_buffer')\n",
    "    \n",
    "    ## Calculate the coverage\n",
    "    # segments['coverage'] = segments.apply(func=calcCov, args=(clipped_all), axis=1)\n",
    "    coverage = []\n",
    "    \n",
    "    for i in range(len(segments)):\n",
    "        prop = clipped_all.intersection(segments[i]).area/segments[i].area\n",
    "        coverage.append(prop)\n",
    "    # if inside.empty:\n",
    "    #     prop = 0\n",
    "    # else:    \n",
    "\n",
    "#     # Get number of pixels in each reach segment\n",
    "#     counts = pd.DataFrame(inside.segment.value_counts().reset_index().sort_index())\n",
    "\n",
    "    # Calculate coverage (proportion of reaches with >= 1 pixel in them)\n",
    "    # prop = len(reach.loc[reach['coverage'] >= percent])/10\n",
    "    final_prop = sum(i > percent for i in coverage)/10\n",
    "\n",
    "    return final_prop"
   ]
  },
  {
   "cell_type": "code",
   "execution_count": 44,
   "id": "0dc13c1b-c775-4d4b-ae9e-386e7d388f41",
   "metadata": {},
   "outputs": [],
   "source": [
    "# test = basin.iloc[64495:64500]\n",
    "test = basin.groupby('Bin').sample(1)"
   ]
  },
  {
   "cell_type": "code",
   "execution_count": 45,
   "id": "ab463261-4cb0-49df-8997-6b9a29247176",
   "metadata": {},
   "outputs": [],
   "source": [
    "## Analyze coverage\n",
    "# Set number of pixels per segment needed for detection\n",
    "percent = 0.5\n",
    "\n",
    "# Get the coverage for each reach (at least one pixel/segment)\n",
    "test['coverage'] = test.apply(func=getCoverage,\n",
    "                                          args=(basin.crs, pseudo, percent),\n",
    "                                          axis=1)"
   ]
  },
  {
   "cell_type": "code",
   "execution_count": 52,
   "id": "d1a71d30-216d-4ea2-a7b0-6813620444e8",
   "metadata": {},
   "outputs": [],
   "source": [
    "# test"
   ]
  },
  {
   "cell_type": "code",
   "execution_count": 53,
   "id": "bc73418a-2ae5-4d16-9222-5fc7a4a77827",
   "metadata": {},
   "outputs": [],
   "source": [
    "## Analyze coverage\n",
    "# Set number of pixels per segment needed for detection\n",
    "percent = 0.5\n",
    "\n",
    "# Get the coverage for each reach (at least one pixel/segment)\n",
    "basin_crop['coverage'] = basin_crop.apply(func=getCoverage,\n",
    "                                          args=(basin.crs, pseudo, percent),\n",
    "                                          axis=1)"
   ]
  },
  {
   "cell_type": "code",
   "execution_count": 42,
   "id": "44ef9180-1c32-4429-a617-597afe91a51d",
   "metadata": {},
   "outputs": [
    {
     "data": {
      "text/html": [
       "<div>\n",
       "<style scoped>\n",
       "    .dataframe tbody tr th:only-of-type {\n",
       "        vertical-align: middle;\n",
       "    }\n",
       "\n",
       "    .dataframe tbody tr th {\n",
       "        vertical-align: top;\n",
       "    }\n",
       "\n",
       "    .dataframe thead th {\n",
       "        text-align: right;\n",
       "    }\n",
       "</style>\n",
       "<table border=\"1\" class=\"dataframe\">\n",
       "  <thead>\n",
       "    <tr style=\"text-align: right;\">\n",
       "      <th></th>\n",
       "      <th>Bin</th>\n",
       "      <th>GNIS_Name</th>\n",
       "      <th>LengthKM</th>\n",
       "      <th>NHDPlusID</th>\n",
       "      <th>WidthM</th>\n",
       "      <th>geometry</th>\n",
       "      <th>coverage</th>\n",
       "    </tr>\n",
       "  </thead>\n",
       "  <tbody>\n",
       "    <tr>\n",
       "      <th>18396</th>\n",
       "      <td>(10, 20]</td>\n",
       "      <td>Manhan River</td>\n",
       "      <td>1.287000</td>\n",
       "      <td>1.000090e+13</td>\n",
       "      <td>17.122821</td>\n",
       "      <td>LINESTRING (685916.356 4674686.767, 685909.534...</td>\n",
       "      <td>0.5</td>\n",
       "    </tr>\n",
       "    <tr>\n",
       "      <th>3395</th>\n",
       "      <td>(10, 20]</td>\n",
       "      <td>Manhan River</td>\n",
       "      <td>0.810000</td>\n",
       "      <td>1.000090e+13</td>\n",
       "      <td>17.194588</td>\n",
       "      <td>LINESTRING (686321.821 4675175.658, 686321.94 ...</td>\n",
       "      <td>0.1</td>\n",
       "    </tr>\n",
       "    <tr>\n",
       "      <th>28899</th>\n",
       "      <td>(0, 10]</td>\n",
       "      <td>None</td>\n",
       "      <td>0.451000</td>\n",
       "      <td>1.000090e+13</td>\n",
       "      <td>1.623840</td>\n",
       "      <td>LINESTRING (686946.737 4677515.739, 686970.178...</td>\n",
       "      <td>0.1</td>\n",
       "    </tr>\n",
       "    <tr>\n",
       "      <th>30330</th>\n",
       "      <td>(10, 20]</td>\n",
       "      <td>Sodom Brook</td>\n",
       "      <td>1.836000</td>\n",
       "      <td>1.000090e+13</td>\n",
       "      <td>10.077749</td>\n",
       "      <td>LINESTRING (684023.353 4685460.002, 684035.541...</td>\n",
       "      <td>0.1</td>\n",
       "    </tr>\n",
       "    <tr>\n",
       "      <th>10928</th>\n",
       "      <td>(0, 10]</td>\n",
       "      <td>Potash Brook</td>\n",
       "      <td>0.152000</td>\n",
       "      <td>1.000090e+13</td>\n",
       "      <td>3.265634</td>\n",
       "      <td>LINESTRING (687369.351 4678263.512, 687359.502...</td>\n",
       "      <td>0.1</td>\n",
       "    </tr>\n",
       "    <tr>\n",
       "      <th>...</th>\n",
       "      <td>...</td>\n",
       "      <td>...</td>\n",
       "      <td>...</td>\n",
       "      <td>...</td>\n",
       "      <td>...</td>\n",
       "      <td>...</td>\n",
       "      <td>...</td>\n",
       "    </tr>\n",
       "    <tr>\n",
       "      <th>48851</th>\n",
       "      <td>(20, 30]</td>\n",
       "      <td>Green River</td>\n",
       "      <td>0.334000</td>\n",
       "      <td>1.000090e+13</td>\n",
       "      <td>21.247479</td>\n",
       "      <td>LINESTRING (690831.008 4731915.22, 690831.162 ...</td>\n",
       "      <td>0.2</td>\n",
       "    </tr>\n",
       "    <tr>\n",
       "      <th>29225</th>\n",
       "      <td>(0, 10]</td>\n",
       "      <td>None</td>\n",
       "      <td>0.379000</td>\n",
       "      <td>1.000090e+13</td>\n",
       "      <td>3.640280</td>\n",
       "      <td>LINESTRING (689065.271 4730080.6, 689066.862 4...</td>\n",
       "      <td>0.4</td>\n",
       "    </tr>\n",
       "    <tr>\n",
       "      <th>22392</th>\n",
       "      <td>(20, 30]</td>\n",
       "      <td>East Branch North River</td>\n",
       "      <td>1.188954</td>\n",
       "      <td>1.000090e+13</td>\n",
       "      <td>22.592855</td>\n",
       "      <td>LINESTRING (688506.336 4730694.625, 688508.993...</td>\n",
       "      <td>1.0</td>\n",
       "    </tr>\n",
       "    <tr>\n",
       "      <th>49159</th>\n",
       "      <td>(0, 10]</td>\n",
       "      <td>None</td>\n",
       "      <td>1.092000</td>\n",
       "      <td>1.000090e+13</td>\n",
       "      <td>2.466686</td>\n",
       "      <td>LINESTRING (690081.263 4732270.253, 690102.018...</td>\n",
       "      <td>0.1</td>\n",
       "    </tr>\n",
       "    <tr>\n",
       "      <th>51317</th>\n",
       "      <td>(0, 10]</td>\n",
       "      <td>Hibbard Brook</td>\n",
       "      <td>0.027000</td>\n",
       "      <td>1.000090e+13</td>\n",
       "      <td>3.435195</td>\n",
       "      <td>LINESTRING (692252 4731045.432, 692249.007 473...</td>\n",
       "      <td>0.7</td>\n",
       "    </tr>\n",
       "  </tbody>\n",
       "</table>\n",
       "<p>1552 rows × 7 columns</p>\n",
       "</div>"
      ],
      "text/plain": [
       "            Bin                GNIS_Name  LengthKM     NHDPlusID     WidthM  \\\n",
       "18396  (10, 20]             Manhan River  1.287000  1.000090e+13  17.122821   \n",
       "3395   (10, 20]             Manhan River  0.810000  1.000090e+13  17.194588   \n",
       "28899   (0, 10]                     None  0.451000  1.000090e+13   1.623840   \n",
       "30330  (10, 20]              Sodom Brook  1.836000  1.000090e+13  10.077749   \n",
       "10928   (0, 10]             Potash Brook  0.152000  1.000090e+13   3.265634   \n",
       "...         ...                      ...       ...           ...        ...   \n",
       "48851  (20, 30]              Green River  0.334000  1.000090e+13  21.247479   \n",
       "29225   (0, 10]                     None  0.379000  1.000090e+13   3.640280   \n",
       "22392  (20, 30]  East Branch North River  1.188954  1.000090e+13  22.592855   \n",
       "49159   (0, 10]                     None  1.092000  1.000090e+13   2.466686   \n",
       "51317   (0, 10]            Hibbard Brook  0.027000  1.000090e+13   3.435195   \n",
       "\n",
       "                                                geometry  coverage  \n",
       "18396  LINESTRING (685916.356 4674686.767, 685909.534...       0.5  \n",
       "3395   LINESTRING (686321.821 4675175.658, 686321.94 ...       0.1  \n",
       "28899  LINESTRING (686946.737 4677515.739, 686970.178...       0.1  \n",
       "30330  LINESTRING (684023.353 4685460.002, 684035.541...       0.1  \n",
       "10928  LINESTRING (687369.351 4678263.512, 687359.502...       0.1  \n",
       "...                                                  ...       ...  \n",
       "48851  LINESTRING (690831.008 4731915.22, 690831.162 ...       0.2  \n",
       "29225  LINESTRING (689065.271 4730080.6, 689066.862 4...       0.4  \n",
       "22392  LINESTRING (688506.336 4730694.625, 688508.993...       1.0  \n",
       "49159  LINESTRING (690081.263 4732270.253, 690102.018...       0.1  \n",
       "51317  LINESTRING (692252 4731045.432, 692249.007 473...       0.7  \n",
       "\n",
       "[1552 rows x 7 columns]"
      ]
     },
     "execution_count": 42,
     "metadata": {},
     "output_type": "execute_result"
    }
   ],
   "source": [
    "basin_crop[basin_crop['coverage'] != 0]"
   ]
  },
  {
   "cell_type": "code",
   "execution_count": null,
   "id": "aec5509e-0024-46d7-9fae-4a2ccddb809b",
   "metadata": {},
   "outputs": [],
   "source": [
    "# Find width bins present in cropped hydrography\n",
    "bins = list(np.unique(basin_crop.Bin))\n",
    "bins"
   ]
  },
  {
   "cell_type": "code",
   "execution_count": null,
   "id": "1fff74dd-7029-4a98-a938-ce9a396ec3d8",
   "metadata": {},
   "outputs": [],
   "source": [
    "# Make sorted list of bins present\n",
    "ordered = []\n",
    "for binn in order:\n",
    "    if binn in bins:\n",
    "        ordered.append(binn)\n",
    "ordered"
   ]
  },
  {
   "cell_type": "code",
   "execution_count": 39,
   "id": "7f48b8a1-3470-49f5-a2aa-731eb6ff569a",
   "metadata": {},
   "outputs": [],
   "source": [
    "mean_cov = basin_crop.groupby('Bin')['coverage'].mean()"
   ]
  },
  {
   "cell_type": "code",
   "execution_count": null,
   "id": "a7286a1f-0744-4b9d-a3e0-ed272d289135",
   "metadata": {},
   "outputs": [],
   "source": [
    "print(mean_cov)"
   ]
  },
  {
   "cell_type": "code",
   "execution_count": null,
   "id": "4b67ee56-9fbc-4080-a9bf-2fec9de96f19",
   "metadata": {},
   "outputs": [],
   "source": [
    "# plt.scatter(x=ordered, y=coverage, c='k')\n",
    "fig, ax = plt.subplots(figsize=(12,8))\n",
    "plt.scatter(x=mean_cov.keys(), y=mean_cov.values, c='k')\n",
    "plt.title('Mean percent of reach detected in ' + huc4 +' by \\n'\n",
    "          + tile_name)\n",
    "plt.xticks(rotation=-45);\n",
    "\n",
    "# Set number of ticks for x-axis\n",
    "ax.set_xticks(range(len(ordered)))\n",
    "# Set ticks labels for x-axis\n",
    "ax.set_xticklabels(ordered)\n",
    "\n",
    "plt.xlabel('Bankfull Width (m)')\n",
    "plt.ylabel('Percent Detected')\n",
    "# plt.savefig(fname='./figures_for_unit_test/one_tile_'+ huc4 +'.png', bbox_inches='tight')"
   ]
  },
  {
   "cell_type": "markdown",
   "id": "6e3d24c9-c20f-46aa-9fdd-c2cdc3a827b4",
   "metadata": {
    "tags": []
   },
   "source": [
    "#### Sanity check"
   ]
  },
  {
   "cell_type": "code",
   "execution_count": 47,
   "id": "351a36f9-34e7-48d5-9096-4ebe1f3a9f32",
   "metadata": {},
   "outputs": [],
   "source": [
    "palette = {3: 'cornflowerblue', 4: 'blue', 5: 'hotpink',\n",
    "           6: 'darkkhaki', 7: 'springgreen'} # 6: 'lightsalmon', 7: 'lightblue'"
   ]
  },
  {
   "cell_type": "code",
   "execution_count": 46,
   "id": "adb4138f-1330-4dfd-b47f-822b251efbc0",
   "metadata": {
    "tags": []
   },
   "outputs": [],
   "source": [
    "# Extract just one buffered reach\n",
    "conn = basin[basin['NHDPlusID'] == 10000900065602]\n",
    "# conn = basin[basin['NHDPlusID'] == 10000900041465]"
   ]
  },
  {
   "cell_type": "code",
   "execution_count": 48,
   "id": "99d72546-2013-4a60-ab96-dfa8a62481be",
   "metadata": {},
   "outputs": [],
   "source": [
    "conn_buf = conn.copy()"
   ]
  },
  {
   "cell_type": "code",
   "execution_count": 49,
   "id": "4834df2e-2778-4182-8585-6ea3c0ebd632",
   "metadata": {},
   "outputs": [],
   "source": [
    "conn_buf['reach_buffer'] = conn_buf.buffer(distance=(conn_buf.WidthM/2),cap_style='flat')"
   ]
  },
  {
   "cell_type": "code",
   "execution_count": 50,
   "id": "ccb7be9a-5681-4a83-927b-5a8665dd6567",
   "metadata": {},
   "outputs": [],
   "source": [
    "conn_buf = conn_buf.set_geometry('reach_buffer')"
   ]
  },
  {
   "cell_type": "code",
   "execution_count": 51,
   "id": "3c02b2af-f832-47a9-918a-47b7d18a353b",
   "metadata": {},
   "outputs": [],
   "source": [
    "bounds = conn_buf.bounds\n",
    "bounds = list(bounds.itertuples(index=False, name=None))[0]"
   ]
  },
  {
   "cell_type": "code",
   "execution_count": 52,
   "id": "e65b46aa-c6d2-4f10-a1a0-a079685e0c78",
   "metadata": {},
   "outputs": [],
   "source": [
    "clipped = pseudo.clip(bounds)\n",
    "clipped_all = clipped.union_all()"
   ]
  },
  {
   "cell_type": "code",
   "execution_count": 53,
   "id": "29c98c21-dbb0-48ed-9f49-ef23eb3dc127",
   "metadata": {},
   "outputs": [
    {
     "name": "stderr",
     "output_type": "stream",
     "text": [
      "/work/pi_cjgleason_umass_edu/.conda/envs/narrowPIXC/lib/python3.12/site-packages/geopandas/geodataframe.py:1819: SettingWithCopyWarning: \n",
      "A value is trying to be set on a copy of a slice from a DataFrame.\n",
      "Try using .loc[row_indexer,col_indexer] = value instead\n",
      "\n",
      "See the caveats in the documentation: https://pandas.pydata.org/pandas-docs/stable/user_guide/indexing.html#returning-a-view-versus-a-copy\n",
      "  super().__setitem__(key, value)\n"
     ]
    }
   ],
   "source": [
    "# Segment the reach\n",
    "conn.loc[:,'segments'] = conn.apply(func=segmentReach, axis=1) "
   ]
  },
  {
   "cell_type": "code",
   "execution_count": 54,
   "id": "cbb1b7df-b342-40a0-8767-d50273043052",
   "metadata": {},
   "outputs": [],
   "source": [
    "# Check that this reach and the pseudo-pixels are in the same crs\n",
    "assert conn.crs == pseudo.crs"
   ]
  },
  {
   "cell_type": "code",
   "execution_count": 55,
   "id": "16058a06-3d89-4675-9741-062b131b3ad5",
   "metadata": {},
   "outputs": [],
   "source": [
    "# conn = conn.drop(columns='geometry').explode(column='segments').set_geometry('segments')\n",
    "conn = conn.explode(column='segments').set_geometry('segments')"
   ]
  },
  {
   "cell_type": "code",
   "execution_count": 56,
   "id": "2e29c4ab-1f30-4901-99c6-03d785827ab3",
   "metadata": {},
   "outputs": [],
   "source": [
    "# Make GeoSeries with just segments\n",
    "segments = gpd.GeoSeries(data=conn['segments'], crs=conn.crs)"
   ]
  },
  {
   "cell_type": "code",
   "execution_count": 58,
   "id": "a41642a6-63c6-4c9e-a45f-699ff248f2d8",
   "metadata": {},
   "outputs": [],
   "source": [
    "# Buffer segments by 1/2 the calculated width\n",
    "# CITE BEIGER\n",
    "segments = segments.buffer(distance=(conn.WidthM/2),cap_style='flat')"
   ]
  },
  {
   "cell_type": "code",
   "execution_count": 59,
   "id": "e9392290-ee7d-42ce-8339-71296f90e3d8",
   "metadata": {},
   "outputs": [],
   "source": [
    "conn['reach_buffer'] = conn.buffer(distance=(conn.WidthM/2),cap_style='flat')"
   ]
  },
  {
   "cell_type": "code",
   "execution_count": 60,
   "id": "bb1590af-aebd-4553-ad6d-3726b90a43c9",
   "metadata": {},
   "outputs": [],
   "source": [
    "conn = conn.set_geometry('reach_buffer')"
   ]
  },
  {
   "cell_type": "code",
   "execution_count": 61,
   "id": "dfcee5b3-1f3d-4c6f-842b-b9d038038e8d",
   "metadata": {},
   "outputs": [
    {
     "data": {
      "text/plain": [
       "<Axes: >"
      ]
     },
     "execution_count": 61,
     "metadata": {},
     "output_type": "execute_result"
    },
    {
     "data": {
      "image/png": "[encoded data removed]",
      "text/plain": [
       "<Figure size 640x480 with 1 Axes>"
      ]
     },
     "metadata": {},
     "output_type": "display_data"
    }
   ],
   "source": [
    "conn.plot(cmap='gnuplot')"
   ]
  },
  {
   "cell_type": "code",
   "execution_count": 62,
   "id": "598f58de-e028-4fb1-8d49-bf756d63cb20",
   "metadata": {},
   "outputs": [],
   "source": [
    "coverage = {}\n",
    "\n",
    "for i in range(len(conn)):\n",
    "    coverage[i] = clipped_all.intersection(segments.iloc[i]).area/segments.iloc[i].area"
   ]
  },
  {
   "cell_type": "code",
   "execution_count": 63,
   "id": "7c85f87a-d49d-48b9-b201-55098940d94c",
   "metadata": {},
   "outputs": [
    {
     "data": {
      "text/plain": [
       "{0: 0.6182082577274667,\n",
       " 1: 0.628807257615828,\n",
       " 2: 0.6648718636442351,\n",
       " 3: 0.7401895806316029,\n",
       " 4: 0.6855842540914756,\n",
       " 5: 0.6757409636124224,\n",
       " 6: 0.7426461021086365,\n",
       " 7: 0.7553141150377743,\n",
       " 8: 0.7805047621168238,\n",
       " 9: 0.7766039669974796}"
      ]
     },
     "execution_count": 63,
     "metadata": {},
     "output_type": "execute_result"
    }
   ],
   "source": [
    "coverage"
   ]
  },
  {
   "cell_type": "code",
   "execution_count": 65,
   "id": "5e04a203-69be-4e3f-ac84-9abc1fce0709",
   "metadata": {},
   "outputs": [
    {
     "data": {
      "text/plain": [
       "(4691328.118653536, 4691704.007606101)"
      ]
     },
     "execution_count": 65,
     "metadata": {},
     "output_type": "execute_result"
    },
    {
     "data": {
      "image/png": "[encoded data removed]",
      "text/plain": [
       "<Figure size 800x800 with 1 Axes>"
      ]
     },
     "metadata": {},
     "output_type": "display_data"
    }
   ],
   "source": [
    "nums = list(np.unique(clipped.klass).astype('int'))\n",
    "labels = [codes[x] for x in nums]\n",
    "\n",
    "# Make cmap\n",
    "cmap = colors.ListedColormap([palette[x] for x in nums])\n",
    "\n",
    "fig, ax = plt.subplots(figsize=(8,8))\n",
    "\n",
    "clipped.plot(ax=ax, column='klass',\n",
    "             cmap=cmap)\n",
    "conn.plot(ax=ax, cmap='hsv', alpha=0.7)\n",
    "\n",
    "plt.xlim(bounds[0], bounds[2])\n",
    "plt.ylim(bounds[1], bounds[3])"
   ]
  }
 ],
 "metadata": {
  "kernelspec": {
   "display_name": "Python [conda env:.conda-narrowPIXC]",
   "language": "python",
   "name": "conda-env-.conda-narrowPIXC-py"
  },
  "language_info": {
   "codemirror_mode": {
    "name": "ipython",
    "version": 3
   },
   "file_extension": ".py",
   "mimetype": "text/x-python",
   "name": "python",
   "nbconvert_exporter": "python",
   "pygments_lexer": "ipython3",
   "version": "3.12.4"
  }
 },
 "nbformat": 4,
 "nbformat_minor": 5
}
