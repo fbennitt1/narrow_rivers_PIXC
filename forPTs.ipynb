{
 "cells": [
  {
   "cell_type": "code",
   "execution_count": 1,
   "id": "7226f9cd-29c0-4004-96f3-b5e0454a508f",
   "metadata": {},
   "outputs": [
    {
     "name": "stderr",
     "output_type": "stream",
     "text": [
      "/work/pi_cjgleason_umass_edu/.conda/envs/narrowPIXC/lib/python3.12/site-packages/tqdm/auto.py:21: TqdmWarning: IProgress not found. Please update jupyter and ipywidgets. See https://ipywidgets.readthedocs.io/en/stable/user_install.html\n",
      "  from .autonotebook import tqdm as notebook_tqdm\n"
     ]
    }
   ],
   "source": [
    "from os import listdir\n",
    "from os.path import isfile, join\n",
    "# from shapely.geometry import *\n",
    "# from shapely.wkt import loads\n",
    "# from shapely import LineString, MultiPoint\n",
    "# from shapely.ops import nearest_points, split, snap, unary_union\n",
    "\n",
    "import contextily as cx\n",
    "import earthaccess\n",
    "import geopandas as gpd\n",
    "import matplotlib.pyplot as plt\n",
    "from matplotlib import colors\n",
    "import numpy as np\n",
    "import os\n",
    "import pandas as pd\n",
    "import xarray as xr\n",
    "import shapely"
   ]
  },
  {
   "cell_type": "markdown",
   "id": "b57d8566-bcbc-45e4-923d-1abc6d18f4a2",
   "metadata": {},
   "source": [
    "**To find where to change the variables to run, ctrl + f \"SET\"**"
   ]
  },
  {
   "cell_type": "markdown",
   "id": "ac30b87c-c4fa-42c9-920d-3bae63cbf0ad",
   "metadata": {},
   "source": [
    "### Read in and prep NHD"
   ]
  },
  {
   "cell_type": "code",
   "execution_count": 2,
   "id": "af61cbc2-4cb4-4a3a-b43f-a2e12a956273",
   "metadata": {},
   "outputs": [],
   "source": [
    "def readNHD(index):\n",
    "    ## Set-up\n",
    "    mdata_path = '/nas/cee-water/cjgleason/fiona/narrow_rivers_PIXC/data/'\n",
    "# NEED WITH WATERBODY FOR CUSHMAN!!!!\n",
    "    prep_path = '/nas/cee-water/cjgleason/fiona/narrow_rivers_PIXC_data/NHD_prepped/' # _with_waterbody\n",
    "\n",
    "    # Define dtypes for lookup tables to preserve leading zeros\n",
    "    dtype_dic= {'HUC4': str, 'HUC2': str, 'toBasin': str, 'level': str}\n",
    "    # Read in HUC lookup table\n",
    "    lookup = pd.read_csv(os.path.join(mdata_path, 'HUC4_lookup_no_great_lakes.csv'), dtype=dtype_dic)\n",
    "\n",
    "    # Get current HUC2 and HUC4 IDs\n",
    "    hu2 = 'HUC2_' + lookup.loc[index,'HUC4'][0:2]\n",
    "    hu4 = 'NHDPLUS_H_' + lookup.loc[index,'HUC4'] + '_HU4_GDB'\n",
    "    \n",
    "    # Set data filepath\n",
    "# NEED WITH WATERBODY FOR CUSHMAN!!!!!\n",
    "    file_path = os.path.join(prep_path, hu2, hu4 + '_prepped.gpkg') # _with_waterbody\n",
    "\n",
    "    ## Read in prepped NHD flowlines\n",
    "    features = ['NHDPlusID', 'GNIS_Name', 'LengthKM', 'WidthM', 'Bin', 'geometry']\n",
    "    basin = gpd.read_file(filename=file_path, columns=features, engine='pyogrio')\n",
    "\n",
    "    # Drop reaches that are shorter than their width\n",
    "    basin = basin[basin['LengthKM']*1000 > basin['WidthM']]\n",
    "    \n",
    "    # Make geometry 2D LineStrings\n",
    "    basin['geometry'] = basin.geometry.explode().force_2d()\n",
    "    return basin"
   ]
  },
  {
   "cell_type": "code",
   "execution_count": 1,
   "id": "c1bbe625-84d0-402c-8c64-a2d4fc8d8e1b",
   "metadata": {},
   "outputs": [],
   "source": [
    "# Set slurm job index\n",
    "# (see: nas/cee-water/cjgleason/fiona/narrow_rivers_PIXC/data/HUC4_lookup_no_great_lakes.csv)\n",
    "i = 4 # HUC4 0108, Connecticut"
   ]
  },
  {
   "cell_type": "code",
   "execution_count": 4,
   "id": "a5809006-6e45-49d3-88b8-cec416c9a991",
   "metadata": {},
   "outputs": [],
   "source": [
    "basin = readNHD(index=i)"
   ]
  },
  {
   "cell_type": "code",
   "execution_count": null,
   "id": "98d5232d-f123-43d8-87b5-2fbd94eede74",
   "metadata": {},
   "outputs": [],
   "source": [
    "# basin"
   ]
  },
  {
   "cell_type": "code",
   "execution_count": null,
   "id": "0a429fc9-a8a4-4143-b275-9dedeb83b210",
   "metadata": {},
   "outputs": [],
   "source": [
    "# names = list(basin.GNIS_Name.unique())\n",
    "# names"
   ]
  },
  {
   "cell_type": "code",
   "execution_count": null,
   "id": "b095b603-78ba-4fb4-9551-539b36b8b97d",
   "metadata": {},
   "outputs": [],
   "source": [
    "# basin[(basin['GNIS_Name'] == 'Swift River') & (basin['WidthM'] < 25)]"
   ]
  },
  {
   "cell_type": "code",
   "execution_count": null,
   "id": "11071a67-8a2a-4115-89a0-5b34f0a5bfce",
   "metadata": {},
   "outputs": [],
   "source": [
    "# # Are any of the Swift River reaches under 20 m wide?\n",
    "\n",
    "# fig, ax = plt.subplots()\n",
    "# basin.plot(ax=ax)\n",
    "# basin[(basin['GNIS_Name'] == 'Ware River') \n",
    "#       & (basin['WidthM'] < 25)\n",
    "#      ].plot(ax=ax, color='r')\n",
    "\n",
    "# plt.xlim(-8100000, -8000000)\n",
    "# plt.ylim(5200000,5300000)"
   ]
  },
  {
   "cell_type": "markdown",
   "id": "e36299f2-a698-4739-bcaa-e2847103dc57",
   "metadata": {
    "tags": []
   },
   "source": [
    "#### Finding tiles with geolocation_qual < 4096 (CAN SKIP)"
   ]
  },
  {
   "cell_type": "markdown",
   "id": "8687a60a-b105-4796-9b25-708b9cac167a",
   "metadata": {
    "jp-MarkdownHeadingCollapsed": true,
    "tags": []
   },
   "source": [
    "##### Download (one-time)"
   ]
  },
  {
   "cell_type": "code",
   "execution_count": 5,
   "id": "0f39b07e-1590-464f-b614-450d6bf0dcb8",
   "metadata": {},
   "outputs": [],
   "source": [
    "granules = ['*_298_080L_*', '*_341_229R_*']"
   ]
  },
  {
   "cell_type": "markdown",
   "id": "5719a6f2-45d6-440e-96c1-41af4d411e4b",
   "metadata": {},
   "source": [
    "**Leaf off**"
   ]
  },
  {
   "cell_type": "code",
   "execution_count": null,
   "id": "1b72fddc-f036-4d5b-bbff-046711526ddd",
   "metadata": {},
   "outputs": [],
   "source": [
    "for granule in granules:\n",
    "    pixc_results = earthaccess.search_data(short_name = 'SWOT_L2_HR_PIXC_2.0',\n",
    "                                           temporal = ('2023-11-15 00:00:00', '2024-04-30 23:59:59'),\n",
    "                                           granule_name = granule) # Fort River\n",
    "    # pixc_results\n",
    "    # download\n",
    "earthaccess.download(pixc_results, '../data/small_rivers/mar_2024_ver_c/leaf_off/')"
   ]
  },
  {
   "cell_type": "markdown",
   "id": "38c651d4-efce-4e5b-8a89-6c45a252c9e2",
   "metadata": {},
   "source": [
    "**Leaf on**"
   ]
  },
  {
   "cell_type": "code",
   "execution_count": null,
   "id": "6951551c-a6e0-4250-95b5-14b111652240",
   "metadata": {},
   "outputs": [],
   "source": [
    "for granule in granules:\n",
    "    \n",
    "    pixc_results = earthaccess.search_data(short_name = 'SWOT_L2_HR_PIXC_2.0',\n",
    "                                           temporal = ('2024-05-01 00:00:00', '2024-08-05 23:59:59'),\n",
    "                                           # granule_name = '*_341_229R_*'\n",
    "                                           granule_name = granule) # Fort River\n",
    "    # pixc_results\n",
    "    # download\n",
    "    earthaccess.download(pixc_results, '../data/small_rivers/mar_2024_ver_c/leaf_on/')"
   ]
  },
  {
   "cell_type": "markdown",
   "id": "d144319b-877d-4610-9434-f1eab35f13de",
   "metadata": {},
   "source": [
    "**#########\n",
    "Need to automate only downloading the latest version of each granule**\n",
    "    For now, deleting earlier versions (e.g. 02 when 03 is present) and\n",
    "    original when reprocessed is present:\n",
    "            \"Where PIC0 and PGC0 products both exist for a particular time,\n",
    "            users are advised to use the PGC0 products. This is expected\n",
    "            when reprocessed LR products are generated for cycles 7-9.\""
   ]
  },
  {
   "cell_type": "code",
   "execution_count": null,
   "id": "4f3ab74c-ee2f-47c4-b4f3-63d9de426d94",
   "metadata": {
    "tags": []
   },
   "outputs": [],
   "source": [
    "# Paths to PIXC files\n",
    "leaf_on = ['../data/small_rivers/mar_2024_ver_c/SWOT_L2_HR_PIXC_018_298_080L_20240720T131306_20240720T131317_PIC0_03.nc',\n",
    "           '../data/small_rivers/mar_2024_ver_c/SWOT_L2_HR_PIXC_016_341_229R_20240610T090004_20240610T090015_PIC0_01.nc',\n",
    "           '../data/small_rivers/mar_2024_ver_c/SWOT_L2_HR_PIXC_017_341_229R_20240701T054507_20240701T054518_PIC0_01.nc',\n",
    "           '../data/small_rivers/mar_2024_ver_c/SWOT_L2_HR_PIXC_018_341_229R_20240722T023012_20240722T023023_PIC0_01.nc']\n",
    "# I checked, and there were still no leaves in late April 2024\n",
    "leaf_off = ['../data/small_rivers/mar_2024_ver_c/SWOT_L2_HR_PIXC_012_298_080L_20240317T084237_20240317T084248_PIC0_01.nc',\n",
    "            '../data/small_rivers/mar_2024_ver_c/SWOT_L2_HR_PIXC_013_298_080L_20240407T052741_20240407T052752_PIC0_01.nc',\n",
    "            '../data/small_rivers/mar_2024_ver_c/SWOT_L2_HR_PIXC_014_298_080L_20240428T021247_20240428T021258_PIC0_01.nc',\n",
    "            '../data/small_rivers/mar_2024_ver_c/SWOT_L2_HR_PIXC_013_341_229R_20240408T184449_20240408T184500_PIC0_01.nc',\n",
    "            '../data/small_rivers/mar_2024_ver_c/SWOT_L2_HR_PIXC_014_341_229R_20240429T152954_20240429T153005_PIC0_01.nc']"
   ]
  },
  {
   "cell_type": "markdown",
   "id": "fd3fa94c-7b51-433b-a251-211e6996335d",
   "metadata": {
    "tags": []
   },
   "source": [
    "##### Read in and look at flags"
   ]
  },
  {
   "cell_type": "code",
   "execution_count": null,
   "id": "99e0306c-d99e-4c19-8d7f-9ad2923dc91b",
   "metadata": {},
   "outputs": [],
   "source": [
    "# Read in xarray\n",
    "ds_PIXC = xr.open_mfdataset(paths=leaf_off[4], group = 'pixel_cloud', engine='h5netcdf')"
   ]
  },
  {
   "cell_type": "code",
   "execution_count": null,
   "id": "7535fc99-ece6-4c4a-a4d0-a4ab957ed71d",
   "metadata": {},
   "outputs": [],
   "source": [
    "ds_PIXC"
   ]
  },
  {
   "cell_type": "code",
   "execution_count": null,
   "id": "c291382a-70ed-4e77-9abd-b6f2c82706f3",
   "metadata": {},
   "outputs": [],
   "source": [
    "counts = pd.DataFrame(ds_PIXC.geolocation_qual).value_counts().sort_index()\n",
    "counts"
   ]
  },
  {
   "cell_type": "code",
   "execution_count": null,
   "id": "34c0bf45-5a63-411f-9c2e-8a43c1e1edc5",
   "metadata": {},
   "outputs": [],
   "source": [
    "counts.sum()"
   ]
  },
  {
   "cell_type": "markdown",
   "id": "09c1981c-4015-4206-bb92-348a8b2ee8aa",
   "metadata": {},
   "source": [
    "#### Read in Pixel Cloud"
   ]
  },
  {
   "cell_type": "code",
   "execution_count": 21,
   "id": "fb26edcb-88df-4fe9-8d0d-e2a2b4e1547b",
   "metadata": {},
   "outputs": [],
   "source": [
    "def bitwiseMask(ds):\n",
    "    # Fow now, eliminate the really bad stuff\n",
    "    mask = np.where(np.logical_and(ds.classification > 1, ds.geolocation_qual < 2**12))[0]\n",
    "    \n",
    "    # # If flags < 4 exist, use those to construct mask, discard land class\n",
    "    # if np.where(gdf.geolocation_qual < 4)[0].size != 0:\n",
    "    #     mask = np.where(np.logical_and(gdf.classification > 1, gdf.geolocation_qual < 4))[0]\n",
    "    # # If flags < 4 do not exist, construct mask with xovercal_suspect, discards land class\n",
    "    # else:\n",
    "    #     flags = np.logical_or.reduce([gdf.geolocation_qual == 64,\n",
    "    #                                   gdf.geolocation_qual == 65,\n",
    "    #                                   gdf.geolocation_qual == 66,\n",
    "    #                                   gdf.geolocation_qual == 67])\n",
    "    #     mask = np.where(np.logical_and(gdf.classification > 1, flags))[0]\n",
    "    print(mask.shape)\n",
    "    return mask"
   ]
  },
  {
   "cell_type": "code",
   "execution_count": 22,
   "id": "066b95fe-c1df-490f-8566-b47ae98a4d8b",
   "metadata": {},
   "outputs": [],
   "source": [
    "def makeGDF(pixc):\n",
    "    # This function takes the pixel cloud, makes a GeoDataFrame,\n",
    "    # renames columns as needed, projects the CRS, and returns\n",
    "    # the GDF \n",
    "    \n",
    "    # Create GDF\n",
    "    gdf_PIXC = gpd.GeoDataFrame(ds_PIXC.classification[mask],\n",
    "                        geometry=gpd.points_from_xy(ds_PIXC.longitude[mask],\n",
    "                                                    ds_PIXC.latitude[mask]),\n",
    "                        crs=\"EPSG:4326\") # PIXC has no native CRS, setting same as River_SP\n",
    "\n",
    "    gdf_PIXC.rename(columns={gdf_PIXC.columns[0]: 'klass'}, inplace=True)\n",
    "    \n",
    "    # Convert the crs to WGS 84 / Pseudo-Mercator\n",
    "    gdf_PIXC = gdf_PIXC.to_crs(epsg=3857)\n",
    "    return gdf_PIXC"
   ]
  },
  {
   "cell_type": "code",
   "execution_count": 23,
   "id": "2714412b-307f-4339-afc3-754fbca812e7",
   "metadata": {},
   "outputs": [],
   "source": [
    "# Set up\n",
    "folder = '/nas/cee-water/cjgleason/fiona/data/small_rivers/mar_2024_ver_c/'\n",
    "# SET SEASON\n",
    "season = 'leaf_off' # 'leaf_off'\n",
    "# SET LABEL\n",
    "on_off = 'Leaf off:' # match above line"
   ]
  },
  {
   "cell_type": "code",
   "execution_count": 24,
   "id": "f75c5f84-0817-4bb7-af78-8df5c38bd037",
   "metadata": {},
   "outputs": [],
   "source": [
    "# Get all granules for season\n",
    "files = listdir(join(folder, season))\n",
    "\n",
    "# Remove hidden checkpoint folder\n",
    "if '.ipynb_checkpoints' in files:\n",
    "    files.remove('.ipynb_checkpoints')"
   ]
  },
  {
   "cell_type": "code",
   "execution_count": 25,
   "id": "4cb69274-5910-48b3-9aec-fee16e2245b7",
   "metadata": {},
   "outputs": [
    {
     "data": {
      "text/plain": [
       "['SWOT_L2_HR_PIXC_014_298_080L_20240428T021247_20240428T021258_PIC0_01.nc',\n",
       " 'SWOT_L2_HR_PIXC_014_341_229R_20240429T152954_20240429T153005_PIC0_01.nc',\n",
       " 'SWOT_L2_HR_PIXC_010_341_229R_20240206T042936_20240206T042947_PIC0_01.nc',\n",
       " 'SWOT_L2_HR_PIXC_007_341_229R_20231205T141420_20231205T141431_PGC0_01.nc',\n",
       " 'SWOT_L2_HR_PIXC_011_341_229R_20240227T011441_20240227T011452_PIC0_01.nc',\n",
       " 'SWOT_L2_HR_PIXC_013_341_229R_20240408T184449_20240408T184500_PIC0_01.nc',\n",
       " 'SWOT_L2_HR_PIXC_007_298_080L_20231204T005714_20231204T005725_PGC0_01.nc',\n",
       " 'SWOT_L2_HR_PIXC_009_298_080L_20240114T182724_20240114T182735_PGC0_01.nc',\n",
       " 'SWOT_L2_HR_PIXC_010_298_080L_20240204T151229_20240204T151241_PIC0_01.nc',\n",
       " 'SWOT_L2_HR_PIXC_012_298_080L_20240317T084237_20240317T084248_PIC0_01.nc',\n",
       " 'SWOT_L2_HR_PIXC_013_298_080L_20240407T052741_20240407T052752_PIC0_01.nc',\n",
       " 'SWOT_L2_HR_PIXC_011_298_080L_20240225T115735_20240225T115746_PIC0_02.nc',\n",
       " 'SWOT_L2_HR_PIXC_007_341_229R_20231205T141420_20231205T141431_PIC0_01.nc']"
      ]
     },
     "execution_count": 25,
     "metadata": {},
     "output_type": "execute_result"
    }
   ],
   "source": [
    "files"
   ]
  },
  {
   "cell_type": "code",
   "execution_count": 26,
   "id": "b3b23099-2293-4409-90b7-9e655c8dc734",
   "metadata": {},
   "outputs": [
    {
     "name": "stdout",
     "output_type": "stream",
     "text": [
      "0\n",
      "(1425915,)\n",
      "1\n",
      "(1552029,)\n",
      "2\n",
      "(1665038,)\n",
      "3\n",
      "(1585773,)\n",
      "4\n",
      "(1403521,)\n",
      "5\n",
      "(0,)\n",
      "6\n",
      "(1321769,)\n",
      "7\n",
      "(1745775,)\n",
      "8\n",
      "(1507457,)\n",
      "9\n",
      "(1484858,)\n",
      "10\n",
      "(1639279,)\n",
      "11\n",
      "(1286163,)\n",
      "12\n",
      "(1585459,)\n"
     ]
    }
   ],
   "source": [
    "# Need to figure out how to open multiple xarrays with different\n",
    "# dimensions, but for now:\n",
    "\n",
    "# Open all granules for given season and store in list\n",
    "d = []\n",
    "\n",
    "for i in range(len(files)):\n",
    "    print(i)\n",
    "    # Read in xarray\n",
    "    ds_PIXC = xr.open_mfdataset(paths=join(folder, season, files[i]),\n",
    "                            group='pixel_cloud', engine='h5netcdf')\n",
    "    if i == 0:\n",
    "        # Make dict for legend labels\n",
    "        flags = ds_PIXC.classification.flag_meanings.split() # extract each flag meaning\n",
    "        codes = {idx:k for idx, k in enumerate(flags, start=1)}\n",
    "    \n",
    "    # Make mask\n",
    "    mask = bitwiseMask(ds_PIXC)\n",
    "    \n",
    "    # If dataframe not empty after filtering\n",
    "    if mask.shape != (0,):\n",
    "        # Make PIXC\n",
    "        gdf_PIXC = makeGDF(pixc=ds_PIXC)\n",
    "        # Append to list\n",
    "        d.append(gdf_PIXC)"
   ]
  },
  {
   "cell_type": "code",
   "execution_count": 27,
   "id": "e628faf6-0300-4651-bebf-ec3d8826bb96",
   "metadata": {},
   "outputs": [],
   "source": [
    "# Merge masked GeoDataFrames\n",
    "gdf_PIXC = pd.concat(d)"
   ]
  },
  {
   "cell_type": "markdown",
   "id": "74b9cfbe-076f-4418-af77-5ab7abb5425b",
   "metadata": {
    "tags": []
   },
   "source": [
    "#### Sjoin"
   ]
  },
  {
   "cell_type": "code",
   "execution_count": 28,
   "id": "57d607b7-1f4b-4788-8300-2a896fc5dbe1",
   "metadata": {},
   "outputs": [],
   "source": [
    "# Reaches for PTs\n",
    "lower_fort = [10000900041465, 10000900053916, 10000900041464, 10000900016682,\n",
    "        10000900090995, 10000900090997, 10000900078861, 10000900004532,\n",
    "        10000900004534, 10000900016914, 10000900091439, 10000900041902,\n",
    "        10000900079115, 10000900029888] # last reach here crosses rail trail\n",
    "\n",
    "upper_fort = [10000900091704,\n",
    "              # 10000900042159, # Not in prepped data, filtered as waterbody\n",
    "              10000900029890, 10000900042160,\n",
    "              10000900029892, 10000900054624, 10000900005060, 10000900054628,\n",
    "              10000900067144, 10000900079368, 10000900005058, 10000900017461,\n",
    "              10000900005059, 10000900091709, 10000900029896, 10000900017460,\n",
    "              10000900054626] \n",
    "        \n",
    "cushman = [10000900091444, 10000900091445, 10000900054636,\n",
    "           10000900042171, 10000900005063,10000900067147, 10000900042169,\n",
    "           10000900029899, 10000900079371, 10000900005062, 10000900017467,\n",
    "           10000900054634, 10000900054635, 10000900017468, 10000900042170,\n",
    "           10000900054639, 10000900017746]\n",
    "\n",
    "# This is the beaver marsh: 10000900042169, 10000900029899, 10000900079371,\n",
    "# 10000900005062, 10000900017467, 10000900054634, 10000900054635, 1000090001746, "
   ]
  },
  {
   "cell_type": "code",
   "execution_count": 29,
   "id": "438a1e0d-c205-4f68-a5a0-fff86303ff0b",
   "metadata": {},
   "outputs": [],
   "source": [
    "# Get just the reaches of interest\n",
    "# SET REACHES\n",
    "reaches = basin[basin['NHDPlusID'].isin(cushman)] #\n",
    "\n",
    "# SET LABEL\n",
    "river = 'cushman_brook' # 'upper_fort_river'"
   ]
  },
  {
   "cell_type": "code",
   "execution_count": 30,
   "id": "da79106a-78d0-4cf4-8e98-2ae9b52fe6e7",
   "metadata": {},
   "outputs": [],
   "source": [
    "# Get reach boundaries\n",
    "bounds = []\n",
    "for i in range(reaches.shape[0]-1):\n",
    "    pts = reaches.iloc[i,-1].boundary\n",
    "    bounds.append(pts)\n",
    "bounds = gpd.GeoSeries(bounds)"
   ]
  },
  {
   "cell_type": "code",
   "execution_count": 31,
   "id": "a0680e94-30f8-41a0-a9c2-0786595ee82d",
   "metadata": {},
   "outputs": [
    {
     "name": "stderr",
     "output_type": "stream",
     "text": [
      "/work/pi_cjgleason_umass_edu/.conda/envs/narrowPIXC/lib/python3.12/site-packages/geopandas/geodataframe.py:1819: SettingWithCopyWarning: \n",
      "A value is trying to be set on a copy of a slice from a DataFrame.\n",
      "Try using .loc[row_indexer,col_indexer] = value instead\n",
      "\n",
      "See the caveats in the documentation: https://pandas.pydata.org/pandas-docs/stable/user_guide/indexing.html#returning-a-view-versus-a-copy\n",
      "  super().__setitem__(key, value)\n"
     ]
    }
   ],
   "source": [
    "# Buffer reach by 1/2 channel width\n",
    "reaches['geometry'] = reaches['geometry'].buffer(distance=(reaches['WidthM']/2), cap_style='flat')"
   ]
  },
  {
   "cell_type": "code",
   "execution_count": 32,
   "id": "33702f39-83de-4828-bdf2-e47e82fbf636",
   "metadata": {},
   "outputs": [],
   "source": [
    "# Join pixel cloud and buffered reaches \n",
    "inside = gpd.sjoin(gdf_PIXC, reaches, how='inner', predicate='within').rename(columns={'index_right': 'segment'})"
   ]
  },
  {
   "cell_type": "code",
   "execution_count": 33,
   "id": "c8d95601-a160-4bfa-844e-87a1ffd97b4a",
   "metadata": {},
   "outputs": [
    {
     "data": {
      "text/plain": [
       "[10000900005063.0,\n",
       " 10000900054636.0,\n",
       " 10000900054639.0,\n",
       " 10000900017746.0,\n",
       " 10000900091444.0,\n",
       " 10000900091445.0,\n",
       " 10000900042170.0,\n",
       " 10000900042171.0]"
      ]
     },
     "execution_count": 33,
     "metadata": {},
     "output_type": "execute_result"
    }
   ],
   "source": [
    "# Which reaches have pixels?\n",
    "list(set(inside.NHDPlusID) & set(reaches.NHDPlusID))"
   ]
  },
  {
   "cell_type": "markdown",
   "id": "3f0c8b3b-7a69-4950-9581-a4c1707c870e",
   "metadata": {},
   "source": [
    "#### Plotting"
   ]
  },
  {
   "cell_type": "code",
   "execution_count": 72,
   "id": "c8298d9a-1c2a-4608-a91f-beed0a32a166",
   "metadata": {},
   "outputs": [
    {
     "data": {
      "text/plain": [
       "'/nas/cee-water/cjgleason/fiona/narrow_rivers_PIXC'"
      ]
     },
     "execution_count": 72,
     "metadata": {},
     "output_type": "execute_result"
    }
   ],
   "source": [
    "pwd"
   ]
  },
  {
   "cell_type": "code",
   "execution_count": 73,
   "id": "88a6b40c-bd03-45a1-861a-4470dee0e462",
   "metadata": {},
   "outputs": [],
   "source": [
    "outpath = './figures_for_PTs_2024_08_05/'"
   ]
  },
  {
   "cell_type": "code",
   "execution_count": 74,
   "id": "48696d25-ac17-41f3-9971-4015cf7deb27",
   "metadata": {},
   "outputs": [],
   "source": [
    "# Make color palette\n",
    "# palette = {2: 'darkolivegreen', 3: 'slateblue', 4: 'steelblue', 5: 'hotpink',\n",
    "#            6: 'saddlebrown', 7: 'darkslategray'}\n",
    "palette = {2: 'darkkhaki', 3: 'cornflowerblue', 4: 'blue', 5: 'hotpink',\n",
    "           6: 'lightsalmon', 7: 'lightblue'}"
   ]
  },
  {
   "cell_type": "code",
   "execution_count": null,
   "id": "d0b95fb8-617d-4f92-bacd-88d39ae6bf9b",
   "metadata": {},
   "outputs": [],
   "source": [
    "# Plot the full set of reaches\n",
    "# Get labels for plot\n",
    "nums = list(np.unique(inside.klass).astype('int'))\n",
    "labels = [codes[x] for x in nums]\n",
    "\n",
    "# Make cmap\n",
    "cmap = colors.ListedColormap([palette[x] for x in nums])\n",
    "\n",
    "# Plot\n",
    "fig, ax = plt.subplots(figsize=(15,15))\n",
    "\n",
    "reaches.plot(color='w', alpha=0.2, ax=ax)\n",
    "inside.plot(column=inside.klass, categorical=True, \n",
    "            markersize=10, cmap=cmap, legend=True,\n",
    "            legend_kwds={'labels': labels,\n",
    "                         'framealpha': 1, \n",
    "                         'title_fontsize': 'medium',\n",
    "                         'loc': 'upper left'},\n",
    "            ax=ax)\n",
    "bounds.plot(color='r', marker=\"s\", markersize=50, ax=ax)\n",
    "\n",
    "# Basemap\n",
    "cx.add_basemap(ax, crs=gdf_PIXC.crs, source=cx.providers.CartoDB.DarkMatter, alpha=0.9)\n",
    "\n",
    "# \n",
    "leg = ax.get_legend()\n",
    "leg.set_title(\"Class\")          \n",
    "ax.title.set_text(on_off + '\\n' + str(len(d)) + ' PIXC granules for ' + reaches.iloc[0, 1] + ', ' + str(inside.shape[0]) + ' pixels')\n",
    "plt.savefig(fname = outpath + river +'_' + season + '_masked'+ '.png', bbox_inches='tight')"
   ]
  },
  {
   "cell_type": "code",
   "execution_count": null,
   "id": "ef6878b6-5bef-42fb-bc9a-1097f9eb10f3",
   "metadata": {},
   "outputs": [],
   "source": [
    "# Plot each reach individually\n",
    "count = 0\n",
    "\n",
    "for plusid in reaches['NHDPlusID']:\n",
    "    # Subset to reach, get vars\n",
    "    reach = reaches[reaches['NHDPlusID'] == plusid]\n",
    "    name = reach['GNIS_Name'].iloc[0]\n",
    "    wd = str(np.round(reach['WidthM'].iloc[0], decimals=2))\n",
    "    ln = str(np.round(reach['LengthKM'].iloc[0], decimals=2))\n",
    "    \n",
    "    points = inside[inside['NHDPlusID'] == plusid]\n",
    "    \n",
    "    # Get labels for plot\n",
    "    nums = list(np.unique(points.klass).astype('int'))\n",
    "    labels = [codes[x] for x in nums]\n",
    "\n",
    "    # Make cmap\n",
    "    cmap = colors.ListedColormap([palette[x] for x in nums])\n",
    "\n",
    "    # Plot\n",
    "    fig, ax = plt.subplots(figsize=(15,15))\n",
    "\n",
    "    reach.plot(color='w', alpha=0.2, ax=ax)\n",
    "    if points.size != 0:\n",
    "        points.plot(column=points.klass, categorical=True,\n",
    "                    # markersize=10,\n",
    "                    cmap=cmap, legend=True,\n",
    "                    legend_kwds={'labels': labels,\n",
    "                                 'framealpha': 1, \n",
    "                                 'title_fontsize': 'medium',\n",
    "                                 'loc': 'upper left'},\n",
    "                    ax=ax)\n",
    "        leg = ax.get_legend()\n",
    "        leg.set_title(\"Class\")\n",
    "    if name == None:\n",
    "        ax.title.set_text(on_off + ' NULL' + ', NHDPlusID ' + str(int(plusid)) + ', ' + wd + ' m wide, ' + ln + ' km long, \\n' + str(points.shape[0]) + ' pixels')\n",
    "    else:\n",
    "        ax.title.set_text(on_off + ' ' + name + ', NHDPlusID ' + str(int(plusid)) + ', ' + wd + ' m wide, ' + ln + ' km long, \\n' + str(points.shape[0]) + ' pixels')\n",
    "\n",
    "    # Basemap\n",
    "    cx.add_basemap(ax, crs=gdf_PIXC.crs, source=cx.providers.CartoDB.DarkMatter,\n",
    "                   # zoom=20, \n",
    "                   alpha=0.9)\n",
    "    \n",
    "    # Save fig\n",
    "    plt.savefig(fname = outpath + river +'_' + season + '_masked_' + str(int(plusid)) \n",
    "                # + '_' + str(count) \n",
    "                + '.png', bbox_inches='tight')    \n",
    "    count += 1"
   ]
  },
  {
   "cell_type": "code",
   "execution_count": null,
   "id": "0b4e0813-7bf2-4967-a975-f889c90b16f2",
   "metadata": {},
   "outputs": [],
   "source": []
  },
  {
   "cell_type": "markdown",
   "id": "1fc0eea9-8bec-4ca2-9215-8b7db33467da",
   "metadata": {},
   "source": [
    "#### Scraps"
   ]
  },
  {
   "cell_type": "code",
   "execution_count": null,
   "id": "c57205d6-c0d0-41e2-b562-19071e83916b",
   "metadata": {},
   "outputs": [],
   "source": [
    "# Get bounds of PIXC, construct polygon\n",
    "bounds_PIXC = gdf_PIXC.total_bounds\n",
    "poly = box(bounds_PIXC[0], bounds_PIXC[1], bounds_PIXC[2], bounds_PIXC[3])"
   ]
  },
  {
   "cell_type": "code",
   "execution_count": null,
   "id": "ead1bed6-b0c0-4302-8dcd-0ded37fcc2ce",
   "metadata": {},
   "outputs": [],
   "source": [
    "crop_basin = basin.clip(poly)"
   ]
  },
  {
   "cell_type": "code",
   "execution_count": null,
   "id": "031ae16f-fe0b-4869-abc4-2335f837b4e0",
   "metadata": {},
   "outputs": [],
   "source": [
    "bins = np.unique(crop_basin.Bin)\n",
    "bins"
   ]
  }
 ],
 "metadata": {
  "kernelspec": {
   "display_name": "Python [conda env:.conda-narrowPIXC]",
   "language": "python",
   "name": "conda-env-.conda-narrowPIXC-py"
  },
  "language_info": {
   "codemirror_mode": {
    "name": "ipython",
    "version": 3
   },
   "file_extension": ".py",
   "mimetype": "text/x-python",
   "name": "python",
   "nbconvert_exporter": "python",
   "pygments_lexer": "ipython3",
   "version": "3.12.4"
  }
 },
 "nbformat": 4,
 "nbformat_minor": 5
}
