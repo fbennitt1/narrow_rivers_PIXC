{
 "cells": [
  {
   "cell_type": "code",
   "execution_count": null,
   "id": "5d6eac13-db5e-47d6-bae1-423a1fc15978",
   "metadata": {},
   "outputs": [],
   "source": [
    "import earthaccess\n",
    "import fiona\n",
    "import geopandas as gpd\n",
    "import matplotlib.pyplot as plt\n",
    "import numpy as np\n",
    "import os\n",
    "import pandas as pd\n",
    "from pandarallel import pandarallel\n",
    "# import zipfile\n",
    "# from itertools import chain"
   ]
  },
  {
   "cell_type": "code",
   "execution_count": null,
   "id": "09dd1f17-9c15-448c-9b60-e7101bd32e46",
   "metadata": {
    "tags": []
   },
   "outputs": [],
   "source": [
    "# pd.reset_option('display.max_columns', 0)"
   ]
  },
  {
   "cell_type": "code",
   "execution_count": null,
   "id": "52358989-8e8f-4e0c-a35f-03aef559d40d",
   "metadata": {},
   "outputs": [],
   "source": [
    "def specialClip(sj):\n",
    "    left = gpd.GeoSeries(sj.geometry)\n",
    "    right = gpd.GeoSeries(sj.geom)\n",
    "    geometry_clip = left.clip(right)\n",
    "    return geometry_clip"
   ]
  },
  {
   "cell_type": "markdown",
   "id": "e666e606-14cb-47fa-94af-e82639e0eafe",
   "metadata": {
    "tags": []
   },
   "source": [
    "### Make table of intersecting NHD HUC4 and SWOT tiles"
   ]
  },
  {
   "cell_type": "markdown",
   "id": "2fd74255-0589-40c9-a234-64fa4d9a705f",
   "metadata": {
    "tags": []
   },
   "source": [
    "#### HUC Boundaries"
   ]
  },
  {
   "cell_type": "code",
   "execution_count": null,
   "id": "8eeca9f5-da2c-456b-abdc-9a6edbdf4f50",
   "metadata": {},
   "outputs": [],
   "source": [
    "# Read in HUC4 boundaries (no Great Lakes)\n",
    "data_path = '/nas/cee-water/cjgleason/fiona/narrow_rivers_PIXC_data/all_wbd_no_great_lakes.parquet'\n",
    "wbd = gpd.read_parquet(path=data_path)"
   ]
  },
  {
   "cell_type": "code",
   "execution_count": null,
   "id": "be0b98cf-373e-4dff-aaac-246936c39581",
   "metadata": {},
   "outputs": [],
   "source": [
    "# Project CRS to WGS 84 / Pseudo-Mercator\n",
    "wbd_wm = wbd.to_crs(epsg=3857)"
   ]
  },
  {
   "cell_type": "markdown",
   "id": "257fdaf0-1324-4207-9234-4b1e78cf1d0f",
   "metadata": {
    "jp-MarkdownHeadingCollapsed": true,
    "tags": []
   },
   "source": [
    "#### Make lightweight version of SWOT Science Orbit tiles"
   ]
  },
  {
   "cell_type": "code",
   "execution_count": null,
   "id": "11f937b4-c4c2-4271-8219-05703083af12",
   "metadata": {},
   "outputs": [],
   "source": [
    "data_path_sci = '/nas/cee-water/cjgleason/data/SWOT/tiles/swot_science_coverage_20240319.kmz'\n",
    "layers = fiona.listlayers(data_path_sci)"
   ]
  },
  {
   "cell_type": "code",
   "execution_count": null,
   "id": "595f89f5-4ef6-4bb3-b94d-8128fadc013f",
   "metadata": {},
   "outputs": [],
   "source": [
    "# Initialize lists\n",
    "d = []\n",
    "\n",
    "# Loop through indices and store in lists\n",
    "for i in range(3,len(layers[3:])+1):\n",
    "\n",
    "    # Read in the current SWOT pass\n",
    "    pass_tiles = gpd.read_file(filename=data_path_sci, layer=layers[i], engine='pyogrio')\n",
    "    \n",
    "    subset = pass_tiles.iloc[:,[0,-1]]\n",
    "\n",
    "    # Append to lists\n",
    "    d.append(subset)\n",
    "\n",
    "# Merge GeoDataFrames\n",
    "all_tiles = pd.concat(d)"
   ]
  },
  {
   "cell_type": "code",
   "execution_count": null,
   "id": "461f9435-79df-4717-a78d-e431dbe6f17b",
   "metadata": {},
   "outputs": [],
   "source": [
    "all_tiles"
   ]
  },
  {
   "cell_type": "code",
   "execution_count": null,
   "id": "8c4d50cd-9878-483c-a7de-919f462c1e02",
   "metadata": {},
   "outputs": [],
   "source": [
    "# Write out lightweight files as parquet and GeoPackage\n",
    "save_path = '/nas/cee-water/cjgleason/data/SWOT/tiles/'\n",
    "all_tiles.to_parquet(path=os.path.join(save_path, 'swot_science_coverage_merged.parquet'))\n",
    "all_tiles.to_file(filename=os.path.join(save_path, 'swot_science_coverage_merged.gpkg'), driver='GPKG')"
   ]
  },
  {
   "cell_type": "markdown",
   "id": "87dae31e-b97c-43c3-87eb-1c8e1097a840",
   "metadata": {},
   "source": [
    "### Join tiles to HUC4 to make reference table"
   ]
  },
  {
   "cell_type": "code",
   "execution_count": null,
   "id": "bac615dd-6597-4daf-93ff-38437f244dc8",
   "metadata": {},
   "outputs": [],
   "source": [
    "data_path = '/nas/cee-water/cjgleason/data/SWOT/tiles/swot_science_coverage_merged.parquet'\n",
    "# Read in simplified SWOT science tiles\n",
    "sci_tiles = gpd.read_parquet(path=data_path)"
   ]
  },
  {
   "cell_type": "code",
   "execution_count": null,
   "id": "dbe41af4-1959-4965-b03e-f2fab7739e5a",
   "metadata": {},
   "outputs": [],
   "source": [
    "# Project CRS to WGS 84 / Pseudo-Mercator\n",
    "sci_tiles_wm = sci_tiles.to_crs(epsg=3857)"
   ]
  },
  {
   "cell_type": "code",
   "execution_count": null,
   "id": "bea3121a-b236-42cf-9d9b-e0c983e6f75e",
   "metadata": {},
   "outputs": [],
   "source": [
    "# Get bounding box of NHDPlus HR watersheds\n",
    "bounds_wbd = wbd_wm.total_bounds"
   ]
  },
  {
   "cell_type": "code",
   "execution_count": null,
   "id": "a31ce0c5-01b5-49bc-b4bc-d203f1d014af",
   "metadata": {},
   "outputs": [],
   "source": [
    "# Clip SWOT science tiles to counding box\n",
    "sci_tiles_clip = gpd.clip(gdf=sci_tiles_wm, mask=bounds_wbd)"
   ]
  },
  {
   "cell_type": "code",
   "execution_count": null,
   "id": "34956f3e-f0c5-4c34-bf67-3940eb6ebb7d",
   "metadata": {},
   "outputs": [],
   "source": [
    "# Copy geometry column for WBD as sjoin will discard it\n",
    "wbd_wm['geom'] = wbd_wm.geometry"
   ]
  },
  {
   "cell_type": "code",
   "execution_count": null,
   "id": "1d2f21e1-b299-4719-a2a8-185764a419d5",
   "metadata": {},
   "outputs": [],
   "source": [
    "# Join the SWOT tiles and HUC4 boundaries by intersection\n",
    "joined = gpd.sjoin(sci_tiles_clip, wbd_wm, how='inner', predicate='intersects')"
   ]
  },
  {
   "cell_type": "code",
   "execution_count": null,
   "id": "9926a160-4ae8-4374-9769-3571c851878b",
   "metadata": {},
   "outputs": [],
   "source": [
    "joined = joined.reset_index().rename(columns={'index': 'index_old'})"
   ]
  },
  {
   "cell_type": "code",
   "execution_count": null,
   "id": "d93ac5b2-f8b7-408a-a1ba-b7b36513cb6a",
   "metadata": {},
   "outputs": [],
   "source": [
    "pandarallel.initialize()"
   ]
  },
  {
   "cell_type": "code",
   "execution_count": null,
   "id": "921faa89-b6c2-40ec-8cd7-ab384179bf9e",
   "metadata": {},
   "outputs": [],
   "source": [
    "# left = gpd.GeoSeries(joined.iloc[0].geometry)\n",
    "# right = gpd.GeoSeries(joined.iloc[0].geom)\n",
    "# clipped = left.clip(right)\n",
    "# clipped.area / left.area"
   ]
  },
  {
   "cell_type": "code",
   "execution_count": null,
   "id": "3b047186-324b-4a36-a286-80b7eb0d6e04",
   "metadata": {},
   "outputs": [],
   "source": [
    "# fig, ax = plt.subplots(figsize=(8,8))\n",
    "\n",
    "# left.plot(ax=ax)\n",
    "# right.plot(ax=ax, color='k')"
   ]
  },
  {
   "cell_type": "code",
   "execution_count": null,
   "id": "3e9a8cfb-d13a-4f57-820b-9cdc12371bdd",
   "metadata": {},
   "outputs": [],
   "source": [
    "joined['geometry_clipped'] = joined.parallel_apply(user_defined_function=specialClip,\n",
    "                                                   axis=1)"
   ]
  },
  {
   "cell_type": "code",
   "execution_count": null,
   "id": "1f3654bf-62b5-445e-aef1-b822c225100d",
   "metadata": {},
   "outputs": [],
   "source": [
    "joined['coverage'] = joined.geometry_clipped.area / joined.geometry.area"
   ]
  },
  {
   "cell_type": "code",
   "execution_count": null,
   "id": "afe84462-7a9b-4877-a224-7bf18112dd34",
   "metadata": {},
   "outputs": [],
   "source": [
    "cleaned = joined[['Name', 'huc4', 'coverage']].sort_values(by=['Name', 'huc4']).rename(columns={'Name': 'tile'}).reset_index().drop(columns='index')"
   ]
  },
  {
   "cell_type": "code",
   "execution_count": null,
   "id": "77963580-9b41-4327-99f7-61ee20eb43b3",
   "metadata": {},
   "outputs": [],
   "source": [
    "cleaned.to_csv('./data/huc4_swot_science_tiles.csv', index=False)"
   ]
  },
  {
   "cell_type": "code",
   "execution_count": null,
   "id": "897482b0-7d7f-4f74-9e80-d85e7cc9ce04",
   "metadata": {},
   "outputs": [],
   "source": [
    "# joined[joined['coverage'] > 0.90]"
   ]
  },
  {
   "cell_type": "markdown",
   "id": "c9e80ede-baa3-4c62-ab46-e46e7c8db156",
   "metadata": {},
   "source": [
    "### Coverage plots"
   ]
  },
  {
   "cell_type": "code",
   "execution_count": null,
   "id": "0a47920f-15a0-407c-9a86-d1a07517ac77",
   "metadata": {},
   "outputs": [],
   "source": [
    "subset = joined[joined['huc4'] == '0108']\n",
    "\n",
    "huc = gpd.GeoSeries(subset.iloc[0].geom)\n",
    "huc4 = subset.iloc[0].huc4\n",
    "\n",
    "fig, ((ax0, ax1), (ax2, ax3)) = plt.subplots(nrows=2, ncols=2, figsize=(8,12))\n",
    "\n",
    "plt.suptitle('HUC4 ' + str(huc4))\n",
    "\n",
    "huc.plot(ax=ax0, color='b')\n",
    "gpd.GeoSeries(subset.geometry).plot(ax=ax0, color='y', alpha=0.5)\n",
    "ax0.set_title('All tiles')\n",
    "\n",
    "huc.plot(ax=ax1, color='b')\n",
    "gpd.GeoSeries(subset[subset['coverage'] > 0.1] .geometry).plot(ax=ax1, color='y', alpha=0.5)\n",
    "ax1.set_title('Tiles with > 10% overlap')\n",
    "\n",
    "huc.plot(ax=ax2, color='b')\n",
    "gpd.GeoSeries(subset[subset['coverage'] > 0.2] .geometry).plot(ax=ax2, color='y', alpha=0.5)\n",
    "ax2.set_title('Tiles with > 20% overlap')\n",
    "\n",
    "huc.plot(ax=ax3, color='b')\n",
    "gpd.GeoSeries(subset[subset['coverage'] > 0.3] .geometry).plot(ax=ax3, color='y', alpha=0.5)\n",
    "ax3.set_title('Tiles with > 30% overlap')\n",
    "\n",
    "fig.tight_layout()"
   ]
  },
  {
   "cell_type": "code",
   "execution_count": null,
   "id": "8b5a5b78-8dc7-4c0d-a7ca-51b9ccb80bb0",
   "metadata": {},
   "outputs": [],
   "source": [
    "subset = joined[joined['huc4'] == '1606']\n",
    "\n",
    "huc = gpd.GeoSeries(subset.iloc[0].geom)\n",
    "huc4 = subset.iloc[0].huc4\n",
    "\n",
    "fig, ((ax0, ax1), (ax2, ax3)) = plt.subplots(nrows=2, ncols=2, figsize=(8,12))\n",
    "\n",
    "plt.suptitle('HUC4 ' + str(huc4))\n",
    "\n",
    "huc.plot(ax=ax0, color='b')\n",
    "gpd.GeoSeries(subset.geometry).plot(ax=ax0, color='y', alpha=0.5)\n",
    "ax0.set_title('All tiles')\n",
    "\n",
    "huc.plot(ax=ax1, color='b')\n",
    "gpd.GeoSeries(subset[subset['coverage'] > 0.1] .geometry).plot(ax=ax1, color='y', alpha=0.5)\n",
    "ax1.set_title('Tiles with > 10% overlap')\n",
    "\n",
    "huc.plot(ax=ax2, color='b')\n",
    "gpd.GeoSeries(subset[subset['coverage'] > 0.2] .geometry).plot(ax=ax2, color='y', alpha=0.5)\n",
    "ax2.set_title('Tiles with > 20% overlap')\n",
    "\n",
    "huc.plot(ax=ax3, color='b')\n",
    "gpd.GeoSeries(subset[subset['coverage'] > 0.3] .geometry).plot(ax=ax3, color='y', alpha=0.5)\n",
    "ax3.set_title('Tiles with > 30% overlap')\n",
    "\n",
    "fig.tight_layout()"
   ]
  },
  {
   "cell_type": "code",
   "execution_count": null,
   "id": "31349d2b-ba4f-493f-bde0-7418996a47dc",
   "metadata": {},
   "outputs": [],
   "source": [
    "subset = joined[joined['huc4'] == '1711']\n",
    "\n",
    "huc = gpd.GeoSeries(subset.iloc[0].geom)\n",
    "huc4 = subset.iloc[0].huc4\n",
    "\n",
    "fig, ((ax0, ax1), (ax2, ax3)) = plt.subplots(nrows=2, ncols=2, figsize=(8,12))\n",
    "\n",
    "plt.suptitle('HUC4 ' + str(huc4))\n",
    "\n",
    "huc.plot(ax=ax0, color='b')\n",
    "gpd.GeoSeries(subset.geometry).plot(ax=ax0, color='y', alpha=0.5)\n",
    "ax0.set_title('All tiles')\n",
    "\n",
    "huc.plot(ax=ax1, color='b')\n",
    "gpd.GeoSeries(subset[subset['coverage'] > 0.1] .geometry).plot(ax=ax1, color='y', alpha=0.5)\n",
    "ax1.set_title('Tiles with > 10% overlap')\n",
    "\n",
    "huc.plot(ax=ax2, color='b')\n",
    "gpd.GeoSeries(subset[subset['coverage'] > 0.2] .geometry).plot(ax=ax2, color='y', alpha=0.5)\n",
    "ax2.set_title('Tiles with > 20% overlap')\n",
    "\n",
    "huc.plot(ax=ax3, color='b')\n",
    "gpd.GeoSeries(subset[subset['coverage'] > 0.3] .geometry).plot(ax=ax3, color='y', alpha=0.5)\n",
    "ax3.set_title('Tiles with > 30% overlap')\n",
    "\n",
    "fig.tight_layout()"
   ]
  },
  {
   "cell_type": "code",
   "execution_count": null,
   "id": "83165883-11fc-48d2-a9c4-1c80cac2620f",
   "metadata": {},
   "outputs": [],
   "source": [
    "subset = joined[joined['huc4'] == '0309']\n",
    "\n",
    "huc = gpd.GeoSeries(subset.iloc[0].geom)\n",
    "huc4 = subset.iloc[0].huc4\n",
    "\n",
    "fig, ((ax0, ax1), (ax2, ax3)) = plt.subplots(nrows=2, ncols=2, figsize=(8,12))\n",
    "\n",
    "plt.suptitle('HUC4 ' + str(huc4))\n",
    "\n",
    "huc.plot(ax=ax0, color='b')\n",
    "gpd.GeoSeries(subset.geometry).plot(ax=ax0, color='y', alpha=0.5)\n",
    "ax0.set_title('All tiles')\n",
    "\n",
    "huc.plot(ax=ax1, color='b')\n",
    "gpd.GeoSeries(subset[subset['coverage'] > 0.1] .geometry).plot(ax=ax1, color='y', alpha=0.5)\n",
    "ax1.set_title('Tiles with > 10% overlap')\n",
    "\n",
    "huc.plot(ax=ax2, color='b')\n",
    "gpd.GeoSeries(subset[subset['coverage'] > 0.2] .geometry).plot(ax=ax2, color='y', alpha=0.5)\n",
    "ax2.set_title('Tiles with > 20% overlap')\n",
    "\n",
    "huc.plot(ax=ax3, color='b')\n",
    "gpd.GeoSeries(subset[subset['coverage'] > 0.3] .geometry).plot(ax=ax3, color='y', alpha=0.5)\n",
    "ax3.set_title('Tiles with > 30% overlap')\n",
    "\n",
    "fig.tight_layout()"
   ]
  },
  {
   "cell_type": "code",
   "execution_count": null,
   "id": "04ca8e8d-c665-4521-b75f-30535b6dd13c",
   "metadata": {},
   "outputs": [],
   "source": []
  },
  {
   "cell_type": "code",
   "execution_count": null,
   "id": "e6aa2dbe-f750-4475-9597-38f75425b02a",
   "metadata": {},
   "outputs": [],
   "source": [
    "subset = joined[joined['huc4'] == '0108']"
   ]
  },
  {
   "cell_type": "code",
   "execution_count": null,
   "id": "49768b87-8abe-4c80-8b23-c535d55a144d",
   "metadata": {},
   "outputs": [],
   "source": []
  },
  {
   "cell_type": "code",
   "execution_count": null,
   "id": "ee8b4916-ab1b-485e-b549-b15a1b918431",
   "metadata": {},
   "outputs": [],
   "source": [
    "joined_clean = joined[['Name', 'huc4']].reset_index().drop(columns='index')"
   ]
  },
  {
   "cell_type": "code",
   "execution_count": null,
   "id": "cc84d53a-40d7-4afe-82af-7bcace24f363",
   "metadata": {},
   "outputs": [],
   "source": [
    "joined_clean"
   ]
  },
  {
   "cell_type": "code",
   "execution_count": null,
   "id": "2bc60b8d-51a0-44e6-9e97-88c06b781722",
   "metadata": {},
   "outputs": [],
   "source": [
    "# Write out\n",
    "joined_clean.to_csv(path_or_buf='./data/huc4_swot_science_tiles.csv', index=False)"
   ]
  },
  {
   "cell_type": "code",
   "execution_count": null,
   "id": "c971fc36-cbc1-4460-9dc7-085d45ab97e4",
   "metadata": {},
   "outputs": [],
   "source": []
  },
  {
   "cell_type": "code",
   "execution_count": null,
   "id": "ff19985e-32d4-4e5f-94ac-010494928fd6",
   "metadata": {},
   "outputs": [],
   "source": []
  },
  {
   "cell_type": "code",
   "execution_count": null,
   "id": "c300fe38-d749-4f8d-ac5d-12c078fbbacd",
   "metadata": {},
   "outputs": [],
   "source": [
    "ne_mask = joined['huc4'].str.startswith('01')\n",
    "ne_tiles = joined[ne_mask]"
   ]
  },
  {
   "cell_type": "code",
   "execution_count": null,
   "id": "94e2fb25-d115-404b-a7bc-bf42b0f3dabf",
   "metadata": {},
   "outputs": [],
   "source": [
    "# ne_tiles"
   ]
  },
  {
   "cell_type": "code",
   "execution_count": null,
   "id": "a61aa45e-df1a-46c8-863d-fadd8b2015af",
   "metadata": {},
   "outputs": [],
   "source": [
    "ne_wbd_mask = wbd['huc4'].str.startswith('01')\n",
    "ne_hucs = wbd[ne_wbd_mask]"
   ]
  },
  {
   "cell_type": "code",
   "execution_count": null,
   "id": "6862a1db-4cff-461f-9406-8ea1ab0103a0",
   "metadata": {},
   "outputs": [],
   "source": [
    "fig, ax = plt.subplots(figsize=(8,8))\n",
    "ne_hucs.plot(ax=ax)\n",
    "ne_tiles.plot(ax=ax, cmap='hsv', alpha=0.2)\n",
    "\n",
    "plt.savefig('../oops/huc2_01_swot_science.png')"
   ]
  },
  {
   "cell_type": "markdown",
   "id": "237255c4-333d-43cb-b9b9-3ca8852cba63",
   "metadata": {
    "tags": []
   },
   "source": [
    "#### Merge data"
   ]
  },
  {
   "cell_type": "code",
   "execution_count": null,
   "id": "114423d7-17e4-4f73-be8f-65c1146ae979",
   "metadata": {},
   "outputs": [],
   "source": [
    "# First three layers are 'SWOT Coverage - Science Orbit', 'Passes', 'Tiles'\n",
    "# Each subsequent layer represents a single SWOT pass\n",
    "# Reading in more than one pass at a time crashed Jupyter no matter how much RAM I give it\n",
    "\n",
    "# Loop through all of the SWOT passes and make a list of all the tiles\n",
    "# and the HUC4 they intersect\n",
    "\n",
    "huc4s = []\n",
    "tiles = []\n",
    "\n",
    "for i in range(3,len(layers[3:])+1):\n",
    "    print(i)\n",
    "    \n",
    "    # Read in the current SWOT pass\n",
    "    pass_tiles = gpd.read_file(filename=data_path0, layer=layers[i], engine='pyogrio')\n",
    "    pass_tiles = pass_tiles.to_crs(epsg=3857)\n",
    "    \n",
    "    # Sjoin with the NHD WBD to find intersection\n",
    "    temp = gpd.sjoin(pass_tiles, wbd)\n",
    "    \n",
    "    if not temp.empty:\n",
    "        huc4s.append(temp.huc4.values)\n",
    "        tiles.append(temp.Name.values)"
   ]
  },
  {
   "cell_type": "code",
   "execution_count": null,
   "id": "713ca1e9-c57b-44a4-b09f-940c0a123040",
   "metadata": {},
   "outputs": [],
   "source": [
    "tiles[0]"
   ]
  },
  {
   "cell_type": "code",
   "execution_count": null,
   "id": "9a8008a1-d265-4ba6-91fa-081fdaea5e0f",
   "metadata": {},
   "outputs": [],
   "source": [
    "def flatten_chain(matrix):\n",
    "    return list(chain.from_iterable(matrix))"
   ]
  },
  {
   "cell_type": "code",
   "execution_count": null,
   "id": "cbb0b0d9-6dbc-411c-a364-baf76b1a9677",
   "metadata": {},
   "outputs": [],
   "source": [
    "na_tiles = pd.DataFrame(flatten_chain(tiles), index=flatten_chain(huc4s))"
   ]
  },
  {
   "cell_type": "code",
   "execution_count": null,
   "id": "6aae6f2c-fc3d-42a2-b6ee-9bc60fb8a9e5",
   "metadata": {},
   "outputs": [],
   "source": [
    "na_tiles = na_tiles.reset_index().rename(columns={0: 'tiles', 'index': 'huc4'})"
   ]
  },
  {
   "cell_type": "code",
   "execution_count": null,
   "id": "7bf4e487-62d1-435e-b93e-018c2c7cbb67",
   "metadata": {},
   "outputs": [],
   "source": [
    "# Write out\n",
    "na_tiles.to_csv('./data/huc4_swot_tiles.csv')"
   ]
  },
  {
   "cell_type": "code",
   "execution_count": null,
   "id": "621c9176-4988-432a-8dd6-2c178025afc8",
   "metadata": {},
   "outputs": [],
   "source": []
  },
  {
   "cell_type": "markdown",
   "id": "469f25b8-3664-46cd-98e2-db4c05e0abfe",
   "metadata": {
    "tags": []
   },
   "source": [
    "#### SWOT Tiles"
   ]
  },
  {
   "cell_type": "code",
   "execution_count": null,
   "id": "9d273236-debd-4ec3-ae90-c7505606f97d",
   "metadata": {},
   "outputs": [],
   "source": [
    "data_path0 = '/nas/cee-water/cjgleason/data/SWOT/tiles/swot_science_coverage_20240319.kmz'\n",
    "layers = fiona.listlayers(data_path0)"
   ]
  },
  {
   "cell_type": "code",
   "execution_count": null,
   "id": "f658d1b9-49dd-4dc8-aae7-dccafc53c404",
   "metadata": {},
   "outputs": [],
   "source": [
    "pass_tiles = gpd.read_file(filename=data_path0, layer=layers[3], engine='pyogrio')"
   ]
  },
  {
   "cell_type": "code",
   "execution_count": null,
   "id": "bc51bc70-20cb-4547-9c25-70e364178413",
   "metadata": {},
   "outputs": [],
   "source": [
    "pass_tiles.iloc[:,[0,-1]]"
   ]
  },
  {
   "cell_type": "markdown",
   "id": "ef7d265a-c9e8-4854-a9d1-93778be917db",
   "metadata": {
    "jp-MarkdownHeadingCollapsed": true,
    "tags": []
   },
   "source": [
    "### Check that NE tiles match what I previously found"
   ]
  },
  {
   "cell_type": "code",
   "execution_count": null,
   "id": "ad30bc26-069a-4a21-8eb8-1a5c917483ba",
   "metadata": {},
   "outputs": [],
   "source": [
    "# Data path\n",
    "data_path = './data/huc4_swot_tiles.csv'"
   ]
  },
  {
   "cell_type": "code",
   "execution_count": null,
   "id": "78d96754-a2a0-41fa-883f-7af8fd93a1cf",
   "metadata": {},
   "outputs": [],
   "source": [
    "# Define dtypes for lookup tables to preserve leading zeros\n",
    "dtype_dic= {'Unnamed: 0': str, 'huc4': str}"
   ]
  },
  {
   "cell_type": "code",
   "execution_count": null,
   "id": "36fbcbd4-f177-4634-ae5e-bca27bea8a91",
   "metadata": {},
   "outputs": [],
   "source": [
    "# Read in HUC lookup table\n",
    "# lookup = pd.read_csv(os.path.join(mdata_path,\n",
    "#                                   'HUC4_lookup_no_great_lakes.csv'),\n",
    "#                      dtype=dtype_dic)\n",
    "na_tiles = pd.read_csv(data_path, dtype=dtype_dic).drop(columns='Unnamed: 0')"
   ]
  },
  {
   "cell_type": "code",
   "execution_count": null,
   "id": "a6529752-1573-433d-94d4-1487cd643e1a",
   "metadata": {},
   "outputs": [],
   "source": [
    "na_tiles"
   ]
  },
  {
   "cell_type": "code",
   "execution_count": null,
   "id": "a07af6c8-d8bf-44f5-a1f1-d31f2aaef78a",
   "metadata": {},
   "outputs": [],
   "source": [
    "# Get NE tiles (HUC2 01)\n",
    "ne_mask = na_tiles['huc4'].str.startswith('01')\n",
    "ne_tiles = list(set(na_tiles[ne_mask]['tiles']))"
   ]
  },
  {
   "cell_type": "code",
   "execution_count": null,
   "id": "fe963897-54de-4e34-a8a3-2ead4fc1d282",
   "metadata": {},
   "outputs": [],
   "source": [
    "na_tiles[ne_mask]['huc4'].unique()"
   ]
  },
  {
   "cell_type": "code",
   "execution_count": null,
   "id": "262a755c-5862-48ac-8b7a-8f7bc4c2e6f9",
   "metadata": {},
   "outputs": [],
   "source": [
    "directory = '/nas/cee-water/cjgleason/fiona/narrow_rivers_PIXC_data/PIXC_v2_0_HUC2_01_stats'\n",
    "\n",
    "files = []\n",
    "for file in os.listdir(directory):\n",
    "    if \n",
    "    files.append(file)\n",
    "\n",
    "print(f\"There are {str(len(files))} original files in directory.\")\n",
    "\n",
    "# # Make DataFrame of filenames\n",
    "# granules = pd.DataFrame({'files': files})\n",
    "# granules['cycle'] = granules['files'].str.slice(16, 19)\n",
    "# granules['pass'] = granules['files'].str.slice(20, 23)\n",
    "# granules['tile'] = granules['files'].str.slice(24, 28)\n",
    "# granules['version'] = granules['files'].str.slice(-10, -6)\n",
    "# granules['counter'] = granules['files'].str.slice(-5, -3) "
   ]
  },
  {
   "cell_type": "code",
   "execution_count": null,
   "id": "4a3fdbac-746b-4f61-b5eb-f9562c305b70",
   "metadata": {},
   "outputs": [],
   "source": [
    "# Make DataFrame of filenames\n",
    "granules = pd.DataFrame({'files': files})"
   ]
  },
  {
   "cell_type": "code",
   "execution_count": null,
   "id": "71bb7e75-481a-4cb2-8154-42028fb1e4aa",
   "metadata": {},
   "outputs": [],
   "source": [
    "granules['pass_tile'] = granules['files'].str.slice(20,28).values\n",
    "granules['pass'] = granules['files'].str.slice(20,23).values"
   ]
  },
  {
   "cell_type": "code",
   "execution_count": null,
   "id": "810a606e-25dd-47c3-aac9-91c063608fff",
   "metadata": {},
   "outputs": [],
   "source": [
    "# Drop checkpoint file (fix above)\n",
    "granules = granules[granules['pass_tile'] != '']"
   ]
  },
  {
   "cell_type": "code",
   "execution_count": null,
   "id": "0ca165fd-57e9-4afd-b5b6-b0b0968a495a",
   "metadata": {},
   "outputs": [],
   "source": [
    "passes = list(granules['pass'].unique())"
   ]
  },
  {
   "cell_type": "code",
   "execution_count": null,
   "id": "22d18156-19e8-4824-bfa8-680a33b1a2ef",
   "metadata": {},
   "outputs": [],
   "source": [
    "passes.sort()"
   ]
  },
  {
   "cell_type": "code",
   "execution_count": null,
   "id": "fcc19ff6-02a9-42a4-9905-bbe06673ac9f",
   "metadata": {},
   "outputs": [],
   "source": [
    "passes"
   ]
  },
  {
   "cell_type": "code",
   "execution_count": null,
   "id": "abe2ff76-0b7d-4623-8596-af7b1a5772de",
   "metadata": {},
   "outputs": [],
   "source": [
    "# Get all of the unique SWOT tiles in the NE\n",
    "tiles = granules['pass_tile'].values\n",
    "tiles = list(set(tiles))"
   ]
  },
  {
   "cell_type": "code",
   "execution_count": null,
   "id": "aef9d683-7803-439b-b2b8-768f755cbb2e",
   "metadata": {},
   "outputs": [],
   "source": [
    "tiles.sort()"
   ]
  },
  {
   "cell_type": "code",
   "execution_count": null,
   "id": "c2f5985e-0d50-45b7-a2c3-6adbfa25fdde",
   "metadata": {},
   "outputs": [],
   "source": [
    "len(tiles)"
   ]
  },
  {
   "cell_type": "code",
   "execution_count": null,
   "id": "d37dc55b-fa80-4b00-a1e5-3081befe1449",
   "metadata": {},
   "outputs": [],
   "source": [
    "len(ne_tiles)"
   ]
  },
  {
   "cell_type": "code",
   "execution_count": null,
   "id": "9a4197d1-bd56-4ba8-9e59-7977a1e0baaf",
   "metadata": {},
   "outputs": [],
   "source": [
    "extra = list(set(tiles) - set(ne_tiles))"
   ]
  },
  {
   "cell_type": "code",
   "execution_count": null,
   "id": "4767500a-ce54-4c67-94c9-01e9a57e4c7f",
   "metadata": {},
   "outputs": [],
   "source": [
    "len(extra)"
   ]
  },
  {
   "cell_type": "code",
   "execution_count": null,
   "id": "674509eb-1294-4732-ab4f-53f87d32eb6c",
   "metadata": {},
   "outputs": [],
   "source": [
    "extra_less = list(set(ne_tiles) - set(tiles))"
   ]
  },
  {
   "cell_type": "code",
   "execution_count": null,
   "id": "cdc7aec0-b2e1-4b90-8246-f77ec5574171",
   "metadata": {},
   "outputs": [],
   "source": [
    "extra_less"
   ]
  }
 ],
 "metadata": {
  "kernelspec": {
   "display_name": "Python [conda env:.conda-narrowPIXC]",
   "language": "python",
   "name": "conda-env-.conda-narrowPIXC-py"
  },
  "language_info": {
   "codemirror_mode": {
    "name": "ipython",
    "version": 3
   },
   "file_extension": ".py",
   "mimetype": "text/x-python",
   "name": "python",
   "nbconvert_exporter": "python",
   "pygments_lexer": "ipython3",
   "version": "3.12.4"
  }
 },
 "nbformat": 4,
 "nbformat_minor": 5
}
