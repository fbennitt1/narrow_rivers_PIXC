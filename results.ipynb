{
 "cells": [
  {
   "cell_type": "code",
   "execution_count": null,
   "id": "9058484e-dfbe-4c64-8577-239ca34302a3",
   "metadata": {},
   "outputs": [],
   "source": [
    "import os\n",
    "\n",
    "import matplotlib.pyplot as plt\n",
    "import numpy as np\n",
    "import pandas as pd\n",
    "import seaborn as sns\n",
    "\n",
    "import matplotlib.colors as colors"
   ]
  },
  {
   "cell_type": "code",
   "execution_count": null,
   "id": "b7cb674c-d9dd-4415-a41e-c61a0f692ed0",
   "metadata": {},
   "outputs": [],
   "source": [
    "# Order of all possible bins for plotting\n",
    "order = ['(0, 10]', '(10, 20]', '(20, 30]', '(30, 40]', '(40, 50]',\n",
    "         '(50, 60]', '(60, 70]', '(70, 80]', '(80, 90]', '(90, 100]',\n",
    "         '(100, 150]', '(150, 200]', '(200, 500]', '(500, 1000]']"
   ]
  },
  {
   "cell_type": "markdown",
   "id": "ab18a808-ef76-4493-8c43-4401a29c605f",
   "metadata": {
    "jp-MarkdownHeadingCollapsed": true,
    "tags": []
   },
   "source": [
    "### Get data"
   ]
  },
  {
   "cell_type": "code",
   "execution_count": null,
   "id": "b6d666a3-01cb-4304-a3fc-aa20df6b4114",
   "metadata": {},
   "outputs": [],
   "source": [
    "# # Make nodes dataframe\n",
    "# d = []\n",
    "# for file in nodes_d:\n",
    "#     data = pd.read_csv(os.path.join(data_path, file))\n",
    "#     d.append(data)\n",
    "# nodes_desc = pd.concat(d, axis=0, ignore_index=True)#.rename(columns={'Unnamed: 0': 'stat'})"
   ]
  },
  {
   "cell_type": "code",
   "execution_count": null,
   "id": "fb434cc2-8791-491d-b59b-a4b51e578040",
   "metadata": {},
   "outputs": [],
   "source": [
    "nodes_w_zero = nodes_desc[nodes_desc['with_zero'] == 1]"
   ]
  },
  {
   "cell_type": "code",
   "execution_count": null,
   "id": "1a7f0ded-b068-44a8-980a-936996fd7e74",
   "metadata": {},
   "outputs": [],
   "source": [
    "node_w_zero_mean = nodes_w_zero.groupby('Bin')[['mean','std']].mean()"
   ]
  },
  {
   "cell_type": "code",
   "execution_count": null,
   "id": "146b06c2-4d92-4d6f-94f5-83a5414989fa",
   "metadata": {},
   "outputs": [],
   "source": [
    "node_w_zero_mean = node_w_zero_mean.reset_index()"
   ]
  },
  {
   "cell_type": "code",
   "execution_count": null,
   "id": "54983bc4-04a2-4f42-b907-8b7351776640",
   "metadata": {},
   "outputs": [],
   "source": [
    "node_w_zero_mean['mean'] = node_w_zero_mean['mean']*100"
   ]
  },
  {
   "cell_type": "code",
   "execution_count": null,
   "id": "89df5ed3-76b7-452b-b1a8-8a03378cfeae",
   "metadata": {},
   "outputs": [],
   "source": [
    "node_w_zero_mean['std'] = node_w_zero_mean['std']*100"
   ]
  },
  {
   "cell_type": "code",
   "execution_count": null,
   "id": "e3dd2f91-e495-4a5d-bd15-d28cd6f3080a",
   "metadata": {},
   "outputs": [],
   "source": [
    "node_w_zero_mean"
   ]
  },
  {
   "cell_type": "code",
   "execution_count": null,
   "id": "a47f9337-3bec-48da-a2ec-7c0265042cfa",
   "metadata": {},
   "outputs": [],
   "source": [
    "# node_w_zero_med = nodes_w_zero.groupby('Bin')[['50%', 'std']].mean()"
   ]
  },
  {
   "cell_type": "code",
   "execution_count": null,
   "id": "8ef6eb04-771b-41d8-ae1a-c37370f06e20",
   "metadata": {},
   "outputs": [],
   "source": [
    "# node_w_zero_med = node_w_zero_mean.reset_index()"
   ]
  },
  {
   "cell_type": "code",
   "execution_count": null,
   "id": "d2745f53-6b15-4617-96e9-e597b08c54ca",
   "metadata": {},
   "outputs": [],
   "source": [
    "# node_w_zero_med['50%'] = node_w_zero_med['50%']*100"
   ]
  },
  {
   "cell_type": "code",
   "execution_count": null,
   "id": "f3276291-8935-4b2b-9a91-620fe01e86c8",
   "metadata": {},
   "outputs": [],
   "source": [
    "# node_w_zero_med['std'] = node_w_zero_med['std']*100"
   ]
  },
  {
   "cell_type": "code",
   "execution_count": null,
   "id": "3bc1e247-7785-4174-98e5-3b16ce4304d7",
   "metadata": {},
   "outputs": [],
   "source": [
    "# node_w_zero_med"
   ]
  },
  {
   "cell_type": "markdown",
   "id": "04a2ddfa-4069-439b-92fc-64c573067853",
   "metadata": {},
   "source": [
    "### Reaches"
   ]
  },
  {
   "cell_type": "markdown",
   "id": "8d0bc7b0-693c-4609-9ac4-1e5db5e4a92c",
   "metadata": {},
   "source": [
    "#### Centiles"
   ]
  },
  {
   "cell_type": "code",
   "execution_count": null,
   "id": "a7d46000-6c6c-4e8e-9a61-79ee3f2e4ae3",
   "metadata": {},
   "outputs": [],
   "source": [
    "# def read_in_centiles"
   ]
  },
  {
   "cell_type": "code",
   "execution_count": null,
   "id": "234ef60b-847a-448e-9ad5-7bfeabaca692",
   "metadata": {},
   "outputs": [],
   "source": [
    "width = 'max'\n",
    "data_path = '/nas/cee-water/cjgleason/fiona/narrow_rivers_PIXC_output/PIXC_v2_0_HUC2_01_2025_02_04_' + width"
   ]
  },
  {
   "cell_type": "code",
   "execution_count": null,
   "id": "25ea462a-c150-45cd-be84-b15d5bb12102",
   "metadata": {},
   "outputs": [],
   "source": [
    "reaches_c = []\n",
    "\n",
    "for file in os.listdir(data_path):\n",
    "    if not file.startswith('.'):\n",
    "        reaches_c.append(file)"
   ]
  },
  {
   "cell_type": "code",
   "execution_count": null,
   "id": "ad2705ff-35a5-4af4-b6c6-4413b3e92cda",
   "metadata": {},
   "outputs": [],
   "source": [
    "# Make reaches dataframe\n",
    "d = []\n",
    "\n",
    "for file in reaches_c:\n",
    "    data = pd.read_parquet(os.path.join(data_path, file))\n",
    "    d.append(data)\n",
    "    \n",
    "reaches = pd.concat(d, axis=0, ignore_index=True)#.rename(columns={'Unnamed: 0': 'stat'})"
   ]
  },
  {
   "cell_type": "code",
   "execution_count": null,
   "id": "ba8f29b9-a7e1-4c3c-a000-c6c942864be4",
   "metadata": {},
   "outputs": [],
   "source": [
    "def get_order(reaches, order):\n",
    "    # Make sorted list of bins present\n",
    "    ordered = []\n",
    "    reach_bins = list(set(reaches.Bin.to_list()))\n",
    "\n",
    "    for i in order:\n",
    "        if i in reach_bins:\n",
    "            ordered.append(i)\n",
    "            \n",
    "    return ordered"
   ]
  },
  {
   "cell_type": "code",
   "execution_count": null,
   "id": "48db562a-c525-4cc9-bb0f-e5e3192039e7",
   "metadata": {},
   "outputs": [],
   "source": [
    "# Make sorted list of bins present\n",
    "ordered = []\n",
    "reach_bins = list(set(reaches.Bin.to_list()))\n",
    "\n",
    "for i in order:\n",
    "    if i in reach_bins:\n",
    "        ordered.append(i)\n",
    "# ordered"
   ]
  },
  {
   "cell_type": "code",
   "execution_count": null,
   "id": "4f6430e0-c755-4b01-9e9c-a8dc08fcfeee",
   "metadata": {},
   "outputs": [],
   "source": [
    "reaches[(reaches['Bin'] == '(90, 100]') & (reaches['quantile'] == 0.50) & (reaches['threshold'] == 0.1)]"
   ]
  },
  {
   "cell_type": "code",
   "execution_count": null,
   "id": "8c2a7545-6179-41d6-bb7c-76c621bc7903",
   "metadata": {},
   "outputs": [],
   "source": [
    "reaches_mean = reaches.groupby(['Bin','quantile','threshold']).mean().reset_index()"
   ]
  },
  {
   "cell_type": "code",
   "execution_count": null,
   "id": "ee0c13e3-e5e5-4fc7-a138-abc1687786bd",
   "metadata": {},
   "outputs": [],
   "source": [
    "# Convert to percentage\n",
    "reaches_mean[['coverage', 'threshold']] = reaches_mean[['coverage', 'threshold']]*100"
   ]
  },
  {
   "cell_type": "code",
   "execution_count": null,
   "id": "f0693f87-1bff-4aae-9533-1dc638fe2caf",
   "metadata": {},
   "outputs": [],
   "source": [
    "# thresholds = [10, 30, 50, 70, 90]\n",
    "reaches_subset = reaches_mean[(reaches_mean['threshold'] == 10) | (reaches_mean['threshold'] == 30) |\n",
    "                              (reaches_mean['threshold'] == 50) | (reaches_mean['threshold'] == 70) |\n",
    "                              (reaches_mean['threshold'] == 90)]"
   ]
  },
  {
   "cell_type": "code",
   "execution_count": null,
   "id": "ccb694cb-756e-4030-b134-62316a8c107e",
   "metadata": {},
   "outputs": [],
   "source": [
    "reach_ten = reaches_mean[reaches_mean['threshold'] == 10]\n",
    "# reach_ten = pd.DataFrame(reach_ten, columns=['NHDPlus HR reaches with > 10% detection in all nodes'])"
   ]
  },
  {
   "cell_type": "code",
   "execution_count": null,
   "id": "087032f9-3d4a-4d6c-b5ab-7d0d3b962095",
   "metadata": {},
   "outputs": [],
   "source": [
    "# ten_list = []\n",
    "# for binn in ordered:\n",
    "#     print(binn)\n",
    "#     coverage = reach_ten[reach_ten['Bin'] == binn].coverage.to_list()\n",
    "#     ten_list.append(coverage)"
   ]
  },
  {
   "cell_type": "code",
   "execution_count": null,
   "id": "9a69501e-3d0c-45c2-98d0-3c00f29d0e1a",
   "metadata": {},
   "outputs": [],
   "source": [
    "reach_thirty = reaches_mean[reaches_mean['threshold'] == 30]\n",
    "# reach_thirty = pd.DataFrame(reach_thirty, columns=['NHDPlus HR reaches with > 10% detection in all nodes'])"
   ]
  },
  {
   "cell_type": "code",
   "execution_count": null,
   "id": "acd83711-904d-46fe-bc56-998eed41d355",
   "metadata": {},
   "outputs": [],
   "source": [
    "reach_fifty = reaches_mean[reaches_mean['threshold'] == 50]\n",
    "# reach_fifty = pd.DataFrame(reach_fifty, columns=['NHDPlus HR reaches with > 10% detection in all nodes'])"
   ]
  },
  {
   "cell_type": "markdown",
   "id": "a68599ee-3ea5-4cb6-ae68-03830c3a7c28",
   "metadata": {
    "tags": []
   },
   "source": [
    "#### Describe"
   ]
  },
  {
   "cell_type": "code",
   "execution_count": null,
   "id": "249665f6-d080-43b0-a50b-d0ee57b89f29",
   "metadata": {},
   "outputs": [],
   "source": [
    "# Make reaches dataframe\n",
    "d = []\n",
    "for file in reaches_d:\n",
    "    data = pd.read_csv(os.path.join(data_path, file))\n",
    "    d.append(data)\n",
    "reaches_desc = pd.concat(d, axis=0, ignore_index=True)#.rename(columns={'Unnamed: 0': 'stat'})"
   ]
  },
  {
   "cell_type": "code",
   "execution_count": null,
   "id": "5a98bfe4-1d78-4a73-af39-814830d0ca8f",
   "metadata": {},
   "outputs": [],
   "source": [
    "# reaches_desc[reaches_desc['Bin'] == '(90, 100]']"
   ]
  },
  {
   "cell_type": "code",
   "execution_count": null,
   "id": "faa297c3-7faf-4fb3-b5a9-27bda424fba3",
   "metadata": {},
   "outputs": [],
   "source": [
    "reaches_desc"
   ]
  },
  {
   "cell_type": "code",
   "execution_count": null,
   "id": "8e2f110e-37fd-48fb-a7ec-cdd64d1dc54c",
   "metadata": {},
   "outputs": [],
   "source": [
    "# node_w_zero_mean = nodes_w_zero.groupby('Bin')[['mean','std']].mean()\n",
    "reaches_mean = reaches_desc.groupby(['Bin','threshold']).mean().reset_index()"
   ]
  },
  {
   "cell_type": "code",
   "execution_count": null,
   "id": "d5a084f4-320b-4686-b507-b0a533cabe96",
   "metadata": {},
   "outputs": [],
   "source": [
    "# Convert to percentage\n",
    "reaches_mean[['mean', 'std', 'min', '25%', '50%', '75%', 'max', 'threshold']] = reaches_mean[['mean', 'std', 'min', '25%', '50%', '75%', 'max', 'threshold']]*100"
   ]
  },
  {
   "cell_type": "code",
   "execution_count": null,
   "id": "254d42b5-cebf-43cf-bd43-a293a46e2917",
   "metadata": {},
   "outputs": [],
   "source": [
    "reach_ten = reaches_mean[reaches_mean['threshold'] == 10]\n",
    "# reach_ten = pd.DataFrame(reach_ten, columns=['NHDPlus HR reaches with > 10% detection in all nodes'])"
   ]
  },
  {
   "cell_type": "code",
   "execution_count": null,
   "id": "2bd4148b-3e97-4a6d-bf3a-43826fba16f6",
   "metadata": {},
   "outputs": [],
   "source": [
    "reach_thirty = reaches_mean[reaches_mean['threshold'] == 30]\n",
    "# reach_thirty = pd.DataFrame(reach_thirty, columns=['NHDPlus HR reaches with > 10% detection in all nodes'])"
   ]
  },
  {
   "cell_type": "code",
   "execution_count": null,
   "id": "b47809a1-0cd5-4e0a-92af-53f6466a2210",
   "metadata": {},
   "outputs": [],
   "source": [
    "reach_fifty = reaches_mean[reaches_mean['threshold'] == 50]\n",
    "# reach_fifty = pd.DataFrame(reach_fifty, columns=['NHDPlus HR reaches with > 10% detection in all nodes'])"
   ]
  },
  {
   "cell_type": "code",
   "execution_count": null,
   "id": "84d6e464-685f-4d28-8d43-2a00c1d6f82d",
   "metadata": {},
   "outputs": [],
   "source": [
    "reach_seventy = reaches_mean[reaches_mean['threshold'] == 70]\n",
    "# reach_seventy = pd.DataFrame(reach_seventy, columns=['NHDPlus HR reaches with > 10% detection in all nodes'])"
   ]
  },
  {
   "cell_type": "code",
   "execution_count": null,
   "id": "cae74c82-4313-4900-9997-dc28838bf11f",
   "metadata": {},
   "outputs": [],
   "source": [
    "reach_ninety = reaches_mean[reaches_mean['threshold'] == 90]\n",
    "# reach_ninety = pd.DataFrame(reach_ninety, columns=['NHDPlus HR reaches with > 10% detection in all nodes'])"
   ]
  },
  {
   "cell_type": "code",
   "execution_count": null,
   "id": "2886fabb-8123-4d55-aaad-6af38e2a0b26",
   "metadata": {},
   "outputs": [],
   "source": [
    "# reach_ninety = reach[reach['threshold'] == 0.9].drop(columns='threshold').mean()\n",
    "# reach_ninety = pd.DataFrame(reach_ninety, columns=['NHDPlus HR reaches with 90% threshold'])"
   ]
  },
  {
   "cell_type": "code",
   "execution_count": null,
   "id": "7b9bbd3a-4178-41df-85eb-d99f03024b1c",
   "metadata": {},
   "outputs": [],
   "source": [
    "# both = pd.merge(reach_ten, reach_thirty, left_on=reach_ten['Bin'], right_on=reach_thirty['Bin']).drop(columns='key_0')"
   ]
  },
  {
   "cell_type": "code",
   "execution_count": null,
   "id": "a0bb27cd-4afa-4f36-be55-054ea2a1abba",
   "metadata": {},
   "outputs": [],
   "source": [
    "reach_all = pd.concat([reach_ten, reach_thirty, reach_fifty, reach_seventy, reach_ninety])"
   ]
  },
  {
   "cell_type": "code",
   "execution_count": null,
   "id": "85bd71ab-0d89-4703-a9c0-65d3a4bafbaa",
   "metadata": {},
   "outputs": [],
   "source": [
    "reach_all['threshold'] = reach_all['threshold'].astype('int')"
   ]
  },
  {
   "cell_type": "markdown",
   "id": "613ad699-d4eb-4dfd-aac9-bc0c010733e0",
   "metadata": {},
   "source": [
    "### Plot data"
   ]
  },
  {
   "cell_type": "code",
   "execution_count": null,
   "id": "5bdbafaf-b746-4acd-b1f6-310ae31c29bf",
   "metadata": {},
   "outputs": [],
   "source": [
    "# # Make sorted list of bins present\n",
    "# ordered = []\n",
    "# node_bins = node_w_zero_mean.Bin.to_list()\n",
    "# for i in order:\n",
    "#     if i in node_bins:\n",
    "#         ordered.append(i)\n",
    "# # ordered"
   ]
  },
  {
   "cell_type": "code",
   "execution_count": null,
   "id": "d93416dd-1dac-4da9-b8a0-e4df8ddd9403",
   "metadata": {},
   "outputs": [],
   "source": [
    "def truncate_colormap(cmap, minval=0.0, maxval=1.0, n=100):\n",
    "    new_cmap = colors.LinearSegmentedColormap.from_list(\n",
    "        'trunc({n},{a:.2f},{b:.2f})'.format(n=cmap.name, a=minval, b=maxval),\n",
    "        cmap(np.linspace(minval, maxval, n)))\n",
    "    return new_cmap"
   ]
  },
  {
   "cell_type": "code",
   "execution_count": null,
   "id": "f11c968a-533f-4aea-8d60-f89d8d0868c7",
   "metadata": {},
   "outputs": [],
   "source": [
    "cmap = plt.get_cmap('cubehelix')\n",
    "new_cmap = truncate_colormap(cmap, 0.2, 0.75)"
   ]
  },
  {
   "cell_type": "code",
   "execution_count": null,
   "id": "81c270e9-2442-42d3-a7cd-ca4992e11b83",
   "metadata": {},
   "outputs": [],
   "source": [
    "save_path = '/nas/cee-water/cjgleason/fiona/narrow_rivers_PIXC/figures_for_2025_02_24/'"
   ]
  },
  {
   "cell_type": "markdown",
   "id": "ffb72fbd-d284-4f06-90f0-4eb599ba1193",
   "metadata": {
    "jp-MarkdownHeadingCollapsed": true,
    "tags": []
   },
   "source": [
    "#### Old"
   ]
  },
  {
   "cell_type": "code",
   "execution_count": null,
   "id": "1d19043c-d77d-46be-b3c1-3edf51b6785f",
   "metadata": {},
   "outputs": [],
   "source": [
    "# fig, ax = plt.subplots(figsize=(16,8))\n",
    "\n",
    "# # node_w_zero_mean.plot.bar(ax=ax, y='mean', yerr='std',\n",
    "# #                           color='#8F7A3D', ecolor='blue',\n",
    "# #                           # linewidth=5, \n",
    "# #                           legend=False)\n",
    "\n",
    "# # Create bar plot with error bars\n",
    "# sns.barplot(x=node_w_zero_mean['Bin'], y=node_w_zero_mean['mean'],\n",
    "#         color='cyan',\n",
    "#             #'#8F7A3D',\n",
    "#             alpha=0.8)\n",
    "\n",
    "# plt.errorbar(x=node_w_zero_mean['Bin'], y=node_w_zero_mean['mean'],\n",
    "#              yerr=node_w_zero_mean['std'], color='none', ecolor='k',\n",
    "#              capsize=5, capthick=3, elinewidth=3)\n",
    "\n",
    "# # Set number of ticks for x-axis\n",
    "# ax.set_xticks(range(len(ordered)))\n",
    "# # Set ticks labels for x-axis\n",
    "# ax.set_xticklabels(ordered)\n",
    "\n",
    "# plt.ylim(0,75)\n",
    "\n",
    "# # plt.legend(fontsize=16)\n",
    "\n",
    "# plt.xticks(fontsize=12, rotation=-45)\n",
    "\n",
    "# plt.yticks(fontsize=12)\n",
    "\n",
    "# plt.xlabel('Width Bin [m]', fontsize=16)\n",
    "# plt.ylabel('Mean percent area detected', fontsize=16)"
   ]
  },
  {
   "cell_type": "code",
   "execution_count": null,
   "id": "b8916adb-f1ac-4163-a6f4-be4581a7780a",
   "metadata": {},
   "outputs": [],
   "source": [
    "fig, ax = plt.subplots(figsize=(20, 8))\n",
    "\n",
    "sns.barplot(data=reach_all, x='Bin', y='mean', hue='threshold',\n",
    "            palette=new_cmap, ax=ax, alpha=0.9)\n",
    "\n",
    "plt.legend(title='Threshold [%]', title_fontsize=16,\n",
    "           fontsize=16)\n",
    "\n",
    "# Set number of ticks for x-axis\n",
    "ax.set_xticks(range(len(ordered)))\n",
    "# Set ticks labels for x-axis\n",
    "ax.set_xticklabels(ordered)\n",
    "\n",
    "# plt.ylim(0,70)\n",
    "\n",
    "# plt.legend(fontsize=16)\n",
    "\n",
    "plt.xticks(fontsize=12, rotation=-45)\n",
    "\n",
    "plt.yticks(fontsize=12)\n",
    "\n",
    "plt.xlabel('Width Bin [m]', fontsize=16,\n",
    "           labelpad=20)\n",
    "plt.ylabel('Mean percent area detected', fontsize=16)\n",
    "# #Establish order of x-values and hues; retreive number of hues\n",
    "# order = set(reach_all[\"Bin\"]); hue_order=set(reach_all[\"threshold\"]); n_hues = len(hue_order)\n",
    "\n",
    "# # #Make bar plot\n",
    "# # ax = sns.barplot(x=\"conc\", y=\"average\", order=order, \n",
    "# #                  hue=\"channel\", hue_order=hue_order, data=df, ci=None)\n",
    "\n",
    "# # Get the bar width of the plot\n",
    "# bar_width = ax.patches[0].get_width()\n",
    "# #Calculate offsets for number of hues provided\n",
    "# offset = np.linspace(-n_hues / 2, n_hues / 2, n_hues)*bar_width*n_hues/(n_hues+1); # Scale offset by number of hues, (dividing by n_hues+1 accounts for the half bar widths to the left and right of the first and last error bars.\n",
    "# #Create dictionary to map x values and hues to specific x-positions and offsets\n",
    "# x_dict = dict((x_val,x_pos) for x_pos,x_val in list(enumerate(order)))\n",
    "# hue_dict = dict((hue_pos,hue_val) for hue_val,hue_pos in list(zip(offset,hue_order)))\n",
    "# #Map the x-position and offset of each record in the dataset\n",
    "# x_values = np.array([x_dict[x] for x in reach_all[\"Bin\"]]);\n",
    "# hue_values = np.array([hue_dict[x] for x in reach_all[\"threshold\"]]);\n",
    "# #Overlay the error bars onto plot\n",
    "# plt.errorbar(x = x_values+hue_values, y=reach_all['mean'], yerr=reach_all['std'], fmt='none', c='black', capsize = 2)\n",
    "\n",
    "\n",
    "# # plt.errorbar(x=reach_all['Bin'], y=reach_all['mean'],\n",
    "# #              yerr=reach_all['std'], color='none', ecolor='k',\n",
    "# #              capsize=5, capthick=3, elinewidth=3)\n",
    "\n",
    "# plt.ylim(0,90)"
   ]
  },
  {
   "cell_type": "code",
   "execution_count": null,
   "id": "69569021-f5d0-4307-9aec-36dbab662fd3",
   "metadata": {},
   "outputs": [],
   "source": [
    "# fig, ax = plt.subplots(figsize=(12,8))\n",
    "\n",
    "# cmap = plt.get_cmap('cubehelix')\n",
    "# new_cmap = truncate_colormap(cmap, 0.2, 0.75)\n",
    "\n",
    "# both.plot.bar(ax=ax, cmap=new_cmap)\n",
    "\n",
    "# # Set number of ticks for x-axis\n",
    "# ax.set_xticks(range(len(ordered)))\n",
    "# # Set ticks labels for x-axis\n",
    "# ax.set_xticklabels(ordered)\n",
    "\n",
    "# plt.ylim(0,0.7)\n",
    "\n",
    "# plt.legend(fontsize=14)\n",
    "\n",
    "# plt.xticks(fontsize=14)\n",
    "# plt.yticks(fontsize=14)\n",
    "\n",
    "# plt.xlabel('Width Bin [m]', fontsize=16)\n",
    "# plt.ylabel('Proportion detected', fontsize=16)"
   ]
  },
  {
   "cell_type": "code",
   "execution_count": null,
   "id": "7d86c289-9af5-4e69-94d8-6481d69deac9",
   "metadata": {},
   "outputs": [],
   "source": [
    "fig, ax = plt.subplots(figsize=(16,8))\n",
    "\n",
    "# Create bar plot with error bars\n",
    "sns.barplot(x=reach_ten['Bin'], y=reach_ten['mean'],\n",
    "        color='#8F7A3D',#'#2D7038',\n",
    "            alpha=0.8)\n",
    "\n",
    "plt.errorbar(x=reach_ten['Bin'], y=reach_ten['mean'],\n",
    "             yerr=reach_ten['std'], color='none', ecolor='k',\n",
    "             capsize=5, capthick=3, elinewidth=3)\n",
    "\n",
    "# Set number of ticks for x-axis\n",
    "ax.set_xticks(range(len(ordered)))\n",
    "# Set ticks labels for x-axis\n",
    "ax.set_xticklabels(ordered)\n",
    "\n",
    "plt.ylim(0,75)\n",
    "\n",
    "plt.xticks(fontsize=12, rotation=-45)\n",
    "\n",
    "plt.yticks(fontsize=12)\n",
    "\n",
    "plt.xlabel('Width Bin [m]', fontsize=16)\n",
    "plt.ylabel('Mean percent area detected', fontsize=16)"
   ]
  },
  {
   "cell_type": "code",
   "execution_count": null,
   "id": "bbe62734-3f71-4784-97f6-73b9b74e66db",
   "metadata": {},
   "outputs": [],
   "source": [
    "fig, ax = plt.subplots(figsize=(16,8))\n",
    "\n",
    "# Create bar plot with error bars\n",
    "sns.barplot(x=reach_fifty['Bin'], y=reach_fifty['mean'],\n",
    "        color='#2D7038')\n",
    "\n",
    "plt.errorbar(x=reach_fifty['Bin'], y=reach_fifty['mean'],\n",
    "             yerr=reach_fifty['std'], color='none', ecolor='k',\n",
    "             capsize=5, capthick=3, elinewidth=3)\n",
    "\n",
    "# Set number of ticks for x-axis\n",
    "ax.set_xticks(range(len(ordered)))\n",
    "# Set ticks labels for x-axis\n",
    "ax.set_xticklabels(ordered)\n",
    "\n",
    "plt.ylim(0,75)\n",
    "\n",
    "plt.xticks(fontsize=12, rotation=-45)\n",
    "\n",
    "plt.yticks(fontsize=12)\n",
    "\n",
    "plt.xlabel('Width Bin [m]', fontsize=16)\n",
    "plt.ylabel('Mean percent area detected', fontsize=16)"
   ]
  },
  {
   "cell_type": "code",
   "execution_count": null,
   "id": "228c75c9-6e01-4e75-9d6b-45fb9810cd6e",
   "metadata": {},
   "outputs": [],
   "source": [
    "# fig, ax = plt.subplots(figsize=(12,8))\n",
    "\n",
    "# both['NHDPlus HR reaches with 30% threshold'].plot.bar(ax=ax, color='#2D7038',\n",
    "#                                                        legend=False)\n",
    "\n",
    "# # Set number of ticks for x-axis\n",
    "# ax.set_xticks(range(len(ordered)))\n",
    "# # Set ticks labels for x-axis\n",
    "# ax.set_xticklabels(ordered)\n",
    "\n",
    "# # plt.ylim(0,0.7)\n",
    "\n",
    "# plt.xticks(fontsize=14)\n",
    "# plt.yticks(fontsize=14)\n",
    "\n",
    "# plt.xlabel('Width Bin [m]', fontsize=16)\n",
    "# plt.ylabel('Proportion detected', fontsize=16)"
   ]
  },
  {
   "cell_type": "markdown",
   "id": "32f9863a-6eb7-4064-b928-ce5e8fb047e4",
   "metadata": {},
   "source": [
    "#### New"
   ]
  },
  {
   "cell_type": "code",
   "execution_count": null,
   "id": "f9a1c1ac-e599-43c3-9cfb-f038552cc7b5",
   "metadata": {},
   "outputs": [],
   "source": [
    "fig, ax = plt.subplots(figsize=(12,6))\n",
    "sns.boxplot(x='Bin', y='coverage',\n",
    "            data=reach_thirty, order=ordered, color='#2D7038',\n",
    "            saturation=1, showmeans=True,\n",
    "            fliersize=2, linewidth=2,\n",
    "            boxprops=dict(alpha=0.8),\n",
    "            meanprops={'marker':'o',\n",
    "                       'markerfacecolor':'white',\n",
    "                       'markeredgecolor':'k',\n",
    "                       'markersize':'8'})\n",
    "\n",
    "plt.title('Bieger et al. width: ' + width, fontsize=16,\n",
    "           fontweight='bold')\n",
    "plt.xticks(fontsize=14, fontweight='semibold', rotation=-45)\n",
    "plt.yticks(fontsize=14, fontweight='semibold',)\n",
    "\n",
    "plt.xlabel('Width Bin [m]', fontsize=16,\n",
    "           fontweight='bold', labelpad=20)\n",
    "plt.ylabel('Detected [%]', fontsize=16,\n",
    "           fontweight='bold')\n",
    "\n",
    "plt.savefig(fname=save_path + 'thirty_' + width + '.png', dpi=300, bbox_inches='tight')"
   ]
  },
  {
   "cell_type": "code",
   "execution_count": null,
   "id": "9e18047f-023f-43a5-a1ec-14d6cfe3e6ba",
   "metadata": {},
   "outputs": [],
   "source": [
    "fig, ax = plt.subplots(figsize=(20,8))\n",
    "sns.boxplot(x='Bin', y='coverage', hue='threshold',\n",
    "            data=reaches_subset, order=ordered, palette=new_cmap,\n",
    "            saturation=1, showmeans=True,\n",
    "            fliersize=2, legend=False,\n",
    "            boxprops=dict(alpha=0.8),\n",
    "            meanprops={'marker':'o',\n",
    "                       'markerfacecolor':'white',\n",
    "                       'markeredgecolor':'k',\n",
    "                       'markersize':'4'})\n",
    "\n",
    "plt.title('Bieger et al. width: ' + width, fontsize=16,\n",
    "           fontweight='bold')\n",
    "\n",
    "plt.xticks(fontsize=14, fontweight='semibold', rotation=-45)\n",
    "plt.yticks(fontsize=14, fontweight='semibold',)\n",
    "\n",
    "plt.xlabel('Width Bin [m]', fontsize=16,\n",
    "           fontweight='bold', labelpad=20)\n",
    "plt.ylabel('Detected [%]', fontsize=16,\n",
    "           fontweight='bold')\n",
    "\n",
    "# plt.legend(title='Threshold [%]', #loc='upper right',\n",
    "#            title_fontproperties={'weight': 'bold',\n",
    "#                                  'size': 14},\n",
    "#            prop={'weight': 'semibold',\n",
    "#                  'size': 12})\n",
    "\n",
    "plt.savefig(fname=save_path + 'all_' + width + '.png', dpi=300, bbox_inches='tight')"
   ]
  },
  {
   "cell_type": "markdown",
   "id": "1d050e83-615f-42ea-bd0d-b2b617fb9d73",
   "metadata": {
    "jp-MarkdownHeadingCollapsed": true,
    "tags": []
   },
   "source": [
    "### For Later"
   ]
  },
  {
   "cell_type": "code",
   "execution_count": null,
   "id": "87954600-7a9e-4864-bdec-a339e4833bf2",
   "metadata": {},
   "outputs": [],
   "source": [
    "# Group by the 'Bin' column and compute the weighted mean for each group\n",
    "def weighted_mean(group):\n",
    "    return (group['count'] * group['mean']).sum() / group['count'].sum()\n",
    "\n",
    "# Apply the weighted mean function to each group\n",
    "weighted_means = nodes_desc.groupby('Bin').apply(weighted_mean).reset_index(name='Weighted Mean')"
   ]
  },
  {
   "cell_type": "code",
   "execution_count": null,
   "id": "5cbde6ff-fe34-4529-9c8d-29591b13294c",
   "metadata": {},
   "outputs": [],
   "source": [
    "weighted_means"
   ]
  },
  {
   "cell_type": "code",
   "execution_count": null,
   "id": "fe32f862-a923-4eae-943c-364b5e40aa27",
   "metadata": {},
   "outputs": [],
   "source": [
    "# Group by the 'Bin' column\n",
    "def weighted_std(group, weighted_mean):\n",
    "    # Compute the weighted variance\n",
    "    weighted_variance = ((group['count'] * ((group['mean'] - weighted_mean)**2 + group['std']**2)).sum()) / group['count'].sum()\n",
    "    return weighted_variance**0.5\n",
    "\n",
    "# Compute the weighted mean first\n",
    "weighted_mean = (nodes_desc['count' ] * nodes_desc['mean']).sum() / nodes_desc['count'].sum()\n",
    "\n",
    "# Apply the weighted std function to each group\n",
    "weighted_stds = nodes_desc.groupby('Bin').apply(weighted_std, weighted_mean=weighted_mean).reset_index(name='Weighted Std')"
   ]
  },
  {
   "cell_type": "code",
   "execution_count": null,
   "id": "f56daf70-0f6f-4323-81c5-e4454c7257b3",
   "metadata": {},
   "outputs": [],
   "source": [
    "weighted_stds"
   ]
  },
  {
   "cell_type": "code",
   "execution_count": null,
   "id": "b86d0377-13e4-4732-9acc-fdceb9072c89",
   "metadata": {},
   "outputs": [],
   "source": [
    "# Remove rows where the mean or standard deviation is NaN (e.g., row with index 15)\n",
    "df = df.dropna(subset=['Mean', 'Std'])\n",
    "\n",
    "# Group by the 'Bin' column\n",
    "def weighted_std(group, weighted_mean):\n",
    "    # Compute the weighted variance\n",
    "    weighted_variance = ((group['Count'] * ((group['Mean'] - weighted_mean)**2 + group['Std']**2)).sum()) / group['Count'].sum())\n",
    "    return weighted_variance**0.5\n",
    "\n",
    "# Compute the weighted mean first\n",
    "weighted_mean = (df['Count'] * df['Mean']).sum() / df['Count'].sum()\n",
    "\n",
    "# Compute the weighted standard deviation first\n",
    "weighted_stds = df.groupby('Bin').apply(weighted_std, weighted_mean=weighted_mean).reset_index(name='Weighted Std')\n",
    "\n",
    "# Calculate the weighted standard error for each bin (Std / sqrt(Count))\n",
    "weighted_stds['Weighted Std Error'] = weighted_stds['Weighted Std'] / np.sqrt(df.groupby('Bin')['Count'].sum().values)\n",
    "\n",
    "# Print the results\n",
    "print(weighted_stds)"
   ]
  },
  {
   "cell_type": "code",
   "execution_count": null,
   "id": "2daf3d15-60f3-41de-8a87-b4f342ee1f2f",
   "metadata": {},
   "outputs": [],
   "source": [
    "# nodes_desc[nodes_desc['Bin'] == '(100, 150]']"
   ]
  },
  {
   "cell_type": "code",
   "execution_count": null,
   "id": "f1e073cd-b885-478e-a67f-4db8eb99cb57",
   "metadata": {},
   "outputs": [],
   "source": [
    "# # Make nodes dataframe\n",
    "# d = []\n",
    "# for file in nodes_quant:\n",
    "#     data = pd.read_csv(os.path.join(data_path, file))\n",
    "#     d.append(data)\n",
    "# nodes_quant = pd.concat(d, axis=0, ignore_index=True)#.rename(columns={'Unnamed: 0': 'stat'})"
   ]
  },
  {
   "cell_type": "code",
   "execution_count": null,
   "id": "96d2bb0e-2b9e-4115-88f4-65c044103924",
   "metadata": {},
   "outputs": [],
   "source": [
    "# nodes_quant = nodes_quant[nodes_quant['with_zero'] == 1]"
   ]
  },
  {
   "cell_type": "code",
   "execution_count": null,
   "id": "5fdfcd82-5350-4b5f-9739-464ee8f6b40e",
   "metadata": {},
   "outputs": [],
   "source": [
    "# nodes_quant_binned = nodes_quant.groupby(['Bin', 'quantile']).mean().reset_index().drop(columns=['Unnamed: 0', 'with_zero'])"
   ]
  },
  {
   "cell_type": "code",
   "execution_count": null,
   "id": "3ed3f44d-c7c0-4843-90d0-344092d714db",
   "metadata": {},
   "outputs": [],
   "source": [
    "# nodes_quant_binned"
   ]
  },
  {
   "cell_type": "code",
   "execution_count": null,
   "id": "717b7650-c2cd-48e9-90fa-b3edb98821ae",
   "metadata": {},
   "outputs": [],
   "source": [
    "# nodes_quant_binned[nodes_quant_binned['Bin'] == '(0, 10]']#.coverage.to_list()"
   ]
  },
  {
   "cell_type": "code",
   "execution_count": null,
   "id": "7c80f989-67b0-4e8f-a5ce-01ee8c7c0325",
   "metadata": {},
   "outputs": [],
   "source": [
    "# Example: two groups of coverage data for two rivers\n",
    "# Coverage values for River 1 and River 2 (from the data you provided)\n",
    "river1_coverage = [0.0, 0.000356, 0.00166, 0.0042, 0.00691, 0.00935, 0.01078, 0.01217, 0.01308, 0.01471]  # And more...\n",
    "river2_coverage = [0.0, 0.00205, 0.00407, 0.00496, 0.00627, 0.00766, 0.01038, 0.01121, 0.0121, 0.01261]  # And more...\n",
    "\n",
    "# Combine these two rivers' data into a list of groups\n",
    "data = [river1_coverage, river2_coverage]"
   ]
  },
  {
   "cell_type": "code",
   "execution_count": null,
   "id": "ac0c0a08-5920-4dd3-b5c5-3f209071ca0f",
   "metadata": {},
   "outputs": [],
   "source": [
    "# Example: two groups of coverage data for two rivers\n",
    "# Coverage values for River 1 and River 2 (from the data you provided)\n",
    "river1_coverage = [0.0, 0.000356, 0.00166, 0.0042, 0.00691, 0.00935, 0.01078, 0.01217, 0.01308, 0.01471]  # And more...\n",
    "river2_coverage = [0.0, 0.00205, 0.00407, 0.00496, 0.00627, 0.00766, 0.01038, 0.01121, 0.0121, 0.01261]  # And more...\n",
    "\n",
    "# Combine these two rivers' data into a list of groups\n",
    "data = [river1_coverage, river2_coverage]\n",
    "\n",
    "# Create a boxplot\n",
    "plt.boxplot(data, tick_labels=['River 1', 'River 2'])\n",
    "\n",
    "# Set titles and labels\n",
    "plt.title('Coverage Comparison between Rivers')\n",
    "plt.ylabel('Coverage Value')\n",
    "\n",
    "# Show plot\n",
    "plt.show()"
   ]
  },
  {
   "cell_type": "code",
   "execution_count": null,
   "id": "fd04dfe1-ae7a-4b80-af5d-336216586ea9",
   "metadata": {},
   "outputs": [],
   "source": [
    "# node_w_zero = node[node['with_zero'] == 1]"
   ]
  },
  {
   "cell_type": "code",
   "execution_count": null,
   "id": "cd2d1e28-cba7-4f23-9dfc-d37d80774946",
   "metadata": {},
   "outputs": [],
   "source": [
    "# node_w_zero"
   ]
  },
  {
   "cell_type": "code",
   "execution_count": null,
   "id": "5dfb6c0b-7731-4904-9660-574dcc612ca0",
   "metadata": {},
   "outputs": [],
   "source": []
  },
  {
   "cell_type": "code",
   "execution_count": null,
   "id": "6610aaf7-6e16-4a3b-8595-9e038588de4f",
   "metadata": {},
   "outputs": [],
   "source": [
    "# node_mean = node[node['stat'] == 'mean'].drop(columns='stat').mean()"
   ]
  },
  {
   "cell_type": "code",
   "execution_count": null,
   "id": "77a42f6b-10d7-484f-b65c-e73c127dcbe9",
   "metadata": {},
   "outputs": [],
   "source": [
    "# node_mean = pd.DataFrame(node_mean, columns=['Pseudo-nodes'])"
   ]
  }
 ],
 "metadata": {
  "kernelspec": {
   "display_name": "Python [conda env:.conda-narrowPIXC]",
   "language": "python",
   "name": "conda-env-.conda-narrowPIXC-py"
  },
  "language_info": {
   "codemirror_mode": {
    "name": "ipython",
    "version": 3
   },
   "file_extension": ".py",
   "mimetype": "text/x-python",
   "name": "python",
   "nbconvert_exporter": "python",
   "pygments_lexer": "ipython3",
   "version": "3.12.4"
  }
 },
 "nbformat": 4,
 "nbformat_minor": 5
}
