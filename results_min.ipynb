{
 "cells": [
  {
   "cell_type": "code",
   "execution_count": 1,
   "id": "69985103-f8d1-432d-9bd1-f0d6a8f90250",
   "metadata": {},
   "outputs": [],
   "source": [
    "import os\n",
    "\n",
    "import matplotlib.pyplot as plt\n",
    "import numpy as np\n",
    "import pandas as pd\n",
    "import seaborn as sns\n",
    "\n",
    "import matplotlib.colors as colors\n",
    "import matplotlib.patches as mpatches"
   ]
  },
  {
   "cell_type": "code",
   "execution_count": 2,
   "id": "17993035-71d5-4b4d-a8fc-c92203fbf7a3",
   "metadata": {},
   "outputs": [],
   "source": [
    "# Order of all possible bins for plotting\n",
    "order = ['(0, 10]', '(10, 20]', '(20, 30]', '(30, 40]', '(40, 50]',\n",
    "         '(50, 60]', '(60, 70]', '(70, 80]', '(80, 90]', '(90, 100]',\n",
    "         '(100, 150]', '(150, 200]', '(200, 500]', '(500, 1000]']"
   ]
  },
  {
   "cell_type": "code",
   "execution_count": 3,
   "id": "5b1ab531-e6ad-4937-b355-31e5fda45821",
   "metadata": {},
   "outputs": [],
   "source": [
    "def get_order(reaches, order):\n",
    "    # Make sorted list of bins present\n",
    "    ordered = []\n",
    "    reach_bins = list(set(reaches[binn].to_list()))\n",
    "\n",
    "    for i in order:\n",
    "        if i in reach_bins:\n",
    "            ordered.append(i)\n",
    "            \n",
    "    return ordered"
   ]
  },
  {
   "cell_type": "code",
   "execution_count": 4,
   "id": "30c5862f-7794-4171-9d20-1b7d59e4f18c",
   "metadata": {},
   "outputs": [],
   "source": [
    "def truncate_colormap(cmap, minval=0.0, maxval=1.0, n=100):\n",
    "    new_cmap = colors.LinearSegmentedColormap.from_list(\n",
    "        'trunc({n},{a:.2f},{b:.2f})'.format(n=cmap.name, a=minval, b=maxval),\n",
    "        cmap(np.linspace(minval, maxval, n)))\n",
    "    return new_cmap"
   ]
  },
  {
   "cell_type": "markdown",
   "id": "9ab323a4-f05f-4db4-b9a5-93371f2492d3",
   "metadata": {
    "tags": []
   },
   "source": [
    "## Get data"
   ]
  },
  {
   "cell_type": "markdown",
   "id": "b24aeea0-1f16-49da-8349-752de65d866b",
   "metadata": {},
   "source": [
    "### Min"
   ]
  },
  {
   "cell_type": "code",
   "execution_count": 5,
   "id": "bfc15146-aedb-4f94-b963-0c01ca982fac",
   "metadata": {
    "jp-MarkdownHeadingCollapsed": true,
    "tags": []
   },
   "outputs": [],
   "source": [
    "width = 'min'\n",
    "binn = 'Bin_Min' #'Bin_Max'\n",
    "data_path = '/nas/cee-water/cjgleason/fiona/narrow_rivers_PIXC_output/PIXC_v2_0_HUC2_01_2025_03_02_' + width"
   ]
  },
  {
   "cell_type": "code",
   "execution_count": 6,
   "id": "d1c571e7-eef1-4388-84c8-e383382cb550",
   "metadata": {},
   "outputs": [],
   "source": [
    "reaches_min = []\n",
    "\n",
    "for file in os.listdir(data_path):\n",
    "    if not file.startswith('.'):\n",
    "        if 'min' in file:\n",
    "            reaches_min.append(file)"
   ]
  },
  {
   "cell_type": "code",
   "execution_count": 7,
   "id": "1a604bac-7126-4376-9fea-442f98297a5c",
   "metadata": {},
   "outputs": [],
   "source": [
    "# Read in all files\n",
    "d = []\n",
    "\n",
    "for file in reaches_min:\n",
    "    data = pd.read_parquet(os.path.join(data_path, file))\n",
    "    d.append(data)"
   ]
  },
  {
   "cell_type": "code",
   "execution_count": 8,
   "id": "c91a5f14-a3fd-42ee-9a61-645d0a9f8a8c",
   "metadata": {},
   "outputs": [],
   "source": [
    "# Make reaches dataframe\n",
    "reaches_min = pd.concat(d, axis=0, ignore_index=True)#.rename(columns={'Unnamed: 0': 'stat'})\n",
    "reaches_min['coverage'] = reaches_min['coverage']*100"
   ]
  },
  {
   "cell_type": "code",
   "execution_count": 9,
   "id": "329d974b-7a93-41d3-afd6-75db16f3d9f3",
   "metadata": {},
   "outputs": [],
   "source": [
    "reaches_min['width'] = width"
   ]
  },
  {
   "cell_type": "code",
   "execution_count": 10,
   "id": "2393731f-cd20-4068-baf2-c7eeeda4836b",
   "metadata": {},
   "outputs": [],
   "source": [
    "# Make sorted list of bins present\n",
    "ordered_min = []\n",
    "reach_bins = list(set(reaches_min[binn].to_list()))\n",
    "\n",
    "for i in order:\n",
    "    if i in reach_bins:\n",
    "        ordered_min.append(i)"
   ]
  },
  {
   "cell_type": "markdown",
   "id": "ebc850b6-ce7e-47ba-8faa-d38abeed2b58",
   "metadata": {},
   "source": [
    "### Mean"
   ]
  },
  {
   "cell_type": "code",
   "execution_count": 11,
   "id": "d3117f86-f04d-43f4-ad32-5ddd4d74a3df",
   "metadata": {
    "jp-MarkdownHeadingCollapsed": true,
    "tags": []
   },
   "outputs": [],
   "source": [
    "width = 'mean'\n",
    "binn = 'Bin' #'Bin_Max'\n",
    "data_path = '/nas/cee-water/cjgleason/fiona/narrow_rivers_PIXC_output/PIXC_v2_0_HUC2_01_2025_03_02_' + width"
   ]
  },
  {
   "cell_type": "code",
   "execution_count": 12,
   "id": "9340a77b-53c6-439f-bb4f-9ada2a73f4c5",
   "metadata": {},
   "outputs": [],
   "source": [
    "reaches_mean = []\n",
    "\n",
    "for file in os.listdir(data_path):\n",
    "    if not file.startswith('.'):\n",
    "        if 'min' in file:\n",
    "            reaches_mean.append(file)"
   ]
  },
  {
   "cell_type": "code",
   "execution_count": 13,
   "id": "626b403e-96cb-436c-8ef4-dd00a4e1aa84",
   "metadata": {},
   "outputs": [],
   "source": [
    "# Read in all files\n",
    "d = []\n",
    "\n",
    "for file in reaches_mean:\n",
    "    data = pd.read_parquet(os.path.join(data_path, file))\n",
    "    d.append(data)"
   ]
  },
  {
   "cell_type": "code",
   "execution_count": 14,
   "id": "bac70f3a-45c8-470b-b117-0bc269322d80",
   "metadata": {},
   "outputs": [],
   "source": [
    "# Make reaches dataframe\n",
    "reaches_mean = pd.concat(d, axis=0, ignore_index=True)#.rename(columns={'Unnamed: 0': 'stat'})\n",
    "reaches_mean['coverage'] = reaches_mean['coverage']*100"
   ]
  },
  {
   "cell_type": "code",
   "execution_count": 15,
   "id": "2fdc0143-54e8-410a-a6b1-cf3e9ea3d3d3",
   "metadata": {},
   "outputs": [],
   "source": [
    "reaches_mean['width'] = width"
   ]
  },
  {
   "cell_type": "code",
   "execution_count": 16,
   "id": "4a17f615-322a-4384-8597-5c45284e2919",
   "metadata": {},
   "outputs": [],
   "source": [
    "# Make sorted list of bins present\n",
    "ordered_mean = []\n",
    "reach_bins = list(set(reaches_mean[binn].to_list()))\n",
    "\n",
    "for i in order:\n",
    "    if i in reach_bins:\n",
    "        ordered_mean.append(i)"
   ]
  },
  {
   "cell_type": "markdown",
   "id": "41f88343-d4ee-4ad2-825b-af85376225cf",
   "metadata": {},
   "source": [
    "### Max"
   ]
  },
  {
   "cell_type": "code",
   "execution_count": 17,
   "id": "a5c4c51a-2c38-4519-ac8b-01bfe9d200d3",
   "metadata": {
    "jp-MarkdownHeadingCollapsed": true,
    "tags": []
   },
   "outputs": [],
   "source": [
    "width = 'max'\n",
    "binn = 'Bin_Max'\n",
    "data_path = '/nas/cee-water/cjgleason/fiona/narrow_rivers_PIXC_output/PIXC_v2_0_HUC2_01_2025_03_02_' + width"
   ]
  },
  {
   "cell_type": "code",
   "execution_count": 18,
   "id": "26a84303-afc9-44dc-8378-49036dc722d6",
   "metadata": {},
   "outputs": [],
   "source": [
    "reaches_max = []\n",
    "\n",
    "for file in os.listdir(data_path):\n",
    "    if not file.startswith('.'):\n",
    "        if 'min' in file:\n",
    "            reaches_max.append(file)"
   ]
  },
  {
   "cell_type": "code",
   "execution_count": 19,
   "id": "77d67c26-5e1b-4322-8b05-7ec8d10e4b19",
   "metadata": {},
   "outputs": [],
   "source": [
    "# Read in all files\n",
    "d = []\n",
    "\n",
    "for file in reaches_max:\n",
    "    data = pd.read_parquet(os.path.join(data_path, file))\n",
    "    d.append(data)"
   ]
  },
  {
   "cell_type": "code",
   "execution_count": 20,
   "id": "4303ebe5-000b-42ee-9203-daed5733668f",
   "metadata": {},
   "outputs": [],
   "source": [
    "# Make reaches dataframe\n",
    "reaches_max = pd.concat(d, axis=0, ignore_index=True)#.rename(columns={'Unnamed: 0': 'stat'})\n",
    "reaches_max['coverage'] = reaches_max['coverage']*100"
   ]
  },
  {
   "cell_type": "code",
   "execution_count": 21,
   "id": "982493f5-5b8a-4ebb-ab3d-b7aca990f54d",
   "metadata": {},
   "outputs": [],
   "source": [
    "reaches_max['width'] = width"
   ]
  },
  {
   "cell_type": "code",
   "execution_count": 22,
   "id": "7deb038d-48a6-4494-930e-a474eb3468b5",
   "metadata": {},
   "outputs": [],
   "source": [
    "# Make sorted list of bins present\n",
    "ordered_max = []\n",
    "reach_bins = list(set(reaches_max[binn].to_list()))\n",
    "\n",
    "for i in order:\n",
    "    if i in reach_bins:\n",
    "        ordered_max.append(i)"
   ]
  },
  {
   "cell_type": "code",
   "execution_count": 23,
   "id": "eb5ab252-aa3b-4dd9-9754-4a2bae4fce60",
   "metadata": {},
   "outputs": [],
   "source": [
    "del d"
   ]
  },
  {
   "cell_type": "markdown",
   "id": "9ce635ba-dc5c-4e6c-8815-537906de25b8",
   "metadata": {},
   "source": [
    "## Plot"
   ]
  },
  {
   "cell_type": "code",
   "execution_count": 24,
   "id": "4a502f27-a486-42e9-948b-9cc299959114",
   "metadata": {},
   "outputs": [],
   "source": [
    "save_path = '/nas/cee-water/cjgleason/fiona/narrow_rivers_PIXC/figures_for_2025_03_03/'"
   ]
  },
  {
   "cell_type": "code",
   "execution_count": 30,
   "id": "96b3a21f-fa9f-4a1d-9505-c1c098a3d78b",
   "metadata": {},
   "outputs": [],
   "source": [
    "min_patch = mpatches.Patch(color='royalblue', label='Min width')\n",
    "mean_patch = mpatches.Patch(color='k', label='Mean width')\n",
    "max_patch = mpatches.Patch(color='m', label='Max width')"
   ]
  },
  {
   "cell_type": "code",
   "execution_count": 25,
   "id": "fd646e57-78cf-4be2-8604-f07b283edcab",
   "metadata": {},
   "outputs": [],
   "source": [
    "binn0 = ordered_min[0]"
   ]
  },
  {
   "cell_type": "code",
   "execution_count": 26,
   "id": "e955155d-00fb-45e8-b2f9-074e9f56aa33",
   "metadata": {},
   "outputs": [],
   "source": [
    "min_cov = reaches_min[reaches_min['Bin_Min'] == binn0]['coverage']\n",
    "\n",
    "n_min = np.arange(1, len(min_cov)+1) / float(len(min_cov))\n",
    "min_cdf = np.sort(min_cov)\n",
    "\n",
    "del min_cov"
   ]
  },
  {
   "cell_type": "code",
   "execution_count": 27,
   "id": "9285f933-4e5e-4fa1-90b7-7d530d525997",
   "metadata": {},
   "outputs": [],
   "source": [
    "mean_cov = reaches_mean[reaches_mean['Bin'] == binn0]['coverage']\n",
    "\n",
    "n_mean = np.arange(1, len(mean_cov)+1) / float(len(mean_cov))\n",
    "mean_cdf = np.sort(mean_cov)\n",
    "\n",
    "del mean_cov"
   ]
  },
  {
   "cell_type": "code",
   "execution_count": 28,
   "id": "2e66da88-ff19-482a-8738-dffd76f70a48",
   "metadata": {},
   "outputs": [],
   "source": [
    "max_cov = reaches_max[reaches_max['Bin_Max'] == binn0]['coverage']\n",
    "\n",
    "n_max = np.arange(1, len(max_cov)+1) / float(len(max_cov))\n",
    "max_cdf = np.sort(max_cov)\n",
    "\n",
    "del max_cov"
   ]
  },
  {
   "cell_type": "code",
   "execution_count": 31,
   "id": "466574ec-b514-4f18-9784-02ecb101cb30",
   "metadata": {},
   "outputs": [
    {
     "data": {
      "text/plain": [
       "Text(0, 0.5, 'Proportion')"
      ]
     },
     "execution_count": 31,
     "metadata": {},
     "output_type": "execute_result"
    },
    {
     "data": {
      "image/png": "[encoded data removed]",
      "text/plain": [
       "<Figure size 1400x1000 with 1 Axes>"
      ]
     },
     "metadata": {},
     "output_type": "display_data"
    }
   ],
   "source": [
    "fig, ax = plt.subplots(figsize=(14,10))\n",
    "\n",
    "# ax.step(min_cdf, n_min, color='royalblue')\n",
    "ax.step(mean_cdf, n_mean, color='k', linewidth=2)\n",
    "ax.step(max_cdf, n_max, color='m')\n",
    "\n",
    "plt.legend(handles=[max_patch, mean_patch, min_patch\n",
    "                   ],\n",
    "           prop={'size': 14}, loc='lower right')\n",
    "\n",
    "plt.yticks(np.arange(0,1.05,step=0.1), fontsize=14);\n",
    "plt.xticks(np.arange(0,105,step=10), fontsize=14);\n",
    "\n",
    "plt.title('PIXC_v2_0_HUC2_01_2025_03_02\\n' + binn0 + ' m wide', fontsize=16);\n",
    "\n",
    "plt.xlabel('Minimum Coverage [%]', fontsize=16)\n",
    "plt.ylabel('Proportion', fontsize=16)\n",
    "\n",
    "# plt.savefig(fname=save_path + 'min_detect_cdf_' + binn0 + '.png', bbox_inches='tight')"
   ]
  }
 ],
 "metadata": {
  "kernelspec": {
   "display_name": "Python [conda env:.conda-narrowPIXC]",
   "language": "python",
   "name": "conda-env-.conda-narrowPIXC-py"
  },
  "language_info": {
   "codemirror_mode": {
    "name": "ipython",
    "version": 3
   },
   "file_extension": ".py",
   "mimetype": "text/x-python",
   "name": "python",
   "nbconvert_exporter": "python",
   "pygments_lexer": "ipython3",
   "version": "3.12.4"
  }
 },
 "nbformat": 4,
 "nbformat_minor": 5
}
