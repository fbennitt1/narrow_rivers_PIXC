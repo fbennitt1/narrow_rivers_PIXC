{
 "cells": [
  {
   "cell_type": "markdown",
   "id": "eae95362-57e1-429f-b0e5-b7af9febd9bc",
   "metadata": {},
   "source": [
    "### segmentNHD"
   ]
  },
  {
   "cell_type": "code",
   "execution_count": 1,
   "id": "12b593e9-13f5-40be-b872-7653d63d14ed",
   "metadata": {},
   "outputs": [],
   "source": [
    "import os\n",
    "import time\n",
    "\n",
    "import geopandas as gpd\n",
    "import pandas as pd\n",
    "from pandarallel import pandarallel\n",
    "\n",
    "from reaches import readNHD\n",
    "from reaches import cut\n",
    "from reaches import segmentReach"
   ]
  },
  {
   "cell_type": "code",
   "execution_count": 12,
   "id": "6ead0710-c5b1-4848-bdaf-8c174f101744",
   "metadata": {},
   "outputs": [
    {
     "name": "stdout",
     "output_type": "stream",
     "text": [
      "INFO: Pandarallel will run on 24 workers.\n",
      "INFO: Pandarallel will use Memory file system to transfer data between the main process and workers.\n"
     ]
    }
   ],
   "source": [
    "pandarallel.initialize(progress_bar=True)"
   ]
  },
  {
   "cell_type": "code",
   "execution_count": null,
   "id": "7a438d98-3d47-4ca6-a135-bdba4a4a3c71",
   "metadata": {},
   "outputs": [],
   "source": [
    "start = time.time()\n",
    "print(\"hello\")\n",
    "end = time.time()\n",
    "print(end - start)"
   ]
  },
  {
   "cell_type": "code",
   "execution_count": 2,
   "id": "2fc2b6fe-3804-41f9-96b4-11a92122009b",
   "metadata": {},
   "outputs": [],
   "source": [
    "# Get slurm job index\n",
    "# slurm = int(os.environ['SLURM_ARRAY_TASK_ID'])\n",
    "slurm = 197"
   ]
  },
  {
   "cell_type": "code",
   "execution_count": null,
   "id": "8d47c397-3c62-4e2f-992b-f4e4d68f8030",
   "metadata": {},
   "outputs": [],
   "source": [
    "## Prepare data\n",
    "# Read prepped NHD\n",
    "basin, huc4, huc2 = readNHD(index=slurm)"
   ]
  },
  {
   "cell_type": "code",
   "execution_count": null,
   "id": "15880ecc-1b7c-4670-aede-c99e96a7d800",
   "metadata": {},
   "outputs": [],
   "source": [
    "basin"
   ]
  },
  {
   "cell_type": "code",
   "execution_count": 46,
   "id": "a16f345e-721f-4380-8cd2-41176802790b",
   "metadata": {},
   "outputs": [],
   "source": [
    "test = basin.iloc[0:10]"
   ]
  },
  {
   "cell_type": "code",
   "execution_count": 47,
   "id": "7f282c07-f73f-4b64-a003-4c6422d9e8a4",
   "metadata": {},
   "outputs": [
    {
     "name": "stderr",
     "output_type": "stream",
     "text": [
      "/work/pi_cjgleason_umass_edu/.conda/envs/narrowPIXC/lib/python3.12/site-packages/geopandas/geodataframe.py:1819: SettingWithCopyWarning: \n",
      "A value is trying to be set on a copy of a slice from a DataFrame.\n",
      "Try using .loc[row_indexer,col_indexer] = value instead\n",
      "\n",
      "See the caveats in the documentation: https://pandas.pydata.org/pandas-docs/stable/user_guide/indexing.html#returning-a-view-versus-a-copy\n",
      "  super().__setitem__(key, value)\n"
     ]
    }
   ],
   "source": [
    "test['segments'] = test.apply(func=segmentReach, axis=1)"
   ]
  },
  {
   "cell_type": "code",
   "execution_count": 48,
   "id": "cc356ec4-a640-4ff3-8711-ad8f7ac3482a",
   "metadata": {},
   "outputs": [],
   "source": [
    "test =  test.explode(column='segments', index_parts=True)"
   ]
  },
  {
   "cell_type": "code",
   "execution_count": 49,
   "id": "928caa97-2a09-4859-b868-bd335d36ab77",
   "metadata": {},
   "outputs": [],
   "source": [
    "test = test.drop(columns='geometry').set_geometry('segments').set_crs(crs=test.crs)"
   ]
  },
  {
   "cell_type": "code",
   "execution_count": 27,
   "id": "7ecefb70-6248-46b8-8883-216b35eb35ce",
   "metadata": {},
   "outputs": [],
   "source": [
    "# segments = test['geometry'].apply(lambda line: segmentReach(line))"
   ]
  },
  {
   "cell_type": "code",
   "execution_count": 28,
   "id": "b84afca3-9858-479e-aefc-233a9a1cc512",
   "metadata": {},
   "outputs": [],
   "source": [
    "# segments_flat = [segment for sublist in segments for segment in sublist]"
   ]
  },
  {
   "cell_type": "code",
   "execution_count": 29,
   "id": "b2a9ad78-5a72-4766-8bd5-7ca88e23d521",
   "metadata": {},
   "outputs": [],
   "source": [
    "# Create a new GeoDataFrame from the list of new LineStrings\n",
    "# new_gdf = gpd.GeoDataFrame(geometry=segments_flat, crs=test.crs)"
   ]
  },
  {
   "cell_type": "code",
   "execution_count": 30,
   "id": "2bc3c1ab-db73-47a9-bea6-1fdc234f6c21",
   "metadata": {},
   "outputs": [],
   "source": [
    "# Create a new GeoDataFrame from the list of new LineStrings\n",
    "# new_gdf = gpd.GeoDataFrame(geometry=segments, crs=test.crs)"
   ]
  },
  {
   "cell_type": "code",
   "execution_count": 5,
   "id": "0fa5d64d-4d3e-42f3-bd62-e7ba3e4213a2",
   "metadata": {},
   "outputs": [],
   "source": [
    "# # Keep only reaches that were sucessfully segmented\n",
    "# test = test[test['failed'] == 0]"
   ]
  },
  {
   "cell_type": "code",
   "execution_count": 6,
   "id": "e53feac3-5f13-4365-bf88-ac5f2353334f",
   "metadata": {},
   "outputs": [],
   "source": [
    "# # Drop failed column\n",
    "# test = test.drop(columns='failed')"
   ]
  },
  {
   "cell_type": "code",
   "execution_count": 51,
   "id": "5b34c593-19c1-4480-99fe-fd40f2a74c8d",
   "metadata": {},
   "outputs": [],
   "source": [
    "save_path = '/nas/cee-water/cjgleason/fiona/'"
   ]
  },
  {
   "cell_type": "code",
   "execution_count": 52,
   "id": "dab454d7-1563-45f7-ba3a-935fadd7e588",
   "metadata": {},
   "outputs": [],
   "source": [
    "test.to_parquet(path=save_path + 'test.parquet')"
   ]
  },
  {
   "cell_type": "code",
   "execution_count": 18,
   "id": "4e339252-40ab-499e-a21b-d1cb0da951ed",
   "metadata": {},
   "outputs": [],
   "source": [
    "# Set write filepath\n",
    "save_path = '../narrow_rivers_PIXC_data/NHD_prepped_segmented/'\n",
    "save_path = os.path.join(save_path, huc2)\n",
    "save_file = huc4 + '_prepped_segmented.parquet'"
   ]
  },
  {
   "cell_type": "code",
   "execution_count": 20,
   "id": "4afe109d-8d9c-4511-820f-ef515dc48a63",
   "metadata": {},
   "outputs": [
    {
     "data": {
      "text/plain": [
       "'NHDPLUS_H_0108_HU4_GDB_prepped_segmented.parquet'"
      ]
     },
     "execution_count": 20,
     "metadata": {},
     "output_type": "execute_result"
    }
   ],
   "source": [
    "save_file"
   ]
  },
  {
   "cell_type": "code",
   "execution_count": 25,
   "id": "c6e5d662-168f-426a-8d33-71bb2980d492",
   "metadata": {},
   "outputs": [
    {
     "data": {
      "text/plain": [
       "Bin            object\n",
       "GNIS_Name      object\n",
       "LengthKM      float64\n",
       "NHDPlusID     float64\n",
       "WidthM        float64\n",
       "geometry     geometry\n",
       "segments       object\n",
       "dtype: object"
      ]
     },
     "execution_count": 25,
     "metadata": {},
     "output_type": "execute_result"
    }
   ],
   "source": [
    "basin.dtypes"
   ]
  },
  {
   "cell_type": "code",
   "execution_count": null,
   "id": "ca756d2e-10a6-4157-8051-a51d73b4a64f",
   "metadata": {},
   "outputs": [],
   "source": [
    "#Write out gdf as parquet file\n",
    "if not os.path.isdir(save_path):\n",
    "    os.makedirs(save_path)\n",
    "basin.to_parquet(path=os.path.join(save_path, save_file))"
   ]
  },
  {
   "cell_type": "markdown",
   "id": "9bd22110-ddcb-40e1-a0bf-dba01576657d",
   "metadata": {},
   "source": [
    "### Testing"
   ]
  },
  {
   "cell_type": "code",
   "execution_count": 1,
   "id": "184627be-be1c-4614-8bb8-3841dfd66c2f",
   "metadata": {},
   "outputs": [],
   "source": [
    "import os\n",
    "\n",
    "import geopandas as gpd ### DELETE\n",
    "import matplotlib.pyplot as plt ### DELETE\n",
    "import numpy as np\n",
    "import pandas as pd\n",
    "import shapely as shp\n",
    "import xarray as xr\n",
    "\n",
    "from shapely.geometry import MultiLineString\n",
    "\n",
    "from reaches import readNHD\n",
    "from reaches import cut\n",
    "from reaches import segmentReach"
   ]
  },
  {
   "cell_type": "code",
   "execution_count": 2,
   "id": "90325cd0-2c63-47ce-9c0a-9a8f939df32a",
   "metadata": {},
   "outputs": [],
   "source": [
    "def segmentReach(reach):\n",
    "    '''\n",
    "    Ths function takes a reach center line, cuts it into ten segments of\n",
    "    equal length, and returns those ten segments.\n",
    "    '''\n",
    "    \n",
    "    # Get linestring\n",
    "    line = reach.geometry\n",
    "    # Find length of segments\n",
    "    dist = line.length/10\n",
    "    \n",
    "    # Make empty list for segments\n",
    "    segments = []\n",
    "\n",
    "    # Segment the reach\n",
    "    for i in range(9):\n",
    "        try:\n",
    "            # Chop the reach, store remainder\n",
    "            new, line = cut(line=line, distance=dist)\n",
    "            # Append new segment to GeoSeries of all segments\n",
    "            segments.append(new)\n",
    "        except:\n",
    "            print('Failed to segment reach: ' + reach['NHDPlusID'])\n",
    "    \n",
    "    # Append final segment to list\n",
    "    segments.append(line)\n",
    "\n",
    "    return segments"
   ]
  },
  {
   "cell_type": "code",
   "execution_count": 3,
   "id": "7fb31ebf-8c66-4666-9596-7d16b4ea1b2a",
   "metadata": {},
   "outputs": [],
   "source": [
    "def bufferSegments(reach):\n",
    "    \n",
    "    # Convert list of segments to GeoSeries\n",
    "    segments = gpd.GeoSeries(data=reach['segments'], crs='EPSG:3857')\n",
    "    # Buffer segments\n",
    "    segments_b = segments.buffer(distance=(reach.WidthM/2), cap_style='flat')\n",
    "    # Convert back to list before returning\n",
    "    segments_b = segments_b.geometry.tolist()\n",
    "    \n",
    "    return segments_b"
   ]
  },
  {
   "cell_type": "code",
   "execution_count": 4,
   "id": "92b0a19c-790d-4ffd-a5c0-4ed7f8ef2b73",
   "metadata": {},
   "outputs": [],
   "source": [
    "index = 1"
   ]
  },
  {
   "cell_type": "code",
   "execution_count": 5,
   "id": "72818db1-dc66-4db5-8361-5765030cf387",
   "metadata": {},
   "outputs": [],
   "source": [
    "## Prepare data\n",
    "# Read prepped NHD\n",
    "basin, huc4, huc2 = readNHD(index=index)"
   ]
  },
  {
   "cell_type": "code",
   "execution_count": 6,
   "id": "767ce6a4-5b15-4e5a-8fa5-a30aa473d3be",
   "metadata": {},
   "outputs": [
    {
     "data": {
      "text/plain": [
       "'NHDPLUS_H_0102_HU4_GDB'"
      ]
     },
     "execution_count": 6,
     "metadata": {},
     "output_type": "execute_result"
    }
   ],
   "source": [
    "huc4"
   ]
  },
  {
   "cell_type": "code",
   "execution_count": 8,
   "id": "9dfb7d72-4058-4adb-8a67-5b17357f1788",
   "metadata": {},
   "outputs": [],
   "source": [
    "test = basin.iloc[0:10]"
   ]
  },
  {
   "cell_type": "code",
   "execution_count": 10,
   "id": "06cee744-dd61-4da2-9454-4b9bda7499e8",
   "metadata": {},
   "outputs": [
    {
     "name": "stderr",
     "output_type": "stream",
     "text": [
      "/work/pi_cjgleason_umass_edu/.conda/envs/narrowPIXC/lib/python3.12/site-packages/geopandas/geodataframe.py:1819: SettingWithCopyWarning: \n",
      "A value is trying to be set on a copy of a slice from a DataFrame.\n",
      "Try using .loc[row_indexer,col_indexer] = value instead\n",
      "\n",
      "See the caveats in the documentation: https://pandas.pydata.org/pandas-docs/stable/user_guide/indexing.html#returning-a-view-versus-a-copy\n",
      "  super().__setitem__(key, value)\n"
     ]
    }
   ],
   "source": [
    "test['segments'] = test.apply(func=segmentReach, axis=1)"
   ]
  },
  {
   "cell_type": "code",
   "execution_count": 15,
   "id": "10bf43a5-ebe4-4812-9211-6577001bc865",
   "metadata": {},
   "outputs": [
    {
     "data": {
      "text/plain": [
       "dtype('O')"
      ]
     },
     "execution_count": 15,
     "metadata": {},
     "output_type": "execute_result"
    }
   ],
   "source": [
    "test.segments.dtype"
   ]
  },
  {
   "cell_type": "code",
   "execution_count": 12,
   "id": "d70e3ded-7877-4b08-8b17-ba5921186c62",
   "metadata": {},
   "outputs": [],
   "source": [
    "save_path = '/nas/cee-water/cjgleason/fiona/'"
   ]
  },
  {
   "cell_type": "code",
   "execution_count": 13,
   "id": "2de9ce04-4580-4e9f-9435-dd42ce471f7f",
   "metadata": {},
   "outputs": [],
   "source": [
    "test.to_parquet(path=save_path + 'huc4_0108_test.parquet')"
   ]
  },
  {
   "cell_type": "code",
   "execution_count": null,
   "id": "2d224bfd-f146-4eb4-b260-e0dbc324b782",
   "metadata": {},
   "outputs": [],
   "source": []
  },
  {
   "cell_type": "code",
   "execution_count": null,
   "id": "43b6f2ba-f1e7-4f69-8290-12cd725c6dc4",
   "metadata": {},
   "outputs": [],
   "source": []
  },
  {
   "cell_type": "code",
   "execution_count": 249,
   "id": "070f48b1-7863-4a7c-94af-652bbd953e52",
   "metadata": {},
   "outputs": [],
   "source": [
    "# Buffer the reaches\n",
    "basin['reach_b'] = basin.buffer(distance=(basin.WidthM/2), cap_style='flat')"
   ]
  },
  {
   "cell_type": "code",
   "execution_count": 250,
   "id": "b680305b-f61b-41bc-9eb4-4d47bd18e7e1",
   "metadata": {},
   "outputs": [],
   "source": [
    "# Segment the reaches\n",
    "basin['segments'] = basin.apply(func=segmentReach, axis=1)"
   ]
  },
  {
   "cell_type": "code",
   "execution_count": 254,
   "id": "f505598c-0c69-4604-865a-fde2d16ed36c",
   "metadata": {},
   "outputs": [],
   "source": [
    "# Buffer the segments\n",
    "basin['segments_b'] = basin.apply(func=bufferSegments, axis=1)"
   ]
  },
  {
   "cell_type": "code",
   "execution_count": 268,
   "id": "40d0f0e3-8acb-4b44-a390-dcfacb5284b7",
   "metadata": {},
   "outputs": [],
   "source": [
    "basin['geometry_wkt'] = basin['geometry'].apply(lambda geom: geom.wkt if geom is not None else None)"
   ]
  },
  {
   "cell_type": "code",
   "execution_count": 261,
   "id": "65eaa338-1d99-418b-a868-f562e8df4298",
   "metadata": {},
   "outputs": [],
   "source": [
    "basin['reach_b_wkt'] = basin['reach_b'].apply(lambda geom: geom.wkt if geom is not None else None)"
   ]
  },
  {
   "cell_type": "code",
   "execution_count": null,
   "id": "555ee0ec-b3be-4aee-ac94-12aea4fd1c0e",
   "metadata": {},
   "outputs": [],
   "source": [
    "basin = basin.drop(columns=['geometry','reach_b'])"
   ]
  },
  {
   "cell_type": "code",
   "execution_count": 270,
   "id": "aec06482-b02e-4a5b-b322-90d1a232fae6",
   "metadata": {},
   "outputs": [],
   "source": [
    "save_path = '/nas/cee-water/cjgleason/fiona/'"
   ]
  },
  {
   "cell_type": "code",
   "execution_count": null,
   "id": "f27c3653-a955-4d23-9373-10c7a5611441",
   "metadata": {},
   "outputs": [],
   "source": [
    "basin.to_parquet(path=save_path + 'huc4_0108_test.parquet')"
   ]
  },
  {
   "cell_type": "code",
   "execution_count": null,
   "id": "8646cc05-4a6b-49ce-9577-5f997cc178ea",
   "metadata": {},
   "outputs": [],
   "source": []
  },
  {
   "cell_type": "code",
   "execution_count": 117,
   "id": "59f918b4-02ff-4636-bddc-97e74f16faff",
   "metadata": {},
   "outputs": [
    {
     "data": {
      "text/plain": [
       "<Axes: >"
      ]
     },
     "execution_count": 117,
     "metadata": {},
     "output_type": "execute_result"
    },
    {
     "data": {
      "image/png": "[encoded data removed]",
      "text/plain": [
       "<Figure size 800x800 with 1 Axes>"
      ]
     },
     "metadata": {},
     "output_type": "display_data"
    }
   ],
   "source": [
    "fig, ax = plt.subplots(figsize=(8,8))\n",
    "gpd.GeoSeries(basin.iloc[8000].segments).plot(cmap='hsv', ax=ax)\n",
    "gpd.GeoSeries(basin.iloc[8000].segments_b).plot(cmap='winter', alpha=0.5, ax=ax)"
   ]
  },
  {
   "cell_type": "markdown",
   "id": "04151b25-b2ab-44e5-b2a7-d02683196ccd",
   "metadata": {},
   "source": [
    "### To check once written"
   ]
  },
  {
   "cell_type": "code",
   "execution_count": 5,
   "id": "461a8078-b004-4f62-a2f1-c0ce40eb55be",
   "metadata": {},
   "outputs": [],
   "source": [
    "path = '/nas/cee-water/cjgleason/fiona/narrow_rivers_PIXC_data/NHD_prepped_segmented/HUC2_17/NHDPLUS_H_1710_HU4_GDB_prepped_segmented.parquet'"
   ]
  },
  {
   "cell_type": "code",
   "execution_count": 6,
   "id": "a2dbaaf9-af60-4519-bf5a-1383cc4139ff",
   "metadata": {},
   "outputs": [],
   "source": [
    "test = gpd.read_parquet(path=path)"
   ]
  },
  {
   "cell_type": "code",
   "execution_count": 7,
   "id": "a6b7b246-e7bc-4cd0-806d-c313c344feca",
   "metadata": {},
   "outputs": [
    {
     "data": {
      "text/html": [
       "<div>\n",
       "<style scoped>\n",
       "    .dataframe tbody tr th:only-of-type {\n",
       "        vertical-align: middle;\n",
       "    }\n",
       "\n",
       "    .dataframe tbody tr th {\n",
       "        vertical-align: top;\n",
       "    }\n",
       "\n",
       "    .dataframe thead th {\n",
       "        text-align: right;\n",
       "    }\n",
       "</style>\n",
       "<table border=\"1\" class=\"dataframe\">\n",
       "  <thead>\n",
       "    <tr style=\"text-align: right;\">\n",
       "      <th></th>\n",
       "      <th>Bin</th>\n",
       "      <th>GNIS_Name</th>\n",
       "      <th>LengthKM</th>\n",
       "      <th>NHDPlusID</th>\n",
       "      <th>WidthM</th>\n",
       "      <th>segments</th>\n",
       "    </tr>\n",
       "  </thead>\n",
       "  <tbody>\n",
       "    <tr>\n",
       "      <th>0</th>\n",
       "      <td>(0, 10]</td>\n",
       "      <td>None</td>\n",
       "      <td>0.190647</td>\n",
       "      <td>5.500010e+13</td>\n",
       "      <td>0.772382</td>\n",
       "      <td>LINESTRING (-13828825.025 5291376.777, -138288...</td>\n",
       "    </tr>\n",
       "    <tr>\n",
       "      <th>0</th>\n",
       "      <td>(0, 10]</td>\n",
       "      <td>None</td>\n",
       "      <td>0.190647</td>\n",
       "      <td>5.500010e+13</td>\n",
       "      <td>0.772382</td>\n",
       "      <td>LINESTRING (-13828823.11 5291350.97, -13828817...</td>\n",
       "    </tr>\n",
       "    <tr>\n",
       "      <th>0</th>\n",
       "      <td>(0, 10]</td>\n",
       "      <td>None</td>\n",
       "      <td>0.190647</td>\n",
       "      <td>5.500010e+13</td>\n",
       "      <td>0.772382</td>\n",
       "      <td>LINESTRING (-13828817.734 5291325.599, -138288...</td>\n",
       "    </tr>\n",
       "    <tr>\n",
       "      <th>0</th>\n",
       "      <td>(0, 10]</td>\n",
       "      <td>None</td>\n",
       "      <td>0.190647</td>\n",
       "      <td>5.500010e+13</td>\n",
       "      <td>0.772382</td>\n",
       "      <td>LINESTRING (-13828813.38 5291300.083, -1382881...</td>\n",
       "    </tr>\n",
       "    <tr>\n",
       "      <th>0</th>\n",
       "      <td>(0, 10]</td>\n",
       "      <td>None</td>\n",
       "      <td>0.190647</td>\n",
       "      <td>5.500010e+13</td>\n",
       "      <td>0.772382</td>\n",
       "      <td>LINESTRING (-13828813.511 5291274.193, -138288...</td>\n",
       "    </tr>\n",
       "    <tr>\n",
       "      <th>...</th>\n",
       "      <td>...</td>\n",
       "      <td>...</td>\n",
       "      <td>...</td>\n",
       "      <td>...</td>\n",
       "      <td>...</td>\n",
       "      <td>...</td>\n",
       "    </tr>\n",
       "    <tr>\n",
       "      <th>924843</th>\n",
       "      <td>(10, 20]</td>\n",
       "      <td>West Fork Evans Creek</td>\n",
       "      <td>0.057358</td>\n",
       "      <td>5.500010e+13</td>\n",
       "      <td>14.372114</td>\n",
       "      <td>LINESTRING (-13699396.351 5259592.381, -136993...</td>\n",
       "    </tr>\n",
       "    <tr>\n",
       "      <th>924843</th>\n",
       "      <td>(10, 20]</td>\n",
       "      <td>West Fork Evans Creek</td>\n",
       "      <td>0.057358</td>\n",
       "      <td>5.500010e+13</td>\n",
       "      <td>14.372114</td>\n",
       "      <td>LINESTRING (-13699389.859 5259596.728, -136993...</td>\n",
       "    </tr>\n",
       "    <tr>\n",
       "      <th>924843</th>\n",
       "      <td>(10, 20]</td>\n",
       "      <td>West Fork Evans Creek</td>\n",
       "      <td>0.057358</td>\n",
       "      <td>5.500010e+13</td>\n",
       "      <td>14.372114</td>\n",
       "      <td>LINESTRING (-13699382.968 5259600.388, -136993...</td>\n",
       "    </tr>\n",
       "    <tr>\n",
       "      <th>924843</th>\n",
       "      <td>(10, 20]</td>\n",
       "      <td>West Fork Evans Creek</td>\n",
       "      <td>0.057358</td>\n",
       "      <td>5.500010e+13</td>\n",
       "      <td>14.372114</td>\n",
       "      <td>LINESTRING (-13699375.981 5259603.885, -136993...</td>\n",
       "    </tr>\n",
       "    <tr>\n",
       "      <th>924843</th>\n",
       "      <td>(10, 20]</td>\n",
       "      <td>West Fork Evans Creek</td>\n",
       "      <td>0.057358</td>\n",
       "      <td>5.500010e+13</td>\n",
       "      <td>14.372114</td>\n",
       "      <td>LINESTRING (-13699368.678 5259606.627, -136993...</td>\n",
       "    </tr>\n",
       "  </tbody>\n",
       "</table>\n",
       "<p>9248440 rows × 6 columns</p>\n",
       "</div>"
      ],
      "text/plain": [
       "             Bin              GNIS_Name  LengthKM     NHDPlusID     WidthM  \\\n",
       "0        (0, 10]                   None  0.190647  5.500010e+13   0.772382   \n",
       "0        (0, 10]                   None  0.190647  5.500010e+13   0.772382   \n",
       "0        (0, 10]                   None  0.190647  5.500010e+13   0.772382   \n",
       "0        (0, 10]                   None  0.190647  5.500010e+13   0.772382   \n",
       "0        (0, 10]                   None  0.190647  5.500010e+13   0.772382   \n",
       "...          ...                    ...       ...           ...        ...   \n",
       "924843  (10, 20]  West Fork Evans Creek  0.057358  5.500010e+13  14.372114   \n",
       "924843  (10, 20]  West Fork Evans Creek  0.057358  5.500010e+13  14.372114   \n",
       "924843  (10, 20]  West Fork Evans Creek  0.057358  5.500010e+13  14.372114   \n",
       "924843  (10, 20]  West Fork Evans Creek  0.057358  5.500010e+13  14.372114   \n",
       "924843  (10, 20]  West Fork Evans Creek  0.057358  5.500010e+13  14.372114   \n",
       "\n",
       "                                                 segments  \n",
       "0       LINESTRING (-13828825.025 5291376.777, -138288...  \n",
       "0       LINESTRING (-13828823.11 5291350.97, -13828817...  \n",
       "0       LINESTRING (-13828817.734 5291325.599, -138288...  \n",
       "0       LINESTRING (-13828813.38 5291300.083, -1382881...  \n",
       "0       LINESTRING (-13828813.511 5291274.193, -138288...  \n",
       "...                                                   ...  \n",
       "924843  LINESTRING (-13699396.351 5259592.381, -136993...  \n",
       "924843  LINESTRING (-13699389.859 5259596.728, -136993...  \n",
       "924843  LINESTRING (-13699382.968 5259600.388, -136993...  \n",
       "924843  LINESTRING (-13699375.981 5259603.885, -136993...  \n",
       "924843  LINESTRING (-13699368.678 5259606.627, -136993...  \n",
       "\n",
       "[9248440 rows x 6 columns]"
      ]
     },
     "execution_count": 7,
     "metadata": {},
     "output_type": "execute_result"
    }
   ],
   "source": [
    "test"
   ]
  }
 ],
 "metadata": {
  "kernelspec": {
   "display_name": "Python [conda env:.conda-narrowPIXC]",
   "language": "python",
   "name": "conda-env-.conda-narrowPIXC-py"
  },
  "language_info": {
   "codemirror_mode": {
    "name": "ipython",
    "version": 3
   },
   "file_extension": ".py",
   "mimetype": "text/x-python",
   "name": "python",
   "nbconvert_exporter": "python",
   "pygments_lexer": "ipython3",
   "version": "3.12.4"
  }
 },
 "nbformat": 4,
 "nbformat_minor": 5
}
