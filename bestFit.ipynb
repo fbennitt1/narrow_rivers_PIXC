{
 "cells": [
  {
   "cell_type": "code",
   "execution_count": 42,
   "id": "08a455bc-09e6-499a-9dfb-a213e8b8c0d0",
   "metadata": {},
   "outputs": [],
   "source": [
    "import os\n",
    "\n",
    "import geopandas as gpd\n",
    "import math\n",
    "import matplotlib.pyplot as plt\n",
    "import numpy as np\n",
    "import pandas as pd\n",
    "import shapely\n",
    "\n",
    "from scipy.stats import linregress\n",
    "from reaches import *\n",
    "from utils import *"
   ]
  },
  {
   "cell_type": "code",
   "execution_count": 3,
   "id": "297a9601-6324-497a-96d1-18317a5f90d3",
   "metadata": {},
   "outputs": [],
   "source": [
    "indices = [3]"
   ]
  },
  {
   "cell_type": "code",
   "execution_count": 4,
   "id": "4e70b829-59cf-4d84-baff-a3065c4af03e",
   "metadata": {},
   "outputs": [
    {
     "name": "stdout",
     "output_type": "stream",
     "text": [
      "type: normal\n",
      "NHDPLUS_H_0107_HU4_GDB\n",
      "flowlines read-in\n",
      "exploded\n"
     ]
    }
   ],
   "source": [
    "# Create merged dataframe of all flowlines intersected\n",
    "if len(indices) == 1:\n",
    "    # Read prepped NHD\n",
    "    flowlines, _, _,  = readNHD(index=indices[0])\n",
    "    # huc4_list, huc2_list = readNHD(index=indices[0])\n",
    "else:\n",
    "    # Initialize lists\n",
    "    d = []\n",
    "    # huc4_list = []\n",
    "    # huc2_list = []\n",
    "    # Loop through indices and store in lists\n",
    "    for i in indices:\n",
    "        # Read prepped NHD\n",
    "        flowlines, _, _ = readNHD(index=i)\n",
    "        # huc4, huc2 = readNHD(index=i)\n",
    "        # Append to lists\n",
    "        d.append(flowlines)\n",
    "        # huc4_list.append(huc4) # I DON'T DO ANYTHING WITH THIS\n",
    "        # huc2_list.append(huc2) # I DON'T DO ANYTHING WITH THIS\n",
    "    # Merge GeoDataFrames\n",
    "    flowlines = pd.concat(d)"
   ]
  },
  {
   "cell_type": "code",
   "execution_count": 55,
   "id": "1bde4d62-df6f-46b6-838c-d6d4c52bb7d0",
   "metadata": {},
   "outputs": [],
   "source": [
    "# Project CRS (currently to WGS 84 / UTM zone 18N) \n",
    "flowlines = flowlines.to_crs(epsg=32618)"
   ]
  },
  {
   "cell_type": "code",
   "execution_count": 74,
   "id": "a6f9fd68-07a6-4db1-9212-74494d80910c",
   "metadata": {},
   "outputs": [],
   "source": [
    "line = flowlines.iloc[100].geometry"
   ]
  },
  {
   "cell_type": "code",
   "execution_count": 75,
   "id": "cce55dfd-b41c-44c3-96de-1761e3c702ba",
   "metadata": {},
   "outputs": [
    {
     "data": {
      "image/svg+xml": [
       "<svg xmlns=\"http://www.w3.org/2000/svg\" xmlns:xlink=\"http://www.w3.org/1999/xlink\" width=\"100.0\" height=\"100.0\" viewBox=\"746940.8571803564 4842199.3811883265 33.75808671012055 98.80230010766536\" preserveAspectRatio=\"xMinYMin meet\"><g transform=\"matrix(1,0,0,-1,0,9684497.564676762)\"><polyline fill=\"none\" stroke=\"#66cc99\" stroke-width=\"1.9760460021533073\" points=\"746946.8838608358,4842203.040532775 746950.1521049751,4842213.304765023 746944.5165248048,4842233.449820563 746947.9939432612,4842239.221039953 746957.379561078,4842249.919126067 746957.0791231808,4842273.464656126 746961.0019701135,4842283.775352909 746965.1959173875,4842285.5913673015 746970.9559226182,4842294.5241439855\" opacity=\"0.8\" /></g></svg>"
      ],
      "text/plain": [
       "<LINESTRING (746946.884 4842203.041, 746950.152 4842213.305, 746944.517 4842...>"
      ]
     },
     "execution_count": 75,
     "metadata": {},
     "output_type": "execute_result"
    }
   ],
   "source": [
    "line"
   ]
  },
  {
   "cell_type": "code",
   "execution_count": 76,
   "id": "796596de-4e0a-42d7-99c0-c2e4a52ae3aa",
   "metadata": {},
   "outputs": [],
   "source": [
    "coordinates = line.coords"
   ]
  },
  {
   "cell_type": "code",
   "execution_count": 77,
   "id": "137cc3df-f10c-4801-9db0-a639ba5942ea",
   "metadata": {},
   "outputs": [],
   "source": [
    "x_coords = [coord[0] for coord in coordinates]\n",
    "\n",
    "y_coords = [coord[1] for coord in coordinates]"
   ]
  },
  {
   "cell_type": "code",
   "execution_count": 78,
   "id": "1c33d1d5-72d8-4414-ae88-8d8ff91fd74d",
   "metadata": {},
   "outputs": [],
   "source": [
    "result = linregress(x_coords, y_coords)\n",
    "\n",
    "slope = result.slope\n",
    "\n",
    "intercept = result.intercept"
   ]
  },
  {
   "cell_type": "code",
   "execution_count": 85,
   "id": "b5e30f87-8c72-45dd-bbb3-2f1a7e55a3f7",
   "metadata": {},
   "outputs": [
    {
     "data": {
      "text/plain": [
       "[4842203.040532775,\n",
       " 4842213.304765023,\n",
       " 4842233.449820563,\n",
       " 4842239.221039953,\n",
       " 4842249.919126067,\n",
       " 4842273.464656126,\n",
       " 4842283.775352909,\n",
       " 4842285.5913673015,\n",
       " 4842294.5241439855]"
      ]
     },
     "execution_count": 85,
     "metadata": {},
     "output_type": "execute_result"
    }
   ],
   "source": [
    "y_coords"
   ]
  },
  {
   "cell_type": "code",
   "execution_count": 84,
   "id": "679f1778-df57-4285-8207-9dd0bedf5cd6",
   "metadata": {},
   "outputs": [
    {
     "data": {
      "text/plain": [
       "np.float64(2407290.90909749)"
      ]
     },
     "execution_count": 84,
     "metadata": {},
     "output_type": "execute_result"
    }
   ],
   "source": [
    "intercept"
   ]
  },
  {
   "cell_type": "code",
   "execution_count": 79,
   "id": "5ac67855-47d9-40c6-8705-faa266b9fe34",
   "metadata": {},
   "outputs": [],
   "source": [
    "def line_from_intercept_slope(intercept, slope, x_start, x_end):\n",
    "    \"\"\"\n",
    "    Creates a Shapely LineString object from a given intercept, slope, and start and end x-coordinates. \n",
    "    \n",
    "    Args:\n",
    "        intercept (float): The y-intercept of the line.\n",
    "        slope (float): The slope of the line.\n",
    "        x_start (float): The starting x-coordinate.\n",
    "        x_end (float): The ending x-coordinate.\n",
    "    \n",
    "    Returns:\n",
    "        shapely.geometry.LineString: The LineString representing the line.\n",
    "    \"\"\"\n",
    "    y_start = intercept + slope * x_start\n",
    "    y_end = intercept + slope * x_end\n",
    "    return LineString([(x_start, y_start), (x_end, y_end)]) "
   ]
  },
  {
   "cell_type": "code",
   "execution_count": 82,
   "id": "8dc0315d-bc9e-4e22-a201-fc601c462f7e",
   "metadata": {},
   "outputs": [
    {
     "data": {
      "text/plain": [
       "746946.8838608358"
      ]
     },
     "execution_count": 82,
     "metadata": {},
     "output_type": "execute_result"
    }
   ],
   "source": [
    "coordinates[0][0]"
   ]
  },
  {
   "cell_type": "code",
   "execution_count": 83,
   "id": "75ccb531-ba4a-41ea-a710-8850b1338c80",
   "metadata": {},
   "outputs": [
    {
     "data": {
      "text/plain": [
       "746970.9559226182"
      ]
     },
     "execution_count": 83,
     "metadata": {},
     "output_type": "execute_result"
    }
   ],
   "source": [
    "coordinates[-1][0]"
   ]
  },
  {
   "cell_type": "code",
   "execution_count": 86,
   "id": "5734bc70-270e-4657-81d0-2ecb338e49ee",
   "metadata": {},
   "outputs": [],
   "source": [
    "best_fit = line_from_intercept_slope(y_coords[0], slope, coordinates[0][0], coordinates[-1][0])"
   ]
  },
  {
   "cell_type": "code",
   "execution_count": 87,
   "id": "7ce46a18-b320-40fb-86ee-aca1bab2cc86",
   "metadata": {},
   "outputs": [
    {
     "data": {
      "text/plain": [
       "<Axes: >"
      ]
     },
     "execution_count": 87,
     "metadata": {},
     "output_type": "execute_result"
    },
    {
     "data": {
      "image/png": "[encoded data removed]",
      "text/plain": [
       "<Figure size 640x480 with 1 Axes>"
      ]
     },
     "metadata": {},
     "output_type": "display_data"
    }
   ],
   "source": [
    "fig, ax = plt.subplots()\n",
    "\n",
    "gpd.GeoSeries(best_fit).plot(ax=ax, color='k')\n",
    "flowlines.iloc[[0]].geometry.plot(ax=ax)"
   ]
  },
  {
   "cell_type": "code",
   "execution_count": 51,
   "id": "3574cf69-4514-42b0-ab96-b9fe07e28b7c",
   "metadata": {},
   "outputs": [],
   "source": [
    "def calculate_azimuth(line):\n",
    "\n",
    "    \"\"\" \n",
    "    Calculates the azimuth of a Shapely LineString object.\n",
    "    Args:\n",
    "        line (shapely.geometry.linestring.LineString): The line geometry.\n",
    "    Returns:\n",
    "        float: The azimuth of the line in degrees (clockwise from north).\n",
    "    \"\"\"\n",
    "\n",
    "    start_point = line.coords[0]\n",
    "    end_point = line.coords[-1]\n",
    "\n",
    "    dx = end_point[0] - start_point[0]\n",
    "    dy = end_point[1] - start_point[1]\n",
    "    \n",
    "    angle_radians = math.atan2(dx, dy)\n",
    "    azimuth_degrees = np.abs(math.degrees(angle_radians))\n",
    "\n",
    "    # Adjust to be within 0-360 degrees\n",
    "\n",
    "    if azimuth_degrees > 0:\n",
    "        azimuth_degrees -= 90\n",
    "\n",
    "    return azimuth_degrees"
   ]
  },
  {
   "cell_type": "code",
   "execution_count": 50,
   "id": "1908a2e8-2134-40e7-9f25-c47fd8e05fe6",
   "metadata": {},
   "outputs": [
    {
     "data": {
      "text/plain": [
       "np.float64(63.51956788454552)"
      ]
     },
     "execution_count": 50,
     "metadata": {},
     "output_type": "execute_result"
    }
   ],
   "source": [
    "calculate_azimuth(best_fit)"
   ]
  }
 ],
 "metadata": {
  "kernelspec": {
   "display_name": "Python [conda env:.conda-narrowPIXC]",
   "language": "python",
   "name": "conda-env-.conda-narrowPIXC-py"
  },
  "language_info": {
   "codemirror_mode": {
    "name": "ipython",
    "version": 3
   },
   "file_extension": ".py",
   "mimetype": "text/x-python",
   "name": "python",
   "nbconvert_exporter": "python",
   "pygments_lexer": "ipython3",
   "version": "3.12.4"
  }
 },
 "nbformat": 4,
 "nbformat_minor": 5
}
